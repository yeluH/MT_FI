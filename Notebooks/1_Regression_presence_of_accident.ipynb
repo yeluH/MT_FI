{
 "cells": [
  {
   "cell_type": "markdown",
   "id": "eaf477e6-160a-4627-86d7-ec4ef775338f",
   "metadata": {},
   "source": [
    "# Preparation"
   ]
  },
  {
   "cell_type": "code",
   "execution_count": 1,
   "id": "814b498e-0791-4f34-a26a-13e042cbf8ef",
   "metadata": {
    "execution": {
     "iopub.execute_input": "2024-10-04T15:54:57.393179Z",
     "iopub.status.busy": "2024-10-04T15:54:57.392609Z",
     "iopub.status.idle": "2024-10-04T15:54:57.397342Z",
     "shell.execute_reply": "2024-10-04T15:54:57.396710Z",
     "shell.execute_reply.started": "2024-10-04T15:54:57.393158Z"
    }
   },
   "outputs": [],
   "source": [
    "# This file is based on: 0_regression_presence_of_accident\n",
    "# Remove features which were found correlated with others\n",
    "# Remove the categorical features which has only two categories"
   ]
  },
  {
   "cell_type": "code",
   "execution_count": 2,
   "id": "7e9f75d8-3be9-45ef-b9ae-ad72fefb7ce1",
   "metadata": {
    "execution": {
     "iopub.execute_input": "2024-10-04T15:54:57.512325Z",
     "iopub.status.busy": "2024-10-04T15:54:57.511652Z",
     "iopub.status.idle": "2024-10-04T15:55:05.697666Z",
     "shell.execute_reply": "2024-10-04T15:55:05.696894Z",
     "shell.execute_reply.started": "2024-10-04T15:54:57.512301Z"
    }
   },
   "outputs": [],
   "source": [
    "import torch\n",
    "torch.cuda.empty_cache() "
   ]
  },
  {
   "cell_type": "code",
   "execution_count": 3,
   "id": "f3e5fa71-37bd-4efe-b8ee-ae3c362b2a1b",
   "metadata": {
    "execution": {
     "iopub.execute_input": "2024-10-04T15:55:05.699241Z",
     "iopub.status.busy": "2024-10-04T15:55:05.698971Z",
     "iopub.status.idle": "2024-10-04T15:55:07.283336Z",
     "shell.execute_reply": "2024-10-04T15:55:07.282512Z",
     "shell.execute_reply.started": "2024-10-04T15:55:05.699225Z"
    }
   },
   "outputs": [],
   "source": [
    "import os \n",
    "os.environ['MPLCONFIGDIR'] = os.getcwd() + \"/configs/\"\n",
    "import matplotlib\n",
    "from matplotlib import pyplot as plt\n",
    "import numpy as np\n",
    "import cv2\n",
    "import urllib.request\n",
    "from PIL import Image"
   ]
  },
  {
   "cell_type": "code",
   "execution_count": 4,
   "id": "132db61a-9aa6-4936-8ab4-054288d07d2e",
   "metadata": {
    "execution": {
     "iopub.execute_input": "2024-10-04T15:55:07.284426Z",
     "iopub.status.busy": "2024-10-04T15:55:07.284254Z",
     "iopub.status.idle": "2024-10-04T15:55:09.860327Z",
     "shell.execute_reply": "2024-10-04T15:55:09.859530Z",
     "shell.execute_reply.started": "2024-10-04T15:55:07.284409Z"
    }
   },
   "outputs": [],
   "source": [
    "import pandas as pd\n",
    "import pyproj"
   ]
  },
  {
   "cell_type": "code",
   "execution_count": 5,
   "id": "80d61825-dc8d-4005-9362-cf497e771695",
   "metadata": {
    "execution": {
     "iopub.execute_input": "2024-10-04T15:55:09.862459Z",
     "iopub.status.busy": "2024-10-04T15:55:09.862095Z",
     "iopub.status.idle": "2024-10-04T15:55:09.866326Z",
     "shell.execute_reply": "2024-10-04T15:55:09.865779Z",
     "shell.execute_reply.started": "2024-10-04T15:55:09.862441Z"
    }
   },
   "outputs": [],
   "source": [
    "import os \n",
    "os.environ['MPLCONFIGDIR'] = os.getcwd() + \"/configs/\"\n",
    "import matplotlib\n",
    "from matplotlib import pyplot as plt\n",
    "import numpy as np\n",
    "import cv2"
   ]
  },
  {
   "cell_type": "code",
   "execution_count": 6,
   "id": "31d6a097",
   "metadata": {
    "execution": {
     "iopub.execute_input": "2024-10-04T15:55:09.867083Z",
     "iopub.status.busy": "2024-10-04T15:55:09.866929Z",
     "iopub.status.idle": "2024-10-04T15:55:14.573113Z",
     "shell.execute_reply": "2024-10-04T15:55:14.572289Z",
     "shell.execute_reply.started": "2024-10-04T15:55:09.867069Z"
    }
   },
   "outputs": [],
   "source": [
    "from pathlib import Path\n",
    "import sklearn\n",
    "import seaborn as sn\n",
    "from scipy import stats\n",
    "from tabulate import tabulate\n",
    "import statsmodels.api as sm\n",
    "import statsmodels.tools as tools"
   ]
  },
  {
   "cell_type": "code",
   "execution_count": 7,
   "id": "923fac26-61e2-49dd-9099-e31ff4079430",
   "metadata": {
    "execution": {
     "iopub.execute_input": "2024-10-04T15:55:14.574435Z",
     "iopub.status.busy": "2024-10-04T15:55:14.574050Z",
     "iopub.status.idle": "2024-10-04T15:55:15.345094Z",
     "shell.execute_reply": "2024-10-04T15:55:15.344358Z",
     "shell.execute_reply.started": "2024-10-04T15:55:14.574417Z"
    }
   },
   "outputs": [],
   "source": [
    "from mtp_function_yl import *"
   ]
  },
  {
   "cell_type": "code",
   "execution_count": 8,
   "id": "e1804d06-b69a-4709-ac5c-1970d29c38a2",
   "metadata": {
    "execution": {
     "iopub.execute_input": "2024-10-04T15:55:15.346301Z",
     "iopub.status.busy": "2024-10-04T15:55:15.345933Z",
     "iopub.status.idle": "2024-10-04T15:55:15.741301Z",
     "shell.execute_reply": "2024-10-04T15:55:15.740321Z",
     "shell.execute_reply.started": "2024-10-04T15:55:15.346283Z"
    }
   },
   "outputs": [],
   "source": [
    "import sklearn\n",
    "from sklearn import metrics\n",
    "from sklearn.metrics import accuracy_score\n",
    "from sklearn.metrics import accuracy_score, confusion_matrix, roc_auc_score, roc_curve\n",
    "from sklearn.model_selection import train_test_split\n",
    "\n",
    "from sklearn import linear_model\n",
    "\n",
    "from sklearn.neighbors import KNeighborsClassifier\n",
    "\n",
    "from sklearn.ensemble import RandomForestClassifier\n",
    "\n",
    "from sklearn.preprocessing import LabelEncoder\n",
    "\n",
    "from sklearn import svm\n",
    "\n",
    "import seaborn as sn\n",
    "\n",
    "\n",
    "# For regression\n",
    "from sklearn.ensemble import RandomForestRegressor\n",
    "# from sklearn.metrics import PredictionErrorDisplay\n",
    "\n",
    "import mlxtend\n",
    "# For stepwise feature selection\n",
    "from mlxtend.feature_selection import SequentialFeatureSelector\n",
    "from mlxtend.plotting import plot_sequential_feature_selection as plot_sfs"
   ]
  },
  {
   "cell_type": "code",
   "execution_count": 9,
   "id": "52971dc9",
   "metadata": {
    "execution": {
     "iopub.execute_input": "2024-10-04T15:55:15.742296Z",
     "iopub.status.busy": "2024-10-04T15:55:15.742131Z",
     "iopub.status.idle": "2024-10-04T15:55:15.745761Z",
     "shell.execute_reply": "2024-10-04T15:55:15.745095Z",
     "shell.execute_reply.started": "2024-10-04T15:55:15.742281Z"
    }
   },
   "outputs": [],
   "source": [
    "import warnings\n",
    "warnings.simplefilter(action='ignore', category=FutureWarning)"
   ]
  },
  {
   "cell_type": "code",
   "execution_count": 10,
   "id": "2ab3a45d-22e0-47a8-8683-6379778d16af",
   "metadata": {
    "execution": {
     "iopub.execute_input": "2024-10-04T15:55:15.746671Z",
     "iopub.status.busy": "2024-10-04T15:55:15.746522Z",
     "iopub.status.idle": "2024-10-04T15:55:15.782928Z",
     "shell.execute_reply": "2024-10-04T15:55:15.780782Z",
     "shell.execute_reply.started": "2024-10-04T15:55:15.746659Z"
    }
   },
   "outputs": [],
   "source": [
    "# For documentation and version control\n",
    "# pip install watermark\n",
    "%load_ext watermark"
   ]
  },
  {
   "cell_type": "code",
   "execution_count": 11,
   "id": "2a136dd7-7bc6-41ab-9893-647a65990d75",
   "metadata": {
    "execution": {
     "iopub.execute_input": "2024-10-04T15:55:15.785934Z",
     "iopub.status.busy": "2024-10-04T15:55:15.785449Z",
     "iopub.status.idle": "2024-10-04T15:55:15.846205Z",
     "shell.execute_reply": "2024-10-04T15:55:15.845339Z",
     "shell.execute_reply.started": "2024-10-04T15:55:15.785915Z"
    }
   },
   "outputs": [
    {
     "name": "stdout",
     "output_type": "stream",
     "text": [
      "Last updated: 2024-10-04\n",
      "\n",
      "Python implementation: CPython\n",
      "Python version       : 3.11.5\n",
      "IPython version      : 8.14.0\n",
      "\n",
      "Compiler    : GCC 12.3.0\n",
      "OS          : Linux\n",
      "Release     : 5.15.0-119-generic\n",
      "Machine     : x86_64\n",
      "Processor   : x86_64\n",
      "CPU cores   : 126\n",
      "Architecture: 64bit\n",
      "\n",
      "torch      : 2.0.1\n",
      "cv2        : 4.8.1\n",
      "sklearn    : 1.3.0\n",
      "pyproj     : 3.6.1\n",
      "pandas     : 2.0.3\n",
      "statsmodels: 0.14.0\n",
      "shapely    : 2.0.2\n",
      "numpy      : 1.26.4\n",
      "matplotlib : 3.7.2\n",
      "mlxtend    : 0.23.1\n",
      "PIL        : 10.0.0\n",
      "scipy      : 1.11.2\n",
      "seaborn    : 0.12.2\n",
      "\n"
     ]
    }
   ],
   "source": [
    "%watermark  -u -d -v -m --iversions"
   ]
  },
  {
   "cell_type": "markdown",
   "id": "11486eff-60e0-460e-a14b-9a0ab0628a50",
   "metadata": {},
   "source": [
    "# Data loading"
   ]
  },
  {
   "cell_type": "markdown",
   "id": "a1e64746",
   "metadata": {},
   "source": [
    "## For science cluster environment"
   ]
  },
  {
   "cell_type": "code",
   "execution_count": 12,
   "id": "bd1de1e5-d842-482d-9027-047b5690f2c0",
   "metadata": {
    "execution": {
     "iopub.execute_input": "2024-10-04T15:55:15.847826Z",
     "iopub.status.busy": "2024-10-04T15:55:15.847199Z",
     "iopub.status.idle": "2024-10-04T15:55:15.868039Z",
     "shell.execute_reply": "2024-10-04T15:55:15.867136Z",
     "shell.execute_reply.started": "2024-10-04T15:55:15.847808Z"
    }
   },
   "outputs": [],
   "source": [
    "aa = pd.read_csv('/home/yelhe/script/mt/dataraw/dfaa.csv')"
   ]
  },
  {
   "cell_type": "code",
   "execution_count": 13,
   "id": "81878c3e-4db4-46cf-bff2-e3655f317434",
   "metadata": {
    "execution": {
     "iopub.execute_input": "2024-10-04T15:55:15.869343Z",
     "iopub.status.busy": "2024-10-04T15:55:15.868933Z",
     "iopub.status.idle": "2024-10-04T15:55:15.902977Z",
     "shell.execute_reply": "2024-10-04T15:55:15.902043Z",
     "shell.execute_reply.started": "2024-10-04T15:55:15.869326Z"
    }
   },
   "outputs": [],
   "source": [
    "acv = pd.read_csv('/home/yelhe/script/mt/model/allvariable_accident.csv')\n",
    "rpv = pd.read_csv('/home/yelhe/script/mt/model/allvariable_rp.csv')"
   ]
  },
  {
   "cell_type": "code",
   "execution_count": 14,
   "id": "3f65d889-2979-46dc-9b90-6eee5e7c4457",
   "metadata": {
    "execution": {
     "iopub.execute_input": "2024-10-04T15:55:15.904022Z",
     "iopub.status.busy": "2024-10-04T15:55:15.903847Z",
     "iopub.status.idle": "2024-10-04T15:55:15.910908Z",
     "shell.execute_reply": "2024-10-04T15:55:15.910361Z",
     "shell.execute_reply.started": "2024-10-04T15:55:15.904006Z"
    }
   },
   "outputs": [],
   "source": [
    "# same size\n",
    "acv0 = acv.drop(['SV','LV','pd','svp','lvp','pdp'], axis = 1)\n",
    "acv0 = acv0.assign(acp = 1)\n",
    "acv0 = acv0.rename(columns = {'Nr':'id'})"
   ]
  },
  {
   "cell_type": "code",
   "execution_count": 15,
   "id": "e33c54c5-77a3-4ad9-be5f-7fad52b32b43",
   "metadata": {
    "execution": {
     "iopub.execute_input": "2024-10-04T15:55:15.912106Z",
     "iopub.status.busy": "2024-10-04T15:55:15.911601Z",
     "iopub.status.idle": "2024-10-04T15:55:15.924617Z",
     "shell.execute_reply": "2024-10-04T15:55:15.923966Z",
     "shell.execute_reply.started": "2024-10-04T15:55:15.912090Z"
    }
   },
   "outputs": [],
   "source": [
    "rpv0 = rpv.drop(['speedlimit_7', 'z_qnr_34'], axis = 1)\n",
    "rpv0 = rpv0.assign(acp = 0)"
   ]
  },
  {
   "cell_type": "code",
   "execution_count": 16,
   "id": "99791627-7727-45f1-ad10-6af2999537db",
   "metadata": {
    "execution": {
     "iopub.execute_input": "2024-10-04T15:55:15.925453Z",
     "iopub.status.busy": "2024-10-04T15:55:15.925301Z",
     "iopub.status.idle": "2024-10-04T15:55:15.935116Z",
     "shell.execute_reply": "2024-10-04T15:55:15.934428Z",
     "shell.execute_reply.started": "2024-10-04T15:55:15.925441Z"
    }
   },
   "outputs": [],
   "source": [
    "dfacrpv = pd.concat([acv0, rpv0])"
   ]
  },
  {
   "cell_type": "code",
   "execution_count": 17,
   "id": "2a27f299-4545-4429-9e99-c78557b2b02b",
   "metadata": {
    "execution": {
     "iopub.execute_input": "2024-10-04T15:55:15.935981Z",
     "iopub.status.busy": "2024-10-04T15:55:15.935816Z",
     "iopub.status.idle": "2024-10-04T15:55:15.945401Z",
     "shell.execute_reply": "2024-10-04T15:55:15.944774Z",
     "shell.execute_reply.started": "2024-10-04T15:55:15.935968Z"
    }
   },
   "outputs": [
    {
     "data": {
      "text/plain": [
       "110"
      ]
     },
     "execution_count": 17,
     "metadata": {},
     "output_type": "execute_result"
    }
   ],
   "source": [
    "len(dfacrpv.columns.values)"
   ]
  },
  {
   "cell_type": "code",
   "execution_count": 18,
   "id": "91f5a45f-f7db-48f4-9c2d-b249c20d6b3e",
   "metadata": {
    "execution": {
     "iopub.execute_input": "2024-10-04T15:55:15.946687Z",
     "iopub.status.busy": "2024-10-04T15:55:15.946033Z",
     "iopub.status.idle": "2024-10-04T15:55:15.954129Z",
     "shell.execute_reply": "2024-10-04T15:55:15.953575Z",
     "shell.execute_reply.started": "2024-10-04T15:55:15.946672Z"
    }
   },
   "outputs": [],
   "source": [
    "# dfacrpv.to_csv('/home/yelhe/script/mt/model/dfacrpv.csv', index = False)"
   ]
  },
  {
   "cell_type": "markdown",
   "id": "b37914e0",
   "metadata": {},
   "source": [
    "## Pre Processing"
   ]
  },
  {
   "cell_type": "code",
   "execution_count": 19,
   "id": "cc9ed0ff-bd98-4630-b590-0a9e45334e08",
   "metadata": {
    "execution": {
     "iopub.execute_input": "2024-10-04T15:55:15.954971Z",
     "iopub.status.busy": "2024-10-04T15:55:15.954813Z",
     "iopub.status.idle": "2024-10-04T15:55:15.963712Z",
     "shell.execute_reply": "2024-10-04T15:55:15.963145Z",
     "shell.execute_reply.started": "2024-10-04T15:55:15.954957Z"
    }
   },
   "outputs": [],
   "source": [
    "cn = ['cp', 'ie', 'iemin', 'iemax', 'mew', 'mewmin', 'mewmax', 'meg', \n",
    "      'megmin', 'megmax', 'cmean', 'cmin', 'cmax', 'dbusl', 'dtraml', \n",
    "      'dtrainl', 'dplight', 'dstation', 'dparkcar', 'dparktw', 'dpedcro', 'dstopsign', 'dcurb',\n",
    "      'dtrafficarea', 'droad', 'dvfpath', 'gvm_dwv', 'gvm_msp', 'gvm_asp', 'r_width_value',\n",
    "      'speedlimit_value', 'curbtype_1', 'curbtype_2', 'z_qnr_1', 'z_qnr_2', 'z_qnr_3', 'z_qnr_4', 'z_qnr_5',\n",
    "      'z_qnr_6', 'z_qnr_7', 'z_qnr_8', 'z_qnr_9', 'z_qnr_10', 'z_qnr_11', 'z_qnr_12', 'z_qnr_13',\n",
    "      'z_qnr_14', 'z_qnr_15', 'z_qnr_16', 'z_qnr_17', 'z_qnr_18',\n",
    "      'z_qnr_19', 'z_qnr_20', 'z_qnr_21', 'z_qnr_22', 'z_qnr_23', 'z_qnr_24',\n",
    "       'z_qnr_25', 'z_qnr_26', 'z_qnr_27', 'z_qnr_28', 'z_qnr_29', 'z_qnr_30',\n",
    "       'z_qnr_31', 'z_qnr_32', 'z_qnr_33', 'z_knr_1', 'z_knr_2', 'z_knr_3',\n",
    "       'z_knr_4', 'z_knr_5', 'z_knr_6', 'z_knr_7', 'z_knr_8', 'z_knr_9',\n",
    "       'z_knr_10', 'z_knr_11', 'z_knr_12', 'trafficarea_1', 'trafficarea_2',\n",
    "       'trafficarea_3', 'r_width_1', 'r_width_2', 'r_width_3', 'r_width_4',\n",
    "       'r_width_5', 'r_width_6', 'r_width_7', 'r_surface_1', 'r_surface_2',\n",
    "       'speedlimit_1', 'speedlimit_2', 'speedlimit_3', 'speedlimit_4',\n",
    "       'speedlimit_5', 'speedlimit_6', 'bicyclecount', 'carcount']\n",
    "\n",
    "# Remove id, droad_sl ,'d_bicyclecount' 'd_carcount' 'curbtype'  \n",
    "# 'z_qnr' 'z_knr'  'trafficarea'\n",
    "# 'r_width''r_surface' 'speedlimit'"
   ]
  },
  {
   "cell_type": "code",
   "execution_count": 20,
   "id": "c41fea0f-1761-4536-be1c-134bb4cc4041",
   "metadata": {
    "execution": {
     "iopub.execute_input": "2024-10-04T15:55:15.964892Z",
     "iopub.status.busy": "2024-10-04T15:55:15.964414Z",
     "iopub.status.idle": "2024-10-04T15:55:15.972489Z",
     "shell.execute_reply": "2024-10-04T15:55:15.971928Z",
     "shell.execute_reply.started": "2024-10-04T15:55:15.964876Z"
    }
   },
   "outputs": [],
   "source": [
    "# remove features which has correlation <-0.8 or > 0.8"
   ]
  },
  {
   "cell_type": "code",
   "execution_count": 21,
   "id": "f5c2127f-641e-40ce-88c8-7b8929c1c201",
   "metadata": {
    "execution": {
     "iopub.execute_input": "2024-10-04T15:55:15.973593Z",
     "iopub.status.busy": "2024-10-04T15:55:15.973167Z",
     "iopub.status.idle": "2024-10-04T15:55:15.989804Z",
     "shell.execute_reply": "2024-10-04T15:55:15.989190Z",
     "shell.execute_reply.started": "2024-10-04T15:55:15.973579Z"
    }
   },
   "outputs": [],
   "source": [
    "# correlation analysis result\n",
    "dfcorr = pd.read_csv('/home/yelhe/script/mtp/tables/sorted_unique_corrpairs.csv')"
   ]
  },
  {
   "cell_type": "code",
   "execution_count": 22,
   "id": "40f5fc7d-b33e-4956-bf3c-4a59002aa52a",
   "metadata": {
    "execution": {
     "iopub.execute_input": "2024-10-04T15:55:15.991072Z",
     "iopub.status.busy": "2024-10-04T15:55:15.990538Z",
     "iopub.status.idle": "2024-10-04T15:55:15.994788Z",
     "shell.execute_reply": "2024-10-04T15:55:15.994256Z",
     "shell.execute_reply.started": "2024-10-04T15:55:15.991056Z"
    }
   },
   "outputs": [
    {
     "data": {
      "text/plain": [
       "Index(['Unnamed: 0', 'Unnamed: 1', '0'], dtype='object')"
      ]
     },
     "execution_count": 22,
     "metadata": {},
     "output_type": "execute_result"
    }
   ],
   "source": [
    "dfcorr.columns"
   ]
  },
  {
   "cell_type": "code",
   "execution_count": 23,
   "id": "9f3d719b-0e45-4c0f-9f09-207037c0f001",
   "metadata": {
    "execution": {
     "iopub.execute_input": "2024-10-04T15:55:15.996166Z",
     "iopub.status.busy": "2024-10-04T15:55:15.995468Z",
     "iopub.status.idle": "2024-10-04T15:55:16.003923Z",
     "shell.execute_reply": "2024-10-04T15:55:16.003237Z",
     "shell.execute_reply.started": "2024-10-04T15:55:15.996148Z"
    }
   },
   "outputs": [],
   "source": [
    "dfcorr = dfcorr.rename(columns = {'Unnamed: 0':'feature1', 'Unnamed: 1':'feature2',\n",
    "                                  '0':'correlation'})"
   ]
  },
  {
   "cell_type": "code",
   "execution_count": 24,
   "id": "7db0a0e8-e941-49d7-bf1c-fc17b88c6bb5",
   "metadata": {
    "execution": {
     "iopub.execute_input": "2024-10-04T15:55:16.004944Z",
     "iopub.status.busy": "2024-10-04T15:55:16.004644Z",
     "iopub.status.idle": "2024-10-04T15:55:16.013710Z",
     "shell.execute_reply": "2024-10-04T15:55:16.013095Z",
     "shell.execute_reply.started": "2024-10-04T15:55:16.004929Z"
    }
   },
   "outputs": [],
   "source": [
    "dfcorr_high = dfcorr.loc[(dfcorr['correlation'] <= -0.8) | (dfcorr['correlation'] >= 0.8)]"
   ]
  },
  {
   "cell_type": "code",
   "execution_count": 25,
   "id": "408c03e3-de39-4fb8-a6e6-02b724d61bf9",
   "metadata": {
    "execution": {
     "iopub.execute_input": "2024-10-04T15:55:16.014807Z",
     "iopub.status.busy": "2024-10-04T15:55:16.014329Z",
     "iopub.status.idle": "2024-10-04T15:55:16.036149Z",
     "shell.execute_reply": "2024-10-04T15:55:16.035523Z",
     "shell.execute_reply.started": "2024-10-04T15:55:16.014792Z"
    }
   },
   "outputs": [
    {
     "data": {
      "text/html": [
       "<div>\n",
       "<style scoped>\n",
       "    .dataframe tbody tr th:only-of-type {\n",
       "        vertical-align: middle;\n",
       "    }\n",
       "\n",
       "    .dataframe tbody tr th {\n",
       "        vertical-align: top;\n",
       "    }\n",
       "\n",
       "    .dataframe thead th {\n",
       "        text-align: right;\n",
       "    }\n",
       "</style>\n",
       "<table border=\"1\" class=\"dataframe\">\n",
       "  <thead>\n",
       "    <tr style=\"text-align: right;\">\n",
       "      <th></th>\n",
       "      <th>feature1</th>\n",
       "      <th>feature2</th>\n",
       "      <th>correlation</th>\n",
       "    </tr>\n",
       "  </thead>\n",
       "  <tbody>\n",
       "    <tr>\n",
       "      <th>0</th>\n",
       "      <td>curbtype_2</td>\n",
       "      <td>curbtype_1</td>\n",
       "      <td>-1.000000</td>\n",
       "    </tr>\n",
       "    <tr>\n",
       "      <th>1</th>\n",
       "      <td>r_surface_2</td>\n",
       "      <td>r_surface_1</td>\n",
       "      <td>-1.000000</td>\n",
       "    </tr>\n",
       "    <tr>\n",
       "      <th>2</th>\n",
       "      <td>speedlimit_2</td>\n",
       "      <td>speedlimit_value</td>\n",
       "      <td>-0.843848</td>\n",
       "    </tr>\n",
       "    <tr>\n",
       "      <th>4742</th>\n",
       "      <td>mewmax</td>\n",
       "      <td>mew</td>\n",
       "      <td>0.843518</td>\n",
       "    </tr>\n",
       "    <tr>\n",
       "      <th>4743</th>\n",
       "      <td>megmin</td>\n",
       "      <td>meg</td>\n",
       "      <td>0.859393</td>\n",
       "    </tr>\n",
       "    <tr>\n",
       "      <th>4744</th>\n",
       "      <td>mewmin</td>\n",
       "      <td>mew</td>\n",
       "      <td>0.861981</td>\n",
       "    </tr>\n",
       "    <tr>\n",
       "      <th>4745</th>\n",
       "      <td>cmean</td>\n",
       "      <td>cp</td>\n",
       "      <td>0.906091</td>\n",
       "    </tr>\n",
       "    <tr>\n",
       "      <th>4746</th>\n",
       "      <td>iemax</td>\n",
       "      <td>ie</td>\n",
       "      <td>0.919919</td>\n",
       "    </tr>\n",
       "    <tr>\n",
       "      <th>4747</th>\n",
       "      <td>cmax</td>\n",
       "      <td>cp</td>\n",
       "      <td>0.940030</td>\n",
       "    </tr>\n",
       "    <tr>\n",
       "      <th>4748</th>\n",
       "      <td>iemin</td>\n",
       "      <td>ie</td>\n",
       "      <td>0.957061</td>\n",
       "    </tr>\n",
       "    <tr>\n",
       "      <th>4749</th>\n",
       "      <td>cmax</td>\n",
       "      <td>cmean</td>\n",
       "      <td>0.963800</td>\n",
       "    </tr>\n",
       "    <tr>\n",
       "      <th>4750</th>\n",
       "      <td>gvm_msp</td>\n",
       "      <td>gvm_dwv</td>\n",
       "      <td>0.981625</td>\n",
       "    </tr>\n",
       "    <tr>\n",
       "      <th>4751</th>\n",
       "      <td>gvm_asp</td>\n",
       "      <td>gvm_msp</td>\n",
       "      <td>0.981675</td>\n",
       "    </tr>\n",
       "    <tr>\n",
       "      <th>4752</th>\n",
       "      <td>gvm_asp</td>\n",
       "      <td>gvm_dwv</td>\n",
       "      <td>0.985672</td>\n",
       "    </tr>\n",
       "  </tbody>\n",
       "</table>\n",
       "</div>"
      ],
      "text/plain": [
       "          feature1          feature2  correlation\n",
       "0       curbtype_2        curbtype_1    -1.000000\n",
       "1      r_surface_2       r_surface_1    -1.000000\n",
       "2     speedlimit_2  speedlimit_value    -0.843848\n",
       "4742        mewmax               mew     0.843518\n",
       "4743        megmin               meg     0.859393\n",
       "4744        mewmin               mew     0.861981\n",
       "4745         cmean                cp     0.906091\n",
       "4746         iemax                ie     0.919919\n",
       "4747          cmax                cp     0.940030\n",
       "4748         iemin                ie     0.957061\n",
       "4749          cmax             cmean     0.963800\n",
       "4750       gvm_msp           gvm_dwv     0.981625\n",
       "4751       gvm_asp           gvm_msp     0.981675\n",
       "4752       gvm_asp           gvm_dwv     0.985672"
      ]
     },
     "execution_count": 25,
     "metadata": {},
     "output_type": "execute_result"
    }
   ],
   "source": [
    "dfcorr_high"
   ]
  },
  {
   "cell_type": "code",
   "execution_count": 26,
   "id": "665021ab-f4f4-414a-9a55-77751a55dd78",
   "metadata": {
    "execution": {
     "iopub.execute_input": "2024-10-04T15:55:16.037200Z",
     "iopub.status.busy": "2024-10-04T15:55:16.037022Z",
     "iopub.status.idle": "2024-10-04T15:55:16.042077Z",
     "shell.execute_reply": "2024-10-04T15:55:16.041511Z",
     "shell.execute_reply.started": "2024-10-04T15:55:16.037187Z"
    }
   },
   "outputs": [],
   "source": [
    "# remove based on correlation\n",
    "# speedlimit_2, \n",
    "# mewmax, mewmin, megmin, iemax, iemin, \n",
    "# cmean, cmax, gvm_ asp, gvm_msp\n",
    "\n",
    "# remove based on data source\n",
    "# dcurb (correlated to droad, and based on concept model), curbtype_1\n",
    "\n",
    "# Only n-1 dummy variables are needed for n-category variable\n",
    "# remove\n",
    "# r_width_7, speedlimit_6, z_qnr_33, z_knr_12, trafficarea_3, curbtype_2, r_surface_2\n",
    "\n",
    "# updated \n",
    "cnu = ['cp', 'ie', 'mew', 'meg', \n",
    "       'megmax', 'cmin', 'dbusl', 'dtraml','dtrainl', 'dplight', 'dstation', \n",
    "       'dparkcar', 'dparktw', 'dpedcro', 'dstopsign',\n",
    "       'dtrafficarea', 'droad', 'dvfpath', 'gvm_dwv', 'bicyclecount', 'carcount',\n",
    "       'r_width_value','speedlimit_value',  \n",
    "       'z_qnr_1', 'z_qnr_2', 'z_qnr_3', 'z_qnr_4', 'z_qnr_5','z_qnr_6', \n",
    "       'z_qnr_7', 'z_qnr_8', 'z_qnr_9', 'z_qnr_10', 'z_qnr_11', 'z_qnr_12', \n",
    "       'z_qnr_13', 'z_qnr_14', 'z_qnr_15', 'z_qnr_16', 'z_qnr_17', 'z_qnr_18',\n",
    "       'z_qnr_19', 'z_qnr_20', 'z_qnr_21', 'z_qnr_22', 'z_qnr_23', 'z_qnr_24',\n",
    "       'z_qnr_25', 'z_qnr_26', 'z_qnr_27', 'z_qnr_28', 'z_qnr_29', 'z_qnr_30',\n",
    "       'z_qnr_31', 'z_qnr_32', 'z_knr_1', 'z_knr_2', 'z_knr_3',\n",
    "       'z_knr_4', 'z_knr_5', 'z_knr_6', 'z_knr_7', 'z_knr_8', 'z_knr_9',\n",
    "       'z_knr_10', 'z_knr_11', 'trafficarea_1', 'trafficarea_2',\n",
    "       'r_width_1', 'r_width_2', 'r_width_3', 'r_width_4',\n",
    "       'r_width_5', 'r_width_6', 'r_surface_1', \n",
    "       'speedlimit_1', 'speedlimit_3', 'speedlimit_4',\n",
    "       'speedlimit_5']"
   ]
  },
  {
   "cell_type": "code",
   "execution_count": 27,
   "id": "a437d2d2-e217-4836-9972-38388c03004d",
   "metadata": {
    "execution": {
     "iopub.execute_input": "2024-10-04T15:55:16.042945Z",
     "iopub.status.busy": "2024-10-04T15:55:16.042786Z",
     "iopub.status.idle": "2024-10-04T15:55:16.054081Z",
     "shell.execute_reply": "2024-10-04T15:55:16.053515Z",
     "shell.execute_reply.started": "2024-10-04T15:55:16.042932Z"
    }
   },
   "outputs": [],
   "source": [
    "y = dfacrpv['acp']\n",
    "x = dfacrpv[cnu]"
   ]
  },
  {
   "cell_type": "code",
   "execution_count": 28,
   "id": "28eecb43-f397-43ab-b387-d3a35f76c392",
   "metadata": {
    "execution": {
     "iopub.execute_input": "2024-10-04T15:55:16.054924Z",
     "iopub.status.busy": "2024-10-04T15:55:16.054774Z",
     "iopub.status.idle": "2024-10-04T15:55:16.063622Z",
     "shell.execute_reply": "2024-10-04T15:55:16.063085Z",
     "shell.execute_reply.started": "2024-10-04T15:55:16.054911Z"
    }
   },
   "outputs": [
    {
     "data": {
      "text/plain": [
       "(1087, 79)"
      ]
     },
     "execution_count": 28,
     "metadata": {},
     "output_type": "execute_result"
    }
   ],
   "source": [
    "# y.shape\n",
    "x.shape\n",
    "# 1087 points with 78 features in total"
   ]
  },
  {
   "cell_type": "markdown",
   "id": "525e59ee-c2f3-4f1b-9e22-813cd303b195",
   "metadata": {},
   "source": [
    "# Orginal regression model without feature selection"
   ]
  },
  {
   "cell_type": "code",
   "execution_count": 29,
   "id": "0377006c-6262-4f67-b40f-660eaa87d821",
   "metadata": {
    "execution": {
     "iopub.execute_input": "2024-10-04T15:55:16.066666Z",
     "iopub.status.busy": "2024-10-04T15:55:16.066027Z",
     "iopub.status.idle": "2024-10-04T15:55:16.071636Z",
     "shell.execute_reply": "2024-10-04T15:55:16.071045Z",
     "shell.execute_reply.started": "2024-10-04T15:55:16.066648Z"
    }
   },
   "outputs": [],
   "source": [
    "# Using updated features collection (84 instead of 98)"
   ]
  },
  {
   "cell_type": "markdown",
   "id": "fd34e8c7-0c3c-4a4f-a35d-5d18ed66a119",
   "metadata": {},
   "source": [
    "## OLS linear regression"
   ]
  },
  {
   "cell_type": "markdown",
   "id": "026b9cd3-7bf5-44f2-b261-aea309174a6a",
   "metadata": {},
   "source": [
    "### Without data splitting"
   ]
  },
  {
   "cell_type": "code",
   "execution_count": 30,
   "id": "8f7ab772-b399-4126-bf22-5a0d9d01b012",
   "metadata": {
    "execution": {
     "iopub.execute_input": "2024-10-04T15:55:16.888880Z",
     "iopub.status.busy": "2024-10-04T15:55:16.888583Z",
     "iopub.status.idle": "2024-10-04T15:55:17.001493Z",
     "shell.execute_reply": "2024-10-04T15:55:17.000831Z",
     "shell.execute_reply.started": "2024-10-04T15:55:16.888867Z"
    }
   },
   "outputs": [
    {
     "data": {
      "text/html": [
       "<table class=\"simpletable\">\n",
       "<caption>OLS Regression Results</caption>\n",
       "<tr>\n",
       "  <th>Dep. Variable:</th>           <td>acp</td>       <th>  R-squared:         </th> <td>   0.621</td> \n",
       "</tr>\n",
       "<tr>\n",
       "  <th>Model:</th>                   <td>OLS</td>       <th>  Adj. R-squared:    </th> <td>   0.591</td> \n",
       "</tr>\n",
       "<tr>\n",
       "  <th>Method:</th>             <td>Least Squares</td>  <th>  F-statistic:       </th> <td>   20.89</td> \n",
       "</tr>\n",
       "<tr>\n",
       "  <th>Date:</th>             <td>Fri, 04 Oct 2024</td> <th>  Prob (F-statistic):</th> <td>1.03e-161</td>\n",
       "</tr>\n",
       "<tr>\n",
       "  <th>Time:</th>                 <td>17:55:16</td>     <th>  Log-Likelihood:    </th> <td> -134.06</td> \n",
       "</tr>\n",
       "<tr>\n",
       "  <th>No. Observations:</th>      <td>  1087</td>      <th>  AIC:               </th> <td>   428.1</td> \n",
       "</tr>\n",
       "<tr>\n",
       "  <th>Df Residuals:</th>          <td>  1007</td>      <th>  BIC:               </th> <td>   827.4</td> \n",
       "</tr>\n",
       "<tr>\n",
       "  <th>Df Model:</th>              <td>    79</td>      <th>                     </th>     <td> </td>    \n",
       "</tr>\n",
       "<tr>\n",
       "  <th>Covariance Type:</th>      <td>nonrobust</td>    <th>                     </th>     <td> </td>    \n",
       "</tr>\n",
       "</table>\n",
       "<table class=\"simpletable\">\n",
       "<tr>\n",
       "          <td></td>            <th>coef</th>     <th>std err</th>      <th>t</th>      <th>P>|t|</th>  <th>[0.025</th>    <th>0.975]</th>  \n",
       "</tr>\n",
       "<tr>\n",
       "  <th>const</th>            <td>    0.0504</td> <td>    0.171</td> <td>    0.294</td> <td> 0.769</td> <td>   -0.286</td> <td>    0.387</td>\n",
       "</tr>\n",
       "<tr>\n",
       "  <th>cp</th>               <td>   -0.0136</td> <td>    0.020</td> <td>   -0.690</td> <td> 0.490</td> <td>   -0.052</td> <td>    0.025</td>\n",
       "</tr>\n",
       "<tr>\n",
       "  <th>ie</th>               <td>   -0.0139</td> <td>    0.009</td> <td>   -1.475</td> <td> 0.140</td> <td>   -0.032</td> <td>    0.005</td>\n",
       "</tr>\n",
       "<tr>\n",
       "  <th>mew</th>              <td>    0.0178</td> <td>    0.010</td> <td>    1.789</td> <td> 0.074</td> <td>   -0.002</td> <td>    0.037</td>\n",
       "</tr>\n",
       "<tr>\n",
       "  <th>meg</th>              <td>   -0.0005</td> <td>    0.014</td> <td>   -0.033</td> <td> 0.974</td> <td>   -0.029</td> <td>    0.028</td>\n",
       "</tr>\n",
       "<tr>\n",
       "  <th>megmax</th>           <td>    0.0113</td> <td>    0.014</td> <td>    0.823</td> <td> 0.411</td> <td>   -0.016</td> <td>    0.038</td>\n",
       "</tr>\n",
       "<tr>\n",
       "  <th>cmin</th>             <td>   -0.0065</td> <td>    0.009</td> <td>   -0.721</td> <td> 0.471</td> <td>   -0.024</td> <td>    0.011</td>\n",
       "</tr>\n",
       "<tr>\n",
       "  <th>dbusl</th>            <td>   -0.0164</td> <td>    0.012</td> <td>   -1.391</td> <td> 0.164</td> <td>   -0.040</td> <td>    0.007</td>\n",
       "</tr>\n",
       "<tr>\n",
       "  <th>dtraml</th>           <td>    0.0194</td> <td>    0.012</td> <td>    1.557</td> <td> 0.120</td> <td>   -0.005</td> <td>    0.044</td>\n",
       "</tr>\n",
       "<tr>\n",
       "  <th>dtrainl</th>          <td>    0.0215</td> <td>    0.011</td> <td>    1.908</td> <td> 0.057</td> <td>   -0.001</td> <td>    0.044</td>\n",
       "</tr>\n",
       "<tr>\n",
       "  <th>dplight</th>          <td>    0.0145</td> <td>    0.010</td> <td>    1.474</td> <td> 0.141</td> <td>   -0.005</td> <td>    0.034</td>\n",
       "</tr>\n",
       "<tr>\n",
       "  <th>dstation</th>         <td>    0.0030</td> <td>    0.011</td> <td>    0.262</td> <td> 0.793</td> <td>   -0.020</td> <td>    0.026</td>\n",
       "</tr>\n",
       "<tr>\n",
       "  <th>dparkcar</th>         <td>   -0.0045</td> <td>    0.012</td> <td>   -0.386</td> <td> 0.699</td> <td>   -0.027</td> <td>    0.018</td>\n",
       "</tr>\n",
       "<tr>\n",
       "  <th>dparktw</th>          <td>   -0.0071</td> <td>    0.011</td> <td>   -0.653</td> <td> 0.514</td> <td>   -0.029</td> <td>    0.014</td>\n",
       "</tr>\n",
       "<tr>\n",
       "  <th>dpedcro</th>          <td>   -0.0013</td> <td>    0.011</td> <td>   -0.123</td> <td> 0.902</td> <td>   -0.023</td> <td>    0.020</td>\n",
       "</tr>\n",
       "<tr>\n",
       "  <th>dstopsign</th>        <td>    0.0329</td> <td>    0.012</td> <td>    2.635</td> <td> 0.009</td> <td>    0.008</td> <td>    0.057</td>\n",
       "</tr>\n",
       "<tr>\n",
       "  <th>dtrafficarea</th>     <td>    0.0161</td> <td>    0.014</td> <td>    1.131</td> <td> 0.258</td> <td>   -0.012</td> <td>    0.044</td>\n",
       "</tr>\n",
       "<tr>\n",
       "  <th>droad</th>            <td>   -0.0060</td> <td>    0.010</td> <td>   -0.594</td> <td> 0.553</td> <td>   -0.026</td> <td>    0.014</td>\n",
       "</tr>\n",
       "<tr>\n",
       "  <th>dvfpath</th>          <td>   -0.0146</td> <td>    0.009</td> <td>   -1.545</td> <td> 0.123</td> <td>   -0.033</td> <td>    0.004</td>\n",
       "</tr>\n",
       "<tr>\n",
       "  <th>gvm_dwv</th>          <td>   -0.0044</td> <td>    0.011</td> <td>   -0.390</td> <td> 0.696</td> <td>   -0.027</td> <td>    0.018</td>\n",
       "</tr>\n",
       "<tr>\n",
       "  <th>bicyclecount</th>     <td>   -0.0048</td> <td>    0.011</td> <td>   -0.454</td> <td> 0.650</td> <td>   -0.026</td> <td>    0.016</td>\n",
       "</tr>\n",
       "<tr>\n",
       "  <th>carcount</th>         <td>    0.0038</td> <td>    0.011</td> <td>    0.358</td> <td> 0.720</td> <td>   -0.017</td> <td>    0.024</td>\n",
       "</tr>\n",
       "<tr>\n",
       "  <th>r_width_value</th>    <td>   -0.1341</td> <td>    0.021</td> <td>   -6.326</td> <td> 0.000</td> <td>   -0.176</td> <td>   -0.093</td>\n",
       "</tr>\n",
       "<tr>\n",
       "  <th>speedlimit_value</th> <td>   -0.0515</td> <td>    0.020</td> <td>   -2.594</td> <td> 0.010</td> <td>   -0.090</td> <td>   -0.013</td>\n",
       "</tr>\n",
       "<tr>\n",
       "  <th>z_qnr_1</th>          <td>    0.7993</td> <td>    0.133</td> <td>    6.017</td> <td> 0.000</td> <td>    0.539</td> <td>    1.060</td>\n",
       "</tr>\n",
       "<tr>\n",
       "  <th>z_qnr_2</th>          <td>    0.5209</td> <td>    0.122</td> <td>    4.286</td> <td> 0.000</td> <td>    0.282</td> <td>    0.759</td>\n",
       "</tr>\n",
       "<tr>\n",
       "  <th>z_qnr_3</th>          <td>    0.5627</td> <td>    0.123</td> <td>    4.576</td> <td> 0.000</td> <td>    0.321</td> <td>    0.804</td>\n",
       "</tr>\n",
       "<tr>\n",
       "  <th>z_qnr_4</th>          <td>    0.6372</td> <td>    0.131</td> <td>    4.882</td> <td> 0.000</td> <td>    0.381</td> <td>    0.893</td>\n",
       "</tr>\n",
       "<tr>\n",
       "  <th>z_qnr_5</th>          <td>    0.5812</td> <td>    0.103</td> <td>    5.670</td> <td> 0.000</td> <td>    0.380</td> <td>    0.782</td>\n",
       "</tr>\n",
       "<tr>\n",
       "  <th>z_qnr_6</th>          <td>    0.4157</td> <td>    0.125</td> <td>    3.321</td> <td> 0.001</td> <td>    0.170</td> <td>    0.661</td>\n",
       "</tr>\n",
       "<tr>\n",
       "  <th>z_qnr_7</th>          <td>    0.9022</td> <td>    0.120</td> <td>    7.527</td> <td> 0.000</td> <td>    0.667</td> <td>    1.137</td>\n",
       "</tr>\n",
       "<tr>\n",
       "  <th>z_qnr_8</th>          <td>    0.7707</td> <td>    0.103</td> <td>    7.490</td> <td> 0.000</td> <td>    0.569</td> <td>    0.973</td>\n",
       "</tr>\n",
       "<tr>\n",
       "  <th>z_qnr_9</th>          <td>    0.6521</td> <td>    0.137</td> <td>    4.775</td> <td> 0.000</td> <td>    0.384</td> <td>    0.920</td>\n",
       "</tr>\n",
       "<tr>\n",
       "  <th>z_qnr_10</th>         <td>   -0.0892</td> <td>    0.099</td> <td>   -0.901</td> <td> 0.368</td> <td>   -0.284</td> <td>    0.105</td>\n",
       "</tr>\n",
       "<tr>\n",
       "  <th>z_qnr_11</th>         <td>    0.6095</td> <td>    0.092</td> <td>    6.645</td> <td> 0.000</td> <td>    0.429</td> <td>    0.789</td>\n",
       "</tr>\n",
       "<tr>\n",
       "  <th>z_qnr_12</th>         <td>    0.5871</td> <td>    0.086</td> <td>    6.819</td> <td> 0.000</td> <td>    0.418</td> <td>    0.756</td>\n",
       "</tr>\n",
       "<tr>\n",
       "  <th>z_qnr_13</th>         <td>   -0.0362</td> <td>    0.104</td> <td>   -0.348</td> <td> 0.728</td> <td>   -0.240</td> <td>    0.168</td>\n",
       "</tr>\n",
       "<tr>\n",
       "  <th>z_qnr_14</th>         <td>    0.6501</td> <td>    0.099</td> <td>    6.554</td> <td> 0.000</td> <td>    0.455</td> <td>    0.845</td>\n",
       "</tr>\n",
       "<tr>\n",
       "  <th>z_qnr_15</th>         <td>    0.6301</td> <td>    0.111</td> <td>    5.674</td> <td> 0.000</td> <td>    0.412</td> <td>    0.848</td>\n",
       "</tr>\n",
       "<tr>\n",
       "  <th>z_qnr_16</th>         <td>    0.4226</td> <td>    0.100</td> <td>    4.222</td> <td> 0.000</td> <td>    0.226</td> <td>    0.619</td>\n",
       "</tr>\n",
       "<tr>\n",
       "  <th>z_qnr_17</th>         <td>    0.2611</td> <td>    0.090</td> <td>    2.917</td> <td> 0.004</td> <td>    0.085</td> <td>    0.437</td>\n",
       "</tr>\n",
       "<tr>\n",
       "  <th>z_qnr_18</th>         <td>    0.3780</td> <td>    0.097</td> <td>    3.877</td> <td> 0.000</td> <td>    0.187</td> <td>    0.569</td>\n",
       "</tr>\n",
       "<tr>\n",
       "  <th>z_qnr_19</th>         <td>    0.1565</td> <td>    0.098</td> <td>    1.601</td> <td> 0.110</td> <td>   -0.035</td> <td>    0.348</td>\n",
       "</tr>\n",
       "<tr>\n",
       "  <th>z_qnr_20</th>         <td>    0.0791</td> <td>    0.100</td> <td>    0.794</td> <td> 0.427</td> <td>   -0.116</td> <td>    0.275</td>\n",
       "</tr>\n",
       "<tr>\n",
       "  <th>z_qnr_21</th>         <td>    0.3396</td> <td>    0.099</td> <td>    3.446</td> <td> 0.001</td> <td>    0.146</td> <td>    0.533</td>\n",
       "</tr>\n",
       "<tr>\n",
       "  <th>z_qnr_22</th>         <td>    0.2537</td> <td>    0.089</td> <td>    2.841</td> <td> 0.005</td> <td>    0.078</td> <td>    0.429</td>\n",
       "</tr>\n",
       "<tr>\n",
       "  <th>z_qnr_23</th>         <td>   -0.0253</td> <td>    0.107</td> <td>   -0.237</td> <td> 0.813</td> <td>   -0.235</td> <td>    0.185</td>\n",
       "</tr>\n",
       "<tr>\n",
       "  <th>z_qnr_24</th>         <td>    0.1689</td> <td>    0.091</td> <td>    1.855</td> <td> 0.064</td> <td>   -0.010</td> <td>    0.348</td>\n",
       "</tr>\n",
       "<tr>\n",
       "  <th>z_qnr_25</th>         <td>    0.0625</td> <td>    0.092</td> <td>    0.681</td> <td> 0.496</td> <td>   -0.118</td> <td>    0.243</td>\n",
       "</tr>\n",
       "<tr>\n",
       "  <th>z_qnr_26</th>         <td>    0.0302</td> <td>    0.121</td> <td>    0.250</td> <td> 0.803</td> <td>   -0.207</td> <td>    0.268</td>\n",
       "</tr>\n",
       "<tr>\n",
       "  <th>z_qnr_27</th>         <td>   -0.0235</td> <td>    0.124</td> <td>   -0.188</td> <td> 0.851</td> <td>   -0.268</td> <td>    0.221</td>\n",
       "</tr>\n",
       "<tr>\n",
       "  <th>z_qnr_28</th>         <td>    0.3063</td> <td>    0.109</td> <td>    2.811</td> <td> 0.005</td> <td>    0.092</td> <td>    0.520</td>\n",
       "</tr>\n",
       "<tr>\n",
       "  <th>z_qnr_29</th>         <td>    0.3166</td> <td>    0.107</td> <td>    2.973</td> <td> 0.003</td> <td>    0.108</td> <td>    0.526</td>\n",
       "</tr>\n",
       "<tr>\n",
       "  <th>z_qnr_30</th>         <td>    0.0569</td> <td>    0.114</td> <td>    0.498</td> <td> 0.618</td> <td>   -0.167</td> <td>    0.281</td>\n",
       "</tr>\n",
       "<tr>\n",
       "  <th>z_qnr_31</th>         <td>   -0.3806</td> <td>    0.155</td> <td>   -2.461</td> <td> 0.014</td> <td>   -0.684</td> <td>   -0.077</td>\n",
       "</tr>\n",
       "<tr>\n",
       "  <th>z_qnr_32</th>         <td>   -0.3528</td> <td>    0.144</td> <td>   -2.447</td> <td> 0.015</td> <td>   -0.636</td> <td>   -0.070</td>\n",
       "</tr>\n",
       "<tr>\n",
       "  <th>z_knr_1</th>          <td>   -0.9577</td> <td>    0.173</td> <td>   -5.530</td> <td> 0.000</td> <td>   -1.298</td> <td>   -0.618</td>\n",
       "</tr>\n",
       "<tr>\n",
       "  <th>z_knr_2</th>          <td>   -0.7547</td> <td>    0.164</td> <td>   -4.588</td> <td> 0.000</td> <td>   -1.078</td> <td>   -0.432</td>\n",
       "</tr>\n",
       "<tr>\n",
       "  <th>z_knr_3</th>          <td>   -0.8768</td> <td>    0.166</td> <td>   -5.269</td> <td> 0.000</td> <td>   -1.203</td> <td>   -0.550</td>\n",
       "</tr>\n",
       "<tr>\n",
       "  <th>z_knr_4</th>          <td>   -0.5619</td> <td>    0.150</td> <td>   -3.749</td> <td> 0.000</td> <td>   -0.856</td> <td>   -0.268</td>\n",
       "</tr>\n",
       "<tr>\n",
       "  <th>z_knr_5</th>          <td>   -0.2824</td> <td>    0.154</td> <td>   -1.831</td> <td> 0.067</td> <td>   -0.585</td> <td>    0.020</td>\n",
       "</tr>\n",
       "<tr>\n",
       "  <th>z_knr_6</th>          <td>   -0.9784</td> <td>    0.150</td> <td>   -6.538</td> <td> 0.000</td> <td>   -1.272</td> <td>   -0.685</td>\n",
       "</tr>\n",
       "<tr>\n",
       "  <th>z_knr_7</th>          <td>   -0.5395</td> <td>    0.141</td> <td>   -3.827</td> <td> 0.000</td> <td>   -0.816</td> <td>   -0.263</td>\n",
       "</tr>\n",
       "<tr>\n",
       "  <th>z_knr_8</th>          <td>   -0.7490</td> <td>    0.156</td> <td>   -4.803</td> <td> 0.000</td> <td>   -1.055</td> <td>   -0.443</td>\n",
       "</tr>\n",
       "<tr>\n",
       "  <th>z_knr_9</th>          <td>   -0.2808</td> <td>    0.154</td> <td>   -1.821</td> <td> 0.069</td> <td>   -0.583</td> <td>    0.022</td>\n",
       "</tr>\n",
       "<tr>\n",
       "  <th>z_knr_10</th>         <td>   -0.3354</td> <td>    0.134</td> <td>   -2.500</td> <td> 0.013</td> <td>   -0.599</td> <td>   -0.072</td>\n",
       "</tr>\n",
       "<tr>\n",
       "  <th>z_knr_11</th>         <td>   -0.4578</td> <td>    0.133</td> <td>   -3.442</td> <td> 0.001</td> <td>   -0.719</td> <td>   -0.197</td>\n",
       "</tr>\n",
       "<tr>\n",
       "  <th>trafficarea_1</th>    <td>   -0.1650</td> <td>    0.062</td> <td>   -2.673</td> <td> 0.008</td> <td>   -0.286</td> <td>   -0.044</td>\n",
       "</tr>\n",
       "<tr>\n",
       "  <th>trafficarea_2</th>    <td>   -0.3121</td> <td>    0.067</td> <td>   -4.629</td> <td> 0.000</td> <td>   -0.444</td> <td>   -0.180</td>\n",
       "</tr>\n",
       "<tr>\n",
       "  <th>r_width_1</th>        <td>    0.1862</td> <td>    0.062</td> <td>    2.983</td> <td> 0.003</td> <td>    0.064</td> <td>    0.309</td>\n",
       "</tr>\n",
       "<tr>\n",
       "  <th>r_width_2</th>        <td>    0.0551</td> <td>    0.066</td> <td>    0.836</td> <td> 0.403</td> <td>   -0.074</td> <td>    0.184</td>\n",
       "</tr>\n",
       "<tr>\n",
       "  <th>r_width_3</th>        <td>    0.4391</td> <td>    0.089</td> <td>    4.913</td> <td> 0.000</td> <td>    0.264</td> <td>    0.614</td>\n",
       "</tr>\n",
       "<tr>\n",
       "  <th>r_width_4</th>        <td>    0.2986</td> <td>    0.064</td> <td>    4.696</td> <td> 0.000</td> <td>    0.174</td> <td>    0.423</td>\n",
       "</tr>\n",
       "<tr>\n",
       "  <th>r_width_5</th>        <td>    0.4079</td> <td>    0.079</td> <td>    5.183</td> <td> 0.000</td> <td>    0.253</td> <td>    0.562</td>\n",
       "</tr>\n",
       "<tr>\n",
       "  <th>r_width_6</th>        <td>    0.3732</td> <td>    0.079</td> <td>    4.718</td> <td> 0.000</td> <td>    0.218</td> <td>    0.528</td>\n",
       "</tr>\n",
       "<tr>\n",
       "  <th>r_surface_1</th>      <td>    0.2777</td> <td>    0.063</td> <td>    4.397</td> <td> 0.000</td> <td>    0.154</td> <td>    0.402</td>\n",
       "</tr>\n",
       "<tr>\n",
       "  <th>speedlimit_1</th>     <td>    0.0309</td> <td>    0.045</td> <td>    0.681</td> <td> 0.496</td> <td>   -0.058</td> <td>    0.120</td>\n",
       "</tr>\n",
       "<tr>\n",
       "  <th>speedlimit_3</th>     <td>   -0.0661</td> <td>    0.056</td> <td>   -1.170</td> <td> 0.242</td> <td>   -0.177</td> <td>    0.045</td>\n",
       "</tr>\n",
       "<tr>\n",
       "  <th>speedlimit_4</th>     <td>    0.5928</td> <td>    0.054</td> <td>   11.004</td> <td> 0.000</td> <td>    0.487</td> <td>    0.699</td>\n",
       "</tr>\n",
       "<tr>\n",
       "  <th>speedlimit_5</th>     <td>   -0.0588</td> <td>    0.093</td> <td>   -0.629</td> <td> 0.529</td> <td>   -0.242</td> <td>    0.124</td>\n",
       "</tr>\n",
       "</table>\n",
       "<table class=\"simpletable\">\n",
       "<tr>\n",
       "  <th>Omnibus:</th>       <td>149.495</td> <th>  Durbin-Watson:     </th> <td>   1.045</td>\n",
       "</tr>\n",
       "<tr>\n",
       "  <th>Prob(Omnibus):</th> <td> 0.000</td>  <th>  Jarque-Bera (JB):  </th> <td> 311.876</td>\n",
       "</tr>\n",
       "<tr>\n",
       "  <th>Skew:</th>          <td> 0.807</td>  <th>  Prob(JB):          </th> <td>1.89e-68</td>\n",
       "</tr>\n",
       "<tr>\n",
       "  <th>Kurtosis:</th>      <td> 5.069</td>  <th>  Cond. No.          </th> <td>    121.</td>\n",
       "</tr>\n",
       "</table><br/><br/>Notes:<br/>[1] Standard Errors assume that the covariance matrix of the errors is correctly specified."
      ],
      "text/latex": [
       "\\begin{center}\n",
       "\\begin{tabular}{lclc}\n",
       "\\toprule\n",
       "\\textbf{Dep. Variable:}    &       acp        & \\textbf{  R-squared:         } &     0.621   \\\\\n",
       "\\textbf{Model:}            &       OLS        & \\textbf{  Adj. R-squared:    } &     0.591   \\\\\n",
       "\\textbf{Method:}           &  Least Squares   & \\textbf{  F-statistic:       } &     20.89   \\\\\n",
       "\\textbf{Date:}             & Fri, 04 Oct 2024 & \\textbf{  Prob (F-statistic):} & 1.03e-161   \\\\\n",
       "\\textbf{Time:}             &     17:55:16     & \\textbf{  Log-Likelihood:    } &   -134.06   \\\\\n",
       "\\textbf{No. Observations:} &        1087      & \\textbf{  AIC:               } &     428.1   \\\\\n",
       "\\textbf{Df Residuals:}     &        1007      & \\textbf{  BIC:               } &     827.4   \\\\\n",
       "\\textbf{Df Model:}         &          79      & \\textbf{                     } &             \\\\\n",
       "\\textbf{Covariance Type:}  &    nonrobust     & \\textbf{                     } &             \\\\\n",
       "\\bottomrule\n",
       "\\end{tabular}\n",
       "\\begin{tabular}{lcccccc}\n",
       "                           & \\textbf{coef} & \\textbf{std err} & \\textbf{t} & \\textbf{P$> |$t$|$} & \\textbf{[0.025} & \\textbf{0.975]}  \\\\\n",
       "\\midrule\n",
       "\\textbf{const}             &       0.0504  &        0.171     &     0.294  &         0.769        &       -0.286    &        0.387     \\\\\n",
       "\\textbf{cp}                &      -0.0136  &        0.020     &    -0.690  &         0.490        &       -0.052    &        0.025     \\\\\n",
       "\\textbf{ie}                &      -0.0139  &        0.009     &    -1.475  &         0.140        &       -0.032    &        0.005     \\\\\n",
       "\\textbf{mew}               &       0.0178  &        0.010     &     1.789  &         0.074        &       -0.002    &        0.037     \\\\\n",
       "\\textbf{meg}               &      -0.0005  &        0.014     &    -0.033  &         0.974        &       -0.029    &        0.028     \\\\\n",
       "\\textbf{megmax}            &       0.0113  &        0.014     &     0.823  &         0.411        &       -0.016    &        0.038     \\\\\n",
       "\\textbf{cmin}              &      -0.0065  &        0.009     &    -0.721  &         0.471        &       -0.024    &        0.011     \\\\\n",
       "\\textbf{dbusl}             &      -0.0164  &        0.012     &    -1.391  &         0.164        &       -0.040    &        0.007     \\\\\n",
       "\\textbf{dtraml}            &       0.0194  &        0.012     &     1.557  &         0.120        &       -0.005    &        0.044     \\\\\n",
       "\\textbf{dtrainl}           &       0.0215  &        0.011     &     1.908  &         0.057        &       -0.001    &        0.044     \\\\\n",
       "\\textbf{dplight}           &       0.0145  &        0.010     &     1.474  &         0.141        &       -0.005    &        0.034     \\\\\n",
       "\\textbf{dstation}          &       0.0030  &        0.011     &     0.262  &         0.793        &       -0.020    &        0.026     \\\\\n",
       "\\textbf{dparkcar}          &      -0.0045  &        0.012     &    -0.386  &         0.699        &       -0.027    &        0.018     \\\\\n",
       "\\textbf{dparktw}           &      -0.0071  &        0.011     &    -0.653  &         0.514        &       -0.029    &        0.014     \\\\\n",
       "\\textbf{dpedcro}           &      -0.0013  &        0.011     &    -0.123  &         0.902        &       -0.023    &        0.020     \\\\\n",
       "\\textbf{dstopsign}         &       0.0329  &        0.012     &     2.635  &         0.009        &        0.008    &        0.057     \\\\\n",
       "\\textbf{dtrafficarea}      &       0.0161  &        0.014     &     1.131  &         0.258        &       -0.012    &        0.044     \\\\\n",
       "\\textbf{droad}             &      -0.0060  &        0.010     &    -0.594  &         0.553        &       -0.026    &        0.014     \\\\\n",
       "\\textbf{dvfpath}           &      -0.0146  &        0.009     &    -1.545  &         0.123        &       -0.033    &        0.004     \\\\\n",
       "\\textbf{gvm\\_dwv}          &      -0.0044  &        0.011     &    -0.390  &         0.696        &       -0.027    &        0.018     \\\\\n",
       "\\textbf{bicyclecount}      &      -0.0048  &        0.011     &    -0.454  &         0.650        &       -0.026    &        0.016     \\\\\n",
       "\\textbf{carcount}          &       0.0038  &        0.011     &     0.358  &         0.720        &       -0.017    &        0.024     \\\\\n",
       "\\textbf{r\\_width\\_value}   &      -0.1341  &        0.021     &    -6.326  &         0.000        &       -0.176    &       -0.093     \\\\\n",
       "\\textbf{speedlimit\\_value} &      -0.0515  &        0.020     &    -2.594  &         0.010        &       -0.090    &       -0.013     \\\\\n",
       "\\textbf{z\\_qnr\\_1}         &       0.7993  &        0.133     &     6.017  &         0.000        &        0.539    &        1.060     \\\\\n",
       "\\textbf{z\\_qnr\\_2}         &       0.5209  &        0.122     &     4.286  &         0.000        &        0.282    &        0.759     \\\\\n",
       "\\textbf{z\\_qnr\\_3}         &       0.5627  &        0.123     &     4.576  &         0.000        &        0.321    &        0.804     \\\\\n",
       "\\textbf{z\\_qnr\\_4}         &       0.6372  &        0.131     &     4.882  &         0.000        &        0.381    &        0.893     \\\\\n",
       "\\textbf{z\\_qnr\\_5}         &       0.5812  &        0.103     &     5.670  &         0.000        &        0.380    &        0.782     \\\\\n",
       "\\textbf{z\\_qnr\\_6}         &       0.4157  &        0.125     &     3.321  &         0.001        &        0.170    &        0.661     \\\\\n",
       "\\textbf{z\\_qnr\\_7}         &       0.9022  &        0.120     &     7.527  &         0.000        &        0.667    &        1.137     \\\\\n",
       "\\textbf{z\\_qnr\\_8}         &       0.7707  &        0.103     &     7.490  &         0.000        &        0.569    &        0.973     \\\\\n",
       "\\textbf{z\\_qnr\\_9}         &       0.6521  &        0.137     &     4.775  &         0.000        &        0.384    &        0.920     \\\\\n",
       "\\textbf{z\\_qnr\\_10}        &      -0.0892  &        0.099     &    -0.901  &         0.368        &       -0.284    &        0.105     \\\\\n",
       "\\textbf{z\\_qnr\\_11}        &       0.6095  &        0.092     &     6.645  &         0.000        &        0.429    &        0.789     \\\\\n",
       "\\textbf{z\\_qnr\\_12}        &       0.5871  &        0.086     &     6.819  &         0.000        &        0.418    &        0.756     \\\\\n",
       "\\textbf{z\\_qnr\\_13}        &      -0.0362  &        0.104     &    -0.348  &         0.728        &       -0.240    &        0.168     \\\\\n",
       "\\textbf{z\\_qnr\\_14}        &       0.6501  &        0.099     &     6.554  &         0.000        &        0.455    &        0.845     \\\\\n",
       "\\textbf{z\\_qnr\\_15}        &       0.6301  &        0.111     &     5.674  &         0.000        &        0.412    &        0.848     \\\\\n",
       "\\textbf{z\\_qnr\\_16}        &       0.4226  &        0.100     &     4.222  &         0.000        &        0.226    &        0.619     \\\\\n",
       "\\textbf{z\\_qnr\\_17}        &       0.2611  &        0.090     &     2.917  &         0.004        &        0.085    &        0.437     \\\\\n",
       "\\textbf{z\\_qnr\\_18}        &       0.3780  &        0.097     &     3.877  &         0.000        &        0.187    &        0.569     \\\\\n",
       "\\textbf{z\\_qnr\\_19}        &       0.1565  &        0.098     &     1.601  &         0.110        &       -0.035    &        0.348     \\\\\n",
       "\\textbf{z\\_qnr\\_20}        &       0.0791  &        0.100     &     0.794  &         0.427        &       -0.116    &        0.275     \\\\\n",
       "\\textbf{z\\_qnr\\_21}        &       0.3396  &        0.099     &     3.446  &         0.001        &        0.146    &        0.533     \\\\\n",
       "\\textbf{z\\_qnr\\_22}        &       0.2537  &        0.089     &     2.841  &         0.005        &        0.078    &        0.429     \\\\\n",
       "\\textbf{z\\_qnr\\_23}        &      -0.0253  &        0.107     &    -0.237  &         0.813        &       -0.235    &        0.185     \\\\\n",
       "\\textbf{z\\_qnr\\_24}        &       0.1689  &        0.091     &     1.855  &         0.064        &       -0.010    &        0.348     \\\\\n",
       "\\textbf{z\\_qnr\\_25}        &       0.0625  &        0.092     &     0.681  &         0.496        &       -0.118    &        0.243     \\\\\n",
       "\\textbf{z\\_qnr\\_26}        &       0.0302  &        0.121     &     0.250  &         0.803        &       -0.207    &        0.268     \\\\\n",
       "\\textbf{z\\_qnr\\_27}        &      -0.0235  &        0.124     &    -0.188  &         0.851        &       -0.268    &        0.221     \\\\\n",
       "\\textbf{z\\_qnr\\_28}        &       0.3063  &        0.109     &     2.811  &         0.005        &        0.092    &        0.520     \\\\\n",
       "\\textbf{z\\_qnr\\_29}        &       0.3166  &        0.107     &     2.973  &         0.003        &        0.108    &        0.526     \\\\\n",
       "\\textbf{z\\_qnr\\_30}        &       0.0569  &        0.114     &     0.498  &         0.618        &       -0.167    &        0.281     \\\\\n",
       "\\textbf{z\\_qnr\\_31}        &      -0.3806  &        0.155     &    -2.461  &         0.014        &       -0.684    &       -0.077     \\\\\n",
       "\\textbf{z\\_qnr\\_32}        &      -0.3528  &        0.144     &    -2.447  &         0.015        &       -0.636    &       -0.070     \\\\\n",
       "\\textbf{z\\_knr\\_1}         &      -0.9577  &        0.173     &    -5.530  &         0.000        &       -1.298    &       -0.618     \\\\\n",
       "\\textbf{z\\_knr\\_2}         &      -0.7547  &        0.164     &    -4.588  &         0.000        &       -1.078    &       -0.432     \\\\\n",
       "\\textbf{z\\_knr\\_3}         &      -0.8768  &        0.166     &    -5.269  &         0.000        &       -1.203    &       -0.550     \\\\\n",
       "\\textbf{z\\_knr\\_4}         &      -0.5619  &        0.150     &    -3.749  &         0.000        &       -0.856    &       -0.268     \\\\\n",
       "\\textbf{z\\_knr\\_5}         &      -0.2824  &        0.154     &    -1.831  &         0.067        &       -0.585    &        0.020     \\\\\n",
       "\\textbf{z\\_knr\\_6}         &      -0.9784  &        0.150     &    -6.538  &         0.000        &       -1.272    &       -0.685     \\\\\n",
       "\\textbf{z\\_knr\\_7}         &      -0.5395  &        0.141     &    -3.827  &         0.000        &       -0.816    &       -0.263     \\\\\n",
       "\\textbf{z\\_knr\\_8}         &      -0.7490  &        0.156     &    -4.803  &         0.000        &       -1.055    &       -0.443     \\\\\n",
       "\\textbf{z\\_knr\\_9}         &      -0.2808  &        0.154     &    -1.821  &         0.069        &       -0.583    &        0.022     \\\\\n",
       "\\textbf{z\\_knr\\_10}        &      -0.3354  &        0.134     &    -2.500  &         0.013        &       -0.599    &       -0.072     \\\\\n",
       "\\textbf{z\\_knr\\_11}        &      -0.4578  &        0.133     &    -3.442  &         0.001        &       -0.719    &       -0.197     \\\\\n",
       "\\textbf{trafficarea\\_1}    &      -0.1650  &        0.062     &    -2.673  &         0.008        &       -0.286    &       -0.044     \\\\\n",
       "\\textbf{trafficarea\\_2}    &      -0.3121  &        0.067     &    -4.629  &         0.000        &       -0.444    &       -0.180     \\\\\n",
       "\\textbf{r\\_width\\_1}       &       0.1862  &        0.062     &     2.983  &         0.003        &        0.064    &        0.309     \\\\\n",
       "\\textbf{r\\_width\\_2}       &       0.0551  &        0.066     &     0.836  &         0.403        &       -0.074    &        0.184     \\\\\n",
       "\\textbf{r\\_width\\_3}       &       0.4391  &        0.089     &     4.913  &         0.000        &        0.264    &        0.614     \\\\\n",
       "\\textbf{r\\_width\\_4}       &       0.2986  &        0.064     &     4.696  &         0.000        &        0.174    &        0.423     \\\\\n",
       "\\textbf{r\\_width\\_5}       &       0.4079  &        0.079     &     5.183  &         0.000        &        0.253    &        0.562     \\\\\n",
       "\\textbf{r\\_width\\_6}       &       0.3732  &        0.079     &     4.718  &         0.000        &        0.218    &        0.528     \\\\\n",
       "\\textbf{r\\_surface\\_1}     &       0.2777  &        0.063     &     4.397  &         0.000        &        0.154    &        0.402     \\\\\n",
       "\\textbf{speedlimit\\_1}     &       0.0309  &        0.045     &     0.681  &         0.496        &       -0.058    &        0.120     \\\\\n",
       "\\textbf{speedlimit\\_3}     &      -0.0661  &        0.056     &    -1.170  &         0.242        &       -0.177    &        0.045     \\\\\n",
       "\\textbf{speedlimit\\_4}     &       0.5928  &        0.054     &    11.004  &         0.000        &        0.487    &        0.699     \\\\\n",
       "\\textbf{speedlimit\\_5}     &      -0.0588  &        0.093     &    -0.629  &         0.529        &       -0.242    &        0.124     \\\\\n",
       "\\bottomrule\n",
       "\\end{tabular}\n",
       "\\begin{tabular}{lclc}\n",
       "\\textbf{Omnibus:}       & 149.495 & \\textbf{  Durbin-Watson:     } &    1.045  \\\\\n",
       "\\textbf{Prob(Omnibus):} &   0.000 & \\textbf{  Jarque-Bera (JB):  } &  311.876  \\\\\n",
       "\\textbf{Skew:}          &   0.807 & \\textbf{  Prob(JB):          } & 1.89e-68  \\\\\n",
       "\\textbf{Kurtosis:}      &   5.069 & \\textbf{  Cond. No.          } &     121.  \\\\\n",
       "\\bottomrule\n",
       "\\end{tabular}\n",
       "%\\caption{OLS Regression Results}\n",
       "\\end{center}\n",
       "\n",
       "Notes: \\newline\n",
       " [1] Standard Errors assume that the covariance matrix of the errors is correctly specified."
      ],
      "text/plain": [
       "<class 'statsmodels.iolib.summary.Summary'>\n",
       "\"\"\"\n",
       "                            OLS Regression Results                            \n",
       "==============================================================================\n",
       "Dep. Variable:                    acp   R-squared:                       0.621\n",
       "Model:                            OLS   Adj. R-squared:                  0.591\n",
       "Method:                 Least Squares   F-statistic:                     20.89\n",
       "Date:                Fri, 04 Oct 2024   Prob (F-statistic):          1.03e-161\n",
       "Time:                        17:55:16   Log-Likelihood:                -134.06\n",
       "No. Observations:                1087   AIC:                             428.1\n",
       "Df Residuals:                    1007   BIC:                             827.4\n",
       "Df Model:                          79                                         \n",
       "Covariance Type:            nonrobust                                         \n",
       "====================================================================================\n",
       "                       coef    std err          t      P>|t|      [0.025      0.975]\n",
       "------------------------------------------------------------------------------------\n",
       "const                0.0504      0.171      0.294      0.769      -0.286       0.387\n",
       "cp                  -0.0136      0.020     -0.690      0.490      -0.052       0.025\n",
       "ie                  -0.0139      0.009     -1.475      0.140      -0.032       0.005\n",
       "mew                  0.0178      0.010      1.789      0.074      -0.002       0.037\n",
       "meg                 -0.0005      0.014     -0.033      0.974      -0.029       0.028\n",
       "megmax               0.0113      0.014      0.823      0.411      -0.016       0.038\n",
       "cmin                -0.0065      0.009     -0.721      0.471      -0.024       0.011\n",
       "dbusl               -0.0164      0.012     -1.391      0.164      -0.040       0.007\n",
       "dtraml               0.0194      0.012      1.557      0.120      -0.005       0.044\n",
       "dtrainl              0.0215      0.011      1.908      0.057      -0.001       0.044\n",
       "dplight              0.0145      0.010      1.474      0.141      -0.005       0.034\n",
       "dstation             0.0030      0.011      0.262      0.793      -0.020       0.026\n",
       "dparkcar            -0.0045      0.012     -0.386      0.699      -0.027       0.018\n",
       "dparktw             -0.0071      0.011     -0.653      0.514      -0.029       0.014\n",
       "dpedcro             -0.0013      0.011     -0.123      0.902      -0.023       0.020\n",
       "dstopsign            0.0329      0.012      2.635      0.009       0.008       0.057\n",
       "dtrafficarea         0.0161      0.014      1.131      0.258      -0.012       0.044\n",
       "droad               -0.0060      0.010     -0.594      0.553      -0.026       0.014\n",
       "dvfpath             -0.0146      0.009     -1.545      0.123      -0.033       0.004\n",
       "gvm_dwv             -0.0044      0.011     -0.390      0.696      -0.027       0.018\n",
       "bicyclecount        -0.0048      0.011     -0.454      0.650      -0.026       0.016\n",
       "carcount             0.0038      0.011      0.358      0.720      -0.017       0.024\n",
       "r_width_value       -0.1341      0.021     -6.326      0.000      -0.176      -0.093\n",
       "speedlimit_value    -0.0515      0.020     -2.594      0.010      -0.090      -0.013\n",
       "z_qnr_1              0.7993      0.133      6.017      0.000       0.539       1.060\n",
       "z_qnr_2              0.5209      0.122      4.286      0.000       0.282       0.759\n",
       "z_qnr_3              0.5627      0.123      4.576      0.000       0.321       0.804\n",
       "z_qnr_4              0.6372      0.131      4.882      0.000       0.381       0.893\n",
       "z_qnr_5              0.5812      0.103      5.670      0.000       0.380       0.782\n",
       "z_qnr_6              0.4157      0.125      3.321      0.001       0.170       0.661\n",
       "z_qnr_7              0.9022      0.120      7.527      0.000       0.667       1.137\n",
       "z_qnr_8              0.7707      0.103      7.490      0.000       0.569       0.973\n",
       "z_qnr_9              0.6521      0.137      4.775      0.000       0.384       0.920\n",
       "z_qnr_10            -0.0892      0.099     -0.901      0.368      -0.284       0.105\n",
       "z_qnr_11             0.6095      0.092      6.645      0.000       0.429       0.789\n",
       "z_qnr_12             0.5871      0.086      6.819      0.000       0.418       0.756\n",
       "z_qnr_13            -0.0362      0.104     -0.348      0.728      -0.240       0.168\n",
       "z_qnr_14             0.6501      0.099      6.554      0.000       0.455       0.845\n",
       "z_qnr_15             0.6301      0.111      5.674      0.000       0.412       0.848\n",
       "z_qnr_16             0.4226      0.100      4.222      0.000       0.226       0.619\n",
       "z_qnr_17             0.2611      0.090      2.917      0.004       0.085       0.437\n",
       "z_qnr_18             0.3780      0.097      3.877      0.000       0.187       0.569\n",
       "z_qnr_19             0.1565      0.098      1.601      0.110      -0.035       0.348\n",
       "z_qnr_20             0.0791      0.100      0.794      0.427      -0.116       0.275\n",
       "z_qnr_21             0.3396      0.099      3.446      0.001       0.146       0.533\n",
       "z_qnr_22             0.2537      0.089      2.841      0.005       0.078       0.429\n",
       "z_qnr_23            -0.0253      0.107     -0.237      0.813      -0.235       0.185\n",
       "z_qnr_24             0.1689      0.091      1.855      0.064      -0.010       0.348\n",
       "z_qnr_25             0.0625      0.092      0.681      0.496      -0.118       0.243\n",
       "z_qnr_26             0.0302      0.121      0.250      0.803      -0.207       0.268\n",
       "z_qnr_27            -0.0235      0.124     -0.188      0.851      -0.268       0.221\n",
       "z_qnr_28             0.3063      0.109      2.811      0.005       0.092       0.520\n",
       "z_qnr_29             0.3166      0.107      2.973      0.003       0.108       0.526\n",
       "z_qnr_30             0.0569      0.114      0.498      0.618      -0.167       0.281\n",
       "z_qnr_31            -0.3806      0.155     -2.461      0.014      -0.684      -0.077\n",
       "z_qnr_32            -0.3528      0.144     -2.447      0.015      -0.636      -0.070\n",
       "z_knr_1             -0.9577      0.173     -5.530      0.000      -1.298      -0.618\n",
       "z_knr_2             -0.7547      0.164     -4.588      0.000      -1.078      -0.432\n",
       "z_knr_3             -0.8768      0.166     -5.269      0.000      -1.203      -0.550\n",
       "z_knr_4             -0.5619      0.150     -3.749      0.000      -0.856      -0.268\n",
       "z_knr_5             -0.2824      0.154     -1.831      0.067      -0.585       0.020\n",
       "z_knr_6             -0.9784      0.150     -6.538      0.000      -1.272      -0.685\n",
       "z_knr_7             -0.5395      0.141     -3.827      0.000      -0.816      -0.263\n",
       "z_knr_8             -0.7490      0.156     -4.803      0.000      -1.055      -0.443\n",
       "z_knr_9             -0.2808      0.154     -1.821      0.069      -0.583       0.022\n",
       "z_knr_10            -0.3354      0.134     -2.500      0.013      -0.599      -0.072\n",
       "z_knr_11            -0.4578      0.133     -3.442      0.001      -0.719      -0.197\n",
       "trafficarea_1       -0.1650      0.062     -2.673      0.008      -0.286      -0.044\n",
       "trafficarea_2       -0.3121      0.067     -4.629      0.000      -0.444      -0.180\n",
       "r_width_1            0.1862      0.062      2.983      0.003       0.064       0.309\n",
       "r_width_2            0.0551      0.066      0.836      0.403      -0.074       0.184\n",
       "r_width_3            0.4391      0.089      4.913      0.000       0.264       0.614\n",
       "r_width_4            0.2986      0.064      4.696      0.000       0.174       0.423\n",
       "r_width_5            0.4079      0.079      5.183      0.000       0.253       0.562\n",
       "r_width_6            0.3732      0.079      4.718      0.000       0.218       0.528\n",
       "r_surface_1          0.2777      0.063      4.397      0.000       0.154       0.402\n",
       "speedlimit_1         0.0309      0.045      0.681      0.496      -0.058       0.120\n",
       "speedlimit_3        -0.0661      0.056     -1.170      0.242      -0.177       0.045\n",
       "speedlimit_4         0.5928      0.054     11.004      0.000       0.487       0.699\n",
       "speedlimit_5        -0.0588      0.093     -0.629      0.529      -0.242       0.124\n",
       "==============================================================================\n",
       "Omnibus:                      149.495   Durbin-Watson:                   1.045\n",
       "Prob(Omnibus):                  0.000   Jarque-Bera (JB):              311.876\n",
       "Skew:                           0.807   Prob(JB):                     1.89e-68\n",
       "Kurtosis:                       5.069   Cond. No.                         121.\n",
       "==============================================================================\n",
       "\n",
       "Notes:\n",
       "[1] Standard Errors assume that the covariance matrix of the errors is correctly specified.\n",
       "\"\"\""
      ]
     },
     "execution_count": 30,
     "metadata": {},
     "output_type": "execute_result"
    }
   ],
   "source": [
    "# OLS\n",
    "# With constant\n",
    "x_const = tools.add_constant(x)\n",
    "m00 = sm.OLS(y, x_const)\n",
    "r00 = m00.fit()\n",
    "r00.summary()\n",
    "\n",
    "# m00 = sm.OLS(y, x)\n",
    "# r00 = m00.fit()\n",
    "# r00.summary()"
   ]
  },
  {
   "cell_type": "code",
   "execution_count": 31,
   "id": "aa73c4e6-afd1-4ec7-bc36-72e81f5e5241",
   "metadata": {
    "execution": {
     "iopub.execute_input": "2024-10-04T15:55:24.828228Z",
     "iopub.status.busy": "2024-10-04T15:55:24.827394Z",
     "iopub.status.idle": "2024-10-04T15:55:25.054454Z",
     "shell.execute_reply": "2024-10-04T15:55:25.053763Z",
     "shell.execute_reply.started": "2024-10-04T15:55:24.828207Z"
    }
   },
   "outputs": [
    {
     "name": "stdout",
     "output_type": "stream",
     "text": [
      "0.9144434222631095\n",
      "\n",
      "Test accuracy : \n",
      " 0.9144434222631095\n",
      "\n",
      "Confusion Matrix : \n",
      " [[768  24]\n",
      " [ 69 226]]\n"
     ]
    },
    {
     "data": {
      "text/plain": [
       "<sklearn.metrics._plot.confusion_matrix.ConfusionMatrixDisplay at 0x14fa5e2d7410>"
      ]
     },
     "execution_count": 31,
     "metadata": {},
     "output_type": "execute_result"
    },
    {
     "data": {
      "image/png": "[encoded data removed]",
      "text/plain": [
       "<Figure size 640x480 with 2 Axes>"
      ]
     },
     "metadata": {},
     "output_type": "display_data"
    }
   ],
   "source": [
    "pred00 = r00.predict(x_const)\n",
    "pred00 = list(map(round,pred00))\n",
    "print(accuracy_score(y, pred00))\n",
    "print('\\nTest accuracy : \\n', accuracy_score(y, pred00))\n",
    "cm00 = confusion_matrix(y, pred00) \n",
    "print ('\\nConfusion Matrix : \\n', cm00)\n",
    "cm00_display = metrics.ConfusionMatrixDisplay(confusion_matrix = cm00)\n",
    "cm00_display.plot()"
   ]
  },
  {
   "cell_type": "code",
   "execution_count": 32,
   "id": "000a5c84-dfa0-45d4-b162-b54356df5d34",
   "metadata": {
    "execution": {
     "iopub.execute_input": "2024-10-04T15:55:28.640124Z",
     "iopub.status.busy": "2024-10-04T15:55:28.639616Z",
     "iopub.status.idle": "2024-10-04T15:55:28.655935Z",
     "shell.execute_reply": "2024-10-04T15:55:28.655297Z",
     "shell.execute_reply.started": "2024-10-04T15:55:28.640104Z"
    }
   },
   "outputs": [
    {
     "name": "stdout",
     "output_type": "stream",
     "text": [
      "accuracy 0.9144434222631095\n",
      "precision [0.91756272 0.904     ]\n",
      "sensitivity recall [0.96969697 0.76610169]\n",
      "f1 score [0.94290976 0.8293578 ]\n",
      "mean precision 0.9107813620071685\n",
      "mean recall 0.8678993323061119\n",
      "mean f1 score 0.8861337793772281\n"
     ]
    }
   ],
   "source": [
    "acc_ols = metrics.accuracy_score(y, pred00)\n",
    "print('accuracy', acc_ols)\n",
    "\n",
    "pre_ols = metrics.precision_score(y, pred00, average = None)\n",
    "print('precision', pre_ols)\n",
    "\n",
    "senrec_ols = metrics.recall_score(y, pred00, average = None)\n",
    "print('sensitivity recall', senrec_ols)\n",
    "\n",
    "f1_ols = metrics.f1_score(y, pred00, average = None)\n",
    "print('f1 score', f1_ols)\n",
    "\n",
    "pre_ols_m = np.mean(pre_ols)\n",
    "senrec_ols_m = np.mean(senrec_ols)\n",
    "f1_ols_m = np.mean(f1_ols)\n",
    "print('mean precision', pre_ols_m)\n",
    "print('mean recall', senrec_ols_m)\n",
    "print('mean f1 score', f1_ols_m)"
   ]
  },
  {
   "cell_type": "markdown",
   "id": "82930f54-a24d-48a1-a9de-0d36dd34c14b",
   "metadata": {},
   "source": [
    "### With data splitting"
   ]
  },
  {
   "cell_type": "code",
   "execution_count": 33,
   "id": "b56e34e2-487a-4703-bfad-189ca1dafe51",
   "metadata": {
    "execution": {
     "iopub.execute_input": "2024-10-04T15:55:39.912187Z",
     "iopub.status.busy": "2024-10-04T15:55:39.910865Z",
     "iopub.status.idle": "2024-10-04T15:55:39.990818Z",
     "shell.execute_reply": "2024-10-04T15:55:39.990137Z",
     "shell.execute_reply.started": "2024-10-04T15:55:39.912124Z"
    },
    "scrolled": true
   },
   "outputs": [
    {
     "data": {
      "text/html": [
       "<table class=\"simpletable\">\n",
       "<caption>OLS Regression Results</caption>\n",
       "<tr>\n",
       "  <th>Dep. Variable:</th>           <td>acp</td>       <th>  R-squared:         </th> <td>   0.635</td> \n",
       "</tr>\n",
       "<tr>\n",
       "  <th>Model:</th>                   <td>OLS</td>       <th>  Adj. R-squared:    </th> <td>   0.593</td> \n",
       "</tr>\n",
       "<tr>\n",
       "  <th>Method:</th>             <td>Least Squares</td>  <th>  F-statistic:       </th> <td>   14.98</td> \n",
       "</tr>\n",
       "<tr>\n",
       "  <th>Date:</th>             <td>Fri, 04 Oct 2024</td> <th>  Prob (F-statistic):</th> <td>3.00e-104</td>\n",
       "</tr>\n",
       "<tr>\n",
       "  <th>Time:</th>                 <td>17:55:39</td>     <th>  Log-Likelihood:    </th> <td> -85.906</td> \n",
       "</tr>\n",
       "<tr>\n",
       "  <th>No. Observations:</th>      <td>   760</td>      <th>  AIC:               </th> <td>   331.8</td> \n",
       "</tr>\n",
       "<tr>\n",
       "  <th>Df Residuals:</th>          <td>   680</td>      <th>  BIC:               </th> <td>   702.5</td> \n",
       "</tr>\n",
       "<tr>\n",
       "  <th>Df Model:</th>              <td>    79</td>      <th>                     </th>     <td> </td>    \n",
       "</tr>\n",
       "<tr>\n",
       "  <th>Covariance Type:</th>      <td>nonrobust</td>    <th>                     </th>     <td> </td>    \n",
       "</tr>\n",
       "</table>\n",
       "<table class=\"simpletable\">\n",
       "<tr>\n",
       "          <td></td>            <th>coef</th>     <th>std err</th>      <th>t</th>      <th>P>|t|</th>  <th>[0.025</th>    <th>0.975]</th>  \n",
       "</tr>\n",
       "<tr>\n",
       "  <th>const</th>            <td>   -0.2672</td> <td>    0.229</td> <td>   -1.169</td> <td> 0.243</td> <td>   -0.716</td> <td>    0.182</td>\n",
       "</tr>\n",
       "<tr>\n",
       "  <th>cp</th>               <td>    0.0152</td> <td>    0.024</td> <td>    0.640</td> <td> 0.522</td> <td>   -0.031</td> <td>    0.062</td>\n",
       "</tr>\n",
       "<tr>\n",
       "  <th>ie</th>               <td>   -0.0151</td> <td>    0.011</td> <td>   -1.324</td> <td> 0.186</td> <td>   -0.037</td> <td>    0.007</td>\n",
       "</tr>\n",
       "<tr>\n",
       "  <th>mew</th>              <td>    0.0259</td> <td>    0.012</td> <td>    2.189</td> <td> 0.029</td> <td>    0.003</td> <td>    0.049</td>\n",
       "</tr>\n",
       "<tr>\n",
       "  <th>meg</th>              <td>    0.0078</td> <td>    0.018</td> <td>    0.445</td> <td> 0.657</td> <td>   -0.027</td> <td>    0.042</td>\n",
       "</tr>\n",
       "<tr>\n",
       "  <th>megmax</th>           <td>    0.0181</td> <td>    0.017</td> <td>    1.082</td> <td> 0.280</td> <td>   -0.015</td> <td>    0.051</td>\n",
       "</tr>\n",
       "<tr>\n",
       "  <th>cmin</th>             <td>   -0.0089</td> <td>    0.010</td> <td>   -0.932</td> <td> 0.352</td> <td>   -0.028</td> <td>    0.010</td>\n",
       "</tr>\n",
       "<tr>\n",
       "  <th>dbusl</th>            <td>   -0.0037</td> <td>    0.014</td> <td>   -0.258</td> <td> 0.796</td> <td>   -0.032</td> <td>    0.024</td>\n",
       "</tr>\n",
       "<tr>\n",
       "  <th>dtraml</th>           <td>    0.0204</td> <td>    0.016</td> <td>    1.312</td> <td> 0.190</td> <td>   -0.010</td> <td>    0.051</td>\n",
       "</tr>\n",
       "<tr>\n",
       "  <th>dtrainl</th>          <td>    0.0202</td> <td>    0.014</td> <td>    1.458</td> <td> 0.145</td> <td>   -0.007</td> <td>    0.047</td>\n",
       "</tr>\n",
       "<tr>\n",
       "  <th>dplight</th>          <td>    0.0105</td> <td>    0.012</td> <td>    0.884</td> <td> 0.377</td> <td>   -0.013</td> <td>    0.034</td>\n",
       "</tr>\n",
       "<tr>\n",
       "  <th>dstation</th>         <td>    0.0048</td> <td>    0.014</td> <td>    0.346</td> <td> 0.730</td> <td>   -0.022</td> <td>    0.032</td>\n",
       "</tr>\n",
       "<tr>\n",
       "  <th>dparkcar</th>         <td>   -0.0090</td> <td>    0.014</td> <td>   -0.633</td> <td> 0.527</td> <td>   -0.037</td> <td>    0.019</td>\n",
       "</tr>\n",
       "<tr>\n",
       "  <th>dparktw</th>          <td>    0.0049</td> <td>    0.013</td> <td>    0.370</td> <td> 0.711</td> <td>   -0.021</td> <td>    0.031</td>\n",
       "</tr>\n",
       "<tr>\n",
       "  <th>dpedcro</th>          <td>   -0.0034</td> <td>    0.013</td> <td>   -0.259</td> <td> 0.796</td> <td>   -0.030</td> <td>    0.023</td>\n",
       "</tr>\n",
       "<tr>\n",
       "  <th>dstopsign</th>        <td>    0.0210</td> <td>    0.016</td> <td>    1.353</td> <td> 0.176</td> <td>   -0.009</td> <td>    0.051</td>\n",
       "</tr>\n",
       "<tr>\n",
       "  <th>dtrafficarea</th>     <td>    0.0300</td> <td>    0.018</td> <td>    1.712</td> <td> 0.087</td> <td>   -0.004</td> <td>    0.064</td>\n",
       "</tr>\n",
       "<tr>\n",
       "  <th>droad</th>            <td>    0.0069</td> <td>    0.013</td> <td>    0.536</td> <td> 0.592</td> <td>   -0.018</td> <td>    0.032</td>\n",
       "</tr>\n",
       "<tr>\n",
       "  <th>dvfpath</th>          <td>   -0.0190</td> <td>    0.013</td> <td>   -1.498</td> <td> 0.135</td> <td>   -0.044</td> <td>    0.006</td>\n",
       "</tr>\n",
       "<tr>\n",
       "  <th>gvm_dwv</th>          <td>   -0.0136</td> <td>    0.014</td> <td>   -0.997</td> <td> 0.319</td> <td>   -0.040</td> <td>    0.013</td>\n",
       "</tr>\n",
       "<tr>\n",
       "  <th>bicyclecount</th>     <td>   -0.0144</td> <td>    0.013</td> <td>   -1.130</td> <td> 0.259</td> <td>   -0.039</td> <td>    0.011</td>\n",
       "</tr>\n",
       "<tr>\n",
       "  <th>carcount</th>         <td>    0.0077</td> <td>    0.013</td> <td>    0.584</td> <td> 0.560</td> <td>   -0.018</td> <td>    0.034</td>\n",
       "</tr>\n",
       "<tr>\n",
       "  <th>r_width_value</th>    <td>   -0.1172</td> <td>    0.026</td> <td>   -4.479</td> <td> 0.000</td> <td>   -0.169</td> <td>   -0.066</td>\n",
       "</tr>\n",
       "<tr>\n",
       "  <th>speedlimit_value</th> <td>   -0.0601</td> <td>    0.024</td> <td>   -2.534</td> <td> 0.011</td> <td>   -0.107</td> <td>   -0.014</td>\n",
       "</tr>\n",
       "<tr>\n",
       "  <th>z_qnr_1</th>          <td>    0.7743</td> <td>    0.161</td> <td>    4.817</td> <td> 0.000</td> <td>    0.459</td> <td>    1.090</td>\n",
       "</tr>\n",
       "<tr>\n",
       "  <th>z_qnr_2</th>          <td>    0.4832</td> <td>    0.158</td> <td>    3.057</td> <td> 0.002</td> <td>    0.173</td> <td>    0.794</td>\n",
       "</tr>\n",
       "<tr>\n",
       "  <th>z_qnr_3</th>          <td>    0.6006</td> <td>    0.156</td> <td>    3.862</td> <td> 0.000</td> <td>    0.295</td> <td>    0.906</td>\n",
       "</tr>\n",
       "<tr>\n",
       "  <th>z_qnr_4</th>          <td>    0.6057</td> <td>    0.161</td> <td>    3.752</td> <td> 0.000</td> <td>    0.289</td> <td>    0.923</td>\n",
       "</tr>\n",
       "<tr>\n",
       "  <th>z_qnr_5</th>          <td>    0.5409</td> <td>    0.132</td> <td>    4.103</td> <td> 0.000</td> <td>    0.282</td> <td>    0.800</td>\n",
       "</tr>\n",
       "<tr>\n",
       "  <th>z_qnr_6</th>          <td>    0.3804</td> <td>    0.150</td> <td>    2.535</td> <td> 0.011</td> <td>    0.086</td> <td>    0.675</td>\n",
       "</tr>\n",
       "<tr>\n",
       "  <th>z_qnr_7</th>          <td>    0.9068</td> <td>    0.156</td> <td>    5.797</td> <td> 0.000</td> <td>    0.600</td> <td>    1.214</td>\n",
       "</tr>\n",
       "<tr>\n",
       "  <th>z_qnr_8</th>          <td>    0.6816</td> <td>    0.134</td> <td>    5.097</td> <td> 0.000</td> <td>    0.419</td> <td>    0.944</td>\n",
       "</tr>\n",
       "<tr>\n",
       "  <th>z_qnr_9</th>          <td>    0.6444</td> <td>    0.170</td> <td>    3.782</td> <td> 0.000</td> <td>    0.310</td> <td>    0.979</td>\n",
       "</tr>\n",
       "<tr>\n",
       "  <th>z_qnr_10</th>         <td>   -0.2256</td> <td>    0.129</td> <td>   -1.755</td> <td> 0.080</td> <td>   -0.478</td> <td>    0.027</td>\n",
       "</tr>\n",
       "<tr>\n",
       "  <th>z_qnr_11</th>         <td>    0.5777</td> <td>    0.118</td> <td>    4.887</td> <td> 0.000</td> <td>    0.346</td> <td>    0.810</td>\n",
       "</tr>\n",
       "<tr>\n",
       "  <th>z_qnr_12</th>         <td>    0.5832</td> <td>    0.111</td> <td>    5.231</td> <td> 0.000</td> <td>    0.364</td> <td>    0.802</td>\n",
       "</tr>\n",
       "<tr>\n",
       "  <th>z_qnr_13</th>         <td>   -0.1000</td> <td>    0.132</td> <td>   -0.761</td> <td> 0.447</td> <td>   -0.358</td> <td>    0.158</td>\n",
       "</tr>\n",
       "<tr>\n",
       "  <th>z_qnr_14</th>         <td>    0.6233</td> <td>    0.128</td> <td>    4.865</td> <td> 0.000</td> <td>    0.372</td> <td>    0.875</td>\n",
       "</tr>\n",
       "<tr>\n",
       "  <th>z_qnr_15</th>         <td>    0.6316</td> <td>    0.142</td> <td>    4.463</td> <td> 0.000</td> <td>    0.354</td> <td>    0.910</td>\n",
       "</tr>\n",
       "<tr>\n",
       "  <th>z_qnr_16</th>         <td>    0.3646</td> <td>    0.147</td> <td>    2.485</td> <td> 0.013</td> <td>    0.077</td> <td>    0.653</td>\n",
       "</tr>\n",
       "<tr>\n",
       "  <th>z_qnr_17</th>         <td>    0.2220</td> <td>    0.116</td> <td>    1.920</td> <td> 0.055</td> <td>   -0.005</td> <td>    0.449</td>\n",
       "</tr>\n",
       "<tr>\n",
       "  <th>z_qnr_18</th>         <td>    0.3606</td> <td>    0.129</td> <td>    2.802</td> <td> 0.005</td> <td>    0.108</td> <td>    0.613</td>\n",
       "</tr>\n",
       "<tr>\n",
       "  <th>z_qnr_19</th>         <td>    0.1663</td> <td>    0.122</td> <td>    1.362</td> <td> 0.174</td> <td>   -0.073</td> <td>    0.406</td>\n",
       "</tr>\n",
       "<tr>\n",
       "  <th>z_qnr_20</th>         <td>    0.0379</td> <td>    0.124</td> <td>    0.306</td> <td> 0.759</td> <td>   -0.205</td> <td>    0.281</td>\n",
       "</tr>\n",
       "<tr>\n",
       "  <th>z_qnr_21</th>         <td>    0.3636</td> <td>    0.129</td> <td>    2.822</td> <td> 0.005</td> <td>    0.111</td> <td>    0.617</td>\n",
       "</tr>\n",
       "<tr>\n",
       "  <th>z_qnr_22</th>         <td>    0.2148</td> <td>    0.109</td> <td>    1.971</td> <td> 0.049</td> <td>    0.001</td> <td>    0.429</td>\n",
       "</tr>\n",
       "<tr>\n",
       "  <th>z_qnr_23</th>         <td>   -0.0088</td> <td>    0.137</td> <td>   -0.064</td> <td> 0.949</td> <td>   -0.279</td> <td>    0.261</td>\n",
       "</tr>\n",
       "<tr>\n",
       "  <th>z_qnr_24</th>         <td>    0.2286</td> <td>    0.115</td> <td>    1.980</td> <td> 0.048</td> <td>    0.002</td> <td>    0.455</td>\n",
       "</tr>\n",
       "<tr>\n",
       "  <th>z_qnr_25</th>         <td>    0.1100</td> <td>    0.120</td> <td>    0.915</td> <td> 0.361</td> <td>   -0.126</td> <td>    0.346</td>\n",
       "</tr>\n",
       "<tr>\n",
       "  <th>z_qnr_26</th>         <td>    0.1177</td> <td>    0.151</td> <td>    0.777</td> <td> 0.437</td> <td>   -0.180</td> <td>    0.415</td>\n",
       "</tr>\n",
       "<tr>\n",
       "  <th>z_qnr_27</th>         <td>   -0.0222</td> <td>    0.158</td> <td>   -0.141</td> <td> 0.888</td> <td>   -0.332</td> <td>    0.288</td>\n",
       "</tr>\n",
       "<tr>\n",
       "  <th>z_qnr_28</th>         <td>    0.1215</td> <td>    0.181</td> <td>    0.673</td> <td> 0.501</td> <td>   -0.233</td> <td>    0.476</td>\n",
       "</tr>\n",
       "<tr>\n",
       "  <th>z_qnr_29</th>         <td>    0.1621</td> <td>    0.133</td> <td>    1.220</td> <td> 0.223</td> <td>   -0.099</td> <td>    0.423</td>\n",
       "</tr>\n",
       "<tr>\n",
       "  <th>z_qnr_30</th>         <td>    0.0256</td> <td>    0.126</td> <td>    0.203</td> <td> 0.839</td> <td>   -0.221</td> <td>    0.272</td>\n",
       "</tr>\n",
       "<tr>\n",
       "  <th>z_qnr_31</th>         <td>   -0.0977</td> <td>    0.202</td> <td>   -0.483</td> <td> 0.629</td> <td>   -0.495</td> <td>    0.300</td>\n",
       "</tr>\n",
       "<tr>\n",
       "  <th>z_qnr_32</th>         <td>   -0.0217</td> <td>    0.184</td> <td>   -0.118</td> <td> 0.906</td> <td>   -0.382</td> <td>    0.339</td>\n",
       "</tr>\n",
       "<tr>\n",
       "  <th>z_knr_1</th>          <td>   -0.6173</td> <td>    0.228</td> <td>   -2.712</td> <td> 0.007</td> <td>   -1.064</td> <td>   -0.170</td>\n",
       "</tr>\n",
       "<tr>\n",
       "  <th>z_knr_2</th>          <td>   -0.3875</td> <td>    0.226</td> <td>   -1.718</td> <td> 0.086</td> <td>   -0.830</td> <td>    0.055</td>\n",
       "</tr>\n",
       "<tr>\n",
       "  <th>z_knr_3</th>          <td>   -0.5664</td> <td>    0.225</td> <td>   -2.518</td> <td> 0.012</td> <td>   -1.008</td> <td>   -0.125</td>\n",
       "</tr>\n",
       "<tr>\n",
       "  <th>z_knr_4</th>          <td>   -0.1443</td> <td>    0.207</td> <td>   -0.699</td> <td> 0.485</td> <td>   -0.550</td> <td>    0.261</td>\n",
       "</tr>\n",
       "<tr>\n",
       "  <th>z_knr_5</th>          <td>    0.1098</td> <td>    0.208</td> <td>    0.527</td> <td> 0.598</td> <td>   -0.299</td> <td>    0.519</td>\n",
       "</tr>\n",
       "<tr>\n",
       "  <th>z_knr_6</th>          <td>   -0.6559</td> <td>    0.204</td> <td>   -3.216</td> <td> 0.001</td> <td>   -1.056</td> <td>   -0.255</td>\n",
       "</tr>\n",
       "<tr>\n",
       "  <th>z_knr_7</th>          <td>   -0.1497</td> <td>    0.193</td> <td>   -0.775</td> <td> 0.439</td> <td>   -0.529</td> <td>    0.230</td>\n",
       "</tr>\n",
       "<tr>\n",
       "  <th>z_knr_8</th>          <td>   -0.4659</td> <td>    0.214</td> <td>   -2.181</td> <td> 0.030</td> <td>   -0.885</td> <td>   -0.046</td>\n",
       "</tr>\n",
       "<tr>\n",
       "  <th>z_knr_9</th>          <td>    0.0515</td> <td>    0.206</td> <td>    0.249</td> <td> 0.803</td> <td>   -0.354</td> <td>    0.456</td>\n",
       "</tr>\n",
       "<tr>\n",
       "  <th>z_knr_10</th>         <td>   -0.0027</td> <td>    0.186</td> <td>   -0.014</td> <td> 0.988</td> <td>   -0.367</td> <td>    0.362</td>\n",
       "</tr>\n",
       "<tr>\n",
       "  <th>z_knr_11</th>         <td>   -0.1929</td> <td>    0.189</td> <td>   -1.020</td> <td> 0.308</td> <td>   -0.565</td> <td>    0.179</td>\n",
       "</tr>\n",
       "<tr>\n",
       "  <th>trafficarea_1</th>    <td>   -0.1988</td> <td>    0.077</td> <td>   -2.583</td> <td> 0.010</td> <td>   -0.350</td> <td>   -0.048</td>\n",
       "</tr>\n",
       "<tr>\n",
       "  <th>trafficarea_2</th>    <td>   -0.3910</td> <td>    0.085</td> <td>   -4.599</td> <td> 0.000</td> <td>   -0.558</td> <td>   -0.224</td>\n",
       "</tr>\n",
       "<tr>\n",
       "  <th>r_width_1</th>        <td>    0.1959</td> <td>    0.080</td> <td>    2.460</td> <td> 0.014</td> <td>    0.040</td> <td>    0.352</td>\n",
       "</tr>\n",
       "<tr>\n",
       "  <th>r_width_2</th>        <td>    0.0870</td> <td>    0.084</td> <td>    1.035</td> <td> 0.301</td> <td>   -0.078</td> <td>    0.252</td>\n",
       "</tr>\n",
       "<tr>\n",
       "  <th>r_width_3</th>        <td>    0.4157</td> <td>    0.113</td> <td>    3.692</td> <td> 0.000</td> <td>    0.195</td> <td>    0.637</td>\n",
       "</tr>\n",
       "<tr>\n",
       "  <th>r_width_4</th>        <td>    0.3635</td> <td>    0.083</td> <td>    4.370</td> <td> 0.000</td> <td>    0.200</td> <td>    0.527</td>\n",
       "</tr>\n",
       "<tr>\n",
       "  <th>r_width_5</th>        <td>    0.4147</td> <td>    0.099</td> <td>    4.179</td> <td> 0.000</td> <td>    0.220</td> <td>    0.610</td>\n",
       "</tr>\n",
       "<tr>\n",
       "  <th>r_width_6</th>        <td>    0.3593</td> <td>    0.099</td> <td>    3.617</td> <td> 0.000</td> <td>    0.164</td> <td>    0.554</td>\n",
       "</tr>\n",
       "<tr>\n",
       "  <th>r_surface_1</th>      <td>    0.2862</td> <td>    0.080</td> <td>    3.598</td> <td> 0.000</td> <td>    0.130</td> <td>    0.442</td>\n",
       "</tr>\n",
       "<tr>\n",
       "  <th>speedlimit_1</th>     <td>    0.0453</td> <td>    0.056</td> <td>    0.814</td> <td> 0.416</td> <td>   -0.064</td> <td>    0.155</td>\n",
       "</tr>\n",
       "<tr>\n",
       "  <th>speedlimit_3</th>     <td>   -0.0468</td> <td>    0.069</td> <td>   -0.679</td> <td> 0.497</td> <td>   -0.182</td> <td>    0.088</td>\n",
       "</tr>\n",
       "<tr>\n",
       "  <th>speedlimit_4</th>     <td>    0.5627</td> <td>    0.066</td> <td>    8.579</td> <td> 0.000</td> <td>    0.434</td> <td>    0.692</td>\n",
       "</tr>\n",
       "<tr>\n",
       "  <th>speedlimit_5</th>     <td>   -0.0803</td> <td>    0.109</td> <td>   -0.738</td> <td> 0.461</td> <td>   -0.294</td> <td>    0.133</td>\n",
       "</tr>\n",
       "</table>\n",
       "<table class=\"simpletable\">\n",
       "<tr>\n",
       "  <th>Omnibus:</th>       <td>81.679</td> <th>  Durbin-Watson:     </th> <td>   1.996</td>\n",
       "</tr>\n",
       "<tr>\n",
       "  <th>Prob(Omnibus):</th> <td> 0.000</td> <th>  Jarque-Bera (JB):  </th> <td> 143.528</td>\n",
       "</tr>\n",
       "<tr>\n",
       "  <th>Skew:</th>          <td> 0.694</td> <th>  Prob(JB):          </th> <td>6.81e-32</td>\n",
       "</tr>\n",
       "<tr>\n",
       "  <th>Kurtosis:</th>      <td> 4.614</td> <th>  Cond. No.          </th> <td>    139.</td>\n",
       "</tr>\n",
       "</table><br/><br/>Notes:<br/>[1] Standard Errors assume that the covariance matrix of the errors is correctly specified."
      ],
      "text/latex": [
       "\\begin{center}\n",
       "\\begin{tabular}{lclc}\n",
       "\\toprule\n",
       "\\textbf{Dep. Variable:}    &       acp        & \\textbf{  R-squared:         } &     0.635   \\\\\n",
       "\\textbf{Model:}            &       OLS        & \\textbf{  Adj. R-squared:    } &     0.593   \\\\\n",
       "\\textbf{Method:}           &  Least Squares   & \\textbf{  F-statistic:       } &     14.98   \\\\\n",
       "\\textbf{Date:}             & Fri, 04 Oct 2024 & \\textbf{  Prob (F-statistic):} & 3.00e-104   \\\\\n",
       "\\textbf{Time:}             &     17:55:39     & \\textbf{  Log-Likelihood:    } &   -85.906   \\\\\n",
       "\\textbf{No. Observations:} &         760      & \\textbf{  AIC:               } &     331.8   \\\\\n",
       "\\textbf{Df Residuals:}     &         680      & \\textbf{  BIC:               } &     702.5   \\\\\n",
       "\\textbf{Df Model:}         &          79      & \\textbf{                     } &             \\\\\n",
       "\\textbf{Covariance Type:}  &    nonrobust     & \\textbf{                     } &             \\\\\n",
       "\\bottomrule\n",
       "\\end{tabular}\n",
       "\\begin{tabular}{lcccccc}\n",
       "                           & \\textbf{coef} & \\textbf{std err} & \\textbf{t} & \\textbf{P$> |$t$|$} & \\textbf{[0.025} & \\textbf{0.975]}  \\\\\n",
       "\\midrule\n",
       "\\textbf{const}             &      -0.2672  &        0.229     &    -1.169  &         0.243        &       -0.716    &        0.182     \\\\\n",
       "\\textbf{cp}                &       0.0152  &        0.024     &     0.640  &         0.522        &       -0.031    &        0.062     \\\\\n",
       "\\textbf{ie}                &      -0.0151  &        0.011     &    -1.324  &         0.186        &       -0.037    &        0.007     \\\\\n",
       "\\textbf{mew}               &       0.0259  &        0.012     &     2.189  &         0.029        &        0.003    &        0.049     \\\\\n",
       "\\textbf{meg}               &       0.0078  &        0.018     &     0.445  &         0.657        &       -0.027    &        0.042     \\\\\n",
       "\\textbf{megmax}            &       0.0181  &        0.017     &     1.082  &         0.280        &       -0.015    &        0.051     \\\\\n",
       "\\textbf{cmin}              &      -0.0089  &        0.010     &    -0.932  &         0.352        &       -0.028    &        0.010     \\\\\n",
       "\\textbf{dbusl}             &      -0.0037  &        0.014     &    -0.258  &         0.796        &       -0.032    &        0.024     \\\\\n",
       "\\textbf{dtraml}            &       0.0204  &        0.016     &     1.312  &         0.190        &       -0.010    &        0.051     \\\\\n",
       "\\textbf{dtrainl}           &       0.0202  &        0.014     &     1.458  &         0.145        &       -0.007    &        0.047     \\\\\n",
       "\\textbf{dplight}           &       0.0105  &        0.012     &     0.884  &         0.377        &       -0.013    &        0.034     \\\\\n",
       "\\textbf{dstation}          &       0.0048  &        0.014     &     0.346  &         0.730        &       -0.022    &        0.032     \\\\\n",
       "\\textbf{dparkcar}          &      -0.0090  &        0.014     &    -0.633  &         0.527        &       -0.037    &        0.019     \\\\\n",
       "\\textbf{dparktw}           &       0.0049  &        0.013     &     0.370  &         0.711        &       -0.021    &        0.031     \\\\\n",
       "\\textbf{dpedcro}           &      -0.0034  &        0.013     &    -0.259  &         0.796        &       -0.030    &        0.023     \\\\\n",
       "\\textbf{dstopsign}         &       0.0210  &        0.016     &     1.353  &         0.176        &       -0.009    &        0.051     \\\\\n",
       "\\textbf{dtrafficarea}      &       0.0300  &        0.018     &     1.712  &         0.087        &       -0.004    &        0.064     \\\\\n",
       "\\textbf{droad}             &       0.0069  &        0.013     &     0.536  &         0.592        &       -0.018    &        0.032     \\\\\n",
       "\\textbf{dvfpath}           &      -0.0190  &        0.013     &    -1.498  &         0.135        &       -0.044    &        0.006     \\\\\n",
       "\\textbf{gvm\\_dwv}          &      -0.0136  &        0.014     &    -0.997  &         0.319        &       -0.040    &        0.013     \\\\\n",
       "\\textbf{bicyclecount}      &      -0.0144  &        0.013     &    -1.130  &         0.259        &       -0.039    &        0.011     \\\\\n",
       "\\textbf{carcount}          &       0.0077  &        0.013     &     0.584  &         0.560        &       -0.018    &        0.034     \\\\\n",
       "\\textbf{r\\_width\\_value}   &      -0.1172  &        0.026     &    -4.479  &         0.000        &       -0.169    &       -0.066     \\\\\n",
       "\\textbf{speedlimit\\_value} &      -0.0601  &        0.024     &    -2.534  &         0.011        &       -0.107    &       -0.014     \\\\\n",
       "\\textbf{z\\_qnr\\_1}         &       0.7743  &        0.161     &     4.817  &         0.000        &        0.459    &        1.090     \\\\\n",
       "\\textbf{z\\_qnr\\_2}         &       0.4832  &        0.158     &     3.057  &         0.002        &        0.173    &        0.794     \\\\\n",
       "\\textbf{z\\_qnr\\_3}         &       0.6006  &        0.156     &     3.862  &         0.000        &        0.295    &        0.906     \\\\\n",
       "\\textbf{z\\_qnr\\_4}         &       0.6057  &        0.161     &     3.752  &         0.000        &        0.289    &        0.923     \\\\\n",
       "\\textbf{z\\_qnr\\_5}         &       0.5409  &        0.132     &     4.103  &         0.000        &        0.282    &        0.800     \\\\\n",
       "\\textbf{z\\_qnr\\_6}         &       0.3804  &        0.150     &     2.535  &         0.011        &        0.086    &        0.675     \\\\\n",
       "\\textbf{z\\_qnr\\_7}         &       0.9068  &        0.156     &     5.797  &         0.000        &        0.600    &        1.214     \\\\\n",
       "\\textbf{z\\_qnr\\_8}         &       0.6816  &        0.134     &     5.097  &         0.000        &        0.419    &        0.944     \\\\\n",
       "\\textbf{z\\_qnr\\_9}         &       0.6444  &        0.170     &     3.782  &         0.000        &        0.310    &        0.979     \\\\\n",
       "\\textbf{z\\_qnr\\_10}        &      -0.2256  &        0.129     &    -1.755  &         0.080        &       -0.478    &        0.027     \\\\\n",
       "\\textbf{z\\_qnr\\_11}        &       0.5777  &        0.118     &     4.887  &         0.000        &        0.346    &        0.810     \\\\\n",
       "\\textbf{z\\_qnr\\_12}        &       0.5832  &        0.111     &     5.231  &         0.000        &        0.364    &        0.802     \\\\\n",
       "\\textbf{z\\_qnr\\_13}        &      -0.1000  &        0.132     &    -0.761  &         0.447        &       -0.358    &        0.158     \\\\\n",
       "\\textbf{z\\_qnr\\_14}        &       0.6233  &        0.128     &     4.865  &         0.000        &        0.372    &        0.875     \\\\\n",
       "\\textbf{z\\_qnr\\_15}        &       0.6316  &        0.142     &     4.463  &         0.000        &        0.354    &        0.910     \\\\\n",
       "\\textbf{z\\_qnr\\_16}        &       0.3646  &        0.147     &     2.485  &         0.013        &        0.077    &        0.653     \\\\\n",
       "\\textbf{z\\_qnr\\_17}        &       0.2220  &        0.116     &     1.920  &         0.055        &       -0.005    &        0.449     \\\\\n",
       "\\textbf{z\\_qnr\\_18}        &       0.3606  &        0.129     &     2.802  &         0.005        &        0.108    &        0.613     \\\\\n",
       "\\textbf{z\\_qnr\\_19}        &       0.1663  &        0.122     &     1.362  &         0.174        &       -0.073    &        0.406     \\\\\n",
       "\\textbf{z\\_qnr\\_20}        &       0.0379  &        0.124     &     0.306  &         0.759        &       -0.205    &        0.281     \\\\\n",
       "\\textbf{z\\_qnr\\_21}        &       0.3636  &        0.129     &     2.822  &         0.005        &        0.111    &        0.617     \\\\\n",
       "\\textbf{z\\_qnr\\_22}        &       0.2148  &        0.109     &     1.971  &         0.049        &        0.001    &        0.429     \\\\\n",
       "\\textbf{z\\_qnr\\_23}        &      -0.0088  &        0.137     &    -0.064  &         0.949        &       -0.279    &        0.261     \\\\\n",
       "\\textbf{z\\_qnr\\_24}        &       0.2286  &        0.115     &     1.980  &         0.048        &        0.002    &        0.455     \\\\\n",
       "\\textbf{z\\_qnr\\_25}        &       0.1100  &        0.120     &     0.915  &         0.361        &       -0.126    &        0.346     \\\\\n",
       "\\textbf{z\\_qnr\\_26}        &       0.1177  &        0.151     &     0.777  &         0.437        &       -0.180    &        0.415     \\\\\n",
       "\\textbf{z\\_qnr\\_27}        &      -0.0222  &        0.158     &    -0.141  &         0.888        &       -0.332    &        0.288     \\\\\n",
       "\\textbf{z\\_qnr\\_28}        &       0.1215  &        0.181     &     0.673  &         0.501        &       -0.233    &        0.476     \\\\\n",
       "\\textbf{z\\_qnr\\_29}        &       0.1621  &        0.133     &     1.220  &         0.223        &       -0.099    &        0.423     \\\\\n",
       "\\textbf{z\\_qnr\\_30}        &       0.0256  &        0.126     &     0.203  &         0.839        &       -0.221    &        0.272     \\\\\n",
       "\\textbf{z\\_qnr\\_31}        &      -0.0977  &        0.202     &    -0.483  &         0.629        &       -0.495    &        0.300     \\\\\n",
       "\\textbf{z\\_qnr\\_32}        &      -0.0217  &        0.184     &    -0.118  &         0.906        &       -0.382    &        0.339     \\\\\n",
       "\\textbf{z\\_knr\\_1}         &      -0.6173  &        0.228     &    -2.712  &         0.007        &       -1.064    &       -0.170     \\\\\n",
       "\\textbf{z\\_knr\\_2}         &      -0.3875  &        0.226     &    -1.718  &         0.086        &       -0.830    &        0.055     \\\\\n",
       "\\textbf{z\\_knr\\_3}         &      -0.5664  &        0.225     &    -2.518  &         0.012        &       -1.008    &       -0.125     \\\\\n",
       "\\textbf{z\\_knr\\_4}         &      -0.1443  &        0.207     &    -0.699  &         0.485        &       -0.550    &        0.261     \\\\\n",
       "\\textbf{z\\_knr\\_5}         &       0.1098  &        0.208     &     0.527  &         0.598        &       -0.299    &        0.519     \\\\\n",
       "\\textbf{z\\_knr\\_6}         &      -0.6559  &        0.204     &    -3.216  &         0.001        &       -1.056    &       -0.255     \\\\\n",
       "\\textbf{z\\_knr\\_7}         &      -0.1497  &        0.193     &    -0.775  &         0.439        &       -0.529    &        0.230     \\\\\n",
       "\\textbf{z\\_knr\\_8}         &      -0.4659  &        0.214     &    -2.181  &         0.030        &       -0.885    &       -0.046     \\\\\n",
       "\\textbf{z\\_knr\\_9}         &       0.0515  &        0.206     &     0.249  &         0.803        &       -0.354    &        0.456     \\\\\n",
       "\\textbf{z\\_knr\\_10}        &      -0.0027  &        0.186     &    -0.014  &         0.988        &       -0.367    &        0.362     \\\\\n",
       "\\textbf{z\\_knr\\_11}        &      -0.1929  &        0.189     &    -1.020  &         0.308        &       -0.565    &        0.179     \\\\\n",
       "\\textbf{trafficarea\\_1}    &      -0.1988  &        0.077     &    -2.583  &         0.010        &       -0.350    &       -0.048     \\\\\n",
       "\\textbf{trafficarea\\_2}    &      -0.3910  &        0.085     &    -4.599  &         0.000        &       -0.558    &       -0.224     \\\\\n",
       "\\textbf{r\\_width\\_1}       &       0.1959  &        0.080     &     2.460  &         0.014        &        0.040    &        0.352     \\\\\n",
       "\\textbf{r\\_width\\_2}       &       0.0870  &        0.084     &     1.035  &         0.301        &       -0.078    &        0.252     \\\\\n",
       "\\textbf{r\\_width\\_3}       &       0.4157  &        0.113     &     3.692  &         0.000        &        0.195    &        0.637     \\\\\n",
       "\\textbf{r\\_width\\_4}       &       0.3635  &        0.083     &     4.370  &         0.000        &        0.200    &        0.527     \\\\\n",
       "\\textbf{r\\_width\\_5}       &       0.4147  &        0.099     &     4.179  &         0.000        &        0.220    &        0.610     \\\\\n",
       "\\textbf{r\\_width\\_6}       &       0.3593  &        0.099     &     3.617  &         0.000        &        0.164    &        0.554     \\\\\n",
       "\\textbf{r\\_surface\\_1}     &       0.2862  &        0.080     &     3.598  &         0.000        &        0.130    &        0.442     \\\\\n",
       "\\textbf{speedlimit\\_1}     &       0.0453  &        0.056     &     0.814  &         0.416        &       -0.064    &        0.155     \\\\\n",
       "\\textbf{speedlimit\\_3}     &      -0.0468  &        0.069     &    -0.679  &         0.497        &       -0.182    &        0.088     \\\\\n",
       "\\textbf{speedlimit\\_4}     &       0.5627  &        0.066     &     8.579  &         0.000        &        0.434    &        0.692     \\\\\n",
       "\\textbf{speedlimit\\_5}     &      -0.0803  &        0.109     &    -0.738  &         0.461        &       -0.294    &        0.133     \\\\\n",
       "\\bottomrule\n",
       "\\end{tabular}\n",
       "\\begin{tabular}{lclc}\n",
       "\\textbf{Omnibus:}       & 81.679 & \\textbf{  Durbin-Watson:     } &    1.996  \\\\\n",
       "\\textbf{Prob(Omnibus):} &  0.000 & \\textbf{  Jarque-Bera (JB):  } &  143.528  \\\\\n",
       "\\textbf{Skew:}          &  0.694 & \\textbf{  Prob(JB):          } & 6.81e-32  \\\\\n",
       "\\textbf{Kurtosis:}      &  4.614 & \\textbf{  Cond. No.          } &     139.  \\\\\n",
       "\\bottomrule\n",
       "\\end{tabular}\n",
       "%\\caption{OLS Regression Results}\n",
       "\\end{center}\n",
       "\n",
       "Notes: \\newline\n",
       " [1] Standard Errors assume that the covariance matrix of the errors is correctly specified."
      ],
      "text/plain": [
       "<class 'statsmodels.iolib.summary.Summary'>\n",
       "\"\"\"\n",
       "                            OLS Regression Results                            \n",
       "==============================================================================\n",
       "Dep. Variable:                    acp   R-squared:                       0.635\n",
       "Model:                            OLS   Adj. R-squared:                  0.593\n",
       "Method:                 Least Squares   F-statistic:                     14.98\n",
       "Date:                Fri, 04 Oct 2024   Prob (F-statistic):          3.00e-104\n",
       "Time:                        17:55:39   Log-Likelihood:                -85.906\n",
       "No. Observations:                 760   AIC:                             331.8\n",
       "Df Residuals:                     680   BIC:                             702.5\n",
       "Df Model:                          79                                         \n",
       "Covariance Type:            nonrobust                                         \n",
       "====================================================================================\n",
       "                       coef    std err          t      P>|t|      [0.025      0.975]\n",
       "------------------------------------------------------------------------------------\n",
       "const               -0.2672      0.229     -1.169      0.243      -0.716       0.182\n",
       "cp                   0.0152      0.024      0.640      0.522      -0.031       0.062\n",
       "ie                  -0.0151      0.011     -1.324      0.186      -0.037       0.007\n",
       "mew                  0.0259      0.012      2.189      0.029       0.003       0.049\n",
       "meg                  0.0078      0.018      0.445      0.657      -0.027       0.042\n",
       "megmax               0.0181      0.017      1.082      0.280      -0.015       0.051\n",
       "cmin                -0.0089      0.010     -0.932      0.352      -0.028       0.010\n",
       "dbusl               -0.0037      0.014     -0.258      0.796      -0.032       0.024\n",
       "dtraml               0.0204      0.016      1.312      0.190      -0.010       0.051\n",
       "dtrainl              0.0202      0.014      1.458      0.145      -0.007       0.047\n",
       "dplight              0.0105      0.012      0.884      0.377      -0.013       0.034\n",
       "dstation             0.0048      0.014      0.346      0.730      -0.022       0.032\n",
       "dparkcar            -0.0090      0.014     -0.633      0.527      -0.037       0.019\n",
       "dparktw              0.0049      0.013      0.370      0.711      -0.021       0.031\n",
       "dpedcro             -0.0034      0.013     -0.259      0.796      -0.030       0.023\n",
       "dstopsign            0.0210      0.016      1.353      0.176      -0.009       0.051\n",
       "dtrafficarea         0.0300      0.018      1.712      0.087      -0.004       0.064\n",
       "droad                0.0069      0.013      0.536      0.592      -0.018       0.032\n",
       "dvfpath             -0.0190      0.013     -1.498      0.135      -0.044       0.006\n",
       "gvm_dwv             -0.0136      0.014     -0.997      0.319      -0.040       0.013\n",
       "bicyclecount        -0.0144      0.013     -1.130      0.259      -0.039       0.011\n",
       "carcount             0.0077      0.013      0.584      0.560      -0.018       0.034\n",
       "r_width_value       -0.1172      0.026     -4.479      0.000      -0.169      -0.066\n",
       "speedlimit_value    -0.0601      0.024     -2.534      0.011      -0.107      -0.014\n",
       "z_qnr_1              0.7743      0.161      4.817      0.000       0.459       1.090\n",
       "z_qnr_2              0.4832      0.158      3.057      0.002       0.173       0.794\n",
       "z_qnr_3              0.6006      0.156      3.862      0.000       0.295       0.906\n",
       "z_qnr_4              0.6057      0.161      3.752      0.000       0.289       0.923\n",
       "z_qnr_5              0.5409      0.132      4.103      0.000       0.282       0.800\n",
       "z_qnr_6              0.3804      0.150      2.535      0.011       0.086       0.675\n",
       "z_qnr_7              0.9068      0.156      5.797      0.000       0.600       1.214\n",
       "z_qnr_8              0.6816      0.134      5.097      0.000       0.419       0.944\n",
       "z_qnr_9              0.6444      0.170      3.782      0.000       0.310       0.979\n",
       "z_qnr_10            -0.2256      0.129     -1.755      0.080      -0.478       0.027\n",
       "z_qnr_11             0.5777      0.118      4.887      0.000       0.346       0.810\n",
       "z_qnr_12             0.5832      0.111      5.231      0.000       0.364       0.802\n",
       "z_qnr_13            -0.1000      0.132     -0.761      0.447      -0.358       0.158\n",
       "z_qnr_14             0.6233      0.128      4.865      0.000       0.372       0.875\n",
       "z_qnr_15             0.6316      0.142      4.463      0.000       0.354       0.910\n",
       "z_qnr_16             0.3646      0.147      2.485      0.013       0.077       0.653\n",
       "z_qnr_17             0.2220      0.116      1.920      0.055      -0.005       0.449\n",
       "z_qnr_18             0.3606      0.129      2.802      0.005       0.108       0.613\n",
       "z_qnr_19             0.1663      0.122      1.362      0.174      -0.073       0.406\n",
       "z_qnr_20             0.0379      0.124      0.306      0.759      -0.205       0.281\n",
       "z_qnr_21             0.3636      0.129      2.822      0.005       0.111       0.617\n",
       "z_qnr_22             0.2148      0.109      1.971      0.049       0.001       0.429\n",
       "z_qnr_23            -0.0088      0.137     -0.064      0.949      -0.279       0.261\n",
       "z_qnr_24             0.2286      0.115      1.980      0.048       0.002       0.455\n",
       "z_qnr_25             0.1100      0.120      0.915      0.361      -0.126       0.346\n",
       "z_qnr_26             0.1177      0.151      0.777      0.437      -0.180       0.415\n",
       "z_qnr_27            -0.0222      0.158     -0.141      0.888      -0.332       0.288\n",
       "z_qnr_28             0.1215      0.181      0.673      0.501      -0.233       0.476\n",
       "z_qnr_29             0.1621      0.133      1.220      0.223      -0.099       0.423\n",
       "z_qnr_30             0.0256      0.126      0.203      0.839      -0.221       0.272\n",
       "z_qnr_31            -0.0977      0.202     -0.483      0.629      -0.495       0.300\n",
       "z_qnr_32            -0.0217      0.184     -0.118      0.906      -0.382       0.339\n",
       "z_knr_1             -0.6173      0.228     -2.712      0.007      -1.064      -0.170\n",
       "z_knr_2             -0.3875      0.226     -1.718      0.086      -0.830       0.055\n",
       "z_knr_3             -0.5664      0.225     -2.518      0.012      -1.008      -0.125\n",
       "z_knr_4             -0.1443      0.207     -0.699      0.485      -0.550       0.261\n",
       "z_knr_5              0.1098      0.208      0.527      0.598      -0.299       0.519\n",
       "z_knr_6             -0.6559      0.204     -3.216      0.001      -1.056      -0.255\n",
       "z_knr_7             -0.1497      0.193     -0.775      0.439      -0.529       0.230\n",
       "z_knr_8             -0.4659      0.214     -2.181      0.030      -0.885      -0.046\n",
       "z_knr_9              0.0515      0.206      0.249      0.803      -0.354       0.456\n",
       "z_knr_10            -0.0027      0.186     -0.014      0.988      -0.367       0.362\n",
       "z_knr_11            -0.1929      0.189     -1.020      0.308      -0.565       0.179\n",
       "trafficarea_1       -0.1988      0.077     -2.583      0.010      -0.350      -0.048\n",
       "trafficarea_2       -0.3910      0.085     -4.599      0.000      -0.558      -0.224\n",
       "r_width_1            0.1959      0.080      2.460      0.014       0.040       0.352\n",
       "r_width_2            0.0870      0.084      1.035      0.301      -0.078       0.252\n",
       "r_width_3            0.4157      0.113      3.692      0.000       0.195       0.637\n",
       "r_width_4            0.3635      0.083      4.370      0.000       0.200       0.527\n",
       "r_width_5            0.4147      0.099      4.179      0.000       0.220       0.610\n",
       "r_width_6            0.3593      0.099      3.617      0.000       0.164       0.554\n",
       "r_surface_1          0.2862      0.080      3.598      0.000       0.130       0.442\n",
       "speedlimit_1         0.0453      0.056      0.814      0.416      -0.064       0.155\n",
       "speedlimit_3        -0.0468      0.069     -0.679      0.497      -0.182       0.088\n",
       "speedlimit_4         0.5627      0.066      8.579      0.000       0.434       0.692\n",
       "speedlimit_5        -0.0803      0.109     -0.738      0.461      -0.294       0.133\n",
       "==============================================================================\n",
       "Omnibus:                       81.679   Durbin-Watson:                   1.996\n",
       "Prob(Omnibus):                  0.000   Jarque-Bera (JB):              143.528\n",
       "Skew:                           0.694   Prob(JB):                     6.81e-32\n",
       "Kurtosis:                       4.614   Cond. No.                         139.\n",
       "==============================================================================\n",
       "\n",
       "Notes:\n",
       "[1] Standard Errors assume that the covariance matrix of the errors is correctly specified.\n",
       "\"\"\""
      ]
     },
     "execution_count": 33,
     "metadata": {},
     "output_type": "execute_result"
    }
   ],
   "source": [
    "# OLS\n",
    "X_train, X_test, y_train, y_test = train_test_split(\n",
    "        x_const, y,\n",
    "        test_size=0.3,\n",
    "        random_state=2)\n",
    "\n",
    "m00_split = sm.OLS(y_train, X_train)\n",
    "r00_split = m00_split.fit()\n",
    "r00_split.summary()"
   ]
  },
  {
   "cell_type": "code",
   "execution_count": 34,
   "id": "bfe2a86c-c965-4207-bbbd-7380fa3c694e",
   "metadata": {
    "execution": {
     "iopub.execute_input": "2024-10-04T15:55:40.190257Z",
     "iopub.status.busy": "2024-10-04T15:55:40.188687Z",
     "iopub.status.idle": "2024-10-04T15:55:40.352683Z",
     "shell.execute_reply": "2024-10-04T15:55:40.351945Z",
     "shell.execute_reply.started": "2024-10-04T15:55:40.190230Z"
    }
   },
   "outputs": [
    {
     "name": "stdout",
     "output_type": "stream",
     "text": [
      "\n",
      "Test accuracy : \n",
      " 0.8960244648318043\n",
      "\n",
      "Confusion Matrix : \n",
      " [[234  10]\n",
      " [ 24  59]]\n"
     ]
    },
    {
     "data": {
      "text/plain": [
       "<sklearn.metrics._plot.confusion_matrix.ConfusionMatrixDisplay at 0x14f9fae18510>"
      ]
     },
     "execution_count": 34,
     "metadata": {},
     "output_type": "execute_result"
    },
    {
     "data": {
      "image/png": "[encoded data removed]",
      "text/plain": [
       "<Figure size 640x480 with 2 Axes>"
      ]
     },
     "metadata": {},
     "output_type": "display_data"
    }
   ],
   "source": [
    "pred00split = r00_split.predict(X_test)\n",
    "pred00split = list(map(round,pred00split))\n",
    "print('\\nTest accuracy : \\n', accuracy_score(y_test, pred00split))\n",
    "cm00split = confusion_matrix(y_test, pred00split) \n",
    "print ('\\nConfusion Matrix : \\n', cm00split) \n",
    "cm00split_display = metrics.ConfusionMatrixDisplay(confusion_matrix = cm00split)\n",
    "cm00split_display.plot()"
   ]
  },
  {
   "cell_type": "code",
   "execution_count": 35,
   "id": "69c19d28-27cd-4c98-a5a1-2e1d3ab22b14",
   "metadata": {
    "execution": {
     "iopub.execute_input": "2024-10-04T15:55:41.486411Z",
     "iopub.status.busy": "2024-10-04T15:55:41.485453Z",
     "iopub.status.idle": "2024-10-04T15:55:41.499639Z",
     "shell.execute_reply": "2024-10-04T15:55:41.499021Z",
     "shell.execute_reply.started": "2024-10-04T15:55:41.486389Z"
    }
   },
   "outputs": [
    {
     "name": "stdout",
     "output_type": "stream",
     "text": [
      "accuracy 0.8960244648318043\n",
      "precision [0.90697674 0.85507246]\n",
      "sensitivity recall [0.95901639 0.71084337]\n",
      "f1 score [0.93227092 0.77631579]\n",
      "mean precision 0.8810246039770813\n",
      "mean recall 0.8349298834682994\n",
      "mean f1 score 0.8542933529041727\n"
     ]
    }
   ],
   "source": [
    "acc_ols_sp = metrics.accuracy_score(y_test, pred00split)\n",
    "print('accuracy', acc_ols_sp)\n",
    "\n",
    "pre_ols_sp = metrics.precision_score(y_test, pred00split, average = None)\n",
    "print('precision', pre_ols_sp)\n",
    "\n",
    "senrec_ols_sp = metrics.recall_score(y_test, pred00split, average = None)\n",
    "print('sensitivity recall', senrec_ols_sp)\n",
    "\n",
    "f1_ols_sp = metrics.f1_score(y_test, pred00split, average = None)\n",
    "print('f1 score', f1_ols_sp)\n",
    "\n",
    "pre_ols_sp_m = np.mean(pre_ols_sp)\n",
    "senrec_ols_sp_m = np.mean(senrec_ols_sp)\n",
    "f1_ols_sp_m = np.mean(f1_ols_sp)\n",
    "print('mean precision', pre_ols_sp_m)\n",
    "print('mean recall', senrec_ols_sp_m)\n",
    "print('mean f1 score', f1_ols_sp_m)"
   ]
  },
  {
   "cell_type": "markdown",
   "id": "a327603c-ad68-4b69-95c7-06df6d4e2054",
   "metadata": {},
   "source": [
    "## Logistic regression"
   ]
  },
  {
   "cell_type": "markdown",
   "id": "79ac4aef-1e11-48d8-9ccd-98481b9df280",
   "metadata": {
    "execution": {
     "iopub.execute_input": "2024-09-02T18:01:13.342604Z",
     "iopub.status.busy": "2024-09-02T18:01:13.341768Z",
     "iopub.status.idle": "2024-09-02T18:01:13.345485Z",
     "shell.execute_reply": "2024-09-02T18:01:13.344931Z",
     "shell.execute_reply.started": "2024-09-02T18:01:13.342578Z"
    }
   },
   "source": [
    "### Without data splitting"
   ]
  },
  {
   "cell_type": "code",
   "execution_count": 43,
   "id": "12ecebde-f940-4f16-abf8-dff0f73a72f6",
   "metadata": {
    "execution": {
     "iopub.execute_input": "2024-10-04T15:57:57.590219Z",
     "iopub.status.busy": "2024-10-04T15:57:57.588779Z",
     "iopub.status.idle": "2024-10-04T15:58:00.538658Z",
     "shell.execute_reply": "2024-10-04T15:58:00.538089Z",
     "shell.execute_reply.started": "2024-10-04T15:57:57.590163Z"
    },
    "scrolled": true
   },
   "outputs": [
    {
     "name": "stderr",
     "output_type": "stream",
     "text": [
      "/opt/conda/lib/python3.11/site-packages/statsmodels/base/model.py:130: ValueWarning: unknown kwargs ['max_iter']\n",
      "  warnings.warn(msg, ValueWarning)\n"
     ]
    },
    {
     "name": "stdout",
     "output_type": "stream",
     "text": [
      "Optimization terminated successfully    (Exit mode 0)\n",
      "            Current function value: 0.17963519894652716\n",
      "            Iterations: 544\n",
      "            Function evaluations: 544\n",
      "            Gradient evaluations: 544\n"
     ]
    },
    {
     "name": "stderr",
     "output_type": "stream",
     "text": [
      "/opt/conda/lib/python3.11/site-packages/statsmodels/base/model.py:130: ValueWarning: unknown kwargs ['max_iter']\n",
      "  warnings.warn(msg, ValueWarning)\n"
     ]
    },
    {
     "data": {
      "text/html": [
       "<table class=\"simpletable\">\n",
       "<caption>Logit Regression Results</caption>\n",
       "<tr>\n",
       "  <th>Dep. Variable:</th>          <td>acp</td>       <th>  No. Observations:  </th>   <td>  1087</td>  \n",
       "</tr>\n",
       "<tr>\n",
       "  <th>Model:</th>                 <td>Logit</td>      <th>  Df Residuals:      </th>   <td>  1007</td>  \n",
       "</tr>\n",
       "<tr>\n",
       "  <th>Method:</th>                 <td>MLE</td>       <th>  Df Model:          </th>   <td>    79</td>  \n",
       "</tr>\n",
       "<tr>\n",
       "  <th>Date:</th>            <td>Fri, 04 Oct 2024</td> <th>  Pseudo R-squ.:     </th>   <td>0.6927</td>  \n",
       "</tr>\n",
       "<tr>\n",
       "  <th>Time:</th>                <td>17:58:00</td>     <th>  Log-Likelihood:    </th>  <td> -195.26</td> \n",
       "</tr>\n",
       "<tr>\n",
       "  <th>converged:</th>             <td>True</td>       <th>  LL-Null:           </th>  <td> -635.50</td> \n",
       "</tr>\n",
       "<tr>\n",
       "  <th>Covariance Type:</th>     <td>nonrobust</td>    <th>  LLR p-value:       </th> <td>1.309e-135</td>\n",
       "</tr>\n",
       "</table>\n",
       "<table class=\"simpletable\">\n",
       "<tr>\n",
       "          <td></td>            <th>coef</th>     <th>std err</th>      <th>z</th>      <th>P>|z|</th>  <th>[0.025</th>    <th>0.975]</th>  \n",
       "</tr>\n",
       "<tr>\n",
       "  <th>const</th>            <td>  -19.5750</td> <td>  974.543</td> <td>   -0.020</td> <td> 0.984</td> <td>-1929.645</td> <td> 1890.495</td>\n",
       "</tr>\n",
       "<tr>\n",
       "  <th>cp</th>               <td>   -0.5092</td> <td>    0.333</td> <td>   -1.530</td> <td> 0.126</td> <td>   -1.161</td> <td>    0.143</td>\n",
       "</tr>\n",
       "<tr>\n",
       "  <th>ie</th>               <td>   -0.1649</td> <td>    0.149</td> <td>   -1.108</td> <td> 0.268</td> <td>   -0.456</td> <td>    0.127</td>\n",
       "</tr>\n",
       "<tr>\n",
       "  <th>mew</th>              <td>    0.4109</td> <td>    0.163</td> <td>    2.523</td> <td> 0.012</td> <td>    0.092</td> <td>    0.730</td>\n",
       "</tr>\n",
       "<tr>\n",
       "  <th>meg</th>              <td>    0.2230</td> <td>    0.235</td> <td>    0.950</td> <td> 0.342</td> <td>   -0.237</td> <td>    0.683</td>\n",
       "</tr>\n",
       "<tr>\n",
       "  <th>megmax</th>           <td>   -0.0177</td> <td>    0.222</td> <td>   -0.080</td> <td> 0.936</td> <td>   -0.452</td> <td>    0.417</td>\n",
       "</tr>\n",
       "<tr>\n",
       "  <th>cmin</th>             <td>   -0.0987</td> <td>    0.185</td> <td>   -0.533</td> <td> 0.594</td> <td>   -0.462</td> <td>    0.265</td>\n",
       "</tr>\n",
       "<tr>\n",
       "  <th>dbusl</th>            <td>   -0.4267</td> <td>    0.201</td> <td>   -2.127</td> <td> 0.033</td> <td>   -0.820</td> <td>   -0.033</td>\n",
       "</tr>\n",
       "<tr>\n",
       "  <th>dtraml</th>           <td>    0.5010</td> <td>    0.221</td> <td>    2.271</td> <td> 0.023</td> <td>    0.069</td> <td>    0.933</td>\n",
       "</tr>\n",
       "<tr>\n",
       "  <th>dtrainl</th>          <td>    0.4242</td> <td>    0.186</td> <td>    2.280</td> <td> 0.023</td> <td>    0.059</td> <td>    0.789</td>\n",
       "</tr>\n",
       "<tr>\n",
       "  <th>dplight</th>          <td>    0.1238</td> <td>    0.158</td> <td>    0.783</td> <td> 0.434</td> <td>   -0.186</td> <td>    0.434</td>\n",
       "</tr>\n",
       "<tr>\n",
       "  <th>dstation</th>         <td>    0.0826</td> <td>    0.197</td> <td>    0.420</td> <td> 0.675</td> <td>   -0.303</td> <td>    0.468</td>\n",
       "</tr>\n",
       "<tr>\n",
       "  <th>dparkcar</th>         <td>   -0.1056</td> <td>    0.181</td> <td>   -0.583</td> <td> 0.560</td> <td>   -0.461</td> <td>    0.250</td>\n",
       "</tr>\n",
       "<tr>\n",
       "  <th>dparktw</th>          <td>   -0.2119</td> <td>    0.186</td> <td>   -1.138</td> <td> 0.255</td> <td>   -0.577</td> <td>    0.153</td>\n",
       "</tr>\n",
       "<tr>\n",
       "  <th>dpedcro</th>          <td>   -0.0287</td> <td>    0.171</td> <td>   -0.167</td> <td> 0.867</td> <td>   -0.365</td> <td>    0.307</td>\n",
       "</tr>\n",
       "<tr>\n",
       "  <th>dstopsign</th>        <td>    0.4930</td> <td>    0.210</td> <td>    2.345</td> <td> 0.019</td> <td>    0.081</td> <td>    0.905</td>\n",
       "</tr>\n",
       "<tr>\n",
       "  <th>dtrafficarea</th>     <td>    0.1894</td> <td>    0.205</td> <td>    0.925</td> <td> 0.355</td> <td>   -0.212</td> <td>    0.591</td>\n",
       "</tr>\n",
       "<tr>\n",
       "  <th>droad</th>            <td>   -0.1058</td> <td>    0.179</td> <td>   -0.591</td> <td> 0.554</td> <td>   -0.456</td> <td>    0.245</td>\n",
       "</tr>\n",
       "<tr>\n",
       "  <th>dvfpath</th>          <td>   -0.2845</td> <td>    0.176</td> <td>   -1.616</td> <td> 0.106</td> <td>   -0.630</td> <td>    0.061</td>\n",
       "</tr>\n",
       "<tr>\n",
       "  <th>gvm_dwv</th>          <td>   -0.0892</td> <td>    0.170</td> <td>   -0.526</td> <td> 0.599</td> <td>   -0.422</td> <td>    0.243</td>\n",
       "</tr>\n",
       "<tr>\n",
       "  <th>bicyclecount</th>     <td>   -0.3509</td> <td>    0.180</td> <td>   -1.944</td> <td> 0.052</td> <td>   -0.705</td> <td>    0.003</td>\n",
       "</tr>\n",
       "<tr>\n",
       "  <th>carcount</th>         <td>    0.1421</td> <td>    0.173</td> <td>    0.820</td> <td> 0.412</td> <td>   -0.198</td> <td>    0.482</td>\n",
       "</tr>\n",
       "<tr>\n",
       "  <th>r_width_value</th>    <td>   -1.7606</td> <td>    0.353</td> <td>   -4.983</td> <td> 0.000</td> <td>   -2.453</td> <td>   -1.068</td>\n",
       "</tr>\n",
       "<tr>\n",
       "  <th>speedlimit_value</th> <td>   -0.5239</td> <td>    0.432</td> <td>   -1.213</td> <td> 0.225</td> <td>   -1.371</td> <td>    0.323</td>\n",
       "</tr>\n",
       "<tr>\n",
       "  <th>z_qnr_1</th>          <td>   15.0330</td> <td>    2.704</td> <td>    5.560</td> <td> 0.000</td> <td>    9.734</td> <td>   20.332</td>\n",
       "</tr>\n",
       "<tr>\n",
       "  <th>z_qnr_2</th>          <td>    8.1528</td> <td>    2.325</td> <td>    3.507</td> <td> 0.000</td> <td>    3.596</td> <td>   12.709</td>\n",
       "</tr>\n",
       "<tr>\n",
       "  <th>z_qnr_3</th>          <td>   10.8552</td> <td>    2.493</td> <td>    4.355</td> <td> 0.000</td> <td>    5.970</td> <td>   15.741</td>\n",
       "</tr>\n",
       "<tr>\n",
       "  <th>z_qnr_4</th>          <td>   12.4778</td> <td>    2.735</td> <td>    4.562</td> <td> 0.000</td> <td>    7.117</td> <td>   17.838</td>\n",
       "</tr>\n",
       "<tr>\n",
       "  <th>z_qnr_5</th>          <td>    8.7568</td> <td>    2.208</td> <td>    3.965</td> <td> 0.000</td> <td>    4.429</td> <td>   13.085</td>\n",
       "</tr>\n",
       "<tr>\n",
       "  <th>z_qnr_6</th>          <td>    9.3274</td> <td>    3.355</td> <td>    2.780</td> <td> 0.005</td> <td>    2.751</td> <td>   15.903</td>\n",
       "</tr>\n",
       "<tr>\n",
       "  <th>z_qnr_7</th>          <td>   13.2912</td> <td>    2.332</td> <td>    5.700</td> <td> 0.000</td> <td>    8.721</td> <td>   17.861</td>\n",
       "</tr>\n",
       "<tr>\n",
       "  <th>z_qnr_8</th>          <td>   12.5813</td> <td>    2.228</td> <td>    5.646</td> <td> 0.000</td> <td>    8.214</td> <td>   16.949</td>\n",
       "</tr>\n",
       "<tr>\n",
       "  <th>z_qnr_9</th>          <td>   11.6207</td> <td>    2.683</td> <td>    4.332</td> <td> 0.000</td> <td>    6.363</td> <td>   16.879</td>\n",
       "</tr>\n",
       "<tr>\n",
       "  <th>z_qnr_10</th>         <td>    1.9400</td> <td>    2.161</td> <td>    0.898</td> <td> 0.369</td> <td>   -2.295</td> <td>    6.175</td>\n",
       "</tr>\n",
       "<tr>\n",
       "  <th>z_qnr_11</th>         <td>    9.1446</td> <td>    2.090</td> <td>    4.376</td> <td> 0.000</td> <td>    5.049</td> <td>   13.240</td>\n",
       "</tr>\n",
       "<tr>\n",
       "  <th>z_qnr_12</th>         <td>    9.3387</td> <td>    2.130</td> <td>    4.385</td> <td> 0.000</td> <td>    5.165</td> <td>   13.513</td>\n",
       "</tr>\n",
       "<tr>\n",
       "  <th>z_qnr_13</th>         <td>    2.7722</td> <td>    2.234</td> <td>    1.241</td> <td> 0.215</td> <td>   -1.606</td> <td>    7.151</td>\n",
       "</tr>\n",
       "<tr>\n",
       "  <th>z_qnr_14</th>         <td>    9.9924</td> <td>    2.425</td> <td>    4.120</td> <td> 0.000</td> <td>    5.239</td> <td>   14.746</td>\n",
       "</tr>\n",
       "<tr>\n",
       "  <th>z_qnr_15</th>         <td>   12.1342</td> <td>    2.294</td> <td>    5.291</td> <td> 0.000</td> <td>    7.639</td> <td>   16.629</td>\n",
       "</tr>\n",
       "<tr>\n",
       "  <th>z_qnr_16</th>         <td>    7.6276</td> <td>    2.185</td> <td>    3.491</td> <td> 0.000</td> <td>    3.345</td> <td>   11.910</td>\n",
       "</tr>\n",
       "<tr>\n",
       "  <th>z_qnr_17</th>         <td>    5.8811</td> <td>    2.200</td> <td>    2.674</td> <td> 0.007</td> <td>    1.570</td> <td>   10.192</td>\n",
       "</tr>\n",
       "<tr>\n",
       "  <th>z_qnr_18</th>         <td>    6.8511</td> <td>    2.187</td> <td>    3.132</td> <td> 0.002</td> <td>    2.564</td> <td>   11.138</td>\n",
       "</tr>\n",
       "<tr>\n",
       "  <th>z_qnr_19</th>         <td>    4.1346</td> <td>    2.090</td> <td>    1.978</td> <td> 0.048</td> <td>    0.038</td> <td>    8.232</td>\n",
       "</tr>\n",
       "<tr>\n",
       "  <th>z_qnr_20</th>         <td>    3.4731</td> <td>    2.128</td> <td>    1.632</td> <td> 0.103</td> <td>   -0.697</td> <td>    7.644</td>\n",
       "</tr>\n",
       "<tr>\n",
       "  <th>z_qnr_21</th>         <td>    7.2811</td> <td>    2.212</td> <td>    3.292</td> <td> 0.001</td> <td>    2.946</td> <td>   11.616</td>\n",
       "</tr>\n",
       "<tr>\n",
       "  <th>z_qnr_22</th>         <td>    3.1436</td> <td>    1.617</td> <td>    1.944</td> <td> 0.052</td> <td>   -0.026</td> <td>    6.314</td>\n",
       "</tr>\n",
       "<tr>\n",
       "  <th>z_qnr_23</th>         <td>    3.3525</td> <td>    2.337</td> <td>    1.435</td> <td> 0.151</td> <td>   -1.228</td> <td>    7.933</td>\n",
       "</tr>\n",
       "<tr>\n",
       "  <th>z_qnr_24</th>         <td>    2.7319</td> <td>    1.623</td> <td>    1.683</td> <td> 0.092</td> <td>   -0.449</td> <td>    5.913</td>\n",
       "</tr>\n",
       "<tr>\n",
       "  <th>z_qnr_25</th>         <td>   -0.0986</td> <td>    1.643</td> <td>   -0.060</td> <td> 0.952</td> <td>   -3.318</td> <td>    3.121</td>\n",
       "</tr>\n",
       "<tr>\n",
       "  <th>z_qnr_26</th>         <td>    0.9286</td> <td>    1.861</td> <td>    0.499</td> <td> 0.618</td> <td>   -2.718</td> <td>    4.575</td>\n",
       "</tr>\n",
       "<tr>\n",
       "  <th>z_qnr_27</th>         <td>   -0.1791</td> <td>    1.905</td> <td>   -0.094</td> <td> 0.925</td> <td>   -3.912</td> <td>    3.554</td>\n",
       "</tr>\n",
       "<tr>\n",
       "  <th>z_qnr_28</th>         <td>    4.9121</td> <td>    1.919</td> <td>    2.560</td> <td> 0.010</td> <td>    1.151</td> <td>    8.673</td>\n",
       "</tr>\n",
       "<tr>\n",
       "  <th>z_qnr_29</th>         <td>    4.9689</td> <td>    1.951</td> <td>    2.547</td> <td> 0.011</td> <td>    1.145</td> <td>    8.793</td>\n",
       "</tr>\n",
       "<tr>\n",
       "  <th>z_qnr_30</th>         <td>   -3.1055</td> <td>   42.505</td> <td>   -0.073</td> <td> 0.942</td> <td>  -86.414</td> <td>   80.203</td>\n",
       "</tr>\n",
       "<tr>\n",
       "  <th>z_qnr_31</th>         <td>   -8.9868</td> <td>   36.787</td> <td>   -0.244</td> <td> 0.807</td> <td>  -81.087</td> <td>   63.114</td>\n",
       "</tr>\n",
       "<tr>\n",
       "  <th>z_qnr_32</th>         <td>   -2.0355</td> <td>    2.097</td> <td>   -0.971</td> <td> 0.332</td> <td>   -6.145</td> <td>    2.074</td>\n",
       "</tr>\n",
       "<tr>\n",
       "  <th>z_knr_1</th>          <td>  -15.1171</td> <td>    2.921</td> <td>   -5.175</td> <td> 0.000</td> <td>  -20.843</td> <td>   -9.391</td>\n",
       "</tr>\n",
       "<tr>\n",
       "  <th>z_knr_2</th>          <td>   -7.8888</td> <td>    2.511</td> <td>   -3.142</td> <td> 0.002</td> <td>  -12.809</td> <td>   -2.968</td>\n",
       "</tr>\n",
       "<tr>\n",
       "  <th>z_knr_3</th>          <td>  -12.3440</td> <td>    2.637</td> <td>   -4.680</td> <td> 0.000</td> <td>  -17.513</td> <td>   -7.175</td>\n",
       "</tr>\n",
       "<tr>\n",
       "  <th>z_knr_4</th>          <td>   -6.3819</td> <td>    2.366</td> <td>   -2.698</td> <td> 0.007</td> <td>  -11.019</td> <td>   -1.745</td>\n",
       "</tr>\n",
       "<tr>\n",
       "  <th>z_knr_5</th>          <td>   -4.3907</td> <td>    2.439</td> <td>   -1.800</td> <td> 0.072</td> <td>   -9.171</td> <td>    0.389</td>\n",
       "</tr>\n",
       "<tr>\n",
       "  <th>z_knr_6</th>          <td>  -13.1276</td> <td>    2.466</td> <td>   -5.324</td> <td> 0.000</td> <td>  -17.960</td> <td>   -8.295</td>\n",
       "</tr>\n",
       "<tr>\n",
       "  <th>z_knr_7</th>          <td>   -6.5581</td> <td>    2.415</td> <td>   -2.716</td> <td> 0.007</td> <td>  -11.291</td> <td>   -1.825</td>\n",
       "</tr>\n",
       "<tr>\n",
       "  <th>z_knr_8</th>          <td>   -9.8963</td> <td>    2.478</td> <td>   -3.993</td> <td> 0.000</td> <td>  -14.754</td> <td>   -5.039</td>\n",
       "</tr>\n",
       "<tr>\n",
       "  <th>z_knr_9</th>          <td>   -3.6320</td> <td>    2.410</td> <td>   -1.507</td> <td> 0.132</td> <td>   -8.355</td> <td>    1.091</td>\n",
       "</tr>\n",
       "<tr>\n",
       "  <th>z_knr_10</th>         <td>   -2.5870</td> <td>    1.853</td> <td>   -1.396</td> <td> 0.163</td> <td>   -6.219</td> <td>    1.045</td>\n",
       "</tr>\n",
       "<tr>\n",
       "  <th>z_knr_11</th>         <td>   -3.8621</td> <td>    1.847</td> <td>   -2.091</td> <td> 0.037</td> <td>   -7.482</td> <td>   -0.242</td>\n",
       "</tr>\n",
       "<tr>\n",
       "  <th>trafficarea_1</th>    <td>   -2.6344</td> <td>    1.274</td> <td>   -2.068</td> <td> 0.039</td> <td>   -5.132</td> <td>   -0.137</td>\n",
       "</tr>\n",
       "<tr>\n",
       "  <th>trafficarea_2</th>    <td>   -5.2580</td> <td>    1.374</td> <td>   -3.826</td> <td> 0.000</td> <td>   -7.952</td> <td>   -2.564</td>\n",
       "</tr>\n",
       "<tr>\n",
       "  <th>r_width_1</th>        <td>    2.3841</td> <td>    0.932</td> <td>    2.559</td> <td> 0.011</td> <td>    0.558</td> <td>    4.210</td>\n",
       "</tr>\n",
       "<tr>\n",
       "  <th>r_width_2</th>        <td>   -1.1713</td> <td>    1.186</td> <td>   -0.988</td> <td> 0.323</td> <td>   -3.495</td> <td>    1.153</td>\n",
       "</tr>\n",
       "<tr>\n",
       "  <th>r_width_3</th>        <td>    5.8599</td> <td>    1.393</td> <td>    4.206</td> <td> 0.000</td> <td>    3.129</td> <td>    8.591</td>\n",
       "</tr>\n",
       "<tr>\n",
       "  <th>r_width_4</th>        <td>    3.0355</td> <td>    0.956</td> <td>    3.174</td> <td> 0.002</td> <td>    1.161</td> <td>    4.910</td>\n",
       "</tr>\n",
       "<tr>\n",
       "  <th>r_width_5</th>        <td>    5.3972</td> <td>    1.241</td> <td>    4.350</td> <td> 0.000</td> <td>    2.966</td> <td>    7.829</td>\n",
       "</tr>\n",
       "<tr>\n",
       "  <th>r_width_6</th>        <td>    4.3295</td> <td>    1.250</td> <td>    3.463</td> <td> 0.001</td> <td>    1.879</td> <td>    6.780</td>\n",
       "</tr>\n",
       "<tr>\n",
       "  <th>r_surface_1</th>      <td>   17.6138</td> <td>  974.540</td> <td>    0.018</td> <td> 0.986</td> <td>-1892.450</td> <td> 1927.678</td>\n",
       "</tr>\n",
       "<tr>\n",
       "  <th>speedlimit_1</th>     <td>    0.2168</td> <td>    0.824</td> <td>    0.263</td> <td> 0.793</td> <td>   -1.399</td> <td>    1.833</td>\n",
       "</tr>\n",
       "<tr>\n",
       "  <th>speedlimit_3</th>     <td>   -6.6124</td> <td>    2.009</td> <td>   -3.292</td> <td> 0.001</td> <td>  -10.550</td> <td>   -2.675</td>\n",
       "</tr>\n",
       "<tr>\n",
       "  <th>speedlimit_4</th>     <td>    5.5749</td> <td>    1.023</td> <td>    5.449</td> <td> 0.000</td> <td>    3.570</td> <td>    7.580</td>\n",
       "</tr>\n",
       "<tr>\n",
       "  <th>speedlimit_5</th>     <td>   -3.1921</td> <td>    2.836</td> <td>   -1.125</td> <td> 0.260</td> <td>   -8.751</td> <td>    2.367</td>\n",
       "</tr>\n",
       "</table><br/><br/>Possibly complete quasi-separation: A fraction 0.24 of observations can be<br/>perfectly predicted. This might indicate that there is complete<br/>quasi-separation. In this case some parameters will not be identified."
      ],
      "text/latex": [
       "\\begin{center}\n",
       "\\begin{tabular}{lclc}\n",
       "\\toprule\n",
       "\\textbf{Dep. Variable:}    &       acp        & \\textbf{  No. Observations:  } &     1087    \\\\\n",
       "\\textbf{Model:}            &      Logit       & \\textbf{  Df Residuals:      } &     1007    \\\\\n",
       "\\textbf{Method:}           &       MLE        & \\textbf{  Df Model:          } &       79    \\\\\n",
       "\\textbf{Date:}             & Fri, 04 Oct 2024 & \\textbf{  Pseudo R-squ.:     } &   0.6927    \\\\\n",
       "\\textbf{Time:}             &     17:58:00     & \\textbf{  Log-Likelihood:    } &   -195.26   \\\\\n",
       "\\textbf{converged:}        &       True       & \\textbf{  LL-Null:           } &   -635.50   \\\\\n",
       "\\textbf{Covariance Type:}  &    nonrobust     & \\textbf{  LLR p-value:       } & 1.309e-135  \\\\\n",
       "\\bottomrule\n",
       "\\end{tabular}\n",
       "\\begin{tabular}{lcccccc}\n",
       "                           & \\textbf{coef} & \\textbf{std err} & \\textbf{z} & \\textbf{P$> |$z$|$} & \\textbf{[0.025} & \\textbf{0.975]}  \\\\\n",
       "\\midrule\n",
       "\\textbf{const}             &     -19.5750  &      974.543     &    -0.020  &         0.984        &    -1929.645    &     1890.495     \\\\\n",
       "\\textbf{cp}                &      -0.5092  &        0.333     &    -1.530  &         0.126        &       -1.161    &        0.143     \\\\\n",
       "\\textbf{ie}                &      -0.1649  &        0.149     &    -1.108  &         0.268        &       -0.456    &        0.127     \\\\\n",
       "\\textbf{mew}               &       0.4109  &        0.163     &     2.523  &         0.012        &        0.092    &        0.730     \\\\\n",
       "\\textbf{meg}               &       0.2230  &        0.235     &     0.950  &         0.342        &       -0.237    &        0.683     \\\\\n",
       "\\textbf{megmax}            &      -0.0177  &        0.222     &    -0.080  &         0.936        &       -0.452    &        0.417     \\\\\n",
       "\\textbf{cmin}              &      -0.0987  &        0.185     &    -0.533  &         0.594        &       -0.462    &        0.265     \\\\\n",
       "\\textbf{dbusl}             &      -0.4267  &        0.201     &    -2.127  &         0.033        &       -0.820    &       -0.033     \\\\\n",
       "\\textbf{dtraml}            &       0.5010  &        0.221     &     2.271  &         0.023        &        0.069    &        0.933     \\\\\n",
       "\\textbf{dtrainl}           &       0.4242  &        0.186     &     2.280  &         0.023        &        0.059    &        0.789     \\\\\n",
       "\\textbf{dplight}           &       0.1238  &        0.158     &     0.783  &         0.434        &       -0.186    &        0.434     \\\\\n",
       "\\textbf{dstation}          &       0.0826  &        0.197     &     0.420  &         0.675        &       -0.303    &        0.468     \\\\\n",
       "\\textbf{dparkcar}          &      -0.1056  &        0.181     &    -0.583  &         0.560        &       -0.461    &        0.250     \\\\\n",
       "\\textbf{dparktw}           &      -0.2119  &        0.186     &    -1.138  &         0.255        &       -0.577    &        0.153     \\\\\n",
       "\\textbf{dpedcro}           &      -0.0287  &        0.171     &    -0.167  &         0.867        &       -0.365    &        0.307     \\\\\n",
       "\\textbf{dstopsign}         &       0.4930  &        0.210     &     2.345  &         0.019        &        0.081    &        0.905     \\\\\n",
       "\\textbf{dtrafficarea}      &       0.1894  &        0.205     &     0.925  &         0.355        &       -0.212    &        0.591     \\\\\n",
       "\\textbf{droad}             &      -0.1058  &        0.179     &    -0.591  &         0.554        &       -0.456    &        0.245     \\\\\n",
       "\\textbf{dvfpath}           &      -0.2845  &        0.176     &    -1.616  &         0.106        &       -0.630    &        0.061     \\\\\n",
       "\\textbf{gvm\\_dwv}          &      -0.0892  &        0.170     &    -0.526  &         0.599        &       -0.422    &        0.243     \\\\\n",
       "\\textbf{bicyclecount}      &      -0.3509  &        0.180     &    -1.944  &         0.052        &       -0.705    &        0.003     \\\\\n",
       "\\textbf{carcount}          &       0.1421  &        0.173     &     0.820  &         0.412        &       -0.198    &        0.482     \\\\\n",
       "\\textbf{r\\_width\\_value}   &      -1.7606  &        0.353     &    -4.983  &         0.000        &       -2.453    &       -1.068     \\\\\n",
       "\\textbf{speedlimit\\_value} &      -0.5239  &        0.432     &    -1.213  &         0.225        &       -1.371    &        0.323     \\\\\n",
       "\\textbf{z\\_qnr\\_1}         &      15.0330  &        2.704     &     5.560  &         0.000        &        9.734    &       20.332     \\\\\n",
       "\\textbf{z\\_qnr\\_2}         &       8.1528  &        2.325     &     3.507  &         0.000        &        3.596    &       12.709     \\\\\n",
       "\\textbf{z\\_qnr\\_3}         &      10.8552  &        2.493     &     4.355  &         0.000        &        5.970    &       15.741     \\\\\n",
       "\\textbf{z\\_qnr\\_4}         &      12.4778  &        2.735     &     4.562  &         0.000        &        7.117    &       17.838     \\\\\n",
       "\\textbf{z\\_qnr\\_5}         &       8.7568  &        2.208     &     3.965  &         0.000        &        4.429    &       13.085     \\\\\n",
       "\\textbf{z\\_qnr\\_6}         &       9.3274  &        3.355     &     2.780  &         0.005        &        2.751    &       15.903     \\\\\n",
       "\\textbf{z\\_qnr\\_7}         &      13.2912  &        2.332     &     5.700  &         0.000        &        8.721    &       17.861     \\\\\n",
       "\\textbf{z\\_qnr\\_8}         &      12.5813  &        2.228     &     5.646  &         0.000        &        8.214    &       16.949     \\\\\n",
       "\\textbf{z\\_qnr\\_9}         &      11.6207  &        2.683     &     4.332  &         0.000        &        6.363    &       16.879     \\\\\n",
       "\\textbf{z\\_qnr\\_10}        &       1.9400  &        2.161     &     0.898  &         0.369        &       -2.295    &        6.175     \\\\\n",
       "\\textbf{z\\_qnr\\_11}        &       9.1446  &        2.090     &     4.376  &         0.000        &        5.049    &       13.240     \\\\\n",
       "\\textbf{z\\_qnr\\_12}        &       9.3387  &        2.130     &     4.385  &         0.000        &        5.165    &       13.513     \\\\\n",
       "\\textbf{z\\_qnr\\_13}        &       2.7722  &        2.234     &     1.241  &         0.215        &       -1.606    &        7.151     \\\\\n",
       "\\textbf{z\\_qnr\\_14}        &       9.9924  &        2.425     &     4.120  &         0.000        &        5.239    &       14.746     \\\\\n",
       "\\textbf{z\\_qnr\\_15}        &      12.1342  &        2.294     &     5.291  &         0.000        &        7.639    &       16.629     \\\\\n",
       "\\textbf{z\\_qnr\\_16}        &       7.6276  &        2.185     &     3.491  &         0.000        &        3.345    &       11.910     \\\\\n",
       "\\textbf{z\\_qnr\\_17}        &       5.8811  &        2.200     &     2.674  &         0.007        &        1.570    &       10.192     \\\\\n",
       "\\textbf{z\\_qnr\\_18}        &       6.8511  &        2.187     &     3.132  &         0.002        &        2.564    &       11.138     \\\\\n",
       "\\textbf{z\\_qnr\\_19}        &       4.1346  &        2.090     &     1.978  &         0.048        &        0.038    &        8.232     \\\\\n",
       "\\textbf{z\\_qnr\\_20}        &       3.4731  &        2.128     &     1.632  &         0.103        &       -0.697    &        7.644     \\\\\n",
       "\\textbf{z\\_qnr\\_21}        &       7.2811  &        2.212     &     3.292  &         0.001        &        2.946    &       11.616     \\\\\n",
       "\\textbf{z\\_qnr\\_22}        &       3.1436  &        1.617     &     1.944  &         0.052        &       -0.026    &        6.314     \\\\\n",
       "\\textbf{z\\_qnr\\_23}        &       3.3525  &        2.337     &     1.435  &         0.151        &       -1.228    &        7.933     \\\\\n",
       "\\textbf{z\\_qnr\\_24}        &       2.7319  &        1.623     &     1.683  &         0.092        &       -0.449    &        5.913     \\\\\n",
       "\\textbf{z\\_qnr\\_25}        &      -0.0986  &        1.643     &    -0.060  &         0.952        &       -3.318    &        3.121     \\\\\n",
       "\\textbf{z\\_qnr\\_26}        &       0.9286  &        1.861     &     0.499  &         0.618        &       -2.718    &        4.575     \\\\\n",
       "\\textbf{z\\_qnr\\_27}        &      -0.1791  &        1.905     &    -0.094  &         0.925        &       -3.912    &        3.554     \\\\\n",
       "\\textbf{z\\_qnr\\_28}        &       4.9121  &        1.919     &     2.560  &         0.010        &        1.151    &        8.673     \\\\\n",
       "\\textbf{z\\_qnr\\_29}        &       4.9689  &        1.951     &     2.547  &         0.011        &        1.145    &        8.793     \\\\\n",
       "\\textbf{z\\_qnr\\_30}        &      -3.1055  &       42.505     &    -0.073  &         0.942        &      -86.414    &       80.203     \\\\\n",
       "\\textbf{z\\_qnr\\_31}        &      -8.9868  &       36.787     &    -0.244  &         0.807        &      -81.087    &       63.114     \\\\\n",
       "\\textbf{z\\_qnr\\_32}        &      -2.0355  &        2.097     &    -0.971  &         0.332        &       -6.145    &        2.074     \\\\\n",
       "\\textbf{z\\_knr\\_1}         &     -15.1171  &        2.921     &    -5.175  &         0.000        &      -20.843    &       -9.391     \\\\\n",
       "\\textbf{z\\_knr\\_2}         &      -7.8888  &        2.511     &    -3.142  &         0.002        &      -12.809    &       -2.968     \\\\\n",
       "\\textbf{z\\_knr\\_3}         &     -12.3440  &        2.637     &    -4.680  &         0.000        &      -17.513    &       -7.175     \\\\\n",
       "\\textbf{z\\_knr\\_4}         &      -6.3819  &        2.366     &    -2.698  &         0.007        &      -11.019    &       -1.745     \\\\\n",
       "\\textbf{z\\_knr\\_5}         &      -4.3907  &        2.439     &    -1.800  &         0.072        &       -9.171    &        0.389     \\\\\n",
       "\\textbf{z\\_knr\\_6}         &     -13.1276  &        2.466     &    -5.324  &         0.000        &      -17.960    &       -8.295     \\\\\n",
       "\\textbf{z\\_knr\\_7}         &      -6.5581  &        2.415     &    -2.716  &         0.007        &      -11.291    &       -1.825     \\\\\n",
       "\\textbf{z\\_knr\\_8}         &      -9.8963  &        2.478     &    -3.993  &         0.000        &      -14.754    &       -5.039     \\\\\n",
       "\\textbf{z\\_knr\\_9}         &      -3.6320  &        2.410     &    -1.507  &         0.132        &       -8.355    &        1.091     \\\\\n",
       "\\textbf{z\\_knr\\_10}        &      -2.5870  &        1.853     &    -1.396  &         0.163        &       -6.219    &        1.045     \\\\\n",
       "\\textbf{z\\_knr\\_11}        &      -3.8621  &        1.847     &    -2.091  &         0.037        &       -7.482    &       -0.242     \\\\\n",
       "\\textbf{trafficarea\\_1}    &      -2.6344  &        1.274     &    -2.068  &         0.039        &       -5.132    &       -0.137     \\\\\n",
       "\\textbf{trafficarea\\_2}    &      -5.2580  &        1.374     &    -3.826  &         0.000        &       -7.952    &       -2.564     \\\\\n",
       "\\textbf{r\\_width\\_1}       &       2.3841  &        0.932     &     2.559  &         0.011        &        0.558    &        4.210     \\\\\n",
       "\\textbf{r\\_width\\_2}       &      -1.1713  &        1.186     &    -0.988  &         0.323        &       -3.495    &        1.153     \\\\\n",
       "\\textbf{r\\_width\\_3}       &       5.8599  &        1.393     &     4.206  &         0.000        &        3.129    &        8.591     \\\\\n",
       "\\textbf{r\\_width\\_4}       &       3.0355  &        0.956     &     3.174  &         0.002        &        1.161    &        4.910     \\\\\n",
       "\\textbf{r\\_width\\_5}       &       5.3972  &        1.241     &     4.350  &         0.000        &        2.966    &        7.829     \\\\\n",
       "\\textbf{r\\_width\\_6}       &       4.3295  &        1.250     &     3.463  &         0.001        &        1.879    &        6.780     \\\\\n",
       "\\textbf{r\\_surface\\_1}     &      17.6138  &      974.540     &     0.018  &         0.986        &    -1892.450    &     1927.678     \\\\\n",
       "\\textbf{speedlimit\\_1}     &       0.2168  &        0.824     &     0.263  &         0.793        &       -1.399    &        1.833     \\\\\n",
       "\\textbf{speedlimit\\_3}     &      -6.6124  &        2.009     &    -3.292  &         0.001        &      -10.550    &       -2.675     \\\\\n",
       "\\textbf{speedlimit\\_4}     &       5.5749  &        1.023     &     5.449  &         0.000        &        3.570    &        7.580     \\\\\n",
       "\\textbf{speedlimit\\_5}     &      -3.1921  &        2.836     &    -1.125  &         0.260        &       -8.751    &        2.367     \\\\\n",
       "\\bottomrule\n",
       "\\end{tabular}\n",
       "%\\caption{Logit Regression Results}\n",
       "\\end{center}\n",
       "\n",
       "Possibly complete quasi-separation: A fraction 0.24 of observations can be \\newline\n",
       " perfectly predicted. This might indicate that there is complete \\newline\n",
       " quasi-separation. In this case some parameters will not be identified."
      ],
      "text/plain": [
       "<class 'statsmodels.iolib.summary.Summary'>\n",
       "\"\"\"\n",
       "                           Logit Regression Results                           \n",
       "==============================================================================\n",
       "Dep. Variable:                    acp   No. Observations:                 1087\n",
       "Model:                          Logit   Df Residuals:                     1007\n",
       "Method:                           MLE   Df Model:                           79\n",
       "Date:                Fri, 04 Oct 2024   Pseudo R-squ.:                  0.6927\n",
       "Time:                        17:58:00   Log-Likelihood:                -195.26\n",
       "converged:                       True   LL-Null:                       -635.50\n",
       "Covariance Type:            nonrobust   LLR p-value:                1.309e-135\n",
       "====================================================================================\n",
       "                       coef    std err          z      P>|z|      [0.025      0.975]\n",
       "------------------------------------------------------------------------------------\n",
       "const              -19.5750    974.543     -0.020      0.984   -1929.645    1890.495\n",
       "cp                  -0.5092      0.333     -1.530      0.126      -1.161       0.143\n",
       "ie                  -0.1649      0.149     -1.108      0.268      -0.456       0.127\n",
       "mew                  0.4109      0.163      2.523      0.012       0.092       0.730\n",
       "meg                  0.2230      0.235      0.950      0.342      -0.237       0.683\n",
       "megmax              -0.0177      0.222     -0.080      0.936      -0.452       0.417\n",
       "cmin                -0.0987      0.185     -0.533      0.594      -0.462       0.265\n",
       "dbusl               -0.4267      0.201     -2.127      0.033      -0.820      -0.033\n",
       "dtraml               0.5010      0.221      2.271      0.023       0.069       0.933\n",
       "dtrainl              0.4242      0.186      2.280      0.023       0.059       0.789\n",
       "dplight              0.1238      0.158      0.783      0.434      -0.186       0.434\n",
       "dstation             0.0826      0.197      0.420      0.675      -0.303       0.468\n",
       "dparkcar            -0.1056      0.181     -0.583      0.560      -0.461       0.250\n",
       "dparktw             -0.2119      0.186     -1.138      0.255      -0.577       0.153\n",
       "dpedcro             -0.0287      0.171     -0.167      0.867      -0.365       0.307\n",
       "dstopsign            0.4930      0.210      2.345      0.019       0.081       0.905\n",
       "dtrafficarea         0.1894      0.205      0.925      0.355      -0.212       0.591\n",
       "droad               -0.1058      0.179     -0.591      0.554      -0.456       0.245\n",
       "dvfpath             -0.2845      0.176     -1.616      0.106      -0.630       0.061\n",
       "gvm_dwv             -0.0892      0.170     -0.526      0.599      -0.422       0.243\n",
       "bicyclecount        -0.3509      0.180     -1.944      0.052      -0.705       0.003\n",
       "carcount             0.1421      0.173      0.820      0.412      -0.198       0.482\n",
       "r_width_value       -1.7606      0.353     -4.983      0.000      -2.453      -1.068\n",
       "speedlimit_value    -0.5239      0.432     -1.213      0.225      -1.371       0.323\n",
       "z_qnr_1             15.0330      2.704      5.560      0.000       9.734      20.332\n",
       "z_qnr_2              8.1528      2.325      3.507      0.000       3.596      12.709\n",
       "z_qnr_3             10.8552      2.493      4.355      0.000       5.970      15.741\n",
       "z_qnr_4             12.4778      2.735      4.562      0.000       7.117      17.838\n",
       "z_qnr_5              8.7568      2.208      3.965      0.000       4.429      13.085\n",
       "z_qnr_6              9.3274      3.355      2.780      0.005       2.751      15.903\n",
       "z_qnr_7             13.2912      2.332      5.700      0.000       8.721      17.861\n",
       "z_qnr_8             12.5813      2.228      5.646      0.000       8.214      16.949\n",
       "z_qnr_9             11.6207      2.683      4.332      0.000       6.363      16.879\n",
       "z_qnr_10             1.9400      2.161      0.898      0.369      -2.295       6.175\n",
       "z_qnr_11             9.1446      2.090      4.376      0.000       5.049      13.240\n",
       "z_qnr_12             9.3387      2.130      4.385      0.000       5.165      13.513\n",
       "z_qnr_13             2.7722      2.234      1.241      0.215      -1.606       7.151\n",
       "z_qnr_14             9.9924      2.425      4.120      0.000       5.239      14.746\n",
       "z_qnr_15            12.1342      2.294      5.291      0.000       7.639      16.629\n",
       "z_qnr_16             7.6276      2.185      3.491      0.000       3.345      11.910\n",
       "z_qnr_17             5.8811      2.200      2.674      0.007       1.570      10.192\n",
       "z_qnr_18             6.8511      2.187      3.132      0.002       2.564      11.138\n",
       "z_qnr_19             4.1346      2.090      1.978      0.048       0.038       8.232\n",
       "z_qnr_20             3.4731      2.128      1.632      0.103      -0.697       7.644\n",
       "z_qnr_21             7.2811      2.212      3.292      0.001       2.946      11.616\n",
       "z_qnr_22             3.1436      1.617      1.944      0.052      -0.026       6.314\n",
       "z_qnr_23             3.3525      2.337      1.435      0.151      -1.228       7.933\n",
       "z_qnr_24             2.7319      1.623      1.683      0.092      -0.449       5.913\n",
       "z_qnr_25            -0.0986      1.643     -0.060      0.952      -3.318       3.121\n",
       "z_qnr_26             0.9286      1.861      0.499      0.618      -2.718       4.575\n",
       "z_qnr_27            -0.1791      1.905     -0.094      0.925      -3.912       3.554\n",
       "z_qnr_28             4.9121      1.919      2.560      0.010       1.151       8.673\n",
       "z_qnr_29             4.9689      1.951      2.547      0.011       1.145       8.793\n",
       "z_qnr_30            -3.1055     42.505     -0.073      0.942     -86.414      80.203\n",
       "z_qnr_31            -8.9868     36.787     -0.244      0.807     -81.087      63.114\n",
       "z_qnr_32            -2.0355      2.097     -0.971      0.332      -6.145       2.074\n",
       "z_knr_1            -15.1171      2.921     -5.175      0.000     -20.843      -9.391\n",
       "z_knr_2             -7.8888      2.511     -3.142      0.002     -12.809      -2.968\n",
       "z_knr_3            -12.3440      2.637     -4.680      0.000     -17.513      -7.175\n",
       "z_knr_4             -6.3819      2.366     -2.698      0.007     -11.019      -1.745\n",
       "z_knr_5             -4.3907      2.439     -1.800      0.072      -9.171       0.389\n",
       "z_knr_6            -13.1276      2.466     -5.324      0.000     -17.960      -8.295\n",
       "z_knr_7             -6.5581      2.415     -2.716      0.007     -11.291      -1.825\n",
       "z_knr_8             -9.8963      2.478     -3.993      0.000     -14.754      -5.039\n",
       "z_knr_9             -3.6320      2.410     -1.507      0.132      -8.355       1.091\n",
       "z_knr_10            -2.5870      1.853     -1.396      0.163      -6.219       1.045\n",
       "z_knr_11            -3.8621      1.847     -2.091      0.037      -7.482      -0.242\n",
       "trafficarea_1       -2.6344      1.274     -2.068      0.039      -5.132      -0.137\n",
       "trafficarea_2       -5.2580      1.374     -3.826      0.000      -7.952      -2.564\n",
       "r_width_1            2.3841      0.932      2.559      0.011       0.558       4.210\n",
       "r_width_2           -1.1713      1.186     -0.988      0.323      -3.495       1.153\n",
       "r_width_3            5.8599      1.393      4.206      0.000       3.129       8.591\n",
       "r_width_4            3.0355      0.956      3.174      0.002       1.161       4.910\n",
       "r_width_5            5.3972      1.241      4.350      0.000       2.966       7.829\n",
       "r_width_6            4.3295      1.250      3.463      0.001       1.879       6.780\n",
       "r_surface_1         17.6138    974.540      0.018      0.986   -1892.450    1927.678\n",
       "speedlimit_1         0.2168      0.824      0.263      0.793      -1.399       1.833\n",
       "speedlimit_3        -6.6124      2.009     -3.292      0.001     -10.550      -2.675\n",
       "speedlimit_4         5.5749      1.023      5.449      0.000       3.570       7.580\n",
       "speedlimit_5        -3.1921      2.836     -1.125      0.260      -8.751       2.367\n",
       "====================================================================================\n",
       "\n",
       "Possibly complete quasi-separation: A fraction 0.24 of observations can be\n",
       "perfectly predicted. This might indicate that there is complete\n",
       "quasi-separation. In this case some parameters will not be identified.\n",
       "\"\"\""
      ]
     },
     "execution_count": 43,
     "metadata": {},
     "output_type": "execute_result"
    }
   ],
   "source": [
    "\n",
    "# Without constant\n",
    "# m00_log = sm.Logit(y, x)\n",
    "# r00_log = m00_log.fit_regularized()\n",
    "# r00_log.summary()\n",
    "\n",
    "# Add constant\n",
    "x_const = tools.add_constant(x)\n",
    "m00_log = sm.Logit(y,x_const, max_iter = 400)\n",
    "r00_log = m00_log.fit_regularized()\n",
    "# r00_log = m00_log.fit()\n",
    "\n",
    "r00_log.summary()"
   ]
  },
  {
   "cell_type": "code",
   "execution_count": 37,
   "id": "33965143-fc9a-43d6-a591-b4494b32a219",
   "metadata": {
    "execution": {
     "iopub.execute_input": "2024-10-04T15:55:46.350205Z",
     "iopub.status.busy": "2024-10-04T15:55:46.349778Z",
     "iopub.status.idle": "2024-10-04T15:55:46.510676Z",
     "shell.execute_reply": "2024-10-04T15:55:46.509830Z",
     "shell.execute_reply.started": "2024-10-04T15:55:46.350188Z"
    }
   },
   "outputs": [
    {
     "name": "stdout",
     "output_type": "stream",
     "text": [
      "0.9310027598896045\n",
      "\n",
      "Test accuracy : \n",
      " 0.9310027598896045\n",
      "\n",
      "Confusion Matrix : \n",
      " [[763  29]\n",
      " [ 46 249]]\n",
      "accuracy 0.9310027598896045\n",
      "precision [0.94313968 0.89568345]\n",
      "sensitivity recall [0.96338384 0.8440678 ]\n",
      "f1 score [0.95315428 0.86910995]\n",
      "mean precision 0.9194115659264924\n",
      "mean recall 0.903725817497004\n",
      "mean f1 score 0.9111321131099346\n"
     ]
    },
    {
     "data": {
      "image/png": "[encoded data removed]",
      "text/plain": [
       "<Figure size 640x480 with 2 Axes>"
      ]
     },
     "metadata": {},
     "output_type": "display_data"
    }
   ],
   "source": [
    "pred00log = r00_log.predict(x_const)\n",
    "pred00log = list(map(round,pred00log))\n",
    "print(accuracy_score(y, pred00log))\n",
    "print('\\nTest accuracy : \\n', accuracy_score(y, pred00log))\n",
    "cm00log = confusion_matrix(y, pred00log) \n",
    "print ('\\nConfusion Matrix : \\n', cm00log)\n",
    "cm00log_display = metrics.ConfusionMatrixDisplay(confusion_matrix = cm00log)\n",
    "cm00log_display.plot()\n",
    "\n",
    "acc_log = metrics.accuracy_score(y, pred00log)\n",
    "print('accuracy', acc_log)\n",
    "\n",
    "pre_log = metrics.precision_score(y, pred00log, average = None)\n",
    "print('precision', pre_log)\n",
    "\n",
    "senrec_log = metrics.recall_score(y, pred00log, average = None)\n",
    "print('sensitivity recall', senrec_log)\n",
    "\n",
    "f1_log = metrics.f1_score(y, pred00log, average = None)\n",
    "print('f1 score', f1_log)\n",
    "\n",
    "pre_log_m = np.mean(pre_log)\n",
    "senrec_log_m = np.mean(senrec_log)\n",
    "f1_log_m = np.mean(f1_log)\n",
    "print('mean precision', pre_log_m)\n",
    "print('mean recall', senrec_log_m)\n",
    "print('mean f1 score', f1_log_m)"
   ]
  },
  {
   "cell_type": "markdown",
   "id": "9123b4a7-8a63-4606-8a16-ed36a71cb18e",
   "metadata": {},
   "source": [
    "### With data splitting"
   ]
  },
  {
   "cell_type": "code",
   "execution_count": 45,
   "id": "5daa4124-d5f5-4623-8fcb-b7a914737620",
   "metadata": {
    "execution": {
     "iopub.execute_input": "2024-10-04T15:58:45.624878Z",
     "iopub.status.busy": "2024-10-04T15:58:45.624387Z",
     "iopub.status.idle": "2024-10-04T15:58:48.538017Z",
     "shell.execute_reply": "2024-10-04T15:58:48.537387Z",
     "shell.execute_reply.started": "2024-10-04T15:58:45.624856Z"
    },
    "scrolled": true
   },
   "outputs": [
    {
     "name": "stderr",
     "output_type": "stream",
     "text": [
      "/opt/conda/lib/python3.11/site-packages/statsmodels/base/model.py:130: ValueWarning: unknown kwargs ['max_iter']\n",
      "  warnings.warn(msg, ValueWarning)\n"
     ]
    },
    {
     "name": "stdout",
     "output_type": "stream",
     "text": [
      "Optimization terminated successfully    (Exit mode 0)\n",
      "            Current function value: 0.1744794096184184\n",
      "            Iterations: 526\n",
      "            Function evaluations: 526\n",
      "            Gradient evaluations: 526\n"
     ]
    },
    {
     "name": "stderr",
     "output_type": "stream",
     "text": [
      "/opt/conda/lib/python3.11/site-packages/statsmodels/base/model.py:130: ValueWarning: unknown kwargs ['max_iter']\n",
      "  warnings.warn(msg, ValueWarning)\n"
     ]
    },
    {
     "data": {
      "text/html": [
       "<table class=\"simpletable\">\n",
       "<caption>Logit Regression Results</caption>\n",
       "<tr>\n",
       "  <th>Dep. Variable:</th>          <td>acp</td>       <th>  No. Observations:  </th>  <td>   760</td>  \n",
       "</tr>\n",
       "<tr>\n",
       "  <th>Model:</th>                 <td>Logit</td>      <th>  Df Residuals:      </th>  <td>   680</td>  \n",
       "</tr>\n",
       "<tr>\n",
       "  <th>Method:</th>                 <td>MLE</td>       <th>  Df Model:          </th>  <td>    79</td>  \n",
       "</tr>\n",
       "<tr>\n",
       "  <th>Date:</th>            <td>Fri, 04 Oct 2024</td> <th>  Pseudo R-squ.:     </th>  <td>0.6973</td>  \n",
       "</tr>\n",
       "<tr>\n",
       "  <th>Time:</th>                <td>17:58:48</td>     <th>  Log-Likelihood:    </th> <td> -132.60</td> \n",
       "</tr>\n",
       "<tr>\n",
       "  <th>converged:</th>             <td>True</td>       <th>  LL-Null:           </th> <td> -438.01</td> \n",
       "</tr>\n",
       "<tr>\n",
       "  <th>Covariance Type:</th>     <td>nonrobust</td>    <th>  LLR p-value:       </th> <td>3.766e-83</td>\n",
       "</tr>\n",
       "</table>\n",
       "<table class=\"simpletable\">\n",
       "<tr>\n",
       "          <td></td>            <th>coef</th>     <th>std err</th>      <th>z</th>      <th>P>|z|</th>  <th>[0.025</th>    <th>0.975]</th>  \n",
       "</tr>\n",
       "<tr>\n",
       "  <th>const</th>            <td>  -21.6953</td> <td> 1042.578</td> <td>   -0.021</td> <td> 0.983</td> <td>-2065.112</td> <td> 2021.721</td>\n",
       "</tr>\n",
       "<tr>\n",
       "  <th>cp</th>               <td>   -0.9230</td> <td>    0.428</td> <td>   -2.155</td> <td> 0.031</td> <td>   -1.763</td> <td>   -0.083</td>\n",
       "</tr>\n",
       "<tr>\n",
       "  <th>ie</th>               <td>   -0.3557</td> <td>    0.203</td> <td>   -1.755</td> <td> 0.079</td> <td>   -0.753</td> <td>    0.042</td>\n",
       "</tr>\n",
       "<tr>\n",
       "  <th>mew</th>              <td>    0.2618</td> <td>    0.215</td> <td>    1.218</td> <td> 0.223</td> <td>   -0.160</td> <td>    0.683</td>\n",
       "</tr>\n",
       "<tr>\n",
       "  <th>meg</th>              <td>    0.4627</td> <td>    0.293</td> <td>    1.581</td> <td> 0.114</td> <td>   -0.111</td> <td>    1.036</td>\n",
       "</tr>\n",
       "<tr>\n",
       "  <th>megmax</th>           <td>    0.0477</td> <td>    0.277</td> <td>    0.173</td> <td> 0.863</td> <td>   -0.494</td> <td>    0.590</td>\n",
       "</tr>\n",
       "<tr>\n",
       "  <th>cmin</th>             <td>   -0.0610</td> <td>    0.217</td> <td>   -0.281</td> <td> 0.778</td> <td>   -0.486</td> <td>    0.364</td>\n",
       "</tr>\n",
       "<tr>\n",
       "  <th>dbusl</th>            <td>   -0.3060</td> <td>    0.254</td> <td>   -1.206</td> <td> 0.228</td> <td>   -0.803</td> <td>    0.191</td>\n",
       "</tr>\n",
       "<tr>\n",
       "  <th>dtraml</th>           <td>    0.6915</td> <td>    0.288</td> <td>    2.397</td> <td> 0.017</td> <td>    0.126</td> <td>    1.257</td>\n",
       "</tr>\n",
       "<tr>\n",
       "  <th>dtrainl</th>          <td>    0.4470</td> <td>    0.234</td> <td>    1.913</td> <td> 0.056</td> <td>   -0.011</td> <td>    0.905</td>\n",
       "</tr>\n",
       "<tr>\n",
       "  <th>dplight</th>          <td>    0.1287</td> <td>    0.204</td> <td>    0.630</td> <td> 0.529</td> <td>   -0.272</td> <td>    0.529</td>\n",
       "</tr>\n",
       "<tr>\n",
       "  <th>dstation</th>         <td>    0.1574</td> <td>    0.252</td> <td>    0.626</td> <td> 0.532</td> <td>   -0.336</td> <td>    0.651</td>\n",
       "</tr>\n",
       "<tr>\n",
       "  <th>dparkcar</th>         <td>   -0.0248</td> <td>    0.229</td> <td>   -0.108</td> <td> 0.914</td> <td>   -0.474</td> <td>    0.424</td>\n",
       "</tr>\n",
       "<tr>\n",
       "  <th>dparktw</th>          <td>   -0.4205</td> <td>    0.237</td> <td>   -1.772</td> <td> 0.076</td> <td>   -0.886</td> <td>    0.045</td>\n",
       "</tr>\n",
       "<tr>\n",
       "  <th>dpedcro</th>          <td>   -0.1347</td> <td>    0.204</td> <td>   -0.660</td> <td> 0.509</td> <td>   -0.535</td> <td>    0.265</td>\n",
       "</tr>\n",
       "<tr>\n",
       "  <th>dstopsign</th>        <td>    0.6879</td> <td>    0.273</td> <td>    2.523</td> <td> 0.012</td> <td>    0.153</td> <td>    1.222</td>\n",
       "</tr>\n",
       "<tr>\n",
       "  <th>dtrafficarea</th>     <td>    0.2852</td> <td>    0.263</td> <td>    1.086</td> <td> 0.277</td> <td>   -0.229</td> <td>    0.800</td>\n",
       "</tr>\n",
       "<tr>\n",
       "  <th>droad</th>            <td>   -0.0871</td> <td>    0.228</td> <td>   -0.382</td> <td> 0.703</td> <td>   -0.534</td> <td>    0.360</td>\n",
       "</tr>\n",
       "<tr>\n",
       "  <th>dvfpath</th>          <td>   -0.5696</td> <td>    0.249</td> <td>   -2.291</td> <td> 0.022</td> <td>   -1.057</td> <td>   -0.082</td>\n",
       "</tr>\n",
       "<tr>\n",
       "  <th>gvm_dwv</th>          <td>   -0.0502</td> <td>    0.225</td> <td>   -0.223</td> <td> 0.823</td> <td>   -0.491</td> <td>    0.390</td>\n",
       "</tr>\n",
       "<tr>\n",
       "  <th>bicyclecount</th>     <td>   -0.2826</td> <td>    0.227</td> <td>   -1.244</td> <td> 0.214</td> <td>   -0.728</td> <td>    0.163</td>\n",
       "</tr>\n",
       "<tr>\n",
       "  <th>carcount</th>         <td>   -0.0470</td> <td>    0.217</td> <td>   -0.216</td> <td> 0.829</td> <td>   -0.473</td> <td>    0.379</td>\n",
       "</tr>\n",
       "<tr>\n",
       "  <th>r_width_value</th>    <td>   -1.6948</td> <td>    0.432</td> <td>   -3.920</td> <td> 0.000</td> <td>   -2.542</td> <td>   -0.847</td>\n",
       "</tr>\n",
       "<tr>\n",
       "  <th>speedlimit_value</th> <td>   -1.3599</td> <td>    0.636</td> <td>   -2.139</td> <td> 0.032</td> <td>   -2.606</td> <td>   -0.114</td>\n",
       "</tr>\n",
       "<tr>\n",
       "  <th>z_qnr_1</th>          <td>   15.5516</td> <td>    3.475</td> <td>    4.475</td> <td> 0.000</td> <td>    8.740</td> <td>   22.363</td>\n",
       "</tr>\n",
       "<tr>\n",
       "  <th>z_qnr_2</th>          <td>    8.7927</td> <td>    2.889</td> <td>    3.044</td> <td> 0.002</td> <td>    3.131</td> <td>   14.454</td>\n",
       "</tr>\n",
       "<tr>\n",
       "  <th>z_qnr_3</th>          <td>   11.3506</td> <td>    3.142</td> <td>    3.612</td> <td> 0.000</td> <td>    5.192</td> <td>   17.509</td>\n",
       "</tr>\n",
       "<tr>\n",
       "  <th>z_qnr_4</th>          <td>   12.1534</td> <td>    3.828</td> <td>    3.175</td> <td> 0.001</td> <td>    4.650</td> <td>   19.656</td>\n",
       "</tr>\n",
       "<tr>\n",
       "  <th>z_qnr_5</th>          <td>    9.1761</td> <td>    2.680</td> <td>    3.424</td> <td> 0.001</td> <td>    3.923</td> <td>   14.429</td>\n",
       "</tr>\n",
       "<tr>\n",
       "  <th>z_qnr_6</th>          <td>    8.6896</td> <td>    3.663</td> <td>    2.372</td> <td> 0.018</td> <td>    1.510</td> <td>   15.869</td>\n",
       "</tr>\n",
       "<tr>\n",
       "  <th>z_qnr_7</th>          <td>   14.4417</td> <td>    2.966</td> <td>    4.869</td> <td> 0.000</td> <td>    8.628</td> <td>   20.255</td>\n",
       "</tr>\n",
       "<tr>\n",
       "  <th>z_qnr_8</th>          <td>   12.6076</td> <td>    2.685</td> <td>    4.696</td> <td> 0.000</td> <td>    7.345</td> <td>   17.870</td>\n",
       "</tr>\n",
       "<tr>\n",
       "  <th>z_qnr_9</th>          <td>   11.5284</td> <td>    3.228</td> <td>    3.571</td> <td> 0.000</td> <td>    5.201</td> <td>   17.856</td>\n",
       "</tr>\n",
       "<tr>\n",
       "  <th>z_qnr_10</th>         <td>    2.8523</td> <td>    2.665</td> <td>    1.070</td> <td> 0.285</td> <td>   -2.371</td> <td>    8.076</td>\n",
       "</tr>\n",
       "<tr>\n",
       "  <th>z_qnr_11</th>         <td>    9.9813</td> <td>    2.551</td> <td>    3.913</td> <td> 0.000</td> <td>    4.982</td> <td>   14.981</td>\n",
       "</tr>\n",
       "<tr>\n",
       "  <th>z_qnr_12</th>         <td>    9.5934</td> <td>    2.686</td> <td>    3.571</td> <td> 0.000</td> <td>    4.328</td> <td>   14.858</td>\n",
       "</tr>\n",
       "<tr>\n",
       "  <th>z_qnr_13</th>         <td>    3.7899</td> <td>    2.727</td> <td>    1.390</td> <td> 0.165</td> <td>   -1.554</td> <td>    9.134</td>\n",
       "</tr>\n",
       "<tr>\n",
       "  <th>z_qnr_14</th>         <td>   11.2254</td> <td>    3.099</td> <td>    3.622</td> <td> 0.000</td> <td>    5.151</td> <td>   17.300</td>\n",
       "</tr>\n",
       "<tr>\n",
       "  <th>z_qnr_15</th>         <td>   12.6965</td> <td>    2.896</td> <td>    4.385</td> <td> 0.000</td> <td>    7.021</td> <td>   18.372</td>\n",
       "</tr>\n",
       "<tr>\n",
       "  <th>z_qnr_16</th>         <td>    9.0519</td> <td>    2.735</td> <td>    3.310</td> <td> 0.001</td> <td>    3.692</td> <td>   14.412</td>\n",
       "</tr>\n",
       "<tr>\n",
       "  <th>z_qnr_17</th>         <td>    6.7404</td> <td>    2.711</td> <td>    2.486</td> <td> 0.013</td> <td>    1.427</td> <td>   12.054</td>\n",
       "</tr>\n",
       "<tr>\n",
       "  <th>z_qnr_18</th>         <td>    7.8375</td> <td>    2.730</td> <td>    2.871</td> <td> 0.004</td> <td>    2.486</td> <td>   13.189</td>\n",
       "</tr>\n",
       "<tr>\n",
       "  <th>z_qnr_19</th>         <td>    4.8210</td> <td>    2.596</td> <td>    1.857</td> <td> 0.063</td> <td>   -0.266</td> <td>    9.908</td>\n",
       "</tr>\n",
       "<tr>\n",
       "  <th>z_qnr_20</th>         <td>    4.1105</td> <td>    2.615</td> <td>    1.572</td> <td> 0.116</td> <td>   -1.015</td> <td>    9.236</td>\n",
       "</tr>\n",
       "<tr>\n",
       "  <th>z_qnr_21</th>         <td>    8.5102</td> <td>    2.769</td> <td>    3.073</td> <td> 0.002</td> <td>    3.083</td> <td>   13.937</td>\n",
       "</tr>\n",
       "<tr>\n",
       "  <th>z_qnr_22</th>         <td>    3.8370</td> <td>    1.770</td> <td>    2.168</td> <td> 0.030</td> <td>    0.369</td> <td>    7.305</td>\n",
       "</tr>\n",
       "<tr>\n",
       "  <th>z_qnr_23</th>         <td>    4.1594</td> <td>    2.791</td> <td>    1.490</td> <td> 0.136</td> <td>   -1.311</td> <td>    9.629</td>\n",
       "</tr>\n",
       "<tr>\n",
       "  <th>z_qnr_24</th>         <td>    1.4305</td> <td>    1.714</td> <td>    0.835</td> <td> 0.404</td> <td>   -1.929</td> <td>    4.790</td>\n",
       "</tr>\n",
       "<tr>\n",
       "  <th>z_qnr_25</th>         <td>   -0.3925</td> <td>    1.672</td> <td>   -0.235</td> <td> 0.814</td> <td>   -3.669</td> <td>    2.884</td>\n",
       "</tr>\n",
       "<tr>\n",
       "  <th>z_qnr_26</th>         <td>    1.4869</td> <td>    2.038</td> <td>    0.729</td> <td> 0.466</td> <td>   -2.508</td> <td>    5.482</td>\n",
       "</tr>\n",
       "<tr>\n",
       "  <th>z_qnr_27</th>         <td>   -2.9077</td> <td>    2.883</td> <td>   -1.009</td> <td> 0.313</td> <td>   -8.558</td> <td>    2.742</td>\n",
       "</tr>\n",
       "<tr>\n",
       "  <th>z_qnr_28</th>         <td>    5.1326</td> <td>    2.151</td> <td>    2.386</td> <td> 0.017</td> <td>    0.917</td> <td>    9.348</td>\n",
       "</tr>\n",
       "<tr>\n",
       "  <th>z_qnr_29</th>         <td>    4.8540</td> <td>    2.041</td> <td>    2.378</td> <td> 0.017</td> <td>    0.854</td> <td>    8.854</td>\n",
       "</tr>\n",
       "<tr>\n",
       "  <th>z_qnr_30</th>         <td>   -2.8222</td> <td>   57.726</td> <td>   -0.049</td> <td> 0.961</td> <td> -115.963</td> <td>  110.319</td>\n",
       "</tr>\n",
       "<tr>\n",
       "  <th>z_qnr_31</th>         <td>  -10.6026</td> <td>  127.332</td> <td>   -0.083</td> <td> 0.934</td> <td> -260.170</td> <td>  238.965</td>\n",
       "</tr>\n",
       "<tr>\n",
       "  <th>z_qnr_32</th>         <td>   -0.3128</td> <td>    2.013</td> <td>   -0.155</td> <td> 0.876</td> <td>   -4.257</td> <td>    3.632</td>\n",
       "</tr>\n",
       "<tr>\n",
       "  <th>z_knr_1</th>          <td>  -14.0567</td> <td>    3.473</td> <td>   -4.048</td> <td> 0.000</td> <td>  -20.863</td> <td>   -7.251</td>\n",
       "</tr>\n",
       "<tr>\n",
       "  <th>z_knr_2</th>          <td>   -7.6420</td> <td>    2.978</td> <td>   -2.566</td> <td> 0.010</td> <td>  -13.478</td> <td>   -1.806</td>\n",
       "</tr>\n",
       "<tr>\n",
       "  <th>z_knr_3</th>          <td>  -11.3866</td> <td>    3.187</td> <td>   -3.573</td> <td> 0.000</td> <td>  -17.633</td> <td>   -5.140</td>\n",
       "</tr>\n",
       "<tr>\n",
       "  <th>z_knr_4</th>          <td>   -5.6312</td> <td>    2.754</td> <td>   -2.045</td> <td> 0.041</td> <td>  -11.028</td> <td>   -0.234</td>\n",
       "</tr>\n",
       "<tr>\n",
       "  <th>z_knr_5</th>          <td>   -4.2070</td> <td>    2.882</td> <td>   -1.460</td> <td> 0.144</td> <td>   -9.856</td> <td>    1.442</td>\n",
       "</tr>\n",
       "<tr>\n",
       "  <th>z_knr_6</th>          <td>  -13.5161</td> <td>    2.943</td> <td>   -4.593</td> <td> 0.000</td> <td>  -19.284</td> <td>   -7.748</td>\n",
       "</tr>\n",
       "<tr>\n",
       "  <th>z_knr_7</th>          <td>   -6.6516</td> <td>    2.870</td> <td>   -2.318</td> <td> 0.020</td> <td>  -12.276</td> <td>   -1.027</td>\n",
       "</tr>\n",
       "<tr>\n",
       "  <th>z_knr_8</th>          <td>   -9.6059</td> <td>    2.997</td> <td>   -3.205</td> <td> 0.001</td> <td>  -15.481</td> <td>   -3.731</td>\n",
       "</tr>\n",
       "<tr>\n",
       "  <th>z_knr_9</th>          <td>   -3.1937</td> <td>    2.864</td> <td>   -1.115</td> <td> 0.265</td> <td>   -8.806</td> <td>    2.419</td>\n",
       "</tr>\n",
       "<tr>\n",
       "  <th>z_knr_10</th>         <td>   -1.3488</td> <td>    1.886</td> <td>   -0.715</td> <td> 0.475</td> <td>   -5.046</td> <td>    2.348</td>\n",
       "</tr>\n",
       "<tr>\n",
       "  <th>z_knr_11</th>         <td>   -1.9685</td> <td>    1.874</td> <td>   -1.051</td> <td> 0.293</td> <td>   -5.641</td> <td>    1.704</td>\n",
       "</tr>\n",
       "<tr>\n",
       "  <th>trafficarea_1</th>    <td>   -2.6110</td> <td>    1.752</td> <td>   -1.491</td> <td> 0.136</td> <td>   -6.044</td> <td>    0.822</td>\n",
       "</tr>\n",
       "<tr>\n",
       "  <th>trafficarea_2</th>    <td>   -5.9008</td> <td>    1.894</td> <td>   -3.116</td> <td> 0.002</td> <td>   -9.612</td> <td>   -2.189</td>\n",
       "</tr>\n",
       "<tr>\n",
       "  <th>r_width_1</th>        <td>    2.2239</td> <td>    1.129</td> <td>    1.970</td> <td> 0.049</td> <td>    0.011</td> <td>    4.437</td>\n",
       "</tr>\n",
       "<tr>\n",
       "  <th>r_width_2</th>        <td>   -1.3909</td> <td>    1.420</td> <td>   -0.980</td> <td> 0.327</td> <td>   -4.173</td> <td>    1.391</td>\n",
       "</tr>\n",
       "<tr>\n",
       "  <th>r_width_3</th>        <td>    5.8813</td> <td>    1.769</td> <td>    3.324</td> <td> 0.001</td> <td>    2.414</td> <td>    9.349</td>\n",
       "</tr>\n",
       "<tr>\n",
       "  <th>r_width_4</th>        <td>    3.0610</td> <td>    1.175</td> <td>    2.606</td> <td> 0.009</td> <td>    0.759</td> <td>    5.364</td>\n",
       "</tr>\n",
       "<tr>\n",
       "  <th>r_width_5</th>        <td>    5.4094</td> <td>    1.535</td> <td>    3.524</td> <td> 0.000</td> <td>    2.401</td> <td>    8.418</td>\n",
       "</tr>\n",
       "<tr>\n",
       "  <th>r_width_6</th>        <td>    4.2611</td> <td>    1.535</td> <td>    2.777</td> <td> 0.005</td> <td>    1.253</td> <td>    7.269</td>\n",
       "</tr>\n",
       "<tr>\n",
       "  <th>r_surface_1</th>      <td>   17.6869</td> <td> 1042.574</td> <td>    0.017</td> <td> 0.986</td> <td>-2025.720</td> <td> 2061.094</td>\n",
       "</tr>\n",
       "<tr>\n",
       "  <th>speedlimit_1</th>     <td>    1.3789</td> <td>    1.165</td> <td>    1.184</td> <td> 0.237</td> <td>   -0.904</td> <td>    3.662</td>\n",
       "</tr>\n",
       "<tr>\n",
       "  <th>speedlimit_3</th>     <td>   -3.2033</td> <td>    2.209</td> <td>   -1.450</td> <td> 0.147</td> <td>   -7.534</td> <td>    1.127</td>\n",
       "</tr>\n",
       "<tr>\n",
       "  <th>speedlimit_4</th>     <td>    7.3513</td> <td>    1.564</td> <td>    4.699</td> <td> 0.000</td> <td>    4.285</td> <td>   10.417</td>\n",
       "</tr>\n",
       "<tr>\n",
       "  <th>speedlimit_5</th>     <td>   -0.1739</td> <td>    3.224</td> <td>   -0.054</td> <td> 0.957</td> <td>   -6.494</td> <td>    6.146</td>\n",
       "</tr>\n",
       "</table><br/><br/>Possibly complete quasi-separation: A fraction 0.19 of observations can be<br/>perfectly predicted. This might indicate that there is complete<br/>quasi-separation. In this case some parameters will not be identified."
      ],
      "text/latex": [
       "\\begin{center}\n",
       "\\begin{tabular}{lclc}\n",
       "\\toprule\n",
       "\\textbf{Dep. Variable:}    &       acp        & \\textbf{  No. Observations:  } &      760    \\\\\n",
       "\\textbf{Model:}            &      Logit       & \\textbf{  Df Residuals:      } &      680    \\\\\n",
       "\\textbf{Method:}           &       MLE        & \\textbf{  Df Model:          } &       79    \\\\\n",
       "\\textbf{Date:}             & Fri, 04 Oct 2024 & \\textbf{  Pseudo R-squ.:     } &   0.6973    \\\\\n",
       "\\textbf{Time:}             &     17:58:48     & \\textbf{  Log-Likelihood:    } &   -132.60   \\\\\n",
       "\\textbf{converged:}        &       True       & \\textbf{  LL-Null:           } &   -438.01   \\\\\n",
       "\\textbf{Covariance Type:}  &    nonrobust     & \\textbf{  LLR p-value:       } & 3.766e-83   \\\\\n",
       "\\bottomrule\n",
       "\\end{tabular}\n",
       "\\begin{tabular}{lcccccc}\n",
       "                           & \\textbf{coef} & \\textbf{std err} & \\textbf{z} & \\textbf{P$> |$z$|$} & \\textbf{[0.025} & \\textbf{0.975]}  \\\\\n",
       "\\midrule\n",
       "\\textbf{const}             &     -21.6953  &     1042.578     &    -0.021  &         0.983        &    -2065.112    &     2021.721     \\\\\n",
       "\\textbf{cp}                &      -0.9230  &        0.428     &    -2.155  &         0.031        &       -1.763    &       -0.083     \\\\\n",
       "\\textbf{ie}                &      -0.3557  &        0.203     &    -1.755  &         0.079        &       -0.753    &        0.042     \\\\\n",
       "\\textbf{mew}               &       0.2618  &        0.215     &     1.218  &         0.223        &       -0.160    &        0.683     \\\\\n",
       "\\textbf{meg}               &       0.4627  &        0.293     &     1.581  &         0.114        &       -0.111    &        1.036     \\\\\n",
       "\\textbf{megmax}            &       0.0477  &        0.277     &     0.173  &         0.863        &       -0.494    &        0.590     \\\\\n",
       "\\textbf{cmin}              &      -0.0610  &        0.217     &    -0.281  &         0.778        &       -0.486    &        0.364     \\\\\n",
       "\\textbf{dbusl}             &      -0.3060  &        0.254     &    -1.206  &         0.228        &       -0.803    &        0.191     \\\\\n",
       "\\textbf{dtraml}            &       0.6915  &        0.288     &     2.397  &         0.017        &        0.126    &        1.257     \\\\\n",
       "\\textbf{dtrainl}           &       0.4470  &        0.234     &     1.913  &         0.056        &       -0.011    &        0.905     \\\\\n",
       "\\textbf{dplight}           &       0.1287  &        0.204     &     0.630  &         0.529        &       -0.272    &        0.529     \\\\\n",
       "\\textbf{dstation}          &       0.1574  &        0.252     &     0.626  &         0.532        &       -0.336    &        0.651     \\\\\n",
       "\\textbf{dparkcar}          &      -0.0248  &        0.229     &    -0.108  &         0.914        &       -0.474    &        0.424     \\\\\n",
       "\\textbf{dparktw}           &      -0.4205  &        0.237     &    -1.772  &         0.076        &       -0.886    &        0.045     \\\\\n",
       "\\textbf{dpedcro}           &      -0.1347  &        0.204     &    -0.660  &         0.509        &       -0.535    &        0.265     \\\\\n",
       "\\textbf{dstopsign}         &       0.6879  &        0.273     &     2.523  &         0.012        &        0.153    &        1.222     \\\\\n",
       "\\textbf{dtrafficarea}      &       0.2852  &        0.263     &     1.086  &         0.277        &       -0.229    &        0.800     \\\\\n",
       "\\textbf{droad}             &      -0.0871  &        0.228     &    -0.382  &         0.703        &       -0.534    &        0.360     \\\\\n",
       "\\textbf{dvfpath}           &      -0.5696  &        0.249     &    -2.291  &         0.022        &       -1.057    &       -0.082     \\\\\n",
       "\\textbf{gvm\\_dwv}          &      -0.0502  &        0.225     &    -0.223  &         0.823        &       -0.491    &        0.390     \\\\\n",
       "\\textbf{bicyclecount}      &      -0.2826  &        0.227     &    -1.244  &         0.214        &       -0.728    &        0.163     \\\\\n",
       "\\textbf{carcount}          &      -0.0470  &        0.217     &    -0.216  &         0.829        &       -0.473    &        0.379     \\\\\n",
       "\\textbf{r\\_width\\_value}   &      -1.6948  &        0.432     &    -3.920  &         0.000        &       -2.542    &       -0.847     \\\\\n",
       "\\textbf{speedlimit\\_value} &      -1.3599  &        0.636     &    -2.139  &         0.032        &       -2.606    &       -0.114     \\\\\n",
       "\\textbf{z\\_qnr\\_1}         &      15.5516  &        3.475     &     4.475  &         0.000        &        8.740    &       22.363     \\\\\n",
       "\\textbf{z\\_qnr\\_2}         &       8.7927  &        2.889     &     3.044  &         0.002        &        3.131    &       14.454     \\\\\n",
       "\\textbf{z\\_qnr\\_3}         &      11.3506  &        3.142     &     3.612  &         0.000        &        5.192    &       17.509     \\\\\n",
       "\\textbf{z\\_qnr\\_4}         &      12.1534  &        3.828     &     3.175  &         0.001        &        4.650    &       19.656     \\\\\n",
       "\\textbf{z\\_qnr\\_5}         &       9.1761  &        2.680     &     3.424  &         0.001        &        3.923    &       14.429     \\\\\n",
       "\\textbf{z\\_qnr\\_6}         &       8.6896  &        3.663     &     2.372  &         0.018        &        1.510    &       15.869     \\\\\n",
       "\\textbf{z\\_qnr\\_7}         &      14.4417  &        2.966     &     4.869  &         0.000        &        8.628    &       20.255     \\\\\n",
       "\\textbf{z\\_qnr\\_8}         &      12.6076  &        2.685     &     4.696  &         0.000        &        7.345    &       17.870     \\\\\n",
       "\\textbf{z\\_qnr\\_9}         &      11.5284  &        3.228     &     3.571  &         0.000        &        5.201    &       17.856     \\\\\n",
       "\\textbf{z\\_qnr\\_10}        &       2.8523  &        2.665     &     1.070  &         0.285        &       -2.371    &        8.076     \\\\\n",
       "\\textbf{z\\_qnr\\_11}        &       9.9813  &        2.551     &     3.913  &         0.000        &        4.982    &       14.981     \\\\\n",
       "\\textbf{z\\_qnr\\_12}        &       9.5934  &        2.686     &     3.571  &         0.000        &        4.328    &       14.858     \\\\\n",
       "\\textbf{z\\_qnr\\_13}        &       3.7899  &        2.727     &     1.390  &         0.165        &       -1.554    &        9.134     \\\\\n",
       "\\textbf{z\\_qnr\\_14}        &      11.2254  &        3.099     &     3.622  &         0.000        &        5.151    &       17.300     \\\\\n",
       "\\textbf{z\\_qnr\\_15}        &      12.6965  &        2.896     &     4.385  &         0.000        &        7.021    &       18.372     \\\\\n",
       "\\textbf{z\\_qnr\\_16}        &       9.0519  &        2.735     &     3.310  &         0.001        &        3.692    &       14.412     \\\\\n",
       "\\textbf{z\\_qnr\\_17}        &       6.7404  &        2.711     &     2.486  &         0.013        &        1.427    &       12.054     \\\\\n",
       "\\textbf{z\\_qnr\\_18}        &       7.8375  &        2.730     &     2.871  &         0.004        &        2.486    &       13.189     \\\\\n",
       "\\textbf{z\\_qnr\\_19}        &       4.8210  &        2.596     &     1.857  &         0.063        &       -0.266    &        9.908     \\\\\n",
       "\\textbf{z\\_qnr\\_20}        &       4.1105  &        2.615     &     1.572  &         0.116        &       -1.015    &        9.236     \\\\\n",
       "\\textbf{z\\_qnr\\_21}        &       8.5102  &        2.769     &     3.073  &         0.002        &        3.083    &       13.937     \\\\\n",
       "\\textbf{z\\_qnr\\_22}        &       3.8370  &        1.770     &     2.168  &         0.030        &        0.369    &        7.305     \\\\\n",
       "\\textbf{z\\_qnr\\_23}        &       4.1594  &        2.791     &     1.490  &         0.136        &       -1.311    &        9.629     \\\\\n",
       "\\textbf{z\\_qnr\\_24}        &       1.4305  &        1.714     &     0.835  &         0.404        &       -1.929    &        4.790     \\\\\n",
       "\\textbf{z\\_qnr\\_25}        &      -0.3925  &        1.672     &    -0.235  &         0.814        &       -3.669    &        2.884     \\\\\n",
       "\\textbf{z\\_qnr\\_26}        &       1.4869  &        2.038     &     0.729  &         0.466        &       -2.508    &        5.482     \\\\\n",
       "\\textbf{z\\_qnr\\_27}        &      -2.9077  &        2.883     &    -1.009  &         0.313        &       -8.558    &        2.742     \\\\\n",
       "\\textbf{z\\_qnr\\_28}        &       5.1326  &        2.151     &     2.386  &         0.017        &        0.917    &        9.348     \\\\\n",
       "\\textbf{z\\_qnr\\_29}        &       4.8540  &        2.041     &     2.378  &         0.017        &        0.854    &        8.854     \\\\\n",
       "\\textbf{z\\_qnr\\_30}        &      -2.8222  &       57.726     &    -0.049  &         0.961        &     -115.963    &      110.319     \\\\\n",
       "\\textbf{z\\_qnr\\_31}        &     -10.6026  &      127.332     &    -0.083  &         0.934        &     -260.170    &      238.965     \\\\\n",
       "\\textbf{z\\_qnr\\_32}        &      -0.3128  &        2.013     &    -0.155  &         0.876        &       -4.257    &        3.632     \\\\\n",
       "\\textbf{z\\_knr\\_1}         &     -14.0567  &        3.473     &    -4.048  &         0.000        &      -20.863    &       -7.251     \\\\\n",
       "\\textbf{z\\_knr\\_2}         &      -7.6420  &        2.978     &    -2.566  &         0.010        &      -13.478    &       -1.806     \\\\\n",
       "\\textbf{z\\_knr\\_3}         &     -11.3866  &        3.187     &    -3.573  &         0.000        &      -17.633    &       -5.140     \\\\\n",
       "\\textbf{z\\_knr\\_4}         &      -5.6312  &        2.754     &    -2.045  &         0.041        &      -11.028    &       -0.234     \\\\\n",
       "\\textbf{z\\_knr\\_5}         &      -4.2070  &        2.882     &    -1.460  &         0.144        &       -9.856    &        1.442     \\\\\n",
       "\\textbf{z\\_knr\\_6}         &     -13.5161  &        2.943     &    -4.593  &         0.000        &      -19.284    &       -7.748     \\\\\n",
       "\\textbf{z\\_knr\\_7}         &      -6.6516  &        2.870     &    -2.318  &         0.020        &      -12.276    &       -1.027     \\\\\n",
       "\\textbf{z\\_knr\\_8}         &      -9.6059  &        2.997     &    -3.205  &         0.001        &      -15.481    &       -3.731     \\\\\n",
       "\\textbf{z\\_knr\\_9}         &      -3.1937  &        2.864     &    -1.115  &         0.265        &       -8.806    &        2.419     \\\\\n",
       "\\textbf{z\\_knr\\_10}        &      -1.3488  &        1.886     &    -0.715  &         0.475        &       -5.046    &        2.348     \\\\\n",
       "\\textbf{z\\_knr\\_11}        &      -1.9685  &        1.874     &    -1.051  &         0.293        &       -5.641    &        1.704     \\\\\n",
       "\\textbf{trafficarea\\_1}    &      -2.6110  &        1.752     &    -1.491  &         0.136        &       -6.044    &        0.822     \\\\\n",
       "\\textbf{trafficarea\\_2}    &      -5.9008  &        1.894     &    -3.116  &         0.002        &       -9.612    &       -2.189     \\\\\n",
       "\\textbf{r\\_width\\_1}       &       2.2239  &        1.129     &     1.970  &         0.049        &        0.011    &        4.437     \\\\\n",
       "\\textbf{r\\_width\\_2}       &      -1.3909  &        1.420     &    -0.980  &         0.327        &       -4.173    &        1.391     \\\\\n",
       "\\textbf{r\\_width\\_3}       &       5.8813  &        1.769     &     3.324  &         0.001        &        2.414    &        9.349     \\\\\n",
       "\\textbf{r\\_width\\_4}       &       3.0610  &        1.175     &     2.606  &         0.009        &        0.759    &        5.364     \\\\\n",
       "\\textbf{r\\_width\\_5}       &       5.4094  &        1.535     &     3.524  &         0.000        &        2.401    &        8.418     \\\\\n",
       "\\textbf{r\\_width\\_6}       &       4.2611  &        1.535     &     2.777  &         0.005        &        1.253    &        7.269     \\\\\n",
       "\\textbf{r\\_surface\\_1}     &      17.6869  &     1042.574     &     0.017  &         0.986        &    -2025.720    &     2061.094     \\\\\n",
       "\\textbf{speedlimit\\_1}     &       1.3789  &        1.165     &     1.184  &         0.237        &       -0.904    &        3.662     \\\\\n",
       "\\textbf{speedlimit\\_3}     &      -3.2033  &        2.209     &    -1.450  &         0.147        &       -7.534    &        1.127     \\\\\n",
       "\\textbf{speedlimit\\_4}     &       7.3513  &        1.564     &     4.699  &         0.000        &        4.285    &       10.417     \\\\\n",
       "\\textbf{speedlimit\\_5}     &      -0.1739  &        3.224     &    -0.054  &         0.957        &       -6.494    &        6.146     \\\\\n",
       "\\bottomrule\n",
       "\\end{tabular}\n",
       "%\\caption{Logit Regression Results}\n",
       "\\end{center}\n",
       "\n",
       "Possibly complete quasi-separation: A fraction 0.19 of observations can be \\newline\n",
       " perfectly predicted. This might indicate that there is complete \\newline\n",
       " quasi-separation. In this case some parameters will not be identified."
      ],
      "text/plain": [
       "<class 'statsmodels.iolib.summary.Summary'>\n",
       "\"\"\"\n",
       "                           Logit Regression Results                           \n",
       "==============================================================================\n",
       "Dep. Variable:                    acp   No. Observations:                  760\n",
       "Model:                          Logit   Df Residuals:                      680\n",
       "Method:                           MLE   Df Model:                           79\n",
       "Date:                Fri, 04 Oct 2024   Pseudo R-squ.:                  0.6973\n",
       "Time:                        17:58:48   Log-Likelihood:                -132.60\n",
       "converged:                       True   LL-Null:                       -438.01\n",
       "Covariance Type:            nonrobust   LLR p-value:                 3.766e-83\n",
       "====================================================================================\n",
       "                       coef    std err          z      P>|z|      [0.025      0.975]\n",
       "------------------------------------------------------------------------------------\n",
       "const              -21.6953   1042.578     -0.021      0.983   -2065.112    2021.721\n",
       "cp                  -0.9230      0.428     -2.155      0.031      -1.763      -0.083\n",
       "ie                  -0.3557      0.203     -1.755      0.079      -0.753       0.042\n",
       "mew                  0.2618      0.215      1.218      0.223      -0.160       0.683\n",
       "meg                  0.4627      0.293      1.581      0.114      -0.111       1.036\n",
       "megmax               0.0477      0.277      0.173      0.863      -0.494       0.590\n",
       "cmin                -0.0610      0.217     -0.281      0.778      -0.486       0.364\n",
       "dbusl               -0.3060      0.254     -1.206      0.228      -0.803       0.191\n",
       "dtraml               0.6915      0.288      2.397      0.017       0.126       1.257\n",
       "dtrainl              0.4470      0.234      1.913      0.056      -0.011       0.905\n",
       "dplight              0.1287      0.204      0.630      0.529      -0.272       0.529\n",
       "dstation             0.1574      0.252      0.626      0.532      -0.336       0.651\n",
       "dparkcar            -0.0248      0.229     -0.108      0.914      -0.474       0.424\n",
       "dparktw             -0.4205      0.237     -1.772      0.076      -0.886       0.045\n",
       "dpedcro             -0.1347      0.204     -0.660      0.509      -0.535       0.265\n",
       "dstopsign            0.6879      0.273      2.523      0.012       0.153       1.222\n",
       "dtrafficarea         0.2852      0.263      1.086      0.277      -0.229       0.800\n",
       "droad               -0.0871      0.228     -0.382      0.703      -0.534       0.360\n",
       "dvfpath             -0.5696      0.249     -2.291      0.022      -1.057      -0.082\n",
       "gvm_dwv             -0.0502      0.225     -0.223      0.823      -0.491       0.390\n",
       "bicyclecount        -0.2826      0.227     -1.244      0.214      -0.728       0.163\n",
       "carcount            -0.0470      0.217     -0.216      0.829      -0.473       0.379\n",
       "r_width_value       -1.6948      0.432     -3.920      0.000      -2.542      -0.847\n",
       "speedlimit_value    -1.3599      0.636     -2.139      0.032      -2.606      -0.114\n",
       "z_qnr_1             15.5516      3.475      4.475      0.000       8.740      22.363\n",
       "z_qnr_2              8.7927      2.889      3.044      0.002       3.131      14.454\n",
       "z_qnr_3             11.3506      3.142      3.612      0.000       5.192      17.509\n",
       "z_qnr_4             12.1534      3.828      3.175      0.001       4.650      19.656\n",
       "z_qnr_5              9.1761      2.680      3.424      0.001       3.923      14.429\n",
       "z_qnr_6              8.6896      3.663      2.372      0.018       1.510      15.869\n",
       "z_qnr_7             14.4417      2.966      4.869      0.000       8.628      20.255\n",
       "z_qnr_8             12.6076      2.685      4.696      0.000       7.345      17.870\n",
       "z_qnr_9             11.5284      3.228      3.571      0.000       5.201      17.856\n",
       "z_qnr_10             2.8523      2.665      1.070      0.285      -2.371       8.076\n",
       "z_qnr_11             9.9813      2.551      3.913      0.000       4.982      14.981\n",
       "z_qnr_12             9.5934      2.686      3.571      0.000       4.328      14.858\n",
       "z_qnr_13             3.7899      2.727      1.390      0.165      -1.554       9.134\n",
       "z_qnr_14            11.2254      3.099      3.622      0.000       5.151      17.300\n",
       "z_qnr_15            12.6965      2.896      4.385      0.000       7.021      18.372\n",
       "z_qnr_16             9.0519      2.735      3.310      0.001       3.692      14.412\n",
       "z_qnr_17             6.7404      2.711      2.486      0.013       1.427      12.054\n",
       "z_qnr_18             7.8375      2.730      2.871      0.004       2.486      13.189\n",
       "z_qnr_19             4.8210      2.596      1.857      0.063      -0.266       9.908\n",
       "z_qnr_20             4.1105      2.615      1.572      0.116      -1.015       9.236\n",
       "z_qnr_21             8.5102      2.769      3.073      0.002       3.083      13.937\n",
       "z_qnr_22             3.8370      1.770      2.168      0.030       0.369       7.305\n",
       "z_qnr_23             4.1594      2.791      1.490      0.136      -1.311       9.629\n",
       "z_qnr_24             1.4305      1.714      0.835      0.404      -1.929       4.790\n",
       "z_qnr_25            -0.3925      1.672     -0.235      0.814      -3.669       2.884\n",
       "z_qnr_26             1.4869      2.038      0.729      0.466      -2.508       5.482\n",
       "z_qnr_27            -2.9077      2.883     -1.009      0.313      -8.558       2.742\n",
       "z_qnr_28             5.1326      2.151      2.386      0.017       0.917       9.348\n",
       "z_qnr_29             4.8540      2.041      2.378      0.017       0.854       8.854\n",
       "z_qnr_30            -2.8222     57.726     -0.049      0.961    -115.963     110.319\n",
       "z_qnr_31           -10.6026    127.332     -0.083      0.934    -260.170     238.965\n",
       "z_qnr_32            -0.3128      2.013     -0.155      0.876      -4.257       3.632\n",
       "z_knr_1            -14.0567      3.473     -4.048      0.000     -20.863      -7.251\n",
       "z_knr_2             -7.6420      2.978     -2.566      0.010     -13.478      -1.806\n",
       "z_knr_3            -11.3866      3.187     -3.573      0.000     -17.633      -5.140\n",
       "z_knr_4             -5.6312      2.754     -2.045      0.041     -11.028      -0.234\n",
       "z_knr_5             -4.2070      2.882     -1.460      0.144      -9.856       1.442\n",
       "z_knr_6            -13.5161      2.943     -4.593      0.000     -19.284      -7.748\n",
       "z_knr_7             -6.6516      2.870     -2.318      0.020     -12.276      -1.027\n",
       "z_knr_8             -9.6059      2.997     -3.205      0.001     -15.481      -3.731\n",
       "z_knr_9             -3.1937      2.864     -1.115      0.265      -8.806       2.419\n",
       "z_knr_10            -1.3488      1.886     -0.715      0.475      -5.046       2.348\n",
       "z_knr_11            -1.9685      1.874     -1.051      0.293      -5.641       1.704\n",
       "trafficarea_1       -2.6110      1.752     -1.491      0.136      -6.044       0.822\n",
       "trafficarea_2       -5.9008      1.894     -3.116      0.002      -9.612      -2.189\n",
       "r_width_1            2.2239      1.129      1.970      0.049       0.011       4.437\n",
       "r_width_2           -1.3909      1.420     -0.980      0.327      -4.173       1.391\n",
       "r_width_3            5.8813      1.769      3.324      0.001       2.414       9.349\n",
       "r_width_4            3.0610      1.175      2.606      0.009       0.759       5.364\n",
       "r_width_5            5.4094      1.535      3.524      0.000       2.401       8.418\n",
       "r_width_6            4.2611      1.535      2.777      0.005       1.253       7.269\n",
       "r_surface_1         17.6869   1042.574      0.017      0.986   -2025.720    2061.094\n",
       "speedlimit_1         1.3789      1.165      1.184      0.237      -0.904       3.662\n",
       "speedlimit_3        -3.2033      2.209     -1.450      0.147      -7.534       1.127\n",
       "speedlimit_4         7.3513      1.564      4.699      0.000       4.285      10.417\n",
       "speedlimit_5        -0.1739      3.224     -0.054      0.957      -6.494       6.146\n",
       "====================================================================================\n",
       "\n",
       "Possibly complete quasi-separation: A fraction 0.19 of observations can be\n",
       "perfectly predicted. This might indicate that there is complete\n",
       "quasi-separation. In this case some parameters will not be identified.\n",
       "\"\"\""
      ]
     },
     "execution_count": 45,
     "metadata": {},
     "output_type": "execute_result"
    }
   ],
   "source": [
    "\n",
    "X_train1, X_test1, y_train1, y_test1 = train_test_split(\n",
    "        x_const, y,\n",
    "        test_size=0.3,\n",
    "        random_state=6)\n",
    "m00_log_split = sm.Logit(y_train1,X_train1, max_iter = 400)\n",
    "r00_log_split = m00_log_split.fit_regularized()\n",
    "r00_log_split.summary()"
   ]
  },
  {
   "cell_type": "code",
   "execution_count": 46,
   "id": "3805abdf-feee-4089-9fb4-99c8b012212f",
   "metadata": {
    "execution": {
     "iopub.execute_input": "2024-10-04T15:59:06.478847Z",
     "iopub.status.busy": "2024-10-04T15:59:06.478200Z",
     "iopub.status.idle": "2024-10-04T15:59:06.642127Z",
     "shell.execute_reply": "2024-10-04T15:59:06.641419Z",
     "shell.execute_reply.started": "2024-10-04T15:59:06.478824Z"
    }
   },
   "outputs": [
    {
     "name": "stdout",
     "output_type": "stream",
     "text": [
      "0.926605504587156\n",
      "\n",
      "Test accuracy : \n",
      " 0.926605504587156\n",
      "\n",
      "Confusion Matrix : \n",
      " [[220  12]\n",
      " [ 12  83]]\n",
      "accuracy 0.926605504587156\n",
      "precision [0.94827586 0.87368421]\n",
      "sensitivity recall [0.94827586 0.87368421]\n",
      "f1 score [0.94827586 0.87368421]\n",
      "mean precision 0.9109800362976407\n",
      "mean recall 0.9109800362976407\n",
      "mean f1 score 0.9109800362976407\n"
     ]
    },
    {
     "data": {
      "image/png": "[encoded data removed]",
      "text/plain": [
       "<Figure size 640x480 with 2 Axes>"
      ]
     },
     "metadata": {},
     "output_type": "display_data"
    }
   ],
   "source": [
    "pred00log_split = r00_log.predict(X_test1)\n",
    "pred00log_split = list(map(round,pred00log_split))\n",
    "print(accuracy_score(y_test1, pred00log_split))\n",
    "print('\\nTest accuracy : \\n', accuracy_score(y_test1, pred00log_split))\n",
    "cm00log_split = confusion_matrix(y_test1, pred00log_split) \n",
    "print ('\\nConfusion Matrix : \\n', cm00log_split)\n",
    "cm00log_split_display = metrics.ConfusionMatrixDisplay(confusion_matrix = cm00log_split)\n",
    "cm00log_split_display.plot()\n",
    "\n",
    "acc_log_split = metrics.accuracy_score(y_test1, pred00log_split)\n",
    "print('accuracy', acc_log_split)\n",
    "\n",
    "pre_log_split = metrics.precision_score(y_test1, pred00log_split, average = None)\n",
    "print('precision', pre_log_split)\n",
    "\n",
    "senrec_log_split = metrics.recall_score(y_test1, pred00log_split, average = None)\n",
    "print('sensitivity recall', senrec_log_split)\n",
    "\n",
    "f1_log_split = metrics.f1_score(y_test1, pred00log_split, average = None)\n",
    "print('f1 score', f1_log_split)\n",
    "\n",
    "pre_log_split_m = np.mean(pre_log_split)\n",
    "senrec_log_split_m = np.mean(senrec_log_split)\n",
    "f1_log_split_m = np.mean(f1_log_split)\n",
    "print('mean precision', pre_log_split_m)\n",
    "print('mean recall', senrec_log_split_m)\n",
    "print('mean f1 score', f1_log_split_m)"
   ]
  },
  {
   "cell_type": "markdown",
   "id": "128882ea-f6d9-4b7f-859a-71387313f4e0",
   "metadata": {},
   "source": [
    "# Step wise feature selection"
   ]
  },
  {
   "cell_type": "code",
   "execution_count": 3,
   "id": "e995a9c3",
   "metadata": {},
   "outputs": [],
   "source": [
    "# Check sklearn metrics name for feature selection\n",
    "# sklearn.metrics.get_scorer_names()"
   ]
  },
  {
   "cell_type": "markdown",
   "id": "9e07aaa1-688d-4e10-935b-76a1a8966f6b",
   "metadata": {},
   "source": [
    "## Ordinary Least Squares Regression model"
   ]
  },
  {
   "cell_type": "markdown",
   "id": "8f695bb3-dd7f-414d-95af-2cc2fef57c9a",
   "metadata": {},
   "source": [
    "### Sequential forward floating selection"
   ]
  },
  {
   "cell_type": "code",
   "execution_count": 118,
   "id": "47c29049-28d8-42d3-8885-a6c1c6e8c6cc",
   "metadata": {
    "execution": {
     "iopub.execute_input": "2024-08-27T12:15:35.502438Z",
     "iopub.status.busy": "2024-08-27T12:15:35.501466Z",
     "iopub.status.idle": "2024-08-27T12:15:35.507270Z",
     "shell.execute_reply": "2024-08-27T12:15:35.506497Z",
     "shell.execute_reply.started": "2024-08-27T12:15:35.502410Z"
    },
    "scrolled": true
   },
   "outputs": [],
   "source": [
    "# Find the best size\n",
    "\n",
    "# Scoring = neg_mean_squared_error\n",
    "# sfs = SequentialFeatureSelector(linear_model.LinearRegression(),\n",
    "#                                 k_features='best',\n",
    "#                                 forward=True,\n",
    "#                                 floating=True,\n",
    "#                                 verbose = 2,\n",
    "#                                 scoring='neg_mean_squared_error',\n",
    "#                                 cv=25,\n",
    "#                                 n_jobs = -1\n",
    "#                                )\n",
    "# selected_features8 = sfs.fit(x, y)\n",
    "\n",
    "# Scoring = r2\n",
    "# sfs = SequentialFeatureSelector(linear_model.LinearRegression(),\n",
    "#                                 k_features='best',\n",
    "#                                 forward=True,\n",
    "#                                 floating=True,\n",
    "#                                 verbose = 1,\n",
    "#                                 scoring='r2',\n",
    "#                                 cv=20,\n",
    "#                                 n_jobs = -1\n",
    "#                                )\n",
    "# selected_features10 = sfs.fit(x, y)\n",
    "\n",
    "# # # Scoring = median absolute error\n",
    "# sfs = SequentialFeatureSelector(linear_model.LinearRegression(),\n",
    "#                                 k_features='best',\n",
    "#                                 forward=True,\n",
    "#                                 floating=True,\n",
    "#                                 verbose = 1,\n",
    "#                                 scoring='neg_median_absolute_error',\n",
    "#                                 cv=20,\n",
    "#                                 n_jobs = -1\n",
    "#                                )\n",
    "# selected_features13 = sfs.fit(x, y)\n",
    "\n",
    "# # Scoring = mean absolute error\n",
    "# sfs = SequentialFeatureSelector(linear_model.LinearRegression(),\n",
    "#                                 k_features='best',\n",
    "#                                 forward=True,\n",
    "#                                 floating=True,\n",
    "#                                 verbose = 1,\n",
    "#                                 scoring='neg_mean_absolute_error',\n",
    "#                                 cv=20,\n",
    "#                                 n_jobs = -1\n",
    "#                                )\n",
    "# selected_features16 = sfs.fit(x, y)\n"
   ]
  },
  {
   "cell_type": "code",
   "execution_count": 112,
   "id": "b7b7d96a-1b38-41b4-bf2a-b99991852105",
   "metadata": {
    "execution": {
     "iopub.execute_input": "2024-09-20T15:37:25.241503Z",
     "iopub.status.busy": "2024-09-20T15:37:25.240546Z",
     "iopub.status.idle": "2024-09-20T15:38:18.919952Z",
     "shell.execute_reply": "2024-09-20T15:38:18.919150Z",
     "shell.execute_reply.started": "2024-09-20T15:37:25.241472Z"
    }
   },
   "outputs": [
    {
     "name": "stdout",
     "output_type": "stream",
     "text": [
      "('dtrafficarea', 'droad', 'z_qnr_10', 'z_qnr_30', 'z_qnr_31', 'z_knr_8', 'trafficarea_2', 'r_width_4', 'r_width_5', 'r_width_6', 'r_surface_1', 'speedlimit_3', 'speedlimit_4', 'speedlimit_5')\n",
      "14\n",
      "-0.1468143631396745\n"
     ]
    }
   ],
   "source": [
    "# # n = best, linear regression, scoring = neg_mean_squared_error, cv = 5\n",
    "sffslin0 = featureselection_lin(True, 'neg_mean_squared_error', 5, x, y) \n",
    "print(sffslin0.k_feature_names_)\n",
    "print(len(sffslin0.k_feature_names_))\n",
    "print(sffslin0.k_score_)\n"
   ]
  },
  {
   "cell_type": "code",
   "execution_count": 113,
   "id": "7717119b-51d8-4973-a3d4-b0f438d59d6d",
   "metadata": {
    "execution": {
     "iopub.execute_input": "2024-09-20T15:40:22.684952Z",
     "iopub.status.busy": "2024-09-20T15:40:22.684440Z",
     "iopub.status.idle": "2024-09-20T15:41:13.028489Z",
     "shell.execute_reply": "2024-09-20T15:41:13.027780Z",
     "shell.execute_reply.started": "2024-09-20T15:40:22.684923Z"
    }
   },
   "outputs": [
    {
     "name": "stdout",
     "output_type": "stream",
     "text": [
      "('dvfpath', 'r_width_value', 'z_qnr_10', 'z_qnr_23', 'z_qnr_26', 'z_knr_4', 'z_knr_9', 'trafficarea_2', 'r_width_1', 'r_width_2', 'r_width_3', 'r_width_4', 'r_width_5', 'r_width_6', 'r_surface_1', 'speedlimit_1', 'speedlimit_3', 'speedlimit_4', 'speedlimit_5')\n",
      "19\n",
      "-0.12106485422671336\n"
     ]
    }
   ],
   "source": [
    "# # n = best, linear regression, scoring = neg_mean_squared_error, cv = 10\n",
    "sffslin1 = featureselection_lin(True, 'neg_mean_squared_error', 10, x, y) \n",
    "print(sffslin1.k_feature_names_)\n",
    "print(len(sffslin1.k_feature_names_))\n",
    "print(sffslin1.k_score_)\n"
   ]
  },
  {
   "cell_type": "code",
   "execution_count": 114,
   "id": "88db8602-533d-4912-8cee-7c215a85923b",
   "metadata": {
    "execution": {
     "iopub.execute_input": "2024-09-20T15:41:21.019068Z",
     "iopub.status.busy": "2024-09-20T15:41:21.018622Z",
     "iopub.status.idle": "2024-09-20T15:41:21.022660Z",
     "shell.execute_reply": "2024-09-20T15:41:21.021938Z",
     "shell.execute_reply.started": "2024-09-20T15:41:21.019048Z"
    }
   },
   "outputs": [],
   "source": [
    "# # # n = best, linear regression, scoring = neg_mean_squared_error, cv = 15\n",
    "# print(selected_features6.k_feature_names_)\n",
    "# print(len(selected_features6.k_feature_names_))\n",
    "# print(selected_features6.k_score_)\n",
    "# # 34"
   ]
  },
  {
   "cell_type": "code",
   "execution_count": 115,
   "id": "0af8f11f-99be-43f5-8010-0be0cad875ac",
   "metadata": {
    "execution": {
     "iopub.execute_input": "2024-09-20T15:41:21.932140Z",
     "iopub.status.busy": "2024-09-20T15:41:21.931722Z",
     "iopub.status.idle": "2024-09-20T15:41:21.936545Z",
     "shell.execute_reply": "2024-09-20T15:41:21.935071Z",
     "shell.execute_reply.started": "2024-09-20T15:41:21.932120Z"
    }
   },
   "outputs": [],
   "source": [
    "# # # n = best, linear regression, scoring = neg_mean_squared_error, cv = 20\n",
    "# print(selected_features7.k_feature_names_)\n",
    "# print(len(selected_features7.k_feature_names_))\n",
    "# print(selected_features7.k_score_)\n",
    "# 37"
   ]
  },
  {
   "cell_type": "code",
   "execution_count": 117,
   "id": "ce242bce-b9b8-4849-ab1c-938d39fb36d3",
   "metadata": {
    "execution": {
     "iopub.execute_input": "2024-09-20T15:41:56.183296Z",
     "iopub.status.busy": "2024-09-20T15:41:56.182605Z",
     "iopub.status.idle": "2024-09-20T15:42:41.250473Z",
     "shell.execute_reply": "2024-09-20T15:42:41.249792Z",
     "shell.execute_reply.started": "2024-09-20T15:41:56.183271Z"
    }
   },
   "outputs": [
    {
     "name": "stdout",
     "output_type": "stream",
     "text": [
      "('ie', 'mew', 'cmin', 'dstopsign', 'dvfpath', 'r_width_value', 'speedlimit_value', 'z_qnr_3', 'z_qnr_10', 'z_qnr_11', 'z_qnr_13', 'z_qnr_14', 'z_qnr_23', 'z_knr_5', 'z_knr_6', 'z_knr_7', 'z_knr_9', 'r_width_1', 'r_width_3', 'r_width_4', 'r_width_5', 'r_width_6', 'r_surface_1', 'speedlimit_1', 'speedlimit_4')\n",
      "25\n",
      "0.09083514182795516\n"
     ]
    }
   ],
   "source": [
    "# # n = best, linear regression, scoring = r2, cv = 5\n",
    "sffslin2 = featureselection_lin(True, 'r2', 5, x, y) \n",
    "print(sffslin2.k_feature_names_)\n",
    "print(len(sffslin2.k_feature_names_))\n",
    "print(sffslin2.k_score_)"
   ]
  },
  {
   "cell_type": "code",
   "execution_count": 131,
   "id": "fa7612cf-e8b3-49e4-abcc-0bc257beec93",
   "metadata": {
    "execution": {
     "iopub.execute_input": "2024-09-20T15:47:46.432099Z",
     "iopub.status.busy": "2024-09-20T15:47:46.431126Z",
     "iopub.status.idle": "2024-09-20T15:48:47.184191Z",
     "shell.execute_reply": "2024-09-20T15:48:47.183580Z",
     "shell.execute_reply.started": "2024-09-20T15:47:46.432080Z"
    }
   },
   "outputs": [
    {
     "name": "stdout",
     "output_type": "stream",
     "text": [
      "('cp', 'ie', 'mew', 'megmax', 'dparktw', 'dpedcro', 'dstopsign', 'droad', 'r_width_value', 'speedlimit_value', 'z_qnr_2', 'z_qnr_3', 'z_qnr_4', 'z_qnr_6', 'z_qnr_9', 'z_qnr_10', 'z_qnr_12', 'z_qnr_13', 'z_qnr_14', 'z_qnr_15', 'z_qnr_16', 'z_qnr_18', 'z_qnr_23', 'z_qnr_25', 'z_qnr_27', 'z_qnr_30', 'z_qnr_31', 'z_qnr_32', 'z_knr_1', 'z_knr_2', 'z_knr_6', 'z_knr_7', 'z_knr_8', 'z_knr_11', 'r_width_1', 'r_width_3', 'r_width_4', 'r_width_5', 'r_width_6', 'r_surface_1', 'speedlimit_1', 'speedlimit_4', 'speedlimit_5')\n",
      "43\n",
      "-0.003116770937851121\n"
     ]
    }
   ],
   "source": [
    "# n = best, linear regression, scoring = r2, cv = 10\n",
    "sffslin3 = featureselection_lin(True, 'r2', 10, x, y) \n",
    "print(sffslin3.k_feature_names_)\n",
    "print(len(sffslin3.k_feature_names_))\n",
    "print(sffslin3.k_score_)"
   ]
  },
  {
   "cell_type": "code",
   "execution_count": 118,
   "id": "70516ca0-3694-4562-9425-d90231b30065",
   "metadata": {
    "execution": {
     "iopub.execute_input": "2024-09-20T15:42:41.252158Z",
     "iopub.status.busy": "2024-09-20T15:42:41.251977Z",
     "iopub.status.idle": "2024-09-20T15:42:41.255311Z",
     "shell.execute_reply": "2024-09-20T15:42:41.254805Z",
     "shell.execute_reply.started": "2024-09-20T15:42:41.252143Z"
    }
   },
   "outputs": [],
   "source": [
    "# # # n = best, linear regression, scoring = r2, cv = 15\n",
    "# print(selected_features9.k_feature_names_)\n",
    "# print(len(selected_features9.k_feature_names_))\n",
    "# print(selected_features9.k_score_)\n",
    "# # 59"
   ]
  },
  {
   "cell_type": "code",
   "execution_count": 119,
   "id": "3f8d5b7f-134e-494d-82cb-1b7bf8020abd",
   "metadata": {
    "execution": {
     "iopub.execute_input": "2024-09-20T15:42:41.256004Z",
     "iopub.status.busy": "2024-09-20T15:42:41.255865Z",
     "iopub.status.idle": "2024-09-20T15:42:41.266994Z",
     "shell.execute_reply": "2024-09-20T15:42:41.266464Z",
     "shell.execute_reply.started": "2024-09-20T15:42:41.255991Z"
    }
   },
   "outputs": [],
   "source": [
    "# # # n = best, linear regression, scoring = r2, cv = 20\n",
    "# print(selected_features10.k_feature_names_)\n",
    "# print(len(selected_features10.k_feature_names_))\n",
    "# print(selected_features10.k_score_)\n",
    "# # 73"
   ]
  },
  {
   "cell_type": "code",
   "execution_count": 120,
   "id": "e03c0b1f-c624-49c0-8783-5e30b9c2e46f",
   "metadata": {
    "execution": {
     "iopub.execute_input": "2024-09-20T15:43:04.832379Z",
     "iopub.status.busy": "2024-09-20T15:43:04.830776Z",
     "iopub.status.idle": "2024-09-20T15:43:58.561744Z",
     "shell.execute_reply": "2024-09-20T15:43:58.561033Z",
     "shell.execute_reply.started": "2024-09-20T15:43:04.832357Z"
    }
   },
   "outputs": [
    {
     "name": "stdout",
     "output_type": "stream",
     "text": [
      "('z_qnr_7', 'trafficarea_2', 'r_width_4', 'speedlimit_1', 'speedlimit_4')\n",
      "5\n",
      "-0.18490933143765312\n"
     ]
    }
   ],
   "source": [
    "# # # n = best, linear regression, scoring = neg median absolute error, cv = 5\n",
    "sffslin4 = featureselection_lin(True, 'neg_median_absolute_error', 5, x, y) \n",
    "print(sffslin4.k_feature_names_)\n",
    "print(len(sffslin4.k_feature_names_))\n",
    "print(sffslin4.k_score_)"
   ]
  },
  {
   "cell_type": "code",
   "execution_count": 133,
   "id": "70bfd1b1-267e-4c77-8197-768721021845",
   "metadata": {
    "execution": {
     "iopub.execute_input": "2024-09-20T15:49:05.450295Z",
     "iopub.status.busy": "2024-09-20T15:49:05.450037Z",
     "iopub.status.idle": "2024-09-20T15:50:54.902982Z",
     "shell.execute_reply": "2024-09-20T15:50:54.902206Z",
     "shell.execute_reply.started": "2024-09-20T15:49:05.450278Z"
    }
   },
   "outputs": [
    {
     "name": "stdout",
     "output_type": "stream",
     "text": [
      "('r_width_value', 'speedlimit_value', 'z_qnr_20', 'z_qnr_22', 'z_qnr_26', 'trafficarea_2', 'r_width_3', 'r_width_4', 'r_width_5', 'r_width_6', 'r_surface_1', 'speedlimit_4')\n",
      "12\n",
      "-0.13157577362107836\n"
     ]
    }
   ],
   "source": [
    "# # # n = best, linear regression, scoring = neg median absolute error, cv = 10\n",
    "sffslin5 = featureselection_lin(True, 'neg_median_absolute_error', 10, x, y) \n",
    "print(sffslin5.k_feature_names_)\n",
    "print(len(sffslin5.k_feature_names_))\n",
    "print(sffslin5.k_score_)"
   ]
  },
  {
   "cell_type": "code",
   "execution_count": 121,
   "id": "9eef5e5f-dea7-46ba-91fb-0706028a604b",
   "metadata": {
    "execution": {
     "iopub.execute_input": "2024-09-20T15:43:58.563083Z",
     "iopub.status.busy": "2024-09-20T15:43:58.562917Z",
     "iopub.status.idle": "2024-09-20T15:43:58.565675Z",
     "shell.execute_reply": "2024-09-20T15:43:58.565075Z",
     "shell.execute_reply.started": "2024-09-20T15:43:58.563068Z"
    }
   },
   "outputs": [],
   "source": [
    "# # # n = best, linear regression, scoring = neg median absolute error, cv = 15\n",
    "# print(selected_features12.k_feature_names_)\n",
    "# print(len(selected_features12.k_feature_names_))\n",
    "# print(selected_features12.k_score_)\n",
    "# 21"
   ]
  },
  {
   "cell_type": "code",
   "execution_count": 122,
   "id": "48e725d7-8fb6-4909-9b6b-46db5356a235",
   "metadata": {
    "execution": {
     "iopub.execute_input": "2024-09-20T15:43:58.566613Z",
     "iopub.status.busy": "2024-09-20T15:43:58.566469Z",
     "iopub.status.idle": "2024-09-20T15:43:58.576171Z",
     "shell.execute_reply": "2024-09-20T15:43:58.575615Z",
     "shell.execute_reply.started": "2024-09-20T15:43:58.566601Z"
    }
   },
   "outputs": [],
   "source": [
    "# # n = best, linear regression, scoring = neg median absolute error, cv = 20\n",
    "# print(selected_features13.k_feature_names_)\n",
    "# print(len(selected_features13.k_feature_names_))\n",
    "# print(selected_features13.k_score_)\n",
    "# # 11"
   ]
  },
  {
   "cell_type": "code",
   "execution_count": 125,
   "id": "3c4446c6-6797-42f7-b2f9-78eac7c93c66",
   "metadata": {
    "execution": {
     "iopub.execute_input": "2024-09-20T15:45:44.486796Z",
     "iopub.status.busy": "2024-09-20T15:45:44.486475Z",
     "iopub.status.idle": "2024-09-20T15:46:21.572811Z",
     "shell.execute_reply": "2024-09-20T15:46:21.572131Z",
     "shell.execute_reply.started": "2024-09-20T15:45:44.486780Z"
    }
   },
   "outputs": [
    {
     "name": "stdout",
     "output_type": "stream",
     "text": [
      "('dtrafficarea', 'z_qnr_10', 'trafficarea_2', 'r_width_4', 'r_width_5', 'r_surface_1', 'speedlimit_1', 'speedlimit_3', 'speedlimit_4', 'speedlimit_5')\n",
      "10\n",
      "-0.28187575192075237\n"
     ]
    }
   ],
   "source": [
    "# # # n = best, linear regression, scoring = neg mean absolute error, cv = 5\n",
    "sffslin6 = featureselection_lin(True, 'neg_mean_absolute_error', 5, x, y) \n",
    "print(sffslin6.k_feature_names_)\n",
    "print(len(sffslin6.k_feature_names_))\n",
    "print(sffslin6.k_score_)"
   ]
  },
  {
   "cell_type": "code",
   "execution_count": 124,
   "id": "580d72e6-f3d6-4de9-ae2f-b7880b0d9a53",
   "metadata": {
    "execution": {
     "iopub.execute_input": "2024-09-20T15:44:57.963080Z",
     "iopub.status.busy": "2024-09-20T15:44:57.962919Z",
     "iopub.status.idle": "2024-09-20T15:45:44.485640Z",
     "shell.execute_reply": "2024-09-20T15:45:44.484964Z",
     "shell.execute_reply.started": "2024-09-20T15:44:57.963065Z"
    }
   },
   "outputs": [
    {
     "name": "stdout",
     "output_type": "stream",
     "text": [
      "('dplight', 'r_width_value', 'speedlimit_value', 'z_qnr_23', 'z_qnr_26', 'z_knr_4', 'z_knr_9', 'trafficarea_2', 'r_width_3', 'r_width_4', 'r_width_5', 'r_width_6', 'r_surface_1', 'speedlimit_4')\n",
      "14\n",
      "-0.2420524177831998\n"
     ]
    }
   ],
   "source": [
    "# # # n = best, linear regression, scoring = neg mean absolute error, cv = 10\n",
    "sffslin7 = featureselection_lin(True, 'neg_mean_absolute_error', 10, x, y) \n",
    "print(sffslin7.k_feature_names_)\n",
    "print(len(sffslin7.k_feature_names_))\n",
    "print(sffslin7.k_score_)"
   ]
  },
  {
   "cell_type": "code",
   "execution_count": 126,
   "id": "473c4fef-064b-4603-853c-ceb45c57eb62",
   "metadata": {
    "execution": {
     "iopub.execute_input": "2024-09-20T15:46:21.574304Z",
     "iopub.status.busy": "2024-09-20T15:46:21.574132Z",
     "iopub.status.idle": "2024-09-20T15:46:21.577058Z",
     "shell.execute_reply": "2024-09-20T15:46:21.576572Z",
     "shell.execute_reply.started": "2024-09-20T15:46:21.574288Z"
    }
   },
   "outputs": [],
   "source": [
    "# # n = best, linear regression, scoring = neg mean absolute error, cv = 15\n",
    "# print(selected_features15.k_feature_names_)\n",
    "# print(len(selected_features15.k_feature_names_))\n",
    "# print(selected_features15.k_score_)\n",
    "# # 24"
   ]
  },
  {
   "cell_type": "code",
   "execution_count": 127,
   "id": "9bad9eae-dc35-41ef-84f1-f25b0f8d7622",
   "metadata": {
    "execution": {
     "iopub.execute_input": "2024-09-20T15:46:21.577738Z",
     "iopub.status.busy": "2024-09-20T15:46:21.577577Z",
     "iopub.status.idle": "2024-09-20T15:46:21.589237Z",
     "shell.execute_reply": "2024-09-20T15:46:21.588739Z",
     "shell.execute_reply.started": "2024-09-20T15:46:21.577725Z"
    }
   },
   "outputs": [],
   "source": [
    "# # # n = best, linear regression, scoring = neg mean absolute error, cv = 20\n",
    "# print(selected_features16.k_feature_names_)\n",
    "# print(len(selected_features16.k_feature_names_))\n",
    "# print(selected_features16.k_score_)\n",
    "# # 22"
   ]
  },
  {
   "cell_type": "code",
   "execution_count": 135,
   "id": "ed4ea5e7-5942-46d6-abdc-c5ae3aeb66aa",
   "metadata": {
    "execution": {
     "iopub.execute_input": "2024-09-20T15:51:22.980522Z",
     "iopub.status.busy": "2024-09-20T15:51:22.979679Z",
     "iopub.status.idle": "2024-09-20T15:51:22.984347Z",
     "shell.execute_reply": "2024-09-20T15:51:22.983812Z",
     "shell.execute_reply.started": "2024-09-20T15:51:22.980500Z"
    }
   },
   "outputs": [],
   "source": [
    "selected_columns_linr_sffs = []\n",
    "selected_columns_linr_sffs = {'nmse_cv5':list(sffslin0.k_feature_names_), \n",
    "                              'nmse_cv10':list(sffslin1.k_feature_names_), \n",
    "                              'r2_cv5':list(sffslin2.k_feature_names_), \n",
    "                              'r2_cv10':list(sffslin3.k_feature_names_), \n",
    "                              'nmedae_cv5':list(sffslin4.k_feature_names_), \n",
    "                              'nmedae_cv10':list(sffslin5.k_feature_names_), \n",
    "                              'nmeae_cv5':list(sffslin6.k_feature_names_), \n",
    "                              'nmeae_cv10':list(sffslin7.k_feature_names_)}"
   ]
  },
  {
   "cell_type": "code",
   "execution_count": 136,
   "id": "c349dec0-822c-45c3-ac7e-0230b3267ab7",
   "metadata": {
    "execution": {
     "iopub.execute_input": "2024-09-20T15:51:24.495880Z",
     "iopub.status.busy": "2024-09-20T15:51:24.495224Z",
     "iopub.status.idle": "2024-09-20T15:51:24.502130Z",
     "shell.execute_reply": "2024-09-20T15:51:24.501584Z",
     "shell.execute_reply.started": "2024-09-20T15:51:24.495859Z"
    }
   },
   "outputs": [],
   "source": [
    "df_sf_linr_sffs = pd.DataFrame(dict([(k,pd.Series(v)) for k,v in selected_columns_linr_sffs.items()]))"
   ]
  },
  {
   "cell_type": "code",
   "execution_count": 137,
   "id": "e49537ed-5015-496f-b153-79e8112628fd",
   "metadata": {
    "execution": {
     "iopub.execute_input": "2024-09-20T15:52:06.676896Z",
     "iopub.status.busy": "2024-09-20T15:52:06.675829Z",
     "iopub.status.idle": "2024-09-20T15:52:06.687292Z",
     "shell.execute_reply": "2024-09-20T15:52:06.686738Z",
     "shell.execute_reply.started": "2024-09-20T15:52:06.676845Z"
    }
   },
   "outputs": [],
   "source": [
    "df_sf_linr_sffs.to_csv('/home/yelhe/script/mtp/tables/updated_sffs_linearreg.csv', index = True)"
   ]
  },
  {
   "cell_type": "code",
   "execution_count": 152,
   "id": "16d38534-395b-4230-a4ca-49ef5b9fcddb",
   "metadata": {
    "execution": {
     "iopub.execute_input": "2024-09-20T15:53:12.209651Z",
     "iopub.status.busy": "2024-09-20T15:53:12.209201Z",
     "iopub.status.idle": "2024-09-20T15:53:12.212353Z",
     "shell.execute_reply": "2024-09-20T15:53:12.211937Z",
     "shell.execute_reply.started": "2024-09-20T15:53:12.209631Z"
    }
   },
   "outputs": [],
   "source": [
    "# selected_columns = list(sffslin.k_feature_names_)\n"
   ]
  },
  {
   "cell_type": "code",
   "execution_count": 257,
   "id": "1e8eeea1-6516-48e7-88bc-8ac98d223fa2",
   "metadata": {
    "execution": {
     "iopub.execute_input": "2024-09-20T16:49:06.940495Z",
     "iopub.status.busy": "2024-09-20T16:49:06.940256Z",
     "iopub.status.idle": "2024-09-20T16:49:06.943380Z",
     "shell.execute_reply": "2024-09-20T16:49:06.942866Z",
     "shell.execute_reply.started": "2024-09-20T16:49:06.940479Z"
    },
    "scrolled": true
   },
   "outputs": [],
   "source": [
    "# # OLS\n",
    "# df_selected = dfacrpv[selected_columns]\n",
    "\n",
    "# m0 = sm.OLS(y, df_selected)\n",
    "# r0 = m0.fit()\n",
    "# r0.summary()"
   ]
  },
  {
   "cell_type": "markdown",
   "id": "165da463-0e31-4348-af57-0403dd3f29ed",
   "metadata": {},
   "source": [
    "### Sequential backward floating selection"
   ]
  },
  {
   "cell_type": "code",
   "execution_count": 154,
   "id": "f531ac9b-d567-4f0c-ab02-09733e44b31d",
   "metadata": {
    "execution": {
     "iopub.execute_input": "2024-09-20T15:54:18.114994Z",
     "iopub.status.busy": "2024-09-20T15:54:18.114108Z",
     "iopub.status.idle": "2024-09-20T15:54:38.319740Z",
     "shell.execute_reply": "2024-09-20T15:54:38.319039Z",
     "shell.execute_reply.started": "2024-09-20T15:54:18.114938Z"
    }
   },
   "outputs": [
    {
     "name": "stdout",
     "output_type": "stream",
     "text": [
      "('dtrafficarea', 'droad', 'z_qnr_10', 'z_qnr_30', 'z_qnr_31', 'z_knr_8', 'trafficarea_2', 'r_width_4', 'r_width_5', 'r_width_6', 'r_surface_1', 'speedlimit_3', 'speedlimit_4', 'speedlimit_5')\n",
      "14\n",
      "-0.1468143631396745\n"
     ]
    }
   ],
   "source": [
    "# # n = best, linear regression, backward, scoring = neg_mean_squared_error, cv = 5\n",
    "sbfslin0 = featureselection_lin(False, 'neg_mean_squared_error', 5, x, y) \n",
    "print(sbfslin0.k_feature_names_)\n",
    "print(len(sbfslin0.k_feature_names_))\n",
    "print(sbfslin0.k_score_)"
   ]
  },
  {
   "cell_type": "code",
   "execution_count": 155,
   "id": "46dba83a-ad2c-4e0f-8b3f-94dae9279c2a",
   "metadata": {
    "execution": {
     "iopub.execute_input": "2024-09-20T15:54:43.854289Z",
     "iopub.status.busy": "2024-09-20T15:54:43.853832Z",
     "iopub.status.idle": "2024-09-20T15:55:12.137600Z",
     "shell.execute_reply": "2024-09-20T15:55:12.136944Z",
     "shell.execute_reply.started": "2024-09-20T15:54:43.854270Z"
    }
   },
   "outputs": [
    {
     "name": "stdout",
     "output_type": "stream",
     "text": [
      "('ie', 'dvfpath', 'r_width_value', 'speedlimit_value', 'z_qnr_10', 'z_qnr_23', 'z_qnr_25', 'z_qnr_26', 'z_knr_4', 'z_knr_9', 'trafficarea_2', 'r_width_1', 'r_width_2', 'r_width_3', 'r_width_4', 'r_width_5', 'r_width_6', 'r_surface_1', 'speedlimit_3', 'speedlimit_4')\n",
      "20\n",
      "-0.12100686105804259\n"
     ]
    }
   ],
   "source": [
    "# # n = best, linear regression, backward, scoring = neg_mean_squared_error, cv = 10\n",
    "sbfslin1 = featureselection_lin(False, 'neg_mean_squared_error', 10, x, y) \n",
    "print(sbfslin1.k_feature_names_)\n",
    "print(len(sbfslin1.k_feature_names_))\n",
    "print(sbfslin1.k_score_)\n"
   ]
  },
  {
   "cell_type": "code",
   "execution_count": 156,
   "id": "3e45e3c2-abef-439f-bcc6-7680fe6b4f7e",
   "metadata": {
    "execution": {
     "iopub.execute_input": "2024-09-20T15:55:12.138868Z",
     "iopub.status.busy": "2024-09-20T15:55:12.138701Z",
     "iopub.status.idle": "2024-09-20T15:55:12.141642Z",
     "shell.execute_reply": "2024-09-20T15:55:12.141163Z",
     "shell.execute_reply.started": "2024-09-20T15:55:12.138853Z"
    }
   },
   "outputs": [],
   "source": [
    "# # n = best, linear regression, backward, scoring = neg_mean_squared_error, cv = 15\n",
    "# print(sbfs2.k_feature_names_)\n",
    "# print(len(sbfs2.k_feature_names_))\n",
    "# print(sbfs2.k_score_)\n",
    "# # 26"
   ]
  },
  {
   "cell_type": "code",
   "execution_count": 157,
   "id": "7199ef07-1051-4e11-a704-988f7d21bd4e",
   "metadata": {
    "execution": {
     "iopub.execute_input": "2024-09-20T15:55:12.142395Z",
     "iopub.status.busy": "2024-09-20T15:55:12.142242Z",
     "iopub.status.idle": "2024-09-20T15:55:12.154675Z",
     "shell.execute_reply": "2024-09-20T15:55:12.154113Z",
     "shell.execute_reply.started": "2024-09-20T15:55:12.142381Z"
    }
   },
   "outputs": [],
   "source": [
    "# # n = best, linear regression, backward, scoring = neg_mean_squared_error, cv = 20\n",
    "# print(sbfs3.k_feature_names_)\n",
    "# print(len(sbfs3.k_feature_names_))\n",
    "# print(sbfs3.k_score_)\n",
    "# # 52"
   ]
  },
  {
   "cell_type": "code",
   "execution_count": 158,
   "id": "e91657a5-b828-4141-aad7-2c78c47a0ede",
   "metadata": {
    "execution": {
     "iopub.execute_input": "2024-09-20T15:55:20.586267Z",
     "iopub.status.busy": "2024-09-20T15:55:20.585781Z",
     "iopub.status.idle": "2024-09-20T15:56:03.891451Z",
     "shell.execute_reply": "2024-09-20T15:56:03.890780Z",
     "shell.execute_reply.started": "2024-09-20T15:55:20.586248Z"
    }
   },
   "outputs": [
    {
     "name": "stdout",
     "output_type": "stream",
     "text": [
      "('ie', 'mew', 'cmin', 'dstopsign', 'dvfpath', 'r_width_value', 'speedlimit_value', 'z_qnr_3', 'z_qnr_10', 'z_qnr_11', 'z_qnr_13', 'z_qnr_14', 'z_qnr_23', 'z_knr_5', 'z_knr_6', 'z_knr_7', 'z_knr_9', 'r_width_1', 'r_width_3', 'r_width_4', 'r_width_5', 'r_width_6', 'r_surface_1', 'speedlimit_1', 'speedlimit_4')\n",
      "25\n",
      "0.09083514182795516\n"
     ]
    }
   ],
   "source": [
    "# # n = best, linear regression, backward, scoring = r2, cv = 5\n",
    "sbfslin2 = featureselection_lin(False, 'r2', 5, x, y) \n",
    "print(sbfslin2.k_feature_names_)\n",
    "print(len(sbfslin2.k_feature_names_))\n",
    "print(sbfslin2.k_score_)"
   ]
  },
  {
   "cell_type": "code",
   "execution_count": 159,
   "id": "881471b7-90c3-4d41-b317-2fd906d67a99",
   "metadata": {
    "execution": {
     "iopub.execute_input": "2024-09-20T15:56:03.892648Z",
     "iopub.status.busy": "2024-09-20T15:56:03.892465Z",
     "iopub.status.idle": "2024-09-20T15:56:53.006118Z",
     "shell.execute_reply": "2024-09-20T15:56:53.005397Z",
     "shell.execute_reply.started": "2024-09-20T15:56:03.892632Z"
    }
   },
   "outputs": [
    {
     "name": "stdout",
     "output_type": "stream",
     "text": [
      "('ie', 'mew', 'cmin', 'dstopsign', 'dvfpath', 'r_width_value', 'speedlimit_value', 'z_qnr_2', 'z_qnr_3', 'z_qnr_4', 'z_qnr_6', 'z_qnr_9', 'z_qnr_10', 'z_qnr_13', 'z_qnr_14', 'z_qnr_15', 'z_qnr_16', 'z_qnr_18', 'z_qnr_25', 'z_qnr_26', 'z_qnr_30', 'z_qnr_31', 'z_qnr_32', 'z_knr_1', 'z_knr_2', 'z_knr_5', 'z_knr_6', 'z_knr_7', 'z_knr_8', 'trafficarea_1', 'trafficarea_2', 'r_width_1', 'r_width_2', 'r_width_3', 'r_width_4', 'r_width_5', 'r_width_6', 'r_surface_1', 'speedlimit_3', 'speedlimit_4', 'speedlimit_5')\n",
      "41\n",
      "-0.0037091494395070645\n"
     ]
    }
   ],
   "source": [
    "# # n = best, linear regression, backward, scoring = r2, cv = 10\n",
    "sbfslin3 = featureselection_lin(False, 'r2', 10, x, y) \n",
    "print(sbfslin3.k_feature_names_)\n",
    "print(len(sbfslin3.k_feature_names_))\n",
    "print(sbfslin3.k_score_)"
   ]
  },
  {
   "cell_type": "code",
   "execution_count": 162,
   "id": "72940d7b-ffad-407e-92a8-536ec139466e",
   "metadata": {
    "execution": {
     "iopub.execute_input": "2024-09-20T15:56:53.022150Z",
     "iopub.status.busy": "2024-09-20T15:56:53.021992Z",
     "iopub.status.idle": "2024-09-20T15:56:53.030398Z",
     "shell.execute_reply": "2024-09-20T15:56:53.029791Z",
     "shell.execute_reply.started": "2024-09-20T15:56:53.022137Z"
    }
   },
   "outputs": [],
   "source": [
    "# # n = best, linear regression, backward, scoring = r2, cv = 15\n"
   ]
  },
  {
   "cell_type": "code",
   "execution_count": 163,
   "id": "66940b00-d245-42c9-af4c-d59599f4c2b3",
   "metadata": {
    "execution": {
     "iopub.execute_input": "2024-09-20T15:56:53.031253Z",
     "iopub.status.busy": "2024-09-20T15:56:53.031101Z",
     "iopub.status.idle": "2024-09-20T15:56:53.039397Z",
     "shell.execute_reply": "2024-09-20T15:56:53.038838Z",
     "shell.execute_reply.started": "2024-09-20T15:56:53.031240Z"
    }
   },
   "outputs": [],
   "source": [
    "# # n = best, linear regression, backward, scoring = r2, cv = 20\n"
   ]
  },
  {
   "cell_type": "code",
   "execution_count": 165,
   "id": "a70a2f1c-b05c-41a0-a416-6c829ff98f91",
   "metadata": {
    "execution": {
     "iopub.execute_input": "2024-09-20T15:57:31.410535Z",
     "iopub.status.busy": "2024-09-20T15:57:31.409531Z",
     "iopub.status.idle": "2024-09-20T15:57:56.240240Z",
     "shell.execute_reply": "2024-09-20T15:57:56.239598Z",
     "shell.execute_reply.started": "2024-09-20T15:57:31.410489Z"
    }
   },
   "outputs": [
    {
     "name": "stdout",
     "output_type": "stream",
     "text": [
      "('z_qnr_7', 'z_qnr_8', 'z_qnr_12', 'z_qnr_16', 'z_qnr_22', 'z_qnr_27', 'z_knr_4', 'z_knr_5', 'z_knr_9', 'trafficarea_2', 'r_width_4', 'r_width_6', 'speedlimit_4')\n",
      "13\n",
      "-0.1534518932857683\n"
     ]
    }
   ],
   "source": [
    "# # n = best, linear regression, backward, scoring = neg median aboslute error, cv = 5\n",
    "sbfslin4 = featureselection_lin(False, 'neg_median_absolute_error', 5, x, y) \n",
    "print(sbfslin4.k_feature_names_)\n",
    "print(len(sbfslin4.k_feature_names_))\n",
    "print(sbfslin4.k_score_)"
   ]
  },
  {
   "cell_type": "code",
   "execution_count": 166,
   "id": "a0d6c2f0-95db-47a3-ba56-c652ec28ba29",
   "metadata": {
    "execution": {
     "iopub.execute_input": "2024-09-20T15:58:02.100874Z",
     "iopub.status.busy": "2024-09-20T15:58:02.100434Z",
     "iopub.status.idle": "2024-09-20T15:58:43.369797Z",
     "shell.execute_reply": "2024-09-20T15:58:43.369043Z",
     "shell.execute_reply.started": "2024-09-20T15:58:02.100856Z"
    }
   },
   "outputs": [
    {
     "name": "stdout",
     "output_type": "stream",
     "text": [
      "('r_width_value', 'speedlimit_value', 'z_qnr_20', 'z_qnr_22', 'z_qnr_26', 'trafficarea_2', 'r_width_3', 'r_width_4', 'r_width_5', 'r_width_6', 'r_surface_1', 'speedlimit_4')\n",
      "12\n",
      "-0.13157577362107836\n"
     ]
    }
   ],
   "source": [
    "# # n = best, linear regression, backward, scoring = neg median aboslute error, cv = 10\n",
    "sbfslin5 = featureselection_lin(False, 'neg_median_absolute_error', 10, x, y) \n",
    "print(sbfslin5.k_feature_names_)\n",
    "print(len(sbfslin5.k_feature_names_))\n",
    "print(sbfslin5.k_score_)"
   ]
  },
  {
   "cell_type": "code",
   "execution_count": 252,
   "id": "e0246940-713e-4570-aed2-f614ac8f68e6",
   "metadata": {
    "execution": {
     "iopub.execute_input": "2024-08-27T14:20:43.528084Z",
     "iopub.status.busy": "2024-08-27T14:20:43.527246Z",
     "iopub.status.idle": "2024-08-27T14:20:43.532038Z",
     "shell.execute_reply": "2024-08-27T14:20:43.531446Z",
     "shell.execute_reply.started": "2024-08-27T14:20:43.528063Z"
    }
   },
   "outputs": [
    {
     "name": "stdout",
     "output_type": "stream",
     "text": [
      "('z_qnr_1', 'z_qnr_5', 'z_qnr_7', 'z_qnr_16', 'z_qnr_20', 'z_qnr_26', 'z_qnr_28', 'z_qnr_29', 'z_knr_9', 'trafficarea_3', 'r_width_4', 'speedlimit_2', 'speedlimit_4', 'speedlimit_6')\n",
      "14\n",
      "-0.14787659233510794\n"
     ]
    }
   ],
   "source": [
    "# # n = best, linear regression, backward, scoring = neg median aboslute error, cv = 15\n"
   ]
  },
  {
   "cell_type": "code",
   "execution_count": 254,
   "id": "805bf481-fcb5-4208-a1a4-a096ed638996",
   "metadata": {
    "execution": {
     "iopub.execute_input": "2024-08-27T15:21:15.815970Z",
     "iopub.status.busy": "2024-08-27T15:21:15.815627Z",
     "iopub.status.idle": "2024-08-27T15:21:15.821791Z",
     "shell.execute_reply": "2024-08-27T15:21:15.820810Z",
     "shell.execute_reply.started": "2024-08-27T15:21:15.815951Z"
    }
   },
   "outputs": [
    {
     "name": "stdout",
     "output_type": "stream",
     "text": [
      "('z_knr_12', 'trafficarea_1', 'trafficarea_2', 'trafficarea_3', 'r_width_4', 'r_width_6', 'speedlimit_2', 'speedlimit_4', 'speedlimit_6')\n",
      "9\n",
      "-0.12273976660347483\n"
     ]
    }
   ],
   "source": [
    "# # n = best, linear regression, backward, scoring = neg median aboslute error, cv = 20\n"
   ]
  },
  {
   "cell_type": "code",
   "execution_count": 167,
   "id": "976d1b34-d087-484a-bb09-679bc73387c3",
   "metadata": {
    "execution": {
     "iopub.execute_input": "2024-09-20T15:58:43.371875Z",
     "iopub.status.busy": "2024-09-20T15:58:43.371707Z",
     "iopub.status.idle": "2024-09-20T15:59:01.433389Z",
     "shell.execute_reply": "2024-09-20T15:59:01.432703Z",
     "shell.execute_reply.started": "2024-09-20T15:58:43.371860Z"
    }
   },
   "outputs": [
    {
     "name": "stdout",
     "output_type": "stream",
     "text": [
      "('dtrafficarea', 'z_qnr_10', 'trafficarea_2', 'r_width_4', 'r_width_5', 'r_surface_1', 'speedlimit_1', 'speedlimit_3', 'speedlimit_4', 'speedlimit_5')\n",
      "10\n",
      "-0.28187575192075237\n"
     ]
    }
   ],
   "source": [
    "# # n = best, linear regression, backward, scoring = neg mean absolute error, cv = 5\n",
    "sbfslin6 = featureselection_lin(False, 'neg_mean_absolute_error', 5, x, y) \n",
    "print(sbfslin6.k_feature_names_)\n",
    "print(len(sbfslin6.k_feature_names_))\n",
    "print(sbfslin6.k_score_)"
   ]
  },
  {
   "cell_type": "code",
   "execution_count": 168,
   "id": "20006330-64f5-4cc3-8f30-f6e755a5a527",
   "metadata": {
    "execution": {
     "iopub.execute_input": "2024-09-20T15:59:01.434311Z",
     "iopub.status.busy": "2024-09-20T15:59:01.434135Z",
     "iopub.status.idle": "2024-09-20T15:59:26.052208Z",
     "shell.execute_reply": "2024-09-20T15:59:26.051594Z",
     "shell.execute_reply.started": "2024-09-20T15:59:01.434295Z"
    }
   },
   "outputs": [
    {
     "name": "stdout",
     "output_type": "stream",
     "text": [
      "('dplight', 'r_width_value', 'speedlimit_value', 'z_qnr_23', 'z_qnr_26', 'z_knr_4', 'z_knr_9', 'trafficarea_2', 'r_width_3', 'r_width_4', 'r_width_5', 'r_width_6', 'r_surface_1', 'speedlimit_4')\n",
      "14\n",
      "-0.2420524177831998\n"
     ]
    }
   ],
   "source": [
    "# # n = best, linear regression, backward, scoring = neg mean aboslute error, cv = 10\n",
    "sbfslin7 = featureselection_lin(False, 'neg_mean_absolute_error', 10, x, y) \n",
    "print(sbfslin7.k_feature_names_)\n",
    "print(len(sbfslin7.k_feature_names_))\n",
    "print(sbfslin7.k_score_)"
   ]
  },
  {
   "cell_type": "code",
   "execution_count": 169,
   "id": "ee212512-5a78-4b0a-9b13-44cc2796ada9",
   "metadata": {
    "execution": {
     "iopub.execute_input": "2024-09-20T15:59:26.053534Z",
     "iopub.status.busy": "2024-09-20T15:59:26.053365Z",
     "iopub.status.idle": "2024-09-20T15:59:26.056202Z",
     "shell.execute_reply": "2024-09-20T15:59:26.055742Z",
     "shell.execute_reply.started": "2024-09-20T15:59:26.053519Z"
    }
   },
   "outputs": [],
   "source": [
    "# # n = best, linear regression, backward, scoring = neg mean aboslute error, cv = 15\n"
   ]
  },
  {
   "cell_type": "code",
   "execution_count": 170,
   "id": "c641d1c1-ff7e-4ec0-96c9-b50ab0729233",
   "metadata": {
    "execution": {
     "iopub.execute_input": "2024-09-20T15:59:26.056883Z",
     "iopub.status.busy": "2024-09-20T15:59:26.056728Z",
     "iopub.status.idle": "2024-09-20T15:59:26.068200Z",
     "shell.execute_reply": "2024-09-20T15:59:26.067702Z",
     "shell.execute_reply.started": "2024-09-20T15:59:26.056869Z"
    }
   },
   "outputs": [],
   "source": [
    "# n = best, linear regression, backward, scoring = neg mean aboslute error, cv = 20\n"
   ]
  },
  {
   "cell_type": "code",
   "execution_count": 171,
   "id": "f9621fb5-a9e4-4a0c-ad03-23c5df605e57",
   "metadata": {
    "execution": {
     "iopub.execute_input": "2024-09-20T16:00:01.460264Z",
     "iopub.status.busy": "2024-09-20T16:00:01.459963Z",
     "iopub.status.idle": "2024-09-20T16:00:01.464584Z",
     "shell.execute_reply": "2024-09-20T16:00:01.464066Z",
     "shell.execute_reply.started": "2024-09-20T16:00:01.460246Z"
    }
   },
   "outputs": [],
   "source": [
    "selected_columns_linr_sbfs = []\n",
    "selected_columns_linr_sbfs = {'all': cnu,\n",
    "                              'nmse_cv5':list(sbfslin0.k_feature_names_), \n",
    "                              'nmse_cv10':list(sbfslin1.k_feature_names_), \n",
    "                              'r2_cv5':list(sbfslin2.k_feature_names_), \n",
    "                              'r2_cv10':list(sbfslin3.k_feature_names_), \n",
    "                              'nmedae_cv5':list(sbfslin4.k_feature_names_), \n",
    "                              'nmedae_cv10':list(sbfslin5.k_feature_names_),\n",
    "                              'nmeae_cv5':list(sbfslin6.k_feature_names_), \n",
    "                              'nmeae_cv10':list(sbfslin7.k_feature_names_)}"
   ]
  },
  {
   "cell_type": "code",
   "execution_count": 172,
   "id": "4b089fba-ce5e-4166-be85-699efa8fe33c",
   "metadata": {
    "execution": {
     "iopub.execute_input": "2024-09-20T16:00:03.571171Z",
     "iopub.status.busy": "2024-09-20T16:00:03.570753Z",
     "iopub.status.idle": "2024-09-20T16:00:03.576859Z",
     "shell.execute_reply": "2024-09-20T16:00:03.576402Z",
     "shell.execute_reply.started": "2024-09-20T16:00:03.571153Z"
    }
   },
   "outputs": [],
   "source": [
    "df_sf_linr_sbfs = pd.DataFrame(dict([(k,pd.Series(v)) for k,v in selected_columns_linr_sbfs.items()]))"
   ]
  },
  {
   "cell_type": "code",
   "execution_count": 173,
   "id": "9db31abf-c984-4164-9e1d-0a0ecadbff47",
   "metadata": {
    "execution": {
     "iopub.execute_input": "2024-09-20T16:00:09.853261Z",
     "iopub.status.busy": "2024-09-20T16:00:09.852837Z",
     "iopub.status.idle": "2024-09-20T16:00:09.858837Z",
     "shell.execute_reply": "2024-09-20T16:00:09.858126Z",
     "shell.execute_reply.started": "2024-09-20T16:00:09.853243Z"
    }
   },
   "outputs": [],
   "source": [
    "df_sf_linr_sbfs.to_csv('/home/yelhe/script/mtp/tables/updated_sbfs_linearreg.csv', index = True)"
   ]
  },
  {
   "cell_type": "code",
   "execution_count": 188,
   "id": "7ab16cea-b108-4938-87f8-dee24f6ad52f",
   "metadata": {
    "execution": {
     "iopub.execute_input": "2024-09-20T16:02:07.923707Z",
     "iopub.status.busy": "2024-09-20T16:02:07.923104Z",
     "iopub.status.idle": "2024-09-20T16:02:07.926552Z",
     "shell.execute_reply": "2024-09-20T16:02:07.925900Z",
     "shell.execute_reply.started": "2024-09-20T16:02:07.923687Z"
    }
   },
   "outputs": [],
   "source": [
    "sbfs_columns = list(sbfslin7.k_feature_names_)"
   ]
  },
  {
   "cell_type": "code",
   "execution_count": 100,
   "id": "68f34554-c9ac-4206-a43f-e2f74808ef5a",
   "metadata": {
    "execution": {
     "iopub.execute_input": "2024-10-04T16:36:12.020461Z",
     "iopub.status.busy": "2024-10-04T16:36:12.019835Z",
     "iopub.status.idle": "2024-10-04T16:36:12.027371Z",
     "shell.execute_reply": "2024-10-04T16:36:12.026796Z",
     "shell.execute_reply.started": "2024-10-04T16:36:12.020441Z"
    }
   },
   "outputs": [],
   "source": [
    "# df_output = pd.read_csv('/home/yelhe/script/mtp/tables/updated_sbfs_linearreg.csv')"
   ]
  },
  {
   "cell_type": "code",
   "execution_count": 101,
   "id": "f6199d62-a34d-40e9-8c7b-31771dc1a543",
   "metadata": {
    "execution": {
     "iopub.execute_input": "2024-10-04T16:36:12.251469Z",
     "iopub.status.busy": "2024-10-04T16:36:12.250925Z",
     "iopub.status.idle": "2024-10-04T16:36:12.256620Z",
     "shell.execute_reply": "2024-10-04T16:36:12.255839Z",
     "shell.execute_reply.started": "2024-10-04T16:36:12.251446Z"
    }
   },
   "outputs": [
    {
     "data": {
      "text/plain": [
       "Index(['Unnamed: 0', 'all', 'nmse_cv5', 'nmse_cv10', 'r2_cv5', 'r2_cv10',\n",
       "       'nmedae_cv5', 'nmedae_cv10', 'nmeae_cv5', 'nmeae_cv10'],\n",
       "      dtype='object')"
      ]
     },
     "execution_count": 101,
     "metadata": {},
     "output_type": "execute_result"
    }
   ],
   "source": [
    "# df_output.columns"
   ]
  },
  {
   "cell_type": "code",
   "execution_count": 102,
   "id": "5de930bc-c41e-4ee1-a8ce-67ecdb663150",
   "metadata": {
    "execution": {
     "iopub.execute_input": "2024-10-04T16:36:12.529104Z",
     "iopub.status.busy": "2024-10-04T16:36:12.528446Z",
     "iopub.status.idle": "2024-10-04T16:36:12.532660Z",
     "shell.execute_reply": "2024-10-04T16:36:12.531709Z",
     "shell.execute_reply.started": "2024-10-04T16:36:12.529081Z"
    }
   },
   "outputs": [],
   "source": [
    "# prsq_lin_sffs = []\n",
    "# prsq_lin_sbfs = []"
   ]
  },
  {
   "cell_type": "code",
   "execution_count": 131,
   "id": "ce0c5c03-216e-4cec-ab7e-bbc0b8a661e1",
   "metadata": {
    "execution": {
     "iopub.execute_input": "2024-10-04T16:37:30.298080Z",
     "iopub.status.busy": "2024-10-04T16:37:30.297510Z",
     "iopub.status.idle": "2024-10-04T16:37:30.303144Z",
     "shell.execute_reply": "2024-10-04T16:37:30.302175Z",
     "shell.execute_reply.started": "2024-10-04T16:37:30.298061Z"
    }
   },
   "outputs": [],
   "source": [
    "\n",
    "\n",
    "# ## For sffs\n",
    "# l = list(df_output['nmeae_cv10'].dropna())\n",
    "\n",
    "# # x_selected\n",
    "# xs = dfacrpv[l]"
   ]
  },
  {
   "cell_type": "code",
   "execution_count": 132,
   "id": "bb2ba1f6-55cf-4a01-af58-72f17038bb0b",
   "metadata": {
    "execution": {
     "iopub.execute_input": "2024-10-04T16:37:30.452863Z",
     "iopub.status.busy": "2024-10-04T16:37:30.452346Z",
     "iopub.status.idle": "2024-10-04T16:37:30.484719Z",
     "shell.execute_reply": "2024-10-04T16:37:30.484225Z",
     "shell.execute_reply.started": "2024-10-04T16:37:30.452843Z"
    },
    "scrolled": true
   },
   "outputs": [
    {
     "data": {
      "text/html": [
       "<table class=\"simpletable\">\n",
       "<caption>OLS Regression Results</caption>\n",
       "<tr>\n",
       "  <th>Dep. Variable:</th>           <td>acp</td>       <th>  R-squared:         </th> <td>   0.510</td> \n",
       "</tr>\n",
       "<tr>\n",
       "  <th>Model:</th>                   <td>OLS</td>       <th>  Adj. R-squared:    </th> <td>   0.503</td> \n",
       "</tr>\n",
       "<tr>\n",
       "  <th>Method:</th>             <td>Least Squares</td>  <th>  F-statistic:       </th> <td>   79.61</td> \n",
       "</tr>\n",
       "<tr>\n",
       "  <th>Date:</th>             <td>Fri, 04 Oct 2024</td> <th>  Prob (F-statistic):</th> <td>7.28e-155</td>\n",
       "</tr>\n",
       "<tr>\n",
       "  <th>Time:</th>                 <td>18:37:30</td>     <th>  Log-Likelihood:    </th> <td> -274.08</td> \n",
       "</tr>\n",
       "<tr>\n",
       "  <th>No. Observations:</th>      <td>  1087</td>      <th>  AIC:               </th> <td>   578.2</td> \n",
       "</tr>\n",
       "<tr>\n",
       "  <th>Df Residuals:</th>          <td>  1072</td>      <th>  BIC:               </th> <td>   653.0</td> \n",
       "</tr>\n",
       "<tr>\n",
       "  <th>Df Model:</th>              <td>    14</td>      <th>                     </th>     <td> </td>    \n",
       "</tr>\n",
       "<tr>\n",
       "  <th>Covariance Type:</th>      <td>nonrobust</td>    <th>                     </th>     <td> </td>    \n",
       "</tr>\n",
       "</table>\n",
       "<table class=\"simpletable\">\n",
       "<tr>\n",
       "          <td></td>            <th>coef</th>     <th>std err</th>      <th>t</th>      <th>P>|t|</th>  <th>[0.025</th>    <th>0.975]</th>  \n",
       "</tr>\n",
       "<tr>\n",
       "  <th>const</th>            <td>   -0.3365</td> <td>    0.070</td> <td>   -4.815</td> <td> 0.000</td> <td>   -0.474</td> <td>   -0.199</td>\n",
       "</tr>\n",
       "<tr>\n",
       "  <th>dplight</th>          <td>    0.0138</td> <td>    0.010</td> <td>    1.390</td> <td> 0.165</td> <td>   -0.006</td> <td>    0.033</td>\n",
       "</tr>\n",
       "<tr>\n",
       "  <th>r_width_value</th>    <td>   -0.0917</td> <td>    0.019</td> <td>   -4.732</td> <td> 0.000</td> <td>   -0.130</td> <td>   -0.054</td>\n",
       "</tr>\n",
       "<tr>\n",
       "  <th>speedlimit_value</th> <td>   -0.0821</td> <td>    0.011</td> <td>   -7.253</td> <td> 0.000</td> <td>   -0.104</td> <td>   -0.060</td>\n",
       "</tr>\n",
       "<tr>\n",
       "  <th>z_qnr_23</th>         <td>   -0.2385</td> <td>    0.070</td> <td>   -3.388</td> <td> 0.001</td> <td>   -0.377</td> <td>   -0.100</td>\n",
       "</tr>\n",
       "<tr>\n",
       "  <th>z_qnr_26</th>         <td>   -0.2785</td> <td>    0.098</td> <td>   -2.841</td> <td> 0.005</td> <td>   -0.471</td> <td>   -0.086</td>\n",
       "</tr>\n",
       "<tr>\n",
       "  <th>z_knr_4</th>          <td>    0.2378</td> <td>    0.034</td> <td>    6.982</td> <td> 0.000</td> <td>    0.171</td> <td>    0.305</td>\n",
       "</tr>\n",
       "<tr>\n",
       "  <th>z_knr_9</th>          <td>    0.2139</td> <td>    0.033</td> <td>    6.388</td> <td> 0.000</td> <td>    0.148</td> <td>    0.280</td>\n",
       "</tr>\n",
       "<tr>\n",
       "  <th>trafficarea_2</th>    <td>   -0.2257</td> <td>    0.038</td> <td>   -5.913</td> <td> 0.000</td> <td>   -0.301</td> <td>   -0.151</td>\n",
       "</tr>\n",
       "<tr>\n",
       "  <th>r_width_3</th>        <td>    0.1765</td> <td>    0.047</td> <td>    3.741</td> <td> 0.000</td> <td>    0.084</td> <td>    0.269</td>\n",
       "</tr>\n",
       "<tr>\n",
       "  <th>r_width_4</th>        <td>    0.1781</td> <td>    0.035</td> <td>    5.041</td> <td> 0.000</td> <td>    0.109</td> <td>    0.247</td>\n",
       "</tr>\n",
       "<tr>\n",
       "  <th>r_width_5</th>        <td>    0.2076</td> <td>    0.037</td> <td>    5.652</td> <td> 0.000</td> <td>    0.136</td> <td>    0.280</td>\n",
       "</tr>\n",
       "<tr>\n",
       "  <th>r_width_6</th>        <td>    0.1797</td> <td>    0.043</td> <td>    4.192</td> <td> 0.000</td> <td>    0.096</td> <td>    0.264</td>\n",
       "</tr>\n",
       "<tr>\n",
       "  <th>r_surface_1</th>      <td>    0.3681</td> <td>    0.065</td> <td>    5.667</td> <td> 0.000</td> <td>    0.241</td> <td>    0.495</td>\n",
       "</tr>\n",
       "<tr>\n",
       "  <th>speedlimit_4</th>     <td>    0.7182</td> <td>    0.028</td> <td>   25.208</td> <td> 0.000</td> <td>    0.662</td> <td>    0.774</td>\n",
       "</tr>\n",
       "</table>\n",
       "<table class=\"simpletable\">\n",
       "<tr>\n",
       "  <th>Omnibus:</th>       <td>162.499</td> <th>  Durbin-Watson:     </th> <td>   0.834</td>\n",
       "</tr>\n",
       "<tr>\n",
       "  <th>Prob(Omnibus):</th> <td> 0.000</td>  <th>  Jarque-Bera (JB):  </th> <td> 293.176</td>\n",
       "</tr>\n",
       "<tr>\n",
       "  <th>Skew:</th>          <td> 0.926</td>  <th>  Prob(JB):          </th> <td>2.18e-64</td>\n",
       "</tr>\n",
       "<tr>\n",
       "  <th>Kurtosis:</th>      <td> 4.744</td>  <th>  Cond. No.          </th> <td>    15.5</td>\n",
       "</tr>\n",
       "</table><br/><br/>Notes:<br/>[1] Standard Errors assume that the covariance matrix of the errors is correctly specified."
      ],
      "text/latex": [
       "\\begin{center}\n",
       "\\begin{tabular}{lclc}\n",
       "\\toprule\n",
       "\\textbf{Dep. Variable:}    &       acp        & \\textbf{  R-squared:         } &     0.510   \\\\\n",
       "\\textbf{Model:}            &       OLS        & \\textbf{  Adj. R-squared:    } &     0.503   \\\\\n",
       "\\textbf{Method:}           &  Least Squares   & \\textbf{  F-statistic:       } &     79.61   \\\\\n",
       "\\textbf{Date:}             & Fri, 04 Oct 2024 & \\textbf{  Prob (F-statistic):} & 7.28e-155   \\\\\n",
       "\\textbf{Time:}             &     18:37:30     & \\textbf{  Log-Likelihood:    } &   -274.08   \\\\\n",
       "\\textbf{No. Observations:} &        1087      & \\textbf{  AIC:               } &     578.2   \\\\\n",
       "\\textbf{Df Residuals:}     &        1072      & \\textbf{  BIC:               } &     653.0   \\\\\n",
       "\\textbf{Df Model:}         &          14      & \\textbf{                     } &             \\\\\n",
       "\\textbf{Covariance Type:}  &    nonrobust     & \\textbf{                     } &             \\\\\n",
       "\\bottomrule\n",
       "\\end{tabular}\n",
       "\\begin{tabular}{lcccccc}\n",
       "                           & \\textbf{coef} & \\textbf{std err} & \\textbf{t} & \\textbf{P$> |$t$|$} & \\textbf{[0.025} & \\textbf{0.975]}  \\\\\n",
       "\\midrule\n",
       "\\textbf{const}             &      -0.3365  &        0.070     &    -4.815  &         0.000        &       -0.474    &       -0.199     \\\\\n",
       "\\textbf{dplight}           &       0.0138  &        0.010     &     1.390  &         0.165        &       -0.006    &        0.033     \\\\\n",
       "\\textbf{r\\_width\\_value}   &      -0.0917  &        0.019     &    -4.732  &         0.000        &       -0.130    &       -0.054     \\\\\n",
       "\\textbf{speedlimit\\_value} &      -0.0821  &        0.011     &    -7.253  &         0.000        &       -0.104    &       -0.060     \\\\\n",
       "\\textbf{z\\_qnr\\_23}        &      -0.2385  &        0.070     &    -3.388  &         0.001        &       -0.377    &       -0.100     \\\\\n",
       "\\textbf{z\\_qnr\\_26}        &      -0.2785  &        0.098     &    -2.841  &         0.005        &       -0.471    &       -0.086     \\\\\n",
       "\\textbf{z\\_knr\\_4}         &       0.2378  &        0.034     &     6.982  &         0.000        &        0.171    &        0.305     \\\\\n",
       "\\textbf{z\\_knr\\_9}         &       0.2139  &        0.033     &     6.388  &         0.000        &        0.148    &        0.280     \\\\\n",
       "\\textbf{trafficarea\\_2}    &      -0.2257  &        0.038     &    -5.913  &         0.000        &       -0.301    &       -0.151     \\\\\n",
       "\\textbf{r\\_width\\_3}       &       0.1765  &        0.047     &     3.741  &         0.000        &        0.084    &        0.269     \\\\\n",
       "\\textbf{r\\_width\\_4}       &       0.1781  &        0.035     &     5.041  &         0.000        &        0.109    &        0.247     \\\\\n",
       "\\textbf{r\\_width\\_5}       &       0.2076  &        0.037     &     5.652  &         0.000        &        0.136    &        0.280     \\\\\n",
       "\\textbf{r\\_width\\_6}       &       0.1797  &        0.043     &     4.192  &         0.000        &        0.096    &        0.264     \\\\\n",
       "\\textbf{r\\_surface\\_1}     &       0.3681  &        0.065     &     5.667  &         0.000        &        0.241    &        0.495     \\\\\n",
       "\\textbf{speedlimit\\_4}     &       0.7182  &        0.028     &    25.208  &         0.000        &        0.662    &        0.774     \\\\\n",
       "\\bottomrule\n",
       "\\end{tabular}\n",
       "\\begin{tabular}{lclc}\n",
       "\\textbf{Omnibus:}       & 162.499 & \\textbf{  Durbin-Watson:     } &    0.834  \\\\\n",
       "\\textbf{Prob(Omnibus):} &   0.000 & \\textbf{  Jarque-Bera (JB):  } &  293.176  \\\\\n",
       "\\textbf{Skew:}          &   0.926 & \\textbf{  Prob(JB):          } & 2.18e-64  \\\\\n",
       "\\textbf{Kurtosis:}      &   4.744 & \\textbf{  Cond. No.          } &     15.5  \\\\\n",
       "\\bottomrule\n",
       "\\end{tabular}\n",
       "%\\caption{OLS Regression Results}\n",
       "\\end{center}\n",
       "\n",
       "Notes: \\newline\n",
       " [1] Standard Errors assume that the covariance matrix of the errors is correctly specified."
      ],
      "text/plain": [
       "<class 'statsmodels.iolib.summary.Summary'>\n",
       "\"\"\"\n",
       "                            OLS Regression Results                            \n",
       "==============================================================================\n",
       "Dep. Variable:                    acp   R-squared:                       0.510\n",
       "Model:                            OLS   Adj. R-squared:                  0.503\n",
       "Method:                 Least Squares   F-statistic:                     79.61\n",
       "Date:                Fri, 04 Oct 2024   Prob (F-statistic):          7.28e-155\n",
       "Time:                        18:37:30   Log-Likelihood:                -274.08\n",
       "No. Observations:                1087   AIC:                             578.2\n",
       "Df Residuals:                    1072   BIC:                             653.0\n",
       "Df Model:                          14                                         \n",
       "Covariance Type:            nonrobust                                         \n",
       "====================================================================================\n",
       "                       coef    std err          t      P>|t|      [0.025      0.975]\n",
       "------------------------------------------------------------------------------------\n",
       "const               -0.3365      0.070     -4.815      0.000      -0.474      -0.199\n",
       "dplight              0.0138      0.010      1.390      0.165      -0.006       0.033\n",
       "r_width_value       -0.0917      0.019     -4.732      0.000      -0.130      -0.054\n",
       "speedlimit_value    -0.0821      0.011     -7.253      0.000      -0.104      -0.060\n",
       "z_qnr_23            -0.2385      0.070     -3.388      0.001      -0.377      -0.100\n",
       "z_qnr_26            -0.2785      0.098     -2.841      0.005      -0.471      -0.086\n",
       "z_knr_4              0.2378      0.034      6.982      0.000       0.171       0.305\n",
       "z_knr_9              0.2139      0.033      6.388      0.000       0.148       0.280\n",
       "trafficarea_2       -0.2257      0.038     -5.913      0.000      -0.301      -0.151\n",
       "r_width_3            0.1765      0.047      3.741      0.000       0.084       0.269\n",
       "r_width_4            0.1781      0.035      5.041      0.000       0.109       0.247\n",
       "r_width_5            0.2076      0.037      5.652      0.000       0.136       0.280\n",
       "r_width_6            0.1797      0.043      4.192      0.000       0.096       0.264\n",
       "r_surface_1          0.3681      0.065      5.667      0.000       0.241       0.495\n",
       "speedlimit_4         0.7182      0.028     25.208      0.000       0.662       0.774\n",
       "==============================================================================\n",
       "Omnibus:                      162.499   Durbin-Watson:                   0.834\n",
       "Prob(Omnibus):                  0.000   Jarque-Bera (JB):              293.176\n",
       "Skew:                           0.926   Prob(JB):                     2.18e-64\n",
       "Kurtosis:                       4.744   Cond. No.                         15.5\n",
       "==============================================================================\n",
       "\n",
       "Notes:\n",
       "[1] Standard Errors assume that the covariance matrix of the errors is correctly specified.\n",
       "\"\"\""
      ]
     },
     "execution_count": 132,
     "metadata": {},
     "output_type": "execute_result"
    }
   ],
   "source": [
    "# # OLS\n",
    "# xs_const = tools.add_constant(xs) \n",
    "# # X_train, X_test, y_train, y_test = train_test_split(\n",
    "# #         df_selected, y,\n",
    "# #         test_size=0.3,\n",
    "# #         random_state=0)\n",
    "\n",
    "# m1 = sm.OLS(y, xs_const)\n",
    "# r1 = m1.fit()\n",
    "# r1.summary()"
   ]
  },
  {
   "cell_type": "code",
   "execution_count": 133,
   "id": "235fb07e-eabe-431a-9a01-4c1fb465dfed",
   "metadata": {
    "execution": {
     "iopub.execute_input": "2024-10-04T16:37:30.635742Z",
     "iopub.status.busy": "2024-10-04T16:37:30.635161Z",
     "iopub.status.idle": "2024-10-04T16:37:30.638979Z",
     "shell.execute_reply": "2024-10-04T16:37:30.638292Z",
     "shell.execute_reply.started": "2024-10-04T16:37:30.635723Z"
    }
   },
   "outputs": [],
   "source": [
    "# prsq_lin_sbfs.append(r1.rsquared_adj)"
   ]
  },
  {
   "cell_type": "code",
   "execution_count": 134,
   "id": "a35a3f70-8b06-4de9-b102-c2c8a7b7587a",
   "metadata": {
    "execution": {
     "iopub.execute_input": "2024-10-04T16:37:30.877239Z",
     "iopub.status.busy": "2024-10-04T16:37:30.876793Z",
     "iopub.status.idle": "2024-10-04T16:37:30.881353Z",
     "shell.execute_reply": "2024-10-04T16:37:30.880751Z",
     "shell.execute_reply.started": "2024-10-04T16:37:30.877219Z"
    }
   },
   "outputs": [
    {
     "data": {
      "text/plain": [
       "[0.46863270188062633,\n",
       " 0.5228831125625122,\n",
       " 0.5083388939077372,\n",
       " 0.539473692009008,\n",
       " 0.4665037273438992,\n",
       " 0.47415516300643146,\n",
       " 0.46239446930329153,\n",
       " 0.5033154652889078]"
      ]
     },
     "execution_count": 134,
     "metadata": {},
     "output_type": "execute_result"
    }
   ],
   "source": [
    "prsq_lin_sbfs"
   ]
  },
  {
   "cell_type": "code",
   "execution_count": 96,
   "id": "522cf8e3-c592-415d-ae7e-bfa1050ad2d9",
   "metadata": {
    "execution": {
     "iopub.execute_input": "2024-10-04T16:34:03.921304Z",
     "iopub.status.busy": "2024-10-04T16:34:03.920750Z",
     "iopub.status.idle": "2024-10-04T16:34:03.926185Z",
     "shell.execute_reply": "2024-10-04T16:34:03.925481Z",
     "shell.execute_reply.started": "2024-10-04T16:34:03.921283Z"
    }
   },
   "outputs": [
    {
     "data": {
      "text/plain": [
       "[0.46863270188062633,\n",
       " 0.5170176533771211,\n",
       " 0.5083388939077372,\n",
       " 0.5299324651839028,\n",
       " 0.42039652784715786,\n",
       " 0.47415516300643146,\n",
       " 0.46239446930329153,\n",
       " 0.5033154652889078]"
      ]
     },
     "execution_count": 96,
     "metadata": {},
     "output_type": "execute_result"
    }
   ],
   "source": [
    "prsq_lin_sffs"
   ]
  },
  {
   "cell_type": "markdown",
   "id": "8119ef0e-78b5-4b8e-83f5-7256197ead1a",
   "metadata": {},
   "source": [
    "## Logistic Regression model"
   ]
  },
  {
   "cell_type": "markdown",
   "id": "4181e345-e803-42e2-acf6-a83a0bb6fdb3",
   "metadata": {},
   "source": [
    "### Sequential forward floating selection"
   ]
  },
  {
   "cell_type": "code",
   "execution_count": 190,
   "id": "8e1d9bac-c622-4f7b-959d-8c911c0d7144",
   "metadata": {
    "execution": {
     "iopub.execute_input": "2024-09-20T16:05:39.043279Z",
     "iopub.status.busy": "2024-09-20T16:05:39.042704Z",
     "iopub.status.idle": "2024-09-20T16:07:16.436519Z",
     "shell.execute_reply": "2024-09-20T16:07:16.435629Z",
     "shell.execute_reply.started": "2024-09-20T16:05:39.043252Z"
    }
   },
   "outputs": [
    {
     "name": "stdout",
     "output_type": "stream",
     "text": [
      "('cp', 'ie', 'mew', 'megmax', 'cmin', 'dbusl', 'dplight', 'dstation', 'dparkcar', 'dtrafficarea', 'droad', 'dvfpath', 'gvm_dwv', 'carcount', 'z_qnr_1', 'z_qnr_2', 'z_qnr_3', 'z_qnr_4', 'z_qnr_5', 'z_qnr_6', 'z_qnr_8', 'z_qnr_11', 'z_qnr_12', 'z_qnr_16', 'z_qnr_22', 'z_qnr_23', 'z_qnr_24', 'z_qnr_25', 'z_qnr_26', 'z_qnr_28', 'z_qnr_29', 'z_qnr_30', 'z_qnr_31', 'z_knr_1', 'z_knr_2', 'z_knr_3', 'z_knr_4', 'z_knr_6', 'z_knr_9', 'z_knr_11', 'trafficarea_2', 'r_width_1', 'r_width_3', 'r_width_4', 'r_width_5', 'r_width_6', 'r_surface_1', 'speedlimit_1', 'speedlimit_3', 'speedlimit_4')\n",
      "50\n",
      "0.873939880776223\n"
     ]
    }
   ],
   "source": [
    "# # n = best, logistic regression, scoring = accuracy, cv = 5\n",
    "sffslog0 = featureselection_log(True, 'accuracy', 5, x, y)\n",
    "print(sffslog0.k_feature_names_)\n",
    "print(len(sffslog0.k_feature_names_))\n",
    "print(sffslog0.k_score_)\n"
   ]
  },
  {
   "cell_type": "code",
   "execution_count": 197,
   "id": "6d0bd756-a9e2-4f53-ae68-ff60abfde9b7",
   "metadata": {
    "execution": {
     "iopub.execute_input": "2024-09-20T16:07:46.984252Z",
     "iopub.status.busy": "2024-09-20T16:07:46.983998Z",
     "iopub.status.idle": "2024-09-20T16:11:09.018627Z",
     "shell.execute_reply": "2024-09-20T16:11:09.017861Z",
     "shell.execute_reply.started": "2024-09-20T16:07:46.984235Z"
    }
   },
   "outputs": [
    {
     "name": "stdout",
     "output_type": "stream",
     "text": [
      "('cp', 'ie', 'mew', 'meg', 'dbusl', 'dtraml', 'dplight', 'dstation', 'dparktw', 'dpedcro', 'dstopsign', 'dtrafficarea', 'droad', 'dvfpath', 'gvm_dwv', 'carcount', 'r_width_value', 'z_qnr_1', 'z_qnr_2', 'z_qnr_3', 'z_qnr_7', 'z_qnr_9', 'z_qnr_14', 'z_qnr_15', 'z_qnr_16', 'z_qnr_17', 'z_qnr_22', 'z_qnr_24', 'z_qnr_25', 'z_qnr_26', 'z_qnr_28', 'z_qnr_29', 'z_qnr_30', 'z_qnr_31', 'z_knr_2', 'z_knr_3', 'z_knr_4', 'z_knr_6', 'z_knr_9', 'z_knr_10', 'z_knr_11', 'trafficarea_2', 'r_width_1', 'r_width_2', 'r_width_3', 'r_width_4', 'r_width_5', 'r_width_6', 'r_surface_1', 'speedlimit_4', 'speedlimit_5')\n",
      "51\n",
      "0.8729442745497792\n"
     ]
    }
   ],
   "source": [
    "# n = best, logistic regression, scoring = accuracy, cv = 10\n",
    "sffslog1 = featureselection_log(True, 'accuracy', 10, x, y)\n",
    "print(sffslog1.k_feature_names_)\n",
    "print(len(sffslog1.k_feature_names_))\n",
    "print(sffslog1.k_score_)\n"
   ]
  },
  {
   "cell_type": "code",
   "execution_count": 191,
   "id": "e4da62a2-8d77-4684-aa1f-b66108a5b8bd",
   "metadata": {
    "execution": {
     "iopub.execute_input": "2024-09-20T16:07:16.438164Z",
     "iopub.status.busy": "2024-09-20T16:07:16.437990Z",
     "iopub.status.idle": "2024-09-20T16:07:16.442305Z",
     "shell.execute_reply": "2024-09-20T16:07:16.441826Z",
     "shell.execute_reply.started": "2024-09-20T16:07:16.438146Z"
    }
   },
   "outputs": [],
   "source": [
    "# # # n = best, logistic regression, scoring = accuracy, cv = 15\n",
    "# sffslog2 = featureselection_log(True, 'accuracy', 15, x, y)\n",
    "# print(sffslog2.k_feature_names_)\n",
    "# print(len(sffslog2.k_feature_names_))\n",
    "# print(sffslog2.k_score_)"
   ]
  },
  {
   "cell_type": "code",
   "execution_count": 192,
   "id": "7060cdc0-3553-47b4-96dc-7d51c40089c3",
   "metadata": {
    "execution": {
     "iopub.execute_input": "2024-09-20T16:07:16.443166Z",
     "iopub.status.busy": "2024-09-20T16:07:16.443010Z",
     "iopub.status.idle": "2024-09-20T16:07:16.454312Z",
     "shell.execute_reply": "2024-09-20T16:07:16.453590Z",
     "shell.execute_reply.started": "2024-09-20T16:07:16.443152Z"
    }
   },
   "outputs": [],
   "source": [
    "# # # n = best, logistic regression, scoring = accuracy, cv = 20\n",
    "# sffslog3 = featureselection_log(True, 'accuracy', 20, x, y)\n",
    "# print(sffslog3.k_feature_names_)\n",
    "# print(len(sffslog3.k_feature_names_))\n",
    "# print(sffslog3.k_score_)\n",
    "# #"
   ]
  },
  {
   "cell_type": "code",
   "execution_count": 199,
   "id": "41f0ebb4-455f-4303-a55a-7077445892d9",
   "metadata": {
    "execution": {
     "iopub.execute_input": "2024-09-20T16:13:10.459518Z",
     "iopub.status.busy": "2024-09-20T16:13:10.459337Z",
     "iopub.status.idle": "2024-09-20T16:15:11.691842Z",
     "shell.execute_reply": "2024-09-20T16:15:11.691071Z",
     "shell.execute_reply.started": "2024-09-20T16:13:10.459503Z"
    }
   },
   "outputs": [
    {
     "name": "stdout",
     "output_type": "stream",
     "text": [
      "('cp', 'ie', 'mew', 'meg', 'megmax', 'cmin', 'dbusl', 'dtraml', 'dplight', 'dstation', 'dparkcar', 'dpedcro', 'dtrafficarea', 'droad', 'dvfpath', 'bicyclecount', 'carcount', 'z_qnr_1', 'z_qnr_3', 'z_qnr_4', 'z_qnr_5', 'z_qnr_6', 'z_qnr_7', 'z_qnr_8', 'z_qnr_11', 'z_qnr_12', 'z_qnr_13', 'z_qnr_14', 'z_qnr_17', 'z_qnr_22', 'z_qnr_23', 'z_qnr_26', 'z_qnr_27', 'z_qnr_28', 'z_qnr_30', 'z_qnr_31', 'z_knr_1', 'z_knr_3', 'z_knr_4', 'z_knr_6', 'z_knr_9', 'z_knr_10', 'trafficarea_2', 'r_width_2', 'r_width_3', 'r_width_4', 'r_width_5', 'r_width_6', 'r_surface_1', 'speedlimit_1', 'speedlimit_3', 'speedlimit_4', 'speedlimit_5')\n",
      "53\n",
      "0.7288283828382839\n"
     ]
    }
   ],
   "source": [
    "# # n = best, logistic regression, scoring = f1, cv = 5\n",
    "sffslog2 = featureselection_log(True, 'f1', 5, x, y)\n",
    "print(sffslog2.k_feature_names_)\n",
    "print(len(sffslog2.k_feature_names_))\n",
    "print(sffslog2.k_score_)\n"
   ]
  },
  {
   "cell_type": "code",
   "execution_count": 200,
   "id": "5e1b14ae-d40e-484c-a3b5-3049f2f081d4",
   "metadata": {
    "execution": {
     "iopub.execute_input": "2024-09-20T16:15:11.693399Z",
     "iopub.status.busy": "2024-09-20T16:15:11.693183Z",
     "iopub.status.idle": "2024-09-20T16:18:58.529024Z",
     "shell.execute_reply": "2024-09-20T16:18:58.528310Z",
     "shell.execute_reply.started": "2024-09-20T16:15:11.693383Z"
    }
   },
   "outputs": [
    {
     "name": "stdout",
     "output_type": "stream",
     "text": [
      "('cp', 'ie', 'mew', 'meg', 'dbusl', 'dtraml', 'dplight', 'dstation', 'dparkcar', 'dpedcro', 'dstopsign', 'dtrafficarea', 'droad', 'dvfpath', 'gvm_dwv', 'carcount', 'r_width_value', 'speedlimit_value', 'z_qnr_2', 'z_qnr_7', 'z_qnr_8', 'z_qnr_10', 'z_qnr_12', 'z_qnr_14', 'z_qnr_15', 'z_qnr_16', 'z_qnr_17', 'z_qnr_23', 'z_qnr_24', 'z_qnr_25', 'z_qnr_26', 'z_qnr_29', 'z_qnr_30', 'z_qnr_31', 'z_knr_2', 'z_knr_3', 'z_knr_4', 'z_knr_5', 'z_knr_9', 'z_knr_10', 'trafficarea_2', 'r_width_1', 'r_width_2', 'r_width_3', 'r_width_4', 'r_width_5', 'r_width_6', 'r_surface_1', 'speedlimit_4', 'speedlimit_5')\n",
      "50\n",
      "0.7291735787907159\n"
     ]
    }
   ],
   "source": [
    "# # n = best, logistic regression, scoring = f1, cv = 10\n",
    "sffslog3 = featureselection_log(True, 'f1', 10, x, y)\n",
    "print(sffslog3.k_feature_names_)\n",
    "print(len(sffslog3.k_feature_names_))\n",
    "print(sffslog3.k_score_)\n"
   ]
  },
  {
   "cell_type": "code",
   "execution_count": 193,
   "id": "f74ba2c9-abd3-4a3a-8609-3d261fd86f63",
   "metadata": {
    "execution": {
     "iopub.execute_input": "2024-09-20T16:07:16.456242Z",
     "iopub.status.busy": "2024-09-20T16:07:16.456074Z",
     "iopub.status.idle": "2024-09-20T16:07:16.465304Z",
     "shell.execute_reply": "2024-09-20T16:07:16.464819Z",
     "shell.execute_reply.started": "2024-09-20T16:07:16.456227Z"
    }
   },
   "outputs": [],
   "source": [
    "# # # n = best, logistic regression, scoring = f1, cv = 15\n",
    "# sffslog6 = featureselection_log(True, 'f1', 15, x, y)\n",
    "# print(sffslog6.k_feature_names_)\n",
    "# print(len(sffslog6.k_feature_names_))\n",
    "# print(sffslog6.k_score_)\n",
    "# #"
   ]
  },
  {
   "cell_type": "code",
   "execution_count": 194,
   "id": "8d613987-c8c6-4cf4-9bcb-7b443f124fea",
   "metadata": {
    "execution": {
     "iopub.execute_input": "2024-09-20T16:07:16.466164Z",
     "iopub.status.busy": "2024-09-20T16:07:16.466020Z",
     "iopub.status.idle": "2024-09-20T16:07:16.474522Z",
     "shell.execute_reply": "2024-09-20T16:07:16.474020Z",
     "shell.execute_reply.started": "2024-09-20T16:07:16.466152Z"
    }
   },
   "outputs": [],
   "source": [
    "# # # n = best, logistic regression, scoring = f1, cv = 20\n",
    "# sffslog7 = featureselection_log(True, 'f1', 20, x, y)\n",
    "# print(sffslog7.k_feature_names_)\n",
    "# print(len(sffslog7.k_feature_names_))\n",
    "# print(sffslog7.k_score_)\n",
    "# #"
   ]
  },
  {
   "cell_type": "code",
   "execution_count": 256,
   "id": "3aad7d05-3ff4-4720-840d-6f966e961e63",
   "metadata": {
    "execution": {
     "iopub.execute_input": "2024-09-20T16:48:54.933071Z",
     "iopub.status.busy": "2024-09-20T16:48:54.932648Z",
     "iopub.status.idle": "2024-09-20T16:48:54.935513Z",
     "shell.execute_reply": "2024-09-20T16:48:54.935076Z",
     "shell.execute_reply.started": "2024-09-20T16:48:54.933053Z"
    }
   },
   "outputs": [],
   "source": [
    "# # n = best, logistic regression, scoring = precision, cv = 5\n",
    "# sffslog4 = featureselection_log(True, 'precision', 5, x, y)\n",
    "# print(sffslog4.k_feature_names_)\n",
    "# print(len(sffslog4.k_feature_names_))\n",
    "# print(sffslog4.k_score_)\n",
    "# ('cp', 'ie', 'mew', 'meg', 'cmin', 'dtraml', 'dstation', 'dpedcro', 'dtrafficarea', 'dvfpath', 'z_qnr_2', 'z_qnr_4', 'z_qnr_5', 'z_qnr_6', 'z_qnr_8', 'z_qnr_15', 'z_qnr_16', 'z_qnr_20', 'z_qnr_22', 'z_qnr_23', 'z_qnr_26', 'z_qnr_28', 'z_qnr_29', 'z_qnr_30', 'z_qnr_31', 'z_qnr_32', 'z_knr_1', 'z_knr_10', 'trafficarea_2', 'r_width_1', 'r_width_2', 'r_width_3', 'r_width_4', 'r_width_5', 'r_width_6', 'r_surface_1', 'speedlimit_1', 'speedlimit_4')\n",
    "# 38\n",
    "# 0.9110282997075452"
   ]
  },
  {
   "cell_type": "code",
   "execution_count": 254,
   "id": "01c15fb9-50c9-457e-a3a8-1e4cadaca9db",
   "metadata": {
    "execution": {
     "iopub.execute_input": "2024-09-20T16:48:46.789295Z",
     "iopub.status.busy": "2024-09-20T16:48:46.788357Z",
     "iopub.status.idle": "2024-09-20T16:48:46.792203Z",
     "shell.execute_reply": "2024-09-20T16:48:46.791755Z",
     "shell.execute_reply.started": "2024-09-20T16:48:46.789246Z"
    }
   },
   "outputs": [],
   "source": [
    "# # # n = best, logistic regression, scoring = precision, cv = 10\n",
    "# sffslog5 = featureselection_log(True, 'precision', 10, x, y)\n",
    "# print(sffslog5.k_feature_names_)\n",
    "# print(len(sffslog5.k_feature_names_))\n",
    "# print(sffslog5.k_score_)\n",
    "# ('ie', 'meg', 'megmax', 'cmin', 'dbusl', 'dtraml', 'dplight', 'dstation', 'dparkcar', 'dparktw', 'dpedcro', 'dstopsign', 'dtrafficarea', 'droad', 'dvfpath', 'gvm_dwv', 'carcount', 'z_qnr_3', 'z_qnr_4', 'z_qnr_5', 'z_qnr_6', 'z_qnr_7', 'z_qnr_8', 'z_qnr_9', 'z_qnr_11', 'z_qnr_12', 'z_qnr_13', 'z_qnr_14', 'z_qnr_15', 'z_qnr_20', 'z_qnr_23', 'z_qnr_24', 'z_qnr_25', 'z_qnr_26', 'z_qnr_27', 'z_qnr_28', 'z_qnr_29', 'z_qnr_30', 'z_qnr_31', 'z_qnr_32', 'z_knr_2', 'z_knr_3', 'z_knr_10', 'z_knr_11', 'trafficarea_2', 'r_width_1', 'r_width_2', 'r_width_3', 'r_width_5', 'r_width_6', 'r_surface_1', 'speedlimit_1', 'speedlimit_4', 'speedlimit_5')\n",
    "# 54\n",
    "# 0.8929089390142021"
   ]
  },
  {
   "cell_type": "code",
   "execution_count": 203,
   "id": "5a6918cf-1d2a-45f8-8501-477766345f64",
   "metadata": {
    "execution": {
     "iopub.execute_input": "2024-09-20T16:24:50.132322Z",
     "iopub.status.busy": "2024-09-20T16:24:50.132151Z",
     "iopub.status.idle": "2024-09-20T16:24:50.136153Z",
     "shell.execute_reply": "2024-09-20T16:24:50.135669Z",
     "shell.execute_reply.started": "2024-09-20T16:24:50.132308Z"
    },
    "scrolled": true
   },
   "outputs": [],
   "source": [
    "# # # n = best, logistic regression, scoring = precision, cv = 15\n",
    "# sffslog10 = featureselection_log(True, 'precision', 15, x, y)\n",
    "# print(sffslog10.k_feature_names_)\n",
    "# print(len(sffslog10.k_feature_names_))\n",
    "# print(sffslog10.k_score_)"
   ]
  },
  {
   "cell_type": "code",
   "execution_count": 204,
   "id": "0ef840e4-dfb9-4ba5-87f4-e6bd86729330",
   "metadata": {
    "execution": {
     "iopub.execute_input": "2024-09-20T16:24:50.137524Z",
     "iopub.status.busy": "2024-09-20T16:24:50.137373Z",
     "iopub.status.idle": "2024-09-20T16:24:50.154138Z",
     "shell.execute_reply": "2024-09-20T16:24:50.153651Z",
     "shell.execute_reply.started": "2024-09-20T16:24:50.137511Z"
    },
    "scrolled": true
   },
   "outputs": [],
   "source": [
    "# # # n = best, logistic regression, scoring = precision, cv = 20\n",
    "# sffslog11 = featureselection_log(True, 'precision', 20, x, y)\n",
    "# print(sffslog11.k_feature_names_)\n",
    "# print(len(sffslog11.k_feature_names_))\n",
    "# print(sffslog11.k_score_)\n"
   ]
  },
  {
   "cell_type": "code",
   "execution_count": 205,
   "id": "586a6413-c9aa-4feb-8333-a236d7cebd37",
   "metadata": {
    "execution": {
     "iopub.execute_input": "2024-09-20T16:24:50.155110Z",
     "iopub.status.busy": "2024-09-20T16:24:50.154959Z",
     "iopub.status.idle": "2024-09-20T16:25:54.927884Z",
     "shell.execute_reply": "2024-09-20T16:25:54.927199Z",
     "shell.execute_reply.started": "2024-09-20T16:24:50.155097Z"
    }
   },
   "outputs": [
    {
     "name": "stdout",
     "output_type": "stream",
     "text": [
      "('cp', 'ie', 'mew', 'meg', 'megmax', 'cmin', 'dtraml', 'dstation', 'dparktw', 'dpedcro', 'dtrafficarea', 'droad', 'dvfpath', 'bicyclecount', 'carcount', 'r_width_value', 'speedlimit_value', 'z_qnr_1', 'z_qnr_3', 'z_qnr_4', 'z_qnr_5', 'z_qnr_6', 'z_qnr_7', 'z_qnr_9', 'z_qnr_14', 'z_qnr_16', 'z_qnr_18', 'z_qnr_23', 'z_qnr_27', 'z_qnr_29', 'z_qnr_30', 'z_qnr_31', 'z_qnr_32', 'z_knr_1', 'z_knr_2', 'z_knr_4', 'z_knr_6', 'z_knr_8', 'z_knr_9', 'z_knr_10', 'r_width_3', 'r_width_5', 'r_width_6', 'r_surface_1', 'speedlimit_4', 'speedlimit_5')\n",
      "46\n",
      "0.6508474576271186\n"
     ]
    }
   ],
   "source": [
    "# # n = best, logistic regression, scoring = recall, cv = 5\n",
    "sffslog6 = featureselection_log(True, 'recall', 5, x, y)\n",
    "print(sffslog6.k_feature_names_)\n",
    "print(len(sffslog6.k_feature_names_))\n",
    "print(sffslog6.k_score_)\n"
   ]
  },
  {
   "cell_type": "code",
   "execution_count": 206,
   "id": "acd2ce79-4e9f-4524-b4b3-162f8da5261f",
   "metadata": {
    "execution": {
     "iopub.execute_input": "2024-09-20T16:25:54.929147Z",
     "iopub.status.busy": "2024-09-20T16:25:54.928643Z",
     "iopub.status.idle": "2024-09-20T16:28:10.062215Z",
     "shell.execute_reply": "2024-09-20T16:28:10.061765Z",
     "shell.execute_reply.started": "2024-09-20T16:25:54.929111Z"
    }
   },
   "outputs": [
    {
     "name": "stdout",
     "output_type": "stream",
     "text": [
      "('cp', 'ie', 'mew', 'meg', 'megmax', 'cmin', 'dbusl', 'dtraml', 'dplight', 'dstation', 'dpedcro', 'droad', 'gvm_dwv', 'carcount', 'r_width_value', 'speedlimit_value', 'z_qnr_2', 'z_qnr_3', 'z_qnr_4', 'z_qnr_6', 'z_qnr_7', 'z_qnr_9', 'z_qnr_13', 'z_qnr_15', 'z_qnr_16', 'z_qnr_18', 'z_qnr_20', 'z_qnr_23', 'z_qnr_24', 'z_qnr_27', 'z_qnr_29', 'z_qnr_30', 'z_qnr_31', 'z_qnr_32', 'z_knr_4', 'z_knr_7', 'z_knr_9', 'trafficarea_1', 'r_width_3', 'r_surface_1', 'speedlimit_1', 'speedlimit_4', 'speedlimit_5')\n",
      "43\n",
      "0.6668965517241379\n"
     ]
    }
   ],
   "source": [
    "# # n = best, logistic regression, scoring = recall, cv = 10\n",
    "sffslog7 = featureselection_log(True, 'recall', 10, x, y)\n",
    "print(sffslog7.k_feature_names_)\n",
    "print(len(sffslog7.k_feature_names_))\n",
    "print(sffslog7.k_score_)\n"
   ]
  },
  {
   "cell_type": "code",
   "execution_count": 207,
   "id": "3d138232-b1a8-4346-8a3e-1097c5475749",
   "metadata": {
    "execution": {
     "iopub.execute_input": "2024-09-20T16:28:10.063389Z",
     "iopub.status.busy": "2024-09-20T16:28:10.062966Z",
     "iopub.status.idle": "2024-09-20T16:28:10.065829Z",
     "shell.execute_reply": "2024-09-20T16:28:10.065403Z",
     "shell.execute_reply.started": "2024-09-20T16:28:10.063372Z"
    }
   },
   "outputs": [],
   "source": [
    "# # # n = best, logistic regression, scoring = recall, cv = 15\n",
    "# sffslog14 = featureselection_log(True, 'recall', 15, x, y)\n",
    "# print(sffslog14.k_feature_names_)\n",
    "# print(len(sffslog14.k_feature_names_))\n",
    "# print(sffslog14.k_score_)\n",
    "# #"
   ]
  },
  {
   "cell_type": "code",
   "execution_count": 208,
   "id": "de589bf5-18d4-4770-ba79-ab6978c1b03f",
   "metadata": {
    "execution": {
     "iopub.execute_input": "2024-09-20T16:28:10.066712Z",
     "iopub.status.busy": "2024-09-20T16:28:10.066405Z",
     "iopub.status.idle": "2024-09-20T16:28:10.084728Z",
     "shell.execute_reply": "2024-09-20T16:28:10.084356Z",
     "shell.execute_reply.started": "2024-09-20T16:28:10.066696Z"
    }
   },
   "outputs": [],
   "source": [
    "# # # n = best, logistic regression, scoring = recall, cv = 20\n",
    "# sffslog15 = featureselection_log(True, 'recall', 20, x, y)\n",
    "# print(sffslog15.k_feature_names_)\n",
    "# print(len(sffslog15.k_feature_names_))\n",
    "# print(sffslog15.k_score_)\n",
    "# #"
   ]
  },
  {
   "cell_type": "code",
   "execution_count": 209,
   "id": "4cdf2c61-28e1-459f-a00c-988f25b2ecf4",
   "metadata": {
    "execution": {
     "iopub.execute_input": "2024-09-20T16:28:10.085633Z",
     "iopub.status.busy": "2024-09-20T16:28:10.085354Z",
     "iopub.status.idle": "2024-09-20T16:28:10.102484Z",
     "shell.execute_reply": "2024-09-20T16:28:10.102101Z",
     "shell.execute_reply.started": "2024-09-20T16:28:10.085617Z"
    }
   },
   "outputs": [],
   "source": [
    "# For part \n",
    "selected_columns_logr_sffs = []\n",
    "selected_columns_logr_sffs = {'all': cnu,\n",
    "                              'acc_cv5':list(sffslog0.k_feature_names_), \n",
    "                              'acc_cv10':list(sffslog1.k_feature_names_), \n",
    "                              'f1_cv5':list(sffslog2.k_feature_names_), \n",
    "                              'f1_cv10':list(sffslog3.k_feature_names_), \n",
    "                              'pre_cv5':list(sffslog4.k_feature_names_), \n",
    "                              'pre_cv10':list(sffslog5.k_feature_names_),\n",
    "                              'rec_cv5':list(sffslog6.k_feature_names_), \n",
    "                              'rec_cv10':list(sffslog7.k_feature_names_)\n",
    "                              }\n",
    "df_sf_logr_sffs = pd.DataFrame(dict([(k,pd.Series(v)) for k,v in selected_columns_logr_sffs.items()]))\n",
    "df_sf_logr_sffs.to_csv('/home/yelhe/script/mtp/tables/updated_sffs_logisticreg.csv', index = True)"
   ]
  },
  {
   "cell_type": "code",
   "execution_count": null,
   "id": "f6ebb812",
   "metadata": {},
   "outputs": [],
   "source": []
  },
  {
   "cell_type": "markdown",
   "id": "528cb07a-dffb-450f-8ede-5e4dc1748ad1",
   "metadata": {
    "execution": {
     "iopub.execute_input": "2024-09-03T15:30:17.841200Z",
     "iopub.status.busy": "2024-09-03T15:30:17.840178Z",
     "iopub.status.idle": "2024-09-03T15:30:17.846475Z",
     "shell.execute_reply": "2024-09-03T15:30:17.845897Z",
     "shell.execute_reply.started": "2024-09-03T15:30:17.841170Z"
    }
   },
   "source": [
    "### Sequential backward floating selection"
   ]
  },
  {
   "cell_type": "code",
   "execution_count": 210,
   "id": "80a82579",
   "metadata": {
    "execution": {
     "iopub.execute_input": "2024-09-20T16:29:40.933519Z",
     "iopub.status.busy": "2024-09-20T16:29:40.933183Z",
     "iopub.status.idle": "2024-09-20T16:30:48.659110Z",
     "shell.execute_reply": "2024-09-20T16:30:48.658420Z",
     "shell.execute_reply.started": "2024-09-20T16:29:40.933501Z"
    }
   },
   "outputs": [
    {
     "name": "stdout",
     "output_type": "stream",
     "text": [
      "('cp', 'ie', 'mew', 'dbusl', 'dtraml', 'dvfpath', 'speedlimit_value', 'z_qnr_2', 'z_qnr_5', 'z_qnr_7', 'z_qnr_8', 'z_qnr_11', 'z_qnr_23', 'z_qnr_26', 'z_knr_4', 'z_knr_9', 'trafficarea_2', 'r_width_4', 'r_width_5', 'r_width_6', 'r_surface_1', 'speedlimit_3', 'speedlimit_4')\n",
      "23\n",
      "0.8776096055468651\n"
     ]
    }
   ],
   "source": [
    "# n = best, logistic regression, scoring = accuracy, cv = 5\n",
    "sbfslog0 = featureselection_log(False, 'accuracy', 5, x, y)\n",
    "print(sbfslog0.k_feature_names_)\n",
    "print(len(sbfslog0.k_feature_names_))\n",
    "print(sbfslog0.k_score_)\n"
   ]
  },
  {
   "cell_type": "code",
   "execution_count": 211,
   "id": "ba383abf",
   "metadata": {
    "execution": {
     "iopub.execute_input": "2024-09-20T16:30:48.660357Z",
     "iopub.status.busy": "2024-09-20T16:30:48.660178Z",
     "iopub.status.idle": "2024-09-20T16:32:32.727981Z",
     "shell.execute_reply": "2024-09-20T16:32:32.727297Z",
     "shell.execute_reply.started": "2024-09-20T16:30:48.660342Z"
    }
   },
   "outputs": [
    {
     "name": "stdout",
     "output_type": "stream",
     "text": [
      "('speedlimit_value', 'z_qnr_10', 'z_qnr_23', 'z_qnr_26', 'z_qnr_28', 'z_knr_2', 'z_knr_4', 'z_knr_5', 'z_knr_9', 'trafficarea_2', 'r_width_4', 'r_width_5', 'r_width_6', 'r_surface_1', 'speedlimit_3', 'speedlimit_4')\n",
      "16\n",
      "0.876630988786952\n"
     ]
    }
   ],
   "source": [
    "# n = best, logistic regression, scoring = accuracy, cv = 10\n",
    "sbfslog1 = featureselection_log(False, 'accuracy', 10, x, y)\n",
    "print(sbfslog1.k_feature_names_)\n",
    "print(len(sbfslog1.k_feature_names_))\n",
    "print(sbfslog1.k_score_)\n"
   ]
  },
  {
   "cell_type": "code",
   "execution_count": 212,
   "id": "a1363b4b",
   "metadata": {
    "execution": {
     "iopub.execute_input": "2024-09-20T16:32:32.728974Z",
     "iopub.status.busy": "2024-09-20T16:32:32.728810Z",
     "iopub.status.idle": "2024-09-20T16:32:32.731997Z",
     "shell.execute_reply": "2024-09-20T16:32:32.731514Z",
     "shell.execute_reply.started": "2024-09-20T16:32:32.728960Z"
    }
   },
   "outputs": [],
   "source": [
    "# # n = best, logistic regression, scoring = accuracy, cv = 15\n",
    "# sbfslog2 = featureselection_log(False, 'accuracy', 15, x, y)\n",
    "# print(sbfslog2.k_feature_names_)\n",
    "# print(len(sbfslog2.k_feature_names_))\n",
    "# print(sbfslog2.k_score_)\n"
   ]
  },
  {
   "cell_type": "code",
   "execution_count": 213,
   "id": "cdb44a1f",
   "metadata": {
    "execution": {
     "iopub.execute_input": "2024-09-20T16:32:32.733655Z",
     "iopub.status.busy": "2024-09-20T16:32:32.733499Z",
     "iopub.status.idle": "2024-09-20T16:32:32.748129Z",
     "shell.execute_reply": "2024-09-20T16:32:32.747590Z",
     "shell.execute_reply.started": "2024-09-20T16:32:32.733641Z"
    }
   },
   "outputs": [],
   "source": [
    "# # n = best, logistic regression, scoring = accuracy, cv = 20\n",
    "# sbfslog3 = featureselection_log(False, 'accuracy', 20, x, y)\n",
    "# print(sbfslog3.k_feature_names_)\n",
    "# print(len(sbfslog3.k_feature_names_))\n",
    "# print(sbfslog3.k_score_)\n"
   ]
  },
  {
   "cell_type": "code",
   "execution_count": 214,
   "id": "4bdc1df9",
   "metadata": {
    "execution": {
     "iopub.execute_input": "2024-09-20T16:32:32.748854Z",
     "iopub.status.busy": "2024-09-20T16:32:32.748712Z",
     "iopub.status.idle": "2024-09-20T16:33:51.529684Z",
     "shell.execute_reply": "2024-09-20T16:33:51.528952Z",
     "shell.execute_reply.started": "2024-09-20T16:32:32.748841Z"
    }
   },
   "outputs": [
    {
     "name": "stdout",
     "output_type": "stream",
     "text": [
      "('ie', 'mew', 'dpedcro', 'droad', 'dvfpath', 'bicyclecount', 'carcount', 'r_width_value', 'z_qnr_1', 'z_qnr_2', 'z_qnr_3', 'z_qnr_4', 'z_qnr_5', 'z_qnr_8', 'z_qnr_11', 'z_qnr_12', 'z_qnr_22', 'z_qnr_26', 'z_qnr_28', 'z_qnr_29', 'z_knr_1', 'z_knr_3', 'z_knr_4', 'z_knr_6', 'z_knr_9', 'trafficarea_2', 'r_width_1', 'r_width_3', 'r_width_4', 'r_width_5', 'r_width_6', 'r_surface_1', 'speedlimit_3', 'speedlimit_4')\n",
      "34\n",
      "0.7398528725487212\n"
     ]
    }
   ],
   "source": [
    "# n = best, logistic regression, scoring = f1, cv = 5\n",
    "sbfslog2 = featureselection_log(False, 'f1', 5, x, y)\n",
    "print(sbfslog2.k_feature_names_)\n",
    "print(len(sbfslog2.k_feature_names_))\n",
    "print(sbfslog2.k_score_)"
   ]
  },
  {
   "cell_type": "code",
   "execution_count": 215,
   "id": "b90f1edf",
   "metadata": {
    "execution": {
     "iopub.execute_input": "2024-09-20T16:33:51.530746Z",
     "iopub.status.busy": "2024-09-20T16:33:51.530575Z",
     "iopub.status.idle": "2024-09-20T16:36:10.495395Z",
     "shell.execute_reply": "2024-09-20T16:36:10.494719Z",
     "shell.execute_reply.started": "2024-09-20T16:33:51.530730Z"
    }
   },
   "outputs": [
    {
     "name": "stdout",
     "output_type": "stream",
     "text": [
      "('mew', 'meg', 'dbusl', 'dtraml', 'droad', 'dvfpath', 'gvm_dwv', 'r_width_value', 'z_qnr_7', 'z_qnr_16', 'z_qnr_26', 'z_qnr_28', 'z_knr_4', 'z_knr_9', 'trafficarea_2', 'r_width_1', 'r_width_2', 'r_surface_1', 'speedlimit_3', 'speedlimit_4')\n",
      "20\n",
      "0.7302000647209836\n"
     ]
    }
   ],
   "source": [
    "# n = best, logistic regression, scoring = f1, cv = 10\n",
    "sbfslog3 = featureselection_log(False, 'f1', 10, x, y)\n",
    "print(sbfslog3.k_feature_names_)\n",
    "print(len(sbfslog3.k_feature_names_))\n",
    "print(sbfslog3.k_score_)"
   ]
  },
  {
   "cell_type": "code",
   "execution_count": 216,
   "id": "b82c7b6f",
   "metadata": {
    "execution": {
     "iopub.execute_input": "2024-09-20T16:36:10.496798Z",
     "iopub.status.busy": "2024-09-20T16:36:10.496309Z",
     "iopub.status.idle": "2024-09-20T16:36:10.501141Z",
     "shell.execute_reply": "2024-09-20T16:36:10.500591Z",
     "shell.execute_reply.started": "2024-09-20T16:36:10.496782Z"
    }
   },
   "outputs": [],
   "source": [
    "# # n = best, logistic regression, scoring = f1, cv = 15\n",
    "# sbfslog6 = featureselection_log(False, 'f1', 15, x, y)\n",
    "# print(sbfslog6.k_feature_names_)\n",
    "# print(len(sbfslog6.k_feature_names_))\n",
    "# print(sbfslog6.k_score_)"
   ]
  },
  {
   "cell_type": "code",
   "execution_count": 217,
   "id": "1295bfe8",
   "metadata": {
    "execution": {
     "iopub.execute_input": "2024-09-20T16:36:10.502055Z",
     "iopub.status.busy": "2024-09-20T16:36:10.501792Z",
     "iopub.status.idle": "2024-09-20T16:36:10.519033Z",
     "shell.execute_reply": "2024-09-20T16:36:10.518462Z",
     "shell.execute_reply.started": "2024-09-20T16:36:10.502038Z"
    }
   },
   "outputs": [],
   "source": [
    "# n = best, logistic regression, scoring = f1, cv = 20\n",
    "# sbfslog7 = featureselection_log(False, 'f1', 20, x, y)\n",
    "# print(sbfslog7.k_feature_names_)\n",
    "# print(len(sbfslog7.k_feature_names_))\n",
    "# print(sbfslog7.k_score_)"
   ]
  },
  {
   "cell_type": "code",
   "execution_count": 252,
   "id": "605c2bc0",
   "metadata": {
    "execution": {
     "iopub.execute_input": "2024-09-20T16:48:17.501897Z",
     "iopub.status.busy": "2024-09-20T16:48:17.501369Z",
     "iopub.status.idle": "2024-09-20T16:48:17.505857Z",
     "shell.execute_reply": "2024-09-20T16:48:17.505218Z",
     "shell.execute_reply.started": "2024-09-20T16:48:17.501876Z"
    },
    "scrolled": true
   },
   "outputs": [],
   "source": [
    "# # n = best, logistic regression, scoring = precision, cv = 5\n",
    "# sbfslog4 = featureselection_log(False, 'precision', 5, x, y)\n",
    "# print(sbfslog4.k_feature_names_)\n",
    "# print(len(sbfslog4.k_feature_names_))\n",
    "# print(sbfslog4.k_score_)\n",
    "# ('cp', 'mew', 'dbusl', 'dtraml', 'dvfpath', 'carcount', 'z_qnr_1', 'z_qnr_5', 'z_qnr_7', 'z_qnr_8', 'z_qnr_11', 'z_qnr_12', 'z_qnr_14', 'z_qnr_15', 'z_qnr_22', 'z_knr_4', 'z_knr_6', 'z_knr_9', 'z_knr_10', 'trafficarea_2', 'r_width_2', 'r_width_4', 'r_width_5', 'r_surface_1', 'speedlimit_3', 'speedlimit_4')\n",
    "# 26\n",
    "# 0.9248882098293862"
   ]
  },
  {
   "cell_type": "code",
   "execution_count": 253,
   "id": "6fcfaec8",
   "metadata": {
    "execution": {
     "iopub.execute_input": "2024-09-20T16:48:27.829501Z",
     "iopub.status.busy": "2024-09-20T16:48:27.828670Z",
     "iopub.status.idle": "2024-09-20T16:48:27.832905Z",
     "shell.execute_reply": "2024-09-20T16:48:27.832269Z",
     "shell.execute_reply.started": "2024-09-20T16:48:27.829455Z"
    },
    "scrolled": true
   },
   "outputs": [],
   "source": [
    "# # n = best, logistic regression, scoring = precision, cv = 10\n",
    "# sbfslog5 = featureselection_log(False, 'precision', 10, x, y)\n",
    "# print(sbfslog5.k_feature_names_)\n",
    "# print(len(sbfslog5.k_feature_names_))\n",
    "# print(sbfslog5.k_score_)\n",
    "# ('ie', 'meg', 'dtraml', 'dplight', 'dstopsign', 'droad', 'dvfpath', 'z_qnr_4', 'z_qnr_5', 'z_qnr_7', 'z_qnr_10', 'z_qnr_11', 'z_qnr_17', 'z_qnr_22', 'z_qnr_25', 'z_qnr_26', 'z_knr_3', 'z_knr_4', 'z_knr_5', 'z_knr_6', 'z_knr_9', 'z_knr_10', 'trafficarea_2', 'r_width_2', 'r_width_4', 'r_width_5', 'r_surface_1', 'speedlimit_4')\n",
    "# 28\n",
    "# 0.9249112978524743"
   ]
  },
  {
   "cell_type": "code",
   "execution_count": 220,
   "id": "f9b3f34a",
   "metadata": {
    "execution": {
     "iopub.execute_input": "2024-09-20T16:39:26.749783Z",
     "iopub.status.busy": "2024-09-20T16:39:26.749596Z",
     "iopub.status.idle": "2024-09-20T16:39:26.754155Z",
     "shell.execute_reply": "2024-09-20T16:39:26.753638Z",
     "shell.execute_reply.started": "2024-09-20T16:39:26.749762Z"
    }
   },
   "outputs": [],
   "source": [
    "# # n = best, logistic regression, scoring = precision, cv = 15\n",
    "# sbfslog10 = featureselection_log(False, 'precision', 15, x, y)\n",
    "# print(sbfslog10.k_feature_names_)\n",
    "# print(len(sbfslog10.k_feature_names_))\n",
    "# print(sbfslog10.k_score_)"
   ]
  },
  {
   "cell_type": "code",
   "execution_count": 221,
   "id": "046d57e6",
   "metadata": {
    "execution": {
     "iopub.execute_input": "2024-09-20T16:39:26.755838Z",
     "iopub.status.busy": "2024-09-20T16:39:26.755689Z",
     "iopub.status.idle": "2024-09-20T16:39:26.771430Z",
     "shell.execute_reply": "2024-09-20T16:39:26.770959Z",
     "shell.execute_reply.started": "2024-09-20T16:39:26.755825Z"
    },
    "scrolled": true
   },
   "outputs": [],
   "source": [
    "# # n = best, logistic regression, scoring = precision, cv = 20\n",
    "# sbfslog11 = featureselection_log(False, 'precision', 20, x, y)\n",
    "# print(sbfslog11.k_feature_names_)\n",
    "# print(len(sbfslog11.k_feature_names_))\n",
    "# print(sbfslog11.k_score_)"
   ]
  },
  {
   "cell_type": "code",
   "execution_count": 222,
   "id": "a2b0adc4",
   "metadata": {
    "execution": {
     "iopub.execute_input": "2024-09-20T16:39:26.772143Z",
     "iopub.status.busy": "2024-09-20T16:39:26.772001Z",
     "iopub.status.idle": "2024-09-20T16:40:28.101380Z",
     "shell.execute_reply": "2024-09-20T16:40:28.100506Z",
     "shell.execute_reply.started": "2024-09-20T16:39:26.772130Z"
    }
   },
   "outputs": [
    {
     "name": "stdout",
     "output_type": "stream",
     "text": [
      "('ie', 'bicyclecount', 'r_width_value', 'speedlimit_value', 'z_qnr_3', 'z_qnr_8', 'z_qnr_10', 'z_qnr_11', 'z_qnr_13', 'z_qnr_23', 'z_knr_1', 'z_knr_2', 'z_knr_4', 'z_knr_6', 'z_knr_8', 'z_knr_11', 'trafficarea_2', 'r_width_2', 'r_width_4', 'r_width_5', 'r_width_6', 'r_surface_1', 'speedlimit_1', 'speedlimit_4')\n",
      "24\n",
      "0.6813559322033899\n"
     ]
    }
   ],
   "source": [
    "# n = best, logistic regression, scoring = recall, cv = 5\n",
    "sbfslog6 = featureselection_log(False, 'recall', 5, x, y)\n",
    "print(sbfslog6.k_feature_names_)\n",
    "print(len(sbfslog6.k_feature_names_))\n",
    "print(sbfslog6.k_score_)"
   ]
  },
  {
   "cell_type": "code",
   "execution_count": 223,
   "id": "a4efef70",
   "metadata": {
    "execution": {
     "iopub.execute_input": "2024-09-20T16:40:28.102387Z",
     "iopub.status.busy": "2024-09-20T16:40:28.102228Z",
     "iopub.status.idle": "2024-09-20T16:42:30.579603Z",
     "shell.execute_reply": "2024-09-20T16:42:30.579039Z",
     "shell.execute_reply.started": "2024-09-20T16:40:28.102373Z"
    }
   },
   "outputs": [
    {
     "name": "stdout",
     "output_type": "stream",
     "text": [
      "('ie', 'mew', 'meg', 'dpedcro', 'droad', 'dvfpath', 'gvm_dwv', 'bicyclecount', 'r_width_value', 'speedlimit_value', 'z_qnr_3', 'z_qnr_7', 'z_qnr_10', 'z_qnr_11', 'z_qnr_16', 'z_qnr_18', 'z_qnr_23', 'z_qnr_26', 'z_qnr_31', 'z_qnr_32', 'z_knr_4', 'z_knr_5', 'z_knr_6', 'z_knr_8', 'z_knr_9', 'trafficarea_2', 'r_width_2', 'r_width_3', 'r_width_4', 'r_width_5', 'r_width_6', 'r_surface_1', 'speedlimit_1', 'speedlimit_4')\n",
      "34\n",
      "0.6880459770114944\n"
     ]
    }
   ],
   "source": [
    "# n = best, logistic regression, scoring = recall, cv = 10\n",
    "sbfslog7 = featureselection_log(False, 'recall', 10, x, y)\n",
    "print(sbfslog7.k_feature_names_)\n",
    "print(len(sbfslog7.k_feature_names_))\n",
    "print(sbfslog7.k_score_)"
   ]
  },
  {
   "cell_type": "code",
   "execution_count": 224,
   "id": "07b918be",
   "metadata": {
    "execution": {
     "iopub.execute_input": "2024-09-20T16:42:30.580419Z",
     "iopub.status.busy": "2024-09-20T16:42:30.580260Z",
     "iopub.status.idle": "2024-09-20T16:42:30.585766Z",
     "shell.execute_reply": "2024-09-20T16:42:30.585291Z",
     "shell.execute_reply.started": "2024-09-20T16:42:30.580395Z"
    }
   },
   "outputs": [],
   "source": [
    "# # n = best, logistic regression, scoring = recall, cv = 15\n",
    "# sbfslog14 = featureselection_log(False, 'recall', 15, x, y)\n",
    "# print(sbfslog14.k_feature_names_)\n",
    "# print(len(sbfslog14.k_feature_names_))\n",
    "# print(sbfslog14.k_score_)\n",
    "# #"
   ]
  },
  {
   "cell_type": "code",
   "execution_count": 225,
   "id": "89bf4092",
   "metadata": {
    "execution": {
     "iopub.execute_input": "2024-09-20T16:42:30.586498Z",
     "iopub.status.busy": "2024-09-20T16:42:30.586352Z",
     "iopub.status.idle": "2024-09-20T16:42:30.603023Z",
     "shell.execute_reply": "2024-09-20T16:42:30.602547Z",
     "shell.execute_reply.started": "2024-09-20T16:42:30.586485Z"
    }
   },
   "outputs": [],
   "source": [
    "# # n = best, logistic regression, scoring = recall, cv = 20\n",
    "# sbfslog15 = featureselection_log(False, 'recall', 20, x, y)\n",
    "# print(sbfslog15.k_feature_names_)\n",
    "# print(len(sbfslog15.k_feature_names_))\n",
    "# print(sbfslog15.k_score_)\n",
    "# #"
   ]
  },
  {
   "cell_type": "code",
   "execution_count": 226,
   "id": "0cccb8f2",
   "metadata": {
    "execution": {
     "iopub.execute_input": "2024-09-20T16:42:30.603770Z",
     "iopub.status.busy": "2024-09-20T16:42:30.603619Z",
     "iopub.status.idle": "2024-09-20T16:42:30.622841Z",
     "shell.execute_reply": "2024-09-20T16:42:30.622339Z",
     "shell.execute_reply.started": "2024-09-20T16:42:30.603757Z"
    }
   },
   "outputs": [],
   "source": [
    "# For all \n",
    "selected_columns_logr_sbfs = []\n",
    "selected_columns_logr_sbfs = {'all': cnu,\n",
    "                              'acc_cv5':list(sbfslog0.k_feature_names_), \n",
    "                              'acc_cv10':list(sbfslog1.k_feature_names_),\n",
    "                              'f1_cv5':list(sbfslog2.k_feature_names_), \n",
    "                              'f1_cv10':list(sbfslog3.k_feature_names_),\n",
    "                              'pre_cv5':list(sbfslog4.k_feature_names_), \n",
    "                              'pre_cv10':list(sbfslog5.k_feature_names_),\n",
    "                              'rec_cv5':list(sbfslog6.k_feature_names_), \n",
    "                              'rec_cv10':list(sbfslog7.k_feature_names_)\n",
    "                              }\n",
    "df_sf_logr_sbfs = pd.DataFrame(dict([(k,pd.Series(v)) for k,v in selected_columns_logr_sbfs.items()]))\n",
    "df_sf_logr_sbfs.to_csv('/home/yelhe/script/mtp/tables/updated_sbfs_logisticreg.csv', index = True)"
   ]
  },
  {
   "cell_type": "code",
   "execution_count": 176,
   "id": "a70e79d7-49f6-464d-9c7f-094b1748ee63",
   "metadata": {
    "execution": {
     "iopub.execute_input": "2024-10-04T16:46:59.828066Z",
     "iopub.status.busy": "2024-10-04T16:46:59.826516Z",
     "iopub.status.idle": "2024-10-04T16:46:59.834822Z",
     "shell.execute_reply": "2024-10-04T16:46:59.834198Z",
     "shell.execute_reply.started": "2024-10-04T16:46:59.828003Z"
    }
   },
   "outputs": [],
   "source": [
    "df_output = pd.read_csv('/home/yelhe/script/mtp/tables/updated_sbfs_logisticreg.csv')"
   ]
  },
  {
   "cell_type": "code",
   "execution_count": 177,
   "id": "29209bb9-3b89-4909-964b-77614b68f469",
   "metadata": {
    "execution": {
     "iopub.execute_input": "2024-10-04T16:47:00.037316Z",
     "iopub.status.busy": "2024-10-04T16:47:00.036666Z",
     "iopub.status.idle": "2024-10-04T16:47:00.041587Z",
     "shell.execute_reply": "2024-10-04T16:47:00.040854Z",
     "shell.execute_reply.started": "2024-10-04T16:47:00.037300Z"
    }
   },
   "outputs": [
    {
     "data": {
      "text/plain": [
       "Index(['Unnamed: 0', 'all', 'acc_cv5', 'acc_cv10', 'f1_cv5', 'f1_cv10',\n",
       "       'pre_cv5', 'pre_cv10', 'rec_cv5', 'rec_cv10'],\n",
       "      dtype='object')"
      ]
     },
     "execution_count": 177,
     "metadata": {},
     "output_type": "execute_result"
    }
   ],
   "source": [
    "df_output.columns"
   ]
  },
  {
   "cell_type": "code",
   "execution_count": 175,
   "id": "69af2959-d65a-45e1-9548-ea202aec26af",
   "metadata": {
    "execution": {
     "iopub.execute_input": "2024-10-04T16:46:29.611682Z",
     "iopub.status.busy": "2024-10-04T16:46:29.611135Z",
     "iopub.status.idle": "2024-10-04T16:46:29.615481Z",
     "shell.execute_reply": "2024-10-04T16:46:29.614781Z",
     "shell.execute_reply.started": "2024-10-04T16:46:29.611662Z"
    }
   },
   "outputs": [],
   "source": [
    "# log_sffs = []\n",
    "log_sbfs = []"
   ]
  },
  {
   "cell_type": "code",
   "execution_count": 206,
   "id": "ae21dc23-acbc-45ae-938f-29c5d039aad0",
   "metadata": {
    "execution": {
     "iopub.execute_input": "2024-10-04T16:48:28.235147Z",
     "iopub.status.busy": "2024-10-04T16:48:28.234550Z",
     "iopub.status.idle": "2024-10-04T16:48:28.240917Z",
     "shell.execute_reply": "2024-10-04T16:48:28.240122Z",
     "shell.execute_reply.started": "2024-10-04T16:48:28.235125Z"
    }
   },
   "outputs": [],
   "source": [
    "l = list(df_output['rec_cv10'].dropna())\n",
    "\n",
    "# x_selected\n",
    "xs = dfacrpv[l]"
   ]
  },
  {
   "cell_type": "code",
   "execution_count": 207,
   "id": "7c731507-e6b1-4131-a0de-408146c269c7",
   "metadata": {
    "execution": {
     "iopub.execute_input": "2024-10-04T16:48:28.378255Z",
     "iopub.status.busy": "2024-10-04T16:48:28.377828Z",
     "iopub.status.idle": "2024-10-04T16:48:28.599894Z",
     "shell.execute_reply": "2024-10-04T16:48:28.599309Z",
     "shell.execute_reply.started": "2024-10-04T16:48:28.378236Z"
    }
   },
   "outputs": [
    {
     "name": "stderr",
     "output_type": "stream",
     "text": [
      "/opt/conda/lib/python3.11/site-packages/statsmodels/base/model.py:130: ValueWarning: unknown kwargs ['max_iter']\n",
      "  warnings.warn(msg, ValueWarning)\n",
      "/opt/conda/lib/python3.11/site-packages/statsmodels/base/model.py:130: ValueWarning: unknown kwargs ['max_iter']\n",
      "  warnings.warn(msg, ValueWarning)\n"
     ]
    },
    {
     "name": "stdout",
     "output_type": "stream",
     "text": [
      "Optimization terminated successfully    (Exit mode 0)\n",
      "            Current function value: 0.257084446422331\n",
      "            Iterations: 258\n",
      "            Function evaluations: 259\n",
      "            Gradient evaluations: 258\n"
     ]
    },
    {
     "data": {
      "text/html": [
       "<table class=\"simpletable\">\n",
       "<caption>Logit Regression Results</caption>\n",
       "<tr>\n",
       "  <th>Dep. Variable:</th>          <td>acp</td>       <th>  No. Observations:  </th>   <td>  1087</td>  \n",
       "</tr>\n",
       "<tr>\n",
       "  <th>Model:</th>                 <td>Logit</td>      <th>  Df Residuals:      </th>   <td>  1052</td>  \n",
       "</tr>\n",
       "<tr>\n",
       "  <th>Method:</th>                 <td>MLE</td>       <th>  Df Model:          </th>   <td>    34</td>  \n",
       "</tr>\n",
       "<tr>\n",
       "  <th>Date:</th>            <td>Fri, 04 Oct 2024</td> <th>  Pseudo R-squ.:     </th>   <td>0.5603</td>  \n",
       "</tr>\n",
       "<tr>\n",
       "  <th>Time:</th>                <td>18:48:28</td>     <th>  Log-Likelihood:    </th>  <td> -279.45</td> \n",
       "</tr>\n",
       "<tr>\n",
       "  <th>converged:</th>             <td>True</td>       <th>  LL-Null:           </th>  <td> -635.50</td> \n",
       "</tr>\n",
       "<tr>\n",
       "  <th>Covariance Type:</th>     <td>nonrobust</td>    <th>  LLR p-value:       </th> <td>7.829e-128</td>\n",
       "</tr>\n",
       "</table>\n",
       "<table class=\"simpletable\">\n",
       "<tr>\n",
       "          <td></td>            <th>coef</th>     <th>std err</th>      <th>z</th>      <th>P>|z|</th>  <th>[0.025</th>    <th>0.975]</th>  \n",
       "</tr>\n",
       "<tr>\n",
       "  <th>const</th>            <td>  -30.9602</td> <td> 1.04e+05</td> <td>   -0.000</td> <td> 1.000</td> <td>-2.03e+05</td> <td> 2.03e+05</td>\n",
       "</tr>\n",
       "<tr>\n",
       "  <th>ie</th>               <td>   -0.1533</td> <td>    0.113</td> <td>   -1.360</td> <td> 0.174</td> <td>   -0.374</td> <td>    0.068</td>\n",
       "</tr>\n",
       "<tr>\n",
       "  <th>mew</th>              <td>    0.2244</td> <td>    0.121</td> <td>    1.861</td> <td> 0.063</td> <td>   -0.012</td> <td>    0.461</td>\n",
       "</tr>\n",
       "<tr>\n",
       "  <th>meg</th>              <td>    0.0266</td> <td>    0.126</td> <td>    0.211</td> <td> 0.833</td> <td>   -0.220</td> <td>    0.273</td>\n",
       "</tr>\n",
       "<tr>\n",
       "  <th>dpedcro</th>          <td>   -0.0291</td> <td>    0.124</td> <td>   -0.234</td> <td> 0.815</td> <td>   -0.273</td> <td>    0.215</td>\n",
       "</tr>\n",
       "<tr>\n",
       "  <th>droad</th>            <td>   -0.1177</td> <td>    0.131</td> <td>   -0.901</td> <td> 0.368</td> <td>   -0.374</td> <td>    0.139</td>\n",
       "</tr>\n",
       "<tr>\n",
       "  <th>dvfpath</th>          <td>   -0.2142</td> <td>    0.127</td> <td>   -1.683</td> <td> 0.092</td> <td>   -0.464</td> <td>    0.035</td>\n",
       "</tr>\n",
       "<tr>\n",
       "  <th>gvm_dwv</th>          <td>    0.0040</td> <td>    0.125</td> <td>    0.032</td> <td> 0.974</td> <td>   -0.240</td> <td>    0.249</td>\n",
       "</tr>\n",
       "<tr>\n",
       "  <th>bicyclecount</th>     <td>   -0.0808</td> <td>    0.119</td> <td>   -0.678</td> <td> 0.498</td> <td>   -0.314</td> <td>    0.153</td>\n",
       "</tr>\n",
       "<tr>\n",
       "  <th>r_width_value</th>    <td>   -0.8783</td> <td>    0.202</td> <td>   -4.353</td> <td> 0.000</td> <td>   -1.274</td> <td>   -0.483</td>\n",
       "</tr>\n",
       "<tr>\n",
       "  <th>speedlimit_value</th> <td>   -1.2634</td> <td>    0.209</td> <td>   -6.054</td> <td> 0.000</td> <td>   -1.672</td> <td>   -0.854</td>\n",
       "</tr>\n",
       "<tr>\n",
       "  <th>z_qnr_3</th>          <td>   -0.8016</td> <td>    0.807</td> <td>   -0.993</td> <td> 0.320</td> <td>   -2.383</td> <td>    0.780</td>\n",
       "</tr>\n",
       "<tr>\n",
       "  <th>z_qnr_7</th>          <td>    2.3539</td> <td>    0.681</td> <td>    3.459</td> <td> 0.001</td> <td>    1.020</td> <td>    3.688</td>\n",
       "</tr>\n",
       "<tr>\n",
       "  <th>z_qnr_10</th>         <td>   -1.9725</td> <td>    0.632</td> <td>   -3.123</td> <td> 0.002</td> <td>   -3.210</td> <td>   -0.735</td>\n",
       "</tr>\n",
       "<tr>\n",
       "  <th>z_qnr_11</th>         <td>   -0.0639</td> <td>    0.529</td> <td>   -0.121</td> <td> 0.904</td> <td>   -1.101</td> <td>    0.973</td>\n",
       "</tr>\n",
       "<tr>\n",
       "  <th>z_qnr_16</th>         <td>    1.4410</td> <td>    0.672</td> <td>    2.144</td> <td> 0.032</td> <td>    0.123</td> <td>    2.759</td>\n",
       "</tr>\n",
       "<tr>\n",
       "  <th>z_qnr_18</th>         <td>    0.7600</td> <td>    0.693</td> <td>    1.097</td> <td> 0.273</td> <td>   -0.598</td> <td>    2.118</td>\n",
       "</tr>\n",
       "<tr>\n",
       "  <th>z_qnr_23</th>         <td>   -1.9682</td> <td>    1.093</td> <td>   -1.800</td> <td> 0.072</td> <td>   -4.111</td> <td>    0.174</td>\n",
       "</tr>\n",
       "<tr>\n",
       "  <th>z_qnr_26</th>         <td>   -2.7717</td> <td>    0.883</td> <td>   -3.140</td> <td> 0.002</td> <td>   -4.502</td> <td>   -1.041</td>\n",
       "</tr>\n",
       "<tr>\n",
       "  <th>z_qnr_31</th>         <td>  -16.3548</td> <td> 2855.331</td> <td>   -0.006</td> <td> 0.995</td> <td>-5612.700</td> <td> 5579.991</td>\n",
       "</tr>\n",
       "<tr>\n",
       "  <th>z_qnr_32</th>         <td>   -1.7136</td> <td>    1.213</td> <td>   -1.413</td> <td> 0.158</td> <td>   -4.091</td> <td>    0.664</td>\n",
       "</tr>\n",
       "<tr>\n",
       "  <th>z_knr_4</th>          <td>    2.2923</td> <td>    0.444</td> <td>    5.161</td> <td> 0.000</td> <td>    1.422</td> <td>    3.163</td>\n",
       "</tr>\n",
       "<tr>\n",
       "  <th>z_knr_5</th>          <td>    0.9613</td> <td>    0.426</td> <td>    2.259</td> <td> 0.024</td> <td>    0.127</td> <td>    1.795</td>\n",
       "</tr>\n",
       "<tr>\n",
       "  <th>z_knr_6</th>          <td>   -0.6802</td> <td>    0.414</td> <td>   -1.641</td> <td> 0.101</td> <td>   -1.492</td> <td>    0.132</td>\n",
       "</tr>\n",
       "<tr>\n",
       "  <th>z_knr_8</th>          <td>   -2.0406</td> <td>    0.677</td> <td>   -3.014</td> <td> 0.003</td> <td>   -3.367</td> <td>   -0.714</td>\n",
       "</tr>\n",
       "<tr>\n",
       "  <th>z_knr_9</th>          <td>    1.8150</td> <td>    0.368</td> <td>    4.930</td> <td> 0.000</td> <td>    1.093</td> <td>    2.536</td>\n",
       "</tr>\n",
       "<tr>\n",
       "  <th>trafficarea_2</th>    <td>   -2.2982</td> <td>    0.452</td> <td>   -5.082</td> <td> 0.000</td> <td>   -3.185</td> <td>   -1.412</td>\n",
       "</tr>\n",
       "<tr>\n",
       "  <th>r_width_2</th>        <td>   -1.8718</td> <td>    0.690</td> <td>   -2.715</td> <td> 0.007</td> <td>   -3.223</td> <td>   -0.520</td>\n",
       "</tr>\n",
       "<tr>\n",
       "  <th>r_width_3</th>        <td>    1.4627</td> <td>    0.563</td> <td>    2.600</td> <td> 0.009</td> <td>    0.360</td> <td>    2.565</td>\n",
       "</tr>\n",
       "<tr>\n",
       "  <th>r_width_4</th>        <td>    1.3693</td> <td>    0.357</td> <td>    3.836</td> <td> 0.000</td> <td>    0.670</td> <td>    2.069</td>\n",
       "</tr>\n",
       "<tr>\n",
       "  <th>r_width_5</th>        <td>    2.0878</td> <td>    0.418</td> <td>    4.997</td> <td> 0.000</td> <td>    1.269</td> <td>    2.907</td>\n",
       "</tr>\n",
       "<tr>\n",
       "  <th>r_width_6</th>        <td>    1.4006</td> <td>    0.491</td> <td>    2.851</td> <td> 0.004</td> <td>    0.438</td> <td>    2.364</td>\n",
       "</tr>\n",
       "<tr>\n",
       "  <th>r_surface_1</th>      <td>   26.5154</td> <td> 1.04e+05</td> <td>    0.000</td> <td> 1.000</td> <td>-2.03e+05</td> <td> 2.03e+05</td>\n",
       "</tr>\n",
       "<tr>\n",
       "  <th>speedlimit_1</th>     <td>    1.6255</td> <td>    0.392</td> <td>    4.152</td> <td> 0.000</td> <td>    0.858</td> <td>    2.393</td>\n",
       "</tr>\n",
       "<tr>\n",
       "  <th>speedlimit_4</th>     <td>    6.4860</td> <td>    0.556</td> <td>   11.670</td> <td> 0.000</td> <td>    5.397</td> <td>    7.575</td>\n",
       "</tr>\n",
       "</table>"
      ],
      "text/latex": [
       "\\begin{center}\n",
       "\\begin{tabular}{lclc}\n",
       "\\toprule\n",
       "\\textbf{Dep. Variable:}    &       acp        & \\textbf{  No. Observations:  } &     1087    \\\\\n",
       "\\textbf{Model:}            &      Logit       & \\textbf{  Df Residuals:      } &     1052    \\\\\n",
       "\\textbf{Method:}           &       MLE        & \\textbf{  Df Model:          } &       34    \\\\\n",
       "\\textbf{Date:}             & Fri, 04 Oct 2024 & \\textbf{  Pseudo R-squ.:     } &   0.5603    \\\\\n",
       "\\textbf{Time:}             &     18:48:28     & \\textbf{  Log-Likelihood:    } &   -279.45   \\\\\n",
       "\\textbf{converged:}        &       True       & \\textbf{  LL-Null:           } &   -635.50   \\\\\n",
       "\\textbf{Covariance Type:}  &    nonrobust     & \\textbf{  LLR p-value:       } & 7.829e-128  \\\\\n",
       "\\bottomrule\n",
       "\\end{tabular}\n",
       "\\begin{tabular}{lcccccc}\n",
       "                           & \\textbf{coef} & \\textbf{std err} & \\textbf{z} & \\textbf{P$> |$z$|$} & \\textbf{[0.025} & \\textbf{0.975]}  \\\\\n",
       "\\midrule\n",
       "\\textbf{const}             &     -30.9602  &     1.04e+05     &    -0.000  &         1.000        &    -2.03e+05    &     2.03e+05     \\\\\n",
       "\\textbf{ie}                &      -0.1533  &        0.113     &    -1.360  &         0.174        &       -0.374    &        0.068     \\\\\n",
       "\\textbf{mew}               &       0.2244  &        0.121     &     1.861  &         0.063        &       -0.012    &        0.461     \\\\\n",
       "\\textbf{meg}               &       0.0266  &        0.126     &     0.211  &         0.833        &       -0.220    &        0.273     \\\\\n",
       "\\textbf{dpedcro}           &      -0.0291  &        0.124     &    -0.234  &         0.815        &       -0.273    &        0.215     \\\\\n",
       "\\textbf{droad}             &      -0.1177  &        0.131     &    -0.901  &         0.368        &       -0.374    &        0.139     \\\\\n",
       "\\textbf{dvfpath}           &      -0.2142  &        0.127     &    -1.683  &         0.092        &       -0.464    &        0.035     \\\\\n",
       "\\textbf{gvm\\_dwv}          &       0.0040  &        0.125     &     0.032  &         0.974        &       -0.240    &        0.249     \\\\\n",
       "\\textbf{bicyclecount}      &      -0.0808  &        0.119     &    -0.678  &         0.498        &       -0.314    &        0.153     \\\\\n",
       "\\textbf{r\\_width\\_value}   &      -0.8783  &        0.202     &    -4.353  &         0.000        &       -1.274    &       -0.483     \\\\\n",
       "\\textbf{speedlimit\\_value} &      -1.2634  &        0.209     &    -6.054  &         0.000        &       -1.672    &       -0.854     \\\\\n",
       "\\textbf{z\\_qnr\\_3}         &      -0.8016  &        0.807     &    -0.993  &         0.320        &       -2.383    &        0.780     \\\\\n",
       "\\textbf{z\\_qnr\\_7}         &       2.3539  &        0.681     &     3.459  &         0.001        &        1.020    &        3.688     \\\\\n",
       "\\textbf{z\\_qnr\\_10}        &      -1.9725  &        0.632     &    -3.123  &         0.002        &       -3.210    &       -0.735     \\\\\n",
       "\\textbf{z\\_qnr\\_11}        &      -0.0639  &        0.529     &    -0.121  &         0.904        &       -1.101    &        0.973     \\\\\n",
       "\\textbf{z\\_qnr\\_16}        &       1.4410  &        0.672     &     2.144  &         0.032        &        0.123    &        2.759     \\\\\n",
       "\\textbf{z\\_qnr\\_18}        &       0.7600  &        0.693     &     1.097  &         0.273        &       -0.598    &        2.118     \\\\\n",
       "\\textbf{z\\_qnr\\_23}        &      -1.9682  &        1.093     &    -1.800  &         0.072        &       -4.111    &        0.174     \\\\\n",
       "\\textbf{z\\_qnr\\_26}        &      -2.7717  &        0.883     &    -3.140  &         0.002        &       -4.502    &       -1.041     \\\\\n",
       "\\textbf{z\\_qnr\\_31}        &     -16.3548  &     2855.331     &    -0.006  &         0.995        &    -5612.700    &     5579.991     \\\\\n",
       "\\textbf{z\\_qnr\\_32}        &      -1.7136  &        1.213     &    -1.413  &         0.158        &       -4.091    &        0.664     \\\\\n",
       "\\textbf{z\\_knr\\_4}         &       2.2923  &        0.444     &     5.161  &         0.000        &        1.422    &        3.163     \\\\\n",
       "\\textbf{z\\_knr\\_5}         &       0.9613  &        0.426     &     2.259  &         0.024        &        0.127    &        1.795     \\\\\n",
       "\\textbf{z\\_knr\\_6}         &      -0.6802  &        0.414     &    -1.641  &         0.101        &       -1.492    &        0.132     \\\\\n",
       "\\textbf{z\\_knr\\_8}         &      -2.0406  &        0.677     &    -3.014  &         0.003        &       -3.367    &       -0.714     \\\\\n",
       "\\textbf{z\\_knr\\_9}         &       1.8150  &        0.368     &     4.930  &         0.000        &        1.093    &        2.536     \\\\\n",
       "\\textbf{trafficarea\\_2}    &      -2.2982  &        0.452     &    -5.082  &         0.000        &       -3.185    &       -1.412     \\\\\n",
       "\\textbf{r\\_width\\_2}       &      -1.8718  &        0.690     &    -2.715  &         0.007        &       -3.223    &       -0.520     \\\\\n",
       "\\textbf{r\\_width\\_3}       &       1.4627  &        0.563     &     2.600  &         0.009        &        0.360    &        2.565     \\\\\n",
       "\\textbf{r\\_width\\_4}       &       1.3693  &        0.357     &     3.836  &         0.000        &        0.670    &        2.069     \\\\\n",
       "\\textbf{r\\_width\\_5}       &       2.0878  &        0.418     &     4.997  &         0.000        &        1.269    &        2.907     \\\\\n",
       "\\textbf{r\\_width\\_6}       &       1.4006  &        0.491     &     2.851  &         0.004        &        0.438    &        2.364     \\\\\n",
       "\\textbf{r\\_surface\\_1}     &      26.5154  &     1.04e+05     &     0.000  &         1.000        &    -2.03e+05    &     2.03e+05     \\\\\n",
       "\\textbf{speedlimit\\_1}     &       1.6255  &        0.392     &     4.152  &         0.000        &        0.858    &        2.393     \\\\\n",
       "\\textbf{speedlimit\\_4}     &       6.4860  &        0.556     &    11.670  &         0.000        &        5.397    &        7.575     \\\\\n",
       "\\bottomrule\n",
       "\\end{tabular}\n",
       "%\\caption{Logit Regression Results}\n",
       "\\end{center}"
      ],
      "text/plain": [
       "<class 'statsmodels.iolib.summary.Summary'>\n",
       "\"\"\"\n",
       "                           Logit Regression Results                           \n",
       "==============================================================================\n",
       "Dep. Variable:                    acp   No. Observations:                 1087\n",
       "Model:                          Logit   Df Residuals:                     1052\n",
       "Method:                           MLE   Df Model:                           34\n",
       "Date:                Fri, 04 Oct 2024   Pseudo R-squ.:                  0.5603\n",
       "Time:                        18:48:28   Log-Likelihood:                -279.45\n",
       "converged:                       True   LL-Null:                       -635.50\n",
       "Covariance Type:            nonrobust   LLR p-value:                7.829e-128\n",
       "====================================================================================\n",
       "                       coef    std err          z      P>|z|      [0.025      0.975]\n",
       "------------------------------------------------------------------------------------\n",
       "const              -30.9602   1.04e+05     -0.000      1.000   -2.03e+05    2.03e+05\n",
       "ie                  -0.1533      0.113     -1.360      0.174      -0.374       0.068\n",
       "mew                  0.2244      0.121      1.861      0.063      -0.012       0.461\n",
       "meg                  0.0266      0.126      0.211      0.833      -0.220       0.273\n",
       "dpedcro             -0.0291      0.124     -0.234      0.815      -0.273       0.215\n",
       "droad               -0.1177      0.131     -0.901      0.368      -0.374       0.139\n",
       "dvfpath             -0.2142      0.127     -1.683      0.092      -0.464       0.035\n",
       "gvm_dwv              0.0040      0.125      0.032      0.974      -0.240       0.249\n",
       "bicyclecount        -0.0808      0.119     -0.678      0.498      -0.314       0.153\n",
       "r_width_value       -0.8783      0.202     -4.353      0.000      -1.274      -0.483\n",
       "speedlimit_value    -1.2634      0.209     -6.054      0.000      -1.672      -0.854\n",
       "z_qnr_3             -0.8016      0.807     -0.993      0.320      -2.383       0.780\n",
       "z_qnr_7              2.3539      0.681      3.459      0.001       1.020       3.688\n",
       "z_qnr_10            -1.9725      0.632     -3.123      0.002      -3.210      -0.735\n",
       "z_qnr_11            -0.0639      0.529     -0.121      0.904      -1.101       0.973\n",
       "z_qnr_16             1.4410      0.672      2.144      0.032       0.123       2.759\n",
       "z_qnr_18             0.7600      0.693      1.097      0.273      -0.598       2.118\n",
       "z_qnr_23            -1.9682      1.093     -1.800      0.072      -4.111       0.174\n",
       "z_qnr_26            -2.7717      0.883     -3.140      0.002      -4.502      -1.041\n",
       "z_qnr_31           -16.3548   2855.331     -0.006      0.995   -5612.700    5579.991\n",
       "z_qnr_32            -1.7136      1.213     -1.413      0.158      -4.091       0.664\n",
       "z_knr_4              2.2923      0.444      5.161      0.000       1.422       3.163\n",
       "z_knr_5              0.9613      0.426      2.259      0.024       0.127       1.795\n",
       "z_knr_6             -0.6802      0.414     -1.641      0.101      -1.492       0.132\n",
       "z_knr_8             -2.0406      0.677     -3.014      0.003      -3.367      -0.714\n",
       "z_knr_9              1.8150      0.368      4.930      0.000       1.093       2.536\n",
       "trafficarea_2       -2.2982      0.452     -5.082      0.000      -3.185      -1.412\n",
       "r_width_2           -1.8718      0.690     -2.715      0.007      -3.223      -0.520\n",
       "r_width_3            1.4627      0.563      2.600      0.009       0.360       2.565\n",
       "r_width_4            1.3693      0.357      3.836      0.000       0.670       2.069\n",
       "r_width_5            2.0878      0.418      4.997      0.000       1.269       2.907\n",
       "r_width_6            1.4006      0.491      2.851      0.004       0.438       2.364\n",
       "r_surface_1         26.5154   1.04e+05      0.000      1.000   -2.03e+05    2.03e+05\n",
       "speedlimit_1         1.6255      0.392      4.152      0.000       0.858       2.393\n",
       "speedlimit_4         6.4860      0.556     11.670      0.000       5.397       7.575\n",
       "====================================================================================\n",
       "\"\"\""
      ]
     },
     "execution_count": 207,
     "metadata": {},
     "output_type": "execute_result"
    }
   ],
   "source": [
    "\n",
    "# Add constant\n",
    "xs_const = tools.add_constant(xs)\n",
    "m_fslog = sm.Logit(y,xs_const, max_iter = 400)\n",
    "r_fslog = m_fslog.fit_regularized()\n",
    "\n",
    "r_fslog.summary()"
   ]
  },
  {
   "cell_type": "code",
   "execution_count": 208,
   "id": "7041cafa-c145-481a-8a65-a0178429d601",
   "metadata": {
    "execution": {
     "iopub.execute_input": "2024-10-04T16:48:28.601084Z",
     "iopub.status.busy": "2024-10-04T16:48:28.600790Z",
     "iopub.status.idle": "2024-10-04T16:48:28.603813Z",
     "shell.execute_reply": "2024-10-04T16:48:28.603090Z",
     "shell.execute_reply.started": "2024-10-04T16:48:28.601056Z"
    }
   },
   "outputs": [],
   "source": [
    "log_sbfs.append(r_fslog.prsquared)"
   ]
  },
  {
   "cell_type": "code",
   "execution_count": 209,
   "id": "d5ca2ac8-c06f-4377-8eb3-36d48d9b6cb1",
   "metadata": {
    "execution": {
     "iopub.execute_input": "2024-10-04T16:48:28.679339Z",
     "iopub.status.busy": "2024-10-04T16:48:28.678795Z",
     "iopub.status.idle": "2024-10-04T16:48:28.683946Z",
     "shell.execute_reply": "2024-10-04T16:48:28.682959Z",
     "shell.execute_reply.started": "2024-10-04T16:48:28.679316Z"
    }
   },
   "outputs": [
    {
     "data": {
      "text/plain": [
       "[0.5270048702166006,\n",
       " 0.5101674294023298,\n",
       " 0.5632758894842201,\n",
       " 0.5049292163045334,\n",
       " 0.53302569786679,\n",
       " 0.47355561173794924,\n",
       " 0.5371379356910737,\n",
       " 0.5602655130617846]"
      ]
     },
     "execution_count": 209,
     "metadata": {},
     "output_type": "execute_result"
    }
   ],
   "source": [
    "log_sbfs"
   ]
  },
  {
   "cell_type": "code",
   "execution_count": null,
   "id": "403f0a22-a948-42e2-8fe1-e66ef283ecfa",
   "metadata": {},
   "outputs": [],
   "source": []
  },
  {
   "cell_type": "code",
   "execution_count": null,
   "id": "8ce71eea-dd2f-45ca-b768-b932880709f1",
   "metadata": {},
   "outputs": [],
   "source": []
  },
  {
   "cell_type": "code",
   "execution_count": 172,
   "id": "e3e77ba9-6fab-4c26-b032-c8c4bce8ffa3",
   "metadata": {
    "execution": {
     "iopub.execute_input": "2024-10-04T16:45:26.499794Z",
     "iopub.status.busy": "2024-10-04T16:45:26.499088Z",
     "iopub.status.idle": "2024-10-04T16:45:26.503987Z",
     "shell.execute_reply": "2024-10-04T16:45:26.503429Z",
     "shell.execute_reply.started": "2024-10-04T16:45:26.499774Z"
    }
   },
   "outputs": [
    {
     "data": {
      "text/plain": [
       "[0.5540930830540141,\n",
       " 0.5167599733954567,\n",
       " 0.5664270606307664,\n",
       " 0.5706121097470018,\n",
       " 0.5706121097470018,\n",
       " 0.4402284162416633,\n",
       " 0.5037884449797867,\n",
       " 0.48745664183593496]"
      ]
     },
     "execution_count": 172,
     "metadata": {},
     "output_type": "execute_result"
    }
   ],
   "source": [
    "log_sffs"
   ]
  }
 ],
 "metadata": {
  "kernelspec": {
   "display_name": "Python 3 (ipykernel)",
   "language": "python",
   "name": "python3"
  },
  "language_info": {
   "codemirror_mode": {
    "name": "ipython",
    "version": 3
   },
   "file_extension": ".py",
   "mimetype": "text/x-python",
   "name": "python",
   "nbconvert_exporter": "python",
   "pygments_lexer": "ipython3",
   "version": "3.11.5"
  }
 },
 "nbformat": 4,
 "nbformat_minor": 5
}
