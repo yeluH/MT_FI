{
 "cells": [
  {
   "cell_type": "markdown",
   "id": "eaf477e6-160a-4627-86d7-ec4ef775338f",
   "metadata": {},
   "source": [
    "# Preparation"
   ]
  },
  {
   "cell_type": "code",
   "execution_count": 1,
   "id": "814b498e-0791-4f34-a26a-13e042cbf8ef",
   "metadata": {
    "execution": {
     "iopub.execute_input": "2024-10-11T13:55:39.491698Z",
     "iopub.status.busy": "2024-10-11T13:55:39.490838Z",
     "iopub.status.idle": "2024-10-11T13:55:39.495760Z",
     "shell.execute_reply": "2024-10-11T13:55:39.495204Z",
     "shell.execute_reply.started": "2024-10-11T13:55:39.491671Z"
    }
   },
   "outputs": [],
   "source": [
    "# This file is based on: 0_regression_presence_of_accident\n",
    "# Remove features which were found correlated with others\n",
    "# Remove the categorical features which has only two categories"
   ]
  },
  {
   "cell_type": "code",
   "execution_count": 2,
   "id": "7e9f75d8-3be9-45ef-b9ae-ad72fefb7ce1",
   "metadata": {
    "execution": {
     "iopub.execute_input": "2024-10-11T13:55:39.650614Z",
     "iopub.status.busy": "2024-10-11T13:55:39.649719Z",
     "iopub.status.idle": "2024-10-11T13:55:48.413818Z",
     "shell.execute_reply": "2024-10-11T13:55:48.413200Z",
     "shell.execute_reply.started": "2024-10-11T13:55:39.650559Z"
    }
   },
   "outputs": [],
   "source": [
    "import torch\n",
    "torch.cuda.empty_cache() "
   ]
  },
  {
   "cell_type": "code",
   "execution_count": 3,
   "id": "f3e5fa71-37bd-4efe-b8ee-ae3c362b2a1b",
   "metadata": {
    "execution": {
     "iopub.execute_input": "2024-10-11T13:55:48.415533Z",
     "iopub.status.busy": "2024-10-11T13:55:48.414810Z",
     "iopub.status.idle": "2024-10-11T13:55:49.978586Z",
     "shell.execute_reply": "2024-10-11T13:55:49.977926Z",
     "shell.execute_reply.started": "2024-10-11T13:55:48.415516Z"
    }
   },
   "outputs": [],
   "source": [
    "import os \n",
    "os.environ['MPLCONFIGDIR'] = os.getcwd() + \"/configs/\"\n",
    "import matplotlib\n",
    "from matplotlib import pyplot as plt\n",
    "import numpy as np\n",
    "import cv2\n",
    "import urllib.request\n",
    "from PIL import Image"
   ]
  },
  {
   "cell_type": "code",
   "execution_count": 4,
   "id": "132db61a-9aa6-4936-8ab4-054288d07d2e",
   "metadata": {
    "execution": {
     "iopub.execute_input": "2024-10-11T13:55:49.980198Z",
     "iopub.status.busy": "2024-10-11T13:55:49.979585Z",
     "iopub.status.idle": "2024-10-11T13:55:52.591402Z",
     "shell.execute_reply": "2024-10-11T13:55:52.590765Z",
     "shell.execute_reply.started": "2024-10-11T13:55:49.980175Z"
    }
   },
   "outputs": [],
   "source": [
    "import pandas as pd\n",
    "import pyproj"
   ]
  },
  {
   "cell_type": "code",
   "execution_count": 5,
   "id": "80d61825-dc8d-4005-9362-cf497e771695",
   "metadata": {
    "execution": {
     "iopub.execute_input": "2024-10-11T13:55:52.593465Z",
     "iopub.status.busy": "2024-10-11T13:55:52.592770Z",
     "iopub.status.idle": "2024-10-11T13:55:52.596619Z",
     "shell.execute_reply": "2024-10-11T13:55:52.596250Z",
     "shell.execute_reply.started": "2024-10-11T13:55:52.593443Z"
    }
   },
   "outputs": [],
   "source": [
    "import os \n",
    "os.environ['MPLCONFIGDIR'] = os.getcwd() + \"/configs/\"\n",
    "import matplotlib\n",
    "from matplotlib import pyplot as plt\n",
    "import numpy as np\n",
    "import cv2"
   ]
  },
  {
   "cell_type": "code",
   "execution_count": 6,
   "id": "31d6a097",
   "metadata": {
    "execution": {
     "iopub.execute_input": "2024-10-11T13:55:52.597627Z",
     "iopub.status.busy": "2024-10-11T13:55:52.597086Z",
     "iopub.status.idle": "2024-10-11T13:55:57.235449Z",
     "shell.execute_reply": "2024-10-11T13:55:57.234843Z",
     "shell.execute_reply.started": "2024-10-11T13:55:52.597610Z"
    }
   },
   "outputs": [],
   "source": [
    "from pathlib import Path\n",
    "import sklearn\n",
    "import seaborn as sn\n",
    "from scipy import stats\n",
    "from tabulate import tabulate\n",
    "import statsmodels.api as sm\n",
    "import statsmodels.tools as tools"
   ]
  },
  {
   "cell_type": "code",
   "execution_count": 7,
   "id": "923fac26-61e2-49dd-9099-e31ff4079430",
   "metadata": {
    "execution": {
     "iopub.execute_input": "2024-10-11T13:55:57.236880Z",
     "iopub.status.busy": "2024-10-11T13:55:57.236190Z",
     "iopub.status.idle": "2024-10-11T13:55:57.915727Z",
     "shell.execute_reply": "2024-10-11T13:55:57.915076Z",
     "shell.execute_reply.started": "2024-10-11T13:55:57.236860Z"
    }
   },
   "outputs": [],
   "source": [
    "from mtp_function_yl import *"
   ]
  },
  {
   "cell_type": "code",
   "execution_count": 8,
   "id": "e1804d06-b69a-4709-ac5c-1970d29c38a2",
   "metadata": {
    "execution": {
     "iopub.execute_input": "2024-10-11T13:55:57.917446Z",
     "iopub.status.busy": "2024-10-11T13:55:57.916589Z",
     "iopub.status.idle": "2024-10-11T13:55:58.315491Z",
     "shell.execute_reply": "2024-10-11T13:55:58.314861Z",
     "shell.execute_reply.started": "2024-10-11T13:55:57.917422Z"
    }
   },
   "outputs": [],
   "source": [
    "import sklearn\n",
    "from sklearn import metrics\n",
    "from sklearn.metrics import accuracy_score\n",
    "from sklearn.metrics import accuracy_score, confusion_matrix, roc_auc_score, roc_curve\n",
    "from sklearn.model_selection import train_test_split\n",
    "\n",
    "from sklearn import linear_model\n",
    "\n",
    "from sklearn.neighbors import KNeighborsClassifier\n",
    "\n",
    "from sklearn.ensemble import RandomForestClassifier\n",
    "\n",
    "from sklearn.preprocessing import LabelEncoder\n",
    "\n",
    "from sklearn import svm\n",
    "\n",
    "import seaborn as sn\n",
    "\n",
    "\n",
    "# For regression\n",
    "from sklearn.ensemble import RandomForestRegressor\n",
    "# from sklearn.metrics import PredictionErrorDisplay\n",
    "\n",
    "import mlxtend\n",
    "# For stepwise feature selection\n",
    "from mlxtend.feature_selection import SequentialFeatureSelector\n",
    "from mlxtend.plotting import plot_sequential_feature_selection as plot_sfs"
   ]
  },
  {
   "cell_type": "code",
   "execution_count": 9,
   "id": "52971dc9",
   "metadata": {
    "execution": {
     "iopub.execute_input": "2024-10-11T13:55:58.316745Z",
     "iopub.status.busy": "2024-10-11T13:55:58.316250Z",
     "iopub.status.idle": "2024-10-11T13:55:58.319679Z",
     "shell.execute_reply": "2024-10-11T13:55:58.319299Z",
     "shell.execute_reply.started": "2024-10-11T13:55:58.316727Z"
    }
   },
   "outputs": [],
   "source": [
    "import warnings\n",
    "warnings.simplefilter(action='ignore', category=FutureWarning)"
   ]
  },
  {
   "cell_type": "code",
   "execution_count": 10,
   "id": "2ab3a45d-22e0-47a8-8683-6379778d16af",
   "metadata": {
    "execution": {
     "iopub.execute_input": "2024-10-11T13:55:58.320677Z",
     "iopub.status.busy": "2024-10-11T13:55:58.320150Z",
     "iopub.status.idle": "2024-10-11T13:55:58.353267Z",
     "shell.execute_reply": "2024-10-11T13:55:58.352686Z",
     "shell.execute_reply.started": "2024-10-11T13:55:58.320661Z"
    }
   },
   "outputs": [],
   "source": [
    "# For documentation and version control\n",
    "# pip install watermark\n",
    "%load_ext watermark"
   ]
  },
  {
   "cell_type": "code",
   "execution_count": 11,
   "id": "2a136dd7-7bc6-41ab-9893-647a65990d75",
   "metadata": {
    "execution": {
     "iopub.execute_input": "2024-10-11T13:55:58.355717Z",
     "iopub.status.busy": "2024-10-11T13:55:58.355137Z",
     "iopub.status.idle": "2024-10-11T13:55:58.409969Z",
     "shell.execute_reply": "2024-10-11T13:55:58.409497Z",
     "shell.execute_reply.started": "2024-10-11T13:55:58.355698Z"
    }
   },
   "outputs": [
    {
     "name": "stdout",
     "output_type": "stream",
     "text": [
      "Last updated: 2024-10-11\n",
      "\n",
      "Python implementation: CPython\n",
      "Python version       : 3.11.5\n",
      "IPython version      : 8.14.0\n",
      "\n",
      "Compiler    : GCC 12.3.0\n",
      "OS          : Linux\n",
      "Release     : 5.15.0-119-generic\n",
      "Machine     : x86_64\n",
      "Processor   : x86_64\n",
      "CPU cores   : 32\n",
      "Architecture: 64bit\n",
      "\n",
      "mlxtend    : 0.23.1\n",
      "statsmodels: 0.14.0\n",
      "numpy      : 1.26.4\n",
      "matplotlib : 3.7.2\n",
      "pandas     : 2.0.3\n",
      "sklearn    : 1.3.0\n",
      "torch      : 2.0.1\n",
      "pyproj     : 3.6.1\n",
      "shapely    : 2.0.2\n",
      "seaborn    : 0.12.2\n",
      "cv2        : 4.8.1\n",
      "scipy      : 1.11.2\n",
      "PIL        : 10.0.0\n",
      "\n"
     ]
    }
   ],
   "source": [
    "%watermark  -u -d -v -m --iversions"
   ]
  },
  {
   "cell_type": "markdown",
   "id": "11486eff-60e0-460e-a14b-9a0ab0628a50",
   "metadata": {},
   "source": [
    "# Data loading"
   ]
  },
  {
   "cell_type": "markdown",
   "id": "a1e64746",
   "metadata": {},
   "source": [
    "## For science cluster environment"
   ]
  },
  {
   "cell_type": "code",
   "execution_count": 12,
   "id": "bd1de1e5-d842-482d-9027-047b5690f2c0",
   "metadata": {
    "execution": {
     "iopub.execute_input": "2024-10-11T13:55:58.411256Z",
     "iopub.status.busy": "2024-10-11T13:55:58.410683Z",
     "iopub.status.idle": "2024-10-11T13:55:58.432390Z",
     "shell.execute_reply": "2024-10-11T13:55:58.431847Z",
     "shell.execute_reply.started": "2024-10-11T13:55:58.411236Z"
    }
   },
   "outputs": [],
   "source": [
    "aa = pd.read_csv('/home/yelhe/script/mt/dataraw/dfaa.csv')"
   ]
  },
  {
   "cell_type": "code",
   "execution_count": 13,
   "id": "81878c3e-4db4-46cf-bff2-e3655f317434",
   "metadata": {
    "execution": {
     "iopub.execute_input": "2024-10-11T13:55:58.433701Z",
     "iopub.status.busy": "2024-10-11T13:55:58.433166Z",
     "iopub.status.idle": "2024-10-11T13:55:58.465716Z",
     "shell.execute_reply": "2024-10-11T13:55:58.465163Z",
     "shell.execute_reply.started": "2024-10-11T13:55:58.433683Z"
    }
   },
   "outputs": [],
   "source": [
    "acv = pd.read_csv('/home/yelhe/script/mt/model/allvariable_accident.csv')\n",
    "rpv = pd.read_csv('/home/yelhe/script/mt/model/allvariable_rp.csv')"
   ]
  },
  {
   "cell_type": "code",
   "execution_count": 14,
   "id": "3f65d889-2979-46dc-9b90-6eee5e7c4457",
   "metadata": {
    "execution": {
     "iopub.execute_input": "2024-10-11T13:55:58.467037Z",
     "iopub.status.busy": "2024-10-11T13:55:58.466501Z",
     "iopub.status.idle": "2024-10-11T13:55:58.471908Z",
     "shell.execute_reply": "2024-10-11T13:55:58.471548Z",
     "shell.execute_reply.started": "2024-10-11T13:55:58.467020Z"
    }
   },
   "outputs": [],
   "source": [
    "# same size\n",
    "acv0 = acv.drop(['SV','LV','pd','svp','lvp','pdp'], axis = 1)\n",
    "acv0 = acv0.assign(acp = 1)\n",
    "acv0 = acv0.rename(columns = {'Nr':'id'})"
   ]
  },
  {
   "cell_type": "code",
   "execution_count": 15,
   "id": "e33c54c5-77a3-4ad9-be5f-7fad52b32b43",
   "metadata": {
    "execution": {
     "iopub.execute_input": "2024-10-11T13:55:58.472909Z",
     "iopub.status.busy": "2024-10-11T13:55:58.472388Z",
     "iopub.status.idle": "2024-10-11T13:55:58.480211Z",
     "shell.execute_reply": "2024-10-11T13:55:58.479812Z",
     "shell.execute_reply.started": "2024-10-11T13:55:58.472891Z"
    }
   },
   "outputs": [],
   "source": [
    "rpv0 = rpv.drop(['speedlimit_7', 'z_qnr_34'], axis = 1)\n",
    "rpv0 = rpv0.assign(acp = 0)"
   ]
  },
  {
   "cell_type": "code",
   "execution_count": 16,
   "id": "99791627-7727-45f1-ad10-6af2999537db",
   "metadata": {
    "execution": {
     "iopub.execute_input": "2024-10-11T13:55:58.481142Z",
     "iopub.status.busy": "2024-10-11T13:55:58.480705Z",
     "iopub.status.idle": "2024-10-11T13:55:58.492246Z",
     "shell.execute_reply": "2024-10-11T13:55:58.491889Z",
     "shell.execute_reply.started": "2024-10-11T13:55:58.481125Z"
    }
   },
   "outputs": [],
   "source": [
    "dfacrpv = pd.concat([acv0, rpv0])"
   ]
  },
  {
   "cell_type": "code",
   "execution_count": 17,
   "id": "2a27f299-4545-4429-9e99-c78557b2b02b",
   "metadata": {
    "execution": {
     "iopub.execute_input": "2024-10-11T13:55:58.493263Z",
     "iopub.status.busy": "2024-10-11T13:55:58.492791Z",
     "iopub.status.idle": "2024-10-11T13:55:58.502635Z",
     "shell.execute_reply": "2024-10-11T13:55:58.502231Z",
     "shell.execute_reply.started": "2024-10-11T13:55:58.493246Z"
    }
   },
   "outputs": [
    {
     "data": {
      "text/plain": [
       "110"
      ]
     },
     "execution_count": 17,
     "metadata": {},
     "output_type": "execute_result"
    }
   ],
   "source": [
    "len(dfacrpv.columns.values)"
   ]
  },
  {
   "cell_type": "code",
   "execution_count": 18,
   "id": "91f5a45f-f7db-48f4-9c2d-b249c20d6b3e",
   "metadata": {
    "execution": {
     "iopub.execute_input": "2024-10-11T13:55:58.503504Z",
     "iopub.status.busy": "2024-10-11T13:55:58.503093Z",
     "iopub.status.idle": "2024-10-11T13:55:58.510668Z",
     "shell.execute_reply": "2024-10-11T13:55:58.510300Z",
     "shell.execute_reply.started": "2024-10-11T13:55:58.503487Z"
    }
   },
   "outputs": [],
   "source": [
    "# dfacrpv.to_csv('/home/yelhe/script/mt/model/dfacrpv.csv', index = False)"
   ]
  },
  {
   "cell_type": "markdown",
   "id": "b37914e0",
   "metadata": {},
   "source": [
    "## Pre Processing"
   ]
  },
  {
   "cell_type": "code",
   "execution_count": 19,
   "id": "cc9ed0ff-bd98-4630-b590-0a9e45334e08",
   "metadata": {
    "execution": {
     "iopub.execute_input": "2024-10-11T13:55:58.511552Z",
     "iopub.status.busy": "2024-10-11T13:55:58.511187Z",
     "iopub.status.idle": "2024-10-11T13:55:58.520002Z",
     "shell.execute_reply": "2024-10-11T13:55:58.519658Z",
     "shell.execute_reply.started": "2024-10-11T13:55:58.511536Z"
    }
   },
   "outputs": [],
   "source": [
    "cn = ['cp', 'ie', 'iemin', 'iemax', 'mew', 'mewmin', 'mewmax', 'meg', \n",
    "      'megmin', 'megmax', 'cmean', 'cmin', 'cmax', 'dbusl', 'dtraml', \n",
    "      'dtrainl', 'dplight', 'dstation', 'dparkcar', 'dparktw', 'dpedcro', 'dstopsign', 'dcurb',\n",
    "      'dtrafficarea', 'droad', 'dvfpath', 'gvm_dwv', 'gvm_msp', 'gvm_asp', 'r_width_value',\n",
    "      'speedlimit_value', 'curbtype_1', 'curbtype_2', 'z_qnr_1', 'z_qnr_2', 'z_qnr_3', 'z_qnr_4', 'z_qnr_5',\n",
    "      'z_qnr_6', 'z_qnr_7', 'z_qnr_8', 'z_qnr_9', 'z_qnr_10', 'z_qnr_11', 'z_qnr_12', 'z_qnr_13',\n",
    "      'z_qnr_14', 'z_qnr_15', 'z_qnr_16', 'z_qnr_17', 'z_qnr_18',\n",
    "      'z_qnr_19', 'z_qnr_20', 'z_qnr_21', 'z_qnr_22', 'z_qnr_23', 'z_qnr_24',\n",
    "       'z_qnr_25', 'z_qnr_26', 'z_qnr_27', 'z_qnr_28', 'z_qnr_29', 'z_qnr_30',\n",
    "       'z_qnr_31', 'z_qnr_32', 'z_qnr_33', 'z_knr_1', 'z_knr_2', 'z_knr_3',\n",
    "       'z_knr_4', 'z_knr_5', 'z_knr_6', 'z_knr_7', 'z_knr_8', 'z_knr_9',\n",
    "       'z_knr_10', 'z_knr_11', 'z_knr_12', 'trafficarea_1', 'trafficarea_2',\n",
    "       'trafficarea_3', 'r_width_1', 'r_width_2', 'r_width_3', 'r_width_4',\n",
    "       'r_width_5', 'r_width_6', 'r_width_7', 'r_surface_1', 'r_surface_2',\n",
    "       'speedlimit_1', 'speedlimit_2', 'speedlimit_3', 'speedlimit_4',\n",
    "       'speedlimit_5', 'speedlimit_6', 'bicyclecount', 'carcount']\n",
    "\n",
    "# Remove id, droad_sl ,'d_bicyclecount' 'd_carcount' 'curbtype'  \n",
    "# 'z_qnr' 'z_knr'  'trafficarea'\n",
    "# 'r_width''r_surface' 'speedlimit'"
   ]
  },
  {
   "cell_type": "code",
   "execution_count": 20,
   "id": "c41fea0f-1761-4536-be1c-134bb4cc4041",
   "metadata": {
    "execution": {
     "iopub.execute_input": "2024-10-11T13:55:58.521002Z",
     "iopub.status.busy": "2024-10-11T13:55:58.520514Z",
     "iopub.status.idle": "2024-10-11T13:55:58.528587Z",
     "shell.execute_reply": "2024-10-11T13:55:58.528209Z",
     "shell.execute_reply.started": "2024-10-11T13:55:58.520987Z"
    }
   },
   "outputs": [],
   "source": [
    "# remove features which has correlation <-0.8 or > 0.8"
   ]
  },
  {
   "cell_type": "code",
   "execution_count": 21,
   "id": "f5c2127f-641e-40ce-88c8-7b8929c1c201",
   "metadata": {
    "execution": {
     "iopub.execute_input": "2024-10-11T13:55:58.529582Z",
     "iopub.status.busy": "2024-10-11T13:55:58.529097Z",
     "iopub.status.idle": "2024-10-11T13:55:58.544776Z",
     "shell.execute_reply": "2024-10-11T13:55:58.544278Z",
     "shell.execute_reply.started": "2024-10-11T13:55:58.529568Z"
    }
   },
   "outputs": [],
   "source": [
    "# correlation analysis result\n",
    "dfcorr = pd.read_csv('/home/yelhe/script/mtp/tables/sorted_unique_corrpairs.csv')"
   ]
  },
  {
   "cell_type": "code",
   "execution_count": 22,
   "id": "40f5fc7d-b33e-4956-bf3c-4a59002aa52a",
   "metadata": {
    "execution": {
     "iopub.execute_input": "2024-10-11T13:55:58.545810Z",
     "iopub.status.busy": "2024-10-11T13:55:58.545373Z",
     "iopub.status.idle": "2024-10-11T13:55:58.548849Z",
     "shell.execute_reply": "2024-10-11T13:55:58.548476Z",
     "shell.execute_reply.started": "2024-10-11T13:55:58.545794Z"
    }
   },
   "outputs": [
    {
     "data": {
      "text/plain": [
       "Index(['Unnamed: 0', 'Unnamed: 1', '0'], dtype='object')"
      ]
     },
     "execution_count": 22,
     "metadata": {},
     "output_type": "execute_result"
    }
   ],
   "source": [
    "dfcorr.columns"
   ]
  },
  {
   "cell_type": "code",
   "execution_count": 23,
   "id": "9f3d719b-0e45-4c0f-9f09-207037c0f001",
   "metadata": {
    "execution": {
     "iopub.execute_input": "2024-10-11T13:55:58.549726Z",
     "iopub.status.busy": "2024-10-11T13:55:58.549289Z",
     "iopub.status.idle": "2024-10-11T13:55:58.558216Z",
     "shell.execute_reply": "2024-10-11T13:55:58.557872Z",
     "shell.execute_reply.started": "2024-10-11T13:55:58.549710Z"
    }
   },
   "outputs": [],
   "source": [
    "dfcorr = dfcorr.rename(columns = {'Unnamed: 0':'feature1', 'Unnamed: 1':'feature2',\n",
    "                                  '0':'correlation'})"
   ]
  },
  {
   "cell_type": "code",
   "execution_count": 26,
   "id": "7db0a0e8-e941-49d7-bf1c-fc17b88c6bb5",
   "metadata": {
    "execution": {
     "iopub.execute_input": "2024-10-11T13:55:58.594329Z",
     "iopub.status.busy": "2024-10-11T13:55:58.593882Z",
     "iopub.status.idle": "2024-10-11T13:55:58.597496Z",
     "shell.execute_reply": "2024-10-11T13:55:58.597151Z",
     "shell.execute_reply.started": "2024-10-11T13:55:58.594310Z"
    }
   },
   "outputs": [],
   "source": [
    "dfcorr_high = dfcorr.loc[(dfcorr['correlation'] <= -0.8) | (dfcorr['correlation'] >= 0.8)]"
   ]
  },
  {
   "cell_type": "code",
   "execution_count": 27,
   "id": "408c03e3-de39-4fb8-a6e6-02b724d61bf9",
   "metadata": {
    "execution": {
     "iopub.execute_input": "2024-10-11T13:55:58.598372Z",
     "iopub.status.busy": "2024-10-11T13:55:58.598011Z",
     "iopub.status.idle": "2024-10-11T13:55:58.609427Z",
     "shell.execute_reply": "2024-10-11T13:55:58.609023Z",
     "shell.execute_reply.started": "2024-10-11T13:55:58.598355Z"
    }
   },
   "outputs": [
    {
     "data": {
      "text/html": [
       "<div>\n",
       "<style scoped>\n",
       "    .dataframe tbody tr th:only-of-type {\n",
       "        vertical-align: middle;\n",
       "    }\n",
       "\n",
       "    .dataframe tbody tr th {\n",
       "        vertical-align: top;\n",
       "    }\n",
       "\n",
       "    .dataframe thead th {\n",
       "        text-align: right;\n",
       "    }\n",
       "</style>\n",
       "<table border=\"1\" class=\"dataframe\">\n",
       "  <thead>\n",
       "    <tr style=\"text-align: right;\">\n",
       "      <th></th>\n",
       "      <th>feature1</th>\n",
       "      <th>feature2</th>\n",
       "      <th>correlation</th>\n",
       "    </tr>\n",
       "  </thead>\n",
       "  <tbody>\n",
       "    <tr>\n",
       "      <th>0</th>\n",
       "      <td>curbtype_2</td>\n",
       "      <td>curbtype_1</td>\n",
       "      <td>-1.000000</td>\n",
       "    </tr>\n",
       "    <tr>\n",
       "      <th>1</th>\n",
       "      <td>r_surface_2</td>\n",
       "      <td>r_surface_1</td>\n",
       "      <td>-1.000000</td>\n",
       "    </tr>\n",
       "    <tr>\n",
       "      <th>2</th>\n",
       "      <td>speedlimit_2</td>\n",
       "      <td>speedlimit_value</td>\n",
       "      <td>-0.843848</td>\n",
       "    </tr>\n",
       "    <tr>\n",
       "      <th>4742</th>\n",
       "      <td>mewmax</td>\n",
       "      <td>mew</td>\n",
       "      <td>0.843518</td>\n",
       "    </tr>\n",
       "    <tr>\n",
       "      <th>4743</th>\n",
       "      <td>megmin</td>\n",
       "      <td>meg</td>\n",
       "      <td>0.859393</td>\n",
       "    </tr>\n",
       "    <tr>\n",
       "      <th>4744</th>\n",
       "      <td>mewmin</td>\n",
       "      <td>mew</td>\n",
       "      <td>0.861981</td>\n",
       "    </tr>\n",
       "    <tr>\n",
       "      <th>4745</th>\n",
       "      <td>cmean</td>\n",
       "      <td>cp</td>\n",
       "      <td>0.906091</td>\n",
       "    </tr>\n",
       "    <tr>\n",
       "      <th>4746</th>\n",
       "      <td>iemax</td>\n",
       "      <td>ie</td>\n",
       "      <td>0.919919</td>\n",
       "    </tr>\n",
       "    <tr>\n",
       "      <th>4747</th>\n",
       "      <td>cmax</td>\n",
       "      <td>cp</td>\n",
       "      <td>0.940030</td>\n",
       "    </tr>\n",
       "    <tr>\n",
       "      <th>4748</th>\n",
       "      <td>iemin</td>\n",
       "      <td>ie</td>\n",
       "      <td>0.957061</td>\n",
       "    </tr>\n",
       "    <tr>\n",
       "      <th>4749</th>\n",
       "      <td>cmax</td>\n",
       "      <td>cmean</td>\n",
       "      <td>0.963800</td>\n",
       "    </tr>\n",
       "    <tr>\n",
       "      <th>4750</th>\n",
       "      <td>gvm_msp</td>\n",
       "      <td>gvm_dwv</td>\n",
       "      <td>0.981625</td>\n",
       "    </tr>\n",
       "    <tr>\n",
       "      <th>4751</th>\n",
       "      <td>gvm_asp</td>\n",
       "      <td>gvm_msp</td>\n",
       "      <td>0.981675</td>\n",
       "    </tr>\n",
       "    <tr>\n",
       "      <th>4752</th>\n",
       "      <td>gvm_asp</td>\n",
       "      <td>gvm_dwv</td>\n",
       "      <td>0.985672</td>\n",
       "    </tr>\n",
       "  </tbody>\n",
       "</table>\n",
       "</div>"
      ],
      "text/plain": [
       "          feature1          feature2  correlation\n",
       "0       curbtype_2        curbtype_1    -1.000000\n",
       "1      r_surface_2       r_surface_1    -1.000000\n",
       "2     speedlimit_2  speedlimit_value    -0.843848\n",
       "4742        mewmax               mew     0.843518\n",
       "4743        megmin               meg     0.859393\n",
       "4744        mewmin               mew     0.861981\n",
       "4745         cmean                cp     0.906091\n",
       "4746         iemax                ie     0.919919\n",
       "4747          cmax                cp     0.940030\n",
       "4748         iemin                ie     0.957061\n",
       "4749          cmax             cmean     0.963800\n",
       "4750       gvm_msp           gvm_dwv     0.981625\n",
       "4751       gvm_asp           gvm_msp     0.981675\n",
       "4752       gvm_asp           gvm_dwv     0.985672"
      ]
     },
     "execution_count": 27,
     "metadata": {},
     "output_type": "execute_result"
    }
   ],
   "source": [
    "dfcorr_high"
   ]
  },
  {
   "cell_type": "code",
   "execution_count": null,
   "id": "ca94c8a2-dc40-48cc-878b-7e0ef6658928",
   "metadata": {},
   "outputs": [],
   "source": [
    "# Above using pairwise correlation"
   ]
  },
  {
   "cell_type": "code",
   "execution_count": 276,
   "id": "665021ab-f4f4-414a-9a55-77751a55dd78",
   "metadata": {
    "execution": {
     "iopub.execute_input": "2024-10-11T16:02:41.711999Z",
     "iopub.status.busy": "2024-10-11T16:02:41.710860Z",
     "iopub.status.idle": "2024-10-11T16:02:41.720242Z",
     "shell.execute_reply": "2024-10-11T16:02:41.719612Z",
     "shell.execute_reply.started": "2024-10-11T16:02:41.711977Z"
    }
   },
   "outputs": [],
   "source": [
    "# remove based on correlation\n",
    "# speedlimit_2, \n",
    "# mewmax, mewmin, megmin, iemax, iemin, \n",
    "# cmean, cmax, gvm_ asp, gvm_msp\n",
    "\n",
    "# remove based on data source\n",
    "# dcurb (correlated to droad, and based on concept model), curbtype_1\n",
    "\n",
    "# Only n-1 dummy variables are needed for n-category variable\n",
    "# remove\n",
    "# r_width_7, speedlimit_6, z_qnr_33, z_knr_12, trafficarea_3, curbtype_2, r_surface_2\n",
    "\n",
    "# updated \n",
    "cnu = ['cp', 'ie', 'mew', 'meg', \n",
    "       'megmax', 'cmin', 'dbusl', 'dtraml','dtrainl', 'dplight', 'dstation', \n",
    "       'dparkcar', 'dparktw', 'dpedcro', 'dstopsign',\n",
    "       'dtrafficarea', 'droad', 'dvfpath', 'gvm_dwv', 'bicyclecount', 'carcount',\n",
    "       'r_width_value','speedlimit_value',  \n",
    "       'z_qnr_1', 'z_qnr_2', 'z_qnr_3', 'z_qnr_4', 'z_qnr_5','z_qnr_6', \n",
    "       'z_qnr_7', 'z_qnr_8', 'z_qnr_9', 'z_qnr_10', 'z_qnr_11', 'z_qnr_12', \n",
    "       'z_qnr_13', 'z_qnr_14', 'z_qnr_15', 'z_qnr_16', 'z_qnr_17', 'z_qnr_18',\n",
    "       'z_qnr_19', 'z_qnr_20', 'z_qnr_21', 'z_qnr_22', 'z_qnr_23', 'z_qnr_24',\n",
    "       'z_qnr_25', 'z_qnr_26', 'z_qnr_27', 'z_qnr_28', 'z_qnr_29', 'z_qnr_30',\n",
    "       'z_qnr_31', 'z_qnr_32', 'z_knr_1', 'z_knr_2', 'z_knr_3',\n",
    "       'z_knr_4', 'z_knr_5', 'z_knr_6', 'z_knr_7', 'z_knr_8', 'z_knr_9',\n",
    "       'z_knr_10', 'z_knr_11', 'trafficarea_1', 'trafficarea_2',\n",
    "       'r_width_1', 'r_width_2', 'r_width_3', 'r_width_4',\n",
    "       'r_width_5', 'r_width_6', 'r_surface_1', \n",
    "       'speedlimit_1', 'speedlimit_3', 'speedlimit_4',\n",
    "       'speedlimit_5']\n",
    "\n",
    "cnu1 = ['cp', 'cmean', 'cmin', 'ie', 'mew', 'meg', \n",
    "       'megmax', 'dbusl', 'dtraml','dtrainl', 'dplight', 'dstation', \n",
    "       'dparkcar', 'dparktw', 'dpedcro', 'dstopsign',\n",
    "       'dtrafficarea', 'droad', 'dvfpath', 'gvm_dwv', 'bicyclecount', 'carcount',\n",
    "       'r_width_value','speedlimit_value',  \n",
    "       'z_qnr_1', 'z_qnr_2', 'z_qnr_3', 'z_qnr_4', 'z_qnr_5','z_qnr_6', \n",
    "       'z_qnr_7', 'z_qnr_8', 'z_qnr_9', 'z_qnr_10', 'z_qnr_11', 'z_qnr_12', \n",
    "       'z_qnr_13', 'z_qnr_14', 'z_qnr_15', 'z_qnr_16', 'z_qnr_17', 'z_qnr_18',\n",
    "       'z_qnr_19', 'z_qnr_20', 'z_qnr_21', 'z_qnr_22', 'z_qnr_23', 'z_qnr_24',\n",
    "       'z_qnr_25', 'z_qnr_26', 'z_qnr_27', 'z_qnr_28', 'z_qnr_29', 'z_qnr_30',\n",
    "       'z_qnr_31', 'z_qnr_32', 'z_knr_1', 'z_knr_2', 'z_knr_3',\n",
    "       'z_knr_4', 'z_knr_5', 'z_knr_6', 'z_knr_7', 'z_knr_8', 'z_knr_9',\n",
    "       'z_knr_10', 'z_knr_11', 'trafficarea_1', 'trafficarea_2',\n",
    "       'r_width_1', 'r_width_2', 'r_width_3', 'r_width_4',\n",
    "       'r_width_5', 'r_width_6', 'r_surface_1', \n",
    "       'speedlimit_1', 'speedlimit_3', 'speedlimit_4',\n",
    "       'speedlimit_5']\n",
    "\n",
    "# Replace cp with cmean\n",
    "cnu2 = ['cmean', 'cmin', 'ie', 'mew', 'meg', \n",
    "       'megmax', 'dbusl', 'dtraml','dtrainl', 'dplight', 'dstation', \n",
    "       'dparkcar', 'dparktw', 'dpedcro', 'dstopsign',\n",
    "       'dtrafficarea', 'droad', 'dvfpath', 'gvm_dwv', 'bicyclecount', 'carcount',\n",
    "       'r_width_value','speedlimit_value',  \n",
    "       'z_qnr_1', 'z_qnr_2', 'z_qnr_3', 'z_qnr_4', 'z_qnr_5','z_qnr_6', \n",
    "       'z_qnr_7', 'z_qnr_8', 'z_qnr_9', 'z_qnr_10', 'z_qnr_11', 'z_qnr_12', \n",
    "       'z_qnr_13', 'z_qnr_14', 'z_qnr_15', 'z_qnr_16', 'z_qnr_17', 'z_qnr_18',\n",
    "       'z_qnr_19', 'z_qnr_20', 'z_qnr_21', 'z_qnr_22', 'z_qnr_23', 'z_qnr_24',\n",
    "       'z_qnr_25', 'z_qnr_26', 'z_qnr_27', 'z_qnr_28', 'z_qnr_29', 'z_qnr_30',\n",
    "       'z_qnr_31', 'z_qnr_32', 'z_knr_1', 'z_knr_2', 'z_knr_3',\n",
    "       'z_knr_4', 'z_knr_5', 'z_knr_6', 'z_knr_7', 'z_knr_8', 'z_knr_9',\n",
    "       'z_knr_10', 'z_knr_11', 'trafficarea_1', 'trafficarea_2',\n",
    "       'r_width_1', 'r_width_2', 'r_width_3', 'r_width_4',\n",
    "       'r_width_5', 'r_width_6', 'r_surface_1', \n",
    "       'speedlimit_1', 'speedlimit_3', 'speedlimit_4',\n",
    "       'speedlimit_5']"
   ]
  },
  {
   "cell_type": "code",
   "execution_count": 321,
   "id": "21c86144-a0c3-403f-9e6a-374ff90b2df6",
   "metadata": {
    "execution": {
     "iopub.execute_input": "2024-10-11T16:48:13.629331Z",
     "iopub.status.busy": "2024-10-11T16:48:13.627936Z",
     "iopub.status.idle": "2024-10-11T16:48:13.633714Z",
     "shell.execute_reply": "2024-10-11T16:48:13.633035Z",
     "shell.execute_reply.started": "2024-10-11T16:48:13.629305Z"
    }
   },
   "outputs": [
    {
     "data": {
      "text/plain": [
       "80"
      ]
     },
     "execution_count": 321,
     "metadata": {},
     "output_type": "execute_result"
    }
   ],
   "source": [
    "len(cnu1)"
   ]
  },
  {
   "cell_type": "code",
   "execution_count": 286,
   "id": "a437d2d2-e217-4836-9972-38388c03004d",
   "metadata": {
    "execution": {
     "iopub.execute_input": "2024-10-11T16:19:58.118186Z",
     "iopub.status.busy": "2024-10-11T16:19:58.117211Z",
     "iopub.status.idle": "2024-10-11T16:19:58.123034Z",
     "shell.execute_reply": "2024-10-11T16:19:58.122575Z",
     "shell.execute_reply.started": "2024-10-11T16:19:58.118127Z"
    }
   },
   "outputs": [],
   "source": [
    "y = dfacrpv['acp']\n",
    "# x = dfacrpv[cnu]\n",
    "x = dfacrpv[cnu1] "
   ]
  },
  {
   "cell_type": "code",
   "execution_count": 287,
   "id": "28eecb43-f397-43ab-b387-d3a35f76c392",
   "metadata": {
    "execution": {
     "iopub.execute_input": "2024-10-11T16:19:58.490500Z",
     "iopub.status.busy": "2024-10-11T16:19:58.490135Z",
     "iopub.status.idle": "2024-10-11T16:19:58.493837Z",
     "shell.execute_reply": "2024-10-11T16:19:58.493460Z",
     "shell.execute_reply.started": "2024-10-11T16:19:58.490483Z"
    }
   },
   "outputs": [
    {
     "data": {
      "text/plain": [
       "(1087, 80)"
      ]
     },
     "execution_count": 287,
     "metadata": {},
     "output_type": "execute_result"
    }
   ],
   "source": [
    "# y.shape\n",
    "x.shape\n",
    "# 1087 points with 78 features in total"
   ]
  },
  {
   "cell_type": "markdown",
   "id": "5f9bd880-c7e2-483c-8a64-520e82c3ee4b",
   "metadata": {},
   "source": [
    "## Distribution check: Kolmogorov-Smirnov test "
   ]
  },
  {
   "cell_type": "code",
   "execution_count": 31,
   "id": "78b8c99f-3653-4fde-918e-ae0b354a8297",
   "metadata": {
    "execution": {
     "iopub.execute_input": "2024-10-11T13:59:04.252615Z",
     "iopub.status.busy": "2024-10-11T13:59:04.252180Z",
     "iopub.status.idle": "2024-10-11T13:59:04.255463Z",
     "shell.execute_reply": "2024-10-11T13:59:04.255063Z",
     "shell.execute_reply.started": "2024-10-11T13:59:04.252595Z"
    }
   },
   "outputs": [],
   "source": [
    "# Check if distributions of curb-related variables of accident-present points and accident-absent point are the same or not"
   ]
  },
  {
   "cell_type": "code",
   "execution_count": 32,
   "id": "fac4fa2d-8888-4475-8a35-b2d3ba7b8708",
   "metadata": {
    "execution": {
     "iopub.execute_input": "2024-10-11T13:59:04.497751Z",
     "iopub.status.busy": "2024-10-11T13:59:04.497330Z",
     "iopub.status.idle": "2024-10-11T13:59:04.502536Z",
     "shell.execute_reply": "2024-10-11T13:59:04.502117Z",
     "shell.execute_reply.started": "2024-10-11T13:59:04.497735Z"
    }
   },
   "outputs": [],
   "source": [
    "dfacp1 = dfacrpv.loc[dfacrpv['acp'] == 1]\n",
    "dfacp0 = dfacrpv.loc[dfacrpv['acp'] == 0]"
   ]
  },
  {
   "cell_type": "code",
   "execution_count": 33,
   "id": "ae8ab925-1b61-43d9-aec0-115b2ed2f2fa",
   "metadata": {
    "execution": {
     "iopub.execute_input": "2024-10-11T13:59:04.660526Z",
     "iopub.status.busy": "2024-10-11T13:59:04.660101Z",
     "iopub.status.idle": "2024-10-11T13:59:04.662779Z",
     "shell.execute_reply": "2024-10-11T13:59:04.662397Z",
     "shell.execute_reply.started": "2024-10-11T13:59:04.660509Z"
    }
   },
   "outputs": [],
   "source": [
    "cp_1 = dfacp1['cp']\n",
    "cp_2 = dfacp0['cp']"
   ]
  },
  {
   "cell_type": "code",
   "execution_count": 34,
   "id": "bacd3389-038c-46dd-870a-852813bf22d6",
   "metadata": {
    "execution": {
     "iopub.execute_input": "2024-10-11T13:59:04.810098Z",
     "iopub.status.busy": "2024-10-11T13:59:04.809683Z",
     "iopub.status.idle": "2024-10-11T13:59:04.813811Z",
     "shell.execute_reply": "2024-10-11T13:59:04.813461Z",
     "shell.execute_reply.started": "2024-10-11T13:59:04.810083Z"
    }
   },
   "outputs": [
    {
     "data": {
      "text/plain": [
       "KstestResult(statistic=0.084959767163157, pvalue=0.08376157447812585, statistic_location=0, statistic_sign=1)"
      ]
     },
     "execution_count": 34,
     "metadata": {},
     "output_type": "execute_result"
    }
   ],
   "source": [
    "from scipy.stats import ks_2samp\n",
    "ks_2samp(cp_1, cp_2)"
   ]
  },
  {
   "cell_type": "code",
   "execution_count": 35,
   "id": "ae7ae84f-0678-47e1-9fd9-c529680d0f18",
   "metadata": {
    "execution": {
     "iopub.execute_input": "2024-10-11T13:59:04.944039Z",
     "iopub.status.busy": "2024-10-11T13:59:04.943663Z",
     "iopub.status.idle": "2024-10-11T13:59:04.948260Z",
     "shell.execute_reply": "2024-10-11T13:59:04.947904Z",
     "shell.execute_reply.started": "2024-10-11T13:59:04.944025Z"
    }
   },
   "outputs": [
    {
     "data": {
      "text/plain": [
       "KstestResult(statistic=0.4065656565656566, pvalue=2.2447396953763978e-32, statistic_location=-1.083670242208321, statistic_sign=-1)"
      ]
     },
     "execution_count": 35,
     "metadata": {},
     "output_type": "execute_result"
    }
   ],
   "source": [
    "ks_2samp(dfacp1['cmean'], dfacp0['cmean'])"
   ]
  },
  {
   "cell_type": "code",
   "execution_count": 36,
   "id": "cab0acb5-4718-4ca8-baea-84bf901b510c",
   "metadata": {
    "execution": {
     "iopub.execute_input": "2024-10-11T13:59:06.250547Z",
     "iopub.status.busy": "2024-10-11T13:59:06.249620Z",
     "iopub.status.idle": "2024-10-11T13:59:06.257214Z",
     "shell.execute_reply": "2024-10-11T13:59:06.256729Z",
     "shell.execute_reply.started": "2024-10-11T13:59:06.250522Z"
    }
   },
   "outputs": [
    {
     "data": {
      "text/plain": [
       "KstestResult(statistic=0.9864406779661017, pvalue=2.1498339547925026e-256, statistic_location=-0.1172420763521098, statistic_sign=1)"
      ]
     },
     "execution_count": 36,
     "metadata": {},
     "output_type": "execute_result"
    }
   ],
   "source": [
    "ks_2samp(dfacp1['cmin'], dfacp0['cmin'])"
   ]
  },
  {
   "cell_type": "code",
   "execution_count": 37,
   "id": "b91e0499-89d4-484f-9798-5b8d7407dc6d",
   "metadata": {
    "execution": {
     "iopub.execute_input": "2024-10-11T13:59:06.439899Z",
     "iopub.status.busy": "2024-10-11T13:59:06.439286Z",
     "iopub.status.idle": "2024-10-11T13:59:06.444741Z",
     "shell.execute_reply": "2024-10-11T13:59:06.444370Z",
     "shell.execute_reply.started": "2024-10-11T13:59:06.439880Z"
    }
   },
   "outputs": [
    {
     "data": {
      "text/plain": [
       "KstestResult(statistic=0.4065656565656566, pvalue=2.2447396953763978e-32, statistic_location=-1.1269889934709814, statistic_sign=-1)"
      ]
     },
     "execution_count": 37,
     "metadata": {},
     "output_type": "execute_result"
    }
   ],
   "source": [
    "ks_2samp(dfacp1['cmax'], dfacp0['cmax'])"
   ]
  },
  {
   "cell_type": "markdown",
   "id": "525e59ee-c2f3-4f1b-9e22-813cd303b195",
   "metadata": {},
   "source": [
    "# Orginal regression model without feature selection"
   ]
  },
  {
   "cell_type": "code",
   "execution_count": 288,
   "id": "0377006c-6262-4f67-b40f-660eaa87d821",
   "metadata": {
    "execution": {
     "iopub.execute_input": "2024-10-11T16:20:02.990112Z",
     "iopub.status.busy": "2024-10-11T16:20:02.989392Z",
     "iopub.status.idle": "2024-10-11T16:20:02.992713Z",
     "shell.execute_reply": "2024-10-11T16:20:02.992266Z",
     "shell.execute_reply.started": "2024-10-11T16:20:02.990090Z"
    }
   },
   "outputs": [],
   "source": [
    "# Using updated features collection (84 instead of 98)"
   ]
  },
  {
   "cell_type": "markdown",
   "id": "fd34e8c7-0c3c-4a4f-a35d-5d18ed66a119",
   "metadata": {},
   "source": [
    "## OLS linear regression"
   ]
  },
  {
   "cell_type": "markdown",
   "id": "026b9cd3-7bf5-44f2-b261-aea309174a6a",
   "metadata": {},
   "source": [
    "### Without data splitting"
   ]
  },
  {
   "cell_type": "code",
   "execution_count": 289,
   "id": "8f7ab772-b399-4126-bf22-5a0d9d01b012",
   "metadata": {
    "execution": {
     "iopub.execute_input": "2024-10-11T16:20:03.895395Z",
     "iopub.status.busy": "2024-10-11T16:20:03.895065Z",
     "iopub.status.idle": "2024-10-11T16:20:04.065428Z",
     "shell.execute_reply": "2024-10-11T16:20:04.064976Z",
     "shell.execute_reply.started": "2024-10-11T16:20:03.895380Z"
    }
   },
   "outputs": [
    {
     "data": {
      "text/html": [
       "<table class=\"simpletable\">\n",
       "<caption>OLS Regression Results</caption>\n",
       "<tr>\n",
       "  <th>Dep. Variable:</th>           <td>acp</td>       <th>  R-squared:         </th> <td>   0.631</td> \n",
       "</tr>\n",
       "<tr>\n",
       "  <th>Model:</th>                   <td>OLS</td>       <th>  Adj. R-squared:    </th> <td>   0.602</td> \n",
       "</tr>\n",
       "<tr>\n",
       "  <th>Method:</th>             <td>Least Squares</td>  <th>  F-statistic:       </th> <td>   21.53</td> \n",
       "</tr>\n",
       "<tr>\n",
       "  <th>Date:</th>             <td>Fri, 11 Oct 2024</td> <th>  Prob (F-statistic):</th> <td>1.01e-166</td>\n",
       "</tr>\n",
       "<tr>\n",
       "  <th>Time:</th>                 <td>18:20:03</td>     <th>  Log-Likelihood:    </th> <td> -119.26</td> \n",
       "</tr>\n",
       "<tr>\n",
       "  <th>No. Observations:</th>      <td>  1087</td>      <th>  AIC:               </th> <td>   400.5</td> \n",
       "</tr>\n",
       "<tr>\n",
       "  <th>Df Residuals:</th>          <td>  1006</td>      <th>  BIC:               </th> <td>   804.8</td> \n",
       "</tr>\n",
       "<tr>\n",
       "  <th>Df Model:</th>              <td>    80</td>      <th>                     </th>     <td> </td>    \n",
       "</tr>\n",
       "<tr>\n",
       "  <th>Covariance Type:</th>      <td>nonrobust</td>    <th>                     </th>     <td> </td>    \n",
       "</tr>\n",
       "</table>\n",
       "<table class=\"simpletable\">\n",
       "<tr>\n",
       "          <td></td>            <th>coef</th>     <th>std err</th>      <th>t</th>      <th>P>|t|</th>  <th>[0.025</th>    <th>0.975]</th>  \n",
       "</tr>\n",
       "<tr>\n",
       "  <th>const</th>            <td>    0.1822</td> <td>    0.171</td> <td>    1.065</td> <td> 0.287</td> <td>   -0.154</td> <td>    0.518</td>\n",
       "</tr>\n",
       "<tr>\n",
       "  <th>cp</th>               <td>   -0.2189</td> <td>    0.044</td> <td>   -5.026</td> <td> 0.000</td> <td>   -0.304</td> <td>   -0.133</td>\n",
       "</tr>\n",
       "<tr>\n",
       "  <th>cmean</th>            <td>    0.1192</td> <td>    0.023</td> <td>    5.270</td> <td> 0.000</td> <td>    0.075</td> <td>    0.164</td>\n",
       "</tr>\n",
       "<tr>\n",
       "  <th>cmin</th>             <td>   -0.0191</td> <td>    0.009</td> <td>   -2.077</td> <td> 0.038</td> <td>   -0.037</td> <td>   -0.001</td>\n",
       "</tr>\n",
       "<tr>\n",
       "  <th>ie</th>               <td>   -0.0098</td> <td>    0.009</td> <td>   -1.048</td> <td> 0.295</td> <td>   -0.028</td> <td>    0.009</td>\n",
       "</tr>\n",
       "<tr>\n",
       "  <th>mew</th>              <td>    0.0092</td> <td>    0.010</td> <td>    0.926</td> <td> 0.355</td> <td>   -0.010</td> <td>    0.029</td>\n",
       "</tr>\n",
       "<tr>\n",
       "  <th>meg</th>              <td>   -0.0099</td> <td>    0.014</td> <td>   -0.690</td> <td> 0.490</td> <td>   -0.038</td> <td>    0.018</td>\n",
       "</tr>\n",
       "<tr>\n",
       "  <th>megmax</th>           <td>    0.0116</td> <td>    0.014</td> <td>    0.862</td> <td> 0.389</td> <td>   -0.015</td> <td>    0.038</td>\n",
       "</tr>\n",
       "<tr>\n",
       "  <th>dbusl</th>            <td>   -0.0175</td> <td>    0.012</td> <td>   -1.498</td> <td> 0.134</td> <td>   -0.040</td> <td>    0.005</td>\n",
       "</tr>\n",
       "<tr>\n",
       "  <th>dtraml</th>           <td>    0.0209</td> <td>    0.012</td> <td>    1.706</td> <td> 0.088</td> <td>   -0.003</td> <td>    0.045</td>\n",
       "</tr>\n",
       "<tr>\n",
       "  <th>dtrainl</th>          <td>    0.0211</td> <td>    0.011</td> <td>    1.900</td> <td> 0.058</td> <td>   -0.001</td> <td>    0.043</td>\n",
       "</tr>\n",
       "<tr>\n",
       "  <th>dplight</th>          <td>    0.0110</td> <td>    0.010</td> <td>    1.131</td> <td> 0.258</td> <td>   -0.008</td> <td>    0.030</td>\n",
       "</tr>\n",
       "<tr>\n",
       "  <th>dstation</th>         <td>    0.0042</td> <td>    0.011</td> <td>    0.371</td> <td> 0.711</td> <td>   -0.018</td> <td>    0.026</td>\n",
       "</tr>\n",
       "<tr>\n",
       "  <th>dparkcar</th>         <td>   -0.0054</td> <td>    0.012</td> <td>   -0.472</td> <td> 0.637</td> <td>   -0.028</td> <td>    0.017</td>\n",
       "</tr>\n",
       "<tr>\n",
       "  <th>dparktw</th>          <td>   -0.0039</td> <td>    0.011</td> <td>   -0.357</td> <td> 0.721</td> <td>   -0.025</td> <td>    0.017</td>\n",
       "</tr>\n",
       "<tr>\n",
       "  <th>dpedcro</th>          <td>   -0.0016</td> <td>    0.011</td> <td>   -0.151</td> <td> 0.880</td> <td>   -0.023</td> <td>    0.019</td>\n",
       "</tr>\n",
       "<tr>\n",
       "  <th>dstopsign</th>        <td>    0.0345</td> <td>    0.012</td> <td>    2.801</td> <td> 0.005</td> <td>    0.010</td> <td>    0.059</td>\n",
       "</tr>\n",
       "<tr>\n",
       "  <th>dtrafficarea</th>     <td>    0.0161</td> <td>    0.014</td> <td>    1.143</td> <td> 0.253</td> <td>   -0.012</td> <td>    0.044</td>\n",
       "</tr>\n",
       "<tr>\n",
       "  <th>droad</th>            <td>   -0.0096</td> <td>    0.010</td> <td>   -0.963</td> <td> 0.336</td> <td>   -0.029</td> <td>    0.010</td>\n",
       "</tr>\n",
       "<tr>\n",
       "  <th>dvfpath</th>          <td>   -0.0139</td> <td>    0.009</td> <td>   -1.487</td> <td> 0.137</td> <td>   -0.032</td> <td>    0.004</td>\n",
       "</tr>\n",
       "<tr>\n",
       "  <th>gvm_dwv</th>          <td>   -0.0023</td> <td>    0.011</td> <td>   -0.204</td> <td> 0.838</td> <td>   -0.024</td> <td>    0.020</td>\n",
       "</tr>\n",
       "<tr>\n",
       "  <th>bicyclecount</th>     <td>   -0.0071</td> <td>    0.010</td> <td>   -0.680</td> <td> 0.497</td> <td>   -0.028</td> <td>    0.013</td>\n",
       "</tr>\n",
       "<tr>\n",
       "  <th>carcount</th>         <td>    0.0020</td> <td>    0.010</td> <td>    0.190</td> <td> 0.849</td> <td>   -0.018</td> <td>    0.022</td>\n",
       "</tr>\n",
       "<tr>\n",
       "  <th>r_width_value</th>    <td>   -0.1325</td> <td>    0.021</td> <td>   -6.331</td> <td> 0.000</td> <td>   -0.174</td> <td>   -0.091</td>\n",
       "</tr>\n",
       "<tr>\n",
       "  <th>speedlimit_value</th> <td>   -0.0509</td> <td>    0.020</td> <td>   -2.599</td> <td> 0.009</td> <td>   -0.089</td> <td>   -0.012</td>\n",
       "</tr>\n",
       "<tr>\n",
       "  <th>z_qnr_1</th>          <td>    0.7847</td> <td>    0.131</td> <td>    5.984</td> <td> 0.000</td> <td>    0.527</td> <td>    1.042</td>\n",
       "</tr>\n",
       "<tr>\n",
       "  <th>z_qnr_2</th>          <td>    0.5317</td> <td>    0.120</td> <td>    4.432</td> <td> 0.000</td> <td>    0.296</td> <td>    0.767</td>\n",
       "</tr>\n",
       "<tr>\n",
       "  <th>z_qnr_3</th>          <td>    0.5648</td> <td>    0.121</td> <td>    4.653</td> <td> 0.000</td> <td>    0.327</td> <td>    0.803</td>\n",
       "</tr>\n",
       "<tr>\n",
       "  <th>z_qnr_4</th>          <td>    0.6623</td> <td>    0.129</td> <td>    5.138</td> <td> 0.000</td> <td>    0.409</td> <td>    0.915</td>\n",
       "</tr>\n",
       "<tr>\n",
       "  <th>z_qnr_5</th>          <td>    0.5921</td> <td>    0.101</td> <td>    5.851</td> <td> 0.000</td> <td>    0.393</td> <td>    0.791</td>\n",
       "</tr>\n",
       "<tr>\n",
       "  <th>z_qnr_6</th>          <td>    0.4154</td> <td>    0.124</td> <td>    3.362</td> <td> 0.001</td> <td>    0.173</td> <td>    0.658</td>\n",
       "</tr>\n",
       "<tr>\n",
       "  <th>z_qnr_7</th>          <td>    0.9287</td> <td>    0.118</td> <td>    7.843</td> <td> 0.000</td> <td>    0.696</td> <td>    1.161</td>\n",
       "</tr>\n",
       "<tr>\n",
       "  <th>z_qnr_8</th>          <td>    0.7788</td> <td>    0.102</td> <td>    7.669</td> <td> 0.000</td> <td>    0.580</td> <td>    0.978</td>\n",
       "</tr>\n",
       "<tr>\n",
       "  <th>z_qnr_9</th>          <td>    0.6493</td> <td>    0.135</td> <td>    4.818</td> <td> 0.000</td> <td>    0.385</td> <td>    0.914</td>\n",
       "</tr>\n",
       "<tr>\n",
       "  <th>z_qnr_10</th>         <td>   -0.0853</td> <td>    0.098</td> <td>   -0.872</td> <td> 0.383</td> <td>   -0.277</td> <td>    0.107</td>\n",
       "</tr>\n",
       "<tr>\n",
       "  <th>z_qnr_11</th>         <td>    0.6223</td> <td>    0.091</td> <td>    6.873</td> <td> 0.000</td> <td>    0.445</td> <td>    0.800</td>\n",
       "</tr>\n",
       "<tr>\n",
       "  <th>z_qnr_12</th>         <td>    0.5966</td> <td>    0.085</td> <td>    7.019</td> <td> 0.000</td> <td>    0.430</td> <td>    0.763</td>\n",
       "</tr>\n",
       "<tr>\n",
       "  <th>z_qnr_13</th>         <td>   -0.0328</td> <td>    0.103</td> <td>   -0.320</td> <td> 0.749</td> <td>   -0.234</td> <td>    0.169</td>\n",
       "</tr>\n",
       "<tr>\n",
       "  <th>z_qnr_14</th>         <td>    0.6730</td> <td>    0.098</td> <td>    6.867</td> <td> 0.000</td> <td>    0.481</td> <td>    0.865</td>\n",
       "</tr>\n",
       "<tr>\n",
       "  <th>z_qnr_15</th>         <td>    0.6529</td> <td>    0.110</td> <td>    5.953</td> <td> 0.000</td> <td>    0.438</td> <td>    0.868</td>\n",
       "</tr>\n",
       "<tr>\n",
       "  <th>z_qnr_16</th>         <td>    0.4488</td> <td>    0.099</td> <td>    4.537</td> <td> 0.000</td> <td>    0.255</td> <td>    0.643</td>\n",
       "</tr>\n",
       "<tr>\n",
       "  <th>z_qnr_17</th>         <td>    0.2439</td> <td>    0.088</td> <td>    2.758</td> <td> 0.006</td> <td>    0.070</td> <td>    0.417</td>\n",
       "</tr>\n",
       "<tr>\n",
       "  <th>z_qnr_18</th>         <td>    0.3774</td> <td>    0.096</td> <td>    3.922</td> <td> 0.000</td> <td>    0.189</td> <td>    0.566</td>\n",
       "</tr>\n",
       "<tr>\n",
       "  <th>z_qnr_19</th>         <td>    0.1619</td> <td>    0.096</td> <td>    1.678</td> <td> 0.094</td> <td>   -0.027</td> <td>    0.351</td>\n",
       "</tr>\n",
       "<tr>\n",
       "  <th>z_qnr_20</th>         <td>    0.0688</td> <td>    0.098</td> <td>    0.699</td> <td> 0.485</td> <td>   -0.124</td> <td>    0.262</td>\n",
       "</tr>\n",
       "<tr>\n",
       "  <th>z_qnr_21</th>         <td>    0.3366</td> <td>    0.097</td> <td>    3.460</td> <td> 0.001</td> <td>    0.146</td> <td>    0.527</td>\n",
       "</tr>\n",
       "<tr>\n",
       "  <th>z_qnr_22</th>         <td>    0.2588</td> <td>    0.088</td> <td>    2.936</td> <td> 0.003</td> <td>    0.086</td> <td>    0.432</td>\n",
       "</tr>\n",
       "<tr>\n",
       "  <th>z_qnr_23</th>         <td>   -0.0216</td> <td>    0.106</td> <td>   -0.204</td> <td> 0.838</td> <td>   -0.229</td> <td>    0.186</td>\n",
       "</tr>\n",
       "<tr>\n",
       "  <th>z_qnr_24</th>         <td>    0.1743</td> <td>    0.090</td> <td>    1.939</td> <td> 0.053</td> <td>   -0.002</td> <td>    0.351</td>\n",
       "</tr>\n",
       "<tr>\n",
       "  <th>z_qnr_25</th>         <td>    0.0514</td> <td>    0.091</td> <td>    0.567</td> <td> 0.571</td> <td>   -0.126</td> <td>    0.229</td>\n",
       "</tr>\n",
       "<tr>\n",
       "  <th>z_qnr_26</th>         <td>    0.0486</td> <td>    0.120</td> <td>    0.407</td> <td> 0.684</td> <td>   -0.186</td> <td>    0.283</td>\n",
       "</tr>\n",
       "<tr>\n",
       "  <th>z_qnr_27</th>         <td>   -0.0326</td> <td>    0.123</td> <td>   -0.265</td> <td> 0.791</td> <td>   -0.274</td> <td>    0.209</td>\n",
       "</tr>\n",
       "<tr>\n",
       "  <th>z_qnr_28</th>         <td>    0.2964</td> <td>    0.108</td> <td>    2.756</td> <td> 0.006</td> <td>    0.085</td> <td>    0.507</td>\n",
       "</tr>\n",
       "<tr>\n",
       "  <th>z_qnr_29</th>         <td>    0.3227</td> <td>    0.105</td> <td>    3.069</td> <td> 0.002</td> <td>    0.116</td> <td>    0.529</td>\n",
       "</tr>\n",
       "<tr>\n",
       "  <th>z_qnr_30</th>         <td>    0.0632</td> <td>    0.113</td> <td>    0.562</td> <td> 0.575</td> <td>   -0.158</td> <td>    0.284</td>\n",
       "</tr>\n",
       "<tr>\n",
       "  <th>z_qnr_31</th>         <td>   -0.3758</td> <td>    0.153</td> <td>   -2.462</td> <td> 0.014</td> <td>   -0.675</td> <td>   -0.076</td>\n",
       "</tr>\n",
       "<tr>\n",
       "  <th>z_qnr_32</th>         <td>   -0.3542</td> <td>    0.142</td> <td>   -2.489</td> <td> 0.013</td> <td>   -0.633</td> <td>   -0.075</td>\n",
       "</tr>\n",
       "<tr>\n",
       "  <th>z_knr_1</th>          <td>   -0.9612</td> <td>    0.171</td> <td>   -5.624</td> <td> 0.000</td> <td>   -1.297</td> <td>   -0.626</td>\n",
       "</tr>\n",
       "<tr>\n",
       "  <th>z_knr_2</th>          <td>   -0.7640</td> <td>    0.162</td> <td>   -4.705</td> <td> 0.000</td> <td>   -1.083</td> <td>   -0.445</td>\n",
       "</tr>\n",
       "<tr>\n",
       "  <th>z_knr_3</th>          <td>   -0.8885</td> <td>    0.164</td> <td>   -5.410</td> <td> 0.000</td> <td>   -1.211</td> <td>   -0.566</td>\n",
       "</tr>\n",
       "<tr>\n",
       "  <th>z_knr_4</th>          <td>   -0.5682</td> <td>    0.148</td> <td>   -3.841</td> <td> 0.000</td> <td>   -0.858</td> <td>   -0.278</td>\n",
       "</tr>\n",
       "<tr>\n",
       "  <th>z_knr_5</th>          <td>   -0.2811</td> <td>    0.152</td> <td>   -1.847</td> <td> 0.065</td> <td>   -0.580</td> <td>    0.018</td>\n",
       "</tr>\n",
       "<tr>\n",
       "  <th>z_knr_6</th>          <td>   -0.9888</td> <td>    0.148</td> <td>   -6.694</td> <td> 0.000</td> <td>   -1.279</td> <td>   -0.699</td>\n",
       "</tr>\n",
       "<tr>\n",
       "  <th>z_knr_7</th>          <td>   -0.5423</td> <td>    0.139</td> <td>   -3.898</td> <td> 0.000</td> <td>   -0.815</td> <td>   -0.269</td>\n",
       "</tr>\n",
       "<tr>\n",
       "  <th>z_knr_8</th>          <td>   -0.7499</td> <td>    0.154</td> <td>   -4.873</td> <td> 0.000</td> <td>   -1.052</td> <td>   -0.448</td>\n",
       "</tr>\n",
       "<tr>\n",
       "  <th>z_knr_9</th>          <td>   -0.2751</td> <td>    0.152</td> <td>   -1.808</td> <td> 0.071</td> <td>   -0.574</td> <td>    0.024</td>\n",
       "</tr>\n",
       "<tr>\n",
       "  <th>z_knr_10</th>         <td>   -0.3203</td> <td>    0.132</td> <td>   -2.418</td> <td> 0.016</td> <td>   -0.580</td> <td>   -0.060</td>\n",
       "</tr>\n",
       "<tr>\n",
       "  <th>z_knr_11</th>         <td>   -0.4500</td> <td>    0.131</td> <td>   -3.428</td> <td> 0.001</td> <td>   -0.708</td> <td>   -0.192</td>\n",
       "</tr>\n",
       "<tr>\n",
       "  <th>trafficarea_1</th>    <td>   -0.1613</td> <td>    0.061</td> <td>   -2.647</td> <td> 0.008</td> <td>   -0.281</td> <td>   -0.042</td>\n",
       "</tr>\n",
       "<tr>\n",
       "  <th>trafficarea_2</th>    <td>   -0.2992</td> <td>    0.067</td> <td>   -4.492</td> <td> 0.000</td> <td>   -0.430</td> <td>   -0.168</td>\n",
       "</tr>\n",
       "<tr>\n",
       "  <th>r_width_1</th>        <td>    0.1830</td> <td>    0.062</td> <td>    2.970</td> <td> 0.003</td> <td>    0.062</td> <td>    0.304</td>\n",
       "</tr>\n",
       "<tr>\n",
       "  <th>r_width_2</th>        <td>    0.0434</td> <td>    0.065</td> <td>    0.667</td> <td> 0.505</td> <td>   -0.084</td> <td>    0.171</td>\n",
       "</tr>\n",
       "<tr>\n",
       "  <th>r_width_3</th>        <td>    0.4306</td> <td>    0.088</td> <td>    4.881</td> <td> 0.000</td> <td>    0.257</td> <td>    0.604</td>\n",
       "</tr>\n",
       "<tr>\n",
       "  <th>r_width_4</th>        <td>    0.2805</td> <td>    0.063</td> <td>    4.463</td> <td> 0.000</td> <td>    0.157</td> <td>    0.404</td>\n",
       "</tr>\n",
       "<tr>\n",
       "  <th>r_width_5</th>        <td>    0.3966</td> <td>    0.078</td> <td>    5.104</td> <td> 0.000</td> <td>    0.244</td> <td>    0.549</td>\n",
       "</tr>\n",
       "<tr>\n",
       "  <th>r_width_6</th>        <td>    0.3571</td> <td>    0.078</td> <td>    4.570</td> <td> 0.000</td> <td>    0.204</td> <td>    0.510</td>\n",
       "</tr>\n",
       "<tr>\n",
       "  <th>r_surface_1</th>      <td>    0.2609</td> <td>    0.062</td> <td>    4.180</td> <td> 0.000</td> <td>    0.138</td> <td>    0.383</td>\n",
       "</tr>\n",
       "<tr>\n",
       "  <th>speedlimit_1</th>     <td>    0.0370</td> <td>    0.045</td> <td>    0.825</td> <td> 0.410</td> <td>   -0.051</td> <td>    0.125</td>\n",
       "</tr>\n",
       "<tr>\n",
       "  <th>speedlimit_3</th>     <td>   -0.0621</td> <td>    0.056</td> <td>   -1.114</td> <td> 0.265</td> <td>   -0.172</td> <td>    0.047</td>\n",
       "</tr>\n",
       "<tr>\n",
       "  <th>speedlimit_4</th>     <td>    0.5884</td> <td>    0.053</td> <td>   11.064</td> <td> 0.000</td> <td>    0.484</td> <td>    0.693</td>\n",
       "</tr>\n",
       "<tr>\n",
       "  <th>speedlimit_5</th>     <td>   -0.0625</td> <td>    0.092</td> <td>   -0.678</td> <td> 0.498</td> <td>   -0.243</td> <td>    0.118</td>\n",
       "</tr>\n",
       "</table>\n",
       "<table class=\"simpletable\">\n",
       "<tr>\n",
       "  <th>Omnibus:</th>       <td>145.351</td> <th>  Durbin-Watson:     </th> <td>   1.054</td>\n",
       "</tr>\n",
       "<tr>\n",
       "  <th>Prob(Omnibus):</th> <td> 0.000</td>  <th>  Jarque-Bera (JB):  </th> <td> 307.583</td>\n",
       "</tr>\n",
       "<tr>\n",
       "  <th>Skew:</th>          <td> 0.782</td>  <th>  Prob(JB):          </th> <td>1.62e-67</td>\n",
       "</tr>\n",
       "<tr>\n",
       "  <th>Kurtosis:</th>      <td> 5.084</td>  <th>  Cond. No.          </th> <td>    122.</td>\n",
       "</tr>\n",
       "</table><br/><br/>Notes:<br/>[1] Standard Errors assume that the covariance matrix of the errors is correctly specified."
      ],
      "text/latex": [
       "\\begin{center}\n",
       "\\begin{tabular}{lclc}\n",
       "\\toprule\n",
       "\\textbf{Dep. Variable:}    &       acp        & \\textbf{  R-squared:         } &     0.631   \\\\\n",
       "\\textbf{Model:}            &       OLS        & \\textbf{  Adj. R-squared:    } &     0.602   \\\\\n",
       "\\textbf{Method:}           &  Least Squares   & \\textbf{  F-statistic:       } &     21.53   \\\\\n",
       "\\textbf{Date:}             & Fri, 11 Oct 2024 & \\textbf{  Prob (F-statistic):} & 1.01e-166   \\\\\n",
       "\\textbf{Time:}             &     18:20:03     & \\textbf{  Log-Likelihood:    } &   -119.26   \\\\\n",
       "\\textbf{No. Observations:} &        1087      & \\textbf{  AIC:               } &     400.5   \\\\\n",
       "\\textbf{Df Residuals:}     &        1006      & \\textbf{  BIC:               } &     804.8   \\\\\n",
       "\\textbf{Df Model:}         &          80      & \\textbf{                     } &             \\\\\n",
       "\\textbf{Covariance Type:}  &    nonrobust     & \\textbf{                     } &             \\\\\n",
       "\\bottomrule\n",
       "\\end{tabular}\n",
       "\\begin{tabular}{lcccccc}\n",
       "                           & \\textbf{coef} & \\textbf{std err} & \\textbf{t} & \\textbf{P$> |$t$|$} & \\textbf{[0.025} & \\textbf{0.975]}  \\\\\n",
       "\\midrule\n",
       "\\textbf{const}             &       0.1822  &        0.171     &     1.065  &         0.287        &       -0.154    &        0.518     \\\\\n",
       "\\textbf{cp}                &      -0.2189  &        0.044     &    -5.026  &         0.000        &       -0.304    &       -0.133     \\\\\n",
       "\\textbf{cmean}             &       0.1192  &        0.023     &     5.270  &         0.000        &        0.075    &        0.164     \\\\\n",
       "\\textbf{cmin}              &      -0.0191  &        0.009     &    -2.077  &         0.038        &       -0.037    &       -0.001     \\\\\n",
       "\\textbf{ie}                &      -0.0098  &        0.009     &    -1.048  &         0.295        &       -0.028    &        0.009     \\\\\n",
       "\\textbf{mew}               &       0.0092  &        0.010     &     0.926  &         0.355        &       -0.010    &        0.029     \\\\\n",
       "\\textbf{meg}               &      -0.0099  &        0.014     &    -0.690  &         0.490        &       -0.038    &        0.018     \\\\\n",
       "\\textbf{megmax}            &       0.0116  &        0.014     &     0.862  &         0.389        &       -0.015    &        0.038     \\\\\n",
       "\\textbf{dbusl}             &      -0.0175  &        0.012     &    -1.498  &         0.134        &       -0.040    &        0.005     \\\\\n",
       "\\textbf{dtraml}            &       0.0209  &        0.012     &     1.706  &         0.088        &       -0.003    &        0.045     \\\\\n",
       "\\textbf{dtrainl}           &       0.0211  &        0.011     &     1.900  &         0.058        &       -0.001    &        0.043     \\\\\n",
       "\\textbf{dplight}           &       0.0110  &        0.010     &     1.131  &         0.258        &       -0.008    &        0.030     \\\\\n",
       "\\textbf{dstation}          &       0.0042  &        0.011     &     0.371  &         0.711        &       -0.018    &        0.026     \\\\\n",
       "\\textbf{dparkcar}          &      -0.0054  &        0.012     &    -0.472  &         0.637        &       -0.028    &        0.017     \\\\\n",
       "\\textbf{dparktw}           &      -0.0039  &        0.011     &    -0.357  &         0.721        &       -0.025    &        0.017     \\\\\n",
       "\\textbf{dpedcro}           &      -0.0016  &        0.011     &    -0.151  &         0.880        &       -0.023    &        0.019     \\\\\n",
       "\\textbf{dstopsign}         &       0.0345  &        0.012     &     2.801  &         0.005        &        0.010    &        0.059     \\\\\n",
       "\\textbf{dtrafficarea}      &       0.0161  &        0.014     &     1.143  &         0.253        &       -0.012    &        0.044     \\\\\n",
       "\\textbf{droad}             &      -0.0096  &        0.010     &    -0.963  &         0.336        &       -0.029    &        0.010     \\\\\n",
       "\\textbf{dvfpath}           &      -0.0139  &        0.009     &    -1.487  &         0.137        &       -0.032    &        0.004     \\\\\n",
       "\\textbf{gvm\\_dwv}          &      -0.0023  &        0.011     &    -0.204  &         0.838        &       -0.024    &        0.020     \\\\\n",
       "\\textbf{bicyclecount}      &      -0.0071  &        0.010     &    -0.680  &         0.497        &       -0.028    &        0.013     \\\\\n",
       "\\textbf{carcount}          &       0.0020  &        0.010     &     0.190  &         0.849        &       -0.018    &        0.022     \\\\\n",
       "\\textbf{r\\_width\\_value}   &      -0.1325  &        0.021     &    -6.331  &         0.000        &       -0.174    &       -0.091     \\\\\n",
       "\\textbf{speedlimit\\_value} &      -0.0509  &        0.020     &    -2.599  &         0.009        &       -0.089    &       -0.012     \\\\\n",
       "\\textbf{z\\_qnr\\_1}         &       0.7847  &        0.131     &     5.984  &         0.000        &        0.527    &        1.042     \\\\\n",
       "\\textbf{z\\_qnr\\_2}         &       0.5317  &        0.120     &     4.432  &         0.000        &        0.296    &        0.767     \\\\\n",
       "\\textbf{z\\_qnr\\_3}         &       0.5648  &        0.121     &     4.653  &         0.000        &        0.327    &        0.803     \\\\\n",
       "\\textbf{z\\_qnr\\_4}         &       0.6623  &        0.129     &     5.138  &         0.000        &        0.409    &        0.915     \\\\\n",
       "\\textbf{z\\_qnr\\_5}         &       0.5921  &        0.101     &     5.851  &         0.000        &        0.393    &        0.791     \\\\\n",
       "\\textbf{z\\_qnr\\_6}         &       0.4154  &        0.124     &     3.362  &         0.001        &        0.173    &        0.658     \\\\\n",
       "\\textbf{z\\_qnr\\_7}         &       0.9287  &        0.118     &     7.843  &         0.000        &        0.696    &        1.161     \\\\\n",
       "\\textbf{z\\_qnr\\_8}         &       0.7788  &        0.102     &     7.669  &         0.000        &        0.580    &        0.978     \\\\\n",
       "\\textbf{z\\_qnr\\_9}         &       0.6493  &        0.135     &     4.818  &         0.000        &        0.385    &        0.914     \\\\\n",
       "\\textbf{z\\_qnr\\_10}        &      -0.0853  &        0.098     &    -0.872  &         0.383        &       -0.277    &        0.107     \\\\\n",
       "\\textbf{z\\_qnr\\_11}        &       0.6223  &        0.091     &     6.873  &         0.000        &        0.445    &        0.800     \\\\\n",
       "\\textbf{z\\_qnr\\_12}        &       0.5966  &        0.085     &     7.019  &         0.000        &        0.430    &        0.763     \\\\\n",
       "\\textbf{z\\_qnr\\_13}        &      -0.0328  &        0.103     &    -0.320  &         0.749        &       -0.234    &        0.169     \\\\\n",
       "\\textbf{z\\_qnr\\_14}        &       0.6730  &        0.098     &     6.867  &         0.000        &        0.481    &        0.865     \\\\\n",
       "\\textbf{z\\_qnr\\_15}        &       0.6529  &        0.110     &     5.953  &         0.000        &        0.438    &        0.868     \\\\\n",
       "\\textbf{z\\_qnr\\_16}        &       0.4488  &        0.099     &     4.537  &         0.000        &        0.255    &        0.643     \\\\\n",
       "\\textbf{z\\_qnr\\_17}        &       0.2439  &        0.088     &     2.758  &         0.006        &        0.070    &        0.417     \\\\\n",
       "\\textbf{z\\_qnr\\_18}        &       0.3774  &        0.096     &     3.922  &         0.000        &        0.189    &        0.566     \\\\\n",
       "\\textbf{z\\_qnr\\_19}        &       0.1619  &        0.096     &     1.678  &         0.094        &       -0.027    &        0.351     \\\\\n",
       "\\textbf{z\\_qnr\\_20}        &       0.0688  &        0.098     &     0.699  &         0.485        &       -0.124    &        0.262     \\\\\n",
       "\\textbf{z\\_qnr\\_21}        &       0.3366  &        0.097     &     3.460  &         0.001        &        0.146    &        0.527     \\\\\n",
       "\\textbf{z\\_qnr\\_22}        &       0.2588  &        0.088     &     2.936  &         0.003        &        0.086    &        0.432     \\\\\n",
       "\\textbf{z\\_qnr\\_23}        &      -0.0216  &        0.106     &    -0.204  &         0.838        &       -0.229    &        0.186     \\\\\n",
       "\\textbf{z\\_qnr\\_24}        &       0.1743  &        0.090     &     1.939  &         0.053        &       -0.002    &        0.351     \\\\\n",
       "\\textbf{z\\_qnr\\_25}        &       0.0514  &        0.091     &     0.567  &         0.571        &       -0.126    &        0.229     \\\\\n",
       "\\textbf{z\\_qnr\\_26}        &       0.0486  &        0.120     &     0.407  &         0.684        &       -0.186    &        0.283     \\\\\n",
       "\\textbf{z\\_qnr\\_27}        &      -0.0326  &        0.123     &    -0.265  &         0.791        &       -0.274    &        0.209     \\\\\n",
       "\\textbf{z\\_qnr\\_28}        &       0.2964  &        0.108     &     2.756  &         0.006        &        0.085    &        0.507     \\\\\n",
       "\\textbf{z\\_qnr\\_29}        &       0.3227  &        0.105     &     3.069  &         0.002        &        0.116    &        0.529     \\\\\n",
       "\\textbf{z\\_qnr\\_30}        &       0.0632  &        0.113     &     0.562  &         0.575        &       -0.158    &        0.284     \\\\\n",
       "\\textbf{z\\_qnr\\_31}        &      -0.3758  &        0.153     &    -2.462  &         0.014        &       -0.675    &       -0.076     \\\\\n",
       "\\textbf{z\\_qnr\\_32}        &      -0.3542  &        0.142     &    -2.489  &         0.013        &       -0.633    &       -0.075     \\\\\n",
       "\\textbf{z\\_knr\\_1}         &      -0.9612  &        0.171     &    -5.624  &         0.000        &       -1.297    &       -0.626     \\\\\n",
       "\\textbf{z\\_knr\\_2}         &      -0.7640  &        0.162     &    -4.705  &         0.000        &       -1.083    &       -0.445     \\\\\n",
       "\\textbf{z\\_knr\\_3}         &      -0.8885  &        0.164     &    -5.410  &         0.000        &       -1.211    &       -0.566     \\\\\n",
       "\\textbf{z\\_knr\\_4}         &      -0.5682  &        0.148     &    -3.841  &         0.000        &       -0.858    &       -0.278     \\\\\n",
       "\\textbf{z\\_knr\\_5}         &      -0.2811  &        0.152     &    -1.847  &         0.065        &       -0.580    &        0.018     \\\\\n",
       "\\textbf{z\\_knr\\_6}         &      -0.9888  &        0.148     &    -6.694  &         0.000        &       -1.279    &       -0.699     \\\\\n",
       "\\textbf{z\\_knr\\_7}         &      -0.5423  &        0.139     &    -3.898  &         0.000        &       -0.815    &       -0.269     \\\\\n",
       "\\textbf{z\\_knr\\_8}         &      -0.7499  &        0.154     &    -4.873  &         0.000        &       -1.052    &       -0.448     \\\\\n",
       "\\textbf{z\\_knr\\_9}         &      -0.2751  &        0.152     &    -1.808  &         0.071        &       -0.574    &        0.024     \\\\\n",
       "\\textbf{z\\_knr\\_10}        &      -0.3203  &        0.132     &    -2.418  &         0.016        &       -0.580    &       -0.060     \\\\\n",
       "\\textbf{z\\_knr\\_11}        &      -0.4500  &        0.131     &    -3.428  &         0.001        &       -0.708    &       -0.192     \\\\\n",
       "\\textbf{trafficarea\\_1}    &      -0.1613  &        0.061     &    -2.647  &         0.008        &       -0.281    &       -0.042     \\\\\n",
       "\\textbf{trafficarea\\_2}    &      -0.2992  &        0.067     &    -4.492  &         0.000        &       -0.430    &       -0.168     \\\\\n",
       "\\textbf{r\\_width\\_1}       &       0.1830  &        0.062     &     2.970  &         0.003        &        0.062    &        0.304     \\\\\n",
       "\\textbf{r\\_width\\_2}       &       0.0434  &        0.065     &     0.667  &         0.505        &       -0.084    &        0.171     \\\\\n",
       "\\textbf{r\\_width\\_3}       &       0.4306  &        0.088     &     4.881  &         0.000        &        0.257    &        0.604     \\\\\n",
       "\\textbf{r\\_width\\_4}       &       0.2805  &        0.063     &     4.463  &         0.000        &        0.157    &        0.404     \\\\\n",
       "\\textbf{r\\_width\\_5}       &       0.3966  &        0.078     &     5.104  &         0.000        &        0.244    &        0.549     \\\\\n",
       "\\textbf{r\\_width\\_6}       &       0.3571  &        0.078     &     4.570  &         0.000        &        0.204    &        0.510     \\\\\n",
       "\\textbf{r\\_surface\\_1}     &       0.2609  &        0.062     &     4.180  &         0.000        &        0.138    &        0.383     \\\\\n",
       "\\textbf{speedlimit\\_1}     &       0.0370  &        0.045     &     0.825  &         0.410        &       -0.051    &        0.125     \\\\\n",
       "\\textbf{speedlimit\\_3}     &      -0.0621  &        0.056     &    -1.114  &         0.265        &       -0.172    &        0.047     \\\\\n",
       "\\textbf{speedlimit\\_4}     &       0.5884  &        0.053     &    11.064  &         0.000        &        0.484    &        0.693     \\\\\n",
       "\\textbf{speedlimit\\_5}     &      -0.0625  &        0.092     &    -0.678  &         0.498        &       -0.243    &        0.118     \\\\\n",
       "\\bottomrule\n",
       "\\end{tabular}\n",
       "\\begin{tabular}{lclc}\n",
       "\\textbf{Omnibus:}       & 145.351 & \\textbf{  Durbin-Watson:     } &    1.054  \\\\\n",
       "\\textbf{Prob(Omnibus):} &   0.000 & \\textbf{  Jarque-Bera (JB):  } &  307.583  \\\\\n",
       "\\textbf{Skew:}          &   0.782 & \\textbf{  Prob(JB):          } & 1.62e-67  \\\\\n",
       "\\textbf{Kurtosis:}      &   5.084 & \\textbf{  Cond. No.          } &     122.  \\\\\n",
       "\\bottomrule\n",
       "\\end{tabular}\n",
       "%\\caption{OLS Regression Results}\n",
       "\\end{center}\n",
       "\n",
       "Notes: \\newline\n",
       " [1] Standard Errors assume that the covariance matrix of the errors is correctly specified."
      ],
      "text/plain": [
       "<class 'statsmodels.iolib.summary.Summary'>\n",
       "\"\"\"\n",
       "                            OLS Regression Results                            \n",
       "==============================================================================\n",
       "Dep. Variable:                    acp   R-squared:                       0.631\n",
       "Model:                            OLS   Adj. R-squared:                  0.602\n",
       "Method:                 Least Squares   F-statistic:                     21.53\n",
       "Date:                Fri, 11 Oct 2024   Prob (F-statistic):          1.01e-166\n",
       "Time:                        18:20:03   Log-Likelihood:                -119.26\n",
       "No. Observations:                1087   AIC:                             400.5\n",
       "Df Residuals:                    1006   BIC:                             804.8\n",
       "Df Model:                          80                                         \n",
       "Covariance Type:            nonrobust                                         \n",
       "====================================================================================\n",
       "                       coef    std err          t      P>|t|      [0.025      0.975]\n",
       "------------------------------------------------------------------------------------\n",
       "const                0.1822      0.171      1.065      0.287      -0.154       0.518\n",
       "cp                  -0.2189      0.044     -5.026      0.000      -0.304      -0.133\n",
       "cmean                0.1192      0.023      5.270      0.000       0.075       0.164\n",
       "cmin                -0.0191      0.009     -2.077      0.038      -0.037      -0.001\n",
       "ie                  -0.0098      0.009     -1.048      0.295      -0.028       0.009\n",
       "mew                  0.0092      0.010      0.926      0.355      -0.010       0.029\n",
       "meg                 -0.0099      0.014     -0.690      0.490      -0.038       0.018\n",
       "megmax               0.0116      0.014      0.862      0.389      -0.015       0.038\n",
       "dbusl               -0.0175      0.012     -1.498      0.134      -0.040       0.005\n",
       "dtraml               0.0209      0.012      1.706      0.088      -0.003       0.045\n",
       "dtrainl              0.0211      0.011      1.900      0.058      -0.001       0.043\n",
       "dplight              0.0110      0.010      1.131      0.258      -0.008       0.030\n",
       "dstation             0.0042      0.011      0.371      0.711      -0.018       0.026\n",
       "dparkcar            -0.0054      0.012     -0.472      0.637      -0.028       0.017\n",
       "dparktw             -0.0039      0.011     -0.357      0.721      -0.025       0.017\n",
       "dpedcro             -0.0016      0.011     -0.151      0.880      -0.023       0.019\n",
       "dstopsign            0.0345      0.012      2.801      0.005       0.010       0.059\n",
       "dtrafficarea         0.0161      0.014      1.143      0.253      -0.012       0.044\n",
       "droad               -0.0096      0.010     -0.963      0.336      -0.029       0.010\n",
       "dvfpath             -0.0139      0.009     -1.487      0.137      -0.032       0.004\n",
       "gvm_dwv             -0.0023      0.011     -0.204      0.838      -0.024       0.020\n",
       "bicyclecount        -0.0071      0.010     -0.680      0.497      -0.028       0.013\n",
       "carcount             0.0020      0.010      0.190      0.849      -0.018       0.022\n",
       "r_width_value       -0.1325      0.021     -6.331      0.000      -0.174      -0.091\n",
       "speedlimit_value    -0.0509      0.020     -2.599      0.009      -0.089      -0.012\n",
       "z_qnr_1              0.7847      0.131      5.984      0.000       0.527       1.042\n",
       "z_qnr_2              0.5317      0.120      4.432      0.000       0.296       0.767\n",
       "z_qnr_3              0.5648      0.121      4.653      0.000       0.327       0.803\n",
       "z_qnr_4              0.6623      0.129      5.138      0.000       0.409       0.915\n",
       "z_qnr_5              0.5921      0.101      5.851      0.000       0.393       0.791\n",
       "z_qnr_6              0.4154      0.124      3.362      0.001       0.173       0.658\n",
       "z_qnr_7              0.9287      0.118      7.843      0.000       0.696       1.161\n",
       "z_qnr_8              0.7788      0.102      7.669      0.000       0.580       0.978\n",
       "z_qnr_9              0.6493      0.135      4.818      0.000       0.385       0.914\n",
       "z_qnr_10            -0.0853      0.098     -0.872      0.383      -0.277       0.107\n",
       "z_qnr_11             0.6223      0.091      6.873      0.000       0.445       0.800\n",
       "z_qnr_12             0.5966      0.085      7.019      0.000       0.430       0.763\n",
       "z_qnr_13            -0.0328      0.103     -0.320      0.749      -0.234       0.169\n",
       "z_qnr_14             0.6730      0.098      6.867      0.000       0.481       0.865\n",
       "z_qnr_15             0.6529      0.110      5.953      0.000       0.438       0.868\n",
       "z_qnr_16             0.4488      0.099      4.537      0.000       0.255       0.643\n",
       "z_qnr_17             0.2439      0.088      2.758      0.006       0.070       0.417\n",
       "z_qnr_18             0.3774      0.096      3.922      0.000       0.189       0.566\n",
       "z_qnr_19             0.1619      0.096      1.678      0.094      -0.027       0.351\n",
       "z_qnr_20             0.0688      0.098      0.699      0.485      -0.124       0.262\n",
       "z_qnr_21             0.3366      0.097      3.460      0.001       0.146       0.527\n",
       "z_qnr_22             0.2588      0.088      2.936      0.003       0.086       0.432\n",
       "z_qnr_23            -0.0216      0.106     -0.204      0.838      -0.229       0.186\n",
       "z_qnr_24             0.1743      0.090      1.939      0.053      -0.002       0.351\n",
       "z_qnr_25             0.0514      0.091      0.567      0.571      -0.126       0.229\n",
       "z_qnr_26             0.0486      0.120      0.407      0.684      -0.186       0.283\n",
       "z_qnr_27            -0.0326      0.123     -0.265      0.791      -0.274       0.209\n",
       "z_qnr_28             0.2964      0.108      2.756      0.006       0.085       0.507\n",
       "z_qnr_29             0.3227      0.105      3.069      0.002       0.116       0.529\n",
       "z_qnr_30             0.0632      0.113      0.562      0.575      -0.158       0.284\n",
       "z_qnr_31            -0.3758      0.153     -2.462      0.014      -0.675      -0.076\n",
       "z_qnr_32            -0.3542      0.142     -2.489      0.013      -0.633      -0.075\n",
       "z_knr_1             -0.9612      0.171     -5.624      0.000      -1.297      -0.626\n",
       "z_knr_2             -0.7640      0.162     -4.705      0.000      -1.083      -0.445\n",
       "z_knr_3             -0.8885      0.164     -5.410      0.000      -1.211      -0.566\n",
       "z_knr_4             -0.5682      0.148     -3.841      0.000      -0.858      -0.278\n",
       "z_knr_5             -0.2811      0.152     -1.847      0.065      -0.580       0.018\n",
       "z_knr_6             -0.9888      0.148     -6.694      0.000      -1.279      -0.699\n",
       "z_knr_7             -0.5423      0.139     -3.898      0.000      -0.815      -0.269\n",
       "z_knr_8             -0.7499      0.154     -4.873      0.000      -1.052      -0.448\n",
       "z_knr_9             -0.2751      0.152     -1.808      0.071      -0.574       0.024\n",
       "z_knr_10            -0.3203      0.132     -2.418      0.016      -0.580      -0.060\n",
       "z_knr_11            -0.4500      0.131     -3.428      0.001      -0.708      -0.192\n",
       "trafficarea_1       -0.1613      0.061     -2.647      0.008      -0.281      -0.042\n",
       "trafficarea_2       -0.2992      0.067     -4.492      0.000      -0.430      -0.168\n",
       "r_width_1            0.1830      0.062      2.970      0.003       0.062       0.304\n",
       "r_width_2            0.0434      0.065      0.667      0.505      -0.084       0.171\n",
       "r_width_3            0.4306      0.088      4.881      0.000       0.257       0.604\n",
       "r_width_4            0.2805      0.063      4.463      0.000       0.157       0.404\n",
       "r_width_5            0.3966      0.078      5.104      0.000       0.244       0.549\n",
       "r_width_6            0.3571      0.078      4.570      0.000       0.204       0.510\n",
       "r_surface_1          0.2609      0.062      4.180      0.000       0.138       0.383\n",
       "speedlimit_1         0.0370      0.045      0.825      0.410      -0.051       0.125\n",
       "speedlimit_3        -0.0621      0.056     -1.114      0.265      -0.172       0.047\n",
       "speedlimit_4         0.5884      0.053     11.064      0.000       0.484       0.693\n",
       "speedlimit_5        -0.0625      0.092     -0.678      0.498      -0.243       0.118\n",
       "==============================================================================\n",
       "Omnibus:                      145.351   Durbin-Watson:                   1.054\n",
       "Prob(Omnibus):                  0.000   Jarque-Bera (JB):              307.583\n",
       "Skew:                           0.782   Prob(JB):                     1.62e-67\n",
       "Kurtosis:                       5.084   Cond. No.                         122.\n",
       "==============================================================================\n",
       "\n",
       "Notes:\n",
       "[1] Standard Errors assume that the covariance matrix of the errors is correctly specified.\n",
       "\"\"\""
      ]
     },
     "execution_count": 289,
     "metadata": {},
     "output_type": "execute_result"
    }
   ],
   "source": [
    "# OLS\n",
    "# With constant\n",
    "x_const = tools.add_constant(x)\n",
    "m00 = sm.OLS(y, x_const)\n",
    "r00 = m00.fit()\n",
    "r00.summary()\n",
    "\n",
    "# m00 = sm.OLS(y, x)\n",
    "# r00 = m00.fit()\n",
    "# r00.summary()"
   ]
  },
  {
   "cell_type": "code",
   "execution_count": 318,
   "id": "d6b4e99a-1f96-417d-8246-747368d4c82a",
   "metadata": {
    "execution": {
     "iopub.execute_input": "2024-10-11T16:37:29.714853Z",
     "iopub.status.busy": "2024-10-11T16:37:29.714706Z",
     "iopub.status.idle": "2024-10-11T16:37:29.725641Z",
     "shell.execute_reply": "2024-10-11T16:37:29.725169Z",
     "shell.execute_reply.started": "2024-10-11T16:37:29.714840Z"
    }
   },
   "outputs": [
    {
     "name": "stdout",
     "output_type": "stream",
     "text": [
      "46\n"
     ]
    },
    {
     "data": {
      "text/plain": [
       "cp                  5.919694e-07\n",
       "cmean               1.673415e-07\n",
       "cmin                3.804878e-02\n",
       "dstopsign           5.189140e-03\n",
       "r_width_value       3.668149e-10\n",
       "speedlimit_value    9.492398e-03\n",
       "z_qnr_1             3.017575e-09\n",
       "z_qnr_2             1.035196e-05\n",
       "z_qnr_3             3.702470e-06\n",
       "z_qnr_4             3.330182e-07\n",
       "z_qnr_5             6.621871e-09\n",
       "z_qnr_6             8.016845e-04\n",
       "z_qnr_7             1.120268e-14\n",
       "z_qnr_8             4.092890e-14\n",
       "z_qnr_9             1.673615e-06\n",
       "z_qnr_11            1.101188e-11\n",
       "z_qnr_12            4.116613e-12\n",
       "z_qnr_14            1.145803e-11\n",
       "z_qnr_15            3.635676e-09\n",
       "z_qnr_16            6.396508e-06\n",
       "z_qnr_17            5.915800e-03\n",
       "z_qnr_18            9.362572e-05\n",
       "z_qnr_21            5.622229e-04\n",
       "z_qnr_22            3.404470e-03\n",
       "z_qnr_28            5.963672e-03\n",
       "z_qnr_29            2.202547e-03\n",
       "z_qnr_31            1.397626e-02\n",
       "z_qnr_32            1.295431e-02\n",
       "z_knr_1             2.416115e-08\n",
       "z_knr_2             2.887569e-06\n",
       "z_knr_3             7.889871e-08\n",
       "z_knr_4             1.300535e-04\n",
       "z_knr_6             3.590938e-11\n",
       "z_knr_7             1.035719e-04\n",
       "z_knr_8             1.279402e-06\n",
       "z_knr_10            1.577703e-02\n",
       "z_knr_11            6.323359e-04\n",
       "trafficarea_1       8.237310e-03\n",
       "trafficarea_2       7.874814e-06\n",
       "r_width_1           3.046066e-03\n",
       "r_width_3           1.228267e-06\n",
       "r_width_4           8.995979e-06\n",
       "r_width_5           3.984065e-07\n",
       "r_width_6           5.475814e-06\n",
       "r_surface_1         3.172687e-05\n",
       "speedlimit_4        6.217426e-27\n",
       "dtype: float64"
      ]
     },
     "execution_count": 318,
     "metadata": {},
     "output_type": "execute_result"
    }
   ],
   "source": [
    "dfp = r00.pvalues\n",
    "print(dfp[dfp<=0.05].size)\n",
    "dfp[dfp<=0.05]"
   ]
  },
  {
   "cell_type": "code",
   "execution_count": 290,
   "id": "aa73c4e6-afd1-4ec7-bc36-72e81f5e5241",
   "metadata": {
    "execution": {
     "iopub.execute_input": "2024-10-11T16:20:04.220644Z",
     "iopub.status.busy": "2024-10-11T16:20:04.220296Z",
     "iopub.status.idle": "2024-10-11T16:20:04.441183Z",
     "shell.execute_reply": "2024-10-11T16:20:04.440703Z",
     "shell.execute_reply.started": "2024-10-11T16:20:04.220627Z"
    }
   },
   "outputs": [
    {
     "name": "stdout",
     "output_type": "stream",
     "text": [
      "0.9162833486660533\n",
      "\n",
      "Test accuracy : \n",
      " 0.9162833486660533\n",
      "\n",
      "Confusion Matrix : \n",
      " [[768  24]\n",
      " [ 67 228]]\n"
     ]
    },
    {
     "data": {
      "text/plain": [
       "<sklearn.metrics._plot.confusion_matrix.ConfusionMatrixDisplay at 0x14a5d8584fd0>"
      ]
     },
     "execution_count": 290,
     "metadata": {},
     "output_type": "execute_result"
    },
    {
     "data": {
      "image/png": "[encoded data removed]",
      "text/plain": [
       "<Figure size 640x480 with 2 Axes>"
      ]
     },
     "metadata": {},
     "output_type": "display_data"
    }
   ],
   "source": [
    "pred00 = r00.predict(x_const)\n",
    "pred00 = list(map(round,pred00))\n",
    "print(accuracy_score(y, pred00))\n",
    "print('\\nTest accuracy : \\n', accuracy_score(y, pred00))\n",
    "cm00 = confusion_matrix(y, pred00) \n",
    "print ('\\nConfusion Matrix : \\n', cm00)\n",
    "cm00_display = metrics.ConfusionMatrixDisplay(confusion_matrix = cm00)\n",
    "cm00_display.plot()"
   ]
  },
  {
   "cell_type": "code",
   "execution_count": 291,
   "id": "000a5c84-dfa0-45d4-b162-b54356df5d34",
   "metadata": {
    "execution": {
     "iopub.execute_input": "2024-10-11T16:20:04.509327Z",
     "iopub.status.busy": "2024-10-11T16:20:04.508931Z",
     "iopub.status.idle": "2024-10-11T16:20:04.521377Z",
     "shell.execute_reply": "2024-10-11T16:20:04.520980Z",
     "shell.execute_reply.started": "2024-10-11T16:20:04.509307Z"
    }
   },
   "outputs": [
    {
     "name": "stdout",
     "output_type": "stream",
     "text": [
      "accuracy 0.9162833486660533\n",
      "precision [0.91976048 0.9047619 ]\n",
      "sensitivity recall [0.96969697 0.77288136]\n",
      "f1 score [0.94406884 0.83363803]\n",
      "mean precision 0.9122611919019105\n",
      "mean recall 0.8712891628145866\n",
      "mean f1 score 0.8888534319734733\n"
     ]
    }
   ],
   "source": [
    "acc_ols = metrics.accuracy_score(y, pred00)\n",
    "print('accuracy', acc_ols)\n",
    "\n",
    "pre_ols = metrics.precision_score(y, pred00, average = None)\n",
    "print('precision', pre_ols)\n",
    "\n",
    "senrec_ols = metrics.recall_score(y, pred00, average = None)\n",
    "print('sensitivity recall', senrec_ols)\n",
    "\n",
    "f1_ols = metrics.f1_score(y, pred00, average = None)\n",
    "print('f1 score', f1_ols)\n",
    "\n",
    "pre_ols_m = np.mean(pre_ols)\n",
    "senrec_ols_m = np.mean(senrec_ols)\n",
    "f1_ols_m = np.mean(f1_ols)\n",
    "print('mean precision', pre_ols_m)\n",
    "print('mean recall', senrec_ols_m)\n",
    "print('mean f1 score', f1_ols_m)"
   ]
  },
  {
   "cell_type": "markdown",
   "id": "82930f54-a24d-48a1-a9de-0d36dd34c14b",
   "metadata": {},
   "source": [
    "### With data splitting"
   ]
  },
  {
   "cell_type": "code",
   "execution_count": 292,
   "id": "b56e34e2-487a-4703-bfad-189ca1dafe51",
   "metadata": {
    "execution": {
     "iopub.execute_input": "2024-10-11T16:20:05.172807Z",
     "iopub.status.busy": "2024-10-11T16:20:05.172448Z",
     "iopub.status.idle": "2024-10-11T16:20:05.320199Z",
     "shell.execute_reply": "2024-10-11T16:20:05.319558Z",
     "shell.execute_reply.started": "2024-10-11T16:20:05.172790Z"
    },
    "scrolled": true
   },
   "outputs": [
    {
     "data": {
      "text/html": [
       "<table class=\"simpletable\">\n",
       "<caption>OLS Regression Results</caption>\n",
       "<tr>\n",
       "  <th>Dep. Variable:</th>           <td>acp</td>       <th>  R-squared:         </th> <td>   0.648</td> \n",
       "</tr>\n",
       "<tr>\n",
       "  <th>Model:</th>                   <td>OLS</td>       <th>  Adj. R-squared:    </th> <td>   0.607</td> \n",
       "</tr>\n",
       "<tr>\n",
       "  <th>Method:</th>             <td>Least Squares</td>  <th>  F-statistic:       </th> <td>   15.66</td> \n",
       "</tr>\n",
       "<tr>\n",
       "  <th>Date:</th>             <td>Fri, 11 Oct 2024</td> <th>  Prob (F-statistic):</th> <td>7.86e-109</td>\n",
       "</tr>\n",
       "<tr>\n",
       "  <th>Time:</th>                 <td>18:20:05</td>     <th>  Log-Likelihood:    </th> <td> -71.672</td> \n",
       "</tr>\n",
       "<tr>\n",
       "  <th>No. Observations:</th>      <td>   760</td>      <th>  AIC:               </th> <td>   305.3</td> \n",
       "</tr>\n",
       "<tr>\n",
       "  <th>Df Residuals:</th>          <td>   679</td>      <th>  BIC:               </th> <td>   680.6</td> \n",
       "</tr>\n",
       "<tr>\n",
       "  <th>Df Model:</th>              <td>    80</td>      <th>                     </th>     <td> </td>    \n",
       "</tr>\n",
       "<tr>\n",
       "  <th>Covariance Type:</th>      <td>nonrobust</td>    <th>                     </th>     <td> </td>    \n",
       "</tr>\n",
       "</table>\n",
       "<table class=\"simpletable\">\n",
       "<tr>\n",
       "          <td></td>            <th>coef</th>     <th>std err</th>      <th>t</th>      <th>P>|t|</th>  <th>[0.025</th>    <th>0.975]</th>  \n",
       "</tr>\n",
       "<tr>\n",
       "  <th>const</th>            <td>   -0.1044</td> <td>    0.227</td> <td>   -0.461</td> <td> 0.645</td> <td>   -0.550</td> <td>    0.341</td>\n",
       "</tr>\n",
       "<tr>\n",
       "  <th>cp</th>               <td>   -0.2319</td> <td>    0.054</td> <td>   -4.308</td> <td> 0.000</td> <td>   -0.338</td> <td>   -0.126</td>\n",
       "</tr>\n",
       "<tr>\n",
       "  <th>cmean</th>            <td>    0.1436</td> <td>    0.028</td> <td>    5.091</td> <td> 0.000</td> <td>    0.088</td> <td>    0.199</td>\n",
       "</tr>\n",
       "<tr>\n",
       "  <th>cmin</th>             <td>   -0.0241</td> <td>    0.010</td> <td>   -2.452</td> <td> 0.014</td> <td>   -0.043</td> <td>   -0.005</td>\n",
       "</tr>\n",
       "<tr>\n",
       "  <th>ie</th>               <td>   -0.0099</td> <td>    0.011</td> <td>   -0.886</td> <td> 0.376</td> <td>   -0.032</td> <td>    0.012</td>\n",
       "</tr>\n",
       "<tr>\n",
       "  <th>mew</th>              <td>    0.0138</td> <td>    0.012</td> <td>    1.159</td> <td> 0.247</td> <td>   -0.010</td> <td>    0.037</td>\n",
       "</tr>\n",
       "<tr>\n",
       "  <th>meg</th>              <td>   -0.0018</td> <td>    0.017</td> <td>   -0.106</td> <td> 0.916</td> <td>   -0.036</td> <td>    0.032</td>\n",
       "</tr>\n",
       "<tr>\n",
       "  <th>megmax</th>           <td>    0.0188</td> <td>    0.016</td> <td>    1.145</td> <td> 0.253</td> <td>   -0.013</td> <td>    0.051</td>\n",
       "</tr>\n",
       "<tr>\n",
       "  <th>dbusl</th>            <td>   -0.0073</td> <td>    0.014</td> <td>   -0.520</td> <td> 0.604</td> <td>   -0.035</td> <td>    0.020</td>\n",
       "</tr>\n",
       "<tr>\n",
       "  <th>dtraml</th>           <td>    0.0219</td> <td>    0.015</td> <td>    1.437</td> <td> 0.151</td> <td>   -0.008</td> <td>    0.052</td>\n",
       "</tr>\n",
       "<tr>\n",
       "  <th>dtrainl</th>          <td>    0.0204</td> <td>    0.014</td> <td>    1.498</td> <td> 0.134</td> <td>   -0.006</td> <td>    0.047</td>\n",
       "</tr>\n",
       "<tr>\n",
       "  <th>dplight</th>          <td>    0.0052</td> <td>    0.012</td> <td>    0.444</td> <td> 0.657</td> <td>   -0.018</td> <td>    0.028</td>\n",
       "</tr>\n",
       "<tr>\n",
       "  <th>dstation</th>         <td>    0.0079</td> <td>    0.014</td> <td>    0.577</td> <td> 0.564</td> <td>   -0.019</td> <td>    0.035</td>\n",
       "</tr>\n",
       "<tr>\n",
       "  <th>dparkcar</th>         <td>   -0.0094</td> <td>    0.014</td> <td>   -0.676</td> <td> 0.499</td> <td>   -0.037</td> <td>    0.018</td>\n",
       "</tr>\n",
       "<tr>\n",
       "  <th>dparktw</th>          <td>    0.0096</td> <td>    0.013</td> <td>    0.730</td> <td> 0.466</td> <td>   -0.016</td> <td>    0.035</td>\n",
       "</tr>\n",
       "<tr>\n",
       "  <th>dpedcro</th>          <td>   -0.0014</td> <td>    0.013</td> <td>   -0.110</td> <td> 0.912</td> <td>   -0.027</td> <td>    0.024</td>\n",
       "</tr>\n",
       "<tr>\n",
       "  <th>dstopsign</th>        <td>    0.0210</td> <td>    0.015</td> <td>    1.378</td> <td> 0.169</td> <td>   -0.009</td> <td>    0.051</td>\n",
       "</tr>\n",
       "<tr>\n",
       "  <th>dtrafficarea</th>     <td>    0.0263</td> <td>    0.017</td> <td>    1.524</td> <td> 0.128</td> <td>   -0.008</td> <td>    0.060</td>\n",
       "</tr>\n",
       "<tr>\n",
       "  <th>droad</th>            <td>    0.0078</td> <td>    0.013</td> <td>    0.612</td> <td> 0.541</td> <td>   -0.017</td> <td>    0.033</td>\n",
       "</tr>\n",
       "<tr>\n",
       "  <th>dvfpath</th>          <td>   -0.0191</td> <td>    0.012</td> <td>   -1.535</td> <td> 0.125</td> <td>   -0.044</td> <td>    0.005</td>\n",
       "</tr>\n",
       "<tr>\n",
       "  <th>gvm_dwv</th>          <td>   -0.0113</td> <td>    0.013</td> <td>   -0.847</td> <td> 0.397</td> <td>   -0.038</td> <td>    0.015</td>\n",
       "</tr>\n",
       "<tr>\n",
       "  <th>bicyclecount</th>     <td>   -0.0168</td> <td>    0.012</td> <td>   -1.341</td> <td> 0.180</td> <td>   -0.041</td> <td>    0.008</td>\n",
       "</tr>\n",
       "<tr>\n",
       "  <th>carcount</th>         <td>    0.0075</td> <td>    0.013</td> <td>    0.579</td> <td> 0.562</td> <td>   -0.018</td> <td>    0.033</td>\n",
       "</tr>\n",
       "<tr>\n",
       "  <th>r_width_value</th>    <td>   -0.1157</td> <td>    0.026</td> <td>   -4.501</td> <td> 0.000</td> <td>   -0.166</td> <td>   -0.065</td>\n",
       "</tr>\n",
       "<tr>\n",
       "  <th>speedlimit_value</th> <td>   -0.0588</td> <td>    0.023</td> <td>   -2.524</td> <td> 0.012</td> <td>   -0.105</td> <td>   -0.013</td>\n",
       "</tr>\n",
       "<tr>\n",
       "  <th>z_qnr_1</th>          <td>    0.7537</td> <td>    0.158</td> <td>    4.773</td> <td> 0.000</td> <td>    0.444</td> <td>    1.064</td>\n",
       "</tr>\n",
       "<tr>\n",
       "  <th>z_qnr_2</th>          <td>    0.4802</td> <td>    0.155</td> <td>    3.093</td> <td> 0.002</td> <td>    0.175</td> <td>    0.785</td>\n",
       "</tr>\n",
       "<tr>\n",
       "  <th>z_qnr_3</th>          <td>    0.5985</td> <td>    0.153</td> <td>    3.918</td> <td> 0.000</td> <td>    0.299</td> <td>    0.898</td>\n",
       "</tr>\n",
       "<tr>\n",
       "  <th>z_qnr_4</th>          <td>    0.6322</td> <td>    0.159</td> <td>    3.985</td> <td> 0.000</td> <td>    0.321</td> <td>    0.944</td>\n",
       "</tr>\n",
       "<tr>\n",
       "  <th>z_qnr_5</th>          <td>    0.5438</td> <td>    0.129</td> <td>    4.199</td> <td> 0.000</td> <td>    0.290</td> <td>    0.798</td>\n",
       "</tr>\n",
       "<tr>\n",
       "  <th>z_qnr_6</th>          <td>    0.3809</td> <td>    0.147</td> <td>    2.585</td> <td> 0.010</td> <td>    0.092</td> <td>    0.670</td>\n",
       "</tr>\n",
       "<tr>\n",
       "  <th>z_qnr_7</th>          <td>    0.9468</td> <td>    0.154</td> <td>    6.155</td> <td> 0.000</td> <td>    0.645</td> <td>    1.249</td>\n",
       "</tr>\n",
       "<tr>\n",
       "  <th>z_qnr_8</th>          <td>    0.6759</td> <td>    0.131</td> <td>    5.147</td> <td> 0.000</td> <td>    0.418</td> <td>    0.934</td>\n",
       "</tr>\n",
       "<tr>\n",
       "  <th>z_qnr_9</th>          <td>    0.6384</td> <td>    0.167</td> <td>    3.814</td> <td> 0.000</td> <td>    0.310</td> <td>    0.967</td>\n",
       "</tr>\n",
       "<tr>\n",
       "  <th>z_qnr_10</th>         <td>   -0.2140</td> <td>    0.126</td> <td>   -1.694</td> <td> 0.091</td> <td>   -0.462</td> <td>    0.034</td>\n",
       "</tr>\n",
       "<tr>\n",
       "  <th>z_qnr_11</th>         <td>    0.5847</td> <td>    0.116</td> <td>    5.036</td> <td> 0.000</td> <td>    0.357</td> <td>    0.813</td>\n",
       "</tr>\n",
       "<tr>\n",
       "  <th>z_qnr_12</th>         <td>    0.5921</td> <td>    0.110</td> <td>    5.407</td> <td> 0.000</td> <td>    0.377</td> <td>    0.807</td>\n",
       "</tr>\n",
       "<tr>\n",
       "  <th>z_qnr_13</th>         <td>   -0.0886</td> <td>    0.129</td> <td>   -0.686</td> <td> 0.493</td> <td>   -0.342</td> <td>    0.165</td>\n",
       "</tr>\n",
       "<tr>\n",
       "  <th>z_qnr_14</th>         <td>    0.6345</td> <td>    0.126</td> <td>    5.041</td> <td> 0.000</td> <td>    0.387</td> <td>    0.882</td>\n",
       "</tr>\n",
       "<tr>\n",
       "  <th>z_qnr_15</th>         <td>    0.6643</td> <td>    0.139</td> <td>    4.774</td> <td> 0.000</td> <td>    0.391</td> <td>    0.938</td>\n",
       "</tr>\n",
       "<tr>\n",
       "  <th>z_qnr_16</th>         <td>    0.4098</td> <td>    0.144</td> <td>    2.839</td> <td> 0.005</td> <td>    0.126</td> <td>    0.693</td>\n",
       "</tr>\n",
       "<tr>\n",
       "  <th>z_qnr_17</th>         <td>    0.2173</td> <td>    0.114</td> <td>    1.914</td> <td> 0.056</td> <td>   -0.006</td> <td>    0.440</td>\n",
       "</tr>\n",
       "<tr>\n",
       "  <th>z_qnr_18</th>         <td>    0.3430</td> <td>    0.126</td> <td>    2.713</td> <td> 0.007</td> <td>    0.095</td> <td>    0.591</td>\n",
       "</tr>\n",
       "<tr>\n",
       "  <th>z_qnr_19</th>         <td>    0.1576</td> <td>    0.120</td> <td>    1.315</td> <td> 0.189</td> <td>   -0.078</td> <td>    0.393</td>\n",
       "</tr>\n",
       "<tr>\n",
       "  <th>z_qnr_20</th>         <td>    0.0225</td> <td>    0.121</td> <td>    0.185</td> <td> 0.853</td> <td>   -0.216</td> <td>    0.261</td>\n",
       "</tr>\n",
       "<tr>\n",
       "  <th>z_qnr_21</th>         <td>    0.3565</td> <td>    0.127</td> <td>    2.817</td> <td> 0.005</td> <td>    0.108</td> <td>    0.605</td>\n",
       "</tr>\n",
       "<tr>\n",
       "  <th>z_qnr_22</th>         <td>    0.2131</td> <td>    0.107</td> <td>    1.991</td> <td> 0.047</td> <td>    0.003</td> <td>    0.423</td>\n",
       "</tr>\n",
       "<tr>\n",
       "  <th>z_qnr_23</th>         <td>    0.0084</td> <td>    0.135</td> <td>    0.062</td> <td> 0.950</td> <td>   -0.257</td> <td>    0.274</td>\n",
       "</tr>\n",
       "<tr>\n",
       "  <th>z_qnr_24</th>         <td>    0.2362</td> <td>    0.113</td> <td>    2.082</td> <td> 0.038</td> <td>    0.013</td> <td>    0.459</td>\n",
       "</tr>\n",
       "<tr>\n",
       "  <th>z_qnr_25</th>         <td>    0.0848</td> <td>    0.118</td> <td>    0.718</td> <td> 0.473</td> <td>   -0.147</td> <td>    0.317</td>\n",
       "</tr>\n",
       "<tr>\n",
       "  <th>z_qnr_26</th>         <td>    0.1491</td> <td>    0.149</td> <td>    1.001</td> <td> 0.317</td> <td>   -0.143</td> <td>    0.441</td>\n",
       "</tr>\n",
       "<tr>\n",
       "  <th>z_qnr_27</th>         <td>   -0.0364</td> <td>    0.155</td> <td>   -0.234</td> <td> 0.815</td> <td>   -0.341</td> <td>    0.268</td>\n",
       "</tr>\n",
       "<tr>\n",
       "  <th>z_qnr_28</th>         <td>    0.1359</td> <td>    0.177</td> <td>    0.766</td> <td> 0.444</td> <td>   -0.212</td> <td>    0.484</td>\n",
       "</tr>\n",
       "<tr>\n",
       "  <th>z_qnr_29</th>         <td>    0.1703</td> <td>    0.131</td> <td>    1.305</td> <td> 0.192</td> <td>   -0.086</td> <td>    0.427</td>\n",
       "</tr>\n",
       "<tr>\n",
       "  <th>z_qnr_30</th>         <td>    0.0240</td> <td>    0.123</td> <td>    0.194</td> <td> 0.846</td> <td>   -0.218</td> <td>    0.266</td>\n",
       "</tr>\n",
       "<tr>\n",
       "  <th>z_qnr_31</th>         <td>   -0.0859</td> <td>    0.199</td> <td>   -0.433</td> <td> 0.666</td> <td>   -0.476</td> <td>    0.304</td>\n",
       "</tr>\n",
       "<tr>\n",
       "  <th>z_qnr_32</th>         <td>   -0.0520</td> <td>    0.180</td> <td>   -0.288</td> <td> 0.773</td> <td>   -0.406</td> <td>    0.302</td>\n",
       "</tr>\n",
       "<tr>\n",
       "  <th>z_knr_1</th>          <td>   -0.6266</td> <td>    0.224</td> <td>   -2.803</td> <td> 0.005</td> <td>   -1.066</td> <td>   -0.188</td>\n",
       "</tr>\n",
       "<tr>\n",
       "  <th>z_knr_2</th>          <td>   -0.4116</td> <td>    0.222</td> <td>   -1.858</td> <td> 0.064</td> <td>   -0.847</td> <td>    0.023</td>\n",
       "</tr>\n",
       "<tr>\n",
       "  <th>z_knr_3</th>          <td>   -0.5949</td> <td>    0.221</td> <td>   -2.692</td> <td> 0.007</td> <td>   -1.029</td> <td>   -0.161</td>\n",
       "</tr>\n",
       "<tr>\n",
       "  <th>z_knr_4</th>          <td>   -0.1577</td> <td>    0.203</td> <td>   -0.777</td> <td> 0.437</td> <td>   -0.556</td> <td>    0.241</td>\n",
       "</tr>\n",
       "<tr>\n",
       "  <th>z_knr_5</th>          <td>    0.0995</td> <td>    0.205</td> <td>    0.486</td> <td> 0.627</td> <td>   -0.302</td> <td>    0.501</td>\n",
       "</tr>\n",
       "<tr>\n",
       "  <th>z_knr_6</th>          <td>   -0.6712</td> <td>    0.200</td> <td>   -3.350</td> <td> 0.001</td> <td>   -1.065</td> <td>   -0.278</td>\n",
       "</tr>\n",
       "<tr>\n",
       "  <th>z_knr_7</th>          <td>   -0.1652</td> <td>    0.190</td> <td>   -0.870</td> <td> 0.384</td> <td>   -0.538</td> <td>    0.207</td>\n",
       "</tr>\n",
       "<tr>\n",
       "  <th>z_knr_8</th>          <td>   -0.4720</td> <td>    0.210</td> <td>   -2.250</td> <td> 0.025</td> <td>   -0.884</td> <td>   -0.060</td>\n",
       "</tr>\n",
       "<tr>\n",
       "  <th>z_knr_9</th>          <td>    0.0586</td> <td>    0.203</td> <td>    0.289</td> <td> 0.772</td> <td>   -0.339</td> <td>    0.456</td>\n",
       "</tr>\n",
       "<tr>\n",
       "  <th>z_knr_10</th>         <td>    0.0089</td> <td>    0.182</td> <td>    0.049</td> <td> 0.961</td> <td>   -0.349</td> <td>    0.367</td>\n",
       "</tr>\n",
       "<tr>\n",
       "  <th>z_knr_11</th>         <td>   -0.1833</td> <td>    0.186</td> <td>   -0.986</td> <td> 0.324</td> <td>   -0.548</td> <td>    0.182</td>\n",
       "</tr>\n",
       "<tr>\n",
       "  <th>trafficarea_1</th>    <td>   -0.1933</td> <td>    0.076</td> <td>   -2.557</td> <td> 0.011</td> <td>   -0.342</td> <td>   -0.045</td>\n",
       "</tr>\n",
       "<tr>\n",
       "  <th>trafficarea_2</th>    <td>   -0.3709</td> <td>    0.084</td> <td>   -4.436</td> <td> 0.000</td> <td>   -0.535</td> <td>   -0.207</td>\n",
       "</tr>\n",
       "<tr>\n",
       "  <th>r_width_1</th>        <td>    0.1961</td> <td>    0.078</td> <td>    2.507</td> <td> 0.012</td> <td>    0.043</td> <td>    0.350</td>\n",
       "</tr>\n",
       "<tr>\n",
       "  <th>r_width_2</th>        <td>    0.0813</td> <td>    0.083</td> <td>    0.985</td> <td> 0.325</td> <td>   -0.081</td> <td>    0.244</td>\n",
       "</tr>\n",
       "<tr>\n",
       "  <th>r_width_3</th>        <td>    0.4126</td> <td>    0.111</td> <td>    3.731</td> <td> 0.000</td> <td>    0.195</td> <td>    0.630</td>\n",
       "</tr>\n",
       "<tr>\n",
       "  <th>r_width_4</th>        <td>    0.3537</td> <td>    0.082</td> <td>    4.328</td> <td> 0.000</td> <td>    0.193</td> <td>    0.514</td>\n",
       "</tr>\n",
       "<tr>\n",
       "  <th>r_width_5</th>        <td>    0.4069</td> <td>    0.097</td> <td>    4.174</td> <td> 0.000</td> <td>    0.216</td> <td>    0.598</td>\n",
       "</tr>\n",
       "<tr>\n",
       "  <th>r_width_6</th>        <td>    0.3511</td> <td>    0.098</td> <td>    3.598</td> <td> 0.000</td> <td>    0.160</td> <td>    0.543</td>\n",
       "</tr>\n",
       "<tr>\n",
       "  <th>r_surface_1</th>      <td>    0.2682</td> <td>    0.078</td> <td>    3.429</td> <td> 0.001</td> <td>    0.115</td> <td>    0.422</td>\n",
       "</tr>\n",
       "<tr>\n",
       "  <th>speedlimit_1</th>     <td>    0.0457</td> <td>    0.055</td> <td>    0.836</td> <td> 0.403</td> <td>   -0.062</td> <td>    0.153</td>\n",
       "</tr>\n",
       "<tr>\n",
       "  <th>speedlimit_3</th>     <td>   -0.0417</td> <td>    0.068</td> <td>   -0.616</td> <td> 0.538</td> <td>   -0.174</td> <td>    0.091</td>\n",
       "</tr>\n",
       "<tr>\n",
       "  <th>speedlimit_4</th>     <td>    0.5542</td> <td>    0.064</td> <td>    8.599</td> <td> 0.000</td> <td>    0.428</td> <td>    0.681</td>\n",
       "</tr>\n",
       "<tr>\n",
       "  <th>speedlimit_5</th>     <td>   -0.0833</td> <td>    0.107</td> <td>   -0.780</td> <td> 0.436</td> <td>   -0.293</td> <td>    0.126</td>\n",
       "</tr>\n",
       "</table>\n",
       "<table class=\"simpletable\">\n",
       "<tr>\n",
       "  <th>Omnibus:</th>       <td>78.044</td> <th>  Durbin-Watson:     </th> <td>   2.006</td>\n",
       "</tr>\n",
       "<tr>\n",
       "  <th>Prob(Omnibus):</th> <td> 0.000</td> <th>  Jarque-Bera (JB):  </th> <td> 130.208</td>\n",
       "</tr>\n",
       "<tr>\n",
       "  <th>Skew:</th>          <td> 0.687</td> <th>  Prob(JB):          </th> <td>5.32e-29</td>\n",
       "</tr>\n",
       "<tr>\n",
       "  <th>Kurtosis:</th>      <td> 4.491</td> <th>  Cond. No.          </th> <td>    139.</td>\n",
       "</tr>\n",
       "</table><br/><br/>Notes:<br/>[1] Standard Errors assume that the covariance matrix of the errors is correctly specified."
      ],
      "text/latex": [
       "\\begin{center}\n",
       "\\begin{tabular}{lclc}\n",
       "\\toprule\n",
       "\\textbf{Dep. Variable:}    &       acp        & \\textbf{  R-squared:         } &     0.648   \\\\\n",
       "\\textbf{Model:}            &       OLS        & \\textbf{  Adj. R-squared:    } &     0.607   \\\\\n",
       "\\textbf{Method:}           &  Least Squares   & \\textbf{  F-statistic:       } &     15.66   \\\\\n",
       "\\textbf{Date:}             & Fri, 11 Oct 2024 & \\textbf{  Prob (F-statistic):} & 7.86e-109   \\\\\n",
       "\\textbf{Time:}             &     18:20:05     & \\textbf{  Log-Likelihood:    } &   -71.672   \\\\\n",
       "\\textbf{No. Observations:} &         760      & \\textbf{  AIC:               } &     305.3   \\\\\n",
       "\\textbf{Df Residuals:}     &         679      & \\textbf{  BIC:               } &     680.6   \\\\\n",
       "\\textbf{Df Model:}         &          80      & \\textbf{                     } &             \\\\\n",
       "\\textbf{Covariance Type:}  &    nonrobust     & \\textbf{                     } &             \\\\\n",
       "\\bottomrule\n",
       "\\end{tabular}\n",
       "\\begin{tabular}{lcccccc}\n",
       "                           & \\textbf{coef} & \\textbf{std err} & \\textbf{t} & \\textbf{P$> |$t$|$} & \\textbf{[0.025} & \\textbf{0.975]}  \\\\\n",
       "\\midrule\n",
       "\\textbf{const}             &      -0.1044  &        0.227     &    -0.461  &         0.645        &       -0.550    &        0.341     \\\\\n",
       "\\textbf{cp}                &      -0.2319  &        0.054     &    -4.308  &         0.000        &       -0.338    &       -0.126     \\\\\n",
       "\\textbf{cmean}             &       0.1436  &        0.028     &     5.091  &         0.000        &        0.088    &        0.199     \\\\\n",
       "\\textbf{cmin}              &      -0.0241  &        0.010     &    -2.452  &         0.014        &       -0.043    &       -0.005     \\\\\n",
       "\\textbf{ie}                &      -0.0099  &        0.011     &    -0.886  &         0.376        &       -0.032    &        0.012     \\\\\n",
       "\\textbf{mew}               &       0.0138  &        0.012     &     1.159  &         0.247        &       -0.010    &        0.037     \\\\\n",
       "\\textbf{meg}               &      -0.0018  &        0.017     &    -0.106  &         0.916        &       -0.036    &        0.032     \\\\\n",
       "\\textbf{megmax}            &       0.0188  &        0.016     &     1.145  &         0.253        &       -0.013    &        0.051     \\\\\n",
       "\\textbf{dbusl}             &      -0.0073  &        0.014     &    -0.520  &         0.604        &       -0.035    &        0.020     \\\\\n",
       "\\textbf{dtraml}            &       0.0219  &        0.015     &     1.437  &         0.151        &       -0.008    &        0.052     \\\\\n",
       "\\textbf{dtrainl}           &       0.0204  &        0.014     &     1.498  &         0.134        &       -0.006    &        0.047     \\\\\n",
       "\\textbf{dplight}           &       0.0052  &        0.012     &     0.444  &         0.657        &       -0.018    &        0.028     \\\\\n",
       "\\textbf{dstation}          &       0.0079  &        0.014     &     0.577  &         0.564        &       -0.019    &        0.035     \\\\\n",
       "\\textbf{dparkcar}          &      -0.0094  &        0.014     &    -0.676  &         0.499        &       -0.037    &        0.018     \\\\\n",
       "\\textbf{dparktw}           &       0.0096  &        0.013     &     0.730  &         0.466        &       -0.016    &        0.035     \\\\\n",
       "\\textbf{dpedcro}           &      -0.0014  &        0.013     &    -0.110  &         0.912        &       -0.027    &        0.024     \\\\\n",
       "\\textbf{dstopsign}         &       0.0210  &        0.015     &     1.378  &         0.169        &       -0.009    &        0.051     \\\\\n",
       "\\textbf{dtrafficarea}      &       0.0263  &        0.017     &     1.524  &         0.128        &       -0.008    &        0.060     \\\\\n",
       "\\textbf{droad}             &       0.0078  &        0.013     &     0.612  &         0.541        &       -0.017    &        0.033     \\\\\n",
       "\\textbf{dvfpath}           &      -0.0191  &        0.012     &    -1.535  &         0.125        &       -0.044    &        0.005     \\\\\n",
       "\\textbf{gvm\\_dwv}          &      -0.0113  &        0.013     &    -0.847  &         0.397        &       -0.038    &        0.015     \\\\\n",
       "\\textbf{bicyclecount}      &      -0.0168  &        0.012     &    -1.341  &         0.180        &       -0.041    &        0.008     \\\\\n",
       "\\textbf{carcount}          &       0.0075  &        0.013     &     0.579  &         0.562        &       -0.018    &        0.033     \\\\\n",
       "\\textbf{r\\_width\\_value}   &      -0.1157  &        0.026     &    -4.501  &         0.000        &       -0.166    &       -0.065     \\\\\n",
       "\\textbf{speedlimit\\_value} &      -0.0588  &        0.023     &    -2.524  &         0.012        &       -0.105    &       -0.013     \\\\\n",
       "\\textbf{z\\_qnr\\_1}         &       0.7537  &        0.158     &     4.773  &         0.000        &        0.444    &        1.064     \\\\\n",
       "\\textbf{z\\_qnr\\_2}         &       0.4802  &        0.155     &     3.093  &         0.002        &        0.175    &        0.785     \\\\\n",
       "\\textbf{z\\_qnr\\_3}         &       0.5985  &        0.153     &     3.918  &         0.000        &        0.299    &        0.898     \\\\\n",
       "\\textbf{z\\_qnr\\_4}         &       0.6322  &        0.159     &     3.985  &         0.000        &        0.321    &        0.944     \\\\\n",
       "\\textbf{z\\_qnr\\_5}         &       0.5438  &        0.129     &     4.199  &         0.000        &        0.290    &        0.798     \\\\\n",
       "\\textbf{z\\_qnr\\_6}         &       0.3809  &        0.147     &     2.585  &         0.010        &        0.092    &        0.670     \\\\\n",
       "\\textbf{z\\_qnr\\_7}         &       0.9468  &        0.154     &     6.155  &         0.000        &        0.645    &        1.249     \\\\\n",
       "\\textbf{z\\_qnr\\_8}         &       0.6759  &        0.131     &     5.147  &         0.000        &        0.418    &        0.934     \\\\\n",
       "\\textbf{z\\_qnr\\_9}         &       0.6384  &        0.167     &     3.814  &         0.000        &        0.310    &        0.967     \\\\\n",
       "\\textbf{z\\_qnr\\_10}        &      -0.2140  &        0.126     &    -1.694  &         0.091        &       -0.462    &        0.034     \\\\\n",
       "\\textbf{z\\_qnr\\_11}        &       0.5847  &        0.116     &     5.036  &         0.000        &        0.357    &        0.813     \\\\\n",
       "\\textbf{z\\_qnr\\_12}        &       0.5921  &        0.110     &     5.407  &         0.000        &        0.377    &        0.807     \\\\\n",
       "\\textbf{z\\_qnr\\_13}        &      -0.0886  &        0.129     &    -0.686  &         0.493        &       -0.342    &        0.165     \\\\\n",
       "\\textbf{z\\_qnr\\_14}        &       0.6345  &        0.126     &     5.041  &         0.000        &        0.387    &        0.882     \\\\\n",
       "\\textbf{z\\_qnr\\_15}        &       0.6643  &        0.139     &     4.774  &         0.000        &        0.391    &        0.938     \\\\\n",
       "\\textbf{z\\_qnr\\_16}        &       0.4098  &        0.144     &     2.839  &         0.005        &        0.126    &        0.693     \\\\\n",
       "\\textbf{z\\_qnr\\_17}        &       0.2173  &        0.114     &     1.914  &         0.056        &       -0.006    &        0.440     \\\\\n",
       "\\textbf{z\\_qnr\\_18}        &       0.3430  &        0.126     &     2.713  &         0.007        &        0.095    &        0.591     \\\\\n",
       "\\textbf{z\\_qnr\\_19}        &       0.1576  &        0.120     &     1.315  &         0.189        &       -0.078    &        0.393     \\\\\n",
       "\\textbf{z\\_qnr\\_20}        &       0.0225  &        0.121     &     0.185  &         0.853        &       -0.216    &        0.261     \\\\\n",
       "\\textbf{z\\_qnr\\_21}        &       0.3565  &        0.127     &     2.817  &         0.005        &        0.108    &        0.605     \\\\\n",
       "\\textbf{z\\_qnr\\_22}        &       0.2131  &        0.107     &     1.991  &         0.047        &        0.003    &        0.423     \\\\\n",
       "\\textbf{z\\_qnr\\_23}        &       0.0084  &        0.135     &     0.062  &         0.950        &       -0.257    &        0.274     \\\\\n",
       "\\textbf{z\\_qnr\\_24}        &       0.2362  &        0.113     &     2.082  &         0.038        &        0.013    &        0.459     \\\\\n",
       "\\textbf{z\\_qnr\\_25}        &       0.0848  &        0.118     &     0.718  &         0.473        &       -0.147    &        0.317     \\\\\n",
       "\\textbf{z\\_qnr\\_26}        &       0.1491  &        0.149     &     1.001  &         0.317        &       -0.143    &        0.441     \\\\\n",
       "\\textbf{z\\_qnr\\_27}        &      -0.0364  &        0.155     &    -0.234  &         0.815        &       -0.341    &        0.268     \\\\\n",
       "\\textbf{z\\_qnr\\_28}        &       0.1359  &        0.177     &     0.766  &         0.444        &       -0.212    &        0.484     \\\\\n",
       "\\textbf{z\\_qnr\\_29}        &       0.1703  &        0.131     &     1.305  &         0.192        &       -0.086    &        0.427     \\\\\n",
       "\\textbf{z\\_qnr\\_30}        &       0.0240  &        0.123     &     0.194  &         0.846        &       -0.218    &        0.266     \\\\\n",
       "\\textbf{z\\_qnr\\_31}        &      -0.0859  &        0.199     &    -0.433  &         0.666        &       -0.476    &        0.304     \\\\\n",
       "\\textbf{z\\_qnr\\_32}        &      -0.0520  &        0.180     &    -0.288  &         0.773        &       -0.406    &        0.302     \\\\\n",
       "\\textbf{z\\_knr\\_1}         &      -0.6266  &        0.224     &    -2.803  &         0.005        &       -1.066    &       -0.188     \\\\\n",
       "\\textbf{z\\_knr\\_2}         &      -0.4116  &        0.222     &    -1.858  &         0.064        &       -0.847    &        0.023     \\\\\n",
       "\\textbf{z\\_knr\\_3}         &      -0.5949  &        0.221     &    -2.692  &         0.007        &       -1.029    &       -0.161     \\\\\n",
       "\\textbf{z\\_knr\\_4}         &      -0.1577  &        0.203     &    -0.777  &         0.437        &       -0.556    &        0.241     \\\\\n",
       "\\textbf{z\\_knr\\_5}         &       0.0995  &        0.205     &     0.486  &         0.627        &       -0.302    &        0.501     \\\\\n",
       "\\textbf{z\\_knr\\_6}         &      -0.6712  &        0.200     &    -3.350  &         0.001        &       -1.065    &       -0.278     \\\\\n",
       "\\textbf{z\\_knr\\_7}         &      -0.1652  &        0.190     &    -0.870  &         0.384        &       -0.538    &        0.207     \\\\\n",
       "\\textbf{z\\_knr\\_8}         &      -0.4720  &        0.210     &    -2.250  &         0.025        &       -0.884    &       -0.060     \\\\\n",
       "\\textbf{z\\_knr\\_9}         &       0.0586  &        0.203     &     0.289  &         0.772        &       -0.339    &        0.456     \\\\\n",
       "\\textbf{z\\_knr\\_10}        &       0.0089  &        0.182     &     0.049  &         0.961        &       -0.349    &        0.367     \\\\\n",
       "\\textbf{z\\_knr\\_11}        &      -0.1833  &        0.186     &    -0.986  &         0.324        &       -0.548    &        0.182     \\\\\n",
       "\\textbf{trafficarea\\_1}    &      -0.1933  &        0.076     &    -2.557  &         0.011        &       -0.342    &       -0.045     \\\\\n",
       "\\textbf{trafficarea\\_2}    &      -0.3709  &        0.084     &    -4.436  &         0.000        &       -0.535    &       -0.207     \\\\\n",
       "\\textbf{r\\_width\\_1}       &       0.1961  &        0.078     &     2.507  &         0.012        &        0.043    &        0.350     \\\\\n",
       "\\textbf{r\\_width\\_2}       &       0.0813  &        0.083     &     0.985  &         0.325        &       -0.081    &        0.244     \\\\\n",
       "\\textbf{r\\_width\\_3}       &       0.4126  &        0.111     &     3.731  &         0.000        &        0.195    &        0.630     \\\\\n",
       "\\textbf{r\\_width\\_4}       &       0.3537  &        0.082     &     4.328  &         0.000        &        0.193    &        0.514     \\\\\n",
       "\\textbf{r\\_width\\_5}       &       0.4069  &        0.097     &     4.174  &         0.000        &        0.216    &        0.598     \\\\\n",
       "\\textbf{r\\_width\\_6}       &       0.3511  &        0.098     &     3.598  &         0.000        &        0.160    &        0.543     \\\\\n",
       "\\textbf{r\\_surface\\_1}     &       0.2682  &        0.078     &     3.429  &         0.001        &        0.115    &        0.422     \\\\\n",
       "\\textbf{speedlimit\\_1}     &       0.0457  &        0.055     &     0.836  &         0.403        &       -0.062    &        0.153     \\\\\n",
       "\\textbf{speedlimit\\_3}     &      -0.0417  &        0.068     &    -0.616  &         0.538        &       -0.174    &        0.091     \\\\\n",
       "\\textbf{speedlimit\\_4}     &       0.5542  &        0.064     &     8.599  &         0.000        &        0.428    &        0.681     \\\\\n",
       "\\textbf{speedlimit\\_5}     &      -0.0833  &        0.107     &    -0.780  &         0.436        &       -0.293    &        0.126     \\\\\n",
       "\\bottomrule\n",
       "\\end{tabular}\n",
       "\\begin{tabular}{lclc}\n",
       "\\textbf{Omnibus:}       & 78.044 & \\textbf{  Durbin-Watson:     } &    2.006  \\\\\n",
       "\\textbf{Prob(Omnibus):} &  0.000 & \\textbf{  Jarque-Bera (JB):  } &  130.208  \\\\\n",
       "\\textbf{Skew:}          &  0.687 & \\textbf{  Prob(JB):          } & 5.32e-29  \\\\\n",
       "\\textbf{Kurtosis:}      &  4.491 & \\textbf{  Cond. No.          } &     139.  \\\\\n",
       "\\bottomrule\n",
       "\\end{tabular}\n",
       "%\\caption{OLS Regression Results}\n",
       "\\end{center}\n",
       "\n",
       "Notes: \\newline\n",
       " [1] Standard Errors assume that the covariance matrix of the errors is correctly specified."
      ],
      "text/plain": [
       "<class 'statsmodels.iolib.summary.Summary'>\n",
       "\"\"\"\n",
       "                            OLS Regression Results                            \n",
       "==============================================================================\n",
       "Dep. Variable:                    acp   R-squared:                       0.648\n",
       "Model:                            OLS   Adj. R-squared:                  0.607\n",
       "Method:                 Least Squares   F-statistic:                     15.66\n",
       "Date:                Fri, 11 Oct 2024   Prob (F-statistic):          7.86e-109\n",
       "Time:                        18:20:05   Log-Likelihood:                -71.672\n",
       "No. Observations:                 760   AIC:                             305.3\n",
       "Df Residuals:                     679   BIC:                             680.6\n",
       "Df Model:                          80                                         \n",
       "Covariance Type:            nonrobust                                         \n",
       "====================================================================================\n",
       "                       coef    std err          t      P>|t|      [0.025      0.975]\n",
       "------------------------------------------------------------------------------------\n",
       "const               -0.1044      0.227     -0.461      0.645      -0.550       0.341\n",
       "cp                  -0.2319      0.054     -4.308      0.000      -0.338      -0.126\n",
       "cmean                0.1436      0.028      5.091      0.000       0.088       0.199\n",
       "cmin                -0.0241      0.010     -2.452      0.014      -0.043      -0.005\n",
       "ie                  -0.0099      0.011     -0.886      0.376      -0.032       0.012\n",
       "mew                  0.0138      0.012      1.159      0.247      -0.010       0.037\n",
       "meg                 -0.0018      0.017     -0.106      0.916      -0.036       0.032\n",
       "megmax               0.0188      0.016      1.145      0.253      -0.013       0.051\n",
       "dbusl               -0.0073      0.014     -0.520      0.604      -0.035       0.020\n",
       "dtraml               0.0219      0.015      1.437      0.151      -0.008       0.052\n",
       "dtrainl              0.0204      0.014      1.498      0.134      -0.006       0.047\n",
       "dplight              0.0052      0.012      0.444      0.657      -0.018       0.028\n",
       "dstation             0.0079      0.014      0.577      0.564      -0.019       0.035\n",
       "dparkcar            -0.0094      0.014     -0.676      0.499      -0.037       0.018\n",
       "dparktw              0.0096      0.013      0.730      0.466      -0.016       0.035\n",
       "dpedcro             -0.0014      0.013     -0.110      0.912      -0.027       0.024\n",
       "dstopsign            0.0210      0.015      1.378      0.169      -0.009       0.051\n",
       "dtrafficarea         0.0263      0.017      1.524      0.128      -0.008       0.060\n",
       "droad                0.0078      0.013      0.612      0.541      -0.017       0.033\n",
       "dvfpath             -0.0191      0.012     -1.535      0.125      -0.044       0.005\n",
       "gvm_dwv             -0.0113      0.013     -0.847      0.397      -0.038       0.015\n",
       "bicyclecount        -0.0168      0.012     -1.341      0.180      -0.041       0.008\n",
       "carcount             0.0075      0.013      0.579      0.562      -0.018       0.033\n",
       "r_width_value       -0.1157      0.026     -4.501      0.000      -0.166      -0.065\n",
       "speedlimit_value    -0.0588      0.023     -2.524      0.012      -0.105      -0.013\n",
       "z_qnr_1              0.7537      0.158      4.773      0.000       0.444       1.064\n",
       "z_qnr_2              0.4802      0.155      3.093      0.002       0.175       0.785\n",
       "z_qnr_3              0.5985      0.153      3.918      0.000       0.299       0.898\n",
       "z_qnr_4              0.6322      0.159      3.985      0.000       0.321       0.944\n",
       "z_qnr_5              0.5438      0.129      4.199      0.000       0.290       0.798\n",
       "z_qnr_6              0.3809      0.147      2.585      0.010       0.092       0.670\n",
       "z_qnr_7              0.9468      0.154      6.155      0.000       0.645       1.249\n",
       "z_qnr_8              0.6759      0.131      5.147      0.000       0.418       0.934\n",
       "z_qnr_9              0.6384      0.167      3.814      0.000       0.310       0.967\n",
       "z_qnr_10            -0.2140      0.126     -1.694      0.091      -0.462       0.034\n",
       "z_qnr_11             0.5847      0.116      5.036      0.000       0.357       0.813\n",
       "z_qnr_12             0.5921      0.110      5.407      0.000       0.377       0.807\n",
       "z_qnr_13            -0.0886      0.129     -0.686      0.493      -0.342       0.165\n",
       "z_qnr_14             0.6345      0.126      5.041      0.000       0.387       0.882\n",
       "z_qnr_15             0.6643      0.139      4.774      0.000       0.391       0.938\n",
       "z_qnr_16             0.4098      0.144      2.839      0.005       0.126       0.693\n",
       "z_qnr_17             0.2173      0.114      1.914      0.056      -0.006       0.440\n",
       "z_qnr_18             0.3430      0.126      2.713      0.007       0.095       0.591\n",
       "z_qnr_19             0.1576      0.120      1.315      0.189      -0.078       0.393\n",
       "z_qnr_20             0.0225      0.121      0.185      0.853      -0.216       0.261\n",
       "z_qnr_21             0.3565      0.127      2.817      0.005       0.108       0.605\n",
       "z_qnr_22             0.2131      0.107      1.991      0.047       0.003       0.423\n",
       "z_qnr_23             0.0084      0.135      0.062      0.950      -0.257       0.274\n",
       "z_qnr_24             0.2362      0.113      2.082      0.038       0.013       0.459\n",
       "z_qnr_25             0.0848      0.118      0.718      0.473      -0.147       0.317\n",
       "z_qnr_26             0.1491      0.149      1.001      0.317      -0.143       0.441\n",
       "z_qnr_27            -0.0364      0.155     -0.234      0.815      -0.341       0.268\n",
       "z_qnr_28             0.1359      0.177      0.766      0.444      -0.212       0.484\n",
       "z_qnr_29             0.1703      0.131      1.305      0.192      -0.086       0.427\n",
       "z_qnr_30             0.0240      0.123      0.194      0.846      -0.218       0.266\n",
       "z_qnr_31            -0.0859      0.199     -0.433      0.666      -0.476       0.304\n",
       "z_qnr_32            -0.0520      0.180     -0.288      0.773      -0.406       0.302\n",
       "z_knr_1             -0.6266      0.224     -2.803      0.005      -1.066      -0.188\n",
       "z_knr_2             -0.4116      0.222     -1.858      0.064      -0.847       0.023\n",
       "z_knr_3             -0.5949      0.221     -2.692      0.007      -1.029      -0.161\n",
       "z_knr_4             -0.1577      0.203     -0.777      0.437      -0.556       0.241\n",
       "z_knr_5              0.0995      0.205      0.486      0.627      -0.302       0.501\n",
       "z_knr_6             -0.6712      0.200     -3.350      0.001      -1.065      -0.278\n",
       "z_knr_7             -0.1652      0.190     -0.870      0.384      -0.538       0.207\n",
       "z_knr_8             -0.4720      0.210     -2.250      0.025      -0.884      -0.060\n",
       "z_knr_9              0.0586      0.203      0.289      0.772      -0.339       0.456\n",
       "z_knr_10             0.0089      0.182      0.049      0.961      -0.349       0.367\n",
       "z_knr_11            -0.1833      0.186     -0.986      0.324      -0.548       0.182\n",
       "trafficarea_1       -0.1933      0.076     -2.557      0.011      -0.342      -0.045\n",
       "trafficarea_2       -0.3709      0.084     -4.436      0.000      -0.535      -0.207\n",
       "r_width_1            0.1961      0.078      2.507      0.012       0.043       0.350\n",
       "r_width_2            0.0813      0.083      0.985      0.325      -0.081       0.244\n",
       "r_width_3            0.4126      0.111      3.731      0.000       0.195       0.630\n",
       "r_width_4            0.3537      0.082      4.328      0.000       0.193       0.514\n",
       "r_width_5            0.4069      0.097      4.174      0.000       0.216       0.598\n",
       "r_width_6            0.3511      0.098      3.598      0.000       0.160       0.543\n",
       "r_surface_1          0.2682      0.078      3.429      0.001       0.115       0.422\n",
       "speedlimit_1         0.0457      0.055      0.836      0.403      -0.062       0.153\n",
       "speedlimit_3        -0.0417      0.068     -0.616      0.538      -0.174       0.091\n",
       "speedlimit_4         0.5542      0.064      8.599      0.000       0.428       0.681\n",
       "speedlimit_5        -0.0833      0.107     -0.780      0.436      -0.293       0.126\n",
       "==============================================================================\n",
       "Omnibus:                       78.044   Durbin-Watson:                   2.006\n",
       "Prob(Omnibus):                  0.000   Jarque-Bera (JB):              130.208\n",
       "Skew:                           0.687   Prob(JB):                     5.32e-29\n",
       "Kurtosis:                       4.491   Cond. No.                         139.\n",
       "==============================================================================\n",
       "\n",
       "Notes:\n",
       "[1] Standard Errors assume that the covariance matrix of the errors is correctly specified.\n",
       "\"\"\""
      ]
     },
     "execution_count": 292,
     "metadata": {},
     "output_type": "execute_result"
    }
   ],
   "source": [
    "# OLS\n",
    "X_train, X_test, y_train, y_test = train_test_split(\n",
    "        x_const, y,\n",
    "        test_size=0.3,\n",
    "        random_state=2)\n",
    "\n",
    "m00_split = sm.OLS(y_train, X_train)\n",
    "r00_split = m00_split.fit()\n",
    "r00_split.summary()"
   ]
  },
  {
   "cell_type": "code",
   "execution_count": 444,
   "id": "0563c42d-5dc4-40ae-8c7d-3cf005668c82",
   "metadata": {
    "execution": {
     "iopub.execute_input": "2024-10-11T17:25:46.481680Z",
     "iopub.status.busy": "2024-10-11T17:25:46.481344Z",
     "iopub.status.idle": "2024-10-11T17:25:46.494302Z",
     "shell.execute_reply": "2024-10-11T17:25:46.493652Z",
     "shell.execute_reply.started": "2024-10-11T17:25:46.481663Z"
    }
   },
   "outputs": [
    {
     "name": "stdout",
     "output_type": "stream",
     "text": [
      "36\n"
     ]
    },
    {
     "data": {
      "text/plain": [
       "cp                  1.888548e-05\n",
       "cmean               4.621338e-07\n",
       "cmin                1.445438e-02\n",
       "r_width_value       7.968868e-06\n",
       "speedlimit_value    1.182254e-02\n",
       "z_qnr_1             2.223536e-06\n",
       "z_qnr_2             2.064038e-03\n",
       "z_qnr_3             9.845181e-05\n",
       "z_qnr_4             7.473377e-05\n",
       "z_qnr_5             3.034178e-05\n",
       "z_qnr_6             9.935937e-03\n",
       "z_qnr_7             1.285688e-09\n",
       "z_qnr_8             3.475392e-07\n",
       "z_qnr_9             1.491201e-04\n",
       "z_qnr_11            6.102512e-07\n",
       "z_qnr_12            8.892646e-08\n",
       "z_qnr_14            5.933077e-07\n",
       "z_qnr_15            2.218406e-06\n",
       "z_qnr_16            4.662758e-03\n",
       "z_qnr_18            6.845190e-03\n",
       "z_qnr_21            4.983077e-03\n",
       "z_qnr_22            4.686254e-02\n",
       "z_qnr_24            3.770619e-02\n",
       "z_knr_1             5.214315e-03\n",
       "z_knr_3             7.279536e-03\n",
       "z_knr_6             8.519327e-04\n",
       "z_knr_8             2.478157e-02\n",
       "trafficarea_1       1.076784e-02\n",
       "trafficarea_2       1.067389e-05\n",
       "r_width_1           1.240691e-02\n",
       "r_width_3           2.066826e-04\n",
       "r_width_4           1.731502e-05\n",
       "r_width_5           3.379915e-05\n",
       "r_width_6           3.437303e-04\n",
       "r_surface_1         6.427806e-04\n",
       "speedlimit_4        5.557476e-17\n",
       "dtype: float64"
      ]
     },
     "execution_count": 444,
     "metadata": {},
     "output_type": "execute_result"
    }
   ],
   "source": [
    "dfp = r00_split.pvalues\n",
    "print(dfp[dfp<=0.05].size)\n",
    "dfp[dfp<=0.05]"
   ]
  },
  {
   "cell_type": "code",
   "execution_count": 293,
   "id": "bfe2a86c-c965-4207-bbbd-7380fa3c694e",
   "metadata": {
    "execution": {
     "iopub.execute_input": "2024-10-11T16:20:05.569056Z",
     "iopub.status.busy": "2024-10-11T16:20:05.568769Z",
     "iopub.status.idle": "2024-10-11T16:20:05.779631Z",
     "shell.execute_reply": "2024-10-11T16:20:05.778969Z",
     "shell.execute_reply.started": "2024-10-11T16:20:05.569035Z"
    }
   },
   "outputs": [
    {
     "name": "stdout",
     "output_type": "stream",
     "text": [
      "\n",
      "Test accuracy : \n",
      " 0.8929663608562691\n",
      "\n",
      "Confusion Matrix : \n",
      " [[233  11]\n",
      " [ 24  59]]\n"
     ]
    },
    {
     "data": {
      "text/plain": [
       "<sklearn.metrics._plot.confusion_matrix.ConfusionMatrixDisplay at 0x14a5d82b9e90>"
      ]
     },
     "execution_count": 293,
     "metadata": {},
     "output_type": "execute_result"
    },
    {
     "data": {
      "image/png": "[encoded data removed]",
      "text/plain": [
       "<Figure size 640x480 with 2 Axes>"
      ]
     },
     "metadata": {},
     "output_type": "display_data"
    }
   ],
   "source": [
    "pred00split = r00_split.predict(X_test)\n",
    "pred00split = list(map(round,pred00split))\n",
    "print('\\nTest accuracy : \\n', accuracy_score(y_test, pred00split))\n",
    "cm00split = confusion_matrix(y_test, pred00split) \n",
    "print ('\\nConfusion Matrix : \\n', cm00split) \n",
    "cm00split_display = metrics.ConfusionMatrixDisplay(confusion_matrix = cm00split)\n",
    "cm00split_display.plot()"
   ]
  },
  {
   "cell_type": "code",
   "execution_count": 294,
   "id": "69c19d28-27cd-4c98-a5a1-2e1d3ab22b14",
   "metadata": {
    "execution": {
     "iopub.execute_input": "2024-10-11T16:20:05.976161Z",
     "iopub.status.busy": "2024-10-11T16:20:05.975654Z",
     "iopub.status.idle": "2024-10-11T16:20:05.987358Z",
     "shell.execute_reply": "2024-10-11T16:20:05.986899Z",
     "shell.execute_reply.started": "2024-10-11T16:20:05.976137Z"
    }
   },
   "outputs": [
    {
     "name": "stdout",
     "output_type": "stream",
     "text": [
      "accuracy 0.8929663608562691\n",
      "precision [0.90661479 0.84285714]\n",
      "sensitivity recall [0.95491803 0.71084337]\n",
      "f1 score [0.93013972 0.77124183]\n",
      "mean precision 0.8747359644246804\n",
      "mean recall 0.8328807031404306\n",
      "mean f1 score 0.8506907753121208\n"
     ]
    }
   ],
   "source": [
    "acc_ols_sp = metrics.accuracy_score(y_test, pred00split)\n",
    "print('accuracy', acc_ols_sp)\n",
    "\n",
    "pre_ols_sp = metrics.precision_score(y_test, pred00split, average = None)\n",
    "print('precision', pre_ols_sp)\n",
    "\n",
    "senrec_ols_sp = metrics.recall_score(y_test, pred00split, average = None)\n",
    "print('sensitivity recall', senrec_ols_sp)\n",
    "\n",
    "f1_ols_sp = metrics.f1_score(y_test, pred00split, average = None)\n",
    "print('f1 score', f1_ols_sp)\n",
    "\n",
    "pre_ols_sp_m = np.mean(pre_ols_sp)\n",
    "senrec_ols_sp_m = np.mean(senrec_ols_sp)\n",
    "f1_ols_sp_m = np.mean(f1_ols_sp)\n",
    "print('mean precision', pre_ols_sp_m)\n",
    "print('mean recall', senrec_ols_sp_m)\n",
    "print('mean f1 score', f1_ols_sp_m)"
   ]
  },
  {
   "cell_type": "markdown",
   "id": "a327603c-ad68-4b69-95c7-06df6d4e2054",
   "metadata": {},
   "source": [
    "## Logistic regression"
   ]
  },
  {
   "cell_type": "markdown",
   "id": "79ac4aef-1e11-48d8-9ccd-98481b9df280",
   "metadata": {
    "execution": {
     "iopub.execute_input": "2024-09-02T18:01:13.342604Z",
     "iopub.status.busy": "2024-09-02T18:01:13.341768Z",
     "iopub.status.idle": "2024-09-02T18:01:13.345485Z",
     "shell.execute_reply": "2024-09-02T18:01:13.344931Z",
     "shell.execute_reply.started": "2024-09-02T18:01:13.342578Z"
    }
   },
   "source": [
    "### Without data splitting"
   ]
  },
  {
   "cell_type": "code",
   "execution_count": 295,
   "id": "12ecebde-f940-4f16-abf8-dff0f73a72f6",
   "metadata": {
    "execution": {
     "iopub.execute_input": "2024-10-11T16:20:07.868548Z",
     "iopub.status.busy": "2024-10-11T16:20:07.867969Z",
     "iopub.status.idle": "2024-10-11T16:20:10.716746Z",
     "shell.execute_reply": "2024-10-11T16:20:10.716048Z",
     "shell.execute_reply.started": "2024-10-11T16:20:07.868524Z"
    }
   },
   "outputs": [
    {
     "name": "stderr",
     "output_type": "stream",
     "text": [
      "/opt/conda/lib/python3.11/site-packages/statsmodels/base/model.py:130: ValueWarning: unknown kwargs ['max_iter']\n",
      "  warnings.warn(msg, ValueWarning)\n"
     ]
    },
    {
     "name": "stdout",
     "output_type": "stream",
     "text": [
      "Optimization terminated successfully    (Exit mode 0)\n",
      "            Current function value: 0.16770464991767756\n",
      "            Iterations: 527\n",
      "            Function evaluations: 528\n",
      "            Gradient evaluations: 527\n"
     ]
    },
    {
     "name": "stderr",
     "output_type": "stream",
     "text": [
      "/opt/conda/lib/python3.11/site-packages/statsmodels/base/model.py:130: ValueWarning: unknown kwargs ['max_iter']\n",
      "  warnings.warn(msg, ValueWarning)\n"
     ]
    },
    {
     "data": {
      "text/html": [
       "<table class=\"simpletable\">\n",
       "<caption>Logit Regression Results</caption>\n",
       "<tr>\n",
       "  <th>Dep. Variable:</th>          <td>acp</td>       <th>  No. Observations:  </th>   <td>  1087</td>  \n",
       "</tr>\n",
       "<tr>\n",
       "  <th>Model:</th>                 <td>Logit</td>      <th>  Df Residuals:      </th>   <td>  1006</td>  \n",
       "</tr>\n",
       "<tr>\n",
       "  <th>Method:</th>                 <td>MLE</td>       <th>  Df Model:          </th>   <td>    80</td>  \n",
       "</tr>\n",
       "<tr>\n",
       "  <th>Date:</th>            <td>Fri, 11 Oct 2024</td> <th>  Pseudo R-squ.:     </th>   <td>0.7131</td>  \n",
       "</tr>\n",
       "<tr>\n",
       "  <th>Time:</th>                <td>18:20:10</td>     <th>  Log-Likelihood:    </th>  <td> -182.29</td> \n",
       "</tr>\n",
       "<tr>\n",
       "  <th>converged:</th>             <td>True</td>       <th>  LL-Null:           </th>  <td> -635.50</td> \n",
       "</tr>\n",
       "<tr>\n",
       "  <th>Covariance Type:</th>     <td>nonrobust</td>    <th>  LLR p-value:       </th> <td>3.169e-140</td>\n",
       "</tr>\n",
       "</table>\n",
       "<table class=\"simpletable\">\n",
       "<tr>\n",
       "          <td></td>            <th>coef</th>     <th>std err</th>      <th>z</th>      <th>P>|z|</th>  <th>[0.025</th>    <th>0.975]</th>  \n",
       "</tr>\n",
       "<tr>\n",
       "  <th>const</th>            <td>  -17.2693</td> <td>  866.281</td> <td>   -0.020</td> <td> 0.984</td> <td>-1715.149</td> <td> 1680.610</td>\n",
       "</tr>\n",
       "<tr>\n",
       "  <th>cp</th>               <td>   -4.2886</td> <td>    0.886</td> <td>   -4.839</td> <td> 0.000</td> <td>   -6.026</td> <td>   -2.551</td>\n",
       "</tr>\n",
       "<tr>\n",
       "  <th>cmean</th>            <td>    2.1379</td> <td>    0.447</td> <td>    4.783</td> <td> 0.000</td> <td>    1.262</td> <td>    3.014</td>\n",
       "</tr>\n",
       "<tr>\n",
       "  <th>cmin</th>             <td>   -0.3332</td> <td>    0.199</td> <td>   -1.676</td> <td> 0.094</td> <td>   -0.723</td> <td>    0.056</td>\n",
       "</tr>\n",
       "<tr>\n",
       "  <th>ie</th>               <td>   -0.1410</td> <td>    0.154</td> <td>   -0.916</td> <td> 0.359</td> <td>   -0.442</td> <td>    0.161</td>\n",
       "</tr>\n",
       "<tr>\n",
       "  <th>mew</th>              <td>    0.2061</td> <td>    0.168</td> <td>    1.226</td> <td> 0.220</td> <td>   -0.123</td> <td>    0.536</td>\n",
       "</tr>\n",
       "<tr>\n",
       "  <th>meg</th>              <td>    0.0375</td> <td>    0.244</td> <td>    0.154</td> <td> 0.878</td> <td>   -0.441</td> <td>    0.516</td>\n",
       "</tr>\n",
       "<tr>\n",
       "  <th>megmax</th>           <td>    0.0746</td> <td>    0.229</td> <td>    0.326</td> <td> 0.745</td> <td>   -0.375</td> <td>    0.524</td>\n",
       "</tr>\n",
       "<tr>\n",
       "  <th>dbusl</th>            <td>   -0.5961</td> <td>    0.216</td> <td>   -2.763</td> <td> 0.006</td> <td>   -1.019</td> <td>   -0.173</td>\n",
       "</tr>\n",
       "<tr>\n",
       "  <th>dtraml</th>           <td>    0.5727</td> <td>    0.231</td> <td>    2.478</td> <td> 0.013</td> <td>    0.120</td> <td>    1.026</td>\n",
       "</tr>\n",
       "<tr>\n",
       "  <th>dtrainl</th>          <td>    0.5110</td> <td>    0.197</td> <td>    2.588</td> <td> 0.010</td> <td>    0.124</td> <td>    0.898</td>\n",
       "</tr>\n",
       "<tr>\n",
       "  <th>dplight</th>          <td>    0.0815</td> <td>    0.168</td> <td>    0.487</td> <td> 0.626</td> <td>   -0.247</td> <td>    0.410</td>\n",
       "</tr>\n",
       "<tr>\n",
       "  <th>dstation</th>         <td>    0.1294</td> <td>    0.205</td> <td>    0.630</td> <td> 0.528</td> <td>   -0.273</td> <td>    0.532</td>\n",
       "</tr>\n",
       "<tr>\n",
       "  <th>dparkcar</th>         <td>   -0.1927</td> <td>    0.190</td> <td>   -1.013</td> <td> 0.311</td> <td>   -0.565</td> <td>    0.180</td>\n",
       "</tr>\n",
       "<tr>\n",
       "  <th>dparktw</th>          <td>   -0.1934</td> <td>    0.192</td> <td>   -1.009</td> <td> 0.313</td> <td>   -0.569</td> <td>    0.182</td>\n",
       "</tr>\n",
       "<tr>\n",
       "  <th>dpedcro</th>          <td>    0.0307</td> <td>    0.178</td> <td>    0.172</td> <td> 0.863</td> <td>   -0.318</td> <td>    0.379</td>\n",
       "</tr>\n",
       "<tr>\n",
       "  <th>dstopsign</th>        <td>    0.5054</td> <td>    0.215</td> <td>    2.349</td> <td> 0.019</td> <td>    0.084</td> <td>    0.927</td>\n",
       "</tr>\n",
       "<tr>\n",
       "  <th>dtrafficarea</th>     <td>    0.2716</td> <td>    0.214</td> <td>    1.268</td> <td> 0.205</td> <td>   -0.148</td> <td>    0.691</td>\n",
       "</tr>\n",
       "<tr>\n",
       "  <th>droad</th>            <td>   -0.2379</td> <td>    0.193</td> <td>   -1.235</td> <td> 0.217</td> <td>   -0.616</td> <td>    0.140</td>\n",
       "</tr>\n",
       "<tr>\n",
       "  <th>dvfpath</th>          <td>   -0.2900</td> <td>    0.175</td> <td>   -1.653</td> <td> 0.098</td> <td>   -0.634</td> <td>    0.054</td>\n",
       "</tr>\n",
       "<tr>\n",
       "  <th>gvm_dwv</th>          <td>   -0.0750</td> <td>    0.176</td> <td>   -0.425</td> <td> 0.671</td> <td>   -0.421</td> <td>    0.271</td>\n",
       "</tr>\n",
       "<tr>\n",
       "  <th>bicyclecount</th>     <td>   -0.4096</td> <td>    0.184</td> <td>   -2.229</td> <td> 0.026</td> <td>   -0.770</td> <td>   -0.049</td>\n",
       "</tr>\n",
       "<tr>\n",
       "  <th>carcount</th>         <td>    0.0485</td> <td>    0.182</td> <td>    0.267</td> <td> 0.790</td> <td>   -0.307</td> <td>    0.404</td>\n",
       "</tr>\n",
       "<tr>\n",
       "  <th>r_width_value</th>    <td>   -2.0006</td> <td>    0.381</td> <td>   -5.256</td> <td> 0.000</td> <td>   -2.747</td> <td>   -1.255</td>\n",
       "</tr>\n",
       "<tr>\n",
       "  <th>speedlimit_value</th> <td>   -0.4284</td> <td>    0.398</td> <td>   -1.075</td> <td> 0.282</td> <td>   -1.209</td> <td>    0.353</td>\n",
       "</tr>\n",
       "<tr>\n",
       "  <th>z_qnr_1</th>          <td>   15.0811</td> <td>    2.785</td> <td>    5.415</td> <td> 0.000</td> <td>    9.622</td> <td>   20.540</td>\n",
       "</tr>\n",
       "<tr>\n",
       "  <th>z_qnr_2</th>          <td>    8.6019</td> <td>    2.388</td> <td>    3.602</td> <td> 0.000</td> <td>    3.922</td> <td>   13.282</td>\n",
       "</tr>\n",
       "<tr>\n",
       "  <th>z_qnr_3</th>          <td>   11.2846</td> <td>    2.600</td> <td>    4.340</td> <td> 0.000</td> <td>    6.189</td> <td>   16.380</td>\n",
       "</tr>\n",
       "<tr>\n",
       "  <th>z_qnr_4</th>          <td>   13.1817</td> <td>    2.808</td> <td>    4.694</td> <td> 0.000</td> <td>    7.677</td> <td>   18.686</td>\n",
       "</tr>\n",
       "<tr>\n",
       "  <th>z_qnr_5</th>          <td>    9.5203</td> <td>    2.319</td> <td>    4.106</td> <td> 0.000</td> <td>    4.976</td> <td>   14.065</td>\n",
       "</tr>\n",
       "<tr>\n",
       "  <th>z_qnr_6</th>          <td>    9.4172</td> <td>    3.430</td> <td>    2.745</td> <td> 0.006</td> <td>    2.694</td> <td>   16.140</td>\n",
       "</tr>\n",
       "<tr>\n",
       "  <th>z_qnr_7</th>          <td>   14.4460</td> <td>    2.447</td> <td>    5.904</td> <td> 0.000</td> <td>    9.650</td> <td>   19.242</td>\n",
       "</tr>\n",
       "<tr>\n",
       "  <th>z_qnr_8</th>          <td>   12.5402</td> <td>    2.281</td> <td>    5.498</td> <td> 0.000</td> <td>    8.070</td> <td>   17.010</td>\n",
       "</tr>\n",
       "<tr>\n",
       "  <th>z_qnr_9</th>          <td>   11.5530</td> <td>    2.714</td> <td>    4.256</td> <td> 0.000</td> <td>    6.233</td> <td>   16.873</td>\n",
       "</tr>\n",
       "<tr>\n",
       "  <th>z_qnr_10</th>         <td>    1.5088</td> <td>    2.194</td> <td>    0.688</td> <td> 0.492</td> <td>   -2.792</td> <td>    5.810</td>\n",
       "</tr>\n",
       "<tr>\n",
       "  <th>z_qnr_11</th>         <td>    9.0239</td> <td>    2.163</td> <td>    4.172</td> <td> 0.000</td> <td>    4.785</td> <td>   13.263</td>\n",
       "</tr>\n",
       "<tr>\n",
       "  <th>z_qnr_12</th>         <td>    9.4622</td> <td>    2.205</td> <td>    4.291</td> <td> 0.000</td> <td>    5.140</td> <td>   13.784</td>\n",
       "</tr>\n",
       "<tr>\n",
       "  <th>z_qnr_13</th>         <td>    2.5204</td> <td>    2.298</td> <td>    1.097</td> <td> 0.273</td> <td>   -1.983</td> <td>    7.024</td>\n",
       "</tr>\n",
       "<tr>\n",
       "  <th>z_qnr_14</th>         <td>   10.4271</td> <td>    2.575</td> <td>    4.049</td> <td> 0.000</td> <td>    5.380</td> <td>   15.474</td>\n",
       "</tr>\n",
       "<tr>\n",
       "  <th>z_qnr_15</th>         <td>   12.4791</td> <td>    2.366</td> <td>    5.275</td> <td> 0.000</td> <td>    7.843</td> <td>   17.115</td>\n",
       "</tr>\n",
       "<tr>\n",
       "  <th>z_qnr_16</th>         <td>    8.2328</td> <td>    2.263</td> <td>    3.638</td> <td> 0.000</td> <td>    3.798</td> <td>   12.668</td>\n",
       "</tr>\n",
       "<tr>\n",
       "  <th>z_qnr_17</th>         <td>    5.2179</td> <td>    2.257</td> <td>    2.312</td> <td> 0.021</td> <td>    0.794</td> <td>    9.642</td>\n",
       "</tr>\n",
       "<tr>\n",
       "  <th>z_qnr_18</th>         <td>    6.2557</td> <td>    2.242</td> <td>    2.791</td> <td> 0.005</td> <td>    1.862</td> <td>   10.649</td>\n",
       "</tr>\n",
       "<tr>\n",
       "  <th>z_qnr_19</th>         <td>    3.9439</td> <td>    2.178</td> <td>    1.811</td> <td> 0.070</td> <td>   -0.326</td> <td>    8.213</td>\n",
       "</tr>\n",
       "<tr>\n",
       "  <th>z_qnr_20</th>         <td>    3.0491</td> <td>    2.190</td> <td>    1.392</td> <td> 0.164</td> <td>   -1.244</td> <td>    7.342</td>\n",
       "</tr>\n",
       "<tr>\n",
       "  <th>z_qnr_21</th>         <td>    7.4231</td> <td>    2.275</td> <td>    3.263</td> <td> 0.001</td> <td>    2.965</td> <td>   11.882</td>\n",
       "</tr>\n",
       "<tr>\n",
       "  <th>z_qnr_22</th>         <td>    3.2497</td> <td>    1.634</td> <td>    1.989</td> <td> 0.047</td> <td>    0.047</td> <td>    6.452</td>\n",
       "</tr>\n",
       "<tr>\n",
       "  <th>z_qnr_23</th>         <td>    3.3986</td> <td>    2.406</td> <td>    1.413</td> <td> 0.158</td> <td>   -1.317</td> <td>    8.114</td>\n",
       "</tr>\n",
       "<tr>\n",
       "  <th>z_qnr_24</th>         <td>    2.3215</td> <td>    1.619</td> <td>    1.434</td> <td> 0.152</td> <td>   -0.852</td> <td>    5.495</td>\n",
       "</tr>\n",
       "<tr>\n",
       "  <th>z_qnr_25</th>         <td>   -0.5382</td> <td>    1.644</td> <td>   -0.327</td> <td> 0.743</td> <td>   -3.761</td> <td>    2.684</td>\n",
       "</tr>\n",
       "<tr>\n",
       "  <th>z_qnr_26</th>         <td>    0.6254</td> <td>    1.930</td> <td>    0.324</td> <td> 0.746</td> <td>   -3.157</td> <td>    4.408</td>\n",
       "</tr>\n",
       "<tr>\n",
       "  <th>z_qnr_27</th>         <td>   -0.5463</td> <td>    1.887</td> <td>   -0.290</td> <td> 0.772</td> <td>   -4.245</td> <td>    3.152</td>\n",
       "</tr>\n",
       "<tr>\n",
       "  <th>z_qnr_28</th>         <td>    3.8340</td> <td>    1.892</td> <td>    2.026</td> <td> 0.043</td> <td>    0.125</td> <td>    7.543</td>\n",
       "</tr>\n",
       "<tr>\n",
       "  <th>z_qnr_29</th>         <td>    4.3339</td> <td>    2.158</td> <td>    2.008</td> <td> 0.045</td> <td>    0.104</td> <td>    8.564</td>\n",
       "</tr>\n",
       "<tr>\n",
       "  <th>z_qnr_30</th>         <td>   -3.5318</td> <td>   43.161</td> <td>   -0.082</td> <td> 0.935</td> <td>  -88.126</td> <td>   81.063</td>\n",
       "</tr>\n",
       "<tr>\n",
       "  <th>z_qnr_31</th>         <td>  -10.7525</td> <td>   58.723</td> <td>   -0.183</td> <td> 0.855</td> <td> -125.848</td> <td>  104.343</td>\n",
       "</tr>\n",
       "<tr>\n",
       "  <th>z_qnr_32</th>         <td>   -2.4077</td> <td>    2.131</td> <td>   -1.130</td> <td> 0.259</td> <td>   -6.584</td> <td>    1.769</td>\n",
       "</tr>\n",
       "<tr>\n",
       "  <th>z_knr_1</th>          <td>  -15.3838</td> <td>    2.976</td> <td>   -5.169</td> <td> 0.000</td> <td>  -21.217</td> <td>   -9.550</td>\n",
       "</tr>\n",
       "<tr>\n",
       "  <th>z_knr_2</th>          <td>   -8.1436</td> <td>    2.552</td> <td>   -3.191</td> <td> 0.001</td> <td>  -13.145</td> <td>   -3.142</td>\n",
       "</tr>\n",
       "<tr>\n",
       "  <th>z_knr_3</th>          <td>  -12.9188</td> <td>    2.700</td> <td>   -4.785</td> <td> 0.000</td> <td>  -18.211</td> <td>   -7.627</td>\n",
       "</tr>\n",
       "<tr>\n",
       "  <th>z_knr_4</th>          <td>   -6.0721</td> <td>    2.422</td> <td>   -2.507</td> <td> 0.012</td> <td>  -10.818</td> <td>   -1.326</td>\n",
       "</tr>\n",
       "<tr>\n",
       "  <th>z_knr_5</th>          <td>   -3.8691</td> <td>    2.465</td> <td>   -1.569</td> <td> 0.117</td> <td>   -8.701</td> <td>    0.963</td>\n",
       "</tr>\n",
       "<tr>\n",
       "  <th>z_knr_6</th>          <td>  -13.1415</td> <td>    2.510</td> <td>   -5.236</td> <td> 0.000</td> <td>  -18.061</td> <td>   -8.223</td>\n",
       "</tr>\n",
       "<tr>\n",
       "  <th>z_knr_7</th>          <td>   -6.2703</td> <td>    2.445</td> <td>   -2.564</td> <td> 0.010</td> <td>  -11.063</td> <td>   -1.477</td>\n",
       "</tr>\n",
       "<tr>\n",
       "  <th>z_knr_8</th>          <td>   -9.9410</td> <td>    2.528</td> <td>   -3.932</td> <td> 0.000</td> <td>  -14.896</td> <td>   -4.986</td>\n",
       "</tr>\n",
       "<tr>\n",
       "  <th>z_knr_9</th>          <td>   -3.3227</td> <td>    2.448</td> <td>   -1.357</td> <td> 0.175</td> <td>   -8.121</td> <td>    1.476</td>\n",
       "</tr>\n",
       "<tr>\n",
       "  <th>z_knr_10</th>         <td>   -2.0210</td> <td>    1.849</td> <td>   -1.093</td> <td> 0.274</td> <td>   -5.645</td> <td>    1.602</td>\n",
       "</tr>\n",
       "<tr>\n",
       "  <th>z_knr_11</th>         <td>   -3.2914</td> <td>    1.831</td> <td>   -1.797</td> <td> 0.072</td> <td>   -6.881</td> <td>    0.298</td>\n",
       "</tr>\n",
       "<tr>\n",
       "  <th>trafficarea_1</th>    <td>   -2.5450</td> <td>    1.395</td> <td>   -1.824</td> <td> 0.068</td> <td>   -5.279</td> <td>    0.189</td>\n",
       "</tr>\n",
       "<tr>\n",
       "  <th>trafficarea_2</th>    <td>   -4.9058</td> <td>    1.490</td> <td>   -3.292</td> <td> 0.001</td> <td>   -7.826</td> <td>   -1.985</td>\n",
       "</tr>\n",
       "<tr>\n",
       "  <th>r_width_1</th>        <td>    2.2654</td> <td>    0.977</td> <td>    2.319</td> <td> 0.020</td> <td>    0.351</td> <td>    4.180</td>\n",
       "</tr>\n",
       "<tr>\n",
       "  <th>r_width_2</th>        <td>   -2.3964</td> <td>    1.289</td> <td>   -1.859</td> <td> 0.063</td> <td>   -4.923</td> <td>    0.131</td>\n",
       "</tr>\n",
       "<tr>\n",
       "  <th>r_width_3</th>        <td>    5.9440</td> <td>    1.450</td> <td>    4.098</td> <td> 0.000</td> <td>    3.101</td> <td>    8.787</td>\n",
       "</tr>\n",
       "<tr>\n",
       "  <th>r_width_4</th>        <td>    2.6952</td> <td>    1.003</td> <td>    2.688</td> <td> 0.007</td> <td>    0.730</td> <td>    4.660</td>\n",
       "</tr>\n",
       "<tr>\n",
       "  <th>r_width_5</th>        <td>    5.6020</td> <td>    1.313</td> <td>    4.265</td> <td> 0.000</td> <td>    3.028</td> <td>    8.176</td>\n",
       "</tr>\n",
       "<tr>\n",
       "  <th>r_width_6</th>        <td>    4.2541</td> <td>    1.321</td> <td>    3.221</td> <td> 0.001</td> <td>    1.665</td> <td>    6.843</td>\n",
       "</tr>\n",
       "<tr>\n",
       "  <th>r_surface_1</th>      <td>   17.2431</td> <td>  866.278</td> <td>    0.020</td> <td> 0.984</td> <td>-1680.630</td> <td> 1715.116</td>\n",
       "</tr>\n",
       "<tr>\n",
       "  <th>speedlimit_1</th>     <td>    0.1447</td> <td>    0.778</td> <td>    0.186</td> <td> 0.852</td> <td>   -1.379</td> <td>    1.669</td>\n",
       "</tr>\n",
       "<tr>\n",
       "  <th>speedlimit_3</th>     <td>   -6.6834</td> <td>    1.901</td> <td>   -3.516</td> <td> 0.000</td> <td>  -10.409</td> <td>   -2.958</td>\n",
       "</tr>\n",
       "<tr>\n",
       "  <th>speedlimit_4</th>     <td>    5.6223</td> <td>    0.966</td> <td>    5.823</td> <td> 0.000</td> <td>    3.730</td> <td>    7.515</td>\n",
       "</tr>\n",
       "<tr>\n",
       "  <th>speedlimit_5</th>     <td>   -3.8843</td> <td>    2.807</td> <td>   -1.384</td> <td> 0.166</td> <td>   -9.386</td> <td>    1.618</td>\n",
       "</tr>\n",
       "</table><br/><br/>Possibly complete quasi-separation: A fraction 0.25 of observations can be<br/>perfectly predicted. This might indicate that there is complete<br/>quasi-separation. In this case some parameters will not be identified."
      ],
      "text/latex": [
       "\\begin{center}\n",
       "\\begin{tabular}{lclc}\n",
       "\\toprule\n",
       "\\textbf{Dep. Variable:}    &       acp        & \\textbf{  No. Observations:  } &     1087    \\\\\n",
       "\\textbf{Model:}            &      Logit       & \\textbf{  Df Residuals:      } &     1006    \\\\\n",
       "\\textbf{Method:}           &       MLE        & \\textbf{  Df Model:          } &       80    \\\\\n",
       "\\textbf{Date:}             & Fri, 11 Oct 2024 & \\textbf{  Pseudo R-squ.:     } &   0.7131    \\\\\n",
       "\\textbf{Time:}             &     18:20:10     & \\textbf{  Log-Likelihood:    } &   -182.29   \\\\\n",
       "\\textbf{converged:}        &       True       & \\textbf{  LL-Null:           } &   -635.50   \\\\\n",
       "\\textbf{Covariance Type:}  &    nonrobust     & \\textbf{  LLR p-value:       } & 3.169e-140  \\\\\n",
       "\\bottomrule\n",
       "\\end{tabular}\n",
       "\\begin{tabular}{lcccccc}\n",
       "                           & \\textbf{coef} & \\textbf{std err} & \\textbf{z} & \\textbf{P$> |$z$|$} & \\textbf{[0.025} & \\textbf{0.975]}  \\\\\n",
       "\\midrule\n",
       "\\textbf{const}             &     -17.2693  &      866.281     &    -0.020  &         0.984        &    -1715.149    &     1680.610     \\\\\n",
       "\\textbf{cp}                &      -4.2886  &        0.886     &    -4.839  &         0.000        &       -6.026    &       -2.551     \\\\\n",
       "\\textbf{cmean}             &       2.1379  &        0.447     &     4.783  &         0.000        &        1.262    &        3.014     \\\\\n",
       "\\textbf{cmin}              &      -0.3332  &        0.199     &    -1.676  &         0.094        &       -0.723    &        0.056     \\\\\n",
       "\\textbf{ie}                &      -0.1410  &        0.154     &    -0.916  &         0.359        &       -0.442    &        0.161     \\\\\n",
       "\\textbf{mew}               &       0.2061  &        0.168     &     1.226  &         0.220        &       -0.123    &        0.536     \\\\\n",
       "\\textbf{meg}               &       0.0375  &        0.244     &     0.154  &         0.878        &       -0.441    &        0.516     \\\\\n",
       "\\textbf{megmax}            &       0.0746  &        0.229     &     0.326  &         0.745        &       -0.375    &        0.524     \\\\\n",
       "\\textbf{dbusl}             &      -0.5961  &        0.216     &    -2.763  &         0.006        &       -1.019    &       -0.173     \\\\\n",
       "\\textbf{dtraml}            &       0.5727  &        0.231     &     2.478  &         0.013        &        0.120    &        1.026     \\\\\n",
       "\\textbf{dtrainl}           &       0.5110  &        0.197     &     2.588  &         0.010        &        0.124    &        0.898     \\\\\n",
       "\\textbf{dplight}           &       0.0815  &        0.168     &     0.487  &         0.626        &       -0.247    &        0.410     \\\\\n",
       "\\textbf{dstation}          &       0.1294  &        0.205     &     0.630  &         0.528        &       -0.273    &        0.532     \\\\\n",
       "\\textbf{dparkcar}          &      -0.1927  &        0.190     &    -1.013  &         0.311        &       -0.565    &        0.180     \\\\\n",
       "\\textbf{dparktw}           &      -0.1934  &        0.192     &    -1.009  &         0.313        &       -0.569    &        0.182     \\\\\n",
       "\\textbf{dpedcro}           &       0.0307  &        0.178     &     0.172  &         0.863        &       -0.318    &        0.379     \\\\\n",
       "\\textbf{dstopsign}         &       0.5054  &        0.215     &     2.349  &         0.019        &        0.084    &        0.927     \\\\\n",
       "\\textbf{dtrafficarea}      &       0.2716  &        0.214     &     1.268  &         0.205        &       -0.148    &        0.691     \\\\\n",
       "\\textbf{droad}             &      -0.2379  &        0.193     &    -1.235  &         0.217        &       -0.616    &        0.140     \\\\\n",
       "\\textbf{dvfpath}           &      -0.2900  &        0.175     &    -1.653  &         0.098        &       -0.634    &        0.054     \\\\\n",
       "\\textbf{gvm\\_dwv}          &      -0.0750  &        0.176     &    -0.425  &         0.671        &       -0.421    &        0.271     \\\\\n",
       "\\textbf{bicyclecount}      &      -0.4096  &        0.184     &    -2.229  &         0.026        &       -0.770    &       -0.049     \\\\\n",
       "\\textbf{carcount}          &       0.0485  &        0.182     &     0.267  &         0.790        &       -0.307    &        0.404     \\\\\n",
       "\\textbf{r\\_width\\_value}   &      -2.0006  &        0.381     &    -5.256  &         0.000        &       -2.747    &       -1.255     \\\\\n",
       "\\textbf{speedlimit\\_value} &      -0.4284  &        0.398     &    -1.075  &         0.282        &       -1.209    &        0.353     \\\\\n",
       "\\textbf{z\\_qnr\\_1}         &      15.0811  &        2.785     &     5.415  &         0.000        &        9.622    &       20.540     \\\\\n",
       "\\textbf{z\\_qnr\\_2}         &       8.6019  &        2.388     &     3.602  &         0.000        &        3.922    &       13.282     \\\\\n",
       "\\textbf{z\\_qnr\\_3}         &      11.2846  &        2.600     &     4.340  &         0.000        &        6.189    &       16.380     \\\\\n",
       "\\textbf{z\\_qnr\\_4}         &      13.1817  &        2.808     &     4.694  &         0.000        &        7.677    &       18.686     \\\\\n",
       "\\textbf{z\\_qnr\\_5}         &       9.5203  &        2.319     &     4.106  &         0.000        &        4.976    &       14.065     \\\\\n",
       "\\textbf{z\\_qnr\\_6}         &       9.4172  &        3.430     &     2.745  &         0.006        &        2.694    &       16.140     \\\\\n",
       "\\textbf{z\\_qnr\\_7}         &      14.4460  &        2.447     &     5.904  &         0.000        &        9.650    &       19.242     \\\\\n",
       "\\textbf{z\\_qnr\\_8}         &      12.5402  &        2.281     &     5.498  &         0.000        &        8.070    &       17.010     \\\\\n",
       "\\textbf{z\\_qnr\\_9}         &      11.5530  &        2.714     &     4.256  &         0.000        &        6.233    &       16.873     \\\\\n",
       "\\textbf{z\\_qnr\\_10}        &       1.5088  &        2.194     &     0.688  &         0.492        &       -2.792    &        5.810     \\\\\n",
       "\\textbf{z\\_qnr\\_11}        &       9.0239  &        2.163     &     4.172  &         0.000        &        4.785    &       13.263     \\\\\n",
       "\\textbf{z\\_qnr\\_12}        &       9.4622  &        2.205     &     4.291  &         0.000        &        5.140    &       13.784     \\\\\n",
       "\\textbf{z\\_qnr\\_13}        &       2.5204  &        2.298     &     1.097  &         0.273        &       -1.983    &        7.024     \\\\\n",
       "\\textbf{z\\_qnr\\_14}        &      10.4271  &        2.575     &     4.049  &         0.000        &        5.380    &       15.474     \\\\\n",
       "\\textbf{z\\_qnr\\_15}        &      12.4791  &        2.366     &     5.275  &         0.000        &        7.843    &       17.115     \\\\\n",
       "\\textbf{z\\_qnr\\_16}        &       8.2328  &        2.263     &     3.638  &         0.000        &        3.798    &       12.668     \\\\\n",
       "\\textbf{z\\_qnr\\_17}        &       5.2179  &        2.257     &     2.312  &         0.021        &        0.794    &        9.642     \\\\\n",
       "\\textbf{z\\_qnr\\_18}        &       6.2557  &        2.242     &     2.791  &         0.005        &        1.862    &       10.649     \\\\\n",
       "\\textbf{z\\_qnr\\_19}        &       3.9439  &        2.178     &     1.811  &         0.070        &       -0.326    &        8.213     \\\\\n",
       "\\textbf{z\\_qnr\\_20}        &       3.0491  &        2.190     &     1.392  &         0.164        &       -1.244    &        7.342     \\\\\n",
       "\\textbf{z\\_qnr\\_21}        &       7.4231  &        2.275     &     3.263  &         0.001        &        2.965    &       11.882     \\\\\n",
       "\\textbf{z\\_qnr\\_22}        &       3.2497  &        1.634     &     1.989  &         0.047        &        0.047    &        6.452     \\\\\n",
       "\\textbf{z\\_qnr\\_23}        &       3.3986  &        2.406     &     1.413  &         0.158        &       -1.317    &        8.114     \\\\\n",
       "\\textbf{z\\_qnr\\_24}        &       2.3215  &        1.619     &     1.434  &         0.152        &       -0.852    &        5.495     \\\\\n",
       "\\textbf{z\\_qnr\\_25}        &      -0.5382  &        1.644     &    -0.327  &         0.743        &       -3.761    &        2.684     \\\\\n",
       "\\textbf{z\\_qnr\\_26}        &       0.6254  &        1.930     &     0.324  &         0.746        &       -3.157    &        4.408     \\\\\n",
       "\\textbf{z\\_qnr\\_27}        &      -0.5463  &        1.887     &    -0.290  &         0.772        &       -4.245    &        3.152     \\\\\n",
       "\\textbf{z\\_qnr\\_28}        &       3.8340  &        1.892     &     2.026  &         0.043        &        0.125    &        7.543     \\\\\n",
       "\\textbf{z\\_qnr\\_29}        &       4.3339  &        2.158     &     2.008  &         0.045        &        0.104    &        8.564     \\\\\n",
       "\\textbf{z\\_qnr\\_30}        &      -3.5318  &       43.161     &    -0.082  &         0.935        &      -88.126    &       81.063     \\\\\n",
       "\\textbf{z\\_qnr\\_31}        &     -10.7525  &       58.723     &    -0.183  &         0.855        &     -125.848    &      104.343     \\\\\n",
       "\\textbf{z\\_qnr\\_32}        &      -2.4077  &        2.131     &    -1.130  &         0.259        &       -6.584    &        1.769     \\\\\n",
       "\\textbf{z\\_knr\\_1}         &     -15.3838  &        2.976     &    -5.169  &         0.000        &      -21.217    &       -9.550     \\\\\n",
       "\\textbf{z\\_knr\\_2}         &      -8.1436  &        2.552     &    -3.191  &         0.001        &      -13.145    &       -3.142     \\\\\n",
       "\\textbf{z\\_knr\\_3}         &     -12.9188  &        2.700     &    -4.785  &         0.000        &      -18.211    &       -7.627     \\\\\n",
       "\\textbf{z\\_knr\\_4}         &      -6.0721  &        2.422     &    -2.507  &         0.012        &      -10.818    &       -1.326     \\\\\n",
       "\\textbf{z\\_knr\\_5}         &      -3.8691  &        2.465     &    -1.569  &         0.117        &       -8.701    &        0.963     \\\\\n",
       "\\textbf{z\\_knr\\_6}         &     -13.1415  &        2.510     &    -5.236  &         0.000        &      -18.061    &       -8.223     \\\\\n",
       "\\textbf{z\\_knr\\_7}         &      -6.2703  &        2.445     &    -2.564  &         0.010        &      -11.063    &       -1.477     \\\\\n",
       "\\textbf{z\\_knr\\_8}         &      -9.9410  &        2.528     &    -3.932  &         0.000        &      -14.896    &       -4.986     \\\\\n",
       "\\textbf{z\\_knr\\_9}         &      -3.3227  &        2.448     &    -1.357  &         0.175        &       -8.121    &        1.476     \\\\\n",
       "\\textbf{z\\_knr\\_10}        &      -2.0210  &        1.849     &    -1.093  &         0.274        &       -5.645    &        1.602     \\\\\n",
       "\\textbf{z\\_knr\\_11}        &      -3.2914  &        1.831     &    -1.797  &         0.072        &       -6.881    &        0.298     \\\\\n",
       "\\textbf{trafficarea\\_1}    &      -2.5450  &        1.395     &    -1.824  &         0.068        &       -5.279    &        0.189     \\\\\n",
       "\\textbf{trafficarea\\_2}    &      -4.9058  &        1.490     &    -3.292  &         0.001        &       -7.826    &       -1.985     \\\\\n",
       "\\textbf{r\\_width\\_1}       &       2.2654  &        0.977     &     2.319  &         0.020        &        0.351    &        4.180     \\\\\n",
       "\\textbf{r\\_width\\_2}       &      -2.3964  &        1.289     &    -1.859  &         0.063        &       -4.923    &        0.131     \\\\\n",
       "\\textbf{r\\_width\\_3}       &       5.9440  &        1.450     &     4.098  &         0.000        &        3.101    &        8.787     \\\\\n",
       "\\textbf{r\\_width\\_4}       &       2.6952  &        1.003     &     2.688  &         0.007        &        0.730    &        4.660     \\\\\n",
       "\\textbf{r\\_width\\_5}       &       5.6020  &        1.313     &     4.265  &         0.000        &        3.028    &        8.176     \\\\\n",
       "\\textbf{r\\_width\\_6}       &       4.2541  &        1.321     &     3.221  &         0.001        &        1.665    &        6.843     \\\\\n",
       "\\textbf{r\\_surface\\_1}     &      17.2431  &      866.278     &     0.020  &         0.984        &    -1680.630    &     1715.116     \\\\\n",
       "\\textbf{speedlimit\\_1}     &       0.1447  &        0.778     &     0.186  &         0.852        &       -1.379    &        1.669     \\\\\n",
       "\\textbf{speedlimit\\_3}     &      -6.6834  &        1.901     &    -3.516  &         0.000        &      -10.409    &       -2.958     \\\\\n",
       "\\textbf{speedlimit\\_4}     &       5.6223  &        0.966     &     5.823  &         0.000        &        3.730    &        7.515     \\\\\n",
       "\\textbf{speedlimit\\_5}     &      -3.8843  &        2.807     &    -1.384  &         0.166        &       -9.386    &        1.618     \\\\\n",
       "\\bottomrule\n",
       "\\end{tabular}\n",
       "%\\caption{Logit Regression Results}\n",
       "\\end{center}\n",
       "\n",
       "Possibly complete quasi-separation: A fraction 0.25 of observations can be \\newline\n",
       " perfectly predicted. This might indicate that there is complete \\newline\n",
       " quasi-separation. In this case some parameters will not be identified."
      ],
      "text/plain": [
       "<class 'statsmodels.iolib.summary.Summary'>\n",
       "\"\"\"\n",
       "                           Logit Regression Results                           \n",
       "==============================================================================\n",
       "Dep. Variable:                    acp   No. Observations:                 1087\n",
       "Model:                          Logit   Df Residuals:                     1006\n",
       "Method:                           MLE   Df Model:                           80\n",
       "Date:                Fri, 11 Oct 2024   Pseudo R-squ.:                  0.7131\n",
       "Time:                        18:20:10   Log-Likelihood:                -182.29\n",
       "converged:                       True   LL-Null:                       -635.50\n",
       "Covariance Type:            nonrobust   LLR p-value:                3.169e-140\n",
       "====================================================================================\n",
       "                       coef    std err          z      P>|z|      [0.025      0.975]\n",
       "------------------------------------------------------------------------------------\n",
       "const              -17.2693    866.281     -0.020      0.984   -1715.149    1680.610\n",
       "cp                  -4.2886      0.886     -4.839      0.000      -6.026      -2.551\n",
       "cmean                2.1379      0.447      4.783      0.000       1.262       3.014\n",
       "cmin                -0.3332      0.199     -1.676      0.094      -0.723       0.056\n",
       "ie                  -0.1410      0.154     -0.916      0.359      -0.442       0.161\n",
       "mew                  0.2061      0.168      1.226      0.220      -0.123       0.536\n",
       "meg                  0.0375      0.244      0.154      0.878      -0.441       0.516\n",
       "megmax               0.0746      0.229      0.326      0.745      -0.375       0.524\n",
       "dbusl               -0.5961      0.216     -2.763      0.006      -1.019      -0.173\n",
       "dtraml               0.5727      0.231      2.478      0.013       0.120       1.026\n",
       "dtrainl              0.5110      0.197      2.588      0.010       0.124       0.898\n",
       "dplight              0.0815      0.168      0.487      0.626      -0.247       0.410\n",
       "dstation             0.1294      0.205      0.630      0.528      -0.273       0.532\n",
       "dparkcar            -0.1927      0.190     -1.013      0.311      -0.565       0.180\n",
       "dparktw             -0.1934      0.192     -1.009      0.313      -0.569       0.182\n",
       "dpedcro              0.0307      0.178      0.172      0.863      -0.318       0.379\n",
       "dstopsign            0.5054      0.215      2.349      0.019       0.084       0.927\n",
       "dtrafficarea         0.2716      0.214      1.268      0.205      -0.148       0.691\n",
       "droad               -0.2379      0.193     -1.235      0.217      -0.616       0.140\n",
       "dvfpath             -0.2900      0.175     -1.653      0.098      -0.634       0.054\n",
       "gvm_dwv             -0.0750      0.176     -0.425      0.671      -0.421       0.271\n",
       "bicyclecount        -0.4096      0.184     -2.229      0.026      -0.770      -0.049\n",
       "carcount             0.0485      0.182      0.267      0.790      -0.307       0.404\n",
       "r_width_value       -2.0006      0.381     -5.256      0.000      -2.747      -1.255\n",
       "speedlimit_value    -0.4284      0.398     -1.075      0.282      -1.209       0.353\n",
       "z_qnr_1             15.0811      2.785      5.415      0.000       9.622      20.540\n",
       "z_qnr_2              8.6019      2.388      3.602      0.000       3.922      13.282\n",
       "z_qnr_3             11.2846      2.600      4.340      0.000       6.189      16.380\n",
       "z_qnr_4             13.1817      2.808      4.694      0.000       7.677      18.686\n",
       "z_qnr_5              9.5203      2.319      4.106      0.000       4.976      14.065\n",
       "z_qnr_6              9.4172      3.430      2.745      0.006       2.694      16.140\n",
       "z_qnr_7             14.4460      2.447      5.904      0.000       9.650      19.242\n",
       "z_qnr_8             12.5402      2.281      5.498      0.000       8.070      17.010\n",
       "z_qnr_9             11.5530      2.714      4.256      0.000       6.233      16.873\n",
       "z_qnr_10             1.5088      2.194      0.688      0.492      -2.792       5.810\n",
       "z_qnr_11             9.0239      2.163      4.172      0.000       4.785      13.263\n",
       "z_qnr_12             9.4622      2.205      4.291      0.000       5.140      13.784\n",
       "z_qnr_13             2.5204      2.298      1.097      0.273      -1.983       7.024\n",
       "z_qnr_14            10.4271      2.575      4.049      0.000       5.380      15.474\n",
       "z_qnr_15            12.4791      2.366      5.275      0.000       7.843      17.115\n",
       "z_qnr_16             8.2328      2.263      3.638      0.000       3.798      12.668\n",
       "z_qnr_17             5.2179      2.257      2.312      0.021       0.794       9.642\n",
       "z_qnr_18             6.2557      2.242      2.791      0.005       1.862      10.649\n",
       "z_qnr_19             3.9439      2.178      1.811      0.070      -0.326       8.213\n",
       "z_qnr_20             3.0491      2.190      1.392      0.164      -1.244       7.342\n",
       "z_qnr_21             7.4231      2.275      3.263      0.001       2.965      11.882\n",
       "z_qnr_22             3.2497      1.634      1.989      0.047       0.047       6.452\n",
       "z_qnr_23             3.3986      2.406      1.413      0.158      -1.317       8.114\n",
       "z_qnr_24             2.3215      1.619      1.434      0.152      -0.852       5.495\n",
       "z_qnr_25            -0.5382      1.644     -0.327      0.743      -3.761       2.684\n",
       "z_qnr_26             0.6254      1.930      0.324      0.746      -3.157       4.408\n",
       "z_qnr_27            -0.5463      1.887     -0.290      0.772      -4.245       3.152\n",
       "z_qnr_28             3.8340      1.892      2.026      0.043       0.125       7.543\n",
       "z_qnr_29             4.3339      2.158      2.008      0.045       0.104       8.564\n",
       "z_qnr_30            -3.5318     43.161     -0.082      0.935     -88.126      81.063\n",
       "z_qnr_31           -10.7525     58.723     -0.183      0.855    -125.848     104.343\n",
       "z_qnr_32            -2.4077      2.131     -1.130      0.259      -6.584       1.769\n",
       "z_knr_1            -15.3838      2.976     -5.169      0.000     -21.217      -9.550\n",
       "z_knr_2             -8.1436      2.552     -3.191      0.001     -13.145      -3.142\n",
       "z_knr_3            -12.9188      2.700     -4.785      0.000     -18.211      -7.627\n",
       "z_knr_4             -6.0721      2.422     -2.507      0.012     -10.818      -1.326\n",
       "z_knr_5             -3.8691      2.465     -1.569      0.117      -8.701       0.963\n",
       "z_knr_6            -13.1415      2.510     -5.236      0.000     -18.061      -8.223\n",
       "z_knr_7             -6.2703      2.445     -2.564      0.010     -11.063      -1.477\n",
       "z_knr_8             -9.9410      2.528     -3.932      0.000     -14.896      -4.986\n",
       "z_knr_9             -3.3227      2.448     -1.357      0.175      -8.121       1.476\n",
       "z_knr_10            -2.0210      1.849     -1.093      0.274      -5.645       1.602\n",
       "z_knr_11            -3.2914      1.831     -1.797      0.072      -6.881       0.298\n",
       "trafficarea_1       -2.5450      1.395     -1.824      0.068      -5.279       0.189\n",
       "trafficarea_2       -4.9058      1.490     -3.292      0.001      -7.826      -1.985\n",
       "r_width_1            2.2654      0.977      2.319      0.020       0.351       4.180\n",
       "r_width_2           -2.3964      1.289     -1.859      0.063      -4.923       0.131\n",
       "r_width_3            5.9440      1.450      4.098      0.000       3.101       8.787\n",
       "r_width_4            2.6952      1.003      2.688      0.007       0.730       4.660\n",
       "r_width_5            5.6020      1.313      4.265      0.000       3.028       8.176\n",
       "r_width_6            4.2541      1.321      3.221      0.001       1.665       6.843\n",
       "r_surface_1         17.2431    866.278      0.020      0.984   -1680.630    1715.116\n",
       "speedlimit_1         0.1447      0.778      0.186      0.852      -1.379       1.669\n",
       "speedlimit_3        -6.6834      1.901     -3.516      0.000     -10.409      -2.958\n",
       "speedlimit_4         5.6223      0.966      5.823      0.000       3.730       7.515\n",
       "speedlimit_5        -3.8843      2.807     -1.384      0.166      -9.386       1.618\n",
       "====================================================================================\n",
       "\n",
       "Possibly complete quasi-separation: A fraction 0.25 of observations can be\n",
       "perfectly predicted. This might indicate that there is complete\n",
       "quasi-separation. In this case some parameters will not be identified.\n",
       "\"\"\""
      ]
     },
     "execution_count": 295,
     "metadata": {},
     "output_type": "execute_result"
    }
   ],
   "source": [
    "\n",
    "# Without constant\n",
    "# m00_log = sm.Logit(y, x)\n",
    "# r00_log = m00_log.fit_regularized()\n",
    "# r00_log.summary()\n",
    "\n",
    "# Add constant\n",
    "x_const = tools.add_constant(x)\n",
    "m00_log = sm.Logit(y,x_const, max_iter = 400)\n",
    "r00_log = m00_log.fit_regularized()\n",
    "# r00_log = m00_log.fit()\n",
    "\n",
    "r00_log.summary()"
   ]
  },
  {
   "cell_type": "code",
   "execution_count": 445,
   "id": "771e8ca5-ca8f-4893-a35f-8f56f85ded1d",
   "metadata": {
    "execution": {
     "iopub.execute_input": "2024-10-11T17:26:19.625884Z",
     "iopub.status.busy": "2024-10-11T17:26:19.625426Z",
     "iopub.status.idle": "2024-10-11T17:26:19.634133Z",
     "shell.execute_reply": "2024-10-11T17:26:19.633491Z",
     "shell.execute_reply.started": "2024-10-11T17:26:19.625864Z"
    }
   },
   "outputs": [
    {
     "name": "stdout",
     "output_type": "stream",
     "text": [
      "43\n"
     ]
    },
    {
     "data": {
      "text/plain": [
       "cp               1.306684e-06\n",
       "cmean            1.724401e-06\n",
       "dbusl            5.724079e-03\n",
       "dtraml           1.319414e-02\n",
       "dtrainl          9.662951e-03\n",
       "dstopsign        1.880163e-02\n",
       "bicyclecount     2.580492e-02\n",
       "r_width_value    1.471926e-07\n",
       "z_qnr_1          6.134645e-08\n",
       "z_qnr_2          3.154278e-04\n",
       "z_qnr_3          1.422023e-05\n",
       "z_qnr_4          2.684121e-06\n",
       "z_qnr_5          4.024743e-05\n",
       "z_qnr_6          6.042362e-03\n",
       "z_qnr_7          3.558690e-09\n",
       "z_qnr_8          3.834405e-08\n",
       "z_qnr_9          2.080424e-05\n",
       "z_qnr_11         3.014489e-05\n",
       "z_qnr_12         1.779374e-05\n",
       "z_qnr_14         5.138375e-05\n",
       "z_qnr_15         1.324303e-07\n",
       "z_qnr_16         2.744584e-04\n",
       "z_qnr_17         2.078618e-02\n",
       "z_qnr_18         5.259348e-03\n",
       "z_qnr_21         1.101800e-03\n",
       "z_qnr_22         4.673398e-02\n",
       "z_qnr_28         4.275707e-02\n",
       "z_qnr_29         4.462313e-02\n",
       "z_knr_1          2.359744e-07\n",
       "z_knr_2          1.415487e-03\n",
       "z_knr_3          1.712315e-06\n",
       "z_knr_4          1.215942e-02\n",
       "z_knr_6          1.639060e-07\n",
       "z_knr_7          1.034414e-02\n",
       "z_knr_8          8.421317e-05\n",
       "trafficarea_2    9.934884e-04\n",
       "r_width_1        2.038409e-02\n",
       "r_width_3        4.159892e-05\n",
       "r_width_4        7.187136e-03\n",
       "r_width_5        1.999543e-05\n",
       "r_width_6        1.277445e-03\n",
       "speedlimit_3     4.379080e-04\n",
       "speedlimit_4     5.776128e-09\n",
       "dtype: float64"
      ]
     },
     "execution_count": 445,
     "metadata": {},
     "output_type": "execute_result"
    }
   ],
   "source": [
    "dfp = r00_log.pvalues\n",
    "print(dfp[dfp<=0.05].size)\n",
    "dfp[dfp<=0.05]"
   ]
  },
  {
   "cell_type": "code",
   "execution_count": 296,
   "id": "33965143-fc9a-43d6-a591-b4494b32a219",
   "metadata": {
    "execution": {
     "iopub.execute_input": "2024-10-11T16:20:10.718990Z",
     "iopub.status.busy": "2024-10-11T16:20:10.718162Z",
     "iopub.status.idle": "2024-10-11T16:20:10.874202Z",
     "shell.execute_reply": "2024-10-11T16:20:10.873529Z",
     "shell.execute_reply.started": "2024-10-11T16:20:10.718969Z"
    }
   },
   "outputs": [
    {
     "name": "stdout",
     "output_type": "stream",
     "text": [
      "0.9356025758969642\n",
      "\n",
      "Test accuracy : \n",
      " 0.9356025758969642\n",
      "\n",
      "Confusion Matrix : \n",
      " [[759  33]\n",
      " [ 37 258]]\n",
      "accuracy 0.9356025758969642\n",
      "precision [0.95351759 0.88659794]\n",
      "sensitivity recall [0.95833333 0.87457627]\n",
      "f1 score [0.9559194  0.88054608]\n",
      "mean precision 0.9200577630420141\n",
      "mean recall 0.9164548022598871\n",
      "mean f1 score 0.9182327352756596\n"
     ]
    },
    {
     "data": {
      "image/png": "[encoded data removed]",
      "text/plain": [
       "<Figure size 640x480 with 2 Axes>"
      ]
     },
     "metadata": {},
     "output_type": "display_data"
    }
   ],
   "source": [
    "pred00log = r00_log.predict(x_const)\n",
    "pred00log = list(map(round,pred00log))\n",
    "print(accuracy_score(y, pred00log))\n",
    "print('\\nTest accuracy : \\n', accuracy_score(y, pred00log))\n",
    "cm00log = confusion_matrix(y, pred00log) \n",
    "print ('\\nConfusion Matrix : \\n', cm00log)\n",
    "cm00log_display = metrics.ConfusionMatrixDisplay(confusion_matrix = cm00log)\n",
    "cm00log_display.plot()\n",
    "\n",
    "acc_log = metrics.accuracy_score(y, pred00log)\n",
    "print('accuracy', acc_log)\n",
    "\n",
    "pre_log = metrics.precision_score(y, pred00log, average = None)\n",
    "print('precision', pre_log)\n",
    "\n",
    "senrec_log = metrics.recall_score(y, pred00log, average = None)\n",
    "print('sensitivity recall', senrec_log)\n",
    "\n",
    "f1_log = metrics.f1_score(y, pred00log, average = None)\n",
    "print('f1 score', f1_log)\n",
    "\n",
    "pre_log_m = np.mean(pre_log)\n",
    "senrec_log_m = np.mean(senrec_log)\n",
    "f1_log_m = np.mean(f1_log)\n",
    "print('mean precision', pre_log_m)\n",
    "print('mean recall', senrec_log_m)\n",
    "print('mean f1 score', f1_log_m)"
   ]
  },
  {
   "cell_type": "markdown",
   "id": "9123b4a7-8a63-4606-8a16-ed36a71cb18e",
   "metadata": {},
   "source": [
    "### With data splitting"
   ]
  },
  {
   "cell_type": "code",
   "execution_count": 297,
   "id": "5daa4124-d5f5-4623-8fcb-b7a914737620",
   "metadata": {
    "execution": {
     "iopub.execute_input": "2024-10-11T16:20:34.199780Z",
     "iopub.status.busy": "2024-10-11T16:20:34.198378Z",
     "iopub.status.idle": "2024-10-11T16:20:37.104381Z",
     "shell.execute_reply": "2024-10-11T16:20:37.103708Z",
     "shell.execute_reply.started": "2024-10-11T16:20:34.199714Z"
    },
    "scrolled": true
   },
   "outputs": [
    {
     "name": "stderr",
     "output_type": "stream",
     "text": [
      "/opt/conda/lib/python3.11/site-packages/statsmodels/base/model.py:130: ValueWarning: unknown kwargs ['max_iter']\n",
      "  warnings.warn(msg, ValueWarning)\n"
     ]
    },
    {
     "name": "stdout",
     "output_type": "stream",
     "text": [
      "Optimization terminated successfully    (Exit mode 0)\n",
      "            Current function value: 0.15988695168482886\n",
      "            Iterations: 548\n",
      "            Function evaluations: 548\n",
      "            Gradient evaluations: 548\n"
     ]
    },
    {
     "name": "stderr",
     "output_type": "stream",
     "text": [
      "/opt/conda/lib/python3.11/site-packages/statsmodels/base/model.py:130: ValueWarning: unknown kwargs ['max_iter']\n",
      "  warnings.warn(msg, ValueWarning)\n"
     ]
    },
    {
     "data": {
      "text/html": [
       "<table class=\"simpletable\">\n",
       "<caption>Logit Regression Results</caption>\n",
       "<tr>\n",
       "  <th>Dep. Variable:</th>          <td>acp</td>       <th>  No. Observations:  </th>  <td>   760</td>  \n",
       "</tr>\n",
       "<tr>\n",
       "  <th>Model:</th>                 <td>Logit</td>      <th>  Df Residuals:      </th>  <td>   679</td>  \n",
       "</tr>\n",
       "<tr>\n",
       "  <th>Method:</th>                 <td>MLE</td>       <th>  Df Model:          </th>  <td>    80</td>  \n",
       "</tr>\n",
       "<tr>\n",
       "  <th>Date:</th>            <td>Fri, 11 Oct 2024</td> <th>  Pseudo R-squ.:     </th>  <td>0.7226</td>  \n",
       "</tr>\n",
       "<tr>\n",
       "  <th>Time:</th>                <td>18:20:37</td>     <th>  Log-Likelihood:    </th> <td> -121.51</td> \n",
       "</tr>\n",
       "<tr>\n",
       "  <th>converged:</th>             <td>True</td>       <th>  LL-Null:           </th> <td> -438.01</td> \n",
       "</tr>\n",
       "<tr>\n",
       "  <th>Covariance Type:</th>     <td>nonrobust</td>    <th>  LLR p-value:       </th> <td>6.423e-87</td>\n",
       "</tr>\n",
       "</table>\n",
       "<table class=\"simpletable\">\n",
       "<tr>\n",
       "          <td></td>            <th>coef</th>     <th>std err</th>      <th>z</th>      <th>P>|z|</th>  <th>[0.025</th>    <th>0.975]</th>  \n",
       "</tr>\n",
       "<tr>\n",
       "  <th>const</th>            <td>  -17.9650</td> <td>  773.111</td> <td>   -0.023</td> <td> 0.981</td> <td>-1533.234</td> <td> 1497.304</td>\n",
       "</tr>\n",
       "<tr>\n",
       "  <th>cp</th>               <td>   -5.7572</td> <td>    1.277</td> <td>   -4.507</td> <td> 0.000</td> <td>   -8.261</td> <td>   -3.254</td>\n",
       "</tr>\n",
       "<tr>\n",
       "  <th>cmean</th>            <td>    2.6839</td> <td>    0.628</td> <td>    4.274</td> <td> 0.000</td> <td>    1.453</td> <td>    3.914</td>\n",
       "</tr>\n",
       "<tr>\n",
       "  <th>cmin</th>             <td>   -0.3349</td> <td>    0.220</td> <td>   -1.522</td> <td> 0.128</td> <td>   -0.766</td> <td>    0.096</td>\n",
       "</tr>\n",
       "<tr>\n",
       "  <th>ie</th>               <td>   -0.2747</td> <td>    0.214</td> <td>   -1.282</td> <td> 0.200</td> <td>   -0.695</td> <td>    0.145</td>\n",
       "</tr>\n",
       "<tr>\n",
       "  <th>mew</th>              <td>   -0.0947</td> <td>    0.236</td> <td>   -0.402</td> <td> 0.688</td> <td>   -0.557</td> <td>    0.367</td>\n",
       "</tr>\n",
       "<tr>\n",
       "  <th>meg</th>              <td>    0.3430</td> <td>    0.313</td> <td>    1.095</td> <td> 0.274</td> <td>   -0.271</td> <td>    0.957</td>\n",
       "</tr>\n",
       "<tr>\n",
       "  <th>megmax</th>           <td>    0.1001</td> <td>    0.294</td> <td>    0.341</td> <td> 0.733</td> <td>   -0.475</td> <td>    0.676</td>\n",
       "</tr>\n",
       "<tr>\n",
       "  <th>dbusl</th>            <td>   -0.5549</td> <td>    0.282</td> <td>   -1.968</td> <td> 0.049</td> <td>   -1.107</td> <td>   -0.002</td>\n",
       "</tr>\n",
       "<tr>\n",
       "  <th>dtraml</th>           <td>    0.7985</td> <td>    0.317</td> <td>    2.522</td> <td> 0.012</td> <td>    0.178</td> <td>    1.419</td>\n",
       "</tr>\n",
       "<tr>\n",
       "  <th>dtrainl</th>          <td>    0.4939</td> <td>    0.252</td> <td>    1.957</td> <td> 0.050</td> <td>   -0.001</td> <td>    0.989</td>\n",
       "</tr>\n",
       "<tr>\n",
       "  <th>dplight</th>          <td>    0.0102</td> <td>    0.217</td> <td>    0.047</td> <td> 0.963</td> <td>   -0.416</td> <td>    0.436</td>\n",
       "</tr>\n",
       "<tr>\n",
       "  <th>dstation</th>         <td>    0.2867</td> <td>    0.271</td> <td>    1.059</td> <td> 0.290</td> <td>   -0.244</td> <td>    0.817</td>\n",
       "</tr>\n",
       "<tr>\n",
       "  <th>dparkcar</th>         <td>   -0.1153</td> <td>    0.239</td> <td>   -0.483</td> <td> 0.629</td> <td>   -0.583</td> <td>    0.352</td>\n",
       "</tr>\n",
       "<tr>\n",
       "  <th>dparktw</th>          <td>   -0.3535</td> <td>    0.253</td> <td>   -1.395</td> <td> 0.163</td> <td>   -0.850</td> <td>    0.143</td>\n",
       "</tr>\n",
       "<tr>\n",
       "  <th>dpedcro</th>          <td>   -0.1186</td> <td>    0.220</td> <td>   -0.539</td> <td> 0.590</td> <td>   -0.550</td> <td>    0.313</td>\n",
       "</tr>\n",
       "<tr>\n",
       "  <th>dstopsign</th>        <td>    0.8459</td> <td>    0.292</td> <td>    2.899</td> <td> 0.004</td> <td>    0.274</td> <td>    1.418</td>\n",
       "</tr>\n",
       "<tr>\n",
       "  <th>dtrafficarea</th>     <td>    0.3274</td> <td>    0.272</td> <td>    1.203</td> <td> 0.229</td> <td>   -0.206</td> <td>    0.861</td>\n",
       "</tr>\n",
       "<tr>\n",
       "  <th>droad</th>            <td>   -0.2035</td> <td>    0.244</td> <td>   -0.833</td> <td> 0.405</td> <td>   -0.683</td> <td>    0.276</td>\n",
       "</tr>\n",
       "<tr>\n",
       "  <th>dvfpath</th>          <td>   -0.5648</td> <td>    0.247</td> <td>   -2.291</td> <td> 0.022</td> <td>   -1.048</td> <td>   -0.082</td>\n",
       "</tr>\n",
       "<tr>\n",
       "  <th>gvm_dwv</th>          <td>   -0.0621</td> <td>    0.238</td> <td>   -0.261</td> <td> 0.794</td> <td>   -0.529</td> <td>    0.404</td>\n",
       "</tr>\n",
       "<tr>\n",
       "  <th>bicyclecount</th>     <td>   -0.3242</td> <td>    0.233</td> <td>   -1.390</td> <td> 0.164</td> <td>   -0.781</td> <td>    0.133</td>\n",
       "</tr>\n",
       "<tr>\n",
       "  <th>carcount</th>         <td>   -0.0880</td> <td>    0.225</td> <td>   -0.391</td> <td> 0.696</td> <td>   -0.529</td> <td>    0.353</td>\n",
       "</tr>\n",
       "<tr>\n",
       "  <th>r_width_value</th>    <td>   -1.9907</td> <td>    0.462</td> <td>   -4.305</td> <td> 0.000</td> <td>   -2.897</td> <td>   -1.084</td>\n",
       "</tr>\n",
       "<tr>\n",
       "  <th>speedlimit_value</th> <td>   -1.2392</td> <td>    0.592</td> <td>   -2.094</td> <td> 0.036</td> <td>   -2.399</td> <td>   -0.079</td>\n",
       "</tr>\n",
       "<tr>\n",
       "  <th>z_qnr_1</th>          <td>   15.3531</td> <td>    3.681</td> <td>    4.171</td> <td> 0.000</td> <td>    8.139</td> <td>   22.567</td>\n",
       "</tr>\n",
       "<tr>\n",
       "  <th>z_qnr_2</th>          <td>    9.5628</td> <td>    3.036</td> <td>    3.150</td> <td> 0.002</td> <td>    3.612</td> <td>   15.514</td>\n",
       "</tr>\n",
       "<tr>\n",
       "  <th>z_qnr_3</th>          <td>   11.7589</td> <td>    3.339</td> <td>    3.522</td> <td> 0.000</td> <td>    5.214</td> <td>   18.303</td>\n",
       "</tr>\n",
       "<tr>\n",
       "  <th>z_qnr_4</th>          <td>   13.2440</td> <td>    3.745</td> <td>    3.537</td> <td> 0.000</td> <td>    5.904</td> <td>   20.584</td>\n",
       "</tr>\n",
       "<tr>\n",
       "  <th>z_qnr_5</th>          <td>    9.6519</td> <td>    2.873</td> <td>    3.360</td> <td> 0.001</td> <td>    4.022</td> <td>   15.282</td>\n",
       "</tr>\n",
       "<tr>\n",
       "  <th>z_qnr_6</th>          <td>    9.0239</td> <td>    3.816</td> <td>    2.365</td> <td> 0.018</td> <td>    1.544</td> <td>   16.504</td>\n",
       "</tr>\n",
       "<tr>\n",
       "  <th>z_qnr_7</th>          <td>   16.2820</td> <td>    3.236</td> <td>    5.031</td> <td> 0.000</td> <td>    9.939</td> <td>   22.625</td>\n",
       "</tr>\n",
       "<tr>\n",
       "  <th>z_qnr_8</th>          <td>   12.6471</td> <td>    2.809</td> <td>    4.502</td> <td> 0.000</td> <td>    7.141</td> <td>   18.153</td>\n",
       "</tr>\n",
       "<tr>\n",
       "  <th>z_qnr_9</th>          <td>   11.4812</td> <td>    3.341</td> <td>    3.437</td> <td> 0.001</td> <td>    4.933</td> <td>   18.029</td>\n",
       "</tr>\n",
       "<tr>\n",
       "  <th>z_qnr_10</th>         <td>    2.2430</td> <td>    2.752</td> <td>    0.815</td> <td> 0.415</td> <td>   -3.152</td> <td>    7.638</td>\n",
       "</tr>\n",
       "<tr>\n",
       "  <th>z_qnr_11</th>         <td>    9.6213</td> <td>    2.689</td> <td>    3.578</td> <td> 0.000</td> <td>    4.351</td> <td>   14.892</td>\n",
       "</tr>\n",
       "<tr>\n",
       "  <th>z_qnr_12</th>         <td>    9.5960</td> <td>    2.831</td> <td>    3.390</td> <td> 0.001</td> <td>    4.048</td> <td>   15.144</td>\n",
       "</tr>\n",
       "<tr>\n",
       "  <th>z_qnr_13</th>         <td>    3.0361</td> <td>    2.836</td> <td>    1.071</td> <td> 0.284</td> <td>   -2.521</td> <td>    8.594</td>\n",
       "</tr>\n",
       "<tr>\n",
       "  <th>z_qnr_14</th>         <td>   11.8110</td> <td>    3.471</td> <td>    3.403</td> <td> 0.001</td> <td>    5.008</td> <td>   18.614</td>\n",
       "</tr>\n",
       "<tr>\n",
       "  <th>z_qnr_15</th>         <td>   13.1688</td> <td>    3.044</td> <td>    4.327</td> <td> 0.000</td> <td>    7.203</td> <td>   19.134</td>\n",
       "</tr>\n",
       "<tr>\n",
       "  <th>z_qnr_16</th>         <td>    9.5913</td> <td>    2.862</td> <td>    3.352</td> <td> 0.001</td> <td>    3.983</td> <td>   15.200</td>\n",
       "</tr>\n",
       "<tr>\n",
       "  <th>z_qnr_17</th>         <td>    6.1077</td> <td>    2.813</td> <td>    2.171</td> <td> 0.030</td> <td>    0.594</td> <td>   11.622</td>\n",
       "</tr>\n",
       "<tr>\n",
       "  <th>z_qnr_18</th>         <td>    7.4343</td> <td>    2.877</td> <td>    2.584</td> <td> 0.010</td> <td>    1.796</td> <td>   13.073</td>\n",
       "</tr>\n",
       "<tr>\n",
       "  <th>z_qnr_19</th>         <td>    4.1053</td> <td>    2.757</td> <td>    1.489</td> <td> 0.137</td> <td>   -1.299</td> <td>    9.510</td>\n",
       "</tr>\n",
       "<tr>\n",
       "  <th>z_qnr_20</th>         <td>    3.2644</td> <td>    2.740</td> <td>    1.191</td> <td> 0.234</td> <td>   -2.106</td> <td>    8.635</td>\n",
       "</tr>\n",
       "<tr>\n",
       "  <th>z_qnr_21</th>         <td>    8.5814</td> <td>    2.906</td> <td>    2.953</td> <td> 0.003</td> <td>    2.885</td> <td>   14.278</td>\n",
       "</tr>\n",
       "<tr>\n",
       "  <th>z_qnr_22</th>         <td>    3.8258</td> <td>    1.840</td> <td>    2.080</td> <td> 0.038</td> <td>    0.220</td> <td>    7.431</td>\n",
       "</tr>\n",
       "<tr>\n",
       "  <th>z_qnr_23</th>         <td>    3.9203</td> <td>    2.919</td> <td>    1.343</td> <td> 0.179</td> <td>   -1.801</td> <td>    9.641</td>\n",
       "</tr>\n",
       "<tr>\n",
       "  <th>z_qnr_24</th>         <td>    1.0898</td> <td>    1.826</td> <td>    0.597</td> <td> 0.551</td> <td>   -2.489</td> <td>    4.669</td>\n",
       "</tr>\n",
       "<tr>\n",
       "  <th>z_qnr_25</th>         <td>   -0.7215</td> <td>    1.760</td> <td>   -0.410</td> <td> 0.682</td> <td>   -4.172</td> <td>    2.729</td>\n",
       "</tr>\n",
       "<tr>\n",
       "  <th>z_qnr_26</th>         <td>    1.6439</td> <td>    2.123</td> <td>    0.774</td> <td> 0.439</td> <td>   -2.517</td> <td>    5.804</td>\n",
       "</tr>\n",
       "<tr>\n",
       "  <th>z_qnr_27</th>         <td>   -3.7746</td> <td>    3.397</td> <td>   -1.111</td> <td> 0.267</td> <td>  -10.433</td> <td>    2.884</td>\n",
       "</tr>\n",
       "<tr>\n",
       "  <th>z_qnr_28</th>         <td>    3.5450</td> <td>    2.241</td> <td>    1.582</td> <td> 0.114</td> <td>   -0.846</td> <td>    7.936</td>\n",
       "</tr>\n",
       "<tr>\n",
       "  <th>z_qnr_29</th>         <td>    3.8254</td> <td>    2.304</td> <td>    1.660</td> <td> 0.097</td> <td>   -0.691</td> <td>    8.342</td>\n",
       "</tr>\n",
       "<tr>\n",
       "  <th>z_qnr_30</th>         <td>   -2.8915</td> <td>   50.841</td> <td>   -0.057</td> <td> 0.955</td> <td> -102.538</td> <td>   96.755</td>\n",
       "</tr>\n",
       "<tr>\n",
       "  <th>z_qnr_31</th>         <td>  -12.3528</td> <td>  175.228</td> <td>   -0.070</td> <td> 0.944</td> <td> -355.794</td> <td>  331.089</td>\n",
       "</tr>\n",
       "<tr>\n",
       "  <th>z_qnr_32</th>         <td>   -0.2744</td> <td>    2.006</td> <td>   -0.137</td> <td> 0.891</td> <td>   -4.206</td> <td>    3.657</td>\n",
       "</tr>\n",
       "<tr>\n",
       "  <th>z_knr_1</th>          <td>  -14.3163</td> <td>    3.623</td> <td>   -3.951</td> <td> 0.000</td> <td>  -21.418</td> <td>   -7.215</td>\n",
       "</tr>\n",
       "<tr>\n",
       "  <th>z_knr_2</th>          <td>   -8.1294</td> <td>    3.069</td> <td>   -2.649</td> <td> 0.008</td> <td>  -14.145</td> <td>   -2.114</td>\n",
       "</tr>\n",
       "<tr>\n",
       "  <th>z_knr_3</th>          <td>  -12.2277</td> <td>    3.332</td> <td>   -3.670</td> <td> 0.000</td> <td>  -18.758</td> <td>   -5.697</td>\n",
       "</tr>\n",
       "<tr>\n",
       "  <th>z_knr_4</th>          <td>   -4.8578</td> <td>    2.863</td> <td>   -1.697</td> <td> 0.090</td> <td>  -10.468</td> <td>    0.753</td>\n",
       "</tr>\n",
       "<tr>\n",
       "  <th>z_knr_5</th>          <td>   -3.6326</td> <td>    2.955</td> <td>   -1.229</td> <td> 0.219</td> <td>   -9.424</td> <td>    2.159</td>\n",
       "</tr>\n",
       "<tr>\n",
       "  <th>z_knr_6</th>          <td>  -13.7667</td> <td>    3.039</td> <td>   -4.530</td> <td> 0.000</td> <td>  -19.723</td> <td>   -7.810</td>\n",
       "</tr>\n",
       "<tr>\n",
       "  <th>z_knr_7</th>          <td>   -6.1789</td> <td>    2.913</td> <td>   -2.121</td> <td> 0.034</td> <td>  -11.888</td> <td>   -0.470</td>\n",
       "</tr>\n",
       "<tr>\n",
       "  <th>z_knr_8</th>          <td>   -9.9561</td> <td>    3.101</td> <td>   -3.211</td> <td> 0.001</td> <td>  -16.033</td> <td>   -3.879</td>\n",
       "</tr>\n",
       "<tr>\n",
       "  <th>z_knr_9</th>          <td>   -2.6799</td> <td>    2.932</td> <td>   -0.914</td> <td> 0.361</td> <td>   -8.426</td> <td>    3.067</td>\n",
       "</tr>\n",
       "<tr>\n",
       "  <th>z_knr_10</th>         <td>   -0.5112</td> <td>    1.931</td> <td>   -0.265</td> <td> 0.791</td> <td>   -4.295</td> <td>    3.273</td>\n",
       "</tr>\n",
       "<tr>\n",
       "  <th>z_knr_11</th>         <td>   -1.4198</td> <td>    1.888</td> <td>   -0.752</td> <td> 0.452</td> <td>   -5.121</td> <td>    2.281</td>\n",
       "</tr>\n",
       "<tr>\n",
       "  <th>trafficarea_1</th>    <td>   -2.6246</td> <td>    1.866</td> <td>   -1.407</td> <td> 0.160</td> <td>   -6.282</td> <td>    1.032</td>\n",
       "</tr>\n",
       "<tr>\n",
       "  <th>trafficarea_2</th>    <td>   -5.8162</td> <td>    1.984</td> <td>   -2.931</td> <td> 0.003</td> <td>   -9.706</td> <td>   -1.927</td>\n",
       "</tr>\n",
       "<tr>\n",
       "  <th>r_width_1</th>        <td>    2.0925</td> <td>    1.227</td> <td>    1.705</td> <td> 0.088</td> <td>   -0.312</td> <td>    4.497</td>\n",
       "</tr>\n",
       "<tr>\n",
       "  <th>r_width_2</th>        <td>   -2.7628</td> <td>    1.649</td> <td>   -1.676</td> <td> 0.094</td> <td>   -5.994</td> <td>    0.468</td>\n",
       "</tr>\n",
       "<tr>\n",
       "  <th>r_width_3</th>        <td>    6.0661</td> <td>    1.884</td> <td>    3.220</td> <td> 0.001</td> <td>    2.373</td> <td>    9.759</td>\n",
       "</tr>\n",
       "<tr>\n",
       "  <th>r_width_4</th>        <td>    2.6686</td> <td>    1.284</td> <td>    2.078</td> <td> 0.038</td> <td>    0.151</td> <td>    5.186</td>\n",
       "</tr>\n",
       "<tr>\n",
       "  <th>r_width_5</th>        <td>    5.7505</td> <td>    1.656</td> <td>    3.472</td> <td> 0.001</td> <td>    2.505</td> <td>    8.996</td>\n",
       "</tr>\n",
       "<tr>\n",
       "  <th>r_width_6</th>        <td>    3.8909</td> <td>    1.638</td> <td>    2.375</td> <td> 0.018</td> <td>    0.680</td> <td>    7.102</td>\n",
       "</tr>\n",
       "<tr>\n",
       "  <th>r_surface_1</th>      <td>   16.6119</td> <td>  773.104</td> <td>    0.021</td> <td> 0.983</td> <td>-1498.644</td> <td> 1531.868</td>\n",
       "</tr>\n",
       "<tr>\n",
       "  <th>speedlimit_1</th>     <td>    1.2106</td> <td>    1.102</td> <td>    1.099</td> <td> 0.272</td> <td>   -0.949</td> <td>    3.370</td>\n",
       "</tr>\n",
       "<tr>\n",
       "  <th>speedlimit_3</th>     <td>   -3.1126</td> <td>    2.105</td> <td>   -1.479</td> <td> 0.139</td> <td>   -7.238</td> <td>    1.013</td>\n",
       "</tr>\n",
       "<tr>\n",
       "  <th>speedlimit_4</th>     <td>    7.3437</td> <td>    1.478</td> <td>    4.967</td> <td> 0.000</td> <td>    4.446</td> <td>   10.241</td>\n",
       "</tr>\n",
       "<tr>\n",
       "  <th>speedlimit_5</th>     <td>   -1.7262</td> <td>    3.168</td> <td>   -0.545</td> <td> 0.586</td> <td>   -7.935</td> <td>    4.482</td>\n",
       "</tr>\n",
       "</table><br/><br/>Possibly complete quasi-separation: A fraction 0.22 of observations can be<br/>perfectly predicted. This might indicate that there is complete<br/>quasi-separation. In this case some parameters will not be identified."
      ],
      "text/latex": [
       "\\begin{center}\n",
       "\\begin{tabular}{lclc}\n",
       "\\toprule\n",
       "\\textbf{Dep. Variable:}    &       acp        & \\textbf{  No. Observations:  } &      760    \\\\\n",
       "\\textbf{Model:}            &      Logit       & \\textbf{  Df Residuals:      } &      679    \\\\\n",
       "\\textbf{Method:}           &       MLE        & \\textbf{  Df Model:          } &       80    \\\\\n",
       "\\textbf{Date:}             & Fri, 11 Oct 2024 & \\textbf{  Pseudo R-squ.:     } &   0.7226    \\\\\n",
       "\\textbf{Time:}             &     18:20:37     & \\textbf{  Log-Likelihood:    } &   -121.51   \\\\\n",
       "\\textbf{converged:}        &       True       & \\textbf{  LL-Null:           } &   -438.01   \\\\\n",
       "\\textbf{Covariance Type:}  &    nonrobust     & \\textbf{  LLR p-value:       } & 6.423e-87   \\\\\n",
       "\\bottomrule\n",
       "\\end{tabular}\n",
       "\\begin{tabular}{lcccccc}\n",
       "                           & \\textbf{coef} & \\textbf{std err} & \\textbf{z} & \\textbf{P$> |$z$|$} & \\textbf{[0.025} & \\textbf{0.975]}  \\\\\n",
       "\\midrule\n",
       "\\textbf{const}             &     -17.9650  &      773.111     &    -0.023  &         0.981        &    -1533.234    &     1497.304     \\\\\n",
       "\\textbf{cp}                &      -5.7572  &        1.277     &    -4.507  &         0.000        &       -8.261    &       -3.254     \\\\\n",
       "\\textbf{cmean}             &       2.6839  &        0.628     &     4.274  &         0.000        &        1.453    &        3.914     \\\\\n",
       "\\textbf{cmin}              &      -0.3349  &        0.220     &    -1.522  &         0.128        &       -0.766    &        0.096     \\\\\n",
       "\\textbf{ie}                &      -0.2747  &        0.214     &    -1.282  &         0.200        &       -0.695    &        0.145     \\\\\n",
       "\\textbf{mew}               &      -0.0947  &        0.236     &    -0.402  &         0.688        &       -0.557    &        0.367     \\\\\n",
       "\\textbf{meg}               &       0.3430  &        0.313     &     1.095  &         0.274        &       -0.271    &        0.957     \\\\\n",
       "\\textbf{megmax}            &       0.1001  &        0.294     &     0.341  &         0.733        &       -0.475    &        0.676     \\\\\n",
       "\\textbf{dbusl}             &      -0.5549  &        0.282     &    -1.968  &         0.049        &       -1.107    &       -0.002     \\\\\n",
       "\\textbf{dtraml}            &       0.7985  &        0.317     &     2.522  &         0.012        &        0.178    &        1.419     \\\\\n",
       "\\textbf{dtrainl}           &       0.4939  &        0.252     &     1.957  &         0.050        &       -0.001    &        0.989     \\\\\n",
       "\\textbf{dplight}           &       0.0102  &        0.217     &     0.047  &         0.963        &       -0.416    &        0.436     \\\\\n",
       "\\textbf{dstation}          &       0.2867  &        0.271     &     1.059  &         0.290        &       -0.244    &        0.817     \\\\\n",
       "\\textbf{dparkcar}          &      -0.1153  &        0.239     &    -0.483  &         0.629        &       -0.583    &        0.352     \\\\\n",
       "\\textbf{dparktw}           &      -0.3535  &        0.253     &    -1.395  &         0.163        &       -0.850    &        0.143     \\\\\n",
       "\\textbf{dpedcro}           &      -0.1186  &        0.220     &    -0.539  &         0.590        &       -0.550    &        0.313     \\\\\n",
       "\\textbf{dstopsign}         &       0.8459  &        0.292     &     2.899  &         0.004        &        0.274    &        1.418     \\\\\n",
       "\\textbf{dtrafficarea}      &       0.3274  &        0.272     &     1.203  &         0.229        &       -0.206    &        0.861     \\\\\n",
       "\\textbf{droad}             &      -0.2035  &        0.244     &    -0.833  &         0.405        &       -0.683    &        0.276     \\\\\n",
       "\\textbf{dvfpath}           &      -0.5648  &        0.247     &    -2.291  &         0.022        &       -1.048    &       -0.082     \\\\\n",
       "\\textbf{gvm\\_dwv}          &      -0.0621  &        0.238     &    -0.261  &         0.794        &       -0.529    &        0.404     \\\\\n",
       "\\textbf{bicyclecount}      &      -0.3242  &        0.233     &    -1.390  &         0.164        &       -0.781    &        0.133     \\\\\n",
       "\\textbf{carcount}          &      -0.0880  &        0.225     &    -0.391  &         0.696        &       -0.529    &        0.353     \\\\\n",
       "\\textbf{r\\_width\\_value}   &      -1.9907  &        0.462     &    -4.305  &         0.000        &       -2.897    &       -1.084     \\\\\n",
       "\\textbf{speedlimit\\_value} &      -1.2392  &        0.592     &    -2.094  &         0.036        &       -2.399    &       -0.079     \\\\\n",
       "\\textbf{z\\_qnr\\_1}         &      15.3531  &        3.681     &     4.171  &         0.000        &        8.139    &       22.567     \\\\\n",
       "\\textbf{z\\_qnr\\_2}         &       9.5628  &        3.036     &     3.150  &         0.002        &        3.612    &       15.514     \\\\\n",
       "\\textbf{z\\_qnr\\_3}         &      11.7589  &        3.339     &     3.522  &         0.000        &        5.214    &       18.303     \\\\\n",
       "\\textbf{z\\_qnr\\_4}         &      13.2440  &        3.745     &     3.537  &         0.000        &        5.904    &       20.584     \\\\\n",
       "\\textbf{z\\_qnr\\_5}         &       9.6519  &        2.873     &     3.360  &         0.001        &        4.022    &       15.282     \\\\\n",
       "\\textbf{z\\_qnr\\_6}         &       9.0239  &        3.816     &     2.365  &         0.018        &        1.544    &       16.504     \\\\\n",
       "\\textbf{z\\_qnr\\_7}         &      16.2820  &        3.236     &     5.031  &         0.000        &        9.939    &       22.625     \\\\\n",
       "\\textbf{z\\_qnr\\_8}         &      12.6471  &        2.809     &     4.502  &         0.000        &        7.141    &       18.153     \\\\\n",
       "\\textbf{z\\_qnr\\_9}         &      11.4812  &        3.341     &     3.437  &         0.001        &        4.933    &       18.029     \\\\\n",
       "\\textbf{z\\_qnr\\_10}        &       2.2430  &        2.752     &     0.815  &         0.415        &       -3.152    &        7.638     \\\\\n",
       "\\textbf{z\\_qnr\\_11}        &       9.6213  &        2.689     &     3.578  &         0.000        &        4.351    &       14.892     \\\\\n",
       "\\textbf{z\\_qnr\\_12}        &       9.5960  &        2.831     &     3.390  &         0.001        &        4.048    &       15.144     \\\\\n",
       "\\textbf{z\\_qnr\\_13}        &       3.0361  &        2.836     &     1.071  &         0.284        &       -2.521    &        8.594     \\\\\n",
       "\\textbf{z\\_qnr\\_14}        &      11.8110  &        3.471     &     3.403  &         0.001        &        5.008    &       18.614     \\\\\n",
       "\\textbf{z\\_qnr\\_15}        &      13.1688  &        3.044     &     4.327  &         0.000        &        7.203    &       19.134     \\\\\n",
       "\\textbf{z\\_qnr\\_16}        &       9.5913  &        2.862     &     3.352  &         0.001        &        3.983    &       15.200     \\\\\n",
       "\\textbf{z\\_qnr\\_17}        &       6.1077  &        2.813     &     2.171  &         0.030        &        0.594    &       11.622     \\\\\n",
       "\\textbf{z\\_qnr\\_18}        &       7.4343  &        2.877     &     2.584  &         0.010        &        1.796    &       13.073     \\\\\n",
       "\\textbf{z\\_qnr\\_19}        &       4.1053  &        2.757     &     1.489  &         0.137        &       -1.299    &        9.510     \\\\\n",
       "\\textbf{z\\_qnr\\_20}        &       3.2644  &        2.740     &     1.191  &         0.234        &       -2.106    &        8.635     \\\\\n",
       "\\textbf{z\\_qnr\\_21}        &       8.5814  &        2.906     &     2.953  &         0.003        &        2.885    &       14.278     \\\\\n",
       "\\textbf{z\\_qnr\\_22}        &       3.8258  &        1.840     &     2.080  &         0.038        &        0.220    &        7.431     \\\\\n",
       "\\textbf{z\\_qnr\\_23}        &       3.9203  &        2.919     &     1.343  &         0.179        &       -1.801    &        9.641     \\\\\n",
       "\\textbf{z\\_qnr\\_24}        &       1.0898  &        1.826     &     0.597  &         0.551        &       -2.489    &        4.669     \\\\\n",
       "\\textbf{z\\_qnr\\_25}        &      -0.7215  &        1.760     &    -0.410  &         0.682        &       -4.172    &        2.729     \\\\\n",
       "\\textbf{z\\_qnr\\_26}        &       1.6439  &        2.123     &     0.774  &         0.439        &       -2.517    &        5.804     \\\\\n",
       "\\textbf{z\\_qnr\\_27}        &      -3.7746  &        3.397     &    -1.111  &         0.267        &      -10.433    &        2.884     \\\\\n",
       "\\textbf{z\\_qnr\\_28}        &       3.5450  &        2.241     &     1.582  &         0.114        &       -0.846    &        7.936     \\\\\n",
       "\\textbf{z\\_qnr\\_29}        &       3.8254  &        2.304     &     1.660  &         0.097        &       -0.691    &        8.342     \\\\\n",
       "\\textbf{z\\_qnr\\_30}        &      -2.8915  &       50.841     &    -0.057  &         0.955        &     -102.538    &       96.755     \\\\\n",
       "\\textbf{z\\_qnr\\_31}        &     -12.3528  &      175.228     &    -0.070  &         0.944        &     -355.794    &      331.089     \\\\\n",
       "\\textbf{z\\_qnr\\_32}        &      -0.2744  &        2.006     &    -0.137  &         0.891        &       -4.206    &        3.657     \\\\\n",
       "\\textbf{z\\_knr\\_1}         &     -14.3163  &        3.623     &    -3.951  &         0.000        &      -21.418    &       -7.215     \\\\\n",
       "\\textbf{z\\_knr\\_2}         &      -8.1294  &        3.069     &    -2.649  &         0.008        &      -14.145    &       -2.114     \\\\\n",
       "\\textbf{z\\_knr\\_3}         &     -12.2277  &        3.332     &    -3.670  &         0.000        &      -18.758    &       -5.697     \\\\\n",
       "\\textbf{z\\_knr\\_4}         &      -4.8578  &        2.863     &    -1.697  &         0.090        &      -10.468    &        0.753     \\\\\n",
       "\\textbf{z\\_knr\\_5}         &      -3.6326  &        2.955     &    -1.229  &         0.219        &       -9.424    &        2.159     \\\\\n",
       "\\textbf{z\\_knr\\_6}         &     -13.7667  &        3.039     &    -4.530  &         0.000        &      -19.723    &       -7.810     \\\\\n",
       "\\textbf{z\\_knr\\_7}         &      -6.1789  &        2.913     &    -2.121  &         0.034        &      -11.888    &       -0.470     \\\\\n",
       "\\textbf{z\\_knr\\_8}         &      -9.9561  &        3.101     &    -3.211  &         0.001        &      -16.033    &       -3.879     \\\\\n",
       "\\textbf{z\\_knr\\_9}         &      -2.6799  &        2.932     &    -0.914  &         0.361        &       -8.426    &        3.067     \\\\\n",
       "\\textbf{z\\_knr\\_10}        &      -0.5112  &        1.931     &    -0.265  &         0.791        &       -4.295    &        3.273     \\\\\n",
       "\\textbf{z\\_knr\\_11}        &      -1.4198  &        1.888     &    -0.752  &         0.452        &       -5.121    &        2.281     \\\\\n",
       "\\textbf{trafficarea\\_1}    &      -2.6246  &        1.866     &    -1.407  &         0.160        &       -6.282    &        1.032     \\\\\n",
       "\\textbf{trafficarea\\_2}    &      -5.8162  &        1.984     &    -2.931  &         0.003        &       -9.706    &       -1.927     \\\\\n",
       "\\textbf{r\\_width\\_1}       &       2.0925  &        1.227     &     1.705  &         0.088        &       -0.312    &        4.497     \\\\\n",
       "\\textbf{r\\_width\\_2}       &      -2.7628  &        1.649     &    -1.676  &         0.094        &       -5.994    &        0.468     \\\\\n",
       "\\textbf{r\\_width\\_3}       &       6.0661  &        1.884     &     3.220  &         0.001        &        2.373    &        9.759     \\\\\n",
       "\\textbf{r\\_width\\_4}       &       2.6686  &        1.284     &     2.078  &         0.038        &        0.151    &        5.186     \\\\\n",
       "\\textbf{r\\_width\\_5}       &       5.7505  &        1.656     &     3.472  &         0.001        &        2.505    &        8.996     \\\\\n",
       "\\textbf{r\\_width\\_6}       &       3.8909  &        1.638     &     2.375  &         0.018        &        0.680    &        7.102     \\\\\n",
       "\\textbf{r\\_surface\\_1}     &      16.6119  &      773.104     &     0.021  &         0.983        &    -1498.644    &     1531.868     \\\\\n",
       "\\textbf{speedlimit\\_1}     &       1.2106  &        1.102     &     1.099  &         0.272        &       -0.949    &        3.370     \\\\\n",
       "\\textbf{speedlimit\\_3}     &      -3.1126  &        2.105     &    -1.479  &         0.139        &       -7.238    &        1.013     \\\\\n",
       "\\textbf{speedlimit\\_4}     &       7.3437  &        1.478     &     4.967  &         0.000        &        4.446    &       10.241     \\\\\n",
       "\\textbf{speedlimit\\_5}     &      -1.7262  &        3.168     &    -0.545  &         0.586        &       -7.935    &        4.482     \\\\\n",
       "\\bottomrule\n",
       "\\end{tabular}\n",
       "%\\caption{Logit Regression Results}\n",
       "\\end{center}\n",
       "\n",
       "Possibly complete quasi-separation: A fraction 0.22 of observations can be \\newline\n",
       " perfectly predicted. This might indicate that there is complete \\newline\n",
       " quasi-separation. In this case some parameters will not be identified."
      ],
      "text/plain": [
       "<class 'statsmodels.iolib.summary.Summary'>\n",
       "\"\"\"\n",
       "                           Logit Regression Results                           \n",
       "==============================================================================\n",
       "Dep. Variable:                    acp   No. Observations:                  760\n",
       "Model:                          Logit   Df Residuals:                      679\n",
       "Method:                           MLE   Df Model:                           80\n",
       "Date:                Fri, 11 Oct 2024   Pseudo R-squ.:                  0.7226\n",
       "Time:                        18:20:37   Log-Likelihood:                -121.51\n",
       "converged:                       True   LL-Null:                       -438.01\n",
       "Covariance Type:            nonrobust   LLR p-value:                 6.423e-87\n",
       "====================================================================================\n",
       "                       coef    std err          z      P>|z|      [0.025      0.975]\n",
       "------------------------------------------------------------------------------------\n",
       "const              -17.9650    773.111     -0.023      0.981   -1533.234    1497.304\n",
       "cp                  -5.7572      1.277     -4.507      0.000      -8.261      -3.254\n",
       "cmean                2.6839      0.628      4.274      0.000       1.453       3.914\n",
       "cmin                -0.3349      0.220     -1.522      0.128      -0.766       0.096\n",
       "ie                  -0.2747      0.214     -1.282      0.200      -0.695       0.145\n",
       "mew                 -0.0947      0.236     -0.402      0.688      -0.557       0.367\n",
       "meg                  0.3430      0.313      1.095      0.274      -0.271       0.957\n",
       "megmax               0.1001      0.294      0.341      0.733      -0.475       0.676\n",
       "dbusl               -0.5549      0.282     -1.968      0.049      -1.107      -0.002\n",
       "dtraml               0.7985      0.317      2.522      0.012       0.178       1.419\n",
       "dtrainl              0.4939      0.252      1.957      0.050      -0.001       0.989\n",
       "dplight              0.0102      0.217      0.047      0.963      -0.416       0.436\n",
       "dstation             0.2867      0.271      1.059      0.290      -0.244       0.817\n",
       "dparkcar            -0.1153      0.239     -0.483      0.629      -0.583       0.352\n",
       "dparktw             -0.3535      0.253     -1.395      0.163      -0.850       0.143\n",
       "dpedcro             -0.1186      0.220     -0.539      0.590      -0.550       0.313\n",
       "dstopsign            0.8459      0.292      2.899      0.004       0.274       1.418\n",
       "dtrafficarea         0.3274      0.272      1.203      0.229      -0.206       0.861\n",
       "droad               -0.2035      0.244     -0.833      0.405      -0.683       0.276\n",
       "dvfpath             -0.5648      0.247     -2.291      0.022      -1.048      -0.082\n",
       "gvm_dwv             -0.0621      0.238     -0.261      0.794      -0.529       0.404\n",
       "bicyclecount        -0.3242      0.233     -1.390      0.164      -0.781       0.133\n",
       "carcount            -0.0880      0.225     -0.391      0.696      -0.529       0.353\n",
       "r_width_value       -1.9907      0.462     -4.305      0.000      -2.897      -1.084\n",
       "speedlimit_value    -1.2392      0.592     -2.094      0.036      -2.399      -0.079\n",
       "z_qnr_1             15.3531      3.681      4.171      0.000       8.139      22.567\n",
       "z_qnr_2              9.5628      3.036      3.150      0.002       3.612      15.514\n",
       "z_qnr_3             11.7589      3.339      3.522      0.000       5.214      18.303\n",
       "z_qnr_4             13.2440      3.745      3.537      0.000       5.904      20.584\n",
       "z_qnr_5              9.6519      2.873      3.360      0.001       4.022      15.282\n",
       "z_qnr_6              9.0239      3.816      2.365      0.018       1.544      16.504\n",
       "z_qnr_7             16.2820      3.236      5.031      0.000       9.939      22.625\n",
       "z_qnr_8             12.6471      2.809      4.502      0.000       7.141      18.153\n",
       "z_qnr_9             11.4812      3.341      3.437      0.001       4.933      18.029\n",
       "z_qnr_10             2.2430      2.752      0.815      0.415      -3.152       7.638\n",
       "z_qnr_11             9.6213      2.689      3.578      0.000       4.351      14.892\n",
       "z_qnr_12             9.5960      2.831      3.390      0.001       4.048      15.144\n",
       "z_qnr_13             3.0361      2.836      1.071      0.284      -2.521       8.594\n",
       "z_qnr_14            11.8110      3.471      3.403      0.001       5.008      18.614\n",
       "z_qnr_15            13.1688      3.044      4.327      0.000       7.203      19.134\n",
       "z_qnr_16             9.5913      2.862      3.352      0.001       3.983      15.200\n",
       "z_qnr_17             6.1077      2.813      2.171      0.030       0.594      11.622\n",
       "z_qnr_18             7.4343      2.877      2.584      0.010       1.796      13.073\n",
       "z_qnr_19             4.1053      2.757      1.489      0.137      -1.299       9.510\n",
       "z_qnr_20             3.2644      2.740      1.191      0.234      -2.106       8.635\n",
       "z_qnr_21             8.5814      2.906      2.953      0.003       2.885      14.278\n",
       "z_qnr_22             3.8258      1.840      2.080      0.038       0.220       7.431\n",
       "z_qnr_23             3.9203      2.919      1.343      0.179      -1.801       9.641\n",
       "z_qnr_24             1.0898      1.826      0.597      0.551      -2.489       4.669\n",
       "z_qnr_25            -0.7215      1.760     -0.410      0.682      -4.172       2.729\n",
       "z_qnr_26             1.6439      2.123      0.774      0.439      -2.517       5.804\n",
       "z_qnr_27            -3.7746      3.397     -1.111      0.267     -10.433       2.884\n",
       "z_qnr_28             3.5450      2.241      1.582      0.114      -0.846       7.936\n",
       "z_qnr_29             3.8254      2.304      1.660      0.097      -0.691       8.342\n",
       "z_qnr_30            -2.8915     50.841     -0.057      0.955    -102.538      96.755\n",
       "z_qnr_31           -12.3528    175.228     -0.070      0.944    -355.794     331.089\n",
       "z_qnr_32            -0.2744      2.006     -0.137      0.891      -4.206       3.657\n",
       "z_knr_1            -14.3163      3.623     -3.951      0.000     -21.418      -7.215\n",
       "z_knr_2             -8.1294      3.069     -2.649      0.008     -14.145      -2.114\n",
       "z_knr_3            -12.2277      3.332     -3.670      0.000     -18.758      -5.697\n",
       "z_knr_4             -4.8578      2.863     -1.697      0.090     -10.468       0.753\n",
       "z_knr_5             -3.6326      2.955     -1.229      0.219      -9.424       2.159\n",
       "z_knr_6            -13.7667      3.039     -4.530      0.000     -19.723      -7.810\n",
       "z_knr_7             -6.1789      2.913     -2.121      0.034     -11.888      -0.470\n",
       "z_knr_8             -9.9561      3.101     -3.211      0.001     -16.033      -3.879\n",
       "z_knr_9             -2.6799      2.932     -0.914      0.361      -8.426       3.067\n",
       "z_knr_10            -0.5112      1.931     -0.265      0.791      -4.295       3.273\n",
       "z_knr_11            -1.4198      1.888     -0.752      0.452      -5.121       2.281\n",
       "trafficarea_1       -2.6246      1.866     -1.407      0.160      -6.282       1.032\n",
       "trafficarea_2       -5.8162      1.984     -2.931      0.003      -9.706      -1.927\n",
       "r_width_1            2.0925      1.227      1.705      0.088      -0.312       4.497\n",
       "r_width_2           -2.7628      1.649     -1.676      0.094      -5.994       0.468\n",
       "r_width_3            6.0661      1.884      3.220      0.001       2.373       9.759\n",
       "r_width_4            2.6686      1.284      2.078      0.038       0.151       5.186\n",
       "r_width_5            5.7505      1.656      3.472      0.001       2.505       8.996\n",
       "r_width_6            3.8909      1.638      2.375      0.018       0.680       7.102\n",
       "r_surface_1         16.6119    773.104      0.021      0.983   -1498.644    1531.868\n",
       "speedlimit_1         1.2106      1.102      1.099      0.272      -0.949       3.370\n",
       "speedlimit_3        -3.1126      2.105     -1.479      0.139      -7.238       1.013\n",
       "speedlimit_4         7.3437      1.478      4.967      0.000       4.446      10.241\n",
       "speedlimit_5        -1.7262      3.168     -0.545      0.586      -7.935       4.482\n",
       "====================================================================================\n",
       "\n",
       "Possibly complete quasi-separation: A fraction 0.22 of observations can be\n",
       "perfectly predicted. This might indicate that there is complete\n",
       "quasi-separation. In this case some parameters will not be identified.\n",
       "\"\"\""
      ]
     },
     "execution_count": 297,
     "metadata": {},
     "output_type": "execute_result"
    }
   ],
   "source": [
    "\n",
    "X_train1, X_test1, y_train1, y_test1 = train_test_split(\n",
    "        x_const, y,\n",
    "        test_size=0.3,\n",
    "        random_state=6)\n",
    "m00_log_split = sm.Logit(y_train1,X_train1, max_iter = 400)\n",
    "r00_log_split = m00_log_split.fit_regularized()\n",
    "r00_log_split.summary()"
   ]
  },
  {
   "cell_type": "code",
   "execution_count": 446,
   "id": "5f22614a-91c8-47f9-b66d-87f84a056790",
   "metadata": {
    "execution": {
     "iopub.execute_input": "2024-10-11T17:27:21.166602Z",
     "iopub.status.busy": "2024-10-11T17:27:21.166144Z",
     "iopub.status.idle": "2024-10-11T17:27:21.175237Z",
     "shell.execute_reply": "2024-10-11T17:27:21.174445Z",
     "shell.execute_reply.started": "2024-10-11T17:27:21.166581Z"
    }
   },
   "outputs": [
    {
     "name": "stdout",
     "output_type": "stream",
     "text": [
      "38\n"
     ]
    },
    {
     "data": {
      "text/plain": [
       "cp                  6.561541e-06\n",
       "cmean               1.916094e-05\n",
       "dbusl               4.904345e-02\n",
       "dtraml              1.165641e-02\n",
       "dstopsign           3.744380e-03\n",
       "dvfpath             2.193859e-02\n",
       "r_width_value       1.672213e-05\n",
       "speedlimit_value    3.627035e-02\n",
       "z_qnr_1             3.027563e-05\n",
       "z_qnr_2             1.634997e-03\n",
       "z_qnr_3             4.288914e-04\n",
       "z_qnr_4             4.052321e-04\n",
       "z_qnr_5             7.795429e-04\n",
       "z_qnr_6             1.805351e-02\n",
       "z_qnr_7             4.878186e-07\n",
       "z_qnr_8             6.729533e-06\n",
       "z_qnr_9             5.891388e-04\n",
       "z_qnr_11            3.463589e-04\n",
       "z_qnr_12            6.994597e-04\n",
       "z_qnr_14            6.666060e-04\n",
       "z_qnr_15            1.513492e-05\n",
       "z_qnr_16            8.032517e-04\n",
       "z_qnr_17            2.992691e-02\n",
       "z_qnr_18            9.761518e-03\n",
       "z_qnr_21            3.151493e-03\n",
       "z_qnr_22            3.755522e-02\n",
       "z_knr_1             7.774384e-05\n",
       "z_knr_2             8.084036e-03\n",
       "z_knr_3             2.428342e-04\n",
       "z_knr_6             5.896053e-06\n",
       "z_knr_7             3.389919e-02\n",
       "z_knr_8             1.322289e-03\n",
       "trafficarea_2       3.380287e-03\n",
       "r_width_3           1.283072e-03\n",
       "r_width_4           3.774338e-02\n",
       "r_width_5           5.157135e-04\n",
       "r_width_6           1.755773e-02\n",
       "speedlimit_4        6.793652e-07\n",
       "dtype: float64"
      ]
     },
     "execution_count": 446,
     "metadata": {},
     "output_type": "execute_result"
    }
   ],
   "source": [
    "dfp = r00_log_split.pvalues\n",
    "print(dfp[dfp<=0.05].size)\n",
    "dfp[dfp<=0.05]"
   ]
  },
  {
   "cell_type": "code",
   "execution_count": 299,
   "id": "3805abdf-feee-4089-9fb4-99c8b012212f",
   "metadata": {
    "execution": {
     "iopub.execute_input": "2024-10-11T16:20:37.483974Z",
     "iopub.status.busy": "2024-10-11T16:20:37.483359Z",
     "iopub.status.idle": "2024-10-11T16:20:37.641302Z",
     "shell.execute_reply": "2024-10-11T16:20:37.640687Z",
     "shell.execute_reply.started": "2024-10-11T16:20:37.483951Z"
    }
   },
   "outputs": [
    {
     "name": "stdout",
     "output_type": "stream",
     "text": [
      "0.9357798165137615\n",
      "\n",
      "Test accuracy : \n",
      " 0.9357798165137615\n",
      "\n",
      "Confusion Matrix : \n",
      " [[222  10]\n",
      " [ 11  84]]\n",
      "accuracy 0.9357798165137615\n",
      "precision [0.9527897  0.89361702]\n",
      "sensitivity recall [0.95689655 0.88421053]\n",
      "f1 score [0.95483871 0.88888889]\n",
      "mean precision 0.9232033604237055\n",
      "mean recall 0.9205535390199637\n",
      "mean f1 score 0.9218637992831541\n"
     ]
    },
    {
     "data": {
      "image/png": "[encoded data removed]",
      "text/plain": [
       "<Figure size 640x480 with 2 Axes>"
      ]
     },
     "metadata": {},
     "output_type": "display_data"
    }
   ],
   "source": [
    "pred00log_split = r00_log.predict(X_test1)\n",
    "pred00log_split = list(map(round,pred00log_split))\n",
    "print(accuracy_score(y_test1, pred00log_split))\n",
    "print('\\nTest accuracy : \\n', accuracy_score(y_test1, pred00log_split))\n",
    "cm00log_split = confusion_matrix(y_test1, pred00log_split) \n",
    "print ('\\nConfusion Matrix : \\n', cm00log_split)\n",
    "cm00log_split_display = metrics.ConfusionMatrixDisplay(confusion_matrix = cm00log_split)\n",
    "cm00log_split_display.plot()\n",
    "\n",
    "acc_log_split = metrics.accuracy_score(y_test1, pred00log_split)\n",
    "print('accuracy', acc_log_split)\n",
    "\n",
    "pre_log_split = metrics.precision_score(y_test1, pred00log_split, average = None)\n",
    "print('precision', pre_log_split)\n",
    "\n",
    "senrec_log_split = metrics.recall_score(y_test1, pred00log_split, average = None)\n",
    "print('sensitivity recall', senrec_log_split)\n",
    "\n",
    "f1_log_split = metrics.f1_score(y_test1, pred00log_split, average = None)\n",
    "print('f1 score', f1_log_split)\n",
    "\n",
    "pre_log_split_m = np.mean(pre_log_split)\n",
    "senrec_log_split_m = np.mean(senrec_log_split)\n",
    "f1_log_split_m = np.mean(f1_log_split)\n",
    "print('mean precision', pre_log_split_m)\n",
    "print('mean recall', senrec_log_split_m)\n",
    "print('mean f1 score', f1_log_split_m)"
   ]
  },
  {
   "cell_type": "markdown",
   "id": "128882ea-f6d9-4b7f-859a-71387313f4e0",
   "metadata": {},
   "source": [
    "# Step wise feature selection"
   ]
  },
  {
   "cell_type": "code",
   "execution_count": 50,
   "id": "e995a9c3",
   "metadata": {
    "execution": {
     "iopub.execute_input": "2024-10-11T14:00:21.415061Z",
     "iopub.status.busy": "2024-10-11T14:00:21.414244Z",
     "iopub.status.idle": "2024-10-11T14:00:21.418472Z",
     "shell.execute_reply": "2024-10-11T14:00:21.417878Z",
     "shell.execute_reply.started": "2024-10-11T14:00:21.414999Z"
    }
   },
   "outputs": [],
   "source": [
    "# Check sklearn metrics name for feature selection\n",
    "# sklearn.metrics.get_scorer_names()"
   ]
  },
  {
   "cell_type": "markdown",
   "id": "9e07aaa1-688d-4e10-935b-76a1a8966f6b",
   "metadata": {},
   "source": [
    "## Ordinary Least Squares Regression model"
   ]
  },
  {
   "cell_type": "markdown",
   "id": "8f695bb3-dd7f-414d-95af-2cc2fef57c9a",
   "metadata": {
    "jp-MarkdownHeadingCollapsed": true
   },
   "source": [
    "### Sequential forward floating selection"
   ]
  },
  {
   "cell_type": "code",
   "execution_count": 118,
   "id": "47c29049-28d8-42d3-8885-a6c1c6e8c6cc",
   "metadata": {
    "execution": {
     "iopub.execute_input": "2024-08-27T12:15:35.502438Z",
     "iopub.status.busy": "2024-08-27T12:15:35.501466Z",
     "iopub.status.idle": "2024-08-27T12:15:35.507270Z",
     "shell.execute_reply": "2024-08-27T12:15:35.506497Z",
     "shell.execute_reply.started": "2024-08-27T12:15:35.502410Z"
    },
    "scrolled": true
   },
   "outputs": [],
   "source": [
    "# Find the best size\n",
    "\n",
    "# Scoring = neg_mean_squared_error\n",
    "# sfs = SequentialFeatureSelector(linear_model.LinearRegression(),\n",
    "#                                 k_features='best',\n",
    "#                                 forward=True,\n",
    "#                                 floating=True,\n",
    "#                                 verbose = 2,\n",
    "#                                 scoring='neg_mean_squared_error',\n",
    "#                                 cv=25,\n",
    "#                                 n_jobs = -1\n",
    "#                                )\n",
    "# selected_features8 = sfs.fit(x, y)\n",
    "\n",
    "# Scoring = r2\n",
    "# sfs = SequentialFeatureSelector(linear_model.LinearRegression(),\n",
    "#                                 k_features='best',\n",
    "#                                 forward=True,\n",
    "#                                 floating=True,\n",
    "#                                 verbose = 1,\n",
    "#                                 scoring='r2',\n",
    "#                                 cv=20,\n",
    "#                                 n_jobs = -1\n",
    "#                                )\n",
    "# selected_features10 = sfs.fit(x, y)\n",
    "\n",
    "# # # Scoring = median absolute error\n",
    "# sfs = SequentialFeatureSelector(linear_model.LinearRegression(),\n",
    "#                                 k_features='best',\n",
    "#                                 forward=True,\n",
    "#                                 floating=True,\n",
    "#                                 verbose = 1,\n",
    "#                                 scoring='neg_median_absolute_error',\n",
    "#                                 cv=20,\n",
    "#                                 n_jobs = -1\n",
    "#                                )\n",
    "# selected_features13 = sfs.fit(x, y)\n",
    "\n",
    "# # Scoring = mean absolute error\n",
    "# sfs = SequentialFeatureSelector(linear_model.LinearRegression(),\n",
    "#                                 k_features='best',\n",
    "#                                 forward=True,\n",
    "#                                 floating=True,\n",
    "#                                 verbose = 1,\n",
    "#                                 scoring='neg_mean_absolute_error',\n",
    "#                                 cv=20,\n",
    "#                                 n_jobs = -1\n",
    "#                                )\n",
    "# selected_features16 = sfs.fit(x, y)\n"
   ]
  },
  {
   "cell_type": "code",
   "execution_count": 112,
   "id": "b7b7d96a-1b38-41b4-bf2a-b99991852105",
   "metadata": {
    "execution": {
     "iopub.execute_input": "2024-09-20T15:37:25.241503Z",
     "iopub.status.busy": "2024-09-20T15:37:25.240546Z",
     "iopub.status.idle": "2024-09-20T15:38:18.919952Z",
     "shell.execute_reply": "2024-09-20T15:38:18.919150Z",
     "shell.execute_reply.started": "2024-09-20T15:37:25.241472Z"
    }
   },
   "outputs": [
    {
     "name": "stdout",
     "output_type": "stream",
     "text": [
      "('dtrafficarea', 'droad', 'z_qnr_10', 'z_qnr_30', 'z_qnr_31', 'z_knr_8', 'trafficarea_2', 'r_width_4', 'r_width_5', 'r_width_6', 'r_surface_1', 'speedlimit_3', 'speedlimit_4', 'speedlimit_5')\n",
      "14\n",
      "-0.1468143631396745\n"
     ]
    }
   ],
   "source": [
    "# # n = best, linear regression, scoring = neg_mean_squared_error, cv = 5\n",
    "sffslin0 = featureselection_lin(True, 'neg_mean_squared_error', 5, x, y) \n",
    "print(sffslin0.k_feature_names_)\n",
    "print(len(sffslin0.k_feature_names_))\n",
    "print(sffslin0.k_score_)\n"
   ]
  },
  {
   "cell_type": "code",
   "execution_count": 113,
   "id": "7717119b-51d8-4973-a3d4-b0f438d59d6d",
   "metadata": {
    "execution": {
     "iopub.execute_input": "2024-09-20T15:40:22.684952Z",
     "iopub.status.busy": "2024-09-20T15:40:22.684440Z",
     "iopub.status.idle": "2024-09-20T15:41:13.028489Z",
     "shell.execute_reply": "2024-09-20T15:41:13.027780Z",
     "shell.execute_reply.started": "2024-09-20T15:40:22.684923Z"
    }
   },
   "outputs": [
    {
     "name": "stdout",
     "output_type": "stream",
     "text": [
      "('dvfpath', 'r_width_value', 'z_qnr_10', 'z_qnr_23', 'z_qnr_26', 'z_knr_4', 'z_knr_9', 'trafficarea_2', 'r_width_1', 'r_width_2', 'r_width_3', 'r_width_4', 'r_width_5', 'r_width_6', 'r_surface_1', 'speedlimit_1', 'speedlimit_3', 'speedlimit_4', 'speedlimit_5')\n",
      "19\n",
      "-0.12106485422671336\n"
     ]
    }
   ],
   "source": [
    "# # n = best, linear regression, scoring = neg_mean_squared_error, cv = 10\n",
    "sffslin1 = featureselection_lin(True, 'neg_mean_squared_error', 10, x, y) \n",
    "print(sffslin1.k_feature_names_)\n",
    "print(len(sffslin1.k_feature_names_))\n",
    "print(sffslin1.k_score_)\n"
   ]
  },
  {
   "cell_type": "code",
   "execution_count": 114,
   "id": "88db8602-533d-4912-8cee-7c215a85923b",
   "metadata": {
    "execution": {
     "iopub.execute_input": "2024-09-20T15:41:21.019068Z",
     "iopub.status.busy": "2024-09-20T15:41:21.018622Z",
     "iopub.status.idle": "2024-09-20T15:41:21.022660Z",
     "shell.execute_reply": "2024-09-20T15:41:21.021938Z",
     "shell.execute_reply.started": "2024-09-20T15:41:21.019048Z"
    }
   },
   "outputs": [],
   "source": [
    "# # # n = best, linear regression, scoring = neg_mean_squared_error, cv = 15\n",
    "# print(selected_features6.k_feature_names_)\n",
    "# print(len(selected_features6.k_feature_names_))\n",
    "# print(selected_features6.k_score_)\n",
    "# # 34"
   ]
  },
  {
   "cell_type": "code",
   "execution_count": 115,
   "id": "0af8f11f-99be-43f5-8010-0be0cad875ac",
   "metadata": {
    "execution": {
     "iopub.execute_input": "2024-09-20T15:41:21.932140Z",
     "iopub.status.busy": "2024-09-20T15:41:21.931722Z",
     "iopub.status.idle": "2024-09-20T15:41:21.936545Z",
     "shell.execute_reply": "2024-09-20T15:41:21.935071Z",
     "shell.execute_reply.started": "2024-09-20T15:41:21.932120Z"
    }
   },
   "outputs": [],
   "source": [
    "# # # n = best, linear regression, scoring = neg_mean_squared_error, cv = 20\n",
    "# print(selected_features7.k_feature_names_)\n",
    "# print(len(selected_features7.k_feature_names_))\n",
    "# print(selected_features7.k_score_)\n",
    "# 37"
   ]
  },
  {
   "cell_type": "code",
   "execution_count": 117,
   "id": "ce242bce-b9b8-4849-ab1c-938d39fb36d3",
   "metadata": {
    "execution": {
     "iopub.execute_input": "2024-09-20T15:41:56.183296Z",
     "iopub.status.busy": "2024-09-20T15:41:56.182605Z",
     "iopub.status.idle": "2024-09-20T15:42:41.250473Z",
     "shell.execute_reply": "2024-09-20T15:42:41.249792Z",
     "shell.execute_reply.started": "2024-09-20T15:41:56.183271Z"
    }
   },
   "outputs": [
    {
     "name": "stdout",
     "output_type": "stream",
     "text": [
      "('ie', 'mew', 'cmin', 'dstopsign', 'dvfpath', 'r_width_value', 'speedlimit_value', 'z_qnr_3', 'z_qnr_10', 'z_qnr_11', 'z_qnr_13', 'z_qnr_14', 'z_qnr_23', 'z_knr_5', 'z_knr_6', 'z_knr_7', 'z_knr_9', 'r_width_1', 'r_width_3', 'r_width_4', 'r_width_5', 'r_width_6', 'r_surface_1', 'speedlimit_1', 'speedlimit_4')\n",
      "25\n",
      "0.09083514182795516\n"
     ]
    }
   ],
   "source": [
    "# # n = best, linear regression, scoring = r2, cv = 5\n",
    "sffslin2 = featureselection_lin(True, 'r2', 5, x, y) \n",
    "print(sffslin2.k_feature_names_)\n",
    "print(len(sffslin2.k_feature_names_))\n",
    "print(sffslin2.k_score_)"
   ]
  },
  {
   "cell_type": "code",
   "execution_count": 131,
   "id": "fa7612cf-e8b3-49e4-abcc-0bc257beec93",
   "metadata": {
    "execution": {
     "iopub.execute_input": "2024-09-20T15:47:46.432099Z",
     "iopub.status.busy": "2024-09-20T15:47:46.431126Z",
     "iopub.status.idle": "2024-09-20T15:48:47.184191Z",
     "shell.execute_reply": "2024-09-20T15:48:47.183580Z",
     "shell.execute_reply.started": "2024-09-20T15:47:46.432080Z"
    }
   },
   "outputs": [
    {
     "name": "stdout",
     "output_type": "stream",
     "text": [
      "('cp', 'ie', 'mew', 'megmax', 'dparktw', 'dpedcro', 'dstopsign', 'droad', 'r_width_value', 'speedlimit_value', 'z_qnr_2', 'z_qnr_3', 'z_qnr_4', 'z_qnr_6', 'z_qnr_9', 'z_qnr_10', 'z_qnr_12', 'z_qnr_13', 'z_qnr_14', 'z_qnr_15', 'z_qnr_16', 'z_qnr_18', 'z_qnr_23', 'z_qnr_25', 'z_qnr_27', 'z_qnr_30', 'z_qnr_31', 'z_qnr_32', 'z_knr_1', 'z_knr_2', 'z_knr_6', 'z_knr_7', 'z_knr_8', 'z_knr_11', 'r_width_1', 'r_width_3', 'r_width_4', 'r_width_5', 'r_width_6', 'r_surface_1', 'speedlimit_1', 'speedlimit_4', 'speedlimit_5')\n",
      "43\n",
      "-0.003116770937851121\n"
     ]
    }
   ],
   "source": [
    "# n = best, linear regression, scoring = r2, cv = 10\n",
    "sffslin3 = featureselection_lin(True, 'r2', 10, x, y) \n",
    "print(sffslin3.k_feature_names_)\n",
    "print(len(sffslin3.k_feature_names_))\n",
    "print(sffslin3.k_score_)"
   ]
  },
  {
   "cell_type": "code",
   "execution_count": 118,
   "id": "70516ca0-3694-4562-9425-d90231b30065",
   "metadata": {
    "execution": {
     "iopub.execute_input": "2024-09-20T15:42:41.252158Z",
     "iopub.status.busy": "2024-09-20T15:42:41.251977Z",
     "iopub.status.idle": "2024-09-20T15:42:41.255311Z",
     "shell.execute_reply": "2024-09-20T15:42:41.254805Z",
     "shell.execute_reply.started": "2024-09-20T15:42:41.252143Z"
    }
   },
   "outputs": [],
   "source": [
    "# # # n = best, linear regression, scoring = r2, cv = 15\n",
    "# print(selected_features9.k_feature_names_)\n",
    "# print(len(selected_features9.k_feature_names_))\n",
    "# print(selected_features9.k_score_)\n",
    "# # 59"
   ]
  },
  {
   "cell_type": "code",
   "execution_count": 119,
   "id": "3f8d5b7f-134e-494d-82cb-1b7bf8020abd",
   "metadata": {
    "execution": {
     "iopub.execute_input": "2024-09-20T15:42:41.256004Z",
     "iopub.status.busy": "2024-09-20T15:42:41.255865Z",
     "iopub.status.idle": "2024-09-20T15:42:41.266994Z",
     "shell.execute_reply": "2024-09-20T15:42:41.266464Z",
     "shell.execute_reply.started": "2024-09-20T15:42:41.255991Z"
    }
   },
   "outputs": [],
   "source": [
    "# # # n = best, linear regression, scoring = r2, cv = 20\n",
    "# print(selected_features10.k_feature_names_)\n",
    "# print(len(selected_features10.k_feature_names_))\n",
    "# print(selected_features10.k_score_)\n",
    "# # 73"
   ]
  },
  {
   "cell_type": "code",
   "execution_count": 120,
   "id": "e03c0b1f-c624-49c0-8783-5e30b9c2e46f",
   "metadata": {
    "execution": {
     "iopub.execute_input": "2024-09-20T15:43:04.832379Z",
     "iopub.status.busy": "2024-09-20T15:43:04.830776Z",
     "iopub.status.idle": "2024-09-20T15:43:58.561744Z",
     "shell.execute_reply": "2024-09-20T15:43:58.561033Z",
     "shell.execute_reply.started": "2024-09-20T15:43:04.832357Z"
    }
   },
   "outputs": [
    {
     "name": "stdout",
     "output_type": "stream",
     "text": [
      "('z_qnr_7', 'trafficarea_2', 'r_width_4', 'speedlimit_1', 'speedlimit_4')\n",
      "5\n",
      "-0.18490933143765312\n"
     ]
    }
   ],
   "source": [
    "# # # n = best, linear regression, scoring = neg median absolute error, cv = 5\n",
    "sffslin4 = featureselection_lin(True, 'neg_median_absolute_error', 5, x, y) \n",
    "print(sffslin4.k_feature_names_)\n",
    "print(len(sffslin4.k_feature_names_))\n",
    "print(sffslin4.k_score_)"
   ]
  },
  {
   "cell_type": "code",
   "execution_count": 133,
   "id": "70bfd1b1-267e-4c77-8197-768721021845",
   "metadata": {
    "execution": {
     "iopub.execute_input": "2024-09-20T15:49:05.450295Z",
     "iopub.status.busy": "2024-09-20T15:49:05.450037Z",
     "iopub.status.idle": "2024-09-20T15:50:54.902982Z",
     "shell.execute_reply": "2024-09-20T15:50:54.902206Z",
     "shell.execute_reply.started": "2024-09-20T15:49:05.450278Z"
    }
   },
   "outputs": [
    {
     "name": "stdout",
     "output_type": "stream",
     "text": [
      "('r_width_value', 'speedlimit_value', 'z_qnr_20', 'z_qnr_22', 'z_qnr_26', 'trafficarea_2', 'r_width_3', 'r_width_4', 'r_width_5', 'r_width_6', 'r_surface_1', 'speedlimit_4')\n",
      "12\n",
      "-0.13157577362107836\n"
     ]
    }
   ],
   "source": [
    "# # # n = best, linear regression, scoring = neg median absolute error, cv = 10\n",
    "sffslin5 = featureselection_lin(True, 'neg_median_absolute_error', 10, x, y) \n",
    "print(sffslin5.k_feature_names_)\n",
    "print(len(sffslin5.k_feature_names_))\n",
    "print(sffslin5.k_score_)"
   ]
  },
  {
   "cell_type": "code",
   "execution_count": 121,
   "id": "9eef5e5f-dea7-46ba-91fb-0706028a604b",
   "metadata": {
    "execution": {
     "iopub.execute_input": "2024-09-20T15:43:58.563083Z",
     "iopub.status.busy": "2024-09-20T15:43:58.562917Z",
     "iopub.status.idle": "2024-09-20T15:43:58.565675Z",
     "shell.execute_reply": "2024-09-20T15:43:58.565075Z",
     "shell.execute_reply.started": "2024-09-20T15:43:58.563068Z"
    }
   },
   "outputs": [],
   "source": [
    "# # # n = best, linear regression, scoring = neg median absolute error, cv = 15\n",
    "# print(selected_features12.k_feature_names_)\n",
    "# print(len(selected_features12.k_feature_names_))\n",
    "# print(selected_features12.k_score_)\n",
    "# 21"
   ]
  },
  {
   "cell_type": "code",
   "execution_count": 122,
   "id": "48e725d7-8fb6-4909-9b6b-46db5356a235",
   "metadata": {
    "execution": {
     "iopub.execute_input": "2024-09-20T15:43:58.566613Z",
     "iopub.status.busy": "2024-09-20T15:43:58.566469Z",
     "iopub.status.idle": "2024-09-20T15:43:58.576171Z",
     "shell.execute_reply": "2024-09-20T15:43:58.575615Z",
     "shell.execute_reply.started": "2024-09-20T15:43:58.566601Z"
    }
   },
   "outputs": [],
   "source": [
    "# # n = best, linear regression, scoring = neg median absolute error, cv = 20\n",
    "# print(selected_features13.k_feature_names_)\n",
    "# print(len(selected_features13.k_feature_names_))\n",
    "# print(selected_features13.k_score_)\n",
    "# # 11"
   ]
  },
  {
   "cell_type": "code",
   "execution_count": 125,
   "id": "3c4446c6-6797-42f7-b2f9-78eac7c93c66",
   "metadata": {
    "execution": {
     "iopub.execute_input": "2024-09-20T15:45:44.486796Z",
     "iopub.status.busy": "2024-09-20T15:45:44.486475Z",
     "iopub.status.idle": "2024-09-20T15:46:21.572811Z",
     "shell.execute_reply": "2024-09-20T15:46:21.572131Z",
     "shell.execute_reply.started": "2024-09-20T15:45:44.486780Z"
    }
   },
   "outputs": [
    {
     "name": "stdout",
     "output_type": "stream",
     "text": [
      "('dtrafficarea', 'z_qnr_10', 'trafficarea_2', 'r_width_4', 'r_width_5', 'r_surface_1', 'speedlimit_1', 'speedlimit_3', 'speedlimit_4', 'speedlimit_5')\n",
      "10\n",
      "-0.28187575192075237\n"
     ]
    }
   ],
   "source": [
    "# # # n = best, linear regression, scoring = neg mean absolute error, cv = 5\n",
    "sffslin6 = featureselection_lin(True, 'neg_mean_absolute_error', 5, x, y) \n",
    "print(sffslin6.k_feature_names_)\n",
    "print(len(sffslin6.k_feature_names_))\n",
    "print(sffslin6.k_score_)"
   ]
  },
  {
   "cell_type": "code",
   "execution_count": 124,
   "id": "580d72e6-f3d6-4de9-ae2f-b7880b0d9a53",
   "metadata": {
    "execution": {
     "iopub.execute_input": "2024-09-20T15:44:57.963080Z",
     "iopub.status.busy": "2024-09-20T15:44:57.962919Z",
     "iopub.status.idle": "2024-09-20T15:45:44.485640Z",
     "shell.execute_reply": "2024-09-20T15:45:44.484964Z",
     "shell.execute_reply.started": "2024-09-20T15:44:57.963065Z"
    }
   },
   "outputs": [
    {
     "name": "stdout",
     "output_type": "stream",
     "text": [
      "('dplight', 'r_width_value', 'speedlimit_value', 'z_qnr_23', 'z_qnr_26', 'z_knr_4', 'z_knr_9', 'trafficarea_2', 'r_width_3', 'r_width_4', 'r_width_5', 'r_width_6', 'r_surface_1', 'speedlimit_4')\n",
      "14\n",
      "-0.2420524177831998\n"
     ]
    }
   ],
   "source": [
    "# # # n = best, linear regression, scoring = neg mean absolute error, cv = 10\n",
    "sffslin7 = featureselection_lin(True, 'neg_mean_absolute_error', 10, x, y) \n",
    "print(sffslin7.k_feature_names_)\n",
    "print(len(sffslin7.k_feature_names_))\n",
    "print(sffslin7.k_score_)"
   ]
  },
  {
   "cell_type": "code",
   "execution_count": 126,
   "id": "473c4fef-064b-4603-853c-ceb45c57eb62",
   "metadata": {
    "execution": {
     "iopub.execute_input": "2024-09-20T15:46:21.574304Z",
     "iopub.status.busy": "2024-09-20T15:46:21.574132Z",
     "iopub.status.idle": "2024-09-20T15:46:21.577058Z",
     "shell.execute_reply": "2024-09-20T15:46:21.576572Z",
     "shell.execute_reply.started": "2024-09-20T15:46:21.574288Z"
    }
   },
   "outputs": [],
   "source": [
    "# # n = best, linear regression, scoring = neg mean absolute error, cv = 15\n",
    "# print(selected_features15.k_feature_names_)\n",
    "# print(len(selected_features15.k_feature_names_))\n",
    "# print(selected_features15.k_score_)\n",
    "# # 24"
   ]
  },
  {
   "cell_type": "code",
   "execution_count": 127,
   "id": "9bad9eae-dc35-41ef-84f1-f25b0f8d7622",
   "metadata": {
    "execution": {
     "iopub.execute_input": "2024-09-20T15:46:21.577738Z",
     "iopub.status.busy": "2024-09-20T15:46:21.577577Z",
     "iopub.status.idle": "2024-09-20T15:46:21.589237Z",
     "shell.execute_reply": "2024-09-20T15:46:21.588739Z",
     "shell.execute_reply.started": "2024-09-20T15:46:21.577725Z"
    }
   },
   "outputs": [],
   "source": [
    "# # # n = best, linear regression, scoring = neg mean absolute error, cv = 20\n",
    "# print(selected_features16.k_feature_names_)\n",
    "# print(len(selected_features16.k_feature_names_))\n",
    "# print(selected_features16.k_score_)\n",
    "# # 22"
   ]
  },
  {
   "cell_type": "code",
   "execution_count": 135,
   "id": "ed4ea5e7-5942-46d6-abdc-c5ae3aeb66aa",
   "metadata": {
    "execution": {
     "iopub.execute_input": "2024-09-20T15:51:22.980522Z",
     "iopub.status.busy": "2024-09-20T15:51:22.979679Z",
     "iopub.status.idle": "2024-09-20T15:51:22.984347Z",
     "shell.execute_reply": "2024-09-20T15:51:22.983812Z",
     "shell.execute_reply.started": "2024-09-20T15:51:22.980500Z"
    }
   },
   "outputs": [],
   "source": [
    "selected_columns_linr_sffs = []\n",
    "selected_columns_linr_sffs = {'nmse_cv5':list(sffslin0.k_feature_names_), \n",
    "                              'nmse_cv10':list(sffslin1.k_feature_names_), \n",
    "                              'r2_cv5':list(sffslin2.k_feature_names_), \n",
    "                              'r2_cv10':list(sffslin3.k_feature_names_), \n",
    "                              'nmedae_cv5':list(sffslin4.k_feature_names_), \n",
    "                              'nmedae_cv10':list(sffslin5.k_feature_names_), \n",
    "                              'nmeae_cv5':list(sffslin6.k_feature_names_), \n",
    "                              'nmeae_cv10':list(sffslin7.k_feature_names_)}"
   ]
  },
  {
   "cell_type": "code",
   "execution_count": 136,
   "id": "c349dec0-822c-45c3-ac7e-0230b3267ab7",
   "metadata": {
    "execution": {
     "iopub.execute_input": "2024-09-20T15:51:24.495880Z",
     "iopub.status.busy": "2024-09-20T15:51:24.495224Z",
     "iopub.status.idle": "2024-09-20T15:51:24.502130Z",
     "shell.execute_reply": "2024-09-20T15:51:24.501584Z",
     "shell.execute_reply.started": "2024-09-20T15:51:24.495859Z"
    }
   },
   "outputs": [],
   "source": [
    "df_sf_linr_sffs = pd.DataFrame(dict([(k,pd.Series(v)) for k,v in selected_columns_linr_sffs.items()]))"
   ]
  },
  {
   "cell_type": "code",
   "execution_count": 137,
   "id": "e49537ed-5015-496f-b153-79e8112628fd",
   "metadata": {
    "execution": {
     "iopub.execute_input": "2024-09-20T15:52:06.676896Z",
     "iopub.status.busy": "2024-09-20T15:52:06.675829Z",
     "iopub.status.idle": "2024-09-20T15:52:06.687292Z",
     "shell.execute_reply": "2024-09-20T15:52:06.686738Z",
     "shell.execute_reply.started": "2024-09-20T15:52:06.676845Z"
    }
   },
   "outputs": [],
   "source": [
    "df_sf_linr_sffs.to_csv('/home/yelhe/script/mtp/tables/updated_sffs_linearreg.csv', index = True)"
   ]
  },
  {
   "cell_type": "code",
   "execution_count": 152,
   "id": "16d38534-395b-4230-a4ca-49ef5b9fcddb",
   "metadata": {
    "execution": {
     "iopub.execute_input": "2024-09-20T15:53:12.209651Z",
     "iopub.status.busy": "2024-09-20T15:53:12.209201Z",
     "iopub.status.idle": "2024-09-20T15:53:12.212353Z",
     "shell.execute_reply": "2024-09-20T15:53:12.211937Z",
     "shell.execute_reply.started": "2024-09-20T15:53:12.209631Z"
    }
   },
   "outputs": [],
   "source": [
    "# selected_columns = list(sffslin.k_feature_names_)\n"
   ]
  },
  {
   "cell_type": "code",
   "execution_count": 257,
   "id": "1e8eeea1-6516-48e7-88bc-8ac98d223fa2",
   "metadata": {
    "execution": {
     "iopub.execute_input": "2024-09-20T16:49:06.940495Z",
     "iopub.status.busy": "2024-09-20T16:49:06.940256Z",
     "iopub.status.idle": "2024-09-20T16:49:06.943380Z",
     "shell.execute_reply": "2024-09-20T16:49:06.942866Z",
     "shell.execute_reply.started": "2024-09-20T16:49:06.940479Z"
    },
    "scrolled": true
   },
   "outputs": [],
   "source": [
    "# # OLS\n",
    "# df_selected = dfacrpv[selected_columns]\n",
    "\n",
    "# m0 = sm.OLS(y, df_selected)\n",
    "# r0 = m0.fit()\n",
    "# r0.summary()"
   ]
  },
  {
   "cell_type": "markdown",
   "id": "165da463-0e31-4348-af57-0403dd3f29ed",
   "metadata": {},
   "source": [
    "### Sequential backward floating selection"
   ]
  },
  {
   "cell_type": "code",
   "execution_count": 154,
   "id": "f531ac9b-d567-4f0c-ab02-09733e44b31d",
   "metadata": {
    "execution": {
     "iopub.execute_input": "2024-09-20T15:54:18.114994Z",
     "iopub.status.busy": "2024-09-20T15:54:18.114108Z",
     "iopub.status.idle": "2024-09-20T15:54:38.319740Z",
     "shell.execute_reply": "2024-09-20T15:54:38.319039Z",
     "shell.execute_reply.started": "2024-09-20T15:54:18.114938Z"
    }
   },
   "outputs": [
    {
     "name": "stdout",
     "output_type": "stream",
     "text": [
      "('dtrafficarea', 'droad', 'z_qnr_10', 'z_qnr_30', 'z_qnr_31', 'z_knr_8', 'trafficarea_2', 'r_width_4', 'r_width_5', 'r_width_6', 'r_surface_1', 'speedlimit_3', 'speedlimit_4', 'speedlimit_5')\n",
      "14\n",
      "-0.1468143631396745\n"
     ]
    }
   ],
   "source": [
    "# # n = best, linear regression, backward, scoring = neg_mean_squared_error, cv = 5\n",
    "sbfslin0 = featureselection_lin(False, 'neg_mean_squared_error', 5, x, y) \n",
    "print(sbfslin0.k_feature_names_)\n",
    "print(len(sbfslin0.k_feature_names_))\n",
    "print(sbfslin0.k_score_)"
   ]
  },
  {
   "cell_type": "code",
   "execution_count": 155,
   "id": "46dba83a-ad2c-4e0f-8b3f-94dae9279c2a",
   "metadata": {
    "execution": {
     "iopub.execute_input": "2024-09-20T15:54:43.854289Z",
     "iopub.status.busy": "2024-09-20T15:54:43.853832Z",
     "iopub.status.idle": "2024-09-20T15:55:12.137600Z",
     "shell.execute_reply": "2024-09-20T15:55:12.136944Z",
     "shell.execute_reply.started": "2024-09-20T15:54:43.854270Z"
    }
   },
   "outputs": [
    {
     "name": "stdout",
     "output_type": "stream",
     "text": [
      "('ie', 'dvfpath', 'r_width_value', 'speedlimit_value', 'z_qnr_10', 'z_qnr_23', 'z_qnr_25', 'z_qnr_26', 'z_knr_4', 'z_knr_9', 'trafficarea_2', 'r_width_1', 'r_width_2', 'r_width_3', 'r_width_4', 'r_width_5', 'r_width_6', 'r_surface_1', 'speedlimit_3', 'speedlimit_4')\n",
      "20\n",
      "-0.12100686105804259\n"
     ]
    }
   ],
   "source": [
    "# # n = best, linear regression, backward, scoring = neg_mean_squared_error, cv = 10\n",
    "sbfslin1 = featureselection_lin(False, 'neg_mean_squared_error', 10, x, y) \n",
    "print(sbfslin1.k_feature_names_)\n",
    "print(len(sbfslin1.k_feature_names_))\n",
    "print(sbfslin1.k_score_)\n"
   ]
  },
  {
   "cell_type": "code",
   "execution_count": 156,
   "id": "3e45e3c2-abef-439f-bcc6-7680fe6b4f7e",
   "metadata": {
    "execution": {
     "iopub.execute_input": "2024-09-20T15:55:12.138868Z",
     "iopub.status.busy": "2024-09-20T15:55:12.138701Z",
     "iopub.status.idle": "2024-09-20T15:55:12.141642Z",
     "shell.execute_reply": "2024-09-20T15:55:12.141163Z",
     "shell.execute_reply.started": "2024-09-20T15:55:12.138853Z"
    }
   },
   "outputs": [],
   "source": [
    "# # n = best, linear regression, backward, scoring = neg_mean_squared_error, cv = 15\n",
    "# print(sbfs2.k_feature_names_)\n",
    "# print(len(sbfs2.k_feature_names_))\n",
    "# print(sbfs2.k_score_)\n",
    "# # 26"
   ]
  },
  {
   "cell_type": "code",
   "execution_count": 157,
   "id": "7199ef07-1051-4e11-a704-988f7d21bd4e",
   "metadata": {
    "execution": {
     "iopub.execute_input": "2024-09-20T15:55:12.142395Z",
     "iopub.status.busy": "2024-09-20T15:55:12.142242Z",
     "iopub.status.idle": "2024-09-20T15:55:12.154675Z",
     "shell.execute_reply": "2024-09-20T15:55:12.154113Z",
     "shell.execute_reply.started": "2024-09-20T15:55:12.142381Z"
    }
   },
   "outputs": [],
   "source": [
    "# # n = best, linear regression, backward, scoring = neg_mean_squared_error, cv = 20\n",
    "# print(sbfs3.k_feature_names_)\n",
    "# print(len(sbfs3.k_feature_names_))\n",
    "# print(sbfs3.k_score_)\n",
    "# # 52"
   ]
  },
  {
   "cell_type": "code",
   "execution_count": 158,
   "id": "e91657a5-b828-4141-aad7-2c78c47a0ede",
   "metadata": {
    "execution": {
     "iopub.execute_input": "2024-09-20T15:55:20.586267Z",
     "iopub.status.busy": "2024-09-20T15:55:20.585781Z",
     "iopub.status.idle": "2024-09-20T15:56:03.891451Z",
     "shell.execute_reply": "2024-09-20T15:56:03.890780Z",
     "shell.execute_reply.started": "2024-09-20T15:55:20.586248Z"
    }
   },
   "outputs": [
    {
     "name": "stdout",
     "output_type": "stream",
     "text": [
      "('ie', 'mew', 'cmin', 'dstopsign', 'dvfpath', 'r_width_value', 'speedlimit_value', 'z_qnr_3', 'z_qnr_10', 'z_qnr_11', 'z_qnr_13', 'z_qnr_14', 'z_qnr_23', 'z_knr_5', 'z_knr_6', 'z_knr_7', 'z_knr_9', 'r_width_1', 'r_width_3', 'r_width_4', 'r_width_5', 'r_width_6', 'r_surface_1', 'speedlimit_1', 'speedlimit_4')\n",
      "25\n",
      "0.09083514182795516\n"
     ]
    }
   ],
   "source": [
    "# # n = best, linear regression, backward, scoring = r2, cv = 5\n",
    "sbfslin2 = featureselection_lin(False, 'r2', 5, x, y) \n",
    "print(sbfslin2.k_feature_names_)\n",
    "print(len(sbfslin2.k_feature_names_))\n",
    "print(sbfslin2.k_score_)"
   ]
  },
  {
   "cell_type": "code",
   "execution_count": 159,
   "id": "881471b7-90c3-4d41-b317-2fd906d67a99",
   "metadata": {
    "execution": {
     "iopub.execute_input": "2024-09-20T15:56:03.892648Z",
     "iopub.status.busy": "2024-09-20T15:56:03.892465Z",
     "iopub.status.idle": "2024-09-20T15:56:53.006118Z",
     "shell.execute_reply": "2024-09-20T15:56:53.005397Z",
     "shell.execute_reply.started": "2024-09-20T15:56:03.892632Z"
    }
   },
   "outputs": [
    {
     "name": "stdout",
     "output_type": "stream",
     "text": [
      "('ie', 'mew', 'cmin', 'dstopsign', 'dvfpath', 'r_width_value', 'speedlimit_value', 'z_qnr_2', 'z_qnr_3', 'z_qnr_4', 'z_qnr_6', 'z_qnr_9', 'z_qnr_10', 'z_qnr_13', 'z_qnr_14', 'z_qnr_15', 'z_qnr_16', 'z_qnr_18', 'z_qnr_25', 'z_qnr_26', 'z_qnr_30', 'z_qnr_31', 'z_qnr_32', 'z_knr_1', 'z_knr_2', 'z_knr_5', 'z_knr_6', 'z_knr_7', 'z_knr_8', 'trafficarea_1', 'trafficarea_2', 'r_width_1', 'r_width_2', 'r_width_3', 'r_width_4', 'r_width_5', 'r_width_6', 'r_surface_1', 'speedlimit_3', 'speedlimit_4', 'speedlimit_5')\n",
      "41\n",
      "-0.0037091494395070645\n"
     ]
    }
   ],
   "source": [
    "# # n = best, linear regression, backward, scoring = r2, cv = 10\n",
    "sbfslin3 = featureselection_lin(False, 'r2', 10, x, y) \n",
    "print(sbfslin3.k_feature_names_)\n",
    "print(len(sbfslin3.k_feature_names_))\n",
    "print(sbfslin3.k_score_)"
   ]
  },
  {
   "cell_type": "code",
   "execution_count": 162,
   "id": "72940d7b-ffad-407e-92a8-536ec139466e",
   "metadata": {
    "execution": {
     "iopub.execute_input": "2024-09-20T15:56:53.022150Z",
     "iopub.status.busy": "2024-09-20T15:56:53.021992Z",
     "iopub.status.idle": "2024-09-20T15:56:53.030398Z",
     "shell.execute_reply": "2024-09-20T15:56:53.029791Z",
     "shell.execute_reply.started": "2024-09-20T15:56:53.022137Z"
    }
   },
   "outputs": [],
   "source": [
    "# # n = best, linear regression, backward, scoring = r2, cv = 15\n"
   ]
  },
  {
   "cell_type": "code",
   "execution_count": 163,
   "id": "66940b00-d245-42c9-af4c-d59599f4c2b3",
   "metadata": {
    "execution": {
     "iopub.execute_input": "2024-09-20T15:56:53.031253Z",
     "iopub.status.busy": "2024-09-20T15:56:53.031101Z",
     "iopub.status.idle": "2024-09-20T15:56:53.039397Z",
     "shell.execute_reply": "2024-09-20T15:56:53.038838Z",
     "shell.execute_reply.started": "2024-09-20T15:56:53.031240Z"
    }
   },
   "outputs": [],
   "source": [
    "# # n = best, linear regression, backward, scoring = r2, cv = 20\n"
   ]
  },
  {
   "cell_type": "code",
   "execution_count": 165,
   "id": "a70a2f1c-b05c-41a0-a416-6c829ff98f91",
   "metadata": {
    "execution": {
     "iopub.execute_input": "2024-09-20T15:57:31.410535Z",
     "iopub.status.busy": "2024-09-20T15:57:31.409531Z",
     "iopub.status.idle": "2024-09-20T15:57:56.240240Z",
     "shell.execute_reply": "2024-09-20T15:57:56.239598Z",
     "shell.execute_reply.started": "2024-09-20T15:57:31.410489Z"
    }
   },
   "outputs": [
    {
     "name": "stdout",
     "output_type": "stream",
     "text": [
      "('z_qnr_7', 'z_qnr_8', 'z_qnr_12', 'z_qnr_16', 'z_qnr_22', 'z_qnr_27', 'z_knr_4', 'z_knr_5', 'z_knr_9', 'trafficarea_2', 'r_width_4', 'r_width_6', 'speedlimit_4')\n",
      "13\n",
      "-0.1534518932857683\n"
     ]
    }
   ],
   "source": [
    "# # n = best, linear regression, backward, scoring = neg median aboslute error, cv = 5\n",
    "sbfslin4 = featureselection_lin(False, 'neg_median_absolute_error', 5, x, y) \n",
    "print(sbfslin4.k_feature_names_)\n",
    "print(len(sbfslin4.k_feature_names_))\n",
    "print(sbfslin4.k_score_)"
   ]
  },
  {
   "cell_type": "code",
   "execution_count": 166,
   "id": "a0d6c2f0-95db-47a3-ba56-c652ec28ba29",
   "metadata": {
    "execution": {
     "iopub.execute_input": "2024-09-20T15:58:02.100874Z",
     "iopub.status.busy": "2024-09-20T15:58:02.100434Z",
     "iopub.status.idle": "2024-09-20T15:58:43.369797Z",
     "shell.execute_reply": "2024-09-20T15:58:43.369043Z",
     "shell.execute_reply.started": "2024-09-20T15:58:02.100856Z"
    }
   },
   "outputs": [
    {
     "name": "stdout",
     "output_type": "stream",
     "text": [
      "('r_width_value', 'speedlimit_value', 'z_qnr_20', 'z_qnr_22', 'z_qnr_26', 'trafficarea_2', 'r_width_3', 'r_width_4', 'r_width_5', 'r_width_6', 'r_surface_1', 'speedlimit_4')\n",
      "12\n",
      "-0.13157577362107836\n"
     ]
    }
   ],
   "source": [
    "# # n = best, linear regression, backward, scoring = neg median aboslute error, cv = 10\n",
    "sbfslin5 = featureselection_lin(False, 'neg_median_absolute_error', 10, x, y) \n",
    "print(sbfslin5.k_feature_names_)\n",
    "print(len(sbfslin5.k_feature_names_))\n",
    "print(sbfslin5.k_score_)"
   ]
  },
  {
   "cell_type": "code",
   "execution_count": 252,
   "id": "e0246940-713e-4570-aed2-f614ac8f68e6",
   "metadata": {
    "execution": {
     "iopub.execute_input": "2024-08-27T14:20:43.528084Z",
     "iopub.status.busy": "2024-08-27T14:20:43.527246Z",
     "iopub.status.idle": "2024-08-27T14:20:43.532038Z",
     "shell.execute_reply": "2024-08-27T14:20:43.531446Z",
     "shell.execute_reply.started": "2024-08-27T14:20:43.528063Z"
    }
   },
   "outputs": [
    {
     "name": "stdout",
     "output_type": "stream",
     "text": [
      "('z_qnr_1', 'z_qnr_5', 'z_qnr_7', 'z_qnr_16', 'z_qnr_20', 'z_qnr_26', 'z_qnr_28', 'z_qnr_29', 'z_knr_9', 'trafficarea_3', 'r_width_4', 'speedlimit_2', 'speedlimit_4', 'speedlimit_6')\n",
      "14\n",
      "-0.14787659233510794\n"
     ]
    }
   ],
   "source": [
    "# # n = best, linear regression, backward, scoring = neg median aboslute error, cv = 15\n"
   ]
  },
  {
   "cell_type": "code",
   "execution_count": 254,
   "id": "805bf481-fcb5-4208-a1a4-a096ed638996",
   "metadata": {
    "execution": {
     "iopub.execute_input": "2024-08-27T15:21:15.815970Z",
     "iopub.status.busy": "2024-08-27T15:21:15.815627Z",
     "iopub.status.idle": "2024-08-27T15:21:15.821791Z",
     "shell.execute_reply": "2024-08-27T15:21:15.820810Z",
     "shell.execute_reply.started": "2024-08-27T15:21:15.815951Z"
    }
   },
   "outputs": [
    {
     "name": "stdout",
     "output_type": "stream",
     "text": [
      "('z_knr_12', 'trafficarea_1', 'trafficarea_2', 'trafficarea_3', 'r_width_4', 'r_width_6', 'speedlimit_2', 'speedlimit_4', 'speedlimit_6')\n",
      "9\n",
      "-0.12273976660347483\n"
     ]
    }
   ],
   "source": [
    "# # n = best, linear regression, backward, scoring = neg median aboslute error, cv = 20\n"
   ]
  },
  {
   "cell_type": "code",
   "execution_count": 167,
   "id": "976d1b34-d087-484a-bb09-679bc73387c3",
   "metadata": {
    "execution": {
     "iopub.execute_input": "2024-09-20T15:58:43.371875Z",
     "iopub.status.busy": "2024-09-20T15:58:43.371707Z",
     "iopub.status.idle": "2024-09-20T15:59:01.433389Z",
     "shell.execute_reply": "2024-09-20T15:59:01.432703Z",
     "shell.execute_reply.started": "2024-09-20T15:58:43.371860Z"
    }
   },
   "outputs": [
    {
     "name": "stdout",
     "output_type": "stream",
     "text": [
      "('dtrafficarea', 'z_qnr_10', 'trafficarea_2', 'r_width_4', 'r_width_5', 'r_surface_1', 'speedlimit_1', 'speedlimit_3', 'speedlimit_4', 'speedlimit_5')\n",
      "10\n",
      "-0.28187575192075237\n"
     ]
    }
   ],
   "source": [
    "# # n = best, linear regression, backward, scoring = neg mean absolute error, cv = 5\n",
    "sbfslin6 = featureselection_lin(False, 'neg_mean_absolute_error', 5, x, y) \n",
    "print(sbfslin6.k_feature_names_)\n",
    "print(len(sbfslin6.k_feature_names_))\n",
    "print(sbfslin6.k_score_)"
   ]
  },
  {
   "cell_type": "code",
   "execution_count": 168,
   "id": "20006330-64f5-4cc3-8f30-f6e755a5a527",
   "metadata": {
    "execution": {
     "iopub.execute_input": "2024-09-20T15:59:01.434311Z",
     "iopub.status.busy": "2024-09-20T15:59:01.434135Z",
     "iopub.status.idle": "2024-09-20T15:59:26.052208Z",
     "shell.execute_reply": "2024-09-20T15:59:26.051594Z",
     "shell.execute_reply.started": "2024-09-20T15:59:01.434295Z"
    }
   },
   "outputs": [
    {
     "name": "stdout",
     "output_type": "stream",
     "text": [
      "('dplight', 'r_width_value', 'speedlimit_value', 'z_qnr_23', 'z_qnr_26', 'z_knr_4', 'z_knr_9', 'trafficarea_2', 'r_width_3', 'r_width_4', 'r_width_5', 'r_width_6', 'r_surface_1', 'speedlimit_4')\n",
      "14\n",
      "-0.2420524177831998\n"
     ]
    }
   ],
   "source": [
    "# # n = best, linear regression, backward, scoring = neg mean aboslute error, cv = 10\n",
    "sbfslin7 = featureselection_lin(False, 'neg_mean_absolute_error', 10, x, y) \n",
    "print(sbfslin7.k_feature_names_)\n",
    "print(len(sbfslin7.k_feature_names_))\n",
    "print(sbfslin7.k_score_)"
   ]
  },
  {
   "cell_type": "code",
   "execution_count": 169,
   "id": "ee212512-5a78-4b0a-9b13-44cc2796ada9",
   "metadata": {
    "execution": {
     "iopub.execute_input": "2024-09-20T15:59:26.053534Z",
     "iopub.status.busy": "2024-09-20T15:59:26.053365Z",
     "iopub.status.idle": "2024-09-20T15:59:26.056202Z",
     "shell.execute_reply": "2024-09-20T15:59:26.055742Z",
     "shell.execute_reply.started": "2024-09-20T15:59:26.053519Z"
    }
   },
   "outputs": [],
   "source": [
    "# # n = best, linear regression, backward, scoring = neg mean aboslute error, cv = 15\n"
   ]
  },
  {
   "cell_type": "code",
   "execution_count": 170,
   "id": "c641d1c1-ff7e-4ec0-96c9-b50ab0729233",
   "metadata": {
    "execution": {
     "iopub.execute_input": "2024-09-20T15:59:26.056883Z",
     "iopub.status.busy": "2024-09-20T15:59:26.056728Z",
     "iopub.status.idle": "2024-09-20T15:59:26.068200Z",
     "shell.execute_reply": "2024-09-20T15:59:26.067702Z",
     "shell.execute_reply.started": "2024-09-20T15:59:26.056869Z"
    }
   },
   "outputs": [],
   "source": [
    "# n = best, linear regression, backward, scoring = neg mean aboslute error, cv = 20\n"
   ]
  },
  {
   "cell_type": "code",
   "execution_count": 171,
   "id": "f9621fb5-a9e4-4a0c-ad03-23c5df605e57",
   "metadata": {
    "execution": {
     "iopub.execute_input": "2024-09-20T16:00:01.460264Z",
     "iopub.status.busy": "2024-09-20T16:00:01.459963Z",
     "iopub.status.idle": "2024-09-20T16:00:01.464584Z",
     "shell.execute_reply": "2024-09-20T16:00:01.464066Z",
     "shell.execute_reply.started": "2024-09-20T16:00:01.460246Z"
    }
   },
   "outputs": [],
   "source": [
    "selected_columns_linr_sbfs = []\n",
    "selected_columns_linr_sbfs = {'all': cnu,\n",
    "                              'nmse_cv5':list(sbfslin0.k_feature_names_), \n",
    "                              'nmse_cv10':list(sbfslin1.k_feature_names_), \n",
    "                              'r2_cv5':list(sbfslin2.k_feature_names_), \n",
    "                              'r2_cv10':list(sbfslin3.k_feature_names_), \n",
    "                              'nmedae_cv5':list(sbfslin4.k_feature_names_), \n",
    "                              'nmedae_cv10':list(sbfslin5.k_feature_names_),\n",
    "                              'nmeae_cv5':list(sbfslin6.k_feature_names_), \n",
    "                              'nmeae_cv10':list(sbfslin7.k_feature_names_)}"
   ]
  },
  {
   "cell_type": "code",
   "execution_count": 172,
   "id": "4b089fba-ce5e-4166-be85-699efa8fe33c",
   "metadata": {
    "execution": {
     "iopub.execute_input": "2024-09-20T16:00:03.571171Z",
     "iopub.status.busy": "2024-09-20T16:00:03.570753Z",
     "iopub.status.idle": "2024-09-20T16:00:03.576859Z",
     "shell.execute_reply": "2024-09-20T16:00:03.576402Z",
     "shell.execute_reply.started": "2024-09-20T16:00:03.571153Z"
    }
   },
   "outputs": [],
   "source": [
    "df_sf_linr_sbfs = pd.DataFrame(dict([(k,pd.Series(v)) for k,v in selected_columns_linr_sbfs.items()]))"
   ]
  },
  {
   "cell_type": "code",
   "execution_count": 173,
   "id": "9db31abf-c984-4164-9e1d-0a0ecadbff47",
   "metadata": {
    "execution": {
     "iopub.execute_input": "2024-09-20T16:00:09.853261Z",
     "iopub.status.busy": "2024-09-20T16:00:09.852837Z",
     "iopub.status.idle": "2024-09-20T16:00:09.858837Z",
     "shell.execute_reply": "2024-09-20T16:00:09.858126Z",
     "shell.execute_reply.started": "2024-09-20T16:00:09.853243Z"
    }
   },
   "outputs": [],
   "source": [
    "df_sf_linr_sbfs.to_csv('/home/yelhe/script/mtp/tables/updated_sbfs_linearreg.csv', index = True)"
   ]
  },
  {
   "cell_type": "code",
   "execution_count": 188,
   "id": "7ab16cea-b108-4938-87f8-dee24f6ad52f",
   "metadata": {
    "execution": {
     "iopub.execute_input": "2024-09-20T16:02:07.923707Z",
     "iopub.status.busy": "2024-09-20T16:02:07.923104Z",
     "iopub.status.idle": "2024-09-20T16:02:07.926552Z",
     "shell.execute_reply": "2024-09-20T16:02:07.925900Z",
     "shell.execute_reply.started": "2024-09-20T16:02:07.923687Z"
    }
   },
   "outputs": [],
   "source": [
    "sbfs_columns = list(sbfslin7.k_feature_names_)"
   ]
  },
  {
   "cell_type": "code",
   "execution_count": 100,
   "id": "68f34554-c9ac-4206-a43f-e2f74808ef5a",
   "metadata": {
    "execution": {
     "iopub.execute_input": "2024-10-04T16:36:12.020461Z",
     "iopub.status.busy": "2024-10-04T16:36:12.019835Z",
     "iopub.status.idle": "2024-10-04T16:36:12.027371Z",
     "shell.execute_reply": "2024-10-04T16:36:12.026796Z",
     "shell.execute_reply.started": "2024-10-04T16:36:12.020441Z"
    }
   },
   "outputs": [],
   "source": [
    "# df_output = pd.read_csv('/home/yelhe/script/mtp/tables/updated_sbfs_linearreg.csv')"
   ]
  },
  {
   "cell_type": "code",
   "execution_count": 101,
   "id": "f6199d62-a34d-40e9-8c7b-31771dc1a543",
   "metadata": {
    "execution": {
     "iopub.execute_input": "2024-10-04T16:36:12.251469Z",
     "iopub.status.busy": "2024-10-04T16:36:12.250925Z",
     "iopub.status.idle": "2024-10-04T16:36:12.256620Z",
     "shell.execute_reply": "2024-10-04T16:36:12.255839Z",
     "shell.execute_reply.started": "2024-10-04T16:36:12.251446Z"
    }
   },
   "outputs": [
    {
     "data": {
      "text/plain": [
       "Index(['Unnamed: 0', 'all', 'nmse_cv5', 'nmse_cv10', 'r2_cv5', 'r2_cv10',\n",
       "       'nmedae_cv5', 'nmedae_cv10', 'nmeae_cv5', 'nmeae_cv10'],\n",
       "      dtype='object')"
      ]
     },
     "execution_count": 101,
     "metadata": {},
     "output_type": "execute_result"
    }
   ],
   "source": [
    "# df_output.columns"
   ]
  },
  {
   "cell_type": "code",
   "execution_count": 102,
   "id": "5de930bc-c41e-4ee1-a8ce-67ecdb663150",
   "metadata": {
    "execution": {
     "iopub.execute_input": "2024-10-04T16:36:12.529104Z",
     "iopub.status.busy": "2024-10-04T16:36:12.528446Z",
     "iopub.status.idle": "2024-10-04T16:36:12.532660Z",
     "shell.execute_reply": "2024-10-04T16:36:12.531709Z",
     "shell.execute_reply.started": "2024-10-04T16:36:12.529081Z"
    }
   },
   "outputs": [],
   "source": [
    "# prsq_lin_sffs = []\n",
    "# prsq_lin_sbfs = []"
   ]
  },
  {
   "cell_type": "code",
   "execution_count": 131,
   "id": "ce0c5c03-216e-4cec-ab7e-bbc0b8a661e1",
   "metadata": {
    "execution": {
     "iopub.execute_input": "2024-10-04T16:37:30.298080Z",
     "iopub.status.busy": "2024-10-04T16:37:30.297510Z",
     "iopub.status.idle": "2024-10-04T16:37:30.303144Z",
     "shell.execute_reply": "2024-10-04T16:37:30.302175Z",
     "shell.execute_reply.started": "2024-10-04T16:37:30.298061Z"
    }
   },
   "outputs": [],
   "source": [
    "\n",
    "\n",
    "# ## For sffs\n",
    "# l = list(df_output['nmeae_cv10'].dropna())\n",
    "\n",
    "# # x_selected\n",
    "# xs = dfacrpv[l]"
   ]
  },
  {
   "cell_type": "code",
   "execution_count": 451,
   "id": "bb2ba1f6-55cf-4a01-af58-72f17038bb0b",
   "metadata": {
    "execution": {
     "iopub.execute_input": "2024-10-11T17:29:07.098546Z",
     "iopub.status.busy": "2024-10-11T17:29:07.097918Z",
     "iopub.status.idle": "2024-10-11T17:29:07.101115Z",
     "shell.execute_reply": "2024-10-11T17:29:07.100699Z",
     "shell.execute_reply.started": "2024-10-11T17:29:07.098526Z"
    },
    "scrolled": true
   },
   "outputs": [],
   "source": [
    "# # OLS\n",
    "# xs_const = tools.add_constant(xs) \n",
    "# # X_train, X_test, y_train, y_test = train_test_split(\n",
    "# #         df_selected, y,\n",
    "# #         test_size=0.3,\n",
    "# #         random_state=0)\n",
    "\n",
    "# m1 = sm.OLS(y, xs_const)\n",
    "# r1 = m1.fit()\n",
    "# r1.summary()"
   ]
  },
  {
   "cell_type": "code",
   "execution_count": 133,
   "id": "235fb07e-eabe-431a-9a01-4c1fb465dfed",
   "metadata": {
    "execution": {
     "iopub.execute_input": "2024-10-04T16:37:30.635742Z",
     "iopub.status.busy": "2024-10-04T16:37:30.635161Z",
     "iopub.status.idle": "2024-10-04T16:37:30.638979Z",
     "shell.execute_reply": "2024-10-04T16:37:30.638292Z",
     "shell.execute_reply.started": "2024-10-04T16:37:30.635723Z"
    }
   },
   "outputs": [],
   "source": [
    "# prsq_lin_sbfs.append(r1.rsquared_adj)"
   ]
  },
  {
   "cell_type": "code",
   "execution_count": 134,
   "id": "a35a3f70-8b06-4de9-b102-c2c8a7b7587a",
   "metadata": {
    "execution": {
     "iopub.execute_input": "2024-10-04T16:37:30.877239Z",
     "iopub.status.busy": "2024-10-04T16:37:30.876793Z",
     "iopub.status.idle": "2024-10-04T16:37:30.881353Z",
     "shell.execute_reply": "2024-10-04T16:37:30.880751Z",
     "shell.execute_reply.started": "2024-10-04T16:37:30.877219Z"
    }
   },
   "outputs": [
    {
     "data": {
      "text/plain": [
       "[0.46863270188062633,\n",
       " 0.5228831125625122,\n",
       " 0.5083388939077372,\n",
       " 0.539473692009008,\n",
       " 0.4665037273438992,\n",
       " 0.47415516300643146,\n",
       " 0.46239446930329153,\n",
       " 0.5033154652889078]"
      ]
     },
     "execution_count": 134,
     "metadata": {},
     "output_type": "execute_result"
    }
   ],
   "source": [
    "prsq_lin_sbfs"
   ]
  },
  {
   "cell_type": "code",
   "execution_count": 96,
   "id": "522cf8e3-c592-415d-ae7e-bfa1050ad2d9",
   "metadata": {
    "execution": {
     "iopub.execute_input": "2024-10-04T16:34:03.921304Z",
     "iopub.status.busy": "2024-10-04T16:34:03.920750Z",
     "iopub.status.idle": "2024-10-04T16:34:03.926185Z",
     "shell.execute_reply": "2024-10-04T16:34:03.925481Z",
     "shell.execute_reply.started": "2024-10-04T16:34:03.921283Z"
    }
   },
   "outputs": [
    {
     "data": {
      "text/plain": [
       "[0.46863270188062633,\n",
       " 0.5170176533771211,\n",
       " 0.5083388939077372,\n",
       " 0.5299324651839028,\n",
       " 0.42039652784715786,\n",
       " 0.47415516300643146,\n",
       " 0.46239446930329153,\n",
       " 0.5033154652889078]"
      ]
     },
     "execution_count": 96,
     "metadata": {},
     "output_type": "execute_result"
    }
   ],
   "source": [
    "prsq_lin_sffs"
   ]
  },
  {
   "cell_type": "markdown",
   "id": "8119ef0e-78b5-4b8e-83f5-7256197ead1a",
   "metadata": {},
   "source": [
    "## Logistic Regression model"
   ]
  },
  {
   "cell_type": "markdown",
   "id": "4181e345-e803-42e2-acf6-a83a0bb6fdb3",
   "metadata": {},
   "source": [
    "### Sequential forward floating selection"
   ]
  },
  {
   "cell_type": "code",
   "execution_count": 300,
   "id": "8e1d9bac-c622-4f7b-959d-8c911c0d7144",
   "metadata": {
    "execution": {
     "iopub.execute_input": "2024-10-11T16:21:21.309416Z",
     "iopub.status.busy": "2024-10-11T16:21:21.308939Z",
     "iopub.status.idle": "2024-10-11T16:23:29.031382Z",
     "shell.execute_reply": "2024-10-11T16:23:29.030397Z",
     "shell.execute_reply.started": "2024-10-11T16:21:21.309397Z"
    }
   },
   "outputs": [
    {
     "name": "stdout",
     "output_type": "stream",
     "text": [
      "('cp', 'cmean', 'cmin', 'ie', 'mew', 'dbusl', 'dtraml', 'dplight', 'dstation', 'dpedcro', 'droad', 'dvfpath', 'gvm_dwv', 'r_width_value', 'z_qnr_1', 'z_qnr_2', 'z_qnr_3', 'z_qnr_4', 'z_qnr_5', 'z_qnr_6', 'z_qnr_7', 'z_qnr_8', 'z_qnr_10', 'z_qnr_16', 'z_qnr_22', 'z_qnr_23', 'z_qnr_26', 'z_qnr_29', 'z_qnr_30', 'z_qnr_31', 'z_knr_1', 'z_knr_4', 'z_knr_5', 'z_knr_9', 'z_knr_10', 'trafficarea_2', 'r_width_1', 'r_width_2', 'r_width_3', 'r_width_6', 'r_surface_1', 'speedlimit_3', 'speedlimit_4', 'speedlimit_5')\n",
      "44\n",
      "0.875774743161544\n"
     ]
    }
   ],
   "source": [
    "# # n = best, logistic regression, scoring = accuracy, cv = 5\n",
    "sffslog0 = featureselection_log(True, 'accuracy', 5, x, y)\n",
    "print(sffslog0.k_feature_names_)\n",
    "print(len(sffslog0.k_feature_names_))\n",
    "print(sffslog0.k_score_)\n"
   ]
  },
  {
   "cell_type": "code",
   "execution_count": 52,
   "id": "6d0bd756-a9e2-4f53-ae68-ff60abfde9b7",
   "metadata": {
    "execution": {
     "iopub.execute_input": "2024-10-11T14:02:07.896941Z",
     "iopub.status.busy": "2024-10-11T14:02:07.896750Z",
     "iopub.status.idle": "2024-10-11T14:06:15.598369Z",
     "shell.execute_reply": "2024-10-11T14:06:15.597505Z",
     "shell.execute_reply.started": "2024-10-11T14:02:07.896921Z"
    }
   },
   "outputs": [
    {
     "name": "stdout",
     "output_type": "stream",
     "text": [
      "('cmin', 'ie', 'mew', 'megmax', 'dbusl', 'dtraml', 'dtrainl', 'dplight', 'dstation', 'dparkcar', 'dparktw', 'dpedcro', 'dstopsign', 'dtrafficarea', 'droad', 'dvfpath', 'bicyclecount', 'r_width_value', 'z_qnr_3', 'z_qnr_4', 'z_qnr_5', 'z_qnr_6', 'z_qnr_7', 'z_qnr_8', 'z_qnr_10', 'z_qnr_15', 'z_qnr_16', 'z_qnr_20', 'z_qnr_23', 'z_qnr_25', 'z_qnr_26', 'z_qnr_28', 'z_qnr_29', 'z_qnr_30', 'z_qnr_31', 'z_qnr_32', 'z_knr_2', 'z_knr_10', 'trafficarea_2', 'r_width_2', 'r_width_3', 'r_width_6', 'speedlimit_3', 'speedlimit_4', 'speedlimit_5')\n",
      "45\n",
      "0.8665222562011554\n"
     ]
    }
   ],
   "source": [
    "# n = best, logistic regression, scoring = accuracy, cv = 10\n",
    "sffslog1 = featureselection_log(True, 'accuracy', 10, x, y)\n",
    "print(sffslog1.k_feature_names_)\n",
    "print(len(sffslog1.k_feature_names_))\n",
    "print(sffslog1.k_score_)\n"
   ]
  },
  {
   "cell_type": "code",
   "execution_count": 53,
   "id": "e4da62a2-8d77-4684-aa1f-b66108a5b8bd",
   "metadata": {
    "execution": {
     "iopub.execute_input": "2024-10-11T14:06:15.600659Z",
     "iopub.status.busy": "2024-10-11T14:06:15.600446Z",
     "iopub.status.idle": "2024-10-11T14:06:15.604282Z",
     "shell.execute_reply": "2024-10-11T14:06:15.603780Z",
     "shell.execute_reply.started": "2024-10-11T14:06:15.600643Z"
    }
   },
   "outputs": [],
   "source": [
    "# # # n = best, logistic regression, scoring = accuracy, cv = 15\n",
    "# sffslog2 = featureselection_log(True, 'accuracy', 15, x, y)\n",
    "# print(sffslog2.k_feature_names_)\n",
    "# print(len(sffslog2.k_feature_names_))\n",
    "# print(sffslog2.k_score_)"
   ]
  },
  {
   "cell_type": "code",
   "execution_count": 54,
   "id": "7060cdc0-3553-47b4-96dc-7d51c40089c3",
   "metadata": {
    "execution": {
     "iopub.execute_input": "2024-10-11T14:06:15.607567Z",
     "iopub.status.busy": "2024-10-11T14:06:15.606404Z",
     "iopub.status.idle": "2024-10-11T14:06:15.624894Z",
     "shell.execute_reply": "2024-10-11T14:06:15.624370Z",
     "shell.execute_reply.started": "2024-10-11T14:06:15.607549Z"
    }
   },
   "outputs": [],
   "source": [
    "# # # n = best, logistic regression, scoring = accuracy, cv = 20\n",
    "# sffslog3 = featureselection_log(True, 'accuracy', 20, x, y)\n",
    "# print(sffslog3.k_feature_names_)\n",
    "# print(len(sffslog3.k_feature_names_))\n",
    "# print(sffslog3.k_score_)\n",
    "# #"
   ]
  },
  {
   "cell_type": "code",
   "execution_count": 55,
   "id": "41f0ebb4-455f-4303-a55a-7077445892d9",
   "metadata": {
    "execution": {
     "iopub.execute_input": "2024-10-11T14:06:15.626832Z",
     "iopub.status.busy": "2024-10-11T14:06:15.626270Z",
     "iopub.status.idle": "2024-10-11T14:09:05.402383Z",
     "shell.execute_reply": "2024-10-11T14:09:05.401632Z",
     "shell.execute_reply.started": "2024-10-11T14:06:15.626816Z"
    }
   },
   "outputs": [
    {
     "name": "stdout",
     "output_type": "stream",
     "text": [
      "('cmean', 'cmin', 'ie', 'mew', 'meg', 'megmax', 'dbusl', 'dtraml', 'dstation', 'dparkcar', 'dpedcro', 'dtrafficarea', 'droad', 'dvfpath', 'carcount', 'r_width_value', 'speedlimit_value', 'z_qnr_1', 'z_qnr_2', 'z_qnr_3', 'z_qnr_4', 'z_qnr_5', 'z_qnr_6', 'z_qnr_7', 'z_qnr_8', 'z_qnr_11', 'z_qnr_14', 'z_qnr_22', 'z_qnr_23', 'z_qnr_26', 'z_qnr_29', 'z_qnr_30', 'z_knr_4', 'z_knr_6', 'z_knr_10', 'trafficarea_2', 'r_width_2', 'r_width_3', 'r_width_6', 'r_surface_1', 'speedlimit_1', 'speedlimit_4', 'speedlimit_5')\n",
      "43\n",
      "0.7270122755961848\n"
     ]
    }
   ],
   "source": [
    "# # n = best, logistic regression, scoring = f1, cv = 5\n",
    "sffslog2 = featureselection_log(True, 'f1', 5, x, y)\n",
    "print(sffslog2.k_feature_names_)\n",
    "print(len(sffslog2.k_feature_names_))\n",
    "print(sffslog2.k_score_)\n"
   ]
  },
  {
   "cell_type": "code",
   "execution_count": 56,
   "id": "5e1b14ae-d40e-484c-a3b5-3049f2f081d4",
   "metadata": {
    "execution": {
     "iopub.execute_input": "2024-10-11T14:09:05.403563Z",
     "iopub.status.busy": "2024-10-11T14:09:05.403361Z",
     "iopub.status.idle": "2024-10-11T14:14:08.693945Z",
     "shell.execute_reply": "2024-10-11T14:14:08.693134Z",
     "shell.execute_reply.started": "2024-10-11T14:09:05.403535Z"
    }
   },
   "outputs": [
    {
     "name": "stdout",
     "output_type": "stream",
     "text": [
      "('cmin', 'ie', 'mew', 'meg', 'megmax', 'dbusl', 'dtraml', 'dtrainl', 'dplight', 'dstation', 'dparkcar', 'dparktw', 'dpedcro', 'dstopsign', 'dtrafficarea', 'droad', 'dvfpath', 'carcount', 'speedlimit_value', 'z_qnr_2', 'z_qnr_3', 'z_qnr_4', 'z_qnr_5', 'z_qnr_7', 'z_qnr_8', 'z_qnr_9', 'z_qnr_12', 'z_qnr_13', 'z_qnr_15', 'z_qnr_16', 'z_qnr_20', 'z_qnr_22', 'z_qnr_26', 'z_qnr_27', 'z_qnr_28', 'z_qnr_29', 'z_qnr_30', 'z_qnr_31', 'z_knr_2', 'z_knr_10', 'trafficarea_2', 'r_width_1', 'r_width_2', 'r_width_5', 'speedlimit_4')\n",
      "45\n",
      "0.7102975544358622\n"
     ]
    }
   ],
   "source": [
    "# # n = best, logistic regression, scoring = f1, cv = 10\n",
    "sffslog3 = featureselection_log(True, 'f1', 10, x, y)\n",
    "print(sffslog3.k_feature_names_)\n",
    "print(len(sffslog3.k_feature_names_))\n",
    "print(sffslog3.k_score_)\n"
   ]
  },
  {
   "cell_type": "code",
   "execution_count": 57,
   "id": "f74ba2c9-abd3-4a3a-8609-3d261fd86f63",
   "metadata": {
    "execution": {
     "iopub.execute_input": "2024-10-11T14:14:08.696202Z",
     "iopub.status.busy": "2024-10-11T14:14:08.695868Z",
     "iopub.status.idle": "2024-10-11T14:14:08.700967Z",
     "shell.execute_reply": "2024-10-11T14:14:08.700374Z",
     "shell.execute_reply.started": "2024-10-11T14:14:08.696184Z"
    }
   },
   "outputs": [],
   "source": [
    "# # # n = best, logistic regression, scoring = f1, cv = 15\n",
    "# sffslog6 = featureselection_log(True, 'f1', 15, x, y)\n",
    "# print(sffslog6.k_feature_names_)\n",
    "# print(len(sffslog6.k_feature_names_))\n",
    "# print(sffslog6.k_score_)\n",
    "# #"
   ]
  },
  {
   "cell_type": "code",
   "execution_count": 58,
   "id": "8d613987-c8c6-4cf4-9bcb-7b443f124fea",
   "metadata": {
    "execution": {
     "iopub.execute_input": "2024-10-11T14:14:08.703425Z",
     "iopub.status.busy": "2024-10-11T14:14:08.703054Z",
     "iopub.status.idle": "2024-10-11T14:14:08.749819Z",
     "shell.execute_reply": "2024-10-11T14:14:08.749086Z",
     "shell.execute_reply.started": "2024-10-11T14:14:08.703410Z"
    }
   },
   "outputs": [],
   "source": [
    "# # # n = best, logistic regression, scoring = f1, cv = 20\n",
    "# sffslog7 = featureselection_log(True, 'f1', 20, x, y)\n",
    "# print(sffslog7.k_feature_names_)\n",
    "# print(len(sffslog7.k_feature_names_))\n",
    "# print(sffslog7.k_score_)\n",
    "# #"
   ]
  },
  {
   "cell_type": "code",
   "execution_count": 450,
   "id": "3aad7d05-3ff4-4720-840d-6f966e961e63",
   "metadata": {
    "execution": {
     "iopub.execute_input": "2024-10-11T17:28:57.044521Z",
     "iopub.status.busy": "2024-10-11T17:28:57.043699Z",
     "iopub.status.idle": "2024-10-11T17:28:57.047135Z",
     "shell.execute_reply": "2024-10-11T17:28:57.046615Z",
     "shell.execute_reply.started": "2024-10-11T17:28:57.044481Z"
    }
   },
   "outputs": [],
   "source": [
    "# # n = best, logistic regression, scoring = precision, cv = 5\n",
    "# sffslog4 = featureselection_log(True, 'precision', 5, x, y)\n",
    "# print(sffslog4.k_feature_names_)\n",
    "# print(len(sffslog4.k_feature_names_))\n",
    "# print(sffslog4.k_score_)\n"
   ]
  },
  {
   "cell_type": "code",
   "execution_count": 449,
   "id": "01c15fb9-50c9-457e-a3a8-1e4cadaca9db",
   "metadata": {
    "execution": {
     "iopub.execute_input": "2024-10-11T17:28:54.248227Z",
     "iopub.status.busy": "2024-10-11T17:28:54.247259Z",
     "iopub.status.idle": "2024-10-11T17:28:54.251724Z",
     "shell.execute_reply": "2024-10-11T17:28:54.250868Z",
     "shell.execute_reply.started": "2024-10-11T17:28:54.248205Z"
    }
   },
   "outputs": [],
   "source": [
    "# # # # n = best, logistic regression, scoring = precision, cv = 10\n",
    "# sffslog5 = featureselection_log(True, 'precision', 10, x, y)\n",
    "# print(sffslog5.k_feature_names_)\n",
    "# print(len(sffslog5.k_feature_names_))\n",
    "# print(sffslog5.k_score_)"
   ]
  },
  {
   "cell_type": "code",
   "execution_count": 61,
   "id": "5a6918cf-1d2a-45f8-8501-477766345f64",
   "metadata": {
    "execution": {
     "iopub.execute_input": "2024-10-11T14:18:43.319437Z",
     "iopub.status.busy": "2024-10-11T14:18:43.319244Z",
     "iopub.status.idle": "2024-10-11T14:18:43.324241Z",
     "shell.execute_reply": "2024-10-11T14:18:43.323636Z",
     "shell.execute_reply.started": "2024-10-11T14:18:43.319419Z"
    },
    "scrolled": true
   },
   "outputs": [],
   "source": [
    "# # # n = best, logistic regression, scoring = precision, cv = 15\n",
    "# sffslog10 = featureselection_log(True, 'precision', 15, x, y)\n",
    "# print(sffslog10.k_feature_names_)\n",
    "# print(len(sffslog10.k_feature_names_))\n",
    "# print(sffslog10.k_score_)"
   ]
  },
  {
   "cell_type": "code",
   "execution_count": 62,
   "id": "0ef840e4-dfb9-4ba5-87f4-e6bd86729330",
   "metadata": {
    "execution": {
     "iopub.execute_input": "2024-10-11T14:18:43.325144Z",
     "iopub.status.busy": "2024-10-11T14:18:43.324982Z",
     "iopub.status.idle": "2024-10-11T14:18:43.340969Z",
     "shell.execute_reply": "2024-10-11T14:18:43.340394Z",
     "shell.execute_reply.started": "2024-10-11T14:18:43.325131Z"
    },
    "scrolled": true
   },
   "outputs": [],
   "source": [
    "# # # n = best, logistic regression, scoring = precision, cv = 20\n",
    "# sffslog11 = featureselection_log(True, 'precision', 20, x, y)\n",
    "# print(sffslog11.k_feature_names_)\n",
    "# print(len(sffslog11.k_feature_names_))\n",
    "# print(sffslog11.k_score_)\n"
   ]
  },
  {
   "cell_type": "code",
   "execution_count": 63,
   "id": "586a6413-c9aa-4feb-8333-a236d7cebd37",
   "metadata": {
    "execution": {
     "iopub.execute_input": "2024-10-11T14:18:43.342179Z",
     "iopub.status.busy": "2024-10-11T14:18:43.342019Z",
     "iopub.status.idle": "2024-10-11T14:20:09.383775Z",
     "shell.execute_reply": "2024-10-11T14:20:09.383015Z",
     "shell.execute_reply.started": "2024-10-11T14:18:43.342166Z"
    }
   },
   "outputs": [
    {
     "name": "stdout",
     "output_type": "stream",
     "text": [
      "('cmin', 'ie', 'mew', 'meg', 'megmax', 'dtraml', 'dplight', 'dstation', 'dparkcar', 'dparktw', 'dpedcro', 'dstopsign', 'dtrafficarea', 'droad', 'dvfpath', 'gvm_dwv', 'bicyclecount', 'carcount', 'r_width_value', 'speedlimit_value', 'z_qnr_3', 'z_qnr_4', 'z_qnr_5', 'z_qnr_6', 'z_qnr_8', 'z_qnr_9', 'z_qnr_10', 'z_qnr_11', 'z_qnr_12', 'z_qnr_13', 'z_qnr_14', 'z_qnr_16', 'z_qnr_23', 'z_qnr_24', 'z_qnr_25', 'z_qnr_26', 'z_qnr_27', 'z_qnr_28', 'z_qnr_30', 'z_qnr_31', 'z_qnr_32', 'z_knr_1', 'z_knr_2', 'z_knr_6', 'z_knr_7', 'z_knr_8', 'z_knr_10', 'z_knr_11', 'trafficarea_2', 'r_width_2', 'r_width_3', 'r_width_4', 'r_width_5', 'r_width_6', 'r_surface_1', 'speedlimit_1', 'speedlimit_4', 'speedlimit_5')\n",
      "58\n",
      "0.688135593220339\n"
     ]
    }
   ],
   "source": [
    "# # n = best, logistic regression, scoring = recall, cv = 5\n",
    "sffslog6 = featureselection_log(True, 'recall', 5, x, y)\n",
    "print(sffslog6.k_feature_names_)\n",
    "print(len(sffslog6.k_feature_names_))\n",
    "print(sffslog6.k_score_)\n"
   ]
  },
  {
   "cell_type": "code",
   "execution_count": 64,
   "id": "acd2ce79-4e9f-4524-b4b3-162f8da5261f",
   "metadata": {
    "execution": {
     "iopub.execute_input": "2024-10-11T14:20:09.385099Z",
     "iopub.status.busy": "2024-10-11T14:20:09.384705Z",
     "iopub.status.idle": "2024-10-11T14:23:12.607097Z",
     "shell.execute_reply": "2024-10-11T14:23:12.606218Z",
     "shell.execute_reply.started": "2024-10-11T14:20:09.385082Z"
    }
   },
   "outputs": [
    {
     "name": "stdout",
     "output_type": "stream",
     "text": [
      "('cmean', 'cmin', 'ie', 'mew', 'megmax', 'dplight', 'dpedcro', 'dtrafficarea', 'droad', 'gvm_dwv', 'speedlimit_value', 'z_qnr_2', 'z_qnr_3', 'z_qnr_4', 'z_qnr_6', 'z_qnr_7', 'z_qnr_10', 'z_qnr_12', 'z_qnr_13', 'z_qnr_15', 'z_qnr_16', 'z_qnr_18', 'z_qnr_20', 'z_qnr_23', 'z_qnr_29', 'z_qnr_30', 'z_qnr_31', 'z_qnr_32', 'z_knr_2', 'z_knr_4', 'z_knr_9', 'z_knr_10', 'r_width_4', 'r_width_5', 'r_surface_1', 'speedlimit_3', 'speedlimit_4')\n",
      "37\n",
      "0.6709195402298851\n"
     ]
    }
   ],
   "source": [
    "# # n = best, logistic regression, scoring = recall, cv = 10\n",
    "sffslog7 = featureselection_log(True, 'recall', 10, x, y)\n",
    "print(sffslog7.k_feature_names_)\n",
    "print(len(sffslog7.k_feature_names_))\n",
    "print(sffslog7.k_score_)\n"
   ]
  },
  {
   "cell_type": "code",
   "execution_count": 65,
   "id": "3d138232-b1a8-4346-8a3e-1097c5475749",
   "metadata": {
    "execution": {
     "iopub.execute_input": "2024-10-11T14:23:12.608436Z",
     "iopub.status.busy": "2024-10-11T14:23:12.608252Z",
     "iopub.status.idle": "2024-10-11T14:23:12.611823Z",
     "shell.execute_reply": "2024-10-11T14:23:12.611339Z",
     "shell.execute_reply.started": "2024-10-11T14:23:12.608420Z"
    }
   },
   "outputs": [],
   "source": [
    "# # # n = best, logistic regression, scoring = recall, cv = 15\n",
    "# sffslog14 = featureselection_log(True, 'recall', 15, x, y)\n",
    "# print(sffslog14.k_feature_names_)\n",
    "# print(len(sffslog14.k_feature_names_))\n",
    "# print(sffslog14.k_score_)\n",
    "# #"
   ]
  },
  {
   "cell_type": "code",
   "execution_count": 66,
   "id": "de589bf5-18d4-4770-ba79-ab6978c1b03f",
   "metadata": {
    "execution": {
     "iopub.execute_input": "2024-10-11T14:23:12.614068Z",
     "iopub.status.busy": "2024-10-11T14:23:12.613895Z",
     "iopub.status.idle": "2024-10-11T14:23:12.662573Z",
     "shell.execute_reply": "2024-10-11T14:23:12.661891Z",
     "shell.execute_reply.started": "2024-10-11T14:23:12.614055Z"
    }
   },
   "outputs": [],
   "source": [
    "# # # n = best, logistic regression, scoring = recall, cv = 20\n",
    "# sffslog15 = featureselection_log(True, 'recall', 20, x, y)\n",
    "# print(sffslog15.k_feature_names_)\n",
    "# print(len(sffslog15.k_feature_names_))\n",
    "# print(sffslog15.k_score_)\n",
    "# #"
   ]
  },
  {
   "cell_type": "code",
   "execution_count": 86,
   "id": "4cdf2c61-28e1-459f-a00c-988f25b2ecf4",
   "metadata": {
    "execution": {
     "iopub.execute_input": "2024-10-11T14:39:14.861075Z",
     "iopub.status.busy": "2024-10-11T14:39:14.860601Z",
     "iopub.status.idle": "2024-10-11T14:39:14.879094Z",
     "shell.execute_reply": "2024-10-11T14:39:14.878562Z",
     "shell.execute_reply.started": "2024-10-11T14:39:14.861056Z"
    }
   },
   "outputs": [],
   "source": [
    "# For part \n",
    "selected_columns_logr_sffs = []\n",
    "selected_columns_logr_sffs = {'all': cnu2,\n",
    "                              'acc_cv5':list(sffslog0.k_feature_names_), \n",
    "                              'acc_cv10':list(sffslog1.k_feature_names_), \n",
    "                              'f1_cv5':list(sffslog2.k_feature_names_), \n",
    "                              'f1_cv10':list(sffslog3.k_feature_names_), \n",
    "                              'pre_cv5':list(sffslog4.k_feature_names_), \n",
    "                              'pre_cv10':list(sffslog5.k_feature_names_),\n",
    "                              'rec_cv5':list(sffslog6.k_feature_names_), \n",
    "                              'rec_cv10':list(sffslog7.k_feature_names_)\n",
    "                              }\n",
    "df_sf_logr_sffs = pd.DataFrame(dict([(k,pd.Series(v)) for k,v in selected_columns_logr_sffs.items()]))\n",
    "df_sf_logr_sffs.to_csv('/home/yelhe/script/mtp/tables/updated2_sffs_logisticreg.csv', index = True)"
   ]
  },
  {
   "cell_type": "markdown",
   "id": "528cb07a-dffb-450f-8ede-5e4dc1748ad1",
   "metadata": {
    "execution": {
     "iopub.execute_input": "2024-09-03T15:30:17.841200Z",
     "iopub.status.busy": "2024-09-03T15:30:17.840178Z",
     "iopub.status.idle": "2024-09-03T15:30:17.846475Z",
     "shell.execute_reply": "2024-09-03T15:30:17.845897Z",
     "shell.execute_reply.started": "2024-09-03T15:30:17.841170Z"
    }
   },
   "source": [
    "### Sequential backward floating selection"
   ]
  },
  {
   "cell_type": "code",
   "execution_count": 301,
   "id": "80a82579",
   "metadata": {
    "execution": {
     "iopub.execute_input": "2024-10-11T16:24:09.257200Z",
     "iopub.status.busy": "2024-10-11T16:24:09.256525Z",
     "iopub.status.idle": "2024-10-11T16:25:20.262202Z",
     "shell.execute_reply": "2024-10-11T16:25:20.261313Z",
     "shell.execute_reply.started": "2024-10-11T16:24:09.257166Z"
    }
   },
   "outputs": [
    {
     "name": "stdout",
     "output_type": "stream",
     "text": [
      "('cp', 'cmean', 'cmin', 'ie', 'mew', 'meg', 'dpedcro', 'droad', 'dvfpath', 'gvm_dwv', 'bicyclecount', 'carcount', 'r_width_value', 'z_qnr_1', 'z_qnr_3', 'z_qnr_5', 'z_qnr_7', 'z_qnr_8', 'z_qnr_11', 'z_qnr_14', 'z_qnr_22', 'z_qnr_26', 'z_knr_3', 'z_knr_4', 'z_knr_6', 'z_knr_9', 'trafficarea_2', 'r_width_2', 'r_width_3', 'r_width_4', 'r_width_5', 'r_width_6', 'r_surface_1', 'speedlimit_3', 'speedlimit_4')\n",
      "35\n",
      "0.8812920136980509\n"
     ]
    }
   ],
   "source": [
    "# n = best, logistic regression, scoring = accuracy, cv = 5\n",
    "sbfslog0 = featureselection_log(False, 'accuracy', 5, x, y)\n",
    "print(sbfslog0.k_feature_names_)\n",
    "print(len(sbfslog0.k_feature_names_))\n",
    "print(sbfslog0.k_score_)\n"
   ]
  },
  {
   "cell_type": "code",
   "execution_count": 302,
   "id": "ba383abf",
   "metadata": {
    "execution": {
     "iopub.execute_input": "2024-10-11T16:25:20.263933Z",
     "iopub.status.busy": "2024-10-11T16:25:20.263725Z",
     "iopub.status.idle": "2024-10-11T16:27:26.947388Z",
     "shell.execute_reply": "2024-10-11T16:27:26.946459Z",
     "shell.execute_reply.started": "2024-10-11T16:25:20.263915Z"
    }
   },
   "outputs": [
    {
     "name": "stdout",
     "output_type": "stream",
     "text": [
      "('megmax', 'speedlimit_value', 'z_qnr_5', 'z_qnr_7', 'z_qnr_12', 'z_qnr_23', 'z_knr_2', 'z_knr_6', 'z_knr_9', 'r_width_2', 'r_width_4', 'r_width_5', 'r_surface_1', 'speedlimit_1', 'speedlimit_4')\n",
      "15\n",
      "0.8776163778457355\n"
     ]
    }
   ],
   "source": [
    "# n = best, logistic regression, scoring = accuracy, cv = 10\n",
    "sbfslog1 = featureselection_log(False, 'accuracy', 10, x, y)\n",
    "print(sbfslog1.k_feature_names_)\n",
    "print(len(sbfslog1.k_feature_names_))\n",
    "print(sbfslog1.k_score_)\n"
   ]
  },
  {
   "cell_type": "code",
   "execution_count": 303,
   "id": "a1363b4b",
   "metadata": {
    "execution": {
     "iopub.execute_input": "2024-10-11T16:27:26.948830Z",
     "iopub.status.busy": "2024-10-11T16:27:26.948627Z",
     "iopub.status.idle": "2024-10-11T16:27:26.952531Z",
     "shell.execute_reply": "2024-10-11T16:27:26.951966Z",
     "shell.execute_reply.started": "2024-10-11T16:27:26.948812Z"
    }
   },
   "outputs": [],
   "source": [
    "# # n = best, logistic regression, scoring = accuracy, cv = 15\n",
    "# sbfslog2 = featureselection_log(False, 'accuracy', 15, x, y)\n",
    "# print(sbfslog2.k_feature_names_)\n",
    "# print(len(sbfslog2.k_feature_names_))\n",
    "# print(sbfslog2.k_score_)\n"
   ]
  },
  {
   "cell_type": "code",
   "execution_count": 304,
   "id": "cdb44a1f",
   "metadata": {
    "execution": {
     "iopub.execute_input": "2024-10-11T16:27:26.954500Z",
     "iopub.status.busy": "2024-10-11T16:27:26.954078Z",
     "iopub.status.idle": "2024-10-11T16:27:26.967318Z",
     "shell.execute_reply": "2024-10-11T16:27:26.966695Z",
     "shell.execute_reply.started": "2024-10-11T16:27:26.954483Z"
    }
   },
   "outputs": [],
   "source": [
    "# # n = best, logistic regression, scoring = accuracy, cv = 20\n",
    "# sbfslog3 = featureselection_log(False, 'accuracy', 20, x, y)\n",
    "# print(sbfslog3.k_feature_names_)\n",
    "# print(len(sbfslog3.k_feature_names_))\n",
    "# print(sbfslog3.k_score_)\n"
   ]
  },
  {
   "cell_type": "code",
   "execution_count": 305,
   "id": "4bdc1df9",
   "metadata": {
    "execution": {
     "iopub.execute_input": "2024-10-11T16:27:26.968084Z",
     "iopub.status.busy": "2024-10-11T16:27:26.967938Z",
     "iopub.status.idle": "2024-10-11T16:28:55.431072Z",
     "shell.execute_reply": "2024-10-11T16:28:55.430317Z",
     "shell.execute_reply.started": "2024-10-11T16:27:26.968070Z"
    }
   },
   "outputs": [
    {
     "name": "stdout",
     "output_type": "stream",
     "text": [
      "('cp', 'cmean', 'cmin', 'meg', 'droad', 'carcount', 'speedlimit_value', 'z_qnr_7', 'z_qnr_10', 'z_qnr_23', 'z_qnr_26', 'z_qnr_29', 'z_knr_1', 'z_knr_4', 'z_knr_5', 'z_knr_9', 'trafficarea_2', 'r_width_2', 'r_width_4', 'r_width_5', 'r_surface_1', 'speedlimit_1', 'speedlimit_4')\n",
      "23\n",
      "0.7480908152734779\n"
     ]
    }
   ],
   "source": [
    "# n = best, logistic regression, scoring = f1, cv = 5\n",
    "sbfslog2 = featureselection_log(False, 'f1', 5, x, y)\n",
    "print(sbfslog2.k_feature_names_)\n",
    "print(len(sbfslog2.k_feature_names_))\n",
    "print(sbfslog2.k_score_)"
   ]
  },
  {
   "cell_type": "code",
   "execution_count": 306,
   "id": "b90f1edf",
   "metadata": {
    "execution": {
     "iopub.execute_input": "2024-10-11T16:28:55.433153Z",
     "iopub.status.busy": "2024-10-11T16:28:55.432971Z",
     "iopub.status.idle": "2024-10-11T16:31:09.422830Z",
     "shell.execute_reply": "2024-10-11T16:31:09.421964Z",
     "shell.execute_reply.started": "2024-10-11T16:28:55.433137Z"
    }
   },
   "outputs": [
    {
     "name": "stdout",
     "output_type": "stream",
     "text": [
      "('cp', 'cmean', 'mew', 'droad', 'carcount', 'r_width_value', 'speedlimit_value', 'z_qnr_4', 'z_qnr_7', 'z_qnr_10', 'z_qnr_23', 'z_qnr_26', 'z_knr_4', 'z_knr_5', 'z_knr_9', 'trafficarea_2', 'r_width_2', 'r_width_4', 'r_width_5', 'r_width_6', 'r_surface_1', 'speedlimit_3', 'speedlimit_4')\n",
      "23\n",
      "0.7546771511164502\n"
     ]
    }
   ],
   "source": [
    "# n = best, logistic regression, scoring = f1, cv = 10\n",
    "sbfslog3 = featureselection_log(False, 'f1', 10, x, y)\n",
    "print(sbfslog3.k_feature_names_)\n",
    "print(len(sbfslog3.k_feature_names_))\n",
    "print(sbfslog3.k_score_)"
   ]
  },
  {
   "cell_type": "code",
   "execution_count": 307,
   "id": "b82c7b6f",
   "metadata": {
    "execution": {
     "iopub.execute_input": "2024-10-11T16:31:09.424245Z",
     "iopub.status.busy": "2024-10-11T16:31:09.424030Z",
     "iopub.status.idle": "2024-10-11T16:31:09.427987Z",
     "shell.execute_reply": "2024-10-11T16:31:09.427468Z",
     "shell.execute_reply.started": "2024-10-11T16:31:09.424226Z"
    }
   },
   "outputs": [],
   "source": [
    "# # n = best, logistic regression, scoring = f1, cv = 15\n",
    "# sbfslog6 = featureselection_log(False, 'f1', 15, x, y)\n",
    "# print(sbfslog6.k_feature_names_)\n",
    "# print(len(sbfslog6.k_feature_names_))\n",
    "# print(sbfslog6.k_score_)"
   ]
  },
  {
   "cell_type": "code",
   "execution_count": 308,
   "id": "1295bfe8",
   "metadata": {
    "execution": {
     "iopub.execute_input": "2024-10-11T16:31:09.428784Z",
     "iopub.status.busy": "2024-10-11T16:31:09.428633Z",
     "iopub.status.idle": "2024-10-11T16:31:09.444140Z",
     "shell.execute_reply": "2024-10-11T16:31:09.443601Z",
     "shell.execute_reply.started": "2024-10-11T16:31:09.428771Z"
    }
   },
   "outputs": [],
   "source": [
    "# n = best, logistic regression, scoring = f1, cv = 20\n",
    "# sbfslog7 = featureselection_log(False, 'f1', 20, x, y)\n",
    "# print(sbfslog7.k_feature_names_)\n",
    "# print(len(sbfslog7.k_feature_names_))\n",
    "# print(sbfslog7.k_score_)"
   ]
  },
  {
   "cell_type": "code",
   "execution_count": 448,
   "id": "605c2bc0",
   "metadata": {
    "execution": {
     "iopub.execute_input": "2024-10-11T17:28:49.170013Z",
     "iopub.status.busy": "2024-10-11T17:28:49.169426Z",
     "iopub.status.idle": "2024-10-11T17:28:49.173476Z",
     "shell.execute_reply": "2024-10-11T17:28:49.172795Z",
     "shell.execute_reply.started": "2024-10-11T17:28:49.169992Z"
    },
    "scrolled": true
   },
   "outputs": [],
   "source": [
    "# # # n = best, logistic regression, scoring = precision, cv = 5\n",
    "# sbfslog4 = featureselection_log(False, 'precision', 5, x, y)\n",
    "# print(sbfslog4.k_feature_names_)\n",
    "# print(len(sbfslog4.k_feature_names_))\n",
    "# print(sbfslog4.k_score_)"
   ]
  },
  {
   "cell_type": "code",
   "execution_count": 447,
   "id": "6fcfaec8",
   "metadata": {
    "execution": {
     "iopub.execute_input": "2024-10-11T17:28:45.607625Z",
     "iopub.status.busy": "2024-10-11T17:28:45.607057Z",
     "iopub.status.idle": "2024-10-11T17:28:45.611425Z",
     "shell.execute_reply": "2024-10-11T17:28:45.610703Z",
     "shell.execute_reply.started": "2024-10-11T17:28:45.607604Z"
    },
    "scrolled": true
   },
   "outputs": [],
   "source": [
    "# # # n = best, logistic regression, scoring = precision, cv = 10\n",
    "# sbfslog5 = featureselection_log(False, 'precision', 10, x, y)\n",
    "# print(sbfslog5.k_feature_names_)\n",
    "# print(len(sbfslog5.k_feature_names_))\n",
    "# print(sbfslog5.k_score_)"
   ]
  },
  {
   "cell_type": "code",
   "execution_count": 311,
   "id": "f9b3f34a",
   "metadata": {
    "execution": {
     "iopub.execute_input": "2024-10-11T16:34:17.134463Z",
     "iopub.status.busy": "2024-10-11T16:34:17.133707Z",
     "iopub.status.idle": "2024-10-11T16:34:17.137100Z",
     "shell.execute_reply": "2024-10-11T16:34:17.136702Z",
     "shell.execute_reply.started": "2024-10-11T16:34:17.134438Z"
    }
   },
   "outputs": [],
   "source": [
    "# # n = best, logistic regression, scoring = precision, cv = 15\n",
    "# sbfslog10 = featureselection_log(False, 'precision', 15, x, y)\n",
    "# print(sbfslog10.k_feature_names_)\n",
    "# print(len(sbfslog10.k_feature_names_))\n",
    "# print(sbfslog10.k_score_)"
   ]
  },
  {
   "cell_type": "code",
   "execution_count": 312,
   "id": "046d57e6",
   "metadata": {
    "execution": {
     "iopub.execute_input": "2024-10-11T16:34:17.138295Z",
     "iopub.status.busy": "2024-10-11T16:34:17.137707Z",
     "iopub.status.idle": "2024-10-11T16:34:17.156204Z",
     "shell.execute_reply": "2024-10-11T16:34:17.155823Z",
     "shell.execute_reply.started": "2024-10-11T16:34:17.138279Z"
    },
    "scrolled": true
   },
   "outputs": [],
   "source": [
    "# # n = best, logistic regression, scoring = precision, cv = 20\n",
    "# sbfslog11 = featureselection_log(False, 'precision', 20, x, y)\n",
    "# print(sbfslog11.k_feature_names_)\n",
    "# print(len(sbfslog11.k_feature_names_))\n",
    "# print(sbfslog11.k_score_)"
   ]
  },
  {
   "cell_type": "code",
   "execution_count": 313,
   "id": "a2b0adc4",
   "metadata": {
    "execution": {
     "iopub.execute_input": "2024-10-11T16:34:17.157390Z",
     "iopub.status.busy": "2024-10-11T16:34:17.156832Z",
     "iopub.status.idle": "2024-10-11T16:35:39.871490Z",
     "shell.execute_reply": "2024-10-11T16:35:39.870585Z",
     "shell.execute_reply.started": "2024-10-11T16:34:17.157373Z"
    }
   },
   "outputs": [
    {
     "name": "stdout",
     "output_type": "stream",
     "text": [
      "('speedlimit_value', 'z_qnr_5', 'z_qnr_7', 'z_qnr_10', 'z_qnr_12', 'z_qnr_25', 'z_knr_1', 'z_knr_6', 'z_knr_7', 'z_knr_8', 'z_knr_11', 'trafficarea_2', 'r_width_6', 'r_surface_1', 'speedlimit_4')\n",
      "15\n",
      "0.6711864406779661\n"
     ]
    }
   ],
   "source": [
    "# n = best, logistic regression, scoring = recall, cv = 5\n",
    "sbfslog6 = featureselection_log(False, 'recall', 5, x, y)\n",
    "print(sbfslog6.k_feature_names_)\n",
    "print(len(sbfslog6.k_feature_names_))\n",
    "print(sbfslog6.k_score_)"
   ]
  },
  {
   "cell_type": "code",
   "execution_count": 314,
   "id": "a4efef70",
   "metadata": {
    "execution": {
     "iopub.execute_input": "2024-10-11T16:35:39.872759Z",
     "iopub.status.busy": "2024-10-11T16:35:39.872563Z",
     "iopub.status.idle": "2024-10-11T16:37:29.675859Z",
     "shell.execute_reply": "2024-10-11T16:37:29.675053Z",
     "shell.execute_reply.started": "2024-10-11T16:35:39.872741Z"
    }
   },
   "outputs": [
    {
     "name": "stdout",
     "output_type": "stream",
     "text": [
      "('cp', 'cmean', 'ie', 'mew', 'megmax', 'dtrainl', 'dparkcar', 'droad', 'dvfpath', 'gvm_dwv', 'carcount', 'r_width_value', 'speedlimit_value', 'z_qnr_6', 'z_qnr_7', 'z_qnr_10', 'z_qnr_12', 'z_qnr_16', 'z_qnr_23', 'z_knr_4', 'z_knr_5', 'z_knr_8', 'z_knr_9', 'trafficarea_2', 'r_width_2', 'r_width_3', 'r_width_4', 'r_width_5', 'r_width_6', 'r_surface_1', 'speedlimit_3', 'speedlimit_4')\n",
      "32\n",
      "0.7113793103448277\n"
     ]
    }
   ],
   "source": [
    "# n = best, logistic regression, scoring = recall, cv = 10\n",
    "sbfslog7 = featureselection_log(False, 'recall', 10, x, y)\n",
    "print(sbfslog7.k_feature_names_)\n",
    "print(len(sbfslog7.k_feature_names_))\n",
    "print(sbfslog7.k_score_)"
   ]
  },
  {
   "cell_type": "code",
   "execution_count": 315,
   "id": "07b918be",
   "metadata": {
    "execution": {
     "iopub.execute_input": "2024-10-11T16:37:29.677011Z",
     "iopub.status.busy": "2024-10-11T16:37:29.676831Z",
     "iopub.status.idle": "2024-10-11T16:37:29.680369Z",
     "shell.execute_reply": "2024-10-11T16:37:29.679850Z",
     "shell.execute_reply.started": "2024-10-11T16:37:29.676993Z"
    }
   },
   "outputs": [],
   "source": [
    "# # n = best, logistic regression, scoring = recall, cv = 15\n",
    "# sbfslog14 = featureselection_log(False, 'recall', 15, x, y)\n",
    "# print(sbfslog14.k_feature_names_)\n",
    "# print(len(sbfslog14.k_feature_names_))\n",
    "# print(sbfslog14.k_score_)\n",
    "# #"
   ]
  },
  {
   "cell_type": "code",
   "execution_count": 316,
   "id": "89bf4092",
   "metadata": {
    "execution": {
     "iopub.execute_input": "2024-10-11T16:37:29.681243Z",
     "iopub.status.busy": "2024-10-11T16:37:29.681083Z",
     "iopub.status.idle": "2024-10-11T16:37:29.698517Z",
     "shell.execute_reply": "2024-10-11T16:37:29.697899Z",
     "shell.execute_reply.started": "2024-10-11T16:37:29.681229Z"
    }
   },
   "outputs": [],
   "source": [
    "# # n = best, logistic regression, scoring = recall, cv = 20\n",
    "# sbfslog15 = featureselection_log(False, 'recall', 20, x, y)\n",
    "# print(sbfslog15.k_feature_names_)\n",
    "# print(len(sbfslog15.k_feature_names_))\n",
    "# print(sbfslog15.k_score_)\n",
    "# #"
   ]
  },
  {
   "cell_type": "code",
   "execution_count": 317,
   "id": "0cccb8f2",
   "metadata": {
    "execution": {
     "iopub.execute_input": "2024-10-11T16:37:29.699323Z",
     "iopub.status.busy": "2024-10-11T16:37:29.699157Z",
     "iopub.status.idle": "2024-10-11T16:37:29.714088Z",
     "shell.execute_reply": "2024-10-11T16:37:29.713579Z",
     "shell.execute_reply.started": "2024-10-11T16:37:29.699310Z"
    }
   },
   "outputs": [],
   "source": [
    "# For all \n",
    "selected_columns_logr_sbfs = []\n",
    "selected_columns_logr_sbfs = {'all': cnu1,\n",
    "                              'acc_cv5':list(sbfslog0.k_feature_names_), \n",
    "                              'acc_cv10':list(sbfslog1.k_feature_names_),\n",
    "                              'f1_cv5':list(sbfslog2.k_feature_names_), \n",
    "                              'f1_cv10':list(sbfslog3.k_feature_names_),\n",
    "                              'pre_cv5':list(sbfslog4.k_feature_names_), \n",
    "                              'pre_cv10':list(sbfslog5.k_feature_names_),\n",
    "                              'rec_cv5':list(sbfslog6.k_feature_names_), \n",
    "                              'rec_cv10':list(sbfslog7.k_feature_names_)\n",
    "                              }\n",
    "df_sf_logr_sbfs = pd.DataFrame(dict([(k,pd.Series(v)) for k,v in selected_columns_logr_sbfs.items()]))\n",
    "df_sf_logr_sbfs.to_csv('/home/yelhe/script/mtp/tables/updated1_sbfs_logisticreg.csv', index = True)"
   ]
  },
  {
   "cell_type": "code",
   "execution_count": 322,
   "id": "a70e79d7-49f6-464d-9c7f-094b1748ee63",
   "metadata": {
    "execution": {
     "iopub.execute_input": "2024-10-11T16:52:32.527775Z",
     "iopub.status.busy": "2024-10-11T16:52:32.526778Z",
     "iopub.status.idle": "2024-10-11T16:52:32.534403Z",
     "shell.execute_reply": "2024-10-11T16:52:32.533938Z",
     "shell.execute_reply.started": "2024-10-11T16:52:32.527753Z"
    }
   },
   "outputs": [],
   "source": [
    "# df_output = pd.read_csv('/home/yelhe/script/mtp/tables/updated_sbfs_logisticreg.csv')\n",
    "df_output = pd.read_csv('/home/yelhe/script/mtp/tables/updated1_sffs_logisticreg.csv')"
   ]
  },
  {
   "cell_type": "code",
   "execution_count": 91,
   "id": "70c2cb55-22cd-4b77-9087-c4efbc66fb18",
   "metadata": {
    "execution": {
     "iopub.execute_input": "2024-10-11T14:52:21.462269Z",
     "iopub.status.busy": "2024-10-11T14:52:21.461832Z",
     "iopub.status.idle": "2024-10-11T14:52:21.466223Z",
     "shell.execute_reply": "2024-10-11T14:52:21.465594Z",
     "shell.execute_reply.started": "2024-10-11T14:52:21.462250Z"
    }
   },
   "outputs": [],
   "source": [
    "na = []\n",
    "na = ['acc_cv5','acc_cv10','f1_cv5','f1_cv10','pre_cv5','pre_cv10','rec_cv5','rec_cv10']"
   ]
  },
  {
   "cell_type": "code",
   "execution_count": 93,
   "id": "29209bb9-3b89-4909-964b-77614b68f469",
   "metadata": {
    "execution": {
     "iopub.execute_input": "2024-10-11T14:52:39.492666Z",
     "iopub.status.busy": "2024-10-11T14:52:39.492165Z",
     "iopub.status.idle": "2024-10-11T14:52:39.496514Z",
     "shell.execute_reply": "2024-10-11T14:52:39.496084Z",
     "shell.execute_reply.started": "2024-10-11T14:52:39.492645Z"
    }
   },
   "outputs": [
    {
     "data": {
      "text/plain": [
       "51"
      ]
     },
     "execution_count": 93,
     "metadata": {},
     "output_type": "execute_result"
    }
   ],
   "source": [
    "len(selected_columns_logr_sffs[na[0]])"
   ]
  },
  {
   "cell_type": "code",
   "execution_count": 387,
   "id": "69af2959-d65a-45e1-9548-ea202aec26af",
   "metadata": {
    "execution": {
     "iopub.execute_input": "2024-10-11T17:08:49.371215Z",
     "iopub.status.busy": "2024-10-11T17:08:49.370096Z",
     "iopub.status.idle": "2024-10-11T17:08:49.374570Z",
     "shell.execute_reply": "2024-10-11T17:08:49.374120Z",
     "shell.execute_reply.started": "2024-10-11T17:08:49.371153Z"
    }
   },
   "outputs": [],
   "source": [
    "log_sffs = []\n",
    "log_sbfs = []"
   ]
  },
  {
   "cell_type": "code",
   "execution_count": 437,
   "id": "ae21dc23-acbc-45ae-938f-29c5d039aad0",
   "metadata": {
    "execution": {
     "iopub.execute_input": "2024-10-11T17:21:31.643797Z",
     "iopub.status.busy": "2024-10-11T17:21:31.643141Z",
     "iopub.status.idle": "2024-10-11T17:21:31.647760Z",
     "shell.execute_reply": "2024-10-11T17:21:31.647314Z",
     "shell.execute_reply.started": "2024-10-11T17:21:31.643774Z"
    }
   },
   "outputs": [
    {
     "name": "stdout",
     "output_type": "stream",
     "text": [
      "7\n"
     ]
    }
   ],
   "source": [
    "# l = list(df_output['rec_cv10'].dropna())\n",
    "# i = 0\n",
    "i = i+1\n",
    "l = selected_columns_logr_sbfs[na[i]]\n",
    "# l = list(df_output[na[i]].dropna())\n",
    "print(i)"
   ]
  },
  {
   "cell_type": "code",
   "execution_count": 438,
   "id": "a7e1564b-26df-431c-aed3-1b23be29b019",
   "metadata": {
    "execution": {
     "iopub.execute_input": "2024-10-11T17:21:31.786843Z",
     "iopub.status.busy": "2024-10-11T17:21:31.786671Z",
     "iopub.status.idle": "2024-10-11T17:21:31.790427Z",
     "shell.execute_reply": "2024-10-11T17:21:31.789955Z",
     "shell.execute_reply.started": "2024-10-11T17:21:31.786829Z"
    }
   },
   "outputs": [],
   "source": [
    "# x_selected\n",
    "xs = dfacrpv[l]"
   ]
  },
  {
   "cell_type": "code",
   "execution_count": 439,
   "id": "f14d8828-3d49-4cbc-9458-3cf7e783dfe4",
   "metadata": {
    "execution": {
     "iopub.execute_input": "2024-10-11T17:21:31.922017Z",
     "iopub.status.busy": "2024-10-11T17:21:31.921438Z",
     "iopub.status.idle": "2024-10-11T17:21:32.211760Z",
     "shell.execute_reply": "2024-10-11T17:21:32.211082Z",
     "shell.execute_reply.started": "2024-10-11T17:21:31.922001Z"
    }
   },
   "outputs": [
    {
     "name": "stderr",
     "output_type": "stream",
     "text": [
      "/opt/conda/lib/python3.11/site-packages/statsmodels/base/model.py:130: ValueWarning: unknown kwargs ['max_iter']\n",
      "  warnings.warn(msg, ValueWarning)\n"
     ]
    },
    {
     "name": "stdout",
     "output_type": "stream",
     "text": [
      "Optimization terminated successfully    (Exit mode 0)\n",
      "            Current function value: 0.25229817644358854\n",
      "            Iterations: 252\n",
      "            Function evaluations: 252\n",
      "            Gradient evaluations: 252\n"
     ]
    },
    {
     "name": "stderr",
     "output_type": "stream",
     "text": [
      "/opt/conda/lib/python3.11/site-packages/statsmodels/base/model.py:130: ValueWarning: unknown kwargs ['max_iter']\n",
      "  warnings.warn(msg, ValueWarning)\n"
     ]
    },
    {
     "data": {
      "text/html": [
       "<table class=\"simpletable\">\n",
       "<caption>Logit Regression Results</caption>\n",
       "<tr>\n",
       "  <th>Dep. Variable:</th>          <td>acp</td>       <th>  No. Observations:  </th>   <td>   869</td>  \n",
       "</tr>\n",
       "<tr>\n",
       "  <th>Model:</th>                 <td>Logit</td>      <th>  Df Residuals:      </th>   <td>   836</td>  \n",
       "</tr>\n",
       "<tr>\n",
       "  <th>Method:</th>                 <td>MLE</td>       <th>  Df Model:          </th>   <td>    32</td>  \n",
       "</tr>\n",
       "<tr>\n",
       "  <th>Date:</th>            <td>Fri, 11 Oct 2024</td> <th>  Pseudo R-squ.:     </th>   <td>0.5686</td>  \n",
       "</tr>\n",
       "<tr>\n",
       "  <th>Time:</th>                <td>19:21:32</td>     <th>  Log-Likelihood:    </th>  <td> -219.25</td> \n",
       "</tr>\n",
       "<tr>\n",
       "  <th>converged:</th>             <td>True</td>       <th>  LL-Null:           </th>  <td> -508.21</td> \n",
       "</tr>\n",
       "<tr>\n",
       "  <th>Covariance Type:</th>     <td>nonrobust</td>    <th>  LLR p-value:       </th> <td>2.111e-101</td>\n",
       "</tr>\n",
       "</table>\n",
       "<table class=\"simpletable\">\n",
       "<tr>\n",
       "          <td></td>            <th>coef</th>     <th>std err</th>      <th>z</th>      <th>P>|z|</th>  <th>[0.025</th>    <th>0.975]</th>  \n",
       "</tr>\n",
       "<tr>\n",
       "  <th>const</th>            <td>  -20.9619</td> <td> 3309.383</td> <td>   -0.006</td> <td> 0.995</td> <td>-6507.234</td> <td> 6465.310</td>\n",
       "</tr>\n",
       "<tr>\n",
       "  <th>cp</th>               <td>   -3.0683</td> <td>    0.684</td> <td>   -4.485</td> <td> 0.000</td> <td>   -4.409</td> <td>   -1.727</td>\n",
       "</tr>\n",
       "<tr>\n",
       "  <th>cmean</th>            <td>    1.5397</td> <td>    0.339</td> <td>    4.549</td> <td> 0.000</td> <td>    0.876</td> <td>    2.203</td>\n",
       "</tr>\n",
       "<tr>\n",
       "  <th>ie</th>               <td>   -0.0764</td> <td>    0.126</td> <td>   -0.605</td> <td> 0.545</td> <td>   -0.324</td> <td>    0.171</td>\n",
       "</tr>\n",
       "<tr>\n",
       "  <th>mew</th>              <td>    0.1531</td> <td>    0.135</td> <td>    1.132</td> <td> 0.258</td> <td>   -0.112</td> <td>    0.418</td>\n",
       "</tr>\n",
       "<tr>\n",
       "  <th>megmax</th>           <td>   -0.0214</td> <td>    0.135</td> <td>   -0.158</td> <td> 0.874</td> <td>   -0.287</td> <td>    0.244</td>\n",
       "</tr>\n",
       "<tr>\n",
       "  <th>dtrainl</th>          <td>    0.1407</td> <td>    0.143</td> <td>    0.982</td> <td> 0.326</td> <td>   -0.140</td> <td>    0.422</td>\n",
       "</tr>\n",
       "<tr>\n",
       "  <th>dparkcar</th>         <td>   -0.0303</td> <td>    0.142</td> <td>   -0.213</td> <td> 0.831</td> <td>   -0.309</td> <td>    0.248</td>\n",
       "</tr>\n",
       "<tr>\n",
       "  <th>droad</th>            <td>   -0.1300</td> <td>    0.148</td> <td>   -0.880</td> <td> 0.379</td> <td>   -0.420</td> <td>    0.160</td>\n",
       "</tr>\n",
       "<tr>\n",
       "  <th>dvfpath</th>          <td>   -0.1829</td> <td>    0.142</td> <td>   -1.290</td> <td> 0.197</td> <td>   -0.461</td> <td>    0.095</td>\n",
       "</tr>\n",
       "<tr>\n",
       "  <th>gvm_dwv</th>          <td>    0.0364</td> <td>    0.145</td> <td>    0.252</td> <td> 0.801</td> <td>   -0.247</td> <td>    0.320</td>\n",
       "</tr>\n",
       "<tr>\n",
       "  <th>carcount</th>         <td>   -0.1872</td> <td>    0.137</td> <td>   -1.369</td> <td> 0.171</td> <td>   -0.455</td> <td>    0.081</td>\n",
       "</tr>\n",
       "<tr>\n",
       "  <th>r_width_value</th>    <td>   -0.9074</td> <td>    0.224</td> <td>   -4.056</td> <td> 0.000</td> <td>   -1.346</td> <td>   -0.469</td>\n",
       "</tr>\n",
       "<tr>\n",
       "  <th>speedlimit_value</th> <td>   -0.3347</td> <td>    0.171</td> <td>   -1.957</td> <td> 0.050</td> <td>   -0.670</td> <td>    0.001</td>\n",
       "</tr>\n",
       "<tr>\n",
       "  <th>z_qnr_6</th>          <td>   -0.9490</td> <td>    0.892</td> <td>   -1.064</td> <td> 0.287</td> <td>   -2.697</td> <td>    0.799</td>\n",
       "</tr>\n",
       "<tr>\n",
       "  <th>z_qnr_7</th>          <td>    2.7685</td> <td>    0.718</td> <td>    3.853</td> <td> 0.000</td> <td>    1.360</td> <td>    4.177</td>\n",
       "</tr>\n",
       "<tr>\n",
       "  <th>z_qnr_10</th>         <td>   -2.7174</td> <td>    0.759</td> <td>   -3.581</td> <td> 0.000</td> <td>   -4.205</td> <td>   -1.230</td>\n",
       "</tr>\n",
       "<tr>\n",
       "  <th>z_qnr_12</th>         <td>    1.2926</td> <td>    0.615</td> <td>    2.102</td> <td> 0.036</td> <td>    0.087</td> <td>    2.498</td>\n",
       "</tr>\n",
       "<tr>\n",
       "  <th>z_qnr_16</th>         <td>    1.7491</td> <td>    0.803</td> <td>    2.178</td> <td> 0.029</td> <td>    0.175</td> <td>    3.323</td>\n",
       "</tr>\n",
       "<tr>\n",
       "  <th>z_qnr_23</th>         <td>   -1.9581</td> <td>    1.143</td> <td>   -1.714</td> <td> 0.087</td> <td>   -4.198</td> <td>    0.281</td>\n",
       "</tr>\n",
       "<tr>\n",
       "  <th>z_knr_4</th>          <td>    2.0822</td> <td>    0.425</td> <td>    4.898</td> <td> 0.000</td> <td>    1.249</td> <td>    2.915</td>\n",
       "</tr>\n",
       "<tr>\n",
       "  <th>z_knr_5</th>          <td>    1.9346</td> <td>    0.455</td> <td>    4.256</td> <td> 0.000</td> <td>    1.044</td> <td>    2.826</td>\n",
       "</tr>\n",
       "<tr>\n",
       "  <th>z_knr_8</th>          <td>   -1.5526</td> <td>    0.664</td> <td>   -2.339</td> <td> 0.019</td> <td>   -2.854</td> <td>   -0.252</td>\n",
       "</tr>\n",
       "<tr>\n",
       "  <th>z_knr_9</th>          <td>    2.1389</td> <td>    0.417</td> <td>    5.124</td> <td> 0.000</td> <td>    1.321</td> <td>    2.957</td>\n",
       "</tr>\n",
       "<tr>\n",
       "  <th>trafficarea_2</th>    <td>   -1.5407</td> <td>    0.474</td> <td>   -3.249</td> <td> 0.001</td> <td>   -2.470</td> <td>   -0.611</td>\n",
       "</tr>\n",
       "<tr>\n",
       "  <th>r_width_2</th>        <td>   -1.7597</td> <td>    0.710</td> <td>   -2.480</td> <td> 0.013</td> <td>   -3.151</td> <td>   -0.369</td>\n",
       "</tr>\n",
       "<tr>\n",
       "  <th>r_width_3</th>        <td>    1.5561</td> <td>    0.606</td> <td>    2.569</td> <td> 0.010</td> <td>    0.369</td> <td>    2.743</td>\n",
       "</tr>\n",
       "<tr>\n",
       "  <th>r_width_4</th>        <td>    1.2978</td> <td>    0.396</td> <td>    3.276</td> <td> 0.001</td> <td>    0.521</td> <td>    2.074</td>\n",
       "</tr>\n",
       "<tr>\n",
       "  <th>r_width_5</th>        <td>    1.8994</td> <td>    0.468</td> <td>    4.057</td> <td> 0.000</td> <td>    0.982</td> <td>    2.817</td>\n",
       "</tr>\n",
       "<tr>\n",
       "  <th>r_width_6</th>        <td>    1.5210</td> <td>    0.543</td> <td>    2.801</td> <td> 0.005</td> <td>    0.457</td> <td>    2.585</td>\n",
       "</tr>\n",
       "<tr>\n",
       "  <th>r_surface_1</th>      <td>   19.5030</td> <td> 3309.383</td> <td>    0.006</td> <td> 0.995</td> <td>-6466.769</td> <td> 6505.775</td>\n",
       "</tr>\n",
       "<tr>\n",
       "  <th>speedlimit_3</th>     <td>   -3.3818</td> <td>    1.074</td> <td>   -3.148</td> <td> 0.002</td> <td>   -5.487</td> <td>   -1.276</td>\n",
       "</tr>\n",
       "<tr>\n",
       "  <th>speedlimit_4</th>     <td>    4.1111</td> <td>    0.443</td> <td>    9.273</td> <td> 0.000</td> <td>    3.242</td> <td>    4.980</td>\n",
       "</tr>\n",
       "</table>"
      ],
      "text/latex": [
       "\\begin{center}\n",
       "\\begin{tabular}{lclc}\n",
       "\\toprule\n",
       "\\textbf{Dep. Variable:}    &       acp        & \\textbf{  No. Observations:  } &      869    \\\\\n",
       "\\textbf{Model:}            &      Logit       & \\textbf{  Df Residuals:      } &      836    \\\\\n",
       "\\textbf{Method:}           &       MLE        & \\textbf{  Df Model:          } &       32    \\\\\n",
       "\\textbf{Date:}             & Fri, 11 Oct 2024 & \\textbf{  Pseudo R-squ.:     } &   0.5686    \\\\\n",
       "\\textbf{Time:}             &     19:21:32     & \\textbf{  Log-Likelihood:    } &   -219.25   \\\\\n",
       "\\textbf{converged:}        &       True       & \\textbf{  LL-Null:           } &   -508.21   \\\\\n",
       "\\textbf{Covariance Type:}  &    nonrobust     & \\textbf{  LLR p-value:       } & 2.111e-101  \\\\\n",
       "\\bottomrule\n",
       "\\end{tabular}\n",
       "\\begin{tabular}{lcccccc}\n",
       "                           & \\textbf{coef} & \\textbf{std err} & \\textbf{z} & \\textbf{P$> |$z$|$} & \\textbf{[0.025} & \\textbf{0.975]}  \\\\\n",
       "\\midrule\n",
       "\\textbf{const}             &     -20.9619  &     3309.383     &    -0.006  &         0.995        &    -6507.234    &     6465.310     \\\\\n",
       "\\textbf{cp}                &      -3.0683  &        0.684     &    -4.485  &         0.000        &       -4.409    &       -1.727     \\\\\n",
       "\\textbf{cmean}             &       1.5397  &        0.339     &     4.549  &         0.000        &        0.876    &        2.203     \\\\\n",
       "\\textbf{ie}                &      -0.0764  &        0.126     &    -0.605  &         0.545        &       -0.324    &        0.171     \\\\\n",
       "\\textbf{mew}               &       0.1531  &        0.135     &     1.132  &         0.258        &       -0.112    &        0.418     \\\\\n",
       "\\textbf{megmax}            &      -0.0214  &        0.135     &    -0.158  &         0.874        &       -0.287    &        0.244     \\\\\n",
       "\\textbf{dtrainl}           &       0.1407  &        0.143     &     0.982  &         0.326        &       -0.140    &        0.422     \\\\\n",
       "\\textbf{dparkcar}          &      -0.0303  &        0.142     &    -0.213  &         0.831        &       -0.309    &        0.248     \\\\\n",
       "\\textbf{droad}             &      -0.1300  &        0.148     &    -0.880  &         0.379        &       -0.420    &        0.160     \\\\\n",
       "\\textbf{dvfpath}           &      -0.1829  &        0.142     &    -1.290  &         0.197        &       -0.461    &        0.095     \\\\\n",
       "\\textbf{gvm\\_dwv}          &       0.0364  &        0.145     &     0.252  &         0.801        &       -0.247    &        0.320     \\\\\n",
       "\\textbf{carcount}          &      -0.1872  &        0.137     &    -1.369  &         0.171        &       -0.455    &        0.081     \\\\\n",
       "\\textbf{r\\_width\\_value}   &      -0.9074  &        0.224     &    -4.056  &         0.000        &       -1.346    &       -0.469     \\\\\n",
       "\\textbf{speedlimit\\_value} &      -0.3347  &        0.171     &    -1.957  &         0.050        &       -0.670    &        0.001     \\\\\n",
       "\\textbf{z\\_qnr\\_6}         &      -0.9490  &        0.892     &    -1.064  &         0.287        &       -2.697    &        0.799     \\\\\n",
       "\\textbf{z\\_qnr\\_7}         &       2.7685  &        0.718     &     3.853  &         0.000        &        1.360    &        4.177     \\\\\n",
       "\\textbf{z\\_qnr\\_10}        &      -2.7174  &        0.759     &    -3.581  &         0.000        &       -4.205    &       -1.230     \\\\\n",
       "\\textbf{z\\_qnr\\_12}        &       1.2926  &        0.615     &     2.102  &         0.036        &        0.087    &        2.498     \\\\\n",
       "\\textbf{z\\_qnr\\_16}        &       1.7491  &        0.803     &     2.178  &         0.029        &        0.175    &        3.323     \\\\\n",
       "\\textbf{z\\_qnr\\_23}        &      -1.9581  &        1.143     &    -1.714  &         0.087        &       -4.198    &        0.281     \\\\\n",
       "\\textbf{z\\_knr\\_4}         &       2.0822  &        0.425     &     4.898  &         0.000        &        1.249    &        2.915     \\\\\n",
       "\\textbf{z\\_knr\\_5}         &       1.9346  &        0.455     &     4.256  &         0.000        &        1.044    &        2.826     \\\\\n",
       "\\textbf{z\\_knr\\_8}         &      -1.5526  &        0.664     &    -2.339  &         0.019        &       -2.854    &       -0.252     \\\\\n",
       "\\textbf{z\\_knr\\_9}         &       2.1389  &        0.417     &     5.124  &         0.000        &        1.321    &        2.957     \\\\\n",
       "\\textbf{trafficarea\\_2}    &      -1.5407  &        0.474     &    -3.249  &         0.001        &       -2.470    &       -0.611     \\\\\n",
       "\\textbf{r\\_width\\_2}       &      -1.7597  &        0.710     &    -2.480  &         0.013        &       -3.151    &       -0.369     \\\\\n",
       "\\textbf{r\\_width\\_3}       &       1.5561  &        0.606     &     2.569  &         0.010        &        0.369    &        2.743     \\\\\n",
       "\\textbf{r\\_width\\_4}       &       1.2978  &        0.396     &     3.276  &         0.001        &        0.521    &        2.074     \\\\\n",
       "\\textbf{r\\_width\\_5}       &       1.8994  &        0.468     &     4.057  &         0.000        &        0.982    &        2.817     \\\\\n",
       "\\textbf{r\\_width\\_6}       &       1.5210  &        0.543     &     2.801  &         0.005        &        0.457    &        2.585     \\\\\n",
       "\\textbf{r\\_surface\\_1}     &      19.5030  &     3309.383     &     0.006  &         0.995        &    -6466.769    &     6505.775     \\\\\n",
       "\\textbf{speedlimit\\_3}     &      -3.3818  &        1.074     &    -3.148  &         0.002        &       -5.487    &       -1.276     \\\\\n",
       "\\textbf{speedlimit\\_4}     &       4.1111  &        0.443     &     9.273  &         0.000        &        3.242    &        4.980     \\\\\n",
       "\\bottomrule\n",
       "\\end{tabular}\n",
       "%\\caption{Logit Regression Results}\n",
       "\\end{center}"
      ],
      "text/plain": [
       "<class 'statsmodels.iolib.summary.Summary'>\n",
       "\"\"\"\n",
       "                           Logit Regression Results                           \n",
       "==============================================================================\n",
       "Dep. Variable:                    acp   No. Observations:                  869\n",
       "Model:                          Logit   Df Residuals:                      836\n",
       "Method:                           MLE   Df Model:                           32\n",
       "Date:                Fri, 11 Oct 2024   Pseudo R-squ.:                  0.5686\n",
       "Time:                        19:21:32   Log-Likelihood:                -219.25\n",
       "converged:                       True   LL-Null:                       -508.21\n",
       "Covariance Type:            nonrobust   LLR p-value:                2.111e-101\n",
       "====================================================================================\n",
       "                       coef    std err          z      P>|z|      [0.025      0.975]\n",
       "------------------------------------------------------------------------------------\n",
       "const              -20.9619   3309.383     -0.006      0.995   -6507.234    6465.310\n",
       "cp                  -3.0683      0.684     -4.485      0.000      -4.409      -1.727\n",
       "cmean                1.5397      0.339      4.549      0.000       0.876       2.203\n",
       "ie                  -0.0764      0.126     -0.605      0.545      -0.324       0.171\n",
       "mew                  0.1531      0.135      1.132      0.258      -0.112       0.418\n",
       "megmax              -0.0214      0.135     -0.158      0.874      -0.287       0.244\n",
       "dtrainl              0.1407      0.143      0.982      0.326      -0.140       0.422\n",
       "dparkcar            -0.0303      0.142     -0.213      0.831      -0.309       0.248\n",
       "droad               -0.1300      0.148     -0.880      0.379      -0.420       0.160\n",
       "dvfpath             -0.1829      0.142     -1.290      0.197      -0.461       0.095\n",
       "gvm_dwv              0.0364      0.145      0.252      0.801      -0.247       0.320\n",
       "carcount            -0.1872      0.137     -1.369      0.171      -0.455       0.081\n",
       "r_width_value       -0.9074      0.224     -4.056      0.000      -1.346      -0.469\n",
       "speedlimit_value    -0.3347      0.171     -1.957      0.050      -0.670       0.001\n",
       "z_qnr_6             -0.9490      0.892     -1.064      0.287      -2.697       0.799\n",
       "z_qnr_7              2.7685      0.718      3.853      0.000       1.360       4.177\n",
       "z_qnr_10            -2.7174      0.759     -3.581      0.000      -4.205      -1.230\n",
       "z_qnr_12             1.2926      0.615      2.102      0.036       0.087       2.498\n",
       "z_qnr_16             1.7491      0.803      2.178      0.029       0.175       3.323\n",
       "z_qnr_23            -1.9581      1.143     -1.714      0.087      -4.198       0.281\n",
       "z_knr_4              2.0822      0.425      4.898      0.000       1.249       2.915\n",
       "z_knr_5              1.9346      0.455      4.256      0.000       1.044       2.826\n",
       "z_knr_8             -1.5526      0.664     -2.339      0.019      -2.854      -0.252\n",
       "z_knr_9              2.1389      0.417      5.124      0.000       1.321       2.957\n",
       "trafficarea_2       -1.5407      0.474     -3.249      0.001      -2.470      -0.611\n",
       "r_width_2           -1.7597      0.710     -2.480      0.013      -3.151      -0.369\n",
       "r_width_3            1.5561      0.606      2.569      0.010       0.369       2.743\n",
       "r_width_4            1.2978      0.396      3.276      0.001       0.521       2.074\n",
       "r_width_5            1.8994      0.468      4.057      0.000       0.982       2.817\n",
       "r_width_6            1.5210      0.543      2.801      0.005       0.457       2.585\n",
       "r_surface_1         19.5030   3309.383      0.006      0.995   -6466.769    6505.775\n",
       "speedlimit_3        -3.3818      1.074     -3.148      0.002      -5.487      -1.276\n",
       "speedlimit_4         4.1111      0.443      9.273      0.000       3.242       4.980\n",
       "====================================================================================\n",
       "\"\"\""
      ]
     },
     "execution_count": 439,
     "metadata": {},
     "output_type": "execute_result"
    }
   ],
   "source": [
    "# # with splitting\n",
    "# xs_const = tools.add_constant(xs)\n",
    "# X_train, X_test, y_train, y_test = train_test_split(\n",
    "#         xs_const, y,\n",
    "#         test_size=0.2,\n",
    "#         random_state=i+10)\n",
    "# m_log_split = sm.Logit(y_train, X_train, max_iter = 400)\n",
    "# r_log_split = m_log_split.fit_regularized()\n",
    "# r_log_split.summary()"
   ]
  },
  {
   "cell_type": "code",
   "execution_count": 440,
   "id": "fce7b309-8962-4976-855f-fd79dafb94b7",
   "metadata": {
    "execution": {
     "iopub.execute_input": "2024-10-11T17:21:32.213514Z",
     "iopub.status.busy": "2024-10-11T17:21:32.212959Z",
     "iopub.status.idle": "2024-10-11T17:21:32.217112Z",
     "shell.execute_reply": "2024-10-11T17:21:32.216458Z",
     "shell.execute_reply.started": "2024-10-11T17:21:32.213494Z"
    }
   },
   "outputs": [
    {
     "name": "stdout",
     "output_type": "stream",
     "text": [
      "19\n"
     ]
    }
   ],
   "source": [
    "dfp = r_log_split.pvalues\n",
    "print(dfp[dfp<=0.05].size)"
   ]
  },
  {
   "cell_type": "code",
   "execution_count": 441,
   "id": "3da32d1a-170e-4f18-a82c-0dded6934831",
   "metadata": {
    "execution": {
     "iopub.execute_input": "2024-10-11T17:21:32.317949Z",
     "iopub.status.busy": "2024-10-11T17:21:32.317552Z",
     "iopub.status.idle": "2024-10-11T17:21:32.322818Z",
     "shell.execute_reply": "2024-10-11T17:21:32.322099Z",
     "shell.execute_reply.started": "2024-10-11T17:21:32.317932Z"
    }
   },
   "outputs": [
    {
     "data": {
      "text/plain": [
       "cp               7.300956e-06\n",
       "cmean            5.401771e-06\n",
       "r_width_value    4.987815e-05\n",
       "z_qnr_7          1.165997e-04\n",
       "z_qnr_10         3.429249e-04\n",
       "z_qnr_12         3.553544e-02\n",
       "z_qnr_16         2.941356e-02\n",
       "z_knr_4          9.661581e-07\n",
       "z_knr_5          2.081705e-05\n",
       "z_knr_8          1.933560e-02\n",
       "z_knr_9          2.986743e-07\n",
       "trafficarea_2    1.157269e-03\n",
       "r_width_2        1.315068e-02\n",
       "r_width_3        1.021233e-02\n",
       "r_width_4        1.053746e-03\n",
       "r_width_5        4.966156e-05\n",
       "r_width_6        5.092233e-03\n",
       "speedlimit_3     1.642190e-03\n",
       "speedlimit_4     1.803932e-20\n",
       "dtype: float64"
      ]
     },
     "execution_count": 441,
     "metadata": {},
     "output_type": "execute_result"
    }
   ],
   "source": [
    "dfp[dfp<=0.05]"
   ]
  },
  {
   "cell_type": "code",
   "execution_count": 442,
   "id": "ab38dd33-0c86-4ada-bccf-a7ebd5a5d634",
   "metadata": {
    "execution": {
     "iopub.execute_input": "2024-10-11T17:21:32.939081Z",
     "iopub.status.busy": "2024-10-11T17:21:32.938910Z",
     "iopub.status.idle": "2024-10-11T17:21:32.941811Z",
     "shell.execute_reply": "2024-10-11T17:21:32.941292Z",
     "shell.execute_reply.started": "2024-10-11T17:21:32.939067Z"
    }
   },
   "outputs": [],
   "source": [
    "log_sbfs.append(r_log_split.prsquared)"
   ]
  },
  {
   "cell_type": "code",
   "execution_count": 443,
   "id": "b90e7d18-d020-407e-9b8b-02ddff629b67",
   "metadata": {
    "execution": {
     "iopub.execute_input": "2024-10-11T17:21:33.247866Z",
     "iopub.status.busy": "2024-10-11T17:21:33.247697Z",
     "iopub.status.idle": "2024-10-11T17:21:33.251733Z",
     "shell.execute_reply": "2024-10-11T17:21:33.251122Z",
     "shell.execute_reply.started": "2024-10-11T17:21:33.247852Z"
    },
    "scrolled": true
   },
   "outputs": [
    {
     "data": {
      "text/plain": [
       "[0.5879503429459954,\n",
       " 0.4882945250116646,\n",
       " 0.5423178733293382,\n",
       " 0.6043093306456302,\n",
       " 0.4200229956802286,\n",
       " 0.41025709196306215,\n",
       " 0.46854190728225587,\n",
       " 0.5685887590511955]"
      ]
     },
     "execution_count": 443,
     "metadata": {},
     "output_type": "execute_result"
    }
   ],
   "source": [
    "log_sbfs"
   ]
  }
 ],
 "metadata": {
  "kernelspec": {
   "display_name": "Python 3 (ipykernel)",
   "language": "python",
   "name": "python3"
  },
  "language_info": {
   "codemirror_mode": {
    "name": "ipython",
    "version": 3
   },
   "file_extension": ".py",
   "mimetype": "text/x-python",
   "name": "python",
   "nbconvert_exporter": "python",
   "pygments_lexer": "ipython3",
   "version": "3.11.5"
  }
 },
 "nbformat": 4,
 "nbformat_minor": 5
}
