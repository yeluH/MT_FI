{
 "cells": [
  {
   "cell_type": "markdown",
   "id": "eaf477e6-160a-4627-86d7-ec4ef775338f",
   "metadata": {},
   "source": [
    "# Preparation"
   ]
  },
  {
   "cell_type": "code",
   "execution_count": 1,
   "id": "814b498e-0791-4f34-a26a-13e042cbf8ef",
   "metadata": {
    "execution": {
     "iopub.execute_input": "2024-10-25T09:38:40.977484Z",
     "iopub.status.busy": "2024-10-25T09:38:40.976778Z",
     "iopub.status.idle": "2024-10-25T09:38:40.980036Z",
     "shell.execute_reply": "2024-10-25T09:38:40.979639Z",
     "shell.execute_reply.started": "2024-10-25T09:38:40.977445Z"
    }
   },
   "outputs": [],
   "source": [
    "# This file is based on: 1_regression_presence_of_accident\n",
    "# Remove features which were found correlated with others\n",
    "# Remove the categorical features which has only two categories\n",
    "# Remove features identified by VIF"
   ]
  },
  {
   "cell_type": "code",
   "execution_count": 2,
   "id": "7e9f75d8-3be9-45ef-b9ae-ad72fefb7ce1",
   "metadata": {
    "execution": {
     "iopub.execute_input": "2024-10-25T09:38:40.982290Z",
     "iopub.status.busy": "2024-10-25T09:38:40.982065Z",
     "iopub.status.idle": "2024-10-25T09:38:47.864134Z",
     "shell.execute_reply": "2024-10-25T09:38:47.863550Z",
     "shell.execute_reply.started": "2024-10-25T09:38:40.982277Z"
    }
   },
   "outputs": [],
   "source": [
    "import torch\n",
    "torch.cuda.empty_cache() "
   ]
  },
  {
   "cell_type": "code",
   "execution_count": 3,
   "id": "f3e5fa71-37bd-4efe-b8ee-ae3c362b2a1b",
   "metadata": {
    "execution": {
     "iopub.execute_input": "2024-10-25T09:38:47.865402Z",
     "iopub.status.busy": "2024-10-25T09:38:47.865144Z",
     "iopub.status.idle": "2024-10-25T09:38:49.162989Z",
     "shell.execute_reply": "2024-10-25T09:38:49.162414Z",
     "shell.execute_reply.started": "2024-10-25T09:38:47.865385Z"
    }
   },
   "outputs": [],
   "source": [
    "import os \n",
    "os.environ['MPLCONFIGDIR'] = os.getcwd() + \"/configs/\"\n",
    "import matplotlib\n",
    "from matplotlib import pyplot as plt\n",
    "import numpy as np\n",
    "import cv2\n",
    "import urllib.request\n",
    "from PIL import Image"
   ]
  },
  {
   "cell_type": "code",
   "execution_count": 4,
   "id": "132db61a-9aa6-4936-8ab4-054288d07d2e",
   "metadata": {
    "execution": {
     "iopub.execute_input": "2024-10-25T09:38:49.163822Z",
     "iopub.status.busy": "2024-10-25T09:38:49.163677Z",
     "iopub.status.idle": "2024-10-25T09:38:51.383244Z",
     "shell.execute_reply": "2024-10-25T09:38:51.382628Z",
     "shell.execute_reply.started": "2024-10-25T09:38:49.163807Z"
    }
   },
   "outputs": [],
   "source": [
    "import pandas as pd\n",
    "import pyproj"
   ]
  },
  {
   "cell_type": "code",
   "execution_count": 5,
   "id": "80d61825-dc8d-4005-9362-cf497e771695",
   "metadata": {
    "execution": {
     "iopub.execute_input": "2024-10-25T09:38:51.384306Z",
     "iopub.status.busy": "2024-10-25T09:38:51.384052Z",
     "iopub.status.idle": "2024-10-25T09:38:51.387204Z",
     "shell.execute_reply": "2024-10-25T09:38:51.386751Z",
     "shell.execute_reply.started": "2024-10-25T09:38:51.384289Z"
    }
   },
   "outputs": [],
   "source": [
    "import os \n",
    "os.environ['MPLCONFIGDIR'] = os.getcwd() + \"/configs/\"\n",
    "import matplotlib\n",
    "from matplotlib import pyplot as plt\n",
    "import numpy as np\n",
    "import cv2"
   ]
  },
  {
   "cell_type": "code",
   "execution_count": 6,
   "id": "31d6a097",
   "metadata": {
    "execution": {
     "iopub.execute_input": "2024-10-25T09:38:51.388706Z",
     "iopub.status.busy": "2024-10-25T09:38:51.388464Z",
     "iopub.status.idle": "2024-10-25T09:38:55.268643Z",
     "shell.execute_reply": "2024-10-25T09:38:55.268164Z",
     "shell.execute_reply.started": "2024-10-25T09:38:51.388693Z"
    }
   },
   "outputs": [],
   "source": [
    "from pathlib import Path\n",
    "import sklearn\n",
    "import seaborn as sn\n",
    "from scipy import stats\n",
    "from tabulate import tabulate\n",
    "import statsmodels.api as sm\n",
    "import statsmodels.tools as tools"
   ]
  },
  {
   "cell_type": "code",
   "execution_count": 7,
   "id": "923fac26-61e2-49dd-9099-e31ff4079430",
   "metadata": {
    "execution": {
     "iopub.execute_input": "2024-10-25T09:38:55.269489Z",
     "iopub.status.busy": "2024-10-25T09:38:55.269219Z",
     "iopub.status.idle": "2024-10-25T09:38:55.859731Z",
     "shell.execute_reply": "2024-10-25T09:38:55.859239Z",
     "shell.execute_reply.started": "2024-10-25T09:38:55.269472Z"
    }
   },
   "outputs": [],
   "source": [
    "from mtp_function_yl import *"
   ]
  },
  {
   "cell_type": "code",
   "execution_count": 8,
   "id": "e1804d06-b69a-4709-ac5c-1970d29c38a2",
   "metadata": {
    "execution": {
     "iopub.execute_input": "2024-10-25T09:38:55.860551Z",
     "iopub.status.busy": "2024-10-25T09:38:55.860289Z",
     "iopub.status.idle": "2024-10-25T09:38:56.183113Z",
     "shell.execute_reply": "2024-10-25T09:38:56.182430Z",
     "shell.execute_reply.started": "2024-10-25T09:38:55.860534Z"
    }
   },
   "outputs": [],
   "source": [
    "import sklearn\n",
    "from sklearn import metrics\n",
    "from sklearn.metrics import accuracy_score\n",
    "from sklearn.metrics import accuracy_score, confusion_matrix, roc_auc_score, roc_curve\n",
    "from sklearn.model_selection import train_test_split\n",
    "\n",
    "from sklearn import linear_model\n",
    "\n",
    "from sklearn.neighbors import KNeighborsClassifier\n",
    "\n",
    "from sklearn.ensemble import RandomForestClassifier\n",
    "\n",
    "from sklearn.preprocessing import LabelEncoder\n",
    "\n",
    "from sklearn import svm\n",
    "\n",
    "import seaborn as sn\n",
    "\n",
    "\n",
    "# For regression\n",
    "from sklearn.ensemble import RandomForestRegressor\n",
    "# from sklearn.metrics import PredictionErrorDisplay\n",
    "\n",
    "import mlxtend\n",
    "# For stepwise feature selection\n",
    "from mlxtend.feature_selection import SequentialFeatureSelector\n",
    "from mlxtend.plotting import plot_sequential_feature_selection as plot_sfs"
   ]
  },
  {
   "cell_type": "code",
   "execution_count": 9,
   "id": "52971dc9",
   "metadata": {
    "execution": {
     "iopub.execute_input": "2024-10-25T09:38:56.184062Z",
     "iopub.status.busy": "2024-10-25T09:38:56.183896Z",
     "iopub.status.idle": "2024-10-25T09:38:56.186616Z",
     "shell.execute_reply": "2024-10-25T09:38:56.186187Z",
     "shell.execute_reply.started": "2024-10-25T09:38:56.184043Z"
    }
   },
   "outputs": [],
   "source": [
    "import warnings\n",
    "warnings.simplefilter(action='ignore', category=FutureWarning)"
   ]
  },
  {
   "cell_type": "code",
   "execution_count": 10,
   "id": "2ab3a45d-22e0-47a8-8683-6379778d16af",
   "metadata": {
    "execution": {
     "iopub.execute_input": "2024-10-25T09:38:56.187347Z",
     "iopub.status.busy": "2024-10-25T09:38:56.187200Z",
     "iopub.status.idle": "2024-10-25T09:38:56.214651Z",
     "shell.execute_reply": "2024-10-25T09:38:56.214093Z",
     "shell.execute_reply.started": "2024-10-25T09:38:56.187335Z"
    }
   },
   "outputs": [],
   "source": [
    "# For documentation and version control\n",
    "# pip install watermark\n",
    "%load_ext watermark"
   ]
  },
  {
   "cell_type": "code",
   "execution_count": 11,
   "id": "2a136dd7-7bc6-41ab-9893-647a65990d75",
   "metadata": {
    "execution": {
     "iopub.execute_input": "2024-10-25T09:38:56.215476Z",
     "iopub.status.busy": "2024-10-25T09:38:56.215326Z",
     "iopub.status.idle": "2024-10-25T09:38:56.261540Z",
     "shell.execute_reply": "2024-10-25T09:38:56.260937Z",
     "shell.execute_reply.started": "2024-10-25T09:38:56.215461Z"
    }
   },
   "outputs": [
    {
     "name": "stdout",
     "output_type": "stream",
     "text": [
      "Last updated: 2024-10-25\n",
      "\n",
      "Python implementation: CPython\n",
      "Python version       : 3.11.5\n",
      "IPython version      : 8.14.0\n",
      "\n",
      "Compiler    : GCC 12.3.0\n",
      "OS          : Linux\n",
      "Release     : 5.15.0-119-generic\n",
      "Machine     : x86_64\n",
      "Processor   : x86_64\n",
      "CPU cores   : 16\n",
      "Architecture: 64bit\n",
      "\n",
      "scipy      : 1.11.2\n",
      "seaborn    : 0.12.2\n",
      "pyproj     : 3.6.1\n",
      "pandas     : 2.0.3\n",
      "shapely    : 2.0.2\n",
      "cv2        : 4.8.1\n",
      "numpy      : 1.26.4\n",
      "statsmodels: 0.14.0\n",
      "torch      : 2.0.1\n",
      "matplotlib : 3.7.2\n",
      "mlxtend    : 0.23.1\n",
      "sklearn    : 1.3.0\n",
      "PIL        : 10.0.0\n",
      "\n"
     ]
    }
   ],
   "source": [
    "%watermark  -u -d -v -m --iversions"
   ]
  },
  {
   "cell_type": "markdown",
   "id": "11486eff-60e0-460e-a14b-9a0ab0628a50",
   "metadata": {},
   "source": [
    "# Data loading"
   ]
  },
  {
   "cell_type": "markdown",
   "id": "a1e64746",
   "metadata": {},
   "source": [
    "## For science cluster environment"
   ]
  },
  {
   "cell_type": "code",
   "execution_count": 12,
   "id": "bd1de1e5-d842-482d-9027-047b5690f2c0",
   "metadata": {
    "execution": {
     "iopub.execute_input": "2024-10-25T09:38:56.262405Z",
     "iopub.status.busy": "2024-10-25T09:38:56.262252Z",
     "iopub.status.idle": "2024-10-25T09:38:56.279652Z",
     "shell.execute_reply": "2024-10-25T09:38:56.279120Z",
     "shell.execute_reply.started": "2024-10-25T09:38:56.262389Z"
    }
   },
   "outputs": [],
   "source": [
    "aa = pd.read_csv('/home/yelhe/script/mt/dataraw/dfaa.csv')"
   ]
  },
  {
   "cell_type": "code",
   "execution_count": 13,
   "id": "81878c3e-4db4-46cf-bff2-e3655f317434",
   "metadata": {
    "execution": {
     "iopub.execute_input": "2024-10-25T09:38:56.280473Z",
     "iopub.status.busy": "2024-10-25T09:38:56.280329Z",
     "iopub.status.idle": "2024-10-25T09:38:56.309482Z",
     "shell.execute_reply": "2024-10-25T09:38:56.308909Z",
     "shell.execute_reply.started": "2024-10-25T09:38:56.280459Z"
    }
   },
   "outputs": [],
   "source": [
    "acv = pd.read_csv('/home/yelhe/script/mt/model/allvariable_accident.csv')\n",
    "rpv = pd.read_csv('/home/yelhe/script/mt/model/allvariable_rp.csv')"
   ]
  },
  {
   "cell_type": "code",
   "execution_count": 14,
   "id": "3f65d889-2979-46dc-9b90-6eee5e7c4457",
   "metadata": {
    "execution": {
     "iopub.execute_input": "2024-10-25T09:38:56.310369Z",
     "iopub.status.busy": "2024-10-25T09:38:56.310212Z",
     "iopub.status.idle": "2024-10-25T09:38:56.314838Z",
     "shell.execute_reply": "2024-10-25T09:38:56.314403Z",
     "shell.execute_reply.started": "2024-10-25T09:38:56.310354Z"
    }
   },
   "outputs": [],
   "source": [
    "# same size\n",
    "acv0 = acv.drop(['SV','LV','pd','svp','lvp','pdp'], axis = 1)\n",
    "acv0 = acv0.assign(acp = 1)\n",
    "acv0 = acv0.rename(columns = {'Nr':'id'})"
   ]
  },
  {
   "cell_type": "code",
   "execution_count": 15,
   "id": "e33c54c5-77a3-4ad9-be5f-7fad52b32b43",
   "metadata": {
    "execution": {
     "iopub.execute_input": "2024-10-25T09:38:56.316889Z",
     "iopub.status.busy": "2024-10-25T09:38:56.316752Z",
     "iopub.status.idle": "2024-10-25T09:38:56.322827Z",
     "shell.execute_reply": "2024-10-25T09:38:56.322399Z",
     "shell.execute_reply.started": "2024-10-25T09:38:56.316877Z"
    }
   },
   "outputs": [],
   "source": [
    "rpv0 = rpv.drop(['speedlimit_7', 'z_qnr_34'], axis = 1)\n",
    "rpv0 = rpv0.assign(acp = 0)"
   ]
  },
  {
   "cell_type": "code",
   "execution_count": 16,
   "id": "99791627-7727-45f1-ad10-6af2999537db",
   "metadata": {
    "execution": {
     "iopub.execute_input": "2024-10-25T09:38:56.323500Z",
     "iopub.status.busy": "2024-10-25T09:38:56.323366Z",
     "iopub.status.idle": "2024-10-25T09:38:56.332198Z",
     "shell.execute_reply": "2024-10-25T09:38:56.331764Z",
     "shell.execute_reply.started": "2024-10-25T09:38:56.323488Z"
    }
   },
   "outputs": [],
   "source": [
    "dfacrpv = pd.concat([acv0, rpv0])"
   ]
  },
  {
   "cell_type": "code",
   "execution_count": 17,
   "id": "2a27f299-4545-4429-9e99-c78557b2b02b",
   "metadata": {
    "execution": {
     "iopub.execute_input": "2024-10-25T09:38:56.332869Z",
     "iopub.status.busy": "2024-10-25T09:38:56.332733Z",
     "iopub.status.idle": "2024-10-25T09:38:56.340743Z",
     "shell.execute_reply": "2024-10-25T09:38:56.340317Z",
     "shell.execute_reply.started": "2024-10-25T09:38:56.332857Z"
    }
   },
   "outputs": [
    {
     "data": {
      "text/plain": [
       "110"
      ]
     },
     "execution_count": 17,
     "metadata": {},
     "output_type": "execute_result"
    }
   ],
   "source": [
    "len(dfacrpv.columns.values)"
   ]
  },
  {
   "cell_type": "code",
   "execution_count": 18,
   "id": "91f5a45f-f7db-48f4-9c2d-b249c20d6b3e",
   "metadata": {
    "execution": {
     "iopub.execute_input": "2024-10-25T09:38:56.341431Z",
     "iopub.status.busy": "2024-10-25T09:38:56.341296Z",
     "iopub.status.idle": "2024-10-25T09:38:56.348045Z",
     "shell.execute_reply": "2024-10-25T09:38:56.347555Z",
     "shell.execute_reply.started": "2024-10-25T09:38:56.341419Z"
    }
   },
   "outputs": [],
   "source": [
    "# dfacrpv.to_csv('/home/yelhe/script/mt/model/dfacrpv.csv', index = False)"
   ]
  },
  {
   "cell_type": "markdown",
   "id": "b37914e0",
   "metadata": {},
   "source": [
    "## Pre Processing"
   ]
  },
  {
   "cell_type": "code",
   "execution_count": 19,
   "id": "cc9ed0ff-bd98-4630-b590-0a9e45334e08",
   "metadata": {
    "execution": {
     "iopub.execute_input": "2024-10-25T09:38:56.348731Z",
     "iopub.status.busy": "2024-10-25T09:38:56.348591Z",
     "iopub.status.idle": "2024-10-25T09:38:56.358309Z",
     "shell.execute_reply": "2024-10-25T09:38:56.357819Z",
     "shell.execute_reply.started": "2024-10-25T09:38:56.348719Z"
    }
   },
   "outputs": [],
   "source": [
    "cn = ['cp', 'ie', 'iemin', 'iemax', 'mew', 'mewmin', 'mewmax', 'meg', \n",
    "      'megmin', 'megmax', 'cmean', 'cmin', 'cmax', 'dbusl', 'dtraml', \n",
    "      'dtrainl', 'dplight', 'dstation', 'dparkcar', 'dparktw', 'dpedcro', 'dstopsign', 'dcurb',\n",
    "      'dtrafficarea', 'droad', 'dvfpath', 'gvm_dwv', 'gvm_msp', 'gvm_asp', 'r_width_value',\n",
    "      'speedlimit_value', 'curbtype_1', 'curbtype_2', 'z_qnr_1', 'z_qnr_2', 'z_qnr_3', 'z_qnr_4', 'z_qnr_5',\n",
    "      'z_qnr_6', 'z_qnr_7', 'z_qnr_8', 'z_qnr_9', 'z_qnr_10', 'z_qnr_11', 'z_qnr_12', 'z_qnr_13',\n",
    "      'z_qnr_14', 'z_qnr_15', 'z_qnr_16', 'z_qnr_17', 'z_qnr_18',\n",
    "      'z_qnr_19', 'z_qnr_20', 'z_qnr_21', 'z_qnr_22', 'z_qnr_23', 'z_qnr_24',\n",
    "       'z_qnr_25', 'z_qnr_26', 'z_qnr_27', 'z_qnr_28', 'z_qnr_29', 'z_qnr_30',\n",
    "       'z_qnr_31', 'z_qnr_32', 'z_qnr_33', 'z_knr_1', 'z_knr_2', 'z_knr_3',\n",
    "       'z_knr_4', 'z_knr_5', 'z_knr_6', 'z_knr_7', 'z_knr_8', 'z_knr_9',\n",
    "       'z_knr_10', 'z_knr_11', 'z_knr_12', 'trafficarea_1', 'trafficarea_2',\n",
    "       'trafficarea_3', 'r_width_1', 'r_width_2', 'r_width_3', 'r_width_4',\n",
    "       'r_width_5', 'r_width_6', 'r_width_7', 'r_surface_1', 'r_surface_2',\n",
    "       'speedlimit_1', 'speedlimit_2', 'speedlimit_3', 'speedlimit_4',\n",
    "       'speedlimit_5', 'speedlimit_6', 'bicyclecount', 'carcount']\n",
    "\n",
    "# Remove id, droad_sl ,'d_bicyclecount' 'd_carcount' 'curbtype'  \n",
    "# 'z_qnr' 'z_knr'  'trafficarea'\n",
    "# 'r_width''r_surface' 'speedlimit'"
   ]
  },
  {
   "cell_type": "code",
   "execution_count": 20,
   "id": "c41fea0f-1761-4536-be1c-134bb4cc4041",
   "metadata": {
    "execution": {
     "iopub.execute_input": "2024-10-25T09:38:56.359026Z",
     "iopub.status.busy": "2024-10-25T09:38:56.358886Z",
     "iopub.status.idle": "2024-10-25T09:38:56.365802Z",
     "shell.execute_reply": "2024-10-25T09:38:56.365386Z",
     "shell.execute_reply.started": "2024-10-25T09:38:56.359013Z"
    }
   },
   "outputs": [],
   "source": [
    "# remove features which has correlation <-0.8 or > 0.8"
   ]
  },
  {
   "cell_type": "code",
   "execution_count": 21,
   "id": "f5c2127f-641e-40ce-88c8-7b8929c1c201",
   "metadata": {
    "execution": {
     "iopub.execute_input": "2024-10-25T09:38:56.366647Z",
     "iopub.status.busy": "2024-10-25T09:38:56.366499Z",
     "iopub.status.idle": "2024-10-25T09:38:56.380387Z",
     "shell.execute_reply": "2024-10-25T09:38:56.379861Z",
     "shell.execute_reply.started": "2024-10-25T09:38:56.366636Z"
    }
   },
   "outputs": [],
   "source": [
    "# correlation analysis result\n",
    "dfcorr = pd.read_csv('/home/yelhe/script/mtp/tables/sorted_unique_corrpairs.csv')"
   ]
  },
  {
   "cell_type": "code",
   "execution_count": 22,
   "id": "9f3d719b-0e45-4c0f-9f09-207037c0f001",
   "metadata": {
    "execution": {
     "iopub.execute_input": "2024-10-25T09:38:56.381095Z",
     "iopub.status.busy": "2024-10-25T09:38:56.380959Z",
     "iopub.status.idle": "2024-10-25T09:38:56.383742Z",
     "shell.execute_reply": "2024-10-25T09:38:56.383326Z",
     "shell.execute_reply.started": "2024-10-25T09:38:56.381082Z"
    }
   },
   "outputs": [],
   "source": [
    "dfcorr = dfcorr.rename(columns = {'Unnamed: 0':'feature1', 'Unnamed: 1':'feature2',\n",
    "                                  '0':'correlation'})"
   ]
  },
  {
   "cell_type": "code",
   "execution_count": 23,
   "id": "7db0a0e8-e941-49d7-bf1c-fc17b88c6bb5",
   "metadata": {
    "execution": {
     "iopub.execute_input": "2024-10-25T09:38:56.384407Z",
     "iopub.status.busy": "2024-10-25T09:38:56.384269Z",
     "iopub.status.idle": "2024-10-25T09:38:56.392462Z",
     "shell.execute_reply": "2024-10-25T09:38:56.392021Z",
     "shell.execute_reply.started": "2024-10-25T09:38:56.384394Z"
    }
   },
   "outputs": [],
   "source": [
    "dfcorr_high = dfcorr.loc[(dfcorr['correlation'] <= -0.8) | (dfcorr['correlation'] >= 0.8)]"
   ]
  },
  {
   "cell_type": "code",
   "execution_count": 24,
   "id": "408c03e3-de39-4fb8-a6e6-02b724d61bf9",
   "metadata": {
    "execution": {
     "iopub.execute_input": "2024-10-25T09:38:56.393116Z",
     "iopub.status.busy": "2024-10-25T09:38:56.392985Z",
     "iopub.status.idle": "2024-10-25T09:38:56.411124Z",
     "shell.execute_reply": "2024-10-25T09:38:56.410634Z",
     "shell.execute_reply.started": "2024-10-25T09:38:56.393105Z"
    }
   },
   "outputs": [
    {
     "data": {
      "text/html": [
       "<div>\n",
       "<style scoped>\n",
       "    .dataframe tbody tr th:only-of-type {\n",
       "        vertical-align: middle;\n",
       "    }\n",
       "\n",
       "    .dataframe tbody tr th {\n",
       "        vertical-align: top;\n",
       "    }\n",
       "\n",
       "    .dataframe thead th {\n",
       "        text-align: right;\n",
       "    }\n",
       "</style>\n",
       "<table border=\"1\" class=\"dataframe\">\n",
       "  <thead>\n",
       "    <tr style=\"text-align: right;\">\n",
       "      <th></th>\n",
       "      <th>feature1</th>\n",
       "      <th>feature2</th>\n",
       "      <th>correlation</th>\n",
       "    </tr>\n",
       "  </thead>\n",
       "  <tbody>\n",
       "    <tr>\n",
       "      <th>0</th>\n",
       "      <td>curbtype_2</td>\n",
       "      <td>curbtype_1</td>\n",
       "      <td>-1.000000</td>\n",
       "    </tr>\n",
       "    <tr>\n",
       "      <th>1</th>\n",
       "      <td>r_surface_2</td>\n",
       "      <td>r_surface_1</td>\n",
       "      <td>-1.000000</td>\n",
       "    </tr>\n",
       "    <tr>\n",
       "      <th>2</th>\n",
       "      <td>speedlimit_2</td>\n",
       "      <td>speedlimit_value</td>\n",
       "      <td>-0.843848</td>\n",
       "    </tr>\n",
       "    <tr>\n",
       "      <th>4742</th>\n",
       "      <td>mewmax</td>\n",
       "      <td>mew</td>\n",
       "      <td>0.843518</td>\n",
       "    </tr>\n",
       "    <tr>\n",
       "      <th>4743</th>\n",
       "      <td>megmin</td>\n",
       "      <td>meg</td>\n",
       "      <td>0.859393</td>\n",
       "    </tr>\n",
       "    <tr>\n",
       "      <th>4744</th>\n",
       "      <td>mewmin</td>\n",
       "      <td>mew</td>\n",
       "      <td>0.861981</td>\n",
       "    </tr>\n",
       "    <tr>\n",
       "      <th>4745</th>\n",
       "      <td>cmean</td>\n",
       "      <td>cp</td>\n",
       "      <td>0.906091</td>\n",
       "    </tr>\n",
       "    <tr>\n",
       "      <th>4746</th>\n",
       "      <td>iemax</td>\n",
       "      <td>ie</td>\n",
       "      <td>0.919919</td>\n",
       "    </tr>\n",
       "    <tr>\n",
       "      <th>4747</th>\n",
       "      <td>cmax</td>\n",
       "      <td>cp</td>\n",
       "      <td>0.940030</td>\n",
       "    </tr>\n",
       "    <tr>\n",
       "      <th>4748</th>\n",
       "      <td>iemin</td>\n",
       "      <td>ie</td>\n",
       "      <td>0.957061</td>\n",
       "    </tr>\n",
       "    <tr>\n",
       "      <th>4749</th>\n",
       "      <td>cmax</td>\n",
       "      <td>cmean</td>\n",
       "      <td>0.963800</td>\n",
       "    </tr>\n",
       "    <tr>\n",
       "      <th>4750</th>\n",
       "      <td>gvm_msp</td>\n",
       "      <td>gvm_dwv</td>\n",
       "      <td>0.981625</td>\n",
       "    </tr>\n",
       "    <tr>\n",
       "      <th>4751</th>\n",
       "      <td>gvm_asp</td>\n",
       "      <td>gvm_msp</td>\n",
       "      <td>0.981675</td>\n",
       "    </tr>\n",
       "    <tr>\n",
       "      <th>4752</th>\n",
       "      <td>gvm_asp</td>\n",
       "      <td>gvm_dwv</td>\n",
       "      <td>0.985672</td>\n",
       "    </tr>\n",
       "  </tbody>\n",
       "</table>\n",
       "</div>"
      ],
      "text/plain": [
       "          feature1          feature2  correlation\n",
       "0       curbtype_2        curbtype_1    -1.000000\n",
       "1      r_surface_2       r_surface_1    -1.000000\n",
       "2     speedlimit_2  speedlimit_value    -0.843848\n",
       "4742        mewmax               mew     0.843518\n",
       "4743        megmin               meg     0.859393\n",
       "4744        mewmin               mew     0.861981\n",
       "4745         cmean                cp     0.906091\n",
       "4746         iemax                ie     0.919919\n",
       "4747          cmax                cp     0.940030\n",
       "4748         iemin                ie     0.957061\n",
       "4749          cmax             cmean     0.963800\n",
       "4750       gvm_msp           gvm_dwv     0.981625\n",
       "4751       gvm_asp           gvm_msp     0.981675\n",
       "4752       gvm_asp           gvm_dwv     0.985672"
      ]
     },
     "execution_count": 24,
     "metadata": {},
     "output_type": "execute_result"
    }
   ],
   "source": [
    "dfcorr_high"
   ]
  },
  {
   "cell_type": "code",
   "execution_count": 25,
   "id": "ca94c8a2-dc40-48cc-878b-7e0ef6658928",
   "metadata": {
    "execution": {
     "iopub.execute_input": "2024-10-25T09:38:56.411893Z",
     "iopub.status.busy": "2024-10-25T09:38:56.411751Z",
     "iopub.status.idle": "2024-10-25T09:38:56.414096Z",
     "shell.execute_reply": "2024-10-25T09:38:56.413666Z",
     "shell.execute_reply.started": "2024-10-25T09:38:56.411880Z"
    }
   },
   "outputs": [],
   "source": [
    "# Above using pairwise correlation"
   ]
  },
  {
   "cell_type": "code",
   "execution_count": 26,
   "id": "bd4621a4-6bf6-430e-8b2b-3d39d34a297b",
   "metadata": {
    "execution": {
     "iopub.execute_input": "2024-10-25T09:38:56.414783Z",
     "iopub.status.busy": "2024-10-25T09:38:56.414649Z",
     "iopub.status.idle": "2024-10-25T09:38:56.426228Z",
     "shell.execute_reply": "2024-10-25T09:38:56.425782Z",
     "shell.execute_reply.started": "2024-10-25T09:38:56.414772Z"
    }
   },
   "outputs": [],
   "source": [
    "# Following using VIF for multicollinearity\n",
    "from statsmodels.stats.outliers_influence import variance_inflation_factor"
   ]
  },
  {
   "cell_type": "code",
   "execution_count": 27,
   "id": "665021ab-f4f4-414a-9a55-77751a55dd78",
   "metadata": {
    "execution": {
     "iopub.execute_input": "2024-10-25T09:38:56.427072Z",
     "iopub.status.busy": "2024-10-25T09:38:56.426936Z",
     "iopub.status.idle": "2024-10-25T09:38:56.435088Z",
     "shell.execute_reply": "2024-10-25T09:38:56.434679Z",
     "shell.execute_reply.started": "2024-10-25T09:38:56.427059Z"
    }
   },
   "outputs": [],
   "source": [
    "# remove based on correlation\n",
    "# speedlimit_2, \n",
    "# mewmax, mewmin, megmin, iemax, iemin, \n",
    "# cmean, cmax, gvm_ asp, gvm_msp\n",
    "\n",
    "# remove based on data source\n",
    "# dcurb (correlated to droad, and based on concept model), curbtype_1\n",
    "\n",
    "# Only n-1 dummy variables are needed for n-category variable\n",
    "# remove\n",
    "# r_width_7, speedlimit_6, z_qnr_33, z_knr_12, trafficarea_3, curbtype_2, r_surface_2\n",
    "\n",
    "# updated \n",
    "cnu = ['cp', 'ie', 'mew', 'meg', \n",
    "       'megmax', 'cmin', 'dbusl', 'dtraml','dtrainl', 'dplight', 'dstation', \n",
    "       'dparkcar', 'dparktw', 'dpedcro', 'dstopsign',\n",
    "       'dtrafficarea', 'droad', 'dvfpath', 'gvm_dwv', 'bicyclecount', 'carcount',\n",
    "       'r_width_value','speedlimit_value',  \n",
    "       'z_qnr_1', 'z_qnr_2', 'z_qnr_3', 'z_qnr_4', 'z_qnr_5','z_qnr_6', \n",
    "       'z_qnr_7', 'z_qnr_8', 'z_qnr_9', 'z_qnr_10', 'z_qnr_11', 'z_qnr_12', \n",
    "       'z_qnr_13', 'z_qnr_14', 'z_qnr_15', 'z_qnr_16', 'z_qnr_17', 'z_qnr_18',\n",
    "       'z_qnr_19', 'z_qnr_20', 'z_qnr_21', 'z_qnr_22', 'z_qnr_23', 'z_qnr_24',\n",
    "       'z_qnr_25', 'z_qnr_26', 'z_qnr_27', 'z_qnr_28', 'z_qnr_29', 'z_qnr_30',\n",
    "       'z_qnr_31', 'z_qnr_32', 'z_knr_1', 'z_knr_2', 'z_knr_3',\n",
    "       'z_knr_4', 'z_knr_5', 'z_knr_6', 'z_knr_7', 'z_knr_8', 'z_knr_9',\n",
    "       'z_knr_10', 'z_knr_11', 'trafficarea_1', 'trafficarea_2',\n",
    "       'r_width_1', 'r_width_2', 'r_width_3', 'r_width_4',\n",
    "       'r_width_5', 'r_width_6', 'r_surface_1', \n",
    "       'speedlimit_1', 'speedlimit_3', 'speedlimit_4',\n",
    "       'speedlimit_5']\n",
    "\n",
    "cnu1 = ['cp', 'cmean', 'cmin', 'ie', 'mew', 'meg', \n",
    "       'megmax', 'dbusl', 'dtraml','dtrainl', 'dplight', 'dstation', \n",
    "       'dparkcar', 'dparktw', 'dpedcro', 'dstopsign',\n",
    "       'dtrafficarea', 'droad', 'dvfpath', 'gvm_dwv', 'bicyclecount', 'carcount',\n",
    "       'r_width_value','speedlimit_value',  \n",
    "       'z_qnr_1', 'z_qnr_2', 'z_qnr_3', 'z_qnr_4', 'z_qnr_5','z_qnr_6', \n",
    "       'z_qnr_7', 'z_qnr_8', 'z_qnr_9', 'z_qnr_10', 'z_qnr_11', 'z_qnr_12', \n",
    "       'z_qnr_13', 'z_qnr_14', 'z_qnr_15', 'z_qnr_16', 'z_qnr_17', 'z_qnr_18',\n",
    "       'z_qnr_19', 'z_qnr_20', 'z_qnr_21', 'z_qnr_22', 'z_qnr_23', 'z_qnr_24',\n",
    "       'z_qnr_25', 'z_qnr_26', 'z_qnr_27', 'z_qnr_28', 'z_qnr_29', 'z_qnr_30',\n",
    "       'z_qnr_31', 'z_qnr_32', 'z_knr_1', 'z_knr_2', 'z_knr_3',\n",
    "       'z_knr_4', 'z_knr_5', 'z_knr_6', 'z_knr_7', 'z_knr_8', 'z_knr_9',\n",
    "       'z_knr_10', 'z_knr_11', 'trafficarea_1', 'trafficarea_2',\n",
    "       'r_width_1', 'r_width_2', 'r_width_3', 'r_width_4',\n",
    "       'r_width_5', 'r_width_6', 'r_surface_1', \n",
    "       'speedlimit_1', 'speedlimit_3', 'speedlimit_4',\n",
    "       'speedlimit_5']\n",
    "cnu2 = ['cp', 'cmin', 'ie', 'mew', 'meg', \n",
    "       'megmax', 'dbusl', 'dtraml','dtrainl', 'dplight', 'dstation', \n",
    "       'dparkcar', 'dparktw', 'dpedcro', 'dstopsign',\n",
    "       'dtrafficarea', 'droad', 'dvfpath', 'gvm_dwv', 'bicyclecount', 'carcount',\n",
    "       'r_width_value','speedlimit_value',  \n",
    "       'z_qnr_1', 'z_qnr_2', 'z_qnr_3', 'z_qnr_4', 'z_qnr_5','z_qnr_6', \n",
    "       'z_qnr_7', 'z_qnr_8', 'z_qnr_9', 'z_qnr_10', 'z_qnr_11', 'z_qnr_12', \n",
    "       'z_qnr_13', 'z_qnr_14', 'z_qnr_15', 'z_qnr_16', 'z_qnr_17', 'z_qnr_18',\n",
    "       'z_qnr_19', 'z_qnr_20', 'z_qnr_21', 'z_qnr_22', 'z_qnr_23', 'z_qnr_24',\n",
    "       'z_qnr_25', 'z_qnr_26', 'z_qnr_27', 'z_qnr_28', 'z_qnr_29', 'z_qnr_30',\n",
    "       'z_qnr_31', 'z_qnr_32', 'z_knr_1', 'z_knr_2', 'z_knr_3',\n",
    "       'z_knr_4', 'z_knr_5', 'z_knr_6', 'z_knr_7', 'z_knr_8', 'z_knr_9',\n",
    "       'z_knr_10', 'z_knr_11', 'trafficarea_1', 'trafficarea_2',\n",
    "       'r_width_1', 'r_width_2', 'r_width_3', 'r_width_4',\n",
    "       'r_width_5', 'r_width_6', 'r_surface_1', \n",
    "       'speedlimit_1', 'speedlimit_3', 'speedlimit_4',\n",
    "       'speedlimit_5']\n",
    "\n",
    "cnforvif = ['cmean', 'cmin', 'ie', 'mew', 'meg', \n",
    "       'megmax', 'dbusl', 'dtraml','dtrainl', 'dplight', 'dstation', \n",
    "       'dparkcar', 'dparktw', 'dpedcro', 'dstopsign',\n",
    "       'dtrafficarea', 'droad', 'dvfpath', 'gvm_dwv', 'bicyclecount', 'carcount',\n",
    "       'r_width_value','speedlimit_value',  \n",
    "       'z_qnr_1', 'z_qnr_2', 'z_qnr_3', 'z_qnr_4', 'z_qnr_5','z_qnr_6', \n",
    "       'z_qnr_7', 'z_qnr_8', 'z_qnr_9', 'z_qnr_10', 'z_qnr_11', 'z_qnr_12', \n",
    "       'z_qnr_13', 'z_qnr_14', 'z_qnr_15', 'z_qnr_16', 'z_qnr_17', 'z_qnr_18',\n",
    "       'z_qnr_19', 'z_qnr_20', 'z_qnr_21', 'z_qnr_22', 'z_qnr_23', 'z_qnr_24',\n",
    "       'z_qnr_25', 'z_qnr_26', 'z_qnr_27', 'z_qnr_28', 'z_qnr_29', 'z_qnr_30',\n",
    "       'z_qnr_31', 'z_qnr_32', 'z_knr_1', 'z_knr_2', 'z_knr_3',\n",
    "       'z_knr_4', 'z_knr_5', 'z_knr_6', 'z_knr_7', 'z_knr_8', 'z_knr_9',\n",
    "       'z_knr_10', 'z_knr_11', 'trafficarea_1', 'trafficarea_2',\n",
    "       'r_width_1', 'r_width_2', 'r_width_3', 'r_width_4',\n",
    "       'r_width_5', 'r_width_6', 'r_surface_1', \n",
    "       'speedlimit_1', 'speedlimit_3', 'speedlimit_4',\n",
    "       'speedlimit_5']"
   ]
  },
  {
   "cell_type": "code",
   "execution_count": 28,
   "id": "a43f09f1-fb0d-4b26-bb0d-cf0ae4fae876",
   "metadata": {
    "execution": {
     "iopub.execute_input": "2024-10-25T09:38:56.435770Z",
     "iopub.status.busy": "2024-10-25T09:38:56.435641Z",
     "iopub.status.idle": "2024-10-25T09:38:56.444063Z",
     "shell.execute_reply": "2024-10-25T09:38:56.443615Z",
     "shell.execute_reply.started": "2024-10-25T09:38:56.435758Z"
    }
   },
   "outputs": [
    {
     "name": "stdout",
     "output_type": "stream",
     "text": [
      "79 79\n"
     ]
    }
   ],
   "source": [
    "print(len(cnu2), len(cnforvif))"
   ]
  },
  {
   "cell_type": "code",
   "execution_count": 29,
   "id": "3dcd6989-7257-426c-8e0b-dd1875c92fae",
   "metadata": {
    "execution": {
     "iopub.execute_input": "2024-10-25T09:38:56.444763Z",
     "iopub.status.busy": "2024-10-25T09:38:56.444632Z",
     "iopub.status.idle": "2024-10-25T09:38:56.974965Z",
     "shell.execute_reply": "2024-10-25T09:38:56.974406Z",
     "shell.execute_reply.started": "2024-10-25T09:38:56.444752Z"
    }
   },
   "outputs": [
    {
     "name": "stdout",
     "output_type": "stream",
     "text": [
      "         feature         VIF\n",
      "0          const  395.262168\n",
      "1             cp    1.282290\n",
      "2           cmin    1.083663\n",
      "3             ie    1.200049\n",
      "4            mew    1.335257\n",
      "..           ...         ...\n",
      "75   r_surface_1    1.392431\n",
      "76  speedlimit_1    6.556548\n",
      "77  speedlimit_3    8.063739\n",
      "78  speedlimit_4    5.673561\n",
      "79  speedlimit_5    1.803548\n",
      "\n",
      "[80 rows x 2 columns]\n",
      "['cp', 'cmin', 'ie', 'mew', 'meg', 'megmax', 'dbusl', 'dtraml', 'dtrainl', 'dplight', 'dstation', 'dparkcar', 'dparktw', 'dpedcro', 'dstopsign', 'dtrafficarea', 'droad', 'dvfpath', 'gvm_dwv', 'bicyclecount', 'carcount', 'speedlimit_value', 'z_qnr_2', 'z_qnr_3', 'z_qnr_5', 'z_qnr_7', 'z_qnr_8', 'z_qnr_9', 'z_qnr_12', 'z_qnr_13', 'z_qnr_16', 'z_qnr_17', 'z_qnr_19', 'z_qnr_20', 'z_qnr_21', 'z_qnr_22', 'z_qnr_23', 'z_qnr_24', 'z_qnr_25', 'z_qnr_26', 'z_qnr_27', 'z_qnr_28', 'z_qnr_29', 'z_qnr_30', 'z_qnr_31', 'z_qnr_32', 'trafficarea_2', 'r_width_2', 'r_surface_1', 'speedlimit_5'] 50\n"
     ]
    }
   ],
   "source": [
    "# calculating VIF for each feature\n",
    "X = dfacrpv[cnu2]\n",
    "X = tools.add_constant(X)\n",
    "dfcnu_vif = pd.DataFrame()\n",
    "dfcnu_vif[\"feature\"] = X.columns\n",
    "dfcnu_vif[\"VIF\"] = [variance_inflation_factor(X.values, i)\n",
    "                          for i in range(len(X.columns))]\n",
    "\n",
    "print(dfcnu_vif)\n",
    "viflow = dfcnu_vif.loc[dfcnu_vif['VIF'] <= 5]\n",
    "vifl = viflow['feature'].tolist()\n",
    "print(vifl, len(vifl))"
   ]
  },
  {
   "cell_type": "code",
   "execution_count": 30,
   "id": "6526d585-7718-4748-a278-0764adcb47ba",
   "metadata": {
    "execution": {
     "iopub.execute_input": "2024-10-25T09:38:56.976131Z",
     "iopub.status.busy": "2024-10-25T09:38:56.975667Z",
     "iopub.status.idle": "2024-10-25T09:38:57.517212Z",
     "shell.execute_reply": "2024-10-25T09:38:57.516729Z",
     "shell.execute_reply.started": "2024-10-25T09:38:56.976114Z"
    }
   },
   "outputs": [
    {
     "name": "stdout",
     "output_type": "stream",
     "text": [
      "         feature         VIF\n",
      "0          const  397.914691\n",
      "1          cmean    1.412140\n",
      "2           cmin    1.109314\n",
      "3             ie    1.199534\n",
      "4            mew    1.359740\n",
      "..           ...         ...\n",
      "75   r_surface_1    1.393984\n",
      "76  speedlimit_1    6.560857\n",
      "77  speedlimit_3    8.064407\n",
      "78  speedlimit_4    5.663266\n",
      "79  speedlimit_5    1.802803\n",
      "\n",
      "[80 rows x 2 columns]\n"
     ]
    }
   ],
   "source": [
    "# calculating VIF for each feature\n",
    "X = dfacrpv[cnforvif]\n",
    "X = tools.add_constant(X)\n",
    "dfcnu_vif = pd.DataFrame()\n",
    "dfcnu_vif[\"feature\"] = X.columns\n",
    "dfcnu_vif[\"VIF\"] = [variance_inflation_factor(X.values, i)\n",
    "                          for i in range(len(X.columns))]\n",
    "\n",
    "print(dfcnu_vif)"
   ]
  },
  {
   "cell_type": "code",
   "execution_count": 31,
   "id": "2673d8a5-df0d-474b-9fe7-690135bf5f8e",
   "metadata": {
    "execution": {
     "iopub.execute_input": "2024-10-25T09:38:57.518267Z",
     "iopub.status.busy": "2024-10-25T09:38:57.517914Z",
     "iopub.status.idle": "2024-10-25T09:38:57.523260Z",
     "shell.execute_reply": "2024-10-25T09:38:57.522824Z",
     "shell.execute_reply.started": "2024-10-25T09:38:57.518252Z"
    }
   },
   "outputs": [
    {
     "name": "stdout",
     "output_type": "stream",
     "text": [
      "['const', 'r_width_value', 'z_qnr_1', 'z_qnr_4', 'z_qnr_6', 'z_qnr_10', 'z_qnr_11', 'z_qnr_14', 'z_qnr_15', 'z_qnr_18', 'z_knr_1', 'z_knr_2', 'z_knr_3', 'z_knr_4', 'z_knr_5', 'z_knr_6', 'z_knr_7', 'z_knr_8', 'z_knr_9', 'z_knr_10', 'z_knr_11', 'trafficarea_1', 'r_width_1', 'r_width_3', 'r_width_4', 'r_width_5', 'r_width_6', 'speedlimit_1', 'speedlimit_3', 'speedlimit_4'] 30\n"
     ]
    }
   ],
   "source": [
    "vifh = dfcnu_vif.loc[dfcnu_vif['VIF'] >= 5]\n",
    "vifh = vifh['feature'].tolist()\n",
    "print(vifh, len(vifh))"
   ]
  },
  {
   "cell_type": "code",
   "execution_count": 32,
   "id": "23565849-8a2e-41bd-91fe-7f5b4c4d52b4",
   "metadata": {
    "execution": {
     "iopub.execute_input": "2024-10-25T09:38:57.524924Z",
     "iopub.status.busy": "2024-10-25T09:38:57.524632Z",
     "iopub.status.idle": "2024-10-25T09:38:57.541990Z",
     "shell.execute_reply": "2024-10-25T09:38:57.541527Z",
     "shell.execute_reply.started": "2024-10-25T09:38:57.524911Z"
    }
   },
   "outputs": [],
   "source": [
    "# dfcnu_vif.to_csv('/home/yelhe/script/mtp/tables/dfcnu_VIF_try.csv', index = False)"
   ]
  },
  {
   "cell_type": "code",
   "execution_count": 42,
   "id": "09482d57-4776-4d65-8ffc-4e7a29d9f35f",
   "metadata": {
    "execution": {
     "iopub.execute_input": "2024-10-25T12:54:20.906106Z",
     "iopub.status.busy": "2024-10-25T12:54:20.905598Z",
     "iopub.status.idle": "2024-10-25T12:54:21.295497Z",
     "shell.execute_reply": "2024-10-25T12:54:21.294816Z",
     "shell.execute_reply.started": "2024-10-25T12:54:20.906089Z"
    }
   },
   "outputs": [
    {
     "name": "stdout",
     "output_type": "stream",
     "text": [
      "          feature         VIF\n",
      "2            cmin    1.106005\n",
      "18        dvfpath    1.131492\n",
      "3              ie    1.171934\n",
      "72   speedlimit_5    1.222238\n",
      "10        dplight    1.223388\n",
      "..            ...         ...\n",
      "55        z_knr_2    3.997603\n",
      "38       z_qnr_15    4.046555\n",
      "56        z_knr_3    4.336828\n",
      "62  trafficarea_1    4.595527\n",
      "0           const  112.917253\n",
      "\n",
      "[73 rows x 2 columns]\n"
     ]
    }
   ],
   "source": [
    "# calculating VIF for each feature\n",
    "# Remove 'z_knr_1'\n",
    "# Remove 'r_width_3'\n",
    "# Remove 'z_knr_9'\n",
    "# Remove 'z_knr_6'\n",
    "# Remove 'speedlimit_3' \n",
    "# Remove 'z_knr_11'\n",
    "# Remove 'z_qnr_18'\n",
    "cntry0 = ['cmean', 'cmin', 'ie', 'mew', 'meg', \n",
    "       'megmax', 'dbusl', 'dtraml','dtrainl', 'dplight', 'dstation', \n",
    "       'dparkcar', 'dparktw', 'dpedcro', 'dstopsign',\n",
    "       'dtrafficarea', 'droad', 'dvfpath', 'gvm_dwv', 'bicyclecount', 'carcount',\n",
    "       'r_width_value','speedlimit_value',  \n",
    "       'z_qnr_1', 'z_qnr_2', 'z_qnr_3', 'z_qnr_4', 'z_qnr_5','z_qnr_6', \n",
    "       'z_qnr_7', 'z_qnr_8', 'z_qnr_9', 'z_qnr_10', 'z_qnr_11', 'z_qnr_12', \n",
    "       'z_qnr_13', 'z_qnr_14', 'z_qnr_15', 'z_qnr_16', 'z_qnr_17',\n",
    "       'z_qnr_19', 'z_qnr_20', 'z_qnr_21', 'z_qnr_22', 'z_qnr_23', 'z_qnr_24',\n",
    "       'z_qnr_25', 'z_qnr_26', 'z_qnr_27', 'z_qnr_28', 'z_qnr_29', 'z_qnr_30',\n",
    "       'z_qnr_31', 'z_qnr_32', 'z_knr_2', 'z_knr_3',\n",
    "       'z_knr_4', 'z_knr_5', 'z_knr_7', 'z_knr_8',\n",
    "       'z_knr_10', 'trafficarea_1', 'trafficarea_2',\n",
    "       'r_width_1', 'r_width_2', 'r_width_4',\n",
    "       'r_width_5', 'r_width_6', 'r_surface_1', \n",
    "       'speedlimit_1', 'speedlimit_4',\n",
    "       'speedlimit_5']\n",
    "X = dfacrpv[cntry0]\n",
    "X = tools.add_constant(X)\n",
    "dfcnu_vif1 = pd.DataFrame()\n",
    "dfcnu_vif1[\"feature\"] = X.columns\n",
    "dfcnu_vif1[\"VIF\"] = [variance_inflation_factor(X.values, i)\n",
    "                          for i in range(len(X.columns))]\n",
    "\n",
    "print(dfcnu_vif1.sort_values(by = ['VIF']))\n",
    "# vifh = dfcnu_vif.loc[dfcnu_vif['VIF'] >= 5]\n",
    "# vifh = vifh['feature'].tolist()\n",
    "# print(vifh, len(vifh))"
   ]
  },
  {
   "cell_type": "code",
   "execution_count": 292,
   "id": "274f709b-7640-4281-ba2d-7e8c92c0765a",
   "metadata": {
    "execution": {
     "iopub.execute_input": "2024-10-25T14:49:31.273939Z",
     "iopub.status.busy": "2024-10-25T14:49:31.273183Z",
     "iopub.status.idle": "2024-10-25T14:49:31.276946Z",
     "shell.execute_reply": "2024-10-25T14:49:31.276499Z",
     "shell.execute_reply.started": "2024-10-25T14:49:31.273899Z"
    }
   },
   "outputs": [
    {
     "name": "stdout",
     "output_type": "stream",
     "text": [
      "['cmean', 'cmin', 'ie', 'mew', 'meg', 'megmax', 'dbusl', 'dtraml', 'dtrainl', 'dplight', 'dstation', 'dparkcar', 'dparktw', 'dpedcro', 'dstopsign', 'dtrafficarea', 'droad', 'dvfpath', 'gvm_dwv', 'bicyclecount', 'carcount', 'r_width_value', 'speedlimit_value', 'z_qnr_1', 'z_qnr_2', 'z_qnr_3', 'z_qnr_4', 'z_qnr_5', 'z_qnr_6', 'z_qnr_7', 'z_qnr_8', 'z_qnr_9', 'z_qnr_10', 'z_qnr_11', 'z_qnr_12', 'z_qnr_13', 'z_qnr_14', 'z_qnr_15', 'z_qnr_16', 'z_qnr_17', 'z_qnr_19', 'z_qnr_20', 'z_qnr_21', 'z_qnr_22', 'z_qnr_23', 'z_qnr_24', 'z_qnr_25', 'z_qnr_26', 'z_qnr_27', 'z_qnr_28', 'z_qnr_29', 'z_qnr_30', 'z_qnr_31', 'z_qnr_32', 'z_knr_2', 'z_knr_3', 'z_knr_4', 'z_knr_5', 'z_knr_7', 'z_knr_8', 'z_knr_10', 'trafficarea_1', 'trafficarea_2', 'r_width_1', 'r_width_2', 'r_width_4', 'r_width_5', 'r_width_6', 'r_surface_1', 'speedlimit_1', 'speedlimit_4', 'speedlimit_5'] 72\n"
     ]
    }
   ],
   "source": [
    "cn_vif = dfcnu_vif1['feature'].tolist()\n",
    "cn_vif.remove('const')\n",
    "print(cn_vif, len(cn_vif))"
   ]
  },
  {
   "cell_type": "code",
   "execution_count": 293,
   "id": "fc56996e-bf9f-4449-8105-707ba15842af",
   "metadata": {
    "execution": {
     "iopub.execute_input": "2024-10-25T14:50:22.293029Z",
     "iopub.status.busy": "2024-10-25T14:50:22.292802Z",
     "iopub.status.idle": "2024-10-25T14:50:22.295406Z",
     "shell.execute_reply": "2024-10-25T14:50:22.294989Z",
     "shell.execute_reply.started": "2024-10-25T14:50:22.293012Z"
    }
   },
   "outputs": [],
   "source": [
    "cnvif = cn_vif"
   ]
  },
  {
   "cell_type": "code",
   "execution_count": 45,
   "id": "b04a53f3-e331-43c9-b39f-25cd5ef736a8",
   "metadata": {
    "execution": {
     "iopub.execute_input": "2024-10-25T12:54:24.624985Z",
     "iopub.status.busy": "2024-10-25T12:54:24.624463Z",
     "iopub.status.idle": "2024-10-25T12:54:24.634928Z",
     "shell.execute_reply": "2024-10-25T12:54:24.634436Z",
     "shell.execute_reply.started": "2024-10-25T12:54:24.624969Z"
    }
   },
   "outputs": [],
   "source": [
    "dfcnu_vif1.to_csv('/home/yelhe/script/mtp/tables/dfcnu_VIF_updated.csv', index = False)"
   ]
  },
  {
   "cell_type": "code",
   "execution_count": 46,
   "id": "a437d2d2-e217-4836-9972-38388c03004d",
   "metadata": {
    "execution": {
     "iopub.execute_input": "2024-10-25T12:54:24.977757Z",
     "iopub.status.busy": "2024-10-25T12:54:24.977362Z",
     "iopub.status.idle": "2024-10-25T12:54:24.980832Z",
     "shell.execute_reply": "2024-10-25T12:54:24.980302Z",
     "shell.execute_reply.started": "2024-10-25T12:54:24.977741Z"
    }
   },
   "outputs": [],
   "source": [
    "y = dfacrpv['acp']\n",
    "# x = dfacrpv[cnu]\n",
    "x = dfacrpv[cnvif] "
   ]
  },
  {
   "cell_type": "code",
   "execution_count": 47,
   "id": "28eecb43-f397-43ab-b387-d3a35f76c392",
   "metadata": {
    "execution": {
     "iopub.execute_input": "2024-10-25T12:54:25.508141Z",
     "iopub.status.busy": "2024-10-25T12:54:25.507871Z",
     "iopub.status.idle": "2024-10-25T12:54:25.511426Z",
     "shell.execute_reply": "2024-10-25T12:54:25.510858Z",
     "shell.execute_reply.started": "2024-10-25T12:54:25.508127Z"
    }
   },
   "outputs": [
    {
     "data": {
      "text/plain": [
       "(1087, 72)"
      ]
     },
     "execution_count": 47,
     "metadata": {},
     "output_type": "execute_result"
    }
   ],
   "source": [
    "# y.shape\n",
    "x.shape\n",
    "# 1087 points with 78 features in total"
   ]
  },
  {
   "cell_type": "markdown",
   "id": "525e59ee-c2f3-4f1b-9e22-813cd303b195",
   "metadata": {},
   "source": [
    "# Orginal regression model without feature selection"
   ]
  },
  {
   "cell_type": "code",
   "execution_count": 48,
   "id": "0377006c-6262-4f67-b40f-660eaa87d821",
   "metadata": {
    "execution": {
     "iopub.execute_input": "2024-10-25T12:54:27.427545Z",
     "iopub.status.busy": "2024-10-25T12:54:27.426852Z",
     "iopub.status.idle": "2024-10-25T12:54:27.430365Z",
     "shell.execute_reply": "2024-10-25T12:54:27.429810Z",
     "shell.execute_reply.started": "2024-10-25T12:54:27.427500Z"
    }
   },
   "outputs": [],
   "source": [
    "# Using updated features collection (84 instead of 98)"
   ]
  },
  {
   "cell_type": "code",
   "execution_count": 49,
   "id": "8a83b745-3b29-4118-8799-a075cf5c93f1",
   "metadata": {
    "execution": {
     "iopub.execute_input": "2024-10-25T12:54:27.955965Z",
     "iopub.status.busy": "2024-10-25T12:54:27.955413Z",
     "iopub.status.idle": "2024-10-25T12:54:28.033232Z",
     "shell.execute_reply": "2024-10-25T12:54:28.032644Z",
     "shell.execute_reply.started": "2024-10-25T12:54:27.955948Z"
    }
   },
   "outputs": [
    {
     "name": "stdout",
     "output_type": "stream",
     "text": [
      "Optimization terminated successfully    (Exit mode 0)\n",
      "            Current function value: 0.5587481503480755\n",
      "            Iterations: 29\n",
      "            Function evaluations: 29\n",
      "            Gradient evaluations: 29\n"
     ]
    },
    {
     "name": "stderr",
     "output_type": "stream",
     "text": [
      "/opt/conda/lib/python3.11/site-packages/statsmodels/base/model.py:130: ValueWarning: unknown kwargs ['max_iter']\n",
      "  warnings.warn(msg, ValueWarning)\n",
      "/opt/conda/lib/python3.11/site-packages/statsmodels/base/model.py:130: ValueWarning: unknown kwargs ['max_iter']\n",
      "  warnings.warn(msg, ValueWarning)\n"
     ]
    },
    {
     "data": {
      "text/html": [
       "<table class=\"simpletable\">\n",
       "<caption>Logit Regression Results</caption>\n",
       "<tr>\n",
       "  <th>Dep. Variable:</th>          <td>acp</td>       <th>  No. Observations:  </th>  <td>  1087</td>  \n",
       "</tr>\n",
       "<tr>\n",
       "  <th>Model:</th>                 <td>Logit</td>      <th>  Df Residuals:      </th>  <td>  1082</td>  \n",
       "</tr>\n",
       "<tr>\n",
       "  <th>Method:</th>                 <td>MLE</td>       <th>  Df Model:          </th>  <td>     4</td>  \n",
       "</tr>\n",
       "<tr>\n",
       "  <th>Date:</th>            <td>Fri, 25 Oct 2024</td> <th>  Pseudo R-squ.:     </th>  <td>0.04428</td> \n",
       "</tr>\n",
       "<tr>\n",
       "  <th>Time:</th>                <td>14:54:28</td>     <th>  Log-Likelihood:    </th> <td> -607.36</td> \n",
       "</tr>\n",
       "<tr>\n",
       "  <th>converged:</th>             <td>True</td>       <th>  LL-Null:           </th> <td> -635.50</td> \n",
       "</tr>\n",
       "<tr>\n",
       "  <th>Covariance Type:</th>     <td>nonrobust</td>    <th>  LLR p-value:       </th> <td>1.752e-11</td>\n",
       "</tr>\n",
       "</table>\n",
       "<table class=\"simpletable\">\n",
       "<tr>\n",
       "    <td></td>       <th>coef</th>     <th>std err</th>      <th>z</th>      <th>P>|z|</th>  <th>[0.025</th>    <th>0.975]</th>  \n",
       "</tr>\n",
       "<tr>\n",
       "  <th>const</th> <td>    0.7572</td> <td>    0.246</td> <td>    3.072</td> <td> 0.002</td> <td>    0.274</td> <td>    1.240</td>\n",
       "</tr>\n",
       "<tr>\n",
       "  <th>cmean</th> <td>    0.0899</td> <td>    0.292</td> <td>    0.308</td> <td> 0.758</td> <td>   -0.483</td> <td>    0.663</td>\n",
       "</tr>\n",
       "<tr>\n",
       "  <th>cp</th>    <td>   -3.1624</td> <td>    0.442</td> <td>   -7.159</td> <td> 0.000</td> <td>   -4.028</td> <td>   -2.297</td>\n",
       "</tr>\n",
       "<tr>\n",
       "  <th>cmin</th>  <td>   -0.0884</td> <td>    0.074</td> <td>   -1.202</td> <td> 0.230</td> <td>   -0.233</td> <td>    0.056</td>\n",
       "</tr>\n",
       "<tr>\n",
       "  <th>cmax</th>  <td>    1.3596</td> <td>    0.342</td> <td>    3.976</td> <td> 0.000</td> <td>    0.689</td> <td>    2.030</td>\n",
       "</tr>\n",
       "</table>"
      ],
      "text/latex": [
       "\\begin{center}\n",
       "\\begin{tabular}{lclc}\n",
       "\\toprule\n",
       "\\textbf{Dep. Variable:}   &       acp        & \\textbf{  No. Observations:  } &     1087    \\\\\n",
       "\\textbf{Model:}           &      Logit       & \\textbf{  Df Residuals:      } &     1082    \\\\\n",
       "\\textbf{Method:}          &       MLE        & \\textbf{  Df Model:          } &        4    \\\\\n",
       "\\textbf{Date:}            & Fri, 25 Oct 2024 & \\textbf{  Pseudo R-squ.:     } &  0.04428    \\\\\n",
       "\\textbf{Time:}            &     14:54:28     & \\textbf{  Log-Likelihood:    } &   -607.36   \\\\\n",
       "\\textbf{converged:}       &       True       & \\textbf{  LL-Null:           } &   -635.50   \\\\\n",
       "\\textbf{Covariance Type:} &    nonrobust     & \\textbf{  LLR p-value:       } & 1.752e-11   \\\\\n",
       "\\bottomrule\n",
       "\\end{tabular}\n",
       "\\begin{tabular}{lcccccc}\n",
       "               & \\textbf{coef} & \\textbf{std err} & \\textbf{z} & \\textbf{P$> |$z$|$} & \\textbf{[0.025} & \\textbf{0.975]}  \\\\\n",
       "\\midrule\n",
       "\\textbf{const} &       0.7572  &        0.246     &     3.072  &         0.002        &        0.274    &        1.240     \\\\\n",
       "\\textbf{cmean} &       0.0899  &        0.292     &     0.308  &         0.758        &       -0.483    &        0.663     \\\\\n",
       "\\textbf{cp}    &      -3.1624  &        0.442     &    -7.159  &         0.000        &       -4.028    &       -2.297     \\\\\n",
       "\\textbf{cmin}  &      -0.0884  &        0.074     &    -1.202  &         0.230        &       -0.233    &        0.056     \\\\\n",
       "\\textbf{cmax}  &       1.3596  &        0.342     &     3.976  &         0.000        &        0.689    &        2.030     \\\\\n",
       "\\bottomrule\n",
       "\\end{tabular}\n",
       "%\\caption{Logit Regression Results}\n",
       "\\end{center}"
      ],
      "text/plain": [
       "<class 'statsmodels.iolib.summary.Summary'>\n",
       "\"\"\"\n",
       "                           Logit Regression Results                           \n",
       "==============================================================================\n",
       "Dep. Variable:                    acp   No. Observations:                 1087\n",
       "Model:                          Logit   Df Residuals:                     1082\n",
       "Method:                           MLE   Df Model:                            4\n",
       "Date:                Fri, 25 Oct 2024   Pseudo R-squ.:                 0.04428\n",
       "Time:                        14:54:28   Log-Likelihood:                -607.36\n",
       "converged:                       True   LL-Null:                       -635.50\n",
       "Covariance Type:            nonrobust   LLR p-value:                 1.752e-11\n",
       "==============================================================================\n",
       "                 coef    std err          z      P>|z|      [0.025      0.975]\n",
       "------------------------------------------------------------------------------\n",
       "const          0.7572      0.246      3.072      0.002       0.274       1.240\n",
       "cmean          0.0899      0.292      0.308      0.758      -0.483       0.663\n",
       "cp            -3.1624      0.442     -7.159      0.000      -4.028      -2.297\n",
       "cmin          -0.0884      0.074     -1.202      0.230      -0.233       0.056\n",
       "cmax           1.3596      0.342      3.976      0.000       0.689       2.030\n",
       "==============================================================================\n",
       "\"\"\""
      ]
     },
     "execution_count": 49,
     "metadata": {},
     "output_type": "execute_result"
    }
   ],
   "source": [
    "# Only with curb-related variables\n",
    "xcp = dfacrpv[['cmean','cp', 'cmin', 'cmax']]\n",
    "x_const = tools.add_constant(xcp)\n",
    "# m00_c = sm.OLS(y, x_const)\n",
    "# r00_c = m00_c.fit()\n",
    "# r00_c.summary()\n",
    "\n",
    "m00_log_c = sm.Logit(y,x_const, max_iter = 400)\n",
    "r00_log_c = m00_log_c.fit_regularized()\n",
    "r00_log_c.summary()"
   ]
  },
  {
   "cell_type": "code",
   "execution_count": null,
   "id": "de588404-201d-4fad-bdad-569e3b023d3b",
   "metadata": {},
   "outputs": [],
   "source": []
  },
  {
   "cell_type": "markdown",
   "id": "fd34e8c7-0c3c-4a4f-a35d-5d18ed66a119",
   "metadata": {},
   "source": [
    "## OLS linear regression"
   ]
  },
  {
   "cell_type": "markdown",
   "id": "026b9cd3-7bf5-44f2-b261-aea309174a6a",
   "metadata": {},
   "source": [
    "### Without data splitting"
   ]
  },
  {
   "cell_type": "code",
   "execution_count": 50,
   "id": "8f7ab772-b399-4126-bf22-5a0d9d01b012",
   "metadata": {
    "execution": {
     "iopub.execute_input": "2024-10-25T12:54:29.705729Z",
     "iopub.status.busy": "2024-10-25T12:54:29.704945Z",
     "iopub.status.idle": "2024-10-25T12:54:29.780471Z",
     "shell.execute_reply": "2024-10-25T12:54:29.779876Z",
     "shell.execute_reply.started": "2024-10-25T12:54:29.705706Z"
    }
   },
   "outputs": [
    {
     "data": {
      "text/html": [
       "<table class=\"simpletable\">\n",
       "<caption>OLS Regression Results</caption>\n",
       "<tr>\n",
       "  <th>Dep. Variable:</th>           <td>acp</td>       <th>  R-squared:         </th> <td>   0.570</td> \n",
       "</tr>\n",
       "<tr>\n",
       "  <th>Model:</th>                   <td>OLS</td>       <th>  Adj. R-squared:    </th> <td>   0.540</td> \n",
       "</tr>\n",
       "<tr>\n",
       "  <th>Method:</th>             <td>Least Squares</td>  <th>  F-statistic:       </th> <td>   18.70</td> \n",
       "</tr>\n",
       "<tr>\n",
       "  <th>Date:</th>             <td>Fri, 25 Oct 2024</td> <th>  Prob (F-statistic):</th> <td>4.10e-140</td>\n",
       "</tr>\n",
       "<tr>\n",
       "  <th>Time:</th>                 <td>14:54:29</td>     <th>  Log-Likelihood:    </th> <td> -202.19</td> \n",
       "</tr>\n",
       "<tr>\n",
       "  <th>No. Observations:</th>      <td>  1087</td>      <th>  AIC:               </th> <td>   550.4</td> \n",
       "</tr>\n",
       "<tr>\n",
       "  <th>Df Residuals:</th>          <td>  1014</td>      <th>  BIC:               </th> <td>   914.7</td> \n",
       "</tr>\n",
       "<tr>\n",
       "  <th>Df Model:</th>              <td>    72</td>      <th>                     </th>     <td> </td>    \n",
       "</tr>\n",
       "<tr>\n",
       "  <th>Covariance Type:</th>      <td>nonrobust</td>    <th>                     </th>     <td> </td>    \n",
       "</tr>\n",
       "</table>\n",
       "<table class=\"simpletable\">\n",
       "<tr>\n",
       "          <td></td>            <th>coef</th>     <th>std err</th>      <th>t</th>      <th>P>|t|</th>  <th>[0.025</th>    <th>0.975]</th>  \n",
       "</tr>\n",
       "<tr>\n",
       "  <th>const</th>            <td>   -0.0270</td> <td>    0.097</td> <td>   -0.277</td> <td> 0.782</td> <td>   -0.218</td> <td>    0.164</td>\n",
       "</tr>\n",
       "<tr>\n",
       "  <th>cmean</th>            <td>    0.0119</td> <td>    0.011</td> <td>    1.102</td> <td> 0.271</td> <td>   -0.009</td> <td>    0.033</td>\n",
       "</tr>\n",
       "<tr>\n",
       "  <th>cmin</th>             <td>   -0.0047</td> <td>    0.010</td> <td>   -0.487</td> <td> 0.626</td> <td>   -0.024</td> <td>    0.014</td>\n",
       "</tr>\n",
       "<tr>\n",
       "  <th>ie</th>               <td>   -0.0150</td> <td>    0.010</td> <td>   -1.511</td> <td> 0.131</td> <td>   -0.034</td> <td>    0.004</td>\n",
       "</tr>\n",
       "<tr>\n",
       "  <th>mew</th>              <td>    0.0173</td> <td>    0.011</td> <td>    1.629</td> <td> 0.104</td> <td>   -0.004</td> <td>    0.038</td>\n",
       "</tr>\n",
       "<tr>\n",
       "  <th>meg</th>              <td>   -0.0109</td> <td>    0.015</td> <td>   -0.710</td> <td> 0.478</td> <td>   -0.041</td> <td>    0.019</td>\n",
       "</tr>\n",
       "<tr>\n",
       "  <th>megmax</th>           <td>    0.0063</td> <td>    0.014</td> <td>    0.438</td> <td> 0.662</td> <td>   -0.022</td> <td>    0.035</td>\n",
       "</tr>\n",
       "<tr>\n",
       "  <th>dbusl</th>            <td>   -0.0155</td> <td>    0.012</td> <td>   -1.243</td> <td> 0.214</td> <td>   -0.040</td> <td>    0.009</td>\n",
       "</tr>\n",
       "<tr>\n",
       "  <th>dtraml</th>           <td>    0.0072</td> <td>    0.013</td> <td>    0.559</td> <td> 0.576</td> <td>   -0.018</td> <td>    0.033</td>\n",
       "</tr>\n",
       "<tr>\n",
       "  <th>dtrainl</th>          <td>    0.0084</td> <td>    0.012</td> <td>    0.725</td> <td> 0.469</td> <td>   -0.014</td> <td>    0.031</td>\n",
       "</tr>\n",
       "<tr>\n",
       "  <th>dplight</th>          <td>    0.0165</td> <td>    0.010</td> <td>    1.583</td> <td> 0.114</td> <td>   -0.004</td> <td>    0.037</td>\n",
       "</tr>\n",
       "<tr>\n",
       "  <th>dstation</th>         <td>    0.0087</td> <td>    0.012</td> <td>    0.716</td> <td> 0.474</td> <td>   -0.015</td> <td>    0.032</td>\n",
       "</tr>\n",
       "<tr>\n",
       "  <th>dparkcar</th>         <td>   -0.0097</td> <td>    0.012</td> <td>   -0.790</td> <td> 0.430</td> <td>   -0.034</td> <td>    0.014</td>\n",
       "</tr>\n",
       "<tr>\n",
       "  <th>dparktw</th>          <td>    0.0023</td> <td>    0.011</td> <td>    0.196</td> <td> 0.844</td> <td>   -0.020</td> <td>    0.025</td>\n",
       "</tr>\n",
       "<tr>\n",
       "  <th>dpedcro</th>          <td>   -0.0099</td> <td>    0.011</td> <td>   -0.865</td> <td> 0.387</td> <td>   -0.032</td> <td>    0.013</td>\n",
       "</tr>\n",
       "<tr>\n",
       "  <th>dstopsign</th>        <td>    0.0106</td> <td>    0.013</td> <td>    0.842</td> <td> 0.400</td> <td>   -0.014</td> <td>    0.035</td>\n",
       "</tr>\n",
       "<tr>\n",
       "  <th>dtrafficarea</th>     <td>    0.0296</td> <td>    0.015</td> <td>    1.990</td> <td> 0.047</td> <td>    0.000</td> <td>    0.059</td>\n",
       "</tr>\n",
       "<tr>\n",
       "  <th>droad</th>            <td>   -0.0106</td> <td>    0.011</td> <td>   -0.993</td> <td> 0.321</td> <td>   -0.032</td> <td>    0.010</td>\n",
       "</tr>\n",
       "<tr>\n",
       "  <th>dvfpath</th>          <td>   -0.0147</td> <td>    0.010</td> <td>   -1.464</td> <td> 0.143</td> <td>   -0.034</td> <td>    0.005</td>\n",
       "</tr>\n",
       "<tr>\n",
       "  <th>gvm_dwv</th>          <td>   -0.0082</td> <td>    0.012</td> <td>   -0.685</td> <td> 0.494</td> <td>   -0.032</td> <td>    0.015</td>\n",
       "</tr>\n",
       "<tr>\n",
       "  <th>bicyclecount</th>     <td>   -0.0085</td> <td>    0.011</td> <td>   -0.755</td> <td> 0.450</td> <td>   -0.030</td> <td>    0.014</td>\n",
       "</tr>\n",
       "<tr>\n",
       "  <th>carcount</th>         <td>   -0.0032</td> <td>    0.011</td> <td>   -0.293</td> <td> 0.770</td> <td>   -0.025</td> <td>    0.018</td>\n",
       "</tr>\n",
       "<tr>\n",
       "  <th>r_width_value</th>    <td>   -0.0612</td> <td>    0.015</td> <td>   -4.184</td> <td> 0.000</td> <td>   -0.090</td> <td>   -0.032</td>\n",
       "</tr>\n",
       "<tr>\n",
       "  <th>speedlimit_value</th> <td>   -0.0744</td> <td>    0.013</td> <td>   -5.874</td> <td> 0.000</td> <td>   -0.099</td> <td>   -0.050</td>\n",
       "</tr>\n",
       "<tr>\n",
       "  <th>z_qnr_1</th>          <td>    0.1295</td> <td>    0.072</td> <td>    1.793</td> <td> 0.073</td> <td>   -0.012</td> <td>    0.271</td>\n",
       "</tr>\n",
       "<tr>\n",
       "  <th>z_qnr_2</th>          <td>    0.0575</td> <td>    0.113</td> <td>    0.511</td> <td> 0.609</td> <td>   -0.163</td> <td>    0.278</td>\n",
       "</tr>\n",
       "<tr>\n",
       "  <th>z_qnr_3</th>          <td>   -0.1093</td> <td>    0.096</td> <td>   -1.133</td> <td> 0.258</td> <td>   -0.299</td> <td>    0.080</td>\n",
       "</tr>\n",
       "<tr>\n",
       "  <th>z_qnr_4</th>          <td>   -0.0223</td> <td>    0.076</td> <td>   -0.294</td> <td> 0.769</td> <td>   -0.171</td> <td>    0.127</td>\n",
       "</tr>\n",
       "<tr>\n",
       "  <th>z_qnr_5</th>          <td>    0.0768</td> <td>    0.089</td> <td>    0.860</td> <td> 0.390</td> <td>   -0.099</td> <td>    0.252</td>\n",
       "</tr>\n",
       "<tr>\n",
       "  <th>z_qnr_6</th>          <td>   -0.0861</td> <td>    0.081</td> <td>   -1.058</td> <td> 0.290</td> <td>   -0.246</td> <td>    0.074</td>\n",
       "</tr>\n",
       "<tr>\n",
       "  <th>z_qnr_7</th>          <td>    0.2638</td> <td>    0.102</td> <td>    2.581</td> <td> 0.010</td> <td>    0.063</td> <td>    0.464</td>\n",
       "</tr>\n",
       "<tr>\n",
       "  <th>z_qnr_8</th>          <td>    0.1403</td> <td>    0.081</td> <td>    1.729</td> <td> 0.084</td> <td>   -0.019</td> <td>    0.300</td>\n",
       "</tr>\n",
       "<tr>\n",
       "  <th>z_qnr_9</th>          <td>   -0.0083</td> <td>    0.090</td> <td>   -0.092</td> <td> 0.927</td> <td>   -0.185</td> <td>    0.169</td>\n",
       "</tr>\n",
       "<tr>\n",
       "  <th>z_qnr_10</th>         <td>   -0.3996</td> <td>    0.074</td> <td>   -5.405</td> <td> 0.000</td> <td>   -0.545</td> <td>   -0.255</td>\n",
       "</tr>\n",
       "<tr>\n",
       "  <th>z_qnr_11</th>         <td>   -0.0031</td> <td>    0.066</td> <td>   -0.047</td> <td> 0.963</td> <td>   -0.132</td> <td>    0.126</td>\n",
       "</tr>\n",
       "<tr>\n",
       "  <th>z_qnr_12</th>         <td>    0.0686</td> <td>    0.065</td> <td>    1.059</td> <td> 0.290</td> <td>   -0.059</td> <td>    0.196</td>\n",
       "</tr>\n",
       "<tr>\n",
       "  <th>z_qnr_13</th>         <td>   -0.3499</td> <td>    0.082</td> <td>   -4.258</td> <td> 0.000</td> <td>   -0.511</td> <td>   -0.189</td>\n",
       "</tr>\n",
       "<tr>\n",
       "  <th>z_qnr_14</th>         <td>   -0.0361</td> <td>    0.070</td> <td>   -0.513</td> <td> 0.608</td> <td>   -0.174</td> <td>    0.102</td>\n",
       "</tr>\n",
       "<tr>\n",
       "  <th>z_qnr_15</th>         <td>   -0.0483</td> <td>    0.087</td> <td>   -0.555</td> <td> 0.579</td> <td>   -0.219</td> <td>    0.123</td>\n",
       "</tr>\n",
       "<tr>\n",
       "  <th>z_qnr_16</th>         <td>    0.1037</td> <td>    0.082</td> <td>    1.270</td> <td> 0.205</td> <td>   -0.057</td> <td>    0.264</td>\n",
       "</tr>\n",
       "<tr>\n",
       "  <th>z_qnr_17</th>         <td>    0.1400</td> <td>    0.075</td> <td>    1.862</td> <td> 0.063</td> <td>   -0.008</td> <td>    0.288</td>\n",
       "</tr>\n",
       "<tr>\n",
       "  <th>z_qnr_19</th>         <td>    0.1466</td> <td>    0.072</td> <td>    2.026</td> <td> 0.043</td> <td>    0.005</td> <td>    0.289</td>\n",
       "</tr>\n",
       "<tr>\n",
       "  <th>z_qnr_20</th>         <td>   -0.0115</td> <td>    0.069</td> <td>   -0.166</td> <td> 0.868</td> <td>   -0.148</td> <td>    0.125</td>\n",
       "</tr>\n",
       "<tr>\n",
       "  <th>z_qnr_21</th>         <td>    0.1160</td> <td>    0.061</td> <td>    1.911</td> <td> 0.056</td> <td>   -0.003</td> <td>    0.235</td>\n",
       "</tr>\n",
       "<tr>\n",
       "  <th>z_qnr_22</th>         <td>    0.2423</td> <td>    0.085</td> <td>    2.838</td> <td> 0.005</td> <td>    0.075</td> <td>    0.410</td>\n",
       "</tr>\n",
       "<tr>\n",
       "  <th>z_qnr_23</th>         <td>   -0.0462</td> <td>    0.080</td> <td>   -0.574</td> <td> 0.566</td> <td>   -0.204</td> <td>    0.112</td>\n",
       "</tr>\n",
       "<tr>\n",
       "  <th>z_qnr_24</th>         <td>    0.0027</td> <td>    0.068</td> <td>    0.039</td> <td> 0.969</td> <td>   -0.131</td> <td>    0.136</td>\n",
       "</tr>\n",
       "<tr>\n",
       "  <th>z_qnr_25</th>         <td>   -0.0734</td> <td>    0.068</td> <td>   -1.080</td> <td> 0.281</td> <td>   -0.207</td> <td>    0.060</td>\n",
       "</tr>\n",
       "<tr>\n",
       "  <th>z_qnr_26</th>         <td>   -0.3832</td> <td>    0.113</td> <td>   -3.380</td> <td> 0.001</td> <td>   -0.606</td> <td>   -0.161</td>\n",
       "</tr>\n",
       "<tr>\n",
       "  <th>z_qnr_27</th>         <td>   -0.0196</td> <td>    0.112</td> <td>   -0.175</td> <td> 0.861</td> <td>   -0.240</td> <td>    0.200</td>\n",
       "</tr>\n",
       "<tr>\n",
       "  <th>z_qnr_28</th>         <td>   -0.0963</td> <td>    0.102</td> <td>   -0.946</td> <td> 0.344</td> <td>   -0.296</td> <td>    0.103</td>\n",
       "</tr>\n",
       "<tr>\n",
       "  <th>z_qnr_29</th>         <td>   -0.1820</td> <td>    0.097</td> <td>   -1.868</td> <td> 0.062</td> <td>   -0.373</td> <td>    0.009</td>\n",
       "</tr>\n",
       "<tr>\n",
       "  <th>z_qnr_30</th>         <td>   -0.0293</td> <td>    0.118</td> <td>   -0.248</td> <td> 0.804</td> <td>   -0.261</td> <td>    0.202</td>\n",
       "</tr>\n",
       "<tr>\n",
       "  <th>z_qnr_31</th>         <td>   -0.0690</td> <td>    0.101</td> <td>   -0.685</td> <td> 0.494</td> <td>   -0.267</td> <td>    0.129</td>\n",
       "</tr>\n",
       "<tr>\n",
       "  <th>z_qnr_32</th>         <td>   -0.0598</td> <td>    0.093</td> <td>   -0.640</td> <td> 0.522</td> <td>   -0.243</td> <td>    0.123</td>\n",
       "</tr>\n",
       "<tr>\n",
       "  <th>z_knr_2</th>          <td>    0.0168</td> <td>    0.085</td> <td>    0.198</td> <td> 0.843</td> <td>   -0.150</td> <td>    0.184</td>\n",
       "</tr>\n",
       "<tr>\n",
       "  <th>z_knr_3</th>          <td>    0.0816</td> <td>    0.071</td> <td>    1.143</td> <td> 0.253</td> <td>   -0.058</td> <td>    0.222</td>\n",
       "</tr>\n",
       "<tr>\n",
       "  <th>z_knr_4</th>          <td>    0.2577</td> <td>    0.050</td> <td>    5.119</td> <td> 0.000</td> <td>    0.159</td> <td>    0.356</td>\n",
       "</tr>\n",
       "<tr>\n",
       "  <th>z_knr_5</th>          <td>    0.3244</td> <td>    0.058</td> <td>    5.593</td> <td> 0.000</td> <td>    0.211</td> <td>    0.438</td>\n",
       "</tr>\n",
       "<tr>\n",
       "  <th>z_knr_7</th>          <td>    0.0164</td> <td>    0.056</td> <td>    0.293</td> <td> 0.770</td> <td>   -0.094</td> <td>    0.126</td>\n",
       "</tr>\n",
       "<tr>\n",
       "  <th>z_knr_8</th>          <td>   -0.1244</td> <td>    0.057</td> <td>   -2.194</td> <td> 0.028</td> <td>   -0.236</td> <td>   -0.013</td>\n",
       "</tr>\n",
       "<tr>\n",
       "  <th>z_knr_10</th>         <td>    0.0245</td> <td>    0.060</td> <td>    0.406</td> <td> 0.685</td> <td>   -0.094</td> <td>    0.143</td>\n",
       "</tr>\n",
       "<tr>\n",
       "  <th>trafficarea_1</th>    <td>   -0.1643</td> <td>    0.061</td> <td>   -2.681</td> <td> 0.007</td> <td>   -0.285</td> <td>   -0.044</td>\n",
       "</tr>\n",
       "<tr>\n",
       "  <th>trafficarea_2</th>    <td>   -0.2998</td> <td>    0.068</td> <td>   -4.402</td> <td> 0.000</td> <td>   -0.433</td> <td>   -0.166</td>\n",
       "</tr>\n",
       "<tr>\n",
       "  <th>r_width_1</th>        <td>   -0.0720</td> <td>    0.034</td> <td>   -2.145</td> <td> 0.032</td> <td>   -0.138</td> <td>   -0.006</td>\n",
       "</tr>\n",
       "<tr>\n",
       "  <th>r_width_2</th>        <td>   -0.1836</td> <td>    0.048</td> <td>   -3.795</td> <td> 0.000</td> <td>   -0.279</td> <td>   -0.089</td>\n",
       "</tr>\n",
       "<tr>\n",
       "  <th>r_width_4</th>        <td>    0.0567</td> <td>    0.044</td> <td>    1.296</td> <td> 0.195</td> <td>   -0.029</td> <td>    0.142</td>\n",
       "</tr>\n",
       "<tr>\n",
       "  <th>r_width_5</th>        <td>    0.0454</td> <td>    0.030</td> <td>    1.506</td> <td> 0.132</td> <td>   -0.014</td> <td>    0.104</td>\n",
       "</tr>\n",
       "<tr>\n",
       "  <th>r_width_6</th>        <td>    0.0306</td> <td>    0.040</td> <td>    0.756</td> <td> 0.450</td> <td>   -0.049</td> <td>    0.110</td>\n",
       "</tr>\n",
       "<tr>\n",
       "  <th>r_surface_1</th>      <td>    0.2957</td> <td>    0.067</td> <td>    4.438</td> <td> 0.000</td> <td>    0.165</td> <td>    0.426</td>\n",
       "</tr>\n",
       "<tr>\n",
       "  <th>speedlimit_1</th>     <td>    0.0884</td> <td>    0.030</td> <td>    2.985</td> <td> 0.003</td> <td>    0.030</td> <td>    0.147</td>\n",
       "</tr>\n",
       "<tr>\n",
       "  <th>speedlimit_4</th>     <td>    0.7203</td> <td>    0.032</td> <td>   22.368</td> <td> 0.000</td> <td>    0.657</td> <td>    0.783</td>\n",
       "</tr>\n",
       "<tr>\n",
       "  <th>speedlimit_5</th>     <td>    0.0562</td> <td>    0.082</td> <td>    0.690</td> <td> 0.491</td> <td>   -0.104</td> <td>    0.216</td>\n",
       "</tr>\n",
       "</table>\n",
       "<table class=\"simpletable\">\n",
       "<tr>\n",
       "  <th>Omnibus:</th>       <td>150.146</td> <th>  Durbin-Watson:     </th> <td>   0.889</td>\n",
       "</tr>\n",
       "<tr>\n",
       "  <th>Prob(Omnibus):</th> <td> 0.000</td>  <th>  Jarque-Bera (JB):  </th> <td> 269.799</td>\n",
       "</tr>\n",
       "<tr>\n",
       "  <th>Skew:</th>          <td> 0.866</td>  <th>  Prob(JB):          </th> <td>2.59e-59</td>\n",
       "</tr>\n",
       "<tr>\n",
       "  <th>Kurtosis:</th>      <td> 4.719</td>  <th>  Cond. No.          </th> <td>    55.6</td>\n",
       "</tr>\n",
       "</table><br/><br/>Notes:<br/>[1] Standard Errors assume that the covariance matrix of the errors is correctly specified."
      ],
      "text/latex": [
       "\\begin{center}\n",
       "\\begin{tabular}{lclc}\n",
       "\\toprule\n",
       "\\textbf{Dep. Variable:}    &       acp        & \\textbf{  R-squared:         } &     0.570   \\\\\n",
       "\\textbf{Model:}            &       OLS        & \\textbf{  Adj. R-squared:    } &     0.540   \\\\\n",
       "\\textbf{Method:}           &  Least Squares   & \\textbf{  F-statistic:       } &     18.70   \\\\\n",
       "\\textbf{Date:}             & Fri, 25 Oct 2024 & \\textbf{  Prob (F-statistic):} & 4.10e-140   \\\\\n",
       "\\textbf{Time:}             &     14:54:29     & \\textbf{  Log-Likelihood:    } &   -202.19   \\\\\n",
       "\\textbf{No. Observations:} &        1087      & \\textbf{  AIC:               } &     550.4   \\\\\n",
       "\\textbf{Df Residuals:}     &        1014      & \\textbf{  BIC:               } &     914.7   \\\\\n",
       "\\textbf{Df Model:}         &          72      & \\textbf{                     } &             \\\\\n",
       "\\textbf{Covariance Type:}  &    nonrobust     & \\textbf{                     } &             \\\\\n",
       "\\bottomrule\n",
       "\\end{tabular}\n",
       "\\begin{tabular}{lcccccc}\n",
       "                           & \\textbf{coef} & \\textbf{std err} & \\textbf{t} & \\textbf{P$> |$t$|$} & \\textbf{[0.025} & \\textbf{0.975]}  \\\\\n",
       "\\midrule\n",
       "\\textbf{const}             &      -0.0270  &        0.097     &    -0.277  &         0.782        &       -0.218    &        0.164     \\\\\n",
       "\\textbf{cmean}             &       0.0119  &        0.011     &     1.102  &         0.271        &       -0.009    &        0.033     \\\\\n",
       "\\textbf{cmin}              &      -0.0047  &        0.010     &    -0.487  &         0.626        &       -0.024    &        0.014     \\\\\n",
       "\\textbf{ie}                &      -0.0150  &        0.010     &    -1.511  &         0.131        &       -0.034    &        0.004     \\\\\n",
       "\\textbf{mew}               &       0.0173  &        0.011     &     1.629  &         0.104        &       -0.004    &        0.038     \\\\\n",
       "\\textbf{meg}               &      -0.0109  &        0.015     &    -0.710  &         0.478        &       -0.041    &        0.019     \\\\\n",
       "\\textbf{megmax}            &       0.0063  &        0.014     &     0.438  &         0.662        &       -0.022    &        0.035     \\\\\n",
       "\\textbf{dbusl}             &      -0.0155  &        0.012     &    -1.243  &         0.214        &       -0.040    &        0.009     \\\\\n",
       "\\textbf{dtraml}            &       0.0072  &        0.013     &     0.559  &         0.576        &       -0.018    &        0.033     \\\\\n",
       "\\textbf{dtrainl}           &       0.0084  &        0.012     &     0.725  &         0.469        &       -0.014    &        0.031     \\\\\n",
       "\\textbf{dplight}           &       0.0165  &        0.010     &     1.583  &         0.114        &       -0.004    &        0.037     \\\\\n",
       "\\textbf{dstation}          &       0.0087  &        0.012     &     0.716  &         0.474        &       -0.015    &        0.032     \\\\\n",
       "\\textbf{dparkcar}          &      -0.0097  &        0.012     &    -0.790  &         0.430        &       -0.034    &        0.014     \\\\\n",
       "\\textbf{dparktw}           &       0.0023  &        0.011     &     0.196  &         0.844        &       -0.020    &        0.025     \\\\\n",
       "\\textbf{dpedcro}           &      -0.0099  &        0.011     &    -0.865  &         0.387        &       -0.032    &        0.013     \\\\\n",
       "\\textbf{dstopsign}         &       0.0106  &        0.013     &     0.842  &         0.400        &       -0.014    &        0.035     \\\\\n",
       "\\textbf{dtrafficarea}      &       0.0296  &        0.015     &     1.990  &         0.047        &        0.000    &        0.059     \\\\\n",
       "\\textbf{droad}             &      -0.0106  &        0.011     &    -0.993  &         0.321        &       -0.032    &        0.010     \\\\\n",
       "\\textbf{dvfpath}           &      -0.0147  &        0.010     &    -1.464  &         0.143        &       -0.034    &        0.005     \\\\\n",
       "\\textbf{gvm\\_dwv}          &      -0.0082  &        0.012     &    -0.685  &         0.494        &       -0.032    &        0.015     \\\\\n",
       "\\textbf{bicyclecount}      &      -0.0085  &        0.011     &    -0.755  &         0.450        &       -0.030    &        0.014     \\\\\n",
       "\\textbf{carcount}          &      -0.0032  &        0.011     &    -0.293  &         0.770        &       -0.025    &        0.018     \\\\\n",
       "\\textbf{r\\_width\\_value}   &      -0.0612  &        0.015     &    -4.184  &         0.000        &       -0.090    &       -0.032     \\\\\n",
       "\\textbf{speedlimit\\_value} &      -0.0744  &        0.013     &    -5.874  &         0.000        &       -0.099    &       -0.050     \\\\\n",
       "\\textbf{z\\_qnr\\_1}         &       0.1295  &        0.072     &     1.793  &         0.073        &       -0.012    &        0.271     \\\\\n",
       "\\textbf{z\\_qnr\\_2}         &       0.0575  &        0.113     &     0.511  &         0.609        &       -0.163    &        0.278     \\\\\n",
       "\\textbf{z\\_qnr\\_3}         &      -0.1093  &        0.096     &    -1.133  &         0.258        &       -0.299    &        0.080     \\\\\n",
       "\\textbf{z\\_qnr\\_4}         &      -0.0223  &        0.076     &    -0.294  &         0.769        &       -0.171    &        0.127     \\\\\n",
       "\\textbf{z\\_qnr\\_5}         &       0.0768  &        0.089     &     0.860  &         0.390        &       -0.099    &        0.252     \\\\\n",
       "\\textbf{z\\_qnr\\_6}         &      -0.0861  &        0.081     &    -1.058  &         0.290        &       -0.246    &        0.074     \\\\\n",
       "\\textbf{z\\_qnr\\_7}         &       0.2638  &        0.102     &     2.581  &         0.010        &        0.063    &        0.464     \\\\\n",
       "\\textbf{z\\_qnr\\_8}         &       0.1403  &        0.081     &     1.729  &         0.084        &       -0.019    &        0.300     \\\\\n",
       "\\textbf{z\\_qnr\\_9}         &      -0.0083  &        0.090     &    -0.092  &         0.927        &       -0.185    &        0.169     \\\\\n",
       "\\textbf{z\\_qnr\\_10}        &      -0.3996  &        0.074     &    -5.405  &         0.000        &       -0.545    &       -0.255     \\\\\n",
       "\\textbf{z\\_qnr\\_11}        &      -0.0031  &        0.066     &    -0.047  &         0.963        &       -0.132    &        0.126     \\\\\n",
       "\\textbf{z\\_qnr\\_12}        &       0.0686  &        0.065     &     1.059  &         0.290        &       -0.059    &        0.196     \\\\\n",
       "\\textbf{z\\_qnr\\_13}        &      -0.3499  &        0.082     &    -4.258  &         0.000        &       -0.511    &       -0.189     \\\\\n",
       "\\textbf{z\\_qnr\\_14}        &      -0.0361  &        0.070     &    -0.513  &         0.608        &       -0.174    &        0.102     \\\\\n",
       "\\textbf{z\\_qnr\\_15}        &      -0.0483  &        0.087     &    -0.555  &         0.579        &       -0.219    &        0.123     \\\\\n",
       "\\textbf{z\\_qnr\\_16}        &       0.1037  &        0.082     &     1.270  &         0.205        &       -0.057    &        0.264     \\\\\n",
       "\\textbf{z\\_qnr\\_17}        &       0.1400  &        0.075     &     1.862  &         0.063        &       -0.008    &        0.288     \\\\\n",
       "\\textbf{z\\_qnr\\_19}        &       0.1466  &        0.072     &     2.026  &         0.043        &        0.005    &        0.289     \\\\\n",
       "\\textbf{z\\_qnr\\_20}        &      -0.0115  &        0.069     &    -0.166  &         0.868        &       -0.148    &        0.125     \\\\\n",
       "\\textbf{z\\_qnr\\_21}        &       0.1160  &        0.061     &     1.911  &         0.056        &       -0.003    &        0.235     \\\\\n",
       "\\textbf{z\\_qnr\\_22}        &       0.2423  &        0.085     &     2.838  &         0.005        &        0.075    &        0.410     \\\\\n",
       "\\textbf{z\\_qnr\\_23}        &      -0.0462  &        0.080     &    -0.574  &         0.566        &       -0.204    &        0.112     \\\\\n",
       "\\textbf{z\\_qnr\\_24}        &       0.0027  &        0.068     &     0.039  &         0.969        &       -0.131    &        0.136     \\\\\n",
       "\\textbf{z\\_qnr\\_25}        &      -0.0734  &        0.068     &    -1.080  &         0.281        &       -0.207    &        0.060     \\\\\n",
       "\\textbf{z\\_qnr\\_26}        &      -0.3832  &        0.113     &    -3.380  &         0.001        &       -0.606    &       -0.161     \\\\\n",
       "\\textbf{z\\_qnr\\_27}        &      -0.0196  &        0.112     &    -0.175  &         0.861        &       -0.240    &        0.200     \\\\\n",
       "\\textbf{z\\_qnr\\_28}        &      -0.0963  &        0.102     &    -0.946  &         0.344        &       -0.296    &        0.103     \\\\\n",
       "\\textbf{z\\_qnr\\_29}        &      -0.1820  &        0.097     &    -1.868  &         0.062        &       -0.373    &        0.009     \\\\\n",
       "\\textbf{z\\_qnr\\_30}        &      -0.0293  &        0.118     &    -0.248  &         0.804        &       -0.261    &        0.202     \\\\\n",
       "\\textbf{z\\_qnr\\_31}        &      -0.0690  &        0.101     &    -0.685  &         0.494        &       -0.267    &        0.129     \\\\\n",
       "\\textbf{z\\_qnr\\_32}        &      -0.0598  &        0.093     &    -0.640  &         0.522        &       -0.243    &        0.123     \\\\\n",
       "\\textbf{z\\_knr\\_2}         &       0.0168  &        0.085     &     0.198  &         0.843        &       -0.150    &        0.184     \\\\\n",
       "\\textbf{z\\_knr\\_3}         &       0.0816  &        0.071     &     1.143  &         0.253        &       -0.058    &        0.222     \\\\\n",
       "\\textbf{z\\_knr\\_4}         &       0.2577  &        0.050     &     5.119  &         0.000        &        0.159    &        0.356     \\\\\n",
       "\\textbf{z\\_knr\\_5}         &       0.3244  &        0.058     &     5.593  &         0.000        &        0.211    &        0.438     \\\\\n",
       "\\textbf{z\\_knr\\_7}         &       0.0164  &        0.056     &     0.293  &         0.770        &       -0.094    &        0.126     \\\\\n",
       "\\textbf{z\\_knr\\_8}         &      -0.1244  &        0.057     &    -2.194  &         0.028        &       -0.236    &       -0.013     \\\\\n",
       "\\textbf{z\\_knr\\_10}        &       0.0245  &        0.060     &     0.406  &         0.685        &       -0.094    &        0.143     \\\\\n",
       "\\textbf{trafficarea\\_1}    &      -0.1643  &        0.061     &    -2.681  &         0.007        &       -0.285    &       -0.044     \\\\\n",
       "\\textbf{trafficarea\\_2}    &      -0.2998  &        0.068     &    -4.402  &         0.000        &       -0.433    &       -0.166     \\\\\n",
       "\\textbf{r\\_width\\_1}       &      -0.0720  &        0.034     &    -2.145  &         0.032        &       -0.138    &       -0.006     \\\\\n",
       "\\textbf{r\\_width\\_2}       &      -0.1836  &        0.048     &    -3.795  &         0.000        &       -0.279    &       -0.089     \\\\\n",
       "\\textbf{r\\_width\\_4}       &       0.0567  &        0.044     &     1.296  &         0.195        &       -0.029    &        0.142     \\\\\n",
       "\\textbf{r\\_width\\_5}       &       0.0454  &        0.030     &     1.506  &         0.132        &       -0.014    &        0.104     \\\\\n",
       "\\textbf{r\\_width\\_6}       &       0.0306  &        0.040     &     0.756  &         0.450        &       -0.049    &        0.110     \\\\\n",
       "\\textbf{r\\_surface\\_1}     &       0.2957  &        0.067     &     4.438  &         0.000        &        0.165    &        0.426     \\\\\n",
       "\\textbf{speedlimit\\_1}     &       0.0884  &        0.030     &     2.985  &         0.003        &        0.030    &        0.147     \\\\\n",
       "\\textbf{speedlimit\\_4}     &       0.7203  &        0.032     &    22.368  &         0.000        &        0.657    &        0.783     \\\\\n",
       "\\textbf{speedlimit\\_5}     &       0.0562  &        0.082     &     0.690  &         0.491        &       -0.104    &        0.216     \\\\\n",
       "\\bottomrule\n",
       "\\end{tabular}\n",
       "\\begin{tabular}{lclc}\n",
       "\\textbf{Omnibus:}       & 150.146 & \\textbf{  Durbin-Watson:     } &    0.889  \\\\\n",
       "\\textbf{Prob(Omnibus):} &   0.000 & \\textbf{  Jarque-Bera (JB):  } &  269.799  \\\\\n",
       "\\textbf{Skew:}          &   0.866 & \\textbf{  Prob(JB):          } & 2.59e-59  \\\\\n",
       "\\textbf{Kurtosis:}      &   4.719 & \\textbf{  Cond. No.          } &     55.6  \\\\\n",
       "\\bottomrule\n",
       "\\end{tabular}\n",
       "%\\caption{OLS Regression Results}\n",
       "\\end{center}\n",
       "\n",
       "Notes: \\newline\n",
       " [1] Standard Errors assume that the covariance matrix of the errors is correctly specified."
      ],
      "text/plain": [
       "<class 'statsmodels.iolib.summary.Summary'>\n",
       "\"\"\"\n",
       "                            OLS Regression Results                            \n",
       "==============================================================================\n",
       "Dep. Variable:                    acp   R-squared:                       0.570\n",
       "Model:                            OLS   Adj. R-squared:                  0.540\n",
       "Method:                 Least Squares   F-statistic:                     18.70\n",
       "Date:                Fri, 25 Oct 2024   Prob (F-statistic):          4.10e-140\n",
       "Time:                        14:54:29   Log-Likelihood:                -202.19\n",
       "No. Observations:                1087   AIC:                             550.4\n",
       "Df Residuals:                    1014   BIC:                             914.7\n",
       "Df Model:                          72                                         \n",
       "Covariance Type:            nonrobust                                         \n",
       "====================================================================================\n",
       "                       coef    std err          t      P>|t|      [0.025      0.975]\n",
       "------------------------------------------------------------------------------------\n",
       "const               -0.0270      0.097     -0.277      0.782      -0.218       0.164\n",
       "cmean                0.0119      0.011      1.102      0.271      -0.009       0.033\n",
       "cmin                -0.0047      0.010     -0.487      0.626      -0.024       0.014\n",
       "ie                  -0.0150      0.010     -1.511      0.131      -0.034       0.004\n",
       "mew                  0.0173      0.011      1.629      0.104      -0.004       0.038\n",
       "meg                 -0.0109      0.015     -0.710      0.478      -0.041       0.019\n",
       "megmax               0.0063      0.014      0.438      0.662      -0.022       0.035\n",
       "dbusl               -0.0155      0.012     -1.243      0.214      -0.040       0.009\n",
       "dtraml               0.0072      0.013      0.559      0.576      -0.018       0.033\n",
       "dtrainl              0.0084      0.012      0.725      0.469      -0.014       0.031\n",
       "dplight              0.0165      0.010      1.583      0.114      -0.004       0.037\n",
       "dstation             0.0087      0.012      0.716      0.474      -0.015       0.032\n",
       "dparkcar            -0.0097      0.012     -0.790      0.430      -0.034       0.014\n",
       "dparktw              0.0023      0.011      0.196      0.844      -0.020       0.025\n",
       "dpedcro             -0.0099      0.011     -0.865      0.387      -0.032       0.013\n",
       "dstopsign            0.0106      0.013      0.842      0.400      -0.014       0.035\n",
       "dtrafficarea         0.0296      0.015      1.990      0.047       0.000       0.059\n",
       "droad               -0.0106      0.011     -0.993      0.321      -0.032       0.010\n",
       "dvfpath             -0.0147      0.010     -1.464      0.143      -0.034       0.005\n",
       "gvm_dwv             -0.0082      0.012     -0.685      0.494      -0.032       0.015\n",
       "bicyclecount        -0.0085      0.011     -0.755      0.450      -0.030       0.014\n",
       "carcount            -0.0032      0.011     -0.293      0.770      -0.025       0.018\n",
       "r_width_value       -0.0612      0.015     -4.184      0.000      -0.090      -0.032\n",
       "speedlimit_value    -0.0744      0.013     -5.874      0.000      -0.099      -0.050\n",
       "z_qnr_1              0.1295      0.072      1.793      0.073      -0.012       0.271\n",
       "z_qnr_2              0.0575      0.113      0.511      0.609      -0.163       0.278\n",
       "z_qnr_3             -0.1093      0.096     -1.133      0.258      -0.299       0.080\n",
       "z_qnr_4             -0.0223      0.076     -0.294      0.769      -0.171       0.127\n",
       "z_qnr_5              0.0768      0.089      0.860      0.390      -0.099       0.252\n",
       "z_qnr_6             -0.0861      0.081     -1.058      0.290      -0.246       0.074\n",
       "z_qnr_7              0.2638      0.102      2.581      0.010       0.063       0.464\n",
       "z_qnr_8              0.1403      0.081      1.729      0.084      -0.019       0.300\n",
       "z_qnr_9             -0.0083      0.090     -0.092      0.927      -0.185       0.169\n",
       "z_qnr_10            -0.3996      0.074     -5.405      0.000      -0.545      -0.255\n",
       "z_qnr_11            -0.0031      0.066     -0.047      0.963      -0.132       0.126\n",
       "z_qnr_12             0.0686      0.065      1.059      0.290      -0.059       0.196\n",
       "z_qnr_13            -0.3499      0.082     -4.258      0.000      -0.511      -0.189\n",
       "z_qnr_14            -0.0361      0.070     -0.513      0.608      -0.174       0.102\n",
       "z_qnr_15            -0.0483      0.087     -0.555      0.579      -0.219       0.123\n",
       "z_qnr_16             0.1037      0.082      1.270      0.205      -0.057       0.264\n",
       "z_qnr_17             0.1400      0.075      1.862      0.063      -0.008       0.288\n",
       "z_qnr_19             0.1466      0.072      2.026      0.043       0.005       0.289\n",
       "z_qnr_20            -0.0115      0.069     -0.166      0.868      -0.148       0.125\n",
       "z_qnr_21             0.1160      0.061      1.911      0.056      -0.003       0.235\n",
       "z_qnr_22             0.2423      0.085      2.838      0.005       0.075       0.410\n",
       "z_qnr_23            -0.0462      0.080     -0.574      0.566      -0.204       0.112\n",
       "z_qnr_24             0.0027      0.068      0.039      0.969      -0.131       0.136\n",
       "z_qnr_25            -0.0734      0.068     -1.080      0.281      -0.207       0.060\n",
       "z_qnr_26            -0.3832      0.113     -3.380      0.001      -0.606      -0.161\n",
       "z_qnr_27            -0.0196      0.112     -0.175      0.861      -0.240       0.200\n",
       "z_qnr_28            -0.0963      0.102     -0.946      0.344      -0.296       0.103\n",
       "z_qnr_29            -0.1820      0.097     -1.868      0.062      -0.373       0.009\n",
       "z_qnr_30            -0.0293      0.118     -0.248      0.804      -0.261       0.202\n",
       "z_qnr_31            -0.0690      0.101     -0.685      0.494      -0.267       0.129\n",
       "z_qnr_32            -0.0598      0.093     -0.640      0.522      -0.243       0.123\n",
       "z_knr_2              0.0168      0.085      0.198      0.843      -0.150       0.184\n",
       "z_knr_3              0.0816      0.071      1.143      0.253      -0.058       0.222\n",
       "z_knr_4              0.2577      0.050      5.119      0.000       0.159       0.356\n",
       "z_knr_5              0.3244      0.058      5.593      0.000       0.211       0.438\n",
       "z_knr_7              0.0164      0.056      0.293      0.770      -0.094       0.126\n",
       "z_knr_8             -0.1244      0.057     -2.194      0.028      -0.236      -0.013\n",
       "z_knr_10             0.0245      0.060      0.406      0.685      -0.094       0.143\n",
       "trafficarea_1       -0.1643      0.061     -2.681      0.007      -0.285      -0.044\n",
       "trafficarea_2       -0.2998      0.068     -4.402      0.000      -0.433      -0.166\n",
       "r_width_1           -0.0720      0.034     -2.145      0.032      -0.138      -0.006\n",
       "r_width_2           -0.1836      0.048     -3.795      0.000      -0.279      -0.089\n",
       "r_width_4            0.0567      0.044      1.296      0.195      -0.029       0.142\n",
       "r_width_5            0.0454      0.030      1.506      0.132      -0.014       0.104\n",
       "r_width_6            0.0306      0.040      0.756      0.450      -0.049       0.110\n",
       "r_surface_1          0.2957      0.067      4.438      0.000       0.165       0.426\n",
       "speedlimit_1         0.0884      0.030      2.985      0.003       0.030       0.147\n",
       "speedlimit_4         0.7203      0.032     22.368      0.000       0.657       0.783\n",
       "speedlimit_5         0.0562      0.082      0.690      0.491      -0.104       0.216\n",
       "==============================================================================\n",
       "Omnibus:                      150.146   Durbin-Watson:                   0.889\n",
       "Prob(Omnibus):                  0.000   Jarque-Bera (JB):              269.799\n",
       "Skew:                           0.866   Prob(JB):                     2.59e-59\n",
       "Kurtosis:                       4.719   Cond. No.                         55.6\n",
       "==============================================================================\n",
       "\n",
       "Notes:\n",
       "[1] Standard Errors assume that the covariance matrix of the errors is correctly specified.\n",
       "\"\"\""
      ]
     },
     "execution_count": 50,
     "metadata": {},
     "output_type": "execute_result"
    }
   ],
   "source": [
    "# OLS\n",
    "# With constant\n",
    "x_const = tools.add_constant(x)\n",
    "m00 = sm.OLS(y, x_const)\n",
    "r00 = m00.fit()\n",
    "r00.summary()\n",
    "\n",
    "# m00 = sm.OLS(y, x)\n",
    "# r00 = m00.fit()\n",
    "# r00.summary()"
   ]
  },
  {
   "cell_type": "code",
   "execution_count": 94,
   "id": "d915df21-384a-47da-bc35-1242f858e894",
   "metadata": {
    "execution": {
     "iopub.execute_input": "2024-10-25T13:21:13.883240Z",
     "iopub.status.busy": "2024-10-25T13:21:13.882664Z",
     "iopub.status.idle": "2024-10-25T13:21:13.886600Z",
     "shell.execute_reply": "2024-10-25T13:21:13.886016Z",
     "shell.execute_reply.started": "2024-10-25T13:21:13.883221Z"
    }
   },
   "outputs": [
    {
     "name": "stdout",
     "output_type": "stream",
     "text": [
      "0.5399593033546927\n"
     ]
    }
   ],
   "source": [
    "print(r00.rsquared_adj)"
   ]
  },
  {
   "cell_type": "code",
   "execution_count": 209,
   "id": "0c7211cf-18d7-4583-83d2-26ab7c5df0ce",
   "metadata": {
    "execution": {
     "iopub.execute_input": "2024-10-25T14:09:07.809815Z",
     "iopub.status.busy": "2024-10-25T14:09:07.809501Z",
     "iopub.status.idle": "2024-10-25T14:09:07.813499Z",
     "shell.execute_reply": "2024-10-25T14:09:07.813079Z",
     "shell.execute_reply.started": "2024-10-25T14:09:07.809799Z"
    }
   },
   "outputs": [],
   "source": [
    "def printsig(r):\n",
    "    df = r.pvalues\n",
    "    dfo = df[df<0.05]\n",
    "    dfo = dfo.to_frame()\n",
    "    dfo.loc[dfo[0] >= 0.01, 'sig'] = '*'\n",
    "    dfo.loc[(dfo[0] < 0.01) & (dfo[0] >= 0.001) , 'sig'] = '**'\n",
    "    dfo.loc[dfo[0] < 0.001, 'sig'] = '***'\n",
    "    dfo = dfo.rename_axis('feature').reset_index()\n",
    "    return dfo\n",
    "    print(dfo)\n",
    "    print(len(dfo))"
   ]
  },
  {
   "cell_type": "code",
   "execution_count": 95,
   "id": "2d9536c1-2182-4d14-b1c8-ad683a80664a",
   "metadata": {
    "execution": {
     "iopub.execute_input": "2024-10-25T13:21:16.160340Z",
     "iopub.status.busy": "2024-10-25T13:21:16.159594Z",
     "iopub.status.idle": "2024-10-25T13:21:16.166559Z",
     "shell.execute_reply": "2024-10-25T13:21:16.165934Z",
     "shell.execute_reply.started": "2024-10-25T13:21:16.160319Z"
    }
   },
   "outputs": [
    {
     "name": "stdout",
     "output_type": "stream",
     "text": [
      "                             0  sig\n",
      "dtrafficarea      4.688041e-02    *\n",
      "r_width_value     3.113248e-05  ***\n",
      "speedlimit_value  5.771990e-09  ***\n",
      "z_qnr_7           9.987247e-03   **\n",
      "z_qnr_10          8.077357e-08  ***\n",
      "z_qnr_13          2.253944e-05  ***\n",
      "z_qnr_19          4.300650e-02    *\n",
      "z_qnr_22          4.629508e-03   **\n",
      "z_qnr_26          7.518255e-04  ***\n",
      "z_knr_4           3.676067e-07  ***\n",
      "z_knr_5           2.865712e-08  ***\n",
      "z_knr_8           2.844782e-02    *\n",
      "trafficarea_1     7.462978e-03   **\n",
      "trafficarea_2     1.186136e-05  ***\n",
      "r_width_1         3.218230e-02    *\n",
      "r_width_2         1.563506e-04  ***\n",
      "r_surface_1       1.009068e-05  ***\n",
      "speedlimit_1      2.905013e-03   **\n",
      "speedlimit_4      2.135146e-90  ***\n"
     ]
    }
   ],
   "source": [
    "printsig(r00)"
   ]
  },
  {
   "cell_type": "code",
   "execution_count": 51,
   "id": "aa73c4e6-afd1-4ec7-bc36-72e81f5e5241",
   "metadata": {
    "execution": {
     "iopub.execute_input": "2024-10-25T12:54:30.056290Z",
     "iopub.status.busy": "2024-10-25T12:54:30.055736Z",
     "iopub.status.idle": "2024-10-25T12:54:30.286166Z",
     "shell.execute_reply": "2024-10-25T12:54:30.285549Z",
     "shell.execute_reply.started": "2024-10-25T12:54:30.056262Z"
    }
   },
   "outputs": [
    {
     "name": "stdout",
     "output_type": "stream",
     "text": [
      "0.8923643054277829\n",
      "\n",
      "Test accuracy : \n",
      " 0.8923643054277829\n",
      "\n",
      "Confusion Matrix : \n",
      " [[  0   0   0]\n",
      " [  1 763  28]\n",
      " [  0  88 207]]\n"
     ]
    },
    {
     "data": {
      "text/plain": [
       "<sklearn.metrics._plot.confusion_matrix.ConfusionMatrixDisplay at 0x14daf4b432d0>"
      ]
     },
     "execution_count": 51,
     "metadata": {},
     "output_type": "execute_result"
    },
    {
     "data": {
      "image/png": "[encoded data removed]",
      "text/plain": [
       "<Figure size 640x480 with 2 Axes>"
      ]
     },
     "metadata": {},
     "output_type": "display_data"
    }
   ],
   "source": [
    "pred00 = r00.predict(x_const)\n",
    "pred00 = list(map(round,pred00))\n",
    "print(accuracy_score(y, pred00))\n",
    "print('\\nTest accuracy : \\n', accuracy_score(y, pred00))\n",
    "cm00 = confusion_matrix(y, pred00) \n",
    "print ('\\nConfusion Matrix : \\n', cm00)\n",
    "cm00_display = metrics.ConfusionMatrixDisplay(confusion_matrix = cm00)\n",
    "cm00_display.plot()"
   ]
  },
  {
   "cell_type": "code",
   "execution_count": 52,
   "id": "000a5c84-dfa0-45d4-b162-b54356df5d34",
   "metadata": {
    "execution": {
     "iopub.execute_input": "2024-10-25T12:54:30.417191Z",
     "iopub.status.busy": "2024-10-25T12:54:30.416614Z",
     "iopub.status.idle": "2024-10-25T12:54:30.432227Z",
     "shell.execute_reply": "2024-10-25T12:54:30.431622Z",
     "shell.execute_reply.started": "2024-10-25T12:54:30.417169Z"
    }
   },
   "outputs": [
    {
     "name": "stdout",
     "output_type": "stream",
     "text": [
      "accuracy 0.8923643054277829\n",
      "precision [0.         0.89659224 0.88085106]\n",
      "sensitivity recall [0.         0.96338384 0.70169492]\n",
      "f1 score [0.         0.9287888  0.78113208]\n",
      "mean precision 0.5924811027493729\n",
      "mean recall 0.5550262512126919\n",
      "mean f1 score 0.5699736254818423\n"
     ]
    },
    {
     "name": "stderr",
     "output_type": "stream",
     "text": [
      "/opt/conda/lib/python3.11/site-packages/sklearn/metrics/_classification.py:1469: UndefinedMetricWarning: Recall is ill-defined and being set to 0.0 in labels with no true samples. Use `zero_division` parameter to control this behavior.\n",
      "  _warn_prf(average, modifier, msg_start, len(result))\n"
     ]
    }
   ],
   "source": [
    "acc_ols = metrics.accuracy_score(y, pred00)\n",
    "print('accuracy', acc_ols)\n",
    "\n",
    "pre_ols = metrics.precision_score(y, pred00, average = None)\n",
    "print('precision', pre_ols)\n",
    "\n",
    "senrec_ols = metrics.recall_score(y, pred00, average = None)\n",
    "print('sensitivity recall', senrec_ols)\n",
    "\n",
    "f1_ols = metrics.f1_score(y, pred00, average = None)\n",
    "print('f1 score', f1_ols)\n",
    "\n",
    "pre_ols_m = np.mean(pre_ols)\n",
    "senrec_ols_m = np.mean(senrec_ols)\n",
    "f1_ols_m = np.mean(f1_ols)\n",
    "print('mean precision', pre_ols_m)\n",
    "print('mean recall', senrec_ols_m)\n",
    "print('mean f1 score', f1_ols_m)"
   ]
  },
  {
   "cell_type": "markdown",
   "id": "82930f54-a24d-48a1-a9de-0d36dd34c14b",
   "metadata": {},
   "source": [
    "### With data splitting"
   ]
  },
  {
   "cell_type": "code",
   "execution_count": 53,
   "id": "b56e34e2-487a-4703-bfad-189ca1dafe51",
   "metadata": {
    "execution": {
     "iopub.execute_input": "2024-10-25T12:54:31.175938Z",
     "iopub.status.busy": "2024-10-25T12:54:31.175226Z",
     "iopub.status.idle": "2024-10-25T12:54:31.243032Z",
     "shell.execute_reply": "2024-10-25T12:54:31.242454Z",
     "shell.execute_reply.started": "2024-10-25T12:54:31.175915Z"
    },
    "scrolled": true
   },
   "outputs": [
    {
     "data": {
      "text/html": [
       "<table class=\"simpletable\">\n",
       "<caption>OLS Regression Results</caption>\n",
       "<tr>\n",
       "  <th>Dep. Variable:</th>           <td>acp</td>       <th>  R-squared:         </th> <td>   0.596</td>\n",
       "</tr>\n",
       "<tr>\n",
       "  <th>Model:</th>                   <td>OLS</td>       <th>  Adj. R-squared:    </th> <td>   0.554</td>\n",
       "</tr>\n",
       "<tr>\n",
       "  <th>Method:</th>             <td>Least Squares</td>  <th>  F-statistic:       </th> <td>   14.11</td>\n",
       "</tr>\n",
       "<tr>\n",
       "  <th>Date:</th>             <td>Fri, 25 Oct 2024</td> <th>  Prob (F-statistic):</th> <td>2.00e-94</td>\n",
       "</tr>\n",
       "<tr>\n",
       "  <th>Time:</th>                 <td>14:54:31</td>     <th>  Log-Likelihood:    </th> <td> -124.09</td>\n",
       "</tr>\n",
       "<tr>\n",
       "  <th>No. Observations:</th>      <td>   760</td>      <th>  AIC:               </th> <td>   394.2</td>\n",
       "</tr>\n",
       "<tr>\n",
       "  <th>Df Residuals:</th>          <td>   687</td>      <th>  BIC:               </th> <td>   732.4</td>\n",
       "</tr>\n",
       "<tr>\n",
       "  <th>Df Model:</th>              <td>    72</td>      <th>                     </th>     <td> </td>   \n",
       "</tr>\n",
       "<tr>\n",
       "  <th>Covariance Type:</th>      <td>nonrobust</td>    <th>                     </th>     <td> </td>   \n",
       "</tr>\n",
       "</table>\n",
       "<table class=\"simpletable\">\n",
       "<tr>\n",
       "          <td></td>            <th>coef</th>     <th>std err</th>      <th>t</th>      <th>P>|t|</th>  <th>[0.025</th>    <th>0.975]</th>  \n",
       "</tr>\n",
       "<tr>\n",
       "  <th>const</th>            <td>   -0.0500</td> <td>    0.122</td> <td>   -0.411</td> <td> 0.682</td> <td>   -0.289</td> <td>    0.189</td>\n",
       "</tr>\n",
       "<tr>\n",
       "  <th>cmean</th>            <td>    0.0279</td> <td>    0.013</td> <td>    2.162</td> <td> 0.031</td> <td>    0.003</td> <td>    0.053</td>\n",
       "</tr>\n",
       "<tr>\n",
       "  <th>cmin</th>             <td>   -0.0090</td> <td>    0.010</td> <td>   -0.887</td> <td> 0.375</td> <td>   -0.029</td> <td>    0.011</td>\n",
       "</tr>\n",
       "<tr>\n",
       "  <th>ie</th>               <td>   -0.0122</td> <td>    0.012</td> <td>   -1.042</td> <td> 0.298</td> <td>   -0.035</td> <td>    0.011</td>\n",
       "</tr>\n",
       "<tr>\n",
       "  <th>mew</th>              <td>    0.0229</td> <td>    0.012</td> <td>    1.833</td> <td> 0.067</td> <td>   -0.002</td> <td>    0.047</td>\n",
       "</tr>\n",
       "<tr>\n",
       "  <th>meg</th>              <td>   -0.0029</td> <td>    0.018</td> <td>   -0.158</td> <td> 0.875</td> <td>   -0.039</td> <td>    0.033</td>\n",
       "</tr>\n",
       "<tr>\n",
       "  <th>megmax</th>           <td>    0.0122</td> <td>    0.017</td> <td>    0.703</td> <td> 0.482</td> <td>   -0.022</td> <td>    0.046</td>\n",
       "</tr>\n",
       "<tr>\n",
       "  <th>dbusl</th>            <td>   -0.0030</td> <td>    0.015</td> <td>   -0.201</td> <td> 0.841</td> <td>   -0.032</td> <td>    0.026</td>\n",
       "</tr>\n",
       "<tr>\n",
       "  <th>dtraml</th>           <td>    0.0101</td> <td>    0.016</td> <td>    0.635</td> <td> 0.525</td> <td>   -0.021</td> <td>    0.041</td>\n",
       "</tr>\n",
       "<tr>\n",
       "  <th>dtrainl</th>          <td>    0.0046</td> <td>    0.014</td> <td>    0.323</td> <td> 0.747</td> <td>   -0.023</td> <td>    0.032</td>\n",
       "</tr>\n",
       "<tr>\n",
       "  <th>dplight</th>          <td>    0.0127</td> <td>    0.012</td> <td>    1.026</td> <td> 0.305</td> <td>   -0.012</td> <td>    0.037</td>\n",
       "</tr>\n",
       "<tr>\n",
       "  <th>dstation</th>         <td>    0.0084</td> <td>    0.014</td> <td>    0.582</td> <td> 0.561</td> <td>   -0.020</td> <td>    0.037</td>\n",
       "</tr>\n",
       "<tr>\n",
       "  <th>dparkcar</th>         <td>   -0.0132</td> <td>    0.015</td> <td>   -0.903</td> <td> 0.367</td> <td>   -0.042</td> <td>    0.016</td>\n",
       "</tr>\n",
       "<tr>\n",
       "  <th>dparktw</th>          <td>    0.0159</td> <td>    0.014</td> <td>    1.146</td> <td> 0.252</td> <td>   -0.011</td> <td>    0.043</td>\n",
       "</tr>\n",
       "<tr>\n",
       "  <th>dpedcro</th>          <td>   -0.0042</td> <td>    0.014</td> <td>   -0.307</td> <td> 0.759</td> <td>   -0.031</td> <td>    0.023</td>\n",
       "</tr>\n",
       "<tr>\n",
       "  <th>dstopsign</th>        <td>    0.0009</td> <td>    0.016</td> <td>    0.059</td> <td> 0.953</td> <td>   -0.030</td> <td>    0.032</td>\n",
       "</tr>\n",
       "<tr>\n",
       "  <th>dtrafficarea</th>     <td>    0.0487</td> <td>    0.018</td> <td>    2.710</td> <td> 0.007</td> <td>    0.013</td> <td>    0.084</td>\n",
       "</tr>\n",
       "<tr>\n",
       "  <th>droad</th>            <td>    0.0008</td> <td>    0.013</td> <td>    0.057</td> <td> 0.954</td> <td>   -0.026</td> <td>    0.027</td>\n",
       "</tr>\n",
       "<tr>\n",
       "  <th>dvfpath</th>          <td>   -0.0183</td> <td>    0.013</td> <td>   -1.380</td> <td> 0.168</td> <td>   -0.044</td> <td>    0.008</td>\n",
       "</tr>\n",
       "<tr>\n",
       "  <th>gvm_dwv</th>          <td>   -0.0174</td> <td>    0.014</td> <td>   -1.224</td> <td> 0.221</td> <td>   -0.045</td> <td>    0.010</td>\n",
       "</tr>\n",
       "<tr>\n",
       "  <th>bicyclecount</th>     <td>   -0.0186</td> <td>    0.013</td> <td>   -1.406</td> <td> 0.160</td> <td>   -0.045</td> <td>    0.007</td>\n",
       "</tr>\n",
       "<tr>\n",
       "  <th>carcount</th>         <td>    0.0062</td> <td>    0.014</td> <td>    0.459</td> <td> 0.647</td> <td>   -0.020</td> <td>    0.033</td>\n",
       "</tr>\n",
       "<tr>\n",
       "  <th>r_width_value</th>    <td>   -0.0467</td> <td>    0.018</td> <td>   -2.571</td> <td> 0.010</td> <td>   -0.082</td> <td>   -0.011</td>\n",
       "</tr>\n",
       "<tr>\n",
       "  <th>speedlimit_value</th> <td>   -0.0781</td> <td>    0.015</td> <td>   -5.272</td> <td> 0.000</td> <td>   -0.107</td> <td>   -0.049</td>\n",
       "</tr>\n",
       "<tr>\n",
       "  <th>z_qnr_1</th>          <td>    0.1526</td> <td>    0.084</td> <td>    1.823</td> <td> 0.069</td> <td>   -0.012</td> <td>    0.317</td>\n",
       "</tr>\n",
       "<tr>\n",
       "  <th>z_qnr_2</th>          <td>    0.0348</td> <td>    0.141</td> <td>    0.247</td> <td> 0.805</td> <td>   -0.242</td> <td>    0.312</td>\n",
       "</tr>\n",
       "<tr>\n",
       "  <th>z_qnr_3</th>          <td>   -0.0258</td> <td>    0.113</td> <td>   -0.228</td> <td> 0.820</td> <td>   -0.248</td> <td>    0.197</td>\n",
       "</tr>\n",
       "<tr>\n",
       "  <th>z_qnr_4</th>          <td>   -0.0088</td> <td>    0.092</td> <td>   -0.095</td> <td> 0.924</td> <td>   -0.190</td> <td>    0.173</td>\n",
       "</tr>\n",
       "<tr>\n",
       "  <th>z_qnr_5</th>          <td>    0.0333</td> <td>    0.108</td> <td>    0.309</td> <td> 0.758</td> <td>   -0.178</td> <td>    0.245</td>\n",
       "</tr>\n",
       "<tr>\n",
       "  <th>z_qnr_6</th>          <td>   -0.0426</td> <td>    0.099</td> <td>   -0.432</td> <td> 0.666</td> <td>   -0.236</td> <td>    0.151</td>\n",
       "</tr>\n",
       "<tr>\n",
       "  <th>z_qnr_7</th>          <td>    0.3011</td> <td>    0.127</td> <td>    2.363</td> <td> 0.018</td> <td>    0.051</td> <td>    0.551</td>\n",
       "</tr>\n",
       "<tr>\n",
       "  <th>z_qnr_8</th>          <td>    0.0722</td> <td>    0.102</td> <td>    0.708</td> <td> 0.479</td> <td>   -0.128</td> <td>    0.272</td>\n",
       "</tr>\n",
       "<tr>\n",
       "  <th>z_qnr_9</th>          <td>    0.0339</td> <td>    0.111</td> <td>    0.305</td> <td> 0.760</td> <td>   -0.184</td> <td>    0.252</td>\n",
       "</tr>\n",
       "<tr>\n",
       "  <th>z_qnr_10</th>         <td>   -0.5060</td> <td>    0.093</td> <td>   -5.419</td> <td> 0.000</td> <td>   -0.689</td> <td>   -0.323</td>\n",
       "</tr>\n",
       "<tr>\n",
       "  <th>z_qnr_11</th>         <td>   -0.0176</td> <td>    0.078</td> <td>   -0.224</td> <td> 0.823</td> <td>   -0.171</td> <td>    0.136</td>\n",
       "</tr>\n",
       "<tr>\n",
       "  <th>z_qnr_12</th>         <td>    0.0765</td> <td>    0.080</td> <td>    0.962</td> <td> 0.336</td> <td>   -0.080</td> <td>    0.233</td>\n",
       "</tr>\n",
       "<tr>\n",
       "  <th>z_qnr_13</th>         <td>   -0.3871</td> <td>    0.099</td> <td>   -3.891</td> <td> 0.000</td> <td>   -0.582</td> <td>   -0.192</td>\n",
       "</tr>\n",
       "<tr>\n",
       "  <th>z_qnr_14</th>         <td>   -0.0297</td> <td>    0.088</td> <td>   -0.338</td> <td> 0.735</td> <td>   -0.202</td> <td>    0.142</td>\n",
       "</tr>\n",
       "<tr>\n",
       "  <th>z_qnr_15</th>         <td>    0.0040</td> <td>    0.105</td> <td>    0.038</td> <td> 0.970</td> <td>   -0.202</td> <td>    0.210</td>\n",
       "</tr>\n",
       "<tr>\n",
       "  <th>z_qnr_16</th>         <td>    0.0320</td> <td>    0.126</td> <td>    0.255</td> <td> 0.799</td> <td>   -0.215</td> <td>    0.279</td>\n",
       "</tr>\n",
       "<tr>\n",
       "  <th>z_qnr_17</th>         <td>    0.1058</td> <td>    0.096</td> <td>    1.100</td> <td> 0.272</td> <td>   -0.083</td> <td>    0.295</td>\n",
       "</tr>\n",
       "<tr>\n",
       "  <th>z_qnr_19</th>         <td>    0.1991</td> <td>    0.087</td> <td>    2.301</td> <td> 0.022</td> <td>    0.029</td> <td>    0.369</td>\n",
       "</tr>\n",
       "<tr>\n",
       "  <th>z_qnr_20</th>         <td>    0.0002</td> <td>    0.081</td> <td>    0.002</td> <td> 0.998</td> <td>   -0.159</td> <td>    0.159</td>\n",
       "</tr>\n",
       "<tr>\n",
       "  <th>z_qnr_21</th>         <td>    0.1684</td> <td>    0.072</td> <td>    2.324</td> <td> 0.020</td> <td>    0.026</td> <td>    0.311</td>\n",
       "</tr>\n",
       "<tr>\n",
       "  <th>z_qnr_22</th>         <td>    0.1940</td> <td>    0.101</td> <td>    1.927</td> <td> 0.054</td> <td>   -0.004</td> <td>    0.392</td>\n",
       "</tr>\n",
       "<tr>\n",
       "  <th>z_qnr_23</th>         <td>    0.0106</td> <td>    0.103</td> <td>    0.103</td> <td> 0.918</td> <td>   -0.193</td> <td>    0.214</td>\n",
       "</tr>\n",
       "<tr>\n",
       "  <th>z_qnr_24</th>         <td>    0.0477</td> <td>    0.084</td> <td>    0.567</td> <td> 0.571</td> <td>   -0.117</td> <td>    0.213</td>\n",
       "</tr>\n",
       "<tr>\n",
       "  <th>z_qnr_25</th>         <td>   -0.0604</td> <td>    0.083</td> <td>   -0.733</td> <td> 0.464</td> <td>   -0.222</td> <td>    0.102</td>\n",
       "</tr>\n",
       "<tr>\n",
       "  <th>z_qnr_26</th>         <td>   -0.2461</td> <td>    0.138</td> <td>   -1.789</td> <td> 0.074</td> <td>   -0.516</td> <td>    0.024</td>\n",
       "</tr>\n",
       "<tr>\n",
       "  <th>z_qnr_27</th>         <td>   -0.1623</td> <td>    0.130</td> <td>   -1.248</td> <td> 0.212</td> <td>   -0.418</td> <td>    0.093</td>\n",
       "</tr>\n",
       "<tr>\n",
       "  <th>z_qnr_28</th>         <td>   -0.3414</td> <td>    0.174</td> <td>   -1.966</td> <td> 0.050</td> <td>   -0.682</td> <td>   -0.001</td>\n",
       "</tr>\n",
       "<tr>\n",
       "  <th>z_qnr_29</th>         <td>   -0.3715</td> <td>    0.112</td> <td>   -3.309</td> <td> 0.001</td> <td>   -0.592</td> <td>   -0.151</td>\n",
       "</tr>\n",
       "<tr>\n",
       "  <th>z_qnr_30</th>         <td>   -0.0810</td> <td>    0.126</td> <td>   -0.642</td> <td> 0.521</td> <td>   -0.329</td> <td>    0.167</td>\n",
       "</tr>\n",
       "<tr>\n",
       "  <th>z_qnr_31</th>         <td>   -0.0850</td> <td>    0.122</td> <td>   -0.695</td> <td> 0.487</td> <td>   -0.325</td> <td>    0.155</td>\n",
       "</tr>\n",
       "<tr>\n",
       "  <th>z_qnr_32</th>         <td>   -0.0138</td> <td>    0.111</td> <td>   -0.125</td> <td> 0.900</td> <td>   -0.231</td> <td>    0.203</td>\n",
       "</tr>\n",
       "<tr>\n",
       "  <th>z_knr_2</th>          <td>    0.0713</td> <td>    0.109</td> <td>    0.655</td> <td> 0.513</td> <td>   -0.142</td> <td>    0.285</td>\n",
       "</tr>\n",
       "<tr>\n",
       "  <th>z_knr_3</th>          <td>    0.0501</td> <td>    0.086</td> <td>    0.585</td> <td> 0.558</td> <td>   -0.118</td> <td>    0.218</td>\n",
       "</tr>\n",
       "<tr>\n",
       "  <th>z_knr_4</th>          <td>    0.3895</td> <td>    0.061</td> <td>    6.387</td> <td> 0.000</td> <td>    0.270</td> <td>    0.509</td>\n",
       "</tr>\n",
       "<tr>\n",
       "  <th>z_knr_5</th>          <td>    0.3947</td> <td>    0.069</td> <td>    5.717</td> <td> 0.000</td> <td>    0.259</td> <td>    0.530</td>\n",
       "</tr>\n",
       "<tr>\n",
       "  <th>z_knr_7</th>          <td>    0.1314</td> <td>    0.069</td> <td>    1.907</td> <td> 0.057</td> <td>   -0.004</td> <td>    0.267</td>\n",
       "</tr>\n",
       "<tr>\n",
       "  <th>z_knr_8</th>          <td>   -0.1597</td> <td>    0.069</td> <td>   -2.306</td> <td> 0.021</td> <td>   -0.296</td> <td>   -0.024</td>\n",
       "</tr>\n",
       "<tr>\n",
       "  <th>z_knr_10</th>         <td>    0.0854</td> <td>    0.074</td> <td>    1.155</td> <td> 0.249</td> <td>   -0.060</td> <td>    0.231</td>\n",
       "</tr>\n",
       "<tr>\n",
       "  <th>trafficarea_1</th>    <td>   -0.1911</td> <td>    0.075</td> <td>   -2.563</td> <td> 0.011</td> <td>   -0.337</td> <td>   -0.045</td>\n",
       "</tr>\n",
       "<tr>\n",
       "  <th>trafficarea_2</th>    <td>   -0.3641</td> <td>    0.084</td> <td>   -4.343</td> <td> 0.000</td> <td>   -0.529</td> <td>   -0.199</td>\n",
       "</tr>\n",
       "<tr>\n",
       "  <th>r_width_1</th>        <td>   -0.0667</td> <td>    0.042</td> <td>   -1.607</td> <td> 0.109</td> <td>   -0.148</td> <td>    0.015</td>\n",
       "</tr>\n",
       "<tr>\n",
       "  <th>r_width_2</th>        <td>   -0.1631</td> <td>    0.059</td> <td>   -2.752</td> <td> 0.006</td> <td>   -0.279</td> <td>   -0.047</td>\n",
       "</tr>\n",
       "<tr>\n",
       "  <th>r_width_4</th>        <td>    0.1236</td> <td>    0.053</td> <td>    2.317</td> <td> 0.021</td> <td>    0.019</td> <td>    0.228</td>\n",
       "</tr>\n",
       "<tr>\n",
       "  <th>r_width_5</th>        <td>    0.0666</td> <td>    0.037</td> <td>    1.822</td> <td> 0.069</td> <td>   -0.005</td> <td>    0.138</td>\n",
       "</tr>\n",
       "<tr>\n",
       "  <th>r_width_6</th>        <td>    0.0256</td> <td>    0.050</td> <td>    0.514</td> <td> 0.607</td> <td>   -0.072</td> <td>    0.123</td>\n",
       "</tr>\n",
       "<tr>\n",
       "  <th>r_surface_1</th>      <td>    0.3195</td> <td>    0.082</td> <td>    3.899</td> <td> 0.000</td> <td>    0.159</td> <td>    0.480</td>\n",
       "</tr>\n",
       "<tr>\n",
       "  <th>speedlimit_1</th>     <td>    0.0964</td> <td>    0.036</td> <td>    2.704</td> <td> 0.007</td> <td>    0.026</td> <td>    0.166</td>\n",
       "</tr>\n",
       "<tr>\n",
       "  <th>speedlimit_4</th>     <td>    0.6569</td> <td>    0.040</td> <td>   16.595</td> <td> 0.000</td> <td>    0.579</td> <td>    0.735</td>\n",
       "</tr>\n",
       "<tr>\n",
       "  <th>speedlimit_5</th>     <td>    0.0110</td> <td>    0.092</td> <td>    0.119</td> <td> 0.905</td> <td>   -0.170</td> <td>    0.192</td>\n",
       "</tr>\n",
       "</table>\n",
       "<table class=\"simpletable\">\n",
       "<tr>\n",
       "  <th>Omnibus:</th>       <td>71.141</td> <th>  Durbin-Watson:     </th> <td>   1.977</td>\n",
       "</tr>\n",
       "<tr>\n",
       "  <th>Prob(Omnibus):</th> <td> 0.000</td> <th>  Jarque-Bera (JB):  </th> <td> 101.419</td>\n",
       "</tr>\n",
       "<tr>\n",
       "  <th>Skew:</th>          <td> 0.700</td> <th>  Prob(JB):          </th> <td>9.49e-23</td>\n",
       "</tr>\n",
       "<tr>\n",
       "  <th>Kurtosis:</th>      <td> 4.115</td> <th>  Cond. No.          </th> <td>    58.9</td>\n",
       "</tr>\n",
       "</table><br/><br/>Notes:<br/>[1] Standard Errors assume that the covariance matrix of the errors is correctly specified."
      ],
      "text/latex": [
       "\\begin{center}\n",
       "\\begin{tabular}{lclc}\n",
       "\\toprule\n",
       "\\textbf{Dep. Variable:}    &       acp        & \\textbf{  R-squared:         } &     0.596   \\\\\n",
       "\\textbf{Model:}            &       OLS        & \\textbf{  Adj. R-squared:    } &     0.554   \\\\\n",
       "\\textbf{Method:}           &  Least Squares   & \\textbf{  F-statistic:       } &     14.11   \\\\\n",
       "\\textbf{Date:}             & Fri, 25 Oct 2024 & \\textbf{  Prob (F-statistic):} &  2.00e-94   \\\\\n",
       "\\textbf{Time:}             &     14:54:31     & \\textbf{  Log-Likelihood:    } &   -124.09   \\\\\n",
       "\\textbf{No. Observations:} &         760      & \\textbf{  AIC:               } &     394.2   \\\\\n",
       "\\textbf{Df Residuals:}     &         687      & \\textbf{  BIC:               } &     732.4   \\\\\n",
       "\\textbf{Df Model:}         &          72      & \\textbf{                     } &             \\\\\n",
       "\\textbf{Covariance Type:}  &    nonrobust     & \\textbf{                     } &             \\\\\n",
       "\\bottomrule\n",
       "\\end{tabular}\n",
       "\\begin{tabular}{lcccccc}\n",
       "                           & \\textbf{coef} & \\textbf{std err} & \\textbf{t} & \\textbf{P$> |$t$|$} & \\textbf{[0.025} & \\textbf{0.975]}  \\\\\n",
       "\\midrule\n",
       "\\textbf{const}             &      -0.0500  &        0.122     &    -0.411  &         0.682        &       -0.289    &        0.189     \\\\\n",
       "\\textbf{cmean}             &       0.0279  &        0.013     &     2.162  &         0.031        &        0.003    &        0.053     \\\\\n",
       "\\textbf{cmin}              &      -0.0090  &        0.010     &    -0.887  &         0.375        &       -0.029    &        0.011     \\\\\n",
       "\\textbf{ie}                &      -0.0122  &        0.012     &    -1.042  &         0.298        &       -0.035    &        0.011     \\\\\n",
       "\\textbf{mew}               &       0.0229  &        0.012     &     1.833  &         0.067        &       -0.002    &        0.047     \\\\\n",
       "\\textbf{meg}               &      -0.0029  &        0.018     &    -0.158  &         0.875        &       -0.039    &        0.033     \\\\\n",
       "\\textbf{megmax}            &       0.0122  &        0.017     &     0.703  &         0.482        &       -0.022    &        0.046     \\\\\n",
       "\\textbf{dbusl}             &      -0.0030  &        0.015     &    -0.201  &         0.841        &       -0.032    &        0.026     \\\\\n",
       "\\textbf{dtraml}            &       0.0101  &        0.016     &     0.635  &         0.525        &       -0.021    &        0.041     \\\\\n",
       "\\textbf{dtrainl}           &       0.0046  &        0.014     &     0.323  &         0.747        &       -0.023    &        0.032     \\\\\n",
       "\\textbf{dplight}           &       0.0127  &        0.012     &     1.026  &         0.305        &       -0.012    &        0.037     \\\\\n",
       "\\textbf{dstation}          &       0.0084  &        0.014     &     0.582  &         0.561        &       -0.020    &        0.037     \\\\\n",
       "\\textbf{dparkcar}          &      -0.0132  &        0.015     &    -0.903  &         0.367        &       -0.042    &        0.016     \\\\\n",
       "\\textbf{dparktw}           &       0.0159  &        0.014     &     1.146  &         0.252        &       -0.011    &        0.043     \\\\\n",
       "\\textbf{dpedcro}           &      -0.0042  &        0.014     &    -0.307  &         0.759        &       -0.031    &        0.023     \\\\\n",
       "\\textbf{dstopsign}         &       0.0009  &        0.016     &     0.059  &         0.953        &       -0.030    &        0.032     \\\\\n",
       "\\textbf{dtrafficarea}      &       0.0487  &        0.018     &     2.710  &         0.007        &        0.013    &        0.084     \\\\\n",
       "\\textbf{droad}             &       0.0008  &        0.013     &     0.057  &         0.954        &       -0.026    &        0.027     \\\\\n",
       "\\textbf{dvfpath}           &      -0.0183  &        0.013     &    -1.380  &         0.168        &       -0.044    &        0.008     \\\\\n",
       "\\textbf{gvm\\_dwv}          &      -0.0174  &        0.014     &    -1.224  &         0.221        &       -0.045    &        0.010     \\\\\n",
       "\\textbf{bicyclecount}      &      -0.0186  &        0.013     &    -1.406  &         0.160        &       -0.045    &        0.007     \\\\\n",
       "\\textbf{carcount}          &       0.0062  &        0.014     &     0.459  &         0.647        &       -0.020    &        0.033     \\\\\n",
       "\\textbf{r\\_width\\_value}   &      -0.0467  &        0.018     &    -2.571  &         0.010        &       -0.082    &       -0.011     \\\\\n",
       "\\textbf{speedlimit\\_value} &      -0.0781  &        0.015     &    -5.272  &         0.000        &       -0.107    &       -0.049     \\\\\n",
       "\\textbf{z\\_qnr\\_1}         &       0.1526  &        0.084     &     1.823  &         0.069        &       -0.012    &        0.317     \\\\\n",
       "\\textbf{z\\_qnr\\_2}         &       0.0348  &        0.141     &     0.247  &         0.805        &       -0.242    &        0.312     \\\\\n",
       "\\textbf{z\\_qnr\\_3}         &      -0.0258  &        0.113     &    -0.228  &         0.820        &       -0.248    &        0.197     \\\\\n",
       "\\textbf{z\\_qnr\\_4}         &      -0.0088  &        0.092     &    -0.095  &         0.924        &       -0.190    &        0.173     \\\\\n",
       "\\textbf{z\\_qnr\\_5}         &       0.0333  &        0.108     &     0.309  &         0.758        &       -0.178    &        0.245     \\\\\n",
       "\\textbf{z\\_qnr\\_6}         &      -0.0426  &        0.099     &    -0.432  &         0.666        &       -0.236    &        0.151     \\\\\n",
       "\\textbf{z\\_qnr\\_7}         &       0.3011  &        0.127     &     2.363  &         0.018        &        0.051    &        0.551     \\\\\n",
       "\\textbf{z\\_qnr\\_8}         &       0.0722  &        0.102     &     0.708  &         0.479        &       -0.128    &        0.272     \\\\\n",
       "\\textbf{z\\_qnr\\_9}         &       0.0339  &        0.111     &     0.305  &         0.760        &       -0.184    &        0.252     \\\\\n",
       "\\textbf{z\\_qnr\\_10}        &      -0.5060  &        0.093     &    -5.419  &         0.000        &       -0.689    &       -0.323     \\\\\n",
       "\\textbf{z\\_qnr\\_11}        &      -0.0176  &        0.078     &    -0.224  &         0.823        &       -0.171    &        0.136     \\\\\n",
       "\\textbf{z\\_qnr\\_12}        &       0.0765  &        0.080     &     0.962  &         0.336        &       -0.080    &        0.233     \\\\\n",
       "\\textbf{z\\_qnr\\_13}        &      -0.3871  &        0.099     &    -3.891  &         0.000        &       -0.582    &       -0.192     \\\\\n",
       "\\textbf{z\\_qnr\\_14}        &      -0.0297  &        0.088     &    -0.338  &         0.735        &       -0.202    &        0.142     \\\\\n",
       "\\textbf{z\\_qnr\\_15}        &       0.0040  &        0.105     &     0.038  &         0.970        &       -0.202    &        0.210     \\\\\n",
       "\\textbf{z\\_qnr\\_16}        &       0.0320  &        0.126     &     0.255  &         0.799        &       -0.215    &        0.279     \\\\\n",
       "\\textbf{z\\_qnr\\_17}        &       0.1058  &        0.096     &     1.100  &         0.272        &       -0.083    &        0.295     \\\\\n",
       "\\textbf{z\\_qnr\\_19}        &       0.1991  &        0.087     &     2.301  &         0.022        &        0.029    &        0.369     \\\\\n",
       "\\textbf{z\\_qnr\\_20}        &       0.0002  &        0.081     &     0.002  &         0.998        &       -0.159    &        0.159     \\\\\n",
       "\\textbf{z\\_qnr\\_21}        &       0.1684  &        0.072     &     2.324  &         0.020        &        0.026    &        0.311     \\\\\n",
       "\\textbf{z\\_qnr\\_22}        &       0.1940  &        0.101     &     1.927  &         0.054        &       -0.004    &        0.392     \\\\\n",
       "\\textbf{z\\_qnr\\_23}        &       0.0106  &        0.103     &     0.103  &         0.918        &       -0.193    &        0.214     \\\\\n",
       "\\textbf{z\\_qnr\\_24}        &       0.0477  &        0.084     &     0.567  &         0.571        &       -0.117    &        0.213     \\\\\n",
       "\\textbf{z\\_qnr\\_25}        &      -0.0604  &        0.083     &    -0.733  &         0.464        &       -0.222    &        0.102     \\\\\n",
       "\\textbf{z\\_qnr\\_26}        &      -0.2461  &        0.138     &    -1.789  &         0.074        &       -0.516    &        0.024     \\\\\n",
       "\\textbf{z\\_qnr\\_27}        &      -0.1623  &        0.130     &    -1.248  &         0.212        &       -0.418    &        0.093     \\\\\n",
       "\\textbf{z\\_qnr\\_28}        &      -0.3414  &        0.174     &    -1.966  &         0.050        &       -0.682    &       -0.001     \\\\\n",
       "\\textbf{z\\_qnr\\_29}        &      -0.3715  &        0.112     &    -3.309  &         0.001        &       -0.592    &       -0.151     \\\\\n",
       "\\textbf{z\\_qnr\\_30}        &      -0.0810  &        0.126     &    -0.642  &         0.521        &       -0.329    &        0.167     \\\\\n",
       "\\textbf{z\\_qnr\\_31}        &      -0.0850  &        0.122     &    -0.695  &         0.487        &       -0.325    &        0.155     \\\\\n",
       "\\textbf{z\\_qnr\\_32}        &      -0.0138  &        0.111     &    -0.125  &         0.900        &       -0.231    &        0.203     \\\\\n",
       "\\textbf{z\\_knr\\_2}         &       0.0713  &        0.109     &     0.655  &         0.513        &       -0.142    &        0.285     \\\\\n",
       "\\textbf{z\\_knr\\_3}         &       0.0501  &        0.086     &     0.585  &         0.558        &       -0.118    &        0.218     \\\\\n",
       "\\textbf{z\\_knr\\_4}         &       0.3895  &        0.061     &     6.387  &         0.000        &        0.270    &        0.509     \\\\\n",
       "\\textbf{z\\_knr\\_5}         &       0.3947  &        0.069     &     5.717  &         0.000        &        0.259    &        0.530     \\\\\n",
       "\\textbf{z\\_knr\\_7}         &       0.1314  &        0.069     &     1.907  &         0.057        &       -0.004    &        0.267     \\\\\n",
       "\\textbf{z\\_knr\\_8}         &      -0.1597  &        0.069     &    -2.306  &         0.021        &       -0.296    &       -0.024     \\\\\n",
       "\\textbf{z\\_knr\\_10}        &       0.0854  &        0.074     &     1.155  &         0.249        &       -0.060    &        0.231     \\\\\n",
       "\\textbf{trafficarea\\_1}    &      -0.1911  &        0.075     &    -2.563  &         0.011        &       -0.337    &       -0.045     \\\\\n",
       "\\textbf{trafficarea\\_2}    &      -0.3641  &        0.084     &    -4.343  &         0.000        &       -0.529    &       -0.199     \\\\\n",
       "\\textbf{r\\_width\\_1}       &      -0.0667  &        0.042     &    -1.607  &         0.109        &       -0.148    &        0.015     \\\\\n",
       "\\textbf{r\\_width\\_2}       &      -0.1631  &        0.059     &    -2.752  &         0.006        &       -0.279    &       -0.047     \\\\\n",
       "\\textbf{r\\_width\\_4}       &       0.1236  &        0.053     &     2.317  &         0.021        &        0.019    &        0.228     \\\\\n",
       "\\textbf{r\\_width\\_5}       &       0.0666  &        0.037     &     1.822  &         0.069        &       -0.005    &        0.138     \\\\\n",
       "\\textbf{r\\_width\\_6}       &       0.0256  &        0.050     &     0.514  &         0.607        &       -0.072    &        0.123     \\\\\n",
       "\\textbf{r\\_surface\\_1}     &       0.3195  &        0.082     &     3.899  &         0.000        &        0.159    &        0.480     \\\\\n",
       "\\textbf{speedlimit\\_1}     &       0.0964  &        0.036     &     2.704  &         0.007        &        0.026    &        0.166     \\\\\n",
       "\\textbf{speedlimit\\_4}     &       0.6569  &        0.040     &    16.595  &         0.000        &        0.579    &        0.735     \\\\\n",
       "\\textbf{speedlimit\\_5}     &       0.0110  &        0.092     &     0.119  &         0.905        &       -0.170    &        0.192     \\\\\n",
       "\\bottomrule\n",
       "\\end{tabular}\n",
       "\\begin{tabular}{lclc}\n",
       "\\textbf{Omnibus:}       & 71.141 & \\textbf{  Durbin-Watson:     } &    1.977  \\\\\n",
       "\\textbf{Prob(Omnibus):} &  0.000 & \\textbf{  Jarque-Bera (JB):  } &  101.419  \\\\\n",
       "\\textbf{Skew:}          &  0.700 & \\textbf{  Prob(JB):          } & 9.49e-23  \\\\\n",
       "\\textbf{Kurtosis:}      &  4.115 & \\textbf{  Cond. No.          } &     58.9  \\\\\n",
       "\\bottomrule\n",
       "\\end{tabular}\n",
       "%\\caption{OLS Regression Results}\n",
       "\\end{center}\n",
       "\n",
       "Notes: \\newline\n",
       " [1] Standard Errors assume that the covariance matrix of the errors is correctly specified."
      ],
      "text/plain": [
       "<class 'statsmodels.iolib.summary.Summary'>\n",
       "\"\"\"\n",
       "                            OLS Regression Results                            \n",
       "==============================================================================\n",
       "Dep. Variable:                    acp   R-squared:                       0.596\n",
       "Model:                            OLS   Adj. R-squared:                  0.554\n",
       "Method:                 Least Squares   F-statistic:                     14.11\n",
       "Date:                Fri, 25 Oct 2024   Prob (F-statistic):           2.00e-94\n",
       "Time:                        14:54:31   Log-Likelihood:                -124.09\n",
       "No. Observations:                 760   AIC:                             394.2\n",
       "Df Residuals:                     687   BIC:                             732.4\n",
       "Df Model:                          72                                         \n",
       "Covariance Type:            nonrobust                                         \n",
       "====================================================================================\n",
       "                       coef    std err          t      P>|t|      [0.025      0.975]\n",
       "------------------------------------------------------------------------------------\n",
       "const               -0.0500      0.122     -0.411      0.682      -0.289       0.189\n",
       "cmean                0.0279      0.013      2.162      0.031       0.003       0.053\n",
       "cmin                -0.0090      0.010     -0.887      0.375      -0.029       0.011\n",
       "ie                  -0.0122      0.012     -1.042      0.298      -0.035       0.011\n",
       "mew                  0.0229      0.012      1.833      0.067      -0.002       0.047\n",
       "meg                 -0.0029      0.018     -0.158      0.875      -0.039       0.033\n",
       "megmax               0.0122      0.017      0.703      0.482      -0.022       0.046\n",
       "dbusl               -0.0030      0.015     -0.201      0.841      -0.032       0.026\n",
       "dtraml               0.0101      0.016      0.635      0.525      -0.021       0.041\n",
       "dtrainl              0.0046      0.014      0.323      0.747      -0.023       0.032\n",
       "dplight              0.0127      0.012      1.026      0.305      -0.012       0.037\n",
       "dstation             0.0084      0.014      0.582      0.561      -0.020       0.037\n",
       "dparkcar            -0.0132      0.015     -0.903      0.367      -0.042       0.016\n",
       "dparktw              0.0159      0.014      1.146      0.252      -0.011       0.043\n",
       "dpedcro             -0.0042      0.014     -0.307      0.759      -0.031       0.023\n",
       "dstopsign            0.0009      0.016      0.059      0.953      -0.030       0.032\n",
       "dtrafficarea         0.0487      0.018      2.710      0.007       0.013       0.084\n",
       "droad                0.0008      0.013      0.057      0.954      -0.026       0.027\n",
       "dvfpath             -0.0183      0.013     -1.380      0.168      -0.044       0.008\n",
       "gvm_dwv             -0.0174      0.014     -1.224      0.221      -0.045       0.010\n",
       "bicyclecount        -0.0186      0.013     -1.406      0.160      -0.045       0.007\n",
       "carcount             0.0062      0.014      0.459      0.647      -0.020       0.033\n",
       "r_width_value       -0.0467      0.018     -2.571      0.010      -0.082      -0.011\n",
       "speedlimit_value    -0.0781      0.015     -5.272      0.000      -0.107      -0.049\n",
       "z_qnr_1              0.1526      0.084      1.823      0.069      -0.012       0.317\n",
       "z_qnr_2              0.0348      0.141      0.247      0.805      -0.242       0.312\n",
       "z_qnr_3             -0.0258      0.113     -0.228      0.820      -0.248       0.197\n",
       "z_qnr_4             -0.0088      0.092     -0.095      0.924      -0.190       0.173\n",
       "z_qnr_5              0.0333      0.108      0.309      0.758      -0.178       0.245\n",
       "z_qnr_6             -0.0426      0.099     -0.432      0.666      -0.236       0.151\n",
       "z_qnr_7              0.3011      0.127      2.363      0.018       0.051       0.551\n",
       "z_qnr_8              0.0722      0.102      0.708      0.479      -0.128       0.272\n",
       "z_qnr_9              0.0339      0.111      0.305      0.760      -0.184       0.252\n",
       "z_qnr_10            -0.5060      0.093     -5.419      0.000      -0.689      -0.323\n",
       "z_qnr_11            -0.0176      0.078     -0.224      0.823      -0.171       0.136\n",
       "z_qnr_12             0.0765      0.080      0.962      0.336      -0.080       0.233\n",
       "z_qnr_13            -0.3871      0.099     -3.891      0.000      -0.582      -0.192\n",
       "z_qnr_14            -0.0297      0.088     -0.338      0.735      -0.202       0.142\n",
       "z_qnr_15             0.0040      0.105      0.038      0.970      -0.202       0.210\n",
       "z_qnr_16             0.0320      0.126      0.255      0.799      -0.215       0.279\n",
       "z_qnr_17             0.1058      0.096      1.100      0.272      -0.083       0.295\n",
       "z_qnr_19             0.1991      0.087      2.301      0.022       0.029       0.369\n",
       "z_qnr_20             0.0002      0.081      0.002      0.998      -0.159       0.159\n",
       "z_qnr_21             0.1684      0.072      2.324      0.020       0.026       0.311\n",
       "z_qnr_22             0.1940      0.101      1.927      0.054      -0.004       0.392\n",
       "z_qnr_23             0.0106      0.103      0.103      0.918      -0.193       0.214\n",
       "z_qnr_24             0.0477      0.084      0.567      0.571      -0.117       0.213\n",
       "z_qnr_25            -0.0604      0.083     -0.733      0.464      -0.222       0.102\n",
       "z_qnr_26            -0.2461      0.138     -1.789      0.074      -0.516       0.024\n",
       "z_qnr_27            -0.1623      0.130     -1.248      0.212      -0.418       0.093\n",
       "z_qnr_28            -0.3414      0.174     -1.966      0.050      -0.682      -0.001\n",
       "z_qnr_29            -0.3715      0.112     -3.309      0.001      -0.592      -0.151\n",
       "z_qnr_30            -0.0810      0.126     -0.642      0.521      -0.329       0.167\n",
       "z_qnr_31            -0.0850      0.122     -0.695      0.487      -0.325       0.155\n",
       "z_qnr_32            -0.0138      0.111     -0.125      0.900      -0.231       0.203\n",
       "z_knr_2              0.0713      0.109      0.655      0.513      -0.142       0.285\n",
       "z_knr_3              0.0501      0.086      0.585      0.558      -0.118       0.218\n",
       "z_knr_4              0.3895      0.061      6.387      0.000       0.270       0.509\n",
       "z_knr_5              0.3947      0.069      5.717      0.000       0.259       0.530\n",
       "z_knr_7              0.1314      0.069      1.907      0.057      -0.004       0.267\n",
       "z_knr_8             -0.1597      0.069     -2.306      0.021      -0.296      -0.024\n",
       "z_knr_10             0.0854      0.074      1.155      0.249      -0.060       0.231\n",
       "trafficarea_1       -0.1911      0.075     -2.563      0.011      -0.337      -0.045\n",
       "trafficarea_2       -0.3641      0.084     -4.343      0.000      -0.529      -0.199\n",
       "r_width_1           -0.0667      0.042     -1.607      0.109      -0.148       0.015\n",
       "r_width_2           -0.1631      0.059     -2.752      0.006      -0.279      -0.047\n",
       "r_width_4            0.1236      0.053      2.317      0.021       0.019       0.228\n",
       "r_width_5            0.0666      0.037      1.822      0.069      -0.005       0.138\n",
       "r_width_6            0.0256      0.050      0.514      0.607      -0.072       0.123\n",
       "r_surface_1          0.3195      0.082      3.899      0.000       0.159       0.480\n",
       "speedlimit_1         0.0964      0.036      2.704      0.007       0.026       0.166\n",
       "speedlimit_4         0.6569      0.040     16.595      0.000       0.579       0.735\n",
       "speedlimit_5         0.0110      0.092      0.119      0.905      -0.170       0.192\n",
       "==============================================================================\n",
       "Omnibus:                       71.141   Durbin-Watson:                   1.977\n",
       "Prob(Omnibus):                  0.000   Jarque-Bera (JB):              101.419\n",
       "Skew:                           0.700   Prob(JB):                     9.49e-23\n",
       "Kurtosis:                       4.115   Cond. No.                         58.9\n",
       "==============================================================================\n",
       "\n",
       "Notes:\n",
       "[1] Standard Errors assume that the covariance matrix of the errors is correctly specified.\n",
       "\"\"\""
      ]
     },
     "execution_count": 53,
     "metadata": {},
     "output_type": "execute_result"
    }
   ],
   "source": [
    "# OLS\n",
    "X_train, X_test, y_train, y_test = train_test_split(\n",
    "        x_const, y,\n",
    "        test_size=0.3,\n",
    "        random_state=2)\n",
    "\n",
    "m00_split = sm.OLS(y_train, X_train)\n",
    "r00_split = m00_split.fit()\n",
    "r00_split.summary()"
   ]
  },
  {
   "cell_type": "code",
   "execution_count": 98,
   "id": "d46923b6-9eac-4c9e-84c5-8244fc2cf747",
   "metadata": {
    "execution": {
     "iopub.execute_input": "2024-10-25T13:24:15.487892Z",
     "iopub.status.busy": "2024-10-25T13:24:15.487324Z",
     "iopub.status.idle": "2024-10-25T13:24:15.494395Z",
     "shell.execute_reply": "2024-10-25T13:24:15.493808Z",
     "shell.execute_reply.started": "2024-10-25T13:24:15.487873Z"
    }
   },
   "outputs": [
    {
     "name": "stdout",
     "output_type": "stream",
     "text": [
      "0.5542044195697948\n",
      "                             0  sig\n",
      "cmean             3.096565e-02    *\n",
      "dtrafficarea      6.902763e-03   **\n",
      "r_width_value     1.034304e-02    *\n",
      "speedlimit_value  1.805402e-07  ***\n",
      "z_qnr_7           1.841607e-02    *\n",
      "z_qnr_10          8.308393e-08  ***\n",
      "z_qnr_13          1.094280e-04  ***\n",
      "z_qnr_19          2.169654e-02    *\n",
      "z_qnr_21          2.041265e-02    *\n",
      "z_qnr_28          4.965457e-02    *\n",
      "z_qnr_29          9.865577e-04  ***\n",
      "z_knr_4           3.118365e-10  ***\n",
      "z_knr_5           1.613483e-08  ***\n",
      "z_knr_8           2.138861e-02    *\n",
      "trafficarea_1     1.059829e-02    *\n",
      "trafficarea_2     1.617365e-05  ***\n",
      "r_width_2         6.082594e-03   **\n",
      "r_width_4         2.079804e-02    *\n",
      "r_surface_1       1.062654e-04  ***\n",
      "speedlimit_1      7.024117e-03   **\n",
      "speedlimit_4      2.934741e-52  ***\n",
      "21\n"
     ]
    }
   ],
   "source": [
    "print(r00_split.rsquared_adj)\n",
    "printsig(r00_split)"
   ]
  },
  {
   "cell_type": "code",
   "execution_count": 54,
   "id": "bfe2a86c-c965-4207-bbbd-7380fa3c694e",
   "metadata": {
    "execution": {
     "iopub.execute_input": "2024-10-25T12:54:31.508567Z",
     "iopub.status.busy": "2024-10-25T12:54:31.507907Z",
     "iopub.status.idle": "2024-10-25T12:54:31.651690Z",
     "shell.execute_reply": "2024-10-25T12:54:31.651095Z",
     "shell.execute_reply.started": "2024-10-25T12:54:31.508548Z"
    }
   },
   "outputs": [
    {
     "name": "stdout",
     "output_type": "stream",
     "text": [
      "\n",
      "Test accuracy : \n",
      " 0.8899082568807339\n",
      "\n",
      "Confusion Matrix : \n",
      " [[234  10]\n",
      " [ 26  57]]\n"
     ]
    },
    {
     "data": {
      "text/plain": [
       "<sklearn.metrics._plot.confusion_matrix.ConfusionMatrixDisplay at 0x14daec876850>"
      ]
     },
     "execution_count": 54,
     "metadata": {},
     "output_type": "execute_result"
    },
    {
     "data": {
      "image/png": "[encoded data removed]",
      "text/plain": [
       "<Figure size 640x480 with 2 Axes>"
      ]
     },
     "metadata": {},
     "output_type": "display_data"
    }
   ],
   "source": [
    "pred00split = r00_split.predict(X_test)\n",
    "pred00split = list(map(round,pred00split))\n",
    "print('\\nTest accuracy : \\n', accuracy_score(y_test, pred00split))\n",
    "cm00split = confusion_matrix(y_test, pred00split) \n",
    "print ('\\nConfusion Matrix : \\n', cm00split) \n",
    "cm00split_display = metrics.ConfusionMatrixDisplay(confusion_matrix = cm00split)\n",
    "cm00split_display.plot()"
   ]
  },
  {
   "cell_type": "code",
   "execution_count": 55,
   "id": "69c19d28-27cd-4c98-a5a1-2e1d3ab22b14",
   "metadata": {
    "execution": {
     "iopub.execute_input": "2024-10-25T12:54:31.875127Z",
     "iopub.status.busy": "2024-10-25T12:54:31.874635Z",
     "iopub.status.idle": "2024-10-25T12:54:31.885753Z",
     "shell.execute_reply": "2024-10-25T12:54:31.885159Z",
     "shell.execute_reply.started": "2024-10-25T12:54:31.875108Z"
    }
   },
   "outputs": [
    {
     "name": "stdout",
     "output_type": "stream",
     "text": [
      "accuracy 0.8899082568807339\n",
      "precision [0.9        0.85074627]\n",
      "sensitivity recall [0.95901639 0.68674699]\n",
      "f1 score [0.92857143 0.76      ]\n",
      "mean precision 0.8753731343283582\n",
      "mean recall 0.8228816906972151\n",
      "mean f1 score 0.8442857142857142\n"
     ]
    }
   ],
   "source": [
    "acc_ols_sp = metrics.accuracy_score(y_test, pred00split)\n",
    "print('accuracy', acc_ols_sp)\n",
    "\n",
    "pre_ols_sp = metrics.precision_score(y_test, pred00split, average = None)\n",
    "print('precision', pre_ols_sp)\n",
    "\n",
    "senrec_ols_sp = metrics.recall_score(y_test, pred00split, average = None)\n",
    "print('sensitivity recall', senrec_ols_sp)\n",
    "\n",
    "f1_ols_sp = metrics.f1_score(y_test, pred00split, average = None)\n",
    "print('f1 score', f1_ols_sp)\n",
    "\n",
    "pre_ols_sp_m = np.mean(pre_ols_sp)\n",
    "senrec_ols_sp_m = np.mean(senrec_ols_sp)\n",
    "f1_ols_sp_m = np.mean(f1_ols_sp)\n",
    "print('mean precision', pre_ols_sp_m)\n",
    "print('mean recall', senrec_ols_sp_m)\n",
    "print('mean f1 score', f1_ols_sp_m)"
   ]
  },
  {
   "cell_type": "markdown",
   "id": "a327603c-ad68-4b69-95c7-06df6d4e2054",
   "metadata": {},
   "source": [
    "## Logistic regression"
   ]
  },
  {
   "cell_type": "markdown",
   "id": "79ac4aef-1e11-48d8-9ccd-98481b9df280",
   "metadata": {
    "execution": {
     "iopub.execute_input": "2024-09-02T18:01:13.342604Z",
     "iopub.status.busy": "2024-09-02T18:01:13.341768Z",
     "iopub.status.idle": "2024-09-02T18:01:13.345485Z",
     "shell.execute_reply": "2024-09-02T18:01:13.344931Z",
     "shell.execute_reply.started": "2024-09-02T18:01:13.342578Z"
    }
   },
   "source": [
    "### Without data splitting"
   ]
  },
  {
   "cell_type": "code",
   "execution_count": 56,
   "id": "12ecebde-f940-4f16-abf8-dff0f73a72f6",
   "metadata": {
    "execution": {
     "iopub.execute_input": "2024-10-25T12:54:33.306969Z",
     "iopub.status.busy": "2024-10-25T12:54:33.306308Z",
     "iopub.status.idle": "2024-10-25T12:54:35.101614Z",
     "shell.execute_reply": "2024-10-25T12:54:35.101140Z",
     "shell.execute_reply.started": "2024-10-25T12:54:33.306938Z"
    },
    "scrolled": true
   },
   "outputs": [
    {
     "name": "stderr",
     "output_type": "stream",
     "text": [
      "/opt/conda/lib/python3.11/site-packages/statsmodels/base/model.py:130: ValueWarning: unknown kwargs ['max_iter']\n",
      "  warnings.warn(msg, ValueWarning)\n"
     ]
    },
    {
     "name": "stdout",
     "output_type": "stream",
     "text": [
      "Optimization terminated successfully    (Exit mode 0)\n",
      "            Current function value: 0.2363027910563202\n",
      "            Iterations: 420\n",
      "            Function evaluations: 420\n",
      "            Gradient evaluations: 420\n"
     ]
    },
    {
     "name": "stderr",
     "output_type": "stream",
     "text": [
      "/opt/conda/lib/python3.11/site-packages/statsmodels/base/model.py:130: ValueWarning: unknown kwargs ['max_iter']\n",
      "  warnings.warn(msg, ValueWarning)\n"
     ]
    },
    {
     "data": {
      "text/html": [
       "<table class=\"simpletable\">\n",
       "<caption>Logit Regression Results</caption>\n",
       "<tr>\n",
       "  <th>Dep. Variable:</th>          <td>acp</td>       <th>  No. Observations:  </th>   <td>  1087</td>  \n",
       "</tr>\n",
       "<tr>\n",
       "  <th>Model:</th>                 <td>Logit</td>      <th>  Df Residuals:      </th>   <td>  1014</td>  \n",
       "</tr>\n",
       "<tr>\n",
       "  <th>Method:</th>                 <td>MLE</td>       <th>  Df Model:          </th>   <td>    72</td>  \n",
       "</tr>\n",
       "<tr>\n",
       "  <th>Date:</th>            <td>Fri, 25 Oct 2024</td> <th>  Pseudo R-squ.:     </th>   <td>0.5958</td>  \n",
       "</tr>\n",
       "<tr>\n",
       "  <th>Time:</th>                <td>14:54:35</td>     <th>  Log-Likelihood:    </th>  <td> -256.86</td> \n",
       "</tr>\n",
       "<tr>\n",
       "  <th>converged:</th>             <td>True</td>       <th>  LL-Null:           </th>  <td> -635.50</td> \n",
       "</tr>\n",
       "<tr>\n",
       "  <th>Covariance Type:</th>     <td>nonrobust</td>    <th>  LLR p-value:       </th> <td>6.688e-115</td>\n",
       "</tr>\n",
       "</table>\n",
       "<table class=\"simpletable\">\n",
       "<tr>\n",
       "          <td></td>            <th>coef</th>     <th>std err</th>      <th>z</th>      <th>P>|z|</th>  <th>[0.025</th>    <th>0.975]</th>  \n",
       "</tr>\n",
       "<tr>\n",
       "  <th>const</th>            <td>  -25.3013</td> <td> 8718.106</td> <td>   -0.003</td> <td> 0.998</td> <td>-1.71e+04</td> <td> 1.71e+04</td>\n",
       "</tr>\n",
       "<tr>\n",
       "  <th>cmean</th>            <td>    0.0813</td> <td>    0.144</td> <td>    0.565</td> <td> 0.572</td> <td>   -0.201</td> <td>    0.364</td>\n",
       "</tr>\n",
       "<tr>\n",
       "  <th>cmin</th>             <td>    0.0191</td> <td>    0.162</td> <td>    0.118</td> <td> 0.906</td> <td>   -0.299</td> <td>    0.337</td>\n",
       "</tr>\n",
       "<tr>\n",
       "  <th>ie</th>               <td>   -0.0898</td> <td>    0.124</td> <td>   -0.722</td> <td> 0.470</td> <td>   -0.333</td> <td>    0.154</td>\n",
       "</tr>\n",
       "<tr>\n",
       "  <th>mew</th>              <td>    0.2351</td> <td>    0.134</td> <td>    1.757</td> <td> 0.079</td> <td>   -0.027</td> <td>    0.497</td>\n",
       "</tr>\n",
       "<tr>\n",
       "  <th>meg</th>              <td>   -0.0537</td> <td>    0.202</td> <td>   -0.265</td> <td> 0.791</td> <td>   -0.450</td> <td>    0.343</td>\n",
       "</tr>\n",
       "<tr>\n",
       "  <th>megmax</th>           <td>    0.0474</td> <td>    0.184</td> <td>    0.258</td> <td> 0.797</td> <td>   -0.313</td> <td>    0.408</td>\n",
       "</tr>\n",
       "<tr>\n",
       "  <th>dbusl</th>            <td>   -0.2804</td> <td>    0.178</td> <td>   -1.578</td> <td> 0.114</td> <td>   -0.629</td> <td>    0.068</td>\n",
       "</tr>\n",
       "<tr>\n",
       "  <th>dtraml</th>           <td>    0.0983</td> <td>    0.179</td> <td>    0.549</td> <td> 0.583</td> <td>   -0.253</td> <td>    0.449</td>\n",
       "</tr>\n",
       "<tr>\n",
       "  <th>dtrainl</th>          <td>    0.2005</td> <td>    0.151</td> <td>    1.326</td> <td> 0.185</td> <td>   -0.096</td> <td>    0.497</td>\n",
       "</tr>\n",
       "<tr>\n",
       "  <th>dplight</th>          <td>    0.1071</td> <td>    0.132</td> <td>    0.810</td> <td> 0.418</td> <td>   -0.152</td> <td>    0.366</td>\n",
       "</tr>\n",
       "<tr>\n",
       "  <th>dstation</th>         <td>    0.1222</td> <td>    0.174</td> <td>    0.703</td> <td> 0.482</td> <td>   -0.218</td> <td>    0.463</td>\n",
       "</tr>\n",
       "<tr>\n",
       "  <th>dparkcar</th>         <td>   -0.1003</td> <td>    0.154</td> <td>   -0.650</td> <td> 0.516</td> <td>   -0.403</td> <td>    0.202</td>\n",
       "</tr>\n",
       "<tr>\n",
       "  <th>dparktw</th>          <td>    0.0527</td> <td>    0.155</td> <td>    0.341</td> <td> 0.733</td> <td>   -0.250</td> <td>    0.356</td>\n",
       "</tr>\n",
       "<tr>\n",
       "  <th>dpedcro</th>          <td>   -0.1074</td> <td>    0.146</td> <td>   -0.734</td> <td> 0.463</td> <td>   -0.394</td> <td>    0.179</td>\n",
       "</tr>\n",
       "<tr>\n",
       "  <th>dstopsign</th>        <td>    0.1488</td> <td>    0.163</td> <td>    0.914</td> <td> 0.361</td> <td>   -0.170</td> <td>    0.468</td>\n",
       "</tr>\n",
       "<tr>\n",
       "  <th>dtrafficarea</th>     <td>    0.3305</td> <td>    0.179</td> <td>    1.848</td> <td> 0.065</td> <td>   -0.020</td> <td>    0.681</td>\n",
       "</tr>\n",
       "<tr>\n",
       "  <th>droad</th>            <td>   -0.1866</td> <td>    0.150</td> <td>   -1.246</td> <td> 0.213</td> <td>   -0.480</td> <td>    0.107</td>\n",
       "</tr>\n",
       "<tr>\n",
       "  <th>dvfpath</th>          <td>   -0.1213</td> <td>    0.137</td> <td>   -0.885</td> <td> 0.376</td> <td>   -0.390</td> <td>    0.147</td>\n",
       "</tr>\n",
       "<tr>\n",
       "  <th>gvm_dwv</th>          <td>   -0.1538</td> <td>    0.146</td> <td>   -1.052</td> <td> 0.293</td> <td>   -0.440</td> <td>    0.133</td>\n",
       "</tr>\n",
       "<tr>\n",
       "  <th>bicyclecount</th>     <td>   -0.1055</td> <td>    0.145</td> <td>   -0.730</td> <td> 0.466</td> <td>   -0.389</td> <td>    0.178</td>\n",
       "</tr>\n",
       "<tr>\n",
       "  <th>carcount</th>         <td>   -0.0785</td> <td>    0.143</td> <td>   -0.547</td> <td> 0.584</td> <td>   -0.359</td> <td>    0.202</td>\n",
       "</tr>\n",
       "<tr>\n",
       "  <th>r_width_value</th>    <td>   -0.6508</td> <td>    0.183</td> <td>   -3.547</td> <td> 0.000</td> <td>   -1.010</td> <td>   -0.291</td>\n",
       "</tr>\n",
       "<tr>\n",
       "  <th>speedlimit_value</th> <td>   -1.5077</td> <td>    0.263</td> <td>   -5.732</td> <td> 0.000</td> <td>   -2.023</td> <td>   -0.992</td>\n",
       "</tr>\n",
       "<tr>\n",
       "  <th>z_qnr_1</th>          <td>    1.6105</td> <td>    0.761</td> <td>    2.117</td> <td> 0.034</td> <td>    0.119</td> <td>    3.102</td>\n",
       "</tr>\n",
       "<tr>\n",
       "  <th>z_qnr_2</th>          <td>    0.6204</td> <td>    1.225</td> <td>    0.506</td> <td> 0.613</td> <td>   -1.780</td> <td>    3.021</td>\n",
       "</tr>\n",
       "<tr>\n",
       "  <th>z_qnr_3</th>          <td>   -0.7277</td> <td>    1.145</td> <td>   -0.635</td> <td> 0.525</td> <td>   -2.973</td> <td>    1.517</td>\n",
       "</tr>\n",
       "<tr>\n",
       "  <th>z_qnr_4</th>          <td>    0.1495</td> <td>    1.102</td> <td>    0.136</td> <td> 0.892</td> <td>   -2.010</td> <td>    2.309</td>\n",
       "</tr>\n",
       "<tr>\n",
       "  <th>z_qnr_5</th>          <td>    1.1994</td> <td>    1.105</td> <td>    1.086</td> <td> 0.278</td> <td>   -0.965</td> <td>    3.364</td>\n",
       "</tr>\n",
       "<tr>\n",
       "  <th>z_qnr_6</th>          <td>   -0.3152</td> <td>    1.096</td> <td>   -0.288</td> <td> 0.774</td> <td>   -2.463</td> <td>    1.832</td>\n",
       "</tr>\n",
       "<tr>\n",
       "  <th>z_qnr_7</th>          <td>    2.7294</td> <td>    1.095</td> <td>    2.493</td> <td> 0.013</td> <td>    0.584</td> <td>    4.875</td>\n",
       "</tr>\n",
       "<tr>\n",
       "  <th>z_qnr_8</th>          <td>    2.1316</td> <td>    0.903</td> <td>    2.361</td> <td> 0.018</td> <td>    0.362</td> <td>    3.901</td>\n",
       "</tr>\n",
       "<tr>\n",
       "  <th>z_qnr_9</th>          <td>    0.4163</td> <td>    1.266</td> <td>    0.329</td> <td> 0.742</td> <td>   -2.066</td> <td>    2.898</td>\n",
       "</tr>\n",
       "<tr>\n",
       "  <th>z_qnr_10</th>         <td>   -2.8480</td> <td>    0.848</td> <td>   -3.359</td> <td> 0.001</td> <td>   -4.510</td> <td>   -1.186</td>\n",
       "</tr>\n",
       "<tr>\n",
       "  <th>z_qnr_11</th>         <td>    0.2581</td> <td>    0.801</td> <td>    0.322</td> <td> 0.747</td> <td>   -1.313</td> <td>    1.829</td>\n",
       "</tr>\n",
       "<tr>\n",
       "  <th>z_qnr_12</th>         <td>    1.1146</td> <td>    0.767</td> <td>    1.453</td> <td> 0.146</td> <td>   -0.389</td> <td>    2.618</td>\n",
       "</tr>\n",
       "<tr>\n",
       "  <th>z_qnr_13</th>         <td>   -1.8993</td> <td>    0.940</td> <td>   -2.021</td> <td> 0.043</td> <td>   -3.741</td> <td>   -0.057</td>\n",
       "</tr>\n",
       "<tr>\n",
       "  <th>z_qnr_14</th>         <td>   -0.4180</td> <td>    0.987</td> <td>   -0.424</td> <td> 0.672</td> <td>   -2.352</td> <td>    1.516</td>\n",
       "</tr>\n",
       "<tr>\n",
       "  <th>z_qnr_15</th>         <td>    0.5574</td> <td>    0.932</td> <td>    0.598</td> <td> 0.550</td> <td>   -1.270</td> <td>    2.385</td>\n",
       "</tr>\n",
       "<tr>\n",
       "  <th>z_qnr_16</th>         <td>    2.2360</td> <td>    0.852</td> <td>    2.625</td> <td> 0.009</td> <td>    0.567</td> <td>    3.905</td>\n",
       "</tr>\n",
       "<tr>\n",
       "  <th>z_qnr_17</th>         <td>    2.0059</td> <td>    0.851</td> <td>    2.358</td> <td> 0.018</td> <td>    0.339</td> <td>    3.673</td>\n",
       "</tr>\n",
       "<tr>\n",
       "  <th>z_qnr_19</th>         <td>    2.1581</td> <td>    0.843</td> <td>    2.560</td> <td> 0.010</td> <td>    0.506</td> <td>    3.810</td>\n",
       "</tr>\n",
       "<tr>\n",
       "  <th>z_qnr_20</th>         <td>   -0.1214</td> <td>    0.798</td> <td>   -0.152</td> <td> 0.879</td> <td>   -1.686</td> <td>    1.443</td>\n",
       "</tr>\n",
       "<tr>\n",
       "  <th>z_qnr_21</th>         <td>    3.0461</td> <td>    0.891</td> <td>    3.420</td> <td> 0.001</td> <td>    1.300</td> <td>    4.792</td>\n",
       "</tr>\n",
       "<tr>\n",
       "  <th>z_qnr_22</th>         <td>    2.2572</td> <td>    0.865</td> <td>    2.611</td> <td> 0.009</td> <td>    0.563</td> <td>    3.952</td>\n",
       "</tr>\n",
       "<tr>\n",
       "  <th>z_qnr_23</th>         <td>    0.6470</td> <td>    1.242</td> <td>    0.521</td> <td> 0.602</td> <td>   -1.787</td> <td>    3.081</td>\n",
       "</tr>\n",
       "<tr>\n",
       "  <th>z_qnr_24</th>         <td>    0.4849</td> <td>    0.884</td> <td>    0.549</td> <td> 0.583</td> <td>   -1.247</td> <td>    2.217</td>\n",
       "</tr>\n",
       "<tr>\n",
       "  <th>z_qnr_25</th>         <td>   -1.0396</td> <td>    0.896</td> <td>   -1.160</td> <td> 0.246</td> <td>   -2.796</td> <td>    0.716</td>\n",
       "</tr>\n",
       "<tr>\n",
       "  <th>z_qnr_26</th>         <td>   -2.6012</td> <td>    1.117</td> <td>   -2.328</td> <td> 0.020</td> <td>   -4.791</td> <td>   -0.411</td>\n",
       "</tr>\n",
       "<tr>\n",
       "  <th>z_qnr_27</th>         <td>    0.3586</td> <td>    1.331</td> <td>    0.269</td> <td> 0.788</td> <td>   -2.251</td> <td>    2.968</td>\n",
       "</tr>\n",
       "<tr>\n",
       "  <th>z_qnr_28</th>         <td>    0.0903</td> <td>    1.046</td> <td>    0.086</td> <td> 0.931</td> <td>   -1.959</td> <td>    2.139</td>\n",
       "</tr>\n",
       "<tr>\n",
       "  <th>z_qnr_29</th>         <td>   -0.4015</td> <td>    1.142</td> <td>   -0.352</td> <td> 0.725</td> <td>   -2.640</td> <td>    1.837</td>\n",
       "</tr>\n",
       "<tr>\n",
       "  <th>z_qnr_30</th>         <td>   -9.5346</td> <td>  293.959</td> <td>   -0.032</td> <td> 0.974</td> <td> -585.684</td> <td>  566.615</td>\n",
       "</tr>\n",
       "<tr>\n",
       "  <th>z_qnr_31</th>         <td>  -13.0506</td> <td>  984.797</td> <td>   -0.013</td> <td> 0.989</td> <td>-1943.217</td> <td> 1917.116</td>\n",
       "</tr>\n",
       "<tr>\n",
       "  <th>z_qnr_32</th>         <td>   -0.5979</td> <td>    1.400</td> <td>   -0.427</td> <td> 0.669</td> <td>   -3.342</td> <td>    2.146</td>\n",
       "</tr>\n",
       "<tr>\n",
       "  <th>z_knr_2</th>          <td>    0.9176</td> <td>    0.945</td> <td>    0.971</td> <td> 0.331</td> <td>   -0.934</td> <td>    2.769</td>\n",
       "</tr>\n",
       "<tr>\n",
       "  <th>z_knr_3</th>          <td>    0.7316</td> <td>    0.780</td> <td>    0.937</td> <td> 0.349</td> <td>   -0.798</td> <td>    2.261</td>\n",
       "</tr>\n",
       "<tr>\n",
       "  <th>z_knr_4</th>          <td>    2.8890</td> <td>    0.596</td> <td>    4.846</td> <td> 0.000</td> <td>    1.721</td> <td>    4.057</td>\n",
       "</tr>\n",
       "<tr>\n",
       "  <th>z_knr_5</th>          <td>    2.5955</td> <td>    0.652</td> <td>    3.984</td> <td> 0.000</td> <td>    1.319</td> <td>    3.872</td>\n",
       "</tr>\n",
       "<tr>\n",
       "  <th>z_knr_7</th>          <td>    0.1241</td> <td>    0.623</td> <td>    0.199</td> <td> 0.842</td> <td>   -1.096</td> <td>    1.345</td>\n",
       "</tr>\n",
       "<tr>\n",
       "  <th>z_knr_8</th>          <td>   -2.8133</td> <td>    0.830</td> <td>   -3.389</td> <td> 0.001</td> <td>   -4.440</td> <td>   -1.186</td>\n",
       "</tr>\n",
       "<tr>\n",
       "  <th>z_knr_10</th>         <td>    0.7334</td> <td>    0.648</td> <td>    1.132</td> <td> 0.257</td> <td>   -0.536</td> <td>    2.003</td>\n",
       "</tr>\n",
       "<tr>\n",
       "  <th>trafficarea_1</th>    <td>   -0.6608</td> <td>    0.678</td> <td>   -0.974</td> <td> 0.330</td> <td>   -1.990</td> <td>    0.669</td>\n",
       "</tr>\n",
       "<tr>\n",
       "  <th>trafficarea_2</th>    <td>   -2.7395</td> <td>    0.799</td> <td>   -3.428</td> <td> 0.001</td> <td>   -4.306</td> <td>   -1.173</td>\n",
       "</tr>\n",
       "<tr>\n",
       "  <th>r_width_1</th>        <td>   -0.4187</td> <td>    0.406</td> <td>   -1.031</td> <td> 0.303</td> <td>   -1.215</td> <td>    0.377</td>\n",
       "</tr>\n",
       "<tr>\n",
       "  <th>r_width_2</th>        <td>   -2.6654</td> <td>    0.851</td> <td>   -3.132</td> <td> 0.002</td> <td>   -4.333</td> <td>   -0.997</td>\n",
       "</tr>\n",
       "<tr>\n",
       "  <th>r_width_4</th>        <td>    0.5600</td> <td>    0.497</td> <td>    1.127</td> <td> 0.260</td> <td>   -0.414</td> <td>    1.534</td>\n",
       "</tr>\n",
       "<tr>\n",
       "  <th>r_width_5</th>        <td>    0.8969</td> <td>    0.448</td> <td>    2.000</td> <td> 0.045</td> <td>    0.018</td> <td>    1.776</td>\n",
       "</tr>\n",
       "<tr>\n",
       "  <th>r_width_6</th>        <td>    0.4640</td> <td>    0.561</td> <td>    0.827</td> <td> 0.408</td> <td>   -0.636</td> <td>    1.564</td>\n",
       "</tr>\n",
       "<tr>\n",
       "  <th>r_surface_1</th>      <td>   20.9012</td> <td> 8718.106</td> <td>    0.002</td> <td> 0.998</td> <td>-1.71e+04</td> <td> 1.71e+04</td>\n",
       "</tr>\n",
       "<tr>\n",
       "  <th>speedlimit_1</th>     <td>    2.2957</td> <td>    0.522</td> <td>    4.394</td> <td> 0.000</td> <td>    1.272</td> <td>    3.320</td>\n",
       "</tr>\n",
       "<tr>\n",
       "  <th>speedlimit_4</th>     <td>    7.5949</td> <td>    0.709</td> <td>   10.714</td> <td> 0.000</td> <td>    6.206</td> <td>    8.984</td>\n",
       "</tr>\n",
       "<tr>\n",
       "  <th>speedlimit_5</th>     <td>    3.0573</td> <td>    1.439</td> <td>    2.124</td> <td> 0.034</td> <td>    0.236</td> <td>    5.878</td>\n",
       "</tr>\n",
       "</table>"
      ],
      "text/latex": [
       "\\begin{center}\n",
       "\\begin{tabular}{lclc}\n",
       "\\toprule\n",
       "\\textbf{Dep. Variable:}    &       acp        & \\textbf{  No. Observations:  } &     1087    \\\\\n",
       "\\textbf{Model:}            &      Logit       & \\textbf{  Df Residuals:      } &     1014    \\\\\n",
       "\\textbf{Method:}           &       MLE        & \\textbf{  Df Model:          } &       72    \\\\\n",
       "\\textbf{Date:}             & Fri, 25 Oct 2024 & \\textbf{  Pseudo R-squ.:     } &   0.5958    \\\\\n",
       "\\textbf{Time:}             &     14:54:35     & \\textbf{  Log-Likelihood:    } &   -256.86   \\\\\n",
       "\\textbf{converged:}        &       True       & \\textbf{  LL-Null:           } &   -635.50   \\\\\n",
       "\\textbf{Covariance Type:}  &    nonrobust     & \\textbf{  LLR p-value:       } & 6.688e-115  \\\\\n",
       "\\bottomrule\n",
       "\\end{tabular}\n",
       "\\begin{tabular}{lcccccc}\n",
       "                           & \\textbf{coef} & \\textbf{std err} & \\textbf{z} & \\textbf{P$> |$z$|$} & \\textbf{[0.025} & \\textbf{0.975]}  \\\\\n",
       "\\midrule\n",
       "\\textbf{const}             &     -25.3013  &     8718.106     &    -0.003  &         0.998        &    -1.71e+04    &     1.71e+04     \\\\\n",
       "\\textbf{cmean}             &       0.0813  &        0.144     &     0.565  &         0.572        &       -0.201    &        0.364     \\\\\n",
       "\\textbf{cmin}              &       0.0191  &        0.162     &     0.118  &         0.906        &       -0.299    &        0.337     \\\\\n",
       "\\textbf{ie}                &      -0.0898  &        0.124     &    -0.722  &         0.470        &       -0.333    &        0.154     \\\\\n",
       "\\textbf{mew}               &       0.2351  &        0.134     &     1.757  &         0.079        &       -0.027    &        0.497     \\\\\n",
       "\\textbf{meg}               &      -0.0537  &        0.202     &    -0.265  &         0.791        &       -0.450    &        0.343     \\\\\n",
       "\\textbf{megmax}            &       0.0474  &        0.184     &     0.258  &         0.797        &       -0.313    &        0.408     \\\\\n",
       "\\textbf{dbusl}             &      -0.2804  &        0.178     &    -1.578  &         0.114        &       -0.629    &        0.068     \\\\\n",
       "\\textbf{dtraml}            &       0.0983  &        0.179     &     0.549  &         0.583        &       -0.253    &        0.449     \\\\\n",
       "\\textbf{dtrainl}           &       0.2005  &        0.151     &     1.326  &         0.185        &       -0.096    &        0.497     \\\\\n",
       "\\textbf{dplight}           &       0.1071  &        0.132     &     0.810  &         0.418        &       -0.152    &        0.366     \\\\\n",
       "\\textbf{dstation}          &       0.1222  &        0.174     &     0.703  &         0.482        &       -0.218    &        0.463     \\\\\n",
       "\\textbf{dparkcar}          &      -0.1003  &        0.154     &    -0.650  &         0.516        &       -0.403    &        0.202     \\\\\n",
       "\\textbf{dparktw}           &       0.0527  &        0.155     &     0.341  &         0.733        &       -0.250    &        0.356     \\\\\n",
       "\\textbf{dpedcro}           &      -0.1074  &        0.146     &    -0.734  &         0.463        &       -0.394    &        0.179     \\\\\n",
       "\\textbf{dstopsign}         &       0.1488  &        0.163     &     0.914  &         0.361        &       -0.170    &        0.468     \\\\\n",
       "\\textbf{dtrafficarea}      &       0.3305  &        0.179     &     1.848  &         0.065        &       -0.020    &        0.681     \\\\\n",
       "\\textbf{droad}             &      -0.1866  &        0.150     &    -1.246  &         0.213        &       -0.480    &        0.107     \\\\\n",
       "\\textbf{dvfpath}           &      -0.1213  &        0.137     &    -0.885  &         0.376        &       -0.390    &        0.147     \\\\\n",
       "\\textbf{gvm\\_dwv}          &      -0.1538  &        0.146     &    -1.052  &         0.293        &       -0.440    &        0.133     \\\\\n",
       "\\textbf{bicyclecount}      &      -0.1055  &        0.145     &    -0.730  &         0.466        &       -0.389    &        0.178     \\\\\n",
       "\\textbf{carcount}          &      -0.0785  &        0.143     &    -0.547  &         0.584        &       -0.359    &        0.202     \\\\\n",
       "\\textbf{r\\_width\\_value}   &      -0.6508  &        0.183     &    -3.547  &         0.000        &       -1.010    &       -0.291     \\\\\n",
       "\\textbf{speedlimit\\_value} &      -1.5077  &        0.263     &    -5.732  &         0.000        &       -2.023    &       -0.992     \\\\\n",
       "\\textbf{z\\_qnr\\_1}         &       1.6105  &        0.761     &     2.117  &         0.034        &        0.119    &        3.102     \\\\\n",
       "\\textbf{z\\_qnr\\_2}         &       0.6204  &        1.225     &     0.506  &         0.613        &       -1.780    &        3.021     \\\\\n",
       "\\textbf{z\\_qnr\\_3}         &      -0.7277  &        1.145     &    -0.635  &         0.525        &       -2.973    &        1.517     \\\\\n",
       "\\textbf{z\\_qnr\\_4}         &       0.1495  &        1.102     &     0.136  &         0.892        &       -2.010    &        2.309     \\\\\n",
       "\\textbf{z\\_qnr\\_5}         &       1.1994  &        1.105     &     1.086  &         0.278        &       -0.965    &        3.364     \\\\\n",
       "\\textbf{z\\_qnr\\_6}         &      -0.3152  &        1.096     &    -0.288  &         0.774        &       -2.463    &        1.832     \\\\\n",
       "\\textbf{z\\_qnr\\_7}         &       2.7294  &        1.095     &     2.493  &         0.013        &        0.584    &        4.875     \\\\\n",
       "\\textbf{z\\_qnr\\_8}         &       2.1316  &        0.903     &     2.361  &         0.018        &        0.362    &        3.901     \\\\\n",
       "\\textbf{z\\_qnr\\_9}         &       0.4163  &        1.266     &     0.329  &         0.742        &       -2.066    &        2.898     \\\\\n",
       "\\textbf{z\\_qnr\\_10}        &      -2.8480  &        0.848     &    -3.359  &         0.001        &       -4.510    &       -1.186     \\\\\n",
       "\\textbf{z\\_qnr\\_11}        &       0.2581  &        0.801     &     0.322  &         0.747        &       -1.313    &        1.829     \\\\\n",
       "\\textbf{z\\_qnr\\_12}        &       1.1146  &        0.767     &     1.453  &         0.146        &       -0.389    &        2.618     \\\\\n",
       "\\textbf{z\\_qnr\\_13}        &      -1.8993  &        0.940     &    -2.021  &         0.043        &       -3.741    &       -0.057     \\\\\n",
       "\\textbf{z\\_qnr\\_14}        &      -0.4180  &        0.987     &    -0.424  &         0.672        &       -2.352    &        1.516     \\\\\n",
       "\\textbf{z\\_qnr\\_15}        &       0.5574  &        0.932     &     0.598  &         0.550        &       -1.270    &        2.385     \\\\\n",
       "\\textbf{z\\_qnr\\_16}        &       2.2360  &        0.852     &     2.625  &         0.009        &        0.567    &        3.905     \\\\\n",
       "\\textbf{z\\_qnr\\_17}        &       2.0059  &        0.851     &     2.358  &         0.018        &        0.339    &        3.673     \\\\\n",
       "\\textbf{z\\_qnr\\_19}        &       2.1581  &        0.843     &     2.560  &         0.010        &        0.506    &        3.810     \\\\\n",
       "\\textbf{z\\_qnr\\_20}        &      -0.1214  &        0.798     &    -0.152  &         0.879        &       -1.686    &        1.443     \\\\\n",
       "\\textbf{z\\_qnr\\_21}        &       3.0461  &        0.891     &     3.420  &         0.001        &        1.300    &        4.792     \\\\\n",
       "\\textbf{z\\_qnr\\_22}        &       2.2572  &        0.865     &     2.611  &         0.009        &        0.563    &        3.952     \\\\\n",
       "\\textbf{z\\_qnr\\_23}        &       0.6470  &        1.242     &     0.521  &         0.602        &       -1.787    &        3.081     \\\\\n",
       "\\textbf{z\\_qnr\\_24}        &       0.4849  &        0.884     &     0.549  &         0.583        &       -1.247    &        2.217     \\\\\n",
       "\\textbf{z\\_qnr\\_25}        &      -1.0396  &        0.896     &    -1.160  &         0.246        &       -2.796    &        0.716     \\\\\n",
       "\\textbf{z\\_qnr\\_26}        &      -2.6012  &        1.117     &    -2.328  &         0.020        &       -4.791    &       -0.411     \\\\\n",
       "\\textbf{z\\_qnr\\_27}        &       0.3586  &        1.331     &     0.269  &         0.788        &       -2.251    &        2.968     \\\\\n",
       "\\textbf{z\\_qnr\\_28}        &       0.0903  &        1.046     &     0.086  &         0.931        &       -1.959    &        2.139     \\\\\n",
       "\\textbf{z\\_qnr\\_29}        &      -0.4015  &        1.142     &    -0.352  &         0.725        &       -2.640    &        1.837     \\\\\n",
       "\\textbf{z\\_qnr\\_30}        &      -9.5346  &      293.959     &    -0.032  &         0.974        &     -585.684    &      566.615     \\\\\n",
       "\\textbf{z\\_qnr\\_31}        &     -13.0506  &      984.797     &    -0.013  &         0.989        &    -1943.217    &     1917.116     \\\\\n",
       "\\textbf{z\\_qnr\\_32}        &      -0.5979  &        1.400     &    -0.427  &         0.669        &       -3.342    &        2.146     \\\\\n",
       "\\textbf{z\\_knr\\_2}         &       0.9176  &        0.945     &     0.971  &         0.331        &       -0.934    &        2.769     \\\\\n",
       "\\textbf{z\\_knr\\_3}         &       0.7316  &        0.780     &     0.937  &         0.349        &       -0.798    &        2.261     \\\\\n",
       "\\textbf{z\\_knr\\_4}         &       2.8890  &        0.596     &     4.846  &         0.000        &        1.721    &        4.057     \\\\\n",
       "\\textbf{z\\_knr\\_5}         &       2.5955  &        0.652     &     3.984  &         0.000        &        1.319    &        3.872     \\\\\n",
       "\\textbf{z\\_knr\\_7}         &       0.1241  &        0.623     &     0.199  &         0.842        &       -1.096    &        1.345     \\\\\n",
       "\\textbf{z\\_knr\\_8}         &      -2.8133  &        0.830     &    -3.389  &         0.001        &       -4.440    &       -1.186     \\\\\n",
       "\\textbf{z\\_knr\\_10}        &       0.7334  &        0.648     &     1.132  &         0.257        &       -0.536    &        2.003     \\\\\n",
       "\\textbf{trafficarea\\_1}    &      -0.6608  &        0.678     &    -0.974  &         0.330        &       -1.990    &        0.669     \\\\\n",
       "\\textbf{trafficarea\\_2}    &      -2.7395  &        0.799     &    -3.428  &         0.001        &       -4.306    &       -1.173     \\\\\n",
       "\\textbf{r\\_width\\_1}       &      -0.4187  &        0.406     &    -1.031  &         0.303        &       -1.215    &        0.377     \\\\\n",
       "\\textbf{r\\_width\\_2}       &      -2.6654  &        0.851     &    -3.132  &         0.002        &       -4.333    &       -0.997     \\\\\n",
       "\\textbf{r\\_width\\_4}       &       0.5600  &        0.497     &     1.127  &         0.260        &       -0.414    &        1.534     \\\\\n",
       "\\textbf{r\\_width\\_5}       &       0.8969  &        0.448     &     2.000  &         0.045        &        0.018    &        1.776     \\\\\n",
       "\\textbf{r\\_width\\_6}       &       0.4640  &        0.561     &     0.827  &         0.408        &       -0.636    &        1.564     \\\\\n",
       "\\textbf{r\\_surface\\_1}     &      20.9012  &     8718.106     &     0.002  &         0.998        &    -1.71e+04    &     1.71e+04     \\\\\n",
       "\\textbf{speedlimit\\_1}     &       2.2957  &        0.522     &     4.394  &         0.000        &        1.272    &        3.320     \\\\\n",
       "\\textbf{speedlimit\\_4}     &       7.5949  &        0.709     &    10.714  &         0.000        &        6.206    &        8.984     \\\\\n",
       "\\textbf{speedlimit\\_5}     &       3.0573  &        1.439     &     2.124  &         0.034        &        0.236    &        5.878     \\\\\n",
       "\\bottomrule\n",
       "\\end{tabular}\n",
       "%\\caption{Logit Regression Results}\n",
       "\\end{center}"
      ],
      "text/plain": [
       "<class 'statsmodels.iolib.summary.Summary'>\n",
       "\"\"\"\n",
       "                           Logit Regression Results                           \n",
       "==============================================================================\n",
       "Dep. Variable:                    acp   No. Observations:                 1087\n",
       "Model:                          Logit   Df Residuals:                     1014\n",
       "Method:                           MLE   Df Model:                           72\n",
       "Date:                Fri, 25 Oct 2024   Pseudo R-squ.:                  0.5958\n",
       "Time:                        14:54:35   Log-Likelihood:                -256.86\n",
       "converged:                       True   LL-Null:                       -635.50\n",
       "Covariance Type:            nonrobust   LLR p-value:                6.688e-115\n",
       "====================================================================================\n",
       "                       coef    std err          z      P>|z|      [0.025      0.975]\n",
       "------------------------------------------------------------------------------------\n",
       "const              -25.3013   8718.106     -0.003      0.998   -1.71e+04    1.71e+04\n",
       "cmean                0.0813      0.144      0.565      0.572      -0.201       0.364\n",
       "cmin                 0.0191      0.162      0.118      0.906      -0.299       0.337\n",
       "ie                  -0.0898      0.124     -0.722      0.470      -0.333       0.154\n",
       "mew                  0.2351      0.134      1.757      0.079      -0.027       0.497\n",
       "meg                 -0.0537      0.202     -0.265      0.791      -0.450       0.343\n",
       "megmax               0.0474      0.184      0.258      0.797      -0.313       0.408\n",
       "dbusl               -0.2804      0.178     -1.578      0.114      -0.629       0.068\n",
       "dtraml               0.0983      0.179      0.549      0.583      -0.253       0.449\n",
       "dtrainl              0.2005      0.151      1.326      0.185      -0.096       0.497\n",
       "dplight              0.1071      0.132      0.810      0.418      -0.152       0.366\n",
       "dstation             0.1222      0.174      0.703      0.482      -0.218       0.463\n",
       "dparkcar            -0.1003      0.154     -0.650      0.516      -0.403       0.202\n",
       "dparktw              0.0527      0.155      0.341      0.733      -0.250       0.356\n",
       "dpedcro             -0.1074      0.146     -0.734      0.463      -0.394       0.179\n",
       "dstopsign            0.1488      0.163      0.914      0.361      -0.170       0.468\n",
       "dtrafficarea         0.3305      0.179      1.848      0.065      -0.020       0.681\n",
       "droad               -0.1866      0.150     -1.246      0.213      -0.480       0.107\n",
       "dvfpath             -0.1213      0.137     -0.885      0.376      -0.390       0.147\n",
       "gvm_dwv             -0.1538      0.146     -1.052      0.293      -0.440       0.133\n",
       "bicyclecount        -0.1055      0.145     -0.730      0.466      -0.389       0.178\n",
       "carcount            -0.0785      0.143     -0.547      0.584      -0.359       0.202\n",
       "r_width_value       -0.6508      0.183     -3.547      0.000      -1.010      -0.291\n",
       "speedlimit_value    -1.5077      0.263     -5.732      0.000      -2.023      -0.992\n",
       "z_qnr_1              1.6105      0.761      2.117      0.034       0.119       3.102\n",
       "z_qnr_2              0.6204      1.225      0.506      0.613      -1.780       3.021\n",
       "z_qnr_3             -0.7277      1.145     -0.635      0.525      -2.973       1.517\n",
       "z_qnr_4              0.1495      1.102      0.136      0.892      -2.010       2.309\n",
       "z_qnr_5              1.1994      1.105      1.086      0.278      -0.965       3.364\n",
       "z_qnr_6             -0.3152      1.096     -0.288      0.774      -2.463       1.832\n",
       "z_qnr_7              2.7294      1.095      2.493      0.013       0.584       4.875\n",
       "z_qnr_8              2.1316      0.903      2.361      0.018       0.362       3.901\n",
       "z_qnr_9              0.4163      1.266      0.329      0.742      -2.066       2.898\n",
       "z_qnr_10            -2.8480      0.848     -3.359      0.001      -4.510      -1.186\n",
       "z_qnr_11             0.2581      0.801      0.322      0.747      -1.313       1.829\n",
       "z_qnr_12             1.1146      0.767      1.453      0.146      -0.389       2.618\n",
       "z_qnr_13            -1.8993      0.940     -2.021      0.043      -3.741      -0.057\n",
       "z_qnr_14            -0.4180      0.987     -0.424      0.672      -2.352       1.516\n",
       "z_qnr_15             0.5574      0.932      0.598      0.550      -1.270       2.385\n",
       "z_qnr_16             2.2360      0.852      2.625      0.009       0.567       3.905\n",
       "z_qnr_17             2.0059      0.851      2.358      0.018       0.339       3.673\n",
       "z_qnr_19             2.1581      0.843      2.560      0.010       0.506       3.810\n",
       "z_qnr_20            -0.1214      0.798     -0.152      0.879      -1.686       1.443\n",
       "z_qnr_21             3.0461      0.891      3.420      0.001       1.300       4.792\n",
       "z_qnr_22             2.2572      0.865      2.611      0.009       0.563       3.952\n",
       "z_qnr_23             0.6470      1.242      0.521      0.602      -1.787       3.081\n",
       "z_qnr_24             0.4849      0.884      0.549      0.583      -1.247       2.217\n",
       "z_qnr_25            -1.0396      0.896     -1.160      0.246      -2.796       0.716\n",
       "z_qnr_26            -2.6012      1.117     -2.328      0.020      -4.791      -0.411\n",
       "z_qnr_27             0.3586      1.331      0.269      0.788      -2.251       2.968\n",
       "z_qnr_28             0.0903      1.046      0.086      0.931      -1.959       2.139\n",
       "z_qnr_29            -0.4015      1.142     -0.352      0.725      -2.640       1.837\n",
       "z_qnr_30            -9.5346    293.959     -0.032      0.974    -585.684     566.615\n",
       "z_qnr_31           -13.0506    984.797     -0.013      0.989   -1943.217    1917.116\n",
       "z_qnr_32            -0.5979      1.400     -0.427      0.669      -3.342       2.146\n",
       "z_knr_2              0.9176      0.945      0.971      0.331      -0.934       2.769\n",
       "z_knr_3              0.7316      0.780      0.937      0.349      -0.798       2.261\n",
       "z_knr_4              2.8890      0.596      4.846      0.000       1.721       4.057\n",
       "z_knr_5              2.5955      0.652      3.984      0.000       1.319       3.872\n",
       "z_knr_7              0.1241      0.623      0.199      0.842      -1.096       1.345\n",
       "z_knr_8             -2.8133      0.830     -3.389      0.001      -4.440      -1.186\n",
       "z_knr_10             0.7334      0.648      1.132      0.257      -0.536       2.003\n",
       "trafficarea_1       -0.6608      0.678     -0.974      0.330      -1.990       0.669\n",
       "trafficarea_2       -2.7395      0.799     -3.428      0.001      -4.306      -1.173\n",
       "r_width_1           -0.4187      0.406     -1.031      0.303      -1.215       0.377\n",
       "r_width_2           -2.6654      0.851     -3.132      0.002      -4.333      -0.997\n",
       "r_width_4            0.5600      0.497      1.127      0.260      -0.414       1.534\n",
       "r_width_5            0.8969      0.448      2.000      0.045       0.018       1.776\n",
       "r_width_6            0.4640      0.561      0.827      0.408      -0.636       1.564\n",
       "r_surface_1         20.9012   8718.106      0.002      0.998   -1.71e+04    1.71e+04\n",
       "speedlimit_1         2.2957      0.522      4.394      0.000       1.272       3.320\n",
       "speedlimit_4         7.5949      0.709     10.714      0.000       6.206       8.984\n",
       "speedlimit_5         3.0573      1.439      2.124      0.034       0.236       5.878\n",
       "====================================================================================\n",
       "\"\"\""
      ]
     },
     "execution_count": 56,
     "metadata": {},
     "output_type": "execute_result"
    }
   ],
   "source": [
    "\n",
    "# Without constant\n",
    "# m00_log = sm.Logit(y, x)\n",
    "# r00_log = m00_log.fit_regularized()\n",
    "# r00_log.summary()\n",
    "\n",
    "# Add constant\n",
    "x_const = tools.add_constant(x)\n",
    "m00_log = sm.Logit(y,x_const, max_iter = 400)\n",
    "r00_log = m00_log.fit_regularized()\n",
    "# r00_log = m00_log.fit()\n",
    "\n",
    "r00_log.summary()"
   ]
  },
  {
   "cell_type": "code",
   "execution_count": 99,
   "id": "eadc076f-126a-4896-8128-42ca7bed7341",
   "metadata": {
    "execution": {
     "iopub.execute_input": "2024-10-25T13:24:47.927345Z",
     "iopub.status.busy": "2024-10-25T13:24:47.926634Z",
     "iopub.status.idle": "2024-10-25T13:24:47.934345Z",
     "shell.execute_reply": "2024-10-25T13:24:47.933681Z",
     "shell.execute_reply.started": "2024-10-25T13:24:47.927299Z"
    }
   },
   "outputs": [
    {
     "name": "stdout",
     "output_type": "stream",
     "text": [
      "0.5958118508012809\n",
      "                             0  sig\n",
      "r_width_value     3.899697e-04  ***\n",
      "speedlimit_value  9.945366e-09  ***\n",
      "z_qnr_1           3.429263e-02    *\n",
      "z_qnr_7           1.265846e-02    *\n",
      "z_qnr_8           1.821039e-02    *\n",
      "z_qnr_10          7.814372e-04  ***\n",
      "z_qnr_13          4.330059e-02    *\n",
      "z_qnr_16          8.660481e-03   **\n",
      "z_qnr_17          1.835723e-02    *\n",
      "z_qnr_19          1.045426e-02    *\n",
      "z_qnr_21          6.268664e-04  ***\n",
      "z_qnr_22          9.033634e-03   **\n",
      "z_qnr_26          1.989756e-02    *\n",
      "z_knr_4           1.258243e-06  ***\n",
      "z_knr_5           6.782204e-05  ***\n",
      "z_knr_8           7.005655e-04  ***\n",
      "trafficarea_2     6.083004e-04  ***\n",
      "r_width_2         1.735471e-03   **\n",
      "r_width_5         4.546395e-02    *\n",
      "speedlimit_1      1.111849e-05  ***\n",
      "speedlimit_4      8.718404e-27  ***\n",
      "speedlimit_5      3.365471e-02    *\n",
      "22\n"
     ]
    }
   ],
   "source": [
    "print(r00_log.prsquared)\n",
    "printsig(r00_log)"
   ]
  },
  {
   "cell_type": "code",
   "execution_count": 57,
   "id": "33965143-fc9a-43d6-a591-b4494b32a219",
   "metadata": {
    "execution": {
     "iopub.execute_input": "2024-10-25T12:54:35.102789Z",
     "iopub.status.busy": "2024-10-25T12:54:35.102633Z",
     "iopub.status.idle": "2024-10-25T12:54:35.253888Z",
     "shell.execute_reply": "2024-10-25T12:54:35.253191Z",
     "shell.execute_reply.started": "2024-10-25T12:54:35.102772Z"
    }
   },
   "outputs": [
    {
     "name": "stdout",
     "output_type": "stream",
     "text": [
      "0.9052437902483901\n",
      "\n",
      "Test accuracy : \n",
      " 0.9052437902483901\n",
      "\n",
      "Confusion Matrix : \n",
      " [[755  37]\n",
      " [ 66 229]]\n",
      "accuracy 0.9052437902483901\n",
      "precision [0.91961023 0.86090226]\n",
      "sensitivity recall [0.95328283 0.77627119]\n",
      "f1 score [0.93614383 0.81639929]\n",
      "mean precision 0.8902562435320945\n",
      "mean recall 0.8647770073617531\n",
      "mean f1 score 0.87627155917882\n"
     ]
    },
    {
     "data": {
      "image/png": "[encoded data removed]",
      "text/plain": [
       "<Figure size 640x480 with 2 Axes>"
      ]
     },
     "metadata": {},
     "output_type": "display_data"
    }
   ],
   "source": [
    "pred00log = r00_log.predict(x_const)\n",
    "pred00log = list(map(round,pred00log))\n",
    "print(accuracy_score(y, pred00log))\n",
    "print('\\nTest accuracy : \\n', accuracy_score(y, pred00log))\n",
    "cm00log = confusion_matrix(y, pred00log) \n",
    "print ('\\nConfusion Matrix : \\n', cm00log)\n",
    "cm00log_display = metrics.ConfusionMatrixDisplay(confusion_matrix = cm00log)\n",
    "cm00log_display.plot()\n",
    "\n",
    "acc_log = metrics.accuracy_score(y, pred00log)\n",
    "print('accuracy', acc_log)\n",
    "\n",
    "pre_log = metrics.precision_score(y, pred00log, average = None)\n",
    "print('precision', pre_log)\n",
    "\n",
    "senrec_log = metrics.recall_score(y, pred00log, average = None)\n",
    "print('sensitivity recall', senrec_log)\n",
    "\n",
    "f1_log = metrics.f1_score(y, pred00log, average = None)\n",
    "print('f1 score', f1_log)\n",
    "\n",
    "pre_log_m = np.mean(pre_log)\n",
    "senrec_log_m = np.mean(senrec_log)\n",
    "f1_log_m = np.mean(f1_log)\n",
    "print('mean precision', pre_log_m)\n",
    "print('mean recall', senrec_log_m)\n",
    "print('mean f1 score', f1_log_m)"
   ]
  },
  {
   "cell_type": "markdown",
   "id": "9123b4a7-8a63-4606-8a16-ed36a71cb18e",
   "metadata": {},
   "source": [
    "### With data splitting"
   ]
  },
  {
   "cell_type": "code",
   "execution_count": 58,
   "id": "5daa4124-d5f5-4623-8fcb-b7a914737620",
   "metadata": {
    "execution": {
     "iopub.execute_input": "2024-10-25T12:54:35.255036Z",
     "iopub.status.busy": "2024-10-25T12:54:35.254867Z",
     "iopub.status.idle": "2024-10-25T12:54:37.113133Z",
     "shell.execute_reply": "2024-10-25T12:54:37.112474Z",
     "shell.execute_reply.started": "2024-10-25T12:54:35.255019Z"
    },
    "scrolled": true
   },
   "outputs": [
    {
     "name": "stderr",
     "output_type": "stream",
     "text": [
      "/opt/conda/lib/python3.11/site-packages/statsmodels/base/model.py:130: ValueWarning: unknown kwargs ['max_iter']\n",
      "  warnings.warn(msg, ValueWarning)\n"
     ]
    },
    {
     "name": "stdout",
     "output_type": "stream",
     "text": [
      "Optimization terminated successfully    (Exit mode 0)\n",
      "            Current function value: 0.22770022587767622\n",
      "            Iterations: 444\n",
      "            Function evaluations: 444\n",
      "            Gradient evaluations: 444\n"
     ]
    },
    {
     "name": "stderr",
     "output_type": "stream",
     "text": [
      "/opt/conda/lib/python3.11/site-packages/statsmodels/base/model.py:130: ValueWarning: unknown kwargs ['max_iter']\n",
      "  warnings.warn(msg, ValueWarning)\n"
     ]
    },
    {
     "data": {
      "text/html": [
       "<table class=\"simpletable\">\n",
       "<caption>Logit Regression Results</caption>\n",
       "<tr>\n",
       "  <th>Dep. Variable:</th>          <td>acp</td>       <th>  No. Observations:  </th>  <td>   760</td>  \n",
       "</tr>\n",
       "<tr>\n",
       "  <th>Model:</th>                 <td>Logit</td>      <th>  Df Residuals:      </th>  <td>   687</td>  \n",
       "</tr>\n",
       "<tr>\n",
       "  <th>Method:</th>                 <td>MLE</td>       <th>  Df Model:          </th>  <td>    72</td>  \n",
       "</tr>\n",
       "<tr>\n",
       "  <th>Date:</th>            <td>Fri, 25 Oct 2024</td> <th>  Pseudo R-squ.:     </th>  <td>0.6049</td>  \n",
       "</tr>\n",
       "<tr>\n",
       "  <th>Time:</th>                <td>14:54:37</td>     <th>  Log-Likelihood:    </th> <td> -173.05</td> \n",
       "</tr>\n",
       "<tr>\n",
       "  <th>converged:</th>             <td>True</td>       <th>  LL-Null:           </th> <td> -438.01</td> \n",
       "</tr>\n",
       "<tr>\n",
       "  <th>Covariance Type:</th>     <td>nonrobust</td>    <th>  LLR p-value:       </th> <td>6.123e-71</td>\n",
       "</tr>\n",
       "</table>\n",
       "<table class=\"simpletable\">\n",
       "<tr>\n",
       "          <td></td>            <th>coef</th>     <th>std err</th>      <th>z</th>      <th>P>|z|</th>  <th>[0.025</th>    <th>0.975]</th>  \n",
       "</tr>\n",
       "<tr>\n",
       "  <th>const</th>            <td>  -30.4916</td> <td> 1.25e+05</td> <td>   -0.000</td> <td> 1.000</td> <td>-2.46e+05</td> <td> 2.46e+05</td>\n",
       "</tr>\n",
       "<tr>\n",
       "  <th>cmean</th>            <td>    0.1299</td> <td>    0.179</td> <td>    0.726</td> <td> 0.468</td> <td>   -0.220</td> <td>    0.480</td>\n",
       "</tr>\n",
       "<tr>\n",
       "  <th>cmin</th>             <td>    0.1110</td> <td>    0.172</td> <td>    0.647</td> <td> 0.518</td> <td>   -0.225</td> <td>    0.448</td>\n",
       "</tr>\n",
       "<tr>\n",
       "  <th>ie</th>               <td>   -0.0783</td> <td>    0.164</td> <td>   -0.477</td> <td> 0.633</td> <td>   -0.400</td> <td>    0.243</td>\n",
       "</tr>\n",
       "<tr>\n",
       "  <th>mew</th>              <td>    0.1140</td> <td>    0.176</td> <td>    0.648</td> <td> 0.517</td> <td>   -0.231</td> <td>    0.459</td>\n",
       "</tr>\n",
       "<tr>\n",
       "  <th>meg</th>              <td>   -0.0152</td> <td>    0.239</td> <td>   -0.064</td> <td> 0.949</td> <td>   -0.484</td> <td>    0.453</td>\n",
       "</tr>\n",
       "<tr>\n",
       "  <th>megmax</th>           <td>    0.0802</td> <td>    0.233</td> <td>    0.345</td> <td> 0.730</td> <td>   -0.376</td> <td>    0.536</td>\n",
       "</tr>\n",
       "<tr>\n",
       "  <th>dbusl</th>            <td>   -0.2326</td> <td>    0.217</td> <td>   -1.074</td> <td> 0.283</td> <td>   -0.657</td> <td>    0.192</td>\n",
       "</tr>\n",
       "<tr>\n",
       "  <th>dtraml</th>           <td>    0.3991</td> <td>    0.234</td> <td>    1.702</td> <td> 0.089</td> <td>   -0.061</td> <td>    0.859</td>\n",
       "</tr>\n",
       "<tr>\n",
       "  <th>dtrainl</th>          <td>    0.1026</td> <td>    0.184</td> <td>    0.558</td> <td> 0.577</td> <td>   -0.258</td> <td>    0.463</td>\n",
       "</tr>\n",
       "<tr>\n",
       "  <th>dplight</th>          <td>    0.0881</td> <td>    0.164</td> <td>    0.538</td> <td> 0.591</td> <td>   -0.233</td> <td>    0.409</td>\n",
       "</tr>\n",
       "<tr>\n",
       "  <th>dstation</th>         <td>    0.1183</td> <td>    0.218</td> <td>    0.544</td> <td> 0.587</td> <td>   -0.308</td> <td>    0.545</td>\n",
       "</tr>\n",
       "<tr>\n",
       "  <th>dparkcar</th>         <td>   -0.0679</td> <td>    0.191</td> <td>   -0.356</td> <td> 0.722</td> <td>   -0.441</td> <td>    0.306</td>\n",
       "</tr>\n",
       "<tr>\n",
       "  <th>dparktw</th>          <td>   -0.0012</td> <td>    0.192</td> <td>   -0.006</td> <td> 0.995</td> <td>   -0.378</td> <td>    0.376</td>\n",
       "</tr>\n",
       "<tr>\n",
       "  <th>dpedcro</th>          <td>   -0.1578</td> <td>    0.174</td> <td>   -0.906</td> <td> 0.365</td> <td>   -0.499</td> <td>    0.184</td>\n",
       "</tr>\n",
       "<tr>\n",
       "  <th>dstopsign</th>        <td>    0.1981</td> <td>    0.204</td> <td>    0.969</td> <td> 0.333</td> <td>   -0.203</td> <td>    0.599</td>\n",
       "</tr>\n",
       "<tr>\n",
       "  <th>dtrafficarea</th>     <td>    0.4430</td> <td>    0.231</td> <td>    1.920</td> <td> 0.055</td> <td>   -0.009</td> <td>    0.895</td>\n",
       "</tr>\n",
       "<tr>\n",
       "  <th>droad</th>            <td>   -0.1482</td> <td>    0.188</td> <td>   -0.789</td> <td> 0.430</td> <td>   -0.516</td> <td>    0.220</td>\n",
       "</tr>\n",
       "<tr>\n",
       "  <th>dvfpath</th>          <td>   -0.3731</td> <td>    0.194</td> <td>   -1.921</td> <td> 0.055</td> <td>   -0.754</td> <td>    0.008</td>\n",
       "</tr>\n",
       "<tr>\n",
       "  <th>gvm_dwv</th>          <td>   -0.3539</td> <td>    0.189</td> <td>   -1.873</td> <td> 0.061</td> <td>   -0.724</td> <td>    0.016</td>\n",
       "</tr>\n",
       "<tr>\n",
       "  <th>bicyclecount</th>     <td>   -0.1462</td> <td>    0.176</td> <td>   -0.829</td> <td> 0.407</td> <td>   -0.492</td> <td>    0.199</td>\n",
       "</tr>\n",
       "<tr>\n",
       "  <th>carcount</th>         <td>   -0.1154</td> <td>    0.176</td> <td>   -0.656</td> <td> 0.512</td> <td>   -0.460</td> <td>    0.229</td>\n",
       "</tr>\n",
       "<tr>\n",
       "  <th>r_width_value</th>    <td>   -0.5333</td> <td>    0.226</td> <td>   -2.358</td> <td> 0.018</td> <td>   -0.977</td> <td>   -0.090</td>\n",
       "</tr>\n",
       "<tr>\n",
       "  <th>speedlimit_value</th> <td>   -1.5605</td> <td>    0.340</td> <td>   -4.590</td> <td> 0.000</td> <td>   -2.227</td> <td>   -0.894</td>\n",
       "</tr>\n",
       "<tr>\n",
       "  <th>z_qnr_1</th>          <td>    1.2822</td> <td>    1.030</td> <td>    1.245</td> <td> 0.213</td> <td>   -0.737</td> <td>    3.301</td>\n",
       "</tr>\n",
       "<tr>\n",
       "  <th>z_qnr_2</th>          <td>    0.2358</td> <td>    1.525</td> <td>    0.155</td> <td> 0.877</td> <td>   -2.753</td> <td>    3.225</td>\n",
       "</tr>\n",
       "<tr>\n",
       "  <th>z_qnr_3</th>          <td>   -1.4500</td> <td>    1.366</td> <td>   -1.061</td> <td> 0.289</td> <td>   -4.128</td> <td>    1.228</td>\n",
       "</tr>\n",
       "<tr>\n",
       "  <th>z_qnr_4</th>          <td>   -0.7630</td> <td>    1.669</td> <td>   -0.457</td> <td> 0.647</td> <td>   -4.033</td> <td>    2.507</td>\n",
       "</tr>\n",
       "<tr>\n",
       "  <th>z_qnr_5</th>          <td>    0.8531</td> <td>    1.312</td> <td>    0.650</td> <td> 0.515</td> <td>   -1.718</td> <td>    3.424</td>\n",
       "</tr>\n",
       "<tr>\n",
       "  <th>z_qnr_6</th>          <td>   -0.9289</td> <td>    1.270</td> <td>   -0.731</td> <td> 0.465</td> <td>   -3.419</td> <td>    1.561</td>\n",
       "</tr>\n",
       "<tr>\n",
       "  <th>z_qnr_7</th>          <td>    2.4992</td> <td>    1.360</td> <td>    1.838</td> <td> 0.066</td> <td>   -0.166</td> <td>    5.164</td>\n",
       "</tr>\n",
       "<tr>\n",
       "  <th>z_qnr_8</th>          <td>    1.5403</td> <td>    1.205</td> <td>    1.278</td> <td> 0.201</td> <td>   -0.822</td> <td>    3.903</td>\n",
       "</tr>\n",
       "<tr>\n",
       "  <th>z_qnr_9</th>          <td>   -0.2857</td> <td>    1.494</td> <td>   -0.191</td> <td> 0.848</td> <td>   -3.214</td> <td>    2.643</td>\n",
       "</tr>\n",
       "<tr>\n",
       "  <th>z_qnr_10</th>         <td>   -2.9555</td> <td>    1.047</td> <td>   -2.822</td> <td> 0.005</td> <td>   -5.009</td> <td>   -0.902</td>\n",
       "</tr>\n",
       "<tr>\n",
       "  <th>z_qnr_11</th>         <td>   -0.5851</td> <td>    0.972</td> <td>   -0.602</td> <td> 0.547</td> <td>   -2.491</td> <td>    1.321</td>\n",
       "</tr>\n",
       "<tr>\n",
       "  <th>z_qnr_12</th>         <td>   -0.1435</td> <td>    0.987</td> <td>   -0.145</td> <td> 0.884</td> <td>   -2.079</td> <td>    1.792</td>\n",
       "</tr>\n",
       "<tr>\n",
       "  <th>z_qnr_13</th>         <td>   -2.2995</td> <td>    1.152</td> <td>   -1.997</td> <td> 0.046</td> <td>   -4.556</td> <td>   -0.043</td>\n",
       "</tr>\n",
       "<tr>\n",
       "  <th>z_qnr_14</th>         <td>   -0.3407</td> <td>    1.205</td> <td>   -0.283</td> <td> 0.777</td> <td>   -2.702</td> <td>    2.020</td>\n",
       "</tr>\n",
       "<tr>\n",
       "  <th>z_qnr_15</th>         <td>   -0.2763</td> <td>    1.246</td> <td>   -0.222</td> <td> 0.825</td> <td>   -2.719</td> <td>    2.167</td>\n",
       "</tr>\n",
       "<tr>\n",
       "  <th>z_qnr_16</th>         <td>    2.6257</td> <td>    1.058</td> <td>    2.482</td> <td> 0.013</td> <td>    0.552</td> <td>    4.699</td>\n",
       "</tr>\n",
       "<tr>\n",
       "  <th>z_qnr_17</th>         <td>    2.0998</td> <td>    1.040</td> <td>    2.019</td> <td> 0.043</td> <td>    0.062</td> <td>    4.138</td>\n",
       "</tr>\n",
       "<tr>\n",
       "  <th>z_qnr_19</th>         <td>    1.9867</td> <td>    1.065</td> <td>    1.866</td> <td> 0.062</td> <td>   -0.101</td> <td>    4.074</td>\n",
       "</tr>\n",
       "<tr>\n",
       "  <th>z_qnr_20</th>         <td>   -0.3244</td> <td>    0.963</td> <td>   -0.337</td> <td> 0.736</td> <td>   -2.211</td> <td>    1.563</td>\n",
       "</tr>\n",
       "<tr>\n",
       "  <th>z_qnr_21</th>         <td>    3.5261</td> <td>    1.099</td> <td>    3.209</td> <td> 0.001</td> <td>    1.372</td> <td>    5.680</td>\n",
       "</tr>\n",
       "<tr>\n",
       "  <th>z_qnr_22</th>         <td>    2.8691</td> <td>    1.073</td> <td>    2.674</td> <td> 0.007</td> <td>    0.766</td> <td>    4.972</td>\n",
       "</tr>\n",
       "<tr>\n",
       "  <th>z_qnr_23</th>         <td>    0.6109</td> <td>    1.340</td> <td>    0.456</td> <td> 0.648</td> <td>   -2.015</td> <td>    3.237</td>\n",
       "</tr>\n",
       "<tr>\n",
       "  <th>z_qnr_24</th>         <td>   -0.1099</td> <td>    1.043</td> <td>   -0.105</td> <td> 0.916</td> <td>   -2.154</td> <td>    1.935</td>\n",
       "</tr>\n",
       "<tr>\n",
       "  <th>z_qnr_25</th>         <td>   -1.3673</td> <td>    1.077</td> <td>   -1.270</td> <td> 0.204</td> <td>   -3.478</td> <td>    0.743</td>\n",
       "</tr>\n",
       "<tr>\n",
       "  <th>z_qnr_26</th>         <td>   -1.8644</td> <td>    1.358</td> <td>   -1.373</td> <td> 0.170</td> <td>   -4.525</td> <td>    0.797</td>\n",
       "</tr>\n",
       "<tr>\n",
       "  <th>z_qnr_27</th>         <td>   -1.8881</td> <td>    1.895</td> <td>   -0.996</td> <td> 0.319</td> <td>   -5.602</td> <td>    1.826</td>\n",
       "</tr>\n",
       "<tr>\n",
       "  <th>z_qnr_28</th>         <td>   -0.5771</td> <td>    1.265</td> <td>   -0.456</td> <td> 0.648</td> <td>   -3.057</td> <td>    1.903</td>\n",
       "</tr>\n",
       "<tr>\n",
       "  <th>z_qnr_29</th>         <td>   -0.5030</td> <td>    1.280</td> <td>   -0.393</td> <td> 0.694</td> <td>   -3.011</td> <td>    2.005</td>\n",
       "</tr>\n",
       "<tr>\n",
       "  <th>z_qnr_30</th>         <td>  -10.1194</td> <td>  475.744</td> <td>   -0.021</td> <td> 0.983</td> <td> -942.560</td> <td>  922.321</td>\n",
       "</tr>\n",
       "<tr>\n",
       "  <th>z_qnr_31</th>         <td>  -17.9528</td> <td> 1.03e+04</td> <td>   -0.002</td> <td> 0.999</td> <td>-2.01e+04</td> <td> 2.01e+04</td>\n",
       "</tr>\n",
       "<tr>\n",
       "  <th>z_qnr_32</th>         <td>    0.0780</td> <td>    1.452</td> <td>    0.054</td> <td> 0.957</td> <td>   -2.767</td> <td>    2.923</td>\n",
       "</tr>\n",
       "<tr>\n",
       "  <th>z_knr_2</th>          <td>    0.8344</td> <td>    1.195</td> <td>    0.698</td> <td> 0.485</td> <td>   -1.508</td> <td>    3.177</td>\n",
       "</tr>\n",
       "<tr>\n",
       "  <th>z_knr_3</th>          <td>    1.2984</td> <td>    0.999</td> <td>    1.300</td> <td> 0.194</td> <td>   -0.659</td> <td>    3.256</td>\n",
       "</tr>\n",
       "<tr>\n",
       "  <th>z_knr_4</th>          <td>    3.3048</td> <td>    0.725</td> <td>    4.557</td> <td> 0.000</td> <td>    1.883</td> <td>    4.726</td>\n",
       "</tr>\n",
       "<tr>\n",
       "  <th>z_knr_5</th>          <td>    2.5457</td> <td>    0.767</td> <td>    3.318</td> <td> 0.001</td> <td>    1.042</td> <td>    4.050</td>\n",
       "</tr>\n",
       "<tr>\n",
       "  <th>z_knr_7</th>          <td>   -0.1938</td> <td>    0.789</td> <td>   -0.246</td> <td> 0.806</td> <td>   -1.740</td> <td>    1.352</td>\n",
       "</tr>\n",
       "<tr>\n",
       "  <th>z_knr_8</th>          <td>   -3.0017</td> <td>    1.060</td> <td>   -2.831</td> <td> 0.005</td> <td>   -5.080</td> <td>   -0.924</td>\n",
       "</tr>\n",
       "<tr>\n",
       "  <th>z_knr_10</th>         <td>    0.4608</td> <td>    0.761</td> <td>    0.606</td> <td> 0.545</td> <td>   -1.030</td> <td>    1.952</td>\n",
       "</tr>\n",
       "<tr>\n",
       "  <th>trafficarea_1</th>    <td>    0.3139</td> <td>    0.862</td> <td>    0.364</td> <td> 0.716</td> <td>   -1.375</td> <td>    2.003</td>\n",
       "</tr>\n",
       "<tr>\n",
       "  <th>trafficarea_2</th>    <td>   -2.5137</td> <td>    1.030</td> <td>   -2.441</td> <td> 0.015</td> <td>   -4.532</td> <td>   -0.495</td>\n",
       "</tr>\n",
       "<tr>\n",
       "  <th>r_width_1</th>        <td>   -0.5904</td> <td>    0.497</td> <td>   -1.187</td> <td> 0.235</td> <td>   -1.565</td> <td>    0.384</td>\n",
       "</tr>\n",
       "<tr>\n",
       "  <th>r_width_2</th>        <td>   -2.8335</td> <td>    1.001</td> <td>   -2.829</td> <td> 0.005</td> <td>   -4.796</td> <td>   -0.871</td>\n",
       "</tr>\n",
       "<tr>\n",
       "  <th>r_width_4</th>        <td>    0.1807</td> <td>    0.609</td> <td>    0.297</td> <td> 0.767</td> <td>   -1.013</td> <td>    1.374</td>\n",
       "</tr>\n",
       "<tr>\n",
       "  <th>r_width_5</th>        <td>    0.6598</td> <td>    0.543</td> <td>    1.215</td> <td> 0.224</td> <td>   -0.404</td> <td>    1.724</td>\n",
       "</tr>\n",
       "<tr>\n",
       "  <th>r_width_6</th>        <td>   -0.1428</td> <td>    0.691</td> <td>   -0.207</td> <td> 0.836</td> <td>   -1.497</td> <td>    1.211</td>\n",
       "</tr>\n",
       "<tr>\n",
       "  <th>r_surface_1</th>      <td>   25.6386</td> <td> 1.25e+05</td> <td>    0.000</td> <td> 1.000</td> <td>-2.46e+05</td> <td> 2.46e+05</td>\n",
       "</tr>\n",
       "<tr>\n",
       "  <th>speedlimit_1</th>     <td>    2.2566</td> <td>    0.665</td> <td>    3.395</td> <td> 0.001</td> <td>    0.954</td> <td>    3.559</td>\n",
       "</tr>\n",
       "<tr>\n",
       "  <th>speedlimit_4</th>     <td>    7.9972</td> <td>    0.928</td> <td>    8.617</td> <td> 0.000</td> <td>    6.178</td> <td>    9.816</td>\n",
       "</tr>\n",
       "<tr>\n",
       "  <th>speedlimit_5</th>     <td>    3.4870</td> <td>    1.789</td> <td>    1.949</td> <td> 0.051</td> <td>   -0.020</td> <td>    6.994</td>\n",
       "</tr>\n",
       "</table>"
      ],
      "text/latex": [
       "\\begin{center}\n",
       "\\begin{tabular}{lclc}\n",
       "\\toprule\n",
       "\\textbf{Dep. Variable:}    &       acp        & \\textbf{  No. Observations:  } &      760    \\\\\n",
       "\\textbf{Model:}            &      Logit       & \\textbf{  Df Residuals:      } &      687    \\\\\n",
       "\\textbf{Method:}           &       MLE        & \\textbf{  Df Model:          } &       72    \\\\\n",
       "\\textbf{Date:}             & Fri, 25 Oct 2024 & \\textbf{  Pseudo R-squ.:     } &   0.6049    \\\\\n",
       "\\textbf{Time:}             &     14:54:37     & \\textbf{  Log-Likelihood:    } &   -173.05   \\\\\n",
       "\\textbf{converged:}        &       True       & \\textbf{  LL-Null:           } &   -438.01   \\\\\n",
       "\\textbf{Covariance Type:}  &    nonrobust     & \\textbf{  LLR p-value:       } & 6.123e-71   \\\\\n",
       "\\bottomrule\n",
       "\\end{tabular}\n",
       "\\begin{tabular}{lcccccc}\n",
       "                           & \\textbf{coef} & \\textbf{std err} & \\textbf{z} & \\textbf{P$> |$z$|$} & \\textbf{[0.025} & \\textbf{0.975]}  \\\\\n",
       "\\midrule\n",
       "\\textbf{const}             &     -30.4916  &     1.25e+05     &    -0.000  &         1.000        &    -2.46e+05    &     2.46e+05     \\\\\n",
       "\\textbf{cmean}             &       0.1299  &        0.179     &     0.726  &         0.468        &       -0.220    &        0.480     \\\\\n",
       "\\textbf{cmin}              &       0.1110  &        0.172     &     0.647  &         0.518        &       -0.225    &        0.448     \\\\\n",
       "\\textbf{ie}                &      -0.0783  &        0.164     &    -0.477  &         0.633        &       -0.400    &        0.243     \\\\\n",
       "\\textbf{mew}               &       0.1140  &        0.176     &     0.648  &         0.517        &       -0.231    &        0.459     \\\\\n",
       "\\textbf{meg}               &      -0.0152  &        0.239     &    -0.064  &         0.949        &       -0.484    &        0.453     \\\\\n",
       "\\textbf{megmax}            &       0.0802  &        0.233     &     0.345  &         0.730        &       -0.376    &        0.536     \\\\\n",
       "\\textbf{dbusl}             &      -0.2326  &        0.217     &    -1.074  &         0.283        &       -0.657    &        0.192     \\\\\n",
       "\\textbf{dtraml}            &       0.3991  &        0.234     &     1.702  &         0.089        &       -0.061    &        0.859     \\\\\n",
       "\\textbf{dtrainl}           &       0.1026  &        0.184     &     0.558  &         0.577        &       -0.258    &        0.463     \\\\\n",
       "\\textbf{dplight}           &       0.0881  &        0.164     &     0.538  &         0.591        &       -0.233    &        0.409     \\\\\n",
       "\\textbf{dstation}          &       0.1183  &        0.218     &     0.544  &         0.587        &       -0.308    &        0.545     \\\\\n",
       "\\textbf{dparkcar}          &      -0.0679  &        0.191     &    -0.356  &         0.722        &       -0.441    &        0.306     \\\\\n",
       "\\textbf{dparktw}           &      -0.0012  &        0.192     &    -0.006  &         0.995        &       -0.378    &        0.376     \\\\\n",
       "\\textbf{dpedcro}           &      -0.1578  &        0.174     &    -0.906  &         0.365        &       -0.499    &        0.184     \\\\\n",
       "\\textbf{dstopsign}         &       0.1981  &        0.204     &     0.969  &         0.333        &       -0.203    &        0.599     \\\\\n",
       "\\textbf{dtrafficarea}      &       0.4430  &        0.231     &     1.920  &         0.055        &       -0.009    &        0.895     \\\\\n",
       "\\textbf{droad}             &      -0.1482  &        0.188     &    -0.789  &         0.430        &       -0.516    &        0.220     \\\\\n",
       "\\textbf{dvfpath}           &      -0.3731  &        0.194     &    -1.921  &         0.055        &       -0.754    &        0.008     \\\\\n",
       "\\textbf{gvm\\_dwv}          &      -0.3539  &        0.189     &    -1.873  &         0.061        &       -0.724    &        0.016     \\\\\n",
       "\\textbf{bicyclecount}      &      -0.1462  &        0.176     &    -0.829  &         0.407        &       -0.492    &        0.199     \\\\\n",
       "\\textbf{carcount}          &      -0.1154  &        0.176     &    -0.656  &         0.512        &       -0.460    &        0.229     \\\\\n",
       "\\textbf{r\\_width\\_value}   &      -0.5333  &        0.226     &    -2.358  &         0.018        &       -0.977    &       -0.090     \\\\\n",
       "\\textbf{speedlimit\\_value} &      -1.5605  &        0.340     &    -4.590  &         0.000        &       -2.227    &       -0.894     \\\\\n",
       "\\textbf{z\\_qnr\\_1}         &       1.2822  &        1.030     &     1.245  &         0.213        &       -0.737    &        3.301     \\\\\n",
       "\\textbf{z\\_qnr\\_2}         &       0.2358  &        1.525     &     0.155  &         0.877        &       -2.753    &        3.225     \\\\\n",
       "\\textbf{z\\_qnr\\_3}         &      -1.4500  &        1.366     &    -1.061  &         0.289        &       -4.128    &        1.228     \\\\\n",
       "\\textbf{z\\_qnr\\_4}         &      -0.7630  &        1.669     &    -0.457  &         0.647        &       -4.033    &        2.507     \\\\\n",
       "\\textbf{z\\_qnr\\_5}         &       0.8531  &        1.312     &     0.650  &         0.515        &       -1.718    &        3.424     \\\\\n",
       "\\textbf{z\\_qnr\\_6}         &      -0.9289  &        1.270     &    -0.731  &         0.465        &       -3.419    &        1.561     \\\\\n",
       "\\textbf{z\\_qnr\\_7}         &       2.4992  &        1.360     &     1.838  &         0.066        &       -0.166    &        5.164     \\\\\n",
       "\\textbf{z\\_qnr\\_8}         &       1.5403  &        1.205     &     1.278  &         0.201        &       -0.822    &        3.903     \\\\\n",
       "\\textbf{z\\_qnr\\_9}         &      -0.2857  &        1.494     &    -0.191  &         0.848        &       -3.214    &        2.643     \\\\\n",
       "\\textbf{z\\_qnr\\_10}        &      -2.9555  &        1.047     &    -2.822  &         0.005        &       -5.009    &       -0.902     \\\\\n",
       "\\textbf{z\\_qnr\\_11}        &      -0.5851  &        0.972     &    -0.602  &         0.547        &       -2.491    &        1.321     \\\\\n",
       "\\textbf{z\\_qnr\\_12}        &      -0.1435  &        0.987     &    -0.145  &         0.884        &       -2.079    &        1.792     \\\\\n",
       "\\textbf{z\\_qnr\\_13}        &      -2.2995  &        1.152     &    -1.997  &         0.046        &       -4.556    &       -0.043     \\\\\n",
       "\\textbf{z\\_qnr\\_14}        &      -0.3407  &        1.205     &    -0.283  &         0.777        &       -2.702    &        2.020     \\\\\n",
       "\\textbf{z\\_qnr\\_15}        &      -0.2763  &        1.246     &    -0.222  &         0.825        &       -2.719    &        2.167     \\\\\n",
       "\\textbf{z\\_qnr\\_16}        &       2.6257  &        1.058     &     2.482  &         0.013        &        0.552    &        4.699     \\\\\n",
       "\\textbf{z\\_qnr\\_17}        &       2.0998  &        1.040     &     2.019  &         0.043        &        0.062    &        4.138     \\\\\n",
       "\\textbf{z\\_qnr\\_19}        &       1.9867  &        1.065     &     1.866  &         0.062        &       -0.101    &        4.074     \\\\\n",
       "\\textbf{z\\_qnr\\_20}        &      -0.3244  &        0.963     &    -0.337  &         0.736        &       -2.211    &        1.563     \\\\\n",
       "\\textbf{z\\_qnr\\_21}        &       3.5261  &        1.099     &     3.209  &         0.001        &        1.372    &        5.680     \\\\\n",
       "\\textbf{z\\_qnr\\_22}        &       2.8691  &        1.073     &     2.674  &         0.007        &        0.766    &        4.972     \\\\\n",
       "\\textbf{z\\_qnr\\_23}        &       0.6109  &        1.340     &     0.456  &         0.648        &       -2.015    &        3.237     \\\\\n",
       "\\textbf{z\\_qnr\\_24}        &      -0.1099  &        1.043     &    -0.105  &         0.916        &       -2.154    &        1.935     \\\\\n",
       "\\textbf{z\\_qnr\\_25}        &      -1.3673  &        1.077     &    -1.270  &         0.204        &       -3.478    &        0.743     \\\\\n",
       "\\textbf{z\\_qnr\\_26}        &      -1.8644  &        1.358     &    -1.373  &         0.170        &       -4.525    &        0.797     \\\\\n",
       "\\textbf{z\\_qnr\\_27}        &      -1.8881  &        1.895     &    -0.996  &         0.319        &       -5.602    &        1.826     \\\\\n",
       "\\textbf{z\\_qnr\\_28}        &      -0.5771  &        1.265     &    -0.456  &         0.648        &       -3.057    &        1.903     \\\\\n",
       "\\textbf{z\\_qnr\\_29}        &      -0.5030  &        1.280     &    -0.393  &         0.694        &       -3.011    &        2.005     \\\\\n",
       "\\textbf{z\\_qnr\\_30}        &     -10.1194  &      475.744     &    -0.021  &         0.983        &     -942.560    &      922.321     \\\\\n",
       "\\textbf{z\\_qnr\\_31}        &     -17.9528  &     1.03e+04     &    -0.002  &         0.999        &    -2.01e+04    &     2.01e+04     \\\\\n",
       "\\textbf{z\\_qnr\\_32}        &       0.0780  &        1.452     &     0.054  &         0.957        &       -2.767    &        2.923     \\\\\n",
       "\\textbf{z\\_knr\\_2}         &       0.8344  &        1.195     &     0.698  &         0.485        &       -1.508    &        3.177     \\\\\n",
       "\\textbf{z\\_knr\\_3}         &       1.2984  &        0.999     &     1.300  &         0.194        &       -0.659    &        3.256     \\\\\n",
       "\\textbf{z\\_knr\\_4}         &       3.3048  &        0.725     &     4.557  &         0.000        &        1.883    &        4.726     \\\\\n",
       "\\textbf{z\\_knr\\_5}         &       2.5457  &        0.767     &     3.318  &         0.001        &        1.042    &        4.050     \\\\\n",
       "\\textbf{z\\_knr\\_7}         &      -0.1938  &        0.789     &    -0.246  &         0.806        &       -1.740    &        1.352     \\\\\n",
       "\\textbf{z\\_knr\\_8}         &      -3.0017  &        1.060     &    -2.831  &         0.005        &       -5.080    &       -0.924     \\\\\n",
       "\\textbf{z\\_knr\\_10}        &       0.4608  &        0.761     &     0.606  &         0.545        &       -1.030    &        1.952     \\\\\n",
       "\\textbf{trafficarea\\_1}    &       0.3139  &        0.862     &     0.364  &         0.716        &       -1.375    &        2.003     \\\\\n",
       "\\textbf{trafficarea\\_2}    &      -2.5137  &        1.030     &    -2.441  &         0.015        &       -4.532    &       -0.495     \\\\\n",
       "\\textbf{r\\_width\\_1}       &      -0.5904  &        0.497     &    -1.187  &         0.235        &       -1.565    &        0.384     \\\\\n",
       "\\textbf{r\\_width\\_2}       &      -2.8335  &        1.001     &    -2.829  &         0.005        &       -4.796    &       -0.871     \\\\\n",
       "\\textbf{r\\_width\\_4}       &       0.1807  &        0.609     &     0.297  &         0.767        &       -1.013    &        1.374     \\\\\n",
       "\\textbf{r\\_width\\_5}       &       0.6598  &        0.543     &     1.215  &         0.224        &       -0.404    &        1.724     \\\\\n",
       "\\textbf{r\\_width\\_6}       &      -0.1428  &        0.691     &    -0.207  &         0.836        &       -1.497    &        1.211     \\\\\n",
       "\\textbf{r\\_surface\\_1}     &      25.6386  &     1.25e+05     &     0.000  &         1.000        &    -2.46e+05    &     2.46e+05     \\\\\n",
       "\\textbf{speedlimit\\_1}     &       2.2566  &        0.665     &     3.395  &         0.001        &        0.954    &        3.559     \\\\\n",
       "\\textbf{speedlimit\\_4}     &       7.9972  &        0.928     &     8.617  &         0.000        &        6.178    &        9.816     \\\\\n",
       "\\textbf{speedlimit\\_5}     &       3.4870  &        1.789     &     1.949  &         0.051        &       -0.020    &        6.994     \\\\\n",
       "\\bottomrule\n",
       "\\end{tabular}\n",
       "%\\caption{Logit Regression Results}\n",
       "\\end{center}"
      ],
      "text/plain": [
       "<class 'statsmodels.iolib.summary.Summary'>\n",
       "\"\"\"\n",
       "                           Logit Regression Results                           \n",
       "==============================================================================\n",
       "Dep. Variable:                    acp   No. Observations:                  760\n",
       "Model:                          Logit   Df Residuals:                      687\n",
       "Method:                           MLE   Df Model:                           72\n",
       "Date:                Fri, 25 Oct 2024   Pseudo R-squ.:                  0.6049\n",
       "Time:                        14:54:37   Log-Likelihood:                -173.05\n",
       "converged:                       True   LL-Null:                       -438.01\n",
       "Covariance Type:            nonrobust   LLR p-value:                 6.123e-71\n",
       "====================================================================================\n",
       "                       coef    std err          z      P>|z|      [0.025      0.975]\n",
       "------------------------------------------------------------------------------------\n",
       "const              -30.4916   1.25e+05     -0.000      1.000   -2.46e+05    2.46e+05\n",
       "cmean                0.1299      0.179      0.726      0.468      -0.220       0.480\n",
       "cmin                 0.1110      0.172      0.647      0.518      -0.225       0.448\n",
       "ie                  -0.0783      0.164     -0.477      0.633      -0.400       0.243\n",
       "mew                  0.1140      0.176      0.648      0.517      -0.231       0.459\n",
       "meg                 -0.0152      0.239     -0.064      0.949      -0.484       0.453\n",
       "megmax               0.0802      0.233      0.345      0.730      -0.376       0.536\n",
       "dbusl               -0.2326      0.217     -1.074      0.283      -0.657       0.192\n",
       "dtraml               0.3991      0.234      1.702      0.089      -0.061       0.859\n",
       "dtrainl              0.1026      0.184      0.558      0.577      -0.258       0.463\n",
       "dplight              0.0881      0.164      0.538      0.591      -0.233       0.409\n",
       "dstation             0.1183      0.218      0.544      0.587      -0.308       0.545\n",
       "dparkcar            -0.0679      0.191     -0.356      0.722      -0.441       0.306\n",
       "dparktw             -0.0012      0.192     -0.006      0.995      -0.378       0.376\n",
       "dpedcro             -0.1578      0.174     -0.906      0.365      -0.499       0.184\n",
       "dstopsign            0.1981      0.204      0.969      0.333      -0.203       0.599\n",
       "dtrafficarea         0.4430      0.231      1.920      0.055      -0.009       0.895\n",
       "droad               -0.1482      0.188     -0.789      0.430      -0.516       0.220\n",
       "dvfpath             -0.3731      0.194     -1.921      0.055      -0.754       0.008\n",
       "gvm_dwv             -0.3539      0.189     -1.873      0.061      -0.724       0.016\n",
       "bicyclecount        -0.1462      0.176     -0.829      0.407      -0.492       0.199\n",
       "carcount            -0.1154      0.176     -0.656      0.512      -0.460       0.229\n",
       "r_width_value       -0.5333      0.226     -2.358      0.018      -0.977      -0.090\n",
       "speedlimit_value    -1.5605      0.340     -4.590      0.000      -2.227      -0.894\n",
       "z_qnr_1              1.2822      1.030      1.245      0.213      -0.737       3.301\n",
       "z_qnr_2              0.2358      1.525      0.155      0.877      -2.753       3.225\n",
       "z_qnr_3             -1.4500      1.366     -1.061      0.289      -4.128       1.228\n",
       "z_qnr_4             -0.7630      1.669     -0.457      0.647      -4.033       2.507\n",
       "z_qnr_5              0.8531      1.312      0.650      0.515      -1.718       3.424\n",
       "z_qnr_6             -0.9289      1.270     -0.731      0.465      -3.419       1.561\n",
       "z_qnr_7              2.4992      1.360      1.838      0.066      -0.166       5.164\n",
       "z_qnr_8              1.5403      1.205      1.278      0.201      -0.822       3.903\n",
       "z_qnr_9             -0.2857      1.494     -0.191      0.848      -3.214       2.643\n",
       "z_qnr_10            -2.9555      1.047     -2.822      0.005      -5.009      -0.902\n",
       "z_qnr_11            -0.5851      0.972     -0.602      0.547      -2.491       1.321\n",
       "z_qnr_12            -0.1435      0.987     -0.145      0.884      -2.079       1.792\n",
       "z_qnr_13            -2.2995      1.152     -1.997      0.046      -4.556      -0.043\n",
       "z_qnr_14            -0.3407      1.205     -0.283      0.777      -2.702       2.020\n",
       "z_qnr_15            -0.2763      1.246     -0.222      0.825      -2.719       2.167\n",
       "z_qnr_16             2.6257      1.058      2.482      0.013       0.552       4.699\n",
       "z_qnr_17             2.0998      1.040      2.019      0.043       0.062       4.138\n",
       "z_qnr_19             1.9867      1.065      1.866      0.062      -0.101       4.074\n",
       "z_qnr_20            -0.3244      0.963     -0.337      0.736      -2.211       1.563\n",
       "z_qnr_21             3.5261      1.099      3.209      0.001       1.372       5.680\n",
       "z_qnr_22             2.8691      1.073      2.674      0.007       0.766       4.972\n",
       "z_qnr_23             0.6109      1.340      0.456      0.648      -2.015       3.237\n",
       "z_qnr_24            -0.1099      1.043     -0.105      0.916      -2.154       1.935\n",
       "z_qnr_25            -1.3673      1.077     -1.270      0.204      -3.478       0.743\n",
       "z_qnr_26            -1.8644      1.358     -1.373      0.170      -4.525       0.797\n",
       "z_qnr_27            -1.8881      1.895     -0.996      0.319      -5.602       1.826\n",
       "z_qnr_28            -0.5771      1.265     -0.456      0.648      -3.057       1.903\n",
       "z_qnr_29            -0.5030      1.280     -0.393      0.694      -3.011       2.005\n",
       "z_qnr_30           -10.1194    475.744     -0.021      0.983    -942.560     922.321\n",
       "z_qnr_31           -17.9528   1.03e+04     -0.002      0.999   -2.01e+04    2.01e+04\n",
       "z_qnr_32             0.0780      1.452      0.054      0.957      -2.767       2.923\n",
       "z_knr_2              0.8344      1.195      0.698      0.485      -1.508       3.177\n",
       "z_knr_3              1.2984      0.999      1.300      0.194      -0.659       3.256\n",
       "z_knr_4              3.3048      0.725      4.557      0.000       1.883       4.726\n",
       "z_knr_5              2.5457      0.767      3.318      0.001       1.042       4.050\n",
       "z_knr_7             -0.1938      0.789     -0.246      0.806      -1.740       1.352\n",
       "z_knr_8             -3.0017      1.060     -2.831      0.005      -5.080      -0.924\n",
       "z_knr_10             0.4608      0.761      0.606      0.545      -1.030       1.952\n",
       "trafficarea_1        0.3139      0.862      0.364      0.716      -1.375       2.003\n",
       "trafficarea_2       -2.5137      1.030     -2.441      0.015      -4.532      -0.495\n",
       "r_width_1           -0.5904      0.497     -1.187      0.235      -1.565       0.384\n",
       "r_width_2           -2.8335      1.001     -2.829      0.005      -4.796      -0.871\n",
       "r_width_4            0.1807      0.609      0.297      0.767      -1.013       1.374\n",
       "r_width_5            0.6598      0.543      1.215      0.224      -0.404       1.724\n",
       "r_width_6           -0.1428      0.691     -0.207      0.836      -1.497       1.211\n",
       "r_surface_1         25.6386   1.25e+05      0.000      1.000   -2.46e+05    2.46e+05\n",
       "speedlimit_1         2.2566      0.665      3.395      0.001       0.954       3.559\n",
       "speedlimit_4         7.9972      0.928      8.617      0.000       6.178       9.816\n",
       "speedlimit_5         3.4870      1.789      1.949      0.051      -0.020       6.994\n",
       "====================================================================================\n",
       "\"\"\""
      ]
     },
     "execution_count": 58,
     "metadata": {},
     "output_type": "execute_result"
    }
   ],
   "source": [
    "\n",
    "X_train1, X_test1, y_train1, y_test1 = train_test_split(\n",
    "        x_const, y,\n",
    "        test_size=0.3,\n",
    "        random_state=6)\n",
    "m00_log_split = sm.Logit(y_train1,X_train1, max_iter = 400)\n",
    "r00_log_split = m00_log_split.fit_regularized()\n",
    "r00_log_split.summary()"
   ]
  },
  {
   "cell_type": "code",
   "execution_count": 100,
   "id": "c5e3c184-9c58-4804-abd8-016bddd56438",
   "metadata": {
    "execution": {
     "iopub.execute_input": "2024-10-25T13:25:16.014097Z",
     "iopub.status.busy": "2024-10-25T13:25:16.013530Z",
     "iopub.status.idle": "2024-10-25T13:25:16.020584Z",
     "shell.execute_reply": "2024-10-25T13:25:16.019990Z",
     "shell.execute_reply.started": "2024-10-25T13:25:16.014080Z"
    }
   },
   "outputs": [
    {
     "name": "stdout",
     "output_type": "stream",
     "text": [
      "0.6049162891624101\n",
      "                             0  sig\n",
      "r_width_value     1.836559e-02    *\n",
      "speedlimit_value  4.442721e-06  ***\n",
      "z_qnr_10          4.779238e-03   **\n",
      "z_qnr_13          4.583431e-02    *\n",
      "z_qnr_16          1.305665e-02    *\n",
      "z_qnr_17          4.347246e-02    *\n",
      "z_qnr_21          1.332527e-03   **\n",
      "z_qnr_22          7.492775e-03   **\n",
      "z_knr_4           5.183962e-06  ***\n",
      "z_knr_5           9.078991e-04  ***\n",
      "z_knr_8           4.640612e-03   **\n",
      "trafficarea_2     1.465614e-02    *\n",
      "r_width_2         4.662701e-03   **\n",
      "speedlimit_1      6.872641e-04  ***\n",
      "speedlimit_4      6.858414e-18  ***\n",
      "15\n"
     ]
    }
   ],
   "source": [
    "print(r00_log_split.prsquared)\n",
    "printsig(r00_log_split)"
   ]
  },
  {
   "cell_type": "code",
   "execution_count": 59,
   "id": "3805abdf-feee-4089-9fb4-99c8b012212f",
   "metadata": {
    "execution": {
     "iopub.execute_input": "2024-10-25T12:54:37.114869Z",
     "iopub.status.busy": "2024-10-25T12:54:37.114439Z",
     "iopub.status.idle": "2024-10-25T12:54:37.260851Z",
     "shell.execute_reply": "2024-10-25T12:54:37.260229Z",
     "shell.execute_reply.started": "2024-10-25T12:54:37.114848Z"
    }
   },
   "outputs": [
    {
     "name": "stdout",
     "output_type": "stream",
     "text": [
      "0.9051987767584098\n",
      "\n",
      "Test accuracy : \n",
      " 0.9051987767584098\n",
      "\n",
      "Confusion Matrix : \n",
      " [[220  12]\n",
      " [ 19  76]]\n",
      "accuracy 0.9051987767584098\n",
      "precision [0.92050209 0.86363636]\n",
      "sensitivity recall [0.94827586 0.8       ]\n",
      "f1 score [0.93418259 0.83060109]\n",
      "mean precision 0.8920692278432865\n",
      "mean recall 0.8741379310344828\n",
      "mean f1 score 0.8823918415648603\n"
     ]
    },
    {
     "data": {
      "image/png": "[encoded data removed]",
      "text/plain": [
       "<Figure size 640x480 with 2 Axes>"
      ]
     },
     "metadata": {},
     "output_type": "display_data"
    }
   ],
   "source": [
    "pred00log_split = r00_log.predict(X_test1)\n",
    "pred00log_split = list(map(round,pred00log_split))\n",
    "print(accuracy_score(y_test1, pred00log_split))\n",
    "print('\\nTest accuracy : \\n', accuracy_score(y_test1, pred00log_split))\n",
    "cm00log_split = confusion_matrix(y_test1, pred00log_split) \n",
    "print ('\\nConfusion Matrix : \\n', cm00log_split)\n",
    "cm00log_split_display = metrics.ConfusionMatrixDisplay(confusion_matrix = cm00log_split)\n",
    "cm00log_split_display.plot()\n",
    "\n",
    "acc_log_split = metrics.accuracy_score(y_test1, pred00log_split)\n",
    "print('accuracy', acc_log_split)\n",
    "\n",
    "pre_log_split = metrics.precision_score(y_test1, pred00log_split, average = None)\n",
    "print('precision', pre_log_split)\n",
    "\n",
    "senrec_log_split = metrics.recall_score(y_test1, pred00log_split, average = None)\n",
    "print('sensitivity recall', senrec_log_split)\n",
    "\n",
    "f1_log_split = metrics.f1_score(y_test1, pred00log_split, average = None)\n",
    "print('f1 score', f1_log_split)\n",
    "\n",
    "pre_log_split_m = np.mean(pre_log_split)\n",
    "senrec_log_split_m = np.mean(senrec_log_split)\n",
    "f1_log_split_m = np.mean(f1_log_split)\n",
    "print('mean precision', pre_log_split_m)\n",
    "print('mean recall', senrec_log_split_m)\n",
    "print('mean f1 score', f1_log_split_m)"
   ]
  },
  {
   "cell_type": "markdown",
   "id": "128882ea-f6d9-4b7f-859a-71387313f4e0",
   "metadata": {},
   "source": [
    "# Step wise feature selection"
   ]
  },
  {
   "cell_type": "code",
   "execution_count": 3,
   "id": "e995a9c3",
   "metadata": {},
   "outputs": [],
   "source": [
    "# Check sklearn metrics name for feature selection\n",
    "# sklearn.metrics.get_scorer_names()"
   ]
  },
  {
   "cell_type": "markdown",
   "id": "9e07aaa1-688d-4e10-935b-76a1a8966f6b",
   "metadata": {
    "jp-MarkdownHeadingCollapsed": true
   },
   "source": [
    "## Ordinary Least Squares Regression model"
   ]
  },
  {
   "cell_type": "markdown",
   "id": "8f695bb3-dd7f-414d-95af-2cc2fef57c9a",
   "metadata": {},
   "source": [
    "### Sequential forward floating selection"
   ]
  },
  {
   "cell_type": "code",
   "execution_count": 51,
   "id": "b7b7d96a-1b38-41b4-bf2a-b99991852105",
   "metadata": {
    "execution": {
     "iopub.execute_input": "2024-10-22T06:16:39.946512Z",
     "iopub.status.busy": "2024-10-22T06:16:39.944791Z",
     "iopub.status.idle": "2024-10-22T06:16:45.623163Z",
     "shell.execute_reply": "2024-10-22T06:16:45.621822Z",
     "shell.execute_reply.started": "2024-10-22T06:16:39.946470Z"
    }
   },
   "outputs": [
    {
     "name": "stderr",
     "output_type": "stream",
     "text": [
      "\n",
      "STOPPING EARLY DUE TO KEYBOARD INTERRUPT..."
     ]
    },
    {
     "name": "stdout",
     "output_type": "stream",
     "text": [
      "None\n"
     ]
    },
    {
     "ename": "TypeError",
     "evalue": "object of type 'NoneType' has no len()",
     "output_type": "error",
     "traceback": [
      "\u001b[0;31m---------------------------------------------------------------------------\u001b[0m",
      "\u001b[0;31mTypeError\u001b[0m                                 Traceback (most recent call last)",
      "Cell \u001b[0;32mIn[51], line 4\u001b[0m\n\u001b[1;32m      2\u001b[0m sffslin0 \u001b[38;5;241m=\u001b[39m featureselection_lin(\u001b[38;5;28;01mTrue\u001b[39;00m, \u001b[38;5;124m'\u001b[39m\u001b[38;5;124mneg_mean_squared_error\u001b[39m\u001b[38;5;124m'\u001b[39m, \u001b[38;5;241m5\u001b[39m, x, y) \n\u001b[1;32m      3\u001b[0m \u001b[38;5;28mprint\u001b[39m(sffslin0\u001b[38;5;241m.\u001b[39mk_feature_names_)\n\u001b[0;32m----> 4\u001b[0m \u001b[38;5;28mprint\u001b[39m(\u001b[38;5;28;43mlen\u001b[39;49m\u001b[43m(\u001b[49m\u001b[43msffslin0\u001b[49m\u001b[38;5;241;43m.\u001b[39;49m\u001b[43mk_feature_names_\u001b[49m\u001b[43m)\u001b[49m)\n\u001b[1;32m      5\u001b[0m \u001b[38;5;28mprint\u001b[39m(sffslin0\u001b[38;5;241m.\u001b[39mk_score_)\n",
      "\u001b[0;31mTypeError\u001b[0m: object of type 'NoneType' has no len()"
     ]
    }
   ],
   "source": [
    "# # n = best, linear regression, scoring = neg_mean_squared_error, cv = 5\n",
    "sffslin0 = featureselection_lin(True, 'neg_mean_squared_error', 5, x, y) \n",
    "print(sffslin0.k_feature_names_)\n",
    "print(len(sffslin0.k_feature_names_))\n",
    "print(sffslin0.k_score_)\n"
   ]
  },
  {
   "cell_type": "code",
   "execution_count": null,
   "id": "7717119b-51d8-4973-a3d4-b0f438d59d6d",
   "metadata": {
    "execution": {
     "iopub.status.busy": "2024-10-22T06:16:45.625022Z",
     "iopub.status.idle": "2024-10-22T06:16:45.625409Z",
     "shell.execute_reply": "2024-10-22T06:16:45.625236Z",
     "shell.execute_reply.started": "2024-10-22T06:16:45.625216Z"
    }
   },
   "outputs": [],
   "source": [
    "# # n = best, linear regression, scoring = neg_mean_squared_error, cv = 10\n",
    "sffslin1 = featureselection_lin(True, 'neg_mean_squared_error', 10, x, y) \n",
    "print(sffslin1.k_feature_names_)\n",
    "print(len(sffslin1.k_feature_names_))\n",
    "print(sffslin1.k_score_)\n"
   ]
  },
  {
   "cell_type": "code",
   "execution_count": 114,
   "id": "88db8602-533d-4912-8cee-7c215a85923b",
   "metadata": {
    "execution": {
     "iopub.execute_input": "2024-09-20T15:41:21.019068Z",
     "iopub.status.busy": "2024-09-20T15:41:21.018622Z",
     "iopub.status.idle": "2024-09-20T15:41:21.022660Z",
     "shell.execute_reply": "2024-09-20T15:41:21.021938Z",
     "shell.execute_reply.started": "2024-09-20T15:41:21.019048Z"
    }
   },
   "outputs": [],
   "source": [
    "# # # n = best, linear regression, scoring = neg_mean_squared_error, cv = 15\n",
    "# print(selected_features6.k_feature_names_)\n",
    "# print(len(selected_features6.k_feature_names_))\n",
    "# print(selected_features6.k_score_)\n",
    "# # 34"
   ]
  },
  {
   "cell_type": "code",
   "execution_count": 115,
   "id": "0af8f11f-99be-43f5-8010-0be0cad875ac",
   "metadata": {
    "execution": {
     "iopub.execute_input": "2024-09-20T15:41:21.932140Z",
     "iopub.status.busy": "2024-09-20T15:41:21.931722Z",
     "iopub.status.idle": "2024-09-20T15:41:21.936545Z",
     "shell.execute_reply": "2024-09-20T15:41:21.935071Z",
     "shell.execute_reply.started": "2024-09-20T15:41:21.932120Z"
    }
   },
   "outputs": [],
   "source": [
    "# # # n = best, linear regression, scoring = neg_mean_squared_error, cv = 20\n",
    "# print(selected_features7.k_feature_names_)\n",
    "# print(len(selected_features7.k_feature_names_))\n",
    "# print(selected_features7.k_score_)\n",
    "# 37"
   ]
  },
  {
   "cell_type": "code",
   "execution_count": 117,
   "id": "ce242bce-b9b8-4849-ab1c-938d39fb36d3",
   "metadata": {
    "execution": {
     "iopub.execute_input": "2024-09-20T15:41:56.183296Z",
     "iopub.status.busy": "2024-09-20T15:41:56.182605Z",
     "iopub.status.idle": "2024-09-20T15:42:41.250473Z",
     "shell.execute_reply": "2024-09-20T15:42:41.249792Z",
     "shell.execute_reply.started": "2024-09-20T15:41:56.183271Z"
    }
   },
   "outputs": [
    {
     "name": "stdout",
     "output_type": "stream",
     "text": [
      "('ie', 'mew', 'cmin', 'dstopsign', 'dvfpath', 'r_width_value', 'speedlimit_value', 'z_qnr_3', 'z_qnr_10', 'z_qnr_11', 'z_qnr_13', 'z_qnr_14', 'z_qnr_23', 'z_knr_5', 'z_knr_6', 'z_knr_7', 'z_knr_9', 'r_width_1', 'r_width_3', 'r_width_4', 'r_width_5', 'r_width_6', 'r_surface_1', 'speedlimit_1', 'speedlimit_4')\n",
      "25\n",
      "0.09083514182795516\n"
     ]
    }
   ],
   "source": [
    "# # n = best, linear regression, scoring = r2, cv = 5\n",
    "sffslin2 = featureselection_lin(True, 'r2', 5, x, y) \n",
    "print(sffslin2.k_feature_names_)\n",
    "print(len(sffslin2.k_feature_names_))\n",
    "print(sffslin2.k_score_)"
   ]
  },
  {
   "cell_type": "code",
   "execution_count": 131,
   "id": "fa7612cf-e8b3-49e4-abcc-0bc257beec93",
   "metadata": {
    "execution": {
     "iopub.execute_input": "2024-09-20T15:47:46.432099Z",
     "iopub.status.busy": "2024-09-20T15:47:46.431126Z",
     "iopub.status.idle": "2024-09-20T15:48:47.184191Z",
     "shell.execute_reply": "2024-09-20T15:48:47.183580Z",
     "shell.execute_reply.started": "2024-09-20T15:47:46.432080Z"
    }
   },
   "outputs": [
    {
     "name": "stdout",
     "output_type": "stream",
     "text": [
      "('cp', 'ie', 'mew', 'megmax', 'dparktw', 'dpedcro', 'dstopsign', 'droad', 'r_width_value', 'speedlimit_value', 'z_qnr_2', 'z_qnr_3', 'z_qnr_4', 'z_qnr_6', 'z_qnr_9', 'z_qnr_10', 'z_qnr_12', 'z_qnr_13', 'z_qnr_14', 'z_qnr_15', 'z_qnr_16', 'z_qnr_18', 'z_qnr_23', 'z_qnr_25', 'z_qnr_27', 'z_qnr_30', 'z_qnr_31', 'z_qnr_32', 'z_knr_1', 'z_knr_2', 'z_knr_6', 'z_knr_7', 'z_knr_8', 'z_knr_11', 'r_width_1', 'r_width_3', 'r_width_4', 'r_width_5', 'r_width_6', 'r_surface_1', 'speedlimit_1', 'speedlimit_4', 'speedlimit_5')\n",
      "43\n",
      "-0.003116770937851121\n"
     ]
    }
   ],
   "source": [
    "# n = best, linear regression, scoring = r2, cv = 10\n",
    "sffslin3 = featureselection_lin(True, 'r2', 10, x, y) \n",
    "print(sffslin3.k_feature_names_)\n",
    "print(len(sffslin3.k_feature_names_))\n",
    "print(sffslin3.k_score_)"
   ]
  },
  {
   "cell_type": "code",
   "execution_count": 118,
   "id": "70516ca0-3694-4562-9425-d90231b30065",
   "metadata": {
    "execution": {
     "iopub.execute_input": "2024-09-20T15:42:41.252158Z",
     "iopub.status.busy": "2024-09-20T15:42:41.251977Z",
     "iopub.status.idle": "2024-09-20T15:42:41.255311Z",
     "shell.execute_reply": "2024-09-20T15:42:41.254805Z",
     "shell.execute_reply.started": "2024-09-20T15:42:41.252143Z"
    }
   },
   "outputs": [],
   "source": [
    "# # # n = best, linear regression, scoring = r2, cv = 15\n",
    "# print(selected_features9.k_feature_names_)\n",
    "# print(len(selected_features9.k_feature_names_))\n",
    "# print(selected_features9.k_score_)\n",
    "# # 59"
   ]
  },
  {
   "cell_type": "code",
   "execution_count": 119,
   "id": "3f8d5b7f-134e-494d-82cb-1b7bf8020abd",
   "metadata": {
    "execution": {
     "iopub.execute_input": "2024-09-20T15:42:41.256004Z",
     "iopub.status.busy": "2024-09-20T15:42:41.255865Z",
     "iopub.status.idle": "2024-09-20T15:42:41.266994Z",
     "shell.execute_reply": "2024-09-20T15:42:41.266464Z",
     "shell.execute_reply.started": "2024-09-20T15:42:41.255991Z"
    }
   },
   "outputs": [],
   "source": [
    "# # # n = best, linear regression, scoring = r2, cv = 20\n",
    "# print(selected_features10.k_feature_names_)\n",
    "# print(len(selected_features10.k_feature_names_))\n",
    "# print(selected_features10.k_score_)\n",
    "# # 73"
   ]
  },
  {
   "cell_type": "code",
   "execution_count": 120,
   "id": "e03c0b1f-c624-49c0-8783-5e30b9c2e46f",
   "metadata": {
    "execution": {
     "iopub.execute_input": "2024-09-20T15:43:04.832379Z",
     "iopub.status.busy": "2024-09-20T15:43:04.830776Z",
     "iopub.status.idle": "2024-09-20T15:43:58.561744Z",
     "shell.execute_reply": "2024-09-20T15:43:58.561033Z",
     "shell.execute_reply.started": "2024-09-20T15:43:04.832357Z"
    }
   },
   "outputs": [
    {
     "name": "stdout",
     "output_type": "stream",
     "text": [
      "('z_qnr_7', 'trafficarea_2', 'r_width_4', 'speedlimit_1', 'speedlimit_4')\n",
      "5\n",
      "-0.18490933143765312\n"
     ]
    }
   ],
   "source": [
    "# # # n = best, linear regression, scoring = neg median absolute error, cv = 5\n",
    "sffslin4 = featureselection_lin(True, 'neg_median_absolute_error', 5, x, y) \n",
    "print(sffslin4.k_feature_names_)\n",
    "print(len(sffslin4.k_feature_names_))\n",
    "print(sffslin4.k_score_)"
   ]
  },
  {
   "cell_type": "code",
   "execution_count": 133,
   "id": "70bfd1b1-267e-4c77-8197-768721021845",
   "metadata": {
    "execution": {
     "iopub.execute_input": "2024-09-20T15:49:05.450295Z",
     "iopub.status.busy": "2024-09-20T15:49:05.450037Z",
     "iopub.status.idle": "2024-09-20T15:50:54.902982Z",
     "shell.execute_reply": "2024-09-20T15:50:54.902206Z",
     "shell.execute_reply.started": "2024-09-20T15:49:05.450278Z"
    }
   },
   "outputs": [
    {
     "name": "stdout",
     "output_type": "stream",
     "text": [
      "('r_width_value', 'speedlimit_value', 'z_qnr_20', 'z_qnr_22', 'z_qnr_26', 'trafficarea_2', 'r_width_3', 'r_width_4', 'r_width_5', 'r_width_6', 'r_surface_1', 'speedlimit_4')\n",
      "12\n",
      "-0.13157577362107836\n"
     ]
    }
   ],
   "source": [
    "# # # n = best, linear regression, scoring = neg median absolute error, cv = 10\n",
    "sffslin5 = featureselection_lin(True, 'neg_median_absolute_error', 10, x, y) \n",
    "print(sffslin5.k_feature_names_)\n",
    "print(len(sffslin5.k_feature_names_))\n",
    "print(sffslin5.k_score_)"
   ]
  },
  {
   "cell_type": "code",
   "execution_count": 121,
   "id": "9eef5e5f-dea7-46ba-91fb-0706028a604b",
   "metadata": {
    "execution": {
     "iopub.execute_input": "2024-09-20T15:43:58.563083Z",
     "iopub.status.busy": "2024-09-20T15:43:58.562917Z",
     "iopub.status.idle": "2024-09-20T15:43:58.565675Z",
     "shell.execute_reply": "2024-09-20T15:43:58.565075Z",
     "shell.execute_reply.started": "2024-09-20T15:43:58.563068Z"
    }
   },
   "outputs": [],
   "source": [
    "# # # n = best, linear regression, scoring = neg median absolute error, cv = 15\n",
    "# print(selected_features12.k_feature_names_)\n",
    "# print(len(selected_features12.k_feature_names_))\n",
    "# print(selected_features12.k_score_)\n",
    "# 21"
   ]
  },
  {
   "cell_type": "code",
   "execution_count": 122,
   "id": "48e725d7-8fb6-4909-9b6b-46db5356a235",
   "metadata": {
    "execution": {
     "iopub.execute_input": "2024-09-20T15:43:58.566613Z",
     "iopub.status.busy": "2024-09-20T15:43:58.566469Z",
     "iopub.status.idle": "2024-09-20T15:43:58.576171Z",
     "shell.execute_reply": "2024-09-20T15:43:58.575615Z",
     "shell.execute_reply.started": "2024-09-20T15:43:58.566601Z"
    }
   },
   "outputs": [],
   "source": [
    "# # n = best, linear regression, scoring = neg median absolute error, cv = 20\n",
    "# print(selected_features13.k_feature_names_)\n",
    "# print(len(selected_features13.k_feature_names_))\n",
    "# print(selected_features13.k_score_)\n",
    "# # 11"
   ]
  },
  {
   "cell_type": "code",
   "execution_count": 125,
   "id": "3c4446c6-6797-42f7-b2f9-78eac7c93c66",
   "metadata": {
    "execution": {
     "iopub.execute_input": "2024-09-20T15:45:44.486796Z",
     "iopub.status.busy": "2024-09-20T15:45:44.486475Z",
     "iopub.status.idle": "2024-09-20T15:46:21.572811Z",
     "shell.execute_reply": "2024-09-20T15:46:21.572131Z",
     "shell.execute_reply.started": "2024-09-20T15:45:44.486780Z"
    }
   },
   "outputs": [
    {
     "name": "stdout",
     "output_type": "stream",
     "text": [
      "('dtrafficarea', 'z_qnr_10', 'trafficarea_2', 'r_width_4', 'r_width_5', 'r_surface_1', 'speedlimit_1', 'speedlimit_3', 'speedlimit_4', 'speedlimit_5')\n",
      "10\n",
      "-0.28187575192075237\n"
     ]
    }
   ],
   "source": [
    "# # # n = best, linear regression, scoring = neg mean absolute error, cv = 5\n",
    "sffslin6 = featureselection_lin(True, 'neg_mean_absolute_error', 5, x, y) \n",
    "print(sffslin6.k_feature_names_)\n",
    "print(len(sffslin6.k_feature_names_))\n",
    "print(sffslin6.k_score_)"
   ]
  },
  {
   "cell_type": "code",
   "execution_count": 124,
   "id": "580d72e6-f3d6-4de9-ae2f-b7880b0d9a53",
   "metadata": {
    "execution": {
     "iopub.execute_input": "2024-09-20T15:44:57.963080Z",
     "iopub.status.busy": "2024-09-20T15:44:57.962919Z",
     "iopub.status.idle": "2024-09-20T15:45:44.485640Z",
     "shell.execute_reply": "2024-09-20T15:45:44.484964Z",
     "shell.execute_reply.started": "2024-09-20T15:44:57.963065Z"
    }
   },
   "outputs": [
    {
     "name": "stdout",
     "output_type": "stream",
     "text": [
      "('dplight', 'r_width_value', 'speedlimit_value', 'z_qnr_23', 'z_qnr_26', 'z_knr_4', 'z_knr_9', 'trafficarea_2', 'r_width_3', 'r_width_4', 'r_width_5', 'r_width_6', 'r_surface_1', 'speedlimit_4')\n",
      "14\n",
      "-0.2420524177831998\n"
     ]
    }
   ],
   "source": [
    "# # # n = best, linear regression, scoring = neg mean absolute error, cv = 10\n",
    "sffslin7 = featureselection_lin(True, 'neg_mean_absolute_error', 10, x, y) \n",
    "print(sffslin7.k_feature_names_)\n",
    "print(len(sffslin7.k_feature_names_))\n",
    "print(sffslin7.k_score_)"
   ]
  },
  {
   "cell_type": "code",
   "execution_count": 126,
   "id": "473c4fef-064b-4603-853c-ceb45c57eb62",
   "metadata": {
    "execution": {
     "iopub.execute_input": "2024-09-20T15:46:21.574304Z",
     "iopub.status.busy": "2024-09-20T15:46:21.574132Z",
     "iopub.status.idle": "2024-09-20T15:46:21.577058Z",
     "shell.execute_reply": "2024-09-20T15:46:21.576572Z",
     "shell.execute_reply.started": "2024-09-20T15:46:21.574288Z"
    }
   },
   "outputs": [],
   "source": [
    "# # n = best, linear regression, scoring = neg mean absolute error, cv = 15\n",
    "# print(selected_features15.k_feature_names_)\n",
    "# print(len(selected_features15.k_feature_names_))\n",
    "# print(selected_features15.k_score_)\n",
    "# # 24"
   ]
  },
  {
   "cell_type": "code",
   "execution_count": 127,
   "id": "9bad9eae-dc35-41ef-84f1-f25b0f8d7622",
   "metadata": {
    "execution": {
     "iopub.execute_input": "2024-09-20T15:46:21.577738Z",
     "iopub.status.busy": "2024-09-20T15:46:21.577577Z",
     "iopub.status.idle": "2024-09-20T15:46:21.589237Z",
     "shell.execute_reply": "2024-09-20T15:46:21.588739Z",
     "shell.execute_reply.started": "2024-09-20T15:46:21.577725Z"
    }
   },
   "outputs": [],
   "source": [
    "# # # n = best, linear regression, scoring = neg mean absolute error, cv = 20\n",
    "# print(selected_features16.k_feature_names_)\n",
    "# print(len(selected_features16.k_feature_names_))\n",
    "# print(selected_features16.k_score_)\n",
    "# # 22"
   ]
  },
  {
   "cell_type": "code",
   "execution_count": 135,
   "id": "ed4ea5e7-5942-46d6-abdc-c5ae3aeb66aa",
   "metadata": {
    "execution": {
     "iopub.execute_input": "2024-09-20T15:51:22.980522Z",
     "iopub.status.busy": "2024-09-20T15:51:22.979679Z",
     "iopub.status.idle": "2024-09-20T15:51:22.984347Z",
     "shell.execute_reply": "2024-09-20T15:51:22.983812Z",
     "shell.execute_reply.started": "2024-09-20T15:51:22.980500Z"
    }
   },
   "outputs": [],
   "source": [
    "selected_columns_linr_sffs = []\n",
    "selected_columns_linr_sffs = {'nmse_cv5':list(sffslin0.k_feature_names_), \n",
    "                              'nmse_cv10':list(sffslin1.k_feature_names_), \n",
    "                              'r2_cv5':list(sffslin2.k_feature_names_), \n",
    "                              'r2_cv10':list(sffslin3.k_feature_names_), \n",
    "                              'nmedae_cv5':list(sffslin4.k_feature_names_), \n",
    "                              'nmedae_cv10':list(sffslin5.k_feature_names_), \n",
    "                              'nmeae_cv5':list(sffslin6.k_feature_names_), \n",
    "                              'nmeae_cv10':list(sffslin7.k_feature_names_)}"
   ]
  },
  {
   "cell_type": "code",
   "execution_count": 136,
   "id": "c349dec0-822c-45c3-ac7e-0230b3267ab7",
   "metadata": {
    "execution": {
     "iopub.execute_input": "2024-09-20T15:51:24.495880Z",
     "iopub.status.busy": "2024-09-20T15:51:24.495224Z",
     "iopub.status.idle": "2024-09-20T15:51:24.502130Z",
     "shell.execute_reply": "2024-09-20T15:51:24.501584Z",
     "shell.execute_reply.started": "2024-09-20T15:51:24.495859Z"
    }
   },
   "outputs": [],
   "source": [
    "df_sf_linr_sffs = pd.DataFrame(dict([(k,pd.Series(v)) for k,v in selected_columns_linr_sffs.items()]))"
   ]
  },
  {
   "cell_type": "code",
   "execution_count": 137,
   "id": "e49537ed-5015-496f-b153-79e8112628fd",
   "metadata": {
    "execution": {
     "iopub.execute_input": "2024-09-20T15:52:06.676896Z",
     "iopub.status.busy": "2024-09-20T15:52:06.675829Z",
     "iopub.status.idle": "2024-09-20T15:52:06.687292Z",
     "shell.execute_reply": "2024-09-20T15:52:06.686738Z",
     "shell.execute_reply.started": "2024-09-20T15:52:06.676845Z"
    }
   },
   "outputs": [],
   "source": [
    "df_sf_linr_sffs.to_csv('/home/yelhe/script/mtp/tables/updated_sffs_linearreg.csv', index = True)"
   ]
  },
  {
   "cell_type": "code",
   "execution_count": 152,
   "id": "16d38534-395b-4230-a4ca-49ef5b9fcddb",
   "metadata": {
    "execution": {
     "iopub.execute_input": "2024-09-20T15:53:12.209651Z",
     "iopub.status.busy": "2024-09-20T15:53:12.209201Z",
     "iopub.status.idle": "2024-09-20T15:53:12.212353Z",
     "shell.execute_reply": "2024-09-20T15:53:12.211937Z",
     "shell.execute_reply.started": "2024-09-20T15:53:12.209631Z"
    }
   },
   "outputs": [],
   "source": [
    "# selected_columns = list(sffslin.k_feature_names_)\n"
   ]
  },
  {
   "cell_type": "code",
   "execution_count": 257,
   "id": "1e8eeea1-6516-48e7-88bc-8ac98d223fa2",
   "metadata": {
    "execution": {
     "iopub.execute_input": "2024-09-20T16:49:06.940495Z",
     "iopub.status.busy": "2024-09-20T16:49:06.940256Z",
     "iopub.status.idle": "2024-09-20T16:49:06.943380Z",
     "shell.execute_reply": "2024-09-20T16:49:06.942866Z",
     "shell.execute_reply.started": "2024-09-20T16:49:06.940479Z"
    },
    "scrolled": true
   },
   "outputs": [],
   "source": [
    "# # OLS\n",
    "# df_selected = dfacrpv[selected_columns]\n",
    "\n",
    "# m0 = sm.OLS(y, df_selected)\n",
    "# r0 = m0.fit()\n",
    "# r0.summary()"
   ]
  },
  {
   "cell_type": "markdown",
   "id": "165da463-0e31-4348-af57-0403dd3f29ed",
   "metadata": {},
   "source": [
    "### Sequential backward floating selection"
   ]
  },
  {
   "cell_type": "code",
   "execution_count": 154,
   "id": "f531ac9b-d567-4f0c-ab02-09733e44b31d",
   "metadata": {
    "execution": {
     "iopub.execute_input": "2024-09-20T15:54:18.114994Z",
     "iopub.status.busy": "2024-09-20T15:54:18.114108Z",
     "iopub.status.idle": "2024-09-20T15:54:38.319740Z",
     "shell.execute_reply": "2024-09-20T15:54:38.319039Z",
     "shell.execute_reply.started": "2024-09-20T15:54:18.114938Z"
    }
   },
   "outputs": [
    {
     "name": "stdout",
     "output_type": "stream",
     "text": [
      "('dtrafficarea', 'droad', 'z_qnr_10', 'z_qnr_30', 'z_qnr_31', 'z_knr_8', 'trafficarea_2', 'r_width_4', 'r_width_5', 'r_width_6', 'r_surface_1', 'speedlimit_3', 'speedlimit_4', 'speedlimit_5')\n",
      "14\n",
      "-0.1468143631396745\n"
     ]
    }
   ],
   "source": [
    "# # n = best, linear regression, backward, scoring = neg_mean_squared_error, cv = 5\n",
    "sbfslin0 = featureselection_lin(False, 'neg_mean_squared_error', 5, x, y) \n",
    "print(sbfslin0.k_feature_names_)\n",
    "print(len(sbfslin0.k_feature_names_))\n",
    "print(sbfslin0.k_score_)"
   ]
  },
  {
   "cell_type": "code",
   "execution_count": 155,
   "id": "46dba83a-ad2c-4e0f-8b3f-94dae9279c2a",
   "metadata": {
    "execution": {
     "iopub.execute_input": "2024-09-20T15:54:43.854289Z",
     "iopub.status.busy": "2024-09-20T15:54:43.853832Z",
     "iopub.status.idle": "2024-09-20T15:55:12.137600Z",
     "shell.execute_reply": "2024-09-20T15:55:12.136944Z",
     "shell.execute_reply.started": "2024-09-20T15:54:43.854270Z"
    }
   },
   "outputs": [
    {
     "name": "stdout",
     "output_type": "stream",
     "text": [
      "('ie', 'dvfpath', 'r_width_value', 'speedlimit_value', 'z_qnr_10', 'z_qnr_23', 'z_qnr_25', 'z_qnr_26', 'z_knr_4', 'z_knr_9', 'trafficarea_2', 'r_width_1', 'r_width_2', 'r_width_3', 'r_width_4', 'r_width_5', 'r_width_6', 'r_surface_1', 'speedlimit_3', 'speedlimit_4')\n",
      "20\n",
      "-0.12100686105804259\n"
     ]
    }
   ],
   "source": [
    "# # n = best, linear regression, backward, scoring = neg_mean_squared_error, cv = 10\n",
    "sbfslin1 = featureselection_lin(False, 'neg_mean_squared_error', 10, x, y) \n",
    "print(sbfslin1.k_feature_names_)\n",
    "print(len(sbfslin1.k_feature_names_))\n",
    "print(sbfslin1.k_score_)\n"
   ]
  },
  {
   "cell_type": "code",
   "execution_count": 156,
   "id": "3e45e3c2-abef-439f-bcc6-7680fe6b4f7e",
   "metadata": {
    "execution": {
     "iopub.execute_input": "2024-09-20T15:55:12.138868Z",
     "iopub.status.busy": "2024-09-20T15:55:12.138701Z",
     "iopub.status.idle": "2024-09-20T15:55:12.141642Z",
     "shell.execute_reply": "2024-09-20T15:55:12.141163Z",
     "shell.execute_reply.started": "2024-09-20T15:55:12.138853Z"
    }
   },
   "outputs": [],
   "source": [
    "# # n = best, linear regression, backward, scoring = neg_mean_squared_error, cv = 15\n",
    "# print(sbfs2.k_feature_names_)\n",
    "# print(len(sbfs2.k_feature_names_))\n",
    "# print(sbfs2.k_score_)\n",
    "# # 26"
   ]
  },
  {
   "cell_type": "code",
   "execution_count": 157,
   "id": "7199ef07-1051-4e11-a704-988f7d21bd4e",
   "metadata": {
    "execution": {
     "iopub.execute_input": "2024-09-20T15:55:12.142395Z",
     "iopub.status.busy": "2024-09-20T15:55:12.142242Z",
     "iopub.status.idle": "2024-09-20T15:55:12.154675Z",
     "shell.execute_reply": "2024-09-20T15:55:12.154113Z",
     "shell.execute_reply.started": "2024-09-20T15:55:12.142381Z"
    }
   },
   "outputs": [],
   "source": [
    "# # n = best, linear regression, backward, scoring = neg_mean_squared_error, cv = 20\n",
    "# print(sbfs3.k_feature_names_)\n",
    "# print(len(sbfs3.k_feature_names_))\n",
    "# print(sbfs3.k_score_)\n",
    "# # 52"
   ]
  },
  {
   "cell_type": "code",
   "execution_count": 158,
   "id": "e91657a5-b828-4141-aad7-2c78c47a0ede",
   "metadata": {
    "execution": {
     "iopub.execute_input": "2024-09-20T15:55:20.586267Z",
     "iopub.status.busy": "2024-09-20T15:55:20.585781Z",
     "iopub.status.idle": "2024-09-20T15:56:03.891451Z",
     "shell.execute_reply": "2024-09-20T15:56:03.890780Z",
     "shell.execute_reply.started": "2024-09-20T15:55:20.586248Z"
    }
   },
   "outputs": [
    {
     "name": "stdout",
     "output_type": "stream",
     "text": [
      "('ie', 'mew', 'cmin', 'dstopsign', 'dvfpath', 'r_width_value', 'speedlimit_value', 'z_qnr_3', 'z_qnr_10', 'z_qnr_11', 'z_qnr_13', 'z_qnr_14', 'z_qnr_23', 'z_knr_5', 'z_knr_6', 'z_knr_7', 'z_knr_9', 'r_width_1', 'r_width_3', 'r_width_4', 'r_width_5', 'r_width_6', 'r_surface_1', 'speedlimit_1', 'speedlimit_4')\n",
      "25\n",
      "0.09083514182795516\n"
     ]
    }
   ],
   "source": [
    "# # n = best, linear regression, backward, scoring = r2, cv = 5\n",
    "sbfslin2 = featureselection_lin(False, 'r2', 5, x, y) \n",
    "print(sbfslin2.k_feature_names_)\n",
    "print(len(sbfslin2.k_feature_names_))\n",
    "print(sbfslin2.k_score_)"
   ]
  },
  {
   "cell_type": "code",
   "execution_count": 159,
   "id": "881471b7-90c3-4d41-b317-2fd906d67a99",
   "metadata": {
    "execution": {
     "iopub.execute_input": "2024-09-20T15:56:03.892648Z",
     "iopub.status.busy": "2024-09-20T15:56:03.892465Z",
     "iopub.status.idle": "2024-09-20T15:56:53.006118Z",
     "shell.execute_reply": "2024-09-20T15:56:53.005397Z",
     "shell.execute_reply.started": "2024-09-20T15:56:03.892632Z"
    }
   },
   "outputs": [
    {
     "name": "stdout",
     "output_type": "stream",
     "text": [
      "('ie', 'mew', 'cmin', 'dstopsign', 'dvfpath', 'r_width_value', 'speedlimit_value', 'z_qnr_2', 'z_qnr_3', 'z_qnr_4', 'z_qnr_6', 'z_qnr_9', 'z_qnr_10', 'z_qnr_13', 'z_qnr_14', 'z_qnr_15', 'z_qnr_16', 'z_qnr_18', 'z_qnr_25', 'z_qnr_26', 'z_qnr_30', 'z_qnr_31', 'z_qnr_32', 'z_knr_1', 'z_knr_2', 'z_knr_5', 'z_knr_6', 'z_knr_7', 'z_knr_8', 'trafficarea_1', 'trafficarea_2', 'r_width_1', 'r_width_2', 'r_width_3', 'r_width_4', 'r_width_5', 'r_width_6', 'r_surface_1', 'speedlimit_3', 'speedlimit_4', 'speedlimit_5')\n",
      "41\n",
      "-0.0037091494395070645\n"
     ]
    }
   ],
   "source": [
    "# # n = best, linear regression, backward, scoring = r2, cv = 10\n",
    "sbfslin3 = featureselection_lin(False, 'r2', 10, x, y) \n",
    "print(sbfslin3.k_feature_names_)\n",
    "print(len(sbfslin3.k_feature_names_))\n",
    "print(sbfslin3.k_score_)"
   ]
  },
  {
   "cell_type": "code",
   "execution_count": 162,
   "id": "72940d7b-ffad-407e-92a8-536ec139466e",
   "metadata": {
    "execution": {
     "iopub.execute_input": "2024-09-20T15:56:53.022150Z",
     "iopub.status.busy": "2024-09-20T15:56:53.021992Z",
     "iopub.status.idle": "2024-09-20T15:56:53.030398Z",
     "shell.execute_reply": "2024-09-20T15:56:53.029791Z",
     "shell.execute_reply.started": "2024-09-20T15:56:53.022137Z"
    }
   },
   "outputs": [],
   "source": [
    "# # n = best, linear regression, backward, scoring = r2, cv = 15\n"
   ]
  },
  {
   "cell_type": "code",
   "execution_count": 163,
   "id": "66940b00-d245-42c9-af4c-d59599f4c2b3",
   "metadata": {
    "execution": {
     "iopub.execute_input": "2024-09-20T15:56:53.031253Z",
     "iopub.status.busy": "2024-09-20T15:56:53.031101Z",
     "iopub.status.idle": "2024-09-20T15:56:53.039397Z",
     "shell.execute_reply": "2024-09-20T15:56:53.038838Z",
     "shell.execute_reply.started": "2024-09-20T15:56:53.031240Z"
    }
   },
   "outputs": [],
   "source": [
    "# # n = best, linear regression, backward, scoring = r2, cv = 20\n"
   ]
  },
  {
   "cell_type": "code",
   "execution_count": 165,
   "id": "a70a2f1c-b05c-41a0-a416-6c829ff98f91",
   "metadata": {
    "execution": {
     "iopub.execute_input": "2024-09-20T15:57:31.410535Z",
     "iopub.status.busy": "2024-09-20T15:57:31.409531Z",
     "iopub.status.idle": "2024-09-20T15:57:56.240240Z",
     "shell.execute_reply": "2024-09-20T15:57:56.239598Z",
     "shell.execute_reply.started": "2024-09-20T15:57:31.410489Z"
    }
   },
   "outputs": [
    {
     "name": "stdout",
     "output_type": "stream",
     "text": [
      "('z_qnr_7', 'z_qnr_8', 'z_qnr_12', 'z_qnr_16', 'z_qnr_22', 'z_qnr_27', 'z_knr_4', 'z_knr_5', 'z_knr_9', 'trafficarea_2', 'r_width_4', 'r_width_6', 'speedlimit_4')\n",
      "13\n",
      "-0.1534518932857683\n"
     ]
    }
   ],
   "source": [
    "# # n = best, linear regression, backward, scoring = neg median aboslute error, cv = 5\n",
    "sbfslin4 = featureselection_lin(False, 'neg_median_absolute_error', 5, x, y) \n",
    "print(sbfslin4.k_feature_names_)\n",
    "print(len(sbfslin4.k_feature_names_))\n",
    "print(sbfslin4.k_score_)"
   ]
  },
  {
   "cell_type": "code",
   "execution_count": 166,
   "id": "a0d6c2f0-95db-47a3-ba56-c652ec28ba29",
   "metadata": {
    "execution": {
     "iopub.execute_input": "2024-09-20T15:58:02.100874Z",
     "iopub.status.busy": "2024-09-20T15:58:02.100434Z",
     "iopub.status.idle": "2024-09-20T15:58:43.369797Z",
     "shell.execute_reply": "2024-09-20T15:58:43.369043Z",
     "shell.execute_reply.started": "2024-09-20T15:58:02.100856Z"
    }
   },
   "outputs": [
    {
     "name": "stdout",
     "output_type": "stream",
     "text": [
      "('r_width_value', 'speedlimit_value', 'z_qnr_20', 'z_qnr_22', 'z_qnr_26', 'trafficarea_2', 'r_width_3', 'r_width_4', 'r_width_5', 'r_width_6', 'r_surface_1', 'speedlimit_4')\n",
      "12\n",
      "-0.13157577362107836\n"
     ]
    }
   ],
   "source": [
    "# # n = best, linear regression, backward, scoring = neg median aboslute error, cv = 10\n",
    "sbfslin5 = featureselection_lin(False, 'neg_median_absolute_error', 10, x, y) \n",
    "print(sbfslin5.k_feature_names_)\n",
    "print(len(sbfslin5.k_feature_names_))\n",
    "print(sbfslin5.k_score_)"
   ]
  },
  {
   "cell_type": "code",
   "execution_count": 252,
   "id": "e0246940-713e-4570-aed2-f614ac8f68e6",
   "metadata": {
    "execution": {
     "iopub.execute_input": "2024-08-27T14:20:43.528084Z",
     "iopub.status.busy": "2024-08-27T14:20:43.527246Z",
     "iopub.status.idle": "2024-08-27T14:20:43.532038Z",
     "shell.execute_reply": "2024-08-27T14:20:43.531446Z",
     "shell.execute_reply.started": "2024-08-27T14:20:43.528063Z"
    }
   },
   "outputs": [
    {
     "name": "stdout",
     "output_type": "stream",
     "text": [
      "('z_qnr_1', 'z_qnr_5', 'z_qnr_7', 'z_qnr_16', 'z_qnr_20', 'z_qnr_26', 'z_qnr_28', 'z_qnr_29', 'z_knr_9', 'trafficarea_3', 'r_width_4', 'speedlimit_2', 'speedlimit_4', 'speedlimit_6')\n",
      "14\n",
      "-0.14787659233510794\n"
     ]
    }
   ],
   "source": [
    "# # n = best, linear regression, backward, scoring = neg median aboslute error, cv = 15\n"
   ]
  },
  {
   "cell_type": "code",
   "execution_count": 254,
   "id": "805bf481-fcb5-4208-a1a4-a096ed638996",
   "metadata": {
    "execution": {
     "iopub.execute_input": "2024-08-27T15:21:15.815970Z",
     "iopub.status.busy": "2024-08-27T15:21:15.815627Z",
     "iopub.status.idle": "2024-08-27T15:21:15.821791Z",
     "shell.execute_reply": "2024-08-27T15:21:15.820810Z",
     "shell.execute_reply.started": "2024-08-27T15:21:15.815951Z"
    }
   },
   "outputs": [
    {
     "name": "stdout",
     "output_type": "stream",
     "text": [
      "('z_knr_12', 'trafficarea_1', 'trafficarea_2', 'trafficarea_3', 'r_width_4', 'r_width_6', 'speedlimit_2', 'speedlimit_4', 'speedlimit_6')\n",
      "9\n",
      "-0.12273976660347483\n"
     ]
    }
   ],
   "source": [
    "# # n = best, linear regression, backward, scoring = neg median aboslute error, cv = 20\n"
   ]
  },
  {
   "cell_type": "code",
   "execution_count": 167,
   "id": "976d1b34-d087-484a-bb09-679bc73387c3",
   "metadata": {
    "execution": {
     "iopub.execute_input": "2024-09-20T15:58:43.371875Z",
     "iopub.status.busy": "2024-09-20T15:58:43.371707Z",
     "iopub.status.idle": "2024-09-20T15:59:01.433389Z",
     "shell.execute_reply": "2024-09-20T15:59:01.432703Z",
     "shell.execute_reply.started": "2024-09-20T15:58:43.371860Z"
    }
   },
   "outputs": [
    {
     "name": "stdout",
     "output_type": "stream",
     "text": [
      "('dtrafficarea', 'z_qnr_10', 'trafficarea_2', 'r_width_4', 'r_width_5', 'r_surface_1', 'speedlimit_1', 'speedlimit_3', 'speedlimit_4', 'speedlimit_5')\n",
      "10\n",
      "-0.28187575192075237\n"
     ]
    }
   ],
   "source": [
    "# # n = best, linear regression, backward, scoring = neg mean absolute error, cv = 5\n",
    "sbfslin6 = featureselection_lin(False, 'neg_mean_absolute_error', 5, x, y) \n",
    "print(sbfslin6.k_feature_names_)\n",
    "print(len(sbfslin6.k_feature_names_))\n",
    "print(sbfslin6.k_score_)"
   ]
  },
  {
   "cell_type": "code",
   "execution_count": 168,
   "id": "20006330-64f5-4cc3-8f30-f6e755a5a527",
   "metadata": {
    "execution": {
     "iopub.execute_input": "2024-09-20T15:59:01.434311Z",
     "iopub.status.busy": "2024-09-20T15:59:01.434135Z",
     "iopub.status.idle": "2024-09-20T15:59:26.052208Z",
     "shell.execute_reply": "2024-09-20T15:59:26.051594Z",
     "shell.execute_reply.started": "2024-09-20T15:59:01.434295Z"
    }
   },
   "outputs": [
    {
     "name": "stdout",
     "output_type": "stream",
     "text": [
      "('dplight', 'r_width_value', 'speedlimit_value', 'z_qnr_23', 'z_qnr_26', 'z_knr_4', 'z_knr_9', 'trafficarea_2', 'r_width_3', 'r_width_4', 'r_width_5', 'r_width_6', 'r_surface_1', 'speedlimit_4')\n",
      "14\n",
      "-0.2420524177831998\n"
     ]
    }
   ],
   "source": [
    "# # n = best, linear regression, backward, scoring = neg mean aboslute error, cv = 10\n",
    "sbfslin7 = featureselection_lin(False, 'neg_mean_absolute_error', 10, x, y) \n",
    "print(sbfslin7.k_feature_names_)\n",
    "print(len(sbfslin7.k_feature_names_))\n",
    "print(sbfslin7.k_score_)"
   ]
  },
  {
   "cell_type": "code",
   "execution_count": 169,
   "id": "ee212512-5a78-4b0a-9b13-44cc2796ada9",
   "metadata": {
    "execution": {
     "iopub.execute_input": "2024-09-20T15:59:26.053534Z",
     "iopub.status.busy": "2024-09-20T15:59:26.053365Z",
     "iopub.status.idle": "2024-09-20T15:59:26.056202Z",
     "shell.execute_reply": "2024-09-20T15:59:26.055742Z",
     "shell.execute_reply.started": "2024-09-20T15:59:26.053519Z"
    }
   },
   "outputs": [],
   "source": [
    "# # n = best, linear regression, backward, scoring = neg mean aboslute error, cv = 15\n"
   ]
  },
  {
   "cell_type": "code",
   "execution_count": 170,
   "id": "c641d1c1-ff7e-4ec0-96c9-b50ab0729233",
   "metadata": {
    "execution": {
     "iopub.execute_input": "2024-09-20T15:59:26.056883Z",
     "iopub.status.busy": "2024-09-20T15:59:26.056728Z",
     "iopub.status.idle": "2024-09-20T15:59:26.068200Z",
     "shell.execute_reply": "2024-09-20T15:59:26.067702Z",
     "shell.execute_reply.started": "2024-09-20T15:59:26.056869Z"
    }
   },
   "outputs": [],
   "source": [
    "# n = best, linear regression, backward, scoring = neg mean aboslute error, cv = 20\n"
   ]
  },
  {
   "cell_type": "code",
   "execution_count": 171,
   "id": "f9621fb5-a9e4-4a0c-ad03-23c5df605e57",
   "metadata": {
    "execution": {
     "iopub.execute_input": "2024-09-20T16:00:01.460264Z",
     "iopub.status.busy": "2024-09-20T16:00:01.459963Z",
     "iopub.status.idle": "2024-09-20T16:00:01.464584Z",
     "shell.execute_reply": "2024-09-20T16:00:01.464066Z",
     "shell.execute_reply.started": "2024-09-20T16:00:01.460246Z"
    }
   },
   "outputs": [],
   "source": [
    "selected_columns_linr_sbfs = []\n",
    "selected_columns_linr_sbfs = {'all': cnu,\n",
    "                              'nmse_cv5':list(sbfslin0.k_feature_names_), \n",
    "                              'nmse_cv10':list(sbfslin1.k_feature_names_), \n",
    "                              'r2_cv5':list(sbfslin2.k_feature_names_), \n",
    "                              'r2_cv10':list(sbfslin3.k_feature_names_), \n",
    "                              'nmedae_cv5':list(sbfslin4.k_feature_names_), \n",
    "                              'nmedae_cv10':list(sbfslin5.k_feature_names_),\n",
    "                              'nmeae_cv5':list(sbfslin6.k_feature_names_), \n",
    "                              'nmeae_cv10':list(sbfslin7.k_feature_names_)}"
   ]
  },
  {
   "cell_type": "code",
   "execution_count": 172,
   "id": "4b089fba-ce5e-4166-be85-699efa8fe33c",
   "metadata": {
    "execution": {
     "iopub.execute_input": "2024-09-20T16:00:03.571171Z",
     "iopub.status.busy": "2024-09-20T16:00:03.570753Z",
     "iopub.status.idle": "2024-09-20T16:00:03.576859Z",
     "shell.execute_reply": "2024-09-20T16:00:03.576402Z",
     "shell.execute_reply.started": "2024-09-20T16:00:03.571153Z"
    }
   },
   "outputs": [],
   "source": [
    "df_sf_linr_sbfs = pd.DataFrame(dict([(k,pd.Series(v)) for k,v in selected_columns_linr_sbfs.items()]))"
   ]
  },
  {
   "cell_type": "code",
   "execution_count": 173,
   "id": "9db31abf-c984-4164-9e1d-0a0ecadbff47",
   "metadata": {
    "execution": {
     "iopub.execute_input": "2024-09-20T16:00:09.853261Z",
     "iopub.status.busy": "2024-09-20T16:00:09.852837Z",
     "iopub.status.idle": "2024-09-20T16:00:09.858837Z",
     "shell.execute_reply": "2024-09-20T16:00:09.858126Z",
     "shell.execute_reply.started": "2024-09-20T16:00:09.853243Z"
    }
   },
   "outputs": [],
   "source": [
    "df_sf_linr_sbfs.to_csv('/home/yelhe/script/mtp/tables/updated_sbfs_linearreg.csv', index = True)"
   ]
  },
  {
   "cell_type": "code",
   "execution_count": 188,
   "id": "7ab16cea-b108-4938-87f8-dee24f6ad52f",
   "metadata": {
    "execution": {
     "iopub.execute_input": "2024-09-20T16:02:07.923707Z",
     "iopub.status.busy": "2024-09-20T16:02:07.923104Z",
     "iopub.status.idle": "2024-09-20T16:02:07.926552Z",
     "shell.execute_reply": "2024-09-20T16:02:07.925900Z",
     "shell.execute_reply.started": "2024-09-20T16:02:07.923687Z"
    }
   },
   "outputs": [],
   "source": [
    "sbfs_columns = list(sbfslin7.k_feature_names_)"
   ]
  },
  {
   "cell_type": "code",
   "execution_count": 100,
   "id": "68f34554-c9ac-4206-a43f-e2f74808ef5a",
   "metadata": {
    "execution": {
     "iopub.execute_input": "2024-10-04T16:36:12.020461Z",
     "iopub.status.busy": "2024-10-04T16:36:12.019835Z",
     "iopub.status.idle": "2024-10-04T16:36:12.027371Z",
     "shell.execute_reply": "2024-10-04T16:36:12.026796Z",
     "shell.execute_reply.started": "2024-10-04T16:36:12.020441Z"
    }
   },
   "outputs": [],
   "source": [
    "# df_output = pd.read_csv('/home/yelhe/script/mtp/tables/updated_sbfs_linearreg.csv')"
   ]
  },
  {
   "cell_type": "code",
   "execution_count": 101,
   "id": "f6199d62-a34d-40e9-8c7b-31771dc1a543",
   "metadata": {
    "execution": {
     "iopub.execute_input": "2024-10-04T16:36:12.251469Z",
     "iopub.status.busy": "2024-10-04T16:36:12.250925Z",
     "iopub.status.idle": "2024-10-04T16:36:12.256620Z",
     "shell.execute_reply": "2024-10-04T16:36:12.255839Z",
     "shell.execute_reply.started": "2024-10-04T16:36:12.251446Z"
    }
   },
   "outputs": [
    {
     "data": {
      "text/plain": [
       "Index(['Unnamed: 0', 'all', 'nmse_cv5', 'nmse_cv10', 'r2_cv5', 'r2_cv10',\n",
       "       'nmedae_cv5', 'nmedae_cv10', 'nmeae_cv5', 'nmeae_cv10'],\n",
       "      dtype='object')"
      ]
     },
     "execution_count": 101,
     "metadata": {},
     "output_type": "execute_result"
    }
   ],
   "source": [
    "# df_output.columns"
   ]
  },
  {
   "cell_type": "code",
   "execution_count": 102,
   "id": "5de930bc-c41e-4ee1-a8ce-67ecdb663150",
   "metadata": {
    "execution": {
     "iopub.execute_input": "2024-10-04T16:36:12.529104Z",
     "iopub.status.busy": "2024-10-04T16:36:12.528446Z",
     "iopub.status.idle": "2024-10-04T16:36:12.532660Z",
     "shell.execute_reply": "2024-10-04T16:36:12.531709Z",
     "shell.execute_reply.started": "2024-10-04T16:36:12.529081Z"
    }
   },
   "outputs": [],
   "source": [
    "# prsq_lin_sffs = []\n",
    "# prsq_lin_sbfs = []"
   ]
  },
  {
   "cell_type": "code",
   "execution_count": 131,
   "id": "ce0c5c03-216e-4cec-ab7e-bbc0b8a661e1",
   "metadata": {
    "execution": {
     "iopub.execute_input": "2024-10-04T16:37:30.298080Z",
     "iopub.status.busy": "2024-10-04T16:37:30.297510Z",
     "iopub.status.idle": "2024-10-04T16:37:30.303144Z",
     "shell.execute_reply": "2024-10-04T16:37:30.302175Z",
     "shell.execute_reply.started": "2024-10-04T16:37:30.298061Z"
    }
   },
   "outputs": [],
   "source": [
    "\n",
    "\n",
    "# ## For sffs\n",
    "# l = list(df_output['nmeae_cv10'].dropna())\n",
    "\n",
    "# # x_selected\n",
    "# xs = dfacrpv[l]"
   ]
  },
  {
   "cell_type": "code",
   "execution_count": 132,
   "id": "bb2ba1f6-55cf-4a01-af58-72f17038bb0b",
   "metadata": {
    "execution": {
     "iopub.execute_input": "2024-10-04T16:37:30.452863Z",
     "iopub.status.busy": "2024-10-04T16:37:30.452346Z",
     "iopub.status.idle": "2024-10-04T16:37:30.484719Z",
     "shell.execute_reply": "2024-10-04T16:37:30.484225Z",
     "shell.execute_reply.started": "2024-10-04T16:37:30.452843Z"
    },
    "scrolled": true
   },
   "outputs": [
    {
     "data": {
      "text/html": [
       "<table class=\"simpletable\">\n",
       "<caption>OLS Regression Results</caption>\n",
       "<tr>\n",
       "  <th>Dep. Variable:</th>           <td>acp</td>       <th>  R-squared:         </th> <td>   0.510</td> \n",
       "</tr>\n",
       "<tr>\n",
       "  <th>Model:</th>                   <td>OLS</td>       <th>  Adj. R-squared:    </th> <td>   0.503</td> \n",
       "</tr>\n",
       "<tr>\n",
       "  <th>Method:</th>             <td>Least Squares</td>  <th>  F-statistic:       </th> <td>   79.61</td> \n",
       "</tr>\n",
       "<tr>\n",
       "  <th>Date:</th>             <td>Fri, 04 Oct 2024</td> <th>  Prob (F-statistic):</th> <td>7.28e-155</td>\n",
       "</tr>\n",
       "<tr>\n",
       "  <th>Time:</th>                 <td>18:37:30</td>     <th>  Log-Likelihood:    </th> <td> -274.08</td> \n",
       "</tr>\n",
       "<tr>\n",
       "  <th>No. Observations:</th>      <td>  1087</td>      <th>  AIC:               </th> <td>   578.2</td> \n",
       "</tr>\n",
       "<tr>\n",
       "  <th>Df Residuals:</th>          <td>  1072</td>      <th>  BIC:               </th> <td>   653.0</td> \n",
       "</tr>\n",
       "<tr>\n",
       "  <th>Df Model:</th>              <td>    14</td>      <th>                     </th>     <td> </td>    \n",
       "</tr>\n",
       "<tr>\n",
       "  <th>Covariance Type:</th>      <td>nonrobust</td>    <th>                     </th>     <td> </td>    \n",
       "</tr>\n",
       "</table>\n",
       "<table class=\"simpletable\">\n",
       "<tr>\n",
       "          <td></td>            <th>coef</th>     <th>std err</th>      <th>t</th>      <th>P>|t|</th>  <th>[0.025</th>    <th>0.975]</th>  \n",
       "</tr>\n",
       "<tr>\n",
       "  <th>const</th>            <td>   -0.3365</td> <td>    0.070</td> <td>   -4.815</td> <td> 0.000</td> <td>   -0.474</td> <td>   -0.199</td>\n",
       "</tr>\n",
       "<tr>\n",
       "  <th>dplight</th>          <td>    0.0138</td> <td>    0.010</td> <td>    1.390</td> <td> 0.165</td> <td>   -0.006</td> <td>    0.033</td>\n",
       "</tr>\n",
       "<tr>\n",
       "  <th>r_width_value</th>    <td>   -0.0917</td> <td>    0.019</td> <td>   -4.732</td> <td> 0.000</td> <td>   -0.130</td> <td>   -0.054</td>\n",
       "</tr>\n",
       "<tr>\n",
       "  <th>speedlimit_value</th> <td>   -0.0821</td> <td>    0.011</td> <td>   -7.253</td> <td> 0.000</td> <td>   -0.104</td> <td>   -0.060</td>\n",
       "</tr>\n",
       "<tr>\n",
       "  <th>z_qnr_23</th>         <td>   -0.2385</td> <td>    0.070</td> <td>   -3.388</td> <td> 0.001</td> <td>   -0.377</td> <td>   -0.100</td>\n",
       "</tr>\n",
       "<tr>\n",
       "  <th>z_qnr_26</th>         <td>   -0.2785</td> <td>    0.098</td> <td>   -2.841</td> <td> 0.005</td> <td>   -0.471</td> <td>   -0.086</td>\n",
       "</tr>\n",
       "<tr>\n",
       "  <th>z_knr_4</th>          <td>    0.2378</td> <td>    0.034</td> <td>    6.982</td> <td> 0.000</td> <td>    0.171</td> <td>    0.305</td>\n",
       "</tr>\n",
       "<tr>\n",
       "  <th>z_knr_9</th>          <td>    0.2139</td> <td>    0.033</td> <td>    6.388</td> <td> 0.000</td> <td>    0.148</td> <td>    0.280</td>\n",
       "</tr>\n",
       "<tr>\n",
       "  <th>trafficarea_2</th>    <td>   -0.2257</td> <td>    0.038</td> <td>   -5.913</td> <td> 0.000</td> <td>   -0.301</td> <td>   -0.151</td>\n",
       "</tr>\n",
       "<tr>\n",
       "  <th>r_width_3</th>        <td>    0.1765</td> <td>    0.047</td> <td>    3.741</td> <td> 0.000</td> <td>    0.084</td> <td>    0.269</td>\n",
       "</tr>\n",
       "<tr>\n",
       "  <th>r_width_4</th>        <td>    0.1781</td> <td>    0.035</td> <td>    5.041</td> <td> 0.000</td> <td>    0.109</td> <td>    0.247</td>\n",
       "</tr>\n",
       "<tr>\n",
       "  <th>r_width_5</th>        <td>    0.2076</td> <td>    0.037</td> <td>    5.652</td> <td> 0.000</td> <td>    0.136</td> <td>    0.280</td>\n",
       "</tr>\n",
       "<tr>\n",
       "  <th>r_width_6</th>        <td>    0.1797</td> <td>    0.043</td> <td>    4.192</td> <td> 0.000</td> <td>    0.096</td> <td>    0.264</td>\n",
       "</tr>\n",
       "<tr>\n",
       "  <th>r_surface_1</th>      <td>    0.3681</td> <td>    0.065</td> <td>    5.667</td> <td> 0.000</td> <td>    0.241</td> <td>    0.495</td>\n",
       "</tr>\n",
       "<tr>\n",
       "  <th>speedlimit_4</th>     <td>    0.7182</td> <td>    0.028</td> <td>   25.208</td> <td> 0.000</td> <td>    0.662</td> <td>    0.774</td>\n",
       "</tr>\n",
       "</table>\n",
       "<table class=\"simpletable\">\n",
       "<tr>\n",
       "  <th>Omnibus:</th>       <td>162.499</td> <th>  Durbin-Watson:     </th> <td>   0.834</td>\n",
       "</tr>\n",
       "<tr>\n",
       "  <th>Prob(Omnibus):</th> <td> 0.000</td>  <th>  Jarque-Bera (JB):  </th> <td> 293.176</td>\n",
       "</tr>\n",
       "<tr>\n",
       "  <th>Skew:</th>          <td> 0.926</td>  <th>  Prob(JB):          </th> <td>2.18e-64</td>\n",
       "</tr>\n",
       "<tr>\n",
       "  <th>Kurtosis:</th>      <td> 4.744</td>  <th>  Cond. No.          </th> <td>    15.5</td>\n",
       "</tr>\n",
       "</table><br/><br/>Notes:<br/>[1] Standard Errors assume that the covariance matrix of the errors is correctly specified."
      ],
      "text/latex": [
       "\\begin{center}\n",
       "\\begin{tabular}{lclc}\n",
       "\\toprule\n",
       "\\textbf{Dep. Variable:}    &       acp        & \\textbf{  R-squared:         } &     0.510   \\\\\n",
       "\\textbf{Model:}            &       OLS        & \\textbf{  Adj. R-squared:    } &     0.503   \\\\\n",
       "\\textbf{Method:}           &  Least Squares   & \\textbf{  F-statistic:       } &     79.61   \\\\\n",
       "\\textbf{Date:}             & Fri, 04 Oct 2024 & \\textbf{  Prob (F-statistic):} & 7.28e-155   \\\\\n",
       "\\textbf{Time:}             &     18:37:30     & \\textbf{  Log-Likelihood:    } &   -274.08   \\\\\n",
       "\\textbf{No. Observations:} &        1087      & \\textbf{  AIC:               } &     578.2   \\\\\n",
       "\\textbf{Df Residuals:}     &        1072      & \\textbf{  BIC:               } &     653.0   \\\\\n",
       "\\textbf{Df Model:}         &          14      & \\textbf{                     } &             \\\\\n",
       "\\textbf{Covariance Type:}  &    nonrobust     & \\textbf{                     } &             \\\\\n",
       "\\bottomrule\n",
       "\\end{tabular}\n",
       "\\begin{tabular}{lcccccc}\n",
       "                           & \\textbf{coef} & \\textbf{std err} & \\textbf{t} & \\textbf{P$> |$t$|$} & \\textbf{[0.025} & \\textbf{0.975]}  \\\\\n",
       "\\midrule\n",
       "\\textbf{const}             &      -0.3365  &        0.070     &    -4.815  &         0.000        &       -0.474    &       -0.199     \\\\\n",
       "\\textbf{dplight}           &       0.0138  &        0.010     &     1.390  &         0.165        &       -0.006    &        0.033     \\\\\n",
       "\\textbf{r\\_width\\_value}   &      -0.0917  &        0.019     &    -4.732  &         0.000        &       -0.130    &       -0.054     \\\\\n",
       "\\textbf{speedlimit\\_value} &      -0.0821  &        0.011     &    -7.253  &         0.000        &       -0.104    &       -0.060     \\\\\n",
       "\\textbf{z\\_qnr\\_23}        &      -0.2385  &        0.070     &    -3.388  &         0.001        &       -0.377    &       -0.100     \\\\\n",
       "\\textbf{z\\_qnr\\_26}        &      -0.2785  &        0.098     &    -2.841  &         0.005        &       -0.471    &       -0.086     \\\\\n",
       "\\textbf{z\\_knr\\_4}         &       0.2378  &        0.034     &     6.982  &         0.000        &        0.171    &        0.305     \\\\\n",
       "\\textbf{z\\_knr\\_9}         &       0.2139  &        0.033     &     6.388  &         0.000        &        0.148    &        0.280     \\\\\n",
       "\\textbf{trafficarea\\_2}    &      -0.2257  &        0.038     &    -5.913  &         0.000        &       -0.301    &       -0.151     \\\\\n",
       "\\textbf{r\\_width\\_3}       &       0.1765  &        0.047     &     3.741  &         0.000        &        0.084    &        0.269     \\\\\n",
       "\\textbf{r\\_width\\_4}       &       0.1781  &        0.035     &     5.041  &         0.000        &        0.109    &        0.247     \\\\\n",
       "\\textbf{r\\_width\\_5}       &       0.2076  &        0.037     &     5.652  &         0.000        &        0.136    &        0.280     \\\\\n",
       "\\textbf{r\\_width\\_6}       &       0.1797  &        0.043     &     4.192  &         0.000        &        0.096    &        0.264     \\\\\n",
       "\\textbf{r\\_surface\\_1}     &       0.3681  &        0.065     &     5.667  &         0.000        &        0.241    &        0.495     \\\\\n",
       "\\textbf{speedlimit\\_4}     &       0.7182  &        0.028     &    25.208  &         0.000        &        0.662    &        0.774     \\\\\n",
       "\\bottomrule\n",
       "\\end{tabular}\n",
       "\\begin{tabular}{lclc}\n",
       "\\textbf{Omnibus:}       & 162.499 & \\textbf{  Durbin-Watson:     } &    0.834  \\\\\n",
       "\\textbf{Prob(Omnibus):} &   0.000 & \\textbf{  Jarque-Bera (JB):  } &  293.176  \\\\\n",
       "\\textbf{Skew:}          &   0.926 & \\textbf{  Prob(JB):          } & 2.18e-64  \\\\\n",
       "\\textbf{Kurtosis:}      &   4.744 & \\textbf{  Cond. No.          } &     15.5  \\\\\n",
       "\\bottomrule\n",
       "\\end{tabular}\n",
       "%\\caption{OLS Regression Results}\n",
       "\\end{center}\n",
       "\n",
       "Notes: \\newline\n",
       " [1] Standard Errors assume that the covariance matrix of the errors is correctly specified."
      ],
      "text/plain": [
       "<class 'statsmodels.iolib.summary.Summary'>\n",
       "\"\"\"\n",
       "                            OLS Regression Results                            \n",
       "==============================================================================\n",
       "Dep. Variable:                    acp   R-squared:                       0.510\n",
       "Model:                            OLS   Adj. R-squared:                  0.503\n",
       "Method:                 Least Squares   F-statistic:                     79.61\n",
       "Date:                Fri, 04 Oct 2024   Prob (F-statistic):          7.28e-155\n",
       "Time:                        18:37:30   Log-Likelihood:                -274.08\n",
       "No. Observations:                1087   AIC:                             578.2\n",
       "Df Residuals:                    1072   BIC:                             653.0\n",
       "Df Model:                          14                                         \n",
       "Covariance Type:            nonrobust                                         \n",
       "====================================================================================\n",
       "                       coef    std err          t      P>|t|      [0.025      0.975]\n",
       "------------------------------------------------------------------------------------\n",
       "const               -0.3365      0.070     -4.815      0.000      -0.474      -0.199\n",
       "dplight              0.0138      0.010      1.390      0.165      -0.006       0.033\n",
       "r_width_value       -0.0917      0.019     -4.732      0.000      -0.130      -0.054\n",
       "speedlimit_value    -0.0821      0.011     -7.253      0.000      -0.104      -0.060\n",
       "z_qnr_23            -0.2385      0.070     -3.388      0.001      -0.377      -0.100\n",
       "z_qnr_26            -0.2785      0.098     -2.841      0.005      -0.471      -0.086\n",
       "z_knr_4              0.2378      0.034      6.982      0.000       0.171       0.305\n",
       "z_knr_9              0.2139      0.033      6.388      0.000       0.148       0.280\n",
       "trafficarea_2       -0.2257      0.038     -5.913      0.000      -0.301      -0.151\n",
       "r_width_3            0.1765      0.047      3.741      0.000       0.084       0.269\n",
       "r_width_4            0.1781      0.035      5.041      0.000       0.109       0.247\n",
       "r_width_5            0.2076      0.037      5.652      0.000       0.136       0.280\n",
       "r_width_6            0.1797      0.043      4.192      0.000       0.096       0.264\n",
       "r_surface_1          0.3681      0.065      5.667      0.000       0.241       0.495\n",
       "speedlimit_4         0.7182      0.028     25.208      0.000       0.662       0.774\n",
       "==============================================================================\n",
       "Omnibus:                      162.499   Durbin-Watson:                   0.834\n",
       "Prob(Omnibus):                  0.000   Jarque-Bera (JB):              293.176\n",
       "Skew:                           0.926   Prob(JB):                     2.18e-64\n",
       "Kurtosis:                       4.744   Cond. No.                         15.5\n",
       "==============================================================================\n",
       "\n",
       "Notes:\n",
       "[1] Standard Errors assume that the covariance matrix of the errors is correctly specified.\n",
       "\"\"\""
      ]
     },
     "execution_count": 132,
     "metadata": {},
     "output_type": "execute_result"
    }
   ],
   "source": [
    "# # OLS\n",
    "# xs_const = tools.add_constant(xs) \n",
    "# # X_train, X_test, y_train, y_test = train_test_split(\n",
    "# #         df_selected, y,\n",
    "# #         test_size=0.3,\n",
    "# #         random_state=0)\n",
    "\n",
    "# m1 = sm.OLS(y, xs_const)\n",
    "# r1 = m1.fit()\n",
    "# r1.summary()"
   ]
  },
  {
   "cell_type": "code",
   "execution_count": 133,
   "id": "235fb07e-eabe-431a-9a01-4c1fb465dfed",
   "metadata": {
    "execution": {
     "iopub.execute_input": "2024-10-04T16:37:30.635742Z",
     "iopub.status.busy": "2024-10-04T16:37:30.635161Z",
     "iopub.status.idle": "2024-10-04T16:37:30.638979Z",
     "shell.execute_reply": "2024-10-04T16:37:30.638292Z",
     "shell.execute_reply.started": "2024-10-04T16:37:30.635723Z"
    }
   },
   "outputs": [],
   "source": [
    "# prsq_lin_sbfs.append(r1.rsquared_adj)"
   ]
  },
  {
   "cell_type": "code",
   "execution_count": 134,
   "id": "a35a3f70-8b06-4de9-b102-c2c8a7b7587a",
   "metadata": {
    "execution": {
     "iopub.execute_input": "2024-10-04T16:37:30.877239Z",
     "iopub.status.busy": "2024-10-04T16:37:30.876793Z",
     "iopub.status.idle": "2024-10-04T16:37:30.881353Z",
     "shell.execute_reply": "2024-10-04T16:37:30.880751Z",
     "shell.execute_reply.started": "2024-10-04T16:37:30.877219Z"
    }
   },
   "outputs": [
    {
     "data": {
      "text/plain": [
       "[0.46863270188062633,\n",
       " 0.5228831125625122,\n",
       " 0.5083388939077372,\n",
       " 0.539473692009008,\n",
       " 0.4665037273438992,\n",
       " 0.47415516300643146,\n",
       " 0.46239446930329153,\n",
       " 0.5033154652889078]"
      ]
     },
     "execution_count": 134,
     "metadata": {},
     "output_type": "execute_result"
    }
   ],
   "source": [
    "prsq_lin_sbfs"
   ]
  },
  {
   "cell_type": "code",
   "execution_count": 96,
   "id": "522cf8e3-c592-415d-ae7e-bfa1050ad2d9",
   "metadata": {
    "execution": {
     "iopub.execute_input": "2024-10-04T16:34:03.921304Z",
     "iopub.status.busy": "2024-10-04T16:34:03.920750Z",
     "iopub.status.idle": "2024-10-04T16:34:03.926185Z",
     "shell.execute_reply": "2024-10-04T16:34:03.925481Z",
     "shell.execute_reply.started": "2024-10-04T16:34:03.921283Z"
    }
   },
   "outputs": [
    {
     "data": {
      "text/plain": [
       "[0.46863270188062633,\n",
       " 0.5170176533771211,\n",
       " 0.5083388939077372,\n",
       " 0.5299324651839028,\n",
       " 0.42039652784715786,\n",
       " 0.47415516300643146,\n",
       " 0.46239446930329153,\n",
       " 0.5033154652889078]"
      ]
     },
     "execution_count": 96,
     "metadata": {},
     "output_type": "execute_result"
    }
   ],
   "source": [
    "prsq_lin_sffs"
   ]
  },
  {
   "cell_type": "markdown",
   "id": "8119ef0e-78b5-4b8e-83f5-7256197ead1a",
   "metadata": {},
   "source": [
    "## Logistic Regression model"
   ]
  },
  {
   "cell_type": "markdown",
   "id": "4181e345-e803-42e2-acf6-a83a0bb6fdb3",
   "metadata": {},
   "source": [
    "### Sequential forward floating selection"
   ]
  },
  {
   "cell_type": "code",
   "execution_count": 52,
   "id": "8e1d9bac-c622-4f7b-959d-8c911c0d7144",
   "metadata": {
    "execution": {
     "iopub.execute_input": "2024-10-22T06:16:55.859701Z",
     "iopub.status.busy": "2024-10-22T06:16:55.858771Z",
     "iopub.status.idle": "2024-10-22T06:18:28.189583Z",
     "shell.execute_reply": "2024-10-22T06:18:28.188423Z",
     "shell.execute_reply.started": "2024-10-22T06:16:55.859658Z"
    }
   },
   "outputs": [
    {
     "name": "stdout",
     "output_type": "stream",
     "text": [
      "('cmean', 'cmin', 'ie', 'mew', 'meg', 'megmax', 'dbusl', 'dtraml', 'dplight', 'dstation', 'dparkcar', 'dpedcro', 'dstopsign', 'dtrafficarea', 'dvfpath', 'gvm_dwv', 'carcount', 'z_qnr_1', 'z_qnr_2', 'z_qnr_3', 'z_qnr_4', 'z_qnr_6', 'z_qnr_8', 'z_qnr_9', 'z_qnr_11', 'z_qnr_12', 'z_qnr_13', 'z_qnr_14', 'z_qnr_16', 'z_qnr_17', 'z_qnr_20', 'z_qnr_22', 'z_qnr_23', 'z_qnr_26', 'z_qnr_27', 'z_qnr_28', 'z_qnr_29', 'z_qnr_30', 'z_qnr_31', 'z_knr_2', 'z_knr_3', 'z_knr_5', 'z_knr_10', 'trafficarea_2', 'r_width_4', 'r_width_6', 'r_surface_1', 'speedlimit_1', 'speedlimit_4')\n",
      "49\n",
      "0.8638523654504715\n"
     ]
    }
   ],
   "source": [
    "# # n = best, logistic regression, scoring = accuracy, cv = 5\n",
    "sffslog0 = featureselection_log(True, 'accuracy', 5, x, y)\n",
    "print(sffslog0.k_feature_names_)\n",
    "print(len(sffslog0.k_feature_names_))\n",
    "print(sffslog0.k_score_)\n"
   ]
  },
  {
   "cell_type": "code",
   "execution_count": 53,
   "id": "6d0bd756-a9e2-4f53-ae68-ff60abfde9b7",
   "metadata": {
    "execution": {
     "iopub.execute_input": "2024-10-22T06:18:28.191830Z",
     "iopub.status.busy": "2024-10-22T06:18:28.191536Z",
     "iopub.status.idle": "2024-10-22T06:21:11.375989Z",
     "shell.execute_reply": "2024-10-22T06:21:11.374979Z",
     "shell.execute_reply.started": "2024-10-22T06:18:28.191803Z"
    }
   },
   "outputs": [
    {
     "name": "stdout",
     "output_type": "stream",
     "text": [
      "('cmean', 'cmin', 'ie', 'mew', 'meg', 'megmax', 'dbusl', 'dtraml', 'dtrainl', 'dplight', 'dstation', 'dpedcro', 'dstopsign', 'dtrafficarea', 'droad', 'dvfpath', 'gvm_dwv', 'bicyclecount', 'z_qnr_2', 'z_qnr_3', 'z_qnr_4', 'z_qnr_5', 'z_qnr_6', 'z_qnr_7', 'z_qnr_9', 'z_qnr_10', 'z_qnr_11', 'z_qnr_12', 'z_qnr_13', 'z_qnr_14', 'z_qnr_15', 'z_qnr_16', 'z_qnr_23', 'z_qnr_24', 'z_qnr_25', 'z_qnr_26', 'z_qnr_27', 'z_qnr_28', 'z_qnr_29', 'z_qnr_30', 'z_qnr_31', 'z_qnr_32', 'z_knr_2', 'z_knr_3', 'trafficarea_2', 'r_width_1', 'r_width_2', 'r_width_5', 'speedlimit_1', 'speedlimit_4', 'speedlimit_5')\n",
      "51\n",
      "0.8656048250084947\n"
     ]
    }
   ],
   "source": [
    "# n = best, logistic regression, scoring = accuracy, cv = 10\n",
    "sffslog1 = featureselection_log(True, 'accuracy', 10, x, y)\n",
    "print(sffslog1.k_feature_names_)\n",
    "print(len(sffslog1.k_feature_names_))\n",
    "print(sffslog1.k_score_)\n"
   ]
  },
  {
   "cell_type": "code",
   "execution_count": 54,
   "id": "e4da62a2-8d77-4684-aa1f-b66108a5b8bd",
   "metadata": {
    "execution": {
     "iopub.execute_input": "2024-10-22T06:21:11.377473Z",
     "iopub.status.busy": "2024-10-22T06:21:11.377208Z",
     "iopub.status.idle": "2024-10-22T06:21:11.382135Z",
     "shell.execute_reply": "2024-10-22T06:21:11.381361Z",
     "shell.execute_reply.started": "2024-10-22T06:21:11.377448Z"
    }
   },
   "outputs": [],
   "source": [
    "# # # n = best, logistic regression, scoring = accuracy, cv = 15\n",
    "# sffslog2 = featureselection_log(True, 'accuracy', 15, x, y)\n",
    "# print(sffslog2.k_feature_names_)\n",
    "# print(len(sffslog2.k_feature_names_))\n",
    "# print(sffslog2.k_score_)"
   ]
  },
  {
   "cell_type": "code",
   "execution_count": 55,
   "id": "7060cdc0-3553-47b4-96dc-7d51c40089c3",
   "metadata": {
    "execution": {
     "iopub.execute_input": "2024-10-22T06:21:11.384292Z",
     "iopub.status.busy": "2024-10-22T06:21:11.384034Z",
     "iopub.status.idle": "2024-10-22T06:21:11.403644Z",
     "shell.execute_reply": "2024-10-22T06:21:11.402910Z",
     "shell.execute_reply.started": "2024-10-22T06:21:11.384270Z"
    }
   },
   "outputs": [],
   "source": [
    "# # # n = best, logistic regression, scoring = accuracy, cv = 20\n",
    "# sffslog3 = featureselection_log(True, 'accuracy', 20, x, y)\n",
    "# print(sffslog3.k_feature_names_)\n",
    "# print(len(sffslog3.k_feature_names_))\n",
    "# print(sffslog3.k_score_)\n",
    "# #"
   ]
  },
  {
   "cell_type": "code",
   "execution_count": 56,
   "id": "41f0ebb4-455f-4303-a55a-7077445892d9",
   "metadata": {
    "execution": {
     "iopub.execute_input": "2024-10-22T06:21:11.404682Z",
     "iopub.status.busy": "2024-10-22T06:21:11.404447Z",
     "iopub.status.idle": "2024-10-22T06:23:11.118731Z",
     "shell.execute_reply": "2024-10-22T06:23:11.117664Z",
     "shell.execute_reply.started": "2024-10-22T06:21:11.404660Z"
    }
   },
   "outputs": [
    {
     "name": "stdout",
     "output_type": "stream",
     "text": [
      "('cmean', 'cmin', 'ie', 'mew', 'meg', 'megmax', 'dbusl', 'dtraml', 'dplight', 'dstation', 'dparkcar', 'dparktw', 'dpedcro', 'dtrafficarea', 'droad', 'dvfpath', 'gvm_dwv', 'r_width_value', 'z_qnr_1', 'z_qnr_2', 'z_qnr_3', 'z_qnr_4', 'z_qnr_5', 'z_qnr_6', 'z_qnr_7', 'z_qnr_10', 'z_qnr_11', 'z_qnr_14', 'z_qnr_16', 'z_qnr_17', 'z_qnr_20', 'z_qnr_22', 'z_qnr_23', 'z_qnr_28', 'z_qnr_29', 'z_qnr_30', 'z_qnr_31', 'z_qnr_32', 'z_knr_4', 'z_knr_5', 'z_knr_10', 'trafficarea_2', 'r_width_1', 'r_width_2', 'r_width_5', 'r_width_6', 'r_surface_1', 'speedlimit_1', 'speedlimit_4', 'speedlimit_5')\n",
      "50\n",
      "0.7078221869009644\n"
     ]
    }
   ],
   "source": [
    "# # n = best, logistic regression, scoring = f1, cv = 5\n",
    "sffslog2 = featureselection_log(True, 'f1', 5, x, y)\n",
    "print(sffslog2.k_feature_names_)\n",
    "print(len(sffslog2.k_feature_names_))\n",
    "print(sffslog2.k_score_)\n"
   ]
  },
  {
   "cell_type": "code",
   "execution_count": 57,
   "id": "5e1b14ae-d40e-484c-a3b5-3049f2f081d4",
   "metadata": {
    "execution": {
     "iopub.execute_input": "2024-10-22T06:23:11.120396Z",
     "iopub.status.busy": "2024-10-22T06:23:11.120092Z",
     "iopub.status.idle": "2024-10-22T06:27:31.376162Z",
     "shell.execute_reply": "2024-10-22T06:27:31.375128Z",
     "shell.execute_reply.started": "2024-10-22T06:23:11.120364Z"
    }
   },
   "outputs": [
    {
     "name": "stdout",
     "output_type": "stream",
     "text": [
      "('cmean', 'cmin', 'ie', 'mew', 'meg', 'megmax', 'dtraml', 'dplight', 'dstation', 'dparkcar', 'dparktw', 'dpedcro', 'dstopsign', 'dtrafficarea', 'droad', 'dvfpath', 'gvm_dwv', 'carcount', 'r_width_value', 'speedlimit_value', 'z_qnr_2', 'z_qnr_3', 'z_qnr_4', 'z_qnr_5', 'z_qnr_6', 'z_qnr_7', 'z_qnr_8', 'z_qnr_10', 'z_qnr_11', 'z_qnr_12', 'z_qnr_15', 'z_qnr_16', 'z_qnr_19', 'z_qnr_20', 'z_qnr_22', 'z_qnr_23', 'z_qnr_29', 'z_qnr_30', 'z_qnr_31', 'z_knr_3', 'z_knr_4', 'z_knr_5', 'z_knr_10', 'trafficarea_2', 'r_width_2', 'r_width_4', 'r_width_5', 'r_width_6', 'r_surface_1', 'speedlimit_4', 'speedlimit_5')\n",
      "51\n",
      "0.7104828365703021\n"
     ]
    }
   ],
   "source": [
    "# # n = best, logistic regression, scoring = f1, cv = 10\n",
    "sffslog3 = featureselection_log(True, 'f1', 10, x, y)\n",
    "print(sffslog3.k_feature_names_)\n",
    "print(len(sffslog3.k_feature_names_))\n",
    "print(sffslog3.k_score_)\n"
   ]
  },
  {
   "cell_type": "code",
   "execution_count": 58,
   "id": "f74ba2c9-abd3-4a3a-8609-3d261fd86f63",
   "metadata": {
    "execution": {
     "iopub.execute_input": "2024-10-22T06:27:31.378063Z",
     "iopub.status.busy": "2024-10-22T06:27:31.377763Z",
     "iopub.status.idle": "2024-10-22T06:27:31.382214Z",
     "shell.execute_reply": "2024-10-22T06:27:31.380932Z",
     "shell.execute_reply.started": "2024-10-22T06:27:31.378035Z"
    }
   },
   "outputs": [],
   "source": [
    "# # # n = best, logistic regression, scoring = f1, cv = 15\n",
    "# sffslog6 = featureselection_log(True, 'f1', 15, x, y)\n",
    "# print(sffslog6.k_feature_names_)\n",
    "# print(len(sffslog6.k_feature_names_))\n",
    "# print(sffslog6.k_score_)\n",
    "# #"
   ]
  },
  {
   "cell_type": "code",
   "execution_count": 59,
   "id": "8d613987-c8c6-4cf4-9bcb-7b443f124fea",
   "metadata": {
    "execution": {
     "iopub.execute_input": "2024-10-22T06:27:31.383741Z",
     "iopub.status.busy": "2024-10-22T06:27:31.383457Z",
     "iopub.status.idle": "2024-10-22T06:27:31.400979Z",
     "shell.execute_reply": "2024-10-22T06:27:31.399879Z",
     "shell.execute_reply.started": "2024-10-22T06:27:31.383717Z"
    }
   },
   "outputs": [],
   "source": [
    "# # # n = best, logistic regression, scoring = f1, cv = 20\n",
    "# sffslog7 = featureselection_log(True, 'f1', 20, x, y)\n",
    "# print(sffslog7.k_feature_names_)\n",
    "# print(len(sffslog7.k_feature_names_))\n",
    "# print(sffslog7.k_score_)\n",
    "# #"
   ]
  },
  {
   "cell_type": "code",
   "execution_count": 299,
   "id": "3aad7d05-3ff4-4720-840d-6f966e961e63",
   "metadata": {
    "execution": {
     "iopub.execute_input": "2024-10-25T14:57:01.155626Z",
     "iopub.status.busy": "2024-10-25T14:57:01.155176Z",
     "iopub.status.idle": "2024-10-25T14:57:01.157973Z",
     "shell.execute_reply": "2024-10-25T14:57:01.157536Z",
     "shell.execute_reply.started": "2024-10-25T14:57:01.155610Z"
    },
    "scrolled": true
   },
   "outputs": [],
   "source": [
    "# n = best, logistic regression, scoring = precision, cv = 5\n",
    "# sffslog4 = featureselection_log(True, 'precision', 5, x, y)\n",
    "# print(sffslog4.k_feature_names_)\n",
    "# print(len(sffslog4.k_feature_names_))\n",
    "# print(sffslog4.k_score_)\n",
    "# ('cmean', 'cmin', 'ie', 'mew', 'meg', 'megmax', 'dbusl', 'dtraml', 'dtrainl', 'dplight', 'dstation', 'dparkcar', 'dpedcro', 'dstopsign', 'dvfpath', 'bicyclecount', 'carcount', 'z_qnr_1', 'z_qnr_2', 'z_qnr_4', 'z_qnr_6', 'z_qnr_13', 'z_qnr_14', 'z_qnr_22', 'z_knr_10', 'trafficarea_2', 'speedlimit_4')\n",
    "# 27\n",
    "# 0.8925816112608566"
   ]
  },
  {
   "cell_type": "code",
   "execution_count": 298,
   "id": "01c15fb9-50c9-457e-a3a8-1e4cadaca9db",
   "metadata": {
    "execution": {
     "iopub.execute_input": "2024-10-25T14:56:49.671260Z",
     "iopub.status.busy": "2024-10-25T14:56:49.670634Z",
     "iopub.status.idle": "2024-10-25T14:56:49.673883Z",
     "shell.execute_reply": "2024-10-25T14:56:49.673335Z",
     "shell.execute_reply.started": "2024-10-25T14:56:49.671242Z"
    },
    "scrolled": true
   },
   "outputs": [],
   "source": [
    "# # # # n = best, logistic regression, scoring = precision, cv = 10\n",
    "# sffslog5 = featureselection_log(True, 'precision', 10, x, y)\n",
    "# print(sffslog5.k_feature_names_)\n",
    "# print(len(sffslog5.k_feature_names_))\n",
    "# print(sffslog5.k_score_)\n",
    "# ('cmean', 'cmin', 'ie', 'mew', 'meg', 'megmax', 'dbusl', 'dtraml', 'dtrainl', 'dplight', 'dstation', 'dparktw', 'dpedcro', 'dstopsign', 'dtrafficarea', 'droad', 'gvm_dwv', 'bicyclecount', 'carcount', 'z_qnr_2', 'z_qnr_3', 'z_qnr_4', 'z_qnr_6', 'z_qnr_9', 'z_qnr_10', 'z_qnr_12', 'z_qnr_13', 'z_qnr_15', 'z_qnr_16', 'z_qnr_23', 'z_qnr_24', 'z_qnr_25', 'z_qnr_26', 'z_qnr_27', 'z_qnr_28', 'z_qnr_29', 'z_qnr_30', 'z_qnr_31', 'z_qnr_32', 'z_knr_2', 'trafficarea_2', 'r_width_5', 'r_width_6', 'r_surface_1', 'speedlimit_1', 'speedlimit_4', 'speedlimit_5')\n",
    "# 47\n",
    "# 0.8915503341687552"
   ]
  },
  {
   "cell_type": "code",
   "execution_count": 62,
   "id": "5a6918cf-1d2a-45f8-8501-477766345f64",
   "metadata": {
    "execution": {
     "iopub.execute_input": "2024-10-22T06:31:51.268452Z",
     "iopub.status.busy": "2024-10-22T06:31:51.267930Z",
     "iopub.status.idle": "2024-10-22T06:31:51.272290Z",
     "shell.execute_reply": "2024-10-22T06:31:51.271498Z",
     "shell.execute_reply.started": "2024-10-22T06:31:51.268424Z"
    },
    "scrolled": true
   },
   "outputs": [],
   "source": [
    "# # # n = best, logistic regression, scoring = precision, cv = 15\n",
    "# sffslog10 = featureselection_log(True, 'precision', 15, x, y)\n",
    "# print(sffslog10.k_feature_names_)\n",
    "# print(len(sffslog10.k_feature_names_))\n",
    "# print(sffslog10.k_score_)"
   ]
  },
  {
   "cell_type": "code",
   "execution_count": 63,
   "id": "0ef840e4-dfb9-4ba5-87f4-e6bd86729330",
   "metadata": {
    "execution": {
     "iopub.execute_input": "2024-10-22T06:31:51.274267Z",
     "iopub.status.busy": "2024-10-22T06:31:51.273683Z",
     "iopub.status.idle": "2024-10-22T06:31:51.292611Z",
     "shell.execute_reply": "2024-10-22T06:31:51.291959Z",
     "shell.execute_reply.started": "2024-10-22T06:31:51.274241Z"
    },
    "scrolled": true
   },
   "outputs": [],
   "source": [
    "# # # n = best, logistic regression, scoring = precision, cv = 20\n",
    "# sffslog11 = featureselection_log(True, 'precision', 20, x, y)\n",
    "# print(sffslog11.k_feature_names_)\n",
    "# print(len(sffslog11.k_feature_names_))\n",
    "# print(sffslog11.k_score_)\n"
   ]
  },
  {
   "cell_type": "code",
   "execution_count": 64,
   "id": "586a6413-c9aa-4feb-8333-a236d7cebd37",
   "metadata": {
    "execution": {
     "iopub.execute_input": "2024-10-22T06:31:51.294331Z",
     "iopub.status.busy": "2024-10-22T06:31:51.293746Z",
     "iopub.status.idle": "2024-10-22T06:33:15.567250Z",
     "shell.execute_reply": "2024-10-22T06:33:15.566147Z",
     "shell.execute_reply.started": "2024-10-22T06:31:51.294304Z"
    }
   },
   "outputs": [
    {
     "name": "stdout",
     "output_type": "stream",
     "text": [
      "('cmean', 'cmin', 'ie', 'mew', 'meg', 'megmax', 'dbusl', 'dtraml', 'dplight', 'dstation', 'dparkcar', 'dparktw', 'dpedcro', 'dstopsign', 'dtrafficarea', 'droad', 'dvfpath', 'gvm_dwv', 'carcount', 'r_width_value', 'speedlimit_value', 'z_qnr_2', 'z_qnr_3', 'z_qnr_4', 'z_qnr_5', 'z_qnr_6', 'z_qnr_8', 'z_qnr_9', 'z_qnr_10', 'z_qnr_11', 'z_qnr_12', 'z_qnr_14', 'z_qnr_15', 'z_qnr_16', 'z_qnr_17', 'z_qnr_21', 'z_qnr_22', 'z_qnr_24', 'z_qnr_26', 'z_qnr_27', 'z_qnr_29', 'z_qnr_30', 'z_qnr_31', 'z_qnr_32', 'z_knr_4', 'z_knr_5', 'z_knr_8', 'trafficarea_2', 'r_width_2', 'r_width_4', 'r_width_5', 'r_width_6', 'r_surface_1', 'speedlimit_1', 'speedlimit_4', 'speedlimit_5')\n",
      "56\n",
      "0.6474576271186441\n"
     ]
    }
   ],
   "source": [
    "# # n = best, logistic regression, scoring = recall, cv = 5\n",
    "sffslog6 = featureselection_log(True, 'recall', 5, x, y)\n",
    "print(sffslog6.k_feature_names_)\n",
    "print(len(sffslog6.k_feature_names_))\n",
    "print(sffslog6.k_score_)\n"
   ]
  },
  {
   "cell_type": "code",
   "execution_count": 65,
   "id": "acd2ce79-4e9f-4524-b4b3-162f8da5261f",
   "metadata": {
    "execution": {
     "iopub.execute_input": "2024-10-22T06:33:15.568906Z",
     "iopub.status.busy": "2024-10-22T06:33:15.568617Z",
     "iopub.status.idle": "2024-10-22T06:35:39.566401Z",
     "shell.execute_reply": "2024-10-22T06:35:39.565098Z",
     "shell.execute_reply.started": "2024-10-22T06:33:15.568879Z"
    }
   },
   "outputs": [
    {
     "name": "stdout",
     "output_type": "stream",
     "text": [
      "('cmean', 'cmin', 'ie', 'mew', 'meg', 'megmax', 'dtraml', 'dtrainl', 'dplight', 'dparkcar', 'dpedcro', 'dtrafficarea', 'droad', 'dvfpath', 'bicyclecount', 'carcount', 'speedlimit_value', 'z_qnr_2', 'z_qnr_3', 'z_qnr_4', 'z_qnr_6', 'z_qnr_7', 'z_qnr_9', 'z_qnr_10', 'z_qnr_15', 'z_qnr_16', 'z_qnr_19', 'z_qnr_23', 'z_qnr_24', 'z_qnr_27', 'z_qnr_29', 'z_qnr_30', 'z_qnr_31', 'z_qnr_32', 'z_knr_2', 'z_knr_4', 'z_knr_5', 'r_width_2', 'r_width_4', 'r_width_5', 'r_surface_1', 'speedlimit_4')\n",
      "42\n",
      "0.657471264367816\n"
     ]
    }
   ],
   "source": [
    "# # n = best, logistic regression, scoring = recall, cv = 10\n",
    "sffslog7 = featureselection_log(True, 'recall', 10, x, y)\n",
    "print(sffslog7.k_feature_names_)\n",
    "print(len(sffslog7.k_feature_names_))\n",
    "print(sffslog7.k_score_)\n"
   ]
  },
  {
   "cell_type": "code",
   "execution_count": 66,
   "id": "3d138232-b1a8-4346-8a3e-1097c5475749",
   "metadata": {
    "execution": {
     "iopub.execute_input": "2024-10-22T06:35:39.568593Z",
     "iopub.status.busy": "2024-10-22T06:35:39.567854Z",
     "iopub.status.idle": "2024-10-22T06:35:39.572092Z",
     "shell.execute_reply": "2024-10-22T06:35:39.571378Z",
     "shell.execute_reply.started": "2024-10-22T06:35:39.568563Z"
    }
   },
   "outputs": [],
   "source": [
    "# # # n = best, logistic regression, scoring = recall, cv = 15\n",
    "# sffslog14 = featureselection_log(True, 'recall', 15, x, y)\n",
    "# print(sffslog14.k_feature_names_)\n",
    "# print(len(sffslog14.k_feature_names_))\n",
    "# print(sffslog14.k_score_)\n",
    "# #"
   ]
  },
  {
   "cell_type": "code",
   "execution_count": 67,
   "id": "de589bf5-18d4-4770-ba79-ab6978c1b03f",
   "metadata": {
    "execution": {
     "iopub.execute_input": "2024-10-22T06:35:39.573509Z",
     "iopub.status.busy": "2024-10-22T06:35:39.573297Z",
     "iopub.status.idle": "2024-10-22T06:35:39.593484Z",
     "shell.execute_reply": "2024-10-22T06:35:39.592682Z",
     "shell.execute_reply.started": "2024-10-22T06:35:39.573491Z"
    }
   },
   "outputs": [],
   "source": [
    "# # # n = best, logistic regression, scoring = recall, cv = 20\n",
    "# sffslog15 = featureselection_log(True, 'recall', 20, x, y)\n",
    "# print(sffslog15.k_feature_names_)\n",
    "# print(len(sffslog15.k_feature_names_))\n",
    "# print(sffslog15.k_score_)\n",
    "# #"
   ]
  },
  {
   "cell_type": "code",
   "execution_count": 68,
   "id": "4cdf2c61-28e1-459f-a00c-988f25b2ecf4",
   "metadata": {
    "execution": {
     "iopub.execute_input": "2024-10-22T06:35:39.594843Z",
     "iopub.status.busy": "2024-10-22T06:35:39.594637Z",
     "iopub.status.idle": "2024-10-22T06:35:39.613923Z",
     "shell.execute_reply": "2024-10-22T06:35:39.612957Z",
     "shell.execute_reply.started": "2024-10-22T06:35:39.594826Z"
    }
   },
   "outputs": [],
   "source": [
    "# For part \n",
    "selected_columns_logr_sffs = []\n",
    "selected_columns_logr_sffs = {'all': cnvif,\n",
    "                              'acc_cv5':list(sffslog0.k_feature_names_), \n",
    "                              'acc_cv10':list(sffslog1.k_feature_names_), \n",
    "                              'f1_cv5':list(sffslog2.k_feature_names_), \n",
    "                              'f1_cv10':list(sffslog3.k_feature_names_), \n",
    "                              'pre_cv5':list(sffslog4.k_feature_names_), \n",
    "                              'pre_cv10':list(sffslog5.k_feature_names_),\n",
    "                              'rec_cv5':list(sffslog6.k_feature_names_), \n",
    "                              'rec_cv10':list(sffslog7.k_feature_names_)\n",
    "                              }\n",
    "df_sf_logr_sffs = pd.DataFrame(dict([(k,pd.Series(v)) for k,v in selected_columns_logr_sffs.items()]))\n",
    "df_sf_logr_sffs.to_csv('/home/yelhe/script/mtp/tables/vif_sffs_logisticreg.csv', index = True)"
   ]
  },
  {
   "cell_type": "code",
   "execution_count": null,
   "id": "f6ebb812",
   "metadata": {},
   "outputs": [],
   "source": []
  },
  {
   "cell_type": "markdown",
   "id": "528cb07a-dffb-450f-8ede-5e4dc1748ad1",
   "metadata": {
    "execution": {
     "iopub.execute_input": "2024-09-03T15:30:17.841200Z",
     "iopub.status.busy": "2024-09-03T15:30:17.840178Z",
     "iopub.status.idle": "2024-09-03T15:30:17.846475Z",
     "shell.execute_reply": "2024-09-03T15:30:17.845897Z",
     "shell.execute_reply.started": "2024-09-03T15:30:17.841170Z"
    }
   },
   "source": [
    "### Sequential backward floating selection"
   ]
  },
  {
   "cell_type": "code",
   "execution_count": 69,
   "id": "80a82579",
   "metadata": {
    "execution": {
     "iopub.execute_input": "2024-10-22T06:35:39.615481Z",
     "iopub.status.busy": "2024-10-22T06:35:39.615197Z",
     "iopub.status.idle": "2024-10-22T06:36:43.846950Z",
     "shell.execute_reply": "2024-10-22T06:36:43.845789Z",
     "shell.execute_reply.started": "2024-10-22T06:35:39.615450Z"
    }
   },
   "outputs": [
    {
     "name": "stdout",
     "output_type": "stream",
     "text": [
      "('cmean', 'ie', 'meg', 'dvfpath', 'r_width_value', 'z_qnr_5', 'z_qnr_7', 'z_qnr_11', 'z_qnr_22', 'z_knr_4', 'z_knr_10', 'trafficarea_2', 'r_width_1', 'r_width_2', 'r_width_4', 'speedlimit_1', 'speedlimit_4')\n",
      "17\n",
      "0.8711960427852704\n"
     ]
    }
   ],
   "source": [
    "# n = best, logistic regression, scoring = accuracy, cv = 5\n",
    "sbfslog0 = featureselection_log(False, 'accuracy', 5, x, y)\n",
    "print(sbfslog0.k_feature_names_)\n",
    "print(len(sbfslog0.k_feature_names_))\n",
    "print(sbfslog0.k_score_)\n"
   ]
  },
  {
   "cell_type": "code",
   "execution_count": 70,
   "id": "ba383abf",
   "metadata": {
    "execution": {
     "iopub.execute_input": "2024-10-22T06:36:43.848708Z",
     "iopub.status.busy": "2024-10-22T06:36:43.848415Z",
     "iopub.status.idle": "2024-10-22T06:38:20.780068Z",
     "shell.execute_reply": "2024-10-22T06:38:20.778718Z",
     "shell.execute_reply.started": "2024-10-22T06:36:43.848679Z"
    }
   },
   "outputs": [
    {
     "name": "stdout",
     "output_type": "stream",
     "text": [
      "('cmean', 'ie', 'dtraml', 'dparkcar', 'dpedcro', 'dstopsign', 'dtrafficarea', 'dvfpath', 'speedlimit_value', 'z_qnr_7', 'z_qnr_8', 'z_qnr_10', 'z_qnr_26', 'z_qnr_32', 'z_knr_4', 'z_knr_5', 'z_knr_10', 'trafficarea_2', 'r_width_2', 'r_width_4', 'r_width_5', 'r_width_6', 'speedlimit_1', 'speedlimit_4')\n",
      "24\n",
      "0.8756795786612301\n"
     ]
    }
   ],
   "source": [
    "# n = best, logistic regression, scoring = accuracy, cv = 10\n",
    "sbfslog1 = featureselection_log(False, 'accuracy', 10, x, y)\n",
    "print(sbfslog1.k_feature_names_)\n",
    "print(len(sbfslog1.k_feature_names_))\n",
    "print(sbfslog1.k_score_)\n"
   ]
  },
  {
   "cell_type": "code",
   "execution_count": 71,
   "id": "a1363b4b",
   "metadata": {
    "execution": {
     "iopub.execute_input": "2024-10-22T06:38:20.782003Z",
     "iopub.status.busy": "2024-10-22T06:38:20.781693Z",
     "iopub.status.idle": "2024-10-22T06:38:20.787936Z",
     "shell.execute_reply": "2024-10-22T06:38:20.786824Z",
     "shell.execute_reply.started": "2024-10-22T06:38:20.781973Z"
    }
   },
   "outputs": [],
   "source": [
    "# # n = best, logistic regression, scoring = accuracy, cv = 15\n",
    "# sbfslog2 = featureselection_log(False, 'accuracy', 15, x, y)\n",
    "# print(sbfslog2.k_feature_names_)\n",
    "# print(len(sbfslog2.k_feature_names_))\n",
    "# print(sbfslog2.k_score_)\n"
   ]
  },
  {
   "cell_type": "code",
   "execution_count": 72,
   "id": "cdb44a1f",
   "metadata": {
    "execution": {
     "iopub.execute_input": "2024-10-22T06:38:20.789689Z",
     "iopub.status.busy": "2024-10-22T06:38:20.789396Z",
     "iopub.status.idle": "2024-10-22T06:38:20.803504Z",
     "shell.execute_reply": "2024-10-22T06:38:20.802725Z",
     "shell.execute_reply.started": "2024-10-22T06:38:20.789658Z"
    }
   },
   "outputs": [],
   "source": [
    "# # n = best, logistic regression, scoring = accuracy, cv = 20\n",
    "# sbfslog3 = featureselection_log(False, 'accuracy', 20, x, y)\n",
    "# print(sbfslog3.k_feature_names_)\n",
    "# print(len(sbfslog3.k_feature_names_))\n",
    "# print(sbfslog3.k_score_)\n"
   ]
  },
  {
   "cell_type": "code",
   "execution_count": 73,
   "id": "4bdc1df9",
   "metadata": {
    "execution": {
     "iopub.execute_input": "2024-10-22T06:38:20.804783Z",
     "iopub.status.busy": "2024-10-22T06:38:20.804523Z",
     "iopub.status.idle": "2024-10-22T06:39:36.557037Z",
     "shell.execute_reply": "2024-10-22T06:39:36.555972Z",
     "shell.execute_reply.started": "2024-10-22T06:38:20.804759Z"
    }
   },
   "outputs": [
    {
     "name": "stdout",
     "output_type": "stream",
     "text": [
      "('r_width_value', 'speedlimit_value', 'z_qnr_5', 'z_qnr_6', 'z_qnr_7', 'z_qnr_8', 'z_qnr_10', 'z_qnr_11', 'z_qnr_22', 'z_qnr_26', 'z_qnr_29', 'z_knr_4', 'z_knr_5', 'z_knr_10', 'trafficarea_2', 'r_width_1', 'r_width_4', 'r_width_5', 'r_width_6', 'speedlimit_1', 'speedlimit_4')\n",
      "21\n",
      "0.7289902543115845\n"
     ]
    }
   ],
   "source": [
    "# n = best, logistic regression, scoring = f1, cv = 5\n",
    "sbfslog2 = featureselection_log(False, 'f1', 5, x, y)\n",
    "print(sbfslog2.k_feature_names_)\n",
    "print(len(sbfslog2.k_feature_names_))\n",
    "print(sbfslog2.k_score_)"
   ]
  },
  {
   "cell_type": "code",
   "execution_count": 74,
   "id": "b90f1edf",
   "metadata": {
    "execution": {
     "iopub.execute_input": "2024-10-22T06:39:36.558924Z",
     "iopub.status.busy": "2024-10-22T06:39:36.558333Z",
     "iopub.status.idle": "2024-10-22T06:41:47.575302Z",
     "shell.execute_reply": "2024-10-22T06:41:47.574237Z",
     "shell.execute_reply.started": "2024-10-22T06:39:36.558896Z"
    }
   },
   "outputs": [
    {
     "name": "stdout",
     "output_type": "stream",
     "text": [
      "('ie', 'dtraml', 'dtrainl', 'dpedcro', 'dvfpath', 'carcount', 'speedlimit_value', 'z_qnr_3', 'z_qnr_7', 'z_qnr_10', 'z_qnr_26', 'z_knr_3', 'z_knr_4', 'z_knr_5', 'trafficarea_2', 'r_width_1', 'r_width_2', 'r_width_5', 'speedlimit_1', 'speedlimit_4')\n",
      "20\n",
      "0.735872081598812\n"
     ]
    }
   ],
   "source": [
    "# n = best, logistic regression, scoring = f1, cv = 10\n",
    "sbfslog3 = featureselection_log(False, 'f1', 10, x, y)\n",
    "print(sbfslog3.k_feature_names_)\n",
    "print(len(sbfslog3.k_feature_names_))\n",
    "print(sbfslog3.k_score_)"
   ]
  },
  {
   "cell_type": "code",
   "execution_count": 75,
   "id": "b82c7b6f",
   "metadata": {
    "execution": {
     "iopub.execute_input": "2024-10-22T06:41:47.576776Z",
     "iopub.status.busy": "2024-10-22T06:41:47.576500Z",
     "iopub.status.idle": "2024-10-22T06:41:47.581303Z",
     "shell.execute_reply": "2024-10-22T06:41:47.580495Z",
     "shell.execute_reply.started": "2024-10-22T06:41:47.576750Z"
    }
   },
   "outputs": [],
   "source": [
    "# # n = best, logistic regression, scoring = f1, cv = 15\n",
    "# sbfslog6 = featureselection_log(False, 'f1', 15, x, y)\n",
    "# print(sbfslog6.k_feature_names_)\n",
    "# print(len(sbfslog6.k_feature_names_))\n",
    "# print(sbfslog6.k_score_)"
   ]
  },
  {
   "cell_type": "code",
   "execution_count": 76,
   "id": "1295bfe8",
   "metadata": {
    "execution": {
     "iopub.execute_input": "2024-10-22T06:41:47.582740Z",
     "iopub.status.busy": "2024-10-22T06:41:47.582434Z",
     "iopub.status.idle": "2024-10-22T06:41:47.601678Z",
     "shell.execute_reply": "2024-10-22T06:41:47.600851Z",
     "shell.execute_reply.started": "2024-10-22T06:41:47.582715Z"
    }
   },
   "outputs": [],
   "source": [
    "# n = best, logistic regression, scoring = f1, cv = 20\n",
    "# sbfslog7 = featureselection_log(False, 'f1', 20, x, y)\n",
    "# print(sbfslog7.k_feature_names_)\n",
    "# print(len(sbfslog7.k_feature_names_))\n",
    "# print(sbfslog7.k_score_)"
   ]
  },
  {
   "cell_type": "code",
   "execution_count": 296,
   "id": "605c2bc0",
   "metadata": {
    "execution": {
     "iopub.execute_input": "2024-10-25T14:55:57.476679Z",
     "iopub.status.busy": "2024-10-25T14:55:57.476206Z",
     "iopub.status.idle": "2024-10-25T14:55:57.478947Z",
     "shell.execute_reply": "2024-10-25T14:55:57.478523Z",
     "shell.execute_reply.started": "2024-10-25T14:55:57.476661Z"
    },
    "scrolled": true
   },
   "outputs": [],
   "source": [
    "# # n = best, logistic regression, scoring = precision, cv = 5\n",
    "# sbfslog4 = featureselection_log(False, 'precision', 5, x, y)\n",
    "# print(sbfslog4.k_feature_names_)\n",
    "# print(len(sbfslog4.k_feature_names_))\n",
    "# print(sbfslog4.k_score_)\n",
    "# ('dpedcro', 'dvfpath', 'r_width_value', 'z_qnr_22', 'z_knr_10', 'trafficarea_2', 'r_width_2', 'r_width_4', 'r_width_5', 'speedlimit_4')\n",
    "# 10\n",
    "# 0.9094070080862535"
   ]
  },
  {
   "cell_type": "code",
   "execution_count": 297,
   "id": "6fcfaec8",
   "metadata": {
    "execution": {
     "iopub.execute_input": "2024-10-25T14:56:09.935238Z",
     "iopub.status.busy": "2024-10-25T14:56:09.934770Z",
     "iopub.status.idle": "2024-10-25T14:56:09.937433Z",
     "shell.execute_reply": "2024-10-25T14:56:09.936981Z",
     "shell.execute_reply.started": "2024-10-25T14:56:09.935221Z"
    },
    "scrolled": true
   },
   "outputs": [],
   "source": [
    "# # n = best, logistic regression, scoring = precision, cv = 10\n",
    "# sbfslog5 = featureselection_log(False, 'precision', 10, x, y)\n",
    "# print(sbfslog5.k_feature_names_)\n",
    "# print(len(sbfslog5.k_feature_names_))\n",
    "# print(sbfslog5.k_score_)\n",
    "# ('ie', 'dtraml', 'dpedcro', 'dvfpath', 'r_width_value', 'z_qnr_5', 'z_qnr_7', 'z_qnr_10', 'z_qnr_25', 'z_qnr_26', 'z_qnr_28', 'z_qnr_29', 'z_knr_4', 'trafficarea_2', 'r_width_1', 'r_width_2', 'r_width_4', 'r_width_5', 'speedlimit_4')\n",
    "# 19\n",
    "# 0.9160866910866912"
   ]
  },
  {
   "cell_type": "code",
   "execution_count": 79,
   "id": "f9b3f34a",
   "metadata": {
    "execution": {
     "iopub.execute_input": "2024-10-22T06:41:47.634432Z",
     "iopub.status.busy": "2024-10-22T06:41:47.634166Z",
     "iopub.status.idle": "2024-10-22T06:41:47.647955Z",
     "shell.execute_reply": "2024-10-22T06:41:47.647211Z",
     "shell.execute_reply.started": "2024-10-22T06:41:47.634410Z"
    }
   },
   "outputs": [],
   "source": [
    "# # n = best, logistic regression, scoring = precision, cv = 15\n",
    "# sbfslog10 = featureselection_log(False, 'precision', 15, x, y)\n",
    "# print(sbfslog10.k_feature_names_)\n",
    "# print(len(sbfslog10.k_feature_names_))\n",
    "# print(sbfslog10.k_score_)"
   ]
  },
  {
   "cell_type": "code",
   "execution_count": 80,
   "id": "046d57e6",
   "metadata": {
    "execution": {
     "iopub.execute_input": "2024-10-22T06:41:47.649367Z",
     "iopub.status.busy": "2024-10-22T06:41:47.649082Z",
     "iopub.status.idle": "2024-10-22T06:41:47.669448Z",
     "shell.execute_reply": "2024-10-22T06:41:47.668615Z",
     "shell.execute_reply.started": "2024-10-22T06:41:47.649344Z"
    },
    "scrolled": true
   },
   "outputs": [],
   "source": [
    "# # n = best, logistic regression, scoring = precision, cv = 20\n",
    "# sbfslog11 = featureselection_log(False, 'precision', 20, x, y)\n",
    "# print(sbfslog11.k_feature_names_)\n",
    "# print(len(sbfslog11.k_feature_names_))\n",
    "# print(sbfslog11.k_score_)"
   ]
  },
  {
   "cell_type": "code",
   "execution_count": 83,
   "id": "a2b0adc4",
   "metadata": {
    "execution": {
     "iopub.execute_input": "2024-10-22T06:45:00.163381Z",
     "iopub.status.busy": "2024-10-22T06:45:00.163070Z",
     "iopub.status.idle": "2024-10-22T06:46:05.920346Z",
     "shell.execute_reply": "2024-10-22T06:46:05.919325Z",
     "shell.execute_reply.started": "2024-10-22T06:45:00.163351Z"
    }
   },
   "outputs": [
    {
     "name": "stdout",
     "output_type": "stream",
     "text": [
      "('dbusl', 'dpedcro', 'dtrafficarea', 'droad', 'r_width_value', 'speedlimit_value', 'z_qnr_5', 'z_qnr_7', 'z_qnr_8', 'z_qnr_10', 'z_qnr_11', 'z_qnr_26', 'z_qnr_31', 'z_knr_4', 'z_knr_5', 'trafficarea_2', 'r_width_4', 'r_width_5', 'r_width_6', 'r_surface_1', 'speedlimit_1', 'speedlimit_4')\n",
      "22\n",
      "0.6542372881355932\n"
     ]
    }
   ],
   "source": [
    "# n = best, logistic regression, scoring = recall, cv = 5\n",
    "sbfslog6 = featureselection_log(False, 'recall', 5, x, y)\n",
    "print(sbfslog6.k_feature_names_)\n",
    "print(len(sbfslog6.k_feature_names_))\n",
    "print(sbfslog6.k_score_)"
   ]
  },
  {
   "cell_type": "code",
   "execution_count": 84,
   "id": "a4efef70",
   "metadata": {
    "execution": {
     "iopub.execute_input": "2024-10-22T06:46:05.921914Z",
     "iopub.status.busy": "2024-10-22T06:46:05.921627Z",
     "iopub.status.idle": "2024-10-22T06:48:04.731779Z",
     "shell.execute_reply": "2024-10-22T06:48:04.730720Z",
     "shell.execute_reply.started": "2024-10-22T06:46:05.921888Z"
    }
   },
   "outputs": [
    {
     "name": "stdout",
     "output_type": "stream",
     "text": [
      "('cmean', 'ie', 'dbusl', 'dtraml', 'dtrainl', 'dparkcar', 'dpedcro', 'dvfpath', 'gvm_dwv', 'carcount', 'r_width_value', 'speedlimit_value', 'z_qnr_3', 'z_qnr_7', 'z_qnr_10', 'z_qnr_16', 'z_qnr_19', 'z_qnr_25', 'z_knr_4', 'z_knr_5', 'z_knr_8', 'z_knr_10', 'trafficarea_2', 'r_width_1', 'r_width_2', 'r_width_5', 'speedlimit_1', 'speedlimit_4')\n",
      "28\n",
      "0.6639080459770115\n"
     ]
    }
   ],
   "source": [
    "# n = best, logistic regression, scoring = recall, cv = 10\n",
    "sbfslog7 = featureselection_log(False, 'recall', 10, x, y)\n",
    "print(sbfslog7.k_feature_names_)\n",
    "print(len(sbfslog7.k_feature_names_))\n",
    "print(sbfslog7.k_score_)"
   ]
  },
  {
   "cell_type": "code",
   "execution_count": 85,
   "id": "07b918be",
   "metadata": {
    "execution": {
     "iopub.execute_input": "2024-10-22T06:48:04.733358Z",
     "iopub.status.busy": "2024-10-22T06:48:04.733038Z",
     "iopub.status.idle": "2024-10-22T06:48:04.737942Z",
     "shell.execute_reply": "2024-10-22T06:48:04.736830Z",
     "shell.execute_reply.started": "2024-10-22T06:48:04.733315Z"
    }
   },
   "outputs": [],
   "source": [
    "# # n = best, logistic regression, scoring = recall, cv = 15\n",
    "# sbfslog14 = featureselection_log(False, 'recall', 15, x, y)\n",
    "# print(sbfslog14.k_feature_names_)\n",
    "# print(len(sbfslog14.k_feature_names_))\n",
    "# print(sbfslog14.k_score_)\n",
    "# #"
   ]
  },
  {
   "cell_type": "code",
   "execution_count": 86,
   "id": "89bf4092",
   "metadata": {
    "execution": {
     "iopub.execute_input": "2024-10-22T06:48:04.739539Z",
     "iopub.status.busy": "2024-10-22T06:48:04.739287Z",
     "iopub.status.idle": "2024-10-22T06:48:04.756373Z",
     "shell.execute_reply": "2024-10-22T06:48:04.755364Z",
     "shell.execute_reply.started": "2024-10-22T06:48:04.739516Z"
    }
   },
   "outputs": [],
   "source": [
    "# # n = best, logistic regression, scoring = recall, cv = 20\n",
    "# sbfslog15 = featureselection_log(False, 'recall', 20, x, y)\n",
    "# print(sbfslog15.k_feature_names_)\n",
    "# print(len(sbfslog15.k_feature_names_))\n",
    "# print(sbfslog15.k_score_)\n",
    "# #"
   ]
  },
  {
   "cell_type": "code",
   "execution_count": 87,
   "id": "0cccb8f2",
   "metadata": {
    "execution": {
     "iopub.execute_input": "2024-10-22T06:48:04.758001Z",
     "iopub.status.busy": "2024-10-22T06:48:04.757602Z",
     "iopub.status.idle": "2024-10-22T06:48:04.775274Z",
     "shell.execute_reply": "2024-10-22T06:48:04.774352Z",
     "shell.execute_reply.started": "2024-10-22T06:48:04.757977Z"
    }
   },
   "outputs": [],
   "source": [
    "# For all \n",
    "selected_columns_logr_sbfs = []\n",
    "selected_columns_logr_sbfs = {'all': cnvif,\n",
    "                              'acc_cv5':list(sbfslog0.k_feature_names_), \n",
    "                              'acc_cv10':list(sbfslog1.k_feature_names_),\n",
    "                              'f1_cv5':list(sbfslog2.k_feature_names_), \n",
    "                              'f1_cv10':list(sbfslog3.k_feature_names_),\n",
    "                              'pre_cv5':list(sbfslog4.k_feature_names_), \n",
    "                              'pre_cv10':list(sbfslog5.k_feature_names_),\n",
    "                              'rec_cv5':list(sbfslog6.k_feature_names_), \n",
    "                              'rec_cv10':list(sbfslog7.k_feature_names_)\n",
    "                              }\n",
    "df_sf_logr_sbfs = pd.DataFrame(dict([(k,pd.Series(v)) for k,v in selected_columns_logr_sbfs.items()]))\n",
    "df_sf_logr_sbfs.to_csv('/home/yelhe/script/mtp/tables/vif_sbfs_logisticreg.csv', index = True)"
   ]
  },
  {
   "cell_type": "code",
   "execution_count": 165,
   "id": "a70e79d7-49f6-464d-9c7f-094b1748ee63",
   "metadata": {
    "execution": {
     "iopub.execute_input": "2024-10-25T13:47:53.854672Z",
     "iopub.status.busy": "2024-10-25T13:47:53.854180Z",
     "iopub.status.idle": "2024-10-25T13:47:53.861004Z",
     "shell.execute_reply": "2024-10-25T13:47:53.860526Z",
     "shell.execute_reply.started": "2024-10-25T13:47:53.854653Z"
    }
   },
   "outputs": [],
   "source": [
    "# df_output = pd.read_csv('/home/yelhe/script/mtp/tables/vif_sbfs_logisticreg.csv')"
   ]
  },
  {
   "cell_type": "code",
   "execution_count": 166,
   "id": "29209bb9-3b89-4909-964b-77614b68f469",
   "metadata": {
    "execution": {
     "iopub.execute_input": "2024-10-25T13:47:54.135702Z",
     "iopub.status.busy": "2024-10-25T13:47:54.135541Z",
     "iopub.status.idle": "2024-10-25T13:47:54.139037Z",
     "shell.execute_reply": "2024-10-25T13:47:54.138684Z",
     "shell.execute_reply.started": "2024-10-25T13:47:54.135686Z"
    }
   },
   "outputs": [
    {
     "data": {
      "text/plain": [
       "Index(['Unnamed: 0', 'all', 'acc_cv5', 'acc_cv10', 'f1_cv5', 'f1_cv10',\n",
       "       'pre_cv5', 'pre_cv10', 'rec_cv5', 'rec_cv10'],\n",
       "      dtype='object')"
      ]
     },
     "execution_count": 166,
     "metadata": {},
     "output_type": "execute_result"
    }
   ],
   "source": [
    "df_output.columns"
   ]
  },
  {
   "cell_type": "code",
   "execution_count": 103,
   "id": "69af2959-d65a-45e1-9548-ea202aec26af",
   "metadata": {
    "execution": {
     "iopub.execute_input": "2024-10-25T13:31:21.188738Z",
     "iopub.status.busy": "2024-10-25T13:31:21.188550Z",
     "iopub.status.idle": "2024-10-25T13:31:21.191604Z",
     "shell.execute_reply": "2024-10-25T13:31:21.191254Z",
     "shell.execute_reply.started": "2024-10-25T13:31:21.188725Z"
    }
   },
   "outputs": [],
   "source": [
    "log_sffs = []\n",
    "log_sbfs = []"
   ]
  },
  {
   "cell_type": "code",
   "execution_count": 281,
   "id": "ae21dc23-acbc-45ae-938f-29c5d039aad0",
   "metadata": {
    "execution": {
     "iopub.execute_input": "2024-10-25T14:37:24.861611Z",
     "iopub.status.busy": "2024-10-25T14:37:24.861400Z",
     "iopub.status.idle": "2024-10-25T14:37:24.865083Z",
     "shell.execute_reply": "2024-10-25T14:37:24.864677Z",
     "shell.execute_reply.started": "2024-10-25T14:37:24.861595Z"
    }
   },
   "outputs": [
    {
     "name": "stdout",
     "output_type": "stream",
     "text": [
      "8 22\n"
     ]
    }
   ],
   "source": [
    "# l = list(df_output['rec_cv10'].dropna())\n",
    "# i = 2\n",
    "i = i-1\n",
    "l = list(df_output.iloc[:,i].dropna())\n",
    "# l = list(sffslog0.k_feature_names_)\n",
    "print(i, len(l))"
   ]
  },
  {
   "cell_type": "code",
   "execution_count": 282,
   "id": "a7e1564b-26df-431c-aed3-1b23be29b019",
   "metadata": {
    "execution": {
     "iopub.execute_input": "2024-10-25T14:37:25.065367Z",
     "iopub.status.busy": "2024-10-25T14:37:25.065165Z",
     "iopub.status.idle": "2024-10-25T14:37:25.068244Z",
     "shell.execute_reply": "2024-10-25T14:37:25.067859Z",
     "shell.execute_reply.started": "2024-10-25T14:37:25.065352Z"
    }
   },
   "outputs": [],
   "source": [
    "# x_selected\n",
    "xs = dfacrpv[l]"
   ]
  },
  {
   "cell_type": "code",
   "execution_count": 283,
   "id": "f14d8828-3d49-4cbc-9458-3cf7e783dfe4",
   "metadata": {
    "execution": {
     "iopub.execute_input": "2024-10-25T14:37:25.330050Z",
     "iopub.status.busy": "2024-10-25T14:37:25.329684Z",
     "iopub.status.idle": "2024-10-25T14:37:25.436726Z",
     "shell.execute_reply": "2024-10-25T14:37:25.436216Z",
     "shell.execute_reply.started": "2024-10-25T14:37:25.330035Z"
    }
   },
   "outputs": [
    {
     "name": "stdout",
     "output_type": "stream",
     "text": [
      "Optimization terminated successfully    (Exit mode 0)\n",
      "            Current function value: 0.28882811470039293\n",
      "            Iterations: 185\n",
      "            Function evaluations: 185\n",
      "            Gradient evaluations: 185\n"
     ]
    },
    {
     "name": "stderr",
     "output_type": "stream",
     "text": [
      "/opt/conda/lib/python3.11/site-packages/statsmodels/base/model.py:130: ValueWarning: unknown kwargs ['max_iter']\n",
      "  warnings.warn(msg, ValueWarning)\n",
      "/opt/conda/lib/python3.11/site-packages/statsmodels/base/model.py:130: ValueWarning: unknown kwargs ['max_iter']\n",
      "  warnings.warn(msg, ValueWarning)\n"
     ]
    },
    {
     "data": {
      "text/html": [
       "<table class=\"simpletable\">\n",
       "<caption>Logit Regression Results</caption>\n",
       "<tr>\n",
       "  <th>Dep. Variable:</th>          <td>acp</td>       <th>  No. Observations:  </th>   <td>   869</td>  \n",
       "</tr>\n",
       "<tr>\n",
       "  <th>Model:</th>                 <td>Logit</td>      <th>  Df Residuals:      </th>   <td>   846</td>  \n",
       "</tr>\n",
       "<tr>\n",
       "  <th>Method:</th>                 <td>MLE</td>       <th>  Df Model:          </th>   <td>    22</td>  \n",
       "</tr>\n",
       "<tr>\n",
       "  <th>Date:</th>            <td>Fri, 25 Oct 2024</td> <th>  Pseudo R-squ.:     </th>   <td>0.5187</td>  \n",
       "</tr>\n",
       "<tr>\n",
       "  <th>Time:</th>                <td>16:37:25</td>     <th>  Log-Likelihood:    </th>  <td> -250.99</td> \n",
       "</tr>\n",
       "<tr>\n",
       "  <th>converged:</th>             <td>True</td>       <th>  LL-Null:           </th>  <td> -521.46</td> \n",
       "</tr>\n",
       "<tr>\n",
       "  <th>Covariance Type:</th>     <td>nonrobust</td>    <th>  LLR p-value:       </th> <td>2.067e-100</td>\n",
       "</tr>\n",
       "</table>\n",
       "<table class=\"simpletable\">\n",
       "<tr>\n",
       "          <td></td>            <th>coef</th>     <th>std err</th>      <th>z</th>      <th>P>|z|</th>  <th>[0.025</th>    <th>0.975]</th>  \n",
       "</tr>\n",
       "<tr>\n",
       "  <th>const</th>            <td>  -30.8957</td> <td> 1.76e+05</td> <td>   -0.000</td> <td> 1.000</td> <td>-3.44e+05</td> <td> 3.44e+05</td>\n",
       "</tr>\n",
       "<tr>\n",
       "  <th>dbusl</th>            <td>   -0.1599</td> <td>    0.140</td> <td>   -1.146</td> <td> 0.252</td> <td>   -0.433</td> <td>    0.114</td>\n",
       "</tr>\n",
       "<tr>\n",
       "  <th>dpedcro</th>          <td>    0.0065</td> <td>    0.136</td> <td>    0.048</td> <td> 0.962</td> <td>   -0.260</td> <td>    0.273</td>\n",
       "</tr>\n",
       "<tr>\n",
       "  <th>dtrafficarea</th>     <td>    0.2595</td> <td>    0.148</td> <td>    1.753</td> <td> 0.080</td> <td>   -0.031</td> <td>    0.550</td>\n",
       "</tr>\n",
       "<tr>\n",
       "  <th>droad</th>            <td>   -0.1426</td> <td>    0.135</td> <td>   -1.053</td> <td> 0.292</td> <td>   -0.408</td> <td>    0.123</td>\n",
       "</tr>\n",
       "<tr>\n",
       "  <th>r_width_value</th>    <td>   -0.3401</td> <td>    0.158</td> <td>   -2.147</td> <td> 0.032</td> <td>   -0.651</td> <td>   -0.030</td>\n",
       "</tr>\n",
       "<tr>\n",
       "  <th>speedlimit_value</th> <td>   -1.4450</td> <td>    0.237</td> <td>   -6.093</td> <td> 0.000</td> <td>   -1.910</td> <td>   -0.980</td>\n",
       "</tr>\n",
       "<tr>\n",
       "  <th>z_qnr_5</th>          <td>    0.2661</td> <td>    0.728</td> <td>    0.365</td> <td> 0.715</td> <td>   -1.161</td> <td>    1.693</td>\n",
       "</tr>\n",
       "<tr>\n",
       "  <th>z_qnr_7</th>          <td>    2.0468</td> <td>    0.608</td> <td>    3.366</td> <td> 0.001</td> <td>    0.855</td> <td>    3.239</td>\n",
       "</tr>\n",
       "<tr>\n",
       "  <th>z_qnr_8</th>          <td>    1.4165</td> <td>    0.672</td> <td>    2.109</td> <td> 0.035</td> <td>    0.100</td> <td>    2.733</td>\n",
       "</tr>\n",
       "<tr>\n",
       "  <th>z_qnr_10</th>         <td>   -2.5219</td> <td>    0.759</td> <td>   -3.324</td> <td> 0.001</td> <td>   -4.009</td> <td>   -1.035</td>\n",
       "</tr>\n",
       "<tr>\n",
       "  <th>z_qnr_11</th>         <td>    0.3698</td> <td>    0.482</td> <td>    0.768</td> <td> 0.442</td> <td>   -0.574</td> <td>    1.314</td>\n",
       "</tr>\n",
       "<tr>\n",
       "  <th>z_qnr_26</th>         <td>   -1.9895</td> <td>    0.981</td> <td>   -2.028</td> <td> 0.043</td> <td>   -3.912</td> <td>   -0.067</td>\n",
       "</tr>\n",
       "<tr>\n",
       "  <th>z_qnr_31</th>         <td>  -16.4795</td> <td> 3165.715</td> <td>   -0.005</td> <td> 0.996</td> <td>-6221.166</td> <td> 6188.207</td>\n",
       "</tr>\n",
       "<tr>\n",
       "  <th>z_knr_4</th>          <td>    1.8551</td> <td>    0.457</td> <td>    4.062</td> <td> 0.000</td> <td>    0.960</td> <td>    2.750</td>\n",
       "</tr>\n",
       "<tr>\n",
       "  <th>z_knr_5</th>          <td>    1.3113</td> <td>    0.410</td> <td>    3.194</td> <td> 0.001</td> <td>    0.507</td> <td>    2.116</td>\n",
       "</tr>\n",
       "<tr>\n",
       "  <th>trafficarea_2</th>    <td>   -2.8734</td> <td>    0.505</td> <td>   -5.687</td> <td> 0.000</td> <td>   -3.864</td> <td>   -1.883</td>\n",
       "</tr>\n",
       "<tr>\n",
       "  <th>r_width_4</th>        <td>    1.5468</td> <td>    0.362</td> <td>    4.267</td> <td> 0.000</td> <td>    0.836</td> <td>    2.257</td>\n",
       "</tr>\n",
       "<tr>\n",
       "  <th>r_width_5</th>        <td>    1.2331</td> <td>    0.346</td> <td>    3.567</td> <td> 0.000</td> <td>    0.556</td> <td>    1.911</td>\n",
       "</tr>\n",
       "<tr>\n",
       "  <th>r_width_6</th>        <td>    0.8828</td> <td>    0.442</td> <td>    1.995</td> <td> 0.046</td> <td>    0.016</td> <td>    1.750</td>\n",
       "</tr>\n",
       "<tr>\n",
       "  <th>r_surface_1</th>      <td>   26.6660</td> <td> 1.76e+05</td> <td>    0.000</td> <td> 1.000</td> <td>-3.44e+05</td> <td> 3.44e+05</td>\n",
       "</tr>\n",
       "<tr>\n",
       "  <th>speedlimit_1</th>     <td>    2.0786</td> <td>    0.468</td> <td>    4.441</td> <td> 0.000</td> <td>    1.161</td> <td>    2.996</td>\n",
       "</tr>\n",
       "<tr>\n",
       "  <th>speedlimit_4</th>     <td>    6.8533</td> <td>    0.652</td> <td>   10.512</td> <td> 0.000</td> <td>    5.576</td> <td>    8.131</td>\n",
       "</tr>\n",
       "</table>"
      ],
      "text/latex": [
       "\\begin{center}\n",
       "\\begin{tabular}{lclc}\n",
       "\\toprule\n",
       "\\textbf{Dep. Variable:}    &       acp        & \\textbf{  No. Observations:  } &      869    \\\\\n",
       "\\textbf{Model:}            &      Logit       & \\textbf{  Df Residuals:      } &      846    \\\\\n",
       "\\textbf{Method:}           &       MLE        & \\textbf{  Df Model:          } &       22    \\\\\n",
       "\\textbf{Date:}             & Fri, 25 Oct 2024 & \\textbf{  Pseudo R-squ.:     } &   0.5187    \\\\\n",
       "\\textbf{Time:}             &     16:37:25     & \\textbf{  Log-Likelihood:    } &   -250.99   \\\\\n",
       "\\textbf{converged:}        &       True       & \\textbf{  LL-Null:           } &   -521.46   \\\\\n",
       "\\textbf{Covariance Type:}  &    nonrobust     & \\textbf{  LLR p-value:       } & 2.067e-100  \\\\\n",
       "\\bottomrule\n",
       "\\end{tabular}\n",
       "\\begin{tabular}{lcccccc}\n",
       "                           & \\textbf{coef} & \\textbf{std err} & \\textbf{z} & \\textbf{P$> |$z$|$} & \\textbf{[0.025} & \\textbf{0.975]}  \\\\\n",
       "\\midrule\n",
       "\\textbf{const}             &     -30.8957  &     1.76e+05     &    -0.000  &         1.000        &    -3.44e+05    &     3.44e+05     \\\\\n",
       "\\textbf{dbusl}             &      -0.1599  &        0.140     &    -1.146  &         0.252        &       -0.433    &        0.114     \\\\\n",
       "\\textbf{dpedcro}           &       0.0065  &        0.136     &     0.048  &         0.962        &       -0.260    &        0.273     \\\\\n",
       "\\textbf{dtrafficarea}      &       0.2595  &        0.148     &     1.753  &         0.080        &       -0.031    &        0.550     \\\\\n",
       "\\textbf{droad}             &      -0.1426  &        0.135     &    -1.053  &         0.292        &       -0.408    &        0.123     \\\\\n",
       "\\textbf{r\\_width\\_value}   &      -0.3401  &        0.158     &    -2.147  &         0.032        &       -0.651    &       -0.030     \\\\\n",
       "\\textbf{speedlimit\\_value} &      -1.4450  &        0.237     &    -6.093  &         0.000        &       -1.910    &       -0.980     \\\\\n",
       "\\textbf{z\\_qnr\\_5}         &       0.2661  &        0.728     &     0.365  &         0.715        &       -1.161    &        1.693     \\\\\n",
       "\\textbf{z\\_qnr\\_7}         &       2.0468  &        0.608     &     3.366  &         0.001        &        0.855    &        3.239     \\\\\n",
       "\\textbf{z\\_qnr\\_8}         &       1.4165  &        0.672     &     2.109  &         0.035        &        0.100    &        2.733     \\\\\n",
       "\\textbf{z\\_qnr\\_10}        &      -2.5219  &        0.759     &    -3.324  &         0.001        &       -4.009    &       -1.035     \\\\\n",
       "\\textbf{z\\_qnr\\_11}        &       0.3698  &        0.482     &     0.768  &         0.442        &       -0.574    &        1.314     \\\\\n",
       "\\textbf{z\\_qnr\\_26}        &      -1.9895  &        0.981     &    -2.028  &         0.043        &       -3.912    &       -0.067     \\\\\n",
       "\\textbf{z\\_qnr\\_31}        &     -16.4795  &     3165.715     &    -0.005  &         0.996        &    -6221.166    &     6188.207     \\\\\n",
       "\\textbf{z\\_knr\\_4}         &       1.8551  &        0.457     &     4.062  &         0.000        &        0.960    &        2.750     \\\\\n",
       "\\textbf{z\\_knr\\_5}         &       1.3113  &        0.410     &     3.194  &         0.001        &        0.507    &        2.116     \\\\\n",
       "\\textbf{trafficarea\\_2}    &      -2.8734  &        0.505     &    -5.687  &         0.000        &       -3.864    &       -1.883     \\\\\n",
       "\\textbf{r\\_width\\_4}       &       1.5468  &        0.362     &     4.267  &         0.000        &        0.836    &        2.257     \\\\\n",
       "\\textbf{r\\_width\\_5}       &       1.2331  &        0.346     &     3.567  &         0.000        &        0.556    &        1.911     \\\\\n",
       "\\textbf{r\\_width\\_6}       &       0.8828  &        0.442     &     1.995  &         0.046        &        0.016    &        1.750     \\\\\n",
       "\\textbf{r\\_surface\\_1}     &      26.6660  &     1.76e+05     &     0.000  &         1.000        &    -3.44e+05    &     3.44e+05     \\\\\n",
       "\\textbf{speedlimit\\_1}     &       2.0786  &        0.468     &     4.441  &         0.000        &        1.161    &        2.996     \\\\\n",
       "\\textbf{speedlimit\\_4}     &       6.8533  &        0.652     &    10.512  &         0.000        &        5.576    &        8.131     \\\\\n",
       "\\bottomrule\n",
       "\\end{tabular}\n",
       "%\\caption{Logit Regression Results}\n",
       "\\end{center}"
      ],
      "text/plain": [
       "<class 'statsmodels.iolib.summary.Summary'>\n",
       "\"\"\"\n",
       "                           Logit Regression Results                           \n",
       "==============================================================================\n",
       "Dep. Variable:                    acp   No. Observations:                  869\n",
       "Model:                          Logit   Df Residuals:                      846\n",
       "Method:                           MLE   Df Model:                           22\n",
       "Date:                Fri, 25 Oct 2024   Pseudo R-squ.:                  0.5187\n",
       "Time:                        16:37:25   Log-Likelihood:                -250.99\n",
       "converged:                       True   LL-Null:                       -521.46\n",
       "Covariance Type:            nonrobust   LLR p-value:                2.067e-100\n",
       "====================================================================================\n",
       "                       coef    std err          z      P>|z|      [0.025      0.975]\n",
       "------------------------------------------------------------------------------------\n",
       "const              -30.8957   1.76e+05     -0.000      1.000   -3.44e+05    3.44e+05\n",
       "dbusl               -0.1599      0.140     -1.146      0.252      -0.433       0.114\n",
       "dpedcro              0.0065      0.136      0.048      0.962      -0.260       0.273\n",
       "dtrafficarea         0.2595      0.148      1.753      0.080      -0.031       0.550\n",
       "droad               -0.1426      0.135     -1.053      0.292      -0.408       0.123\n",
       "r_width_value       -0.3401      0.158     -2.147      0.032      -0.651      -0.030\n",
       "speedlimit_value    -1.4450      0.237     -6.093      0.000      -1.910      -0.980\n",
       "z_qnr_5              0.2661      0.728      0.365      0.715      -1.161       1.693\n",
       "z_qnr_7              2.0468      0.608      3.366      0.001       0.855       3.239\n",
       "z_qnr_8              1.4165      0.672      2.109      0.035       0.100       2.733\n",
       "z_qnr_10            -2.5219      0.759     -3.324      0.001      -4.009      -1.035\n",
       "z_qnr_11             0.3698      0.482      0.768      0.442      -0.574       1.314\n",
       "z_qnr_26            -1.9895      0.981     -2.028      0.043      -3.912      -0.067\n",
       "z_qnr_31           -16.4795   3165.715     -0.005      0.996   -6221.166    6188.207\n",
       "z_knr_4              1.8551      0.457      4.062      0.000       0.960       2.750\n",
       "z_knr_5              1.3113      0.410      3.194      0.001       0.507       2.116\n",
       "trafficarea_2       -2.8734      0.505     -5.687      0.000      -3.864      -1.883\n",
       "r_width_4            1.5468      0.362      4.267      0.000       0.836       2.257\n",
       "r_width_5            1.2331      0.346      3.567      0.000       0.556       1.911\n",
       "r_width_6            0.8828      0.442      1.995      0.046       0.016       1.750\n",
       "r_surface_1         26.6660   1.76e+05      0.000      1.000   -3.44e+05    3.44e+05\n",
       "speedlimit_1         2.0786      0.468      4.441      0.000       1.161       2.996\n",
       "speedlimit_4         6.8533      0.652     10.512      0.000       5.576       8.131\n",
       "====================================================================================\n",
       "\"\"\""
      ]
     },
     "execution_count": 283,
     "metadata": {},
     "output_type": "execute_result"
    }
   ],
   "source": [
    "# with splitting\n",
    "xs_const = tools.add_constant(xs)\n",
    "X_train, X_test, y_train, y_test = train_test_split(\n",
    "        xs_const, y,\n",
    "        test_size=0.2,\n",
    "        random_state=0)\n",
    "m_log_split = sm.Logit(y_train, X_train, max_iter = 400)\n",
    "r_log_split = m_log_split.fit_regularized()\n",
    "r_log_split.summary()"
   ]
  },
  {
   "cell_type": "code",
   "execution_count": 303,
   "id": "2a62a120-f3ed-4c7f-9bc9-03b269ae284b",
   "metadata": {
    "execution": {
     "iopub.execute_input": "2024-10-25T14:57:24.737873Z",
     "iopub.status.busy": "2024-10-25T14:57:24.737188Z",
     "iopub.status.idle": "2024-10-25T14:57:24.740276Z",
     "shell.execute_reply": "2024-10-25T14:57:24.739855Z",
     "shell.execute_reply.started": "2024-10-25T14:57:24.737830Z"
    }
   },
   "outputs": [],
   "source": [
    "# print(r_log_split.prsquared)\n",
    "# printsig(r_log_split)"
   ]
  },
  {
   "cell_type": "code",
   "execution_count": 285,
   "id": "7041cafa-c145-481a-8a65-a0178429d601",
   "metadata": {
    "execution": {
     "iopub.execute_input": "2024-10-25T14:37:26.183898Z",
     "iopub.status.busy": "2024-10-25T14:37:26.183601Z",
     "iopub.status.idle": "2024-10-25T14:37:26.186151Z",
     "shell.execute_reply": "2024-10-25T14:37:26.185778Z",
     "shell.execute_reply.started": "2024-10-25T14:37:26.183883Z"
    }
   },
   "outputs": [],
   "source": [
    "log_sbfs.append(r_log_split.prsquared)"
   ]
  },
  {
   "cell_type": "code",
   "execution_count": 302,
   "id": "d5ca2ac8-c06f-4377-8eb3-36d48d9b6cb1",
   "metadata": {
    "execution": {
     "iopub.execute_input": "2024-10-25T14:57:19.675816Z",
     "iopub.status.busy": "2024-10-25T14:57:19.675378Z",
     "iopub.status.idle": "2024-10-25T14:57:19.677980Z",
     "shell.execute_reply": "2024-10-25T14:57:19.677485Z",
     "shell.execute_reply.started": "2024-10-25T14:57:19.675800Z"
    }
   },
   "outputs": [],
   "source": [
    "# log_sbfs"
   ]
  },
  {
   "cell_type": "code",
   "execution_count": 301,
   "id": "12529ff4-e495-4e3b-81eb-a2e7e659dd47",
   "metadata": {
    "execution": {
     "iopub.execute_input": "2024-10-25T14:57:13.935923Z",
     "iopub.status.busy": "2024-10-25T14:57:13.935553Z",
     "iopub.status.idle": "2024-10-25T14:57:13.938055Z",
     "shell.execute_reply": "2024-10-25T14:57:13.937663Z",
     "shell.execute_reply.started": "2024-10-25T14:57:13.935906Z"
    }
   },
   "outputs": [],
   "source": [
    "# dfc = printsig(r_log_split)\n",
    "# # dfa = pd.merge(df, dfc, on = 'feature', how = 'left')\n",
    "# dfa = pd.merge(dfa, dfc, on = 'feature', how = 'left')"
   ]
  },
  {
   "cell_type": "code",
   "execution_count": 280,
   "id": "3352d6b7-b025-46dd-a011-179439ca4ca5",
   "metadata": {
    "execution": {
     "iopub.execute_input": "2024-10-25T14:32:59.997544Z",
     "iopub.status.busy": "2024-10-25T14:32:59.996759Z",
     "iopub.status.idle": "2024-10-25T14:33:00.001737Z",
     "shell.execute_reply": "2024-10-25T14:33:00.001237Z",
     "shell.execute_reply.started": "2024-10-25T14:32:59.997526Z"
    }
   },
   "outputs": [],
   "source": [
    "# dfa.to_csv('/home/yelhe/script/mtp/tables/sigfeatures_try.csv', index = True)"
   ]
  },
  {
   "cell_type": "code",
   "execution_count": 300,
   "id": "32a4a23d-2137-45be-bca8-3d3aa86316bc",
   "metadata": {
    "execution": {
     "iopub.execute_input": "2024-10-25T14:57:11.069341Z",
     "iopub.status.busy": "2024-10-25T14:57:11.068933Z",
     "iopub.status.idle": "2024-10-25T14:57:11.071540Z",
     "shell.execute_reply": "2024-10-25T14:57:11.071096Z",
     "shell.execute_reply.started": "2024-10-25T14:57:11.069324Z"
    }
   },
   "outputs": [],
   "source": [
    "# df = pd.DataFrame()\n",
    "# cnvifnew = cnvif.copy()\n",
    "# cnvifnew.insert(0, 'const')\n",
    "# print(cnvifnew)\n",
    "# df['feature'] = cnvifnew"
   ]
  }
 ],
 "metadata": {
  "kernelspec": {
   "display_name": "Python 3 (ipykernel)",
   "language": "python",
   "name": "python3"
  },
  "language_info": {
   "codemirror_mode": {
    "name": "ipython",
    "version": 3
   },
   "file_extension": ".py",
   "mimetype": "text/x-python",
   "name": "python",
   "nbconvert_exporter": "python",
   "pygments_lexer": "ipython3",
   "version": "3.11.5"
  }
 },
 "nbformat": 4,
 "nbformat_minor": 5
}
