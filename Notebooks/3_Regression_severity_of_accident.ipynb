{
 "cells": [
  {
   "cell_type": "markdown",
   "id": "eaf477e6-160a-4627-86d7-ec4ef775338f",
   "metadata": {},
   "source": [
    "# Preparation"
   ]
  },
  {
   "cell_type": "code",
   "execution_count": 11,
   "id": "814b498e-0791-4f34-a26a-13e042cbf8ef",
   "metadata": {
    "execution": {
     "iopub.execute_input": "2024-10-28T15:12:15.906945Z",
     "iopub.status.busy": "2024-10-28T15:12:15.906486Z",
     "iopub.status.idle": "2024-10-28T15:12:15.909076Z",
     "shell.execute_reply": "2024-10-28T15:12:15.908666Z",
     "shell.execute_reply.started": "2024-10-28T15:12:15.906925Z"
    }
   },
   "outputs": [],
   "source": [
    "# This file is based on: 2_regression_presence_of_accident\n",
    "# Remove features which were found correlated with others\n",
    "# Remove the categorical features which has only two categories\n",
    "# Remove features identified by VIF"
   ]
  },
  {
   "cell_type": "code",
   "execution_count": 12,
   "id": "7e9f75d8-3be9-45ef-b9ae-ad72fefb7ce1",
   "metadata": {
    "execution": {
     "iopub.execute_input": "2024-10-28T15:12:15.910123Z",
     "iopub.status.busy": "2024-10-28T15:12:15.909856Z",
     "iopub.status.idle": "2024-10-28T15:12:15.946467Z",
     "shell.execute_reply": "2024-10-28T15:12:15.946084Z",
     "shell.execute_reply.started": "2024-10-28T15:12:15.910108Z"
    }
   },
   "outputs": [],
   "source": [
    "import torch\n",
    "torch.cuda.empty_cache() "
   ]
  },
  {
   "cell_type": "code",
   "execution_count": 13,
   "id": "f3e5fa71-37bd-4efe-b8ee-ae3c362b2a1b",
   "metadata": {
    "execution": {
     "iopub.execute_input": "2024-10-28T15:12:15.947228Z",
     "iopub.status.busy": "2024-10-28T15:12:15.947035Z",
     "iopub.status.idle": "2024-10-28T15:12:15.962280Z",
     "shell.execute_reply": "2024-10-28T15:12:15.961889Z",
     "shell.execute_reply.started": "2024-10-28T15:12:15.947214Z"
    }
   },
   "outputs": [],
   "source": [
    "import os \n",
    "os.environ['MPLCONFIGDIR'] = os.getcwd() + \"/configs/\"\n",
    "import cv2\n",
    "import urllib.request\n",
    "from PIL import Image"
   ]
  },
  {
   "cell_type": "code",
   "execution_count": 14,
   "id": "923fac26-61e2-49dd-9099-e31ff4079430",
   "metadata": {
    "execution": {
     "iopub.execute_input": "2024-10-28T15:12:15.963698Z",
     "iopub.status.busy": "2024-10-28T15:12:15.963418Z",
     "iopub.status.idle": "2024-10-28T15:12:15.973250Z",
     "shell.execute_reply": "2024-10-28T15:12:15.972868Z",
     "shell.execute_reply.started": "2024-10-28T15:12:15.963684Z"
    }
   },
   "outputs": [],
   "source": [
    "from mtp_function_yl import *"
   ]
  },
  {
   "cell_type": "code",
   "execution_count": 15,
   "id": "5e96af5a-1201-48aa-a82c-9d4a3c2ee496",
   "metadata": {
    "execution": {
     "iopub.execute_input": "2024-10-28T15:12:15.974020Z",
     "iopub.status.busy": "2024-10-28T15:12:15.973785Z",
     "iopub.status.idle": "2024-10-28T15:12:15.982863Z",
     "shell.execute_reply": "2024-10-28T15:12:15.982491Z",
     "shell.execute_reply.started": "2024-10-28T15:12:15.974006Z"
    }
   },
   "outputs": [],
   "source": [
    "# pip install scipy==1.14.0\n",
    "import scipy"
   ]
  },
  {
   "cell_type": "code",
   "execution_count": 16,
   "id": "0a5c2c87-4ce5-44f6-b44b-44b6577c222a",
   "metadata": {
    "execution": {
     "iopub.execute_input": "2024-10-28T15:12:15.983573Z",
     "iopub.status.busy": "2024-10-28T15:12:15.983425Z",
     "iopub.status.idle": "2024-10-28T15:12:15.992734Z",
     "shell.execute_reply": "2024-10-28T15:12:15.992371Z",
     "shell.execute_reply.started": "2024-10-28T15:12:15.983560Z"
    }
   },
   "outputs": [],
   "source": [
    "# pip install statsmodels==0.14.4\n",
    "import statsmodels"
   ]
  },
  {
   "cell_type": "code",
   "execution_count": 43,
   "id": "e1804d06-b69a-4709-ac5c-1970d29c38a2",
   "metadata": {
    "execution": {
     "iopub.execute_input": "2024-10-28T15:15:28.508882Z",
     "iopub.status.busy": "2024-10-28T15:15:28.508587Z",
     "iopub.status.idle": "2024-10-28T15:15:28.513305Z",
     "shell.execute_reply": "2024-10-28T15:15:28.512749Z",
     "shell.execute_reply.started": "2024-10-28T15:15:28.508864Z"
    }
   },
   "outputs": [],
   "source": [
    "import pandas as pd\n",
    "import pyproj\n",
    "\n",
    "import matplotlib\n",
    "from matplotlib import pyplot as plt\n",
    "import numpy as np\n",
    "\n",
    "from pathlib import Path\n",
    "from scipy import stats\n",
    "from scipy.stats import ks_2samp\n",
    "from tabulate import tabulate\n",
    "import statsmodels.api as sm\n",
    "import statsmodels.tools as tools\n",
    "import sklearn\n",
    "from sklearn import metrics\n",
    "from sklearn.metrics import accuracy_score\n",
    "from sklearn.metrics import accuracy_score, confusion_matrix, roc_auc_score, roc_curve\n",
    "from sklearn.model_selection import train_test_split\n",
    "from sklearn import linear_model\n",
    "from sklearn.neighbors import KNeighborsClassifier\n",
    "from sklearn.ensemble import RandomForestClassifier\n",
    "from sklearn.preprocessing import LabelEncoder\n",
    "from sklearn import svm\n",
    "import seaborn as sn\n",
    "\n",
    "# For regression\n",
    "from sklearn.ensemble import RandomForestRegressor\n",
    "# from sklearn.metrics import PredictionErrorDisplay\n",
    "\n",
    "import mlxtend\n",
    "# For stepwise feature selection\n",
    "from mlxtend.feature_selection import SequentialFeatureSelector\n",
    "from mlxtend.plotting import plot_sequential_feature_selection as plot_sfs\n",
    "\n",
    "# VIF for multicollinearity\n",
    "from statsmodels.stats.outliers_influence import variance_inflation_factor"
   ]
  },
  {
   "cell_type": "code",
   "execution_count": 18,
   "id": "52971dc9",
   "metadata": {
    "execution": {
     "iopub.execute_input": "2024-10-28T15:12:16.004978Z",
     "iopub.status.busy": "2024-10-28T15:12:16.004760Z",
     "iopub.status.idle": "2024-10-28T15:12:16.013750Z",
     "shell.execute_reply": "2024-10-28T15:12:16.013380Z",
     "shell.execute_reply.started": "2024-10-28T15:12:16.004964Z"
    }
   },
   "outputs": [],
   "source": [
    "import warnings\n",
    "warnings.simplefilter(action='ignore', category=FutureWarning)"
   ]
  },
  {
   "cell_type": "code",
   "execution_count": 19,
   "id": "2ab3a45d-22e0-47a8-8683-6379778d16af",
   "metadata": {
    "execution": {
     "iopub.execute_input": "2024-10-28T15:12:16.014660Z",
     "iopub.status.busy": "2024-10-28T15:12:16.014261Z",
     "iopub.status.idle": "2024-10-28T15:12:16.023286Z",
     "shell.execute_reply": "2024-10-28T15:12:16.022859Z",
     "shell.execute_reply.started": "2024-10-28T15:12:16.014644Z"
    }
   },
   "outputs": [
    {
     "name": "stdout",
     "output_type": "stream",
     "text": [
      "The watermark extension is already loaded. To reload it, use:\n",
      "  %reload_ext watermark\n"
     ]
    }
   ],
   "source": [
    "# For documentation and version control\n",
    "# pip install watermark\n",
    "%load_ext watermark"
   ]
  },
  {
   "cell_type": "code",
   "execution_count": 20,
   "id": "2a136dd7-7bc6-41ab-9893-647a65990d75",
   "metadata": {
    "execution": {
     "iopub.execute_input": "2024-10-28T15:12:16.025259Z",
     "iopub.status.busy": "2024-10-28T15:12:16.025068Z",
     "iopub.status.idle": "2024-10-28T15:12:16.045236Z",
     "shell.execute_reply": "2024-10-28T15:12:16.044822Z",
     "shell.execute_reply.started": "2024-10-28T15:12:16.025246Z"
    }
   },
   "outputs": [
    {
     "name": "stdout",
     "output_type": "stream",
     "text": [
      "Last updated: 2024-10-28\n",
      "\n",
      "Python implementation: CPython\n",
      "Python version       : 3.11.5\n",
      "IPython version      : 8.14.0\n",
      "\n",
      "Compiler    : GCC 12.3.0\n",
      "OS          : Linux\n",
      "Release     : 5.15.0-119-generic\n",
      "Machine     : x86_64\n",
      "Processor   : x86_64\n",
      "CPU cores   : 48\n",
      "Architecture: 64bit\n",
      "\n",
      "sklearn    : 1.3.0\n",
      "pandas     : 2.0.3\n",
      "shapely    : 2.0.2\n",
      "matplotlib : 3.7.2\n",
      "PIL        : 10.0.0\n",
      "seaborn    : 0.12.2\n",
      "statsmodels: 0.14.4\n",
      "cv2        : 4.8.1\n",
      "mlxtend    : 0.23.1\n",
      "scipy      : 1.14.0\n",
      "torch      : 2.0.1\n",
      "numpy      : 1.26.4\n",
      "pyproj     : 3.6.1\n",
      "\n"
     ]
    }
   ],
   "source": [
    "%watermark  -u -d -v -m --iversions"
   ]
  },
  {
   "cell_type": "markdown",
   "id": "11486eff-60e0-460e-a14b-9a0ab0628a50",
   "metadata": {},
   "source": [
    "# Data loading"
   ]
  },
  {
   "cell_type": "markdown",
   "id": "a1e64746",
   "metadata": {},
   "source": [
    "## For science cluster environment"
   ]
  },
  {
   "cell_type": "code",
   "execution_count": 21,
   "id": "bd1de1e5-d842-482d-9027-047b5690f2c0",
   "metadata": {
    "execution": {
     "iopub.execute_input": "2024-10-28T15:12:16.045926Z",
     "iopub.status.busy": "2024-10-28T15:12:16.045739Z",
     "iopub.status.idle": "2024-10-28T15:12:16.056869Z",
     "shell.execute_reply": "2024-10-28T15:12:16.056452Z",
     "shell.execute_reply.started": "2024-10-28T15:12:16.045912Z"
    }
   },
   "outputs": [],
   "source": [
    "aa = pd.read_csv('/home/yelhe/script/mt/dataraw/dfaa.csv')"
   ]
  },
  {
   "cell_type": "code",
   "execution_count": 22,
   "id": "81878c3e-4db4-46cf-bff2-e3655f317434",
   "metadata": {
    "execution": {
     "iopub.execute_input": "2024-10-28T15:12:16.057635Z",
     "iopub.status.busy": "2024-10-28T15:12:16.057469Z",
     "iopub.status.idle": "2024-10-28T15:12:16.071566Z",
     "shell.execute_reply": "2024-10-28T15:12:16.071170Z",
     "shell.execute_reply.started": "2024-10-28T15:12:16.057621Z"
    }
   },
   "outputs": [],
   "source": [
    "acv = pd.read_csv('/home/yelhe/script/mt/model/allvariable_accident.csv')\n",
    "# rpv = pd.read_csv('/home/yelhe/script/mt/model/allvariable_rp.csv')"
   ]
  },
  {
   "cell_type": "code",
   "execution_count": 23,
   "id": "3a804d5c-2566-435c-8141-9506807015f1",
   "metadata": {
    "execution": {
     "iopub.execute_input": "2024-10-28T15:12:16.072296Z",
     "iopub.status.busy": "2024-10-28T15:12:16.072100Z",
     "iopub.status.idle": "2024-10-28T15:12:16.076634Z",
     "shell.execute_reply": "2024-10-28T15:12:16.076246Z",
     "shell.execute_reply.started": "2024-10-28T15:12:16.072282Z"
    }
   },
   "outputs": [],
   "source": [
    "# Create presence of person injury\n",
    "acv0 = acv.copy(deep = True)\n",
    "acv0 = acv0.assign(inp = 1)\n",
    "acv0.loc[(acv0['svp'] == 0) & (acv0['lvp'] == 0), 'inp'] = 0"
   ]
  },
  {
   "cell_type": "code",
   "execution_count": 24,
   "id": "69a0d661-de48-4c20-bbd3-5dc7de6650bd",
   "metadata": {
    "execution": {
     "iopub.execute_input": "2024-10-28T15:12:16.077424Z",
     "iopub.status.busy": "2024-10-28T15:12:16.077230Z",
     "iopub.status.idle": "2024-10-28T15:12:16.084619Z",
     "shell.execute_reply": "2024-10-28T15:12:16.084202Z",
     "shell.execute_reply.started": "2024-10-28T15:12:16.077410Z"
    }
   },
   "outputs": [],
   "source": [
    "# acv0.to_csv('/home/yelhe/script/mt/model/dfacrsv.csv', index = False)"
   ]
  },
  {
   "cell_type": "code",
   "execution_count": 25,
   "id": "8366bc36-d3df-4739-a9c1-1122319c8072",
   "metadata": {
    "execution": {
     "iopub.execute_input": "2024-10-28T15:12:16.085359Z",
     "iopub.status.busy": "2024-10-28T15:12:16.085177Z",
     "iopub.status.idle": "2024-10-28T15:12:16.094101Z",
     "shell.execute_reply": "2024-10-28T15:12:16.093689Z",
     "shell.execute_reply.started": "2024-10-28T15:12:16.085346Z"
    }
   },
   "outputs": [],
   "source": [
    "dfacrsv = acv0.copy(deep = True)"
   ]
  },
  {
   "cell_type": "code",
   "execution_count": 80,
   "id": "8c66e475-4012-4db9-b328-9af8bbc593dd",
   "metadata": {
    "execution": {
     "iopub.execute_input": "2024-10-28T16:34:27.680879Z",
     "iopub.status.busy": "2024-10-28T16:34:27.680606Z",
     "iopub.status.idle": "2024-10-28T16:34:27.685555Z",
     "shell.execute_reply": "2024-10-28T16:34:27.685147Z",
     "shell.execute_reply.started": "2024-10-28T16:34:27.680862Z"
    }
   },
   "outputs": [
    {
     "data": {
      "text/plain": [
       "inp\n",
       "0     40\n",
       "1    255\n",
       "dtype: int64"
      ]
     },
     "execution_count": 80,
     "metadata": {},
     "output_type": "execute_result"
    }
   ],
   "source": [
    "dfacrsv.groupby('inp').size()"
   ]
  },
  {
   "cell_type": "code",
   "execution_count": 275,
   "id": "8931c68d-e09d-484d-84f4-319a6a297683",
   "metadata": {
    "execution": {
     "iopub.execute_input": "2024-10-28T18:05:25.548475Z",
     "iopub.status.busy": "2024-10-28T18:05:25.548171Z",
     "iopub.status.idle": "2024-10-28T18:05:25.551034Z",
     "shell.execute_reply": "2024-10-28T18:05:25.550464Z",
     "shell.execute_reply.started": "2024-10-28T18:05:25.548455Z"
    }
   },
   "outputs": [],
   "source": [
    "# i = i+1\n",
    "# print(i)\n",
    "# dfacrsv['inp'].equals(dfacrsv[cn[i]])"
   ]
  },
  {
   "cell_type": "markdown",
   "id": "b37914e0",
   "metadata": {},
   "source": [
    "## Pre Processing"
   ]
  },
  {
   "cell_type": "code",
   "execution_count": 198,
   "id": "8f1bedf8-917e-45a4-a85c-007ae6101435",
   "metadata": {
    "execution": {
     "iopub.execute_input": "2024-10-28T18:03:58.992888Z",
     "iopub.status.busy": "2024-10-28T18:03:58.992601Z",
     "iopub.status.idle": "2024-10-28T18:03:58.997330Z",
     "shell.execute_reply": "2024-10-28T18:03:58.996887Z",
     "shell.execute_reply.started": "2024-10-28T18:03:58.992870Z"
    }
   },
   "outputs": [],
   "source": [
    "# Remove r_width_7, speedlimit_6, z_qnr_33, z_knr_12, trafficarea_3,\n",
    "# Remove curbtype_1, dcurb, curbtype_2, r_surface_2\n",
    "# (variance = 0) Remove 'r_surface_1', 'z_qnr_30','z_qnr_31'\n",
    "# (low variance 0.003390) remove 'speedlimit_3', 'speedlimit_5', 'z_qnr_23', 'z_qnr_32',\n",
    "# (low variance 0.006757) remove 'z_qnr_27', 'z_qnr_29',\n",
    "# (low variance 0.010100) remove 'z_qnr_26', 'z_qnr_4', 'z_qnr_9'\n",
    "cn = ['cp', 'cmean', 'cmin', 'cmax',  'ie', 'iemin', 'iemax', 'mew', 'mewmin',\n",
    "      'mewmax', 'meg', 'megmin', 'megmax','dbusl', 'dtraml', \n",
    "      'dtrainl', 'dplight', 'dstation', 'dparkcar', 'dparktw', 'dpedcro', 'dstopsign', \n",
    "      'dtrafficarea', 'droad', 'dvfpath', 'gvm_dwv', 'gvm_msp', 'gvm_asp', \n",
    "      'r_width_value','speedlimit_value', 'bicyclecount', 'carcount',\n",
    "      'z_qnr_1', 'z_qnr_2', 'z_qnr_3', 'z_qnr_5', 'z_qnr_6', \n",
    "      'z_qnr_7', 'z_qnr_8',  'z_qnr_10', 'z_qnr_11', 'z_qnr_12',\n",
    "      'z_qnr_13', 'z_qnr_14', 'z_qnr_15', 'z_qnr_16', 'z_qnr_17', 'z_qnr_18',\n",
    "      'z_qnr_19', 'z_qnr_20', 'z_qnr_21', 'z_qnr_22', 'z_qnr_24',\n",
    "       'z_qnr_25',  'z_qnr_28', \n",
    "      'z_knr_1', 'z_knr_2', 'z_knr_3',\n",
    "       'z_knr_4', 'z_knr_5', 'z_knr_6', 'z_knr_7', 'z_knr_8', 'z_knr_9',\n",
    "       'z_knr_10', 'z_knr_11', 'trafficarea_1', 'trafficarea_2',\n",
    "      'r_width_1', 'r_width_2', 'r_width_3', 'r_width_4',\n",
    "       'r_width_5', 'r_width_6',\n",
    "       'speedlimit_1', 'speedlimit_2','speedlimit_4' ]"
   ]
  },
  {
   "cell_type": "code",
   "execution_count": 160,
   "id": "e1c12da9-572c-48aa-854d-a94a9eee488e",
   "metadata": {
    "execution": {
     "iopub.execute_input": "2024-10-28T16:45:17.435088Z",
     "iopub.status.busy": "2024-10-28T16:45:17.434826Z",
     "iopub.status.idle": "2024-10-28T16:45:17.437534Z",
     "shell.execute_reply": "2024-10-28T16:45:17.436993Z",
     "shell.execute_reply.started": "2024-10-28T16:45:17.435071Z"
    }
   },
   "outputs": [],
   "source": [
    "# i = i+1\n",
    "# dfa = dfacrsv[cn]\n",
    "# dfa.groupby(cn[i]).size()\n",
    "# # dfa.groupby('z_qnr_2').size()\n"
   ]
  },
  {
   "cell_type": "code",
   "execution_count": 99,
   "id": "4be7208e-3671-4fdf-b735-0dd977dce0eb",
   "metadata": {
    "execution": {
     "iopub.execute_input": "2024-10-28T16:36:14.003030Z",
     "iopub.status.busy": "2024-10-28T16:36:14.002772Z",
     "iopub.status.idle": "2024-10-28T16:36:14.008742Z",
     "shell.execute_reply": "2024-10-28T16:36:14.008376Z",
     "shell.execute_reply.started": "2024-10-28T16:36:14.003012Z"
    }
   },
   "outputs": [
    {
     "data": {
      "text/plain": [
       "z_qnr_28         0.013421\n",
       "z_qnr_13         0.013421\n",
       "z_qnr_2          0.013421\n",
       "z_qnr_3          0.016719\n",
       "r_width_2        0.019993\n",
       "                   ...   \n",
       "r_width_value    1.032744\n",
       "dbusl            1.033963\n",
       "bicyclecount     1.034020\n",
       "dstopsign        1.045260\n",
       "dparktw          1.052253\n",
       "Length: 77, dtype: float64"
      ]
     },
     "execution_count": 99,
     "metadata": {},
     "output_type": "execute_result"
    }
   ],
   "source": [
    "dfv = dfacrsv[cn]\n",
    "dfv.var().sort_values()"
   ]
  },
  {
   "cell_type": "code",
   "execution_count": 29,
   "id": "a71b934e-d1a2-480e-9f9a-8b4a9c0aa022",
   "metadata": {
    "execution": {
     "iopub.execute_input": "2024-10-28T15:12:16.128689Z",
     "iopub.status.busy": "2024-10-28T15:12:16.128294Z",
     "iopub.status.idle": "2024-10-28T15:12:16.145278Z",
     "shell.execute_reply": "2024-10-28T15:12:16.144883Z",
     "shell.execute_reply.started": "2024-10-28T15:12:16.128674Z"
    }
   },
   "outputs": [],
   "source": [
    "# Correlation\n",
    "dfv = dfacrsv[cn]\n",
    "corr_matrix = dfv.corr()\n",
    "upper_corrmat = corr_matrix.where(\n",
    "                np.triu(np.ones(corr_matrix.shape),k = 1).astype(bool))\n",
    "unique_corrpair = upper_corrmat.unstack().dropna()\n",
    "sorted_uni_cp = unique_corrpair.sort_values()"
   ]
  },
  {
   "cell_type": "code",
   "execution_count": 30,
   "id": "0ea567d2-f668-40e2-9ca8-bd7b675fd011",
   "metadata": {
    "execution": {
     "iopub.execute_input": "2024-10-28T15:12:16.146050Z",
     "iopub.status.busy": "2024-10-28T15:12:16.145852Z",
     "iopub.status.idle": "2024-10-28T15:12:16.151002Z",
     "shell.execute_reply": "2024-10-28T15:12:16.150619Z",
     "shell.execute_reply.started": "2024-10-28T15:12:16.146036Z"
    }
   },
   "outputs": [
    {
     "data": {
      "text/plain": [
       "speedlimit_2   speedlimit_value   -0.842319\n",
       "speedlimit_4   speedlimit_1       -0.672881\n",
       "trafficarea_2  trafficarea_1      -0.669003\n",
       "r_width_1      r_width_value      -0.566343\n",
       "trafficarea_1  z_knr_9            -0.543506\n",
       "                                     ...   \n",
       "cmax           cp                  0.969154\n",
       "               cmean               0.976786\n",
       "gvm_msp        gvm_dwv             0.983475\n",
       "gvm_asp        gvm_msp             0.985719\n",
       "               gvm_dwv             0.987063\n",
       "Length: 2926, dtype: float64"
      ]
     },
     "execution_count": 30,
     "metadata": {},
     "output_type": "execute_result"
    }
   ],
   "source": [
    "sorted_uni_cp"
   ]
  },
  {
   "cell_type": "code",
   "execution_count": 31,
   "id": "3331ca17-5740-446a-88ec-c9f72fac1c53",
   "metadata": {
    "execution": {
     "iopub.execute_input": "2024-10-28T15:12:16.151756Z",
     "iopub.status.busy": "2024-10-28T15:12:16.151565Z",
     "iopub.status.idle": "2024-10-28T15:12:16.159583Z",
     "shell.execute_reply": "2024-10-28T15:12:16.159224Z",
     "shell.execute_reply.started": "2024-10-28T15:12:16.151742Z"
    }
   },
   "outputs": [],
   "source": [
    "dfcorr = sorted_uni_cp.to_frame()"
   ]
  },
  {
   "cell_type": "code",
   "execution_count": 32,
   "id": "243043a9-be84-4054-bc8d-f97773b45a5f",
   "metadata": {
    "execution": {
     "iopub.execute_input": "2024-10-28T15:12:16.160290Z",
     "iopub.status.busy": "2024-10-28T15:12:16.160105Z",
     "iopub.status.idle": "2024-10-28T15:12:16.182193Z",
     "shell.execute_reply": "2024-10-28T15:12:16.181776Z",
     "shell.execute_reply.started": "2024-10-28T15:12:16.160277Z"
    }
   },
   "outputs": [
    {
     "data": {
      "text/html": [
       "<div>\n",
       "<style scoped>\n",
       "    .dataframe tbody tr th:only-of-type {\n",
       "        vertical-align: middle;\n",
       "    }\n",
       "\n",
       "    .dataframe tbody tr th {\n",
       "        vertical-align: top;\n",
       "    }\n",
       "\n",
       "    .dataframe thead th {\n",
       "        text-align: right;\n",
       "    }\n",
       "</style>\n",
       "<table border=\"1\" class=\"dataframe\">\n",
       "  <thead>\n",
       "    <tr style=\"text-align: right;\">\n",
       "      <th></th>\n",
       "      <th></th>\n",
       "      <th>0</th>\n",
       "    </tr>\n",
       "  </thead>\n",
       "  <tbody>\n",
       "    <tr>\n",
       "      <th>speedlimit_2</th>\n",
       "      <th>speedlimit_value</th>\n",
       "      <td>-0.842319</td>\n",
       "    </tr>\n",
       "    <tr>\n",
       "      <th>z_knr_3</th>\n",
       "      <th>z_qnr_7</th>\n",
       "      <td>0.827680</td>\n",
       "    </tr>\n",
       "    <tr>\n",
       "      <th>speedlimit_4</th>\n",
       "      <th>speedlimit_value</th>\n",
       "      <td>0.837207</td>\n",
       "    </tr>\n",
       "    <tr>\n",
       "      <th>r_width_5</th>\n",
       "      <th>r_width_value</th>\n",
       "      <td>0.848569</td>\n",
       "    </tr>\n",
       "    <tr>\n",
       "      <th>mewmax</th>\n",
       "      <th>mew</th>\n",
       "      <td>0.861316</td>\n",
       "    </tr>\n",
       "    <tr>\n",
       "      <th>megmin</th>\n",
       "      <th>meg</th>\n",
       "      <td>0.861510</td>\n",
       "    </tr>\n",
       "    <tr>\n",
       "      <th>z_knr_1</th>\n",
       "      <th>z_qnr_1</th>\n",
       "      <td>0.881660</td>\n",
       "    </tr>\n",
       "    <tr>\n",
       "      <th>mewmin</th>\n",
       "      <th>mew</th>\n",
       "      <td>0.904819</td>\n",
       "    </tr>\n",
       "    <tr>\n",
       "      <th>z_knr_7</th>\n",
       "      <th>z_qnr_12</th>\n",
       "      <td>0.906208</td>\n",
       "    </tr>\n",
       "    <tr>\n",
       "      <th>iemax</th>\n",
       "      <th>ie</th>\n",
       "      <td>0.923209</td>\n",
       "    </tr>\n",
       "    <tr>\n",
       "      <th>cmean</th>\n",
       "      <th>cp</th>\n",
       "      <td>0.939904</td>\n",
       "    </tr>\n",
       "    <tr>\n",
       "      <th>z_knr_8</th>\n",
       "      <th>z_qnr_16</th>\n",
       "      <td>0.941165</td>\n",
       "    </tr>\n",
       "    <tr>\n",
       "      <th>iemin</th>\n",
       "      <th>ie</th>\n",
       "      <td>0.949606</td>\n",
       "    </tr>\n",
       "    <tr>\n",
       "      <th rowspan=\"2\" valign=\"top\">cmax</th>\n",
       "      <th>cp</th>\n",
       "      <td>0.969154</td>\n",
       "    </tr>\n",
       "    <tr>\n",
       "      <th>cmean</th>\n",
       "      <td>0.976786</td>\n",
       "    </tr>\n",
       "    <tr>\n",
       "      <th>gvm_msp</th>\n",
       "      <th>gvm_dwv</th>\n",
       "      <td>0.983475</td>\n",
       "    </tr>\n",
       "    <tr>\n",
       "      <th rowspan=\"2\" valign=\"top\">gvm_asp</th>\n",
       "      <th>gvm_msp</th>\n",
       "      <td>0.985719</td>\n",
       "    </tr>\n",
       "    <tr>\n",
       "      <th>gvm_dwv</th>\n",
       "      <td>0.987063</td>\n",
       "    </tr>\n",
       "  </tbody>\n",
       "</table>\n",
       "</div>"
      ],
      "text/plain": [
       "                                      0\n",
       "speedlimit_2 speedlimit_value -0.842319\n",
       "z_knr_3      z_qnr_7           0.827680\n",
       "speedlimit_4 speedlimit_value  0.837207\n",
       "r_width_5    r_width_value     0.848569\n",
       "mewmax       mew               0.861316\n",
       "megmin       meg               0.861510\n",
       "z_knr_1      z_qnr_1           0.881660\n",
       "mewmin       mew               0.904819\n",
       "z_knr_7      z_qnr_12          0.906208\n",
       "iemax        ie                0.923209\n",
       "cmean        cp                0.939904\n",
       "z_knr_8      z_qnr_16          0.941165\n",
       "iemin        ie                0.949606\n",
       "cmax         cp                0.969154\n",
       "             cmean             0.976786\n",
       "gvm_msp      gvm_dwv           0.983475\n",
       "gvm_asp      gvm_msp           0.985719\n",
       "             gvm_dwv           0.987063"
      ]
     },
     "execution_count": 32,
     "metadata": {},
     "output_type": "execute_result"
    }
   ],
   "source": [
    "dfcorr.loc[(dfcorr[0] >= 0.8) | (dfcorr[0] <= -0.8)]"
   ]
  },
  {
   "cell_type": "code",
   "execution_count": 33,
   "id": "a57a5b25-ad9f-427b-b9eb-f308308b3ecc",
   "metadata": {
    "execution": {
     "iopub.execute_input": "2024-10-28T15:12:16.182947Z",
     "iopub.status.busy": "2024-10-28T15:12:16.182752Z",
     "iopub.status.idle": "2024-10-28T15:12:16.186641Z",
     "shell.execute_reply": "2024-10-28T15:12:16.186253Z",
     "shell.execute_reply.started": "2024-10-28T15:12:16.182933Z"
    }
   },
   "outputs": [
    {
     "name": "stdout",
     "output_type": "stream",
     "text": [
      "61\n"
     ]
    }
   ],
   "source": [
    "# For high correlation\n",
    "# Remove 'cp', 'r_width_5', 'z_qnr_16', 'z_qnr_12', 'z_qnr_1', 'speedlimit_4', 'z_qnr_7'\n",
    "# Remove 'cmax','gvm_asp', 'gvm_msp', 'iemin', 'iemax','mewmin','megmin','mewmax',\n",
    "# Remove 'speedlimit_2'\n",
    "cnu = ['cmean', 'cmin', 'ie',  'mew', 'meg',  'megmax',\n",
    "       'dbusl', 'dtraml', 'dtrainl', 'dplight', 'dstation', 'dparkcar', 'dparktw', \n",
    "       'dpedcro', 'dstopsign', 'dtrafficarea', 'droad', 'dvfpath', 'gvm_dwv',\n",
    "       'r_width_value','speedlimit_value', 'bicyclecount', 'carcount',\n",
    "       'z_qnr_2', 'z_qnr_3', 'z_qnr_4', 'z_qnr_5', 'z_qnr_6', \n",
    "       'z_qnr_8', 'z_qnr_9', 'z_qnr_10', 'z_qnr_11',\n",
    "        'z_qnr_13', 'z_qnr_14', 'z_qnr_15', 'z_qnr_17', 'z_qnr_18',\n",
    "       'z_qnr_19', 'z_qnr_20', 'z_qnr_21', 'z_qnr_22', 'z_qnr_24',\n",
    "       'z_qnr_25', 'z_qnr_28', \n",
    "       'z_knr_1', 'z_knr_2', 'z_knr_3',\n",
    "        'z_knr_5', 'z_knr_6', 'z_knr_7', 'z_knr_8', \n",
    "       'z_knr_10', 'z_knr_11', 'trafficarea_1', 'trafficarea_2',\n",
    "       'r_width_1', 'r_width_2', 'r_width_3', 'r_width_4', \n",
    "       'r_width_6', 'speedlimit_1']\n",
    "print(len(cnu))"
   ]
  },
  {
   "cell_type": "code",
   "execution_count": 34,
   "id": "17a3eb85-be2c-4f42-845c-ff9560e895ea",
   "metadata": {
    "execution": {
     "iopub.execute_input": "2024-10-28T15:12:16.187390Z",
     "iopub.status.busy": "2024-10-28T15:12:16.187186Z",
     "iopub.status.idle": "2024-10-28T15:12:16.201982Z",
     "shell.execute_reply": "2024-10-28T15:12:16.201541Z",
     "shell.execute_reply.started": "2024-10-28T15:12:16.187376Z"
    }
   },
   "outputs": [
    {
     "data": {
      "text/plain": [
       "trafficarea_2  trafficarea_1   -0.669003\n",
       "r_width_1      r_width_value   -0.566343\n",
       "speedlimit_1   dtrafficarea    -0.525379\n",
       "trafficarea_1  z_qnr_22        -0.386975\n",
       "r_width_6      r_width_value   -0.364367\n",
       "                                  ...   \n",
       "z_knr_10       z_qnr_24         0.673575\n",
       "z_knr_11       z_qnr_28         0.702230\n",
       "megmax         meg              0.761828\n",
       "z_knr_2        z_qnr_10         0.769217\n",
       "z_knr_6        z_qnr_8          0.786991\n",
       "Length: 1830, dtype: float64"
      ]
     },
     "execution_count": 34,
     "metadata": {},
     "output_type": "execute_result"
    }
   ],
   "source": [
    "# Correlation\n",
    "dfv = dfacrsv[cnu]\n",
    "corr_matrix = dfv.corr()\n",
    "upper_corrmat = corr_matrix.where(\n",
    "                np.triu(np.ones(corr_matrix.shape),k = 1).astype(bool))\n",
    "unique_corrpair = upper_corrmat.unstack().dropna()\n",
    "sorted_uni_cp = unique_corrpair.sort_values()\n",
    "sorted_uni_cp"
   ]
  },
  {
   "cell_type": "code",
   "execution_count": 35,
   "id": "009337da-3854-4c9d-b2f1-014900b18141",
   "metadata": {
    "execution": {
     "iopub.execute_input": "2024-10-28T15:12:16.202778Z",
     "iopub.status.busy": "2024-10-28T15:12:16.202588Z",
     "iopub.status.idle": "2024-10-28T15:12:16.588787Z",
     "shell.execute_reply": "2024-10-28T15:12:16.587632Z",
     "shell.execute_reply.started": "2024-10-28T15:12:16.202764Z"
    }
   },
   "outputs": [
    {
     "name": "stdout",
     "output_type": "stream",
     "text": [
      "54              feature        VIF\n",
      "2               cmin   1.226707\n",
      "22      bicyclecount   1.314501\n",
      "10           dplight   1.317557\n",
      "3                 ie   1.322117\n",
      "50         r_width_2   1.345849\n",
      "30           z_qnr_9   1.354896\n",
      "32          z_qnr_13   1.356177\n",
      "26           z_qnr_4   1.363216\n",
      "33          z_qnr_14   1.379374\n",
      "41          z_qnr_24   1.397349\n",
      "47           z_knr_8   1.409538\n",
      "34          z_qnr_15   1.410787\n",
      "42          z_qnr_25   1.440508\n",
      "24           z_qnr_2   1.444295\n",
      "36          z_qnr_18   1.454168\n",
      "14           dpedcro   1.458521\n",
      "31          z_qnr_10   1.460273\n",
      "25           z_qnr_3   1.462091\n",
      "51         r_width_3   1.462477\n",
      "23          carcount   1.554964\n",
      "53         r_width_6   1.564762\n",
      "1              cmean   1.582491\n",
      "35          z_qnr_17   1.618938\n",
      "11          dstation   1.621943\n",
      "52         r_width_4   1.667840\n",
      "38          z_qnr_20   1.675450\n",
      "28           z_qnr_6   1.785674\n",
      "9            dtrainl   1.808725\n",
      "13           dparktw   1.844959\n",
      "39          z_qnr_21   1.935311\n",
      "19           gvm_dwv   1.954352\n",
      "12          dparkcar   1.956081\n",
      "21  speedlimit_value   1.997253\n",
      "7              dbusl   2.011533\n",
      "4                mew   2.019656\n",
      "40          z_qnr_22   2.041113\n",
      "44           z_knr_1   2.093480\n",
      "46           z_knr_7   2.097629\n",
      "27           z_qnr_5   2.127491\n",
      "20     r_width_value   2.134529\n",
      "54      speedlimit_1   2.148176\n",
      "8             dtraml   2.167360\n",
      "43          z_qnr_28   2.212901\n",
      "45           z_knr_3   2.241255\n",
      "37          z_qnr_19   2.279509\n",
      "49     trafficarea_1   2.279813\n",
      "18           dvfpath   2.315609\n",
      "29           z_qnr_8   2.329559\n",
      "15         dstopsign   2.446778\n",
      "16      dtrafficarea   2.458766\n",
      "48          z_knr_11   2.503114\n",
      "17             droad   2.695770\n",
      "6             megmax   2.751838\n",
      "5                meg   3.258376\n",
      "0              const  17.091682\n"
     ]
    }
   ],
   "source": [
    "# calculating VIF for each feature\n",
    "# Remove 'z_knr_5','z_knr_6', 'z_knr_2', 'z_knr_10','r_width_1','z_qnr_11','trafficarea_2',\n",
    "\n",
    "cnu1 = ['cmean', 'cmin', 'ie',  'mew', 'meg',  'megmax',\n",
    "        'dbusl', 'dtraml', 'dtrainl', 'dplight', 'dstation', 'dparkcar', 'dparktw', \n",
    "        'dpedcro', 'dstopsign', 'dtrafficarea', 'droad', 'dvfpath', 'gvm_dwv',\n",
    "        'r_width_value','speedlimit_value', 'bicyclecount', 'carcount',\n",
    "        'z_qnr_2', 'z_qnr_3', 'z_qnr_4', 'z_qnr_5', 'z_qnr_6', \n",
    "        'z_qnr_8', 'z_qnr_9', 'z_qnr_10', \n",
    "        'z_qnr_13', 'z_qnr_14', 'z_qnr_15', 'z_qnr_17', 'z_qnr_18',\n",
    "        'z_qnr_19', 'z_qnr_20', 'z_qnr_21', 'z_qnr_22', 'z_qnr_24',\n",
    "        'z_qnr_25', 'z_qnr_28', 'z_knr_1',  'z_knr_3',\n",
    "        'z_knr_7', 'z_knr_8', 'z_knr_11', 'trafficarea_1', \n",
    "        'r_width_2', 'r_width_3', 'r_width_4', \n",
    "        'r_width_6', 'speedlimit_1']\n",
    "\n",
    "X = dfacrsv[cnu1]\n",
    "X1 = tools.add_constant(X)\n",
    "dfcnu_vif = pd.DataFrame()\n",
    "dfcnu_vif[\"feature\"] = X1.columns\n",
    "dfcnu_vif[\"VIF\"] = [variance_inflation_factor(X1.values, i)\n",
    "                          for i in range(len(X1.columns))]\n",
    "\n",
    "print(len(cnu1), dfcnu_vif.sort_values(by = ['VIF']))\n",
    "# vifh = dfcnu_vif.loc[dfcnu_vif['VIF'] >= 5]\n",
    "# vifhl = vifh['feature'].tolist()\n",
    "# print(vifhl)\n",
    "# dfcnu_vif.to_csv('/home/yelhe/script/mtp/tables/as_VIF_1.csv', index = False)"
   ]
  },
  {
   "cell_type": "code",
   "execution_count": 36,
   "id": "06d0068c-eac1-405a-ad03-0585093dc9d1",
   "metadata": {
    "execution": {
     "iopub.execute_input": "2024-10-28T15:12:16.590992Z",
     "iopub.status.busy": "2024-10-28T15:12:16.590240Z",
     "iopub.status.idle": "2024-10-28T15:12:16.596280Z",
     "shell.execute_reply": "2024-10-28T15:12:16.595236Z",
     "shell.execute_reply.started": "2024-10-28T15:12:16.590956Z"
    }
   },
   "outputs": [
    {
     "name": "stdout",
     "output_type": "stream",
     "text": [
      "54\n"
     ]
    }
   ],
   "source": [
    "print(len(cnu1))"
   ]
  },
  {
   "cell_type": "code",
   "execution_count": 37,
   "id": "a437d2d2-e217-4836-9972-38388c03004d",
   "metadata": {
    "execution": {
     "iopub.execute_input": "2024-10-28T15:12:16.598049Z",
     "iopub.status.busy": "2024-10-28T15:12:16.597659Z",
     "iopub.status.idle": "2024-10-28T15:12:16.608585Z",
     "shell.execute_reply": "2024-10-28T15:12:16.607493Z",
     "shell.execute_reply.started": "2024-10-28T15:12:16.598013Z"
    }
   },
   "outputs": [],
   "source": [
    "x = dfacrsv[cnu1] \n",
    "# For severity of accident\n",
    "# Binary dependent variables\n",
    "y1 = dfacrsv['inp'] # presence of person injury\n",
    "y2 = dfacrsv['pdp'] # presence of property damage\n",
    "y3 = dfacrsv['lvp'] # presence of lightly injured\n",
    "y4 = dfacrsv['svp'] # presence of severely injured\n",
    "# Numeric dependent variables\n",
    "y5 = dfacrsv['LV']\n",
    "y6 = dfacrsv['SV']\n",
    "y7 = dfacrsv['pd']"
   ]
  },
  {
   "cell_type": "code",
   "execution_count": 68,
   "id": "28eecb43-f397-43ab-b387-d3a35f76c392",
   "metadata": {
    "execution": {
     "iopub.execute_input": "2024-10-28T15:20:01.669775Z",
     "iopub.status.busy": "2024-10-28T15:20:01.669473Z",
     "iopub.status.idle": "2024-10-28T15:20:01.673127Z",
     "shell.execute_reply": "2024-10-28T15:20:01.672716Z",
     "shell.execute_reply.started": "2024-10-28T15:20:01.669756Z"
    }
   },
   "outputs": [
    {
     "data": {
      "text/plain": [
       "(295, 54)"
      ]
     },
     "execution_count": 68,
     "metadata": {},
     "output_type": "execute_result"
    }
   ],
   "source": [
    "# y.shape\n",
    "x.shape\n",
    "# 295 points with 60 features in total"
   ]
  },
  {
   "cell_type": "code",
   "execution_count": 40,
   "id": "3a1b4c7d-a8e4-4bbb-a80e-6acbeed3c5bd",
   "metadata": {
    "execution": {
     "iopub.execute_input": "2024-10-28T15:12:16.637722Z",
     "iopub.status.busy": "2024-10-28T15:12:16.637326Z",
     "iopub.status.idle": "2024-10-28T15:12:16.647051Z",
     "shell.execute_reply": "2024-10-28T15:12:16.645953Z",
     "shell.execute_reply.started": "2024-10-28T15:12:16.637685Z"
    }
   },
   "outputs": [],
   "source": [
    "def check_cv_dist (df, dev):\n",
    "    df1 = df.loc[df[dev] == 1]\n",
    "    df0 = df.loc[df[dev] == 0]\n",
    "    cvl = ['cp', 'cmean', 'cmin', 'cmax']\n",
    "    print(cvl[0], ks_2samp(df1[cvl[0]], df0[cvl[0]]))\n",
    "    print(cvl[1], ks_2samp(df1[cvl[1]], df0[cvl[1]]))\n",
    "    print(cvl[2], ks_2samp(df1[cvl[2]], df0[cvl[2]]))\n",
    "    print(cvl[3], ks_2samp(df1[cvl[3]], df0[cvl[3]]))"
   ]
  },
  {
   "cell_type": "code",
   "execution_count": 44,
   "id": "572d44d0-b2e0-4131-9348-90cc23eed4b8",
   "metadata": {
    "execution": {
     "iopub.execute_input": "2024-10-28T15:15:37.098517Z",
     "iopub.status.busy": "2024-10-28T15:15:37.098242Z",
     "iopub.status.idle": "2024-10-28T15:15:37.105958Z",
     "shell.execute_reply": "2024-10-28T15:15:37.105518Z",
     "shell.execute_reply.started": "2024-10-28T15:15:37.098499Z"
    }
   },
   "outputs": [
    {
     "name": "stdout",
     "output_type": "stream",
     "text": [
      "cp KstestResult(statistic=0.00980392156862745, pvalue=1.0, statistic_location=0, statistic_sign=-1)\n",
      "cmean KstestResult(statistic=0.027450980392156862, pvalue=0.9999999999999981, statistic_location=1.7519618970807305, statistic_sign=-1)\n",
      "cmin KstestResult(statistic=0.01568627450980392, pvalue=1.0, statistic_location=-0.1172420763521098, statistic_sign=-1)\n",
      "cmax KstestResult(statistic=0.03137254901960784, pvalue=0.999999999995699, statistic_location=1.4358700609298287, statistic_sign=-1)\n"
     ]
    }
   ],
   "source": [
    "check_cv_dist(dfacrsv, 'inp')"
   ]
  },
  {
   "cell_type": "code",
   "execution_count": 45,
   "id": "4d8b13e0-895e-42c6-a897-6704b72034e7",
   "metadata": {
    "execution": {
     "iopub.execute_input": "2024-10-28T15:15:37.525024Z",
     "iopub.status.busy": "2024-10-28T15:15:37.524787Z",
     "iopub.status.idle": "2024-10-28T15:15:37.531178Z",
     "shell.execute_reply": "2024-10-28T15:15:37.530765Z",
     "shell.execute_reply.started": "2024-10-28T15:15:37.525008Z"
    }
   },
   "outputs": [
    {
     "name": "stdout",
     "output_type": "stream",
     "text": [
      "cp KstestResult(statistic=0.0574606968833318, pvalue=0.9504836658059234, statistic_location=0, statistic_sign=-1)\n",
      "cmean KstestResult(statistic=0.0574606968833318, pvalue=0.9504836658059234, statistic_location=-0.9559721771356244, statistic_sign=-1)\n",
      "cmin KstestResult(statistic=0.013836535809506298, pvalue=1.0, statistic_location=-0.1172420763521098, statistic_sign=1)\n",
      "cmax KstestResult(statistic=0.0574606968833318, pvalue=0.9504836658059234, statistic_location=-0.9857218406672054, statistic_sign=-1)\n"
     ]
    }
   ],
   "source": [
    "check_cv_dist(dfacrsv, 'pdp')"
   ]
  },
  {
   "cell_type": "code",
   "execution_count": 46,
   "id": "15d12940-39af-499b-afe4-04fd59548af3",
   "metadata": {
    "execution": {
     "iopub.execute_input": "2024-10-28T15:15:37.895376Z",
     "iopub.status.busy": "2024-10-28T15:15:37.895153Z",
     "iopub.status.idle": "2024-10-28T15:15:37.901204Z",
     "shell.execute_reply": "2024-10-28T15:15:37.900813Z",
     "shell.execute_reply.started": "2024-10-28T15:15:37.895360Z"
    }
   },
   "outputs": [
    {
     "name": "stdout",
     "output_type": "stream",
     "text": [
      "cp KstestResult(statistic=0.003409865878608775, pvalue=1.0, statistic_location=0, statistic_sign=-1)\n",
      "cmean KstestResult(statistic=0.0330188679245283, pvalue=0.9999989166149185, statistic_location=1.7519618970807305, statistic_sign=-1)\n",
      "cmin KstestResult(statistic=0.018867924528301886, pvalue=1.0, statistic_location=-0.1172420763521098, statistic_sign=-1)\n",
      "cmax KstestResult(statistic=0.026653784951125255, pvalue=0.999999999428004, statistic_location=0.7630739452214893, statistic_sign=1)\n"
     ]
    }
   ],
   "source": [
    "check_cv_dist(dfacrsv, 'lvp')"
   ]
  },
  {
   "cell_type": "code",
   "execution_count": 47,
   "id": "60ad201b-e2b2-454c-b3a6-d3d7de95f7aa",
   "metadata": {
    "execution": {
     "iopub.execute_input": "2024-10-28T15:15:38.272683Z",
     "iopub.status.busy": "2024-10-28T15:15:38.272452Z",
     "iopub.status.idle": "2024-10-28T15:15:38.278838Z",
     "shell.execute_reply": "2024-10-28T15:15:38.278437Z",
     "shell.execute_reply.started": "2024-10-28T15:15:38.272668Z"
    }
   },
   "outputs": [
    {
     "name": "stdout",
     "output_type": "stream",
     "text": [
      "cp KstestResult(statistic=0.022399203583872575, pvalue=1.0, statistic_location=0, statistic_sign=1)\n",
      "cmean KstestResult(statistic=0.028455284552845527, pvalue=0.9999999999973915, statistic_location=1.7519618970807305, statistic_sign=1)\n",
      "cmin KstestResult(statistic=0.016260162601626018, pvalue=1.0, statistic_location=-0.1172420763521098, statistic_sign=1)\n",
      "cmax KstestResult(statistic=0.022399203583872575, pvalue=1.0, statistic_location=-0.9857218406672054, statistic_sign=1)\n"
     ]
    }
   ],
   "source": [
    "check_cv_dist(dfacrsv, 'svp')"
   ]
  },
  {
   "cell_type": "markdown",
   "id": "525e59ee-c2f3-4f1b-9e22-813cd303b195",
   "metadata": {},
   "source": [
    "# Orginal regression model without feature selection"
   ]
  },
  {
   "cell_type": "code",
   "execution_count": 48,
   "id": "8a83b745-3b29-4118-8799-a075cf5c93f1",
   "metadata": {
    "execution": {
     "iopub.execute_input": "2024-10-28T15:15:40.744036Z",
     "iopub.status.busy": "2024-10-28T15:15:40.743767Z",
     "iopub.status.idle": "2024-10-28T15:15:40.746411Z",
     "shell.execute_reply": "2024-10-28T15:15:40.746003Z",
     "shell.execute_reply.started": "2024-10-28T15:15:40.744020Z"
    }
   },
   "outputs": [],
   "source": [
    "# # Only with curb-related variables\n",
    "# xcp = dfacrsv[['cmean','cp', 'cmin', 'cmax']]\n",
    "# x_const = tools.add_constant(xcp)\n",
    "# # m00_c = sm.OLS(y, x_const)\n",
    "# # r00_c = m00_c.fit()\n",
    "# # r00_c.summary()\n",
    "\n",
    "# m00_log_c = sm.Logit(y3,x_const, max_iter = 400)\n",
    "# r00_log_c = m00_log_c.fit_regularized()\n",
    "# r00_log_c.summary()"
   ]
  },
  {
   "cell_type": "markdown",
   "id": "fd34e8c7-0c3c-4a4f-a35d-5d18ed66a119",
   "metadata": {},
   "source": [
    "## OLS linear regression"
   ]
  },
  {
   "cell_type": "markdown",
   "id": "026b9cd3-7bf5-44f2-b261-aea309174a6a",
   "metadata": {},
   "source": [
    "### Without data splitting"
   ]
  },
  {
   "cell_type": "code",
   "execution_count": 361,
   "id": "ab202cbd-694a-4a31-a693-04da05aeeb51",
   "metadata": {
    "execution": {
     "iopub.execute_input": "2024-10-28T18:14:53.395355Z",
     "iopub.status.busy": "2024-10-28T18:14:53.395075Z",
     "iopub.status.idle": "2024-10-28T18:14:53.397957Z",
     "shell.execute_reply": "2024-10-28T18:14:53.397534Z",
     "shell.execute_reply.started": "2024-10-28T18:14:53.395337Z"
    }
   },
   "outputs": [],
   "source": [
    "y = y6\n",
    "# Binary dependent variables\n",
    "# y1 = dfacrsv['inp'] # presence of person injury\n",
    "# y2 = dfacrsv['pdp'] # presence of property damage\n",
    "# y3 = dfacrsv['lvp'] # presence of lightly injured\n",
    "# y4 = dfacrsv['svp'] # presence of severely injured\n",
    "# # Numeric dependent variables\n",
    "# y5 = dfacrsv['LV']\n",
    "# y6 = dfacrsv['SV']\n",
    "# y7 = dfacrsv['pd']\n",
    "\n",
    "# y1 'inp' always has errors of singular matrix in logit regression\n",
    "# y2 'pdp' sometimes has errors of singular matrix in logit regression"
   ]
  },
  {
   "cell_type": "code",
   "execution_count": 362,
   "id": "8f7ab772-b399-4126-bf22-5a0d9d01b012",
   "metadata": {
    "execution": {
     "iopub.execute_input": "2024-10-28T18:14:53.799202Z",
     "iopub.status.busy": "2024-10-28T18:14:53.798929Z",
     "iopub.status.idle": "2024-10-28T18:14:53.942754Z",
     "shell.execute_reply": "2024-10-28T18:14:53.942128Z",
     "shell.execute_reply.started": "2024-10-28T18:14:53.799183Z"
    }
   },
   "outputs": [
    {
     "data": {
      "text/html": [
       "<table class=\"simpletable\">\n",
       "<caption>OLS Regression Results</caption>\n",
       "<tr>\n",
       "  <th>Dep. Variable:</th>           <td>SV</td>        <th>  R-squared:         </th> <td>   0.211</td>\n",
       "</tr>\n",
       "<tr>\n",
       "  <th>Model:</th>                   <td>OLS</td>       <th>  Adj. R-squared:    </th> <td>   0.034</td>\n",
       "</tr>\n",
       "<tr>\n",
       "  <th>Method:</th>             <td>Least Squares</td>  <th>  F-statistic:       </th> <td>   1.192</td>\n",
       "</tr>\n",
       "<tr>\n",
       "  <th>Date:</th>             <td>Mon, 28 Oct 2024</td> <th>  Prob (F-statistic):</th>  <td> 0.189</td> \n",
       "</tr>\n",
       "<tr>\n",
       "  <th>Time:</th>                 <td>19:14:53</td>     <th>  Log-Likelihood:    </th> <td> -91.967</td>\n",
       "</tr>\n",
       "<tr>\n",
       "  <th>No. Observations:</th>      <td>   295</td>      <th>  AIC:               </th> <td>   293.9</td>\n",
       "</tr>\n",
       "<tr>\n",
       "  <th>Df Residuals:</th>          <td>   240</td>      <th>  BIC:               </th> <td>   496.7</td>\n",
       "</tr>\n",
       "<tr>\n",
       "  <th>Df Model:</th>              <td>    54</td>      <th>                     </th>     <td> </td>   \n",
       "</tr>\n",
       "<tr>\n",
       "  <th>Covariance Type:</th>      <td>nonrobust</td>    <th>                     </th>     <td> </td>   \n",
       "</tr>\n",
       "</table>\n",
       "<table class=\"simpletable\">\n",
       "<tr>\n",
       "          <td></td>            <th>coef</th>     <th>std err</th>      <th>t</th>      <th>P>|t|</th>  <th>[0.025</th>    <th>0.975]</th>  \n",
       "</tr>\n",
       "<tr>\n",
       "  <th>const</th>            <td>    0.1540</td> <td>    0.088</td> <td>    1.746</td> <td> 0.082</td> <td>   -0.020</td> <td>    0.328</td>\n",
       "</tr>\n",
       "<tr>\n",
       "  <th>cmean</th>            <td>   -0.0077</td> <td>    0.027</td> <td>   -0.288</td> <td> 0.774</td> <td>   -0.061</td> <td>    0.045</td>\n",
       "</tr>\n",
       "<tr>\n",
       "  <th>cmin</th>             <td>   -0.0263</td> <td>    0.024</td> <td>   -1.113</td> <td> 0.267</td> <td>   -0.073</td> <td>    0.020</td>\n",
       "</tr>\n",
       "<tr>\n",
       "  <th>ie</th>               <td>    0.0160</td> <td>    0.025</td> <td>    0.650</td> <td> 0.516</td> <td>   -0.032</td> <td>    0.064</td>\n",
       "</tr>\n",
       "<tr>\n",
       "  <th>mew</th>              <td>   -0.0441</td> <td>    0.030</td> <td>   -1.455</td> <td> 0.147</td> <td>   -0.104</td> <td>    0.016</td>\n",
       "</tr>\n",
       "<tr>\n",
       "  <th>meg</th>              <td>    0.0115</td> <td>    0.039</td> <td>    0.299</td> <td> 0.765</td> <td>   -0.064</td> <td>    0.087</td>\n",
       "</tr>\n",
       "<tr>\n",
       "  <th>megmax</th>           <td>    0.0289</td> <td>    0.035</td> <td>    0.817</td> <td> 0.414</td> <td>   -0.041</td> <td>    0.099</td>\n",
       "</tr>\n",
       "<tr>\n",
       "  <th>dbusl</th>            <td>   -0.0282</td> <td>    0.030</td> <td>   -0.945</td> <td> 0.346</td> <td>   -0.087</td> <td>    0.031</td>\n",
       "</tr>\n",
       "<tr>\n",
       "  <th>dtraml</th>           <td>   -0.0178</td> <td>    0.031</td> <td>   -0.575</td> <td> 0.566</td> <td>   -0.079</td> <td>    0.043</td>\n",
       "</tr>\n",
       "<tr>\n",
       "  <th>dtrainl</th>          <td>   -0.0260</td> <td>    0.029</td> <td>   -0.913</td> <td> 0.362</td> <td>   -0.082</td> <td>    0.030</td>\n",
       "</tr>\n",
       "<tr>\n",
       "  <th>dplight</th>          <td>   -0.0319</td> <td>    0.025</td> <td>   -1.259</td> <td> 0.209</td> <td>   -0.082</td> <td>    0.018</td>\n",
       "</tr>\n",
       "<tr>\n",
       "  <th>dstation</th>         <td>    0.0521</td> <td>    0.027</td> <td>    1.912</td> <td> 0.057</td> <td>   -0.002</td> <td>    0.106</td>\n",
       "</tr>\n",
       "<tr>\n",
       "  <th>dparkcar</th>         <td>   -0.0080</td> <td>    0.030</td> <td>   -0.266</td> <td> 0.791</td> <td>   -0.067</td> <td>    0.051</td>\n",
       "</tr>\n",
       "<tr>\n",
       "  <th>dparktw</th>          <td>    0.0076</td> <td>    0.028</td> <td>    0.267</td> <td> 0.789</td> <td>   -0.048</td> <td>    0.063</td>\n",
       "</tr>\n",
       "<tr>\n",
       "  <th>dpedcro</th>          <td>    0.0150</td> <td>    0.026</td> <td>    0.582</td> <td> 0.561</td> <td>   -0.036</td> <td>    0.066</td>\n",
       "</tr>\n",
       "<tr>\n",
       "  <th>dstopsign</th>        <td>    0.0331</td> <td>    0.033</td> <td>    1.012</td> <td> 0.313</td> <td>   -0.031</td> <td>    0.097</td>\n",
       "</tr>\n",
       "<tr>\n",
       "  <th>dtrafficarea</th>     <td>    0.0131</td> <td>    0.033</td> <td>    0.395</td> <td> 0.693</td> <td>   -0.052</td> <td>    0.079</td>\n",
       "</tr>\n",
       "<tr>\n",
       "  <th>droad</th>            <td>    0.0763</td> <td>    0.036</td> <td>    2.096</td> <td> 0.037</td> <td>    0.005</td> <td>    0.148</td>\n",
       "</tr>\n",
       "<tr>\n",
       "  <th>dvfpath</th>          <td>   -0.0136</td> <td>    0.034</td> <td>   -0.403</td> <td> 0.687</td> <td>   -0.080</td> <td>    0.053</td>\n",
       "</tr>\n",
       "<tr>\n",
       "  <th>gvm_dwv</th>          <td>    0.0613</td> <td>    0.030</td> <td>    2.065</td> <td> 0.040</td> <td>    0.003</td> <td>    0.120</td>\n",
       "</tr>\n",
       "<tr>\n",
       "  <th>r_width_value</th>    <td>   -0.0053</td> <td>    0.031</td> <td>   -0.173</td> <td> 0.863</td> <td>   -0.066</td> <td>    0.055</td>\n",
       "</tr>\n",
       "<tr>\n",
       "  <th>speedlimit_value</th> <td>   -0.0054</td> <td>    0.031</td> <td>   -0.177</td> <td> 0.860</td> <td>   -0.066</td> <td>    0.055</td>\n",
       "</tr>\n",
       "<tr>\n",
       "  <th>bicyclecount</th>     <td>   -0.0428</td> <td>    0.024</td> <td>   -1.778</td> <td> 0.077</td> <td>   -0.090</td> <td>    0.005</td>\n",
       "</tr>\n",
       "<tr>\n",
       "  <th>carcount</th>         <td>   -0.0245</td> <td>    0.027</td> <td>   -0.916</td> <td> 0.361</td> <td>   -0.077</td> <td>    0.028</td>\n",
       "</tr>\n",
       "<tr>\n",
       "  <th>z_qnr_2</th>          <td>    0.7808</td> <td>    0.222</td> <td>    3.522</td> <td> 0.001</td> <td>    0.344</td> <td>    1.217</td>\n",
       "</tr>\n",
       "<tr>\n",
       "  <th>z_qnr_3</th>          <td>   -0.0364</td> <td>    0.200</td> <td>   -0.182</td> <td> 0.855</td> <td>   -0.430</td> <td>    0.357</td>\n",
       "</tr>\n",
       "<tr>\n",
       "  <th>z_qnr_4</th>          <td>   -0.1369</td> <td>    0.248</td> <td>   -0.551</td> <td> 0.582</td> <td>   -0.626</td> <td>    0.352</td>\n",
       "</tr>\n",
       "<tr>\n",
       "  <th>z_qnr_5</th>          <td>   -0.1066</td> <td>    0.121</td> <td>   -0.881</td> <td> 0.379</td> <td>   -0.345</td> <td>    0.132</td>\n",
       "</tr>\n",
       "<tr>\n",
       "  <th>z_qnr_6</th>          <td>    0.3284</td> <td>    0.187</td> <td>    1.753</td> <td> 0.081</td> <td>   -0.041</td> <td>    0.697</td>\n",
       "</tr>\n",
       "<tr>\n",
       "  <th>z_qnr_8</th>          <td>   -0.1183</td> <td>    0.144</td> <td>   -0.823</td> <td> 0.412</td> <td>   -0.401</td> <td>    0.165</td>\n",
       "</tr>\n",
       "<tr>\n",
       "  <th>z_qnr_9</th>          <td>   -0.0983</td> <td>    0.247</td> <td>   -0.397</td> <td> 0.691</td> <td>   -0.586</td> <td>    0.389</td>\n",
       "</tr>\n",
       "<tr>\n",
       "  <th>z_qnr_10</th>         <td>    0.1453</td> <td>    0.183</td> <td>    0.796</td> <td> 0.427</td> <td>   -0.214</td> <td>    0.505</td>\n",
       "</tr>\n",
       "<tr>\n",
       "  <th>z_qnr_13</th>         <td>    0.0096</td> <td>    0.215</td> <td>    0.045</td> <td> 0.964</td> <td>   -0.414</td> <td>    0.433</td>\n",
       "</tr>\n",
       "<tr>\n",
       "  <th>z_qnr_14</th>         <td>    0.0578</td> <td>    0.165</td> <td>    0.351</td> <td> 0.726</td> <td>   -0.267</td> <td>    0.382</td>\n",
       "</tr>\n",
       "<tr>\n",
       "  <th>z_qnr_15</th>         <td>    0.0700</td> <td>    0.147</td> <td>    0.475</td> <td> 0.635</td> <td>   -0.220</td> <td>    0.360</td>\n",
       "</tr>\n",
       "<tr>\n",
       "  <th>z_qnr_17</th>         <td>    0.1528</td> <td>    0.132</td> <td>    1.156</td> <td> 0.249</td> <td>   -0.108</td> <td>    0.413</td>\n",
       "</tr>\n",
       "<tr>\n",
       "  <th>z_qnr_18</th>         <td>    0.1779</td> <td>    0.125</td> <td>    1.419</td> <td> 0.157</td> <td>   -0.069</td> <td>    0.425</td>\n",
       "</tr>\n",
       "<tr>\n",
       "  <th>z_qnr_19</th>         <td>    0.0001</td> <td>    0.125</td> <td>    0.001</td> <td> 0.999</td> <td>   -0.247</td> <td>    0.247</td>\n",
       "</tr>\n",
       "<tr>\n",
       "  <th>z_qnr_20</th>         <td>    0.0591</td> <td>    0.130</td> <td>    0.455</td> <td> 0.650</td> <td>   -0.197</td> <td>    0.315</td>\n",
       "</tr>\n",
       "<tr>\n",
       "  <th>z_qnr_21</th>         <td>   -0.1262</td> <td>    0.140</td> <td>   -0.904</td> <td> 0.367</td> <td>   -0.401</td> <td>    0.149</td>\n",
       "</tr>\n",
       "<tr>\n",
       "  <th>z_qnr_22</th>         <td>    0.0477</td> <td>    0.168</td> <td>    0.283</td> <td> 0.777</td> <td>   -0.284</td> <td>    0.379</td>\n",
       "</tr>\n",
       "<tr>\n",
       "  <th>z_qnr_24</th>         <td>   -0.0860</td> <td>    0.166</td> <td>   -0.519</td> <td> 0.604</td> <td>   -0.412</td> <td>    0.240</td>\n",
       "</tr>\n",
       "<tr>\n",
       "  <th>z_qnr_25</th>         <td>    0.0765</td> <td>    0.181</td> <td>    0.422</td> <td> 0.673</td> <td>   -0.281</td> <td>    0.434</td>\n",
       "</tr>\n",
       "<tr>\n",
       "  <th>z_qnr_28</th>         <td>   -0.2106</td> <td>    0.274</td> <td>   -0.768</td> <td> 0.444</td> <td>   -0.751</td> <td>    0.330</td>\n",
       "</tr>\n",
       "<tr>\n",
       "  <th>z_knr_1</th>          <td>   -0.1141</td> <td>    0.113</td> <td>   -1.011</td> <td> 0.313</td> <td>   -0.337</td> <td>    0.108</td>\n",
       "</tr>\n",
       "<tr>\n",
       "  <th>z_knr_3</th>          <td>    0.0559</td> <td>    0.127</td> <td>    0.440</td> <td> 0.660</td> <td>   -0.194</td> <td>    0.306</td>\n",
       "</tr>\n",
       "<tr>\n",
       "  <th>z_knr_7</th>          <td>   -0.0097</td> <td>    0.113</td> <td>   -0.086</td> <td> 0.932</td> <td>   -0.232</td> <td>    0.213</td>\n",
       "</tr>\n",
       "<tr>\n",
       "  <th>z_knr_8</th>          <td>    0.0818</td> <td>    0.147</td> <td>    0.555</td> <td> 0.579</td> <td>   -0.208</td> <td>    0.372</td>\n",
       "</tr>\n",
       "<tr>\n",
       "  <th>z_knr_11</th>         <td>    0.0539</td> <td>    0.208</td> <td>    0.259</td> <td> 0.796</td> <td>   -0.355</td> <td>    0.463</td>\n",
       "</tr>\n",
       "<tr>\n",
       "  <th>trafficarea_1</th>    <td>   -0.1043</td> <td>    0.082</td> <td>   -1.270</td> <td> 0.205</td> <td>   -0.266</td> <td>    0.057</td>\n",
       "</tr>\n",
       "<tr>\n",
       "  <th>r_width_2</th>        <td>   -0.0965</td> <td>    0.175</td> <td>   -0.550</td> <td> 0.583</td> <td>   -0.442</td> <td>    0.249</td>\n",
       "</tr>\n",
       "<tr>\n",
       "  <th>r_width_3</th>        <td>    0.1039</td> <td>    0.087</td> <td>    1.199</td> <td> 0.232</td> <td>   -0.067</td> <td>    0.275</td>\n",
       "</tr>\n",
       "<tr>\n",
       "  <th>r_width_4</th>        <td>    0.1431</td> <td>    0.068</td> <td>    2.103</td> <td> 0.036</td> <td>    0.009</td> <td>    0.277</td>\n",
       "</tr>\n",
       "<tr>\n",
       "  <th>r_width_6</th>        <td>    0.1543</td> <td>    0.109</td> <td>    1.419</td> <td> 0.157</td> <td>   -0.060</td> <td>    0.368</td>\n",
       "</tr>\n",
       "<tr>\n",
       "  <th>speedlimit_1</th>     <td>    0.1024</td> <td>    0.071</td> <td>    1.432</td> <td> 0.153</td> <td>   -0.038</td> <td>    0.243</td>\n",
       "</tr>\n",
       "</table>\n",
       "<table class=\"simpletable\">\n",
       "<tr>\n",
       "  <th>Omnibus:</th>       <td>61.158</td> <th>  Durbin-Watson:     </th> <td>   1.823</td>\n",
       "</tr>\n",
       "<tr>\n",
       "  <th>Prob(Omnibus):</th> <td> 0.000</td> <th>  Jarque-Bera (JB):  </th> <td>  93.543</td>\n",
       "</tr>\n",
       "<tr>\n",
       "  <th>Skew:</th>          <td> 1.297</td> <th>  Prob(JB):          </th> <td>4.87e-21</td>\n",
       "</tr>\n",
       "<tr>\n",
       "  <th>Kurtosis:</th>      <td> 3.938</td> <th>  Cond. No.          </th> <td>    27.3</td>\n",
       "</tr>\n",
       "</table><br/><br/>Notes:<br/>[1] Standard Errors assume that the covariance matrix of the errors is correctly specified."
      ],
      "text/latex": [
       "\\begin{center}\n",
       "\\begin{tabular}{lclc}\n",
       "\\toprule\n",
       "\\textbf{Dep. Variable:}    &        SV        & \\textbf{  R-squared:         } &     0.211   \\\\\n",
       "\\textbf{Model:}            &       OLS        & \\textbf{  Adj. R-squared:    } &     0.034   \\\\\n",
       "\\textbf{Method:}           &  Least Squares   & \\textbf{  F-statistic:       } &     1.192   \\\\\n",
       "\\textbf{Date:}             & Mon, 28 Oct 2024 & \\textbf{  Prob (F-statistic):} &    0.189    \\\\\n",
       "\\textbf{Time:}             &     19:14:53     & \\textbf{  Log-Likelihood:    } &   -91.967   \\\\\n",
       "\\textbf{No. Observations:} &         295      & \\textbf{  AIC:               } &     293.9   \\\\\n",
       "\\textbf{Df Residuals:}     &         240      & \\textbf{  BIC:               } &     496.7   \\\\\n",
       "\\textbf{Df Model:}         &          54      & \\textbf{                     } &             \\\\\n",
       "\\textbf{Covariance Type:}  &    nonrobust     & \\textbf{                     } &             \\\\\n",
       "\\bottomrule\n",
       "\\end{tabular}\n",
       "\\begin{tabular}{lcccccc}\n",
       "                           & \\textbf{coef} & \\textbf{std err} & \\textbf{t} & \\textbf{P$> |$t$|$} & \\textbf{[0.025} & \\textbf{0.975]}  \\\\\n",
       "\\midrule\n",
       "\\textbf{const}             &       0.1540  &        0.088     &     1.746  &         0.082        &       -0.020    &        0.328     \\\\\n",
       "\\textbf{cmean}             &      -0.0077  &        0.027     &    -0.288  &         0.774        &       -0.061    &        0.045     \\\\\n",
       "\\textbf{cmin}              &      -0.0263  &        0.024     &    -1.113  &         0.267        &       -0.073    &        0.020     \\\\\n",
       "\\textbf{ie}                &       0.0160  &        0.025     &     0.650  &         0.516        &       -0.032    &        0.064     \\\\\n",
       "\\textbf{mew}               &      -0.0441  &        0.030     &    -1.455  &         0.147        &       -0.104    &        0.016     \\\\\n",
       "\\textbf{meg}               &       0.0115  &        0.039     &     0.299  &         0.765        &       -0.064    &        0.087     \\\\\n",
       "\\textbf{megmax}            &       0.0289  &        0.035     &     0.817  &         0.414        &       -0.041    &        0.099     \\\\\n",
       "\\textbf{dbusl}             &      -0.0282  &        0.030     &    -0.945  &         0.346        &       -0.087    &        0.031     \\\\\n",
       "\\textbf{dtraml}            &      -0.0178  &        0.031     &    -0.575  &         0.566        &       -0.079    &        0.043     \\\\\n",
       "\\textbf{dtrainl}           &      -0.0260  &        0.029     &    -0.913  &         0.362        &       -0.082    &        0.030     \\\\\n",
       "\\textbf{dplight}           &      -0.0319  &        0.025     &    -1.259  &         0.209        &       -0.082    &        0.018     \\\\\n",
       "\\textbf{dstation}          &       0.0521  &        0.027     &     1.912  &         0.057        &       -0.002    &        0.106     \\\\\n",
       "\\textbf{dparkcar}          &      -0.0080  &        0.030     &    -0.266  &         0.791        &       -0.067    &        0.051     \\\\\n",
       "\\textbf{dparktw}           &       0.0076  &        0.028     &     0.267  &         0.789        &       -0.048    &        0.063     \\\\\n",
       "\\textbf{dpedcro}           &       0.0150  &        0.026     &     0.582  &         0.561        &       -0.036    &        0.066     \\\\\n",
       "\\textbf{dstopsign}         &       0.0331  &        0.033     &     1.012  &         0.313        &       -0.031    &        0.097     \\\\\n",
       "\\textbf{dtrafficarea}      &       0.0131  &        0.033     &     0.395  &         0.693        &       -0.052    &        0.079     \\\\\n",
       "\\textbf{droad}             &       0.0763  &        0.036     &     2.096  &         0.037        &        0.005    &        0.148     \\\\\n",
       "\\textbf{dvfpath}           &      -0.0136  &        0.034     &    -0.403  &         0.687        &       -0.080    &        0.053     \\\\\n",
       "\\textbf{gvm\\_dwv}          &       0.0613  &        0.030     &     2.065  &         0.040        &        0.003    &        0.120     \\\\\n",
       "\\textbf{r\\_width\\_value}   &      -0.0053  &        0.031     &    -0.173  &         0.863        &       -0.066    &        0.055     \\\\\n",
       "\\textbf{speedlimit\\_value} &      -0.0054  &        0.031     &    -0.177  &         0.860        &       -0.066    &        0.055     \\\\\n",
       "\\textbf{bicyclecount}      &      -0.0428  &        0.024     &    -1.778  &         0.077        &       -0.090    &        0.005     \\\\\n",
       "\\textbf{carcount}          &      -0.0245  &        0.027     &    -0.916  &         0.361        &       -0.077    &        0.028     \\\\\n",
       "\\textbf{z\\_qnr\\_2}         &       0.7808  &        0.222     &     3.522  &         0.001        &        0.344    &        1.217     \\\\\n",
       "\\textbf{z\\_qnr\\_3}         &      -0.0364  &        0.200     &    -0.182  &         0.855        &       -0.430    &        0.357     \\\\\n",
       "\\textbf{z\\_qnr\\_4}         &      -0.1369  &        0.248     &    -0.551  &         0.582        &       -0.626    &        0.352     \\\\\n",
       "\\textbf{z\\_qnr\\_5}         &      -0.1066  &        0.121     &    -0.881  &         0.379        &       -0.345    &        0.132     \\\\\n",
       "\\textbf{z\\_qnr\\_6}         &       0.3284  &        0.187     &     1.753  &         0.081        &       -0.041    &        0.697     \\\\\n",
       "\\textbf{z\\_qnr\\_8}         &      -0.1183  &        0.144     &    -0.823  &         0.412        &       -0.401    &        0.165     \\\\\n",
       "\\textbf{z\\_qnr\\_9}         &      -0.0983  &        0.247     &    -0.397  &         0.691        &       -0.586    &        0.389     \\\\\n",
       "\\textbf{z\\_qnr\\_10}        &       0.1453  &        0.183     &     0.796  &         0.427        &       -0.214    &        0.505     \\\\\n",
       "\\textbf{z\\_qnr\\_13}        &       0.0096  &        0.215     &     0.045  &         0.964        &       -0.414    &        0.433     \\\\\n",
       "\\textbf{z\\_qnr\\_14}        &       0.0578  &        0.165     &     0.351  &         0.726        &       -0.267    &        0.382     \\\\\n",
       "\\textbf{z\\_qnr\\_15}        &       0.0700  &        0.147     &     0.475  &         0.635        &       -0.220    &        0.360     \\\\\n",
       "\\textbf{z\\_qnr\\_17}        &       0.1528  &        0.132     &     1.156  &         0.249        &       -0.108    &        0.413     \\\\\n",
       "\\textbf{z\\_qnr\\_18}        &       0.1779  &        0.125     &     1.419  &         0.157        &       -0.069    &        0.425     \\\\\n",
       "\\textbf{z\\_qnr\\_19}        &       0.0001  &        0.125     &     0.001  &         0.999        &       -0.247    &        0.247     \\\\\n",
       "\\textbf{z\\_qnr\\_20}        &       0.0591  &        0.130     &     0.455  &         0.650        &       -0.197    &        0.315     \\\\\n",
       "\\textbf{z\\_qnr\\_21}        &      -0.1262  &        0.140     &    -0.904  &         0.367        &       -0.401    &        0.149     \\\\\n",
       "\\textbf{z\\_qnr\\_22}        &       0.0477  &        0.168     &     0.283  &         0.777        &       -0.284    &        0.379     \\\\\n",
       "\\textbf{z\\_qnr\\_24}        &      -0.0860  &        0.166     &    -0.519  &         0.604        &       -0.412    &        0.240     \\\\\n",
       "\\textbf{z\\_qnr\\_25}        &       0.0765  &        0.181     &     0.422  &         0.673        &       -0.281    &        0.434     \\\\\n",
       "\\textbf{z\\_qnr\\_28}        &      -0.2106  &        0.274     &    -0.768  &         0.444        &       -0.751    &        0.330     \\\\\n",
       "\\textbf{z\\_knr\\_1}         &      -0.1141  &        0.113     &    -1.011  &         0.313        &       -0.337    &        0.108     \\\\\n",
       "\\textbf{z\\_knr\\_3}         &       0.0559  &        0.127     &     0.440  &         0.660        &       -0.194    &        0.306     \\\\\n",
       "\\textbf{z\\_knr\\_7}         &      -0.0097  &        0.113     &    -0.086  &         0.932        &       -0.232    &        0.213     \\\\\n",
       "\\textbf{z\\_knr\\_8}         &       0.0818  &        0.147     &     0.555  &         0.579        &       -0.208    &        0.372     \\\\\n",
       "\\textbf{z\\_knr\\_11}        &       0.0539  &        0.208     &     0.259  &         0.796        &       -0.355    &        0.463     \\\\\n",
       "\\textbf{trafficarea\\_1}    &      -0.1043  &        0.082     &    -1.270  &         0.205        &       -0.266    &        0.057     \\\\\n",
       "\\textbf{r\\_width\\_2}       &      -0.0965  &        0.175     &    -0.550  &         0.583        &       -0.442    &        0.249     \\\\\n",
       "\\textbf{r\\_width\\_3}       &       0.1039  &        0.087     &     1.199  &         0.232        &       -0.067    &        0.275     \\\\\n",
       "\\textbf{r\\_width\\_4}       &       0.1431  &        0.068     &     2.103  &         0.036        &        0.009    &        0.277     \\\\\n",
       "\\textbf{r\\_width\\_6}       &       0.1543  &        0.109     &     1.419  &         0.157        &       -0.060    &        0.368     \\\\\n",
       "\\textbf{speedlimit\\_1}     &       0.1024  &        0.071     &     1.432  &         0.153        &       -0.038    &        0.243     \\\\\n",
       "\\bottomrule\n",
       "\\end{tabular}\n",
       "\\begin{tabular}{lclc}\n",
       "\\textbf{Omnibus:}       & 61.158 & \\textbf{  Durbin-Watson:     } &    1.823  \\\\\n",
       "\\textbf{Prob(Omnibus):} &  0.000 & \\textbf{  Jarque-Bera (JB):  } &   93.543  \\\\\n",
       "\\textbf{Skew:}          &  1.297 & \\textbf{  Prob(JB):          } & 4.87e-21  \\\\\n",
       "\\textbf{Kurtosis:}      &  3.938 & \\textbf{  Cond. No.          } &     27.3  \\\\\n",
       "\\bottomrule\n",
       "\\end{tabular}\n",
       "%\\caption{OLS Regression Results}\n",
       "\\end{center}\n",
       "\n",
       "Notes: \\newline\n",
       " [1] Standard Errors assume that the covariance matrix of the errors is correctly specified."
      ],
      "text/plain": [
       "<class 'statsmodels.iolib.summary.Summary'>\n",
       "\"\"\"\n",
       "                            OLS Regression Results                            \n",
       "==============================================================================\n",
       "Dep. Variable:                     SV   R-squared:                       0.211\n",
       "Model:                            OLS   Adj. R-squared:                  0.034\n",
       "Method:                 Least Squares   F-statistic:                     1.192\n",
       "Date:                Mon, 28 Oct 2024   Prob (F-statistic):              0.189\n",
       "Time:                        19:14:53   Log-Likelihood:                -91.967\n",
       "No. Observations:                 295   AIC:                             293.9\n",
       "Df Residuals:                     240   BIC:                             496.7\n",
       "Df Model:                          54                                         \n",
       "Covariance Type:            nonrobust                                         \n",
       "====================================================================================\n",
       "                       coef    std err          t      P>|t|      [0.025      0.975]\n",
       "------------------------------------------------------------------------------------\n",
       "const                0.1540      0.088      1.746      0.082      -0.020       0.328\n",
       "cmean               -0.0077      0.027     -0.288      0.774      -0.061       0.045\n",
       "cmin                -0.0263      0.024     -1.113      0.267      -0.073       0.020\n",
       "ie                   0.0160      0.025      0.650      0.516      -0.032       0.064\n",
       "mew                 -0.0441      0.030     -1.455      0.147      -0.104       0.016\n",
       "meg                  0.0115      0.039      0.299      0.765      -0.064       0.087\n",
       "megmax               0.0289      0.035      0.817      0.414      -0.041       0.099\n",
       "dbusl               -0.0282      0.030     -0.945      0.346      -0.087       0.031\n",
       "dtraml              -0.0178      0.031     -0.575      0.566      -0.079       0.043\n",
       "dtrainl             -0.0260      0.029     -0.913      0.362      -0.082       0.030\n",
       "dplight             -0.0319      0.025     -1.259      0.209      -0.082       0.018\n",
       "dstation             0.0521      0.027      1.912      0.057      -0.002       0.106\n",
       "dparkcar            -0.0080      0.030     -0.266      0.791      -0.067       0.051\n",
       "dparktw              0.0076      0.028      0.267      0.789      -0.048       0.063\n",
       "dpedcro              0.0150      0.026      0.582      0.561      -0.036       0.066\n",
       "dstopsign            0.0331      0.033      1.012      0.313      -0.031       0.097\n",
       "dtrafficarea         0.0131      0.033      0.395      0.693      -0.052       0.079\n",
       "droad                0.0763      0.036      2.096      0.037       0.005       0.148\n",
       "dvfpath             -0.0136      0.034     -0.403      0.687      -0.080       0.053\n",
       "gvm_dwv              0.0613      0.030      2.065      0.040       0.003       0.120\n",
       "r_width_value       -0.0053      0.031     -0.173      0.863      -0.066       0.055\n",
       "speedlimit_value    -0.0054      0.031     -0.177      0.860      -0.066       0.055\n",
       "bicyclecount        -0.0428      0.024     -1.778      0.077      -0.090       0.005\n",
       "carcount            -0.0245      0.027     -0.916      0.361      -0.077       0.028\n",
       "z_qnr_2              0.7808      0.222      3.522      0.001       0.344       1.217\n",
       "z_qnr_3             -0.0364      0.200     -0.182      0.855      -0.430       0.357\n",
       "z_qnr_4             -0.1369      0.248     -0.551      0.582      -0.626       0.352\n",
       "z_qnr_5             -0.1066      0.121     -0.881      0.379      -0.345       0.132\n",
       "z_qnr_6              0.3284      0.187      1.753      0.081      -0.041       0.697\n",
       "z_qnr_8             -0.1183      0.144     -0.823      0.412      -0.401       0.165\n",
       "z_qnr_9             -0.0983      0.247     -0.397      0.691      -0.586       0.389\n",
       "z_qnr_10             0.1453      0.183      0.796      0.427      -0.214       0.505\n",
       "z_qnr_13             0.0096      0.215      0.045      0.964      -0.414       0.433\n",
       "z_qnr_14             0.0578      0.165      0.351      0.726      -0.267       0.382\n",
       "z_qnr_15             0.0700      0.147      0.475      0.635      -0.220       0.360\n",
       "z_qnr_17             0.1528      0.132      1.156      0.249      -0.108       0.413\n",
       "z_qnr_18             0.1779      0.125      1.419      0.157      -0.069       0.425\n",
       "z_qnr_19             0.0001      0.125      0.001      0.999      -0.247       0.247\n",
       "z_qnr_20             0.0591      0.130      0.455      0.650      -0.197       0.315\n",
       "z_qnr_21            -0.1262      0.140     -0.904      0.367      -0.401       0.149\n",
       "z_qnr_22             0.0477      0.168      0.283      0.777      -0.284       0.379\n",
       "z_qnr_24            -0.0860      0.166     -0.519      0.604      -0.412       0.240\n",
       "z_qnr_25             0.0765      0.181      0.422      0.673      -0.281       0.434\n",
       "z_qnr_28            -0.2106      0.274     -0.768      0.444      -0.751       0.330\n",
       "z_knr_1             -0.1141      0.113     -1.011      0.313      -0.337       0.108\n",
       "z_knr_3              0.0559      0.127      0.440      0.660      -0.194       0.306\n",
       "z_knr_7             -0.0097      0.113     -0.086      0.932      -0.232       0.213\n",
       "z_knr_8              0.0818      0.147      0.555      0.579      -0.208       0.372\n",
       "z_knr_11             0.0539      0.208      0.259      0.796      -0.355       0.463\n",
       "trafficarea_1       -0.1043      0.082     -1.270      0.205      -0.266       0.057\n",
       "r_width_2           -0.0965      0.175     -0.550      0.583      -0.442       0.249\n",
       "r_width_3            0.1039      0.087      1.199      0.232      -0.067       0.275\n",
       "r_width_4            0.1431      0.068      2.103      0.036       0.009       0.277\n",
       "r_width_6            0.1543      0.109      1.419      0.157      -0.060       0.368\n",
       "speedlimit_1         0.1024      0.071      1.432      0.153      -0.038       0.243\n",
       "==============================================================================\n",
       "Omnibus:                       61.158   Durbin-Watson:                   1.823\n",
       "Prob(Omnibus):                  0.000   Jarque-Bera (JB):               93.543\n",
       "Skew:                           1.297   Prob(JB):                     4.87e-21\n",
       "Kurtosis:                       3.938   Cond. No.                         27.3\n",
       "==============================================================================\n",
       "\n",
       "Notes:\n",
       "[1] Standard Errors assume that the covariance matrix of the errors is correctly specified.\n",
       "\"\"\""
      ]
     },
     "execution_count": 362,
     "metadata": {},
     "output_type": "execute_result"
    }
   ],
   "source": [
    "# OLS\n",
    "# With constant\n",
    "x_const = tools.add_constant(x)\n",
    "m00 = sm.OLS(y, x_const)\n",
    "r00 = m00.fit()\n",
    "r00.summary()\n",
    "\n",
    "# m00 = sm.OLS(y, x)\n",
    "# r00 = m00.fit()\n",
    "# r00.summary()"
   ]
  },
  {
   "cell_type": "code",
   "execution_count": 363,
   "id": "d915df21-384a-47da-bc35-1242f858e894",
   "metadata": {
    "execution": {
     "iopub.execute_input": "2024-10-28T18:14:59.097992Z",
     "iopub.status.busy": "2024-10-28T18:14:59.097684Z",
     "iopub.status.idle": "2024-10-28T18:14:59.101454Z",
     "shell.execute_reply": "2024-10-28T18:14:59.101022Z",
     "shell.execute_reply.started": "2024-10-28T18:14:59.097973Z"
    }
   },
   "outputs": [
    {
     "name": "stdout",
     "output_type": "stream",
     "text": [
      "0.03404179041287758\n"
     ]
    }
   ],
   "source": [
    "print(r00.rsquared_adj)"
   ]
  },
  {
   "cell_type": "code",
   "execution_count": 364,
   "id": "0c7211cf-18d7-4583-83d2-26ab7c5df0ce",
   "metadata": {
    "execution": {
     "iopub.execute_input": "2024-10-28T18:14:59.742314Z",
     "iopub.status.busy": "2024-10-28T18:14:59.742034Z",
     "iopub.status.idle": "2024-10-28T18:14:59.746082Z",
     "shell.execute_reply": "2024-10-28T18:14:59.745675Z",
     "shell.execute_reply.started": "2024-10-28T18:14:59.742296Z"
    }
   },
   "outputs": [],
   "source": [
    "def printsig(r):\n",
    "    df = r.pvalues\n",
    "    dfo = df[df<0.05]\n",
    "    dfo = dfo.to_frame()\n",
    "    dfo.loc[dfo[0] >= 0.01, 'sig'] = '*'\n",
    "    dfo.loc[(dfo[0] < 0.01) & (dfo[0] >= 0.001) , 'sig'] = '**'\n",
    "    dfo.loc[dfo[0] < 0.001, 'sig'] = '***'\n",
    "    dfo = dfo.rename_axis('feature').reset_index()\n",
    "    return dfo\n",
    "    print(dfo)\n",
    "    print(len(dfo))"
   ]
  },
  {
   "cell_type": "code",
   "execution_count": 365,
   "id": "2d9536c1-2182-4d14-b1c8-ad683a80664a",
   "metadata": {
    "execution": {
     "iopub.execute_input": "2024-10-28T18:15:01.242445Z",
     "iopub.status.busy": "2024-10-28T18:15:01.242166Z",
     "iopub.status.idle": "2024-10-28T18:15:01.251169Z",
     "shell.execute_reply": "2024-10-28T18:15:01.250786Z",
     "shell.execute_reply.started": "2024-10-28T18:15:01.242427Z"
    }
   },
   "outputs": [
    {
     "data": {
      "text/html": [
       "<div>\n",
       "<style scoped>\n",
       "    .dataframe tbody tr th:only-of-type {\n",
       "        vertical-align: middle;\n",
       "    }\n",
       "\n",
       "    .dataframe tbody tr th {\n",
       "        vertical-align: top;\n",
       "    }\n",
       "\n",
       "    .dataframe thead th {\n",
       "        text-align: right;\n",
       "    }\n",
       "</style>\n",
       "<table border=\"1\" class=\"dataframe\">\n",
       "  <thead>\n",
       "    <tr style=\"text-align: right;\">\n",
       "      <th></th>\n",
       "      <th>feature</th>\n",
       "      <th>0</th>\n",
       "      <th>sig</th>\n",
       "    </tr>\n",
       "  </thead>\n",
       "  <tbody>\n",
       "    <tr>\n",
       "      <th>0</th>\n",
       "      <td>droad</td>\n",
       "      <td>0.037174</td>\n",
       "      <td>*</td>\n",
       "    </tr>\n",
       "    <tr>\n",
       "      <th>1</th>\n",
       "      <td>gvm_dwv</td>\n",
       "      <td>0.039970</td>\n",
       "      <td>*</td>\n",
       "    </tr>\n",
       "    <tr>\n",
       "      <th>2</th>\n",
       "      <td>z_qnr_2</td>\n",
       "      <td>0.000512</td>\n",
       "      <td>***</td>\n",
       "    </tr>\n",
       "    <tr>\n",
       "      <th>3</th>\n",
       "      <td>r_width_4</td>\n",
       "      <td>0.036497</td>\n",
       "      <td>*</td>\n",
       "    </tr>\n",
       "  </tbody>\n",
       "</table>\n",
       "</div>"
      ],
      "text/plain": [
       "     feature         0  sig\n",
       "0      droad  0.037174    *\n",
       "1    gvm_dwv  0.039970    *\n",
       "2    z_qnr_2  0.000512  ***\n",
       "3  r_width_4  0.036497    *"
      ]
     },
     "execution_count": 365,
     "metadata": {},
     "output_type": "execute_result"
    }
   ],
   "source": [
    "printsig(r00)"
   ]
  },
  {
   "cell_type": "code",
   "execution_count": 366,
   "id": "aa73c4e6-afd1-4ec7-bc36-72e81f5e5241",
   "metadata": {
    "execution": {
     "iopub.execute_input": "2024-10-28T18:15:03.700066Z",
     "iopub.status.busy": "2024-10-28T18:15:03.699788Z",
     "iopub.status.idle": "2024-10-28T18:15:03.961087Z",
     "shell.execute_reply": "2024-10-28T18:15:03.960664Z",
     "shell.execute_reply.started": "2024-10-28T18:15:03.700049Z"
    }
   },
   "outputs": [
    {
     "name": "stdout",
     "output_type": "stream",
     "text": [
      "0.8542372881355932\n",
      "\n",
      "Test accuracy : \n",
      " 0.8542372881355932\n",
      "\n",
      "Confusion Matrix : \n",
      " [[244   2]\n",
      " [ 41   8]]\n"
     ]
    },
    {
     "data": {
      "text/plain": [
       "<sklearn.metrics._plot.confusion_matrix.ConfusionMatrixDisplay at 0x1479638a8c50>"
      ]
     },
     "execution_count": 366,
     "metadata": {},
     "output_type": "execute_result"
    },
    {
     "data": {
      "image/png": "[encoded data removed]",
      "text/plain": [
       "<Figure size 640x480 with 2 Axes>"
      ]
     },
     "metadata": {},
     "output_type": "display_data"
    }
   ],
   "source": [
    "pred00 = r00.predict(x_const)\n",
    "pred00 = list(map(round,pred00))\n",
    "print(accuracy_score(y, pred00))\n",
    "print('\\nTest accuracy : \\n', accuracy_score(y, pred00))\n",
    "cm00 = confusion_matrix(y, pred00) \n",
    "print ('\\nConfusion Matrix : \\n', cm00)\n",
    "cm00_display = metrics.ConfusionMatrixDisplay(confusion_matrix = cm00)\n",
    "cm00_display.plot()"
   ]
  },
  {
   "cell_type": "code",
   "execution_count": 367,
   "id": "000a5c84-dfa0-45d4-b162-b54356df5d34",
   "metadata": {
    "execution": {
     "iopub.execute_input": "2024-10-28T18:15:04.656364Z",
     "iopub.status.busy": "2024-10-28T18:15:04.656077Z",
     "iopub.status.idle": "2024-10-28T18:15:04.667065Z",
     "shell.execute_reply": "2024-10-28T18:15:04.666658Z",
     "shell.execute_reply.started": "2024-10-28T18:15:04.656338Z"
    }
   },
   "outputs": [
    {
     "name": "stdout",
     "output_type": "stream",
     "text": [
      "accuracy 0.8542372881355932\n",
      "precision [0.85614035 0.8       ]\n",
      "sensitivity recall [0.99186992 0.16326531]\n",
      "f1 score [0.91902072 0.27118644]\n",
      "mean precision 0.8280701754385965\n",
      "mean recall 0.577567612410818\n",
      "mean f1 score 0.5951035781544256\n"
     ]
    }
   ],
   "source": [
    "acc_ols = metrics.accuracy_score(y, pred00)\n",
    "print('accuracy', acc_ols)\n",
    "\n",
    "pre_ols = metrics.precision_score(y, pred00, average = None)\n",
    "print('precision', pre_ols)\n",
    "\n",
    "senrec_ols = metrics.recall_score(y, pred00, average = None)\n",
    "print('sensitivity recall', senrec_ols)\n",
    "\n",
    "f1_ols = metrics.f1_score(y, pred00, average = None)\n",
    "print('f1 score', f1_ols)\n",
    "\n",
    "pre_ols_m = np.mean(pre_ols)\n",
    "senrec_ols_m = np.mean(senrec_ols)\n",
    "f1_ols_m = np.mean(f1_ols)\n",
    "print('mean precision', pre_ols_m)\n",
    "print('mean recall', senrec_ols_m)\n",
    "print('mean f1 score', f1_ols_m)"
   ]
  },
  {
   "cell_type": "markdown",
   "id": "82930f54-a24d-48a1-a9de-0d36dd34c14b",
   "metadata": {},
   "source": [
    "### With data splitting"
   ]
  },
  {
   "cell_type": "code",
   "execution_count": 368,
   "id": "b56e34e2-487a-4703-bfad-189ca1dafe51",
   "metadata": {
    "execution": {
     "iopub.execute_input": "2024-10-28T18:15:06.045287Z",
     "iopub.status.busy": "2024-10-28T18:15:06.045001Z",
     "iopub.status.idle": "2024-10-28T18:15:06.177826Z",
     "shell.execute_reply": "2024-10-28T18:15:06.177401Z",
     "shell.execute_reply.started": "2024-10-28T18:15:06.045269Z"
    },
    "scrolled": true
   },
   "outputs": [
    {
     "data": {
      "text/html": [
       "<table class=\"simpletable\">\n",
       "<caption>OLS Regression Results</caption>\n",
       "<tr>\n",
       "  <th>Dep. Variable:</th>           <td>SV</td>        <th>  R-squared:         </th> <td>   0.323</td>\n",
       "</tr>\n",
       "<tr>\n",
       "  <th>Model:</th>                   <td>OLS</td>       <th>  Adj. R-squared:    </th> <td>   0.081</td>\n",
       "</tr>\n",
       "<tr>\n",
       "  <th>Method:</th>             <td>Least Squares</td>  <th>  F-statistic:       </th> <td>   1.334</td>\n",
       "</tr>\n",
       "<tr>\n",
       "  <th>Date:</th>             <td>Mon, 28 Oct 2024</td> <th>  Prob (F-statistic):</th>  <td>0.0894</td> \n",
       "</tr>\n",
       "<tr>\n",
       "  <th>Time:</th>                 <td>19:15:06</td>     <th>  Log-Likelihood:    </th> <td> -54.890</td>\n",
       "</tr>\n",
       "<tr>\n",
       "  <th>No. Observations:</th>      <td>   206</td>      <th>  AIC:               </th> <td>   219.8</td>\n",
       "</tr>\n",
       "<tr>\n",
       "  <th>Df Residuals:</th>          <td>   151</td>      <th>  BIC:               </th> <td>   402.8</td>\n",
       "</tr>\n",
       "<tr>\n",
       "  <th>Df Model:</th>              <td>    54</td>      <th>                     </th>     <td> </td>   \n",
       "</tr>\n",
       "<tr>\n",
       "  <th>Covariance Type:</th>      <td>nonrobust</td>    <th>                     </th>     <td> </td>   \n",
       "</tr>\n",
       "</table>\n",
       "<table class=\"simpletable\">\n",
       "<tr>\n",
       "          <td></td>            <th>coef</th>     <th>std err</th>      <th>t</th>      <th>P>|t|</th>  <th>[0.025</th>    <th>0.975]</th>  \n",
       "</tr>\n",
       "<tr>\n",
       "  <th>const</th>            <td>    0.1407</td> <td>    0.126</td> <td>    1.121</td> <td> 0.264</td> <td>   -0.107</td> <td>    0.389</td>\n",
       "</tr>\n",
       "<tr>\n",
       "  <th>cmean</th>            <td>    0.0051</td> <td>    0.034</td> <td>    0.151</td> <td> 0.880</td> <td>   -0.062</td> <td>    0.072</td>\n",
       "</tr>\n",
       "<tr>\n",
       "  <th>cmin</th>             <td>   -0.0462</td> <td>    0.025</td> <td>   -1.831</td> <td> 0.069</td> <td>   -0.096</td> <td>    0.004</td>\n",
       "</tr>\n",
       "<tr>\n",
       "  <th>ie</th>               <td>    0.0036</td> <td>    0.032</td> <td>    0.114</td> <td> 0.909</td> <td>   -0.059</td> <td>    0.066</td>\n",
       "</tr>\n",
       "<tr>\n",
       "  <th>mew</th>              <td>   -0.0533</td> <td>    0.038</td> <td>   -1.394</td> <td> 0.165</td> <td>   -0.129</td> <td>    0.022</td>\n",
       "</tr>\n",
       "<tr>\n",
       "  <th>meg</th>              <td>    0.0379</td> <td>    0.049</td> <td>    0.769</td> <td> 0.443</td> <td>   -0.060</td> <td>    0.135</td>\n",
       "</tr>\n",
       "<tr>\n",
       "  <th>megmax</th>           <td>    0.0246</td> <td>    0.042</td> <td>    0.584</td> <td> 0.560</td> <td>   -0.059</td> <td>    0.108</td>\n",
       "</tr>\n",
       "<tr>\n",
       "  <th>dbusl</th>            <td>   -0.0909</td> <td>    0.040</td> <td>   -2.278</td> <td> 0.024</td> <td>   -0.170</td> <td>   -0.012</td>\n",
       "</tr>\n",
       "<tr>\n",
       "  <th>dtraml</th>           <td>   -0.0268</td> <td>    0.039</td> <td>   -0.695</td> <td> 0.488</td> <td>   -0.103</td> <td>    0.049</td>\n",
       "</tr>\n",
       "<tr>\n",
       "  <th>dtrainl</th>          <td>   -0.0254</td> <td>    0.038</td> <td>   -0.677</td> <td> 0.500</td> <td>   -0.100</td> <td>    0.049</td>\n",
       "</tr>\n",
       "<tr>\n",
       "  <th>dplight</th>          <td>   -0.0303</td> <td>    0.034</td> <td>   -0.898</td> <td> 0.371</td> <td>   -0.097</td> <td>    0.036</td>\n",
       "</tr>\n",
       "<tr>\n",
       "  <th>dstation</th>         <td>    0.0878</td> <td>    0.034</td> <td>    2.554</td> <td> 0.012</td> <td>    0.020</td> <td>    0.156</td>\n",
       "</tr>\n",
       "<tr>\n",
       "  <th>dparkcar</th>         <td>   -0.0313</td> <td>    0.037</td> <td>   -0.846</td> <td> 0.399</td> <td>   -0.104</td> <td>    0.042</td>\n",
       "</tr>\n",
       "<tr>\n",
       "  <th>dparktw</th>          <td>    0.0005</td> <td>    0.035</td> <td>    0.013</td> <td> 0.990</td> <td>   -0.069</td> <td>    0.070</td>\n",
       "</tr>\n",
       "<tr>\n",
       "  <th>dpedcro</th>          <td>    0.0334</td> <td>    0.032</td> <td>    1.045</td> <td> 0.298</td> <td>   -0.030</td> <td>    0.096</td>\n",
       "</tr>\n",
       "<tr>\n",
       "  <th>dstopsign</th>        <td>    0.0010</td> <td>    0.049</td> <td>    0.021</td> <td> 0.983</td> <td>   -0.096</td> <td>    0.098</td>\n",
       "</tr>\n",
       "<tr>\n",
       "  <th>dtrafficarea</th>     <td>   -0.0101</td> <td>    0.047</td> <td>   -0.215</td> <td> 0.830</td> <td>   -0.103</td> <td>    0.083</td>\n",
       "</tr>\n",
       "<tr>\n",
       "  <th>droad</th>            <td>    0.0984</td> <td>    0.043</td> <td>    2.265</td> <td> 0.025</td> <td>    0.013</td> <td>    0.184</td>\n",
       "</tr>\n",
       "<tr>\n",
       "  <th>dvfpath</th>          <td>    0.0011</td> <td>    0.044</td> <td>    0.024</td> <td> 0.981</td> <td>   -0.086</td> <td>    0.088</td>\n",
       "</tr>\n",
       "<tr>\n",
       "  <th>gvm_dwv</th>          <td>    0.0820</td> <td>    0.039</td> <td>    2.123</td> <td> 0.035</td> <td>    0.006</td> <td>    0.158</td>\n",
       "</tr>\n",
       "<tr>\n",
       "  <th>r_width_value</th>    <td>   -0.0432</td> <td>    0.038</td> <td>   -1.127</td> <td> 0.262</td> <td>   -0.119</td> <td>    0.033</td>\n",
       "</tr>\n",
       "<tr>\n",
       "  <th>speedlimit_value</th> <td>   -0.0085</td> <td>    0.038</td> <td>   -0.221</td> <td> 0.826</td> <td>   -0.084</td> <td>    0.067</td>\n",
       "</tr>\n",
       "<tr>\n",
       "  <th>bicyclecount</th>     <td>   -0.0699</td> <td>    0.033</td> <td>   -2.128</td> <td> 0.035</td> <td>   -0.135</td> <td>   -0.005</td>\n",
       "</tr>\n",
       "<tr>\n",
       "  <th>carcount</th>         <td>   -0.0267</td> <td>    0.035</td> <td>   -0.754</td> <td> 0.452</td> <td>   -0.097</td> <td>    0.043</td>\n",
       "</tr>\n",
       "<tr>\n",
       "  <th>z_qnr_2</th>          <td>    1.0892</td> <td>    0.523</td> <td>    2.084</td> <td> 0.039</td> <td>    0.056</td> <td>    2.122</td>\n",
       "</tr>\n",
       "<tr>\n",
       "  <th>z_qnr_3</th>          <td>   -0.1125</td> <td>    0.278</td> <td>   -0.405</td> <td> 0.686</td> <td>   -0.661</td> <td>    0.436</td>\n",
       "</tr>\n",
       "<tr>\n",
       "  <th>z_qnr_4</th>          <td>    0.1536</td> <td>    0.323</td> <td>    0.475</td> <td> 0.635</td> <td>   -0.485</td> <td>    0.793</td>\n",
       "</tr>\n",
       "<tr>\n",
       "  <th>z_qnr_5</th>          <td>   -0.2029</td> <td>    0.146</td> <td>   -1.391</td> <td> 0.166</td> <td>   -0.491</td> <td>    0.085</td>\n",
       "</tr>\n",
       "<tr>\n",
       "  <th>z_qnr_6</th>          <td>    0.2151</td> <td>    0.218</td> <td>    0.988</td> <td> 0.325</td> <td>   -0.215</td> <td>    0.645</td>\n",
       "</tr>\n",
       "<tr>\n",
       "  <th>z_qnr_8</th>          <td>    0.0059</td> <td>    0.185</td> <td>    0.032</td> <td> 0.975</td> <td>   -0.359</td> <td>    0.371</td>\n",
       "</tr>\n",
       "<tr>\n",
       "  <th>z_qnr_9</th>          <td>    0.1231</td> <td>    0.268</td> <td>    0.459</td> <td> 0.647</td> <td>   -0.407</td> <td>    0.653</td>\n",
       "</tr>\n",
       "<tr>\n",
       "  <th>z_qnr_10</th>         <td>    0.1692</td> <td>    0.242</td> <td>    0.700</td> <td> 0.485</td> <td>   -0.308</td> <td>    0.647</td>\n",
       "</tr>\n",
       "<tr>\n",
       "  <th>z_qnr_13</th>         <td>    0.0476</td> <td>    0.272</td> <td>    0.175</td> <td> 0.861</td> <td>   -0.490</td> <td>    0.585</td>\n",
       "</tr>\n",
       "<tr>\n",
       "  <th>z_qnr_14</th>         <td>    0.0590</td> <td>    0.208</td> <td>    0.284</td> <td> 0.777</td> <td>   -0.351</td> <td>    0.469</td>\n",
       "</tr>\n",
       "<tr>\n",
       "  <th>z_qnr_15</th>         <td>   -0.0006</td> <td>    0.176</td> <td>   -0.003</td> <td> 0.997</td> <td>   -0.348</td> <td>    0.347</td>\n",
       "</tr>\n",
       "<tr>\n",
       "  <th>z_qnr_17</th>         <td>    0.3553</td> <td>    0.180</td> <td>    1.971</td> <td> 0.051</td> <td>   -0.001</td> <td>    0.712</td>\n",
       "</tr>\n",
       "<tr>\n",
       "  <th>z_qnr_18</th>         <td>    0.0904</td> <td>    0.153</td> <td>    0.591</td> <td> 0.555</td> <td>   -0.212</td> <td>    0.393</td>\n",
       "</tr>\n",
       "<tr>\n",
       "  <th>z_qnr_19</th>         <td>    0.0942</td> <td>    0.172</td> <td>    0.548</td> <td> 0.584</td> <td>   -0.245</td> <td>    0.434</td>\n",
       "</tr>\n",
       "<tr>\n",
       "  <th>z_qnr_20</th>         <td>    0.1409</td> <td>    0.175</td> <td>    0.808</td> <td> 0.421</td> <td>   -0.204</td> <td>    0.486</td>\n",
       "</tr>\n",
       "<tr>\n",
       "  <th>z_qnr_21</th>         <td>   -0.0964</td> <td>    0.164</td> <td>   -0.589</td> <td> 0.556</td> <td>   -0.419</td> <td>    0.227</td>\n",
       "</tr>\n",
       "<tr>\n",
       "  <th>z_qnr_22</th>         <td>    0.2306</td> <td>    0.232</td> <td>    0.994</td> <td> 0.322</td> <td>   -0.228</td> <td>    0.689</td>\n",
       "</tr>\n",
       "<tr>\n",
       "  <th>z_qnr_24</th>         <td>   -0.0868</td> <td>    0.220</td> <td>   -0.394</td> <td> 0.694</td> <td>   -0.522</td> <td>    0.349</td>\n",
       "</tr>\n",
       "<tr>\n",
       "  <th>z_qnr_25</th>         <td>    0.0065</td> <td>    0.205</td> <td>    0.032</td> <td> 0.975</td> <td>   -0.398</td> <td>    0.411</td>\n",
       "</tr>\n",
       "<tr>\n",
       "  <th>z_qnr_28</th>         <td>   -0.3473</td> <td>    0.372</td> <td>   -0.935</td> <td> 0.352</td> <td>   -1.082</td> <td>    0.387</td>\n",
       "</tr>\n",
       "<tr>\n",
       "  <th>z_knr_1</th>          <td>   -0.1007</td> <td>    0.139</td> <td>   -0.725</td> <td> 0.470</td> <td>   -0.375</td> <td>    0.174</td>\n",
       "</tr>\n",
       "<tr>\n",
       "  <th>z_knr_3</th>          <td>   -0.1974</td> <td>    0.159</td> <td>   -1.241</td> <td> 0.216</td> <td>   -0.512</td> <td>    0.117</td>\n",
       "</tr>\n",
       "<tr>\n",
       "  <th>z_knr_7</th>          <td>   -0.0411</td> <td>    0.152</td> <td>   -0.270</td> <td> 0.788</td> <td>   -0.342</td> <td>    0.260</td>\n",
       "</tr>\n",
       "<tr>\n",
       "  <th>z_knr_8</th>          <td>    0.0257</td> <td>    0.171</td> <td>    0.150</td> <td> 0.881</td> <td>   -0.312</td> <td>    0.363</td>\n",
       "</tr>\n",
       "<tr>\n",
       "  <th>z_knr_11</th>         <td>    0.2507</td> <td>    0.292</td> <td>    0.859</td> <td> 0.392</td> <td>   -0.326</td> <td>    0.827</td>\n",
       "</tr>\n",
       "<tr>\n",
       "  <th>trafficarea_1</th>    <td>   -0.0094</td> <td>    0.107</td> <td>   -0.088</td> <td> 0.930</td> <td>   -0.221</td> <td>    0.202</td>\n",
       "</tr>\n",
       "<tr>\n",
       "  <th>r_width_2</th>        <td>   -0.2099</td> <td>    0.221</td> <td>   -0.951</td> <td> 0.343</td> <td>   -0.646</td> <td>    0.226</td>\n",
       "</tr>\n",
       "<tr>\n",
       "  <th>r_width_3</th>        <td>    0.0271</td> <td>    0.111</td> <td>    0.245</td> <td> 0.807</td> <td>   -0.192</td> <td>    0.246</td>\n",
       "</tr>\n",
       "<tr>\n",
       "  <th>r_width_4</th>        <td>    0.1162</td> <td>    0.085</td> <td>    1.373</td> <td> 0.172</td> <td>   -0.051</td> <td>    0.283</td>\n",
       "</tr>\n",
       "<tr>\n",
       "  <th>r_width_6</th>        <td>    0.1733</td> <td>    0.136</td> <td>    1.275</td> <td> 0.204</td> <td>   -0.095</td> <td>    0.442</td>\n",
       "</tr>\n",
       "<tr>\n",
       "  <th>speedlimit_1</th>     <td>    0.0347</td> <td>    0.091</td> <td>    0.379</td> <td> 0.705</td> <td>   -0.146</td> <td>    0.215</td>\n",
       "</tr>\n",
       "</table>\n",
       "<table class=\"simpletable\">\n",
       "<tr>\n",
       "  <th>Omnibus:</th>       <td>28.770</td> <th>  Durbin-Watson:     </th> <td>   1.866</td>\n",
       "</tr>\n",
       "<tr>\n",
       "  <th>Prob(Omnibus):</th> <td> 0.000</td> <th>  Jarque-Bera (JB):  </th> <td>  36.189</td>\n",
       "</tr>\n",
       "<tr>\n",
       "  <th>Skew:</th>          <td> 0.994</td> <th>  Prob(JB):          </th> <td>1.39e-08</td>\n",
       "</tr>\n",
       "<tr>\n",
       "  <th>Kurtosis:</th>      <td> 3.513</td> <th>  Cond. No.          </th> <td>    37.5</td>\n",
       "</tr>\n",
       "</table><br/><br/>Notes:<br/>[1] Standard Errors assume that the covariance matrix of the errors is correctly specified."
      ],
      "text/latex": [
       "\\begin{center}\n",
       "\\begin{tabular}{lclc}\n",
       "\\toprule\n",
       "\\textbf{Dep. Variable:}    &        SV        & \\textbf{  R-squared:         } &     0.323   \\\\\n",
       "\\textbf{Model:}            &       OLS        & \\textbf{  Adj. R-squared:    } &     0.081   \\\\\n",
       "\\textbf{Method:}           &  Least Squares   & \\textbf{  F-statistic:       } &     1.334   \\\\\n",
       "\\textbf{Date:}             & Mon, 28 Oct 2024 & \\textbf{  Prob (F-statistic):} &   0.0894    \\\\\n",
       "\\textbf{Time:}             &     19:15:06     & \\textbf{  Log-Likelihood:    } &   -54.890   \\\\\n",
       "\\textbf{No. Observations:} &         206      & \\textbf{  AIC:               } &     219.8   \\\\\n",
       "\\textbf{Df Residuals:}     &         151      & \\textbf{  BIC:               } &     402.8   \\\\\n",
       "\\textbf{Df Model:}         &          54      & \\textbf{                     } &             \\\\\n",
       "\\textbf{Covariance Type:}  &    nonrobust     & \\textbf{                     } &             \\\\\n",
       "\\bottomrule\n",
       "\\end{tabular}\n",
       "\\begin{tabular}{lcccccc}\n",
       "                           & \\textbf{coef} & \\textbf{std err} & \\textbf{t} & \\textbf{P$> |$t$|$} & \\textbf{[0.025} & \\textbf{0.975]}  \\\\\n",
       "\\midrule\n",
       "\\textbf{const}             &       0.1407  &        0.126     &     1.121  &         0.264        &       -0.107    &        0.389     \\\\\n",
       "\\textbf{cmean}             &       0.0051  &        0.034     &     0.151  &         0.880        &       -0.062    &        0.072     \\\\\n",
       "\\textbf{cmin}              &      -0.0462  &        0.025     &    -1.831  &         0.069        &       -0.096    &        0.004     \\\\\n",
       "\\textbf{ie}                &       0.0036  &        0.032     &     0.114  &         0.909        &       -0.059    &        0.066     \\\\\n",
       "\\textbf{mew}               &      -0.0533  &        0.038     &    -1.394  &         0.165        &       -0.129    &        0.022     \\\\\n",
       "\\textbf{meg}               &       0.0379  &        0.049     &     0.769  &         0.443        &       -0.060    &        0.135     \\\\\n",
       "\\textbf{megmax}            &       0.0246  &        0.042     &     0.584  &         0.560        &       -0.059    &        0.108     \\\\\n",
       "\\textbf{dbusl}             &      -0.0909  &        0.040     &    -2.278  &         0.024        &       -0.170    &       -0.012     \\\\\n",
       "\\textbf{dtraml}            &      -0.0268  &        0.039     &    -0.695  &         0.488        &       -0.103    &        0.049     \\\\\n",
       "\\textbf{dtrainl}           &      -0.0254  &        0.038     &    -0.677  &         0.500        &       -0.100    &        0.049     \\\\\n",
       "\\textbf{dplight}           &      -0.0303  &        0.034     &    -0.898  &         0.371        &       -0.097    &        0.036     \\\\\n",
       "\\textbf{dstation}          &       0.0878  &        0.034     &     2.554  &         0.012        &        0.020    &        0.156     \\\\\n",
       "\\textbf{dparkcar}          &      -0.0313  &        0.037     &    -0.846  &         0.399        &       -0.104    &        0.042     \\\\\n",
       "\\textbf{dparktw}           &       0.0005  &        0.035     &     0.013  &         0.990        &       -0.069    &        0.070     \\\\\n",
       "\\textbf{dpedcro}           &       0.0334  &        0.032     &     1.045  &         0.298        &       -0.030    &        0.096     \\\\\n",
       "\\textbf{dstopsign}         &       0.0010  &        0.049     &     0.021  &         0.983        &       -0.096    &        0.098     \\\\\n",
       "\\textbf{dtrafficarea}      &      -0.0101  &        0.047     &    -0.215  &         0.830        &       -0.103    &        0.083     \\\\\n",
       "\\textbf{droad}             &       0.0984  &        0.043     &     2.265  &         0.025        &        0.013    &        0.184     \\\\\n",
       "\\textbf{dvfpath}           &       0.0011  &        0.044     &     0.024  &         0.981        &       -0.086    &        0.088     \\\\\n",
       "\\textbf{gvm\\_dwv}          &       0.0820  &        0.039     &     2.123  &         0.035        &        0.006    &        0.158     \\\\\n",
       "\\textbf{r\\_width\\_value}   &      -0.0432  &        0.038     &    -1.127  &         0.262        &       -0.119    &        0.033     \\\\\n",
       "\\textbf{speedlimit\\_value} &      -0.0085  &        0.038     &    -0.221  &         0.826        &       -0.084    &        0.067     \\\\\n",
       "\\textbf{bicyclecount}      &      -0.0699  &        0.033     &    -2.128  &         0.035        &       -0.135    &       -0.005     \\\\\n",
       "\\textbf{carcount}          &      -0.0267  &        0.035     &    -0.754  &         0.452        &       -0.097    &        0.043     \\\\\n",
       "\\textbf{z\\_qnr\\_2}         &       1.0892  &        0.523     &     2.084  &         0.039        &        0.056    &        2.122     \\\\\n",
       "\\textbf{z\\_qnr\\_3}         &      -0.1125  &        0.278     &    -0.405  &         0.686        &       -0.661    &        0.436     \\\\\n",
       "\\textbf{z\\_qnr\\_4}         &       0.1536  &        0.323     &     0.475  &         0.635        &       -0.485    &        0.793     \\\\\n",
       "\\textbf{z\\_qnr\\_5}         &      -0.2029  &        0.146     &    -1.391  &         0.166        &       -0.491    &        0.085     \\\\\n",
       "\\textbf{z\\_qnr\\_6}         &       0.2151  &        0.218     &     0.988  &         0.325        &       -0.215    &        0.645     \\\\\n",
       "\\textbf{z\\_qnr\\_8}         &       0.0059  &        0.185     &     0.032  &         0.975        &       -0.359    &        0.371     \\\\\n",
       "\\textbf{z\\_qnr\\_9}         &       0.1231  &        0.268     &     0.459  &         0.647        &       -0.407    &        0.653     \\\\\n",
       "\\textbf{z\\_qnr\\_10}        &       0.1692  &        0.242     &     0.700  &         0.485        &       -0.308    &        0.647     \\\\\n",
       "\\textbf{z\\_qnr\\_13}        &       0.0476  &        0.272     &     0.175  &         0.861        &       -0.490    &        0.585     \\\\\n",
       "\\textbf{z\\_qnr\\_14}        &       0.0590  &        0.208     &     0.284  &         0.777        &       -0.351    &        0.469     \\\\\n",
       "\\textbf{z\\_qnr\\_15}        &      -0.0006  &        0.176     &    -0.003  &         0.997        &       -0.348    &        0.347     \\\\\n",
       "\\textbf{z\\_qnr\\_17}        &       0.3553  &        0.180     &     1.971  &         0.051        &       -0.001    &        0.712     \\\\\n",
       "\\textbf{z\\_qnr\\_18}        &       0.0904  &        0.153     &     0.591  &         0.555        &       -0.212    &        0.393     \\\\\n",
       "\\textbf{z\\_qnr\\_19}        &       0.0942  &        0.172     &     0.548  &         0.584        &       -0.245    &        0.434     \\\\\n",
       "\\textbf{z\\_qnr\\_20}        &       0.1409  &        0.175     &     0.808  &         0.421        &       -0.204    &        0.486     \\\\\n",
       "\\textbf{z\\_qnr\\_21}        &      -0.0964  &        0.164     &    -0.589  &         0.556        &       -0.419    &        0.227     \\\\\n",
       "\\textbf{z\\_qnr\\_22}        &       0.2306  &        0.232     &     0.994  &         0.322        &       -0.228    &        0.689     \\\\\n",
       "\\textbf{z\\_qnr\\_24}        &      -0.0868  &        0.220     &    -0.394  &         0.694        &       -0.522    &        0.349     \\\\\n",
       "\\textbf{z\\_qnr\\_25}        &       0.0065  &        0.205     &     0.032  &         0.975        &       -0.398    &        0.411     \\\\\n",
       "\\textbf{z\\_qnr\\_28}        &      -0.3473  &        0.372     &    -0.935  &         0.352        &       -1.082    &        0.387     \\\\\n",
       "\\textbf{z\\_knr\\_1}         &      -0.1007  &        0.139     &    -0.725  &         0.470        &       -0.375    &        0.174     \\\\\n",
       "\\textbf{z\\_knr\\_3}         &      -0.1974  &        0.159     &    -1.241  &         0.216        &       -0.512    &        0.117     \\\\\n",
       "\\textbf{z\\_knr\\_7}         &      -0.0411  &        0.152     &    -0.270  &         0.788        &       -0.342    &        0.260     \\\\\n",
       "\\textbf{z\\_knr\\_8}         &       0.0257  &        0.171     &     0.150  &         0.881        &       -0.312    &        0.363     \\\\\n",
       "\\textbf{z\\_knr\\_11}        &       0.2507  &        0.292     &     0.859  &         0.392        &       -0.326    &        0.827     \\\\\n",
       "\\textbf{trafficarea\\_1}    &      -0.0094  &        0.107     &    -0.088  &         0.930        &       -0.221    &        0.202     \\\\\n",
       "\\textbf{r\\_width\\_2}       &      -0.2099  &        0.221     &    -0.951  &         0.343        &       -0.646    &        0.226     \\\\\n",
       "\\textbf{r\\_width\\_3}       &       0.0271  &        0.111     &     0.245  &         0.807        &       -0.192    &        0.246     \\\\\n",
       "\\textbf{r\\_width\\_4}       &       0.1162  &        0.085     &     1.373  &         0.172        &       -0.051    &        0.283     \\\\\n",
       "\\textbf{r\\_width\\_6}       &       0.1733  &        0.136     &     1.275  &         0.204        &       -0.095    &        0.442     \\\\\n",
       "\\textbf{speedlimit\\_1}     &       0.0347  &        0.091     &     0.379  &         0.705        &       -0.146    &        0.215     \\\\\n",
       "\\bottomrule\n",
       "\\end{tabular}\n",
       "\\begin{tabular}{lclc}\n",
       "\\textbf{Omnibus:}       & 28.770 & \\textbf{  Durbin-Watson:     } &    1.866  \\\\\n",
       "\\textbf{Prob(Omnibus):} &  0.000 & \\textbf{  Jarque-Bera (JB):  } &   36.189  \\\\\n",
       "\\textbf{Skew:}          &  0.994 & \\textbf{  Prob(JB):          } & 1.39e-08  \\\\\n",
       "\\textbf{Kurtosis:}      &  3.513 & \\textbf{  Cond. No.          } &     37.5  \\\\\n",
       "\\bottomrule\n",
       "\\end{tabular}\n",
       "%\\caption{OLS Regression Results}\n",
       "\\end{center}\n",
       "\n",
       "Notes: \\newline\n",
       " [1] Standard Errors assume that the covariance matrix of the errors is correctly specified."
      ],
      "text/plain": [
       "<class 'statsmodels.iolib.summary.Summary'>\n",
       "\"\"\"\n",
       "                            OLS Regression Results                            \n",
       "==============================================================================\n",
       "Dep. Variable:                     SV   R-squared:                       0.323\n",
       "Model:                            OLS   Adj. R-squared:                  0.081\n",
       "Method:                 Least Squares   F-statistic:                     1.334\n",
       "Date:                Mon, 28 Oct 2024   Prob (F-statistic):             0.0894\n",
       "Time:                        19:15:06   Log-Likelihood:                -54.890\n",
       "No. Observations:                 206   AIC:                             219.8\n",
       "Df Residuals:                     151   BIC:                             402.8\n",
       "Df Model:                          54                                         \n",
       "Covariance Type:            nonrobust                                         \n",
       "====================================================================================\n",
       "                       coef    std err          t      P>|t|      [0.025      0.975]\n",
       "------------------------------------------------------------------------------------\n",
       "const                0.1407      0.126      1.121      0.264      -0.107       0.389\n",
       "cmean                0.0051      0.034      0.151      0.880      -0.062       0.072\n",
       "cmin                -0.0462      0.025     -1.831      0.069      -0.096       0.004\n",
       "ie                   0.0036      0.032      0.114      0.909      -0.059       0.066\n",
       "mew                 -0.0533      0.038     -1.394      0.165      -0.129       0.022\n",
       "meg                  0.0379      0.049      0.769      0.443      -0.060       0.135\n",
       "megmax               0.0246      0.042      0.584      0.560      -0.059       0.108\n",
       "dbusl               -0.0909      0.040     -2.278      0.024      -0.170      -0.012\n",
       "dtraml              -0.0268      0.039     -0.695      0.488      -0.103       0.049\n",
       "dtrainl             -0.0254      0.038     -0.677      0.500      -0.100       0.049\n",
       "dplight             -0.0303      0.034     -0.898      0.371      -0.097       0.036\n",
       "dstation             0.0878      0.034      2.554      0.012       0.020       0.156\n",
       "dparkcar            -0.0313      0.037     -0.846      0.399      -0.104       0.042\n",
       "dparktw              0.0005      0.035      0.013      0.990      -0.069       0.070\n",
       "dpedcro              0.0334      0.032      1.045      0.298      -0.030       0.096\n",
       "dstopsign            0.0010      0.049      0.021      0.983      -0.096       0.098\n",
       "dtrafficarea        -0.0101      0.047     -0.215      0.830      -0.103       0.083\n",
       "droad                0.0984      0.043      2.265      0.025       0.013       0.184\n",
       "dvfpath              0.0011      0.044      0.024      0.981      -0.086       0.088\n",
       "gvm_dwv              0.0820      0.039      2.123      0.035       0.006       0.158\n",
       "r_width_value       -0.0432      0.038     -1.127      0.262      -0.119       0.033\n",
       "speedlimit_value    -0.0085      0.038     -0.221      0.826      -0.084       0.067\n",
       "bicyclecount        -0.0699      0.033     -2.128      0.035      -0.135      -0.005\n",
       "carcount            -0.0267      0.035     -0.754      0.452      -0.097       0.043\n",
       "z_qnr_2              1.0892      0.523      2.084      0.039       0.056       2.122\n",
       "z_qnr_3             -0.1125      0.278     -0.405      0.686      -0.661       0.436\n",
       "z_qnr_4              0.1536      0.323      0.475      0.635      -0.485       0.793\n",
       "z_qnr_5             -0.2029      0.146     -1.391      0.166      -0.491       0.085\n",
       "z_qnr_6              0.2151      0.218      0.988      0.325      -0.215       0.645\n",
       "z_qnr_8              0.0059      0.185      0.032      0.975      -0.359       0.371\n",
       "z_qnr_9              0.1231      0.268      0.459      0.647      -0.407       0.653\n",
       "z_qnr_10             0.1692      0.242      0.700      0.485      -0.308       0.647\n",
       "z_qnr_13             0.0476      0.272      0.175      0.861      -0.490       0.585\n",
       "z_qnr_14             0.0590      0.208      0.284      0.777      -0.351       0.469\n",
       "z_qnr_15            -0.0006      0.176     -0.003      0.997      -0.348       0.347\n",
       "z_qnr_17             0.3553      0.180      1.971      0.051      -0.001       0.712\n",
       "z_qnr_18             0.0904      0.153      0.591      0.555      -0.212       0.393\n",
       "z_qnr_19             0.0942      0.172      0.548      0.584      -0.245       0.434\n",
       "z_qnr_20             0.1409      0.175      0.808      0.421      -0.204       0.486\n",
       "z_qnr_21            -0.0964      0.164     -0.589      0.556      -0.419       0.227\n",
       "z_qnr_22             0.2306      0.232      0.994      0.322      -0.228       0.689\n",
       "z_qnr_24            -0.0868      0.220     -0.394      0.694      -0.522       0.349\n",
       "z_qnr_25             0.0065      0.205      0.032      0.975      -0.398       0.411\n",
       "z_qnr_28            -0.3473      0.372     -0.935      0.352      -1.082       0.387\n",
       "z_knr_1             -0.1007      0.139     -0.725      0.470      -0.375       0.174\n",
       "z_knr_3             -0.1974      0.159     -1.241      0.216      -0.512       0.117\n",
       "z_knr_7             -0.0411      0.152     -0.270      0.788      -0.342       0.260\n",
       "z_knr_8              0.0257      0.171      0.150      0.881      -0.312       0.363\n",
       "z_knr_11             0.2507      0.292      0.859      0.392      -0.326       0.827\n",
       "trafficarea_1       -0.0094      0.107     -0.088      0.930      -0.221       0.202\n",
       "r_width_2           -0.2099      0.221     -0.951      0.343      -0.646       0.226\n",
       "r_width_3            0.0271      0.111      0.245      0.807      -0.192       0.246\n",
       "r_width_4            0.1162      0.085      1.373      0.172      -0.051       0.283\n",
       "r_width_6            0.1733      0.136      1.275      0.204      -0.095       0.442\n",
       "speedlimit_1         0.0347      0.091      0.379      0.705      -0.146       0.215\n",
       "==============================================================================\n",
       "Omnibus:                       28.770   Durbin-Watson:                   1.866\n",
       "Prob(Omnibus):                  0.000   Jarque-Bera (JB):               36.189\n",
       "Skew:                           0.994   Prob(JB):                     1.39e-08\n",
       "Kurtosis:                       3.513   Cond. No.                         37.5\n",
       "==============================================================================\n",
       "\n",
       "Notes:\n",
       "[1] Standard Errors assume that the covariance matrix of the errors is correctly specified.\n",
       "\"\"\""
      ]
     },
     "execution_count": 368,
     "metadata": {},
     "output_type": "execute_result"
    }
   ],
   "source": [
    "# OLS\n",
    "X_train, X_test, y_train, y_test = train_test_split(\n",
    "        x_const, y,\n",
    "        test_size=0.3,\n",
    "        random_state=2)\n",
    "\n",
    "m00_split = sm.OLS(y_train, X_train)\n",
    "r00_split = m00_split.fit()\n",
    "r00_split.summary()"
   ]
  },
  {
   "cell_type": "code",
   "execution_count": 369,
   "id": "d46923b6-9eac-4c9e-84c5-8244fc2cf747",
   "metadata": {
    "execution": {
     "iopub.execute_input": "2024-10-28T18:15:11.311429Z",
     "iopub.status.busy": "2024-10-28T18:15:11.311147Z",
     "iopub.status.idle": "2024-10-28T18:15:11.319499Z",
     "shell.execute_reply": "2024-10-28T18:15:11.319080Z",
     "shell.execute_reply.started": "2024-10-28T18:15:11.311411Z"
    }
   },
   "outputs": [
    {
     "name": "stdout",
     "output_type": "stream",
     "text": [
      "0.08084260598050419\n"
     ]
    },
    {
     "data": {
      "text/html": [
       "<div>\n",
       "<style scoped>\n",
       "    .dataframe tbody tr th:only-of-type {\n",
       "        vertical-align: middle;\n",
       "    }\n",
       "\n",
       "    .dataframe tbody tr th {\n",
       "        vertical-align: top;\n",
       "    }\n",
       "\n",
       "    .dataframe thead th {\n",
       "        text-align: right;\n",
       "    }\n",
       "</style>\n",
       "<table border=\"1\" class=\"dataframe\">\n",
       "  <thead>\n",
       "    <tr style=\"text-align: right;\">\n",
       "      <th></th>\n",
       "      <th>feature</th>\n",
       "      <th>0</th>\n",
       "      <th>sig</th>\n",
       "    </tr>\n",
       "  </thead>\n",
       "  <tbody>\n",
       "    <tr>\n",
       "      <th>0</th>\n",
       "      <td>dbusl</td>\n",
       "      <td>0.024147</td>\n",
       "      <td>*</td>\n",
       "    </tr>\n",
       "    <tr>\n",
       "      <th>1</th>\n",
       "      <td>dstation</td>\n",
       "      <td>0.011633</td>\n",
       "      <td>*</td>\n",
       "    </tr>\n",
       "    <tr>\n",
       "      <th>2</th>\n",
       "      <td>droad</td>\n",
       "      <td>0.024952</td>\n",
       "      <td>*</td>\n",
       "    </tr>\n",
       "    <tr>\n",
       "      <th>3</th>\n",
       "      <td>gvm_dwv</td>\n",
       "      <td>0.035350</td>\n",
       "      <td>*</td>\n",
       "    </tr>\n",
       "    <tr>\n",
       "      <th>4</th>\n",
       "      <td>bicyclecount</td>\n",
       "      <td>0.034981</td>\n",
       "      <td>*</td>\n",
       "    </tr>\n",
       "    <tr>\n",
       "      <th>5</th>\n",
       "      <td>z_qnr_2</td>\n",
       "      <td>0.038880</td>\n",
       "      <td>*</td>\n",
       "    </tr>\n",
       "  </tbody>\n",
       "</table>\n",
       "</div>"
      ],
      "text/plain": [
       "        feature         0 sig\n",
       "0         dbusl  0.024147   *\n",
       "1      dstation  0.011633   *\n",
       "2         droad  0.024952   *\n",
       "3       gvm_dwv  0.035350   *\n",
       "4  bicyclecount  0.034981   *\n",
       "5       z_qnr_2  0.038880   *"
      ]
     },
     "execution_count": 369,
     "metadata": {},
     "output_type": "execute_result"
    }
   ],
   "source": [
    "print(r00_split.rsquared_adj)\n",
    "printsig(r00_split)"
   ]
  },
  {
   "cell_type": "code",
   "execution_count": 370,
   "id": "bfe2a86c-c965-4207-bbbd-7380fa3c694e",
   "metadata": {
    "execution": {
     "iopub.execute_input": "2024-10-28T18:15:11.904850Z",
     "iopub.status.busy": "2024-10-28T18:15:11.904574Z",
     "iopub.status.idle": "2024-10-28T18:15:12.112588Z",
     "shell.execute_reply": "2024-10-28T18:15:12.112129Z",
     "shell.execute_reply.started": "2024-10-28T18:15:11.904833Z"
    }
   },
   "outputs": [
    {
     "name": "stdout",
     "output_type": "stream",
     "text": [
      "\n",
      "Test accuracy : \n",
      " 0.7528089887640449\n",
      "\n",
      "Confusion Matrix : \n",
      " [[63 14]\n",
      " [ 8  4]]\n"
     ]
    },
    {
     "data": {
      "text/plain": [
       "<sklearn.metrics._plot.confusion_matrix.ConfusionMatrixDisplay at 0x14796372ae10>"
      ]
     },
     "execution_count": 370,
     "metadata": {},
     "output_type": "execute_result"
    },
    {
     "data": {
      "image/png": "[encoded data removed]",
      "text/plain": [
       "<Figure size 640x480 with 2 Axes>"
      ]
     },
     "metadata": {},
     "output_type": "display_data"
    }
   ],
   "source": [
    "pred00split = r00_split.predict(X_test)\n",
    "pred00split = list(map(round,pred00split))\n",
    "print('\\nTest accuracy : \\n', accuracy_score(y_test, pred00split))\n",
    "cm00split = confusion_matrix(y_test, pred00split) \n",
    "print ('\\nConfusion Matrix : \\n', cm00split) \n",
    "cm00split_display = metrics.ConfusionMatrixDisplay(confusion_matrix = cm00split)\n",
    "cm00split_display.plot()"
   ]
  },
  {
   "cell_type": "code",
   "execution_count": 371,
   "id": "69c19d28-27cd-4c98-a5a1-2e1d3ab22b14",
   "metadata": {
    "execution": {
     "iopub.execute_input": "2024-10-28T18:15:22.334487Z",
     "iopub.status.busy": "2024-10-28T18:15:22.333991Z",
     "iopub.status.idle": "2024-10-28T18:15:22.345662Z",
     "shell.execute_reply": "2024-10-28T18:15:22.345250Z",
     "shell.execute_reply.started": "2024-10-28T18:15:22.334468Z"
    }
   },
   "outputs": [
    {
     "name": "stdout",
     "output_type": "stream",
     "text": [
      "accuracy 0.7528089887640449\n",
      "precision [0.88732394 0.22222222]\n",
      "sensitivity recall [0.81818182 0.33333333]\n",
      "f1 score [0.85135135 0.26666667]\n",
      "mean precision 0.554773082942097\n",
      "mean recall 0.5757575757575758\n",
      "mean f1 score 0.5590090090090091\n"
     ]
    }
   ],
   "source": [
    "acc_ols_sp = metrics.accuracy_score(y_test, pred00split)\n",
    "print('accuracy', acc_ols_sp)\n",
    "\n",
    "pre_ols_sp = metrics.precision_score(y_test, pred00split, average = None)\n",
    "print('precision', pre_ols_sp)\n",
    "\n",
    "senrec_ols_sp = metrics.recall_score(y_test, pred00split, average = None)\n",
    "print('sensitivity recall', senrec_ols_sp)\n",
    "\n",
    "f1_ols_sp = metrics.f1_score(y_test, pred00split, average = None)\n",
    "print('f1 score', f1_ols_sp)\n",
    "\n",
    "pre_ols_sp_m = np.mean(pre_ols_sp)\n",
    "senrec_ols_sp_m = np.mean(senrec_ols_sp)\n",
    "f1_ols_sp_m = np.mean(f1_ols_sp)\n",
    "print('mean precision', pre_ols_sp_m)\n",
    "print('mean recall', senrec_ols_sp_m)\n",
    "print('mean f1 score', f1_ols_sp_m)"
   ]
  },
  {
   "cell_type": "markdown",
   "id": "a327603c-ad68-4b69-95c7-06df6d4e2054",
   "metadata": {},
   "source": [
    "## Logistic regression"
   ]
  },
  {
   "cell_type": "markdown",
   "id": "79ac4aef-1e11-48d8-9ccd-98481b9df280",
   "metadata": {
    "execution": {
     "iopub.execute_input": "2024-09-02T18:01:13.342604Z",
     "iopub.status.busy": "2024-09-02T18:01:13.341768Z",
     "iopub.status.idle": "2024-09-02T18:01:13.345485Z",
     "shell.execute_reply": "2024-09-02T18:01:13.344931Z",
     "shell.execute_reply.started": "2024-09-02T18:01:13.342578Z"
    }
   },
   "source": [
    "### Without data splitting"
   ]
  },
  {
   "cell_type": "code",
   "execution_count": 360,
   "id": "12ecebde-f940-4f16-abf8-dff0f73a72f6",
   "metadata": {
    "execution": {
     "iopub.execute_input": "2024-10-28T18:14:28.810885Z",
     "iopub.status.busy": "2024-10-28T18:14:28.810602Z",
     "iopub.status.idle": "2024-10-28T18:14:28.889801Z",
     "shell.execute_reply": "2024-10-28T18:14:28.889005Z",
     "shell.execute_reply.started": "2024-10-28T18:14:28.810869Z"
    },
    "scrolled": true
   },
   "outputs": [
    {
     "name": "stderr",
     "output_type": "stream",
     "text": [
      "/home/yelhe/.local/lib/python3.11/site-packages/statsmodels/base/model.py:130: ValueWarning: unknown kwargs ['max_iter']\n",
      "  warnings.warn(msg, ValueWarning)\n"
     ]
    },
    {
     "ename": "ValueError",
     "evalue": "endog must be in the unit interval.",
     "output_type": "error",
     "traceback": [
      "\u001b[0;31m---------------------------------------------------------------------------\u001b[0m",
      "\u001b[0;31mValueError\u001b[0m                                Traceback (most recent call last)",
      "Cell \u001b[0;32mIn[360], line 8\u001b[0m\n\u001b[1;32m      1\u001b[0m \u001b[38;5;66;03m# Without constant\u001b[39;00m\n\u001b[1;32m      2\u001b[0m \u001b[38;5;66;03m# m00_log = sm.Logit(y, x)\u001b[39;00m\n\u001b[1;32m      3\u001b[0m \u001b[38;5;66;03m# r00_log = m00_log.fit_regularized()\u001b[39;00m\n\u001b[1;32m      4\u001b[0m \u001b[38;5;66;03m# r00_log.summary()\u001b[39;00m\n\u001b[1;32m      5\u001b[0m \n\u001b[1;32m      6\u001b[0m \u001b[38;5;66;03m# Add constant\u001b[39;00m\n\u001b[1;32m      7\u001b[0m x_const \u001b[38;5;241m=\u001b[39m tools\u001b[38;5;241m.\u001b[39madd_constant(x)\n\u001b[0;32m----> 8\u001b[0m m00_log \u001b[38;5;241m=\u001b[39m \u001b[43msm\u001b[49m\u001b[38;5;241;43m.\u001b[39;49m\u001b[43mLogit\u001b[49m\u001b[43m(\u001b[49m\u001b[43my\u001b[49m\u001b[43m,\u001b[49m\u001b[43mx_const\u001b[49m\u001b[43m,\u001b[49m\u001b[43m \u001b[49m\u001b[43mmax_iter\u001b[49m\u001b[43m \u001b[49m\u001b[38;5;241;43m=\u001b[39;49m\u001b[43m \u001b[49m\u001b[38;5;241;43m500\u001b[39;49m\u001b[43m)\u001b[49m\n\u001b[1;32m      9\u001b[0m \u001b[38;5;66;03m# r00_log = m00_log.fit_regularized()\u001b[39;00m\n\u001b[1;32m     10\u001b[0m r00_log \u001b[38;5;241m=\u001b[39m m00_log\u001b[38;5;241m.\u001b[39mfit()\n",
      "File \u001b[0;32m~/.local/lib/python3.11/site-packages/statsmodels/discrete/discrete_model.py:479\u001b[0m, in \u001b[0;36mBinaryModel.__init__\u001b[0;34m(self, endog, exog, offset, check_rank, **kwargs)\u001b[0m\n\u001b[1;32m    477\u001b[0m \u001b[38;5;28;01mif\u001b[39;00m \u001b[38;5;129;01mnot\u001b[39;00m \u001b[38;5;28missubclass\u001b[39m(\u001b[38;5;28mself\u001b[39m\u001b[38;5;241m.\u001b[39m\u001b[38;5;18m__class__\u001b[39m, MultinomialModel):\n\u001b[1;32m    478\u001b[0m     \u001b[38;5;28;01mif\u001b[39;00m \u001b[38;5;129;01mnot\u001b[39;00m np\u001b[38;5;241m.\u001b[39mall((\u001b[38;5;28mself\u001b[39m\u001b[38;5;241m.\u001b[39mendog \u001b[38;5;241m>\u001b[39m\u001b[38;5;241m=\u001b[39m \u001b[38;5;241m0\u001b[39m) \u001b[38;5;241m&\u001b[39m (\u001b[38;5;28mself\u001b[39m\u001b[38;5;241m.\u001b[39mendog \u001b[38;5;241m<\u001b[39m\u001b[38;5;241m=\u001b[39m \u001b[38;5;241m1\u001b[39m)):\n\u001b[0;32m--> 479\u001b[0m         \u001b[38;5;28;01mraise\u001b[39;00m \u001b[38;5;167;01mValueError\u001b[39;00m(\u001b[38;5;124m\"\u001b[39m\u001b[38;5;124mendog must be in the unit interval.\u001b[39m\u001b[38;5;124m\"\u001b[39m)\n\u001b[1;32m    481\u001b[0m \u001b[38;5;28;01mif\u001b[39;00m offset \u001b[38;5;129;01mis\u001b[39;00m \u001b[38;5;28;01mNone\u001b[39;00m:\n\u001b[1;32m    482\u001b[0m     \u001b[38;5;28mdelattr\u001b[39m(\u001b[38;5;28mself\u001b[39m, \u001b[38;5;124m'\u001b[39m\u001b[38;5;124moffset\u001b[39m\u001b[38;5;124m'\u001b[39m)\n",
      "\u001b[0;31mValueError\u001b[0m: endog must be in the unit interval."
     ]
    }
   ],
   "source": [
    "\n",
    "# Without constant\n",
    "# m00_log = sm.Logit(y, x)\n",
    "# r00_log = m00_log.fit_regularized()\n",
    "# r00_log.summary()\n",
    "\n",
    "# Add constant\n",
    "x_const = tools.add_constant(x)\n",
    "m00_log = sm.Logit(y,x_const, max_iter = 500)\n",
    "# r00_log = m00_log.fit_regularized()\n",
    "r00_log = m00_log.fit()\n",
    "\n",
    "r00_log.summary()"
   ]
  },
  {
   "cell_type": "code",
   "execution_count": 342,
   "id": "dada8be9-8248-40aa-a36e-54c2af5fdf16",
   "metadata": {
    "execution": {
     "iopub.execute_input": "2024-10-28T18:13:27.551490Z",
     "iopub.status.busy": "2024-10-28T18:13:27.551063Z",
     "iopub.status.idle": "2024-10-28T18:13:27.553893Z",
     "shell.execute_reply": "2024-10-28T18:13:27.553468Z",
     "shell.execute_reply.started": "2024-10-28T18:13:27.551471Z"
    }
   },
   "outputs": [],
   "source": [
    "# exog = m00_log.exog\n",
    "# u, s, vt = np.linalg.svd(exog, 0)\n",
    "# print(s)"
   ]
  },
  {
   "cell_type": "code",
   "execution_count": 343,
   "id": "eadc076f-126a-4896-8128-42ca7bed7341",
   "metadata": {
    "execution": {
     "iopub.execute_input": "2024-10-28T18:13:28.115911Z",
     "iopub.status.busy": "2024-10-28T18:13:28.115637Z",
     "iopub.status.idle": "2024-10-28T18:13:28.126152Z",
     "shell.execute_reply": "2024-10-28T18:13:28.125764Z",
     "shell.execute_reply.started": "2024-10-28T18:13:28.115892Z"
    }
   },
   "outputs": [
    {
     "name": "stdout",
     "output_type": "stream",
     "text": [
      "0.27019542639222527\n"
     ]
    },
    {
     "data": {
      "text/html": [
       "<div>\n",
       "<style scoped>\n",
       "    .dataframe tbody tr th:only-of-type {\n",
       "        vertical-align: middle;\n",
       "    }\n",
       "\n",
       "    .dataframe tbody tr th {\n",
       "        vertical-align: top;\n",
       "    }\n",
       "\n",
       "    .dataframe thead th {\n",
       "        text-align: right;\n",
       "    }\n",
       "</style>\n",
       "<table border=\"1\" class=\"dataframe\">\n",
       "  <thead>\n",
       "    <tr style=\"text-align: right;\">\n",
       "      <th></th>\n",
       "      <th>feature</th>\n",
       "      <th>0</th>\n",
       "      <th>sig</th>\n",
       "    </tr>\n",
       "  </thead>\n",
       "  <tbody>\n",
       "    <tr>\n",
       "      <th>0</th>\n",
       "      <td>droad</td>\n",
       "      <td>0.005882</td>\n",
       "      <td>**</td>\n",
       "    </tr>\n",
       "    <tr>\n",
       "      <th>1</th>\n",
       "      <td>gvm_dwv</td>\n",
       "      <td>0.027633</td>\n",
       "      <td>*</td>\n",
       "    </tr>\n",
       "    <tr>\n",
       "      <th>2</th>\n",
       "      <td>bicyclecount</td>\n",
       "      <td>0.038786</td>\n",
       "      <td>*</td>\n",
       "    </tr>\n",
       "    <tr>\n",
       "      <th>3</th>\n",
       "      <td>z_qnr_2</td>\n",
       "      <td>0.001645</td>\n",
       "      <td>**</td>\n",
       "    </tr>\n",
       "    <tr>\n",
       "      <th>4</th>\n",
       "      <td>r_width_4</td>\n",
       "      <td>0.017018</td>\n",
       "      <td>*</td>\n",
       "    </tr>\n",
       "  </tbody>\n",
       "</table>\n",
       "</div>"
      ],
      "text/plain": [
       "        feature         0 sig\n",
       "0         droad  0.005882  **\n",
       "1       gvm_dwv  0.027633   *\n",
       "2  bicyclecount  0.038786   *\n",
       "3       z_qnr_2  0.001645  **\n",
       "4     r_width_4  0.017018   *"
      ]
     },
     "execution_count": 343,
     "metadata": {},
     "output_type": "execute_result"
    }
   ],
   "source": [
    "print(r00_log.prsquared)\n",
    "printsig(r00_log)"
   ]
  },
  {
   "cell_type": "code",
   "execution_count": 344,
   "id": "33965143-fc9a-43d6-a591-b4494b32a219",
   "metadata": {
    "execution": {
     "iopub.execute_input": "2024-10-28T18:13:28.680784Z",
     "iopub.status.busy": "2024-10-28T18:13:28.680235Z",
     "iopub.status.idle": "2024-10-28T18:13:28.940430Z",
     "shell.execute_reply": "2024-10-28T18:13:28.939981Z",
     "shell.execute_reply.started": "2024-10-28T18:13:28.680756Z"
    }
   },
   "outputs": [
    {
     "name": "stdout",
     "output_type": "stream",
     "text": [
      "0.8576271186440678\n",
      "\n",
      "Test accuracy : \n",
      " 0.8576271186440678\n",
      "\n",
      "Confusion Matrix : \n",
      " [[239   7]\n",
      " [ 35  14]]\n",
      "accuracy 0.8576271186440678\n",
      "precision [0.87226277 0.66666667]\n",
      "sensitivity recall [0.97154472 0.28571429]\n",
      "f1 score [0.91923077 0.4       ]\n",
      "mean precision 0.7694647201946472\n",
      "mean recall 0.6286295005807201\n",
      "mean f1 score 0.6596153846153846\n"
     ]
    },
    {
     "data": {
      "image/png": "[encoded data removed]",
      "text/plain": [
       "<Figure size 640x480 with 2 Axes>"
      ]
     },
     "metadata": {},
     "output_type": "display_data"
    }
   ],
   "source": [
    "pred00log = r00_log.predict(x_const)\n",
    "pred00log = list(map(round,pred00log))\n",
    "print(accuracy_score(y, pred00log))\n",
    "print('\\nTest accuracy : \\n', accuracy_score(y, pred00log))\n",
    "cm00log = confusion_matrix(y, pred00log) \n",
    "print ('\\nConfusion Matrix : \\n', cm00log)\n",
    "cm00log_display = metrics.ConfusionMatrixDisplay(confusion_matrix = cm00log)\n",
    "cm00log_display.plot()\n",
    "\n",
    "acc_log = metrics.accuracy_score(y, pred00log)\n",
    "print('accuracy', acc_log)\n",
    "\n",
    "pre_log = metrics.precision_score(y, pred00log, average = None)\n",
    "print('precision', pre_log)\n",
    "\n",
    "senrec_log = metrics.recall_score(y, pred00log, average = None)\n",
    "print('sensitivity recall', senrec_log)\n",
    "\n",
    "f1_log = metrics.f1_score(y, pred00log, average = None)\n",
    "print('f1 score', f1_log)\n",
    "\n",
    "pre_log_m = np.mean(pre_log)\n",
    "senrec_log_m = np.mean(senrec_log)\n",
    "f1_log_m = np.mean(f1_log)\n",
    "print('mean precision', pre_log_m)\n",
    "print('mean recall', senrec_log_m)\n",
    "print('mean f1 score', f1_log_m)"
   ]
  },
  {
   "cell_type": "markdown",
   "id": "9123b4a7-8a63-4606-8a16-ed36a71cb18e",
   "metadata": {},
   "source": [
    "### With data splitting"
   ]
  },
  {
   "cell_type": "code",
   "execution_count": 345,
   "id": "5daa4124-d5f5-4623-8fcb-b7a914737620",
   "metadata": {
    "execution": {
     "iopub.execute_input": "2024-10-28T18:13:33.909463Z",
     "iopub.status.busy": "2024-10-28T18:13:33.909185Z",
     "iopub.status.idle": "2024-10-28T18:13:34.226547Z",
     "shell.execute_reply": "2024-10-28T18:13:34.226121Z",
     "shell.execute_reply.started": "2024-10-28T18:13:33.909445Z"
    },
    "scrolled": true
   },
   "outputs": [
    {
     "name": "stderr",
     "output_type": "stream",
     "text": [
      "/home/yelhe/.local/lib/python3.11/site-packages/statsmodels/base/model.py:130: ValueWarning: unknown kwargs ['max_iter']\n",
      "  warnings.warn(msg, ValueWarning)\n",
      "/home/yelhe/.local/lib/python3.11/site-packages/statsmodels/base/model.py:607: ConvergenceWarning: Maximum Likelihood optimization failed to converge. Check mle_retvals\n",
      "  warnings.warn(\"Maximum Likelihood optimization failed to \"\n",
      "/home/yelhe/.local/lib/python3.11/site-packages/statsmodels/base/model.py:130: ValueWarning: unknown kwargs ['max_iter']\n",
      "  warnings.warn(msg, ValueWarning)\n"
     ]
    },
    {
     "name": "stdout",
     "output_type": "stream",
     "text": [
      "Warning: Maximum number of iterations has been exceeded.\n",
      "         Current function value: 0.340615\n",
      "         Iterations: 35\n"
     ]
    },
    {
     "data": {
      "text/html": [
       "<table class=\"simpletable\">\n",
       "<caption>Logit Regression Results</caption>\n",
       "<tr>\n",
       "  <th>Dep. Variable:</th>          <td>svp</td>       <th>  No. Observations:  </th>  <td>   250</td> \n",
       "</tr>\n",
       "<tr>\n",
       "  <th>Model:</th>                 <td>Logit</td>      <th>  Df Residuals:      </th>  <td>   195</td> \n",
       "</tr>\n",
       "<tr>\n",
       "  <th>Method:</th>                 <td>MLE</td>       <th>  Df Model:          </th>  <td>    54</td> \n",
       "</tr>\n",
       "<tr>\n",
       "  <th>Date:</th>            <td>Mon, 28 Oct 2024</td> <th>  Pseudo R-squ.:     </th>  <td>0.2679</td> \n",
       "</tr>\n",
       "<tr>\n",
       "  <th>Time:</th>                <td>19:13:34</td>     <th>  Log-Likelihood:    </th> <td> -85.154</td>\n",
       "</tr>\n",
       "<tr>\n",
       "  <th>converged:</th>             <td>False</td>      <th>  LL-Null:           </th> <td> -116.32</td>\n",
       "</tr>\n",
       "<tr>\n",
       "  <th>Covariance Type:</th>     <td>nonrobust</td>    <th>  LLR p-value:       </th>  <td>0.2041</td> \n",
       "</tr>\n",
       "</table>\n",
       "<table class=\"simpletable\">\n",
       "<tr>\n",
       "          <td></td>            <th>coef</th>     <th>std err</th>      <th>z</th>      <th>P>|z|</th>  <th>[0.025</th>    <th>0.975]</th>  \n",
       "</tr>\n",
       "<tr>\n",
       "  <th>const</th>            <td>   -3.2643</td> <td>  430.001</td> <td>   -0.008</td> <td> 0.994</td> <td> -846.051</td> <td>  839.522</td>\n",
       "</tr>\n",
       "<tr>\n",
       "  <th>cmean</th>            <td>   -0.0898</td> <td>    0.265</td> <td>   -0.339</td> <td> 0.735</td> <td>   -0.609</td> <td>    0.430</td>\n",
       "</tr>\n",
       "<tr>\n",
       "  <th>cmin</th>             <td>   -2.3489</td> <td> 3667.624</td> <td>   -0.001</td> <td> 0.999</td> <td>-7190.759</td> <td> 7186.061</td>\n",
       "</tr>\n",
       "<tr>\n",
       "  <th>ie</th>               <td>    0.2548</td> <td>    0.234</td> <td>    1.091</td> <td> 0.275</td> <td>   -0.203</td> <td>    0.713</td>\n",
       "</tr>\n",
       "<tr>\n",
       "  <th>mew</th>              <td>   -0.7083</td> <td>    0.332</td> <td>   -2.134</td> <td> 0.033</td> <td>   -1.359</td> <td>   -0.058</td>\n",
       "</tr>\n",
       "<tr>\n",
       "  <th>meg</th>              <td>    0.1615</td> <td>    0.347</td> <td>    0.465</td> <td> 0.642</td> <td>   -0.519</td> <td>    0.842</td>\n",
       "</tr>\n",
       "<tr>\n",
       "  <th>megmax</th>           <td>    0.3128</td> <td>    0.323</td> <td>    0.969</td> <td> 0.333</td> <td>   -0.320</td> <td>    0.946</td>\n",
       "</tr>\n",
       "<tr>\n",
       "  <th>dbusl</th>            <td>   -0.1721</td> <td>    0.298</td> <td>   -0.577</td> <td> 0.564</td> <td>   -0.756</td> <td>    0.412</td>\n",
       "</tr>\n",
       "<tr>\n",
       "  <th>dtraml</th>           <td>   -0.0758</td> <td>    0.307</td> <td>   -0.247</td> <td> 0.805</td> <td>   -0.678</td> <td>    0.526</td>\n",
       "</tr>\n",
       "<tr>\n",
       "  <th>dtrainl</th>          <td>   -0.2473</td> <td>    0.284</td> <td>   -0.870</td> <td> 0.384</td> <td>   -0.804</td> <td>    0.310</td>\n",
       "</tr>\n",
       "<tr>\n",
       "  <th>dplight</th>          <td>   -0.2511</td> <td>    0.221</td> <td>   -1.134</td> <td> 0.257</td> <td>   -0.685</td> <td>    0.183</td>\n",
       "</tr>\n",
       "<tr>\n",
       "  <th>dstation</th>         <td>    0.2914</td> <td>    0.279</td> <td>    1.045</td> <td> 0.296</td> <td>   -0.255</td> <td>    0.838</td>\n",
       "</tr>\n",
       "<tr>\n",
       "  <th>dparkcar</th>         <td>   -0.0937</td> <td>    0.296</td> <td>   -0.317</td> <td> 0.751</td> <td>   -0.674</td> <td>    0.486</td>\n",
       "</tr>\n",
       "<tr>\n",
       "  <th>dparktw</th>          <td>    0.0915</td> <td>    0.286</td> <td>    0.320</td> <td> 0.749</td> <td>   -0.470</td> <td>    0.653</td>\n",
       "</tr>\n",
       "<tr>\n",
       "  <th>dpedcro</th>          <td>   -0.0421</td> <td>    0.243</td> <td>   -0.174</td> <td> 0.862</td> <td>   -0.518</td> <td>    0.433</td>\n",
       "</tr>\n",
       "<tr>\n",
       "  <th>dstopsign</th>        <td>    0.2546</td> <td>    0.330</td> <td>    0.771</td> <td> 0.441</td> <td>   -0.392</td> <td>    0.902</td>\n",
       "</tr>\n",
       "<tr>\n",
       "  <th>dtrafficarea</th>     <td>   -0.1343</td> <td>    0.321</td> <td>   -0.419</td> <td> 0.676</td> <td>   -0.763</td> <td>    0.495</td>\n",
       "</tr>\n",
       "<tr>\n",
       "  <th>droad</th>            <td>    0.7407</td> <td>    0.346</td> <td>    2.141</td> <td> 0.032</td> <td>    0.063</td> <td>    1.419</td>\n",
       "</tr>\n",
       "<tr>\n",
       "  <th>dvfpath</th>          <td>   -0.2397</td> <td>    0.305</td> <td>   -0.787</td> <td> 0.432</td> <td>   -0.837</td> <td>    0.358</td>\n",
       "</tr>\n",
       "<tr>\n",
       "  <th>gvm_dwv</th>          <td>    0.5103</td> <td>    0.315</td> <td>    1.619</td> <td> 0.105</td> <td>   -0.107</td> <td>    1.128</td>\n",
       "</tr>\n",
       "<tr>\n",
       "  <th>r_width_value</th>    <td>   -0.0771</td> <td>    0.314</td> <td>   -0.245</td> <td> 0.806</td> <td>   -0.693</td> <td>    0.539</td>\n",
       "</tr>\n",
       "<tr>\n",
       "  <th>speedlimit_value</th> <td>    0.0919</td> <td>    0.308</td> <td>    0.298</td> <td> 0.766</td> <td>   -0.512</td> <td>    0.696</td>\n",
       "</tr>\n",
       "<tr>\n",
       "  <th>bicyclecount</th>     <td>   -0.4729</td> <td>    0.272</td> <td>   -1.741</td> <td> 0.082</td> <td>   -1.005</td> <td>    0.059</td>\n",
       "</tr>\n",
       "<tr>\n",
       "  <th>carcount</th>         <td>   -0.3624</td> <td>    0.268</td> <td>   -1.350</td> <td> 0.177</td> <td>   -0.888</td> <td>    0.164</td>\n",
       "</tr>\n",
       "<tr>\n",
       "  <th>z_qnr_2</th>          <td>    5.7162</td> <td>    1.840</td> <td>    3.107</td> <td> 0.002</td> <td>    2.110</td> <td>    9.322</td>\n",
       "</tr>\n",
       "<tr>\n",
       "  <th>z_qnr_3</th>          <td>  -10.6335</td> <td>  368.859</td> <td>   -0.029</td> <td> 0.977</td> <td> -733.583</td> <td>  712.316</td>\n",
       "</tr>\n",
       "<tr>\n",
       "  <th>z_qnr_4</th>          <td>  -13.4681</td> <td> 1505.196</td> <td>   -0.009</td> <td> 0.993</td> <td>-2963.597</td> <td> 2936.661</td>\n",
       "</tr>\n",
       "<tr>\n",
       "  <th>z_qnr_5</th>          <td>   -0.4902</td> <td>    1.388</td> <td>   -0.353</td> <td> 0.724</td> <td>   -3.210</td> <td>    2.230</td>\n",
       "</tr>\n",
       "<tr>\n",
       "  <th>z_qnr_6</th>          <td>    3.8967</td> <td>    1.692</td> <td>    2.303</td> <td> 0.021</td> <td>    0.581</td> <td>    7.213</td>\n",
       "</tr>\n",
       "<tr>\n",
       "  <th>z_qnr_8</th>          <td>   -1.1493</td> <td>    1.369</td> <td>   -0.840</td> <td> 0.401</td> <td>   -3.832</td> <td>    1.534</td>\n",
       "</tr>\n",
       "<tr>\n",
       "  <th>z_qnr_9</th>          <td>   -9.7698</td> <td>  248.271</td> <td>   -0.039</td> <td> 0.969</td> <td> -496.373</td> <td>  476.833</td>\n",
       "</tr>\n",
       "<tr>\n",
       "  <th>z_qnr_10</th>         <td>    1.6282</td> <td>    1.768</td> <td>    0.921</td> <td> 0.357</td> <td>   -1.836</td> <td>    5.093</td>\n",
       "</tr>\n",
       "<tr>\n",
       "  <th>z_qnr_13</th>         <td>    0.3843</td> <td>    1.616</td> <td>    0.238</td> <td> 0.812</td> <td>   -2.784</td> <td>    3.552</td>\n",
       "</tr>\n",
       "<tr>\n",
       "  <th>z_qnr_14</th>         <td>    1.5247</td> <td>    1.613</td> <td>    0.945</td> <td> 0.344</td> <td>   -1.636</td> <td>    4.686</td>\n",
       "</tr>\n",
       "<tr>\n",
       "  <th>z_qnr_15</th>         <td>    1.5679</td> <td>    1.256</td> <td>    1.249</td> <td> 0.212</td> <td>   -0.893</td> <td>    4.029</td>\n",
       "</tr>\n",
       "<tr>\n",
       "  <th>z_qnr_17</th>         <td>    1.9586</td> <td>    1.241</td> <td>    1.578</td> <td> 0.114</td> <td>   -0.474</td> <td>    4.391</td>\n",
       "</tr>\n",
       "<tr>\n",
       "  <th>z_qnr_18</th>         <td>    2.2756</td> <td>    1.254</td> <td>    1.814</td> <td> 0.070</td> <td>   -0.183</td> <td>    4.734</td>\n",
       "</tr>\n",
       "<tr>\n",
       "  <th>z_qnr_19</th>         <td>    0.8622</td> <td>    1.153</td> <td>    0.748</td> <td> 0.455</td> <td>   -1.398</td> <td>    3.122</td>\n",
       "</tr>\n",
       "<tr>\n",
       "  <th>z_qnr_20</th>         <td>    0.9815</td> <td>    1.228</td> <td>    0.799</td> <td> 0.424</td> <td>   -1.425</td> <td>    3.388</td>\n",
       "</tr>\n",
       "<tr>\n",
       "  <th>z_qnr_21</th>         <td>    0.8572</td> <td>    1.333</td> <td>    0.643</td> <td> 0.520</td> <td>   -1.754</td> <td>    3.469</td>\n",
       "</tr>\n",
       "<tr>\n",
       "  <th>z_qnr_22</th>         <td>    1.2373</td> <td>    1.527</td> <td>    0.810</td> <td> 0.418</td> <td>   -1.755</td> <td>    4.230</td>\n",
       "</tr>\n",
       "<tr>\n",
       "  <th>z_qnr_24</th>         <td>  -42.1724</td> <td> 1.77e+09</td> <td>-2.38e-08</td> <td> 1.000</td> <td>-3.47e+09</td> <td> 3.47e+09</td>\n",
       "</tr>\n",
       "<tr>\n",
       "  <th>z_qnr_25</th>         <td>    1.5219</td> <td>    1.632</td> <td>    0.933</td> <td> 0.351</td> <td>   -1.676</td> <td>    4.720</td>\n",
       "</tr>\n",
       "<tr>\n",
       "  <th>z_qnr_28</th>         <td>  -22.0920</td> <td> 4.49e+04</td> <td>   -0.000</td> <td> 1.000</td> <td>-8.81e+04</td> <td>  8.8e+04</td>\n",
       "</tr>\n",
       "<tr>\n",
       "  <th>z_knr_1</th>          <td>   -0.1744</td> <td>    1.510</td> <td>   -0.115</td> <td> 0.908</td> <td>   -3.134</td> <td>    2.785</td>\n",
       "</tr>\n",
       "<tr>\n",
       "  <th>z_knr_3</th>          <td>    1.0669</td> <td>    1.223</td> <td>    0.872</td> <td> 0.383</td> <td>   -1.331</td> <td>    3.465</td>\n",
       "</tr>\n",
       "<tr>\n",
       "  <th>z_knr_7</th>          <td>    0.2788</td> <td>    1.042</td> <td>    0.268</td> <td> 0.789</td> <td>   -1.764</td> <td>    2.322</td>\n",
       "</tr>\n",
       "<tr>\n",
       "  <th>z_knr_8</th>          <td>    1.3204</td> <td>    1.476</td> <td>    0.895</td> <td> 0.371</td> <td>   -1.573</td> <td>    4.214</td>\n",
       "</tr>\n",
       "<tr>\n",
       "  <th>z_knr_11</th>         <td>    0.9953</td> <td>    1.534</td> <td>    0.649</td> <td> 0.516</td> <td>   -2.012</td> <td>    4.002</td>\n",
       "</tr>\n",
       "<tr>\n",
       "  <th>trafficarea_1</th>    <td>   -0.6990</td> <td>    0.834</td> <td>   -0.838</td> <td> 0.402</td> <td>   -2.334</td> <td>    0.935</td>\n",
       "</tr>\n",
       "<tr>\n",
       "  <th>r_width_2</th>        <td>   -0.5334</td> <td>    1.775</td> <td>   -0.300</td> <td> 0.764</td> <td>   -4.012</td> <td>    2.946</td>\n",
       "</tr>\n",
       "<tr>\n",
       "  <th>r_width_3</th>        <td>    1.1500</td> <td>    0.850</td> <td>    1.352</td> <td> 0.176</td> <td>   -0.517</td> <td>    2.817</td>\n",
       "</tr>\n",
       "<tr>\n",
       "  <th>r_width_4</th>        <td>    1.4011</td> <td>    0.673</td> <td>    2.082</td> <td> 0.037</td> <td>    0.082</td> <td>    2.720</td>\n",
       "</tr>\n",
       "<tr>\n",
       "  <th>r_width_6</th>        <td>    1.7579</td> <td>    1.006</td> <td>    1.747</td> <td> 0.081</td> <td>   -0.215</td> <td>    3.730</td>\n",
       "</tr>\n",
       "<tr>\n",
       "  <th>speedlimit_1</th>     <td>    0.7670</td> <td>    0.688</td> <td>    1.116</td> <td> 0.265</td> <td>   -0.581</td> <td>    2.114</td>\n",
       "</tr>\n",
       "</table>"
      ],
      "text/latex": [
       "\\begin{center}\n",
       "\\begin{tabular}{lclc}\n",
       "\\toprule\n",
       "\\textbf{Dep. Variable:}    &       svp        & \\textbf{  No. Observations:  } &      250    \\\\\n",
       "\\textbf{Model:}            &      Logit       & \\textbf{  Df Residuals:      } &      195    \\\\\n",
       "\\textbf{Method:}           &       MLE        & \\textbf{  Df Model:          } &       54    \\\\\n",
       "\\textbf{Date:}             & Mon, 28 Oct 2024 & \\textbf{  Pseudo R-squ.:     } &   0.2679    \\\\\n",
       "\\textbf{Time:}             &     19:13:34     & \\textbf{  Log-Likelihood:    } &   -85.154   \\\\\n",
       "\\textbf{converged:}        &      False       & \\textbf{  LL-Null:           } &   -116.32   \\\\\n",
       "\\textbf{Covariance Type:}  &    nonrobust     & \\textbf{  LLR p-value:       } &   0.2041    \\\\\n",
       "\\bottomrule\n",
       "\\end{tabular}\n",
       "\\begin{tabular}{lcccccc}\n",
       "                           & \\textbf{coef} & \\textbf{std err} & \\textbf{z} & \\textbf{P$> |$z$|$} & \\textbf{[0.025} & \\textbf{0.975]}  \\\\\n",
       "\\midrule\n",
       "\\textbf{const}             &      -3.2643  &      430.001     &    -0.008  &         0.994        &     -846.051    &      839.522     \\\\\n",
       "\\textbf{cmean}             &      -0.0898  &        0.265     &    -0.339  &         0.735        &       -0.609    &        0.430     \\\\\n",
       "\\textbf{cmin}              &      -2.3489  &     3667.624     &    -0.001  &         0.999        &    -7190.759    &     7186.061     \\\\\n",
       "\\textbf{ie}                &       0.2548  &        0.234     &     1.091  &         0.275        &       -0.203    &        0.713     \\\\\n",
       "\\textbf{mew}               &      -0.7083  &        0.332     &    -2.134  &         0.033        &       -1.359    &       -0.058     \\\\\n",
       "\\textbf{meg}               &       0.1615  &        0.347     &     0.465  &         0.642        &       -0.519    &        0.842     \\\\\n",
       "\\textbf{megmax}            &       0.3128  &        0.323     &     0.969  &         0.333        &       -0.320    &        0.946     \\\\\n",
       "\\textbf{dbusl}             &      -0.1721  &        0.298     &    -0.577  &         0.564        &       -0.756    &        0.412     \\\\\n",
       "\\textbf{dtraml}            &      -0.0758  &        0.307     &    -0.247  &         0.805        &       -0.678    &        0.526     \\\\\n",
       "\\textbf{dtrainl}           &      -0.2473  &        0.284     &    -0.870  &         0.384        &       -0.804    &        0.310     \\\\\n",
       "\\textbf{dplight}           &      -0.2511  &        0.221     &    -1.134  &         0.257        &       -0.685    &        0.183     \\\\\n",
       "\\textbf{dstation}          &       0.2914  &        0.279     &     1.045  &         0.296        &       -0.255    &        0.838     \\\\\n",
       "\\textbf{dparkcar}          &      -0.0937  &        0.296     &    -0.317  &         0.751        &       -0.674    &        0.486     \\\\\n",
       "\\textbf{dparktw}           &       0.0915  &        0.286     &     0.320  &         0.749        &       -0.470    &        0.653     \\\\\n",
       "\\textbf{dpedcro}           &      -0.0421  &        0.243     &    -0.174  &         0.862        &       -0.518    &        0.433     \\\\\n",
       "\\textbf{dstopsign}         &       0.2546  &        0.330     &     0.771  &         0.441        &       -0.392    &        0.902     \\\\\n",
       "\\textbf{dtrafficarea}      &      -0.1343  &        0.321     &    -0.419  &         0.676        &       -0.763    &        0.495     \\\\\n",
       "\\textbf{droad}             &       0.7407  &        0.346     &     2.141  &         0.032        &        0.063    &        1.419     \\\\\n",
       "\\textbf{dvfpath}           &      -0.2397  &        0.305     &    -0.787  &         0.432        &       -0.837    &        0.358     \\\\\n",
       "\\textbf{gvm\\_dwv}          &       0.5103  &        0.315     &     1.619  &         0.105        &       -0.107    &        1.128     \\\\\n",
       "\\textbf{r\\_width\\_value}   &      -0.0771  &        0.314     &    -0.245  &         0.806        &       -0.693    &        0.539     \\\\\n",
       "\\textbf{speedlimit\\_value} &       0.0919  &        0.308     &     0.298  &         0.766        &       -0.512    &        0.696     \\\\\n",
       "\\textbf{bicyclecount}      &      -0.4729  &        0.272     &    -1.741  &         0.082        &       -1.005    &        0.059     \\\\\n",
       "\\textbf{carcount}          &      -0.3624  &        0.268     &    -1.350  &         0.177        &       -0.888    &        0.164     \\\\\n",
       "\\textbf{z\\_qnr\\_2}         &       5.7162  &        1.840     &     3.107  &         0.002        &        2.110    &        9.322     \\\\\n",
       "\\textbf{z\\_qnr\\_3}         &     -10.6335  &      368.859     &    -0.029  &         0.977        &     -733.583    &      712.316     \\\\\n",
       "\\textbf{z\\_qnr\\_4}         &     -13.4681  &     1505.196     &    -0.009  &         0.993        &    -2963.597    &     2936.661     \\\\\n",
       "\\textbf{z\\_qnr\\_5}         &      -0.4902  &        1.388     &    -0.353  &         0.724        &       -3.210    &        2.230     \\\\\n",
       "\\textbf{z\\_qnr\\_6}         &       3.8967  &        1.692     &     2.303  &         0.021        &        0.581    &        7.213     \\\\\n",
       "\\textbf{z\\_qnr\\_8}         &      -1.1493  &        1.369     &    -0.840  &         0.401        &       -3.832    &        1.534     \\\\\n",
       "\\textbf{z\\_qnr\\_9}         &      -9.7698  &      248.271     &    -0.039  &         0.969        &     -496.373    &      476.833     \\\\\n",
       "\\textbf{z\\_qnr\\_10}        &       1.6282  &        1.768     &     0.921  &         0.357        &       -1.836    &        5.093     \\\\\n",
       "\\textbf{z\\_qnr\\_13}        &       0.3843  &        1.616     &     0.238  &         0.812        &       -2.784    &        3.552     \\\\\n",
       "\\textbf{z\\_qnr\\_14}        &       1.5247  &        1.613     &     0.945  &         0.344        &       -1.636    &        4.686     \\\\\n",
       "\\textbf{z\\_qnr\\_15}        &       1.5679  &        1.256     &     1.249  &         0.212        &       -0.893    &        4.029     \\\\\n",
       "\\textbf{z\\_qnr\\_17}        &       1.9586  &        1.241     &     1.578  &         0.114        &       -0.474    &        4.391     \\\\\n",
       "\\textbf{z\\_qnr\\_18}        &       2.2756  &        1.254     &     1.814  &         0.070        &       -0.183    &        4.734     \\\\\n",
       "\\textbf{z\\_qnr\\_19}        &       0.8622  &        1.153     &     0.748  &         0.455        &       -1.398    &        3.122     \\\\\n",
       "\\textbf{z\\_qnr\\_20}        &       0.9815  &        1.228     &     0.799  &         0.424        &       -1.425    &        3.388     \\\\\n",
       "\\textbf{z\\_qnr\\_21}        &       0.8572  &        1.333     &     0.643  &         0.520        &       -1.754    &        3.469     \\\\\n",
       "\\textbf{z\\_qnr\\_22}        &       1.2373  &        1.527     &     0.810  &         0.418        &       -1.755    &        4.230     \\\\\n",
       "\\textbf{z\\_qnr\\_24}        &     -42.1724  &     1.77e+09     & -2.38e-08  &         1.000        &    -3.47e+09    &     3.47e+09     \\\\\n",
       "\\textbf{z\\_qnr\\_25}        &       1.5219  &        1.632     &     0.933  &         0.351        &       -1.676    &        4.720     \\\\\n",
       "\\textbf{z\\_qnr\\_28}        &     -22.0920  &     4.49e+04     &    -0.000  &         1.000        &    -8.81e+04    &      8.8e+04     \\\\\n",
       "\\textbf{z\\_knr\\_1}         &      -0.1744  &        1.510     &    -0.115  &         0.908        &       -3.134    &        2.785     \\\\\n",
       "\\textbf{z\\_knr\\_3}         &       1.0669  &        1.223     &     0.872  &         0.383        &       -1.331    &        3.465     \\\\\n",
       "\\textbf{z\\_knr\\_7}         &       0.2788  &        1.042     &     0.268  &         0.789        &       -1.764    &        2.322     \\\\\n",
       "\\textbf{z\\_knr\\_8}         &       1.3204  &        1.476     &     0.895  &         0.371        &       -1.573    &        4.214     \\\\\n",
       "\\textbf{z\\_knr\\_11}        &       0.9953  &        1.534     &     0.649  &         0.516        &       -2.012    &        4.002     \\\\\n",
       "\\textbf{trafficarea\\_1}    &      -0.6990  &        0.834     &    -0.838  &         0.402        &       -2.334    &        0.935     \\\\\n",
       "\\textbf{r\\_width\\_2}       &      -0.5334  &        1.775     &    -0.300  &         0.764        &       -4.012    &        2.946     \\\\\n",
       "\\textbf{r\\_width\\_3}       &       1.1500  &        0.850     &     1.352  &         0.176        &       -0.517    &        2.817     \\\\\n",
       "\\textbf{r\\_width\\_4}       &       1.4011  &        0.673     &     2.082  &         0.037        &        0.082    &        2.720     \\\\\n",
       "\\textbf{r\\_width\\_6}       &       1.7579  &        1.006     &     1.747  &         0.081        &       -0.215    &        3.730     \\\\\n",
       "\\textbf{speedlimit\\_1}     &       0.7670  &        0.688     &     1.116  &         0.265        &       -0.581    &        2.114     \\\\\n",
       "\\bottomrule\n",
       "\\end{tabular}\n",
       "%\\caption{Logit Regression Results}\n",
       "\\end{center}"
      ],
      "text/plain": [
       "<class 'statsmodels.iolib.summary.Summary'>\n",
       "\"\"\"\n",
       "                           Logit Regression Results                           \n",
       "==============================================================================\n",
       "Dep. Variable:                    svp   No. Observations:                  250\n",
       "Model:                          Logit   Df Residuals:                      195\n",
       "Method:                           MLE   Df Model:                           54\n",
       "Date:                Mon, 28 Oct 2024   Pseudo R-squ.:                  0.2679\n",
       "Time:                        19:13:34   Log-Likelihood:                -85.154\n",
       "converged:                      False   LL-Null:                       -116.32\n",
       "Covariance Type:            nonrobust   LLR p-value:                    0.2041\n",
       "====================================================================================\n",
       "                       coef    std err          z      P>|z|      [0.025      0.975]\n",
       "------------------------------------------------------------------------------------\n",
       "const               -3.2643    430.001     -0.008      0.994    -846.051     839.522\n",
       "cmean               -0.0898      0.265     -0.339      0.735      -0.609       0.430\n",
       "cmin                -2.3489   3667.624     -0.001      0.999   -7190.759    7186.061\n",
       "ie                   0.2548      0.234      1.091      0.275      -0.203       0.713\n",
       "mew                 -0.7083      0.332     -2.134      0.033      -1.359      -0.058\n",
       "meg                  0.1615      0.347      0.465      0.642      -0.519       0.842\n",
       "megmax               0.3128      0.323      0.969      0.333      -0.320       0.946\n",
       "dbusl               -0.1721      0.298     -0.577      0.564      -0.756       0.412\n",
       "dtraml              -0.0758      0.307     -0.247      0.805      -0.678       0.526\n",
       "dtrainl             -0.2473      0.284     -0.870      0.384      -0.804       0.310\n",
       "dplight             -0.2511      0.221     -1.134      0.257      -0.685       0.183\n",
       "dstation             0.2914      0.279      1.045      0.296      -0.255       0.838\n",
       "dparkcar            -0.0937      0.296     -0.317      0.751      -0.674       0.486\n",
       "dparktw              0.0915      0.286      0.320      0.749      -0.470       0.653\n",
       "dpedcro             -0.0421      0.243     -0.174      0.862      -0.518       0.433\n",
       "dstopsign            0.2546      0.330      0.771      0.441      -0.392       0.902\n",
       "dtrafficarea        -0.1343      0.321     -0.419      0.676      -0.763       0.495\n",
       "droad                0.7407      0.346      2.141      0.032       0.063       1.419\n",
       "dvfpath             -0.2397      0.305     -0.787      0.432      -0.837       0.358\n",
       "gvm_dwv              0.5103      0.315      1.619      0.105      -0.107       1.128\n",
       "r_width_value       -0.0771      0.314     -0.245      0.806      -0.693       0.539\n",
       "speedlimit_value     0.0919      0.308      0.298      0.766      -0.512       0.696\n",
       "bicyclecount        -0.4729      0.272     -1.741      0.082      -1.005       0.059\n",
       "carcount            -0.3624      0.268     -1.350      0.177      -0.888       0.164\n",
       "z_qnr_2              5.7162      1.840      3.107      0.002       2.110       9.322\n",
       "z_qnr_3            -10.6335    368.859     -0.029      0.977    -733.583     712.316\n",
       "z_qnr_4            -13.4681   1505.196     -0.009      0.993   -2963.597    2936.661\n",
       "z_qnr_5             -0.4902      1.388     -0.353      0.724      -3.210       2.230\n",
       "z_qnr_6              3.8967      1.692      2.303      0.021       0.581       7.213\n",
       "z_qnr_8             -1.1493      1.369     -0.840      0.401      -3.832       1.534\n",
       "z_qnr_9             -9.7698    248.271     -0.039      0.969    -496.373     476.833\n",
       "z_qnr_10             1.6282      1.768      0.921      0.357      -1.836       5.093\n",
       "z_qnr_13             0.3843      1.616      0.238      0.812      -2.784       3.552\n",
       "z_qnr_14             1.5247      1.613      0.945      0.344      -1.636       4.686\n",
       "z_qnr_15             1.5679      1.256      1.249      0.212      -0.893       4.029\n",
       "z_qnr_17             1.9586      1.241      1.578      0.114      -0.474       4.391\n",
       "z_qnr_18             2.2756      1.254      1.814      0.070      -0.183       4.734\n",
       "z_qnr_19             0.8622      1.153      0.748      0.455      -1.398       3.122\n",
       "z_qnr_20             0.9815      1.228      0.799      0.424      -1.425       3.388\n",
       "z_qnr_21             0.8572      1.333      0.643      0.520      -1.754       3.469\n",
       "z_qnr_22             1.2373      1.527      0.810      0.418      -1.755       4.230\n",
       "z_qnr_24           -42.1724   1.77e+09  -2.38e-08      1.000   -3.47e+09    3.47e+09\n",
       "z_qnr_25             1.5219      1.632      0.933      0.351      -1.676       4.720\n",
       "z_qnr_28           -22.0920   4.49e+04     -0.000      1.000   -8.81e+04     8.8e+04\n",
       "z_knr_1             -0.1744      1.510     -0.115      0.908      -3.134       2.785\n",
       "z_knr_3              1.0669      1.223      0.872      0.383      -1.331       3.465\n",
       "z_knr_7              0.2788      1.042      0.268      0.789      -1.764       2.322\n",
       "z_knr_8              1.3204      1.476      0.895      0.371      -1.573       4.214\n",
       "z_knr_11             0.9953      1.534      0.649      0.516      -2.012       4.002\n",
       "trafficarea_1       -0.6990      0.834     -0.838      0.402      -2.334       0.935\n",
       "r_width_2           -0.5334      1.775     -0.300      0.764      -4.012       2.946\n",
       "r_width_3            1.1500      0.850      1.352      0.176      -0.517       2.817\n",
       "r_width_4            1.4011      0.673      2.082      0.037       0.082       2.720\n",
       "r_width_6            1.7579      1.006      1.747      0.081      -0.215       3.730\n",
       "speedlimit_1         0.7670      0.688      1.116      0.265      -0.581       2.114\n",
       "====================================================================================\n",
       "\"\"\""
      ]
     },
     "execution_count": 345,
     "metadata": {},
     "output_type": "execute_result"
    }
   ],
   "source": [
    "X_train1, X_test1, y_train1, y_test1 = train_test_split(\n",
    "        x_const, y,\n",
    "        test_size=0.15,\n",
    "        random_state=12)\n",
    "m00_log_split = sm.Logit(y_train1,X_train1, max_iter = 10000)\n",
    "r00_log_split = m00_log_split.fit()\n",
    "r00_log_split.summary()"
   ]
  },
  {
   "cell_type": "code",
   "execution_count": 346,
   "id": "c5e3c184-9c58-4804-abd8-016bddd56438",
   "metadata": {
    "execution": {
     "iopub.execute_input": "2024-10-28T18:13:39.720521Z",
     "iopub.status.busy": "2024-10-28T18:13:39.720198Z",
     "iopub.status.idle": "2024-10-28T18:13:39.728777Z",
     "shell.execute_reply": "2024-10-28T18:13:39.728376Z",
     "shell.execute_reply.started": "2024-10-28T18:13:39.720503Z"
    }
   },
   "outputs": [
    {
     "name": "stdout",
     "output_type": "stream",
     "text": [
      "0.267924822110961\n"
     ]
    },
    {
     "data": {
      "text/html": [
       "<div>\n",
       "<style scoped>\n",
       "    .dataframe tbody tr th:only-of-type {\n",
       "        vertical-align: middle;\n",
       "    }\n",
       "\n",
       "    .dataframe tbody tr th {\n",
       "        vertical-align: top;\n",
       "    }\n",
       "\n",
       "    .dataframe thead th {\n",
       "        text-align: right;\n",
       "    }\n",
       "</style>\n",
       "<table border=\"1\" class=\"dataframe\">\n",
       "  <thead>\n",
       "    <tr style=\"text-align: right;\">\n",
       "      <th></th>\n",
       "      <th>feature</th>\n",
       "      <th>0</th>\n",
       "      <th>sig</th>\n",
       "    </tr>\n",
       "  </thead>\n",
       "  <tbody>\n",
       "    <tr>\n",
       "      <th>0</th>\n",
       "      <td>mew</td>\n",
       "      <td>0.032870</td>\n",
       "      <td>*</td>\n",
       "    </tr>\n",
       "    <tr>\n",
       "      <th>1</th>\n",
       "      <td>droad</td>\n",
       "      <td>0.032301</td>\n",
       "      <td>*</td>\n",
       "    </tr>\n",
       "    <tr>\n",
       "      <th>2</th>\n",
       "      <td>z_qnr_2</td>\n",
       "      <td>0.001892</td>\n",
       "      <td>**</td>\n",
       "    </tr>\n",
       "    <tr>\n",
       "      <th>3</th>\n",
       "      <td>z_qnr_6</td>\n",
       "      <td>0.021276</td>\n",
       "      <td>*</td>\n",
       "    </tr>\n",
       "    <tr>\n",
       "      <th>4</th>\n",
       "      <td>r_width_4</td>\n",
       "      <td>0.037379</td>\n",
       "      <td>*</td>\n",
       "    </tr>\n",
       "  </tbody>\n",
       "</table>\n",
       "</div>"
      ],
      "text/plain": [
       "     feature         0 sig\n",
       "0        mew  0.032870   *\n",
       "1      droad  0.032301   *\n",
       "2    z_qnr_2  0.001892  **\n",
       "3    z_qnr_6  0.021276   *\n",
       "4  r_width_4  0.037379   *"
      ]
     },
     "execution_count": 346,
     "metadata": {},
     "output_type": "execute_result"
    }
   ],
   "source": [
    "print(r00_log_split.prsquared)\n",
    "printsig(r00_log_split)"
   ]
  },
  {
   "cell_type": "code",
   "execution_count": 347,
   "id": "3805abdf-feee-4089-9fb4-99c8b012212f",
   "metadata": {
    "execution": {
     "iopub.execute_input": "2024-10-28T18:13:40.196543Z",
     "iopub.status.busy": "2024-10-28T18:13:40.196254Z",
     "iopub.status.idle": "2024-10-28T18:13:40.342872Z",
     "shell.execute_reply": "2024-10-28T18:13:40.342465Z",
     "shell.execute_reply.started": "2024-10-28T18:13:40.196524Z"
    }
   },
   "outputs": [
    {
     "name": "stdout",
     "output_type": "stream",
     "text": [
      "0.9555555555555556\n",
      "\n",
      "Test accuracy : \n",
      " 0.9555555555555556\n",
      "\n",
      "Confusion Matrix : \n",
      " [[40  0]\n",
      " [ 2  3]]\n",
      "accuracy 0.9555555555555556\n",
      "precision [0.95238095 1.        ]\n",
      "sensitivity recall [1.  0.6]\n",
      "f1 score [0.97560976 0.75      ]\n",
      "mean precision 0.9761904761904762\n",
      "mean recall 0.8\n",
      "mean f1 score 0.8628048780487805\n"
     ]
    },
    {
     "data": {
      "image/png": "[encoded data removed]",
      "text/plain": [
       "<Figure size 640x480 with 2 Axes>"
      ]
     },
     "metadata": {},
     "output_type": "display_data"
    }
   ],
   "source": [
    "pred00log_split = r00_log.predict(X_test1)\n",
    "pred00log_split = list(map(round,pred00log_split))\n",
    "print(accuracy_score(y_test1, pred00log_split))\n",
    "print('\\nTest accuracy : \\n', accuracy_score(y_test1, pred00log_split))\n",
    "cm00log_split = confusion_matrix(y_test1, pred00log_split) \n",
    "print ('\\nConfusion Matrix : \\n', cm00log_split)\n",
    "cm00log_split_display = metrics.ConfusionMatrixDisplay(confusion_matrix = cm00log_split)\n",
    "cm00log_split_display.plot()\n",
    "\n",
    "acc_log_split = metrics.accuracy_score(y_test1, pred00log_split)\n",
    "print('accuracy', acc_log_split)\n",
    "\n",
    "pre_log_split = metrics.precision_score(y_test1, pred00log_split, average = None)\n",
    "print('precision', pre_log_split)\n",
    "\n",
    "senrec_log_split = metrics.recall_score(y_test1, pred00log_split, average = None)\n",
    "print('sensitivity recall', senrec_log_split)\n",
    "\n",
    "f1_log_split = metrics.f1_score(y_test1, pred00log_split, average = None)\n",
    "print('f1 score', f1_log_split)\n",
    "\n",
    "pre_log_split_m = np.mean(pre_log_split)\n",
    "senrec_log_split_m = np.mean(senrec_log_split)\n",
    "f1_log_split_m = np.mean(f1_log_split)\n",
    "print('mean precision', pre_log_split_m)\n",
    "print('mean recall', senrec_log_split_m)\n",
    "print('mean f1 score', f1_log_split_m)"
   ]
  },
  {
   "cell_type": "markdown",
   "id": "128882ea-f6d9-4b7f-859a-71387313f4e0",
   "metadata": {},
   "source": [
    "# Step wise feature selection"
   ]
  },
  {
   "cell_type": "code",
   "execution_count": 304,
   "id": "e995a9c3",
   "metadata": {
    "execution": {
     "iopub.execute_input": "2024-10-28T18:09:19.810368Z",
     "iopub.status.busy": "2024-10-28T18:09:19.810085Z",
     "iopub.status.idle": "2024-10-28T18:09:19.812752Z",
     "shell.execute_reply": "2024-10-28T18:09:19.812290Z",
     "shell.execute_reply.started": "2024-10-28T18:09:19.810351Z"
    }
   },
   "outputs": [],
   "source": [
    "# Check sklearn metrics name for feature selection\n",
    "# sklearn.metrics.get_scorer_names()"
   ]
  },
  {
   "cell_type": "markdown",
   "id": "9e07aaa1-688d-4e10-935b-76a1a8966f6b",
   "metadata": {
    "jp-MarkdownHeadingCollapsed": true
   },
   "source": [
    "## Ordinary Least Squares Regression model"
   ]
  },
  {
   "cell_type": "markdown",
   "id": "8f695bb3-dd7f-414d-95af-2cc2fef57c9a",
   "metadata": {},
   "source": [
    "### Sequential forward floating selection"
   ]
  },
  {
   "cell_type": "code",
   "execution_count": 51,
   "id": "b7b7d96a-1b38-41b4-bf2a-b99991852105",
   "metadata": {
    "execution": {
     "iopub.execute_input": "2024-10-22T06:16:39.946512Z",
     "iopub.status.busy": "2024-10-22T06:16:39.944791Z",
     "iopub.status.idle": "2024-10-22T06:16:45.623163Z",
     "shell.execute_reply": "2024-10-22T06:16:45.621822Z",
     "shell.execute_reply.started": "2024-10-22T06:16:39.946470Z"
    }
   },
   "outputs": [
    {
     "name": "stderr",
     "output_type": "stream",
     "text": [
      "\n",
      "STOPPING EARLY DUE TO KEYBOARD INTERRUPT..."
     ]
    },
    {
     "name": "stdout",
     "output_type": "stream",
     "text": [
      "None\n"
     ]
    },
    {
     "ename": "TypeError",
     "evalue": "object of type 'NoneType' has no len()",
     "output_type": "error",
     "traceback": [
      "\u001b[0;31m---------------------------------------------------------------------------\u001b[0m",
      "\u001b[0;31mTypeError\u001b[0m                                 Traceback (most recent call last)",
      "Cell \u001b[0;32mIn[51], line 4\u001b[0m\n\u001b[1;32m      2\u001b[0m sffslin0 \u001b[38;5;241m=\u001b[39m featureselection_lin(\u001b[38;5;28;01mTrue\u001b[39;00m, \u001b[38;5;124m'\u001b[39m\u001b[38;5;124mneg_mean_squared_error\u001b[39m\u001b[38;5;124m'\u001b[39m, \u001b[38;5;241m5\u001b[39m, x, y) \n\u001b[1;32m      3\u001b[0m \u001b[38;5;28mprint\u001b[39m(sffslin0\u001b[38;5;241m.\u001b[39mk_feature_names_)\n\u001b[0;32m----> 4\u001b[0m \u001b[38;5;28mprint\u001b[39m(\u001b[38;5;28;43mlen\u001b[39;49m\u001b[43m(\u001b[49m\u001b[43msffslin0\u001b[49m\u001b[38;5;241;43m.\u001b[39;49m\u001b[43mk_feature_names_\u001b[49m\u001b[43m)\u001b[49m)\n\u001b[1;32m      5\u001b[0m \u001b[38;5;28mprint\u001b[39m(sffslin0\u001b[38;5;241m.\u001b[39mk_score_)\n",
      "\u001b[0;31mTypeError\u001b[0m: object of type 'NoneType' has no len()"
     ]
    }
   ],
   "source": [
    "# # n = best, linear regression, scoring = neg_mean_squared_error, cv = 5\n",
    "sffslin0 = featureselection_lin(True, 'neg_mean_squared_error', 5, x, y) \n",
    "print(sffslin0.k_feature_names_)\n",
    "print(len(sffslin0.k_feature_names_))\n",
    "print(sffslin0.k_score_)\n"
   ]
  },
  {
   "cell_type": "code",
   "execution_count": null,
   "id": "7717119b-51d8-4973-a3d4-b0f438d59d6d",
   "metadata": {
    "execution": {
     "iopub.status.busy": "2024-10-22T06:16:45.625022Z",
     "iopub.status.idle": "2024-10-22T06:16:45.625409Z",
     "shell.execute_reply": "2024-10-22T06:16:45.625236Z",
     "shell.execute_reply.started": "2024-10-22T06:16:45.625216Z"
    }
   },
   "outputs": [],
   "source": [
    "# # n = best, linear regression, scoring = neg_mean_squared_error, cv = 10\n",
    "sffslin1 = featureselection_lin(True, 'neg_mean_squared_error', 10, x, y) \n",
    "print(sffslin1.k_feature_names_)\n",
    "print(len(sffslin1.k_feature_names_))\n",
    "print(sffslin1.k_score_)\n"
   ]
  },
  {
   "cell_type": "code",
   "execution_count": 114,
   "id": "88db8602-533d-4912-8cee-7c215a85923b",
   "metadata": {
    "execution": {
     "iopub.execute_input": "2024-09-20T15:41:21.019068Z",
     "iopub.status.busy": "2024-09-20T15:41:21.018622Z",
     "iopub.status.idle": "2024-09-20T15:41:21.022660Z",
     "shell.execute_reply": "2024-09-20T15:41:21.021938Z",
     "shell.execute_reply.started": "2024-09-20T15:41:21.019048Z"
    }
   },
   "outputs": [],
   "source": [
    "# # # n = best, linear regression, scoring = neg_mean_squared_error, cv = 15\n",
    "# print(selected_features6.k_feature_names_)\n",
    "# print(len(selected_features6.k_feature_names_))\n",
    "# print(selected_features6.k_score_)\n",
    "# # 34"
   ]
  },
  {
   "cell_type": "code",
   "execution_count": 115,
   "id": "0af8f11f-99be-43f5-8010-0be0cad875ac",
   "metadata": {
    "execution": {
     "iopub.execute_input": "2024-09-20T15:41:21.932140Z",
     "iopub.status.busy": "2024-09-20T15:41:21.931722Z",
     "iopub.status.idle": "2024-09-20T15:41:21.936545Z",
     "shell.execute_reply": "2024-09-20T15:41:21.935071Z",
     "shell.execute_reply.started": "2024-09-20T15:41:21.932120Z"
    }
   },
   "outputs": [],
   "source": [
    "# # # n = best, linear regression, scoring = neg_mean_squared_error, cv = 20\n",
    "# print(selected_features7.k_feature_names_)\n",
    "# print(len(selected_features7.k_feature_names_))\n",
    "# print(selected_features7.k_score_)\n",
    "# 37"
   ]
  },
  {
   "cell_type": "code",
   "execution_count": 117,
   "id": "ce242bce-b9b8-4849-ab1c-938d39fb36d3",
   "metadata": {
    "execution": {
     "iopub.execute_input": "2024-09-20T15:41:56.183296Z",
     "iopub.status.busy": "2024-09-20T15:41:56.182605Z",
     "iopub.status.idle": "2024-09-20T15:42:41.250473Z",
     "shell.execute_reply": "2024-09-20T15:42:41.249792Z",
     "shell.execute_reply.started": "2024-09-20T15:41:56.183271Z"
    }
   },
   "outputs": [
    {
     "name": "stdout",
     "output_type": "stream",
     "text": [
      "('ie', 'mew', 'cmin', 'dstopsign', 'dvfpath', 'r_width_value', 'speedlimit_value', 'z_qnr_3', 'z_qnr_10', 'z_qnr_11', 'z_qnr_13', 'z_qnr_14', 'z_qnr_23', 'z_knr_5', 'z_knr_6', 'z_knr_7', 'z_knr_9', 'r_width_1', 'r_width_3', 'r_width_4', 'r_width_5', 'r_width_6', 'r_surface_1', 'speedlimit_1', 'speedlimit_4')\n",
      "25\n",
      "0.09083514182795516\n"
     ]
    }
   ],
   "source": [
    "# # n = best, linear regression, scoring = r2, cv = 5\n",
    "sffslin2 = featureselection_lin(True, 'r2', 5, x, y) \n",
    "print(sffslin2.k_feature_names_)\n",
    "print(len(sffslin2.k_feature_names_))\n",
    "print(sffslin2.k_score_)"
   ]
  },
  {
   "cell_type": "code",
   "execution_count": 131,
   "id": "fa7612cf-e8b3-49e4-abcc-0bc257beec93",
   "metadata": {
    "execution": {
     "iopub.execute_input": "2024-09-20T15:47:46.432099Z",
     "iopub.status.busy": "2024-09-20T15:47:46.431126Z",
     "iopub.status.idle": "2024-09-20T15:48:47.184191Z",
     "shell.execute_reply": "2024-09-20T15:48:47.183580Z",
     "shell.execute_reply.started": "2024-09-20T15:47:46.432080Z"
    }
   },
   "outputs": [
    {
     "name": "stdout",
     "output_type": "stream",
     "text": [
      "('cp', 'ie', 'mew', 'megmax', 'dparktw', 'dpedcro', 'dstopsign', 'droad', 'r_width_value', 'speedlimit_value', 'z_qnr_2', 'z_qnr_3', 'z_qnr_4', 'z_qnr_6', 'z_qnr_9', 'z_qnr_10', 'z_qnr_12', 'z_qnr_13', 'z_qnr_14', 'z_qnr_15', 'z_qnr_16', 'z_qnr_18', 'z_qnr_23', 'z_qnr_25', 'z_qnr_27', 'z_qnr_30', 'z_qnr_31', 'z_qnr_32', 'z_knr_1', 'z_knr_2', 'z_knr_6', 'z_knr_7', 'z_knr_8', 'z_knr_11', 'r_width_1', 'r_width_3', 'r_width_4', 'r_width_5', 'r_width_6', 'r_surface_1', 'speedlimit_1', 'speedlimit_4', 'speedlimit_5')\n",
      "43\n",
      "-0.003116770937851121\n"
     ]
    }
   ],
   "source": [
    "# n = best, linear regression, scoring = r2, cv = 10\n",
    "sffslin3 = featureselection_lin(True, 'r2', 10, x, y) \n",
    "print(sffslin3.k_feature_names_)\n",
    "print(len(sffslin3.k_feature_names_))\n",
    "print(sffslin3.k_score_)"
   ]
  },
  {
   "cell_type": "code",
   "execution_count": 118,
   "id": "70516ca0-3694-4562-9425-d90231b30065",
   "metadata": {
    "execution": {
     "iopub.execute_input": "2024-09-20T15:42:41.252158Z",
     "iopub.status.busy": "2024-09-20T15:42:41.251977Z",
     "iopub.status.idle": "2024-09-20T15:42:41.255311Z",
     "shell.execute_reply": "2024-09-20T15:42:41.254805Z",
     "shell.execute_reply.started": "2024-09-20T15:42:41.252143Z"
    }
   },
   "outputs": [],
   "source": [
    "# # # n = best, linear regression, scoring = r2, cv = 15\n",
    "# print(selected_features9.k_feature_names_)\n",
    "# print(len(selected_features9.k_feature_names_))\n",
    "# print(selected_features9.k_score_)\n",
    "# # 59"
   ]
  },
  {
   "cell_type": "code",
   "execution_count": 119,
   "id": "3f8d5b7f-134e-494d-82cb-1b7bf8020abd",
   "metadata": {
    "execution": {
     "iopub.execute_input": "2024-09-20T15:42:41.256004Z",
     "iopub.status.busy": "2024-09-20T15:42:41.255865Z",
     "iopub.status.idle": "2024-09-20T15:42:41.266994Z",
     "shell.execute_reply": "2024-09-20T15:42:41.266464Z",
     "shell.execute_reply.started": "2024-09-20T15:42:41.255991Z"
    }
   },
   "outputs": [],
   "source": [
    "# # # n = best, linear regression, scoring = r2, cv = 20\n",
    "# print(selected_features10.k_feature_names_)\n",
    "# print(len(selected_features10.k_feature_names_))\n",
    "# print(selected_features10.k_score_)\n",
    "# # 73"
   ]
  },
  {
   "cell_type": "code",
   "execution_count": 120,
   "id": "e03c0b1f-c624-49c0-8783-5e30b9c2e46f",
   "metadata": {
    "execution": {
     "iopub.execute_input": "2024-09-20T15:43:04.832379Z",
     "iopub.status.busy": "2024-09-20T15:43:04.830776Z",
     "iopub.status.idle": "2024-09-20T15:43:58.561744Z",
     "shell.execute_reply": "2024-09-20T15:43:58.561033Z",
     "shell.execute_reply.started": "2024-09-20T15:43:04.832357Z"
    }
   },
   "outputs": [
    {
     "name": "stdout",
     "output_type": "stream",
     "text": [
      "('z_qnr_7', 'trafficarea_2', 'r_width_4', 'speedlimit_1', 'speedlimit_4')\n",
      "5\n",
      "-0.18490933143765312\n"
     ]
    }
   ],
   "source": [
    "# # # n = best, linear regression, scoring = neg median absolute error, cv = 5\n",
    "sffslin4 = featureselection_lin(True, 'neg_median_absolute_error', 5, x, y) \n",
    "print(sffslin4.k_feature_names_)\n",
    "print(len(sffslin4.k_feature_names_))\n",
    "print(sffslin4.k_score_)"
   ]
  },
  {
   "cell_type": "code",
   "execution_count": 133,
   "id": "70bfd1b1-267e-4c77-8197-768721021845",
   "metadata": {
    "execution": {
     "iopub.execute_input": "2024-09-20T15:49:05.450295Z",
     "iopub.status.busy": "2024-09-20T15:49:05.450037Z",
     "iopub.status.idle": "2024-09-20T15:50:54.902982Z",
     "shell.execute_reply": "2024-09-20T15:50:54.902206Z",
     "shell.execute_reply.started": "2024-09-20T15:49:05.450278Z"
    }
   },
   "outputs": [
    {
     "name": "stdout",
     "output_type": "stream",
     "text": [
      "('r_width_value', 'speedlimit_value', 'z_qnr_20', 'z_qnr_22', 'z_qnr_26', 'trafficarea_2', 'r_width_3', 'r_width_4', 'r_width_5', 'r_width_6', 'r_surface_1', 'speedlimit_4')\n",
      "12\n",
      "-0.13157577362107836\n"
     ]
    }
   ],
   "source": [
    "# # # n = best, linear regression, scoring = neg median absolute error, cv = 10\n",
    "sffslin5 = featureselection_lin(True, 'neg_median_absolute_error', 10, x, y) \n",
    "print(sffslin5.k_feature_names_)\n",
    "print(len(sffslin5.k_feature_names_))\n",
    "print(sffslin5.k_score_)"
   ]
  },
  {
   "cell_type": "code",
   "execution_count": 121,
   "id": "9eef5e5f-dea7-46ba-91fb-0706028a604b",
   "metadata": {
    "execution": {
     "iopub.execute_input": "2024-09-20T15:43:58.563083Z",
     "iopub.status.busy": "2024-09-20T15:43:58.562917Z",
     "iopub.status.idle": "2024-09-20T15:43:58.565675Z",
     "shell.execute_reply": "2024-09-20T15:43:58.565075Z",
     "shell.execute_reply.started": "2024-09-20T15:43:58.563068Z"
    }
   },
   "outputs": [],
   "source": [
    "# # # n = best, linear regression, scoring = neg median absolute error, cv = 15\n",
    "# print(selected_features12.k_feature_names_)\n",
    "# print(len(selected_features12.k_feature_names_))\n",
    "# print(selected_features12.k_score_)\n",
    "# 21"
   ]
  },
  {
   "cell_type": "code",
   "execution_count": 122,
   "id": "48e725d7-8fb6-4909-9b6b-46db5356a235",
   "metadata": {
    "execution": {
     "iopub.execute_input": "2024-09-20T15:43:58.566613Z",
     "iopub.status.busy": "2024-09-20T15:43:58.566469Z",
     "iopub.status.idle": "2024-09-20T15:43:58.576171Z",
     "shell.execute_reply": "2024-09-20T15:43:58.575615Z",
     "shell.execute_reply.started": "2024-09-20T15:43:58.566601Z"
    }
   },
   "outputs": [],
   "source": [
    "# # n = best, linear regression, scoring = neg median absolute error, cv = 20\n",
    "# print(selected_features13.k_feature_names_)\n",
    "# print(len(selected_features13.k_feature_names_))\n",
    "# print(selected_features13.k_score_)\n",
    "# # 11"
   ]
  },
  {
   "cell_type": "code",
   "execution_count": 125,
   "id": "3c4446c6-6797-42f7-b2f9-78eac7c93c66",
   "metadata": {
    "execution": {
     "iopub.execute_input": "2024-09-20T15:45:44.486796Z",
     "iopub.status.busy": "2024-09-20T15:45:44.486475Z",
     "iopub.status.idle": "2024-09-20T15:46:21.572811Z",
     "shell.execute_reply": "2024-09-20T15:46:21.572131Z",
     "shell.execute_reply.started": "2024-09-20T15:45:44.486780Z"
    }
   },
   "outputs": [
    {
     "name": "stdout",
     "output_type": "stream",
     "text": [
      "('dtrafficarea', 'z_qnr_10', 'trafficarea_2', 'r_width_4', 'r_width_5', 'r_surface_1', 'speedlimit_1', 'speedlimit_3', 'speedlimit_4', 'speedlimit_5')\n",
      "10\n",
      "-0.28187575192075237\n"
     ]
    }
   ],
   "source": [
    "# # # n = best, linear regression, scoring = neg mean absolute error, cv = 5\n",
    "sffslin6 = featureselection_lin(True, 'neg_mean_absolute_error', 5, x, y) \n",
    "print(sffslin6.k_feature_names_)\n",
    "print(len(sffslin6.k_feature_names_))\n",
    "print(sffslin6.k_score_)"
   ]
  },
  {
   "cell_type": "code",
   "execution_count": 124,
   "id": "580d72e6-f3d6-4de9-ae2f-b7880b0d9a53",
   "metadata": {
    "execution": {
     "iopub.execute_input": "2024-09-20T15:44:57.963080Z",
     "iopub.status.busy": "2024-09-20T15:44:57.962919Z",
     "iopub.status.idle": "2024-09-20T15:45:44.485640Z",
     "shell.execute_reply": "2024-09-20T15:45:44.484964Z",
     "shell.execute_reply.started": "2024-09-20T15:44:57.963065Z"
    }
   },
   "outputs": [
    {
     "name": "stdout",
     "output_type": "stream",
     "text": [
      "('dplight', 'r_width_value', 'speedlimit_value', 'z_qnr_23', 'z_qnr_26', 'z_knr_4', 'z_knr_9', 'trafficarea_2', 'r_width_3', 'r_width_4', 'r_width_5', 'r_width_6', 'r_surface_1', 'speedlimit_4')\n",
      "14\n",
      "-0.2420524177831998\n"
     ]
    }
   ],
   "source": [
    "# # # n = best, linear regression, scoring = neg mean absolute error, cv = 10\n",
    "sffslin7 = featureselection_lin(True, 'neg_mean_absolute_error', 10, x, y) \n",
    "print(sffslin7.k_feature_names_)\n",
    "print(len(sffslin7.k_feature_names_))\n",
    "print(sffslin7.k_score_)"
   ]
  },
  {
   "cell_type": "code",
   "execution_count": 126,
   "id": "473c4fef-064b-4603-853c-ceb45c57eb62",
   "metadata": {
    "execution": {
     "iopub.execute_input": "2024-09-20T15:46:21.574304Z",
     "iopub.status.busy": "2024-09-20T15:46:21.574132Z",
     "iopub.status.idle": "2024-09-20T15:46:21.577058Z",
     "shell.execute_reply": "2024-09-20T15:46:21.576572Z",
     "shell.execute_reply.started": "2024-09-20T15:46:21.574288Z"
    }
   },
   "outputs": [],
   "source": [
    "# # n = best, linear regression, scoring = neg mean absolute error, cv = 15\n",
    "# print(selected_features15.k_feature_names_)\n",
    "# print(len(selected_features15.k_feature_names_))\n",
    "# print(selected_features15.k_score_)\n",
    "# # 24"
   ]
  },
  {
   "cell_type": "code",
   "execution_count": 127,
   "id": "9bad9eae-dc35-41ef-84f1-f25b0f8d7622",
   "metadata": {
    "execution": {
     "iopub.execute_input": "2024-09-20T15:46:21.577738Z",
     "iopub.status.busy": "2024-09-20T15:46:21.577577Z",
     "iopub.status.idle": "2024-09-20T15:46:21.589237Z",
     "shell.execute_reply": "2024-09-20T15:46:21.588739Z",
     "shell.execute_reply.started": "2024-09-20T15:46:21.577725Z"
    }
   },
   "outputs": [],
   "source": [
    "# # # n = best, linear regression, scoring = neg mean absolute error, cv = 20\n",
    "# print(selected_features16.k_feature_names_)\n",
    "# print(len(selected_features16.k_feature_names_))\n",
    "# print(selected_features16.k_score_)\n",
    "# # 22"
   ]
  },
  {
   "cell_type": "code",
   "execution_count": 135,
   "id": "ed4ea5e7-5942-46d6-abdc-c5ae3aeb66aa",
   "metadata": {
    "execution": {
     "iopub.execute_input": "2024-09-20T15:51:22.980522Z",
     "iopub.status.busy": "2024-09-20T15:51:22.979679Z",
     "iopub.status.idle": "2024-09-20T15:51:22.984347Z",
     "shell.execute_reply": "2024-09-20T15:51:22.983812Z",
     "shell.execute_reply.started": "2024-09-20T15:51:22.980500Z"
    }
   },
   "outputs": [],
   "source": [
    "selected_columns_linr_sffs = []\n",
    "selected_columns_linr_sffs = {'nmse_cv5':list(sffslin0.k_feature_names_), \n",
    "                              'nmse_cv10':list(sffslin1.k_feature_names_), \n",
    "                              'r2_cv5':list(sffslin2.k_feature_names_), \n",
    "                              'r2_cv10':list(sffslin3.k_feature_names_), \n",
    "                              'nmedae_cv5':list(sffslin4.k_feature_names_), \n",
    "                              'nmedae_cv10':list(sffslin5.k_feature_names_), \n",
    "                              'nmeae_cv5':list(sffslin6.k_feature_names_), \n",
    "                              'nmeae_cv10':list(sffslin7.k_feature_names_)}"
   ]
  },
  {
   "cell_type": "code",
   "execution_count": 136,
   "id": "c349dec0-822c-45c3-ac7e-0230b3267ab7",
   "metadata": {
    "execution": {
     "iopub.execute_input": "2024-09-20T15:51:24.495880Z",
     "iopub.status.busy": "2024-09-20T15:51:24.495224Z",
     "iopub.status.idle": "2024-09-20T15:51:24.502130Z",
     "shell.execute_reply": "2024-09-20T15:51:24.501584Z",
     "shell.execute_reply.started": "2024-09-20T15:51:24.495859Z"
    }
   },
   "outputs": [],
   "source": [
    "df_sf_linr_sffs = pd.DataFrame(dict([(k,pd.Series(v)) for k,v in selected_columns_linr_sffs.items()]))"
   ]
  },
  {
   "cell_type": "code",
   "execution_count": 137,
   "id": "e49537ed-5015-496f-b153-79e8112628fd",
   "metadata": {
    "execution": {
     "iopub.execute_input": "2024-09-20T15:52:06.676896Z",
     "iopub.status.busy": "2024-09-20T15:52:06.675829Z",
     "iopub.status.idle": "2024-09-20T15:52:06.687292Z",
     "shell.execute_reply": "2024-09-20T15:52:06.686738Z",
     "shell.execute_reply.started": "2024-09-20T15:52:06.676845Z"
    }
   },
   "outputs": [],
   "source": [
    "df_sf_linr_sffs.to_csv('/home/yelhe/script/mtp/tables/updated_sffs_linearreg.csv', index = True)"
   ]
  },
  {
   "cell_type": "code",
   "execution_count": 152,
   "id": "16d38534-395b-4230-a4ca-49ef5b9fcddb",
   "metadata": {
    "execution": {
     "iopub.execute_input": "2024-09-20T15:53:12.209651Z",
     "iopub.status.busy": "2024-09-20T15:53:12.209201Z",
     "iopub.status.idle": "2024-09-20T15:53:12.212353Z",
     "shell.execute_reply": "2024-09-20T15:53:12.211937Z",
     "shell.execute_reply.started": "2024-09-20T15:53:12.209631Z"
    }
   },
   "outputs": [],
   "source": [
    "# selected_columns = list(sffslin.k_feature_names_)\n"
   ]
  },
  {
   "cell_type": "code",
   "execution_count": 257,
   "id": "1e8eeea1-6516-48e7-88bc-8ac98d223fa2",
   "metadata": {
    "execution": {
     "iopub.execute_input": "2024-09-20T16:49:06.940495Z",
     "iopub.status.busy": "2024-09-20T16:49:06.940256Z",
     "iopub.status.idle": "2024-09-20T16:49:06.943380Z",
     "shell.execute_reply": "2024-09-20T16:49:06.942866Z",
     "shell.execute_reply.started": "2024-09-20T16:49:06.940479Z"
    },
    "scrolled": true
   },
   "outputs": [],
   "source": [
    "# # OLS\n",
    "# df_selected = dfacrpv[selected_columns]\n",
    "\n",
    "# m0 = sm.OLS(y, df_selected)\n",
    "# r0 = m0.fit()\n",
    "# r0.summary()"
   ]
  },
  {
   "cell_type": "markdown",
   "id": "165da463-0e31-4348-af57-0403dd3f29ed",
   "metadata": {},
   "source": [
    "### Sequential backward floating selection"
   ]
  },
  {
   "cell_type": "code",
   "execution_count": 154,
   "id": "f531ac9b-d567-4f0c-ab02-09733e44b31d",
   "metadata": {
    "execution": {
     "iopub.execute_input": "2024-09-20T15:54:18.114994Z",
     "iopub.status.busy": "2024-09-20T15:54:18.114108Z",
     "iopub.status.idle": "2024-09-20T15:54:38.319740Z",
     "shell.execute_reply": "2024-09-20T15:54:38.319039Z",
     "shell.execute_reply.started": "2024-09-20T15:54:18.114938Z"
    }
   },
   "outputs": [
    {
     "name": "stdout",
     "output_type": "stream",
     "text": [
      "('dtrafficarea', 'droad', 'z_qnr_10', 'z_qnr_30', 'z_qnr_31', 'z_knr_8', 'trafficarea_2', 'r_width_4', 'r_width_5', 'r_width_6', 'r_surface_1', 'speedlimit_3', 'speedlimit_4', 'speedlimit_5')\n",
      "14\n",
      "-0.1468143631396745\n"
     ]
    }
   ],
   "source": [
    "# # n = best, linear regression, backward, scoring = neg_mean_squared_error, cv = 5\n",
    "sbfslin0 = featureselection_lin(False, 'neg_mean_squared_error', 5, x, y) \n",
    "print(sbfslin0.k_feature_names_)\n",
    "print(len(sbfslin0.k_feature_names_))\n",
    "print(sbfslin0.k_score_)"
   ]
  },
  {
   "cell_type": "code",
   "execution_count": 155,
   "id": "46dba83a-ad2c-4e0f-8b3f-94dae9279c2a",
   "metadata": {
    "execution": {
     "iopub.execute_input": "2024-09-20T15:54:43.854289Z",
     "iopub.status.busy": "2024-09-20T15:54:43.853832Z",
     "iopub.status.idle": "2024-09-20T15:55:12.137600Z",
     "shell.execute_reply": "2024-09-20T15:55:12.136944Z",
     "shell.execute_reply.started": "2024-09-20T15:54:43.854270Z"
    }
   },
   "outputs": [
    {
     "name": "stdout",
     "output_type": "stream",
     "text": [
      "('ie', 'dvfpath', 'r_width_value', 'speedlimit_value', 'z_qnr_10', 'z_qnr_23', 'z_qnr_25', 'z_qnr_26', 'z_knr_4', 'z_knr_9', 'trafficarea_2', 'r_width_1', 'r_width_2', 'r_width_3', 'r_width_4', 'r_width_5', 'r_width_6', 'r_surface_1', 'speedlimit_3', 'speedlimit_4')\n",
      "20\n",
      "-0.12100686105804259\n"
     ]
    }
   ],
   "source": [
    "# # n = best, linear regression, backward, scoring = neg_mean_squared_error, cv = 10\n",
    "sbfslin1 = featureselection_lin(False, 'neg_mean_squared_error', 10, x, y) \n",
    "print(sbfslin1.k_feature_names_)\n",
    "print(len(sbfslin1.k_feature_names_))\n",
    "print(sbfslin1.k_score_)\n"
   ]
  },
  {
   "cell_type": "code",
   "execution_count": 156,
   "id": "3e45e3c2-abef-439f-bcc6-7680fe6b4f7e",
   "metadata": {
    "execution": {
     "iopub.execute_input": "2024-09-20T15:55:12.138868Z",
     "iopub.status.busy": "2024-09-20T15:55:12.138701Z",
     "iopub.status.idle": "2024-09-20T15:55:12.141642Z",
     "shell.execute_reply": "2024-09-20T15:55:12.141163Z",
     "shell.execute_reply.started": "2024-09-20T15:55:12.138853Z"
    }
   },
   "outputs": [],
   "source": [
    "# # n = best, linear regression, backward, scoring = neg_mean_squared_error, cv = 15\n",
    "# print(sbfs2.k_feature_names_)\n",
    "# print(len(sbfs2.k_feature_names_))\n",
    "# print(sbfs2.k_score_)\n",
    "# # 26"
   ]
  },
  {
   "cell_type": "code",
   "execution_count": 157,
   "id": "7199ef07-1051-4e11-a704-988f7d21bd4e",
   "metadata": {
    "execution": {
     "iopub.execute_input": "2024-09-20T15:55:12.142395Z",
     "iopub.status.busy": "2024-09-20T15:55:12.142242Z",
     "iopub.status.idle": "2024-09-20T15:55:12.154675Z",
     "shell.execute_reply": "2024-09-20T15:55:12.154113Z",
     "shell.execute_reply.started": "2024-09-20T15:55:12.142381Z"
    }
   },
   "outputs": [],
   "source": [
    "# # n = best, linear regression, backward, scoring = neg_mean_squared_error, cv = 20\n",
    "# print(sbfs3.k_feature_names_)\n",
    "# print(len(sbfs3.k_feature_names_))\n",
    "# print(sbfs3.k_score_)\n",
    "# # 52"
   ]
  },
  {
   "cell_type": "code",
   "execution_count": 158,
   "id": "e91657a5-b828-4141-aad7-2c78c47a0ede",
   "metadata": {
    "execution": {
     "iopub.execute_input": "2024-09-20T15:55:20.586267Z",
     "iopub.status.busy": "2024-09-20T15:55:20.585781Z",
     "iopub.status.idle": "2024-09-20T15:56:03.891451Z",
     "shell.execute_reply": "2024-09-20T15:56:03.890780Z",
     "shell.execute_reply.started": "2024-09-20T15:55:20.586248Z"
    }
   },
   "outputs": [
    {
     "name": "stdout",
     "output_type": "stream",
     "text": [
      "('ie', 'mew', 'cmin', 'dstopsign', 'dvfpath', 'r_width_value', 'speedlimit_value', 'z_qnr_3', 'z_qnr_10', 'z_qnr_11', 'z_qnr_13', 'z_qnr_14', 'z_qnr_23', 'z_knr_5', 'z_knr_6', 'z_knr_7', 'z_knr_9', 'r_width_1', 'r_width_3', 'r_width_4', 'r_width_5', 'r_width_6', 'r_surface_1', 'speedlimit_1', 'speedlimit_4')\n",
      "25\n",
      "0.09083514182795516\n"
     ]
    }
   ],
   "source": [
    "# # n = best, linear regression, backward, scoring = r2, cv = 5\n",
    "sbfslin2 = featureselection_lin(False, 'r2', 5, x, y) \n",
    "print(sbfslin2.k_feature_names_)\n",
    "print(len(sbfslin2.k_feature_names_))\n",
    "print(sbfslin2.k_score_)"
   ]
  },
  {
   "cell_type": "code",
   "execution_count": 159,
   "id": "881471b7-90c3-4d41-b317-2fd906d67a99",
   "metadata": {
    "execution": {
     "iopub.execute_input": "2024-09-20T15:56:03.892648Z",
     "iopub.status.busy": "2024-09-20T15:56:03.892465Z",
     "iopub.status.idle": "2024-09-20T15:56:53.006118Z",
     "shell.execute_reply": "2024-09-20T15:56:53.005397Z",
     "shell.execute_reply.started": "2024-09-20T15:56:03.892632Z"
    }
   },
   "outputs": [
    {
     "name": "stdout",
     "output_type": "stream",
     "text": [
      "('ie', 'mew', 'cmin', 'dstopsign', 'dvfpath', 'r_width_value', 'speedlimit_value', 'z_qnr_2', 'z_qnr_3', 'z_qnr_4', 'z_qnr_6', 'z_qnr_9', 'z_qnr_10', 'z_qnr_13', 'z_qnr_14', 'z_qnr_15', 'z_qnr_16', 'z_qnr_18', 'z_qnr_25', 'z_qnr_26', 'z_qnr_30', 'z_qnr_31', 'z_qnr_32', 'z_knr_1', 'z_knr_2', 'z_knr_5', 'z_knr_6', 'z_knr_7', 'z_knr_8', 'trafficarea_1', 'trafficarea_2', 'r_width_1', 'r_width_2', 'r_width_3', 'r_width_4', 'r_width_5', 'r_width_6', 'r_surface_1', 'speedlimit_3', 'speedlimit_4', 'speedlimit_5')\n",
      "41\n",
      "-0.0037091494395070645\n"
     ]
    }
   ],
   "source": [
    "# # n = best, linear regression, backward, scoring = r2, cv = 10\n",
    "sbfslin3 = featureselection_lin(False, 'r2', 10, x, y) \n",
    "print(sbfslin3.k_feature_names_)\n",
    "print(len(sbfslin3.k_feature_names_))\n",
    "print(sbfslin3.k_score_)"
   ]
  },
  {
   "cell_type": "code",
   "execution_count": 162,
   "id": "72940d7b-ffad-407e-92a8-536ec139466e",
   "metadata": {
    "execution": {
     "iopub.execute_input": "2024-09-20T15:56:53.022150Z",
     "iopub.status.busy": "2024-09-20T15:56:53.021992Z",
     "iopub.status.idle": "2024-09-20T15:56:53.030398Z",
     "shell.execute_reply": "2024-09-20T15:56:53.029791Z",
     "shell.execute_reply.started": "2024-09-20T15:56:53.022137Z"
    }
   },
   "outputs": [],
   "source": [
    "# # n = best, linear regression, backward, scoring = r2, cv = 15\n"
   ]
  },
  {
   "cell_type": "code",
   "execution_count": 163,
   "id": "66940b00-d245-42c9-af4c-d59599f4c2b3",
   "metadata": {
    "execution": {
     "iopub.execute_input": "2024-09-20T15:56:53.031253Z",
     "iopub.status.busy": "2024-09-20T15:56:53.031101Z",
     "iopub.status.idle": "2024-09-20T15:56:53.039397Z",
     "shell.execute_reply": "2024-09-20T15:56:53.038838Z",
     "shell.execute_reply.started": "2024-09-20T15:56:53.031240Z"
    }
   },
   "outputs": [],
   "source": [
    "# # n = best, linear regression, backward, scoring = r2, cv = 20\n"
   ]
  },
  {
   "cell_type": "code",
   "execution_count": 165,
   "id": "a70a2f1c-b05c-41a0-a416-6c829ff98f91",
   "metadata": {
    "execution": {
     "iopub.execute_input": "2024-09-20T15:57:31.410535Z",
     "iopub.status.busy": "2024-09-20T15:57:31.409531Z",
     "iopub.status.idle": "2024-09-20T15:57:56.240240Z",
     "shell.execute_reply": "2024-09-20T15:57:56.239598Z",
     "shell.execute_reply.started": "2024-09-20T15:57:31.410489Z"
    }
   },
   "outputs": [
    {
     "name": "stdout",
     "output_type": "stream",
     "text": [
      "('z_qnr_7', 'z_qnr_8', 'z_qnr_12', 'z_qnr_16', 'z_qnr_22', 'z_qnr_27', 'z_knr_4', 'z_knr_5', 'z_knr_9', 'trafficarea_2', 'r_width_4', 'r_width_6', 'speedlimit_4')\n",
      "13\n",
      "-0.1534518932857683\n"
     ]
    }
   ],
   "source": [
    "# # n = best, linear regression, backward, scoring = neg median aboslute error, cv = 5\n",
    "sbfslin4 = featureselection_lin(False, 'neg_median_absolute_error', 5, x, y) \n",
    "print(sbfslin4.k_feature_names_)\n",
    "print(len(sbfslin4.k_feature_names_))\n",
    "print(sbfslin4.k_score_)"
   ]
  },
  {
   "cell_type": "code",
   "execution_count": 166,
   "id": "a0d6c2f0-95db-47a3-ba56-c652ec28ba29",
   "metadata": {
    "execution": {
     "iopub.execute_input": "2024-09-20T15:58:02.100874Z",
     "iopub.status.busy": "2024-09-20T15:58:02.100434Z",
     "iopub.status.idle": "2024-09-20T15:58:43.369797Z",
     "shell.execute_reply": "2024-09-20T15:58:43.369043Z",
     "shell.execute_reply.started": "2024-09-20T15:58:02.100856Z"
    }
   },
   "outputs": [
    {
     "name": "stdout",
     "output_type": "stream",
     "text": [
      "('r_width_value', 'speedlimit_value', 'z_qnr_20', 'z_qnr_22', 'z_qnr_26', 'trafficarea_2', 'r_width_3', 'r_width_4', 'r_width_5', 'r_width_6', 'r_surface_1', 'speedlimit_4')\n",
      "12\n",
      "-0.13157577362107836\n"
     ]
    }
   ],
   "source": [
    "# # n = best, linear regression, backward, scoring = neg median aboslute error, cv = 10\n",
    "sbfslin5 = featureselection_lin(False, 'neg_median_absolute_error', 10, x, y) \n",
    "print(sbfslin5.k_feature_names_)\n",
    "print(len(sbfslin5.k_feature_names_))\n",
    "print(sbfslin5.k_score_)"
   ]
  },
  {
   "cell_type": "code",
   "execution_count": 252,
   "id": "e0246940-713e-4570-aed2-f614ac8f68e6",
   "metadata": {
    "execution": {
     "iopub.execute_input": "2024-08-27T14:20:43.528084Z",
     "iopub.status.busy": "2024-08-27T14:20:43.527246Z",
     "iopub.status.idle": "2024-08-27T14:20:43.532038Z",
     "shell.execute_reply": "2024-08-27T14:20:43.531446Z",
     "shell.execute_reply.started": "2024-08-27T14:20:43.528063Z"
    }
   },
   "outputs": [
    {
     "name": "stdout",
     "output_type": "stream",
     "text": [
      "('z_qnr_1', 'z_qnr_5', 'z_qnr_7', 'z_qnr_16', 'z_qnr_20', 'z_qnr_26', 'z_qnr_28', 'z_qnr_29', 'z_knr_9', 'trafficarea_3', 'r_width_4', 'speedlimit_2', 'speedlimit_4', 'speedlimit_6')\n",
      "14\n",
      "-0.14787659233510794\n"
     ]
    }
   ],
   "source": [
    "# # n = best, linear regression, backward, scoring = neg median aboslute error, cv = 15\n"
   ]
  },
  {
   "cell_type": "code",
   "execution_count": 254,
   "id": "805bf481-fcb5-4208-a1a4-a096ed638996",
   "metadata": {
    "execution": {
     "iopub.execute_input": "2024-08-27T15:21:15.815970Z",
     "iopub.status.busy": "2024-08-27T15:21:15.815627Z",
     "iopub.status.idle": "2024-08-27T15:21:15.821791Z",
     "shell.execute_reply": "2024-08-27T15:21:15.820810Z",
     "shell.execute_reply.started": "2024-08-27T15:21:15.815951Z"
    }
   },
   "outputs": [
    {
     "name": "stdout",
     "output_type": "stream",
     "text": [
      "('z_knr_12', 'trafficarea_1', 'trafficarea_2', 'trafficarea_3', 'r_width_4', 'r_width_6', 'speedlimit_2', 'speedlimit_4', 'speedlimit_6')\n",
      "9\n",
      "-0.12273976660347483\n"
     ]
    }
   ],
   "source": [
    "# # n = best, linear regression, backward, scoring = neg median aboslute error, cv = 20\n"
   ]
  },
  {
   "cell_type": "code",
   "execution_count": 167,
   "id": "976d1b34-d087-484a-bb09-679bc73387c3",
   "metadata": {
    "execution": {
     "iopub.execute_input": "2024-09-20T15:58:43.371875Z",
     "iopub.status.busy": "2024-09-20T15:58:43.371707Z",
     "iopub.status.idle": "2024-09-20T15:59:01.433389Z",
     "shell.execute_reply": "2024-09-20T15:59:01.432703Z",
     "shell.execute_reply.started": "2024-09-20T15:58:43.371860Z"
    }
   },
   "outputs": [
    {
     "name": "stdout",
     "output_type": "stream",
     "text": [
      "('dtrafficarea', 'z_qnr_10', 'trafficarea_2', 'r_width_4', 'r_width_5', 'r_surface_1', 'speedlimit_1', 'speedlimit_3', 'speedlimit_4', 'speedlimit_5')\n",
      "10\n",
      "-0.28187575192075237\n"
     ]
    }
   ],
   "source": [
    "# # n = best, linear regression, backward, scoring = neg mean absolute error, cv = 5\n",
    "sbfslin6 = featureselection_lin(False, 'neg_mean_absolute_error', 5, x, y) \n",
    "print(sbfslin6.k_feature_names_)\n",
    "print(len(sbfslin6.k_feature_names_))\n",
    "print(sbfslin6.k_score_)"
   ]
  },
  {
   "cell_type": "code",
   "execution_count": 168,
   "id": "20006330-64f5-4cc3-8f30-f6e755a5a527",
   "metadata": {
    "execution": {
     "iopub.execute_input": "2024-09-20T15:59:01.434311Z",
     "iopub.status.busy": "2024-09-20T15:59:01.434135Z",
     "iopub.status.idle": "2024-09-20T15:59:26.052208Z",
     "shell.execute_reply": "2024-09-20T15:59:26.051594Z",
     "shell.execute_reply.started": "2024-09-20T15:59:01.434295Z"
    }
   },
   "outputs": [
    {
     "name": "stdout",
     "output_type": "stream",
     "text": [
      "('dplight', 'r_width_value', 'speedlimit_value', 'z_qnr_23', 'z_qnr_26', 'z_knr_4', 'z_knr_9', 'trafficarea_2', 'r_width_3', 'r_width_4', 'r_width_5', 'r_width_6', 'r_surface_1', 'speedlimit_4')\n",
      "14\n",
      "-0.2420524177831998\n"
     ]
    }
   ],
   "source": [
    "# # n = best, linear regression, backward, scoring = neg mean aboslute error, cv = 10\n",
    "sbfslin7 = featureselection_lin(False, 'neg_mean_absolute_error', 10, x, y) \n",
    "print(sbfslin7.k_feature_names_)\n",
    "print(len(sbfslin7.k_feature_names_))\n",
    "print(sbfslin7.k_score_)"
   ]
  },
  {
   "cell_type": "code",
   "execution_count": 169,
   "id": "ee212512-5a78-4b0a-9b13-44cc2796ada9",
   "metadata": {
    "execution": {
     "iopub.execute_input": "2024-09-20T15:59:26.053534Z",
     "iopub.status.busy": "2024-09-20T15:59:26.053365Z",
     "iopub.status.idle": "2024-09-20T15:59:26.056202Z",
     "shell.execute_reply": "2024-09-20T15:59:26.055742Z",
     "shell.execute_reply.started": "2024-09-20T15:59:26.053519Z"
    }
   },
   "outputs": [],
   "source": [
    "# # n = best, linear regression, backward, scoring = neg mean aboslute error, cv = 15\n"
   ]
  },
  {
   "cell_type": "code",
   "execution_count": 170,
   "id": "c641d1c1-ff7e-4ec0-96c9-b50ab0729233",
   "metadata": {
    "execution": {
     "iopub.execute_input": "2024-09-20T15:59:26.056883Z",
     "iopub.status.busy": "2024-09-20T15:59:26.056728Z",
     "iopub.status.idle": "2024-09-20T15:59:26.068200Z",
     "shell.execute_reply": "2024-09-20T15:59:26.067702Z",
     "shell.execute_reply.started": "2024-09-20T15:59:26.056869Z"
    }
   },
   "outputs": [],
   "source": [
    "# n = best, linear regression, backward, scoring = neg mean aboslute error, cv = 20\n"
   ]
  },
  {
   "cell_type": "code",
   "execution_count": 171,
   "id": "f9621fb5-a9e4-4a0c-ad03-23c5df605e57",
   "metadata": {
    "execution": {
     "iopub.execute_input": "2024-09-20T16:00:01.460264Z",
     "iopub.status.busy": "2024-09-20T16:00:01.459963Z",
     "iopub.status.idle": "2024-09-20T16:00:01.464584Z",
     "shell.execute_reply": "2024-09-20T16:00:01.464066Z",
     "shell.execute_reply.started": "2024-09-20T16:00:01.460246Z"
    }
   },
   "outputs": [],
   "source": [
    "selected_columns_linr_sbfs = []\n",
    "selected_columns_linr_sbfs = {'all': cnu,\n",
    "                              'nmse_cv5':list(sbfslin0.k_feature_names_), \n",
    "                              'nmse_cv10':list(sbfslin1.k_feature_names_), \n",
    "                              'r2_cv5':list(sbfslin2.k_feature_names_), \n",
    "                              'r2_cv10':list(sbfslin3.k_feature_names_), \n",
    "                              'nmedae_cv5':list(sbfslin4.k_feature_names_), \n",
    "                              'nmedae_cv10':list(sbfslin5.k_feature_names_),\n",
    "                              'nmeae_cv5':list(sbfslin6.k_feature_names_), \n",
    "                              'nmeae_cv10':list(sbfslin7.k_feature_names_)}"
   ]
  },
  {
   "cell_type": "code",
   "execution_count": 172,
   "id": "4b089fba-ce5e-4166-be85-699efa8fe33c",
   "metadata": {
    "execution": {
     "iopub.execute_input": "2024-09-20T16:00:03.571171Z",
     "iopub.status.busy": "2024-09-20T16:00:03.570753Z",
     "iopub.status.idle": "2024-09-20T16:00:03.576859Z",
     "shell.execute_reply": "2024-09-20T16:00:03.576402Z",
     "shell.execute_reply.started": "2024-09-20T16:00:03.571153Z"
    }
   },
   "outputs": [],
   "source": [
    "df_sf_linr_sbfs = pd.DataFrame(dict([(k,pd.Series(v)) for k,v in selected_columns_linr_sbfs.items()]))"
   ]
  },
  {
   "cell_type": "code",
   "execution_count": 173,
   "id": "9db31abf-c984-4164-9e1d-0a0ecadbff47",
   "metadata": {
    "execution": {
     "iopub.execute_input": "2024-09-20T16:00:09.853261Z",
     "iopub.status.busy": "2024-09-20T16:00:09.852837Z",
     "iopub.status.idle": "2024-09-20T16:00:09.858837Z",
     "shell.execute_reply": "2024-09-20T16:00:09.858126Z",
     "shell.execute_reply.started": "2024-09-20T16:00:09.853243Z"
    }
   },
   "outputs": [],
   "source": [
    "df_sf_linr_sbfs.to_csv('/home/yelhe/script/mtp/tables/updated_sbfs_linearreg.csv', index = True)"
   ]
  },
  {
   "cell_type": "code",
   "execution_count": 188,
   "id": "7ab16cea-b108-4938-87f8-dee24f6ad52f",
   "metadata": {
    "execution": {
     "iopub.execute_input": "2024-09-20T16:02:07.923707Z",
     "iopub.status.busy": "2024-09-20T16:02:07.923104Z",
     "iopub.status.idle": "2024-09-20T16:02:07.926552Z",
     "shell.execute_reply": "2024-09-20T16:02:07.925900Z",
     "shell.execute_reply.started": "2024-09-20T16:02:07.923687Z"
    }
   },
   "outputs": [],
   "source": [
    "sbfs_columns = list(sbfslin7.k_feature_names_)"
   ]
  },
  {
   "cell_type": "code",
   "execution_count": 100,
   "id": "68f34554-c9ac-4206-a43f-e2f74808ef5a",
   "metadata": {
    "execution": {
     "iopub.execute_input": "2024-10-04T16:36:12.020461Z",
     "iopub.status.busy": "2024-10-04T16:36:12.019835Z",
     "iopub.status.idle": "2024-10-04T16:36:12.027371Z",
     "shell.execute_reply": "2024-10-04T16:36:12.026796Z",
     "shell.execute_reply.started": "2024-10-04T16:36:12.020441Z"
    }
   },
   "outputs": [],
   "source": [
    "# df_output = pd.read_csv('/home/yelhe/script/mtp/tables/updated_sbfs_linearreg.csv')"
   ]
  },
  {
   "cell_type": "code",
   "execution_count": 101,
   "id": "f6199d62-a34d-40e9-8c7b-31771dc1a543",
   "metadata": {
    "execution": {
     "iopub.execute_input": "2024-10-04T16:36:12.251469Z",
     "iopub.status.busy": "2024-10-04T16:36:12.250925Z",
     "iopub.status.idle": "2024-10-04T16:36:12.256620Z",
     "shell.execute_reply": "2024-10-04T16:36:12.255839Z",
     "shell.execute_reply.started": "2024-10-04T16:36:12.251446Z"
    }
   },
   "outputs": [
    {
     "data": {
      "text/plain": [
       "Index(['Unnamed: 0', 'all', 'nmse_cv5', 'nmse_cv10', 'r2_cv5', 'r2_cv10',\n",
       "       'nmedae_cv5', 'nmedae_cv10', 'nmeae_cv5', 'nmeae_cv10'],\n",
       "      dtype='object')"
      ]
     },
     "execution_count": 101,
     "metadata": {},
     "output_type": "execute_result"
    }
   ],
   "source": [
    "# df_output.columns"
   ]
  },
  {
   "cell_type": "code",
   "execution_count": 102,
   "id": "5de930bc-c41e-4ee1-a8ce-67ecdb663150",
   "metadata": {
    "execution": {
     "iopub.execute_input": "2024-10-04T16:36:12.529104Z",
     "iopub.status.busy": "2024-10-04T16:36:12.528446Z",
     "iopub.status.idle": "2024-10-04T16:36:12.532660Z",
     "shell.execute_reply": "2024-10-04T16:36:12.531709Z",
     "shell.execute_reply.started": "2024-10-04T16:36:12.529081Z"
    }
   },
   "outputs": [],
   "source": [
    "# prsq_lin_sffs = []\n",
    "# prsq_lin_sbfs = []"
   ]
  },
  {
   "cell_type": "code",
   "execution_count": 131,
   "id": "ce0c5c03-216e-4cec-ab7e-bbc0b8a661e1",
   "metadata": {
    "execution": {
     "iopub.execute_input": "2024-10-04T16:37:30.298080Z",
     "iopub.status.busy": "2024-10-04T16:37:30.297510Z",
     "iopub.status.idle": "2024-10-04T16:37:30.303144Z",
     "shell.execute_reply": "2024-10-04T16:37:30.302175Z",
     "shell.execute_reply.started": "2024-10-04T16:37:30.298061Z"
    }
   },
   "outputs": [],
   "source": [
    "\n",
    "\n",
    "# ## For sffs\n",
    "# l = list(df_output['nmeae_cv10'].dropna())\n",
    "\n",
    "# # x_selected\n",
    "# xs = dfacrpv[l]"
   ]
  },
  {
   "cell_type": "code",
   "execution_count": 132,
   "id": "bb2ba1f6-55cf-4a01-af58-72f17038bb0b",
   "metadata": {
    "execution": {
     "iopub.execute_input": "2024-10-04T16:37:30.452863Z",
     "iopub.status.busy": "2024-10-04T16:37:30.452346Z",
     "iopub.status.idle": "2024-10-04T16:37:30.484719Z",
     "shell.execute_reply": "2024-10-04T16:37:30.484225Z",
     "shell.execute_reply.started": "2024-10-04T16:37:30.452843Z"
    },
    "scrolled": true
   },
   "outputs": [
    {
     "data": {
      "text/html": [
       "<table class=\"simpletable\">\n",
       "<caption>OLS Regression Results</caption>\n",
       "<tr>\n",
       "  <th>Dep. Variable:</th>           <td>acp</td>       <th>  R-squared:         </th> <td>   0.510</td> \n",
       "</tr>\n",
       "<tr>\n",
       "  <th>Model:</th>                   <td>OLS</td>       <th>  Adj. R-squared:    </th> <td>   0.503</td> \n",
       "</tr>\n",
       "<tr>\n",
       "  <th>Method:</th>             <td>Least Squares</td>  <th>  F-statistic:       </th> <td>   79.61</td> \n",
       "</tr>\n",
       "<tr>\n",
       "  <th>Date:</th>             <td>Fri, 04 Oct 2024</td> <th>  Prob (F-statistic):</th> <td>7.28e-155</td>\n",
       "</tr>\n",
       "<tr>\n",
       "  <th>Time:</th>                 <td>18:37:30</td>     <th>  Log-Likelihood:    </th> <td> -274.08</td> \n",
       "</tr>\n",
       "<tr>\n",
       "  <th>No. Observations:</th>      <td>  1087</td>      <th>  AIC:               </th> <td>   578.2</td> \n",
       "</tr>\n",
       "<tr>\n",
       "  <th>Df Residuals:</th>          <td>  1072</td>      <th>  BIC:               </th> <td>   653.0</td> \n",
       "</tr>\n",
       "<tr>\n",
       "  <th>Df Model:</th>              <td>    14</td>      <th>                     </th>     <td> </td>    \n",
       "</tr>\n",
       "<tr>\n",
       "  <th>Covariance Type:</th>      <td>nonrobust</td>    <th>                     </th>     <td> </td>    \n",
       "</tr>\n",
       "</table>\n",
       "<table class=\"simpletable\">\n",
       "<tr>\n",
       "          <td></td>            <th>coef</th>     <th>std err</th>      <th>t</th>      <th>P>|t|</th>  <th>[0.025</th>    <th>0.975]</th>  \n",
       "</tr>\n",
       "<tr>\n",
       "  <th>const</th>            <td>   -0.3365</td> <td>    0.070</td> <td>   -4.815</td> <td> 0.000</td> <td>   -0.474</td> <td>   -0.199</td>\n",
       "</tr>\n",
       "<tr>\n",
       "  <th>dplight</th>          <td>    0.0138</td> <td>    0.010</td> <td>    1.390</td> <td> 0.165</td> <td>   -0.006</td> <td>    0.033</td>\n",
       "</tr>\n",
       "<tr>\n",
       "  <th>r_width_value</th>    <td>   -0.0917</td> <td>    0.019</td> <td>   -4.732</td> <td> 0.000</td> <td>   -0.130</td> <td>   -0.054</td>\n",
       "</tr>\n",
       "<tr>\n",
       "  <th>speedlimit_value</th> <td>   -0.0821</td> <td>    0.011</td> <td>   -7.253</td> <td> 0.000</td> <td>   -0.104</td> <td>   -0.060</td>\n",
       "</tr>\n",
       "<tr>\n",
       "  <th>z_qnr_23</th>         <td>   -0.2385</td> <td>    0.070</td> <td>   -3.388</td> <td> 0.001</td> <td>   -0.377</td> <td>   -0.100</td>\n",
       "</tr>\n",
       "<tr>\n",
       "  <th>z_qnr_26</th>         <td>   -0.2785</td> <td>    0.098</td> <td>   -2.841</td> <td> 0.005</td> <td>   -0.471</td> <td>   -0.086</td>\n",
       "</tr>\n",
       "<tr>\n",
       "  <th>z_knr_4</th>          <td>    0.2378</td> <td>    0.034</td> <td>    6.982</td> <td> 0.000</td> <td>    0.171</td> <td>    0.305</td>\n",
       "</tr>\n",
       "<tr>\n",
       "  <th>z_knr_9</th>          <td>    0.2139</td> <td>    0.033</td> <td>    6.388</td> <td> 0.000</td> <td>    0.148</td> <td>    0.280</td>\n",
       "</tr>\n",
       "<tr>\n",
       "  <th>trafficarea_2</th>    <td>   -0.2257</td> <td>    0.038</td> <td>   -5.913</td> <td> 0.000</td> <td>   -0.301</td> <td>   -0.151</td>\n",
       "</tr>\n",
       "<tr>\n",
       "  <th>r_width_3</th>        <td>    0.1765</td> <td>    0.047</td> <td>    3.741</td> <td> 0.000</td> <td>    0.084</td> <td>    0.269</td>\n",
       "</tr>\n",
       "<tr>\n",
       "  <th>r_width_4</th>        <td>    0.1781</td> <td>    0.035</td> <td>    5.041</td> <td> 0.000</td> <td>    0.109</td> <td>    0.247</td>\n",
       "</tr>\n",
       "<tr>\n",
       "  <th>r_width_5</th>        <td>    0.2076</td> <td>    0.037</td> <td>    5.652</td> <td> 0.000</td> <td>    0.136</td> <td>    0.280</td>\n",
       "</tr>\n",
       "<tr>\n",
       "  <th>r_width_6</th>        <td>    0.1797</td> <td>    0.043</td> <td>    4.192</td> <td> 0.000</td> <td>    0.096</td> <td>    0.264</td>\n",
       "</tr>\n",
       "<tr>\n",
       "  <th>r_surface_1</th>      <td>    0.3681</td> <td>    0.065</td> <td>    5.667</td> <td> 0.000</td> <td>    0.241</td> <td>    0.495</td>\n",
       "</tr>\n",
       "<tr>\n",
       "  <th>speedlimit_4</th>     <td>    0.7182</td> <td>    0.028</td> <td>   25.208</td> <td> 0.000</td> <td>    0.662</td> <td>    0.774</td>\n",
       "</tr>\n",
       "</table>\n",
       "<table class=\"simpletable\">\n",
       "<tr>\n",
       "  <th>Omnibus:</th>       <td>162.499</td> <th>  Durbin-Watson:     </th> <td>   0.834</td>\n",
       "</tr>\n",
       "<tr>\n",
       "  <th>Prob(Omnibus):</th> <td> 0.000</td>  <th>  Jarque-Bera (JB):  </th> <td> 293.176</td>\n",
       "</tr>\n",
       "<tr>\n",
       "  <th>Skew:</th>          <td> 0.926</td>  <th>  Prob(JB):          </th> <td>2.18e-64</td>\n",
       "</tr>\n",
       "<tr>\n",
       "  <th>Kurtosis:</th>      <td> 4.744</td>  <th>  Cond. No.          </th> <td>    15.5</td>\n",
       "</tr>\n",
       "</table><br/><br/>Notes:<br/>[1] Standard Errors assume that the covariance matrix of the errors is correctly specified."
      ],
      "text/latex": [
       "\\begin{center}\n",
       "\\begin{tabular}{lclc}\n",
       "\\toprule\n",
       "\\textbf{Dep. Variable:}    &       acp        & \\textbf{  R-squared:         } &     0.510   \\\\\n",
       "\\textbf{Model:}            &       OLS        & \\textbf{  Adj. R-squared:    } &     0.503   \\\\\n",
       "\\textbf{Method:}           &  Least Squares   & \\textbf{  F-statistic:       } &     79.61   \\\\\n",
       "\\textbf{Date:}             & Fri, 04 Oct 2024 & \\textbf{  Prob (F-statistic):} & 7.28e-155   \\\\\n",
       "\\textbf{Time:}             &     18:37:30     & \\textbf{  Log-Likelihood:    } &   -274.08   \\\\\n",
       "\\textbf{No. Observations:} &        1087      & \\textbf{  AIC:               } &     578.2   \\\\\n",
       "\\textbf{Df Residuals:}     &        1072      & \\textbf{  BIC:               } &     653.0   \\\\\n",
       "\\textbf{Df Model:}         &          14      & \\textbf{                     } &             \\\\\n",
       "\\textbf{Covariance Type:}  &    nonrobust     & \\textbf{                     } &             \\\\\n",
       "\\bottomrule\n",
       "\\end{tabular}\n",
       "\\begin{tabular}{lcccccc}\n",
       "                           & \\textbf{coef} & \\textbf{std err} & \\textbf{t} & \\textbf{P$> |$t$|$} & \\textbf{[0.025} & \\textbf{0.975]}  \\\\\n",
       "\\midrule\n",
       "\\textbf{const}             &      -0.3365  &        0.070     &    -4.815  &         0.000        &       -0.474    &       -0.199     \\\\\n",
       "\\textbf{dplight}           &       0.0138  &        0.010     &     1.390  &         0.165        &       -0.006    &        0.033     \\\\\n",
       "\\textbf{r\\_width\\_value}   &      -0.0917  &        0.019     &    -4.732  &         0.000        &       -0.130    &       -0.054     \\\\\n",
       "\\textbf{speedlimit\\_value} &      -0.0821  &        0.011     &    -7.253  &         0.000        &       -0.104    &       -0.060     \\\\\n",
       "\\textbf{z\\_qnr\\_23}        &      -0.2385  &        0.070     &    -3.388  &         0.001        &       -0.377    &       -0.100     \\\\\n",
       "\\textbf{z\\_qnr\\_26}        &      -0.2785  &        0.098     &    -2.841  &         0.005        &       -0.471    &       -0.086     \\\\\n",
       "\\textbf{z\\_knr\\_4}         &       0.2378  &        0.034     &     6.982  &         0.000        &        0.171    &        0.305     \\\\\n",
       "\\textbf{z\\_knr\\_9}         &       0.2139  &        0.033     &     6.388  &         0.000        &        0.148    &        0.280     \\\\\n",
       "\\textbf{trafficarea\\_2}    &      -0.2257  &        0.038     &    -5.913  &         0.000        &       -0.301    &       -0.151     \\\\\n",
       "\\textbf{r\\_width\\_3}       &       0.1765  &        0.047     &     3.741  &         0.000        &        0.084    &        0.269     \\\\\n",
       "\\textbf{r\\_width\\_4}       &       0.1781  &        0.035     &     5.041  &         0.000        &        0.109    &        0.247     \\\\\n",
       "\\textbf{r\\_width\\_5}       &       0.2076  &        0.037     &     5.652  &         0.000        &        0.136    &        0.280     \\\\\n",
       "\\textbf{r\\_width\\_6}       &       0.1797  &        0.043     &     4.192  &         0.000        &        0.096    &        0.264     \\\\\n",
       "\\textbf{r\\_surface\\_1}     &       0.3681  &        0.065     &     5.667  &         0.000        &        0.241    &        0.495     \\\\\n",
       "\\textbf{speedlimit\\_4}     &       0.7182  &        0.028     &    25.208  &         0.000        &        0.662    &        0.774     \\\\\n",
       "\\bottomrule\n",
       "\\end{tabular}\n",
       "\\begin{tabular}{lclc}\n",
       "\\textbf{Omnibus:}       & 162.499 & \\textbf{  Durbin-Watson:     } &    0.834  \\\\\n",
       "\\textbf{Prob(Omnibus):} &   0.000 & \\textbf{  Jarque-Bera (JB):  } &  293.176  \\\\\n",
       "\\textbf{Skew:}          &   0.926 & \\textbf{  Prob(JB):          } & 2.18e-64  \\\\\n",
       "\\textbf{Kurtosis:}      &   4.744 & \\textbf{  Cond. No.          } &     15.5  \\\\\n",
       "\\bottomrule\n",
       "\\end{tabular}\n",
       "%\\caption{OLS Regression Results}\n",
       "\\end{center}\n",
       "\n",
       "Notes: \\newline\n",
       " [1] Standard Errors assume that the covariance matrix of the errors is correctly specified."
      ],
      "text/plain": [
       "<class 'statsmodels.iolib.summary.Summary'>\n",
       "\"\"\"\n",
       "                            OLS Regression Results                            \n",
       "==============================================================================\n",
       "Dep. Variable:                    acp   R-squared:                       0.510\n",
       "Model:                            OLS   Adj. R-squared:                  0.503\n",
       "Method:                 Least Squares   F-statistic:                     79.61\n",
       "Date:                Fri, 04 Oct 2024   Prob (F-statistic):          7.28e-155\n",
       "Time:                        18:37:30   Log-Likelihood:                -274.08\n",
       "No. Observations:                1087   AIC:                             578.2\n",
       "Df Residuals:                    1072   BIC:                             653.0\n",
       "Df Model:                          14                                         \n",
       "Covariance Type:            nonrobust                                         \n",
       "====================================================================================\n",
       "                       coef    std err          t      P>|t|      [0.025      0.975]\n",
       "------------------------------------------------------------------------------------\n",
       "const               -0.3365      0.070     -4.815      0.000      -0.474      -0.199\n",
       "dplight              0.0138      0.010      1.390      0.165      -0.006       0.033\n",
       "r_width_value       -0.0917      0.019     -4.732      0.000      -0.130      -0.054\n",
       "speedlimit_value    -0.0821      0.011     -7.253      0.000      -0.104      -0.060\n",
       "z_qnr_23            -0.2385      0.070     -3.388      0.001      -0.377      -0.100\n",
       "z_qnr_26            -0.2785      0.098     -2.841      0.005      -0.471      -0.086\n",
       "z_knr_4              0.2378      0.034      6.982      0.000       0.171       0.305\n",
       "z_knr_9              0.2139      0.033      6.388      0.000       0.148       0.280\n",
       "trafficarea_2       -0.2257      0.038     -5.913      0.000      -0.301      -0.151\n",
       "r_width_3            0.1765      0.047      3.741      0.000       0.084       0.269\n",
       "r_width_4            0.1781      0.035      5.041      0.000       0.109       0.247\n",
       "r_width_5            0.2076      0.037      5.652      0.000       0.136       0.280\n",
       "r_width_6            0.1797      0.043      4.192      0.000       0.096       0.264\n",
       "r_surface_1          0.3681      0.065      5.667      0.000       0.241       0.495\n",
       "speedlimit_4         0.7182      0.028     25.208      0.000       0.662       0.774\n",
       "==============================================================================\n",
       "Omnibus:                      162.499   Durbin-Watson:                   0.834\n",
       "Prob(Omnibus):                  0.000   Jarque-Bera (JB):              293.176\n",
       "Skew:                           0.926   Prob(JB):                     2.18e-64\n",
       "Kurtosis:                       4.744   Cond. No.                         15.5\n",
       "==============================================================================\n",
       "\n",
       "Notes:\n",
       "[1] Standard Errors assume that the covariance matrix of the errors is correctly specified.\n",
       "\"\"\""
      ]
     },
     "execution_count": 132,
     "metadata": {},
     "output_type": "execute_result"
    }
   ],
   "source": [
    "# # OLS\n",
    "# xs_const = tools.add_constant(xs) \n",
    "# # X_train, X_test, y_train, y_test = train_test_split(\n",
    "# #         df_selected, y,\n",
    "# #         test_size=0.3,\n",
    "# #         random_state=0)\n",
    "\n",
    "# m1 = sm.OLS(y, xs_const)\n",
    "# r1 = m1.fit()\n",
    "# r1.summary()"
   ]
  },
  {
   "cell_type": "code",
   "execution_count": 133,
   "id": "235fb07e-eabe-431a-9a01-4c1fb465dfed",
   "metadata": {
    "execution": {
     "iopub.execute_input": "2024-10-04T16:37:30.635742Z",
     "iopub.status.busy": "2024-10-04T16:37:30.635161Z",
     "iopub.status.idle": "2024-10-04T16:37:30.638979Z",
     "shell.execute_reply": "2024-10-04T16:37:30.638292Z",
     "shell.execute_reply.started": "2024-10-04T16:37:30.635723Z"
    }
   },
   "outputs": [],
   "source": [
    "# prsq_lin_sbfs.append(r1.rsquared_adj)"
   ]
  },
  {
   "cell_type": "code",
   "execution_count": 134,
   "id": "a35a3f70-8b06-4de9-b102-c2c8a7b7587a",
   "metadata": {
    "execution": {
     "iopub.execute_input": "2024-10-04T16:37:30.877239Z",
     "iopub.status.busy": "2024-10-04T16:37:30.876793Z",
     "iopub.status.idle": "2024-10-04T16:37:30.881353Z",
     "shell.execute_reply": "2024-10-04T16:37:30.880751Z",
     "shell.execute_reply.started": "2024-10-04T16:37:30.877219Z"
    }
   },
   "outputs": [
    {
     "data": {
      "text/plain": [
       "[0.46863270188062633,\n",
       " 0.5228831125625122,\n",
       " 0.5083388939077372,\n",
       " 0.539473692009008,\n",
       " 0.4665037273438992,\n",
       " 0.47415516300643146,\n",
       " 0.46239446930329153,\n",
       " 0.5033154652889078]"
      ]
     },
     "execution_count": 134,
     "metadata": {},
     "output_type": "execute_result"
    }
   ],
   "source": [
    "prsq_lin_sbfs"
   ]
  },
  {
   "cell_type": "code",
   "execution_count": 96,
   "id": "522cf8e3-c592-415d-ae7e-bfa1050ad2d9",
   "metadata": {
    "execution": {
     "iopub.execute_input": "2024-10-04T16:34:03.921304Z",
     "iopub.status.busy": "2024-10-04T16:34:03.920750Z",
     "iopub.status.idle": "2024-10-04T16:34:03.926185Z",
     "shell.execute_reply": "2024-10-04T16:34:03.925481Z",
     "shell.execute_reply.started": "2024-10-04T16:34:03.921283Z"
    }
   },
   "outputs": [
    {
     "data": {
      "text/plain": [
       "[0.46863270188062633,\n",
       " 0.5170176533771211,\n",
       " 0.5083388939077372,\n",
       " 0.5299324651839028,\n",
       " 0.42039652784715786,\n",
       " 0.47415516300643146,\n",
       " 0.46239446930329153,\n",
       " 0.5033154652889078]"
      ]
     },
     "execution_count": 96,
     "metadata": {},
     "output_type": "execute_result"
    }
   ],
   "source": [
    "prsq_lin_sffs"
   ]
  },
  {
   "cell_type": "markdown",
   "id": "8119ef0e-78b5-4b8e-83f5-7256197ead1a",
   "metadata": {},
   "source": [
    "## Logistic Regression model"
   ]
  },
  {
   "cell_type": "markdown",
   "id": "4181e345-e803-42e2-acf6-a83a0bb6fdb3",
   "metadata": {},
   "source": [
    "### Sequential forward floating selection"
   ]
  },
  {
   "cell_type": "code",
   "execution_count": 185,
   "id": "8e1d9bac-c622-4f7b-959d-8c911c0d7144",
   "metadata": {
    "execution": {
     "iopub.execute_input": "2024-10-28T17:57:29.409052Z",
     "iopub.status.busy": "2024-10-28T17:57:29.408758Z",
     "iopub.status.idle": "2024-10-28T17:57:54.181587Z",
     "shell.execute_reply": "2024-10-28T17:57:54.180858Z",
     "shell.execute_reply.started": "2024-10-28T17:57:29.409031Z"
    }
   },
   "outputs": [
    {
     "name": "stdout",
     "output_type": "stream",
     "text": [
      "('cmean', 'cmin', 'mew', 'meg', 'megmax', 'dbusl', 'dtraml', 'dtrainl', 'dplight', 'dstation', 'dparktw', 'dpedcro', 'dstopsign', 'dtrafficarea', 'droad', 'dvfpath', 'gvm_dwv', 'r_width_value', 'speedlimit_value', 'bicyclecount', 'carcount', 'z_qnr_2', 'z_qnr_3', 'z_qnr_4', 'z_qnr_5', 'z_qnr_6', 'z_qnr_8', 'z_qnr_9', 'z_qnr_10', 'z_qnr_13', 'z_qnr_14', 'z_qnr_15', 'z_qnr_17', 'z_qnr_18', 'z_qnr_19', 'z_qnr_20', 'z_qnr_22', 'z_qnr_24', 'z_qnr_25', 'z_qnr_28', 'z_knr_1', 'z_knr_3', 'z_knr_7', 'z_knr_8', 'z_knr_11', 'trafficarea_1', 'r_width_2', 'r_width_3', 'r_width_4', 'r_width_6', 'speedlimit_1')\n",
      "51\n",
      "0.8745762711864407\n"
     ]
    }
   ],
   "source": [
    "# # n = best, logistic regression, scoring = accuracy, cv = 5\n",
    "sffslog0 = featureselection_log(True, 'accuracy', 5, x, y)\n",
    "print(sffslog0.k_feature_names_)\n",
    "print(len(sffslog0.k_feature_names_))\n",
    "print(sffslog0.k_score_)\n"
   ]
  },
  {
   "cell_type": "code",
   "execution_count": 53,
   "id": "6d0bd756-a9e2-4f53-ae68-ff60abfde9b7",
   "metadata": {
    "execution": {
     "iopub.execute_input": "2024-10-22T06:18:28.191830Z",
     "iopub.status.busy": "2024-10-22T06:18:28.191536Z",
     "iopub.status.idle": "2024-10-22T06:21:11.375989Z",
     "shell.execute_reply": "2024-10-22T06:21:11.374979Z",
     "shell.execute_reply.started": "2024-10-22T06:18:28.191803Z"
    }
   },
   "outputs": [
    {
     "name": "stdout",
     "output_type": "stream",
     "text": [
      "('cmean', 'cmin', 'ie', 'mew', 'meg', 'megmax', 'dbusl', 'dtraml', 'dtrainl', 'dplight', 'dstation', 'dpedcro', 'dstopsign', 'dtrafficarea', 'droad', 'dvfpath', 'gvm_dwv', 'bicyclecount', 'z_qnr_2', 'z_qnr_3', 'z_qnr_4', 'z_qnr_5', 'z_qnr_6', 'z_qnr_7', 'z_qnr_9', 'z_qnr_10', 'z_qnr_11', 'z_qnr_12', 'z_qnr_13', 'z_qnr_14', 'z_qnr_15', 'z_qnr_16', 'z_qnr_23', 'z_qnr_24', 'z_qnr_25', 'z_qnr_26', 'z_qnr_27', 'z_qnr_28', 'z_qnr_29', 'z_qnr_30', 'z_qnr_31', 'z_qnr_32', 'z_knr_2', 'z_knr_3', 'trafficarea_2', 'r_width_1', 'r_width_2', 'r_width_5', 'speedlimit_1', 'speedlimit_4', 'speedlimit_5')\n",
      "51\n",
      "0.8656048250084947\n"
     ]
    }
   ],
   "source": [
    "# n = best, logistic regression, scoring = accuracy, cv = 10\n",
    "sffslog1 = featureselection_log(True, 'accuracy', 10, x, y)\n",
    "print(sffslog1.k_feature_names_)\n",
    "print(len(sffslog1.k_feature_names_))\n",
    "print(sffslog1.k_score_)\n"
   ]
  },
  {
   "cell_type": "code",
   "execution_count": 54,
   "id": "e4da62a2-8d77-4684-aa1f-b66108a5b8bd",
   "metadata": {
    "execution": {
     "iopub.execute_input": "2024-10-22T06:21:11.377473Z",
     "iopub.status.busy": "2024-10-22T06:21:11.377208Z",
     "iopub.status.idle": "2024-10-22T06:21:11.382135Z",
     "shell.execute_reply": "2024-10-22T06:21:11.381361Z",
     "shell.execute_reply.started": "2024-10-22T06:21:11.377448Z"
    }
   },
   "outputs": [],
   "source": [
    "# # # n = best, logistic regression, scoring = accuracy, cv = 15\n",
    "# sffslog2 = featureselection_log(True, 'accuracy', 15, x, y)\n",
    "# print(sffslog2.k_feature_names_)\n",
    "# print(len(sffslog2.k_feature_names_))\n",
    "# print(sffslog2.k_score_)"
   ]
  },
  {
   "cell_type": "code",
   "execution_count": 55,
   "id": "7060cdc0-3553-47b4-96dc-7d51c40089c3",
   "metadata": {
    "execution": {
     "iopub.execute_input": "2024-10-22T06:21:11.384292Z",
     "iopub.status.busy": "2024-10-22T06:21:11.384034Z",
     "iopub.status.idle": "2024-10-22T06:21:11.403644Z",
     "shell.execute_reply": "2024-10-22T06:21:11.402910Z",
     "shell.execute_reply.started": "2024-10-22T06:21:11.384270Z"
    }
   },
   "outputs": [],
   "source": [
    "# # # n = best, logistic regression, scoring = accuracy, cv = 20\n",
    "# sffslog3 = featureselection_log(True, 'accuracy', 20, x, y)\n",
    "# print(sffslog3.k_feature_names_)\n",
    "# print(len(sffslog3.k_feature_names_))\n",
    "# print(sffslog3.k_score_)\n",
    "# #"
   ]
  },
  {
   "cell_type": "code",
   "execution_count": 56,
   "id": "41f0ebb4-455f-4303-a55a-7077445892d9",
   "metadata": {
    "execution": {
     "iopub.execute_input": "2024-10-22T06:21:11.404682Z",
     "iopub.status.busy": "2024-10-22T06:21:11.404447Z",
     "iopub.status.idle": "2024-10-22T06:23:11.118731Z",
     "shell.execute_reply": "2024-10-22T06:23:11.117664Z",
     "shell.execute_reply.started": "2024-10-22T06:21:11.404660Z"
    }
   },
   "outputs": [
    {
     "name": "stdout",
     "output_type": "stream",
     "text": [
      "('cmean', 'cmin', 'ie', 'mew', 'meg', 'megmax', 'dbusl', 'dtraml', 'dplight', 'dstation', 'dparkcar', 'dparktw', 'dpedcro', 'dtrafficarea', 'droad', 'dvfpath', 'gvm_dwv', 'r_width_value', 'z_qnr_1', 'z_qnr_2', 'z_qnr_3', 'z_qnr_4', 'z_qnr_5', 'z_qnr_6', 'z_qnr_7', 'z_qnr_10', 'z_qnr_11', 'z_qnr_14', 'z_qnr_16', 'z_qnr_17', 'z_qnr_20', 'z_qnr_22', 'z_qnr_23', 'z_qnr_28', 'z_qnr_29', 'z_qnr_30', 'z_qnr_31', 'z_qnr_32', 'z_knr_4', 'z_knr_5', 'z_knr_10', 'trafficarea_2', 'r_width_1', 'r_width_2', 'r_width_5', 'r_width_6', 'r_surface_1', 'speedlimit_1', 'speedlimit_4', 'speedlimit_5')\n",
      "50\n",
      "0.7078221869009644\n"
     ]
    }
   ],
   "source": [
    "# # n = best, logistic regression, scoring = f1, cv = 5\n",
    "sffslog2 = featureselection_log(True, 'f1', 5, x, y)\n",
    "print(sffslog2.k_feature_names_)\n",
    "print(len(sffslog2.k_feature_names_))\n",
    "print(sffslog2.k_score_)\n"
   ]
  },
  {
   "cell_type": "code",
   "execution_count": 57,
   "id": "5e1b14ae-d40e-484c-a3b5-3049f2f081d4",
   "metadata": {
    "execution": {
     "iopub.execute_input": "2024-10-22T06:23:11.120396Z",
     "iopub.status.busy": "2024-10-22T06:23:11.120092Z",
     "iopub.status.idle": "2024-10-22T06:27:31.376162Z",
     "shell.execute_reply": "2024-10-22T06:27:31.375128Z",
     "shell.execute_reply.started": "2024-10-22T06:23:11.120364Z"
    }
   },
   "outputs": [
    {
     "name": "stdout",
     "output_type": "stream",
     "text": [
      "('cmean', 'cmin', 'ie', 'mew', 'meg', 'megmax', 'dtraml', 'dplight', 'dstation', 'dparkcar', 'dparktw', 'dpedcro', 'dstopsign', 'dtrafficarea', 'droad', 'dvfpath', 'gvm_dwv', 'carcount', 'r_width_value', 'speedlimit_value', 'z_qnr_2', 'z_qnr_3', 'z_qnr_4', 'z_qnr_5', 'z_qnr_6', 'z_qnr_7', 'z_qnr_8', 'z_qnr_10', 'z_qnr_11', 'z_qnr_12', 'z_qnr_15', 'z_qnr_16', 'z_qnr_19', 'z_qnr_20', 'z_qnr_22', 'z_qnr_23', 'z_qnr_29', 'z_qnr_30', 'z_qnr_31', 'z_knr_3', 'z_knr_4', 'z_knr_5', 'z_knr_10', 'trafficarea_2', 'r_width_2', 'r_width_4', 'r_width_5', 'r_width_6', 'r_surface_1', 'speedlimit_4', 'speedlimit_5')\n",
      "51\n",
      "0.7104828365703021\n"
     ]
    }
   ],
   "source": [
    "# # n = best, logistic regression, scoring = f1, cv = 10\n",
    "sffslog3 = featureselection_log(True, 'f1', 10, x, y)\n",
    "print(sffslog3.k_feature_names_)\n",
    "print(len(sffslog3.k_feature_names_))\n",
    "print(sffslog3.k_score_)\n"
   ]
  },
  {
   "cell_type": "code",
   "execution_count": 58,
   "id": "f74ba2c9-abd3-4a3a-8609-3d261fd86f63",
   "metadata": {
    "execution": {
     "iopub.execute_input": "2024-10-22T06:27:31.378063Z",
     "iopub.status.busy": "2024-10-22T06:27:31.377763Z",
     "iopub.status.idle": "2024-10-22T06:27:31.382214Z",
     "shell.execute_reply": "2024-10-22T06:27:31.380932Z",
     "shell.execute_reply.started": "2024-10-22T06:27:31.378035Z"
    }
   },
   "outputs": [],
   "source": [
    "# # # n = best, logistic regression, scoring = f1, cv = 15\n",
    "# sffslog6 = featureselection_log(True, 'f1', 15, x, y)\n",
    "# print(sffslog6.k_feature_names_)\n",
    "# print(len(sffslog6.k_feature_names_))\n",
    "# print(sffslog6.k_score_)\n",
    "# #"
   ]
  },
  {
   "cell_type": "code",
   "execution_count": 59,
   "id": "8d613987-c8c6-4cf4-9bcb-7b443f124fea",
   "metadata": {
    "execution": {
     "iopub.execute_input": "2024-10-22T06:27:31.383741Z",
     "iopub.status.busy": "2024-10-22T06:27:31.383457Z",
     "iopub.status.idle": "2024-10-22T06:27:31.400979Z",
     "shell.execute_reply": "2024-10-22T06:27:31.399879Z",
     "shell.execute_reply.started": "2024-10-22T06:27:31.383717Z"
    }
   },
   "outputs": [],
   "source": [
    "# # # n = best, logistic regression, scoring = f1, cv = 20\n",
    "# sffslog7 = featureselection_log(True, 'f1', 20, x, y)\n",
    "# print(sffslog7.k_feature_names_)\n",
    "# print(len(sffslog7.k_feature_names_))\n",
    "# print(sffslog7.k_score_)\n",
    "# #"
   ]
  },
  {
   "cell_type": "code",
   "execution_count": 299,
   "id": "3aad7d05-3ff4-4720-840d-6f966e961e63",
   "metadata": {
    "execution": {
     "iopub.execute_input": "2024-10-25T14:57:01.155626Z",
     "iopub.status.busy": "2024-10-25T14:57:01.155176Z",
     "iopub.status.idle": "2024-10-25T14:57:01.157973Z",
     "shell.execute_reply": "2024-10-25T14:57:01.157536Z",
     "shell.execute_reply.started": "2024-10-25T14:57:01.155610Z"
    },
    "scrolled": true
   },
   "outputs": [],
   "source": [
    "# n = best, logistic regression, scoring = precision, cv = 5\n",
    "# sffslog4 = featureselection_log(True, 'precision', 5, x, y)\n",
    "# print(sffslog4.k_feature_names_)\n",
    "# print(len(sffslog4.k_feature_names_))\n",
    "# print(sffslog4.k_score_)\n",
    "# ('cmean', 'cmin', 'ie', 'mew', 'meg', 'megmax', 'dbusl', 'dtraml', 'dtrainl', 'dplight', 'dstation', 'dparkcar', 'dpedcro', 'dstopsign', 'dvfpath', 'bicyclecount', 'carcount', 'z_qnr_1', 'z_qnr_2', 'z_qnr_4', 'z_qnr_6', 'z_qnr_13', 'z_qnr_14', 'z_qnr_22', 'z_knr_10', 'trafficarea_2', 'speedlimit_4')\n",
    "# 27\n",
    "# 0.8925816112608566"
   ]
  },
  {
   "cell_type": "code",
   "execution_count": 298,
   "id": "01c15fb9-50c9-457e-a3a8-1e4cadaca9db",
   "metadata": {
    "execution": {
     "iopub.execute_input": "2024-10-25T14:56:49.671260Z",
     "iopub.status.busy": "2024-10-25T14:56:49.670634Z",
     "iopub.status.idle": "2024-10-25T14:56:49.673883Z",
     "shell.execute_reply": "2024-10-25T14:56:49.673335Z",
     "shell.execute_reply.started": "2024-10-25T14:56:49.671242Z"
    },
    "scrolled": true
   },
   "outputs": [],
   "source": [
    "# # # # n = best, logistic regression, scoring = precision, cv = 10\n",
    "# sffslog5 = featureselection_log(True, 'precision', 10, x, y)\n",
    "# print(sffslog5.k_feature_names_)\n",
    "# print(len(sffslog5.k_feature_names_))\n",
    "# print(sffslog5.k_score_)\n",
    "# ('cmean', 'cmin', 'ie', 'mew', 'meg', 'megmax', 'dbusl', 'dtraml', 'dtrainl', 'dplight', 'dstation', 'dparktw', 'dpedcro', 'dstopsign', 'dtrafficarea', 'droad', 'gvm_dwv', 'bicyclecount', 'carcount', 'z_qnr_2', 'z_qnr_3', 'z_qnr_4', 'z_qnr_6', 'z_qnr_9', 'z_qnr_10', 'z_qnr_12', 'z_qnr_13', 'z_qnr_15', 'z_qnr_16', 'z_qnr_23', 'z_qnr_24', 'z_qnr_25', 'z_qnr_26', 'z_qnr_27', 'z_qnr_28', 'z_qnr_29', 'z_qnr_30', 'z_qnr_31', 'z_qnr_32', 'z_knr_2', 'trafficarea_2', 'r_width_5', 'r_width_6', 'r_surface_1', 'speedlimit_1', 'speedlimit_4', 'speedlimit_5')\n",
    "# 47\n",
    "# 0.8915503341687552"
   ]
  },
  {
   "cell_type": "code",
   "execution_count": 62,
   "id": "5a6918cf-1d2a-45f8-8501-477766345f64",
   "metadata": {
    "execution": {
     "iopub.execute_input": "2024-10-22T06:31:51.268452Z",
     "iopub.status.busy": "2024-10-22T06:31:51.267930Z",
     "iopub.status.idle": "2024-10-22T06:31:51.272290Z",
     "shell.execute_reply": "2024-10-22T06:31:51.271498Z",
     "shell.execute_reply.started": "2024-10-22T06:31:51.268424Z"
    },
    "scrolled": true
   },
   "outputs": [],
   "source": [
    "# # # n = best, logistic regression, scoring = precision, cv = 15\n",
    "# sffslog10 = featureselection_log(True, 'precision', 15, x, y)\n",
    "# print(sffslog10.k_feature_names_)\n",
    "# print(len(sffslog10.k_feature_names_))\n",
    "# print(sffslog10.k_score_)"
   ]
  },
  {
   "cell_type": "code",
   "execution_count": 63,
   "id": "0ef840e4-dfb9-4ba5-87f4-e6bd86729330",
   "metadata": {
    "execution": {
     "iopub.execute_input": "2024-10-22T06:31:51.274267Z",
     "iopub.status.busy": "2024-10-22T06:31:51.273683Z",
     "iopub.status.idle": "2024-10-22T06:31:51.292611Z",
     "shell.execute_reply": "2024-10-22T06:31:51.291959Z",
     "shell.execute_reply.started": "2024-10-22T06:31:51.274241Z"
    },
    "scrolled": true
   },
   "outputs": [],
   "source": [
    "# # # n = best, logistic regression, scoring = precision, cv = 20\n",
    "# sffslog11 = featureselection_log(True, 'precision', 20, x, y)\n",
    "# print(sffslog11.k_feature_names_)\n",
    "# print(len(sffslog11.k_feature_names_))\n",
    "# print(sffslog11.k_score_)\n"
   ]
  },
  {
   "cell_type": "code",
   "execution_count": 64,
   "id": "586a6413-c9aa-4feb-8333-a236d7cebd37",
   "metadata": {
    "execution": {
     "iopub.execute_input": "2024-10-22T06:31:51.294331Z",
     "iopub.status.busy": "2024-10-22T06:31:51.293746Z",
     "iopub.status.idle": "2024-10-22T06:33:15.567250Z",
     "shell.execute_reply": "2024-10-22T06:33:15.566147Z",
     "shell.execute_reply.started": "2024-10-22T06:31:51.294304Z"
    }
   },
   "outputs": [
    {
     "name": "stdout",
     "output_type": "stream",
     "text": [
      "('cmean', 'cmin', 'ie', 'mew', 'meg', 'megmax', 'dbusl', 'dtraml', 'dplight', 'dstation', 'dparkcar', 'dparktw', 'dpedcro', 'dstopsign', 'dtrafficarea', 'droad', 'dvfpath', 'gvm_dwv', 'carcount', 'r_width_value', 'speedlimit_value', 'z_qnr_2', 'z_qnr_3', 'z_qnr_4', 'z_qnr_5', 'z_qnr_6', 'z_qnr_8', 'z_qnr_9', 'z_qnr_10', 'z_qnr_11', 'z_qnr_12', 'z_qnr_14', 'z_qnr_15', 'z_qnr_16', 'z_qnr_17', 'z_qnr_21', 'z_qnr_22', 'z_qnr_24', 'z_qnr_26', 'z_qnr_27', 'z_qnr_29', 'z_qnr_30', 'z_qnr_31', 'z_qnr_32', 'z_knr_4', 'z_knr_5', 'z_knr_8', 'trafficarea_2', 'r_width_2', 'r_width_4', 'r_width_5', 'r_width_6', 'r_surface_1', 'speedlimit_1', 'speedlimit_4', 'speedlimit_5')\n",
      "56\n",
      "0.6474576271186441\n"
     ]
    }
   ],
   "source": [
    "# # n = best, logistic regression, scoring = recall, cv = 5\n",
    "sffslog6 = featureselection_log(True, 'recall', 5, x, y)\n",
    "print(sffslog6.k_feature_names_)\n",
    "print(len(sffslog6.k_feature_names_))\n",
    "print(sffslog6.k_score_)\n"
   ]
  },
  {
   "cell_type": "code",
   "execution_count": 65,
   "id": "acd2ce79-4e9f-4524-b4b3-162f8da5261f",
   "metadata": {
    "execution": {
     "iopub.execute_input": "2024-10-22T06:33:15.568906Z",
     "iopub.status.busy": "2024-10-22T06:33:15.568617Z",
     "iopub.status.idle": "2024-10-22T06:35:39.566401Z",
     "shell.execute_reply": "2024-10-22T06:35:39.565098Z",
     "shell.execute_reply.started": "2024-10-22T06:33:15.568879Z"
    }
   },
   "outputs": [
    {
     "name": "stdout",
     "output_type": "stream",
     "text": [
      "('cmean', 'cmin', 'ie', 'mew', 'meg', 'megmax', 'dtraml', 'dtrainl', 'dplight', 'dparkcar', 'dpedcro', 'dtrafficarea', 'droad', 'dvfpath', 'bicyclecount', 'carcount', 'speedlimit_value', 'z_qnr_2', 'z_qnr_3', 'z_qnr_4', 'z_qnr_6', 'z_qnr_7', 'z_qnr_9', 'z_qnr_10', 'z_qnr_15', 'z_qnr_16', 'z_qnr_19', 'z_qnr_23', 'z_qnr_24', 'z_qnr_27', 'z_qnr_29', 'z_qnr_30', 'z_qnr_31', 'z_qnr_32', 'z_knr_2', 'z_knr_4', 'z_knr_5', 'r_width_2', 'r_width_4', 'r_width_5', 'r_surface_1', 'speedlimit_4')\n",
      "42\n",
      "0.657471264367816\n"
     ]
    }
   ],
   "source": [
    "# # n = best, logistic regression, scoring = recall, cv = 10\n",
    "sffslog7 = featureselection_log(True, 'recall', 10, x, y)\n",
    "print(sffslog7.k_feature_names_)\n",
    "print(len(sffslog7.k_feature_names_))\n",
    "print(sffslog7.k_score_)\n"
   ]
  },
  {
   "cell_type": "code",
   "execution_count": 66,
   "id": "3d138232-b1a8-4346-8a3e-1097c5475749",
   "metadata": {
    "execution": {
     "iopub.execute_input": "2024-10-22T06:35:39.568593Z",
     "iopub.status.busy": "2024-10-22T06:35:39.567854Z",
     "iopub.status.idle": "2024-10-22T06:35:39.572092Z",
     "shell.execute_reply": "2024-10-22T06:35:39.571378Z",
     "shell.execute_reply.started": "2024-10-22T06:35:39.568563Z"
    }
   },
   "outputs": [],
   "source": [
    "# # # n = best, logistic regression, scoring = recall, cv = 15\n",
    "# sffslog14 = featureselection_log(True, 'recall', 15, x, y)\n",
    "# print(sffslog14.k_feature_names_)\n",
    "# print(len(sffslog14.k_feature_names_))\n",
    "# print(sffslog14.k_score_)\n",
    "# #"
   ]
  },
  {
   "cell_type": "code",
   "execution_count": 67,
   "id": "de589bf5-18d4-4770-ba79-ab6978c1b03f",
   "metadata": {
    "execution": {
     "iopub.execute_input": "2024-10-22T06:35:39.573509Z",
     "iopub.status.busy": "2024-10-22T06:35:39.573297Z",
     "iopub.status.idle": "2024-10-22T06:35:39.593484Z",
     "shell.execute_reply": "2024-10-22T06:35:39.592682Z",
     "shell.execute_reply.started": "2024-10-22T06:35:39.573491Z"
    }
   },
   "outputs": [],
   "source": [
    "# # # n = best, logistic regression, scoring = recall, cv = 20\n",
    "# sffslog15 = featureselection_log(True, 'recall', 20, x, y)\n",
    "# print(sffslog15.k_feature_names_)\n",
    "# print(len(sffslog15.k_feature_names_))\n",
    "# print(sffslog15.k_score_)\n",
    "# #"
   ]
  },
  {
   "cell_type": "code",
   "execution_count": 68,
   "id": "4cdf2c61-28e1-459f-a00c-988f25b2ecf4",
   "metadata": {
    "execution": {
     "iopub.execute_input": "2024-10-22T06:35:39.594843Z",
     "iopub.status.busy": "2024-10-22T06:35:39.594637Z",
     "iopub.status.idle": "2024-10-22T06:35:39.613923Z",
     "shell.execute_reply": "2024-10-22T06:35:39.612957Z",
     "shell.execute_reply.started": "2024-10-22T06:35:39.594826Z"
    }
   },
   "outputs": [],
   "source": [
    "# For part \n",
    "selected_columns_logr_sffs = []\n",
    "selected_columns_logr_sffs = {'all': cnvif,\n",
    "                              'acc_cv5':list(sffslog0.k_feature_names_), \n",
    "                              'acc_cv10':list(sffslog1.k_feature_names_), \n",
    "                              'f1_cv5':list(sffslog2.k_feature_names_), \n",
    "                              'f1_cv10':list(sffslog3.k_feature_names_), \n",
    "                              'pre_cv5':list(sffslog4.k_feature_names_), \n",
    "                              'pre_cv10':list(sffslog5.k_feature_names_),\n",
    "                              'rec_cv5':list(sffslog6.k_feature_names_), \n",
    "                              'rec_cv10':list(sffslog7.k_feature_names_)\n",
    "                              }\n",
    "df_sf_logr_sffs = pd.DataFrame(dict([(k,pd.Series(v)) for k,v in selected_columns_logr_sffs.items()]))\n",
    "df_sf_logr_sffs.to_csv('/home/yelhe/script/mtp/tables/vif_sffs_logisticreg.csv', index = True)"
   ]
  },
  {
   "cell_type": "code",
   "execution_count": null,
   "id": "f6ebb812",
   "metadata": {},
   "outputs": [],
   "source": []
  },
  {
   "cell_type": "markdown",
   "id": "528cb07a-dffb-450f-8ede-5e4dc1748ad1",
   "metadata": {
    "execution": {
     "iopub.execute_input": "2024-09-03T15:30:17.841200Z",
     "iopub.status.busy": "2024-09-03T15:30:17.840178Z",
     "iopub.status.idle": "2024-09-03T15:30:17.846475Z",
     "shell.execute_reply": "2024-09-03T15:30:17.845897Z",
     "shell.execute_reply.started": "2024-09-03T15:30:17.841170Z"
    }
   },
   "source": [
    "### Sequential backward floating selection"
   ]
  },
  {
   "cell_type": "code",
   "execution_count": 69,
   "id": "80a82579",
   "metadata": {
    "execution": {
     "iopub.execute_input": "2024-10-22T06:35:39.615481Z",
     "iopub.status.busy": "2024-10-22T06:35:39.615197Z",
     "iopub.status.idle": "2024-10-22T06:36:43.846950Z",
     "shell.execute_reply": "2024-10-22T06:36:43.845789Z",
     "shell.execute_reply.started": "2024-10-22T06:35:39.615450Z"
    }
   },
   "outputs": [
    {
     "name": "stdout",
     "output_type": "stream",
     "text": [
      "('cmean', 'ie', 'meg', 'dvfpath', 'r_width_value', 'z_qnr_5', 'z_qnr_7', 'z_qnr_11', 'z_qnr_22', 'z_knr_4', 'z_knr_10', 'trafficarea_2', 'r_width_1', 'r_width_2', 'r_width_4', 'speedlimit_1', 'speedlimit_4')\n",
      "17\n",
      "0.8711960427852704\n"
     ]
    }
   ],
   "source": [
    "# n = best, logistic regression, scoring = accuracy, cv = 5\n",
    "sbfslog0 = featureselection_log(False, 'accuracy', 5, x, y)\n",
    "print(sbfslog0.k_feature_names_)\n",
    "print(len(sbfslog0.k_feature_names_))\n",
    "print(sbfslog0.k_score_)\n"
   ]
  },
  {
   "cell_type": "code",
   "execution_count": 70,
   "id": "ba383abf",
   "metadata": {
    "execution": {
     "iopub.execute_input": "2024-10-22T06:36:43.848708Z",
     "iopub.status.busy": "2024-10-22T06:36:43.848415Z",
     "iopub.status.idle": "2024-10-22T06:38:20.780068Z",
     "shell.execute_reply": "2024-10-22T06:38:20.778718Z",
     "shell.execute_reply.started": "2024-10-22T06:36:43.848679Z"
    }
   },
   "outputs": [
    {
     "name": "stdout",
     "output_type": "stream",
     "text": [
      "('cmean', 'ie', 'dtraml', 'dparkcar', 'dpedcro', 'dstopsign', 'dtrafficarea', 'dvfpath', 'speedlimit_value', 'z_qnr_7', 'z_qnr_8', 'z_qnr_10', 'z_qnr_26', 'z_qnr_32', 'z_knr_4', 'z_knr_5', 'z_knr_10', 'trafficarea_2', 'r_width_2', 'r_width_4', 'r_width_5', 'r_width_6', 'speedlimit_1', 'speedlimit_4')\n",
      "24\n",
      "0.8756795786612301\n"
     ]
    }
   ],
   "source": [
    "# n = best, logistic regression, scoring = accuracy, cv = 10\n",
    "sbfslog1 = featureselection_log(False, 'accuracy', 10, x, y)\n",
    "print(sbfslog1.k_feature_names_)\n",
    "print(len(sbfslog1.k_feature_names_))\n",
    "print(sbfslog1.k_score_)\n"
   ]
  },
  {
   "cell_type": "code",
   "execution_count": 71,
   "id": "a1363b4b",
   "metadata": {
    "execution": {
     "iopub.execute_input": "2024-10-22T06:38:20.782003Z",
     "iopub.status.busy": "2024-10-22T06:38:20.781693Z",
     "iopub.status.idle": "2024-10-22T06:38:20.787936Z",
     "shell.execute_reply": "2024-10-22T06:38:20.786824Z",
     "shell.execute_reply.started": "2024-10-22T06:38:20.781973Z"
    }
   },
   "outputs": [],
   "source": [
    "# # n = best, logistic regression, scoring = accuracy, cv = 15\n",
    "# sbfslog2 = featureselection_log(False, 'accuracy', 15, x, y)\n",
    "# print(sbfslog2.k_feature_names_)\n",
    "# print(len(sbfslog2.k_feature_names_))\n",
    "# print(sbfslog2.k_score_)\n"
   ]
  },
  {
   "cell_type": "code",
   "execution_count": 72,
   "id": "cdb44a1f",
   "metadata": {
    "execution": {
     "iopub.execute_input": "2024-10-22T06:38:20.789689Z",
     "iopub.status.busy": "2024-10-22T06:38:20.789396Z",
     "iopub.status.idle": "2024-10-22T06:38:20.803504Z",
     "shell.execute_reply": "2024-10-22T06:38:20.802725Z",
     "shell.execute_reply.started": "2024-10-22T06:38:20.789658Z"
    }
   },
   "outputs": [],
   "source": [
    "# # n = best, logistic regression, scoring = accuracy, cv = 20\n",
    "# sbfslog3 = featureselection_log(False, 'accuracy', 20, x, y)\n",
    "# print(sbfslog3.k_feature_names_)\n",
    "# print(len(sbfslog3.k_feature_names_))\n",
    "# print(sbfslog3.k_score_)\n"
   ]
  },
  {
   "cell_type": "code",
   "execution_count": 73,
   "id": "4bdc1df9",
   "metadata": {
    "execution": {
     "iopub.execute_input": "2024-10-22T06:38:20.804783Z",
     "iopub.status.busy": "2024-10-22T06:38:20.804523Z",
     "iopub.status.idle": "2024-10-22T06:39:36.557037Z",
     "shell.execute_reply": "2024-10-22T06:39:36.555972Z",
     "shell.execute_reply.started": "2024-10-22T06:38:20.804759Z"
    }
   },
   "outputs": [
    {
     "name": "stdout",
     "output_type": "stream",
     "text": [
      "('r_width_value', 'speedlimit_value', 'z_qnr_5', 'z_qnr_6', 'z_qnr_7', 'z_qnr_8', 'z_qnr_10', 'z_qnr_11', 'z_qnr_22', 'z_qnr_26', 'z_qnr_29', 'z_knr_4', 'z_knr_5', 'z_knr_10', 'trafficarea_2', 'r_width_1', 'r_width_4', 'r_width_5', 'r_width_6', 'speedlimit_1', 'speedlimit_4')\n",
      "21\n",
      "0.7289902543115845\n"
     ]
    }
   ],
   "source": [
    "# n = best, logistic regression, scoring = f1, cv = 5\n",
    "sbfslog2 = featureselection_log(False, 'f1', 5, x, y)\n",
    "print(sbfslog2.k_feature_names_)\n",
    "print(len(sbfslog2.k_feature_names_))\n",
    "print(sbfslog2.k_score_)"
   ]
  },
  {
   "cell_type": "code",
   "execution_count": 74,
   "id": "b90f1edf",
   "metadata": {
    "execution": {
     "iopub.execute_input": "2024-10-22T06:39:36.558924Z",
     "iopub.status.busy": "2024-10-22T06:39:36.558333Z",
     "iopub.status.idle": "2024-10-22T06:41:47.575302Z",
     "shell.execute_reply": "2024-10-22T06:41:47.574237Z",
     "shell.execute_reply.started": "2024-10-22T06:39:36.558896Z"
    }
   },
   "outputs": [
    {
     "name": "stdout",
     "output_type": "stream",
     "text": [
      "('ie', 'dtraml', 'dtrainl', 'dpedcro', 'dvfpath', 'carcount', 'speedlimit_value', 'z_qnr_3', 'z_qnr_7', 'z_qnr_10', 'z_qnr_26', 'z_knr_3', 'z_knr_4', 'z_knr_5', 'trafficarea_2', 'r_width_1', 'r_width_2', 'r_width_5', 'speedlimit_1', 'speedlimit_4')\n",
      "20\n",
      "0.735872081598812\n"
     ]
    }
   ],
   "source": [
    "# n = best, logistic regression, scoring = f1, cv = 10\n",
    "sbfslog3 = featureselection_log(False, 'f1', 10, x, y)\n",
    "print(sbfslog3.k_feature_names_)\n",
    "print(len(sbfslog3.k_feature_names_))\n",
    "print(sbfslog3.k_score_)"
   ]
  },
  {
   "cell_type": "code",
   "execution_count": 75,
   "id": "b82c7b6f",
   "metadata": {
    "execution": {
     "iopub.execute_input": "2024-10-22T06:41:47.576776Z",
     "iopub.status.busy": "2024-10-22T06:41:47.576500Z",
     "iopub.status.idle": "2024-10-22T06:41:47.581303Z",
     "shell.execute_reply": "2024-10-22T06:41:47.580495Z",
     "shell.execute_reply.started": "2024-10-22T06:41:47.576750Z"
    }
   },
   "outputs": [],
   "source": [
    "# # n = best, logistic regression, scoring = f1, cv = 15\n",
    "# sbfslog6 = featureselection_log(False, 'f1', 15, x, y)\n",
    "# print(sbfslog6.k_feature_names_)\n",
    "# print(len(sbfslog6.k_feature_names_))\n",
    "# print(sbfslog6.k_score_)"
   ]
  },
  {
   "cell_type": "code",
   "execution_count": 76,
   "id": "1295bfe8",
   "metadata": {
    "execution": {
     "iopub.execute_input": "2024-10-22T06:41:47.582740Z",
     "iopub.status.busy": "2024-10-22T06:41:47.582434Z",
     "iopub.status.idle": "2024-10-22T06:41:47.601678Z",
     "shell.execute_reply": "2024-10-22T06:41:47.600851Z",
     "shell.execute_reply.started": "2024-10-22T06:41:47.582715Z"
    }
   },
   "outputs": [],
   "source": [
    "# n = best, logistic regression, scoring = f1, cv = 20\n",
    "# sbfslog7 = featureselection_log(False, 'f1', 20, x, y)\n",
    "# print(sbfslog7.k_feature_names_)\n",
    "# print(len(sbfslog7.k_feature_names_))\n",
    "# print(sbfslog7.k_score_)"
   ]
  },
  {
   "cell_type": "code",
   "execution_count": 296,
   "id": "605c2bc0",
   "metadata": {
    "execution": {
     "iopub.execute_input": "2024-10-25T14:55:57.476679Z",
     "iopub.status.busy": "2024-10-25T14:55:57.476206Z",
     "iopub.status.idle": "2024-10-25T14:55:57.478947Z",
     "shell.execute_reply": "2024-10-25T14:55:57.478523Z",
     "shell.execute_reply.started": "2024-10-25T14:55:57.476661Z"
    },
    "scrolled": true
   },
   "outputs": [],
   "source": [
    "# # n = best, logistic regression, scoring = precision, cv = 5\n",
    "# sbfslog4 = featureselection_log(False, 'precision', 5, x, y)\n",
    "# print(sbfslog4.k_feature_names_)\n",
    "# print(len(sbfslog4.k_feature_names_))\n",
    "# print(sbfslog4.k_score_)\n",
    "# ('dpedcro', 'dvfpath', 'r_width_value', 'z_qnr_22', 'z_knr_10', 'trafficarea_2', 'r_width_2', 'r_width_4', 'r_width_5', 'speedlimit_4')\n",
    "# 10\n",
    "# 0.9094070080862535"
   ]
  },
  {
   "cell_type": "code",
   "execution_count": 297,
   "id": "6fcfaec8",
   "metadata": {
    "execution": {
     "iopub.execute_input": "2024-10-25T14:56:09.935238Z",
     "iopub.status.busy": "2024-10-25T14:56:09.934770Z",
     "iopub.status.idle": "2024-10-25T14:56:09.937433Z",
     "shell.execute_reply": "2024-10-25T14:56:09.936981Z",
     "shell.execute_reply.started": "2024-10-25T14:56:09.935221Z"
    },
    "scrolled": true
   },
   "outputs": [],
   "source": [
    "# # n = best, logistic regression, scoring = precision, cv = 10\n",
    "# sbfslog5 = featureselection_log(False, 'precision', 10, x, y)\n",
    "# print(sbfslog5.k_feature_names_)\n",
    "# print(len(sbfslog5.k_feature_names_))\n",
    "# print(sbfslog5.k_score_)\n",
    "# ('ie', 'dtraml', 'dpedcro', 'dvfpath', 'r_width_value', 'z_qnr_5', 'z_qnr_7', 'z_qnr_10', 'z_qnr_25', 'z_qnr_26', 'z_qnr_28', 'z_qnr_29', 'z_knr_4', 'trafficarea_2', 'r_width_1', 'r_width_2', 'r_width_4', 'r_width_5', 'speedlimit_4')\n",
    "# 19\n",
    "# 0.9160866910866912"
   ]
  },
  {
   "cell_type": "code",
   "execution_count": 79,
   "id": "f9b3f34a",
   "metadata": {
    "execution": {
     "iopub.execute_input": "2024-10-22T06:41:47.634432Z",
     "iopub.status.busy": "2024-10-22T06:41:47.634166Z",
     "iopub.status.idle": "2024-10-22T06:41:47.647955Z",
     "shell.execute_reply": "2024-10-22T06:41:47.647211Z",
     "shell.execute_reply.started": "2024-10-22T06:41:47.634410Z"
    }
   },
   "outputs": [],
   "source": [
    "# # n = best, logistic regression, scoring = precision, cv = 15\n",
    "# sbfslog10 = featureselection_log(False, 'precision', 15, x, y)\n",
    "# print(sbfslog10.k_feature_names_)\n",
    "# print(len(sbfslog10.k_feature_names_))\n",
    "# print(sbfslog10.k_score_)"
   ]
  },
  {
   "cell_type": "code",
   "execution_count": 80,
   "id": "046d57e6",
   "metadata": {
    "execution": {
     "iopub.execute_input": "2024-10-22T06:41:47.649367Z",
     "iopub.status.busy": "2024-10-22T06:41:47.649082Z",
     "iopub.status.idle": "2024-10-22T06:41:47.669448Z",
     "shell.execute_reply": "2024-10-22T06:41:47.668615Z",
     "shell.execute_reply.started": "2024-10-22T06:41:47.649344Z"
    },
    "scrolled": true
   },
   "outputs": [],
   "source": [
    "# # n = best, logistic regression, scoring = precision, cv = 20\n",
    "# sbfslog11 = featureselection_log(False, 'precision', 20, x, y)\n",
    "# print(sbfslog11.k_feature_names_)\n",
    "# print(len(sbfslog11.k_feature_names_))\n",
    "# print(sbfslog11.k_score_)"
   ]
  },
  {
   "cell_type": "code",
   "execution_count": 83,
   "id": "a2b0adc4",
   "metadata": {
    "execution": {
     "iopub.execute_input": "2024-10-22T06:45:00.163381Z",
     "iopub.status.busy": "2024-10-22T06:45:00.163070Z",
     "iopub.status.idle": "2024-10-22T06:46:05.920346Z",
     "shell.execute_reply": "2024-10-22T06:46:05.919325Z",
     "shell.execute_reply.started": "2024-10-22T06:45:00.163351Z"
    }
   },
   "outputs": [
    {
     "name": "stdout",
     "output_type": "stream",
     "text": [
      "('dbusl', 'dpedcro', 'dtrafficarea', 'droad', 'r_width_value', 'speedlimit_value', 'z_qnr_5', 'z_qnr_7', 'z_qnr_8', 'z_qnr_10', 'z_qnr_11', 'z_qnr_26', 'z_qnr_31', 'z_knr_4', 'z_knr_5', 'trafficarea_2', 'r_width_4', 'r_width_5', 'r_width_6', 'r_surface_1', 'speedlimit_1', 'speedlimit_4')\n",
      "22\n",
      "0.6542372881355932\n"
     ]
    }
   ],
   "source": [
    "# n = best, logistic regression, scoring = recall, cv = 5\n",
    "sbfslog6 = featureselection_log(False, 'recall', 5, x, y)\n",
    "print(sbfslog6.k_feature_names_)\n",
    "print(len(sbfslog6.k_feature_names_))\n",
    "print(sbfslog6.k_score_)"
   ]
  },
  {
   "cell_type": "code",
   "execution_count": 84,
   "id": "a4efef70",
   "metadata": {
    "execution": {
     "iopub.execute_input": "2024-10-22T06:46:05.921914Z",
     "iopub.status.busy": "2024-10-22T06:46:05.921627Z",
     "iopub.status.idle": "2024-10-22T06:48:04.731779Z",
     "shell.execute_reply": "2024-10-22T06:48:04.730720Z",
     "shell.execute_reply.started": "2024-10-22T06:46:05.921888Z"
    }
   },
   "outputs": [
    {
     "name": "stdout",
     "output_type": "stream",
     "text": [
      "('cmean', 'ie', 'dbusl', 'dtraml', 'dtrainl', 'dparkcar', 'dpedcro', 'dvfpath', 'gvm_dwv', 'carcount', 'r_width_value', 'speedlimit_value', 'z_qnr_3', 'z_qnr_7', 'z_qnr_10', 'z_qnr_16', 'z_qnr_19', 'z_qnr_25', 'z_knr_4', 'z_knr_5', 'z_knr_8', 'z_knr_10', 'trafficarea_2', 'r_width_1', 'r_width_2', 'r_width_5', 'speedlimit_1', 'speedlimit_4')\n",
      "28\n",
      "0.6639080459770115\n"
     ]
    }
   ],
   "source": [
    "# n = best, logistic regression, scoring = recall, cv = 10\n",
    "sbfslog7 = featureselection_log(False, 'recall', 10, x, y)\n",
    "print(sbfslog7.k_feature_names_)\n",
    "print(len(sbfslog7.k_feature_names_))\n",
    "print(sbfslog7.k_score_)"
   ]
  },
  {
   "cell_type": "code",
   "execution_count": 85,
   "id": "07b918be",
   "metadata": {
    "execution": {
     "iopub.execute_input": "2024-10-22T06:48:04.733358Z",
     "iopub.status.busy": "2024-10-22T06:48:04.733038Z",
     "iopub.status.idle": "2024-10-22T06:48:04.737942Z",
     "shell.execute_reply": "2024-10-22T06:48:04.736830Z",
     "shell.execute_reply.started": "2024-10-22T06:48:04.733315Z"
    }
   },
   "outputs": [],
   "source": [
    "# # n = best, logistic regression, scoring = recall, cv = 15\n",
    "# sbfslog14 = featureselection_log(False, 'recall', 15, x, y)\n",
    "# print(sbfslog14.k_feature_names_)\n",
    "# print(len(sbfslog14.k_feature_names_))\n",
    "# print(sbfslog14.k_score_)\n",
    "# #"
   ]
  },
  {
   "cell_type": "code",
   "execution_count": 86,
   "id": "89bf4092",
   "metadata": {
    "execution": {
     "iopub.execute_input": "2024-10-22T06:48:04.739539Z",
     "iopub.status.busy": "2024-10-22T06:48:04.739287Z",
     "iopub.status.idle": "2024-10-22T06:48:04.756373Z",
     "shell.execute_reply": "2024-10-22T06:48:04.755364Z",
     "shell.execute_reply.started": "2024-10-22T06:48:04.739516Z"
    }
   },
   "outputs": [],
   "source": [
    "# # n = best, logistic regression, scoring = recall, cv = 20\n",
    "# sbfslog15 = featureselection_log(False, 'recall', 20, x, y)\n",
    "# print(sbfslog15.k_feature_names_)\n",
    "# print(len(sbfslog15.k_feature_names_))\n",
    "# print(sbfslog15.k_score_)\n",
    "# #"
   ]
  },
  {
   "cell_type": "code",
   "execution_count": 87,
   "id": "0cccb8f2",
   "metadata": {
    "execution": {
     "iopub.execute_input": "2024-10-22T06:48:04.758001Z",
     "iopub.status.busy": "2024-10-22T06:48:04.757602Z",
     "iopub.status.idle": "2024-10-22T06:48:04.775274Z",
     "shell.execute_reply": "2024-10-22T06:48:04.774352Z",
     "shell.execute_reply.started": "2024-10-22T06:48:04.757977Z"
    }
   },
   "outputs": [],
   "source": [
    "# For all \n",
    "selected_columns_logr_sbfs = []\n",
    "selected_columns_logr_sbfs = {'all': cnvif,\n",
    "                              'acc_cv5':list(sbfslog0.k_feature_names_), \n",
    "                              'acc_cv10':list(sbfslog1.k_feature_names_),\n",
    "                              'f1_cv5':list(sbfslog2.k_feature_names_), \n",
    "                              'f1_cv10':list(sbfslog3.k_feature_names_),\n",
    "                              'pre_cv5':list(sbfslog4.k_feature_names_), \n",
    "                              'pre_cv10':list(sbfslog5.k_feature_names_),\n",
    "                              'rec_cv5':list(sbfslog6.k_feature_names_), \n",
    "                              'rec_cv10':list(sbfslog7.k_feature_names_)\n",
    "                              }\n",
    "df_sf_logr_sbfs = pd.DataFrame(dict([(k,pd.Series(v)) for k,v in selected_columns_logr_sbfs.items()]))\n",
    "df_sf_logr_sbfs.to_csv('/home/yelhe/script/mtp/tables/vif_sbfs_logisticreg.csv', index = True)"
   ]
  },
  {
   "cell_type": "code",
   "execution_count": 165,
   "id": "a70e79d7-49f6-464d-9c7f-094b1748ee63",
   "metadata": {
    "execution": {
     "iopub.execute_input": "2024-10-25T13:47:53.854672Z",
     "iopub.status.busy": "2024-10-25T13:47:53.854180Z",
     "iopub.status.idle": "2024-10-25T13:47:53.861004Z",
     "shell.execute_reply": "2024-10-25T13:47:53.860526Z",
     "shell.execute_reply.started": "2024-10-25T13:47:53.854653Z"
    }
   },
   "outputs": [],
   "source": [
    "# df_output = pd.read_csv('/home/yelhe/script/mtp/tables/vif_sbfs_logisticreg.csv')"
   ]
  },
  {
   "cell_type": "code",
   "execution_count": 166,
   "id": "29209bb9-3b89-4909-964b-77614b68f469",
   "metadata": {
    "execution": {
     "iopub.execute_input": "2024-10-25T13:47:54.135702Z",
     "iopub.status.busy": "2024-10-25T13:47:54.135541Z",
     "iopub.status.idle": "2024-10-25T13:47:54.139037Z",
     "shell.execute_reply": "2024-10-25T13:47:54.138684Z",
     "shell.execute_reply.started": "2024-10-25T13:47:54.135686Z"
    }
   },
   "outputs": [
    {
     "data": {
      "text/plain": [
       "Index(['Unnamed: 0', 'all', 'acc_cv5', 'acc_cv10', 'f1_cv5', 'f1_cv10',\n",
       "       'pre_cv5', 'pre_cv10', 'rec_cv5', 'rec_cv10'],\n",
       "      dtype='object')"
      ]
     },
     "execution_count": 166,
     "metadata": {},
     "output_type": "execute_result"
    }
   ],
   "source": [
    "df_output.columns"
   ]
  },
  {
   "cell_type": "code",
   "execution_count": 103,
   "id": "69af2959-d65a-45e1-9548-ea202aec26af",
   "metadata": {
    "execution": {
     "iopub.execute_input": "2024-10-25T13:31:21.188738Z",
     "iopub.status.busy": "2024-10-25T13:31:21.188550Z",
     "iopub.status.idle": "2024-10-25T13:31:21.191604Z",
     "shell.execute_reply": "2024-10-25T13:31:21.191254Z",
     "shell.execute_reply.started": "2024-10-25T13:31:21.188725Z"
    }
   },
   "outputs": [],
   "source": [
    "log_sffs = []\n",
    "log_sbfs = []"
   ]
  },
  {
   "cell_type": "code",
   "execution_count": 281,
   "id": "ae21dc23-acbc-45ae-938f-29c5d039aad0",
   "metadata": {
    "execution": {
     "iopub.execute_input": "2024-10-25T14:37:24.861611Z",
     "iopub.status.busy": "2024-10-25T14:37:24.861400Z",
     "iopub.status.idle": "2024-10-25T14:37:24.865083Z",
     "shell.execute_reply": "2024-10-25T14:37:24.864677Z",
     "shell.execute_reply.started": "2024-10-25T14:37:24.861595Z"
    }
   },
   "outputs": [
    {
     "name": "stdout",
     "output_type": "stream",
     "text": [
      "8 22\n"
     ]
    }
   ],
   "source": [
    "# l = list(df_output['rec_cv10'].dropna())\n",
    "# i = 2\n",
    "i = i-1\n",
    "l = list(df_output.iloc[:,i].dropna())\n",
    "# l = list(sffslog0.k_feature_names_)\n",
    "print(i, len(l))"
   ]
  },
  {
   "cell_type": "code",
   "execution_count": 191,
   "id": "0cfea3d6-d497-4cf2-8371-df1121f0b3e6",
   "metadata": {
    "execution": {
     "iopub.execute_input": "2024-10-28T17:59:29.114531Z",
     "iopub.status.busy": "2024-10-28T17:59:29.114262Z",
     "iopub.status.idle": "2024-10-28T17:59:29.117144Z",
     "shell.execute_reply": "2024-10-28T17:59:29.116716Z",
     "shell.execute_reply.started": "2024-10-28T17:59:29.114513Z"
    }
   },
   "outputs": [],
   "source": [
    "l = list(sffslog0.k_feature_names_)"
   ]
  },
  {
   "cell_type": "code",
   "execution_count": 192,
   "id": "a7e1564b-26df-431c-aed3-1b23be29b019",
   "metadata": {
    "execution": {
     "iopub.execute_input": "2024-10-28T17:59:29.528769Z",
     "iopub.status.busy": "2024-10-28T17:59:29.528379Z",
     "iopub.status.idle": "2024-10-28T17:59:29.532258Z",
     "shell.execute_reply": "2024-10-28T17:59:29.531851Z",
     "shell.execute_reply.started": "2024-10-28T17:59:29.528754Z"
    }
   },
   "outputs": [],
   "source": [
    "# x_selected\n",
    "xs = dfacrsv[l]"
   ]
  },
  {
   "cell_type": "code",
   "execution_count": 194,
   "id": "f14d8828-3d49-4cbc-9458-3cf7e783dfe4",
   "metadata": {
    "execution": {
     "iopub.execute_input": "2024-10-28T17:59:48.311981Z",
     "iopub.status.busy": "2024-10-28T17:59:48.311703Z",
     "iopub.status.idle": "2024-10-28T17:59:48.579560Z",
     "shell.execute_reply": "2024-10-28T17:59:48.578945Z",
     "shell.execute_reply.started": "2024-10-28T17:59:48.311962Z"
    }
   },
   "outputs": [
    {
     "name": "stderr",
     "output_type": "stream",
     "text": [
      "/home/yelhe/.local/lib/python3.11/site-packages/statsmodels/base/model.py:130: ValueWarning: unknown kwargs ['max_iter']\n",
      "  warnings.warn(msg, ValueWarning)\n"
     ]
    },
    {
     "name": "stdout",
     "output_type": "stream",
     "text": [
      "Warning: Maximum number of iterations has been exceeded.\n",
      "         Current function value: 0.191819\n",
      "         Iterations: 35\n"
     ]
    },
    {
     "ename": "LinAlgError",
     "evalue": "Singular matrix",
     "output_type": "error",
     "traceback": [
      "\u001b[0;31m---------------------------------------------------------------------------\u001b[0m",
      "\u001b[0;31mLinAlgError\u001b[0m                               Traceback (most recent call last)",
      "Cell \u001b[0;32mIn[194], line 8\u001b[0m\n\u001b[1;32m      3\u001b[0m X_train, X_test, y_train, y_test \u001b[38;5;241m=\u001b[39m train_test_split(\n\u001b[1;32m      4\u001b[0m         xs_const, y,\n\u001b[1;32m      5\u001b[0m         test_size\u001b[38;5;241m=\u001b[39m\u001b[38;5;241m0.2\u001b[39m,\n\u001b[1;32m      6\u001b[0m         random_state\u001b[38;5;241m=\u001b[39m\u001b[38;5;241m0\u001b[39m)\n\u001b[1;32m      7\u001b[0m m_log_split \u001b[38;5;241m=\u001b[39m sm\u001b[38;5;241m.\u001b[39mLogit(y_train, X_train, max_iter \u001b[38;5;241m=\u001b[39m \u001b[38;5;241m400\u001b[39m)\n\u001b[0;32m----> 8\u001b[0m r_log_split \u001b[38;5;241m=\u001b[39m \u001b[43mm_log_split\u001b[49m\u001b[38;5;241;43m.\u001b[39;49m\u001b[43mfit\u001b[49m\u001b[43m(\u001b[49m\u001b[43m)\u001b[49m\n\u001b[1;32m      9\u001b[0m r_log_split\u001b[38;5;241m.\u001b[39msummary()\n",
      "File \u001b[0;32m~/.local/lib/python3.11/site-packages/statsmodels/discrete/discrete_model.py:2601\u001b[0m, in \u001b[0;36mLogit.fit\u001b[0;34m(self, start_params, method, maxiter, full_output, disp, callback, **kwargs)\u001b[0m\n\u001b[1;32m   2598\u001b[0m \u001b[38;5;129m@Appender\u001b[39m(DiscreteModel\u001b[38;5;241m.\u001b[39mfit\u001b[38;5;241m.\u001b[39m\u001b[38;5;18m__doc__\u001b[39m)\n\u001b[1;32m   2599\u001b[0m \u001b[38;5;28;01mdef\u001b[39;00m \u001b[38;5;21mfit\u001b[39m(\u001b[38;5;28mself\u001b[39m, start_params\u001b[38;5;241m=\u001b[39m\u001b[38;5;28;01mNone\u001b[39;00m, method\u001b[38;5;241m=\u001b[39m\u001b[38;5;124m'\u001b[39m\u001b[38;5;124mnewton\u001b[39m\u001b[38;5;124m'\u001b[39m, maxiter\u001b[38;5;241m=\u001b[39m\u001b[38;5;241m35\u001b[39m,\n\u001b[1;32m   2600\u001b[0m         full_output\u001b[38;5;241m=\u001b[39m\u001b[38;5;241m1\u001b[39m, disp\u001b[38;5;241m=\u001b[39m\u001b[38;5;241m1\u001b[39m, callback\u001b[38;5;241m=\u001b[39m\u001b[38;5;28;01mNone\u001b[39;00m, \u001b[38;5;241m*\u001b[39m\u001b[38;5;241m*\u001b[39mkwargs):\n\u001b[0;32m-> 2601\u001b[0m     bnryfit \u001b[38;5;241m=\u001b[39m \u001b[38;5;28;43msuper\u001b[39;49m\u001b[43m(\u001b[49m\u001b[43m)\u001b[49m\u001b[38;5;241;43m.\u001b[39;49m\u001b[43mfit\u001b[49m\u001b[43m(\u001b[49m\u001b[43mstart_params\u001b[49m\u001b[38;5;241;43m=\u001b[39;49m\u001b[43mstart_params\u001b[49m\u001b[43m,\u001b[49m\n\u001b[1;32m   2602\u001b[0m \u001b[43m                          \u001b[49m\u001b[43mmethod\u001b[49m\u001b[38;5;241;43m=\u001b[39;49m\u001b[43mmethod\u001b[49m\u001b[43m,\u001b[49m\n\u001b[1;32m   2603\u001b[0m \u001b[43m                          \u001b[49m\u001b[43mmaxiter\u001b[49m\u001b[38;5;241;43m=\u001b[39;49m\u001b[43mmaxiter\u001b[49m\u001b[43m,\u001b[49m\n\u001b[1;32m   2604\u001b[0m \u001b[43m                          \u001b[49m\u001b[43mfull_output\u001b[49m\u001b[38;5;241;43m=\u001b[39;49m\u001b[43mfull_output\u001b[49m\u001b[43m,\u001b[49m\n\u001b[1;32m   2605\u001b[0m \u001b[43m                          \u001b[49m\u001b[43mdisp\u001b[49m\u001b[38;5;241;43m=\u001b[39;49m\u001b[43mdisp\u001b[49m\u001b[43m,\u001b[49m\n\u001b[1;32m   2606\u001b[0m \u001b[43m                          \u001b[49m\u001b[43mcallback\u001b[49m\u001b[38;5;241;43m=\u001b[39;49m\u001b[43mcallback\u001b[49m\u001b[43m,\u001b[49m\n\u001b[1;32m   2607\u001b[0m \u001b[43m                          \u001b[49m\u001b[38;5;241;43m*\u001b[39;49m\u001b[38;5;241;43m*\u001b[39;49m\u001b[43mkwargs\u001b[49m\u001b[43m)\u001b[49m\n\u001b[1;32m   2609\u001b[0m     discretefit \u001b[38;5;241m=\u001b[39m LogitResults(\u001b[38;5;28mself\u001b[39m, bnryfit)\n\u001b[1;32m   2610\u001b[0m     \u001b[38;5;28;01mreturn\u001b[39;00m BinaryResultsWrapper(discretefit)\n",
      "File \u001b[0;32m~/.local/lib/python3.11/site-packages/statsmodels/discrete/discrete_model.py:243\u001b[0m, in \u001b[0;36mDiscreteModel.fit\u001b[0;34m(self, start_params, method, maxiter, full_output, disp, callback, **kwargs)\u001b[0m\n\u001b[1;32m    240\u001b[0m \u001b[38;5;28;01melse\u001b[39;00m:\n\u001b[1;32m    241\u001b[0m     \u001b[38;5;28;01mpass\u001b[39;00m  \u001b[38;5;66;03m# TODO: make a function factory to have multiple call-backs\u001b[39;00m\n\u001b[0;32m--> 243\u001b[0m mlefit \u001b[38;5;241m=\u001b[39m \u001b[38;5;28;43msuper\u001b[39;49m\u001b[43m(\u001b[49m\u001b[43m)\u001b[49m\u001b[38;5;241;43m.\u001b[39;49m\u001b[43mfit\u001b[49m\u001b[43m(\u001b[49m\u001b[43mstart_params\u001b[49m\u001b[38;5;241;43m=\u001b[39;49m\u001b[43mstart_params\u001b[49m\u001b[43m,\u001b[49m\n\u001b[1;32m    244\u001b[0m \u001b[43m                     \u001b[49m\u001b[43mmethod\u001b[49m\u001b[38;5;241;43m=\u001b[39;49m\u001b[43mmethod\u001b[49m\u001b[43m,\u001b[49m\n\u001b[1;32m    245\u001b[0m \u001b[43m                     \u001b[49m\u001b[43mmaxiter\u001b[49m\u001b[38;5;241;43m=\u001b[39;49m\u001b[43mmaxiter\u001b[49m\u001b[43m,\u001b[49m\n\u001b[1;32m    246\u001b[0m \u001b[43m                     \u001b[49m\u001b[43mfull_output\u001b[49m\u001b[38;5;241;43m=\u001b[39;49m\u001b[43mfull_output\u001b[49m\u001b[43m,\u001b[49m\n\u001b[1;32m    247\u001b[0m \u001b[43m                     \u001b[49m\u001b[43mdisp\u001b[49m\u001b[38;5;241;43m=\u001b[39;49m\u001b[43mdisp\u001b[49m\u001b[43m,\u001b[49m\n\u001b[1;32m    248\u001b[0m \u001b[43m                     \u001b[49m\u001b[43mcallback\u001b[49m\u001b[38;5;241;43m=\u001b[39;49m\u001b[43mcallback\u001b[49m\u001b[43m,\u001b[49m\n\u001b[1;32m    249\u001b[0m \u001b[43m                     \u001b[49m\u001b[38;5;241;43m*\u001b[39;49m\u001b[38;5;241;43m*\u001b[39;49m\u001b[43mkwargs\u001b[49m\u001b[43m)\u001b[49m\n\u001b[1;32m    251\u001b[0m \u001b[38;5;28;01mreturn\u001b[39;00m mlefit\n",
      "File \u001b[0;32m~/.local/lib/python3.11/site-packages/statsmodels/base/model.py:582\u001b[0m, in \u001b[0;36mLikelihoodModel.fit\u001b[0;34m(self, start_params, method, maxiter, full_output, disp, fargs, callback, retall, skip_hessian, **kwargs)\u001b[0m\n\u001b[1;32m    580\u001b[0m     Hinv \u001b[38;5;241m=\u001b[39m cov_params_func(\u001b[38;5;28mself\u001b[39m, xopt, retvals)\n\u001b[1;32m    581\u001b[0m \u001b[38;5;28;01melif\u001b[39;00m method \u001b[38;5;241m==\u001b[39m \u001b[38;5;124m'\u001b[39m\u001b[38;5;124mnewton\u001b[39m\u001b[38;5;124m'\u001b[39m \u001b[38;5;129;01mand\u001b[39;00m full_output:\n\u001b[0;32m--> 582\u001b[0m     Hinv \u001b[38;5;241m=\u001b[39m \u001b[43mnp\u001b[49m\u001b[38;5;241;43m.\u001b[39;49m\u001b[43mlinalg\u001b[49m\u001b[38;5;241;43m.\u001b[39;49m\u001b[43minv\u001b[49m\u001b[43m(\u001b[49m\u001b[38;5;241;43m-\u001b[39;49m\u001b[43mretvals\u001b[49m\u001b[43m[\u001b[49m\u001b[38;5;124;43m'\u001b[39;49m\u001b[38;5;124;43mHessian\u001b[39;49m\u001b[38;5;124;43m'\u001b[39;49m\u001b[43m]\u001b[49m\u001b[43m)\u001b[49m \u001b[38;5;241m/\u001b[39m nobs\n\u001b[1;32m    583\u001b[0m \u001b[38;5;28;01melif\u001b[39;00m \u001b[38;5;129;01mnot\u001b[39;00m skip_hessian:\n\u001b[1;32m    584\u001b[0m     H \u001b[38;5;241m=\u001b[39m \u001b[38;5;241m-\u001b[39m\u001b[38;5;241m1\u001b[39m \u001b[38;5;241m*\u001b[39m \u001b[38;5;28mself\u001b[39m\u001b[38;5;241m.\u001b[39mhessian(xopt)\n",
      "File \u001b[0;32m~/.local/lib/python3.11/site-packages/numpy/linalg/linalg.py:561\u001b[0m, in \u001b[0;36minv\u001b[0;34m(a)\u001b[0m\n\u001b[1;32m    559\u001b[0m signature \u001b[38;5;241m=\u001b[39m \u001b[38;5;124m'\u001b[39m\u001b[38;5;124mD->D\u001b[39m\u001b[38;5;124m'\u001b[39m \u001b[38;5;28;01mif\u001b[39;00m isComplexType(t) \u001b[38;5;28;01melse\u001b[39;00m \u001b[38;5;124m'\u001b[39m\u001b[38;5;124md->d\u001b[39m\u001b[38;5;124m'\u001b[39m\n\u001b[1;32m    560\u001b[0m extobj \u001b[38;5;241m=\u001b[39m get_linalg_error_extobj(_raise_linalgerror_singular)\n\u001b[0;32m--> 561\u001b[0m ainv \u001b[38;5;241m=\u001b[39m \u001b[43m_umath_linalg\u001b[49m\u001b[38;5;241;43m.\u001b[39;49m\u001b[43minv\u001b[49m\u001b[43m(\u001b[49m\u001b[43ma\u001b[49m\u001b[43m,\u001b[49m\u001b[43m \u001b[49m\u001b[43msignature\u001b[49m\u001b[38;5;241;43m=\u001b[39;49m\u001b[43msignature\u001b[49m\u001b[43m,\u001b[49m\u001b[43m \u001b[49m\u001b[43mextobj\u001b[49m\u001b[38;5;241;43m=\u001b[39;49m\u001b[43mextobj\u001b[49m\u001b[43m)\u001b[49m\n\u001b[1;32m    562\u001b[0m \u001b[38;5;28;01mreturn\u001b[39;00m wrap(ainv\u001b[38;5;241m.\u001b[39mastype(result_t, copy\u001b[38;5;241m=\u001b[39m\u001b[38;5;28;01mFalse\u001b[39;00m))\n",
      "File \u001b[0;32m~/.local/lib/python3.11/site-packages/numpy/linalg/linalg.py:112\u001b[0m, in \u001b[0;36m_raise_linalgerror_singular\u001b[0;34m(err, flag)\u001b[0m\n\u001b[1;32m    111\u001b[0m \u001b[38;5;28;01mdef\u001b[39;00m \u001b[38;5;21m_raise_linalgerror_singular\u001b[39m(err, flag):\n\u001b[0;32m--> 112\u001b[0m     \u001b[38;5;28;01mraise\u001b[39;00m LinAlgError(\u001b[38;5;124m\"\u001b[39m\u001b[38;5;124mSingular matrix\u001b[39m\u001b[38;5;124m\"\u001b[39m)\n",
      "\u001b[0;31mLinAlgError\u001b[0m: Singular matrix"
     ]
    }
   ],
   "source": [
    "# with splitting\n",
    "xs_const = tools.add_constant(xs)\n",
    "X_train, X_test, y_train, y_test = train_test_split(\n",
    "        xs_const, y,\n",
    "        test_size=0.2,\n",
    "        random_state=0)\n",
    "m_log_split = sm.Logit(y_train, X_train, max_iter = 400)\n",
    "r_log_split = m_log_split.fit()\n",
    "r_log_split.summary()"
   ]
  },
  {
   "cell_type": "code",
   "execution_count": 303,
   "id": "2a62a120-f3ed-4c7f-9bc9-03b269ae284b",
   "metadata": {
    "execution": {
     "iopub.execute_input": "2024-10-25T14:57:24.737873Z",
     "iopub.status.busy": "2024-10-25T14:57:24.737188Z",
     "iopub.status.idle": "2024-10-25T14:57:24.740276Z",
     "shell.execute_reply": "2024-10-25T14:57:24.739855Z",
     "shell.execute_reply.started": "2024-10-25T14:57:24.737830Z"
    }
   },
   "outputs": [],
   "source": [
    "# print(r_log_split.prsquared)\n",
    "# printsig(r_log_split)"
   ]
  },
  {
   "cell_type": "code",
   "execution_count": 285,
   "id": "7041cafa-c145-481a-8a65-a0178429d601",
   "metadata": {
    "execution": {
     "iopub.execute_input": "2024-10-25T14:37:26.183898Z",
     "iopub.status.busy": "2024-10-25T14:37:26.183601Z",
     "iopub.status.idle": "2024-10-25T14:37:26.186151Z",
     "shell.execute_reply": "2024-10-25T14:37:26.185778Z",
     "shell.execute_reply.started": "2024-10-25T14:37:26.183883Z"
    }
   },
   "outputs": [],
   "source": [
    "log_sbfs.append(r_log_split.prsquared)"
   ]
  },
  {
   "cell_type": "code",
   "execution_count": 302,
   "id": "d5ca2ac8-c06f-4377-8eb3-36d48d9b6cb1",
   "metadata": {
    "execution": {
     "iopub.execute_input": "2024-10-25T14:57:19.675816Z",
     "iopub.status.busy": "2024-10-25T14:57:19.675378Z",
     "iopub.status.idle": "2024-10-25T14:57:19.677980Z",
     "shell.execute_reply": "2024-10-25T14:57:19.677485Z",
     "shell.execute_reply.started": "2024-10-25T14:57:19.675800Z"
    }
   },
   "outputs": [],
   "source": [
    "# log_sbfs"
   ]
  },
  {
   "cell_type": "code",
   "execution_count": 301,
   "id": "12529ff4-e495-4e3b-81eb-a2e7e659dd47",
   "metadata": {
    "execution": {
     "iopub.execute_input": "2024-10-25T14:57:13.935923Z",
     "iopub.status.busy": "2024-10-25T14:57:13.935553Z",
     "iopub.status.idle": "2024-10-25T14:57:13.938055Z",
     "shell.execute_reply": "2024-10-25T14:57:13.937663Z",
     "shell.execute_reply.started": "2024-10-25T14:57:13.935906Z"
    }
   },
   "outputs": [],
   "source": [
    "# dfc = printsig(r_log_split)\n",
    "# # dfa = pd.merge(df, dfc, on = 'feature', how = 'left')\n",
    "# dfa = pd.merge(dfa, dfc, on = 'feature', how = 'left')"
   ]
  },
  {
   "cell_type": "code",
   "execution_count": 280,
   "id": "3352d6b7-b025-46dd-a011-179439ca4ca5",
   "metadata": {
    "execution": {
     "iopub.execute_input": "2024-10-25T14:32:59.997544Z",
     "iopub.status.busy": "2024-10-25T14:32:59.996759Z",
     "iopub.status.idle": "2024-10-25T14:33:00.001737Z",
     "shell.execute_reply": "2024-10-25T14:33:00.001237Z",
     "shell.execute_reply.started": "2024-10-25T14:32:59.997526Z"
    }
   },
   "outputs": [],
   "source": [
    "# dfa.to_csv('/home/yelhe/script/mtp/tables/sigfeatures_try.csv', index = True)"
   ]
  },
  {
   "cell_type": "code",
   "execution_count": 300,
   "id": "32a4a23d-2137-45be-bca8-3d3aa86316bc",
   "metadata": {
    "execution": {
     "iopub.execute_input": "2024-10-25T14:57:11.069341Z",
     "iopub.status.busy": "2024-10-25T14:57:11.068933Z",
     "iopub.status.idle": "2024-10-25T14:57:11.071540Z",
     "shell.execute_reply": "2024-10-25T14:57:11.071096Z",
     "shell.execute_reply.started": "2024-10-25T14:57:11.069324Z"
    }
   },
   "outputs": [],
   "source": [
    "# df = pd.DataFrame()\n",
    "# cnvifnew = cnvif.copy()\n",
    "# cnvifnew.insert(0, 'const')\n",
    "# print(cnvifnew)\n",
    "# df['feature'] = cnvifnew"
   ]
  }
 ],
 "metadata": {
  "kernelspec": {
   "display_name": "Python 3 (ipykernel)",
   "language": "python",
   "name": "python3"
  },
  "language_info": {
   "codemirror_mode": {
    "name": "ipython",
    "version": 3
   },
   "file_extension": ".py",
   "mimetype": "text/x-python",
   "name": "python",
   "nbconvert_exporter": "python",
   "pygments_lexer": "ipython3",
   "version": "3.11.5"
  }
 },
 "nbformat": 4,
 "nbformat_minor": 5
}
