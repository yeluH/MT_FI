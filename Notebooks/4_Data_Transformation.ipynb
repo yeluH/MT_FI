{
 "cells": [
  {
   "cell_type": "markdown",
   "id": "eaf477e6-160a-4627-86d7-ec4ef775338f",
   "metadata": {},
   "source": [
    "# Preparation"
   ]
  },
  {
   "cell_type": "code",
   "execution_count": 1,
   "id": "814b498e-0791-4f34-a26a-13e042cbf8ef",
   "metadata": {
    "execution": {
     "iopub.execute_input": "2024-11-22T13:29:41.980166Z",
     "iopub.status.busy": "2024-11-22T13:29:41.979885Z",
     "iopub.status.idle": "2024-11-22T13:29:41.983797Z",
     "shell.execute_reply": "2024-11-22T13:29:41.982979Z",
     "shell.execute_reply.started": "2024-11-22T13:29:41.980142Z"
    }
   },
   "outputs": [],
   "source": [
    "# This file is based on: 1_regression_presence_of_accident\n",
    "# Remove features which were found correlated with others\n",
    "# Remove the categorical features which has only two categories\n",
    "# Remove features identified by VIF"
   ]
  },
  {
   "cell_type": "code",
   "execution_count": 2,
   "id": "7e9f75d8-3be9-45ef-b9ae-ad72fefb7ce1",
   "metadata": {
    "execution": {
     "iopub.execute_input": "2024-11-22T13:29:41.985186Z",
     "iopub.status.busy": "2024-11-22T13:29:41.985018Z",
     "iopub.status.idle": "2024-11-22T13:29:47.217436Z",
     "shell.execute_reply": "2024-11-22T13:29:47.216715Z",
     "shell.execute_reply.started": "2024-11-22T13:29:41.985171Z"
    }
   },
   "outputs": [],
   "source": [
    "import torch\n",
    "torch.cuda.empty_cache() "
   ]
  },
  {
   "cell_type": "code",
   "execution_count": 3,
   "id": "f3e5fa71-37bd-4efe-b8ee-ae3c362b2a1b",
   "metadata": {
    "execution": {
     "iopub.execute_input": "2024-11-22T13:29:47.218980Z",
     "iopub.status.busy": "2024-11-22T13:29:47.218601Z",
     "iopub.status.idle": "2024-11-22T13:29:48.102549Z",
     "shell.execute_reply": "2024-11-22T13:29:48.101930Z",
     "shell.execute_reply.started": "2024-11-22T13:29:47.218951Z"
    }
   },
   "outputs": [],
   "source": [
    "import os \n",
    "os.environ['MPLCONFIGDIR'] = os.getcwd() + \"/configs/\"\n",
    "import matplotlib\n",
    "from matplotlib import pyplot as plt\n",
    "import numpy as np\n",
    "import cv2\n",
    "import urllib.request\n",
    "from PIL import Image"
   ]
  },
  {
   "cell_type": "code",
   "execution_count": 4,
   "id": "132db61a-9aa6-4936-8ab4-054288d07d2e",
   "metadata": {
    "execution": {
     "iopub.execute_input": "2024-11-22T13:29:48.104850Z",
     "iopub.status.busy": "2024-11-22T13:29:48.104619Z",
     "iopub.status.idle": "2024-11-22T13:29:49.280055Z",
     "shell.execute_reply": "2024-11-22T13:29:49.279096Z",
     "shell.execute_reply.started": "2024-11-22T13:29:48.104827Z"
    }
   },
   "outputs": [],
   "source": [
    "import pandas as pd\n",
    "import pyproj"
   ]
  },
  {
   "cell_type": "code",
   "execution_count": 5,
   "id": "80d61825-dc8d-4005-9362-cf497e771695",
   "metadata": {
    "execution": {
     "iopub.execute_input": "2024-11-22T13:29:49.283976Z",
     "iopub.status.busy": "2024-11-22T13:29:49.283278Z",
     "iopub.status.idle": "2024-11-22T13:29:49.288141Z",
     "shell.execute_reply": "2024-11-22T13:29:49.287338Z",
     "shell.execute_reply.started": "2024-11-22T13:29:49.283947Z"
    }
   },
   "outputs": [],
   "source": [
    "import os \n",
    "os.environ['MPLCONFIGDIR'] = os.getcwd() + \"/configs/\"\n",
    "import matplotlib\n",
    "from matplotlib import pyplot as plt\n",
    "import numpy as np\n",
    "import cv2"
   ]
  },
  {
   "cell_type": "code",
   "execution_count": 6,
   "id": "31d6a097",
   "metadata": {
    "execution": {
     "iopub.execute_input": "2024-11-22T13:29:49.289405Z",
     "iopub.status.busy": "2024-11-22T13:29:49.289094Z",
     "iopub.status.idle": "2024-11-22T13:29:53.777658Z",
     "shell.execute_reply": "2024-11-22T13:29:53.777108Z",
     "shell.execute_reply.started": "2024-11-22T13:29:49.289379Z"
    }
   },
   "outputs": [],
   "source": [
    "from pathlib import Path\n",
    "import sklearn\n",
    "import seaborn as sn\n",
    "from scipy import stats\n",
    "from tabulate import tabulate\n",
    "import statsmodels.api as sm\n",
    "import statsmodels.tools as tools"
   ]
  },
  {
   "cell_type": "code",
   "execution_count": 7,
   "id": "923fac26-61e2-49dd-9099-e31ff4079430",
   "metadata": {
    "execution": {
     "iopub.execute_input": "2024-11-22T13:29:53.778648Z",
     "iopub.status.busy": "2024-11-22T13:29:53.778374Z",
     "iopub.status.idle": "2024-11-22T13:29:54.193183Z",
     "shell.execute_reply": "2024-11-22T13:29:54.192678Z",
     "shell.execute_reply.started": "2024-11-22T13:29:53.778630Z"
    }
   },
   "outputs": [],
   "source": [
    "from mtp_function_yl import *"
   ]
  },
  {
   "cell_type": "code",
   "execution_count": 204,
   "id": "e1804d06-b69a-4709-ac5c-1970d29c38a2",
   "metadata": {
    "execution": {
     "iopub.execute_input": "2024-11-22T14:43:18.183947Z",
     "iopub.status.busy": "2024-11-22T14:43:18.183675Z",
     "iopub.status.idle": "2024-11-22T14:43:18.188421Z",
     "shell.execute_reply": "2024-11-22T14:43:18.187835Z",
     "shell.execute_reply.started": "2024-11-22T14:43:18.183928Z"
    }
   },
   "outputs": [],
   "source": [
    "import sklearn\n",
    "from sklearn import metrics\n",
    "from sklearn.metrics import accuracy_score\n",
    "from sklearn.metrics import accuracy_score, confusion_matrix, roc_auc_score, roc_curve\n",
    "from sklearn.model_selection import train_test_split\n",
    "from sklearn import linear_model\n",
    "from sklearn.neighbors import KNeighborsClassifier\n",
    "from sklearn.ensemble import RandomForestClassifier\n",
    "from sklearn.preprocessing import LabelEncoder\n",
    "from sklearn.preprocessing import OneHotEncoder\n",
    "from sklearn.preprocessing import PowerTransformer\n",
    "from sklearn.preprocessing import MinMaxScaler\n",
    "import category_encoders as ce\n",
    "from sklearn import svm\n",
    "# For regression\n",
    "from sklearn.ensemble import RandomForestRegressor\n",
    "# from sklearn.metrics import PredictionErrorDisplay\n",
    "import mlxtend\n",
    "# For stepwise feature selection\n",
    "from mlxtend.feature_selection import SequentialFeatureSelector\n",
    "from mlxtend.plotting import plot_sequential_feature_selection as plot_sfs"
   ]
  },
  {
   "cell_type": "code",
   "execution_count": 9,
   "id": "52971dc9",
   "metadata": {
    "execution": {
     "iopub.execute_input": "2024-11-22T13:29:54.497656Z",
     "iopub.status.busy": "2024-11-22T13:29:54.497457Z",
     "iopub.status.idle": "2024-11-22T13:29:54.500208Z",
     "shell.execute_reply": "2024-11-22T13:29:54.499659Z",
     "shell.execute_reply.started": "2024-11-22T13:29:54.497642Z"
    }
   },
   "outputs": [],
   "source": [
    "import warnings\n",
    "warnings.simplefilter(action='ignore', category=FutureWarning)"
   ]
  },
  {
   "cell_type": "code",
   "execution_count": 10,
   "id": "2ab3a45d-22e0-47a8-8683-6379778d16af",
   "metadata": {
    "execution": {
     "iopub.execute_input": "2024-11-22T13:29:54.501069Z",
     "iopub.status.busy": "2024-11-22T13:29:54.500889Z",
     "iopub.status.idle": "2024-11-22T13:29:54.535474Z",
     "shell.execute_reply": "2024-11-22T13:29:54.535024Z",
     "shell.execute_reply.started": "2024-11-22T13:29:54.501045Z"
    }
   },
   "outputs": [],
   "source": [
    "# For documentation and version control\n",
    "# pip install watermark\n",
    "%load_ext watermark"
   ]
  },
  {
   "cell_type": "code",
   "execution_count": 11,
   "id": "2a136dd7-7bc6-41ab-9893-647a65990d75",
   "metadata": {
    "execution": {
     "iopub.execute_input": "2024-11-22T13:29:54.536738Z",
     "iopub.status.busy": "2024-11-22T13:29:54.536305Z",
     "iopub.status.idle": "2024-11-22T13:29:54.593911Z",
     "shell.execute_reply": "2024-11-22T13:29:54.593369Z",
     "shell.execute_reply.started": "2024-11-22T13:29:54.536710Z"
    }
   },
   "outputs": [
    {
     "name": "stdout",
     "output_type": "stream",
     "text": [
      "Last updated: 2024-11-22\n",
      "\n",
      "Python implementation: CPython\n",
      "Python version       : 3.11.5\n",
      "IPython version      : 8.14.0\n",
      "\n",
      "Compiler    : GCC 12.3.0\n",
      "OS          : Linux\n",
      "Release     : 5.15.0-124-generic\n",
      "Machine     : x86_64\n",
      "Processor   : x86_64\n",
      "CPU cores   : 48\n",
      "Architecture: 64bit\n",
      "\n",
      "cv2              : 4.8.1\n",
      "pandas           : 2.0.3\n",
      "seaborn          : 0.12.2\n",
      "mlxtend          : 0.23.1\n",
      "scipy            : 1.14.0\n",
      "matplotlib       : 3.7.2\n",
      "shapely          : 2.0.2\n",
      "numpy            : 1.26.4\n",
      "PIL              : 10.0.0\n",
      "sklearn          : 1.3.0\n",
      "pyproj           : 3.6.1\n",
      "category_encoders: 2.6.3\n",
      "statsmodels      : 0.14.4\n",
      "torch            : 2.0.1\n",
      "\n"
     ]
    }
   ],
   "source": [
    "%watermark  -u -d -v -m --iversions"
   ]
  },
  {
   "cell_type": "markdown",
   "id": "df1542b0-34ad-4eae-b4c8-7a03d8746e08",
   "metadata": {},
   "source": [
    "# Data Loading and Processing"
   ]
  },
  {
   "cell_type": "markdown",
   "id": "48c888ab-9d8a-44c5-afa5-ba97a7420e4f",
   "metadata": {},
   "source": [
    "## Data loading"
   ]
  },
  {
   "cell_type": "code",
   "execution_count": 12,
   "id": "f50ffc24-8966-4dc5-904f-f676826b3a8e",
   "metadata": {
    "execution": {
     "iopub.execute_input": "2024-11-22T13:29:54.595144Z",
     "iopub.status.busy": "2024-11-22T13:29:54.594649Z",
     "iopub.status.idle": "2024-11-22T13:29:54.597568Z",
     "shell.execute_reply": "2024-11-22T13:29:54.597107Z",
     "shell.execute_reply.started": "2024-11-22T13:29:54.595118Z"
    }
   },
   "outputs": [],
   "source": [
    "# Check the normalization and standardization of data\n",
    "# Previously: yeojohnson transformation for normalization; zscore for standardization"
   ]
  },
  {
   "cell_type": "code",
   "execution_count": 13,
   "id": "df86ee79-b078-4189-936b-0124643eb055",
   "metadata": {
    "execution": {
     "iopub.execute_input": "2024-11-22T13:29:54.598567Z",
     "iopub.status.busy": "2024-11-22T13:29:54.598355Z",
     "iopub.status.idle": "2024-11-22T13:29:54.606040Z",
     "shell.execute_reply": "2024-11-22T13:29:54.605548Z",
     "shell.execute_reply.started": "2024-11-22T13:29:54.598547Z"
    }
   },
   "outputs": [],
   "source": [
    "# # Raw data (without transformation and standardization)\n",
    "\n",
    "# # Curb related variables of accident points\n",
    "# dfac_cr = pd.read_csv('/home/yelhe/script/mt/output/accident_crevall_new.csv')\n",
    "# # Curb related variables of pseudo points\n",
    "# dfrp_cr = pd.read_csv('/home/yelhe/script/mt/output/pseudo_crevall_new.csv')\n",
    "\n",
    "# # Traffic transport variables of accident points\n",
    "# dfac_tt = pd.read_csv('/home/yelhe/data/Traffic_network_variables/ttvariables_sum_final.csv')\n",
    "# # Traffic transport variables of pseudo points\n",
    "# dfrp_tt = pd.read_csv('/home/yelhe/data/Traffic_network_variables/ttvariables_rp_final.csv')\n",
    "\n",
    "# # accident_rm_norm_stan_new : accident points, after normalization and standardization \n",
    "# # pseudo_rm_norm_stan_rp : pseudo points, after normalization and standardization\n",
    "# # ttvariables_rp_all_final : pseudo points, after normalization and standardization, add categorical variables\n",
    "# # ttvarialbes_all_final : accident points, after normalization and standardization, add categorical variables"
   ]
  },
  {
   "cell_type": "code",
   "execution_count": 14,
   "id": "f20a304b-37cb-4ff6-8c5b-4d3b786c620f",
   "metadata": {
    "execution": {
     "iopub.execute_input": "2024-11-22T13:29:54.608568Z",
     "iopub.status.busy": "2024-11-22T13:29:54.608363Z",
     "iopub.status.idle": "2024-11-22T13:29:54.614072Z",
     "shell.execute_reply": "2024-11-22T13:29:54.613566Z",
     "shell.execute_reply.started": "2024-11-22T13:29:54.608553Z"
    }
   },
   "outputs": [],
   "source": [
    "# print(dfac_cr.shape, dfrp_cr.shape, dfac_tt.shape, dfrp_tt.shape)"
   ]
  },
  {
   "cell_type": "code",
   "execution_count": 15,
   "id": "7cd12121-10b3-47bd-b67f-bf8f9a4b8030",
   "metadata": {
    "execution": {
     "iopub.execute_input": "2024-11-22T13:29:54.615190Z",
     "iopub.status.busy": "2024-11-22T13:29:54.614755Z",
     "iopub.status.idle": "2024-11-22T13:29:54.622602Z",
     "shell.execute_reply": "2024-11-22T13:29:54.622111Z",
     "shell.execute_reply.started": "2024-11-22T13:29:54.615168Z"
    }
   },
   "outputs": [],
   "source": [
    "# # Merge variables for dfac\n",
    "# dfac_cr = dfac_cr.rename(columns = {'id':'Nr'})\n",
    "# dfac = dfac_cr.merge(dfac_tt, how = 'left', on = ['Nr'])\n",
    "# # Check NA\n",
    "# print(dfac.isnull().values.any())\n",
    "# # Merge variables for dfrp\n",
    "# dfrp = dfrp_cr.merge(dfrp_tt, how = 'left', on = ['id'])"
   ]
  },
  {
   "cell_type": "code",
   "execution_count": 16,
   "id": "aac8d08c-85a1-479c-9851-38b0c3bf8053",
   "metadata": {
    "execution": {
     "iopub.execute_input": "2024-11-22T13:29:54.623673Z",
     "iopub.status.busy": "2024-11-22T13:29:54.623269Z",
     "iopub.status.idle": "2024-11-22T13:29:54.631177Z",
     "shell.execute_reply": "2024-11-22T13:29:54.630694Z",
     "shell.execute_reply.started": "2024-11-22T13:29:54.623651Z"
    }
   },
   "outputs": [],
   "source": [
    "# # Output\n",
    "# # Raw variables of accident points\n",
    "# dfac.to_csv('/home/yelhe/script/mtp/redo_model_input/acc_rawvar.csv', index = False)\n",
    "# # Raw variables of random pseudo points\n",
    "# dfrp.to_csv('/home/yelhe/script/mtp/redo_model_input/pse_rawvar.csv', index = False)"
   ]
  },
  {
   "cell_type": "code",
   "execution_count": 17,
   "id": "ab2340c6-963b-4cea-a5e2-f853730c2bd7",
   "metadata": {
    "execution": {
     "iopub.execute_input": "2024-11-22T13:29:54.632445Z",
     "iopub.status.busy": "2024-11-22T13:29:54.631968Z",
     "iopub.status.idle": "2024-11-22T13:29:54.639764Z",
     "shell.execute_reply": "2024-11-22T13:29:54.639295Z",
     "shell.execute_reply.started": "2024-11-22T13:29:54.632421Z"
    }
   },
   "outputs": [],
   "source": [
    "# # Drop some variables\n",
    "# dfacr = dfac.drop(columns = ['z_stznr', 'r_surface'])\n",
    "# dfrpr = dfrp.drop(columns = ['z_stznr', 'r_surface'])\n",
    "# # NOTICE: dcurb, curbtype (just from city plan datasets; droad not always equal droad_sl)"
   ]
  },
  {
   "cell_type": "code",
   "execution_count": 18,
   "id": "be24a94f-813f-4de7-9063-017b145a73ae",
   "metadata": {
    "execution": {
     "iopub.execute_input": "2024-11-22T13:29:54.641001Z",
     "iopub.status.busy": "2024-11-22T13:29:54.640554Z",
     "iopub.status.idle": "2024-11-22T13:29:54.692757Z",
     "shell.execute_reply": "2024-11-22T13:29:54.692268Z",
     "shell.execute_reply.started": "2024-11-22T13:29:54.640973Z"
    }
   },
   "outputs": [],
   "source": [
    "# load dataset processed above\n",
    "dfac = pd.read_csv('/home/yelhe/script/mtp/redo_model_input/acc_rawvar.csv')\n",
    "dfrp = pd.read_csv('/home/yelhe/script/mtp/redo_model_input/pse_rawvar.csv')"
   ]
  },
  {
   "cell_type": "code",
   "execution_count": 19,
   "id": "1fff49a0-c14f-40ca-8df3-23ff6322b61a",
   "metadata": {
    "execution": {
     "iopub.execute_input": "2024-11-22T13:30:06.728214Z",
     "iopub.status.busy": "2024-11-22T13:30:06.727919Z",
     "iopub.status.idle": "2024-11-22T13:30:06.731591Z",
     "shell.execute_reply": "2024-11-22T13:30:06.730954Z",
     "shell.execute_reply.started": "2024-11-22T13:30:06.728195Z"
    }
   },
   "outputs": [
    {
     "name": "stdout",
     "output_type": "stream",
     "text": [
      "(295, 45) (792, 45)\n"
     ]
    }
   ],
   "source": [
    "print(dfac.shape, dfrp.shape)"
   ]
  },
  {
   "cell_type": "markdown",
   "id": "a45e8422-c75f-4fd3-ad8d-3325915cc23c",
   "metadata": {},
   "source": [
    "## Data processing"
   ]
  },
  {
   "cell_type": "code",
   "execution_count": 20,
   "id": "8af4651a-ddf0-4820-979e-e083dd277a77",
   "metadata": {
    "execution": {
     "iopub.execute_input": "2024-11-22T13:30:07.044020Z",
     "iopub.status.busy": "2024-11-22T13:30:07.043746Z",
     "iopub.status.idle": "2024-11-22T13:30:07.053258Z",
     "shell.execute_reply": "2024-11-22T13:30:07.052347Z",
     "shell.execute_reply.started": "2024-11-22T13:30:07.044002Z"
    }
   },
   "outputs": [],
   "source": [
    "# NOTICE:\n",
    "## For accident presence, a combination of accident points and pseudo points is needed;\n",
    "## For accident severity, only the set of accident points is needed."
   ]
  },
  {
   "cell_type": "code",
   "execution_count": 21,
   "id": "1298e53d-f2c6-4d3e-8e00-d296e2168f02",
   "metadata": {
    "execution": {
     "iopub.execute_input": "2024-11-22T13:30:07.311080Z",
     "iopub.status.busy": "2024-11-22T13:30:07.310761Z",
     "iopub.status.idle": "2024-11-22T13:30:07.314180Z",
     "shell.execute_reply": "2024-11-22T13:30:07.313548Z",
     "shell.execute_reply.started": "2024-11-22T13:30:07.311062Z"
    }
   },
   "outputs": [],
   "source": [
    "# # For accident presence\n",
    "\n",
    "# # Generate variable: acp, 1 for presence and 0 for absence\n",
    "# dfrpr = dfrpr.rename(columns = {'id':'Nr'})\n",
    "# dfacr = dfacr.assign(acp = 1)\n",
    "# dfrpr = dfrpr.assign(acp = 0)\n",
    "# # For accident prensence, combine the two datasets\n",
    "# print(dfacr.shape, dfrpr.shape)\n",
    "# df_acp_raw = pd.concat([dfacr, dfrpr], ignore_index = True, keys = ['ac','rp'])"
   ]
  },
  {
   "cell_type": "code",
   "execution_count": 22,
   "id": "3e79689d-a8b5-4b20-9953-107e8cc280e8",
   "metadata": {
    "execution": {
     "iopub.execute_input": "2024-11-22T13:30:07.545475Z",
     "iopub.status.busy": "2024-11-22T13:30:07.545201Z",
     "iopub.status.idle": "2024-11-22T13:30:07.547990Z",
     "shell.execute_reply": "2024-11-22T13:30:07.547380Z",
     "shell.execute_reply.started": "2024-11-22T13:30:07.545458Z"
    }
   },
   "outputs": [],
   "source": [
    "## Output: raw variables for presence of accidents\n",
    "# df_acp_raw.to_csv('/home/yelhe/script/mtp/redo_model_input/model_acp_rawvar.csv', index = False)"
   ]
  },
  {
   "cell_type": "code",
   "execution_count": 23,
   "id": "7482f2cd-887a-4c91-b2d3-dbc1d496bbc4",
   "metadata": {
    "execution": {
     "iopub.execute_input": "2024-11-22T13:30:07.781081Z",
     "iopub.status.busy": "2024-11-22T13:30:07.780818Z",
     "iopub.status.idle": "2024-11-22T13:30:07.783864Z",
     "shell.execute_reply": "2024-11-22T13:30:07.783139Z",
     "shell.execute_reply.started": "2024-11-22T13:30:07.781063Z"
    }
   },
   "outputs": [],
   "source": [
    "# ## For accident severity\n",
    "# # Load data with severity variables\n",
    "# df_sev = pd.read_csv('/home/yelhe/script/mt/model/dfacrsv.csv')\n",
    "# sev = df_sev[['Nr','SV','LV','pd','svp','lvp','pdp','inp']]\n",
    "# df_sev_raw = dfacr.merge(sev, how = 'left', on = ['Nr'])"
   ]
  },
  {
   "cell_type": "code",
   "execution_count": 24,
   "id": "fbabf16b-287a-446c-b699-655107e8ba51",
   "metadata": {
    "execution": {
     "iopub.execute_input": "2024-11-22T13:30:08.035290Z",
     "iopub.status.busy": "2024-11-22T13:30:08.034994Z",
     "iopub.status.idle": "2024-11-22T13:30:08.038009Z",
     "shell.execute_reply": "2024-11-22T13:30:08.037303Z",
     "shell.execute_reply.started": "2024-11-22T13:30:08.035270Z"
    }
   },
   "outputs": [],
   "source": [
    "# # # Output: raw variables for severity of accidents\n",
    "# df_sev_raw.to_csv('/home/yelhe/script/mtp/redo_model_input/model_acs_rawvar.csv', index = False)"
   ]
  },
  {
   "cell_type": "code",
   "execution_count": 25,
   "id": "d3e1fadf-a652-460f-b20f-31f05d78aa07",
   "metadata": {
    "execution": {
     "iopub.execute_input": "2024-11-22T13:30:08.284390Z",
     "iopub.status.busy": "2024-11-22T13:30:08.284090Z",
     "iopub.status.idle": "2024-11-22T13:30:08.316576Z",
     "shell.execute_reply": "2024-11-22T13:30:08.316100Z",
     "shell.execute_reply.started": "2024-11-22T13:30:08.284371Z"
    }
   },
   "outputs": [],
   "source": [
    "# Reload above-processed data\n",
    "acpr = pd.read_csv('/home/yelhe/script/mtp/redo_model_input/model_acp_rawvar.csv')\n",
    "acsr = pd.read_csv('/home/yelhe/script/mtp/redo_model_input/model_acs_rawvar.csv')"
   ]
  },
  {
   "cell_type": "code",
   "execution_count": 26,
   "id": "90364022-8574-4204-9bb6-f44807c1c5ae",
   "metadata": {
    "execution": {
     "iopub.execute_input": "2024-11-22T13:30:08.626240Z",
     "iopub.status.busy": "2024-11-22T13:30:08.625953Z",
     "iopub.status.idle": "2024-11-22T13:30:08.629764Z",
     "shell.execute_reply": "2024-11-22T13:30:08.629170Z",
     "shell.execute_reply.started": "2024-11-22T13:30:08.626223Z"
    }
   },
   "outputs": [
    {
     "name": "stdout",
     "output_type": "stream",
     "text": [
      "(1087, 44) (295, 50)\n"
     ]
    }
   ],
   "source": [
    "print(acpr.shape, acsr.shape)"
   ]
  },
  {
   "cell_type": "markdown",
   "id": "b632f192-8186-443c-a580-c576f51e7c6d",
   "metadata": {},
   "source": [
    "## Data transformation\n",
    "### Distribution checking"
   ]
  },
  {
   "cell_type": "code",
   "execution_count": 27,
   "id": "98fac8df-59be-45ef-b55d-81104b45be37",
   "metadata": {
    "execution": {
     "iopub.execute_input": "2024-11-22T13:30:12.650424Z",
     "iopub.status.busy": "2024-11-22T13:30:12.649937Z",
     "iopub.status.idle": "2024-11-22T13:30:12.655280Z",
     "shell.execute_reply": "2024-11-22T13:30:12.654645Z",
     "shell.execute_reply.started": "2024-11-22T13:30:12.650404Z"
    }
   },
   "outputs": [],
   "source": [
    "# Drop columns\n",
    "# acpr = acpr.drop(columns = ['d_carcount', 'd_bicyclecount', 'dgvm', 'dcurb', 'curbtype'])\n",
    "# acsr = acsr.drop(columns = ['d_carcount', 'd_bicyclecount', 'dgvm', 'dcurb', 'curbtype'])\n",
    "# Numeric variables\n",
    "c1 = ['cmean', 'cmin', 'csum', 'cmax', 'cp', 'mewmin', 'megmin', 'iemin',\n",
    "      'mewmax', 'megmax', 'iemax', 'mew', 'meg', 'ie',  'dbusl', 'dtraml',\n",
    "      'dtrainl', 'dplight', 'dstation', 'dparkcar', 'dparktw', 'dpedcro',\n",
    "      'dstopsign', 'dtrafficarea', 'droad','droad_sl','dvfpath',\n",
    "      'gvm_dwv', 'gvm_msp', 'gvm_asp', 'r_width', 'speedlimit',  \n",
    "      'bicyclecount', 'carcount']\n",
    "# Categorical variables\n",
    "c2 = ['z_qnr', 'z_knr','trafficarea','r_width','speedlimit']\n",
    "# All variables\n",
    "c3 = ['Nr', 'cmean', 'cmin', 'csum', 'cmax', 'cp', 'mewmin', 'megmin', 'iemin',\n",
    "      'mewmax', 'megmax', 'iemax', 'mew', 'meg', 'ie',  'dbusl', 'dtraml',\n",
    "      'dtrainl', 'dplight', 'dstation', 'dparkcar', 'dparktw', 'dpedcro',\n",
    "      'dstopsign', 'dtrafficarea', 'droad','droad_sl','dvfpath',\n",
    "      'gvm_dwv', 'gvm_msp', 'gvm_asp', 'r_width', 'speedlimit',  \n",
    "      'bicyclecount', 'carcount','z_qnr', 'z_knr','trafficarea',\n",
    "      'r_width','speedlimit']\n",
    "# 'Nr' + c1\n",
    "c4 = c1.copy()\n",
    "c4.insert(0, 'Nr')\n",
    "# 'Nr' + c2\n",
    "c5 = c2.copy()\n",
    "c5.insert(0, 'Nr')"
   ]
  },
  {
   "cell_type": "markdown",
   "id": "c862b858-e00d-46e9-8c7a-fdefb0b58187",
   "metadata": {},
   "source": [
    "### Normalization"
   ]
  },
  {
   "cell_type": "markdown",
   "id": "a3ca7b93-0c73-40cf-8087-81482e65045f",
   "metadata": {},
   "source": [
    "#### For presence of accidents"
   ]
  },
  {
   "cell_type": "code",
   "execution_count": 28,
   "id": "528f5ee3-85db-44ff-a9a9-cdbfe2dc462d",
   "metadata": {
    "execution": {
     "iopub.execute_input": "2024-11-22T13:30:17.468568Z",
     "iopub.status.busy": "2024-11-22T13:30:17.468288Z",
     "iopub.status.idle": "2024-11-22T13:30:17.513779Z",
     "shell.execute_reply": "2024-11-22T13:30:17.513296Z",
     "shell.execute_reply.started": "2024-11-22T13:30:17.468551Z"
    }
   },
   "outputs": [],
   "source": [
    "# normaltest pvalue (if it's bigger than alpha for example 0.05, we could say it's normal)\n",
    "nmpv = []\n",
    "for i in range(0, len(c1)):\n",
    "    nmpv.append((stats.normaltest(acpr[c1[i]])).pvalue)\n",
    "# print(nmpv)\n",
    "dfnmpv = pd.DataFrame()\n",
    "dfnmpv['var'] = c1\n",
    "dfnmpv['pv'] = nmpv\n",
    "# dfnmpv[dfnmpv['pv']>0.05]"
   ]
  },
  {
   "cell_type": "code",
   "execution_count": 29,
   "id": "1485528e-e7c7-48f2-8dc2-91c7b2c521ce",
   "metadata": {
    "execution": {
     "iopub.execute_input": "2024-11-22T13:30:22.071987Z",
     "iopub.status.busy": "2024-11-22T13:30:22.071708Z",
     "iopub.status.idle": "2024-11-22T13:30:22.086398Z",
     "shell.execute_reply": "2024-11-22T13:30:22.085817Z",
     "shell.execute_reply.started": "2024-11-22T13:30:22.071969Z"
    }
   },
   "outputs": [],
   "source": [
    "# Shapiron test (the closer to 1 the closer to normal distribution)\n",
    "shpv = []\n",
    "for i in range(0, len(c1)):\n",
    "    shpv.append((stats.shapiro(acpr[c1[i]])).pvalue)\n",
    "dfshpv = pd.DataFrame()\n",
    "dfshpv['var'] = c1\n",
    "dfshpv['pv'] = shpv\n",
    "# dfnmpv[dfnmpv['pv']>0.05]"
   ]
  },
  {
   "cell_type": "code",
   "execution_count": 30,
   "id": "6ddf3992-47d5-455f-843b-12acb63a63aa",
   "metadata": {
    "execution": {
     "iopub.execute_input": "2024-11-22T13:30:22.500742Z",
     "iopub.status.busy": "2024-11-22T13:30:22.500464Z",
     "iopub.status.idle": "2024-11-22T13:30:22.504072Z",
     "shell.execute_reply": "2024-11-22T13:30:22.503416Z",
     "shell.execute_reply.started": "2024-11-22T13:30:22.500724Z"
    }
   },
   "outputs": [],
   "source": [
    "# Perform yeojohnson transformation\n",
    "acp_yj = pd.DataFrame()"
   ]
  },
  {
   "cell_type": "code",
   "execution_count": 31,
   "id": "da591a99-a135-4f2f-8bea-50240b3c7490",
   "metadata": {
    "execution": {
     "iopub.execute_input": "2024-11-22T13:30:23.269449Z",
     "iopub.status.busy": "2024-11-22T13:30:23.269186Z",
     "iopub.status.idle": "2024-11-22T13:30:23.360642Z",
     "shell.execute_reply": "2024-11-22T13:30:23.360174Z",
     "shell.execute_reply.started": "2024-11-22T13:30:23.269431Z"
    }
   },
   "outputs": [],
   "source": [
    "acp_yj[c4[0]] = acpr[c4[0]]\n",
    "for i in range(1, 35):\n",
    "    acp_yj[c4[i]], lmbda = stats.yeojohnson(acpr[c4[i]])\n",
    "    # print(i, lmbda)"
   ]
  },
  {
   "cell_type": "code",
   "execution_count": 63,
   "id": "8de01dc2-e08b-40ac-a320-1b318ea2d738",
   "metadata": {
    "execution": {
     "iopub.execute_input": "2024-11-22T14:06:05.903595Z",
     "iopub.status.busy": "2024-11-22T14:06:05.903209Z",
     "iopub.status.idle": "2024-11-22T14:06:06.012109Z",
     "shell.execute_reply": "2024-11-22T14:06:06.011511Z",
     "shell.execute_reply.started": "2024-11-22T14:06:05.903574Z"
    }
   },
   "outputs": [],
   "source": [
    "# Use scikit-learn powertransformer \n",
    "acp_yj1 = pd.DataFrame()\n",
    "acp_yj1[c4[0]] = acpr[c4[0]]\n",
    "for i in range(1, 35):\n",
    "    ar = np.array(acpr[c4[i]]).reshape(-1,1)\n",
    "    acp_yj1[c4[i]] = PowerTransformer(method = 'yeo-johnson', standardize = True).fit_transform(ar)\n",
    "    # print(i)"
   ]
  },
  {
   "cell_type": "code",
   "execution_count": 161,
   "id": "89aeb672-eb15-4721-8748-52593126da95",
   "metadata": {
    "execution": {
     "iopub.execute_input": "2024-11-22T14:31:28.716573Z",
     "iopub.status.busy": "2024-11-22T14:31:28.716290Z",
     "iopub.status.idle": "2024-11-22T14:31:28.719350Z",
     "shell.execute_reply": "2024-11-22T14:31:28.718709Z",
     "shell.execute_reply.started": "2024-11-22T14:31:28.716553Z"
    }
   },
   "outputs": [],
   "source": [
    "# # normaltest pvalue (if it's bigger than alpha for example 0.05, we could say it's normal)\n",
    "# nmpv_yj = []\n",
    "# for i in range(0, len(c1)):\n",
    "#     nmpv_yj.append((stats.normaltest(acp_yj[c1[i]])).pvalue)\n",
    "# dfnmpv_yj = pd.DataFrame()\n",
    "# dfnmpv_yj['var'] = c1\n",
    "# dfnmpv_yj['pv'] = nmpv_yj\n",
    "# dfnmpv_yj[dfnmpv_yj['pv']>0.05]"
   ]
  },
  {
   "cell_type": "code",
   "execution_count": 162,
   "id": "277de41b-95aa-43fb-aa44-1bdcd24e8696",
   "metadata": {
    "execution": {
     "iopub.execute_input": "2024-11-22T14:31:30.950907Z",
     "iopub.status.busy": "2024-11-22T14:31:30.950084Z",
     "iopub.status.idle": "2024-11-22T14:31:30.954755Z",
     "shell.execute_reply": "2024-11-22T14:31:30.954108Z",
     "shell.execute_reply.started": "2024-11-22T14:31:30.950882Z"
    }
   },
   "outputs": [],
   "source": [
    "# # Shapiron test (the closer to 1 the closer to normal distribution)\n",
    "# shpv_yj = []\n",
    "# for i in range(0, len(c1)):\n",
    "#     shpv_yj.append((stats.shapiro(acp_yj[c1[i]])).pvalue)\n",
    "# dfshpv_yj = pd.DataFrame()\n",
    "# dfshpv_yj['var'] = c1\n",
    "# dfshpv_yj['pv'] = shpv_yj\n",
    "# dfshpv_yj[dfshpv_yj['pv']>0.05]"
   ]
  },
  {
   "cell_type": "code",
   "execution_count": 65,
   "id": "addbea27-2b15-44c4-87c2-e439f7517b84",
   "metadata": {
    "execution": {
     "iopub.execute_input": "2024-11-22T14:07:16.642730Z",
     "iopub.status.busy": "2024-11-22T14:07:16.642319Z",
     "iopub.status.idle": "2024-11-22T14:07:16.682272Z",
     "shell.execute_reply": "2024-11-22T14:07:16.681679Z",
     "shell.execute_reply.started": "2024-11-22T14:07:16.642708Z"
    }
   },
   "outputs": [
    {
     "data": {
      "text/html": [
       "<div>\n",
       "<style scoped>\n",
       "    .dataframe tbody tr th:only-of-type {\n",
       "        vertical-align: middle;\n",
       "    }\n",
       "\n",
       "    .dataframe tbody tr th {\n",
       "        vertical-align: top;\n",
       "    }\n",
       "\n",
       "    .dataframe thead th {\n",
       "        text-align: right;\n",
       "    }\n",
       "</style>\n",
       "<table border=\"1\" class=\"dataframe\">\n",
       "  <thead>\n",
       "    <tr style=\"text-align: right;\">\n",
       "      <th></th>\n",
       "      <th>var</th>\n",
       "      <th>pv</th>\n",
       "    </tr>\n",
       "  </thead>\n",
       "  <tbody>\n",
       "    <tr>\n",
       "      <th>5</th>\n",
       "      <td>mewmin</td>\n",
       "      <td>0.997842</td>\n",
       "    </tr>\n",
       "    <tr>\n",
       "      <th>8</th>\n",
       "      <td>mewmax</td>\n",
       "      <td>0.975247</td>\n",
       "    </tr>\n",
       "    <tr>\n",
       "      <th>9</th>\n",
       "      <td>megmax</td>\n",
       "      <td>0.591210</td>\n",
       "    </tr>\n",
       "    <tr>\n",
       "      <th>11</th>\n",
       "      <td>mew</td>\n",
       "      <td>0.981678</td>\n",
       "    </tr>\n",
       "    <tr>\n",
       "      <th>12</th>\n",
       "      <td>meg</td>\n",
       "      <td>0.912928</td>\n",
       "    </tr>\n",
       "    <tr>\n",
       "      <th>16</th>\n",
       "      <td>dtrainl</td>\n",
       "      <td>0.165498</td>\n",
       "    </tr>\n",
       "    <tr>\n",
       "      <th>21</th>\n",
       "      <td>dpedcro</td>\n",
       "      <td>0.331637</td>\n",
       "    </tr>\n",
       "    <tr>\n",
       "      <th>22</th>\n",
       "      <td>dstopsign</td>\n",
       "      <td>0.990789</td>\n",
       "    </tr>\n",
       "    <tr>\n",
       "      <th>33</th>\n",
       "      <td>carcount</td>\n",
       "      <td>0.289830</td>\n",
       "    </tr>\n",
       "  </tbody>\n",
       "</table>\n",
       "</div>"
      ],
      "text/plain": [
       "          var        pv\n",
       "5      mewmin  0.997842\n",
       "8      mewmax  0.975247\n",
       "9      megmax  0.591210\n",
       "11        mew  0.981678\n",
       "12        meg  0.912928\n",
       "16    dtrainl  0.165498\n",
       "21    dpedcro  0.331637\n",
       "22  dstopsign  0.990789\n",
       "33   carcount  0.289830"
      ]
     },
     "execution_count": 65,
     "metadata": {},
     "output_type": "execute_result"
    }
   ],
   "source": [
    "# normaltest pvalue (if it's bigger than alpha for example 0.05, we could say it's normal)\n",
    "nmpv_yj1 = []\n",
    "for i in range(0, len(c1)):\n",
    "    nmpv_yj1.append((stats.normaltest(acp_yj1[c1[i]])).pvalue)\n",
    "dfnmpv_yj1 = pd.DataFrame()\n",
    "dfnmpv_yj1['var'] = c1\n",
    "dfnmpv_yj1['pv'] = nmpv_yj1\n",
    "dfnmpv_yj1[dfnmpv_yj1['pv']>0.05]"
   ]
  },
  {
   "cell_type": "code",
   "execution_count": 66,
   "id": "b027c33f-06b1-416e-b165-2e8ebc699fd5",
   "metadata": {
    "execution": {
     "iopub.execute_input": "2024-11-22T14:07:18.807130Z",
     "iopub.status.busy": "2024-11-22T14:07:18.806500Z",
     "iopub.status.idle": "2024-11-22T14:07:18.824322Z",
     "shell.execute_reply": "2024-11-22T14:07:18.823711Z",
     "shell.execute_reply.started": "2024-11-22T14:07:18.807090Z"
    }
   },
   "outputs": [
    {
     "data": {
      "text/html": [
       "<div>\n",
       "<style scoped>\n",
       "    .dataframe tbody tr th:only-of-type {\n",
       "        vertical-align: middle;\n",
       "    }\n",
       "\n",
       "    .dataframe tbody tr th {\n",
       "        vertical-align: top;\n",
       "    }\n",
       "\n",
       "    .dataframe thead th {\n",
       "        text-align: right;\n",
       "    }\n",
       "</style>\n",
       "<table border=\"1\" class=\"dataframe\">\n",
       "  <thead>\n",
       "    <tr style=\"text-align: right;\">\n",
       "      <th></th>\n",
       "      <th>var</th>\n",
       "      <th>pv</th>\n",
       "    </tr>\n",
       "  </thead>\n",
       "  <tbody>\n",
       "    <tr>\n",
       "      <th>5</th>\n",
       "      <td>mewmin</td>\n",
       "      <td>0.789830</td>\n",
       "    </tr>\n",
       "    <tr>\n",
       "      <th>8</th>\n",
       "      <td>mewmax</td>\n",
       "      <td>0.977424</td>\n",
       "    </tr>\n",
       "    <tr>\n",
       "      <th>11</th>\n",
       "      <td>mew</td>\n",
       "      <td>0.911173</td>\n",
       "    </tr>\n",
       "    <tr>\n",
       "      <th>12</th>\n",
       "      <td>meg</td>\n",
       "      <td>0.078036</td>\n",
       "    </tr>\n",
       "    <tr>\n",
       "      <th>20</th>\n",
       "      <td>dparktw</td>\n",
       "      <td>0.094959</td>\n",
       "    </tr>\n",
       "    <tr>\n",
       "      <th>22</th>\n",
       "      <td>dstopsign</td>\n",
       "      <td>0.702163</td>\n",
       "    </tr>\n",
       "  </tbody>\n",
       "</table>\n",
       "</div>"
      ],
      "text/plain": [
       "          var        pv\n",
       "5      mewmin  0.789830\n",
       "8      mewmax  0.977424\n",
       "11        mew  0.911173\n",
       "12        meg  0.078036\n",
       "20    dparktw  0.094959\n",
       "22  dstopsign  0.702163"
      ]
     },
     "execution_count": 66,
     "metadata": {},
     "output_type": "execute_result"
    }
   ],
   "source": [
    "# Shapiron test (the closer to 1 the closer to normal distribution)\n",
    "shpv_yj1 = []\n",
    "for i in range(0, len(c1)):\n",
    "    shpv_yj1.append((stats.shapiro(acp_yj1[c1[i]])).pvalue)\n",
    "dfshpv_yj1 = pd.DataFrame()\n",
    "dfshpv_yj1['var'] = c1\n",
    "dfshpv_yj1['pv'] = shpv_yj1\n",
    "dfshpv_yj1[dfshpv_yj1['pv']>0.05]"
   ]
  },
  {
   "cell_type": "code",
   "execution_count": 158,
   "id": "4b35e0b7-83a6-4fa7-9962-bc4350c19f7f",
   "metadata": {
    "execution": {
     "iopub.execute_input": "2024-11-22T14:29:32.248667Z",
     "iopub.status.busy": "2024-11-22T14:29:32.248203Z",
     "iopub.status.idle": "2024-11-22T14:29:32.251537Z",
     "shell.execute_reply": "2024-11-22T14:29:32.250865Z",
     "shell.execute_reply.started": "2024-11-22T14:29:32.248644Z"
    }
   },
   "outputs": [],
   "source": [
    "# i = i+1\n",
    "# fig, axes = plt.subplots(2)\n",
    "# sm.qqplot(acp_yj[c1[i]], stats.distributions.norm, fit = True,  line = 's', ax = axes[0])\n",
    "# axes[0].set_title(c1[i])\n",
    "# sm.qqplot(acp_yj1[c1[i]], stats.distributions.norm, fit = True,  line = 's', ax = axes[1])\n",
    "# axes[1].set_title(c1[i])"
   ]
  },
  {
   "cell_type": "code",
   "execution_count": 160,
   "id": "df70a5bc-4311-4f2c-927d-e651d03b7f8c",
   "metadata": {
    "execution": {
     "iopub.execute_input": "2024-11-22T14:29:36.652768Z",
     "iopub.status.busy": "2024-11-22T14:29:36.652384Z",
     "iopub.status.idle": "2024-11-22T14:29:36.655481Z",
     "shell.execute_reply": "2024-11-22T14:29:36.654842Z",
     "shell.execute_reply.started": "2024-11-22T14:29:36.652747Z"
    }
   },
   "outputs": [],
   "source": [
    "# i = i+1\n",
    "# fig, axes = plt.subplots(2)\n",
    "# axes[0].hist(acp_yj[c4[i]])\n",
    "# axes[1].hist(acp_yj1[c4[i]])"
   ]
  },
  {
   "cell_type": "code",
   "execution_count": null,
   "id": "46d67c3c-ed9d-49fb-83ff-2ceaec4b6119",
   "metadata": {},
   "outputs": [],
   "source": [
    "# After checking, using yeojohnson from scikit-learn is better, \n",
    "# since it's zero-mean, unit-variance normalization."
   ]
  },
  {
   "cell_type": "markdown",
   "id": "3c04e06a-969a-408d-b5ed-54221be7145d",
   "metadata": {},
   "source": [
    "#### For severity of accidents"
   ]
  },
  {
   "cell_type": "code",
   "execution_count": 258,
   "id": "96681327-e174-49f4-9698-72953add12ae",
   "metadata": {
    "execution": {
     "iopub.execute_input": "2024-11-22T14:58:32.439532Z",
     "iopub.status.busy": "2024-11-22T14:58:32.439246Z",
     "iopub.status.idle": "2024-11-22T14:58:32.535959Z",
     "shell.execute_reply": "2024-11-22T14:58:32.535381Z",
     "shell.execute_reply.started": "2024-11-22T14:58:32.439510Z"
    }
   },
   "outputs": [],
   "source": [
    "# Use scikit-learn powertransformer \n",
    "acs_yj = pd.DataFrame()\n",
    "acs_yj[c4[0]] = acsr[c4[0]]\n",
    "for i in range(1, 35):\n",
    "    ar = np.array(acsr[c4[i]]).reshape(-1,1)\n",
    "    acs_yj[c4[i]] = PowerTransformer(method = 'yeo-johnson', standardize = True).fit_transform(ar)\n",
    "    # print(i)"
   ]
  },
  {
   "cell_type": "code",
   "execution_count": 280,
   "id": "41b75e0f-0496-46c9-aa5f-ed13c43e9a25",
   "metadata": {
    "execution": {
     "iopub.execute_input": "2024-11-22T15:04:07.476021Z",
     "iopub.status.busy": "2024-11-22T15:04:07.475753Z",
     "iopub.status.idle": "2024-11-22T15:04:07.479605Z",
     "shell.execute_reply": "2024-11-22T15:04:07.479093Z",
     "shell.execute_reply.started": "2024-11-22T15:04:07.476001Z"
    }
   },
   "outputs": [
    {
     "data": {
      "text/plain": [
       "35"
      ]
     },
     "execution_count": 280,
     "metadata": {},
     "output_type": "execute_result"
    }
   ],
   "source": [
    "len(acs_yj.columns)"
   ]
  },
  {
   "cell_type": "code",
   "execution_count": 292,
   "id": "ce9f4e9d-b6b0-45df-b415-fb5f57baffd4",
   "metadata": {
    "execution": {
     "iopub.execute_input": "2024-11-22T15:08:05.498415Z",
     "iopub.status.busy": "2024-11-22T15:08:05.498145Z",
     "iopub.status.idle": "2024-11-22T15:08:05.534272Z",
     "shell.execute_reply": "2024-11-22T15:08:05.533745Z",
     "shell.execute_reply.started": "2024-11-22T15:08:05.498396Z"
    }
   },
   "outputs": [
    {
     "data": {
      "text/html": [
       "<div>\n",
       "<style scoped>\n",
       "    .dataframe tbody tr th:only-of-type {\n",
       "        vertical-align: middle;\n",
       "    }\n",
       "\n",
       "    .dataframe tbody tr th {\n",
       "        vertical-align: top;\n",
       "    }\n",
       "\n",
       "    .dataframe thead th {\n",
       "        text-align: right;\n",
       "    }\n",
       "</style>\n",
       "<table border=\"1\" class=\"dataframe\">\n",
       "  <thead>\n",
       "    <tr style=\"text-align: right;\">\n",
       "      <th></th>\n",
       "      <th>var</th>\n",
       "      <th>pv</th>\n",
       "    </tr>\n",
       "  </thead>\n",
       "  <tbody>\n",
       "    <tr>\n",
       "      <th>6</th>\n",
       "      <td>megmin</td>\n",
       "      <td>0.541760</td>\n",
       "    </tr>\n",
       "    <tr>\n",
       "      <th>8</th>\n",
       "      <td>mewmax</td>\n",
       "      <td>0.979273</td>\n",
       "    </tr>\n",
       "    <tr>\n",
       "      <th>9</th>\n",
       "      <td>megmax</td>\n",
       "      <td>0.602051</td>\n",
       "    </tr>\n",
       "    <tr>\n",
       "      <th>11</th>\n",
       "      <td>mew</td>\n",
       "      <td>0.315260</td>\n",
       "    </tr>\n",
       "    <tr>\n",
       "      <th>12</th>\n",
       "      <td>meg</td>\n",
       "      <td>0.846575</td>\n",
       "    </tr>\n",
       "    <tr>\n",
       "      <th>16</th>\n",
       "      <td>dtrainl</td>\n",
       "      <td>0.519094</td>\n",
       "    </tr>\n",
       "    <tr>\n",
       "      <th>18</th>\n",
       "      <td>dstation</td>\n",
       "      <td>0.601522</td>\n",
       "    </tr>\n",
       "    <tr>\n",
       "      <th>20</th>\n",
       "      <td>dparktw</td>\n",
       "      <td>0.873593</td>\n",
       "    </tr>\n",
       "    <tr>\n",
       "      <th>22</th>\n",
       "      <td>dstopsign</td>\n",
       "      <td>0.934123</td>\n",
       "    </tr>\n",
       "    <tr>\n",
       "      <th>24</th>\n",
       "      <td>droad</td>\n",
       "      <td>0.386898</td>\n",
       "    </tr>\n",
       "    <tr>\n",
       "      <th>25</th>\n",
       "      <td>droad_sl</td>\n",
       "      <td>0.264581</td>\n",
       "    </tr>\n",
       "    <tr>\n",
       "      <th>27</th>\n",
       "      <td>gvm_dwv</td>\n",
       "      <td>0.083705</td>\n",
       "    </tr>\n",
       "    <tr>\n",
       "      <th>33</th>\n",
       "      <td>carcount</td>\n",
       "      <td>0.963373</td>\n",
       "    </tr>\n",
       "  </tbody>\n",
       "</table>\n",
       "</div>"
      ],
      "text/plain": [
       "          var        pv\n",
       "6      megmin  0.541760\n",
       "8      mewmax  0.979273\n",
       "9      megmax  0.602051\n",
       "11        mew  0.315260\n",
       "12        meg  0.846575\n",
       "16    dtrainl  0.519094\n",
       "18   dstation  0.601522\n",
       "20    dparktw  0.873593\n",
       "22  dstopsign  0.934123\n",
       "24      droad  0.386898\n",
       "25   droad_sl  0.264581\n",
       "27    gvm_dwv  0.083705\n",
       "33   carcount  0.963373"
      ]
     },
     "execution_count": 292,
     "metadata": {},
     "output_type": "execute_result"
    }
   ],
   "source": [
    "# # normaltest pvalue (if it's bigger than alpha for example 0.05, we could say it's normal)\n",
    "# nmsv_yj = []\n",
    "# for i in range(0, len(c1)):\n",
    "#     nmsv_yj.append((stats.normaltest(acs_yj[c1[i]])).pvalue)\n",
    "# dfnmsv_yj = pd.DataFrame()\n",
    "# dfnmsv_yj['var'] = c1\n",
    "# dfnmsv_yj['pv'] = nmsv_yj\n",
    "# dfnmsv_yj[dfnmsv_yj['pv']>0.05]"
   ]
  },
  {
   "cell_type": "markdown",
   "id": "b6d13aeb-e7b3-4d96-97e9-06a7503f1b86",
   "metadata": {},
   "source": [
    "### Standardization"
   ]
  },
  {
   "cell_type": "markdown",
   "id": "90845396-178f-40ab-b9c3-0c9110f8bcec",
   "metadata": {},
   "source": [
    "#### For presence of accidents"
   ]
  },
  {
   "cell_type": "code",
   "execution_count": 164,
   "id": "4e820f3a-fe92-4108-a411-20e2c2712c65",
   "metadata": {
    "execution": {
     "iopub.execute_input": "2024-11-22T14:34:11.418204Z",
     "iopub.status.busy": "2024-11-22T14:34:11.417940Z",
     "iopub.status.idle": "2024-11-22T14:34:11.455005Z",
     "shell.execute_reply": "2024-11-22T14:34:11.454410Z",
     "shell.execute_reply.started": "2024-11-22T14:34:11.418185Z"
    }
   },
   "outputs": [],
   "source": [
    "# # Calculate zscore\n",
    "# acp_yjz = pd.DataFrame()\n",
    "# acp_yjz[c4[0]] = acpr[c4[0]]\n",
    "# for i in range(1, 35):\n",
    "#     acp_yjz[c4[i]] = stats.zscore(acp_yj[c4[i]])\n"
   ]
  },
  {
   "cell_type": "code",
   "execution_count": 165,
   "id": "f39010fc-9051-494d-be5f-c808637a34e6",
   "metadata": {
    "execution": {
     "iopub.execute_input": "2024-11-22T14:34:11.666132Z",
     "iopub.status.busy": "2024-11-22T14:34:11.665866Z",
     "iopub.status.idle": "2024-11-22T14:34:11.701744Z",
     "shell.execute_reply": "2024-11-22T14:34:11.701260Z",
     "shell.execute_reply.started": "2024-11-22T14:34:11.666115Z"
    }
   },
   "outputs": [],
   "source": [
    "# Calculate zscore\n",
    "acp_yjz1 = pd.DataFrame()\n",
    "acp_yjz1[c4[0]] = acpr[c4[0]]\n",
    "for i in range(1, 35):\n",
    "    acp_yjz1[c4[i]] = stats.zscore(acp_yj1[c4[i]])"
   ]
  },
  {
   "cell_type": "code",
   "execution_count": 203,
   "id": "e67ceb09-c740-4fda-8396-e9b00c9c33cc",
   "metadata": {
    "execution": {
     "iopub.execute_input": "2024-11-22T14:42:19.204182Z",
     "iopub.status.busy": "2024-11-22T14:42:19.203876Z",
     "iopub.status.idle": "2024-11-22T14:42:19.207118Z",
     "shell.execute_reply": "2024-11-22T14:42:19.206475Z",
     "shell.execute_reply.started": "2024-11-22T14:42:19.204156Z"
    }
   },
   "outputs": [],
   "source": [
    "# i = i+1\n",
    "# fig, axes = plt.subplots(2)\n",
    "# axes[0].hist(acp_yjz[c4[i]])\n",
    "# axes[1].hist(acp_yjz1[c4[i]])"
   ]
  },
  {
   "cell_type": "code",
   "execution_count": null,
   "id": "5fb25aa7-42f2-48fe-bb2b-4b778df29408",
   "metadata": {},
   "outputs": [],
   "source": [
    "# After checking, [yeojohnson from scikit-learn] ~= [yeojohnson from scipy + zscore]"
   ]
  },
  {
   "cell_type": "code",
   "execution_count": 206,
   "id": "9eaf24e1-05e8-4125-b678-96261599d581",
   "metadata": {
    "execution": {
     "iopub.execute_input": "2024-11-22T14:48:51.865114Z",
     "iopub.status.busy": "2024-11-22T14:48:51.864827Z",
     "iopub.status.idle": "2024-11-22T14:48:51.889019Z",
     "shell.execute_reply": "2024-11-22T14:48:51.888354Z",
     "shell.execute_reply.started": "2024-11-22T14:48:51.865094Z"
    }
   },
   "outputs": [],
   "source": [
    "# Use minmax\n",
    "sc = MinMaxScaler(feature_range = (-1,1))\n",
    "# Transform into [-1,1]\n",
    "acp_yj1z = pd.DataFrame()\n",
    "acp_yj1z[c4[0]] = acpr[c4[0]]\n",
    "for i in range(1, 35):\n",
    "    ar = np.array(acp_yj1[c4[i]]).reshape(-1,1)\n",
    "    acp_yj1z[c4[i]] = sc.fit_transform(ar)\n",
    "    # print(i)"
   ]
  },
  {
   "cell_type": "markdown",
   "id": "f8d3913e-7892-489d-96da-1013aef9b19e",
   "metadata": {},
   "source": [
    "#### For severity of accidents"
   ]
  },
  {
   "cell_type": "code",
   "execution_count": 259,
   "id": "b27fe9f4-f38d-4b3f-8144-2126a4c1dc7f",
   "metadata": {
    "execution": {
     "iopub.execute_input": "2024-11-22T15:00:37.456190Z",
     "iopub.status.busy": "2024-11-22T15:00:37.455903Z",
     "iopub.status.idle": "2024-11-22T15:00:37.484641Z",
     "shell.execute_reply": "2024-11-22T15:00:37.483869Z",
     "shell.execute_reply.started": "2024-11-22T15:00:37.456170Z"
    }
   },
   "outputs": [],
   "source": [
    "# Use minmax\n",
    "sc = MinMaxScaler(feature_range = (-1,1))\n",
    "# Transform into [-1,1]\n",
    "acs_yjz = pd.DataFrame()\n",
    "acs_yjz[c4[0]] = acsr[c4[0]]\n",
    "for i in range(1, 35):\n",
    "    ar = np.array(acs_yj[c4[i]]).reshape(-1,1)\n",
    "    acs_yjz[c4[i]] = sc.fit_transform(ar)\n",
    "    # print(i)"
   ]
  },
  {
   "cell_type": "code",
   "execution_count": 276,
   "id": "bb6a5fcf-5df6-4303-a2d7-58ff7c4675dd",
   "metadata": {
    "execution": {
     "iopub.execute_input": "2024-11-22T15:01:58.380432Z",
     "iopub.status.busy": "2024-11-22T15:01:58.380117Z",
     "iopub.status.idle": "2024-11-22T15:01:58.615923Z",
     "shell.execute_reply": "2024-11-22T15:01:58.615303Z",
     "shell.execute_reply.started": "2024-11-22T15:01:58.380414Z"
    }
   },
   "outputs": [
    {
     "name": "stdout",
     "output_type": "stream",
     "text": [
      "10\n"
     ]
    },
    {
     "data": {
      "text/plain": [
       "(array([12.,  2., 41., 36., 69., 52., 55., 13., 13.,  2.]),\n",
       " array([-1. , -0.8, -0.6, -0.4, -0.2,  0. ,  0.2,  0.4,  0.6,  0.8,  1. ]),\n",
       " <BarContainer object of 10 artists>)"
      ]
     },
     "execution_count": 276,
     "metadata": {},
     "output_type": "execute_result"
    },
    {
     "data": {
      "image/png": "[encoded data removed]",
      "text/plain": [
       "<Figure size 640x480 with 2 Axes>"
      ]
     },
     "metadata": {},
     "output_type": "display_data"
    }
   ],
   "source": [
    "i = i+1\n",
    "print(i)\n",
    "fig, axes = plt.subplots(2)\n",
    "axes[0].hist(acs_yj[c4[i]])\n",
    "axes[1].hist(acs_yjz[c4[i]])"
   ]
  },
  {
   "cell_type": "markdown",
   "id": "390b1146-4d5f-491b-9024-d8e7fb0f4f9b",
   "metadata": {
    "execution": {
     "iopub.execute_input": "2024-11-22T14:51:59.415035Z",
     "iopub.status.busy": "2024-11-22T14:51:59.414753Z",
     "iopub.status.idle": "2024-11-22T14:51:59.418105Z",
     "shell.execute_reply": "2024-11-22T14:51:59.417347Z",
     "shell.execute_reply.started": "2024-11-22T14:51:59.415015Z"
    }
   },
   "source": [
    "### One hot encoding"
   ]
  },
  {
   "cell_type": "markdown",
   "id": "14b2371e-8b5d-445d-8e4f-3d6de0c020f7",
   "metadata": {},
   "source": [
    "#### For presence of accidents"
   ]
  },
  {
   "cell_type": "code",
   "execution_count": 248,
   "id": "5515691e-e39f-4c39-8583-507b3b66f790",
   "metadata": {
    "execution": {
     "iopub.execute_input": "2024-11-22T14:51:59.781690Z",
     "iopub.status.busy": "2024-11-22T14:51:59.781412Z",
     "iopub.status.idle": "2024-11-22T14:51:59.786011Z",
     "shell.execute_reply": "2024-11-22T14:51:59.785402Z",
     "shell.execute_reply.started": "2024-11-22T14:51:59.781672Z"
    }
   },
   "outputs": [],
   "source": [
    "acp_cat = acpr[c5].copy()"
   ]
  },
  {
   "cell_type": "code",
   "execution_count": 249,
   "id": "b1a19a95-d4ac-4365-a39b-06616ca7f5dc",
   "metadata": {
    "execution": {
     "iopub.execute_input": "2024-11-22T14:52:00.190436Z",
     "iopub.status.busy": "2024-11-22T14:52:00.190026Z",
     "iopub.status.idle": "2024-11-22T14:52:00.197887Z",
     "shell.execute_reply": "2024-11-22T14:52:00.197235Z",
     "shell.execute_reply.started": "2024-11-22T14:52:00.190413Z"
    }
   },
   "outputs": [
    {
     "name": "stdout",
     "output_type": "stream",
     "text": [
      "<class 'pandas.core.frame.DataFrame'>\n",
      "RangeIndex: 1087 entries, 0 to 1086\n",
      "Data columns (total 6 columns):\n",
      " #   Column       Non-Null Count  Dtype  \n",
      "---  ------       --------------  -----  \n",
      " 0   Nr           1087 non-null   int64  \n",
      " 1   z_qnr        1087 non-null   int64  \n",
      " 2   z_knr        1087 non-null   int64  \n",
      " 3   trafficarea  1087 non-null   object \n",
      " 4   r_width      1087 non-null   int64  \n",
      " 5   speedlimit   1087 non-null   float64\n",
      "dtypes: float64(1), int64(4), object(1)\n",
      "memory usage: 51.1+ KB\n"
     ]
    }
   ],
   "source": [
    "acp_cat.info()"
   ]
  },
  {
   "cell_type": "code",
   "execution_count": 250,
   "id": "0809a2bf-f889-4334-9183-19d45ab63a1a",
   "metadata": {
    "execution": {
     "iopub.execute_input": "2024-11-22T14:52:00.953636Z",
     "iopub.status.busy": "2024-11-22T14:52:00.953350Z",
     "iopub.status.idle": "2024-11-22T14:52:01.002474Z",
     "shell.execute_reply": "2024-11-22T14:52:01.001973Z",
     "shell.execute_reply.started": "2024-11-22T14:52:00.953618Z"
    }
   },
   "outputs": [],
   "source": [
    "oh = ce.OneHotEncoder(cols = c2)\n",
    "acp_catoh = oh.fit_transform(acp_cat)"
   ]
  },
  {
   "cell_type": "code",
   "execution_count": 251,
   "id": "eecf5653-4390-4f61-a7a1-936b952f001c",
   "metadata": {
    "execution": {
     "iopub.execute_input": "2024-11-22T14:52:02.953220Z",
     "iopub.status.busy": "2024-11-22T14:52:02.952944Z",
     "iopub.status.idle": "2024-11-22T14:52:02.957678Z",
     "shell.execute_reply": "2024-11-22T14:52:02.957029Z",
     "shell.execute_reply.started": "2024-11-22T14:52:02.953202Z"
    }
   },
   "outputs": [
    {
     "data": {
      "text/plain": [
       "Index(['Nr', 'z_qnr_1', 'z_qnr_2', 'z_qnr_3', 'z_qnr_4', 'z_qnr_5', 'z_qnr_6',\n",
       "       'z_qnr_7', 'z_qnr_8', 'z_qnr_9', 'z_qnr_10', 'z_qnr_11', 'z_qnr_12',\n",
       "       'z_qnr_13', 'z_qnr_14', 'z_qnr_15', 'z_qnr_16', 'z_qnr_17', 'z_qnr_18',\n",
       "       'z_qnr_19', 'z_qnr_20', 'z_qnr_21', 'z_qnr_22', 'z_qnr_23', 'z_qnr_24',\n",
       "       'z_qnr_25', 'z_qnr_26', 'z_qnr_27', 'z_qnr_28', 'z_qnr_29', 'z_qnr_30',\n",
       "       'z_qnr_31', 'z_qnr_32', 'z_qnr_33', 'z_qnr_34', 'z_knr_1', 'z_knr_2',\n",
       "       'z_knr_3', 'z_knr_4', 'z_knr_5', 'z_knr_6', 'z_knr_7', 'z_knr_8',\n",
       "       'z_knr_9', 'z_knr_10', 'z_knr_11', 'z_knr_12', 'trafficarea_1',\n",
       "       'trafficarea_2', 'trafficarea_3', 'r_width_1', 'r_width_2', 'r_width_3',\n",
       "       'r_width_4', 'r_width_5', 'r_width_6', 'r_width_7', 'speedlimit_1',\n",
       "       'speedlimit_2', 'speedlimit_3', 'speedlimit_4', 'speedlimit_5',\n",
       "       'speedlimit_6', 'speedlimit_7'],\n",
       "      dtype='object')"
      ]
     },
     "execution_count": 251,
     "metadata": {},
     "output_type": "execute_result"
    }
   ],
   "source": [
    "acp_catoh.columns"
   ]
  },
  {
   "cell_type": "code",
   "execution_count": 252,
   "id": "f5b36288-a30f-4b24-b6c4-83c032fa59b4",
   "metadata": {
    "execution": {
     "iopub.execute_input": "2024-11-22T14:52:09.470170Z",
     "iopub.status.busy": "2024-11-22T14:52:09.469884Z",
     "iopub.status.idle": "2024-11-22T14:52:09.474217Z",
     "shell.execute_reply": "2024-11-22T14:52:09.473626Z",
     "shell.execute_reply.started": "2024-11-22T14:52:09.470151Z"
    }
   },
   "outputs": [],
   "source": [
    "acp_catoh = acp_catoh.drop(columns = ['z_qnr_34', 'z_knr_12', 'trafficarea_3', \n",
    "                                      'r_width_7','speedlimit_7'])"
   ]
  },
  {
   "cell_type": "code",
   "execution_count": 253,
   "id": "32926dfb-5fa7-40f8-865e-39d83a904d79",
   "metadata": {
    "execution": {
     "iopub.execute_input": "2024-11-22T14:52:16.219171Z",
     "iopub.status.busy": "2024-11-22T14:52:16.218884Z",
     "iopub.status.idle": "2024-11-22T14:52:16.233229Z",
     "shell.execute_reply": "2024-11-22T14:52:16.232646Z",
     "shell.execute_reply.started": "2024-11-22T14:52:16.219150Z"
    }
   },
   "outputs": [],
   "source": [
    "# Merge numeric and categorical variables\n",
    "df_acp_transformed = acp_yj1z.merge(acp_catoh, on = ['Nr'])"
   ]
  },
  {
   "cell_type": "code",
   "execution_count": 303,
   "id": "ec5e1338-33d5-4e0a-9763-696eeab9c0dd",
   "metadata": {
    "execution": {
     "iopub.execute_input": "2024-11-22T15:14:59.579974Z",
     "iopub.status.busy": "2024-11-22T15:14:59.579697Z",
     "iopub.status.idle": "2024-11-22T15:14:59.583379Z",
     "shell.execute_reply": "2024-11-22T15:14:59.582816Z",
     "shell.execute_reply.started": "2024-11-22T15:14:59.579954Z"
    }
   },
   "outputs": [],
   "source": [
    "# Depedent variables\n",
    "df_acpdv = acpr[['Nr','acp']].copy()"
   ]
  },
  {
   "cell_type": "code",
   "execution_count": 305,
   "id": "fe4dba89-75ea-4d5d-898f-39aa81ffe1bd",
   "metadata": {
    "execution": {
     "iopub.execute_input": "2024-11-22T15:15:39.721190Z",
     "iopub.status.busy": "2024-11-22T15:15:39.720895Z",
     "iopub.status.idle": "2024-11-22T15:15:39.727124Z",
     "shell.execute_reply": "2024-11-22T15:15:39.726526Z",
     "shell.execute_reply.started": "2024-11-22T15:15:39.721169Z"
    }
   },
   "outputs": [],
   "source": [
    "df_acp_transformed = df_acp_transformed.merge(df_acpdv, on = ['Nr'])"
   ]
  },
  {
   "cell_type": "code",
   "execution_count": 307,
   "id": "f9491d34-0d97-4604-b5c2-a048be067ec1",
   "metadata": {
    "execution": {
     "iopub.execute_input": "2024-11-22T15:16:01.724165Z",
     "iopub.status.busy": "2024-11-22T15:16:01.723910Z",
     "iopub.status.idle": "2024-11-22T15:16:01.787018Z",
     "shell.execute_reply": "2024-11-22T15:16:01.786403Z",
     "shell.execute_reply.started": "2024-11-22T15:16:01.724148Z"
    }
   },
   "outputs": [],
   "source": [
    "df_acp_transformed.to_csv('/home/yelhe/script/mtp/redo_model_input/model_acp_transformed_corr.csv', index = False)"
   ]
  },
  {
   "cell_type": "markdown",
   "id": "f924ab54-1749-4b43-8dd6-3c88093df480",
   "metadata": {},
   "source": [
    "#### For severity of accidents"
   ]
  },
  {
   "cell_type": "code",
   "execution_count": 293,
   "id": "47f8288b-138c-42ec-b040-41aaacc2a374",
   "metadata": {
    "execution": {
     "iopub.execute_input": "2024-11-22T15:10:18.725541Z",
     "iopub.status.busy": "2024-11-22T15:10:18.725055Z",
     "iopub.status.idle": "2024-11-22T15:10:18.734680Z",
     "shell.execute_reply": "2024-11-22T15:10:18.734081Z",
     "shell.execute_reply.started": "2024-11-22T15:10:18.725517Z"
    }
   },
   "outputs": [
    {
     "name": "stdout",
     "output_type": "stream",
     "text": [
      "<class 'pandas.core.frame.DataFrame'>\n",
      "RangeIndex: 295 entries, 0 to 294\n",
      "Data columns (total 6 columns):\n",
      " #   Column       Non-Null Count  Dtype  \n",
      "---  ------       --------------  -----  \n",
      " 0   Nr           295 non-null    int64  \n",
      " 1   z_qnr        295 non-null    int64  \n",
      " 2   z_knr        295 non-null    int64  \n",
      " 3   trafficarea  295 non-null    object \n",
      " 4   r_width      295 non-null    int64  \n",
      " 5   speedlimit   295 non-null    float64\n",
      "dtypes: float64(1), int64(4), object(1)\n",
      "memory usage: 14.0+ KB\n"
     ]
    }
   ],
   "source": [
    "acs_cat = acsr[c5].copy()\n",
    "acs_cat.info()"
   ]
  },
  {
   "cell_type": "code",
   "execution_count": 294,
   "id": "295ca0c8-57bb-4053-94a8-a3b11ea0308e",
   "metadata": {
    "execution": {
     "iopub.execute_input": "2024-11-22T15:10:33.470454Z",
     "iopub.status.busy": "2024-11-22T15:10:33.470170Z",
     "iopub.status.idle": "2024-11-22T15:10:33.506784Z",
     "shell.execute_reply": "2024-11-22T15:10:33.506188Z",
     "shell.execute_reply.started": "2024-11-22T15:10:33.470433Z"
    }
   },
   "outputs": [],
   "source": [
    "oh = ce.OneHotEncoder(cols = c2)\n",
    "acs_catoh = oh.fit_transform(acs_cat)"
   ]
  },
  {
   "cell_type": "code",
   "execution_count": 295,
   "id": "df8fb8c7-f64a-41d5-93bd-085ffa514b01",
   "metadata": {
    "execution": {
     "iopub.execute_input": "2024-11-22T15:10:41.010874Z",
     "iopub.status.busy": "2024-11-22T15:10:41.010613Z",
     "iopub.status.idle": "2024-11-22T15:10:41.014812Z",
     "shell.execute_reply": "2024-11-22T15:10:41.014254Z",
     "shell.execute_reply.started": "2024-11-22T15:10:41.010857Z"
    }
   },
   "outputs": [
    {
     "data": {
      "text/plain": [
       "Index(['Nr', 'z_qnr_1', 'z_qnr_2', 'z_qnr_3', 'z_qnr_4', 'z_qnr_5', 'z_qnr_6',\n",
       "       'z_qnr_7', 'z_qnr_8', 'z_qnr_9', 'z_qnr_10', 'z_qnr_11', 'z_qnr_12',\n",
       "       'z_qnr_13', 'z_qnr_14', 'z_qnr_15', 'z_qnr_16', 'z_qnr_17', 'z_qnr_18',\n",
       "       'z_qnr_19', 'z_qnr_20', 'z_qnr_21', 'z_qnr_22', 'z_qnr_23', 'z_qnr_24',\n",
       "       'z_qnr_25', 'z_qnr_26', 'z_qnr_27', 'z_qnr_28', 'z_qnr_29', 'z_qnr_30',\n",
       "       'z_qnr_31', 'z_knr_1', 'z_knr_2', 'z_knr_3', 'z_knr_4', 'z_knr_5',\n",
       "       'z_knr_6', 'z_knr_7', 'z_knr_8', 'z_knr_9', 'z_knr_10', 'z_knr_11',\n",
       "       'z_knr_12', 'trafficarea_1', 'trafficarea_2', 'trafficarea_3',\n",
       "       'r_width_1', 'r_width_2', 'r_width_3', 'r_width_4', 'r_width_5',\n",
       "       'r_width_6', 'r_width_7', 'speedlimit_1', 'speedlimit_2',\n",
       "       'speedlimit_3', 'speedlimit_4', 'speedlimit_5', 'speedlimit_6'],\n",
       "      dtype='object')"
      ]
     },
     "execution_count": 295,
     "metadata": {},
     "output_type": "execute_result"
    }
   ],
   "source": [
    "acs_catoh.columns"
   ]
  },
  {
   "cell_type": "code",
   "execution_count": 297,
   "id": "dbd3fb53-1f72-47f9-99df-41d5b4d56907",
   "metadata": {
    "execution": {
     "iopub.execute_input": "2024-11-22T15:11:28.361235Z",
     "iopub.status.busy": "2024-11-22T15:11:28.360964Z",
     "iopub.status.idle": "2024-11-22T15:11:28.365476Z",
     "shell.execute_reply": "2024-11-22T15:11:28.364776Z",
     "shell.execute_reply.started": "2024-11-22T15:11:28.361217Z"
    }
   },
   "outputs": [],
   "source": [
    "acs_catoh = acs_catoh.drop(columns = ['z_qnr_31', 'z_knr_12', 'trafficarea_3', \n",
    "                                      'r_width_7','speedlimit_6'])"
   ]
  },
  {
   "cell_type": "code",
   "execution_count": 298,
   "id": "ee90c5ab-c740-408b-80c0-a05fc9b166ae",
   "metadata": {
    "execution": {
     "iopub.execute_input": "2024-11-22T15:12:01.373149Z",
     "iopub.status.busy": "2024-11-22T15:12:01.372762Z",
     "iopub.status.idle": "2024-11-22T15:12:01.379241Z",
     "shell.execute_reply": "2024-11-22T15:12:01.378702Z",
     "shell.execute_reply.started": "2024-11-22T15:12:01.373130Z"
    }
   },
   "outputs": [],
   "source": [
    "# Merge numeric and categorical variables\n",
    "df_acs_transformed = acs_yjz.merge(acs_catoh, on = ['Nr'])"
   ]
  },
  {
   "cell_type": "code",
   "execution_count": 309,
   "id": "e5beb660-1a6c-43fa-8be3-224aac12a9e5",
   "metadata": {
    "execution": {
     "iopub.execute_input": "2024-11-22T15:18:17.613960Z",
     "iopub.status.busy": "2024-11-22T15:18:17.613687Z",
     "iopub.status.idle": "2024-11-22T15:18:17.620253Z",
     "shell.execute_reply": "2024-11-22T15:18:17.619653Z",
     "shell.execute_reply.started": "2024-11-22T15:18:17.613943Z"
    }
   },
   "outputs": [],
   "source": [
    "# Depedent variables\n",
    "df_acsdv = acsr[['Nr','SV', 'LV', 'pd', 'svp', 'lvp','pdp', 'inp']].copy()\n",
    "df_acs_transformed = df_acs_transformed.merge(df_acsdv, on = ['Nr'])"
   ]
  },
  {
   "cell_type": "code",
   "execution_count": 310,
   "id": "0a51417d-9ec4-44de-976d-e884fb53e7ec",
   "metadata": {
    "execution": {
     "iopub.execute_input": "2024-11-22T15:18:37.158830Z",
     "iopub.status.busy": "2024-11-22T15:18:37.158568Z",
     "iopub.status.idle": "2024-11-22T15:18:37.182119Z",
     "shell.execute_reply": "2024-11-22T15:18:37.181126Z",
     "shell.execute_reply.started": "2024-11-22T15:18:37.158812Z"
    }
   },
   "outputs": [],
   "source": [
    "df_acs_transformed.to_csv('/home/yelhe/script/mtp/redo_model_input/model_acs_transformed_corr.csv', index = False)"
   ]
  },
  {
   "cell_type": "code",
   "execution_count": null,
   "id": "b45c2ada-2c35-43e6-92c3-6da51b1ec1f3",
   "metadata": {},
   "outputs": [],
   "source": []
  }
 ],
 "metadata": {
  "kernelspec": {
   "display_name": "Python 3 (ipykernel)",
   "language": "python",
   "name": "python3"
  },
  "language_info": {
   "codemirror_mode": {
    "name": "ipython",
    "version": 3
   },
   "file_extension": ".py",
   "mimetype": "text/x-python",
   "name": "python",
   "nbconvert_exporter": "python",
   "pygments_lexer": "ipython3",
   "version": "3.11.5"
  }
 },
 "nbformat": 4,
 "nbformat_minor": 5
}
