{
 "cells": [
  {
   "cell_type": "markdown",
   "id": "eaf477e6-160a-4627-86d7-ec4ef775338f",
   "metadata": {},
   "source": [
    "# Preparation"
   ]
  },
  {
   "cell_type": "code",
   "execution_count": 2,
   "id": "814b498e-0791-4f34-a26a-13e042cbf8ef",
   "metadata": {
    "execution": {
     "iopub.execute_input": "2024-11-22T16:04:55.433054Z",
     "iopub.status.busy": "2024-11-22T16:04:55.432630Z",
     "iopub.status.idle": "2024-11-22T16:04:55.435725Z",
     "shell.execute_reply": "2024-11-22T16:04:55.435151Z",
     "shell.execute_reply.started": "2024-11-22T16:04:55.433029Z"
    }
   },
   "outputs": [],
   "source": [
    "# This file is based on: 1_regression_presence_of_accident\n",
    "# Remove features which were found correlated with others\n",
    "# Remove the categorical features which has only two categories\n",
    "# Remove features identified by VIF"
   ]
  },
  {
   "cell_type": "code",
   "execution_count": 3,
   "id": "7e9f75d8-3be9-45ef-b9ae-ad72fefb7ce1",
   "metadata": {
    "execution": {
     "iopub.execute_input": "2024-11-22T16:04:55.437055Z",
     "iopub.status.busy": "2024-11-22T16:04:55.436808Z",
     "iopub.status.idle": "2024-11-22T16:05:00.107614Z",
     "shell.execute_reply": "2024-11-22T16:05:00.106942Z",
     "shell.execute_reply.started": "2024-11-22T16:04:55.437035Z"
    }
   },
   "outputs": [],
   "source": [
    "import torch\n",
    "torch.cuda.empty_cache() "
   ]
  },
  {
   "cell_type": "code",
   "execution_count": 4,
   "id": "f3e5fa71-37bd-4efe-b8ee-ae3c362b2a1b",
   "metadata": {
    "execution": {
     "iopub.execute_input": "2024-11-22T16:05:00.108926Z",
     "iopub.status.busy": "2024-11-22T16:05:00.108547Z",
     "iopub.status.idle": "2024-11-22T16:05:00.769051Z",
     "shell.execute_reply": "2024-11-22T16:05:00.768436Z",
     "shell.execute_reply.started": "2024-11-22T16:05:00.108901Z"
    }
   },
   "outputs": [],
   "source": [
    "import os \n",
    "os.environ['MPLCONFIGDIR'] = os.getcwd() + \"/configs/\"\n",
    "import matplotlib\n",
    "from matplotlib import pyplot as plt\n",
    "import numpy as np\n",
    "import cv2\n",
    "import urllib.request\n",
    "from PIL import Image"
   ]
  },
  {
   "cell_type": "code",
   "execution_count": 5,
   "id": "132db61a-9aa6-4936-8ab4-054288d07d2e",
   "metadata": {
    "execution": {
     "iopub.execute_input": "2024-11-22T16:05:00.771186Z",
     "iopub.status.busy": "2024-11-22T16:05:00.770703Z",
     "iopub.status.idle": "2024-11-22T16:05:01.639594Z",
     "shell.execute_reply": "2024-11-22T16:05:01.639081Z",
     "shell.execute_reply.started": "2024-11-22T16:05:00.771161Z"
    }
   },
   "outputs": [],
   "source": [
    "import pandas as pd\n",
    "import pyproj"
   ]
  },
  {
   "cell_type": "code",
   "execution_count": 6,
   "id": "80d61825-dc8d-4005-9362-cf497e771695",
   "metadata": {
    "execution": {
     "iopub.execute_input": "2024-11-22T16:05:01.642131Z",
     "iopub.status.busy": "2024-11-22T16:05:01.641229Z",
     "iopub.status.idle": "2024-11-22T16:05:01.650231Z",
     "shell.execute_reply": "2024-11-22T16:05:01.649673Z",
     "shell.execute_reply.started": "2024-11-22T16:05:01.642103Z"
    }
   },
   "outputs": [],
   "source": [
    "import os \n",
    "os.environ['MPLCONFIGDIR'] = os.getcwd() + \"/configs/\"\n",
    "import matplotlib\n",
    "from matplotlib import pyplot as plt\n",
    "import numpy as np\n",
    "import cv2"
   ]
  },
  {
   "cell_type": "code",
   "execution_count": 7,
   "id": "31d6a097",
   "metadata": {
    "execution": {
     "iopub.execute_input": "2024-11-22T16:05:01.651334Z",
     "iopub.status.busy": "2024-11-22T16:05:01.651075Z",
     "iopub.status.idle": "2024-11-22T16:05:04.763186Z",
     "shell.execute_reply": "2024-11-22T16:05:04.762541Z",
     "shell.execute_reply.started": "2024-11-22T16:05:01.651313Z"
    }
   },
   "outputs": [],
   "source": [
    "from pathlib import Path\n",
    "import sklearn\n",
    "import seaborn as sn\n",
    "from scipy import stats\n",
    "from tabulate import tabulate\n",
    "import statsmodels.api as sm\n",
    "import statsmodels.tools as tools"
   ]
  },
  {
   "cell_type": "code",
   "execution_count": 8,
   "id": "923fac26-61e2-49dd-9099-e31ff4079430",
   "metadata": {
    "execution": {
     "iopub.execute_input": "2024-11-22T16:05:04.764716Z",
     "iopub.status.busy": "2024-11-22T16:05:04.764335Z",
     "iopub.status.idle": "2024-11-22T16:05:04.845743Z",
     "shell.execute_reply": "2024-11-22T16:05:04.845145Z",
     "shell.execute_reply.started": "2024-11-22T16:05:04.764693Z"
    }
   },
   "outputs": [],
   "source": [
    "from mtp_function_yl import *"
   ]
  },
  {
   "cell_type": "code",
   "execution_count": 50,
   "id": "e1804d06-b69a-4709-ac5c-1970d29c38a2",
   "metadata": {
    "execution": {
     "iopub.execute_input": "2024-11-22T16:22:04.751633Z",
     "iopub.status.busy": "2024-11-22T16:22:04.751364Z",
     "iopub.status.idle": "2024-11-22T16:22:04.762621Z",
     "shell.execute_reply": "2024-11-22T16:22:04.762006Z",
     "shell.execute_reply.started": "2024-11-22T16:22:04.751612Z"
    }
   },
   "outputs": [],
   "source": [
    "import sklearn\n",
    "from sklearn import metrics\n",
    "from sklearn.metrics import accuracy_score\n",
    "from sklearn.metrics import accuracy_score, confusion_matrix, roc_auc_score, roc_curve\n",
    "from sklearn.model_selection import train_test_split\n",
    "from sklearn import linear_model\n",
    "from sklearn.neighbors import KNeighborsClassifier\n",
    "from sklearn.ensemble import RandomForestClassifier\n",
    "from sklearn.preprocessing import LabelEncoder\n",
    "from sklearn.preprocessing import OneHotEncoder\n",
    "from sklearn.preprocessing import PowerTransformer\n",
    "from sklearn.preprocessing import MinMaxScaler\n",
    "from statsmodels.stats.outliers_influence import variance_inflation_factor\n",
    "import category_encoders as ce\n",
    "from sklearn import svm\n",
    "# For regression\n",
    "from sklearn.ensemble import RandomForestRegressor\n",
    "# from sklearn.metrics import PredictionErrorDisplay\n",
    "import mlxtend\n",
    "# For stepwise feature selection\n",
    "from mlxtend.feature_selection import SequentialFeatureSelector\n",
    "from mlxtend.plotting import plot_sequential_feature_selection as plot_sfs"
   ]
  },
  {
   "cell_type": "code",
   "execution_count": 10,
   "id": "52971dc9",
   "metadata": {
    "execution": {
     "iopub.execute_input": "2024-11-22T16:05:04.907465Z",
     "iopub.status.busy": "2024-11-22T16:05:04.906987Z",
     "iopub.status.idle": "2024-11-22T16:05:04.910441Z",
     "shell.execute_reply": "2024-11-22T16:05:04.909780Z",
     "shell.execute_reply.started": "2024-11-22T16:05:04.907441Z"
    }
   },
   "outputs": [],
   "source": [
    "import warnings\n",
    "warnings.simplefilter(action='ignore', category=FutureWarning)"
   ]
  },
  {
   "cell_type": "code",
   "execution_count": 11,
   "id": "2ab3a45d-22e0-47a8-8683-6379778d16af",
   "metadata": {
    "execution": {
     "iopub.execute_input": "2024-11-22T16:05:04.912552Z",
     "iopub.status.busy": "2024-11-22T16:05:04.912213Z",
     "iopub.status.idle": "2024-11-22T16:05:04.924630Z",
     "shell.execute_reply": "2024-11-22T16:05:04.924015Z",
     "shell.execute_reply.started": "2024-11-22T16:05:04.912535Z"
    }
   },
   "outputs": [],
   "source": [
    "# For documentation and version control\n",
    "# pip install watermark\n",
    "%load_ext watermark"
   ]
  },
  {
   "cell_type": "code",
   "execution_count": 12,
   "id": "2a136dd7-7bc6-41ab-9893-647a65990d75",
   "metadata": {
    "execution": {
     "iopub.execute_input": "2024-11-22T16:05:04.925692Z",
     "iopub.status.busy": "2024-11-22T16:05:04.925509Z",
     "iopub.status.idle": "2024-11-22T16:05:04.953513Z",
     "shell.execute_reply": "2024-11-22T16:05:04.952898Z",
     "shell.execute_reply.started": "2024-11-22T16:05:04.925672Z"
    }
   },
   "outputs": [
    {
     "name": "stdout",
     "output_type": "stream",
     "text": [
      "Last updated: 2024-11-22\n",
      "\n",
      "Python implementation: CPython\n",
      "Python version       : 3.11.5\n",
      "IPython version      : 8.14.0\n",
      "\n",
      "Compiler    : GCC 12.3.0\n",
      "OS          : Linux\n",
      "Release     : 5.15.0-124-generic\n",
      "Machine     : x86_64\n",
      "Processor   : x86_64\n",
      "CPU cores   : 48\n",
      "Architecture: 64bit\n",
      "\n",
      "statsmodels      : 0.14.4\n",
      "seaborn          : 0.12.2\n",
      "category_encoders: 2.6.3\n",
      "pandas           : 2.0.3\n",
      "torch            : 2.0.1\n",
      "numpy            : 1.26.4\n",
      "matplotlib       : 3.7.2\n",
      "sklearn          : 1.3.0\n",
      "mlxtend          : 0.23.1\n",
      "cv2              : 4.8.1\n",
      "PIL              : 10.0.0\n",
      "pyproj           : 3.6.1\n",
      "shapely          : 2.0.2\n",
      "scipy            : 1.14.0\n",
      "\n"
     ]
    }
   ],
   "source": [
    "%watermark  -u -d -v -m --iversions"
   ]
  },
  {
   "cell_type": "markdown",
   "id": "df1542b0-34ad-4eae-b4c8-7a03d8746e08",
   "metadata": {},
   "source": [
    "# Data Loading and Processing"
   ]
  },
  {
   "cell_type": "markdown",
   "id": "48c888ab-9d8a-44c5-afa5-ba97a7420e4f",
   "metadata": {},
   "source": [
    "## Data loading"
   ]
  },
  {
   "cell_type": "code",
   "execution_count": 58,
   "id": "a78565e8-b2c7-4985-bf0e-2258126c5628",
   "metadata": {
    "execution": {
     "iopub.execute_input": "2024-11-22T16:27:31.424202Z",
     "iopub.status.busy": "2024-11-22T16:27:31.423856Z",
     "iopub.status.idle": "2024-11-22T16:27:31.444807Z",
     "shell.execute_reply": "2024-11-22T16:27:31.444247Z",
     "shell.execute_reply.started": "2024-11-22T16:27:31.424176Z"
    }
   },
   "outputs": [],
   "source": [
    "dfacrpv = pd.read_csv('/home/yelhe/script/mtp/redo_model_input/model_acp_transformed_corr.csv')"
   ]
  },
  {
   "cell_type": "code",
   "execution_count": 59,
   "id": "b22176d3-9b36-47ed-8a4c-3c22653235d1",
   "metadata": {
    "execution": {
     "iopub.execute_input": "2024-11-22T16:27:35.173601Z",
     "iopub.status.busy": "2024-11-22T16:27:35.173200Z",
     "iopub.status.idle": "2024-11-22T16:27:35.177041Z",
     "shell.execute_reply": "2024-11-22T16:27:35.176436Z",
     "shell.execute_reply.started": "2024-11-22T16:27:35.173577Z"
    }
   },
   "outputs": [
    {
     "name": "stdout",
     "output_type": "stream",
     "text": [
      "Index(['Nr', 'cmean', 'cmin', 'csum', 'cmax', 'cp', 'mewmin', 'megmin',\n",
      "       'iemin', 'mewmax', 'megmax', 'iemax', 'mew', 'meg', 'ie', 'dbusl',\n",
      "       'dtraml', 'dtrainl', 'dplight', 'dstation', 'dparkcar', 'dparktw',\n",
      "       'dpedcro', 'dstopsign', 'dtrafficarea', 'droad', 'droad_sl', 'dvfpath',\n",
      "       'gvm_dwv', 'gvm_msp', 'gvm_asp', 'r_width', 'speedlimit',\n",
      "       'bicyclecount', 'carcount', 'z_qnr_1', 'z_qnr_2', 'z_qnr_3', 'z_qnr_4',\n",
      "       'z_qnr_5', 'z_qnr_6', 'z_qnr_7', 'z_qnr_8', 'z_qnr_9', 'z_qnr_10',\n",
      "       'z_qnr_11', 'z_qnr_12', 'z_qnr_13', 'z_qnr_14', 'z_qnr_15', 'z_qnr_16',\n",
      "       'z_qnr_17', 'z_qnr_18', 'z_qnr_19', 'z_qnr_20', 'z_qnr_21', 'z_qnr_22',\n",
      "       'z_qnr_23', 'z_qnr_24', 'z_qnr_25', 'z_qnr_26', 'z_qnr_27', 'z_qnr_28',\n",
      "       'z_qnr_29', 'z_qnr_30', 'z_qnr_31', 'z_qnr_32', 'z_qnr_33', 'z_knr_1',\n",
      "       'z_knr_2', 'z_knr_3', 'z_knr_4', 'z_knr_5', 'z_knr_6', 'z_knr_7',\n",
      "       'z_knr_8', 'z_knr_9', 'z_knr_10', 'z_knr_11', 'trafficarea_1',\n",
      "       'trafficarea_2', 'r_width_1', 'r_width_2', 'r_width_3', 'r_width_4',\n",
      "       'r_width_5', 'r_width_6', 'speedlimit_1', 'speedlimit_2',\n",
      "       'speedlimit_3', 'speedlimit_4', 'speedlimit_5', 'speedlimit_6', 'acp'],\n",
      "      dtype='object')\n"
     ]
    }
   ],
   "source": [
    "print(dfacrpv.columns)"
   ]
  },
  {
   "cell_type": "markdown",
   "id": "b37914e0",
   "metadata": {},
   "source": [
    "## Checking correlation and multicollinearity"
   ]
  },
  {
   "cell_type": "code",
   "execution_count": 42,
   "id": "cc9ed0ff-bd98-4630-b590-0a9e45334e08",
   "metadata": {
    "execution": {
     "iopub.execute_input": "2024-11-22T16:20:55.455572Z",
     "iopub.status.busy": "2024-11-22T16:20:55.455301Z",
     "iopub.status.idle": "2024-11-22T16:20:55.460518Z",
     "shell.execute_reply": "2024-11-22T16:20:55.459856Z",
     "shell.execute_reply.started": "2024-11-22T16:20:55.455551Z"
    }
   },
   "outputs": [],
   "source": [
    "cn = ['cmean', 'cmin', 'csum', 'cmax', 'cp', 'mewmin', 'megmin',\n",
    "       'iemin', 'mewmax', 'megmax', 'iemax', 'mew', 'meg', 'ie', 'dbusl',\n",
    "       'dtraml', 'dtrainl', 'dplight', 'dstation', 'dparkcar', 'dparktw',\n",
    "       'dpedcro', 'dstopsign', 'dtrafficarea', 'droad', 'droad_sl', 'dvfpath',\n",
    "       'gvm_dwv', 'gvm_msp', 'gvm_asp', 'r_width', 'speedlimit',\n",
    "       'bicyclecount', 'carcount', 'z_qnr_1', 'z_qnr_2', 'z_qnr_3', 'z_qnr_4',\n",
    "       'z_qnr_5', 'z_qnr_6', 'z_qnr_7', 'z_qnr_8', 'z_qnr_9', 'z_qnr_10',\n",
    "       'z_qnr_11', 'z_qnr_12', 'z_qnr_13', 'z_qnr_14', 'z_qnr_15', 'z_qnr_16',\n",
    "       'z_qnr_17', 'z_qnr_18', 'z_qnr_19', 'z_qnr_20', 'z_qnr_21', 'z_qnr_22',\n",
    "       'z_qnr_23', 'z_qnr_24', 'z_qnr_25', 'z_qnr_26', 'z_qnr_27', 'z_qnr_28',\n",
    "       'z_qnr_29', 'z_qnr_30', 'z_qnr_31', 'z_qnr_32', 'z_qnr_33', 'z_knr_1',\n",
    "       'z_knr_2', 'z_knr_3', 'z_knr_4', 'z_knr_5', 'z_knr_6', 'z_knr_7',\n",
    "       'z_knr_8', 'z_knr_9', 'z_knr_10', 'z_knr_11', 'trafficarea_1',\n",
    "       'trafficarea_2', 'r_width_1', 'r_width_2', 'r_width_3', 'r_width_4',\n",
    "       'r_width_5', 'r_width_6', 'speedlimit_1', 'speedlimit_2',\n",
    "       'speedlimit_3', 'speedlimit_4', 'speedlimit_5', 'speedlimit_6']\n",
    "\n",
    "# n_th dummy variables, not-good-resource variable were already removed"
   ]
  },
  {
   "cell_type": "code",
   "execution_count": 60,
   "id": "4109d708-8764-4204-9bf3-ba199117afdb",
   "metadata": {
    "execution": {
     "iopub.execute_input": "2024-11-22T16:27:40.718327Z",
     "iopub.status.busy": "2024-11-22T16:27:40.717925Z",
     "iopub.status.idle": "2024-11-22T16:27:40.722315Z",
     "shell.execute_reply": "2024-11-22T16:27:40.721634Z",
     "shell.execute_reply.started": "2024-11-22T16:27:40.718302Z"
    }
   },
   "outputs": [],
   "source": [
    "dfi = dfacrpv[cn]"
   ]
  },
  {
   "cell_type": "code",
   "execution_count": 44,
   "id": "481660a8-cddb-44be-98c0-c513901e3ee1",
   "metadata": {
    "execution": {
     "iopub.execute_input": "2024-11-22T16:20:57.484833Z",
     "iopub.status.busy": "2024-11-22T16:20:57.484446Z",
     "iopub.status.idle": "2024-11-22T16:20:57.511827Z",
     "shell.execute_reply": "2024-11-22T16:20:57.511309Z",
     "shell.execute_reply.started": "2024-11-22T16:20:57.484815Z"
    }
   },
   "outputs": [],
   "source": [
    "# Check correlation\n",
    "corr_m = dfi.corr()\n",
    "sorted_corrm = corr_m.unstack().sort_values()\n",
    "upper_corrm = corr_m.where(\n",
    "                np.triu(np.ones(corr_m.shape),k = 1).astype(bool))\n",
    "unique_corrpair = upper_corrm.unstack().dropna()\n",
    "sorted_uni_cp = unique_corrpair.sort_values()\n",
    "dfsucp = sorted_uni_cp.to_frame()"
   ]
  },
  {
   "cell_type": "code",
   "execution_count": 49,
   "id": "9eecfbd7-922f-4e03-83ba-2a12e76d3b63",
   "metadata": {
    "execution": {
     "iopub.execute_input": "2024-11-22T16:21:04.068530Z",
     "iopub.status.busy": "2024-11-22T16:21:04.068063Z",
     "iopub.status.idle": "2024-11-22T16:21:04.087053Z",
     "shell.execute_reply": "2024-11-22T16:21:04.086496Z",
     "shell.execute_reply.started": "2024-11-22T16:21:04.068506Z"
    }
   },
   "outputs": [],
   "source": [
    "# dfsucp.to_csv('/home/yelhe/script/mtp/tables/AfterRedoTransformation/correlation.csv',index = True)"
   ]
  },
  {
   "cell_type": "code",
   "execution_count": 46,
   "id": "953c40e4-8e49-44a7-a682-6cb4d31f96f2",
   "metadata": {
    "execution": {
     "iopub.execute_input": "2024-11-22T16:20:58.269094Z",
     "iopub.status.busy": "2024-11-22T16:20:58.268885Z",
     "iopub.status.idle": "2024-11-22T16:20:58.272375Z",
     "shell.execute_reply": "2024-11-22T16:20:58.271731Z",
     "shell.execute_reply.started": "2024-11-22T16:20:58.269078Z"
    }
   },
   "outputs": [],
   "source": [
    "dfsucp = dfsucp.rename(columns = {0:'corr'})"
   ]
  },
  {
   "cell_type": "code",
   "execution_count": 47,
   "id": "7db0a0e8-e941-49d7-bf1c-fc17b88c6bb5",
   "metadata": {
    "execution": {
     "iopub.execute_input": "2024-11-22T16:20:58.585546Z",
     "iopub.status.busy": "2024-11-22T16:20:58.585134Z",
     "iopub.status.idle": "2024-11-22T16:20:58.589776Z",
     "shell.execute_reply": "2024-11-22T16:20:58.589070Z",
     "shell.execute_reply.started": "2024-11-22T16:20:58.585525Z"
    }
   },
   "outputs": [],
   "source": [
    "dfcorr_high = dfsucp.loc[(dfsucp['corr'] <= -0.8) | (dfsucp['corr'] >= 0.8)]"
   ]
  },
  {
   "cell_type": "code",
   "execution_count": 48,
   "id": "408c03e3-de39-4fb8-a6e6-02b724d61bf9",
   "metadata": {
    "execution": {
     "iopub.execute_input": "2024-11-22T16:20:59.967112Z",
     "iopub.status.busy": "2024-11-22T16:20:59.966459Z",
     "iopub.status.idle": "2024-11-22T16:20:59.973651Z",
     "shell.execute_reply": "2024-11-22T16:20:59.973110Z",
     "shell.execute_reply.started": "2024-11-22T16:20:59.967084Z"
    }
   },
   "outputs": [
    {
     "data": {
      "text/html": [
       "<div>\n",
       "<style scoped>\n",
       "    .dataframe tbody tr th:only-of-type {\n",
       "        vertical-align: middle;\n",
       "    }\n",
       "\n",
       "    .dataframe tbody tr th {\n",
       "        vertical-align: top;\n",
       "    }\n",
       "\n",
       "    .dataframe thead th {\n",
       "        text-align: right;\n",
       "    }\n",
       "</style>\n",
       "<table border=\"1\" class=\"dataframe\">\n",
       "  <thead>\n",
       "    <tr style=\"text-align: right;\">\n",
       "      <th></th>\n",
       "      <th></th>\n",
       "      <th>corr</th>\n",
       "    </tr>\n",
       "  </thead>\n",
       "  <tbody>\n",
       "    <tr>\n",
       "      <th>speedlimit_4</th>\n",
       "      <th>speedlimit</th>\n",
       "      <td>-0.822594</td>\n",
       "    </tr>\n",
       "    <tr>\n",
       "      <th>z_knr_10</th>\n",
       "      <th>z_qnr_15</th>\n",
       "      <td>0.818377</td>\n",
       "    </tr>\n",
       "    <tr>\n",
       "      <th>z_knr_7</th>\n",
       "      <th>z_qnr_8</th>\n",
       "      <td>0.853376</td>\n",
       "    </tr>\n",
       "    <tr>\n",
       "      <th>mew</th>\n",
       "      <th>mewmax</th>\n",
       "      <td>0.853716</td>\n",
       "    </tr>\n",
       "    <tr>\n",
       "      <th>meg</th>\n",
       "      <th>megmin</th>\n",
       "      <td>0.859011</td>\n",
       "    </tr>\n",
       "    <tr>\n",
       "      <th>mew</th>\n",
       "      <th>mewmin</th>\n",
       "      <td>0.872107</td>\n",
       "    </tr>\n",
       "    <tr>\n",
       "      <th>cp</th>\n",
       "      <th>cmean</th>\n",
       "      <td>0.908996</td>\n",
       "    </tr>\n",
       "    <tr>\n",
       "      <th>ie</th>\n",
       "      <th>iemax</th>\n",
       "      <td>0.920179</td>\n",
       "    </tr>\n",
       "    <tr>\n",
       "      <th>cp</th>\n",
       "      <th>csum</th>\n",
       "      <td>0.927290</td>\n",
       "    </tr>\n",
       "    <tr>\n",
       "      <th>droad_sl</th>\n",
       "      <th>droad</th>\n",
       "      <td>0.942433</td>\n",
       "    </tr>\n",
       "    <tr>\n",
       "      <th>cp</th>\n",
       "      <th>cmax</th>\n",
       "      <td>0.943761</td>\n",
       "    </tr>\n",
       "    <tr>\n",
       "      <th>ie</th>\n",
       "      <th>iemin</th>\n",
       "      <td>0.957321</td>\n",
       "    </tr>\n",
       "    <tr>\n",
       "      <th rowspan=\"2\" valign=\"top\">cmax</th>\n",
       "      <th>cmean</th>\n",
       "      <td>0.964090</td>\n",
       "    </tr>\n",
       "    <tr>\n",
       "      <th>csum</th>\n",
       "      <td>0.971382</td>\n",
       "    </tr>\n",
       "    <tr>\n",
       "      <th>gvm_asp</th>\n",
       "      <th>gvm_msp</th>\n",
       "      <td>0.981959</td>\n",
       "    </tr>\n",
       "    <tr>\n",
       "      <th>gvm_msp</th>\n",
       "      <th>gvm_dwv</th>\n",
       "      <td>0.982192</td>\n",
       "    </tr>\n",
       "    <tr>\n",
       "      <th>gvm_asp</th>\n",
       "      <th>gvm_dwv</th>\n",
       "      <td>0.985890</td>\n",
       "    </tr>\n",
       "    <tr>\n",
       "      <th>csum</th>\n",
       "      <th>cmean</th>\n",
       "      <td>0.998845</td>\n",
       "    </tr>\n",
       "  </tbody>\n",
       "</table>\n",
       "</div>"
      ],
      "text/plain": [
       "                             corr\n",
       "speedlimit_4 speedlimit -0.822594\n",
       "z_knr_10     z_qnr_15    0.818377\n",
       "z_knr_7      z_qnr_8     0.853376\n",
       "mew          mewmax      0.853716\n",
       "meg          megmin      0.859011\n",
       "mew          mewmin      0.872107\n",
       "cp           cmean       0.908996\n",
       "ie           iemax       0.920179\n",
       "cp           csum        0.927290\n",
       "droad_sl     droad       0.942433\n",
       "cp           cmax        0.943761\n",
       "ie           iemin       0.957321\n",
       "cmax         cmean       0.964090\n",
       "             csum        0.971382\n",
       "gvm_asp      gvm_msp     0.981959\n",
       "gvm_msp      gvm_dwv     0.982192\n",
       "gvm_asp      gvm_dwv     0.985890\n",
       "csum         cmean       0.998845"
      ]
     },
     "execution_count": 48,
     "metadata": {},
     "output_type": "execute_result"
    }
   ],
   "source": [
    "dfcorr_high"
   ]
  },
  {
   "cell_type": "code",
   "execution_count": 52,
   "id": "ae9aa514-4b9c-4035-8996-305192782fca",
   "metadata": {
    "execution": {
     "iopub.execute_input": "2024-11-22T16:26:16.122583Z",
     "iopub.status.busy": "2024-11-22T16:26:16.122176Z",
     "iopub.status.idle": "2024-11-22T16:26:16.126898Z",
     "shell.execute_reply": "2024-11-22T16:26:16.126263Z",
     "shell.execute_reply.started": "2024-11-22T16:26:16.122559Z"
    }
   },
   "outputs": [],
   "source": [
    "# Need to remove:\n",
    "# speedlimit_4, z_qnr_15, z_qnr_8, mewmax, megmin, mewmin, cmean, iemax, csum, \n",
    "# droad_sl, cmax, iemin, gvm_asp, gvm_msp\n",
    "cnu = ['cp', 'cmin',  \n",
    "       'ie', 'mew', 'meg', 'megmax', 'dbusl',\n",
    "       'dtraml', 'dtrainl', 'dplight', 'dstation', 'dparkcar', 'dparktw',\n",
    "       'dpedcro', 'dstopsign', 'dtrafficarea', 'droad',  'dvfpath',\n",
    "       'gvm_dwv', 'r_width', 'speedlimit',\n",
    "       'bicyclecount', 'carcount', 'z_qnr_1', 'z_qnr_2', 'z_qnr_3', 'z_qnr_4',\n",
    "       'z_qnr_5', 'z_qnr_6', 'z_qnr_7', 'z_qnr_9', 'z_qnr_10',\n",
    "       'z_qnr_11', 'z_qnr_12', 'z_qnr_13', 'z_qnr_14', 'z_qnr_16',\n",
    "       'z_qnr_17', 'z_qnr_18', 'z_qnr_19', 'z_qnr_20', 'z_qnr_21', 'z_qnr_22',\n",
    "       'z_qnr_23', 'z_qnr_24', 'z_qnr_25', 'z_qnr_26', 'z_qnr_27', 'z_qnr_28',\n",
    "       'z_qnr_29', 'z_qnr_30', 'z_qnr_31', 'z_qnr_32', 'z_qnr_33', 'z_knr_1',\n",
    "       'z_knr_2', 'z_knr_3', 'z_knr_4', 'z_knr_5', 'z_knr_6', 'z_knr_7',\n",
    "       'z_knr_8', 'z_knr_9', 'z_knr_10', 'z_knr_11', 'trafficarea_1',\n",
    "       'trafficarea_2', 'r_width_1', 'r_width_2', 'r_width_3', 'r_width_4',\n",
    "       'r_width_5', 'r_width_6', 'speedlimit_1', 'speedlimit_2',\n",
    "       'speedlimit_3', 'speedlimit_5', 'speedlimit_6']\n",
    "# Notice: acp is highly correlated with dvfpath"
   ]
  },
  {
   "cell_type": "code",
   "execution_count": 67,
   "id": "1c27635b-b3ae-4487-bffb-8c178cfb18ae",
   "metadata": {
    "execution": {
     "iopub.execute_input": "2024-11-22T16:31:41.489549Z",
     "iopub.status.busy": "2024-11-22T16:31:41.489259Z",
     "iopub.status.idle": "2024-11-22T16:31:42.331376Z",
     "shell.execute_reply": "2024-11-22T16:31:42.330470Z",
     "shell.execute_reply.started": "2024-11-22T16:31:41.489529Z"
    }
   },
   "outputs": [
    {
     "name": "stderr",
     "output_type": "stream",
     "text": [
      "/home/yelhe/.local/lib/python3.11/site-packages/statsmodels/regression/linear_model.py:1782: RuntimeWarning: divide by zero encountered in scalar divide\n",
      "  return 1 - self.ssr/self.centered_tss\n",
      "/home/yelhe/.local/lib/python3.11/site-packages/statsmodels/stats/outliers_influence.py:197: RuntimeWarning: divide by zero encountered in scalar divide\n",
      "  vif = 1. / (1. - r_squared_i)\n"
     ]
    },
    {
     "name": "stdout",
     "output_type": "stream",
     "text": [
      "         feature        VIF\n",
      "0          const   0.000000\n",
      "1             cp   1.268194\n",
      "2           cmin   1.079579\n",
      "3             ie   1.204277\n",
      "4            mew   1.423456\n",
      "..           ...        ...\n",
      "74  speedlimit_1  15.781365\n",
      "75  speedlimit_2   2.006897\n",
      "76  speedlimit_3   8.393975\n",
      "77  speedlimit_5   2.328826\n",
      "78  speedlimit_6   2.036456\n",
      "\n",
      "[79 rows x 2 columns]\n",
      "['const', 'cp', 'cmin', 'ie', 'mew', 'meg', 'megmax', 'dbusl', 'dtraml', 'dtrainl', 'dplight', 'dstation', 'dparkcar', 'dparktw', 'dpedcro', 'dstopsign', 'dtrafficarea', 'droad', 'dvfpath', 'gvm_dwv', 'bicyclecount', 'carcount', 'z_qnr_25', 'z_qnr_28', 'trafficarea_1', 'trafficarea_2', 'speedlimit_2', 'speedlimit_5', 'speedlimit_6'] 29\n"
     ]
    }
   ],
   "source": [
    "# calculating VIF for each feature\n",
    "X = dfacrpv[cnu]\n",
    "X = tools.add_constant(X)\n",
    "dfcnu_vif = pd.DataFrame()\n",
    "dfcnu_vif[\"feature\"] = X.columns\n",
    "dfcnu_vif[\"VIF\"] = [variance_inflation_factor(X.values, i)\n",
    "                          for i in range(len(X.columns))]\n",
    "\n",
    "print(dfcnu_vif)\n",
    "viflow = dfcnu_vif.loc[dfcnu_vif['VIF'] <= 5]\n",
    "vifl = viflow['feature'].tolist()\n",
    "print(vifl, len(vifl))"
   ]
  },
  {
   "cell_type": "code",
   "execution_count": 53,
   "id": "ca94c8a2-dc40-48cc-878b-7e0ef6658928",
   "metadata": {
    "execution": {
     "iopub.execute_input": "2024-11-22T16:26:16.380746Z",
     "iopub.status.busy": "2024-11-22T16:26:16.380430Z",
     "iopub.status.idle": "2024-11-22T16:26:16.383387Z",
     "shell.execute_reply": "2024-11-22T16:26:16.382690Z",
     "shell.execute_reply.started": "2024-11-22T16:26:16.380727Z"
    }
   },
   "outputs": [],
   "source": [
    "# Above using pairwise correlation"
   ]
  },
  {
   "cell_type": "code",
   "execution_count": 54,
   "id": "bd4621a4-6bf6-430e-8b2b-3d39d34a297b",
   "metadata": {
    "execution": {
     "iopub.execute_input": "2024-11-22T16:26:16.739189Z",
     "iopub.status.busy": "2024-11-22T16:26:16.738930Z",
     "iopub.status.idle": "2024-11-22T16:26:16.743195Z",
     "shell.execute_reply": "2024-11-22T16:26:16.742504Z",
     "shell.execute_reply.started": "2024-11-22T16:26:16.739171Z"
    }
   },
   "outputs": [],
   "source": [
    "# Following using VIF for multicollinearity\n",
    "cnforvif = ['cp', 'cmin',  \n",
    "       'ie', 'mew', 'meg', 'megmax', 'dbusl',\n",
    "       'dtraml', 'dtrainl', 'dplight', 'dstation', 'dparkcar', 'dparktw',\n",
    "       'dpedcro', 'dstopsign', 'dtrafficarea', 'droad',  'dvfpath',\n",
    "       'gvm_dwv', 'r_width', 'speedlimit',\n",
    "       'bicyclecount', 'carcount', 'z_qnr_1', 'z_qnr_2', 'z_qnr_3', 'z_qnr_4',\n",
    "       'z_qnr_5', 'z_qnr_6', 'z_qnr_7', 'z_qnr_9', 'z_qnr_10',\n",
    "       'z_qnr_11', 'z_qnr_12', 'z_qnr_13', 'z_qnr_14', 'z_qnr_16',\n",
    "       'z_qnr_17', 'z_qnr_18', 'z_qnr_19', 'z_qnr_20', 'z_qnr_21', 'z_qnr_22',\n",
    "       'z_qnr_23', 'z_qnr_24', 'z_qnr_25', 'z_qnr_26', 'z_qnr_27', 'z_qnr_28',\n",
    "       'z_qnr_29', 'z_qnr_30', 'z_qnr_31', 'z_qnr_32', 'z_qnr_33', 'z_knr_1',\n",
    "       'z_knr_2', 'z_knr_3', 'z_knr_4', 'z_knr_5', 'z_knr_6', 'z_knr_7',\n",
    "       'z_knr_8', 'z_knr_9', 'z_knr_10', 'z_knr_11', 'trafficarea_1',\n",
    "       'trafficarea_2', 'r_width_1', 'r_width_2', 'r_width_3', 'r_width_4',\n",
    "       'r_width_5', 'r_width_6', 'speedlimit_1', 'speedlimit_2',\n",
    "       'speedlimit_3', 'speedlimit_5', 'speedlimit_6']"
   ]
  },
  {
   "cell_type": "code",
   "execution_count": 55,
   "id": "a43f09f1-fb0d-4b26-bb0d-cf0ae4fae876",
   "metadata": {
    "execution": {
     "iopub.execute_input": "2024-11-22T16:26:17.314993Z",
     "iopub.status.busy": "2024-11-22T16:26:17.314737Z",
     "iopub.status.idle": "2024-11-22T16:26:17.318224Z",
     "shell.execute_reply": "2024-11-22T16:26:17.317491Z",
     "shell.execute_reply.started": "2024-11-22T16:26:17.314976Z"
    }
   },
   "outputs": [
    {
     "name": "stdout",
     "output_type": "stream",
     "text": [
      "78 78\n"
     ]
    }
   ],
   "source": [
    "print(len(cnu), len(cnforvif))"
   ]
  },
  {
   "cell_type": "code",
   "execution_count": 80,
   "id": "09482d57-4776-4d65-8ffc-4e7a29d9f35f",
   "metadata": {
    "execution": {
     "iopub.execute_input": "2024-11-22T16:48:34.720215Z",
     "iopub.status.busy": "2024-11-22T16:48:34.719877Z",
     "iopub.status.idle": "2024-11-22T16:48:35.236481Z",
     "shell.execute_reply": "2024-11-22T16:48:35.235314Z",
     "shell.execute_reply.started": "2024-11-22T16:48:34.720191Z"
    }
   },
   "outputs": [
    {
     "name": "stdout",
     "output_type": "stream",
     "text": [
      "         feature        VIF\n",
      "2           cmin   1.078146\n",
      "3             ie   1.185448\n",
      "62  speedlimit_5   1.202009\n",
      "1             cp   1.247870\n",
      "10       dplight   1.257405\n",
      "..           ...        ...\n",
      "52       z_knr_7   3.392038\n",
      "50       z_knr_3   3.527973\n",
      "51       z_knr_5   3.697481\n",
      "49       z_knr_2   4.252583\n",
      "0          const  70.288249\n",
      "\n",
      "[64 rows x 2 columns]\n"
     ]
    }
   ],
   "source": [
    "# calculating VIF for each feature\n",
    "# Remove 'r_width_3',\n",
    "# Remove 'z_qnr_6',\n",
    "# Remove 'z_qnr_5', \n",
    "# Remove 'z_qnr_4',\n",
    "# Remove 'z_qnr_3',\n",
    "# Remove 'z_knr_11',\n",
    "# Remove 'z_knr_8', \n",
    "# Remove 'z_knr_6',\n",
    "# Remove 'z_qnr_2',\n",
    "# Remove 'z_qnr_33',\n",
    "# Remove 'r_width_5',\n",
    "# Remove 'z_knr_1',\n",
    "# Remove 'speedlimit_1',\n",
    "# Remove 'z_knr_4',\n",
    "# Remove 'z_knr_9',\n",
    "# Remove \n",
    "# Remove \n",
    "# Remove \n",
    "# Remove \n",
    "\n",
    "cntry0 = ['cp', 'cmin',  \n",
    "       'ie', 'mew', 'meg', 'megmax', 'dbusl',\n",
    "       'dtraml', 'dtrainl', 'dplight', 'dstation', 'dparkcar', 'dparktw',\n",
    "       'dpedcro', 'dstopsign', 'dtrafficarea', 'droad',  'dvfpath',\n",
    "       'gvm_dwv', 'r_width', 'speedlimit',\n",
    "       'bicyclecount', 'carcount', 'z_qnr_1',   \n",
    "        'z_qnr_7', 'z_qnr_9', 'z_qnr_10',\n",
    "       'z_qnr_11', 'z_qnr_12', 'z_qnr_13', 'z_qnr_14', 'z_qnr_16',\n",
    "       'z_qnr_17', 'z_qnr_18', 'z_qnr_19', 'z_qnr_20', 'z_qnr_21', 'z_qnr_22',\n",
    "       'z_qnr_23', 'z_qnr_24', 'z_qnr_25', 'z_qnr_26', 'z_qnr_27', 'z_qnr_28',\n",
    "       'z_qnr_29', 'z_qnr_30', 'z_qnr_31', 'z_qnr_32',  \n",
    "       'z_knr_2', 'z_knr_3',  'z_knr_5',  'z_knr_7',\n",
    "        'z_knr_10',  'trafficarea_1',\n",
    "       'trafficarea_2', 'r_width_1', 'r_width_2',  'r_width_4',\n",
    "        'r_width_6',  'speedlimit_2',\n",
    "       'speedlimit_3', 'speedlimit_5', 'speedlimit_6']\n",
    "X = dfacrpv[cntry0]\n",
    "X = tools.add_constant(X)\n",
    "dfcnu_vif1 = pd.DataFrame()\n",
    "dfcnu_vif1[\"feature\"] = X.columns\n",
    "dfcnu_vif1[\"VIF\"] = [variance_inflation_factor(X.values, i)\n",
    "                          for i in range(len(X.columns))]\n",
    "\n",
    "print(dfcnu_vif1.sort_values(by = ['VIF']))"
   ]
  },
  {
   "cell_type": "code",
   "execution_count": 173,
   "id": "8c4e58a6-99e3-4609-b04f-e9743a6d2f98",
   "metadata": {
    "execution": {
     "iopub.execute_input": "2024-11-22T17:14:43.619081Z",
     "iopub.status.busy": "2024-11-22T17:14:43.618619Z",
     "iopub.status.idle": "2024-11-22T17:14:43.695173Z",
     "shell.execute_reply": "2024-11-22T17:14:43.694348Z",
     "shell.execute_reply.started": "2024-11-22T17:14:43.619056Z"
    }
   },
   "outputs": [
    {
     "name": "stdout",
     "output_type": "stream",
     "text": [
      "         feature        VIF\n",
      "2           cmin   1.041742\n",
      "3             ie   1.072251\n",
      "23      carcount   1.120935\n",
      "1             cp   1.178326\n",
      "10       dplight   1.185124\n",
      "9        dtrainl   1.206175\n",
      "4            mew   1.274193\n",
      "15     dstopsign   1.310979\n",
      "22  bicyclecount   1.358780\n",
      "21    speedlimit   1.408941\n",
      "20       r_width   1.434679\n",
      "13       dparktw   1.469245\n",
      "14       dpedcro   1.509585\n",
      "8         dtraml   1.564718\n",
      "19       gvm_dwv   1.573274\n",
      "11      dstation   1.612110\n",
      "12      dparkcar   1.628468\n",
      "7          dbusl   1.690766\n",
      "16  dtrafficarea   1.813606\n",
      "17         droad   1.890789\n",
      "18       dvfpath   2.151083\n",
      "6         megmax   2.340750\n",
      "5            meg   2.620652\n",
      "0          const  25.143765\n"
     ]
    }
   ],
   "source": [
    "# calculating VIF for each feature\n",
    "\n",
    "\n",
    "cntry1 = ['cp', 'cmin', \n",
    "       'ie', 'mew', 'meg', 'megmax', 'dbusl',\n",
    "       'dtraml', 'dtrainl', 'dplight', 'dstation', 'dparkcar', 'dparktw',\n",
    "       'dpedcro', 'dstopsign', 'dtrafficarea', 'droad',  'dvfpath',\n",
    "       'gvm_dwv', 'r_width', 'speedlimit',\n",
    "       'bicyclecount', 'carcount']\n",
    "X = dfacrpv[cntry1]\n",
    "X = tools.add_constant(X)\n",
    "dfcnu_vif1 = pd.DataFrame()\n",
    "dfcnu_vif1[\"feature\"] = X.columns\n",
    "dfcnu_vif1[\"VIF\"] = [variance_inflation_factor(X.values, i)\n",
    "                          for i in range(len(X.columns))]\n",
    "\n",
    "print(dfcnu_vif1.sort_values(by = ['VIF']))"
   ]
  },
  {
   "cell_type": "code",
   "execution_count": 174,
   "id": "274f709b-7640-4281-ba2d-7e8c92c0765a",
   "metadata": {
    "execution": {
     "iopub.execute_input": "2024-11-22T17:14:49.236849Z",
     "iopub.status.busy": "2024-11-22T17:14:49.236462Z",
     "iopub.status.idle": "2024-11-22T17:14:49.241077Z",
     "shell.execute_reply": "2024-11-22T17:14:49.240465Z",
     "shell.execute_reply.started": "2024-11-22T17:14:49.236829Z"
    }
   },
   "outputs": [
    {
     "name": "stdout",
     "output_type": "stream",
     "text": [
      "['cp', 'cmin', 'ie', 'mew', 'meg', 'megmax', 'dbusl', 'dtraml', 'dtrainl', 'dplight', 'dstation', 'dparkcar', 'dparktw', 'dpedcro', 'dstopsign', 'dtrafficarea', 'droad', 'dvfpath', 'gvm_dwv', 'r_width', 'speedlimit', 'bicyclecount', 'carcount'] 23\n"
     ]
    }
   ],
   "source": [
    "cn_vif = dfcnu_vif1['feature'].tolist()\n",
    "cn_vif.remove('const')\n",
    "print(cn_vif, len(cn_vif))"
   ]
  },
  {
   "cell_type": "code",
   "execution_count": 175,
   "id": "fc56996e-bf9f-4449-8105-707ba15842af",
   "metadata": {
    "execution": {
     "iopub.execute_input": "2024-11-22T17:14:49.735924Z",
     "iopub.status.busy": "2024-11-22T17:14:49.735707Z",
     "iopub.status.idle": "2024-11-22T17:14:49.738794Z",
     "shell.execute_reply": "2024-11-22T17:14:49.738174Z",
     "shell.execute_reply.started": "2024-11-22T17:14:49.735909Z"
    }
   },
   "outputs": [],
   "source": [
    "cnvif = cn_vif"
   ]
  },
  {
   "cell_type": "code",
   "execution_count": 176,
   "id": "b04a53f3-e331-43c9-b39f-25cd5ef736a8",
   "metadata": {
    "execution": {
     "iopub.execute_input": "2024-11-22T17:14:50.181094Z",
     "iopub.status.busy": "2024-11-22T17:14:50.180832Z",
     "iopub.status.idle": "2024-11-22T17:14:50.183852Z",
     "shell.execute_reply": "2024-11-22T17:14:50.183220Z",
     "shell.execute_reply.started": "2024-11-22T17:14:50.181077Z"
    }
   },
   "outputs": [],
   "source": [
    "# dfcnu_vif1.to_csv('/home/yelhe/script/mtp/tables/AfterRedoTransformation/dfcnu_VIF.csv', index = False)"
   ]
  },
  {
   "cell_type": "code",
   "execution_count": 177,
   "id": "a437d2d2-e217-4836-9972-38388c03004d",
   "metadata": {
    "execution": {
     "iopub.execute_input": "2024-11-22T17:14:50.560964Z",
     "iopub.status.busy": "2024-11-22T17:14:50.560544Z",
     "iopub.status.idle": "2024-11-22T17:14:50.565248Z",
     "shell.execute_reply": "2024-11-22T17:14:50.564652Z",
     "shell.execute_reply.started": "2024-11-22T17:14:50.560937Z"
    }
   },
   "outputs": [],
   "source": [
    "y = dfacrpv['acp']\n",
    "# x = dfacrpv[cnu]\n",
    "x = dfacrpv[cnvif] "
   ]
  },
  {
   "cell_type": "code",
   "execution_count": 178,
   "id": "28eecb43-f397-43ab-b387-d3a35f76c392",
   "metadata": {
    "execution": {
     "iopub.execute_input": "2024-11-22T17:14:52.359131Z",
     "iopub.status.busy": "2024-11-22T17:14:52.358742Z",
     "iopub.status.idle": "2024-11-22T17:14:52.363383Z",
     "shell.execute_reply": "2024-11-22T17:14:52.362763Z",
     "shell.execute_reply.started": "2024-11-22T17:14:52.359110Z"
    }
   },
   "outputs": [
    {
     "data": {
      "text/plain": [
       "(1087, 23)"
      ]
     },
     "execution_count": 178,
     "metadata": {},
     "output_type": "execute_result"
    }
   ],
   "source": [
    "# y.shape\n",
    "x.shape\n",
    "# 1087 points with 78 features in total"
   ]
  },
  {
   "cell_type": "code",
   "execution_count": 155,
   "id": "0c38a892-65ff-4e55-9741-6b393d8981f7",
   "metadata": {
    "execution": {
     "iopub.execute_input": "2024-11-22T17:13:29.377400Z",
     "iopub.status.busy": "2024-11-22T17:13:29.376985Z",
     "iopub.status.idle": "2024-11-22T17:13:29.380684Z",
     "shell.execute_reply": "2024-11-22T17:13:29.379989Z",
     "shell.execute_reply.started": "2024-11-22T17:13:29.377377Z"
    }
   },
   "outputs": [
    {
     "name": "stdout",
     "output_type": "stream",
     "text": [
      "['cp', 'cmin', 'ie', 'mew', 'meg', 'megmax', 'dbusl', 'dtraml', 'dtrainl', 'dplight', 'dstation', 'dparkcar', 'dparktw', 'dpedcro', 'dstopsign', 'dtrafficarea', 'droad', 'dvfpath', 'gvm_dwv', 'r_width', 'speedlimit', 'bicyclecount', 'carcount', 'z_qnr_1', 'z_qnr_2', 'z_qnr_3', 'z_qnr_4', 'z_qnr_5', 'z_qnr_6', 'z_qnr_7', 'z_qnr_9', 'z_qnr_10', 'z_qnr_11', 'z_qnr_12', 'z_qnr_13', 'z_qnr_14', 'z_qnr_16', 'z_qnr_17', 'z_qnr_18', 'z_qnr_19', 'z_qnr_20', 'z_qnr_21', 'z_qnr_22', 'z_qnr_23', 'z_qnr_24', 'z_qnr_25', 'z_qnr_26', 'z_qnr_27', 'z_qnr_28', 'z_qnr_29', 'z_qnr_30', 'z_qnr_31', 'z_qnr_32', 'z_qnr_33', 'trafficarea_1', 'trafficarea_2', 'r_width_1', 'r_width_3', 'r_width_4', 'r_width_6', 'speedlimit_2', 'speedlimit_3', 'speedlimit_5', 'speedlimit_6']\n"
     ]
    }
   ],
   "source": [
    "print(cnvif)"
   ]
  },
  {
   "cell_type": "code",
   "execution_count": 112,
   "id": "2224d34e-5876-4737-b12e-441766d23a37",
   "metadata": {
    "execution": {
     "iopub.execute_input": "2024-11-22T16:54:23.661712Z",
     "iopub.status.busy": "2024-11-22T16:54:23.661457Z",
     "iopub.status.idle": "2024-11-22T16:54:23.665975Z",
     "shell.execute_reply": "2024-11-22T16:54:23.665395Z",
     "shell.execute_reply.started": "2024-11-22T16:54:23.661696Z"
    }
   },
   "outputs": [],
   "source": [
    "cnvif1 = ['cp', 'cmin', 'cmean',\n",
    "          'ie', 'mew', 'meg', 'megmax', 'dbusl', 'dtraml', 'dtrainl', 'dplight',\n",
    "          'dstation', 'dparkcar', 'dparktw', 'dpedcro', 'dstopsign', 'dtrafficarea',\n",
    "          'droad', 'dvfpath', 'gvm_dwv', 'r_width', 'speedlimit', 'bicyclecount',\n",
    "          'carcount', 'z_qnr_1', 'z_qnr_7', 'z_qnr_9', 'z_qnr_10', 'z_qnr_11',\n",
    "          'z_qnr_12', 'z_qnr_13', 'z_qnr_14', 'z_qnr_16', 'z_qnr_17', 'z_qnr_18',\n",
    "          'z_qnr_19', 'z_qnr_20', 'z_qnr_21', 'z_qnr_22', 'z_qnr_23', 'z_qnr_24',\n",
    "          'z_qnr_25', 'z_qnr_26', 'z_qnr_27', 'z_qnr_28', 'z_qnr_29', 'z_qnr_30',\n",
    "          'z_qnr_31', 'z_qnr_32', 'z_knr_2', 'z_knr_3', 'z_knr_5', 'z_knr_7',\n",
    "          'z_knr_10', 'trafficarea_1', 'trafficarea_2', 'r_width_1', 'r_width_2',\n",
    "          'r_width_4', 'r_width_6', 'speedlimit_2', 'speedlimit_3', 'speedlimit_5',\n",
    "          'speedlimit_6']"
   ]
  },
  {
   "cell_type": "markdown",
   "id": "525e59ee-c2f3-4f1b-9e22-813cd303b195",
   "metadata": {},
   "source": [
    "# Orginal regression model without feature selection"
   ]
  },
  {
   "cell_type": "code",
   "execution_count": 179,
   "id": "0377006c-6262-4f67-b40f-660eaa87d821",
   "metadata": {
    "execution": {
     "iopub.execute_input": "2024-11-22T17:14:54.811978Z",
     "iopub.status.busy": "2024-11-22T17:14:54.811559Z",
     "iopub.status.idle": "2024-11-22T17:14:54.814751Z",
     "shell.execute_reply": "2024-11-22T17:14:54.814099Z",
     "shell.execute_reply.started": "2024-11-22T17:14:54.811951Z"
    }
   },
   "outputs": [],
   "source": [
    "# Using updated features collection (63)"
   ]
  },
  {
   "cell_type": "code",
   "execution_count": 180,
   "id": "8a83b745-3b29-4118-8799-a075cf5c93f1",
   "metadata": {
    "execution": {
     "iopub.execute_input": "2024-11-22T17:14:55.095875Z",
     "iopub.status.busy": "2024-11-22T17:14:55.095594Z",
     "iopub.status.idle": "2024-11-22T17:14:55.098624Z",
     "shell.execute_reply": "2024-11-22T17:14:55.098002Z",
     "shell.execute_reply.started": "2024-11-22T17:14:55.095853Z"
    }
   },
   "outputs": [],
   "source": [
    "# # Only with curb-related variables\n",
    "# xcp = dfacrpv[['cmean','cp', 'cmin', 'cmax', 'csum']]\n",
    "# x_const = tools.add_constant(xcp)\n",
    "# # m00_c = sm.OLS(y, x_const)\n",
    "# # r00_c = m00_c.fit()\n",
    "# # r00_c.summary()\n",
    "\n",
    "# m00_log_c = sm.Logit(y,x_const, max_iter = 400)\n",
    "# r00_log_c = m00_log_c.fit_regularized()\n",
    "# r00_log_c.summary()"
   ]
  },
  {
   "cell_type": "markdown",
   "id": "fd34e8c7-0c3c-4a4f-a35d-5d18ed66a119",
   "metadata": {},
   "source": [
    "## OLS linear regression"
   ]
  },
  {
   "cell_type": "markdown",
   "id": "026b9cd3-7bf5-44f2-b261-aea309174a6a",
   "metadata": {},
   "source": [
    "### Without data splitting"
   ]
  },
  {
   "cell_type": "code",
   "execution_count": 181,
   "id": "8f7ab772-b399-4126-bf22-5a0d9d01b012",
   "metadata": {
    "execution": {
     "iopub.execute_input": "2024-11-22T17:14:56.272064Z",
     "iopub.status.busy": "2024-11-22T17:14:56.271762Z",
     "iopub.status.idle": "2024-11-22T17:14:56.373611Z",
     "shell.execute_reply": "2024-11-22T17:14:56.372785Z",
     "shell.execute_reply.started": "2024-11-22T17:14:56.272041Z"
    }
   },
   "outputs": [
    {
     "data": {
      "text/html": [
       "<table class=\"simpletable\">\n",
       "<caption>OLS Regression Results</caption>\n",
       "<tr>\n",
       "  <th>Dep. Variable:</th>           <td>acp</td>       <th>  R-squared:         </th> <td>   0.926</td>\n",
       "</tr>\n",
       "<tr>\n",
       "  <th>Model:</th>                   <td>OLS</td>       <th>  Adj. R-squared:    </th> <td>   0.924</td>\n",
       "</tr>\n",
       "<tr>\n",
       "  <th>Method:</th>             <td>Least Squares</td>  <th>  F-statistic:       </th> <td>   574.4</td>\n",
       "</tr>\n",
       "<tr>\n",
       "  <th>Date:</th>             <td>Fri, 22 Nov 2024</td> <th>  Prob (F-statistic):</th>  <td>  0.00</td> \n",
       "</tr>\n",
       "<tr>\n",
       "  <th>Time:</th>                 <td>18:14:56</td>     <th>  Log-Likelihood:    </th> <td>  750.19</td>\n",
       "</tr>\n",
       "<tr>\n",
       "  <th>No. Observations:</th>      <td>  1087</td>      <th>  AIC:               </th> <td>  -1452.</td>\n",
       "</tr>\n",
       "<tr>\n",
       "  <th>Df Residuals:</th>          <td>  1063</td>      <th>  BIC:               </th> <td>  -1333.</td>\n",
       "</tr>\n",
       "<tr>\n",
       "  <th>Df Model:</th>              <td>    23</td>      <th>                     </th>     <td> </td>   \n",
       "</tr>\n",
       "<tr>\n",
       "  <th>Covariance Type:</th>      <td>nonrobust</td>    <th>                     </th>     <td> </td>   \n",
       "</tr>\n",
       "</table>\n",
       "<table class=\"simpletable\">\n",
       "<tr>\n",
       "        <td></td>          <th>coef</th>     <th>std err</th>      <th>t</th>      <th>P>|t|</th>  <th>[0.025</th>    <th>0.975]</th>  \n",
       "</tr>\n",
       "<tr>\n",
       "  <th>const</th>        <td>    0.5455</td> <td>    0.019</td> <td>   29.230</td> <td> 0.000</td> <td>    0.509</td> <td>    0.582</td>\n",
       "</tr>\n",
       "<tr>\n",
       "  <th>cp</th>           <td>   -0.0073</td> <td>    0.004</td> <td>   -1.795</td> <td> 0.073</td> <td>   -0.015</td> <td>    0.001</td>\n",
       "</tr>\n",
       "<tr>\n",
       "  <th>cmin</th>         <td>   -0.0086</td> <td>    0.017</td> <td>   -0.492</td> <td> 0.623</td> <td>   -0.043</td> <td>    0.026</td>\n",
       "</tr>\n",
       "<tr>\n",
       "  <th>ie</th>           <td>   -0.0021</td> <td>    0.009</td> <td>   -0.237</td> <td> 0.813</td> <td>   -0.019</td> <td>    0.015</td>\n",
       "</tr>\n",
       "<tr>\n",
       "  <th>mew</th>          <td>    0.0281</td> <td>    0.014</td> <td>    2.031</td> <td> 0.042</td> <td>    0.001</td> <td>    0.055</td>\n",
       "</tr>\n",
       "<tr>\n",
       "  <th>meg</th>          <td>    0.0101</td> <td>    0.017</td> <td>    0.599</td> <td> 0.549</td> <td>   -0.023</td> <td>    0.043</td>\n",
       "</tr>\n",
       "<tr>\n",
       "  <th>megmax</th>       <td>   -0.0046</td> <td>    0.016</td> <td>   -0.281</td> <td> 0.779</td> <td>   -0.037</td> <td>    0.027</td>\n",
       "</tr>\n",
       "<tr>\n",
       "  <th>dbusl</th>        <td>    0.0023</td> <td>    0.009</td> <td>    0.250</td> <td> 0.803</td> <td>   -0.016</td> <td>    0.020</td>\n",
       "</tr>\n",
       "<tr>\n",
       "  <th>dtraml</th>       <td>   -0.0103</td> <td>    0.009</td> <td>   -1.091</td> <td> 0.275</td> <td>   -0.029</td> <td>    0.008</td>\n",
       "</tr>\n",
       "<tr>\n",
       "  <th>dtrainl</th>      <td>    0.0111</td> <td>    0.011</td> <td>    0.978</td> <td> 0.328</td> <td>   -0.011</td> <td>    0.033</td>\n",
       "</tr>\n",
       "<tr>\n",
       "  <th>dplight</th>      <td>   -0.0213</td> <td>    0.016</td> <td>   -1.366</td> <td> 0.172</td> <td>   -0.052</td> <td>    0.009</td>\n",
       "</tr>\n",
       "<tr>\n",
       "  <th>dstation</th>     <td>   -0.0174</td> <td>    0.017</td> <td>   -1.034</td> <td> 0.301</td> <td>   -0.050</td> <td>    0.016</td>\n",
       "</tr>\n",
       "<tr>\n",
       "  <th>dparkcar</th>     <td>    0.0131</td> <td>    0.012</td> <td>    1.062</td> <td> 0.289</td> <td>   -0.011</td> <td>    0.037</td>\n",
       "</tr>\n",
       "<tr>\n",
       "  <th>dparktw</th>      <td> 5.368e-05</td> <td>    0.013</td> <td>    0.004</td> <td> 0.997</td> <td>   -0.026</td> <td>    0.026</td>\n",
       "</tr>\n",
       "<tr>\n",
       "  <th>dpedcro</th>      <td>   -0.0060</td> <td>    0.014</td> <td>   -0.427</td> <td> 0.669</td> <td>   -0.034</td> <td>    0.022</td>\n",
       "</tr>\n",
       "<tr>\n",
       "  <th>dstopsign</th>    <td>    0.0076</td> <td>    0.013</td> <td>    0.578</td> <td> 0.563</td> <td>   -0.018</td> <td>    0.033</td>\n",
       "</tr>\n",
       "<tr>\n",
       "  <th>dtrafficarea</th> <td>    0.0137</td> <td>    0.007</td> <td>    1.860</td> <td> 0.063</td> <td>   -0.001</td> <td>    0.028</td>\n",
       "</tr>\n",
       "<tr>\n",
       "  <th>droad</th>        <td>   -0.0047</td> <td>    0.007</td> <td>   -0.679</td> <td> 0.497</td> <td>   -0.018</td> <td>    0.009</td>\n",
       "</tr>\n",
       "<tr>\n",
       "  <th>dvfpath</th>      <td>    0.5233</td> <td>    0.007</td> <td>   75.722</td> <td> 0.000</td> <td>    0.510</td> <td>    0.537</td>\n",
       "</tr>\n",
       "<tr>\n",
       "  <th>gvm_dwv</th>      <td>    0.0041</td> <td>    0.011</td> <td>    0.364</td> <td> 0.716</td> <td>   -0.018</td> <td>    0.026</td>\n",
       "</tr>\n",
       "<tr>\n",
       "  <th>r_width</th>      <td>    0.0059</td> <td>    0.008</td> <td>    0.748</td> <td> 0.455</td> <td>   -0.010</td> <td>    0.021</td>\n",
       "</tr>\n",
       "<tr>\n",
       "  <th>speedlimit</th>   <td>   -0.0155</td> <td>    0.011</td> <td>   -1.367</td> <td> 0.172</td> <td>   -0.038</td> <td>    0.007</td>\n",
       "</tr>\n",
       "<tr>\n",
       "  <th>bicyclecount</th> <td>    0.0358</td> <td>    0.008</td> <td>    4.557</td> <td> 0.000</td> <td>    0.020</td> <td>    0.051</td>\n",
       "</tr>\n",
       "<tr>\n",
       "  <th>carcount</th>     <td>    0.0298</td> <td>    0.011</td> <td>    2.712</td> <td> 0.007</td> <td>    0.008</td> <td>    0.051</td>\n",
       "</tr>\n",
       "</table>\n",
       "<table class=\"simpletable\">\n",
       "<tr>\n",
       "  <th>Omnibus:</th>       <td>974.827</td> <th>  Durbin-Watson:     </th> <td>   1.781</td> \n",
       "</tr>\n",
       "<tr>\n",
       "  <th>Prob(Omnibus):</th> <td> 0.000</td>  <th>  Jarque-Bera (JB):  </th> <td>23793.926</td>\n",
       "</tr>\n",
       "<tr>\n",
       "  <th>Skew:</th>          <td> 4.253</td>  <th>  Prob(JB):          </th> <td>    0.00</td> \n",
       "</tr>\n",
       "<tr>\n",
       "  <th>Kurtosis:</th>      <td>24.284</td>  <th>  Cond. No.          </th> <td>    11.9</td> \n",
       "</tr>\n",
       "</table><br/><br/>Notes:<br/>[1] Standard Errors assume that the covariance matrix of the errors is correctly specified."
      ],
      "text/latex": [
       "\\begin{center}\n",
       "\\begin{tabular}{lclc}\n",
       "\\toprule\n",
       "\\textbf{Dep. Variable:}    &       acp        & \\textbf{  R-squared:         } &     0.926   \\\\\n",
       "\\textbf{Model:}            &       OLS        & \\textbf{  Adj. R-squared:    } &     0.924   \\\\\n",
       "\\textbf{Method:}           &  Least Squares   & \\textbf{  F-statistic:       } &     574.4   \\\\\n",
       "\\textbf{Date:}             & Fri, 22 Nov 2024 & \\textbf{  Prob (F-statistic):} &     0.00    \\\\\n",
       "\\textbf{Time:}             &     18:14:56     & \\textbf{  Log-Likelihood:    } &    750.19   \\\\\n",
       "\\textbf{No. Observations:} &        1087      & \\textbf{  AIC:               } &    -1452.   \\\\\n",
       "\\textbf{Df Residuals:}     &        1063      & \\textbf{  BIC:               } &    -1333.   \\\\\n",
       "\\textbf{Df Model:}         &          23      & \\textbf{                     } &             \\\\\n",
       "\\textbf{Covariance Type:}  &    nonrobust     & \\textbf{                     } &             \\\\\n",
       "\\bottomrule\n",
       "\\end{tabular}\n",
       "\\begin{tabular}{lcccccc}\n",
       "                      & \\textbf{coef} & \\textbf{std err} & \\textbf{t} & \\textbf{P$> |$t$|$} & \\textbf{[0.025} & \\textbf{0.975]}  \\\\\n",
       "\\midrule\n",
       "\\textbf{const}        &       0.5455  &        0.019     &    29.230  &         0.000        &        0.509    &        0.582     \\\\\n",
       "\\textbf{cp}           &      -0.0073  &        0.004     &    -1.795  &         0.073        &       -0.015    &        0.001     \\\\\n",
       "\\textbf{cmin}         &      -0.0086  &        0.017     &    -0.492  &         0.623        &       -0.043    &        0.026     \\\\\n",
       "\\textbf{ie}           &      -0.0021  &        0.009     &    -0.237  &         0.813        &       -0.019    &        0.015     \\\\\n",
       "\\textbf{mew}          &       0.0281  &        0.014     &     2.031  &         0.042        &        0.001    &        0.055     \\\\\n",
       "\\textbf{meg}          &       0.0101  &        0.017     &     0.599  &         0.549        &       -0.023    &        0.043     \\\\\n",
       "\\textbf{megmax}       &      -0.0046  &        0.016     &    -0.281  &         0.779        &       -0.037    &        0.027     \\\\\n",
       "\\textbf{dbusl}        &       0.0023  &        0.009     &     0.250  &         0.803        &       -0.016    &        0.020     \\\\\n",
       "\\textbf{dtraml}       &      -0.0103  &        0.009     &    -1.091  &         0.275        &       -0.029    &        0.008     \\\\\n",
       "\\textbf{dtrainl}      &       0.0111  &        0.011     &     0.978  &         0.328        &       -0.011    &        0.033     \\\\\n",
       "\\textbf{dplight}      &      -0.0213  &        0.016     &    -1.366  &         0.172        &       -0.052    &        0.009     \\\\\n",
       "\\textbf{dstation}     &      -0.0174  &        0.017     &    -1.034  &         0.301        &       -0.050    &        0.016     \\\\\n",
       "\\textbf{dparkcar}     &       0.0131  &        0.012     &     1.062  &         0.289        &       -0.011    &        0.037     \\\\\n",
       "\\textbf{dparktw}      &    5.368e-05  &        0.013     &     0.004  &         0.997        &       -0.026    &        0.026     \\\\\n",
       "\\textbf{dpedcro}      &      -0.0060  &        0.014     &    -0.427  &         0.669        &       -0.034    &        0.022     \\\\\n",
       "\\textbf{dstopsign}    &       0.0076  &        0.013     &     0.578  &         0.563        &       -0.018    &        0.033     \\\\\n",
       "\\textbf{dtrafficarea} &       0.0137  &        0.007     &     1.860  &         0.063        &       -0.001    &        0.028     \\\\\n",
       "\\textbf{droad}        &      -0.0047  &        0.007     &    -0.679  &         0.497        &       -0.018    &        0.009     \\\\\n",
       "\\textbf{dvfpath}      &       0.5233  &        0.007     &    75.722  &         0.000        &        0.510    &        0.537     \\\\\n",
       "\\textbf{gvm\\_dwv}     &       0.0041  &        0.011     &     0.364  &         0.716        &       -0.018    &        0.026     \\\\\n",
       "\\textbf{r\\_width}     &       0.0059  &        0.008     &     0.748  &         0.455        &       -0.010    &        0.021     \\\\\n",
       "\\textbf{speedlimit}   &      -0.0155  &        0.011     &    -1.367  &         0.172        &       -0.038    &        0.007     \\\\\n",
       "\\textbf{bicyclecount} &       0.0358  &        0.008     &     4.557  &         0.000        &        0.020    &        0.051     \\\\\n",
       "\\textbf{carcount}     &       0.0298  &        0.011     &     2.712  &         0.007        &        0.008    &        0.051     \\\\\n",
       "\\bottomrule\n",
       "\\end{tabular}\n",
       "\\begin{tabular}{lclc}\n",
       "\\textbf{Omnibus:}       & 974.827 & \\textbf{  Durbin-Watson:     } &     1.781  \\\\\n",
       "\\textbf{Prob(Omnibus):} &   0.000 & \\textbf{  Jarque-Bera (JB):  } & 23793.926  \\\\\n",
       "\\textbf{Skew:}          &   4.253 & \\textbf{  Prob(JB):          } &      0.00  \\\\\n",
       "\\textbf{Kurtosis:}      &  24.284 & \\textbf{  Cond. No.          } &      11.9  \\\\\n",
       "\\bottomrule\n",
       "\\end{tabular}\n",
       "%\\caption{OLS Regression Results}\n",
       "\\end{center}\n",
       "\n",
       "Notes: \\newline\n",
       " [1] Standard Errors assume that the covariance matrix of the errors is correctly specified."
      ],
      "text/plain": [
       "<class 'statsmodels.iolib.summary.Summary'>\n",
       "\"\"\"\n",
       "                            OLS Regression Results                            \n",
       "==============================================================================\n",
       "Dep. Variable:                    acp   R-squared:                       0.926\n",
       "Model:                            OLS   Adj. R-squared:                  0.924\n",
       "Method:                 Least Squares   F-statistic:                     574.4\n",
       "Date:                Fri, 22 Nov 2024   Prob (F-statistic):               0.00\n",
       "Time:                        18:14:56   Log-Likelihood:                 750.19\n",
       "No. Observations:                1087   AIC:                            -1452.\n",
       "Df Residuals:                    1063   BIC:                            -1333.\n",
       "Df Model:                          23                                         \n",
       "Covariance Type:            nonrobust                                         \n",
       "================================================================================\n",
       "                   coef    std err          t      P>|t|      [0.025      0.975]\n",
       "--------------------------------------------------------------------------------\n",
       "const            0.5455      0.019     29.230      0.000       0.509       0.582\n",
       "cp              -0.0073      0.004     -1.795      0.073      -0.015       0.001\n",
       "cmin            -0.0086      0.017     -0.492      0.623      -0.043       0.026\n",
       "ie              -0.0021      0.009     -0.237      0.813      -0.019       0.015\n",
       "mew              0.0281      0.014      2.031      0.042       0.001       0.055\n",
       "meg              0.0101      0.017      0.599      0.549      -0.023       0.043\n",
       "megmax          -0.0046      0.016     -0.281      0.779      -0.037       0.027\n",
       "dbusl            0.0023      0.009      0.250      0.803      -0.016       0.020\n",
       "dtraml          -0.0103      0.009     -1.091      0.275      -0.029       0.008\n",
       "dtrainl          0.0111      0.011      0.978      0.328      -0.011       0.033\n",
       "dplight         -0.0213      0.016     -1.366      0.172      -0.052       0.009\n",
       "dstation        -0.0174      0.017     -1.034      0.301      -0.050       0.016\n",
       "dparkcar         0.0131      0.012      1.062      0.289      -0.011       0.037\n",
       "dparktw       5.368e-05      0.013      0.004      0.997      -0.026       0.026\n",
       "dpedcro         -0.0060      0.014     -0.427      0.669      -0.034       0.022\n",
       "dstopsign        0.0076      0.013      0.578      0.563      -0.018       0.033\n",
       "dtrafficarea     0.0137      0.007      1.860      0.063      -0.001       0.028\n",
       "droad           -0.0047      0.007     -0.679      0.497      -0.018       0.009\n",
       "dvfpath          0.5233      0.007     75.722      0.000       0.510       0.537\n",
       "gvm_dwv          0.0041      0.011      0.364      0.716      -0.018       0.026\n",
       "r_width          0.0059      0.008      0.748      0.455      -0.010       0.021\n",
       "speedlimit      -0.0155      0.011     -1.367      0.172      -0.038       0.007\n",
       "bicyclecount     0.0358      0.008      4.557      0.000       0.020       0.051\n",
       "carcount         0.0298      0.011      2.712      0.007       0.008       0.051\n",
       "==============================================================================\n",
       "Omnibus:                      974.827   Durbin-Watson:                   1.781\n",
       "Prob(Omnibus):                  0.000   Jarque-Bera (JB):            23793.926\n",
       "Skew:                           4.253   Prob(JB):                         0.00\n",
       "Kurtosis:                      24.284   Cond. No.                         11.9\n",
       "==============================================================================\n",
       "\n",
       "Notes:\n",
       "[1] Standard Errors assume that the covariance matrix of the errors is correctly specified.\n",
       "\"\"\""
      ]
     },
     "execution_count": 181,
     "metadata": {},
     "output_type": "execute_result"
    }
   ],
   "source": [
    "# OLS\n",
    "# With constant\n",
    "x_const = tools.add_constant(x)\n",
    "m00 = sm.OLS(y, x_const)\n",
    "r00 = m00.fit()\n",
    "r00.summary()\n",
    "\n",
    "# m00 = sm.OLS(y, x)\n",
    "# r00 = m00.fit()\n",
    "# r00.summary()"
   ]
  },
  {
   "cell_type": "code",
   "execution_count": 182,
   "id": "d915df21-384a-47da-bc35-1242f858e894",
   "metadata": {
    "execution": {
     "iopub.execute_input": "2024-11-22T17:15:02.958532Z",
     "iopub.status.busy": "2024-11-22T17:15:02.958247Z",
     "iopub.status.idle": "2024-11-22T17:15:02.962029Z",
     "shell.execute_reply": "2024-11-22T17:15:02.961380Z",
     "shell.execute_reply.started": "2024-11-22T17:15:02.958512Z"
    }
   },
   "outputs": [
    {
     "name": "stdout",
     "output_type": "stream",
     "text": [
      "0.9239179238791375\n"
     ]
    }
   ],
   "source": [
    "print(r00.rsquared_adj)"
   ]
  },
  {
   "cell_type": "code",
   "execution_count": 183,
   "id": "0c7211cf-18d7-4583-83d2-26ab7c5df0ce",
   "metadata": {
    "execution": {
     "iopub.execute_input": "2024-11-22T17:15:03.314049Z",
     "iopub.status.busy": "2024-11-22T17:15:03.313568Z",
     "iopub.status.idle": "2024-11-22T17:15:03.318513Z",
     "shell.execute_reply": "2024-11-22T17:15:03.318001Z",
     "shell.execute_reply.started": "2024-11-22T17:15:03.314023Z"
    }
   },
   "outputs": [],
   "source": [
    "def printsig(r):\n",
    "    df = r.pvalues\n",
    "    dfo = df[df<0.05]\n",
    "    dfo = dfo.to_frame()\n",
    "    dfo.loc[dfo[0] >= 0.01, 'sig'] = '*'\n",
    "    dfo.loc[(dfo[0] < 0.01) & (dfo[0] >= 0.001) , 'sig'] = '**'\n",
    "    dfo.loc[dfo[0] < 0.001, 'sig'] = '***'\n",
    "    dfo = dfo.rename_axis('feature').reset_index()\n",
    "    return dfo\n",
    "    print(dfo)\n",
    "    print(len(dfo))"
   ]
  },
  {
   "cell_type": "code",
   "execution_count": 184,
   "id": "2d9536c1-2182-4d14-b1c8-ad683a80664a",
   "metadata": {
    "execution": {
     "iopub.execute_input": "2024-11-22T17:15:03.916870Z",
     "iopub.status.busy": "2024-11-22T17:15:03.916602Z",
     "iopub.status.idle": "2024-11-22T17:15:03.926730Z",
     "shell.execute_reply": "2024-11-22T17:15:03.926184Z",
     "shell.execute_reply.started": "2024-11-22T17:15:03.916853Z"
    }
   },
   "outputs": [
    {
     "data": {
      "text/html": [
       "<div>\n",
       "<style scoped>\n",
       "    .dataframe tbody tr th:only-of-type {\n",
       "        vertical-align: middle;\n",
       "    }\n",
       "\n",
       "    .dataframe tbody tr th {\n",
       "        vertical-align: top;\n",
       "    }\n",
       "\n",
       "    .dataframe thead th {\n",
       "        text-align: right;\n",
       "    }\n",
       "</style>\n",
       "<table border=\"1\" class=\"dataframe\">\n",
       "  <thead>\n",
       "    <tr style=\"text-align: right;\">\n",
       "      <th></th>\n",
       "      <th>feature</th>\n",
       "      <th>0</th>\n",
       "      <th>sig</th>\n",
       "    </tr>\n",
       "  </thead>\n",
       "  <tbody>\n",
       "    <tr>\n",
       "      <th>0</th>\n",
       "      <td>const</td>\n",
       "      <td>2.533431e-138</td>\n",
       "      <td>***</td>\n",
       "    </tr>\n",
       "    <tr>\n",
       "      <th>1</th>\n",
       "      <td>mew</td>\n",
       "      <td>4.249787e-02</td>\n",
       "      <td>*</td>\n",
       "    </tr>\n",
       "    <tr>\n",
       "      <th>2</th>\n",
       "      <td>dvfpath</td>\n",
       "      <td>0.000000e+00</td>\n",
       "      <td>***</td>\n",
       "    </tr>\n",
       "    <tr>\n",
       "      <th>3</th>\n",
       "      <td>bicyclecount</td>\n",
       "      <td>5.780002e-06</td>\n",
       "      <td>***</td>\n",
       "    </tr>\n",
       "    <tr>\n",
       "      <th>4</th>\n",
       "      <td>carcount</td>\n",
       "      <td>6.800958e-03</td>\n",
       "      <td>**</td>\n",
       "    </tr>\n",
       "  </tbody>\n",
       "</table>\n",
       "</div>"
      ],
      "text/plain": [
       "        feature              0  sig\n",
       "0         const  2.533431e-138  ***\n",
       "1           mew   4.249787e-02    *\n",
       "2       dvfpath   0.000000e+00  ***\n",
       "3  bicyclecount   5.780002e-06  ***\n",
       "4      carcount   6.800958e-03   **"
      ]
     },
     "execution_count": 184,
     "metadata": {},
     "output_type": "execute_result"
    }
   ],
   "source": [
    "printsig(r00)"
   ]
  },
  {
   "cell_type": "code",
   "execution_count": 185,
   "id": "aa73c4e6-afd1-4ec7-bc36-72e81f5e5241",
   "metadata": {
    "execution": {
     "iopub.execute_input": "2024-11-22T17:15:04.370982Z",
     "iopub.status.busy": "2024-11-22T17:15:04.370735Z",
     "iopub.status.idle": "2024-11-22T17:15:04.600413Z",
     "shell.execute_reply": "2024-11-22T17:15:04.599797Z",
     "shell.execute_reply.started": "2024-11-22T17:15:04.370966Z"
    }
   },
   "outputs": [
    {
     "name": "stdout",
     "output_type": "stream",
     "text": [
      "0.983440662373505\n",
      "\n",
      "Test accuracy : \n",
      " 0.983440662373505\n",
      "\n",
      "Confusion Matrix : \n",
      " [[792   0]\n",
      " [ 18 277]]\n"
     ]
    },
    {
     "data": {
      "text/plain": [
       "<sklearn.metrics._plot.confusion_matrix.ConfusionMatrixDisplay at 0x14f87d3d1f50>"
      ]
     },
     "execution_count": 185,
     "metadata": {},
     "output_type": "execute_result"
    },
    {
     "data": {
      "image/png": "[encoded data removed]",
      "text/plain": [
       "<Figure size 640x480 with 2 Axes>"
      ]
     },
     "metadata": {},
     "output_type": "display_data"
    }
   ],
   "source": [
    "pred00 = r00.predict(x_const)\n",
    "pred00 = list(map(round,pred00))\n",
    "print(accuracy_score(y, pred00))\n",
    "print('\\nTest accuracy : \\n', accuracy_score(y, pred00))\n",
    "cm00 = confusion_matrix(y, pred00) \n",
    "print ('\\nConfusion Matrix : \\n', cm00)\n",
    "cm00_display = metrics.ConfusionMatrixDisplay(confusion_matrix = cm00)\n",
    "cm00_display.plot()"
   ]
  },
  {
   "cell_type": "code",
   "execution_count": 186,
   "id": "000a5c84-dfa0-45d4-b162-b54356df5d34",
   "metadata": {
    "execution": {
     "iopub.execute_input": "2024-11-22T17:15:05.136506Z",
     "iopub.status.busy": "2024-11-22T17:15:05.136212Z",
     "iopub.status.idle": "2024-11-22T17:15:05.151074Z",
     "shell.execute_reply": "2024-11-22T17:15:05.150571Z",
     "shell.execute_reply.started": "2024-11-22T17:15:05.136486Z"
    }
   },
   "outputs": [
    {
     "name": "stdout",
     "output_type": "stream",
     "text": [
      "accuracy 0.983440662373505\n",
      "precision [0.97777778 1.        ]\n",
      "sensitivity recall [1.         0.93898305]\n",
      "f1 score [0.98876404 0.96853147]\n",
      "mean precision 0.9888888888888889\n",
      "mean recall 0.9694915254237289\n",
      "mean f1 score 0.9786477567376444\n"
     ]
    }
   ],
   "source": [
    "acc_ols = metrics.accuracy_score(y, pred00)\n",
    "print('accuracy', acc_ols)\n",
    "\n",
    "pre_ols = metrics.precision_score(y, pred00, average = None)\n",
    "print('precision', pre_ols)\n",
    "\n",
    "senrec_ols = metrics.recall_score(y, pred00, average = None)\n",
    "print('sensitivity recall', senrec_ols)\n",
    "\n",
    "f1_ols = metrics.f1_score(y, pred00, average = None)\n",
    "print('f1 score', f1_ols)\n",
    "\n",
    "pre_ols_m = np.mean(pre_ols)\n",
    "senrec_ols_m = np.mean(senrec_ols)\n",
    "f1_ols_m = np.mean(f1_ols)\n",
    "print('mean precision', pre_ols_m)\n",
    "print('mean recall', senrec_ols_m)\n",
    "print('mean f1 score', f1_ols_m)"
   ]
  },
  {
   "cell_type": "markdown",
   "id": "82930f54-a24d-48a1-a9de-0d36dd34c14b",
   "metadata": {},
   "source": [
    "### With data splitting"
   ]
  },
  {
   "cell_type": "code",
   "execution_count": 187,
   "id": "b56e34e2-487a-4703-bfad-189ca1dafe51",
   "metadata": {
    "execution": {
     "iopub.execute_input": "2024-11-22T17:15:06.096153Z",
     "iopub.status.busy": "2024-11-22T17:15:06.095895Z",
     "iopub.status.idle": "2024-11-22T17:15:06.189376Z",
     "shell.execute_reply": "2024-11-22T17:15:06.188496Z",
     "shell.execute_reply.started": "2024-11-22T17:15:06.096132Z"
    },
    "scrolled": true
   },
   "outputs": [
    {
     "data": {
      "text/html": [
       "<table class=\"simpletable\">\n",
       "<caption>OLS Regression Results</caption>\n",
       "<tr>\n",
       "  <th>Dep. Variable:</th>           <td>acp</td>       <th>  R-squared:         </th> <td>   0.914</td>\n",
       "</tr>\n",
       "<tr>\n",
       "  <th>Model:</th>                   <td>OLS</td>       <th>  Adj. R-squared:    </th> <td>   0.911</td>\n",
       "</tr>\n",
       "<tr>\n",
       "  <th>Method:</th>             <td>Least Squares</td>  <th>  F-statistic:       </th> <td>   338.8</td>\n",
       "</tr>\n",
       "<tr>\n",
       "  <th>Date:</th>             <td>Fri, 22 Nov 2024</td> <th>  Prob (F-statistic):</th>  <td>  0.00</td> \n",
       "</tr>\n",
       "<tr>\n",
       "  <th>Time:</th>                 <td>18:15:06</td>     <th>  Log-Likelihood:    </th> <td>  461.98</td>\n",
       "</tr>\n",
       "<tr>\n",
       "  <th>No. Observations:</th>      <td>   760</td>      <th>  AIC:               </th> <td>  -876.0</td>\n",
       "</tr>\n",
       "<tr>\n",
       "  <th>Df Residuals:</th>          <td>   736</td>      <th>  BIC:               </th> <td>  -764.8</td>\n",
       "</tr>\n",
       "<tr>\n",
       "  <th>Df Model:</th>              <td>    23</td>      <th>                     </th>     <td> </td>   \n",
       "</tr>\n",
       "<tr>\n",
       "  <th>Covariance Type:</th>      <td>nonrobust</td>    <th>                     </th>     <td> </td>   \n",
       "</tr>\n",
       "</table>\n",
       "<table class=\"simpletable\">\n",
       "<tr>\n",
       "        <td></td>          <th>coef</th>     <th>std err</th>      <th>t</th>      <th>P>|t|</th>  <th>[0.025</th>    <th>0.975]</th>  \n",
       "</tr>\n",
       "<tr>\n",
       "  <th>const</th>        <td>    0.5352</td> <td>    0.023</td> <td>   23.624</td> <td> 0.000</td> <td>    0.491</td> <td>    0.580</td>\n",
       "</tr>\n",
       "<tr>\n",
       "  <th>cp</th>           <td>   -0.0056</td> <td>    0.005</td> <td>   -1.056</td> <td> 0.291</td> <td>   -0.016</td> <td>    0.005</td>\n",
       "</tr>\n",
       "<tr>\n",
       "  <th>cmin</th>         <td>   -0.0255</td> <td>    0.021</td> <td>   -1.221</td> <td> 0.223</td> <td>   -0.066</td> <td>    0.015</td>\n",
       "</tr>\n",
       "<tr>\n",
       "  <th>ie</th>           <td>   -0.0033</td> <td>    0.011</td> <td>   -0.288</td> <td> 0.773</td> <td>   -0.025</td> <td>    0.019</td>\n",
       "</tr>\n",
       "<tr>\n",
       "  <th>mew</th>          <td>    0.0230</td> <td>    0.018</td> <td>    1.291</td> <td> 0.197</td> <td>   -0.012</td> <td>    0.058</td>\n",
       "</tr>\n",
       "<tr>\n",
       "  <th>meg</th>          <td>    0.0062</td> <td>    0.022</td> <td>    0.285</td> <td> 0.776</td> <td>   -0.036</td> <td>    0.049</td>\n",
       "</tr>\n",
       "<tr>\n",
       "  <th>megmax</th>       <td>    0.0056</td> <td>    0.021</td> <td>    0.269</td> <td> 0.788</td> <td>   -0.036</td> <td>    0.047</td>\n",
       "</tr>\n",
       "<tr>\n",
       "  <th>dbusl</th>        <td>    0.0050</td> <td>    0.012</td> <td>    0.421</td> <td> 0.674</td> <td>   -0.018</td> <td>    0.028</td>\n",
       "</tr>\n",
       "<tr>\n",
       "  <th>dtraml</th>       <td>   -0.0050</td> <td>    0.012</td> <td>   -0.401</td> <td> 0.689</td> <td>   -0.029</td> <td>    0.019</td>\n",
       "</tr>\n",
       "<tr>\n",
       "  <th>dtrainl</th>      <td>    0.0036</td> <td>    0.015</td> <td>    0.244</td> <td> 0.808</td> <td>   -0.025</td> <td>    0.033</td>\n",
       "</tr>\n",
       "<tr>\n",
       "  <th>dplight</th>      <td>   -0.0172</td> <td>    0.020</td> <td>   -0.846</td> <td> 0.398</td> <td>   -0.057</td> <td>    0.023</td>\n",
       "</tr>\n",
       "<tr>\n",
       "  <th>dstation</th>     <td>    0.0086</td> <td>    0.022</td> <td>    0.398</td> <td> 0.691</td> <td>   -0.034</td> <td>    0.051</td>\n",
       "</tr>\n",
       "<tr>\n",
       "  <th>dparkcar</th>     <td>    0.0155</td> <td>    0.016</td> <td>    0.967</td> <td> 0.334</td> <td>   -0.016</td> <td>    0.047</td>\n",
       "</tr>\n",
       "<tr>\n",
       "  <th>dparktw</th>      <td>   -0.0040</td> <td>    0.017</td> <td>   -0.228</td> <td> 0.819</td> <td>   -0.038</td> <td>    0.030</td>\n",
       "</tr>\n",
       "<tr>\n",
       "  <th>dpedcro</th>      <td>   -0.0217</td> <td>    0.018</td> <td>   -1.174</td> <td> 0.241</td> <td>   -0.058</td> <td>    0.015</td>\n",
       "</tr>\n",
       "<tr>\n",
       "  <th>dstopsign</th>    <td>    0.0109</td> <td>    0.017</td> <td>    0.630</td> <td> 0.529</td> <td>   -0.023</td> <td>    0.045</td>\n",
       "</tr>\n",
       "<tr>\n",
       "  <th>dtrafficarea</th> <td>    0.0103</td> <td>    0.010</td> <td>    1.077</td> <td> 0.282</td> <td>   -0.009</td> <td>    0.029</td>\n",
       "</tr>\n",
       "<tr>\n",
       "  <th>droad</th>        <td>   -0.0003</td> <td>    0.009</td> <td>   -0.030</td> <td> 0.976</td> <td>   -0.018</td> <td>    0.018</td>\n",
       "</tr>\n",
       "<tr>\n",
       "  <th>dvfpath</th>      <td>    0.5216</td> <td>    0.009</td> <td>   57.613</td> <td> 0.000</td> <td>    0.504</td> <td>    0.539</td>\n",
       "</tr>\n",
       "<tr>\n",
       "  <th>gvm_dwv</th>      <td>    0.0030</td> <td>    0.015</td> <td>    0.201</td> <td> 0.841</td> <td>   -0.026</td> <td>    0.032</td>\n",
       "</tr>\n",
       "<tr>\n",
       "  <th>r_width</th>      <td>    0.0092</td> <td>    0.010</td> <td>    0.893</td> <td> 0.372</td> <td>   -0.011</td> <td>    0.029</td>\n",
       "</tr>\n",
       "<tr>\n",
       "  <th>speedlimit</th>   <td>   -0.0112</td> <td>    0.015</td> <td>   -0.761</td> <td> 0.447</td> <td>   -0.040</td> <td>    0.018</td>\n",
       "</tr>\n",
       "<tr>\n",
       "  <th>bicyclecount</th> <td>    0.0401</td> <td>    0.010</td> <td>    3.875</td> <td> 0.000</td> <td>    0.020</td> <td>    0.060</td>\n",
       "</tr>\n",
       "<tr>\n",
       "  <th>carcount</th>     <td>    0.0264</td> <td>    0.015</td> <td>    1.775</td> <td> 0.076</td> <td>   -0.003</td> <td>    0.056</td>\n",
       "</tr>\n",
       "</table>\n",
       "<table class=\"simpletable\">\n",
       "<tr>\n",
       "  <th>Omnibus:</th>       <td>652.489</td> <th>  Durbin-Watson:     </th> <td>   1.984</td> \n",
       "</tr>\n",
       "<tr>\n",
       "  <th>Prob(Omnibus):</th> <td> 0.000</td>  <th>  Jarque-Bera (JB):  </th> <td>12237.647</td>\n",
       "</tr>\n",
       "<tr>\n",
       "  <th>Skew:</th>          <td> 3.989</td>  <th>  Prob(JB):          </th> <td>    0.00</td> \n",
       "</tr>\n",
       "<tr>\n",
       "  <th>Kurtosis:</th>      <td>20.967</td>  <th>  Cond. No.          </th> <td>    11.0</td> \n",
       "</tr>\n",
       "</table><br/><br/>Notes:<br/>[1] Standard Errors assume that the covariance matrix of the errors is correctly specified."
      ],
      "text/latex": [
       "\\begin{center}\n",
       "\\begin{tabular}{lclc}\n",
       "\\toprule\n",
       "\\textbf{Dep. Variable:}    &       acp        & \\textbf{  R-squared:         } &     0.914   \\\\\n",
       "\\textbf{Model:}            &       OLS        & \\textbf{  Adj. R-squared:    } &     0.911   \\\\\n",
       "\\textbf{Method:}           &  Least Squares   & \\textbf{  F-statistic:       } &     338.8   \\\\\n",
       "\\textbf{Date:}             & Fri, 22 Nov 2024 & \\textbf{  Prob (F-statistic):} &     0.00    \\\\\n",
       "\\textbf{Time:}             &     18:15:06     & \\textbf{  Log-Likelihood:    } &    461.98   \\\\\n",
       "\\textbf{No. Observations:} &         760      & \\textbf{  AIC:               } &    -876.0   \\\\\n",
       "\\textbf{Df Residuals:}     &         736      & \\textbf{  BIC:               } &    -764.8   \\\\\n",
       "\\textbf{Df Model:}         &          23      & \\textbf{                     } &             \\\\\n",
       "\\textbf{Covariance Type:}  &    nonrobust     & \\textbf{                     } &             \\\\\n",
       "\\bottomrule\n",
       "\\end{tabular}\n",
       "\\begin{tabular}{lcccccc}\n",
       "                      & \\textbf{coef} & \\textbf{std err} & \\textbf{t} & \\textbf{P$> |$t$|$} & \\textbf{[0.025} & \\textbf{0.975]}  \\\\\n",
       "\\midrule\n",
       "\\textbf{const}        &       0.5352  &        0.023     &    23.624  &         0.000        &        0.491    &        0.580     \\\\\n",
       "\\textbf{cp}           &      -0.0056  &        0.005     &    -1.056  &         0.291        &       -0.016    &        0.005     \\\\\n",
       "\\textbf{cmin}         &      -0.0255  &        0.021     &    -1.221  &         0.223        &       -0.066    &        0.015     \\\\\n",
       "\\textbf{ie}           &      -0.0033  &        0.011     &    -0.288  &         0.773        &       -0.025    &        0.019     \\\\\n",
       "\\textbf{mew}          &       0.0230  &        0.018     &     1.291  &         0.197        &       -0.012    &        0.058     \\\\\n",
       "\\textbf{meg}          &       0.0062  &        0.022     &     0.285  &         0.776        &       -0.036    &        0.049     \\\\\n",
       "\\textbf{megmax}       &       0.0056  &        0.021     &     0.269  &         0.788        &       -0.036    &        0.047     \\\\\n",
       "\\textbf{dbusl}        &       0.0050  &        0.012     &     0.421  &         0.674        &       -0.018    &        0.028     \\\\\n",
       "\\textbf{dtraml}       &      -0.0050  &        0.012     &    -0.401  &         0.689        &       -0.029    &        0.019     \\\\\n",
       "\\textbf{dtrainl}      &       0.0036  &        0.015     &     0.244  &         0.808        &       -0.025    &        0.033     \\\\\n",
       "\\textbf{dplight}      &      -0.0172  &        0.020     &    -0.846  &         0.398        &       -0.057    &        0.023     \\\\\n",
       "\\textbf{dstation}     &       0.0086  &        0.022     &     0.398  &         0.691        &       -0.034    &        0.051     \\\\\n",
       "\\textbf{dparkcar}     &       0.0155  &        0.016     &     0.967  &         0.334        &       -0.016    &        0.047     \\\\\n",
       "\\textbf{dparktw}      &      -0.0040  &        0.017     &    -0.228  &         0.819        &       -0.038    &        0.030     \\\\\n",
       "\\textbf{dpedcro}      &      -0.0217  &        0.018     &    -1.174  &         0.241        &       -0.058    &        0.015     \\\\\n",
       "\\textbf{dstopsign}    &       0.0109  &        0.017     &     0.630  &         0.529        &       -0.023    &        0.045     \\\\\n",
       "\\textbf{dtrafficarea} &       0.0103  &        0.010     &     1.077  &         0.282        &       -0.009    &        0.029     \\\\\n",
       "\\textbf{droad}        &      -0.0003  &        0.009     &    -0.030  &         0.976        &       -0.018    &        0.018     \\\\\n",
       "\\textbf{dvfpath}      &       0.5216  &        0.009     &    57.613  &         0.000        &        0.504    &        0.539     \\\\\n",
       "\\textbf{gvm\\_dwv}     &       0.0030  &        0.015     &     0.201  &         0.841        &       -0.026    &        0.032     \\\\\n",
       "\\textbf{r\\_width}     &       0.0092  &        0.010     &     0.893  &         0.372        &       -0.011    &        0.029     \\\\\n",
       "\\textbf{speedlimit}   &      -0.0112  &        0.015     &    -0.761  &         0.447        &       -0.040    &        0.018     \\\\\n",
       "\\textbf{bicyclecount} &       0.0401  &        0.010     &     3.875  &         0.000        &        0.020    &        0.060     \\\\\n",
       "\\textbf{carcount}     &       0.0264  &        0.015     &     1.775  &         0.076        &       -0.003    &        0.056     \\\\\n",
       "\\bottomrule\n",
       "\\end{tabular}\n",
       "\\begin{tabular}{lclc}\n",
       "\\textbf{Omnibus:}       & 652.489 & \\textbf{  Durbin-Watson:     } &     1.984  \\\\\n",
       "\\textbf{Prob(Omnibus):} &   0.000 & \\textbf{  Jarque-Bera (JB):  } & 12237.647  \\\\\n",
       "\\textbf{Skew:}          &   3.989 & \\textbf{  Prob(JB):          } &      0.00  \\\\\n",
       "\\textbf{Kurtosis:}      &  20.967 & \\textbf{  Cond. No.          } &      11.0  \\\\\n",
       "\\bottomrule\n",
       "\\end{tabular}\n",
       "%\\caption{OLS Regression Results}\n",
       "\\end{center}\n",
       "\n",
       "Notes: \\newline\n",
       " [1] Standard Errors assume that the covariance matrix of the errors is correctly specified."
      ],
      "text/plain": [
       "<class 'statsmodels.iolib.summary.Summary'>\n",
       "\"\"\"\n",
       "                            OLS Regression Results                            \n",
       "==============================================================================\n",
       "Dep. Variable:                    acp   R-squared:                       0.914\n",
       "Model:                            OLS   Adj. R-squared:                  0.911\n",
       "Method:                 Least Squares   F-statistic:                     338.8\n",
       "Date:                Fri, 22 Nov 2024   Prob (F-statistic):               0.00\n",
       "Time:                        18:15:06   Log-Likelihood:                 461.98\n",
       "No. Observations:                 760   AIC:                            -876.0\n",
       "Df Residuals:                     736   BIC:                            -764.8\n",
       "Df Model:                          23                                         \n",
       "Covariance Type:            nonrobust                                         \n",
       "================================================================================\n",
       "                   coef    std err          t      P>|t|      [0.025      0.975]\n",
       "--------------------------------------------------------------------------------\n",
       "const            0.5352      0.023     23.624      0.000       0.491       0.580\n",
       "cp              -0.0056      0.005     -1.056      0.291      -0.016       0.005\n",
       "cmin            -0.0255      0.021     -1.221      0.223      -0.066       0.015\n",
       "ie              -0.0033      0.011     -0.288      0.773      -0.025       0.019\n",
       "mew              0.0230      0.018      1.291      0.197      -0.012       0.058\n",
       "meg              0.0062      0.022      0.285      0.776      -0.036       0.049\n",
       "megmax           0.0056      0.021      0.269      0.788      -0.036       0.047\n",
       "dbusl            0.0050      0.012      0.421      0.674      -0.018       0.028\n",
       "dtraml          -0.0050      0.012     -0.401      0.689      -0.029       0.019\n",
       "dtrainl          0.0036      0.015      0.244      0.808      -0.025       0.033\n",
       "dplight         -0.0172      0.020     -0.846      0.398      -0.057       0.023\n",
       "dstation         0.0086      0.022      0.398      0.691      -0.034       0.051\n",
       "dparkcar         0.0155      0.016      0.967      0.334      -0.016       0.047\n",
       "dparktw         -0.0040      0.017     -0.228      0.819      -0.038       0.030\n",
       "dpedcro         -0.0217      0.018     -1.174      0.241      -0.058       0.015\n",
       "dstopsign        0.0109      0.017      0.630      0.529      -0.023       0.045\n",
       "dtrafficarea     0.0103      0.010      1.077      0.282      -0.009       0.029\n",
       "droad           -0.0003      0.009     -0.030      0.976      -0.018       0.018\n",
       "dvfpath          0.5216      0.009     57.613      0.000       0.504       0.539\n",
       "gvm_dwv          0.0030      0.015      0.201      0.841      -0.026       0.032\n",
       "r_width          0.0092      0.010      0.893      0.372      -0.011       0.029\n",
       "speedlimit      -0.0112      0.015     -0.761      0.447      -0.040       0.018\n",
       "bicyclecount     0.0401      0.010      3.875      0.000       0.020       0.060\n",
       "carcount         0.0264      0.015      1.775      0.076      -0.003       0.056\n",
       "==============================================================================\n",
       "Omnibus:                      652.489   Durbin-Watson:                   1.984\n",
       "Prob(Omnibus):                  0.000   Jarque-Bera (JB):            12237.647\n",
       "Skew:                           3.989   Prob(JB):                         0.00\n",
       "Kurtosis:                      20.967   Cond. No.                         11.0\n",
       "==============================================================================\n",
       "\n",
       "Notes:\n",
       "[1] Standard Errors assume that the covariance matrix of the errors is correctly specified.\n",
       "\"\"\""
      ]
     },
     "execution_count": 187,
     "metadata": {},
     "output_type": "execute_result"
    }
   ],
   "source": [
    "# OLS\n",
    "X_train, X_test, y_train, y_test = train_test_split(\n",
    "        x_const, y,\n",
    "        test_size=0.3,\n",
    "        random_state=2)\n",
    "\n",
    "m00_split = sm.OLS(y_train, X_train)\n",
    "r00_split = m00_split.fit()\n",
    "r00_split.summary()"
   ]
  },
  {
   "cell_type": "code",
   "execution_count": 188,
   "id": "d46923b6-9eac-4c9e-84c5-8244fc2cf747",
   "metadata": {
    "execution": {
     "iopub.execute_input": "2024-11-22T17:15:09.552643Z",
     "iopub.status.busy": "2024-11-22T17:15:09.552361Z",
     "iopub.status.idle": "2024-11-22T17:15:09.562974Z",
     "shell.execute_reply": "2024-11-22T17:15:09.562360Z",
     "shell.execute_reply.started": "2024-11-22T17:15:09.552625Z"
    }
   },
   "outputs": [
    {
     "name": "stdout",
     "output_type": "stream",
     "text": [
      "0.9109960914331344\n"
     ]
    },
    {
     "data": {
      "text/html": [
       "<div>\n",
       "<style scoped>\n",
       "    .dataframe tbody tr th:only-of-type {\n",
       "        vertical-align: middle;\n",
       "    }\n",
       "\n",
       "    .dataframe tbody tr th {\n",
       "        vertical-align: top;\n",
       "    }\n",
       "\n",
       "    .dataframe thead th {\n",
       "        text-align: right;\n",
       "    }\n",
       "</style>\n",
       "<table border=\"1\" class=\"dataframe\">\n",
       "  <thead>\n",
       "    <tr style=\"text-align: right;\">\n",
       "      <th></th>\n",
       "      <th>feature</th>\n",
       "      <th>0</th>\n",
       "      <th>sig</th>\n",
       "    </tr>\n",
       "  </thead>\n",
       "  <tbody>\n",
       "    <tr>\n",
       "      <th>0</th>\n",
       "      <td>const</td>\n",
       "      <td>2.880680e-92</td>\n",
       "      <td>***</td>\n",
       "    </tr>\n",
       "    <tr>\n",
       "      <th>1</th>\n",
       "      <td>dvfpath</td>\n",
       "      <td>5.899901e-275</td>\n",
       "      <td>***</td>\n",
       "    </tr>\n",
       "    <tr>\n",
       "      <th>2</th>\n",
       "      <td>bicyclecount</td>\n",
       "      <td>1.159540e-04</td>\n",
       "      <td>***</td>\n",
       "    </tr>\n",
       "  </tbody>\n",
       "</table>\n",
       "</div>"
      ],
      "text/plain": [
       "        feature              0  sig\n",
       "0         const   2.880680e-92  ***\n",
       "1       dvfpath  5.899901e-275  ***\n",
       "2  bicyclecount   1.159540e-04  ***"
      ]
     },
     "execution_count": 188,
     "metadata": {},
     "output_type": "execute_result"
    }
   ],
   "source": [
    "print(r00_split.rsquared_adj)\n",
    "printsig(r00_split)"
   ]
  },
  {
   "cell_type": "code",
   "execution_count": 189,
   "id": "bfe2a86c-c965-4207-bbbd-7380fa3c694e",
   "metadata": {
    "execution": {
     "iopub.execute_input": "2024-11-22T17:15:09.890191Z",
     "iopub.status.busy": "2024-11-22T17:15:09.889765Z",
     "iopub.status.idle": "2024-11-22T17:15:10.091493Z",
     "shell.execute_reply": "2024-11-22T17:15:10.090880Z",
     "shell.execute_reply.started": "2024-11-22T17:15:09.890165Z"
    }
   },
   "outputs": [
    {
     "name": "stdout",
     "output_type": "stream",
     "text": [
      "\n",
      "Test accuracy : \n",
      " 0.9969418960244648\n",
      "\n",
      "Confusion Matrix : \n",
      " [[244   0]\n",
      " [  1  82]]\n"
     ]
    },
    {
     "data": {
      "text/plain": [
       "<sklearn.metrics._plot.confusion_matrix.ConfusionMatrixDisplay at 0x14f87d3d68d0>"
      ]
     },
     "execution_count": 189,
     "metadata": {},
     "output_type": "execute_result"
    },
    {
     "data": {
      "image/png": "[encoded data removed]",
      "text/plain": [
       "<Figure size 640x480 with 2 Axes>"
      ]
     },
     "metadata": {},
     "output_type": "display_data"
    }
   ],
   "source": [
    "pred00split = r00_split.predict(X_test)\n",
    "pred00split = list(map(round,pred00split))\n",
    "print('\\nTest accuracy : \\n', accuracy_score(y_test, pred00split))\n",
    "cm00split = confusion_matrix(y_test, pred00split) \n",
    "print ('\\nConfusion Matrix : \\n', cm00split) \n",
    "cm00split_display = metrics.ConfusionMatrixDisplay(confusion_matrix = cm00split)\n",
    "cm00split_display.plot()"
   ]
  },
  {
   "cell_type": "code",
   "execution_count": 190,
   "id": "69c19d28-27cd-4c98-a5a1-2e1d3ab22b14",
   "metadata": {
    "execution": {
     "iopub.execute_input": "2024-11-22T17:15:10.761238Z",
     "iopub.status.busy": "2024-11-22T17:15:10.760828Z",
     "iopub.status.idle": "2024-11-22T17:15:10.774446Z",
     "shell.execute_reply": "2024-11-22T17:15:10.773864Z",
     "shell.execute_reply.started": "2024-11-22T17:15:10.761213Z"
    }
   },
   "outputs": [
    {
     "name": "stdout",
     "output_type": "stream",
     "text": [
      "accuracy 0.9969418960244648\n",
      "precision [0.99591837 1.        ]\n",
      "sensitivity recall [1.         0.98795181]\n",
      "f1 score [0.99795501 0.99393939]\n",
      "mean precision 0.9979591836734694\n",
      "mean recall 0.9939759036144578\n",
      "mean f1 score 0.9959472020821714\n"
     ]
    }
   ],
   "source": [
    "acc_ols_sp = metrics.accuracy_score(y_test, pred00split)\n",
    "print('accuracy', acc_ols_sp)\n",
    "\n",
    "pre_ols_sp = metrics.precision_score(y_test, pred00split, average = None)\n",
    "print('precision', pre_ols_sp)\n",
    "\n",
    "senrec_ols_sp = metrics.recall_score(y_test, pred00split, average = None)\n",
    "print('sensitivity recall', senrec_ols_sp)\n",
    "\n",
    "f1_ols_sp = metrics.f1_score(y_test, pred00split, average = None)\n",
    "print('f1 score', f1_ols_sp)\n",
    "\n",
    "pre_ols_sp_m = np.mean(pre_ols_sp)\n",
    "senrec_ols_sp_m = np.mean(senrec_ols_sp)\n",
    "f1_ols_sp_m = np.mean(f1_ols_sp)\n",
    "print('mean precision', pre_ols_sp_m)\n",
    "print('mean recall', senrec_ols_sp_m)\n",
    "print('mean f1 score', f1_ols_sp_m)"
   ]
  },
  {
   "cell_type": "markdown",
   "id": "a327603c-ad68-4b69-95c7-06df6d4e2054",
   "metadata": {},
   "source": [
    "## Logistic regression"
   ]
  },
  {
   "cell_type": "markdown",
   "id": "79ac4aef-1e11-48d8-9ccd-98481b9df280",
   "metadata": {
    "execution": {
     "iopub.execute_input": "2024-09-02T18:01:13.342604Z",
     "iopub.status.busy": "2024-09-02T18:01:13.341768Z",
     "iopub.status.idle": "2024-09-02T18:01:13.345485Z",
     "shell.execute_reply": "2024-09-02T18:01:13.344931Z",
     "shell.execute_reply.started": "2024-09-02T18:01:13.342578Z"
    }
   },
   "source": [
    "### Without data splitting"
   ]
  },
  {
   "cell_type": "code",
   "execution_count": 204,
   "id": "12ecebde-f940-4f16-abf8-dff0f73a72f6",
   "metadata": {
    "execution": {
     "iopub.execute_input": "2024-11-22T17:18:11.254958Z",
     "iopub.status.busy": "2024-11-22T17:18:11.254678Z",
     "iopub.status.idle": "2024-11-22T17:18:11.444128Z",
     "shell.execute_reply": "2024-11-22T17:18:11.443090Z",
     "shell.execute_reply.started": "2024-11-22T17:18:11.254937Z"
    },
    "scrolled": true
   },
   "outputs": [
    {
     "name": "stdout",
     "output_type": "stream",
     "text": [
      "         Current function value: 0.014547\n",
      "         Iterations: 35\n",
      "         Function evaluations: 37\n",
      "         Gradient evaluations: 37\n"
     ]
    },
    {
     "name": "stderr",
     "output_type": "stream",
     "text": [
      "/home/yelhe/.local/lib/python3.11/site-packages/statsmodels/base/model.py:130: ValueWarning: unknown kwargs ['max_iter']\n",
      "  warnings.warn(msg, ValueWarning)\n",
      "/home/yelhe/.local/lib/python3.11/site-packages/scipy/optimize/_optimize.py:1291: OptimizeWarning: Maximum number of iterations has been exceeded.\n",
      "  res = _minimize_bfgs(f, x0, args, fprime, callback=callback, **opts)\n",
      "/home/yelhe/.local/lib/python3.11/site-packages/statsmodels/base/model.py:607: ConvergenceWarning: Maximum Likelihood optimization failed to converge. Check mle_retvals\n",
      "  warnings.warn(\"Maximum Likelihood optimization failed to \"\n",
      "/home/yelhe/.local/lib/python3.11/site-packages/statsmodels/base/model.py:130: ValueWarning: unknown kwargs ['max_iter']\n",
      "  warnings.warn(msg, ValueWarning)\n"
     ]
    },
    {
     "data": {
      "text/html": [
       "<table class=\"simpletable\">\n",
       "<caption>Logit Regression Results</caption>\n",
       "<tr>\n",
       "  <th>Dep. Variable:</th>          <td>acp</td>       <th>  No. Observations:  </th>   <td>  1087</td>  \n",
       "</tr>\n",
       "<tr>\n",
       "  <th>Model:</th>                 <td>Logit</td>      <th>  Df Residuals:      </th>   <td>  1063</td>  \n",
       "</tr>\n",
       "<tr>\n",
       "  <th>Method:</th>                 <td>MLE</td>       <th>  Df Model:          </th>   <td>    23</td>  \n",
       "</tr>\n",
       "<tr>\n",
       "  <th>Date:</th>            <td>Fri, 22 Nov 2024</td> <th>  Pseudo R-squ.:     </th>   <td>0.9751</td>  \n",
       "</tr>\n",
       "<tr>\n",
       "  <th>Time:</th>                <td>18:18:11</td>     <th>  Log-Likelihood:    </th>  <td> -15.812</td> \n",
       "</tr>\n",
       "<tr>\n",
       "  <th>converged:</th>             <td>False</td>      <th>  LL-Null:           </th>  <td> -635.50</td> \n",
       "</tr>\n",
       "<tr>\n",
       "  <th>Covariance Type:</th>     <td>nonrobust</td>    <th>  LLR p-value:       </th> <td>1.328e-247</td>\n",
       "</tr>\n",
       "</table>\n",
       "<table class=\"simpletable\">\n",
       "<tr>\n",
       "        <td></td>          <th>coef</th>     <th>std err</th>      <th>z</th>      <th>P>|z|</th>  <th>[0.025</th>    <th>0.975]</th>  \n",
       "</tr>\n",
       "<tr>\n",
       "  <th>const</th>        <td>    4.1046</td> <td>  184.295</td> <td>    0.022</td> <td> 0.982</td> <td> -357.107</td> <td>  365.316</td>\n",
       "</tr>\n",
       "<tr>\n",
       "  <th>cp</th>           <td>   -0.1671</td> <td>    0.621</td> <td>   -0.269</td> <td> 0.788</td> <td>   -1.384</td> <td>    1.050</td>\n",
       "</tr>\n",
       "<tr>\n",
       "  <th>cmin</th>         <td>   -4.3477</td> <td>  184.306</td> <td>   -0.024</td> <td> 0.981</td> <td> -365.580</td> <td>  356.885</td>\n",
       "</tr>\n",
       "<tr>\n",
       "  <th>ie</th>           <td>    0.1211</td> <td>    1.268</td> <td>    0.096</td> <td> 0.924</td> <td>   -2.365</td> <td>    2.607</td>\n",
       "</tr>\n",
       "<tr>\n",
       "  <th>mew</th>          <td>    2.6041</td> <td>    2.222</td> <td>    1.172</td> <td> 0.241</td> <td>   -1.750</td> <td>    6.959</td>\n",
       "</tr>\n",
       "<tr>\n",
       "  <th>meg</th>          <td>    0.9483</td> <td>    2.910</td> <td>    0.326</td> <td> 0.745</td> <td>   -4.755</td> <td>    6.652</td>\n",
       "</tr>\n",
       "<tr>\n",
       "  <th>megmax</th>       <td>    0.3977</td> <td>    2.775</td> <td>    0.143</td> <td> 0.886</td> <td>   -5.042</td> <td>    5.837</td>\n",
       "</tr>\n",
       "<tr>\n",
       "  <th>dbusl</th>        <td>   -0.4690</td> <td>    2.198</td> <td>   -0.213</td> <td> 0.831</td> <td>   -4.777</td> <td>    3.839</td>\n",
       "</tr>\n",
       "<tr>\n",
       "  <th>dtraml</th>       <td>   -2.0483</td> <td>    1.813</td> <td>   -1.130</td> <td> 0.259</td> <td>   -5.601</td> <td>    1.505</td>\n",
       "</tr>\n",
       "<tr>\n",
       "  <th>dtrainl</th>      <td>   -1.0154</td> <td>    1.978</td> <td>   -0.513</td> <td> 0.608</td> <td>   -4.891</td> <td>    2.861</td>\n",
       "</tr>\n",
       "<tr>\n",
       "  <th>dplight</th>      <td>   -0.2294</td> <td>    2.297</td> <td>   -0.100</td> <td> 0.920</td> <td>   -4.731</td> <td>    4.272</td>\n",
       "</tr>\n",
       "<tr>\n",
       "  <th>dstation</th>     <td>   -1.6613</td> <td>    2.947</td> <td>   -0.564</td> <td> 0.573</td> <td>   -7.437</td> <td>    4.114</td>\n",
       "</tr>\n",
       "<tr>\n",
       "  <th>dparkcar</th>     <td>   -1.0002</td> <td>    2.647</td> <td>   -0.378</td> <td> 0.706</td> <td>   -6.189</td> <td>    4.189</td>\n",
       "</tr>\n",
       "<tr>\n",
       "  <th>dparktw</th>      <td>   -1.4787</td> <td>    1.907</td> <td>   -0.775</td> <td> 0.438</td> <td>   -5.217</td> <td>    2.260</td>\n",
       "</tr>\n",
       "<tr>\n",
       "  <th>dpedcro</th>      <td>   -2.5028</td> <td>    2.230</td> <td>   -1.122</td> <td> 0.262</td> <td>   -6.874</td> <td>    1.868</td>\n",
       "</tr>\n",
       "<tr>\n",
       "  <th>dstopsign</th>    <td>   -1.2314</td> <td>    2.022</td> <td>   -0.609</td> <td> 0.543</td> <td>   -5.194</td> <td>    2.732</td>\n",
       "</tr>\n",
       "<tr>\n",
       "  <th>dtrafficarea</th> <td>   -1.0355</td> <td>    1.633</td> <td>   -0.634</td> <td> 0.526</td> <td>   -4.237</td> <td>    2.166</td>\n",
       "</tr>\n",
       "<tr>\n",
       "  <th>droad</th>        <td>    2.4125</td> <td>    1.138</td> <td>    2.120</td> <td> 0.034</td> <td>    0.182</td> <td>    4.643</td>\n",
       "</tr>\n",
       "<tr>\n",
       "  <th>dvfpath</th>      <td>   19.9160</td> <td>    5.425</td> <td>    3.671</td> <td> 0.000</td> <td>    9.283</td> <td>   30.549</td>\n",
       "</tr>\n",
       "<tr>\n",
       "  <th>gvm_dwv</th>      <td>    0.1992</td> <td>    2.103</td> <td>    0.095</td> <td> 0.925</td> <td>   -3.923</td> <td>    4.321</td>\n",
       "</tr>\n",
       "<tr>\n",
       "  <th>r_width</th>      <td>    2.7959</td> <td>    1.732</td> <td>    1.614</td> <td> 0.106</td> <td>   -0.599</td> <td>    6.190</td>\n",
       "</tr>\n",
       "<tr>\n",
       "  <th>speedlimit</th>   <td>   -1.7067</td> <td>    2.462</td> <td>   -0.693</td> <td> 0.488</td> <td>   -6.533</td> <td>    3.119</td>\n",
       "</tr>\n",
       "<tr>\n",
       "  <th>bicyclecount</th> <td>    7.8399</td> <td>    3.871</td> <td>    2.025</td> <td> 0.043</td> <td>    0.252</td> <td>   15.428</td>\n",
       "</tr>\n",
       "<tr>\n",
       "  <th>carcount</th>     <td>    1.0346</td> <td>    1.568</td> <td>    0.660</td> <td> 0.509</td> <td>   -2.038</td> <td>    4.107</td>\n",
       "</tr>\n",
       "</table><br/><br/>Possibly complete quasi-separation: A fraction 0.77 of observations can be<br/>perfectly predicted. This might indicate that there is complete<br/>quasi-separation. In this case some parameters will not be identified."
      ],
      "text/latex": [
       "\\begin{center}\n",
       "\\begin{tabular}{lclc}\n",
       "\\toprule\n",
       "\\textbf{Dep. Variable:}   &       acp        & \\textbf{  No. Observations:  } &     1087    \\\\\n",
       "\\textbf{Model:}           &      Logit       & \\textbf{  Df Residuals:      } &     1063    \\\\\n",
       "\\textbf{Method:}          &       MLE        & \\textbf{  Df Model:          } &       23    \\\\\n",
       "\\textbf{Date:}            & Fri, 22 Nov 2024 & \\textbf{  Pseudo R-squ.:     } &   0.9751    \\\\\n",
       "\\textbf{Time:}            &     18:18:11     & \\textbf{  Log-Likelihood:    } &   -15.812   \\\\\n",
       "\\textbf{converged:}       &      False       & \\textbf{  LL-Null:           } &   -635.50   \\\\\n",
       "\\textbf{Covariance Type:} &    nonrobust     & \\textbf{  LLR p-value:       } & 1.328e-247  \\\\\n",
       "\\bottomrule\n",
       "\\end{tabular}\n",
       "\\begin{tabular}{lcccccc}\n",
       "                      & \\textbf{coef} & \\textbf{std err} & \\textbf{z} & \\textbf{P$> |$z$|$} & \\textbf{[0.025} & \\textbf{0.975]}  \\\\\n",
       "\\midrule\n",
       "\\textbf{const}        &       4.1046  &      184.295     &     0.022  &         0.982        &     -357.107    &      365.316     \\\\\n",
       "\\textbf{cp}           &      -0.1671  &        0.621     &    -0.269  &         0.788        &       -1.384    &        1.050     \\\\\n",
       "\\textbf{cmin}         &      -4.3477  &      184.306     &    -0.024  &         0.981        &     -365.580    &      356.885     \\\\\n",
       "\\textbf{ie}           &       0.1211  &        1.268     &     0.096  &         0.924        &       -2.365    &        2.607     \\\\\n",
       "\\textbf{mew}          &       2.6041  &        2.222     &     1.172  &         0.241        &       -1.750    &        6.959     \\\\\n",
       "\\textbf{meg}          &       0.9483  &        2.910     &     0.326  &         0.745        &       -4.755    &        6.652     \\\\\n",
       "\\textbf{megmax}       &       0.3977  &        2.775     &     0.143  &         0.886        &       -5.042    &        5.837     \\\\\n",
       "\\textbf{dbusl}        &      -0.4690  &        2.198     &    -0.213  &         0.831        &       -4.777    &        3.839     \\\\\n",
       "\\textbf{dtraml}       &      -2.0483  &        1.813     &    -1.130  &         0.259        &       -5.601    &        1.505     \\\\\n",
       "\\textbf{dtrainl}      &      -1.0154  &        1.978     &    -0.513  &         0.608        &       -4.891    &        2.861     \\\\\n",
       "\\textbf{dplight}      &      -0.2294  &        2.297     &    -0.100  &         0.920        &       -4.731    &        4.272     \\\\\n",
       "\\textbf{dstation}     &      -1.6613  &        2.947     &    -0.564  &         0.573        &       -7.437    &        4.114     \\\\\n",
       "\\textbf{dparkcar}     &      -1.0002  &        2.647     &    -0.378  &         0.706        &       -6.189    &        4.189     \\\\\n",
       "\\textbf{dparktw}      &      -1.4787  &        1.907     &    -0.775  &         0.438        &       -5.217    &        2.260     \\\\\n",
       "\\textbf{dpedcro}      &      -2.5028  &        2.230     &    -1.122  &         0.262        &       -6.874    &        1.868     \\\\\n",
       "\\textbf{dstopsign}    &      -1.2314  &        2.022     &    -0.609  &         0.543        &       -5.194    &        2.732     \\\\\n",
       "\\textbf{dtrafficarea} &      -1.0355  &        1.633     &    -0.634  &         0.526        &       -4.237    &        2.166     \\\\\n",
       "\\textbf{droad}        &       2.4125  &        1.138     &     2.120  &         0.034        &        0.182    &        4.643     \\\\\n",
       "\\textbf{dvfpath}      &      19.9160  &        5.425     &     3.671  &         0.000        &        9.283    &       30.549     \\\\\n",
       "\\textbf{gvm\\_dwv}     &       0.1992  &        2.103     &     0.095  &         0.925        &       -3.923    &        4.321     \\\\\n",
       "\\textbf{r\\_width}     &       2.7959  &        1.732     &     1.614  &         0.106        &       -0.599    &        6.190     \\\\\n",
       "\\textbf{speedlimit}   &      -1.7067  &        2.462     &    -0.693  &         0.488        &       -6.533    &        3.119     \\\\\n",
       "\\textbf{bicyclecount} &       7.8399  &        3.871     &     2.025  &         0.043        &        0.252    &       15.428     \\\\\n",
       "\\textbf{carcount}     &       1.0346  &        1.568     &     0.660  &         0.509        &       -2.038    &        4.107     \\\\\n",
       "\\bottomrule\n",
       "\\end{tabular}\n",
       "%\\caption{Logit Regression Results}\n",
       "\\end{center}\n",
       "\n",
       "Possibly complete quasi-separation: A fraction 0.77 of observations can be \\newline\n",
       " perfectly predicted. This might indicate that there is complete \\newline\n",
       " quasi-separation. In this case some parameters will not be identified."
      ],
      "text/plain": [
       "<class 'statsmodels.iolib.summary.Summary'>\n",
       "\"\"\"\n",
       "                           Logit Regression Results                           \n",
       "==============================================================================\n",
       "Dep. Variable:                    acp   No. Observations:                 1087\n",
       "Model:                          Logit   Df Residuals:                     1063\n",
       "Method:                           MLE   Df Model:                           23\n",
       "Date:                Fri, 22 Nov 2024   Pseudo R-squ.:                  0.9751\n",
       "Time:                        18:18:11   Log-Likelihood:                -15.812\n",
       "converged:                      False   LL-Null:                       -635.50\n",
       "Covariance Type:            nonrobust   LLR p-value:                1.328e-247\n",
       "================================================================================\n",
       "                   coef    std err          z      P>|z|      [0.025      0.975]\n",
       "--------------------------------------------------------------------------------\n",
       "const            4.1046    184.295      0.022      0.982    -357.107     365.316\n",
       "cp              -0.1671      0.621     -0.269      0.788      -1.384       1.050\n",
       "cmin            -4.3477    184.306     -0.024      0.981    -365.580     356.885\n",
       "ie               0.1211      1.268      0.096      0.924      -2.365       2.607\n",
       "mew              2.6041      2.222      1.172      0.241      -1.750       6.959\n",
       "meg              0.9483      2.910      0.326      0.745      -4.755       6.652\n",
       "megmax           0.3977      2.775      0.143      0.886      -5.042       5.837\n",
       "dbusl           -0.4690      2.198     -0.213      0.831      -4.777       3.839\n",
       "dtraml          -2.0483      1.813     -1.130      0.259      -5.601       1.505\n",
       "dtrainl         -1.0154      1.978     -0.513      0.608      -4.891       2.861\n",
       "dplight         -0.2294      2.297     -0.100      0.920      -4.731       4.272\n",
       "dstation        -1.6613      2.947     -0.564      0.573      -7.437       4.114\n",
       "dparkcar        -1.0002      2.647     -0.378      0.706      -6.189       4.189\n",
       "dparktw         -1.4787      1.907     -0.775      0.438      -5.217       2.260\n",
       "dpedcro         -2.5028      2.230     -1.122      0.262      -6.874       1.868\n",
       "dstopsign       -1.2314      2.022     -0.609      0.543      -5.194       2.732\n",
       "dtrafficarea    -1.0355      1.633     -0.634      0.526      -4.237       2.166\n",
       "droad            2.4125      1.138      2.120      0.034       0.182       4.643\n",
       "dvfpath         19.9160      5.425      3.671      0.000       9.283      30.549\n",
       "gvm_dwv          0.1992      2.103      0.095      0.925      -3.923       4.321\n",
       "r_width          2.7959      1.732      1.614      0.106      -0.599       6.190\n",
       "speedlimit      -1.7067      2.462     -0.693      0.488      -6.533       3.119\n",
       "bicyclecount     7.8399      3.871      2.025      0.043       0.252      15.428\n",
       "carcount         1.0346      1.568      0.660      0.509      -2.038       4.107\n",
       "================================================================================\n",
       "\n",
       "Possibly complete quasi-separation: A fraction 0.77 of observations can be\n",
       "perfectly predicted. This might indicate that there is complete\n",
       "quasi-separation. In this case some parameters will not be identified.\n",
       "\"\"\""
      ]
     },
     "execution_count": 204,
     "metadata": {},
     "output_type": "execute_result"
    }
   ],
   "source": [
    "\n",
    "# Without constant\n",
    "# m00_log = sm.Logit(y, x)\n",
    "# r00_log = m00_log.fit_regularized()\n",
    "# r00_log.summary()\n",
    "\n",
    "# Add constant\n",
    "x_const = tools.add_constant(x)\n",
    "m00_log = sm.Logit(y,x_const, max_iter = 500)\n",
    "r00_log = m00_log.fit(method='bfgs')\n",
    "# r00_log = m00_log.fit()\n",
    "\n",
    "r00_log.summary()"
   ]
  },
  {
   "cell_type": "code",
   "execution_count": 205,
   "id": "eadc076f-126a-4896-8128-42ca7bed7341",
   "metadata": {
    "execution": {
     "iopub.execute_input": "2024-11-22T17:18:14.171604Z",
     "iopub.status.busy": "2024-11-22T17:18:14.171326Z",
     "iopub.status.idle": "2024-11-22T17:18:14.184104Z",
     "shell.execute_reply": "2024-11-22T17:18:14.183561Z",
     "shell.execute_reply.started": "2024-11-22T17:18:14.171585Z"
    }
   },
   "outputs": [
    {
     "name": "stdout",
     "output_type": "stream",
     "text": [
      "0.9751179908796965\n"
     ]
    },
    {
     "data": {
      "text/html": [
       "<div>\n",
       "<style scoped>\n",
       "    .dataframe tbody tr th:only-of-type {\n",
       "        vertical-align: middle;\n",
       "    }\n",
       "\n",
       "    .dataframe tbody tr th {\n",
       "        vertical-align: top;\n",
       "    }\n",
       "\n",
       "    .dataframe thead th {\n",
       "        text-align: right;\n",
       "    }\n",
       "</style>\n",
       "<table border=\"1\" class=\"dataframe\">\n",
       "  <thead>\n",
       "    <tr style=\"text-align: right;\">\n",
       "      <th></th>\n",
       "      <th>feature</th>\n",
       "      <th>0</th>\n",
       "      <th>sig</th>\n",
       "    </tr>\n",
       "  </thead>\n",
       "  <tbody>\n",
       "    <tr>\n",
       "      <th>0</th>\n",
       "      <td>droad</td>\n",
       "      <td>0.034023</td>\n",
       "      <td>*</td>\n",
       "    </tr>\n",
       "    <tr>\n",
       "      <th>1</th>\n",
       "      <td>dvfpath</td>\n",
       "      <td>0.000241</td>\n",
       "      <td>***</td>\n",
       "    </tr>\n",
       "    <tr>\n",
       "      <th>2</th>\n",
       "      <td>bicyclecount</td>\n",
       "      <td>0.042857</td>\n",
       "      <td>*</td>\n",
       "    </tr>\n",
       "  </tbody>\n",
       "</table>\n",
       "</div>"
      ],
      "text/plain": [
       "        feature         0  sig\n",
       "0         droad  0.034023    *\n",
       "1       dvfpath  0.000241  ***\n",
       "2  bicyclecount  0.042857    *"
      ]
     },
     "execution_count": 205,
     "metadata": {},
     "output_type": "execute_result"
    }
   ],
   "source": [
    "print(r00_log.prsquared)\n",
    "printsig(r00_log)"
   ]
  },
  {
   "cell_type": "code",
   "execution_count": 206,
   "id": "33965143-fc9a-43d6-a591-b4494b32a219",
   "metadata": {
    "execution": {
     "iopub.execute_input": "2024-11-22T17:18:14.484200Z",
     "iopub.status.busy": "2024-11-22T17:18:14.483816Z",
     "iopub.status.idle": "2024-11-22T17:18:14.734236Z",
     "shell.execute_reply": "2024-11-22T17:18:14.733483Z",
     "shell.execute_reply.started": "2024-11-22T17:18:14.484177Z"
    }
   },
   "outputs": [
    {
     "name": "stdout",
     "output_type": "stream",
     "text": [
      "0.9944802207911684\n",
      "\n",
      "Test accuracy : \n",
      " 0.9944802207911684\n",
      "\n",
      "Confusion Matrix : \n",
      " [[791   1]\n",
      " [  5 290]]\n",
      "accuracy 0.9944802207911684\n",
      "precision [0.99371859 0.99656357]\n",
      "sensitivity recall [0.99873737 0.98305085]\n",
      "f1 score [0.99622166 0.98976109]\n",
      "mean precision 0.9951410834239929\n",
      "mean recall 0.9908941105975004\n",
      "mean f1 score 0.9929913773093422\n"
     ]
    },
    {
     "data": {
      "image/png": "[encoded data removed]",
      "text/plain": [
       "<Figure size 640x480 with 2 Axes>"
      ]
     },
     "metadata": {},
     "output_type": "display_data"
    }
   ],
   "source": [
    "pred00log = r00_log.predict(x_const)\n",
    "pred00log = list(map(round,pred00log))\n",
    "print(accuracy_score(y, pred00log))\n",
    "print('\\nTest accuracy : \\n', accuracy_score(y, pred00log))\n",
    "cm00log = confusion_matrix(y, pred00log) \n",
    "print ('\\nConfusion Matrix : \\n', cm00log)\n",
    "cm00log_display = metrics.ConfusionMatrixDisplay(confusion_matrix = cm00log)\n",
    "cm00log_display.plot()\n",
    "\n",
    "acc_log = metrics.accuracy_score(y, pred00log)\n",
    "print('accuracy', acc_log)\n",
    "\n",
    "pre_log = metrics.precision_score(y, pred00log, average = None)\n",
    "print('precision', pre_log)\n",
    "\n",
    "senrec_log = metrics.recall_score(y, pred00log, average = None)\n",
    "print('sensitivity recall', senrec_log)\n",
    "\n",
    "f1_log = metrics.f1_score(y, pred00log, average = None)\n",
    "print('f1 score', f1_log)\n",
    "\n",
    "pre_log_m = np.mean(pre_log)\n",
    "senrec_log_m = np.mean(senrec_log)\n",
    "f1_log_m = np.mean(f1_log)\n",
    "print('mean precision', pre_log_m)\n",
    "print('mean recall', senrec_log_m)\n",
    "print('mean f1 score', f1_log_m)"
   ]
  },
  {
   "cell_type": "markdown",
   "id": "9123b4a7-8a63-4606-8a16-ed36a71cb18e",
   "metadata": {},
   "source": [
    "### With data splitting"
   ]
  },
  {
   "cell_type": "code",
   "execution_count": 207,
   "id": "5daa4124-d5f5-4623-8fcb-b7a914737620",
   "metadata": {
    "execution": {
     "iopub.execute_input": "2024-11-22T17:18:15.114178Z",
     "iopub.status.busy": "2024-11-22T17:18:15.113895Z",
     "iopub.status.idle": "2024-11-22T17:18:15.312645Z",
     "shell.execute_reply": "2024-11-22T17:18:15.311703Z",
     "shell.execute_reply.started": "2024-11-22T17:18:15.114157Z"
    },
    "scrolled": true
   },
   "outputs": [
    {
     "name": "stdout",
     "output_type": "stream",
     "text": [
      "         Current function value: 0.018087\n",
      "         Iterations: 35\n",
      "         Function evaluations: 36\n",
      "         Gradient evaluations: 36\n"
     ]
    },
    {
     "name": "stderr",
     "output_type": "stream",
     "text": [
      "/home/yelhe/.local/lib/python3.11/site-packages/statsmodels/base/model.py:130: ValueWarning: unknown kwargs ['max_iter']\n",
      "  warnings.warn(msg, ValueWarning)\n",
      "/home/yelhe/.local/lib/python3.11/site-packages/scipy/optimize/_optimize.py:1291: OptimizeWarning: Maximum number of iterations has been exceeded.\n",
      "  res = _minimize_bfgs(f, x0, args, fprime, callback=callback, **opts)\n",
      "/home/yelhe/.local/lib/python3.11/site-packages/statsmodels/base/model.py:607: ConvergenceWarning: Maximum Likelihood optimization failed to converge. Check mle_retvals\n",
      "  warnings.warn(\"Maximum Likelihood optimization failed to \"\n",
      "/home/yelhe/.local/lib/python3.11/site-packages/statsmodels/base/model.py:130: ValueWarning: unknown kwargs ['max_iter']\n",
      "  warnings.warn(msg, ValueWarning)\n"
     ]
    },
    {
     "data": {
      "text/html": [
       "<table class=\"simpletable\">\n",
       "<caption>Logit Regression Results</caption>\n",
       "<tr>\n",
       "  <th>Dep. Variable:</th>          <td>acp</td>       <th>  No. Observations:  </th>   <td>   815</td>  \n",
       "</tr>\n",
       "<tr>\n",
       "  <th>Model:</th>                 <td>Logit</td>      <th>  Df Residuals:      </th>   <td>   791</td>  \n",
       "</tr>\n",
       "<tr>\n",
       "  <th>Method:</th>                 <td>MLE</td>       <th>  Df Model:          </th>   <td>    23</td>  \n",
       "</tr>\n",
       "<tr>\n",
       "  <th>Date:</th>            <td>Fri, 22 Nov 2024</td> <th>  Pseudo R-squ.:     </th>   <td>0.9692</td>  \n",
       "</tr>\n",
       "<tr>\n",
       "  <th>Time:</th>                <td>18:18:15</td>     <th>  Log-Likelihood:    </th>  <td> -14.741</td> \n",
       "</tr>\n",
       "<tr>\n",
       "  <th>converged:</th>             <td>False</td>      <th>  LL-Null:           </th>  <td> -478.26</td> \n",
       "</tr>\n",
       "<tr>\n",
       "  <th>Covariance Type:</th>     <td>nonrobust</td>    <th>  LLR p-value:       </th> <td>4.198e-181</td>\n",
       "</tr>\n",
       "</table>\n",
       "<table class=\"simpletable\">\n",
       "<tr>\n",
       "        <td></td>          <th>coef</th>     <th>std err</th>      <th>z</th>      <th>P>|z|</th>  <th>[0.025</th>    <th>0.975]</th>  \n",
       "</tr>\n",
       "<tr>\n",
       "  <th>const</th>        <td>    2.9152</td> <td>   94.158</td> <td>    0.031</td> <td> 0.975</td> <td> -181.630</td> <td>  187.461</td>\n",
       "</tr>\n",
       "<tr>\n",
       "  <th>cp</th>           <td>    0.4556</td> <td>    0.726</td> <td>    0.628</td> <td> 0.530</td> <td>   -0.967</td> <td>    1.878</td>\n",
       "</tr>\n",
       "<tr>\n",
       "  <th>cmin</th>         <td>   -3.0373</td> <td>   94.148</td> <td>   -0.032</td> <td> 0.974</td> <td> -187.564</td> <td>  181.490</td>\n",
       "</tr>\n",
       "<tr>\n",
       "  <th>ie</th>           <td>   -0.7554</td> <td>    1.391</td> <td>   -0.543</td> <td> 0.587</td> <td>   -3.483</td> <td>    1.972</td>\n",
       "</tr>\n",
       "<tr>\n",
       "  <th>mew</th>          <td>    2.1918</td> <td>    2.172</td> <td>    1.009</td> <td> 0.313</td> <td>   -2.064</td> <td>    6.448</td>\n",
       "</tr>\n",
       "<tr>\n",
       "  <th>meg</th>          <td>    0.4916</td> <td>    2.827</td> <td>    0.174</td> <td> 0.862</td> <td>   -5.049</td> <td>    6.032</td>\n",
       "</tr>\n",
       "<tr>\n",
       "  <th>megmax</th>       <td>    0.2294</td> <td>    2.435</td> <td>    0.094</td> <td> 0.925</td> <td>   -4.542</td> <td>    5.001</td>\n",
       "</tr>\n",
       "<tr>\n",
       "  <th>dbusl</th>        <td>   -0.3149</td> <td>    2.225</td> <td>   -0.141</td> <td> 0.887</td> <td>   -4.677</td> <td>    4.047</td>\n",
       "</tr>\n",
       "<tr>\n",
       "  <th>dtraml</th>       <td>   -1.7023</td> <td>    1.789</td> <td>   -0.951</td> <td> 0.341</td> <td>   -5.209</td> <td>    1.805</td>\n",
       "</tr>\n",
       "<tr>\n",
       "  <th>dtrainl</th>      <td>   -0.7803</td> <td>    1.787</td> <td>   -0.437</td> <td> 0.662</td> <td>   -4.283</td> <td>    2.723</td>\n",
       "</tr>\n",
       "<tr>\n",
       "  <th>dplight</th>      <td>   -0.2034</td> <td>    2.723</td> <td>   -0.075</td> <td> 0.940</td> <td>   -5.540</td> <td>    5.134</td>\n",
       "</tr>\n",
       "<tr>\n",
       "  <th>dstation</th>     <td>   -1.6290</td> <td>    3.086</td> <td>   -0.528</td> <td> 0.598</td> <td>   -7.677</td> <td>    4.419</td>\n",
       "</tr>\n",
       "<tr>\n",
       "  <th>dparkcar</th>     <td>   -0.6941</td> <td>    2.199</td> <td>   -0.316</td> <td> 0.752</td> <td>   -5.003</td> <td>    3.615</td>\n",
       "</tr>\n",
       "<tr>\n",
       "  <th>dparktw</th>      <td>   -1.0871</td> <td>    1.935</td> <td>   -0.562</td> <td> 0.574</td> <td>   -4.879</td> <td>    2.705</td>\n",
       "</tr>\n",
       "<tr>\n",
       "  <th>dpedcro</th>      <td>   -1.9513</td> <td>    2.332</td> <td>   -0.837</td> <td> 0.403</td> <td>   -6.522</td> <td>    2.620</td>\n",
       "</tr>\n",
       "<tr>\n",
       "  <th>dstopsign</th>    <td>   -1.1208</td> <td>    1.894</td> <td>   -0.592</td> <td> 0.554</td> <td>   -4.833</td> <td>    2.591</td>\n",
       "</tr>\n",
       "<tr>\n",
       "  <th>dtrafficarea</th> <td>   -1.2734</td> <td>    1.818</td> <td>   -0.701</td> <td> 0.484</td> <td>   -4.836</td> <td>    2.289</td>\n",
       "</tr>\n",
       "<tr>\n",
       "  <th>droad</th>        <td>    2.6646</td> <td>    1.217</td> <td>    2.190</td> <td> 0.029</td> <td>    0.280</td> <td>    5.049</td>\n",
       "</tr>\n",
       "<tr>\n",
       "  <th>dvfpath</th>      <td>   16.1091</td> <td>    4.720</td> <td>    3.413</td> <td> 0.001</td> <td>    6.859</td> <td>   25.359</td>\n",
       "</tr>\n",
       "<tr>\n",
       "  <th>gvm_dwv</th>      <td>    0.2306</td> <td>    2.083</td> <td>    0.111</td> <td> 0.912</td> <td>   -3.852</td> <td>    4.313</td>\n",
       "</tr>\n",
       "<tr>\n",
       "  <th>r_width</th>      <td>    2.9222</td> <td>    1.801</td> <td>    1.623</td> <td> 0.105</td> <td>   -0.608</td> <td>    6.452</td>\n",
       "</tr>\n",
       "<tr>\n",
       "  <th>speedlimit</th>   <td>   -1.8184</td> <td>    2.696</td> <td>   -0.674</td> <td> 0.500</td> <td>   -7.103</td> <td>    3.466</td>\n",
       "</tr>\n",
       "<tr>\n",
       "  <th>bicyclecount</th> <td>    6.3446</td> <td>    3.824</td> <td>    1.659</td> <td> 0.097</td> <td>   -1.151</td> <td>   13.840</td>\n",
       "</tr>\n",
       "<tr>\n",
       "  <th>carcount</th>     <td>    0.5405</td> <td>    1.688</td> <td>    0.320</td> <td> 0.749</td> <td>   -2.768</td> <td>    3.849</td>\n",
       "</tr>\n",
       "</table><br/><br/>Possibly complete quasi-separation: A fraction 0.73 of observations can be<br/>perfectly predicted. This might indicate that there is complete<br/>quasi-separation. In this case some parameters will not be identified."
      ],
      "text/latex": [
       "\\begin{center}\n",
       "\\begin{tabular}{lclc}\n",
       "\\toprule\n",
       "\\textbf{Dep. Variable:}   &       acp        & \\textbf{  No. Observations:  } &      815    \\\\\n",
       "\\textbf{Model:}           &      Logit       & \\textbf{  Df Residuals:      } &      791    \\\\\n",
       "\\textbf{Method:}          &       MLE        & \\textbf{  Df Model:          } &       23    \\\\\n",
       "\\textbf{Date:}            & Fri, 22 Nov 2024 & \\textbf{  Pseudo R-squ.:     } &   0.9692    \\\\\n",
       "\\textbf{Time:}            &     18:18:15     & \\textbf{  Log-Likelihood:    } &   -14.741   \\\\\n",
       "\\textbf{converged:}       &      False       & \\textbf{  LL-Null:           } &   -478.26   \\\\\n",
       "\\textbf{Covariance Type:} &    nonrobust     & \\textbf{  LLR p-value:       } & 4.198e-181  \\\\\n",
       "\\bottomrule\n",
       "\\end{tabular}\n",
       "\\begin{tabular}{lcccccc}\n",
       "                      & \\textbf{coef} & \\textbf{std err} & \\textbf{z} & \\textbf{P$> |$z$|$} & \\textbf{[0.025} & \\textbf{0.975]}  \\\\\n",
       "\\midrule\n",
       "\\textbf{const}        &       2.9152  &       94.158     &     0.031  &         0.975        &     -181.630    &      187.461     \\\\\n",
       "\\textbf{cp}           &       0.4556  &        0.726     &     0.628  &         0.530        &       -0.967    &        1.878     \\\\\n",
       "\\textbf{cmin}         &      -3.0373  &       94.148     &    -0.032  &         0.974        &     -187.564    &      181.490     \\\\\n",
       "\\textbf{ie}           &      -0.7554  &        1.391     &    -0.543  &         0.587        &       -3.483    &        1.972     \\\\\n",
       "\\textbf{mew}          &       2.1918  &        2.172     &     1.009  &         0.313        &       -2.064    &        6.448     \\\\\n",
       "\\textbf{meg}          &       0.4916  &        2.827     &     0.174  &         0.862        &       -5.049    &        6.032     \\\\\n",
       "\\textbf{megmax}       &       0.2294  &        2.435     &     0.094  &         0.925        &       -4.542    &        5.001     \\\\\n",
       "\\textbf{dbusl}        &      -0.3149  &        2.225     &    -0.141  &         0.887        &       -4.677    &        4.047     \\\\\n",
       "\\textbf{dtraml}       &      -1.7023  &        1.789     &    -0.951  &         0.341        &       -5.209    &        1.805     \\\\\n",
       "\\textbf{dtrainl}      &      -0.7803  &        1.787     &    -0.437  &         0.662        &       -4.283    &        2.723     \\\\\n",
       "\\textbf{dplight}      &      -0.2034  &        2.723     &    -0.075  &         0.940        &       -5.540    &        5.134     \\\\\n",
       "\\textbf{dstation}     &      -1.6290  &        3.086     &    -0.528  &         0.598        &       -7.677    &        4.419     \\\\\n",
       "\\textbf{dparkcar}     &      -0.6941  &        2.199     &    -0.316  &         0.752        &       -5.003    &        3.615     \\\\\n",
       "\\textbf{dparktw}      &      -1.0871  &        1.935     &    -0.562  &         0.574        &       -4.879    &        2.705     \\\\\n",
       "\\textbf{dpedcro}      &      -1.9513  &        2.332     &    -0.837  &         0.403        &       -6.522    &        2.620     \\\\\n",
       "\\textbf{dstopsign}    &      -1.1208  &        1.894     &    -0.592  &         0.554        &       -4.833    &        2.591     \\\\\n",
       "\\textbf{dtrafficarea} &      -1.2734  &        1.818     &    -0.701  &         0.484        &       -4.836    &        2.289     \\\\\n",
       "\\textbf{droad}        &       2.6646  &        1.217     &     2.190  &         0.029        &        0.280    &        5.049     \\\\\n",
       "\\textbf{dvfpath}      &      16.1091  &        4.720     &     3.413  &         0.001        &        6.859    &       25.359     \\\\\n",
       "\\textbf{gvm\\_dwv}     &       0.2306  &        2.083     &     0.111  &         0.912        &       -3.852    &        4.313     \\\\\n",
       "\\textbf{r\\_width}     &       2.9222  &        1.801     &     1.623  &         0.105        &       -0.608    &        6.452     \\\\\n",
       "\\textbf{speedlimit}   &      -1.8184  &        2.696     &    -0.674  &         0.500        &       -7.103    &        3.466     \\\\\n",
       "\\textbf{bicyclecount} &       6.3446  &        3.824     &     1.659  &         0.097        &       -1.151    &       13.840     \\\\\n",
       "\\textbf{carcount}     &       0.5405  &        1.688     &     0.320  &         0.749        &       -2.768    &        3.849     \\\\\n",
       "\\bottomrule\n",
       "\\end{tabular}\n",
       "%\\caption{Logit Regression Results}\n",
       "\\end{center}\n",
       "\n",
       "Possibly complete quasi-separation: A fraction 0.73 of observations can be \\newline\n",
       " perfectly predicted. This might indicate that there is complete \\newline\n",
       " quasi-separation. In this case some parameters will not be identified."
      ],
      "text/plain": [
       "<class 'statsmodels.iolib.summary.Summary'>\n",
       "\"\"\"\n",
       "                           Logit Regression Results                           \n",
       "==============================================================================\n",
       "Dep. Variable:                    acp   No. Observations:                  815\n",
       "Model:                          Logit   Df Residuals:                      791\n",
       "Method:                           MLE   Df Model:                           23\n",
       "Date:                Fri, 22 Nov 2024   Pseudo R-squ.:                  0.9692\n",
       "Time:                        18:18:15   Log-Likelihood:                -14.741\n",
       "converged:                      False   LL-Null:                       -478.26\n",
       "Covariance Type:            nonrobust   LLR p-value:                4.198e-181\n",
       "================================================================================\n",
       "                   coef    std err          z      P>|z|      [0.025      0.975]\n",
       "--------------------------------------------------------------------------------\n",
       "const            2.9152     94.158      0.031      0.975    -181.630     187.461\n",
       "cp               0.4556      0.726      0.628      0.530      -0.967       1.878\n",
       "cmin            -3.0373     94.148     -0.032      0.974    -187.564     181.490\n",
       "ie              -0.7554      1.391     -0.543      0.587      -3.483       1.972\n",
       "mew              2.1918      2.172      1.009      0.313      -2.064       6.448\n",
       "meg              0.4916      2.827      0.174      0.862      -5.049       6.032\n",
       "megmax           0.2294      2.435      0.094      0.925      -4.542       5.001\n",
       "dbusl           -0.3149      2.225     -0.141      0.887      -4.677       4.047\n",
       "dtraml          -1.7023      1.789     -0.951      0.341      -5.209       1.805\n",
       "dtrainl         -0.7803      1.787     -0.437      0.662      -4.283       2.723\n",
       "dplight         -0.2034      2.723     -0.075      0.940      -5.540       5.134\n",
       "dstation        -1.6290      3.086     -0.528      0.598      -7.677       4.419\n",
       "dparkcar        -0.6941      2.199     -0.316      0.752      -5.003       3.615\n",
       "dparktw         -1.0871      1.935     -0.562      0.574      -4.879       2.705\n",
       "dpedcro         -1.9513      2.332     -0.837      0.403      -6.522       2.620\n",
       "dstopsign       -1.1208      1.894     -0.592      0.554      -4.833       2.591\n",
       "dtrafficarea    -1.2734      1.818     -0.701      0.484      -4.836       2.289\n",
       "droad            2.6646      1.217      2.190      0.029       0.280       5.049\n",
       "dvfpath         16.1091      4.720      3.413      0.001       6.859      25.359\n",
       "gvm_dwv          0.2306      2.083      0.111      0.912      -3.852       4.313\n",
       "r_width          2.9222      1.801      1.623      0.105      -0.608       6.452\n",
       "speedlimit      -1.8184      2.696     -0.674      0.500      -7.103       3.466\n",
       "bicyclecount     6.3446      3.824      1.659      0.097      -1.151      13.840\n",
       "carcount         0.5405      1.688      0.320      0.749      -2.768       3.849\n",
       "================================================================================\n",
       "\n",
       "Possibly complete quasi-separation: A fraction 0.73 of observations can be\n",
       "perfectly predicted. This might indicate that there is complete\n",
       "quasi-separation. In this case some parameters will not be identified.\n",
       "\"\"\""
      ]
     },
     "execution_count": 207,
     "metadata": {},
     "output_type": "execute_result"
    }
   ],
   "source": [
    "\n",
    "X_train1, X_test1, y_train1, y_test1 = train_test_split(\n",
    "        x_const, y,\n",
    "        test_size=0.25,\n",
    "        random_state=7)\n",
    "m00_log_split = sm.Logit(y_train1,X_train1, max_iter = 10000)\n",
    "r00_log_split = m00_log_split.fit(method='bfgs')\n",
    "r00_log_split.summary()"
   ]
  },
  {
   "cell_type": "code",
   "execution_count": 208,
   "id": "c5e3c184-9c58-4804-abd8-016bddd56438",
   "metadata": {
    "execution": {
     "iopub.execute_input": "2024-11-22T17:18:15.467606Z",
     "iopub.status.busy": "2024-11-22T17:18:15.467392Z",
     "iopub.status.idle": "2024-11-22T17:18:15.479245Z",
     "shell.execute_reply": "2024-11-22T17:18:15.478581Z",
     "shell.execute_reply.started": "2024-11-22T17:18:15.467591Z"
    }
   },
   "outputs": [
    {
     "name": "stdout",
     "output_type": "stream",
     "text": [
      "0.9691782529901888\n"
     ]
    },
    {
     "data": {
      "text/html": [
       "<div>\n",
       "<style scoped>\n",
       "    .dataframe tbody tr th:only-of-type {\n",
       "        vertical-align: middle;\n",
       "    }\n",
       "\n",
       "    .dataframe tbody tr th {\n",
       "        vertical-align: top;\n",
       "    }\n",
       "\n",
       "    .dataframe thead th {\n",
       "        text-align: right;\n",
       "    }\n",
       "</style>\n",
       "<table border=\"1\" class=\"dataframe\">\n",
       "  <thead>\n",
       "    <tr style=\"text-align: right;\">\n",
       "      <th></th>\n",
       "      <th>feature</th>\n",
       "      <th>0</th>\n",
       "      <th>sig</th>\n",
       "    </tr>\n",
       "  </thead>\n",
       "  <tbody>\n",
       "    <tr>\n",
       "      <th>0</th>\n",
       "      <td>droad</td>\n",
       "      <td>0.028506</td>\n",
       "      <td>*</td>\n",
       "    </tr>\n",
       "    <tr>\n",
       "      <th>1</th>\n",
       "      <td>dvfpath</td>\n",
       "      <td>0.000642</td>\n",
       "      <td>***</td>\n",
       "    </tr>\n",
       "  </tbody>\n",
       "</table>\n",
       "</div>"
      ],
      "text/plain": [
       "   feature         0  sig\n",
       "0    droad  0.028506    *\n",
       "1  dvfpath  0.000642  ***"
      ]
     },
     "execution_count": 208,
     "metadata": {},
     "output_type": "execute_result"
    }
   ],
   "source": [
    "print(r00_log_split.prsquared)\n",
    "printsig(r00_log_split)"
   ]
  },
  {
   "cell_type": "code",
   "execution_count": 209,
   "id": "3805abdf-feee-4089-9fb4-99c8b012212f",
   "metadata": {
    "execution": {
     "iopub.execute_input": "2024-11-22T17:18:15.842625Z",
     "iopub.status.busy": "2024-11-22T17:18:15.842333Z",
     "iopub.status.idle": "2024-11-22T17:18:16.063345Z",
     "shell.execute_reply": "2024-11-22T17:18:16.062784Z",
     "shell.execute_reply.started": "2024-11-22T17:18:15.842608Z"
    }
   },
   "outputs": [
    {
     "name": "stdout",
     "output_type": "stream",
     "text": [
      "0.9926470588235294\n",
      "\n",
      "Test accuracy : \n",
      " 0.9926470588235294\n",
      "\n",
      "Confusion Matrix : \n",
      " [[199   1]\n",
      " [  1  71]]\n",
      "accuracy 0.9926470588235294\n",
      "precision [0.995      0.98611111]\n",
      "sensitivity recall [0.995      0.98611111]\n",
      "f1 score [0.995      0.98611111]\n",
      "mean precision 0.9905555555555556\n",
      "mean recall 0.9905555555555556\n",
      "mean f1 score 0.9905555555555556\n"
     ]
    },
    {
     "data": {
      "image/png": "[encoded data removed]",
      "text/plain": [
       "<Figure size 640x480 with 2 Axes>"
      ]
     },
     "metadata": {},
     "output_type": "display_data"
    }
   ],
   "source": [
    "pred00log_split = r00_log_split.predict(X_test1)\n",
    "pred00log_split = list(map(round,pred00log_split))\n",
    "print(accuracy_score(y_test1, pred00log_split))\n",
    "print('\\nTest accuracy : \\n', accuracy_score(y_test1, pred00log_split))\n",
    "cm00log_split = confusion_matrix(y_test1, pred00log_split) \n",
    "print ('\\nConfusion Matrix : \\n', cm00log_split)\n",
    "cm00log_split_display = metrics.ConfusionMatrixDisplay(confusion_matrix = cm00log_split)\n",
    "cm00log_split_display.plot()\n",
    "\n",
    "acc_log_split = metrics.accuracy_score(y_test1, pred00log_split)\n",
    "print('accuracy', acc_log_split)\n",
    "\n",
    "pre_log_split = metrics.precision_score(y_test1, pred00log_split, average = None)\n",
    "print('precision', pre_log_split)\n",
    "\n",
    "senrec_log_split = metrics.recall_score(y_test1, pred00log_split, average = None)\n",
    "print('sensitivity recall', senrec_log_split)\n",
    "\n",
    "f1_log_split = metrics.f1_score(y_test1, pred00log_split, average = None)\n",
    "print('f1 score', f1_log_split)\n",
    "\n",
    "pre_log_split_m = np.mean(pre_log_split)\n",
    "senrec_log_split_m = np.mean(senrec_log_split)\n",
    "f1_log_split_m = np.mean(f1_log_split)\n",
    "print('mean precision', pre_log_split_m)\n",
    "print('mean recall', senrec_log_split_m)\n",
    "print('mean f1 score', f1_log_split_m)"
   ]
  },
  {
   "cell_type": "markdown",
   "id": "128882ea-f6d9-4b7f-859a-71387313f4e0",
   "metadata": {},
   "source": [
    "# Step wise feature selection"
   ]
  },
  {
   "cell_type": "code",
   "execution_count": 3,
   "id": "e995a9c3",
   "metadata": {},
   "outputs": [],
   "source": [
    "# Check sklearn metrics name for feature selection\n",
    "# sklearn.metrics.get_scorer_names()"
   ]
  },
  {
   "cell_type": "markdown",
   "id": "9e07aaa1-688d-4e10-935b-76a1a8966f6b",
   "metadata": {},
   "source": [
    "## Ordinary Least Squares Regression model"
   ]
  },
  {
   "cell_type": "markdown",
   "id": "8f695bb3-dd7f-414d-95af-2cc2fef57c9a",
   "metadata": {},
   "source": [
    "### Sequential forward floating selection"
   ]
  },
  {
   "cell_type": "code",
   "execution_count": null,
   "id": "b7b7d96a-1b38-41b4-bf2a-b99991852105",
   "metadata": {},
   "outputs": [],
   "source": [
    "# # # n = best, linear regression, scoring = neg_mean_squared_error, cv = 5\n",
    "# sffslin0 = featureselection_lin(True, 'neg_mean_squared_error', 5, x, y) \n",
    "# print(sffslin0.k_feature_names_)\n",
    "# print(len(sffslin0.k_feature_names_))\n",
    "# print(sffslin0.k_score_)\n"
   ]
  },
  {
   "cell_type": "code",
   "execution_count": null,
   "id": "7717119b-51d8-4973-a3d4-b0f438d59d6d",
   "metadata": {},
   "outputs": [],
   "source": [
    "# # n = best, linear regression, scoring = neg_mean_squared_error, cv = 10\n",
    "sffslin1 = featureselection_lin(True, 'neg_mean_squared_error', 10, x, y) \n",
    "print(sffslin1.k_feature_names_)\n",
    "print(len(sffslin1.k_feature_names_))\n",
    "print(sffslin1.k_score_)\n"
   ]
  },
  {
   "cell_type": "code",
   "execution_count": null,
   "id": "ce242bce-b9b8-4849-ab1c-938d39fb36d3",
   "metadata": {},
   "outputs": [],
   "source": [
    "# # n = best, linear regression, scoring = r2, cv = 5\n",
    "sffslin2 = featureselection_lin(True, 'r2', 5, x, y) \n",
    "print(sffslin2.k_feature_names_)\n",
    "print(len(sffslin2.k_feature_names_))\n",
    "print(sffslin2.k_score_)"
   ]
  },
  {
   "cell_type": "code",
   "execution_count": null,
   "id": "fa7612cf-e8b3-49e4-abcc-0bc257beec93",
   "metadata": {},
   "outputs": [],
   "source": [
    "# n = best, linear regression, scoring = r2, cv = 10\n",
    "sffslin3 = featureselection_lin(True, 'r2', 10, x, y) \n",
    "print(sffslin3.k_feature_names_)\n",
    "print(len(sffslin3.k_feature_names_))\n",
    "print(sffslin3.k_score_)"
   ]
  },
  {
   "cell_type": "code",
   "execution_count": null,
   "id": "e03c0b1f-c624-49c0-8783-5e30b9c2e46f",
   "metadata": {},
   "outputs": [],
   "source": [
    "# # # n = best, linear regression, scoring = neg median absolute error, cv = 5\n",
    "sffslin4 = featureselection_lin(True, 'neg_median_absolute_error', 5, x, y) \n",
    "print(sffslin4.k_feature_names_)\n",
    "print(len(sffslin4.k_feature_names_))\n",
    "print(sffslin4.k_score_)"
   ]
  },
  {
   "cell_type": "code",
   "execution_count": null,
   "id": "70bfd1b1-267e-4c77-8197-768721021845",
   "metadata": {},
   "outputs": [],
   "source": [
    "# # # n = best, linear regression, scoring = neg median absolute error, cv = 10\n",
    "sffslin5 = featureselection_lin(True, 'neg_median_absolute_error', 10, x, y) \n",
    "print(sffslin5.k_feature_names_)\n",
    "print(len(sffslin5.k_feature_names_))\n",
    "print(sffslin5.k_score_)"
   ]
  },
  {
   "cell_type": "code",
   "execution_count": null,
   "id": "3c4446c6-6797-42f7-b2f9-78eac7c93c66",
   "metadata": {},
   "outputs": [],
   "source": [
    "# # # n = best, linear regression, scoring = neg mean absolute error, cv = 5\n",
    "sffslin6 = featureselection_lin(True, 'neg_mean_absolute_error', 5, x, y) \n",
    "print(sffslin6.k_feature_names_)\n",
    "print(len(sffslin6.k_feature_names_))\n",
    "print(sffslin6.k_score_)"
   ]
  },
  {
   "cell_type": "code",
   "execution_count": null,
   "id": "580d72e6-f3d6-4de9-ae2f-b7880b0d9a53",
   "metadata": {},
   "outputs": [],
   "source": [
    "# # # n = best, linear regression, scoring = neg mean absolute error, cv = 10\n",
    "sffslin7 = featureselection_lin(True, 'neg_mean_absolute_error', 10, x, y) \n",
    "print(sffslin7.k_feature_names_)\n",
    "print(len(sffslin7.k_feature_names_))\n",
    "print(sffslin7.k_score_)"
   ]
  },
  {
   "cell_type": "code",
   "execution_count": null,
   "id": "ed4ea5e7-5942-46d6-abdc-c5ae3aeb66aa",
   "metadata": {},
   "outputs": [],
   "source": [
    "selected_columns_linr_sffs = []\n",
    "selected_columns_linr_sffs = {'nmse_cv5':list(sffslin0.k_feature_names_), \n",
    "                              'nmse_cv10':list(sffslin1.k_feature_names_), \n",
    "                              'r2_cv5':list(sffslin2.k_feature_names_), \n",
    "                              'r2_cv10':list(sffslin3.k_feature_names_), \n",
    "                              'nmedae_cv5':list(sffslin4.k_feature_names_), \n",
    "                              'nmedae_cv10':list(sffslin5.k_feature_names_), \n",
    "                              'nmeae_cv5':list(sffslin6.k_feature_names_), \n",
    "                              'nmeae_cv10':list(sffslin7.k_feature_names_)}"
   ]
  },
  {
   "cell_type": "code",
   "execution_count": null,
   "id": "c349dec0-822c-45c3-ac7e-0230b3267ab7",
   "metadata": {},
   "outputs": [],
   "source": [
    "df_sf_linr_sffs = pd.DataFrame(dict([(k,pd.Series(v)) for k,v in selected_columns_linr_sffs.items()]))"
   ]
  },
  {
   "cell_type": "code",
   "execution_count": null,
   "id": "e49537ed-5015-496f-b153-79e8112628fd",
   "metadata": {},
   "outputs": [],
   "source": [
    "# df_sf_linr_sffs.to_csv('/home/yelhe/script/mtp/tables/updated_sffs_linearreg.csv', index = True)"
   ]
  },
  {
   "cell_type": "code",
   "execution_count": null,
   "id": "16d38534-395b-4230-a4ca-49ef5b9fcddb",
   "metadata": {},
   "outputs": [],
   "source": [
    "# selected_columns = list(sffslin.k_feature_names_)\n"
   ]
  },
  {
   "cell_type": "code",
   "execution_count": null,
   "id": "1e8eeea1-6516-48e7-88bc-8ac98d223fa2",
   "metadata": {
    "scrolled": true
   },
   "outputs": [],
   "source": [
    "# # OLS\n",
    "# df_selected = dfacrpv[selected_columns]\n",
    "\n",
    "# m0 = sm.OLS(y, df_selected)\n",
    "# r0 = m0.fit()\n",
    "# r0.summary()"
   ]
  },
  {
   "cell_type": "markdown",
   "id": "165da463-0e31-4348-af57-0403dd3f29ed",
   "metadata": {},
   "source": [
    "### Sequential backward floating selection"
   ]
  },
  {
   "cell_type": "code",
   "execution_count": null,
   "id": "f531ac9b-d567-4f0c-ab02-09733e44b31d",
   "metadata": {},
   "outputs": [],
   "source": [
    "# # n = best, linear regression, backward, scoring = neg_mean_squared_error, cv = 5\n",
    "sbfslin0 = featureselection_lin(False, 'neg_mean_squared_error', 5, x, y) \n",
    "print(sbfslin0.k_feature_names_)\n",
    "print(len(sbfslin0.k_feature_names_))\n",
    "print(sbfslin0.k_score_)"
   ]
  },
  {
   "cell_type": "code",
   "execution_count": null,
   "id": "46dba83a-ad2c-4e0f-8b3f-94dae9279c2a",
   "metadata": {},
   "outputs": [],
   "source": [
    "# # n = best, linear regression, backward, scoring = neg_mean_squared_error, cv = 10\n",
    "sbfslin1 = featureselection_lin(False, 'neg_mean_squared_error', 10, x, y) \n",
    "print(sbfslin1.k_feature_names_)\n",
    "print(len(sbfslin1.k_feature_names_))\n",
    "print(sbfslin1.k_score_)\n"
   ]
  },
  {
   "cell_type": "code",
   "execution_count": null,
   "id": "e91657a5-b828-4141-aad7-2c78c47a0ede",
   "metadata": {},
   "outputs": [],
   "source": [
    "# # n = best, linear regression, backward, scoring = r2, cv = 5\n",
    "sbfslin2 = featureselection_lin(False, 'r2', 5, x, y) \n",
    "print(sbfslin2.k_feature_names_)\n",
    "print(len(sbfslin2.k_feature_names_))\n",
    "print(sbfslin2.k_score_)"
   ]
  },
  {
   "cell_type": "code",
   "execution_count": null,
   "id": "881471b7-90c3-4d41-b317-2fd906d67a99",
   "metadata": {},
   "outputs": [],
   "source": [
    "# # n = best, linear regression, backward, scoring = r2, cv = 10\n",
    "sbfslin3 = featureselection_lin(False, 'r2', 10, x, y) \n",
    "print(sbfslin3.k_feature_names_)\n",
    "print(len(sbfslin3.k_feature_names_))\n",
    "print(sbfslin3.k_score_)"
   ]
  },
  {
   "cell_type": "code",
   "execution_count": null,
   "id": "a70a2f1c-b05c-41a0-a416-6c829ff98f91",
   "metadata": {},
   "outputs": [],
   "source": [
    "# # n = best, linear regression, backward, scoring = neg median aboslute error, cv = 5\n",
    "sbfslin4 = featureselection_lin(False, 'neg_median_absolute_error', 5, x, y) \n",
    "print(sbfslin4.k_feature_names_)\n",
    "print(len(sbfslin4.k_feature_names_))\n",
    "print(sbfslin4.k_score_)"
   ]
  },
  {
   "cell_type": "code",
   "execution_count": null,
   "id": "a0d6c2f0-95db-47a3-ba56-c652ec28ba29",
   "metadata": {},
   "outputs": [],
   "source": [
    "# # n = best, linear regression, backward, scoring = neg median aboslute error, cv = 10\n",
    "sbfslin5 = featureselection_lin(False, 'neg_median_absolute_error', 10, x, y) \n",
    "print(sbfslin5.k_feature_names_)\n",
    "print(len(sbfslin5.k_feature_names_))\n",
    "print(sbfslin5.k_score_)"
   ]
  },
  {
   "cell_type": "code",
   "execution_count": null,
   "id": "976d1b34-d087-484a-bb09-679bc73387c3",
   "metadata": {},
   "outputs": [],
   "source": [
    "# # n = best, linear regression, backward, scoring = neg mean absolute error, cv = 5\n",
    "sbfslin6 = featureselection_lin(False, 'neg_mean_absolute_error', 5, x, y) \n",
    "print(sbfslin6.k_feature_names_)\n",
    "print(len(sbfslin6.k_feature_names_))\n",
    "print(sbfslin6.k_score_)"
   ]
  },
  {
   "cell_type": "code",
   "execution_count": null,
   "id": "20006330-64f5-4cc3-8f30-f6e755a5a527",
   "metadata": {},
   "outputs": [],
   "source": [
    "# # n = best, linear regression, backward, scoring = neg mean aboslute error, cv = 10\n",
    "sbfslin7 = featureselection_lin(False, 'neg_mean_absolute_error', 10, x, y) \n",
    "print(sbfslin7.k_feature_names_)\n",
    "print(len(sbfslin7.k_feature_names_))\n",
    "print(sbfslin7.k_score_)"
   ]
  },
  {
   "cell_type": "code",
   "execution_count": null,
   "id": "f9621fb5-a9e4-4a0c-ad03-23c5df605e57",
   "metadata": {},
   "outputs": [],
   "source": [
    "selected_columns_linr_sbfs = []\n",
    "selected_columns_linr_sbfs = {'all': cnu,\n",
    "                              'nmse_cv5':list(sbfslin0.k_feature_names_), \n",
    "                              'nmse_cv10':list(sbfslin1.k_feature_names_), \n",
    "                              'r2_cv5':list(sbfslin2.k_feature_names_), \n",
    "                              'r2_cv10':list(sbfslin3.k_feature_names_), \n",
    "                              'nmedae_cv5':list(sbfslin4.k_feature_names_), \n",
    "                              'nmedae_cv10':list(sbfslin5.k_feature_names_),\n",
    "                              'nmeae_cv5':list(sbfslin6.k_feature_names_), \n",
    "                              'nmeae_cv10':list(sbfslin7.k_feature_names_)}"
   ]
  },
  {
   "cell_type": "code",
   "execution_count": null,
   "id": "4b089fba-ce5e-4166-be85-699efa8fe33c",
   "metadata": {},
   "outputs": [],
   "source": [
    "df_sf_linr_sbfs = pd.DataFrame(dict([(k,pd.Series(v)) for k,v in selected_columns_linr_sbfs.items()]))"
   ]
  },
  {
   "cell_type": "code",
   "execution_count": null,
   "id": "9db31abf-c984-4164-9e1d-0a0ecadbff47",
   "metadata": {},
   "outputs": [],
   "source": [
    "df_sf_linr_sbfs.to_csv('/home/yelhe/script/mtp/tables/updated_sbfs_linearreg.csv', index = True)"
   ]
  },
  {
   "cell_type": "code",
   "execution_count": null,
   "id": "7ab16cea-b108-4938-87f8-dee24f6ad52f",
   "metadata": {},
   "outputs": [],
   "source": [
    "sbfs_columns = list(sbfslin7.k_feature_names_)"
   ]
  },
  {
   "cell_type": "code",
   "execution_count": null,
   "id": "68f34554-c9ac-4206-a43f-e2f74808ef5a",
   "metadata": {},
   "outputs": [],
   "source": [
    "# df_output = pd.read_csv('/home/yelhe/script/mtp/tables/updated_sbfs_linearreg.csv')"
   ]
  },
  {
   "cell_type": "code",
   "execution_count": null,
   "id": "f6199d62-a34d-40e9-8c7b-31771dc1a543",
   "metadata": {},
   "outputs": [],
   "source": [
    "# df_output.columns"
   ]
  },
  {
   "cell_type": "code",
   "execution_count": null,
   "id": "5de930bc-c41e-4ee1-a8ce-67ecdb663150",
   "metadata": {},
   "outputs": [],
   "source": [
    "# prsq_lin_sffs = []\n",
    "# prsq_lin_sbfs = []"
   ]
  },
  {
   "cell_type": "code",
   "execution_count": null,
   "id": "ce0c5c03-216e-4cec-ab7e-bbc0b8a661e1",
   "metadata": {},
   "outputs": [],
   "source": [
    "\n",
    "\n",
    "# ## For sffs\n",
    "# l = list(df_output['nmeae_cv10'].dropna())\n",
    "\n",
    "# # x_selected\n",
    "# xs = dfacrpv[l]"
   ]
  },
  {
   "cell_type": "code",
   "execution_count": null,
   "id": "bb2ba1f6-55cf-4a01-af58-72f17038bb0b",
   "metadata": {
    "scrolled": true
   },
   "outputs": [],
   "source": [
    "# # OLS\n",
    "# xs_const = tools.add_constant(xs) \n",
    "# # X_train, X_test, y_train, y_test = train_test_split(\n",
    "# #         df_selected, y,\n",
    "# #         test_size=0.3,\n",
    "# #         random_state=0)\n",
    "\n",
    "# m1 = sm.OLS(y, xs_const)\n",
    "# r1 = m1.fit()\n",
    "# r1.summary()"
   ]
  },
  {
   "cell_type": "code",
   "execution_count": null,
   "id": "235fb07e-eabe-431a-9a01-4c1fb465dfed",
   "metadata": {},
   "outputs": [],
   "source": [
    "# prsq_lin_sbfs.append(r1.rsquared_adj)"
   ]
  },
  {
   "cell_type": "code",
   "execution_count": null,
   "id": "a35a3f70-8b06-4de9-b102-c2c8a7b7587a",
   "metadata": {},
   "outputs": [],
   "source": [
    "prsq_lin_sbfs"
   ]
  },
  {
   "cell_type": "code",
   "execution_count": null,
   "id": "522cf8e3-c592-415d-ae7e-bfa1050ad2d9",
   "metadata": {},
   "outputs": [],
   "source": [
    "prsq_lin_sffs"
   ]
  },
  {
   "cell_type": "markdown",
   "id": "8119ef0e-78b5-4b8e-83f5-7256197ead1a",
   "metadata": {},
   "source": [
    "## Logistic Regression model"
   ]
  },
  {
   "cell_type": "markdown",
   "id": "4181e345-e803-42e2-acf6-a83a0bb6fdb3",
   "metadata": {},
   "source": [
    "### Sequential forward floating selection"
   ]
  },
  {
   "cell_type": "code",
   "execution_count": 143,
   "id": "8e1d9bac-c622-4f7b-959d-8c911c0d7144",
   "metadata": {
    "execution": {
     "iopub.execute_input": "2024-11-22T17:07:33.482798Z",
     "iopub.status.busy": "2024-11-22T17:07:33.482356Z",
     "iopub.status.idle": "2024-11-22T17:08:36.222875Z",
     "shell.execute_reply": "2024-11-22T17:08:36.222022Z",
     "shell.execute_reply.started": "2024-11-22T17:07:33.482776Z"
    }
   },
   "outputs": [
    {
     "name": "stdout",
     "output_type": "stream",
     "text": [
      "('cp', 'cmin', 'cmean', 'ie', 'mew', 'meg', 'megmax', 'dbusl', 'dtraml', 'dtrainl', 'dplight', 'dstation', 'dparkcar', 'dparktw', 'dpedcro', 'dstopsign', 'dtrafficarea', 'dvfpath', 'gvm_dwv', 'r_width', 'speedlimit', 'bicyclecount', 'z_qnr_1', 'z_qnr_7', 'z_qnr_9', 'z_qnr_10', 'z_qnr_11', 'z_qnr_12', 'z_qnr_13', 'z_qnr_14', 'z_qnr_16', 'z_qnr_17', 'z_qnr_19', 'z_qnr_20', 'z_qnr_21', 'z_qnr_22', 'z_qnr_23', 'z_qnr_24', 'z_qnr_25', 'z_qnr_26', 'z_qnr_27', 'z_qnr_28', 'z_qnr_29', 'z_qnr_30', 'z_qnr_31', 'z_qnr_32', 'z_knr_2', 'z_knr_3', 'z_knr_5', 'z_knr_7', 'trafficarea_1', 'trafficarea_2', 'r_width_1', 'r_width_6', 'speedlimit_5', 'speedlimit_6')\n",
      "56\n",
      "0.9917262080919969\n"
     ]
    }
   ],
   "source": [
    "# # n = best, logistic regression, scoring = accuracy, cv = 5\n",
    "sffslog0 = featureselection_log(True, 'accuracy', 5, x, y)\n",
    "print(sffslog0.k_feature_names_)\n",
    "print(len(sffslog0.k_feature_names_))\n",
    "print(sffslog0.k_score_)\n"
   ]
  },
  {
   "cell_type": "code",
   "execution_count": null,
   "id": "6d0bd756-a9e2-4f53-ae68-ff60abfde9b7",
   "metadata": {},
   "outputs": [],
   "source": [
    "# # n = best, logistic regression, scoring = accuracy, cv = 10\n",
    "# sffslog1 = featureselection_log(True, 'accuracy', 10, x, y)\n",
    "# print(sffslog1.k_feature_names_)\n",
    "# print(len(sffslog1.k_feature_names_))\n",
    "# print(sffslog1.k_score_)\n"
   ]
  },
  {
   "cell_type": "code",
   "execution_count": null,
   "id": "41f0ebb4-455f-4303-a55a-7077445892d9",
   "metadata": {},
   "outputs": [],
   "source": [
    "# # n = best, logistic regression, scoring = f1, cv = 5\n",
    "sffslog2 = featureselection_log(True, 'f1', 5, x, y)\n",
    "print(sffslog2.k_feature_names_)\n",
    "print(len(sffslog2.k_feature_names_))\n",
    "print(sffslog2.k_score_)\n"
   ]
  },
  {
   "cell_type": "code",
   "execution_count": null,
   "id": "5e1b14ae-d40e-484c-a3b5-3049f2f081d4",
   "metadata": {},
   "outputs": [],
   "source": [
    "# # n = best, logistic regression, scoring = f1, cv = 10\n",
    "sffslog3 = featureselection_log(True, 'f1', 10, x, y)\n",
    "print(sffslog3.k_feature_names_)\n",
    "print(len(sffslog3.k_feature_names_))\n",
    "print(sffslog3.k_score_)\n"
   ]
  },
  {
   "cell_type": "code",
   "execution_count": null,
   "id": "3aad7d05-3ff4-4720-840d-6f966e961e63",
   "metadata": {
    "scrolled": true
   },
   "outputs": [],
   "source": [
    "# n = best, logistic regression, scoring = precision, cv = 5\n",
    "# sffslog4 = featureselection_log(True, 'precision', 5, x, y)\n",
    "# print(sffslog4.k_feature_names_)\n",
    "# print(len(sffslog4.k_feature_names_))\n",
    "# print(sffslog4.k_score_)\n",
    "# ('cmean', 'cmin', 'ie', 'mew', 'meg', 'megmax', 'dbusl', 'dtraml', 'dtrainl', 'dplight', 'dstation', 'dparkcar', 'dpedcro', 'dstopsign', 'dvfpath', 'bicyclecount', 'carcount', 'z_qnr_1', 'z_qnr_2', 'z_qnr_4', 'z_qnr_6', 'z_qnr_13', 'z_qnr_14', 'z_qnr_22', 'z_knr_10', 'trafficarea_2', 'speedlimit_4')\n",
    "# 27\n",
    "# 0.8925816112608566"
   ]
  },
  {
   "cell_type": "code",
   "execution_count": null,
   "id": "01c15fb9-50c9-457e-a3a8-1e4cadaca9db",
   "metadata": {
    "scrolled": true
   },
   "outputs": [],
   "source": [
    "# # # # n = best, logistic regression, scoring = precision, cv = 10\n",
    "# sffslog5 = featureselection_log(True, 'precision', 10, x, y)\n",
    "# print(sffslog5.k_feature_names_)\n",
    "# print(len(sffslog5.k_feature_names_))\n",
    "# print(sffslog5.k_score_)\n",
    "# ('cmean', 'cmin', 'ie', 'mew', 'meg', 'megmax', 'dbusl', 'dtraml', 'dtrainl', 'dplight', 'dstation', 'dparktw', 'dpedcro', 'dstopsign', 'dtrafficarea', 'droad', 'gvm_dwv', 'bicyclecount', 'carcount', 'z_qnr_2', 'z_qnr_3', 'z_qnr_4', 'z_qnr_6', 'z_qnr_9', 'z_qnr_10', 'z_qnr_12', 'z_qnr_13', 'z_qnr_15', 'z_qnr_16', 'z_qnr_23', 'z_qnr_24', 'z_qnr_25', 'z_qnr_26', 'z_qnr_27', 'z_qnr_28', 'z_qnr_29', 'z_qnr_30', 'z_qnr_31', 'z_qnr_32', 'z_knr_2', 'trafficarea_2', 'r_width_5', 'r_width_6', 'r_surface_1', 'speedlimit_1', 'speedlimit_4', 'speedlimit_5')\n",
    "# 47\n",
    "# 0.8915503341687552"
   ]
  },
  {
   "cell_type": "code",
   "execution_count": null,
   "id": "586a6413-c9aa-4feb-8333-a236d7cebd37",
   "metadata": {},
   "outputs": [],
   "source": [
    "# # n = best, logistic regression, scoring = recall, cv = 5\n",
    "sffslog6 = featureselection_log(True, 'recall', 5, x, y)\n",
    "print(sffslog6.k_feature_names_)\n",
    "print(len(sffslog6.k_feature_names_))\n",
    "print(sffslog6.k_score_)\n"
   ]
  },
  {
   "cell_type": "code",
   "execution_count": null,
   "id": "acd2ce79-4e9f-4524-b4b3-162f8da5261f",
   "metadata": {},
   "outputs": [],
   "source": [
    "# # n = best, logistic regression, scoring = recall, cv = 10\n",
    "sffslog7 = featureselection_log(True, 'recall', 10, x, y)\n",
    "print(sffslog7.k_feature_names_)\n",
    "print(len(sffslog7.k_feature_names_))\n",
    "print(sffslog7.k_score_)\n"
   ]
  },
  {
   "cell_type": "code",
   "execution_count": null,
   "id": "4cdf2c61-28e1-459f-a00c-988f25b2ecf4",
   "metadata": {},
   "outputs": [],
   "source": [
    "# For part \n",
    "selected_columns_logr_sffs = []\n",
    "selected_columns_logr_sffs = {'all': cnvif,\n",
    "                              'acc_cv5':list(sffslog0.k_feature_names_), \n",
    "                              'acc_cv10':list(sffslog1.k_feature_names_), \n",
    "                              'f1_cv5':list(sffslog2.k_feature_names_), \n",
    "                              'f1_cv10':list(sffslog3.k_feature_names_), \n",
    "                              'pre_cv5':list(sffslog4.k_feature_names_), \n",
    "                              'pre_cv10':list(sffslog5.k_feature_names_),\n",
    "                              'rec_cv5':list(sffslog6.k_feature_names_), \n",
    "                              'rec_cv10':list(sffslog7.k_feature_names_)\n",
    "                              }\n",
    "df_sf_logr_sffs = pd.DataFrame(dict([(k,pd.Series(v)) for k,v in selected_columns_logr_sffs.items()]))\n",
    "df_sf_logr_sffs.to_csv('/home/yelhe/script/mtp/tables/vif_sffs_logisticreg.csv', index = True)"
   ]
  },
  {
   "cell_type": "code",
   "execution_count": null,
   "id": "f6ebb812",
   "metadata": {},
   "outputs": [],
   "source": []
  },
  {
   "cell_type": "markdown",
   "id": "528cb07a-dffb-450f-8ede-5e4dc1748ad1",
   "metadata": {
    "execution": {
     "iopub.execute_input": "2024-09-03T15:30:17.841200Z",
     "iopub.status.busy": "2024-09-03T15:30:17.840178Z",
     "iopub.status.idle": "2024-09-03T15:30:17.846475Z",
     "shell.execute_reply": "2024-09-03T15:30:17.845897Z",
     "shell.execute_reply.started": "2024-09-03T15:30:17.841170Z"
    }
   },
   "source": [
    "### Sequential backward floating selection"
   ]
  },
  {
   "cell_type": "code",
   "execution_count": null,
   "id": "80a82579",
   "metadata": {},
   "outputs": [],
   "source": [
    "# n = best, logistic regression, scoring = accuracy, cv = 5\n",
    "sbfslog0 = featureselection_log(False, 'accuracy', 5, x, y)\n",
    "print(sbfslog0.k_feature_names_)\n",
    "print(len(sbfslog0.k_feature_names_))\n",
    "print(sbfslog0.k_score_)\n"
   ]
  },
  {
   "cell_type": "code",
   "execution_count": null,
   "id": "ba383abf",
   "metadata": {},
   "outputs": [],
   "source": [
    "# n = best, logistic regression, scoring = accuracy, cv = 10\n",
    "sbfslog1 = featureselection_log(False, 'accuracy', 10, x, y)\n",
    "print(sbfslog1.k_feature_names_)\n",
    "print(len(sbfslog1.k_feature_names_))\n",
    "print(sbfslog1.k_score_)\n"
   ]
  },
  {
   "cell_type": "code",
   "execution_count": null,
   "id": "4bdc1df9",
   "metadata": {},
   "outputs": [],
   "source": [
    "# n = best, logistic regression, scoring = f1, cv = 5\n",
    "sbfslog2 = featureselection_log(False, 'f1', 5, x, y)\n",
    "print(sbfslog2.k_feature_names_)\n",
    "print(len(sbfslog2.k_feature_names_))\n",
    "print(sbfslog2.k_score_)"
   ]
  },
  {
   "cell_type": "code",
   "execution_count": null,
   "id": "b90f1edf",
   "metadata": {},
   "outputs": [],
   "source": [
    "# n = best, logistic regression, scoring = f1, cv = 10\n",
    "sbfslog3 = featureselection_log(False, 'f1', 10, x, y)\n",
    "print(sbfslog3.k_feature_names_)\n",
    "print(len(sbfslog3.k_feature_names_))\n",
    "print(sbfslog3.k_score_)"
   ]
  },
  {
   "cell_type": "code",
   "execution_count": null,
   "id": "605c2bc0",
   "metadata": {
    "scrolled": true
   },
   "outputs": [],
   "source": [
    "# # n = best, logistic regression, scoring = precision, cv = 5\n",
    "# sbfslog4 = featureselection_log(False, 'precision', 5, x, y)\n",
    "# print(sbfslog4.k_feature_names_)\n",
    "# print(len(sbfslog4.k_feature_names_))\n",
    "# print(sbfslog4.k_score_)\n",
    "# ('dpedcro', 'dvfpath', 'r_width_value', 'z_qnr_22', 'z_knr_10', 'trafficarea_2', 'r_width_2', 'r_width_4', 'r_width_5', 'speedlimit_4')\n",
    "# 10\n",
    "# 0.9094070080862535"
   ]
  },
  {
   "cell_type": "code",
   "execution_count": null,
   "id": "6fcfaec8",
   "metadata": {
    "scrolled": true
   },
   "outputs": [],
   "source": [
    "# # n = best, logistic regression, scoring = precision, cv = 10\n",
    "# sbfslog5 = featureselection_log(False, 'precision', 10, x, y)\n",
    "# print(sbfslog5.k_feature_names_)\n",
    "# print(len(sbfslog5.k_feature_names_))\n",
    "# print(sbfslog5.k_score_)\n",
    "# ('ie', 'dtraml', 'dpedcro', 'dvfpath', 'r_width_value', 'z_qnr_5', 'z_qnr_7', 'z_qnr_10', 'z_qnr_25', 'z_qnr_26', 'z_qnr_28', 'z_qnr_29', 'z_knr_4', 'trafficarea_2', 'r_width_1', 'r_width_2', 'r_width_4', 'r_width_5', 'speedlimit_4')\n",
    "# 19\n",
    "# 0.9160866910866912"
   ]
  },
  {
   "cell_type": "code",
   "execution_count": null,
   "id": "a2b0adc4",
   "metadata": {},
   "outputs": [],
   "source": [
    "# n = best, logistic regression, scoring = recall, cv = 5\n",
    "sbfslog6 = featureselection_log(False, 'recall', 5, x, y)\n",
    "print(sbfslog6.k_feature_names_)\n",
    "print(len(sbfslog6.k_feature_names_))\n",
    "print(sbfslog6.k_score_)"
   ]
  },
  {
   "cell_type": "code",
   "execution_count": null,
   "id": "a4efef70",
   "metadata": {},
   "outputs": [],
   "source": [
    "# n = best, logistic regression, scoring = recall, cv = 10\n",
    "sbfslog7 = featureselection_log(False, 'recall', 10, x, y)\n",
    "print(sbfslog7.k_feature_names_)\n",
    "print(len(sbfslog7.k_feature_names_))\n",
    "print(sbfslog7.k_score_)"
   ]
  },
  {
   "cell_type": "code",
   "execution_count": null,
   "id": "0cccb8f2",
   "metadata": {},
   "outputs": [],
   "source": [
    "# For all \n",
    "selected_columns_logr_sbfs = []\n",
    "selected_columns_logr_sbfs = {'all': cnvif,\n",
    "                              'acc_cv5':list(sbfslog0.k_feature_names_), \n",
    "                              'acc_cv10':list(sbfslog1.k_feature_names_),\n",
    "                              'f1_cv5':list(sbfslog2.k_feature_names_), \n",
    "                              'f1_cv10':list(sbfslog3.k_feature_names_),\n",
    "                              'pre_cv5':list(sbfslog4.k_feature_names_), \n",
    "                              'pre_cv10':list(sbfslog5.k_feature_names_),\n",
    "                              'rec_cv5':list(sbfslog6.k_feature_names_), \n",
    "                              'rec_cv10':list(sbfslog7.k_feature_names_)\n",
    "                              }\n",
    "df_sf_logr_sbfs = pd.DataFrame(dict([(k,pd.Series(v)) for k,v in selected_columns_logr_sbfs.items()]))\n",
    "df_sf_logr_sbfs.to_csv('/home/yelhe/script/mtp/tables/vif_sbfs_logisticreg.csv', index = True)"
   ]
  },
  {
   "cell_type": "code",
   "execution_count": null,
   "id": "a70e79d7-49f6-464d-9c7f-094b1748ee63",
   "metadata": {},
   "outputs": [],
   "source": [
    "# df_output = pd.read_csv('/home/yelhe/script/mtp/tables/vif_sbfs_logisticreg.csv')"
   ]
  },
  {
   "cell_type": "code",
   "execution_count": null,
   "id": "29209bb9-3b89-4909-964b-77614b68f469",
   "metadata": {},
   "outputs": [],
   "source": [
    "df_output.columns"
   ]
  },
  {
   "cell_type": "code",
   "execution_count": null,
   "id": "69af2959-d65a-45e1-9548-ea202aec26af",
   "metadata": {},
   "outputs": [],
   "source": [
    "log_sffs = []\n",
    "log_sbfs = []"
   ]
  },
  {
   "cell_type": "code",
   "execution_count": null,
   "id": "ae21dc23-acbc-45ae-938f-29c5d039aad0",
   "metadata": {},
   "outputs": [],
   "source": [
    "# l = list(df_output['rec_cv10'].dropna())\n",
    "# i = 2\n",
    "i = i-1\n",
    "l = list(df_output.iloc[:,i].dropna())\n",
    "# l = list(sffslog0.k_feature_names_)\n",
    "print(i, len(l))"
   ]
  },
  {
   "cell_type": "code",
   "execution_count": null,
   "id": "7bae5fd3-3307-458a-b51a-3f765f29b026",
   "metadata": {},
   "outputs": [],
   "source": [
    "l = list(sffslog0.k_feature_names_)"
   ]
  },
  {
   "cell_type": "code",
   "execution_count": null,
   "id": "a7e1564b-26df-431c-aed3-1b23be29b019",
   "metadata": {},
   "outputs": [],
   "source": [
    "# x_selected\n",
    "xs = dfacrpv[l]"
   ]
  },
  {
   "cell_type": "code",
   "execution_count": null,
   "id": "f14d8828-3d49-4cbc-9458-3cf7e783dfe4",
   "metadata": {},
   "outputs": [],
   "source": [
    "# with splitting\n",
    "xs_const = tools.add_constant(xs)\n",
    "X_train, X_test, y_train, y_test = train_test_split(\n",
    "        xs_const, y,\n",
    "        test_size=0.2,\n",
    "        random_state=0)\n",
    "m_log_split = sm.Logit(y_train, X_train, max_iter = 400)\n",
    "r_log_split = m_log_split.fit_regularized()\n",
    "r_log_split.summary()"
   ]
  },
  {
   "cell_type": "code",
   "execution_count": null,
   "id": "2a62a120-f3ed-4c7f-9bc9-03b269ae284b",
   "metadata": {},
   "outputs": [],
   "source": [
    "# print(r_log_split.prsquared)\n",
    "# printsig(r_log_split)"
   ]
  },
  {
   "cell_type": "code",
   "execution_count": null,
   "id": "7041cafa-c145-481a-8a65-a0178429d601",
   "metadata": {},
   "outputs": [],
   "source": [
    "log_sbfs.append(r_log_split.prsquared)"
   ]
  },
  {
   "cell_type": "code",
   "execution_count": null,
   "id": "d5ca2ac8-c06f-4377-8eb3-36d48d9b6cb1",
   "metadata": {},
   "outputs": [],
   "source": [
    "# log_sbfs"
   ]
  },
  {
   "cell_type": "code",
   "execution_count": null,
   "id": "12529ff4-e495-4e3b-81eb-a2e7e659dd47",
   "metadata": {},
   "outputs": [],
   "source": [
    "# dfc = printsig(r_log_split)\n",
    "# # dfa = pd.merge(df, dfc, on = 'feature', how = 'left')\n",
    "# dfa = pd.merge(dfa, dfc, on = 'feature', how = 'left')"
   ]
  },
  {
   "cell_type": "code",
   "execution_count": null,
   "id": "3352d6b7-b025-46dd-a011-179439ca4ca5",
   "metadata": {},
   "outputs": [],
   "source": [
    "# dfa.to_csv('/home/yelhe/script/mtp/tables/sigfeatures_try.csv', index = True)"
   ]
  },
  {
   "cell_type": "code",
   "execution_count": null,
   "id": "32a4a23d-2137-45be-bca8-3d3aa86316bc",
   "metadata": {},
   "outputs": [],
   "source": [
    "# df = pd.DataFrame()\n",
    "# cnvifnew = cnvif.copy()\n",
    "# cnvifnew.insert(0, 'const')\n",
    "# print(cnvifnew)\n",
    "# df['feature'] = cnvifnew"
   ]
  }
 ],
 "metadata": {
  "kernelspec": {
   "display_name": "Python 3 (ipykernel)",
   "language": "python",
   "name": "python3"
  },
  "language_info": {
   "codemirror_mode": {
    "name": "ipython",
    "version": 3
   },
   "file_extension": ".py",
   "mimetype": "text/x-python",
   "name": "python",
   "nbconvert_exporter": "python",
   "pygments_lexer": "ipython3",
   "version": "3.11.5"
  }
 },
 "nbformat": 4,
 "nbformat_minor": 5
}
