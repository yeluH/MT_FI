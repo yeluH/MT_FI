{
 "cells": [
  {
   "cell_type": "markdown",
   "id": "eaf477e6-160a-4627-86d7-ec4ef775338f",
   "metadata": {},
   "source": [
    "# Preparation"
   ]
  },
  {
   "cell_type": "code",
   "execution_count": 1,
   "id": "814b498e-0791-4f34-a26a-13e042cbf8ef",
   "metadata": {
    "execution": {
     "iopub.execute_input": "2024-11-22T16:04:55.433054Z",
     "iopub.status.busy": "2024-11-22T16:04:55.432630Z",
     "iopub.status.idle": "2024-11-22T16:04:55.435725Z",
     "shell.execute_reply": "2024-11-22T16:04:55.435151Z",
     "shell.execute_reply.started": "2024-11-22T16:04:55.433029Z"
    }
   },
   "outputs": [],
   "source": [
    "# This file is based on: 5_presence_of_accident_corr for local environment\n",
    "# Correlation, Regression, Feature selection\n",
    "# Random forest classification"
   ]
  },
  {
   "cell_type": "code",
   "execution_count": 2,
   "id": "7e9f75d8-3be9-45ef-b9ae-ad72fefb7ce1",
   "metadata": {
    "execution": {
     "iopub.execute_input": "2024-11-22T16:04:55.437055Z",
     "iopub.status.busy": "2024-11-22T16:04:55.436808Z",
     "iopub.status.idle": "2024-11-22T16:05:00.107614Z",
     "shell.execute_reply": "2024-11-22T16:05:00.106942Z",
     "shell.execute_reply.started": "2024-11-22T16:04:55.437035Z"
    }
   },
   "outputs": [],
   "source": [
    "import torch\n",
    "torch.cuda.empty_cache() "
   ]
  },
  {
   "cell_type": "code",
   "execution_count": 3,
   "id": "f3e5fa71-37bd-4efe-b8ee-ae3c362b2a1b",
   "metadata": {
    "execution": {
     "iopub.execute_input": "2024-11-22T16:05:00.108926Z",
     "iopub.status.busy": "2024-11-22T16:05:00.108547Z",
     "iopub.status.idle": "2024-11-22T16:05:00.769051Z",
     "shell.execute_reply": "2024-11-22T16:05:00.768436Z",
     "shell.execute_reply.started": "2024-11-22T16:05:00.108901Z"
    }
   },
   "outputs": [],
   "source": [
    "import os \n",
    "os.environ['MPLCONFIGDIR'] = os.getcwd() + \"/configs/\"\n",
    "import matplotlib\n",
    "from matplotlib import pyplot as plt\n",
    "import numpy as np\n",
    "import cv2\n",
    "import urllib.request\n",
    "from PIL import Image"
   ]
  },
  {
   "cell_type": "code",
   "execution_count": 4,
   "id": "132db61a-9aa6-4936-8ab4-054288d07d2e",
   "metadata": {
    "execution": {
     "iopub.execute_input": "2024-11-22T16:05:00.771186Z",
     "iopub.status.busy": "2024-11-22T16:05:00.770703Z",
     "iopub.status.idle": "2024-11-22T16:05:01.639594Z",
     "shell.execute_reply": "2024-11-22T16:05:01.639081Z",
     "shell.execute_reply.started": "2024-11-22T16:05:00.771161Z"
    }
   },
   "outputs": [],
   "source": [
    "import pandas as pd\n",
    "import pyproj"
   ]
  },
  {
   "cell_type": "code",
   "execution_count": 5,
   "id": "80d61825-dc8d-4005-9362-cf497e771695",
   "metadata": {
    "execution": {
     "iopub.execute_input": "2024-11-22T16:05:01.642131Z",
     "iopub.status.busy": "2024-11-22T16:05:01.641229Z",
     "iopub.status.idle": "2024-11-22T16:05:01.650231Z",
     "shell.execute_reply": "2024-11-22T16:05:01.649673Z",
     "shell.execute_reply.started": "2024-11-22T16:05:01.642103Z"
    }
   },
   "outputs": [],
   "source": [
    "import os \n",
    "os.environ['MPLCONFIGDIR'] = os.getcwd() + \"/configs/\"\n",
    "import matplotlib\n",
    "from matplotlib import pyplot as plt\n",
    "import numpy as np\n",
    "import cv2"
   ]
  },
  {
   "cell_type": "code",
   "execution_count": 6,
   "id": "31d6a097",
   "metadata": {
    "execution": {
     "iopub.execute_input": "2024-11-22T16:05:01.651334Z",
     "iopub.status.busy": "2024-11-22T16:05:01.651075Z",
     "iopub.status.idle": "2024-11-22T16:05:04.763186Z",
     "shell.execute_reply": "2024-11-22T16:05:04.762541Z",
     "shell.execute_reply.started": "2024-11-22T16:05:01.651313Z"
    }
   },
   "outputs": [],
   "source": [
    "from pathlib import Path\n",
    "import sklearn\n",
    "import seaborn as sn\n",
    "from scipy import stats\n",
    "from tabulate import tabulate\n",
    "import statsmodels.api as sm\n",
    "import statsmodels.tools as tools"
   ]
  },
  {
   "cell_type": "code",
   "execution_count": 7,
   "id": "923fac26-61e2-49dd-9099-e31ff4079430",
   "metadata": {
    "execution": {
     "iopub.execute_input": "2024-11-22T16:05:04.764716Z",
     "iopub.status.busy": "2024-11-22T16:05:04.764335Z",
     "iopub.status.idle": "2024-11-22T16:05:04.845743Z",
     "shell.execute_reply": "2024-11-22T16:05:04.845145Z",
     "shell.execute_reply.started": "2024-11-22T16:05:04.764693Z"
    }
   },
   "outputs": [],
   "source": [
    "from mtp_function_yl import *"
   ]
  },
  {
   "cell_type": "code",
   "execution_count": 8,
   "id": "612e9cb9",
   "metadata": {},
   "outputs": [],
   "source": [
    "# pip install category_encoders"
   ]
  },
  {
   "cell_type": "code",
   "execution_count": 9,
   "id": "e1804d06-b69a-4709-ac5c-1970d29c38a2",
   "metadata": {
    "execution": {
     "iopub.execute_input": "2024-11-22T16:22:04.751633Z",
     "iopub.status.busy": "2024-11-22T16:22:04.751364Z",
     "iopub.status.idle": "2024-11-22T16:22:04.762621Z",
     "shell.execute_reply": "2024-11-22T16:22:04.762006Z",
     "shell.execute_reply.started": "2024-11-22T16:22:04.751612Z"
    }
   },
   "outputs": [],
   "source": [
    "import sklearn\n",
    "from sklearn import metrics\n",
    "from sklearn.metrics import accuracy_score\n",
    "from sklearn.metrics import accuracy_score, confusion_matrix, roc_auc_score, roc_curve\n",
    "from sklearn.model_selection import train_test_split\n",
    "from sklearn import linear_model\n",
    "from sklearn.neighbors import KNeighborsClassifier\n",
    "from sklearn.ensemble import RandomForestClassifier\n",
    "from sklearn.preprocessing import LabelEncoder\n",
    "from sklearn.preprocessing import OneHotEncoder\n",
    "from sklearn.preprocessing import PowerTransformer\n",
    "from sklearn.preprocessing import MinMaxScaler\n",
    "from statsmodels.stats.outliers_influence import variance_inflation_factor\n",
    "import category_encoders as ce\n",
    "from sklearn import svm\n",
    "# For regression\n",
    "from sklearn.ensemble import RandomForestRegressor\n",
    "# from sklearn.metrics import PredictionErrorDisplay\n",
    "import mlxtend\n",
    "# For stepwise feature selection\n",
    "from mlxtend.feature_selection import SequentialFeatureSelector\n",
    "from mlxtend.plotting import plot_sequential_feature_selection as plot_sfs"
   ]
  },
  {
   "cell_type": "code",
   "execution_count": 10,
   "id": "52971dc9",
   "metadata": {
    "execution": {
     "iopub.execute_input": "2024-11-22T16:05:04.907465Z",
     "iopub.status.busy": "2024-11-22T16:05:04.906987Z",
     "iopub.status.idle": "2024-11-22T16:05:04.910441Z",
     "shell.execute_reply": "2024-11-22T16:05:04.909780Z",
     "shell.execute_reply.started": "2024-11-22T16:05:04.907441Z"
    }
   },
   "outputs": [],
   "source": [
    "import warnings\n",
    "warnings.simplefilter(action='ignore', category=FutureWarning)"
   ]
  },
  {
   "cell_type": "code",
   "execution_count": 11,
   "id": "2ab3a45d-22e0-47a8-8683-6379778d16af",
   "metadata": {
    "execution": {
     "iopub.execute_input": "2024-11-22T16:05:04.912552Z",
     "iopub.status.busy": "2024-11-22T16:05:04.912213Z",
     "iopub.status.idle": "2024-11-22T16:05:04.924630Z",
     "shell.execute_reply": "2024-11-22T16:05:04.924015Z",
     "shell.execute_reply.started": "2024-11-22T16:05:04.912535Z"
    }
   },
   "outputs": [],
   "source": [
    "# For documentation and version control\n",
    "# pip install watermark\n",
    "%load_ext watermark"
   ]
  },
  {
   "cell_type": "code",
   "execution_count": 12,
   "id": "2a136dd7-7bc6-41ab-9893-647a65990d75",
   "metadata": {
    "execution": {
     "iopub.execute_input": "2024-11-22T16:05:04.925692Z",
     "iopub.status.busy": "2024-11-22T16:05:04.925509Z",
     "iopub.status.idle": "2024-11-22T16:05:04.953513Z",
     "shell.execute_reply": "2024-11-22T16:05:04.952898Z",
     "shell.execute_reply.started": "2024-11-22T16:05:04.925672Z"
    }
   },
   "outputs": [
    {
     "name": "stdout",
     "output_type": "stream",
     "text": [
      "Last updated: 2025-01-15\n",
      "\n",
      "Python implementation: CPython\n",
      "Python version       : 3.9.7\n",
      "IPython version      : 7.29.0\n",
      "\n",
      "Compiler    : MSC v.1916 64 bit (AMD64)\n",
      "OS          : Windows\n",
      "Release     : 10\n",
      "Machine     : AMD64\n",
      "Processor   : Intel64 Family 6 Model 158 Stepping 10, GenuineIntel\n",
      "CPU cores   : 12\n",
      "Architecture: 64bit\n",
      "\n",
      "sklearn          : 1.5.1\n",
      "seaborn          : 0.11.2\n",
      "pyproj           : 3.3.1\n",
      "shapely          : 1.8.2\n",
      "cv2              : 4.8.1\n",
      "torch            : 2.0.1\n",
      "statsmodels      : 0.14.1\n",
      "mlxtend          : 0.23.1\n",
      "numpy            : 1.25.2\n",
      "category_encoders: 2.6.4\n",
      "pandas           : 1.3.4\n",
      "scipy            : 1.11.3\n",
      "matplotlib       : 3.4.3\n",
      "PIL              : 8.4.0\n",
      "\n"
     ]
    }
   ],
   "source": [
    "%watermark  -u -d -v -m --iversions"
   ]
  },
  {
   "cell_type": "markdown",
   "id": "df1542b0-34ad-4eae-b4c8-7a03d8746e08",
   "metadata": {},
   "source": [
    "# Data Loading and Processing"
   ]
  },
  {
   "cell_type": "markdown",
   "id": "48c888ab-9d8a-44c5-afa5-ba97a7420e4f",
   "metadata": {},
   "source": [
    "## Data loading"
   ]
  },
  {
   "cell_type": "code",
   "execution_count": 13,
   "id": "a78565e8-b2c7-4985-bf0e-2258126c5628",
   "metadata": {
    "execution": {
     "iopub.execute_input": "2024-11-22T16:27:31.424202Z",
     "iopub.status.busy": "2024-11-22T16:27:31.423856Z",
     "iopub.status.idle": "2024-11-22T16:27:31.444807Z",
     "shell.execute_reply": "2024-11-22T16:27:31.444247Z",
     "shell.execute_reply.started": "2024-11-22T16:27:31.424176Z"
    }
   },
   "outputs": [],
   "source": [
    "# For Science Apps\n",
    "# dfacrpv = pd.read_csv('/home/yelhe/script/mtp/redo_model_input/model_acp_transformed_corr.csv')\n",
    "\n",
    "# For local environment \n",
    "dfacrpv = pd.read_csv('../mtp_jan/model_acp_transformed_corr.csv')"
   ]
  },
  {
   "cell_type": "code",
   "execution_count": 14,
   "id": "b22176d3-9b36-47ed-8a4c-3c22653235d1",
   "metadata": {
    "execution": {
     "iopub.execute_input": "2024-11-22T16:27:35.173601Z",
     "iopub.status.busy": "2024-11-22T16:27:35.173200Z",
     "iopub.status.idle": "2024-11-22T16:27:35.177041Z",
     "shell.execute_reply": "2024-11-22T16:27:35.176436Z",
     "shell.execute_reply.started": "2024-11-22T16:27:35.173577Z"
    }
   },
   "outputs": [
    {
     "name": "stdout",
     "output_type": "stream",
     "text": [
      "Index(['Nr', 'cmean', 'cmin', 'csum', 'cmax', 'cp', 'mewmin', 'megmin',\n",
      "       'iemin', 'mewmax', 'megmax', 'iemax', 'mew', 'meg', 'ie', 'dbusl',\n",
      "       'dtraml', 'dtrainl', 'dplight', 'dstation', 'dparkcar', 'dparktw',\n",
      "       'dpedcro', 'dstopsign', 'dtrafficarea', 'droad', 'droad_sl', 'dvfpath',\n",
      "       'gvm_dwv', 'gvm_msp', 'gvm_asp', 'r_width', 'speedlimit',\n",
      "       'bicyclecount', 'carcount', 'z_qnr_1', 'z_qnr_2', 'z_qnr_3', 'z_qnr_4',\n",
      "       'z_qnr_5', 'z_qnr_6', 'z_qnr_7', 'z_qnr_8', 'z_qnr_9', 'z_qnr_10',\n",
      "       'z_qnr_11', 'z_qnr_12', 'z_qnr_13', 'z_qnr_14', 'z_qnr_15', 'z_qnr_16',\n",
      "       'z_qnr_17', 'z_qnr_18', 'z_qnr_19', 'z_qnr_20', 'z_qnr_21', 'z_qnr_22',\n",
      "       'z_qnr_23', 'z_qnr_24', 'z_qnr_25', 'z_qnr_26', 'z_qnr_27', 'z_qnr_28',\n",
      "       'z_qnr_29', 'z_qnr_30', 'z_qnr_31', 'z_qnr_32', 'z_qnr_33', 'z_knr_1',\n",
      "       'z_knr_2', 'z_knr_3', 'z_knr_4', 'z_knr_5', 'z_knr_6', 'z_knr_7',\n",
      "       'z_knr_8', 'z_knr_9', 'z_knr_10', 'z_knr_11', 'trafficarea_1',\n",
      "       'trafficarea_2', 'r_width_1', 'r_width_2', 'r_width_3', 'r_width_4',\n",
      "       'r_width_5', 'r_width_6', 'speedlimit_1', 'speedlimit_2',\n",
      "       'speedlimit_3', 'speedlimit_4', 'speedlimit_5', 'speedlimit_6', 'acp'],\n",
      "      dtype='object')\n"
     ]
    }
   ],
   "source": [
    "print(dfacrpv.columns)"
   ]
  },
  {
   "cell_type": "markdown",
   "id": "b37914e0",
   "metadata": {},
   "source": [
    "## Checking correlation and multicollinearity"
   ]
  },
  {
   "cell_type": "code",
   "execution_count": 224,
   "id": "cc9ed0ff-bd98-4630-b590-0a9e45334e08",
   "metadata": {
    "execution": {
     "iopub.execute_input": "2024-11-22T16:20:55.455572Z",
     "iopub.status.busy": "2024-11-22T16:20:55.455301Z",
     "iopub.status.idle": "2024-11-22T16:20:55.460518Z",
     "shell.execute_reply": "2024-11-22T16:20:55.459856Z",
     "shell.execute_reply.started": "2024-11-22T16:20:55.455551Z"
    }
   },
   "outputs": [],
   "source": [
    "cn = ['cmean', 'cmin', 'csum', 'cmax', 'cp', 'mewmin', 'megmin',\n",
    "       'iemin', 'mewmax', 'megmax', 'iemax', 'mew', 'meg', 'ie', 'dbusl',\n",
    "       'dtraml', 'dtrainl', 'dplight', 'dstation', 'dparkcar', 'dparktw',\n",
    "       'dpedcro', 'dstopsign', 'dtrafficarea', 'droad', 'droad_sl',\n",
    "       'gvm_dwv', 'gvm_msp', 'gvm_asp', 'r_width', 'speedlimit',\n",
    "       'bicyclecount', 'carcount', 'z_qnr_1', 'z_qnr_2', 'z_qnr_3', 'z_qnr_4',\n",
    "       'z_qnr_5', 'z_qnr_6', 'z_qnr_7', 'z_qnr_8', 'z_qnr_9', 'z_qnr_10',\n",
    "       'z_qnr_11', 'z_qnr_12', 'z_qnr_13', 'z_qnr_14', 'z_qnr_15', 'z_qnr_16',\n",
    "       'z_qnr_17', 'z_qnr_18', 'z_qnr_19', 'z_qnr_20', 'z_qnr_21', 'z_qnr_22',\n",
    "       'z_qnr_23', 'z_qnr_24', 'z_qnr_25', 'z_qnr_26', 'z_qnr_27', 'z_qnr_28',\n",
    "       'z_qnr_29', 'z_qnr_30', 'z_qnr_31', 'z_qnr_32', 'z_qnr_33', 'z_knr_1',\n",
    "       'z_knr_2', 'z_knr_3', 'z_knr_4', 'z_knr_5', 'z_knr_6', 'z_knr_7',\n",
    "       'z_knr_8', 'z_knr_9', 'z_knr_10', 'z_knr_11', 'trafficarea_1',\n",
    "       'trafficarea_2', 'r_width_1', 'r_width_2', 'r_width_3', 'r_width_4',\n",
    "       'r_width_5', 'r_width_6', 'speedlimit_1', 'speedlimit_2',\n",
    "       'speedlimit_3', 'speedlimit_4', 'speedlimit_5', 'speedlimit_6']\n",
    "\n",
    "# n_th dummy variables, not-good-resource variable were already removed\n",
    "# Need to remove dvfpath, which is generated from the same data with qseudo points\n",
    "## Which is: dvfpath is 0 for all pseudo points, since the pseudo points were generated as random points distributed on it."
   ]
  },
  {
   "cell_type": "code",
   "execution_count": 225,
   "id": "e1ad5707",
   "metadata": {},
   "outputs": [
    {
     "name": "stdout",
     "output_type": "stream",
     "text": [
      "91\n"
     ]
    }
   ],
   "source": [
    "print(len(cn))"
   ]
  },
  {
   "cell_type": "code",
   "execution_count": 226,
   "id": "4109d708-8764-4204-9bf3-ba199117afdb",
   "metadata": {
    "execution": {
     "iopub.execute_input": "2024-11-22T16:27:40.718327Z",
     "iopub.status.busy": "2024-11-22T16:27:40.717925Z",
     "iopub.status.idle": "2024-11-22T16:27:40.722315Z",
     "shell.execute_reply": "2024-11-22T16:27:40.721634Z",
     "shell.execute_reply.started": "2024-11-22T16:27:40.718302Z"
    }
   },
   "outputs": [],
   "source": [
    "dfi = dfacrpv[cn]"
   ]
  },
  {
   "cell_type": "code",
   "execution_count": 227,
   "id": "481660a8-cddb-44be-98c0-c513901e3ee1",
   "metadata": {
    "execution": {
     "iopub.execute_input": "2024-11-22T16:20:57.484833Z",
     "iopub.status.busy": "2024-11-22T16:20:57.484446Z",
     "iopub.status.idle": "2024-11-22T16:20:57.511827Z",
     "shell.execute_reply": "2024-11-22T16:20:57.511309Z",
     "shell.execute_reply.started": "2024-11-22T16:20:57.484815Z"
    }
   },
   "outputs": [],
   "source": [
    "# Check correlation\n",
    "corr_m = dfi.corr()\n",
    "sorted_corrm = corr_m.unstack().sort_values()\n",
    "upper_corrm = corr_m.where(\n",
    "                np.triu(np.ones(corr_m.shape),k = 1).astype(bool))\n",
    "unique_corrpair = upper_corrm.unstack().dropna()\n",
    "sorted_uni_cp = unique_corrpair.sort_values()\n",
    "dfsucp = sorted_uni_cp.to_frame()"
   ]
  },
  {
   "cell_type": "code",
   "execution_count": 228,
   "id": "9eecfbd7-922f-4e03-83ba-2a12e76d3b63",
   "metadata": {
    "execution": {
     "iopub.execute_input": "2024-11-22T16:21:04.068530Z",
     "iopub.status.busy": "2024-11-22T16:21:04.068063Z",
     "iopub.status.idle": "2024-11-22T16:21:04.087053Z",
     "shell.execute_reply": "2024-11-22T16:21:04.086496Z",
     "shell.execute_reply.started": "2024-11-22T16:21:04.068506Z"
    }
   },
   "outputs": [],
   "source": [
    "# dfsucp.to_csv('/home/yelhe/script/mtp/tables/AfterRedoTransformation/correlation.csv',index = True)"
   ]
  },
  {
   "cell_type": "code",
   "execution_count": 229,
   "id": "953c40e4-8e49-44a7-a682-6cb4d31f96f2",
   "metadata": {
    "execution": {
     "iopub.execute_input": "2024-11-22T16:20:58.269094Z",
     "iopub.status.busy": "2024-11-22T16:20:58.268885Z",
     "iopub.status.idle": "2024-11-22T16:20:58.272375Z",
     "shell.execute_reply": "2024-11-22T16:20:58.271731Z",
     "shell.execute_reply.started": "2024-11-22T16:20:58.269078Z"
    }
   },
   "outputs": [],
   "source": [
    "dfsucp = dfsucp.rename(columns = {0:'corr'})"
   ]
  },
  {
   "cell_type": "code",
   "execution_count": 230,
   "id": "7db0a0e8-e941-49d7-bf1c-fc17b88c6bb5",
   "metadata": {
    "execution": {
     "iopub.execute_input": "2024-11-22T16:20:58.585546Z",
     "iopub.status.busy": "2024-11-22T16:20:58.585134Z",
     "iopub.status.idle": "2024-11-22T16:20:58.589776Z",
     "shell.execute_reply": "2024-11-22T16:20:58.589070Z",
     "shell.execute_reply.started": "2024-11-22T16:20:58.585525Z"
    }
   },
   "outputs": [],
   "source": [
    "dfcorr_high = dfsucp.loc[(dfsucp['corr'] <= -0.8) | (dfsucp['corr'] >= 0.8)]"
   ]
  },
  {
   "cell_type": "code",
   "execution_count": 231,
   "id": "408c03e3-de39-4fb8-a6e6-02b724d61bf9",
   "metadata": {
    "execution": {
     "iopub.execute_input": "2024-11-22T16:20:59.967112Z",
     "iopub.status.busy": "2024-11-22T16:20:59.966459Z",
     "iopub.status.idle": "2024-11-22T16:20:59.973651Z",
     "shell.execute_reply": "2024-11-22T16:20:59.973110Z",
     "shell.execute_reply.started": "2024-11-22T16:20:59.967084Z"
    }
   },
   "outputs": [
    {
     "data": {
      "text/html": [
       "<div>\n",
       "<style scoped>\n",
       "    .dataframe tbody tr th:only-of-type {\n",
       "        vertical-align: middle;\n",
       "    }\n",
       "\n",
       "    .dataframe tbody tr th {\n",
       "        vertical-align: top;\n",
       "    }\n",
       "\n",
       "    .dataframe thead th {\n",
       "        text-align: right;\n",
       "    }\n",
       "</style>\n",
       "<table border=\"1\" class=\"dataframe\">\n",
       "  <thead>\n",
       "    <tr style=\"text-align: right;\">\n",
       "      <th></th>\n",
       "      <th></th>\n",
       "      <th>corr</th>\n",
       "    </tr>\n",
       "  </thead>\n",
       "  <tbody>\n",
       "    <tr>\n",
       "      <th>speedlimit_4</th>\n",
       "      <th>speedlimit</th>\n",
       "      <td>-0.822594</td>\n",
       "    </tr>\n",
       "    <tr>\n",
       "      <th>z_knr_10</th>\n",
       "      <th>z_qnr_15</th>\n",
       "      <td>0.818377</td>\n",
       "    </tr>\n",
       "    <tr>\n",
       "      <th>z_knr_7</th>\n",
       "      <th>z_qnr_8</th>\n",
       "      <td>0.853376</td>\n",
       "    </tr>\n",
       "    <tr>\n",
       "      <th>mew</th>\n",
       "      <th>mewmax</th>\n",
       "      <td>0.853716</td>\n",
       "    </tr>\n",
       "    <tr>\n",
       "      <th>meg</th>\n",
       "      <th>megmin</th>\n",
       "      <td>0.859011</td>\n",
       "    </tr>\n",
       "    <tr>\n",
       "      <th>mew</th>\n",
       "      <th>mewmin</th>\n",
       "      <td>0.872107</td>\n",
       "    </tr>\n",
       "    <tr>\n",
       "      <th>cp</th>\n",
       "      <th>cmean</th>\n",
       "      <td>0.908996</td>\n",
       "    </tr>\n",
       "    <tr>\n",
       "      <th>ie</th>\n",
       "      <th>iemax</th>\n",
       "      <td>0.920179</td>\n",
       "    </tr>\n",
       "    <tr>\n",
       "      <th>cp</th>\n",
       "      <th>csum</th>\n",
       "      <td>0.927290</td>\n",
       "    </tr>\n",
       "    <tr>\n",
       "      <th>droad_sl</th>\n",
       "      <th>droad</th>\n",
       "      <td>0.942433</td>\n",
       "    </tr>\n",
       "    <tr>\n",
       "      <th>cp</th>\n",
       "      <th>cmax</th>\n",
       "      <td>0.943761</td>\n",
       "    </tr>\n",
       "    <tr>\n",
       "      <th>ie</th>\n",
       "      <th>iemin</th>\n",
       "      <td>0.957321</td>\n",
       "    </tr>\n",
       "    <tr>\n",
       "      <th rowspan=\"2\" valign=\"top\">cmax</th>\n",
       "      <th>cmean</th>\n",
       "      <td>0.964090</td>\n",
       "    </tr>\n",
       "    <tr>\n",
       "      <th>csum</th>\n",
       "      <td>0.971382</td>\n",
       "    </tr>\n",
       "    <tr>\n",
       "      <th>gvm_asp</th>\n",
       "      <th>gvm_msp</th>\n",
       "      <td>0.981959</td>\n",
       "    </tr>\n",
       "    <tr>\n",
       "      <th>gvm_msp</th>\n",
       "      <th>gvm_dwv</th>\n",
       "      <td>0.982192</td>\n",
       "    </tr>\n",
       "    <tr>\n",
       "      <th>gvm_asp</th>\n",
       "      <th>gvm_dwv</th>\n",
       "      <td>0.985890</td>\n",
       "    </tr>\n",
       "    <tr>\n",
       "      <th>csum</th>\n",
       "      <th>cmean</th>\n",
       "      <td>0.998845</td>\n",
       "    </tr>\n",
       "  </tbody>\n",
       "</table>\n",
       "</div>"
      ],
      "text/plain": [
       "                             corr\n",
       "speedlimit_4 speedlimit -0.822594\n",
       "z_knr_10     z_qnr_15    0.818377\n",
       "z_knr_7      z_qnr_8     0.853376\n",
       "mew          mewmax      0.853716\n",
       "meg          megmin      0.859011\n",
       "mew          mewmin      0.872107\n",
       "cp           cmean       0.908996\n",
       "ie           iemax       0.920179\n",
       "cp           csum        0.927290\n",
       "droad_sl     droad       0.942433\n",
       "cp           cmax        0.943761\n",
       "ie           iemin       0.957321\n",
       "cmax         cmean       0.964090\n",
       "             csum        0.971382\n",
       "gvm_asp      gvm_msp     0.981959\n",
       "gvm_msp      gvm_dwv     0.982192\n",
       "gvm_asp      gvm_dwv     0.985890\n",
       "csum         cmean       0.998845"
      ]
     },
     "execution_count": 231,
     "metadata": {},
     "output_type": "execute_result"
    }
   ],
   "source": [
    "dfcorr_high"
   ]
  },
  {
   "cell_type": "code",
   "execution_count": 232,
   "id": "ae9aa514-4b9c-4035-8996-305192782fca",
   "metadata": {
    "execution": {
     "iopub.execute_input": "2024-11-22T16:26:16.122583Z",
     "iopub.status.busy": "2024-11-22T16:26:16.122176Z",
     "iopub.status.idle": "2024-11-22T16:26:16.126898Z",
     "shell.execute_reply": "2024-11-22T16:26:16.126263Z",
     "shell.execute_reply.started": "2024-11-22T16:26:16.122559Z"
    }
   },
   "outputs": [],
   "source": [
    "# Need to remove:\n",
    "# speedlimit_4, z_qnr_15, z_qnr_8, mewmax, megmin, mewmin, cmean, iemax, csum, \n",
    "# droad_sl, cmax, iemin, gvm_asp, gvm_msp\n",
    "cnu = ['cp', 'cmin',  \n",
    "       'ie', 'mew', 'meg', 'megmax', 'dbusl',\n",
    "       'dtraml', 'dtrainl', 'dplight', 'dstation', 'dparkcar', 'dparktw',\n",
    "       'dpedcro', 'dstopsign', 'dtrafficarea', 'droad',\n",
    "       'gvm_dwv', 'r_width', 'speedlimit',\n",
    "       'bicyclecount', 'carcount', 'z_qnr_1', 'z_qnr_2', 'z_qnr_3', 'z_qnr_4',\n",
    "       'z_qnr_5', 'z_qnr_6', 'z_qnr_7', 'z_qnr_9', 'z_qnr_10',\n",
    "       'z_qnr_11', 'z_qnr_12', 'z_qnr_13', 'z_qnr_14', 'z_qnr_16',\n",
    "       'z_qnr_17', 'z_qnr_18', 'z_qnr_19', 'z_qnr_20', 'z_qnr_21', 'z_qnr_22',\n",
    "       'z_qnr_23', 'z_qnr_24', 'z_qnr_25', 'z_qnr_26', 'z_qnr_27', 'z_qnr_28',\n",
    "       'z_qnr_29', 'z_qnr_30', 'z_qnr_31', 'z_qnr_32', 'z_qnr_33', 'z_knr_1',\n",
    "       'z_knr_2', 'z_knr_3', 'z_knr_4', 'z_knr_5', 'z_knr_6', 'z_knr_7',\n",
    "       'z_knr_8', 'z_knr_9', 'z_knr_10', 'z_knr_11', 'trafficarea_1',\n",
    "       'trafficarea_2', 'r_width_1', 'r_width_2', 'r_width_3', 'r_width_4',\n",
    "       'r_width_5', 'r_width_6', 'speedlimit_1', 'speedlimit_2',\n",
    "       'speedlimit_3', 'speedlimit_5', 'speedlimit_6']\n"
   ]
  },
  {
   "cell_type": "code",
   "execution_count": 233,
   "id": "1c27635b-b3ae-4487-bffb-8c178cfb18ae",
   "metadata": {
    "execution": {
     "iopub.execute_input": "2024-11-22T16:31:41.489549Z",
     "iopub.status.busy": "2024-11-22T16:31:41.489259Z",
     "iopub.status.idle": "2024-11-22T16:31:42.331376Z",
     "shell.execute_reply": "2024-11-22T16:31:42.330470Z",
     "shell.execute_reply.started": "2024-11-22T16:31:41.489529Z"
    }
   },
   "outputs": [
    {
     "name": "stderr",
     "output_type": "stream",
     "text": [
      "E:\\Anaconda\\Anaconda_file\\lib\\site-packages\\statsmodels\\regression\\linear_model.py:1782: RuntimeWarning: divide by zero encountered in scalar divide\n",
      "  return 1 - self.ssr/self.centered_tss\n",
      "E:\\Anaconda\\Anaconda_file\\lib\\site-packages\\statsmodels\\stats\\outliers_influence.py:198: RuntimeWarning: divide by zero encountered in scalar divide\n",
      "  vif = 1. / (1. - r_squared_i)\n"
     ]
    },
    {
     "name": "stdout",
     "output_type": "stream",
     "text": [
      "         feature        VIF\n",
      "0          const   0.000000\n",
      "1             cp   1.253093\n",
      "2           cmin   1.079378\n",
      "3             ie   1.202268\n",
      "4            mew   1.354945\n",
      "..           ...        ...\n",
      "73  speedlimit_1  15.776524\n",
      "74  speedlimit_2   2.002177\n",
      "75  speedlimit_3   8.385828\n",
      "76  speedlimit_5   2.325398\n",
      "77  speedlimit_6   2.034892\n",
      "\n",
      "[78 rows x 2 columns]\n",
      "['const', 'cp', 'cmin', 'ie', 'mew', 'meg', 'megmax', 'dbusl', 'dtraml', 'dtrainl', 'dplight', 'dstation', 'dparkcar', 'dparktw', 'dpedcro', 'dstopsign', 'dtrafficarea', 'droad', 'gvm_dwv', 'bicyclecount', 'carcount', 'z_qnr_25', 'z_qnr_28', 'trafficarea_1', 'trafficarea_2', 'speedlimit_2', 'speedlimit_5', 'speedlimit_6'] 28\n"
     ]
    }
   ],
   "source": [
    "# calculating VIF for each feature\n",
    "X = dfacrpv[cnu]\n",
    "X = tools.add_constant(X)\n",
    "dfcnu_vif = pd.DataFrame()\n",
    "dfcnu_vif[\"feature\"] = X.columns\n",
    "dfcnu_vif[\"VIF\"] = [variance_inflation_factor(X.values, i)\n",
    "                          for i in range(len(X.columns))]\n",
    "\n",
    "print(dfcnu_vif)\n",
    "viflow = dfcnu_vif.loc[dfcnu_vif['VIF'] <= 5]\n",
    "vifl = viflow['feature'].tolist()\n",
    "print(vifl, len(vifl))"
   ]
  },
  {
   "cell_type": "code",
   "execution_count": 25,
   "id": "ca94c8a2-dc40-48cc-878b-7e0ef6658928",
   "metadata": {
    "execution": {
     "iopub.execute_input": "2024-11-22T16:26:16.380746Z",
     "iopub.status.busy": "2024-11-22T16:26:16.380430Z",
     "iopub.status.idle": "2024-11-22T16:26:16.383387Z",
     "shell.execute_reply": "2024-11-22T16:26:16.382690Z",
     "shell.execute_reply.started": "2024-11-22T16:26:16.380727Z"
    }
   },
   "outputs": [],
   "source": [
    "# Above using pairwise correlation"
   ]
  },
  {
   "cell_type": "code",
   "execution_count": 234,
   "id": "bd4621a4-6bf6-430e-8b2b-3d39d34a297b",
   "metadata": {
    "execution": {
     "iopub.execute_input": "2024-11-22T16:26:16.739189Z",
     "iopub.status.busy": "2024-11-22T16:26:16.738930Z",
     "iopub.status.idle": "2024-11-22T16:26:16.743195Z",
     "shell.execute_reply": "2024-11-22T16:26:16.742504Z",
     "shell.execute_reply.started": "2024-11-22T16:26:16.739171Z"
    }
   },
   "outputs": [],
   "source": [
    "# Following using VIF for multicollinearity\n",
    "cnforvif = ['cp', 'cmin',  \n",
    "       'ie', 'mew', 'meg', 'megmax', 'dbusl',\n",
    "       'dtraml', 'dtrainl', 'dplight', 'dstation', 'dparkcar', 'dparktw',\n",
    "       'dpedcro', 'dstopsign', 'dtrafficarea', 'droad',\n",
    "       'gvm_dwv', 'r_width', 'speedlimit',\n",
    "       'bicyclecount', 'carcount', 'z_qnr_1', 'z_qnr_2', 'z_qnr_3', 'z_qnr_4',\n",
    "       'z_qnr_5', 'z_qnr_6', 'z_qnr_7', 'z_qnr_9', 'z_qnr_10',\n",
    "       'z_qnr_11', 'z_qnr_12', 'z_qnr_13', 'z_qnr_14', 'z_qnr_16',\n",
    "       'z_qnr_17', 'z_qnr_18', 'z_qnr_19', 'z_qnr_20', 'z_qnr_21', 'z_qnr_22',\n",
    "       'z_qnr_23', 'z_qnr_24', 'z_qnr_25', 'z_qnr_26', 'z_qnr_27', 'z_qnr_28',\n",
    "       'z_qnr_29', 'z_qnr_30', 'z_qnr_31', 'z_qnr_32', 'z_qnr_33', 'z_knr_1',\n",
    "       'z_knr_2', 'z_knr_3', 'z_knr_4', 'z_knr_5', 'z_knr_6', 'z_knr_7',\n",
    "       'z_knr_8', 'z_knr_9', 'z_knr_10', 'z_knr_11', 'trafficarea_1',\n",
    "       'trafficarea_2', 'r_width_1', 'r_width_2', 'r_width_3', 'r_width_4',\n",
    "       'r_width_5', 'r_width_6', 'speedlimit_1', 'speedlimit_2',\n",
    "       'speedlimit_3', 'speedlimit_5', 'speedlimit_6']"
   ]
  },
  {
   "cell_type": "code",
   "execution_count": 235,
   "id": "a43f09f1-fb0d-4b26-bb0d-cf0ae4fae876",
   "metadata": {
    "execution": {
     "iopub.execute_input": "2024-11-22T16:26:17.314993Z",
     "iopub.status.busy": "2024-11-22T16:26:17.314737Z",
     "iopub.status.idle": "2024-11-22T16:26:17.318224Z",
     "shell.execute_reply": "2024-11-22T16:26:17.317491Z",
     "shell.execute_reply.started": "2024-11-22T16:26:17.314976Z"
    }
   },
   "outputs": [
    {
     "name": "stdout",
     "output_type": "stream",
     "text": [
      "77 77\n"
     ]
    }
   ],
   "source": [
    "print(len(cnu), len(cnforvif))"
   ]
  },
  {
   "cell_type": "code",
   "execution_count": 257,
   "id": "09482d57-4776-4d65-8ffc-4e7a29d9f35f",
   "metadata": {
    "execution": {
     "iopub.execute_input": "2024-11-22T16:48:34.720215Z",
     "iopub.status.busy": "2024-11-22T16:48:34.719877Z",
     "iopub.status.idle": "2024-11-22T16:48:35.236481Z",
     "shell.execute_reply": "2024-11-22T16:48:35.235314Z",
     "shell.execute_reply.started": "2024-11-22T16:48:34.720191Z"
    }
   },
   "outputs": [
    {
     "name": "stdout",
     "output_type": "stream",
     "text": [
      "         feature        VIF\n",
      "2           cmin   1.077604\n",
      "3             ie   1.170543\n",
      "59  speedlimit_5   1.199438\n",
      "35      z_qnr_22   1.214720\n",
      "53     r_width_3   1.217752\n",
      "..           ...        ...\n",
      "16  dtrafficarea   2.821565\n",
      "47       z_knr_9   2.870266\n",
      "49      z_knr_11   3.787517\n",
      "44       z_knr_2   3.964978\n",
      "0          const  62.561304\n",
      "\n",
      "[61 rows x 2 columns]\n"
     ]
    }
   ],
   "source": [
    "# calculating VIF for each feature\n",
    "\n",
    "# Remove 'z_qnr_18', 'z_qnr_19', 'z_qnr_29', 'z_qnr_30',  'z_qnr_16', 'z_qnr_5',  'z_qnr_20', 'z_qnr_27', 'z_qnr_10',\n",
    "# Remove 'z_knr_8', 'speedlimit_1', 'z_knr_1', 'z_knr_5', 'r_width_2', 'z_knr_6','z_knr_4',\n",
    "\n",
    "cntry0 = ['cp', 'cmin',\n",
    "       'ie', 'mew', 'meg', 'megmax', 'dbusl',\n",
    "       'dtraml', 'dtrainl', 'dplight', 'dstation', 'dparkcar', 'dparktw',\n",
    "       'dpedcro', 'dstopsign', 'dtrafficarea', 'droad',\n",
    "       'gvm_dwv',  'speedlimit',\n",
    "       'bicyclecount', 'carcount', 'z_qnr_1', 'z_qnr_2', 'z_qnr_3', 'z_qnr_4',\n",
    "        'z_qnr_6', 'z_qnr_7', 'z_qnr_9',\n",
    "       'z_qnr_11', 'z_qnr_12', 'z_qnr_13', 'z_qnr_14',\n",
    "       'z_qnr_17',  'z_qnr_21', 'z_qnr_22',\n",
    "       'z_qnr_23', 'z_qnr_24', 'z_qnr_25', 'z_qnr_26', 'z_qnr_28',\n",
    "         'z_qnr_31', 'z_qnr_32', 'z_qnr_33',\n",
    "       'z_knr_2', 'z_knr_3',  'z_knr_7',\n",
    "        'z_knr_9', 'z_knr_10', 'z_knr_11', 'trafficarea_1',\n",
    "       'trafficarea_2', 'r_width_1',  'r_width_3', 'r_width_4',\n",
    "       'r_width_5', 'r_width_6', 'speedlimit_2',\n",
    "       'speedlimit_3', 'speedlimit_5', 'speedlimit_6']\n",
    "X = dfacrpv[cntry0]\n",
    "X = tools.add_constant(X)\n",
    "dfcnu_vif1 = pd.DataFrame()\n",
    "dfcnu_vif1[\"feature\"] = X.columns\n",
    "dfcnu_vif1[\"VIF\"] = [variance_inflation_factor(X.values, i)\n",
    "                          for i in range(len(X.columns))]\n",
    "\n",
    "print(dfcnu_vif1.sort_values(by = ['VIF']))"
   ]
  },
  {
   "cell_type": "code",
   "execution_count": 258,
   "id": "881a0eb1",
   "metadata": {},
   "outputs": [
    {
     "name": "stdout",
     "output_type": "stream",
     "text": [
      "['cp', 'cmin', 'ie', 'mew', 'meg', 'megmax', 'dbusl', 'dtraml', 'dtrainl', 'dplight', 'dstation', 'dparkcar', 'dparktw', 'dpedcro', 'dstopsign', 'dtrafficarea', 'droad', 'gvm_dwv', 'speedlimit', 'bicyclecount', 'carcount', 'z_qnr_1', 'z_qnr_2', 'z_qnr_3', 'z_qnr_4', 'z_qnr_6', 'z_qnr_7', 'z_qnr_9', 'z_qnr_11', 'z_qnr_12', 'z_qnr_13', 'z_qnr_14', 'z_qnr_17', 'z_qnr_21', 'z_qnr_22', 'z_qnr_23', 'z_qnr_24', 'z_qnr_25', 'z_qnr_26', 'z_qnr_28', 'z_qnr_31', 'z_qnr_32', 'z_qnr_33', 'z_knr_2', 'z_knr_3', 'z_knr_7', 'z_knr_9', 'z_knr_10', 'z_knr_11', 'trafficarea_1', 'trafficarea_2', 'r_width_1', 'r_width_3', 'r_width_4', 'r_width_5', 'r_width_6', 'speedlimit_2', 'speedlimit_3', 'speedlimit_5', 'speedlimit_6'] 60\n"
     ]
    }
   ],
   "source": [
    "print(cntry0,len(cntry0))"
   ]
  },
  {
   "cell_type": "code",
   "execution_count": 259,
   "id": "8c4e58a6-99e3-4609-b04f-e9743a6d2f98",
   "metadata": {
    "execution": {
     "iopub.execute_input": "2024-11-22T17:14:43.619081Z",
     "iopub.status.busy": "2024-11-22T17:14:43.618619Z",
     "iopub.status.idle": "2024-11-22T17:14:43.695173Z",
     "shell.execute_reply": "2024-11-22T17:14:43.694348Z",
     "shell.execute_reply.started": "2024-11-22T17:14:43.619056Z"
    }
   },
   "outputs": [],
   "source": [
    "# # calculating VIF for each feature\n",
    "\n",
    "\n",
    "# cntry1 = ['cp', 'cmin', \n",
    "#        'ie', 'mew', 'meg', 'megmax', 'dbusl',\n",
    "#        'dtraml', 'dtrainl', 'dplight', 'dstation', 'dparkcar', 'dparktw',\n",
    "#        'dpedcro', 'dstopsign', 'dtrafficarea', 'droad', \n",
    "#        'gvm_dwv', 'r_width', 'speedlimit',\n",
    "#        'bicyclecount', 'carcount']\n",
    "# X = dfacrpv[cntry1]\n",
    "# X = tools.add_constant(X)\n",
    "# dfcnu_vif2 = pd.DataFrame()\n",
    "# dfcnu_vif2[\"feature\"] = X.columns\n",
    "# dfcnu_vif2[\"VIF\"] = [variance_inflation_factor(X.values, i)\n",
    "#                           for i in range(len(X.columns))]\n",
    "\n",
    "# print(dfcnu_vif2.sort_values(by = ['VIF']))"
   ]
  },
  {
   "cell_type": "code",
   "execution_count": 260,
   "id": "274f709b-7640-4281-ba2d-7e8c92c0765a",
   "metadata": {
    "execution": {
     "iopub.execute_input": "2024-11-22T17:14:49.236849Z",
     "iopub.status.busy": "2024-11-22T17:14:49.236462Z",
     "iopub.status.idle": "2024-11-22T17:14:49.241077Z",
     "shell.execute_reply": "2024-11-22T17:14:49.240465Z",
     "shell.execute_reply.started": "2024-11-22T17:14:49.236829Z"
    }
   },
   "outputs": [
    {
     "name": "stdout",
     "output_type": "stream",
     "text": [
      "['cp', 'cmin', 'ie', 'mew', 'meg', 'megmax', 'dbusl', 'dtraml', 'dtrainl', 'dplight', 'dstation', 'dparkcar', 'dparktw', 'dpedcro', 'dstopsign', 'dtrafficarea', 'droad', 'gvm_dwv', 'speedlimit', 'bicyclecount', 'carcount', 'z_qnr_1', 'z_qnr_2', 'z_qnr_3', 'z_qnr_4', 'z_qnr_6', 'z_qnr_7', 'z_qnr_9', 'z_qnr_11', 'z_qnr_12', 'z_qnr_13', 'z_qnr_14', 'z_qnr_17', 'z_qnr_21', 'z_qnr_22', 'z_qnr_23', 'z_qnr_24', 'z_qnr_25', 'z_qnr_26', 'z_qnr_28', 'z_qnr_31', 'z_qnr_32', 'z_qnr_33', 'z_knr_2', 'z_knr_3', 'z_knr_7', 'z_knr_9', 'z_knr_10', 'z_knr_11', 'trafficarea_1', 'trafficarea_2', 'r_width_1', 'r_width_3', 'r_width_4', 'r_width_5', 'r_width_6', 'speedlimit_2', 'speedlimit_3', 'speedlimit_5', 'speedlimit_6'] 60\n"
     ]
    }
   ],
   "source": [
    "cn_vif = dfcnu_vif1['feature'].tolist()\n",
    "cn_vif.remove('const')\n",
    "print(cn_vif, len(cn_vif))"
   ]
  },
  {
   "cell_type": "code",
   "execution_count": 261,
   "id": "fc56996e-bf9f-4449-8105-707ba15842af",
   "metadata": {
    "execution": {
     "iopub.execute_input": "2024-11-22T17:14:49.735924Z",
     "iopub.status.busy": "2024-11-22T17:14:49.735707Z",
     "iopub.status.idle": "2024-11-22T17:14:49.738794Z",
     "shell.execute_reply": "2024-11-22T17:14:49.738174Z",
     "shell.execute_reply.started": "2024-11-22T17:14:49.735909Z"
    }
   },
   "outputs": [],
   "source": [
    "cnvif = cn_vif"
   ]
  },
  {
   "cell_type": "code",
   "execution_count": 262,
   "id": "7ec8c8df",
   "metadata": {},
   "outputs": [],
   "source": [
    "# Write cnvif into a text file\n",
    "with open('cn_filtered.txt', 'w') as f:\n",
    "    for line in cnvif:\n",
    "        f.write(f\"{line}\\n\")"
   ]
  },
  {
   "cell_type": "code",
   "execution_count": 45,
   "id": "b04a53f3-e331-43c9-b39f-25cd5ef736a8",
   "metadata": {
    "execution": {
     "iopub.execute_input": "2024-11-22T17:14:50.181094Z",
     "iopub.status.busy": "2024-11-22T17:14:50.180832Z",
     "iopub.status.idle": "2024-11-22T17:14:50.183852Z",
     "shell.execute_reply": "2024-11-22T17:14:50.183220Z",
     "shell.execute_reply.started": "2024-11-22T17:14:50.181077Z"
    }
   },
   "outputs": [],
   "source": [
    "# dfcnu_vif1.to_csv('/home/yelhe/script/mtp/tables/AfterRedoTransformation/dfcnu_VIF.csv', index = False)"
   ]
  },
  {
   "cell_type": "code",
   "execution_count": 363,
   "id": "525ab66a",
   "metadata": {},
   "outputs": [],
   "source": [
    "# Another set cnvifnew = cnvif + 'cmean'\n",
    "cnvifnew = ['cp', 'cmin','cmean',\n",
    "            'ie', 'mew', 'meg', 'megmax', 'dbusl', 'dtraml', 'dtrainl', \n",
    "            'dplight', 'dstation', 'dparkcar', 'dparktw', 'dpedcro',\n",
    "            'dstopsign', 'dtrafficarea', 'droad', 'gvm_dwv', 'speedlimit',\n",
    "            'bicyclecount', 'carcount', 'z_qnr_1', 'z_qnr_2', 'z_qnr_3', \n",
    "            'z_qnr_4', 'z_qnr_6', 'z_qnr_7', 'z_qnr_9', 'z_qnr_11', 'z_qnr_12',\n",
    "            'z_qnr_13', 'z_qnr_14', 'z_qnr_17', 'z_qnr_21', 'z_qnr_22',\n",
    "            'z_qnr_23', 'z_qnr_24', 'z_qnr_25', 'z_qnr_26', 'z_qnr_28',\n",
    "            'z_qnr_31', 'z_qnr_32', 'z_qnr_33', 'z_knr_2', 'z_knr_3',\n",
    "            'z_knr_7', 'z_knr_9', 'z_knr_10', 'z_knr_11', 'trafficarea_1', \n",
    "            'trafficarea_2', 'r_width_1', 'r_width_3', 'r_width_4', \n",
    "            'r_width_5', 'r_width_6', 'speedlimit_2', 'speedlimit_3', \n",
    "            'speedlimit_5', 'speedlimit_6']"
   ]
  },
  {
   "cell_type": "code",
   "execution_count": 301,
   "id": "a437d2d2-e217-4836-9972-38388c03004d",
   "metadata": {
    "execution": {
     "iopub.execute_input": "2024-11-22T17:14:50.560964Z",
     "iopub.status.busy": "2024-11-22T17:14:50.560544Z",
     "iopub.status.idle": "2024-11-22T17:14:50.565248Z",
     "shell.execute_reply": "2024-11-22T17:14:50.564652Z",
     "shell.execute_reply.started": "2024-11-22T17:14:50.560937Z"
    }
   },
   "outputs": [],
   "source": [
    "y = dfacrpv['acp']\n",
    "# x = dfacrpv[cnu]\n",
    "x = dfacrpv[cnvif] \n",
    "# Add 'cmean'\n",
    "# x = dfacrpv[cnvifnew] "
   ]
  },
  {
   "cell_type": "code",
   "execution_count": 302,
   "id": "28eecb43-f397-43ab-b387-d3a35f76c392",
   "metadata": {
    "execution": {
     "iopub.execute_input": "2024-11-22T17:14:52.359131Z",
     "iopub.status.busy": "2024-11-22T17:14:52.358742Z",
     "iopub.status.idle": "2024-11-22T17:14:52.363383Z",
     "shell.execute_reply": "2024-11-22T17:14:52.362763Z",
     "shell.execute_reply.started": "2024-11-22T17:14:52.359110Z"
    }
   },
   "outputs": [
    {
     "data": {
      "text/plain": [
       "(1087, 60)"
      ]
     },
     "execution_count": 302,
     "metadata": {},
     "output_type": "execute_result"
    }
   ],
   "source": [
    "# y.shape\n",
    "x.shape\n",
    "# 1087 points with 78 features in total"
   ]
  },
  {
   "cell_type": "code",
   "execution_count": 49,
   "id": "2224d34e-5876-4737-b12e-441766d23a37",
   "metadata": {
    "execution": {
     "iopub.execute_input": "2024-11-22T16:54:23.661712Z",
     "iopub.status.busy": "2024-11-22T16:54:23.661457Z",
     "iopub.status.idle": "2024-11-22T16:54:23.665975Z",
     "shell.execute_reply": "2024-11-22T16:54:23.665395Z",
     "shell.execute_reply.started": "2024-11-22T16:54:23.661696Z"
    }
   },
   "outputs": [],
   "source": [
    "# cnvif1 = ['cp', 'cmin', 'cmean',\n",
    "#           'ie', 'mew', 'meg', 'megmax', 'dbusl', 'dtraml', 'dtrainl', 'dplight',\n",
    "#           'dstation', 'dparkcar', 'dparktw', 'dpedcro', 'dstopsign', 'dtrafficarea',\n",
    "#           'droad', 'gvm_dwv', 'r_width', 'speedlimit', 'bicyclecount',\n",
    "#           'carcount', 'z_qnr_1', 'z_qnr_7', 'z_qnr_9', 'z_qnr_10', 'z_qnr_11',\n",
    "#           'z_qnr_12', 'z_qnr_13', 'z_qnr_14', 'z_qnr_16', 'z_qnr_17', 'z_qnr_18',\n",
    "#           'z_qnr_19', 'z_qnr_20', 'z_qnr_21', 'z_qnr_22', 'z_qnr_23', 'z_qnr_24',\n",
    "#           'z_qnr_25', 'z_qnr_26', 'z_qnr_27', 'z_qnr_28', 'z_qnr_29', 'z_qnr_30',\n",
    "#           'z_qnr_31', 'z_qnr_32', 'z_knr_2', 'z_knr_3', 'z_knr_5', 'z_knr_7',\n",
    "#           'z_knr_10', 'trafficarea_1', 'trafficarea_2', 'r_width_1', 'r_width_2',\n",
    "#           'r_width_4', 'r_width_6', 'speedlimit_2', 'speedlimit_3', 'speedlimit_5',\n",
    "#           'speedlimit_6']"
   ]
  },
  {
   "cell_type": "code",
   "execution_count": 294,
   "id": "99474a0a",
   "metadata": {},
   "outputs": [
    {
     "name": "stdout",
     "output_type": "stream",
     "text": [
      "         feature        VIF\n",
      "1           cmin   1.077201\n",
      "63  speedlimit_5   1.187706\n",
      "2             cp   1.218951\n",
      "57     r_width_3   1.222679\n",
      "12       dplight   1.242447\n",
      "..           ...        ...\n",
      "49       z_knr_4   3.131769\n",
      "52       z_knr_9   3.266171\n",
      "48       z_knr_3   3.424206\n",
      "50       z_knr_5   4.800016\n",
      "0          const  71.161222\n",
      "\n",
      "[64 rows x 2 columns]\n"
     ]
    }
   ],
   "source": [
    "# Filtering only with VIF (just to check if the filtered result is the same)\n",
    "# calculating VIF for each feature\n",
    "# Remove 'speedlimit_6','z_qnr_23','z_qnr_11','z_qnr_26', 'z_qnr_10','r_width','z_knr_2', 'z_qnr_15','z_qnr_9', 'z_qnr_20',\n",
    "# Remove 'z_qnr_8', 'z_knr_11','z_qnr_3', 'csum', 'speedlimit_4', 'gvm_asp', 'gvm_msp',  'ie','cmax', 'mew','z_knr_8',\n",
    "# Remove 'z_knr_1','meg',  'droad_sl', 'speedlimit_1', 'r_width_2', 'z_knr_6','cmean',\n",
    "\n",
    "\n",
    "cntryn = [ 'cmin', 'cp', 'mewmin', 'megmin',\n",
    "       'iemin', 'mewmax', 'megmax', 'iemax', 'dbusl',\n",
    "       'dtraml', 'dtrainl', 'dplight', 'dstation', 'dparkcar', 'dparktw',\n",
    "       'dpedcro', 'dstopsign', 'dtrafficarea', 'droad',\n",
    "       'gvm_dwv', 'speedlimit',\n",
    "       'bicyclecount', 'carcount', 'z_qnr_1', 'z_qnr_2', 'z_qnr_4',\n",
    "       'z_qnr_5', 'z_qnr_6', 'z_qnr_7', \n",
    "        'z_qnr_12', 'z_qnr_13', 'z_qnr_14', 'z_qnr_16',\n",
    "       'z_qnr_17', 'z_qnr_18', 'z_qnr_19',  'z_qnr_21', 'z_qnr_22',\n",
    "        'z_qnr_24', 'z_qnr_25', 'z_qnr_27', 'z_qnr_28',\n",
    "       'z_qnr_29', 'z_qnr_30', 'z_qnr_31', 'z_qnr_32', 'z_qnr_33',\n",
    "        'z_knr_3', 'z_knr_4', 'z_knr_5', 'z_knr_7',\n",
    "        'z_knr_9', 'z_knr_10', 'trafficarea_1',\n",
    "       'trafficarea_2', 'r_width_1', 'r_width_3', 'r_width_4',\n",
    "       'r_width_5', 'r_width_6', 'speedlimit_2',\n",
    "       'speedlimit_3',  'speedlimit_5']\n",
    "X = dfacrpv[cntryn]\n",
    "X = tools.add_constant(X)\n",
    "dfcnu_vif3 = pd.DataFrame()\n",
    "dfcnu_vif3[\"feature\"] = X.columns\n",
    "dfcnu_vif3[\"VIF\"] = [variance_inflation_factor(X.values, i)\n",
    "                          for i in range(len(X.columns))]\n",
    "\n",
    "print(dfcnu_vif3.sort_values(by = ['VIF']))"
   ]
  },
  {
   "cell_type": "code",
   "execution_count": 295,
   "id": "e4433f74",
   "metadata": {},
   "outputs": [
    {
     "name": "stdout",
     "output_type": "stream",
     "text": [
      "['cmin', 'cp', 'mewmin', 'megmin', 'iemin', 'mewmax', 'megmax', 'iemax', 'dbusl', 'dtraml', 'dtrainl', 'dplight', 'dstation', 'dparkcar', 'dparktw', 'dpedcro', 'dstopsign', 'dtrafficarea', 'droad', 'gvm_dwv', 'speedlimit', 'bicyclecount', 'carcount', 'z_qnr_1', 'z_qnr_2', 'z_qnr_4', 'z_qnr_5', 'z_qnr_6', 'z_qnr_7', 'z_qnr_12', 'z_qnr_13', 'z_qnr_14', 'z_qnr_16', 'z_qnr_17', 'z_qnr_18', 'z_qnr_19', 'z_qnr_21', 'z_qnr_22', 'z_qnr_24', 'z_qnr_25', 'z_qnr_27', 'z_qnr_28', 'z_qnr_29', 'z_qnr_30', 'z_qnr_31', 'z_qnr_32', 'z_qnr_33', 'z_knr_3', 'z_knr_4', 'z_knr_5', 'z_knr_7', 'z_knr_9', 'z_knr_10', 'trafficarea_1', 'trafficarea_2', 'r_width_1', 'r_width_3', 'r_width_4', 'r_width_5', 'r_width_6', 'speedlimit_2', 'speedlimit_3', 'speedlimit_5'] 63\n"
     ]
    }
   ],
   "source": [
    "print(cntryn, len(cntryn))"
   ]
  },
  {
   "cell_type": "code",
   "execution_count": 296,
   "id": "3447117a",
   "metadata": {},
   "outputs": [
    {
     "name": "stdout",
     "output_type": "stream",
     "text": [
      "['cp', 'cmin', 'ie', 'mew', 'meg', 'megmax', 'dbusl', 'dtraml', 'dtrainl', 'dplight', 'dstation', 'dparkcar', 'dparktw', 'dpedcro', 'dstopsign', 'dtrafficarea', 'droad', 'gvm_dwv', 'speedlimit', 'bicyclecount', 'carcount', 'z_qnr_1', 'z_qnr_2', 'z_qnr_3', 'z_qnr_4', 'z_qnr_6', 'z_qnr_7', 'z_qnr_9', 'z_qnr_11', 'z_qnr_12', 'z_qnr_13', 'z_qnr_14', 'z_qnr_17', 'z_qnr_21', 'z_qnr_22', 'z_qnr_23', 'z_qnr_24', 'z_qnr_25', 'z_qnr_26', 'z_qnr_28', 'z_qnr_31', 'z_qnr_32', 'z_qnr_33', 'z_knr_2', 'z_knr_3', 'z_knr_7', 'z_knr_9', 'z_knr_10', 'z_knr_11', 'trafficarea_1', 'trafficarea_2', 'r_width_1', 'r_width_3', 'r_width_4', 'r_width_5', 'r_width_6', 'speedlimit_2', 'speedlimit_3', 'speedlimit_5', 'speedlimit_6'] 60\n"
     ]
    }
   ],
   "source": [
    "print(cnvif, len(cnvif))"
   ]
  },
  {
   "cell_type": "markdown",
   "id": "525e59ee-c2f3-4f1b-9e22-813cd303b195",
   "metadata": {},
   "source": [
    "# Orginal regression model without feature selection"
   ]
  },
  {
   "cell_type": "code",
   "execution_count": 179,
   "id": "0377006c-6262-4f67-b40f-660eaa87d821",
   "metadata": {
    "execution": {
     "iopub.execute_input": "2024-11-22T17:14:54.811978Z",
     "iopub.status.busy": "2024-11-22T17:14:54.811559Z",
     "iopub.status.idle": "2024-11-22T17:14:54.814751Z",
     "shell.execute_reply": "2024-11-22T17:14:54.814099Z",
     "shell.execute_reply.started": "2024-11-22T17:14:54.811951Z"
    }
   },
   "outputs": [],
   "source": [
    "# Using updated features collection (63)"
   ]
  },
  {
   "cell_type": "code",
   "execution_count": 175,
   "id": "8a83b745-3b29-4118-8799-a075cf5c93f1",
   "metadata": {
    "execution": {
     "iopub.execute_input": "2024-11-22T17:14:55.095875Z",
     "iopub.status.busy": "2024-11-22T17:14:55.095594Z",
     "iopub.status.idle": "2024-11-22T17:14:55.098624Z",
     "shell.execute_reply": "2024-11-22T17:14:55.098002Z",
     "shell.execute_reply.started": "2024-11-22T17:14:55.095853Z"
    }
   },
   "outputs": [],
   "source": [
    "# # Only with curb-related variables\n",
    "# xcp = dfacrpv[['cmean','cp', 'cmin', 'cmax', 'csum']]\n",
    "# x_const = tools.add_constant(xcp)\n",
    "# # m00_c = sm.OLS(y, x_const)\n",
    "# # r00_c = m00_c.fit()\n",
    "# # r00_c.summary()\n",
    "\n",
    "# m00_log_c = sm.Logit(y,x_const, max_iter = 400)\n",
    "# r00_log_c = m00_log_c.fit_regularized()\n",
    "# r00_log_c.summary()"
   ]
  },
  {
   "cell_type": "markdown",
   "id": "fd34e8c7-0c3c-4a4f-a35d-5d18ed66a119",
   "metadata": {},
   "source": [
    "## OLS linear regression"
   ]
  },
  {
   "cell_type": "markdown",
   "id": "026b9cd3-7bf5-44f2-b261-aea309174a6a",
   "metadata": {},
   "source": [
    "### Without data splitting"
   ]
  },
  {
   "cell_type": "code",
   "execution_count": 303,
   "id": "8f7ab772-b399-4126-bf22-5a0d9d01b012",
   "metadata": {
    "execution": {
     "iopub.execute_input": "2024-11-22T17:14:56.272064Z",
     "iopub.status.busy": "2024-11-22T17:14:56.271762Z",
     "iopub.status.idle": "2024-11-22T17:14:56.373611Z",
     "shell.execute_reply": "2024-11-22T17:14:56.372785Z",
     "shell.execute_reply.started": "2024-11-22T17:14:56.272041Z"
    }
   },
   "outputs": [
    {
     "data": {
      "text/html": [
       "<table class=\"simpletable\">\n",
       "<caption>OLS Regression Results</caption>\n",
       "<tr>\n",
       "  <th>Dep. Variable:</th>           <td>acp</td>       <th>  R-squared:         </th> <td>   0.590</td> \n",
       "</tr>\n",
       "<tr>\n",
       "  <th>Model:</th>                   <td>OLS</td>       <th>  Adj. R-squared:    </th> <td>   0.566</td> \n",
       "</tr>\n",
       "<tr>\n",
       "  <th>Method:</th>             <td>Least Squares</td>  <th>  F-statistic:       </th> <td>   24.58</td> \n",
       "</tr>\n",
       "<tr>\n",
       "  <th>Date:</th>             <td>Wed, 15 Jan 2025</td> <th>  Prob (F-statistic):</th> <td>7.56e-158</td>\n",
       "</tr>\n",
       "<tr>\n",
       "  <th>Time:</th>                 <td>16:13:41</td>     <th>  Log-Likelihood:    </th> <td> -177.24</td> \n",
       "</tr>\n",
       "<tr>\n",
       "  <th>No. Observations:</th>      <td>  1087</td>      <th>  AIC:               </th> <td>   476.5</td> \n",
       "</tr>\n",
       "<tr>\n",
       "  <th>Df Residuals:</th>          <td>  1026</td>      <th>  BIC:               </th> <td>   780.9</td> \n",
       "</tr>\n",
       "<tr>\n",
       "  <th>Df Model:</th>              <td>    60</td>      <th>                     </th>     <td> </td>    \n",
       "</tr>\n",
       "<tr>\n",
       "  <th>Covariance Type:</th>      <td>nonrobust</td>    <th>                     </th>     <td> </td>    \n",
       "</tr>\n",
       "</table>\n",
       "<table class=\"simpletable\">\n",
       "<tr>\n",
       "        <td></td>           <th>coef</th>     <th>std err</th>      <th>t</th>      <th>P>|t|</th>  <th>[0.025</th>    <th>0.975]</th>  \n",
       "</tr>\n",
       "<tr>\n",
       "  <th>const</th>         <td>    0.4320</td> <td>    0.070</td> <td>    6.142</td> <td> 0.000</td> <td>    0.294</td> <td>    0.570</td>\n",
       "</tr>\n",
       "<tr>\n",
       "  <th>cp</th>            <td>   -0.0344</td> <td>    0.010</td> <td>   -3.448</td> <td> 0.001</td> <td>   -0.054</td> <td>   -0.015</td>\n",
       "</tr>\n",
       "<tr>\n",
       "  <th>cmin</th>          <td>   -0.0305</td> <td>    0.042</td> <td>   -0.718</td> <td> 0.473</td> <td>   -0.114</td> <td>    0.053</td>\n",
       "</tr>\n",
       "<tr>\n",
       "  <th>ie</th>            <td>   -0.0265</td> <td>    0.022</td> <td>   -1.219</td> <td> 0.223</td> <td>   -0.069</td> <td>    0.016</td>\n",
       "</tr>\n",
       "<tr>\n",
       "  <th>mew</th>           <td>    0.2660</td> <td>    0.034</td> <td>    7.825</td> <td> 0.000</td> <td>    0.199</td> <td>    0.333</td>\n",
       "</tr>\n",
       "<tr>\n",
       "  <th>meg</th>           <td>   -0.0007</td> <td>    0.041</td> <td>   -0.017</td> <td> 0.987</td> <td>   -0.082</td> <td>    0.080</td>\n",
       "</tr>\n",
       "<tr>\n",
       "  <th>megmax</th>        <td>   -0.0090</td> <td>    0.040</td> <td>   -0.225</td> <td> 0.822</td> <td>   -0.087</td> <td>    0.069</td>\n",
       "</tr>\n",
       "<tr>\n",
       "  <th>dbusl</th>         <td>    0.0007</td> <td>    0.024</td> <td>    0.028</td> <td> 0.978</td> <td>   -0.046</td> <td>    0.047</td>\n",
       "</tr>\n",
       "<tr>\n",
       "  <th>dtraml</th>        <td>   -0.0470</td> <td>    0.027</td> <td>   -1.732</td> <td> 0.084</td> <td>   -0.100</td> <td>    0.006</td>\n",
       "</tr>\n",
       "<tr>\n",
       "  <th>dtrainl</th>       <td>   -0.0116</td> <td>    0.031</td> <td>   -0.371</td> <td> 0.710</td> <td>   -0.073</td> <td>    0.050</td>\n",
       "</tr>\n",
       "<tr>\n",
       "  <th>dplight</th>       <td>    0.0040</td> <td>    0.038</td> <td>    0.103</td> <td> 0.918</td> <td>   -0.071</td> <td>    0.079</td>\n",
       "</tr>\n",
       "<tr>\n",
       "  <th>dstation</th>      <td>   -0.0492</td> <td>    0.042</td> <td>   -1.174</td> <td> 0.241</td> <td>   -0.131</td> <td>    0.033</td>\n",
       "</tr>\n",
       "<tr>\n",
       "  <th>dparkcar</th>      <td>    0.0253</td> <td>    0.031</td> <td>    0.819</td> <td> 0.413</td> <td>   -0.035</td> <td>    0.086</td>\n",
       "</tr>\n",
       "<tr>\n",
       "  <th>dparktw</th>       <td>   -0.0297</td> <td>    0.034</td> <td>   -0.868</td> <td> 0.385</td> <td>   -0.097</td> <td>    0.037</td>\n",
       "</tr>\n",
       "<tr>\n",
       "  <th>dpedcro</th>       <td>   -0.0733</td> <td>    0.034</td> <td>   -2.132</td> <td> 0.033</td> <td>   -0.141</td> <td>   -0.006</td>\n",
       "</tr>\n",
       "<tr>\n",
       "  <th>dstopsign</th>     <td>    0.0256</td> <td>    0.038</td> <td>    0.666</td> <td> 0.506</td> <td>   -0.050</td> <td>    0.101</td>\n",
       "</tr>\n",
       "<tr>\n",
       "  <th>dtrafficarea</th>  <td>   -0.0501</td> <td>    0.022</td> <td>   -2.279</td> <td> 0.023</td> <td>   -0.093</td> <td>   -0.007</td>\n",
       "</tr>\n",
       "<tr>\n",
       "  <th>droad</th>         <td>    0.2579</td> <td>    0.015</td> <td>   17.665</td> <td> 0.000</td> <td>    0.229</td> <td>    0.287</td>\n",
       "</tr>\n",
       "<tr>\n",
       "  <th>gvm_dwv</th>       <td>    0.0035</td> <td>    0.029</td> <td>    0.122</td> <td> 0.903</td> <td>   -0.053</td> <td>    0.059</td>\n",
       "</tr>\n",
       "<tr>\n",
       "  <th>speedlimit</th>    <td>   -0.0375</td> <td>    0.029</td> <td>   -1.283</td> <td> 0.200</td> <td>   -0.095</td> <td>    0.020</td>\n",
       "</tr>\n",
       "<tr>\n",
       "  <th>bicyclecount</th>  <td>    0.3026</td> <td>    0.021</td> <td>   14.682</td> <td> 0.000</td> <td>    0.262</td> <td>    0.343</td>\n",
       "</tr>\n",
       "<tr>\n",
       "  <th>carcount</th>      <td>   -0.0093</td> <td>    0.030</td> <td>   -0.308</td> <td> 0.758</td> <td>   -0.068</td> <td>    0.050</td>\n",
       "</tr>\n",
       "<tr>\n",
       "  <th>z_qnr_1</th>       <td>    0.0953</td> <td>    0.069</td> <td>    1.378</td> <td> 0.169</td> <td>   -0.040</td> <td>    0.231</td>\n",
       "</tr>\n",
       "<tr>\n",
       "  <th>z_qnr_2</th>       <td>   -0.0633</td> <td>    0.081</td> <td>   -0.781</td> <td> 0.435</td> <td>   -0.222</td> <td>    0.096</td>\n",
       "</tr>\n",
       "<tr>\n",
       "  <th>z_qnr_3</th>       <td>    0.0294</td> <td>    0.087</td> <td>    0.338</td> <td> 0.735</td> <td>   -0.141</td> <td>    0.200</td>\n",
       "</tr>\n",
       "<tr>\n",
       "  <th>z_qnr_4</th>       <td>    0.0527</td> <td>    0.067</td> <td>    0.788</td> <td> 0.431</td> <td>   -0.079</td> <td>    0.184</td>\n",
       "</tr>\n",
       "<tr>\n",
       "  <th>z_qnr_6</th>       <td>    0.1167</td> <td>    0.053</td> <td>    2.222</td> <td> 0.026</td> <td>    0.014</td> <td>    0.220</td>\n",
       "</tr>\n",
       "<tr>\n",
       "  <th>z_qnr_7</th>       <td>   -0.1886</td> <td>    0.060</td> <td>   -3.131</td> <td> 0.002</td> <td>   -0.307</td> <td>   -0.070</td>\n",
       "</tr>\n",
       "<tr>\n",
       "  <th>z_qnr_9</th>       <td>    0.0355</td> <td>    0.063</td> <td>    0.568</td> <td> 0.570</td> <td>   -0.087</td> <td>    0.158</td>\n",
       "</tr>\n",
       "<tr>\n",
       "  <th>z_qnr_11</th>      <td>   -0.2033</td> <td>    0.063</td> <td>   -3.210</td> <td> 0.001</td> <td>   -0.328</td> <td>   -0.079</td>\n",
       "</tr>\n",
       "<tr>\n",
       "  <th>z_qnr_12</th>      <td>    0.0476</td> <td>    0.049</td> <td>    0.969</td> <td> 0.333</td> <td>   -0.049</td> <td>    0.144</td>\n",
       "</tr>\n",
       "<tr>\n",
       "  <th>z_qnr_13</th>      <td>    0.2204</td> <td>    0.065</td> <td>    3.367</td> <td> 0.001</td> <td>    0.092</td> <td>    0.349</td>\n",
       "</tr>\n",
       "<tr>\n",
       "  <th>z_qnr_14</th>      <td>   -0.0269</td> <td>    0.103</td> <td>   -0.261</td> <td> 0.794</td> <td>   -0.229</td> <td>    0.175</td>\n",
       "</tr>\n",
       "<tr>\n",
       "  <th>z_qnr_17</th>      <td>    0.1256</td> <td>    0.060</td> <td>    2.085</td> <td> 0.037</td> <td>    0.007</td> <td>    0.244</td>\n",
       "</tr>\n",
       "<tr>\n",
       "  <th>z_qnr_21</th>      <td>    0.1302</td> <td>    0.070</td> <td>    1.870</td> <td> 0.062</td> <td>   -0.006</td> <td>    0.267</td>\n",
       "</tr>\n",
       "<tr>\n",
       "  <th>z_qnr_22</th>      <td>   -0.2226</td> <td>    0.084</td> <td>   -2.649</td> <td> 0.008</td> <td>   -0.387</td> <td>   -0.058</td>\n",
       "</tr>\n",
       "<tr>\n",
       "  <th>z_qnr_23</th>      <td>   -0.0612</td> <td>    0.064</td> <td>   -0.956</td> <td> 0.339</td> <td>   -0.187</td> <td>    0.064</td>\n",
       "</tr>\n",
       "<tr>\n",
       "  <th>z_qnr_24</th>      <td>    0.0479</td> <td>    0.057</td> <td>    0.845</td> <td> 0.398</td> <td>   -0.063</td> <td>    0.159</td>\n",
       "</tr>\n",
       "<tr>\n",
       "  <th>z_qnr_25</th>      <td>   -0.0469</td> <td>    0.066</td> <td>   -0.714</td> <td> 0.475</td> <td>   -0.176</td> <td>    0.082</td>\n",
       "</tr>\n",
       "<tr>\n",
       "  <th>z_qnr_26</th>      <td>   -0.2509</td> <td>    0.076</td> <td>   -3.288</td> <td> 0.001</td> <td>   -0.401</td> <td>   -0.101</td>\n",
       "</tr>\n",
       "<tr>\n",
       "  <th>z_qnr_28</th>      <td>   -0.0113</td> <td>    0.076</td> <td>   -0.149</td> <td> 0.882</td> <td>   -0.160</td> <td>    0.137</td>\n",
       "</tr>\n",
       "<tr>\n",
       "  <th>z_qnr_31</th>      <td>   -0.1080</td> <td>    0.083</td> <td>   -1.297</td> <td> 0.195</td> <td>   -0.271</td> <td>    0.055</td>\n",
       "</tr>\n",
       "<tr>\n",
       "  <th>z_qnr_32</th>      <td>   -0.1596</td> <td>    0.073</td> <td>   -2.174</td> <td> 0.030</td> <td>   -0.304</td> <td>   -0.016</td>\n",
       "</tr>\n",
       "<tr>\n",
       "  <th>z_qnr_33</th>      <td>   -0.0649</td> <td>    0.119</td> <td>   -0.544</td> <td> 0.586</td> <td>   -0.299</td> <td>    0.169</td>\n",
       "</tr>\n",
       "<tr>\n",
       "  <th>z_knr_2</th>       <td>   -0.0499</td> <td>    0.065</td> <td>   -0.769</td> <td> 0.442</td> <td>   -0.177</td> <td>    0.077</td>\n",
       "</tr>\n",
       "<tr>\n",
       "  <th>z_knr_3</th>       <td>    0.0873</td> <td>    0.066</td> <td>    1.329</td> <td> 0.184</td> <td>   -0.042</td> <td>    0.216</td>\n",
       "</tr>\n",
       "<tr>\n",
       "  <th>z_knr_7</th>       <td>   -0.0102</td> <td>    0.043</td> <td>   -0.238</td> <td> 0.812</td> <td>   -0.094</td> <td>    0.073</td>\n",
       "</tr>\n",
       "<tr>\n",
       "  <th>z_knr_9</th>       <td>   -0.1407</td> <td>    0.076</td> <td>   -1.840</td> <td> 0.066</td> <td>   -0.291</td> <td>    0.009</td>\n",
       "</tr>\n",
       "<tr>\n",
       "  <th>z_knr_10</th>      <td>   -0.2568</td> <td>    0.052</td> <td>   -4.940</td> <td> 0.000</td> <td>   -0.359</td> <td>   -0.155</td>\n",
       "</tr>\n",
       "<tr>\n",
       "  <th>z_knr_11</th>      <td>   -0.1040</td> <td>    0.049</td> <td>   -2.118</td> <td> 0.034</td> <td>   -0.200</td> <td>   -0.008</td>\n",
       "</tr>\n",
       "<tr>\n",
       "  <th>trafficarea_1</th> <td>    0.0572</td> <td>    0.065</td> <td>    0.880</td> <td> 0.379</td> <td>   -0.070</td> <td>    0.185</td>\n",
       "</tr>\n",
       "<tr>\n",
       "  <th>trafficarea_2</th> <td>   -0.0596</td> <td>    0.043</td> <td>   -1.371</td> <td> 0.171</td> <td>   -0.145</td> <td>    0.026</td>\n",
       "</tr>\n",
       "<tr>\n",
       "  <th>r_width_1</th>     <td>    0.0157</td> <td>    0.037</td> <td>    0.428</td> <td> 0.668</td> <td>   -0.056</td> <td>    0.087</td>\n",
       "</tr>\n",
       "<tr>\n",
       "  <th>r_width_3</th>     <td>    0.0121</td> <td>    0.036</td> <td>    0.332</td> <td> 0.740</td> <td>   -0.059</td> <td>    0.083</td>\n",
       "</tr>\n",
       "<tr>\n",
       "  <th>r_width_4</th>     <td>   -0.0128</td> <td>    0.028</td> <td>   -0.458</td> <td> 0.647</td> <td>   -0.068</td> <td>    0.042</td>\n",
       "</tr>\n",
       "<tr>\n",
       "  <th>r_width_5</th>     <td>    0.0046</td> <td>    0.028</td> <td>    0.165</td> <td> 0.869</td> <td>   -0.051</td> <td>    0.060</td>\n",
       "</tr>\n",
       "<tr>\n",
       "  <th>r_width_6</th>     <td>   -0.0342</td> <td>    0.045</td> <td>   -0.764</td> <td> 0.445</td> <td>   -0.122</td> <td>    0.054</td>\n",
       "</tr>\n",
       "<tr>\n",
       "  <th>speedlimit_2</th>  <td>   -0.1029</td> <td>    0.069</td> <td>   -1.489</td> <td> 0.137</td> <td>   -0.239</td> <td>    0.033</td>\n",
       "</tr>\n",
       "<tr>\n",
       "  <th>speedlimit_3</th>  <td>   -0.0010</td> <td>    0.028</td> <td>   -0.038</td> <td> 0.970</td> <td>   -0.055</td> <td>    0.053</td>\n",
       "</tr>\n",
       "<tr>\n",
       "  <th>speedlimit_5</th>  <td>   -0.0871</td> <td>    0.078</td> <td>   -1.109</td> <td> 0.268</td> <td>   -0.241</td> <td>    0.067</td>\n",
       "</tr>\n",
       "<tr>\n",
       "  <th>speedlimit_6</th>  <td>   -0.0641</td> <td>    0.125</td> <td>   -0.514</td> <td> 0.608</td> <td>   -0.309</td> <td>    0.181</td>\n",
       "</tr>\n",
       "</table>\n",
       "<table class=\"simpletable\">\n",
       "<tr>\n",
       "  <th>Omnibus:</th>       <td> 5.368</td> <th>  Durbin-Watson:     </th> <td>   0.988</td>\n",
       "</tr>\n",
       "<tr>\n",
       "  <th>Prob(Omnibus):</th> <td> 0.068</td> <th>  Jarque-Bera (JB):  </th> <td>   5.258</td>\n",
       "</tr>\n",
       "<tr>\n",
       "  <th>Skew:</th>          <td>-0.166</td> <th>  Prob(JB):          </th> <td>  0.0721</td>\n",
       "</tr>\n",
       "<tr>\n",
       "  <th>Kurtosis:</th>      <td> 3.078</td> <th>  Cond. No.          </th> <td>    31.9</td>\n",
       "</tr>\n",
       "</table><br/><br/>Notes:<br/>[1] Standard Errors assume that the covariance matrix of the errors is correctly specified."
      ],
      "text/latex": [
       "\\begin{center}\n",
       "\\begin{tabular}{lclc}\n",
       "\\toprule\n",
       "\\textbf{Dep. Variable:}    &       acp        & \\textbf{  R-squared:         } &     0.590   \\\\\n",
       "\\textbf{Model:}            &       OLS        & \\textbf{  Adj. R-squared:    } &     0.566   \\\\\n",
       "\\textbf{Method:}           &  Least Squares   & \\textbf{  F-statistic:       } &     24.58   \\\\\n",
       "\\textbf{Date:}             & Wed, 15 Jan 2025 & \\textbf{  Prob (F-statistic):} & 7.56e-158   \\\\\n",
       "\\textbf{Time:}             &     16:13:41     & \\textbf{  Log-Likelihood:    } &   -177.24   \\\\\n",
       "\\textbf{No. Observations:} &        1087      & \\textbf{  AIC:               } &     476.5   \\\\\n",
       "\\textbf{Df Residuals:}     &        1026      & \\textbf{  BIC:               } &     780.9   \\\\\n",
       "\\textbf{Df Model:}         &          60      & \\textbf{                     } &             \\\\\n",
       "\\textbf{Covariance Type:}  &    nonrobust     & \\textbf{                     } &             \\\\\n",
       "\\bottomrule\n",
       "\\end{tabular}\n",
       "\\begin{tabular}{lcccccc}\n",
       "                        & \\textbf{coef} & \\textbf{std err} & \\textbf{t} & \\textbf{P$> |$t$|$} & \\textbf{[0.025} & \\textbf{0.975]}  \\\\\n",
       "\\midrule\n",
       "\\textbf{const}          &       0.4320  &        0.070     &     6.142  &         0.000        &        0.294    &        0.570     \\\\\n",
       "\\textbf{cp}             &      -0.0344  &        0.010     &    -3.448  &         0.001        &       -0.054    &       -0.015     \\\\\n",
       "\\textbf{cmin}           &      -0.0305  &        0.042     &    -0.718  &         0.473        &       -0.114    &        0.053     \\\\\n",
       "\\textbf{ie}             &      -0.0265  &        0.022     &    -1.219  &         0.223        &       -0.069    &        0.016     \\\\\n",
       "\\textbf{mew}            &       0.2660  &        0.034     &     7.825  &         0.000        &        0.199    &        0.333     \\\\\n",
       "\\textbf{meg}            &      -0.0007  &        0.041     &    -0.017  &         0.987        &       -0.082    &        0.080     \\\\\n",
       "\\textbf{megmax}         &      -0.0090  &        0.040     &    -0.225  &         0.822        &       -0.087    &        0.069     \\\\\n",
       "\\textbf{dbusl}          &       0.0007  &        0.024     &     0.028  &         0.978        &       -0.046    &        0.047     \\\\\n",
       "\\textbf{dtraml}         &      -0.0470  &        0.027     &    -1.732  &         0.084        &       -0.100    &        0.006     \\\\\n",
       "\\textbf{dtrainl}        &      -0.0116  &        0.031     &    -0.371  &         0.710        &       -0.073    &        0.050     \\\\\n",
       "\\textbf{dplight}        &       0.0040  &        0.038     &     0.103  &         0.918        &       -0.071    &        0.079     \\\\\n",
       "\\textbf{dstation}       &      -0.0492  &        0.042     &    -1.174  &         0.241        &       -0.131    &        0.033     \\\\\n",
       "\\textbf{dparkcar}       &       0.0253  &        0.031     &     0.819  &         0.413        &       -0.035    &        0.086     \\\\\n",
       "\\textbf{dparktw}        &      -0.0297  &        0.034     &    -0.868  &         0.385        &       -0.097    &        0.037     \\\\\n",
       "\\textbf{dpedcro}        &      -0.0733  &        0.034     &    -2.132  &         0.033        &       -0.141    &       -0.006     \\\\\n",
       "\\textbf{dstopsign}      &       0.0256  &        0.038     &     0.666  &         0.506        &       -0.050    &        0.101     \\\\\n",
       "\\textbf{dtrafficarea}   &      -0.0501  &        0.022     &    -2.279  &         0.023        &       -0.093    &       -0.007     \\\\\n",
       "\\textbf{droad}          &       0.2579  &        0.015     &    17.665  &         0.000        &        0.229    &        0.287     \\\\\n",
       "\\textbf{gvm\\_dwv}       &       0.0035  &        0.029     &     0.122  &         0.903        &       -0.053    &        0.059     \\\\\n",
       "\\textbf{speedlimit}     &      -0.0375  &        0.029     &    -1.283  &         0.200        &       -0.095    &        0.020     \\\\\n",
       "\\textbf{bicyclecount}   &       0.3026  &        0.021     &    14.682  &         0.000        &        0.262    &        0.343     \\\\\n",
       "\\textbf{carcount}       &      -0.0093  &        0.030     &    -0.308  &         0.758        &       -0.068    &        0.050     \\\\\n",
       "\\textbf{z\\_qnr\\_1}      &       0.0953  &        0.069     &     1.378  &         0.169        &       -0.040    &        0.231     \\\\\n",
       "\\textbf{z\\_qnr\\_2}      &      -0.0633  &        0.081     &    -0.781  &         0.435        &       -0.222    &        0.096     \\\\\n",
       "\\textbf{z\\_qnr\\_3}      &       0.0294  &        0.087     &     0.338  &         0.735        &       -0.141    &        0.200     \\\\\n",
       "\\textbf{z\\_qnr\\_4}      &       0.0527  &        0.067     &     0.788  &         0.431        &       -0.079    &        0.184     \\\\\n",
       "\\textbf{z\\_qnr\\_6}      &       0.1167  &        0.053     &     2.222  &         0.026        &        0.014    &        0.220     \\\\\n",
       "\\textbf{z\\_qnr\\_7}      &      -0.1886  &        0.060     &    -3.131  &         0.002        &       -0.307    &       -0.070     \\\\\n",
       "\\textbf{z\\_qnr\\_9}      &       0.0355  &        0.063     &     0.568  &         0.570        &       -0.087    &        0.158     \\\\\n",
       "\\textbf{z\\_qnr\\_11}     &      -0.2033  &        0.063     &    -3.210  &         0.001        &       -0.328    &       -0.079     \\\\\n",
       "\\textbf{z\\_qnr\\_12}     &       0.0476  &        0.049     &     0.969  &         0.333        &       -0.049    &        0.144     \\\\\n",
       "\\textbf{z\\_qnr\\_13}     &       0.2204  &        0.065     &     3.367  &         0.001        &        0.092    &        0.349     \\\\\n",
       "\\textbf{z\\_qnr\\_14}     &      -0.0269  &        0.103     &    -0.261  &         0.794        &       -0.229    &        0.175     \\\\\n",
       "\\textbf{z\\_qnr\\_17}     &       0.1256  &        0.060     &     2.085  &         0.037        &        0.007    &        0.244     \\\\\n",
       "\\textbf{z\\_qnr\\_21}     &       0.1302  &        0.070     &     1.870  &         0.062        &       -0.006    &        0.267     \\\\\n",
       "\\textbf{z\\_qnr\\_22}     &      -0.2226  &        0.084     &    -2.649  &         0.008        &       -0.387    &       -0.058     \\\\\n",
       "\\textbf{z\\_qnr\\_23}     &      -0.0612  &        0.064     &    -0.956  &         0.339        &       -0.187    &        0.064     \\\\\n",
       "\\textbf{z\\_qnr\\_24}     &       0.0479  &        0.057     &     0.845  &         0.398        &       -0.063    &        0.159     \\\\\n",
       "\\textbf{z\\_qnr\\_25}     &      -0.0469  &        0.066     &    -0.714  &         0.475        &       -0.176    &        0.082     \\\\\n",
       "\\textbf{z\\_qnr\\_26}     &      -0.2509  &        0.076     &    -3.288  &         0.001        &       -0.401    &       -0.101     \\\\\n",
       "\\textbf{z\\_qnr\\_28}     &      -0.0113  &        0.076     &    -0.149  &         0.882        &       -0.160    &        0.137     \\\\\n",
       "\\textbf{z\\_qnr\\_31}     &      -0.1080  &        0.083     &    -1.297  &         0.195        &       -0.271    &        0.055     \\\\\n",
       "\\textbf{z\\_qnr\\_32}     &      -0.1596  &        0.073     &    -2.174  &         0.030        &       -0.304    &       -0.016     \\\\\n",
       "\\textbf{z\\_qnr\\_33}     &      -0.0649  &        0.119     &    -0.544  &         0.586        &       -0.299    &        0.169     \\\\\n",
       "\\textbf{z\\_knr\\_2}      &      -0.0499  &        0.065     &    -0.769  &         0.442        &       -0.177    &        0.077     \\\\\n",
       "\\textbf{z\\_knr\\_3}      &       0.0873  &        0.066     &     1.329  &         0.184        &       -0.042    &        0.216     \\\\\n",
       "\\textbf{z\\_knr\\_7}      &      -0.0102  &        0.043     &    -0.238  &         0.812        &       -0.094    &        0.073     \\\\\n",
       "\\textbf{z\\_knr\\_9}      &      -0.1407  &        0.076     &    -1.840  &         0.066        &       -0.291    &        0.009     \\\\\n",
       "\\textbf{z\\_knr\\_10}     &      -0.2568  &        0.052     &    -4.940  &         0.000        &       -0.359    &       -0.155     \\\\\n",
       "\\textbf{z\\_knr\\_11}     &      -0.1040  &        0.049     &    -2.118  &         0.034        &       -0.200    &       -0.008     \\\\\n",
       "\\textbf{trafficarea\\_1} &       0.0572  &        0.065     &     0.880  &         0.379        &       -0.070    &        0.185     \\\\\n",
       "\\textbf{trafficarea\\_2} &      -0.0596  &        0.043     &    -1.371  &         0.171        &       -0.145    &        0.026     \\\\\n",
       "\\textbf{r\\_width\\_1}    &       0.0157  &        0.037     &     0.428  &         0.668        &       -0.056    &        0.087     \\\\\n",
       "\\textbf{r\\_width\\_3}    &       0.0121  &        0.036     &     0.332  &         0.740        &       -0.059    &        0.083     \\\\\n",
       "\\textbf{r\\_width\\_4}    &      -0.0128  &        0.028     &    -0.458  &         0.647        &       -0.068    &        0.042     \\\\\n",
       "\\textbf{r\\_width\\_5}    &       0.0046  &        0.028     &     0.165  &         0.869        &       -0.051    &        0.060     \\\\\n",
       "\\textbf{r\\_width\\_6}    &      -0.0342  &        0.045     &    -0.764  &         0.445        &       -0.122    &        0.054     \\\\\n",
       "\\textbf{speedlimit\\_2}  &      -0.1029  &        0.069     &    -1.489  &         0.137        &       -0.239    &        0.033     \\\\\n",
       "\\textbf{speedlimit\\_3}  &      -0.0010  &        0.028     &    -0.038  &         0.970        &       -0.055    &        0.053     \\\\\n",
       "\\textbf{speedlimit\\_5}  &      -0.0871  &        0.078     &    -1.109  &         0.268        &       -0.241    &        0.067     \\\\\n",
       "\\textbf{speedlimit\\_6}  &      -0.0641  &        0.125     &    -0.514  &         0.608        &       -0.309    &        0.181     \\\\\n",
       "\\bottomrule\n",
       "\\end{tabular}\n",
       "\\begin{tabular}{lclc}\n",
       "\\textbf{Omnibus:}       &  5.368 & \\textbf{  Durbin-Watson:     } &    0.988  \\\\\n",
       "\\textbf{Prob(Omnibus):} &  0.068 & \\textbf{  Jarque-Bera (JB):  } &    5.258  \\\\\n",
       "\\textbf{Skew:}          & -0.166 & \\textbf{  Prob(JB):          } &   0.0721  \\\\\n",
       "\\textbf{Kurtosis:}      &  3.078 & \\textbf{  Cond. No.          } &     31.9  \\\\\n",
       "\\bottomrule\n",
       "\\end{tabular}\n",
       "%\\caption{OLS Regression Results}\n",
       "\\end{center}\n",
       "\n",
       "Notes: \\newline\n",
       " [1] Standard Errors assume that the covariance matrix of the errors is correctly specified."
      ],
      "text/plain": [
       "<class 'statsmodels.iolib.summary.Summary'>\n",
       "\"\"\"\n",
       "                            OLS Regression Results                            \n",
       "==============================================================================\n",
       "Dep. Variable:                    acp   R-squared:                       0.590\n",
       "Model:                            OLS   Adj. R-squared:                  0.566\n",
       "Method:                 Least Squares   F-statistic:                     24.58\n",
       "Date:                Wed, 15 Jan 2025   Prob (F-statistic):          7.56e-158\n",
       "Time:                        16:13:41   Log-Likelihood:                -177.24\n",
       "No. Observations:                1087   AIC:                             476.5\n",
       "Df Residuals:                    1026   BIC:                             780.9\n",
       "Df Model:                          60                                         \n",
       "Covariance Type:            nonrobust                                         \n",
       "=================================================================================\n",
       "                    coef    std err          t      P>|t|      [0.025      0.975]\n",
       "---------------------------------------------------------------------------------\n",
       "const             0.4320      0.070      6.142      0.000       0.294       0.570\n",
       "cp               -0.0344      0.010     -3.448      0.001      -0.054      -0.015\n",
       "cmin             -0.0305      0.042     -0.718      0.473      -0.114       0.053\n",
       "ie               -0.0265      0.022     -1.219      0.223      -0.069       0.016\n",
       "mew               0.2660      0.034      7.825      0.000       0.199       0.333\n",
       "meg              -0.0007      0.041     -0.017      0.987      -0.082       0.080\n",
       "megmax           -0.0090      0.040     -0.225      0.822      -0.087       0.069\n",
       "dbusl             0.0007      0.024      0.028      0.978      -0.046       0.047\n",
       "dtraml           -0.0470      0.027     -1.732      0.084      -0.100       0.006\n",
       "dtrainl          -0.0116      0.031     -0.371      0.710      -0.073       0.050\n",
       "dplight           0.0040      0.038      0.103      0.918      -0.071       0.079\n",
       "dstation         -0.0492      0.042     -1.174      0.241      -0.131       0.033\n",
       "dparkcar          0.0253      0.031      0.819      0.413      -0.035       0.086\n",
       "dparktw          -0.0297      0.034     -0.868      0.385      -0.097       0.037\n",
       "dpedcro          -0.0733      0.034     -2.132      0.033      -0.141      -0.006\n",
       "dstopsign         0.0256      0.038      0.666      0.506      -0.050       0.101\n",
       "dtrafficarea     -0.0501      0.022     -2.279      0.023      -0.093      -0.007\n",
       "droad             0.2579      0.015     17.665      0.000       0.229       0.287\n",
       "gvm_dwv           0.0035      0.029      0.122      0.903      -0.053       0.059\n",
       "speedlimit       -0.0375      0.029     -1.283      0.200      -0.095       0.020\n",
       "bicyclecount      0.3026      0.021     14.682      0.000       0.262       0.343\n",
       "carcount         -0.0093      0.030     -0.308      0.758      -0.068       0.050\n",
       "z_qnr_1           0.0953      0.069      1.378      0.169      -0.040       0.231\n",
       "z_qnr_2          -0.0633      0.081     -0.781      0.435      -0.222       0.096\n",
       "z_qnr_3           0.0294      0.087      0.338      0.735      -0.141       0.200\n",
       "z_qnr_4           0.0527      0.067      0.788      0.431      -0.079       0.184\n",
       "z_qnr_6           0.1167      0.053      2.222      0.026       0.014       0.220\n",
       "z_qnr_7          -0.1886      0.060     -3.131      0.002      -0.307      -0.070\n",
       "z_qnr_9           0.0355      0.063      0.568      0.570      -0.087       0.158\n",
       "z_qnr_11         -0.2033      0.063     -3.210      0.001      -0.328      -0.079\n",
       "z_qnr_12          0.0476      0.049      0.969      0.333      -0.049       0.144\n",
       "z_qnr_13          0.2204      0.065      3.367      0.001       0.092       0.349\n",
       "z_qnr_14         -0.0269      0.103     -0.261      0.794      -0.229       0.175\n",
       "z_qnr_17          0.1256      0.060      2.085      0.037       0.007       0.244\n",
       "z_qnr_21          0.1302      0.070      1.870      0.062      -0.006       0.267\n",
       "z_qnr_22         -0.2226      0.084     -2.649      0.008      -0.387      -0.058\n",
       "z_qnr_23         -0.0612      0.064     -0.956      0.339      -0.187       0.064\n",
       "z_qnr_24          0.0479      0.057      0.845      0.398      -0.063       0.159\n",
       "z_qnr_25         -0.0469      0.066     -0.714      0.475      -0.176       0.082\n",
       "z_qnr_26         -0.2509      0.076     -3.288      0.001      -0.401      -0.101\n",
       "z_qnr_28         -0.0113      0.076     -0.149      0.882      -0.160       0.137\n",
       "z_qnr_31         -0.1080      0.083     -1.297      0.195      -0.271       0.055\n",
       "z_qnr_32         -0.1596      0.073     -2.174      0.030      -0.304      -0.016\n",
       "z_qnr_33         -0.0649      0.119     -0.544      0.586      -0.299       0.169\n",
       "z_knr_2          -0.0499      0.065     -0.769      0.442      -0.177       0.077\n",
       "z_knr_3           0.0873      0.066      1.329      0.184      -0.042       0.216\n",
       "z_knr_7          -0.0102      0.043     -0.238      0.812      -0.094       0.073\n",
       "z_knr_9          -0.1407      0.076     -1.840      0.066      -0.291       0.009\n",
       "z_knr_10         -0.2568      0.052     -4.940      0.000      -0.359      -0.155\n",
       "z_knr_11         -0.1040      0.049     -2.118      0.034      -0.200      -0.008\n",
       "trafficarea_1     0.0572      0.065      0.880      0.379      -0.070       0.185\n",
       "trafficarea_2    -0.0596      0.043     -1.371      0.171      -0.145       0.026\n",
       "r_width_1         0.0157      0.037      0.428      0.668      -0.056       0.087\n",
       "r_width_3         0.0121      0.036      0.332      0.740      -0.059       0.083\n",
       "r_width_4        -0.0128      0.028     -0.458      0.647      -0.068       0.042\n",
       "r_width_5         0.0046      0.028      0.165      0.869      -0.051       0.060\n",
       "r_width_6        -0.0342      0.045     -0.764      0.445      -0.122       0.054\n",
       "speedlimit_2     -0.1029      0.069     -1.489      0.137      -0.239       0.033\n",
       "speedlimit_3     -0.0010      0.028     -0.038      0.970      -0.055       0.053\n",
       "speedlimit_5     -0.0871      0.078     -1.109      0.268      -0.241       0.067\n",
       "speedlimit_6     -0.0641      0.125     -0.514      0.608      -0.309       0.181\n",
       "==============================================================================\n",
       "Omnibus:                        5.368   Durbin-Watson:                   0.988\n",
       "Prob(Omnibus):                  0.068   Jarque-Bera (JB):                5.258\n",
       "Skew:                          -0.166   Prob(JB):                       0.0721\n",
       "Kurtosis:                       3.078   Cond. No.                         31.9\n",
       "==============================================================================\n",
       "\n",
       "Notes:\n",
       "[1] Standard Errors assume that the covariance matrix of the errors is correctly specified.\n",
       "\"\"\""
      ]
     },
     "execution_count": 303,
     "metadata": {},
     "output_type": "execute_result"
    }
   ],
   "source": [
    "# OLS\n",
    "# With constant\n",
    "x_const = tools.add_constant(x)\n",
    "m00 = sm.OLS(y, x_const)\n",
    "r00 = m00.fit()\n",
    "r00.summary()\n",
    "\n",
    "# m00 = sm.OLS(y, x)\n",
    "# r00 = m00.fit()\n",
    "# r00.summary()"
   ]
  },
  {
   "cell_type": "code",
   "execution_count": 304,
   "id": "d915df21-384a-47da-bc35-1242f858e894",
   "metadata": {
    "execution": {
     "iopub.execute_input": "2024-11-22T17:15:02.958532Z",
     "iopub.status.busy": "2024-11-22T17:15:02.958247Z",
     "iopub.status.idle": "2024-11-22T17:15:02.962029Z",
     "shell.execute_reply": "2024-11-22T17:15:02.961380Z",
     "shell.execute_reply.started": "2024-11-22T17:15:02.958512Z"
    }
   },
   "outputs": [
    {
     "name": "stdout",
     "output_type": "stream",
     "text": [
      "0.5657396189379391\n"
     ]
    }
   ],
   "source": [
    "print(r00.rsquared_adj)"
   ]
  },
  {
   "cell_type": "code",
   "execution_count": 305,
   "id": "0c7211cf-18d7-4583-83d2-26ab7c5df0ce",
   "metadata": {
    "execution": {
     "iopub.execute_input": "2024-11-22T17:15:03.314049Z",
     "iopub.status.busy": "2024-11-22T17:15:03.313568Z",
     "iopub.status.idle": "2024-11-22T17:15:03.318513Z",
     "shell.execute_reply": "2024-11-22T17:15:03.318001Z",
     "shell.execute_reply.started": "2024-11-22T17:15:03.314023Z"
    }
   },
   "outputs": [],
   "source": [
    "def printsig(r):\n",
    "    df = r.pvalues\n",
    "    dfo = df[df<0.05]\n",
    "    dfo = dfo.to_frame()\n",
    "    dfo.loc[dfo[0] >= 0.01, 'sig'] = '*'\n",
    "    dfo.loc[(dfo[0] < 0.01) & (dfo[0] >= 0.001) , 'sig'] = '**'\n",
    "    dfo.loc[dfo[0] < 0.001, 'sig'] = '***'\n",
    "    dfo = dfo.rename_axis('feature').reset_index()\n",
    "    return dfo\n",
    "    print(dfo)\n",
    "    print(len(dfo))"
   ]
  },
  {
   "cell_type": "code",
   "execution_count": 306,
   "id": "2d9536c1-2182-4d14-b1c8-ad683a80664a",
   "metadata": {
    "execution": {
     "iopub.execute_input": "2024-11-22T17:15:03.916870Z",
     "iopub.status.busy": "2024-11-22T17:15:03.916602Z",
     "iopub.status.idle": "2024-11-22T17:15:03.926730Z",
     "shell.execute_reply": "2024-11-22T17:15:03.926184Z",
     "shell.execute_reply.started": "2024-11-22T17:15:03.916853Z"
    }
   },
   "outputs": [
    {
     "data": {
      "text/html": [
       "<div>\n",
       "<style scoped>\n",
       "    .dataframe tbody tr th:only-of-type {\n",
       "        vertical-align: middle;\n",
       "    }\n",
       "\n",
       "    .dataframe tbody tr th {\n",
       "        vertical-align: top;\n",
       "    }\n",
       "\n",
       "    .dataframe thead th {\n",
       "        text-align: right;\n",
       "    }\n",
       "</style>\n",
       "<table border=\"1\" class=\"dataframe\">\n",
       "  <thead>\n",
       "    <tr style=\"text-align: right;\">\n",
       "      <th></th>\n",
       "      <th>feature</th>\n",
       "      <th>0</th>\n",
       "      <th>sig</th>\n",
       "    </tr>\n",
       "  </thead>\n",
       "  <tbody>\n",
       "    <tr>\n",
       "      <th>0</th>\n",
       "      <td>const</td>\n",
       "      <td>1.162114e-09</td>\n",
       "      <td>***</td>\n",
       "    </tr>\n",
       "    <tr>\n",
       "      <th>1</th>\n",
       "      <td>cp</td>\n",
       "      <td>5.866188e-04</td>\n",
       "      <td>***</td>\n",
       "    </tr>\n",
       "    <tr>\n",
       "      <th>2</th>\n",
       "      <td>mew</td>\n",
       "      <td>1.262421e-14</td>\n",
       "      <td>***</td>\n",
       "    </tr>\n",
       "    <tr>\n",
       "      <th>3</th>\n",
       "      <td>dpedcro</td>\n",
       "      <td>3.327186e-02</td>\n",
       "      <td>*</td>\n",
       "    </tr>\n",
       "    <tr>\n",
       "      <th>4</th>\n",
       "      <td>dtrafficarea</td>\n",
       "      <td>2.285316e-02</td>\n",
       "      <td>*</td>\n",
       "    </tr>\n",
       "    <tr>\n",
       "      <th>5</th>\n",
       "      <td>droad</td>\n",
       "      <td>3.559702e-61</td>\n",
       "      <td>***</td>\n",
       "    </tr>\n",
       "    <tr>\n",
       "      <th>6</th>\n",
       "      <td>bicyclecount</td>\n",
       "      <td>1.934860e-44</td>\n",
       "      <td>***</td>\n",
       "    </tr>\n",
       "    <tr>\n",
       "      <th>7</th>\n",
       "      <td>z_qnr_6</td>\n",
       "      <td>2.648754e-02</td>\n",
       "      <td>*</td>\n",
       "    </tr>\n",
       "    <tr>\n",
       "      <th>8</th>\n",
       "      <td>z_qnr_7</td>\n",
       "      <td>1.791004e-03</td>\n",
       "      <td>**</td>\n",
       "    </tr>\n",
       "    <tr>\n",
       "      <th>9</th>\n",
       "      <td>z_qnr_11</td>\n",
       "      <td>1.369054e-03</td>\n",
       "      <td>**</td>\n",
       "    </tr>\n",
       "    <tr>\n",
       "      <th>10</th>\n",
       "      <td>z_qnr_13</td>\n",
       "      <td>7.885543e-04</td>\n",
       "      <td>***</td>\n",
       "    </tr>\n",
       "    <tr>\n",
       "      <th>11</th>\n",
       "      <td>z_qnr_17</td>\n",
       "      <td>3.728593e-02</td>\n",
       "      <td>*</td>\n",
       "    </tr>\n",
       "    <tr>\n",
       "      <th>12</th>\n",
       "      <td>z_qnr_22</td>\n",
       "      <td>8.189577e-03</td>\n",
       "      <td>**</td>\n",
       "    </tr>\n",
       "    <tr>\n",
       "      <th>13</th>\n",
       "      <td>z_qnr_26</td>\n",
       "      <td>1.044882e-03</td>\n",
       "      <td>**</td>\n",
       "    </tr>\n",
       "    <tr>\n",
       "      <th>14</th>\n",
       "      <td>z_qnr_32</td>\n",
       "      <td>2.993198e-02</td>\n",
       "      <td>*</td>\n",
       "    </tr>\n",
       "    <tr>\n",
       "      <th>15</th>\n",
       "      <td>z_knr_10</td>\n",
       "      <td>9.106929e-07</td>\n",
       "      <td>***</td>\n",
       "    </tr>\n",
       "    <tr>\n",
       "      <th>16</th>\n",
       "      <td>z_knr_11</td>\n",
       "      <td>3.443595e-02</td>\n",
       "      <td>*</td>\n",
       "    </tr>\n",
       "  </tbody>\n",
       "</table>\n",
       "</div>"
      ],
      "text/plain": [
       "         feature             0  sig\n",
       "0          const  1.162114e-09  ***\n",
       "1             cp  5.866188e-04  ***\n",
       "2            mew  1.262421e-14  ***\n",
       "3        dpedcro  3.327186e-02    *\n",
       "4   dtrafficarea  2.285316e-02    *\n",
       "5          droad  3.559702e-61  ***\n",
       "6   bicyclecount  1.934860e-44  ***\n",
       "7        z_qnr_6  2.648754e-02    *\n",
       "8        z_qnr_7  1.791004e-03   **\n",
       "9       z_qnr_11  1.369054e-03   **\n",
       "10      z_qnr_13  7.885543e-04  ***\n",
       "11      z_qnr_17  3.728593e-02    *\n",
       "12      z_qnr_22  8.189577e-03   **\n",
       "13      z_qnr_26  1.044882e-03   **\n",
       "14      z_qnr_32  2.993198e-02    *\n",
       "15      z_knr_10  9.106929e-07  ***\n",
       "16      z_knr_11  3.443595e-02    *"
      ]
     },
     "execution_count": 306,
     "metadata": {},
     "output_type": "execute_result"
    }
   ],
   "source": [
    "printsig(r00)"
   ]
  },
  {
   "cell_type": "code",
   "execution_count": 307,
   "id": "aa73c4e6-afd1-4ec7-bc36-72e81f5e5241",
   "metadata": {
    "execution": {
     "iopub.execute_input": "2024-11-22T17:15:04.370982Z",
     "iopub.status.busy": "2024-11-22T17:15:04.370735Z",
     "iopub.status.idle": "2024-11-22T17:15:04.600413Z",
     "shell.execute_reply": "2024-11-22T17:15:04.599797Z",
     "shell.execute_reply.started": "2024-11-22T17:15:04.370966Z"
    }
   },
   "outputs": [
    {
     "name": "stdout",
     "output_type": "stream",
     "text": [
      "0.906163753449862\n",
      "\n",
      "Test accuracy : \n",
      " 0.906163753449862\n",
      "\n",
      "Confusion Matrix : \n",
      " [[  0   0   0]\n",
      " [  2 729  61]\n",
      " [  0  39 256]]\n"
     ]
    },
    {
     "data": {
      "text/plain": [
       "<sklearn.metrics._plot.confusion_matrix.ConfusionMatrixDisplay at 0x20f76a27730>"
      ]
     },
     "execution_count": 307,
     "metadata": {},
     "output_type": "execute_result"
    },
    {
     "data": {
      "image/png": "[encoded data removed]",
      "text/plain": [
       "<Figure size 432x288 with 2 Axes>"
      ]
     },
     "metadata": {
      "needs_background": "light"
     },
     "output_type": "display_data"
    }
   ],
   "source": [
    "pred00 = r00.predict(x_const)\n",
    "pred00 = list(map(round,pred00))\n",
    "print(accuracy_score(y, pred00))\n",
    "print('\\nTest accuracy : \\n', accuracy_score(y, pred00))\n",
    "cm00 = confusion_matrix(y, pred00) \n",
    "print ('\\nConfusion Matrix : \\n', cm00)\n",
    "cm00_display = metrics.ConfusionMatrixDisplay(confusion_matrix = cm00)\n",
    "cm00_display.plot()"
   ]
  },
  {
   "cell_type": "code",
   "execution_count": 308,
   "id": "000a5c84-dfa0-45d4-b162-b54356df5d34",
   "metadata": {
    "execution": {
     "iopub.execute_input": "2024-11-22T17:15:05.136506Z",
     "iopub.status.busy": "2024-11-22T17:15:05.136212Z",
     "iopub.status.idle": "2024-11-22T17:15:05.151074Z",
     "shell.execute_reply": "2024-11-22T17:15:05.150571Z",
     "shell.execute_reply.started": "2024-11-22T17:15:05.136486Z"
    }
   },
   "outputs": [
    {
     "name": "stdout",
     "output_type": "stream",
     "text": [
      "accuracy 0.906163753449862\n",
      "precision [0.         0.94921875 0.80757098]\n",
      "sensitivity recall [0.         0.92045455 0.86779661]\n",
      "f1 score [0.         0.93461538 0.83660131]\n",
      "mean precision 0.5855965759726603\n",
      "mean recall 0.5960837185413457\n",
      "mean f1 score 0.5904055639349757\n"
     ]
    },
    {
     "name": "stderr",
     "output_type": "stream",
     "text": [
      "E:\\Anaconda\\Anaconda_file\\lib\\site-packages\\sklearn\\metrics\\_classification.py:1531: UndefinedMetricWarning: Recall is ill-defined and being set to 0.0 in labels with no true samples. Use `zero_division` parameter to control this behavior.\n",
      "  _warn_prf(average, modifier, f\"{metric.capitalize()} is\", len(result))\n"
     ]
    }
   ],
   "source": [
    "acc_ols = metrics.accuracy_score(y, pred00)\n",
    "print('accuracy', acc_ols)\n",
    "\n",
    "pre_ols = metrics.precision_score(y, pred00, average = None)\n",
    "print('precision', pre_ols)\n",
    "\n",
    "senrec_ols = metrics.recall_score(y, pred00, average = None)\n",
    "print('sensitivity recall', senrec_ols)\n",
    "\n",
    "f1_ols = metrics.f1_score(y, pred00, average = None)\n",
    "print('f1 score', f1_ols)\n",
    "\n",
    "pre_ols_m = np.mean(pre_ols)\n",
    "senrec_ols_m = np.mean(senrec_ols)\n",
    "f1_ols_m = np.mean(f1_ols)\n",
    "print('mean precision', pre_ols_m)\n",
    "print('mean recall', senrec_ols_m)\n",
    "print('mean f1 score', f1_ols_m)"
   ]
  },
  {
   "cell_type": "markdown",
   "id": "82930f54-a24d-48a1-a9de-0d36dd34c14b",
   "metadata": {},
   "source": [
    "### With data splitting"
   ]
  },
  {
   "cell_type": "code",
   "execution_count": 309,
   "id": "b56e34e2-487a-4703-bfad-189ca1dafe51",
   "metadata": {
    "execution": {
     "iopub.execute_input": "2024-11-22T17:15:06.096153Z",
     "iopub.status.busy": "2024-11-22T17:15:06.095895Z",
     "iopub.status.idle": "2024-11-22T17:15:06.189376Z",
     "shell.execute_reply": "2024-11-22T17:15:06.188496Z",
     "shell.execute_reply.started": "2024-11-22T17:15:06.096132Z"
    },
    "scrolled": true
   },
   "outputs": [
    {
     "data": {
      "text/html": [
       "<table class=\"simpletable\">\n",
       "<caption>OLS Regression Results</caption>\n",
       "<tr>\n",
       "  <th>Dep. Variable:</th>           <td>acp</td>       <th>  R-squared:         </th> <td>   0.590</td>\n",
       "</tr>\n",
       "<tr>\n",
       "  <th>Model:</th>                   <td>OLS</td>       <th>  Adj. R-squared:    </th> <td>   0.555</td>\n",
       "</tr>\n",
       "<tr>\n",
       "  <th>Method:</th>             <td>Least Squares</td>  <th>  F-statistic:       </th> <td>   16.79</td>\n",
       "</tr>\n",
       "<tr>\n",
       "  <th>Date:</th>             <td>Wed, 15 Jan 2025</td> <th>  Prob (F-statistic):</th> <td>1.80e-99</td>\n",
       "</tr>\n",
       "<tr>\n",
       "  <th>Time:</th>                 <td>16:13:43</td>     <th>  Log-Likelihood:    </th> <td> -129.80</td>\n",
       "</tr>\n",
       "<tr>\n",
       "  <th>No. Observations:</th>      <td>   760</td>      <th>  AIC:               </th> <td>   381.6</td>\n",
       "</tr>\n",
       "<tr>\n",
       "  <th>Df Residuals:</th>          <td>   699</td>      <th>  BIC:               </th> <td>   664.2</td>\n",
       "</tr>\n",
       "<tr>\n",
       "  <th>Df Model:</th>              <td>    60</td>      <th>                     </th>     <td> </td>   \n",
       "</tr>\n",
       "<tr>\n",
       "  <th>Covariance Type:</th>      <td>nonrobust</td>    <th>                     </th>     <td> </td>   \n",
       "</tr>\n",
       "</table>\n",
       "<table class=\"simpletable\">\n",
       "<tr>\n",
       "        <td></td>           <th>coef</th>     <th>std err</th>      <th>t</th>      <th>P>|t|</th>  <th>[0.025</th>    <th>0.975]</th>  \n",
       "</tr>\n",
       "<tr>\n",
       "  <th>const</th>         <td>    0.4280</td> <td>    0.085</td> <td>    5.012</td> <td> 0.000</td> <td>    0.260</td> <td>    0.596</td>\n",
       "</tr>\n",
       "<tr>\n",
       "  <th>cp</th>            <td>   -0.0267</td> <td>    0.012</td> <td>   -2.188</td> <td> 0.029</td> <td>   -0.051</td> <td>   -0.003</td>\n",
       "</tr>\n",
       "<tr>\n",
       "  <th>cmin</th>          <td>   -0.0587</td> <td>    0.048</td> <td>   -1.230</td> <td> 0.219</td> <td>   -0.152</td> <td>    0.035</td>\n",
       "</tr>\n",
       "<tr>\n",
       "  <th>ie</th>            <td>   -0.0175</td> <td>    0.027</td> <td>   -0.654</td> <td> 0.514</td> <td>   -0.070</td> <td>    0.035</td>\n",
       "</tr>\n",
       "<tr>\n",
       "  <th>mew</th>           <td>    0.2669</td> <td>    0.041</td> <td>    6.478</td> <td> 0.000</td> <td>    0.186</td> <td>    0.348</td>\n",
       "</tr>\n",
       "<tr>\n",
       "  <th>meg</th>           <td>    0.0113</td> <td>    0.050</td> <td>    0.226</td> <td> 0.821</td> <td>   -0.087</td> <td>    0.110</td>\n",
       "</tr>\n",
       "<tr>\n",
       "  <th>megmax</th>        <td>   -0.0006</td> <td>    0.049</td> <td>   -0.012</td> <td> 0.990</td> <td>   -0.096</td> <td>    0.095</td>\n",
       "</tr>\n",
       "<tr>\n",
       "  <th>dbusl</th>         <td>    0.0267</td> <td>    0.029</td> <td>    0.930</td> <td> 0.353</td> <td>   -0.030</td> <td>    0.083</td>\n",
       "</tr>\n",
       "<tr>\n",
       "  <th>dtraml</th>        <td>   -0.0409</td> <td>    0.034</td> <td>   -1.211</td> <td> 0.226</td> <td>   -0.107</td> <td>    0.025</td>\n",
       "</tr>\n",
       "<tr>\n",
       "  <th>dtrainl</th>       <td>   -0.0495</td> <td>    0.038</td> <td>   -1.313</td> <td> 0.190</td> <td>   -0.124</td> <td>    0.025</td>\n",
       "</tr>\n",
       "<tr>\n",
       "  <th>dplight</th>       <td>    0.0320</td> <td>    0.047</td> <td>    0.678</td> <td> 0.498</td> <td>   -0.061</td> <td>    0.125</td>\n",
       "</tr>\n",
       "<tr>\n",
       "  <th>dstation</th>      <td>   -0.0216</td> <td>    0.051</td> <td>   -0.426</td> <td> 0.670</td> <td>   -0.121</td> <td>    0.078</td>\n",
       "</tr>\n",
       "<tr>\n",
       "  <th>dparkcar</th>      <td>    0.0259</td> <td>    0.038</td> <td>    0.680</td> <td> 0.497</td> <td>   -0.049</td> <td>    0.101</td>\n",
       "</tr>\n",
       "<tr>\n",
       "  <th>dparktw</th>       <td>   -0.0531</td> <td>    0.042</td> <td>   -1.255</td> <td> 0.210</td> <td>   -0.136</td> <td>    0.030</td>\n",
       "</tr>\n",
       "<tr>\n",
       "  <th>dpedcro</th>       <td>   -0.1033</td> <td>    0.042</td> <td>   -2.443</td> <td> 0.015</td> <td>   -0.186</td> <td>   -0.020</td>\n",
       "</tr>\n",
       "<tr>\n",
       "  <th>dstopsign</th>     <td>    0.0392</td> <td>    0.047</td> <td>    0.828</td> <td> 0.408</td> <td>   -0.054</td> <td>    0.132</td>\n",
       "</tr>\n",
       "<tr>\n",
       "  <th>dtrafficarea</th>  <td>   -0.0469</td> <td>    0.027</td> <td>   -1.740</td> <td> 0.082</td> <td>   -0.100</td> <td>    0.006</td>\n",
       "</tr>\n",
       "<tr>\n",
       "  <th>droad</th>         <td>    0.2676</td> <td>    0.018</td> <td>   14.496</td> <td> 0.000</td> <td>    0.231</td> <td>    0.304</td>\n",
       "</tr>\n",
       "<tr>\n",
       "  <th>gvm_dwv</th>       <td>   -0.0198</td> <td>    0.035</td> <td>   -0.564</td> <td> 0.573</td> <td>   -0.089</td> <td>    0.049</td>\n",
       "</tr>\n",
       "<tr>\n",
       "  <th>speedlimit</th>    <td>   -0.0427</td> <td>    0.035</td> <td>   -1.229</td> <td> 0.219</td> <td>   -0.111</td> <td>    0.026</td>\n",
       "</tr>\n",
       "<tr>\n",
       "  <th>bicyclecount</th>  <td>    0.2978</td> <td>    0.026</td> <td>   11.536</td> <td> 0.000</td> <td>    0.247</td> <td>    0.349</td>\n",
       "</tr>\n",
       "<tr>\n",
       "  <th>carcount</th>      <td>   -0.0372</td> <td>    0.039</td> <td>   -0.964</td> <td> 0.335</td> <td>   -0.113</td> <td>    0.038</td>\n",
       "</tr>\n",
       "<tr>\n",
       "  <th>z_qnr_1</th>       <td>    0.1462</td> <td>    0.084</td> <td>    1.739</td> <td> 0.082</td> <td>   -0.019</td> <td>    0.311</td>\n",
       "</tr>\n",
       "<tr>\n",
       "  <th>z_qnr_2</th>       <td>   -0.0979</td> <td>    0.093</td> <td>   -1.057</td> <td> 0.291</td> <td>   -0.280</td> <td>    0.084</td>\n",
       "</tr>\n",
       "<tr>\n",
       "  <th>z_qnr_3</th>       <td>    0.1098</td> <td>    0.104</td> <td>    1.052</td> <td> 0.293</td> <td>   -0.095</td> <td>    0.315</td>\n",
       "</tr>\n",
       "<tr>\n",
       "  <th>z_qnr_4</th>       <td>    0.0344</td> <td>    0.077</td> <td>    0.449</td> <td> 0.653</td> <td>   -0.116</td> <td>    0.185</td>\n",
       "</tr>\n",
       "<tr>\n",
       "  <th>z_qnr_6</th>       <td>    0.0942</td> <td>    0.067</td> <td>    1.416</td> <td> 0.157</td> <td>   -0.036</td> <td>    0.225</td>\n",
       "</tr>\n",
       "<tr>\n",
       "  <th>z_qnr_7</th>       <td>   -0.1790</td> <td>    0.075</td> <td>   -2.384</td> <td> 0.017</td> <td>   -0.326</td> <td>   -0.032</td>\n",
       "</tr>\n",
       "<tr>\n",
       "  <th>z_qnr_9</th>       <td>   -0.0242</td> <td>    0.077</td> <td>   -0.314</td> <td> 0.753</td> <td>   -0.175</td> <td>    0.127</td>\n",
       "</tr>\n",
       "<tr>\n",
       "  <th>z_qnr_11</th>      <td>   -0.2220</td> <td>    0.078</td> <td>   -2.846</td> <td> 0.005</td> <td>   -0.375</td> <td>   -0.069</td>\n",
       "</tr>\n",
       "<tr>\n",
       "  <th>z_qnr_12</th>      <td>    0.0733</td> <td>    0.062</td> <td>    1.181</td> <td> 0.238</td> <td>   -0.049</td> <td>    0.195</td>\n",
       "</tr>\n",
       "<tr>\n",
       "  <th>z_qnr_13</th>      <td>    0.3625</td> <td>    0.089</td> <td>    4.091</td> <td> 0.000</td> <td>    0.189</td> <td>    0.536</td>\n",
       "</tr>\n",
       "<tr>\n",
       "  <th>z_qnr_14</th>      <td>    0.0402</td> <td>    0.132</td> <td>    0.306</td> <td> 0.760</td> <td>   -0.218</td> <td>    0.299</td>\n",
       "</tr>\n",
       "<tr>\n",
       "  <th>z_qnr_17</th>      <td>    0.1177</td> <td>    0.071</td> <td>    1.649</td> <td> 0.100</td> <td>   -0.022</td> <td>    0.258</td>\n",
       "</tr>\n",
       "<tr>\n",
       "  <th>z_qnr_21</th>      <td>    0.1162</td> <td>    0.084</td> <td>    1.380</td> <td> 0.168</td> <td>   -0.049</td> <td>    0.281</td>\n",
       "</tr>\n",
       "<tr>\n",
       "  <th>z_qnr_22</th>      <td>   -0.2549</td> <td>    0.111</td> <td>   -2.295</td> <td> 0.022</td> <td>   -0.473</td> <td>   -0.037</td>\n",
       "</tr>\n",
       "<tr>\n",
       "  <th>z_qnr_23</th>      <td>   -0.1153</td> <td>    0.079</td> <td>   -1.450</td> <td> 0.148</td> <td>   -0.271</td> <td>    0.041</td>\n",
       "</tr>\n",
       "<tr>\n",
       "  <th>z_qnr_24</th>      <td>    0.0378</td> <td>    0.066</td> <td>    0.569</td> <td> 0.569</td> <td>   -0.092</td> <td>    0.168</td>\n",
       "</tr>\n",
       "<tr>\n",
       "  <th>z_qnr_25</th>      <td>   -0.0406</td> <td>    0.081</td> <td>   -0.502</td> <td> 0.616</td> <td>   -0.200</td> <td>    0.118</td>\n",
       "</tr>\n",
       "<tr>\n",
       "  <th>z_qnr_26</th>      <td>   -0.2093</td> <td>    0.098</td> <td>   -2.134</td> <td> 0.033</td> <td>   -0.402</td> <td>   -0.017</td>\n",
       "</tr>\n",
       "<tr>\n",
       "  <th>z_qnr_28</th>      <td>    0.0286</td> <td>    0.097</td> <td>    0.296</td> <td> 0.767</td> <td>   -0.161</td> <td>    0.219</td>\n",
       "</tr>\n",
       "<tr>\n",
       "  <th>z_qnr_31</th>      <td>    0.0042</td> <td>    0.101</td> <td>    0.041</td> <td> 0.967</td> <td>   -0.194</td> <td>    0.202</td>\n",
       "</tr>\n",
       "<tr>\n",
       "  <th>z_qnr_32</th>      <td>   -0.1716</td> <td>    0.084</td> <td>   -2.049</td> <td> 0.041</td> <td>   -0.336</td> <td>   -0.007</td>\n",
       "</tr>\n",
       "<tr>\n",
       "  <th>z_qnr_33</th>      <td>    0.0144</td> <td>    0.181</td> <td>    0.079</td> <td> 0.937</td> <td>   -0.342</td> <td>    0.371</td>\n",
       "</tr>\n",
       "<tr>\n",
       "  <th>z_knr_2</th>       <td>   -0.0779</td> <td>    0.073</td> <td>   -1.070</td> <td> 0.285</td> <td>   -0.221</td> <td>    0.065</td>\n",
       "</tr>\n",
       "<tr>\n",
       "  <th>z_knr_3</th>       <td>    0.0566</td> <td>    0.079</td> <td>    0.719</td> <td> 0.472</td> <td>   -0.098</td> <td>    0.211</td>\n",
       "</tr>\n",
       "<tr>\n",
       "  <th>z_knr_7</th>       <td>   -0.0096</td> <td>    0.054</td> <td>   -0.179</td> <td> 0.858</td> <td>   -0.115</td> <td>    0.096</td>\n",
       "</tr>\n",
       "<tr>\n",
       "  <th>z_knr_9</th>       <td>   -0.1478</td> <td>    0.105</td> <td>   -1.412</td> <td> 0.158</td> <td>   -0.353</td> <td>    0.058</td>\n",
       "</tr>\n",
       "<tr>\n",
       "  <th>z_knr_10</th>      <td>   -0.2264</td> <td>    0.063</td> <td>   -3.590</td> <td> 0.000</td> <td>   -0.350</td> <td>   -0.103</td>\n",
       "</tr>\n",
       "<tr>\n",
       "  <th>z_knr_11</th>      <td>   -0.0979</td> <td>    0.061</td> <td>   -1.609</td> <td> 0.108</td> <td>   -0.217</td> <td>    0.022</td>\n",
       "</tr>\n",
       "<tr>\n",
       "  <th>trafficarea_1</th> <td>   -0.0237</td> <td>    0.083</td> <td>   -0.286</td> <td> 0.775</td> <td>   -0.187</td> <td>    0.139</td>\n",
       "</tr>\n",
       "<tr>\n",
       "  <th>trafficarea_2</th> <td>   -0.0711</td> <td>    0.056</td> <td>   -1.265</td> <td> 0.206</td> <td>   -0.181</td> <td>    0.039</td>\n",
       "</tr>\n",
       "<tr>\n",
       "  <th>r_width_1</th>     <td>   -0.0127</td> <td>    0.046</td> <td>   -0.277</td> <td> 0.782</td> <td>   -0.103</td> <td>    0.077</td>\n",
       "</tr>\n",
       "<tr>\n",
       "  <th>r_width_3</th>     <td>    0.0257</td> <td>    0.044</td> <td>    0.582</td> <td> 0.561</td> <td>   -0.061</td> <td>    0.112</td>\n",
       "</tr>\n",
       "<tr>\n",
       "  <th>r_width_4</th>     <td>   -0.0059</td> <td>    0.035</td> <td>   -0.171</td> <td> 0.864</td> <td>   -0.074</td> <td>    0.062</td>\n",
       "</tr>\n",
       "<tr>\n",
       "  <th>r_width_5</th>     <td>    0.0056</td> <td>    0.035</td> <td>    0.161</td> <td> 0.872</td> <td>   -0.063</td> <td>    0.074</td>\n",
       "</tr>\n",
       "<tr>\n",
       "  <th>r_width_6</th>     <td>   -0.0194</td> <td>    0.058</td> <td>   -0.332</td> <td> 0.740</td> <td>   -0.134</td> <td>    0.095</td>\n",
       "</tr>\n",
       "<tr>\n",
       "  <th>speedlimit_2</th>  <td>   -0.0668</td> <td>    0.082</td> <td>   -0.817</td> <td> 0.414</td> <td>   -0.227</td> <td>    0.094</td>\n",
       "</tr>\n",
       "<tr>\n",
       "  <th>speedlimit_3</th>  <td>   -0.0155</td> <td>    0.034</td> <td>   -0.459</td> <td> 0.647</td> <td>   -0.082</td> <td>    0.051</td>\n",
       "</tr>\n",
       "<tr>\n",
       "  <th>speedlimit_5</th>  <td>   -0.0835</td> <td>    0.091</td> <td>   -0.917</td> <td> 0.359</td> <td>   -0.262</td> <td>    0.095</td>\n",
       "</tr>\n",
       "<tr>\n",
       "  <th>speedlimit_6</th>  <td>   -0.1166</td> <td>    0.165</td> <td>   -0.707</td> <td> 0.480</td> <td>   -0.440</td> <td>    0.207</td>\n",
       "</tr>\n",
       "</table>\n",
       "<table class=\"simpletable\">\n",
       "<tr>\n",
       "  <th>Omnibus:</th>       <td> 1.640</td> <th>  Durbin-Watson:     </th> <td>   1.980</td>\n",
       "</tr>\n",
       "<tr>\n",
       "  <th>Prob(Omnibus):</th> <td> 0.441</td> <th>  Jarque-Bera (JB):  </th> <td>   1.529</td>\n",
       "</tr>\n",
       "<tr>\n",
       "  <th>Skew:</th>          <td>-0.107</td> <th>  Prob(JB):          </th> <td>   0.466</td>\n",
       "</tr>\n",
       "<tr>\n",
       "  <th>Kurtosis:</th>      <td> 3.052</td> <th>  Cond. No.          </th> <td>    36.9</td>\n",
       "</tr>\n",
       "</table><br/><br/>Notes:<br/>[1] Standard Errors assume that the covariance matrix of the errors is correctly specified."
      ],
      "text/latex": [
       "\\begin{center}\n",
       "\\begin{tabular}{lclc}\n",
       "\\toprule\n",
       "\\textbf{Dep. Variable:}    &       acp        & \\textbf{  R-squared:         } &     0.590   \\\\\n",
       "\\textbf{Model:}            &       OLS        & \\textbf{  Adj. R-squared:    } &     0.555   \\\\\n",
       "\\textbf{Method:}           &  Least Squares   & \\textbf{  F-statistic:       } &     16.79   \\\\\n",
       "\\textbf{Date:}             & Wed, 15 Jan 2025 & \\textbf{  Prob (F-statistic):} &  1.80e-99   \\\\\n",
       "\\textbf{Time:}             &     16:13:43     & \\textbf{  Log-Likelihood:    } &   -129.80   \\\\\n",
       "\\textbf{No. Observations:} &         760      & \\textbf{  AIC:               } &     381.6   \\\\\n",
       "\\textbf{Df Residuals:}     &         699      & \\textbf{  BIC:               } &     664.2   \\\\\n",
       "\\textbf{Df Model:}         &          60      & \\textbf{                     } &             \\\\\n",
       "\\textbf{Covariance Type:}  &    nonrobust     & \\textbf{                     } &             \\\\\n",
       "\\bottomrule\n",
       "\\end{tabular}\n",
       "\\begin{tabular}{lcccccc}\n",
       "                        & \\textbf{coef} & \\textbf{std err} & \\textbf{t} & \\textbf{P$> |$t$|$} & \\textbf{[0.025} & \\textbf{0.975]}  \\\\\n",
       "\\midrule\n",
       "\\textbf{const}          &       0.4280  &        0.085     &     5.012  &         0.000        &        0.260    &        0.596     \\\\\n",
       "\\textbf{cp}             &      -0.0267  &        0.012     &    -2.188  &         0.029        &       -0.051    &       -0.003     \\\\\n",
       "\\textbf{cmin}           &      -0.0587  &        0.048     &    -1.230  &         0.219        &       -0.152    &        0.035     \\\\\n",
       "\\textbf{ie}             &      -0.0175  &        0.027     &    -0.654  &         0.514        &       -0.070    &        0.035     \\\\\n",
       "\\textbf{mew}            &       0.2669  &        0.041     &     6.478  &         0.000        &        0.186    &        0.348     \\\\\n",
       "\\textbf{meg}            &       0.0113  &        0.050     &     0.226  &         0.821        &       -0.087    &        0.110     \\\\\n",
       "\\textbf{megmax}         &      -0.0006  &        0.049     &    -0.012  &         0.990        &       -0.096    &        0.095     \\\\\n",
       "\\textbf{dbusl}          &       0.0267  &        0.029     &     0.930  &         0.353        &       -0.030    &        0.083     \\\\\n",
       "\\textbf{dtraml}         &      -0.0409  &        0.034     &    -1.211  &         0.226        &       -0.107    &        0.025     \\\\\n",
       "\\textbf{dtrainl}        &      -0.0495  &        0.038     &    -1.313  &         0.190        &       -0.124    &        0.025     \\\\\n",
       "\\textbf{dplight}        &       0.0320  &        0.047     &     0.678  &         0.498        &       -0.061    &        0.125     \\\\\n",
       "\\textbf{dstation}       &      -0.0216  &        0.051     &    -0.426  &         0.670        &       -0.121    &        0.078     \\\\\n",
       "\\textbf{dparkcar}       &       0.0259  &        0.038     &     0.680  &         0.497        &       -0.049    &        0.101     \\\\\n",
       "\\textbf{dparktw}        &      -0.0531  &        0.042     &    -1.255  &         0.210        &       -0.136    &        0.030     \\\\\n",
       "\\textbf{dpedcro}        &      -0.1033  &        0.042     &    -2.443  &         0.015        &       -0.186    &       -0.020     \\\\\n",
       "\\textbf{dstopsign}      &       0.0392  &        0.047     &     0.828  &         0.408        &       -0.054    &        0.132     \\\\\n",
       "\\textbf{dtrafficarea}   &      -0.0469  &        0.027     &    -1.740  &         0.082        &       -0.100    &        0.006     \\\\\n",
       "\\textbf{droad}          &       0.2676  &        0.018     &    14.496  &         0.000        &        0.231    &        0.304     \\\\\n",
       "\\textbf{gvm\\_dwv}       &      -0.0198  &        0.035     &    -0.564  &         0.573        &       -0.089    &        0.049     \\\\\n",
       "\\textbf{speedlimit}     &      -0.0427  &        0.035     &    -1.229  &         0.219        &       -0.111    &        0.026     \\\\\n",
       "\\textbf{bicyclecount}   &       0.2978  &        0.026     &    11.536  &         0.000        &        0.247    &        0.349     \\\\\n",
       "\\textbf{carcount}       &      -0.0372  &        0.039     &    -0.964  &         0.335        &       -0.113    &        0.038     \\\\\n",
       "\\textbf{z\\_qnr\\_1}      &       0.1462  &        0.084     &     1.739  &         0.082        &       -0.019    &        0.311     \\\\\n",
       "\\textbf{z\\_qnr\\_2}      &      -0.0979  &        0.093     &    -1.057  &         0.291        &       -0.280    &        0.084     \\\\\n",
       "\\textbf{z\\_qnr\\_3}      &       0.1098  &        0.104     &     1.052  &         0.293        &       -0.095    &        0.315     \\\\\n",
       "\\textbf{z\\_qnr\\_4}      &       0.0344  &        0.077     &     0.449  &         0.653        &       -0.116    &        0.185     \\\\\n",
       "\\textbf{z\\_qnr\\_6}      &       0.0942  &        0.067     &     1.416  &         0.157        &       -0.036    &        0.225     \\\\\n",
       "\\textbf{z\\_qnr\\_7}      &      -0.1790  &        0.075     &    -2.384  &         0.017        &       -0.326    &       -0.032     \\\\\n",
       "\\textbf{z\\_qnr\\_9}      &      -0.0242  &        0.077     &    -0.314  &         0.753        &       -0.175    &        0.127     \\\\\n",
       "\\textbf{z\\_qnr\\_11}     &      -0.2220  &        0.078     &    -2.846  &         0.005        &       -0.375    &       -0.069     \\\\\n",
       "\\textbf{z\\_qnr\\_12}     &       0.0733  &        0.062     &     1.181  &         0.238        &       -0.049    &        0.195     \\\\\n",
       "\\textbf{z\\_qnr\\_13}     &       0.3625  &        0.089     &     4.091  &         0.000        &        0.189    &        0.536     \\\\\n",
       "\\textbf{z\\_qnr\\_14}     &       0.0402  &        0.132     &     0.306  &         0.760        &       -0.218    &        0.299     \\\\\n",
       "\\textbf{z\\_qnr\\_17}     &       0.1177  &        0.071     &     1.649  &         0.100        &       -0.022    &        0.258     \\\\\n",
       "\\textbf{z\\_qnr\\_21}     &       0.1162  &        0.084     &     1.380  &         0.168        &       -0.049    &        0.281     \\\\\n",
       "\\textbf{z\\_qnr\\_22}     &      -0.2549  &        0.111     &    -2.295  &         0.022        &       -0.473    &       -0.037     \\\\\n",
       "\\textbf{z\\_qnr\\_23}     &      -0.1153  &        0.079     &    -1.450  &         0.148        &       -0.271    &        0.041     \\\\\n",
       "\\textbf{z\\_qnr\\_24}     &       0.0378  &        0.066     &     0.569  &         0.569        &       -0.092    &        0.168     \\\\\n",
       "\\textbf{z\\_qnr\\_25}     &      -0.0406  &        0.081     &    -0.502  &         0.616        &       -0.200    &        0.118     \\\\\n",
       "\\textbf{z\\_qnr\\_26}     &      -0.2093  &        0.098     &    -2.134  &         0.033        &       -0.402    &       -0.017     \\\\\n",
       "\\textbf{z\\_qnr\\_28}     &       0.0286  &        0.097     &     0.296  &         0.767        &       -0.161    &        0.219     \\\\\n",
       "\\textbf{z\\_qnr\\_31}     &       0.0042  &        0.101     &     0.041  &         0.967        &       -0.194    &        0.202     \\\\\n",
       "\\textbf{z\\_qnr\\_32}     &      -0.1716  &        0.084     &    -2.049  &         0.041        &       -0.336    &       -0.007     \\\\\n",
       "\\textbf{z\\_qnr\\_33}     &       0.0144  &        0.181     &     0.079  &         0.937        &       -0.342    &        0.371     \\\\\n",
       "\\textbf{z\\_knr\\_2}      &      -0.0779  &        0.073     &    -1.070  &         0.285        &       -0.221    &        0.065     \\\\\n",
       "\\textbf{z\\_knr\\_3}      &       0.0566  &        0.079     &     0.719  &         0.472        &       -0.098    &        0.211     \\\\\n",
       "\\textbf{z\\_knr\\_7}      &      -0.0096  &        0.054     &    -0.179  &         0.858        &       -0.115    &        0.096     \\\\\n",
       "\\textbf{z\\_knr\\_9}      &      -0.1478  &        0.105     &    -1.412  &         0.158        &       -0.353    &        0.058     \\\\\n",
       "\\textbf{z\\_knr\\_10}     &      -0.2264  &        0.063     &    -3.590  &         0.000        &       -0.350    &       -0.103     \\\\\n",
       "\\textbf{z\\_knr\\_11}     &      -0.0979  &        0.061     &    -1.609  &         0.108        &       -0.217    &        0.022     \\\\\n",
       "\\textbf{trafficarea\\_1} &      -0.0237  &        0.083     &    -0.286  &         0.775        &       -0.187    &        0.139     \\\\\n",
       "\\textbf{trafficarea\\_2} &      -0.0711  &        0.056     &    -1.265  &         0.206        &       -0.181    &        0.039     \\\\\n",
       "\\textbf{r\\_width\\_1}    &      -0.0127  &        0.046     &    -0.277  &         0.782        &       -0.103    &        0.077     \\\\\n",
       "\\textbf{r\\_width\\_3}    &       0.0257  &        0.044     &     0.582  &         0.561        &       -0.061    &        0.112     \\\\\n",
       "\\textbf{r\\_width\\_4}    &      -0.0059  &        0.035     &    -0.171  &         0.864        &       -0.074    &        0.062     \\\\\n",
       "\\textbf{r\\_width\\_5}    &       0.0056  &        0.035     &     0.161  &         0.872        &       -0.063    &        0.074     \\\\\n",
       "\\textbf{r\\_width\\_6}    &      -0.0194  &        0.058     &    -0.332  &         0.740        &       -0.134    &        0.095     \\\\\n",
       "\\textbf{speedlimit\\_2}  &      -0.0668  &        0.082     &    -0.817  &         0.414        &       -0.227    &        0.094     \\\\\n",
       "\\textbf{speedlimit\\_3}  &      -0.0155  &        0.034     &    -0.459  &         0.647        &       -0.082    &        0.051     \\\\\n",
       "\\textbf{speedlimit\\_5}  &      -0.0835  &        0.091     &    -0.917  &         0.359        &       -0.262    &        0.095     \\\\\n",
       "\\textbf{speedlimit\\_6}  &      -0.1166  &        0.165     &    -0.707  &         0.480        &       -0.440    &        0.207     \\\\\n",
       "\\bottomrule\n",
       "\\end{tabular}\n",
       "\\begin{tabular}{lclc}\n",
       "\\textbf{Omnibus:}       &  1.640 & \\textbf{  Durbin-Watson:     } &    1.980  \\\\\n",
       "\\textbf{Prob(Omnibus):} &  0.441 & \\textbf{  Jarque-Bera (JB):  } &    1.529  \\\\\n",
       "\\textbf{Skew:}          & -0.107 & \\textbf{  Prob(JB):          } &    0.466  \\\\\n",
       "\\textbf{Kurtosis:}      &  3.052 & \\textbf{  Cond. No.          } &     36.9  \\\\\n",
       "\\bottomrule\n",
       "\\end{tabular}\n",
       "%\\caption{OLS Regression Results}\n",
       "\\end{center}\n",
       "\n",
       "Notes: \\newline\n",
       " [1] Standard Errors assume that the covariance matrix of the errors is correctly specified."
      ],
      "text/plain": [
       "<class 'statsmodels.iolib.summary.Summary'>\n",
       "\"\"\"\n",
       "                            OLS Regression Results                            \n",
       "==============================================================================\n",
       "Dep. Variable:                    acp   R-squared:                       0.590\n",
       "Model:                            OLS   Adj. R-squared:                  0.555\n",
       "Method:                 Least Squares   F-statistic:                     16.79\n",
       "Date:                Wed, 15 Jan 2025   Prob (F-statistic):           1.80e-99\n",
       "Time:                        16:13:43   Log-Likelihood:                -129.80\n",
       "No. Observations:                 760   AIC:                             381.6\n",
       "Df Residuals:                     699   BIC:                             664.2\n",
       "Df Model:                          60                                         \n",
       "Covariance Type:            nonrobust                                         \n",
       "=================================================================================\n",
       "                    coef    std err          t      P>|t|      [0.025      0.975]\n",
       "---------------------------------------------------------------------------------\n",
       "const             0.4280      0.085      5.012      0.000       0.260       0.596\n",
       "cp               -0.0267      0.012     -2.188      0.029      -0.051      -0.003\n",
       "cmin             -0.0587      0.048     -1.230      0.219      -0.152       0.035\n",
       "ie               -0.0175      0.027     -0.654      0.514      -0.070       0.035\n",
       "mew               0.2669      0.041      6.478      0.000       0.186       0.348\n",
       "meg               0.0113      0.050      0.226      0.821      -0.087       0.110\n",
       "megmax           -0.0006      0.049     -0.012      0.990      -0.096       0.095\n",
       "dbusl             0.0267      0.029      0.930      0.353      -0.030       0.083\n",
       "dtraml           -0.0409      0.034     -1.211      0.226      -0.107       0.025\n",
       "dtrainl          -0.0495      0.038     -1.313      0.190      -0.124       0.025\n",
       "dplight           0.0320      0.047      0.678      0.498      -0.061       0.125\n",
       "dstation         -0.0216      0.051     -0.426      0.670      -0.121       0.078\n",
       "dparkcar          0.0259      0.038      0.680      0.497      -0.049       0.101\n",
       "dparktw          -0.0531      0.042     -1.255      0.210      -0.136       0.030\n",
       "dpedcro          -0.1033      0.042     -2.443      0.015      -0.186      -0.020\n",
       "dstopsign         0.0392      0.047      0.828      0.408      -0.054       0.132\n",
       "dtrafficarea     -0.0469      0.027     -1.740      0.082      -0.100       0.006\n",
       "droad             0.2676      0.018     14.496      0.000       0.231       0.304\n",
       "gvm_dwv          -0.0198      0.035     -0.564      0.573      -0.089       0.049\n",
       "speedlimit       -0.0427      0.035     -1.229      0.219      -0.111       0.026\n",
       "bicyclecount      0.2978      0.026     11.536      0.000       0.247       0.349\n",
       "carcount         -0.0372      0.039     -0.964      0.335      -0.113       0.038\n",
       "z_qnr_1           0.1462      0.084      1.739      0.082      -0.019       0.311\n",
       "z_qnr_2          -0.0979      0.093     -1.057      0.291      -0.280       0.084\n",
       "z_qnr_3           0.1098      0.104      1.052      0.293      -0.095       0.315\n",
       "z_qnr_4           0.0344      0.077      0.449      0.653      -0.116       0.185\n",
       "z_qnr_6           0.0942      0.067      1.416      0.157      -0.036       0.225\n",
       "z_qnr_7          -0.1790      0.075     -2.384      0.017      -0.326      -0.032\n",
       "z_qnr_9          -0.0242      0.077     -0.314      0.753      -0.175       0.127\n",
       "z_qnr_11         -0.2220      0.078     -2.846      0.005      -0.375      -0.069\n",
       "z_qnr_12          0.0733      0.062      1.181      0.238      -0.049       0.195\n",
       "z_qnr_13          0.3625      0.089      4.091      0.000       0.189       0.536\n",
       "z_qnr_14          0.0402      0.132      0.306      0.760      -0.218       0.299\n",
       "z_qnr_17          0.1177      0.071      1.649      0.100      -0.022       0.258\n",
       "z_qnr_21          0.1162      0.084      1.380      0.168      -0.049       0.281\n",
       "z_qnr_22         -0.2549      0.111     -2.295      0.022      -0.473      -0.037\n",
       "z_qnr_23         -0.1153      0.079     -1.450      0.148      -0.271       0.041\n",
       "z_qnr_24          0.0378      0.066      0.569      0.569      -0.092       0.168\n",
       "z_qnr_25         -0.0406      0.081     -0.502      0.616      -0.200       0.118\n",
       "z_qnr_26         -0.2093      0.098     -2.134      0.033      -0.402      -0.017\n",
       "z_qnr_28          0.0286      0.097      0.296      0.767      -0.161       0.219\n",
       "z_qnr_31          0.0042      0.101      0.041      0.967      -0.194       0.202\n",
       "z_qnr_32         -0.1716      0.084     -2.049      0.041      -0.336      -0.007\n",
       "z_qnr_33          0.0144      0.181      0.079      0.937      -0.342       0.371\n",
       "z_knr_2          -0.0779      0.073     -1.070      0.285      -0.221       0.065\n",
       "z_knr_3           0.0566      0.079      0.719      0.472      -0.098       0.211\n",
       "z_knr_7          -0.0096      0.054     -0.179      0.858      -0.115       0.096\n",
       "z_knr_9          -0.1478      0.105     -1.412      0.158      -0.353       0.058\n",
       "z_knr_10         -0.2264      0.063     -3.590      0.000      -0.350      -0.103\n",
       "z_knr_11         -0.0979      0.061     -1.609      0.108      -0.217       0.022\n",
       "trafficarea_1    -0.0237      0.083     -0.286      0.775      -0.187       0.139\n",
       "trafficarea_2    -0.0711      0.056     -1.265      0.206      -0.181       0.039\n",
       "r_width_1        -0.0127      0.046     -0.277      0.782      -0.103       0.077\n",
       "r_width_3         0.0257      0.044      0.582      0.561      -0.061       0.112\n",
       "r_width_4        -0.0059      0.035     -0.171      0.864      -0.074       0.062\n",
       "r_width_5         0.0056      0.035      0.161      0.872      -0.063       0.074\n",
       "r_width_6        -0.0194      0.058     -0.332      0.740      -0.134       0.095\n",
       "speedlimit_2     -0.0668      0.082     -0.817      0.414      -0.227       0.094\n",
       "speedlimit_3     -0.0155      0.034     -0.459      0.647      -0.082       0.051\n",
       "speedlimit_5     -0.0835      0.091     -0.917      0.359      -0.262       0.095\n",
       "speedlimit_6     -0.1166      0.165     -0.707      0.480      -0.440       0.207\n",
       "==============================================================================\n",
       "Omnibus:                        1.640   Durbin-Watson:                   1.980\n",
       "Prob(Omnibus):                  0.441   Jarque-Bera (JB):                1.529\n",
       "Skew:                          -0.107   Prob(JB):                        0.466\n",
       "Kurtosis:                       3.052   Cond. No.                         36.9\n",
       "==============================================================================\n",
       "\n",
       "Notes:\n",
       "[1] Standard Errors assume that the covariance matrix of the errors is correctly specified.\n",
       "\"\"\""
      ]
     },
     "execution_count": 309,
     "metadata": {},
     "output_type": "execute_result"
    }
   ],
   "source": [
    "# OLS\n",
    "X_train, X_test, y_train, y_test = train_test_split(\n",
    "        x_const, y,\n",
    "        test_size=0.3,\n",
    "        random_state=2)\n",
    "\n",
    "m00_split = sm.OLS(y_train, X_train)\n",
    "r00_split = m00_split.fit()\n",
    "r00_split.summary()"
   ]
  },
  {
   "cell_type": "code",
   "execution_count": 310,
   "id": "d46923b6-9eac-4c9e-84c5-8244fc2cf747",
   "metadata": {
    "execution": {
     "iopub.execute_input": "2024-11-22T17:15:09.552643Z",
     "iopub.status.busy": "2024-11-22T17:15:09.552361Z",
     "iopub.status.idle": "2024-11-22T17:15:09.562974Z",
     "shell.execute_reply": "2024-11-22T17:15:09.562360Z",
     "shell.execute_reply.started": "2024-11-22T17:15:09.552625Z"
    }
   },
   "outputs": [
    {
     "name": "stdout",
     "output_type": "stream",
     "text": [
      "0.5552220466442394\n"
     ]
    },
    {
     "data": {
      "text/html": [
       "<div>\n",
       "<style scoped>\n",
       "    .dataframe tbody tr th:only-of-type {\n",
       "        vertical-align: middle;\n",
       "    }\n",
       "\n",
       "    .dataframe tbody tr th {\n",
       "        vertical-align: top;\n",
       "    }\n",
       "\n",
       "    .dataframe thead th {\n",
       "        text-align: right;\n",
       "    }\n",
       "</style>\n",
       "<table border=\"1\" class=\"dataframe\">\n",
       "  <thead>\n",
       "    <tr style=\"text-align: right;\">\n",
       "      <th></th>\n",
       "      <th>feature</th>\n",
       "      <th>0</th>\n",
       "      <th>sig</th>\n",
       "    </tr>\n",
       "  </thead>\n",
       "  <tbody>\n",
       "    <tr>\n",
       "      <th>0</th>\n",
       "      <td>const</td>\n",
       "      <td>6.825531e-07</td>\n",
       "      <td>***</td>\n",
       "    </tr>\n",
       "    <tr>\n",
       "      <th>1</th>\n",
       "      <td>cp</td>\n",
       "      <td>2.898781e-02</td>\n",
       "      <td>*</td>\n",
       "    </tr>\n",
       "    <tr>\n",
       "      <th>2</th>\n",
       "      <td>mew</td>\n",
       "      <td>1.750917e-10</td>\n",
       "      <td>***</td>\n",
       "    </tr>\n",
       "    <tr>\n",
       "      <th>3</th>\n",
       "      <td>dpedcro</td>\n",
       "      <td>1.483128e-02</td>\n",
       "      <td>*</td>\n",
       "    </tr>\n",
       "    <tr>\n",
       "      <th>4</th>\n",
       "      <td>droad</td>\n",
       "      <td>7.942793e-42</td>\n",
       "      <td>***</td>\n",
       "    </tr>\n",
       "    <tr>\n",
       "      <th>5</th>\n",
       "      <td>bicyclecount</td>\n",
       "      <td>2.652187e-28</td>\n",
       "      <td>***</td>\n",
       "    </tr>\n",
       "    <tr>\n",
       "      <th>6</th>\n",
       "      <td>z_qnr_7</td>\n",
       "      <td>1.739480e-02</td>\n",
       "      <td>*</td>\n",
       "    </tr>\n",
       "    <tr>\n",
       "      <th>7</th>\n",
       "      <td>z_qnr_11</td>\n",
       "      <td>4.560316e-03</td>\n",
       "      <td>**</td>\n",
       "    </tr>\n",
       "    <tr>\n",
       "      <th>8</th>\n",
       "      <td>z_qnr_13</td>\n",
       "      <td>4.789087e-05</td>\n",
       "      <td>***</td>\n",
       "    </tr>\n",
       "    <tr>\n",
       "      <th>9</th>\n",
       "      <td>z_qnr_22</td>\n",
       "      <td>2.204066e-02</td>\n",
       "      <td>*</td>\n",
       "    </tr>\n",
       "    <tr>\n",
       "      <th>10</th>\n",
       "      <td>z_qnr_26</td>\n",
       "      <td>3.315784e-02</td>\n",
       "      <td>*</td>\n",
       "    </tr>\n",
       "    <tr>\n",
       "      <th>11</th>\n",
       "      <td>z_qnr_32</td>\n",
       "      <td>4.082084e-02</td>\n",
       "      <td>*</td>\n",
       "    </tr>\n",
       "    <tr>\n",
       "      <th>12</th>\n",
       "      <td>z_knr_10</td>\n",
       "      <td>3.539711e-04</td>\n",
       "      <td>***</td>\n",
       "    </tr>\n",
       "  </tbody>\n",
       "</table>\n",
       "</div>"
      ],
      "text/plain": [
       "         feature             0  sig\n",
       "0          const  6.825531e-07  ***\n",
       "1             cp  2.898781e-02    *\n",
       "2            mew  1.750917e-10  ***\n",
       "3        dpedcro  1.483128e-02    *\n",
       "4          droad  7.942793e-42  ***\n",
       "5   bicyclecount  2.652187e-28  ***\n",
       "6        z_qnr_7  1.739480e-02    *\n",
       "7       z_qnr_11  4.560316e-03   **\n",
       "8       z_qnr_13  4.789087e-05  ***\n",
       "9       z_qnr_22  2.204066e-02    *\n",
       "10      z_qnr_26  3.315784e-02    *\n",
       "11      z_qnr_32  4.082084e-02    *\n",
       "12      z_knr_10  3.539711e-04  ***"
      ]
     },
     "execution_count": 310,
     "metadata": {},
     "output_type": "execute_result"
    }
   ],
   "source": [
    "print(r00_split.rsquared_adj)\n",
    "printsig(r00_split)"
   ]
  },
  {
   "cell_type": "code",
   "execution_count": 311,
   "id": "bfe2a86c-c965-4207-bbbd-7380fa3c694e",
   "metadata": {
    "execution": {
     "iopub.execute_input": "2024-11-22T17:15:09.890191Z",
     "iopub.status.busy": "2024-11-22T17:15:09.889765Z",
     "iopub.status.idle": "2024-11-22T17:15:10.091493Z",
     "shell.execute_reply": "2024-11-22T17:15:10.090880Z",
     "shell.execute_reply.started": "2024-11-22T17:15:09.890165Z"
    }
   },
   "outputs": [
    {
     "name": "stdout",
     "output_type": "stream",
     "text": [
      "\n",
      "Test accuracy : \n",
      " 0.8990825688073395\n",
      "\n",
      "Confusion Matrix : \n",
      " [[221  23]\n",
      " [ 10  73]]\n"
     ]
    },
    {
     "data": {
      "text/plain": [
       "<sklearn.metrics._plot.confusion_matrix.ConfusionMatrixDisplay at 0x20f7a285910>"
      ]
     },
     "execution_count": 311,
     "metadata": {},
     "output_type": "execute_result"
    },
    {
     "data": {
      "image/png": "[encoded data removed]",
      "text/plain": [
       "<Figure size 432x288 with 2 Axes>"
      ]
     },
     "metadata": {
      "needs_background": "light"
     },
     "output_type": "display_data"
    }
   ],
   "source": [
    "pred00split = r00_split.predict(X_test)\n",
    "pred00split = list(map(round,pred00split))\n",
    "print('\\nTest accuracy : \\n', accuracy_score(y_test, pred00split))\n",
    "cm00split = confusion_matrix(y_test, pred00split) \n",
    "print ('\\nConfusion Matrix : \\n', cm00split) \n",
    "cm00split_display = metrics.ConfusionMatrixDisplay(confusion_matrix = cm00split)\n",
    "cm00split_display.plot()"
   ]
  },
  {
   "cell_type": "code",
   "execution_count": 312,
   "id": "69c19d28-27cd-4c98-a5a1-2e1d3ab22b14",
   "metadata": {
    "execution": {
     "iopub.execute_input": "2024-11-22T17:15:10.761238Z",
     "iopub.status.busy": "2024-11-22T17:15:10.760828Z",
     "iopub.status.idle": "2024-11-22T17:15:10.774446Z",
     "shell.execute_reply": "2024-11-22T17:15:10.773864Z",
     "shell.execute_reply.started": "2024-11-22T17:15:10.761213Z"
    }
   },
   "outputs": [
    {
     "name": "stdout",
     "output_type": "stream",
     "text": [
      "accuracy 0.8990825688073395\n",
      "precision [0.95670996 0.76041667]\n",
      "sensitivity recall [0.9057377  0.87951807]\n",
      "f1 score [0.93052632 0.81564246]\n",
      "mean precision 0.8585633116883117\n",
      "mean recall 0.8926278886035947\n",
      "mean f1 score 0.8730843869450162\n"
     ]
    }
   ],
   "source": [
    "acc_ols_sp = metrics.accuracy_score(y_test, pred00split)\n",
    "print('accuracy', acc_ols_sp)\n",
    "\n",
    "pre_ols_sp = metrics.precision_score(y_test, pred00split, average = None)\n",
    "print('precision', pre_ols_sp)\n",
    "\n",
    "senrec_ols_sp = metrics.recall_score(y_test, pred00split, average = None)\n",
    "print('sensitivity recall', senrec_ols_sp)\n",
    "\n",
    "f1_ols_sp = metrics.f1_score(y_test, pred00split, average = None)\n",
    "print('f1 score', f1_ols_sp)\n",
    "\n",
    "pre_ols_sp_m = np.mean(pre_ols_sp)\n",
    "senrec_ols_sp_m = np.mean(senrec_ols_sp)\n",
    "f1_ols_sp_m = np.mean(f1_ols_sp)\n",
    "print('mean precision', pre_ols_sp_m)\n",
    "print('mean recall', senrec_ols_sp_m)\n",
    "print('mean f1 score', f1_ols_sp_m)"
   ]
  },
  {
   "cell_type": "markdown",
   "id": "a327603c-ad68-4b69-95c7-06df6d4e2054",
   "metadata": {},
   "source": [
    "## Logistic regression"
   ]
  },
  {
   "cell_type": "markdown",
   "id": "79ac4aef-1e11-48d8-9ccd-98481b9df280",
   "metadata": {
    "execution": {
     "iopub.execute_input": "2024-09-02T18:01:13.342604Z",
     "iopub.status.busy": "2024-09-02T18:01:13.341768Z",
     "iopub.status.idle": "2024-09-02T18:01:13.345485Z",
     "shell.execute_reply": "2024-09-02T18:01:13.344931Z",
     "shell.execute_reply.started": "2024-09-02T18:01:13.342578Z"
    }
   },
   "source": [
    "### Without data splitting"
   ]
  },
  {
   "cell_type": "code",
   "execution_count": 313,
   "id": "12ecebde-f940-4f16-abf8-dff0f73a72f6",
   "metadata": {
    "execution": {
     "iopub.execute_input": "2024-11-22T17:18:11.254958Z",
     "iopub.status.busy": "2024-11-22T17:18:11.254678Z",
     "iopub.status.idle": "2024-11-22T17:18:11.444128Z",
     "shell.execute_reply": "2024-11-22T17:18:11.443090Z",
     "shell.execute_reply.started": "2024-11-22T17:18:11.254937Z"
    },
    "scrolled": true
   },
   "outputs": [
    {
     "name": "stdout",
     "output_type": "stream",
     "text": [
      "         Current function value: 0.179618\n",
      "         Iterations: 35\n",
      "         Function evaluations: 36\n",
      "         Gradient evaluations: 36\n"
     ]
    },
    {
     "name": "stderr",
     "output_type": "stream",
     "text": [
      "E:\\Anaconda\\Anaconda_file\\lib\\site-packages\\statsmodels\\base\\model.py:130: ValueWarning: unknown kwargs ['max_iter']\n",
      "  warnings.warn(msg, ValueWarning)\n",
      "E:\\Anaconda\\Anaconda_file\\lib\\site-packages\\scipy\\optimize\\_optimize.py:1360: OptimizeWarning: Maximum number of iterations has been exceeded.\n",
      "  res = _minimize_bfgs(f, x0, args, fprime, callback=callback, **opts)\n",
      "E:\\Anaconda\\Anaconda_file\\lib\\site-packages\\statsmodels\\base\\model.py:607: ConvergenceWarning: Maximum Likelihood optimization failed to converge. Check mle_retvals\n",
      "  warnings.warn(\"Maximum Likelihood optimization failed to \"\n",
      "E:\\Anaconda\\Anaconda_file\\lib\\site-packages\\statsmodels\\base\\model.py:130: ValueWarning: unknown kwargs ['max_iter']\n",
      "  warnings.warn(msg, ValueWarning)\n"
     ]
    },
    {
     "data": {
      "text/html": [
       "<table class=\"simpletable\">\n",
       "<caption>Logit Regression Results</caption>\n",
       "<tr>\n",
       "  <th>Dep. Variable:</th>          <td>acp</td>       <th>  No. Observations:  </th>   <td>  1087</td>  \n",
       "</tr>\n",
       "<tr>\n",
       "  <th>Model:</th>                 <td>Logit</td>      <th>  Df Residuals:      </th>   <td>  1026</td>  \n",
       "</tr>\n",
       "<tr>\n",
       "  <th>Method:</th>                 <td>MLE</td>       <th>  Df Model:          </th>   <td>    60</td>  \n",
       "</tr>\n",
       "<tr>\n",
       "  <th>Date:</th>            <td>Wed, 15 Jan 2025</td> <th>  Pseudo R-squ.:     </th>   <td>0.6928</td>  \n",
       "</tr>\n",
       "<tr>\n",
       "  <th>Time:</th>                <td>16:13:46</td>     <th>  Log-Likelihood:    </th>  <td> -195.24</td> \n",
       "</tr>\n",
       "<tr>\n",
       "  <th>converged:</th>             <td>False</td>      <th>  LL-Null:           </th>  <td> -635.50</td> \n",
       "</tr>\n",
       "<tr>\n",
       "  <th>Covariance Type:</th>     <td>nonrobust</td>    <th>  LLR p-value:       </th> <td>3.552e-146</td>\n",
       "</tr>\n",
       "</table>\n",
       "<table class=\"simpletable\">\n",
       "<tr>\n",
       "        <td></td>           <th>coef</th>     <th>std err</th>      <th>z</th>      <th>P>|z|</th>  <th>[0.025</th>    <th>0.975]</th>  \n",
       "</tr>\n",
       "<tr>\n",
       "  <th>const</th>         <td>   -1.3240</td> <td>    1.125</td> <td>   -1.177</td> <td> 0.239</td> <td>   -3.529</td> <td>    0.881</td>\n",
       "</tr>\n",
       "<tr>\n",
       "  <th>cp</th>            <td>   -0.3763</td> <td>    0.156</td> <td>   -2.417</td> <td> 0.016</td> <td>   -0.681</td> <td>   -0.071</td>\n",
       "</tr>\n",
       "<tr>\n",
       "  <th>cmin</th>          <td>    0.1976</td> <td>    0.713</td> <td>    0.277</td> <td> 0.782</td> <td>   -1.201</td> <td>    1.596</td>\n",
       "</tr>\n",
       "<tr>\n",
       "  <th>ie</th>            <td>   -0.4320</td> <td>    0.342</td> <td>   -1.262</td> <td> 0.207</td> <td>   -1.103</td> <td>    0.239</td>\n",
       "</tr>\n",
       "<tr>\n",
       "  <th>mew</th>           <td>    3.5294</td> <td>    0.565</td> <td>    6.250</td> <td> 0.000</td> <td>    2.423</td> <td>    4.636</td>\n",
       "</tr>\n",
       "<tr>\n",
       "  <th>meg</th>           <td>   -0.0400</td> <td>    0.628</td> <td>   -0.064</td> <td> 0.949</td> <td>   -1.271</td> <td>    1.191</td>\n",
       "</tr>\n",
       "<tr>\n",
       "  <th>megmax</th>        <td>   -0.4075</td> <td>    0.640</td> <td>   -0.637</td> <td> 0.524</td> <td>   -1.662</td> <td>    0.847</td>\n",
       "</tr>\n",
       "<tr>\n",
       "  <th>dbusl</th>         <td>    0.5729</td> <td>    0.405</td> <td>    1.416</td> <td> 0.157</td> <td>   -0.220</td> <td>    1.366</td>\n",
       "</tr>\n",
       "<tr>\n",
       "  <th>dtraml</th>        <td>   -0.4085</td> <td>    0.441</td> <td>   -0.926</td> <td> 0.354</td> <td>   -1.273</td> <td>    0.456</td>\n",
       "</tr>\n",
       "<tr>\n",
       "  <th>dtrainl</th>       <td>    0.3844</td> <td>    0.510</td> <td>    0.753</td> <td> 0.451</td> <td>   -0.616</td> <td>    1.385</td>\n",
       "</tr>\n",
       "<tr>\n",
       "  <th>dplight</th>       <td>   -0.8456</td> <td>    0.615</td> <td>   -1.375</td> <td> 0.169</td> <td>   -2.051</td> <td>    0.360</td>\n",
       "</tr>\n",
       "<tr>\n",
       "  <th>dstation</th>      <td>   -0.8729</td> <td>    0.665</td> <td>   -1.313</td> <td> 0.189</td> <td>   -2.175</td> <td>    0.430</td>\n",
       "</tr>\n",
       "<tr>\n",
       "  <th>dparkcar</th>      <td>    0.0591</td> <td>    0.513</td> <td>    0.115</td> <td> 0.908</td> <td>   -0.946</td> <td>    1.064</td>\n",
       "</tr>\n",
       "<tr>\n",
       "  <th>dparktw</th>       <td>   -0.8349</td> <td>    0.567</td> <td>   -1.472</td> <td> 0.141</td> <td>   -1.947</td> <td>    0.277</td>\n",
       "</tr>\n",
       "<tr>\n",
       "  <th>dpedcro</th>       <td>   -1.5257</td> <td>    0.534</td> <td>   -2.855</td> <td> 0.004</td> <td>   -2.573</td> <td>   -0.478</td>\n",
       "</tr>\n",
       "<tr>\n",
       "  <th>dstopsign</th>     <td>   -0.0563</td> <td>    0.619</td> <td>   -0.091</td> <td> 0.928</td> <td>   -1.270</td> <td>    1.157</td>\n",
       "</tr>\n",
       "<tr>\n",
       "  <th>dtrafficarea</th>  <td>   -0.4375</td> <td>    0.318</td> <td>   -1.374</td> <td> 0.169</td> <td>   -1.062</td> <td>    0.187</td>\n",
       "</tr>\n",
       "<tr>\n",
       "  <th>droad</th>         <td>    2.8322</td> <td>    0.264</td> <td>   10.747</td> <td> 0.000</td> <td>    2.316</td> <td>    3.349</td>\n",
       "</tr>\n",
       "<tr>\n",
       "  <th>gvm_dwv</th>       <td>    0.5480</td> <td>    0.439</td> <td>    1.248</td> <td> 0.212</td> <td>   -0.313</td> <td>    1.409</td>\n",
       "</tr>\n",
       "<tr>\n",
       "  <th>speedlimit</th>    <td>   -1.0083</td> <td>    0.451</td> <td>   -2.238</td> <td> 0.025</td> <td>   -1.891</td> <td>   -0.125</td>\n",
       "</tr>\n",
       "<tr>\n",
       "  <th>bicyclecount</th>  <td>    6.9662</td> <td>    0.848</td> <td>    8.219</td> <td> 0.000</td> <td>    5.305</td> <td>    8.627</td>\n",
       "</tr>\n",
       "<tr>\n",
       "  <th>carcount</th>      <td>    0.2011</td> <td>    0.446</td> <td>    0.450</td> <td> 0.652</td> <td>   -0.674</td> <td>    1.076</td>\n",
       "</tr>\n",
       "<tr>\n",
       "  <th>z_qnr_1</th>       <td>    0.2487</td> <td>    1.252</td> <td>    0.199</td> <td> 0.843</td> <td>   -2.206</td> <td>    2.704</td>\n",
       "</tr>\n",
       "<tr>\n",
       "  <th>z_qnr_2</th>       <td>   -0.3229</td> <td>    1.420</td> <td>   -0.227</td> <td> 0.820</td> <td>   -3.105</td> <td>    2.459</td>\n",
       "</tr>\n",
       "<tr>\n",
       "  <th>z_qnr_3</th>       <td>    0.6010</td> <td>    1.209</td> <td>    0.497</td> <td> 0.619</td> <td>   -1.769</td> <td>    2.971</td>\n",
       "</tr>\n",
       "<tr>\n",
       "  <th>z_qnr_4</th>       <td>    0.5122</td> <td>    0.896</td> <td>    0.572</td> <td> 0.568</td> <td>   -1.244</td> <td>    2.268</td>\n",
       "</tr>\n",
       "<tr>\n",
       "  <th>z_qnr_6</th>       <td>    0.2397</td> <td>    0.733</td> <td>    0.327</td> <td> 0.744</td> <td>   -1.196</td> <td>    1.676</td>\n",
       "</tr>\n",
       "<tr>\n",
       "  <th>z_qnr_7</th>       <td>   -0.8440</td> <td>    1.050</td> <td>   -0.804</td> <td> 0.421</td> <td>   -2.901</td> <td>    1.213</td>\n",
       "</tr>\n",
       "<tr>\n",
       "  <th>z_qnr_9</th>       <td>    0.3941</td> <td>    0.806</td> <td>    0.489</td> <td> 0.625</td> <td>   -1.186</td> <td>    1.974</td>\n",
       "</tr>\n",
       "<tr>\n",
       "  <th>z_qnr_11</th>      <td>   -1.1729</td> <td>    0.845</td> <td>   -1.389</td> <td> 0.165</td> <td>   -2.828</td> <td>    0.482</td>\n",
       "</tr>\n",
       "<tr>\n",
       "  <th>z_qnr_12</th>      <td>    1.5090</td> <td>    0.755</td> <td>    1.999</td> <td> 0.046</td> <td>    0.030</td> <td>    2.988</td>\n",
       "</tr>\n",
       "<tr>\n",
       "  <th>z_qnr_13</th>      <td>    1.6611</td> <td>    0.963</td> <td>    1.725</td> <td> 0.085</td> <td>   -0.226</td> <td>    3.549</td>\n",
       "</tr>\n",
       "<tr>\n",
       "  <th>z_qnr_14</th>      <td>   -0.2098</td> <td>    2.001</td> <td>   -0.105</td> <td> 0.916</td> <td>   -4.131</td> <td>    3.711</td>\n",
       "</tr>\n",
       "<tr>\n",
       "  <th>z_qnr_17</th>      <td>    0.1818</td> <td>    0.945</td> <td>    0.192</td> <td> 0.847</td> <td>   -1.671</td> <td>    2.034</td>\n",
       "</tr>\n",
       "<tr>\n",
       "  <th>z_qnr_21</th>      <td>    0.8702</td> <td>    1.203</td> <td>    0.723</td> <td> 0.469</td> <td>   -1.487</td> <td>    3.227</td>\n",
       "</tr>\n",
       "<tr>\n",
       "  <th>z_qnr_22</th>      <td>   -0.5258</td> <td>    1.301</td> <td>   -0.404</td> <td> 0.686</td> <td>   -3.075</td> <td>    2.024</td>\n",
       "</tr>\n",
       "<tr>\n",
       "  <th>z_qnr_23</th>      <td>   -0.2505</td> <td>    1.053</td> <td>   -0.238</td> <td> 0.812</td> <td>   -2.315</td> <td>    1.814</td>\n",
       "</tr>\n",
       "<tr>\n",
       "  <th>z_qnr_24</th>      <td>   -0.0365</td> <td>    1.444</td> <td>   -0.025</td> <td> 0.980</td> <td>   -2.867</td> <td>    2.794</td>\n",
       "</tr>\n",
       "<tr>\n",
       "  <th>z_qnr_25</th>      <td>    0.7979</td> <td>    1.053</td> <td>    0.758</td> <td> 0.448</td> <td>   -1.265</td> <td>    2.861</td>\n",
       "</tr>\n",
       "<tr>\n",
       "  <th>z_qnr_26</th>      <td>   -0.4126</td> <td>    1.216</td> <td>   -0.339</td> <td> 0.734</td> <td>   -2.796</td> <td>    1.970</td>\n",
       "</tr>\n",
       "<tr>\n",
       "  <th>z_qnr_28</th>      <td>   -0.7848</td> <td>    1.332</td> <td>   -0.589</td> <td> 0.556</td> <td>   -3.395</td> <td>    1.826</td>\n",
       "</tr>\n",
       "<tr>\n",
       "  <th>z_qnr_31</th>      <td>   -0.3259</td> <td>    1.641</td> <td>   -0.199</td> <td> 0.843</td> <td>   -3.543</td> <td>    2.891</td>\n",
       "</tr>\n",
       "<tr>\n",
       "  <th>z_qnr_32</th>      <td>   -0.5940</td> <td>    1.539</td> <td>   -0.386</td> <td> 0.699</td> <td>   -3.610</td> <td>    2.422</td>\n",
       "</tr>\n",
       "<tr>\n",
       "  <th>z_qnr_33</th>      <td>   -0.3997</td> <td>    2.732</td> <td>   -0.146</td> <td> 0.884</td> <td>   -5.755</td> <td>    4.956</td>\n",
       "</tr>\n",
       "<tr>\n",
       "  <th>z_knr_2</th>       <td>   -0.6538</td> <td>    1.356</td> <td>   -0.482</td> <td> 0.630</td> <td>   -3.312</td> <td>    2.005</td>\n",
       "</tr>\n",
       "<tr>\n",
       "  <th>z_knr_3</th>       <td>    0.7719</td> <td>    0.921</td> <td>    0.838</td> <td> 0.402</td> <td>   -1.033</td> <td>    2.577</td>\n",
       "</tr>\n",
       "<tr>\n",
       "  <th>z_knr_7</th>       <td>    1.0202</td> <td>    0.811</td> <td>    1.257</td> <td> 0.209</td> <td>   -0.570</td> <td>    2.610</td>\n",
       "</tr>\n",
       "<tr>\n",
       "  <th>z_knr_9</th>       <td>   -0.5069</td> <td>    1.684</td> <td>   -0.301</td> <td> 0.763</td> <td>   -3.807</td> <td>    2.793</td>\n",
       "</tr>\n",
       "<tr>\n",
       "  <th>z_knr_10</th>      <td>   -2.1827</td> <td>    0.782</td> <td>   -2.790</td> <td> 0.005</td> <td>   -3.716</td> <td>   -0.649</td>\n",
       "</tr>\n",
       "<tr>\n",
       "  <th>z_knr_11</th>      <td>    0.0450</td> <td>    0.718</td> <td>    0.063</td> <td> 0.950</td> <td>   -1.362</td> <td>    1.452</td>\n",
       "</tr>\n",
       "<tr>\n",
       "  <th>trafficarea_1</th> <td>    0.5970</td> <td>    0.945</td> <td>    0.632</td> <td> 0.527</td> <td>   -1.255</td> <td>    2.448</td>\n",
       "</tr>\n",
       "<tr>\n",
       "  <th>trafficarea_2</th> <td>   -1.2678</td> <td>    0.647</td> <td>   -1.958</td> <td> 0.050</td> <td>   -2.537</td> <td>    0.001</td>\n",
       "</tr>\n",
       "<tr>\n",
       "  <th>r_width_1</th>     <td>    0.8718</td> <td>    0.532</td> <td>    1.640</td> <td> 0.101</td> <td>   -0.170</td> <td>    1.914</td>\n",
       "</tr>\n",
       "<tr>\n",
       "  <th>r_width_3</th>     <td>    0.2887</td> <td>    0.568</td> <td>    0.509</td> <td> 0.611</td> <td>   -0.824</td> <td>    1.401</td>\n",
       "</tr>\n",
       "<tr>\n",
       "  <th>r_width_4</th>     <td>   -0.4356</td> <td>    0.444</td> <td>   -0.981</td> <td> 0.327</td> <td>   -1.306</td> <td>    0.435</td>\n",
       "</tr>\n",
       "<tr>\n",
       "  <th>r_width_5</th>     <td>    0.1446</td> <td>    0.424</td> <td>    0.341</td> <td> 0.733</td> <td>   -0.687</td> <td>    0.976</td>\n",
       "</tr>\n",
       "<tr>\n",
       "  <th>r_width_6</th>     <td>   -0.5592</td> <td>    0.869</td> <td>   -0.644</td> <td> 0.520</td> <td>   -2.262</td> <td>    1.144</td>\n",
       "</tr>\n",
       "<tr>\n",
       "  <th>speedlimit_2</th>  <td>   -0.6083</td> <td>    1.057</td> <td>   -0.576</td> <td> 0.565</td> <td>   -2.679</td> <td>    1.463</td>\n",
       "</tr>\n",
       "<tr>\n",
       "  <th>speedlimit_3</th>  <td>   -0.2508</td> <td>    0.406</td> <td>   -0.618</td> <td> 0.537</td> <td>   -1.047</td> <td>    0.545</td>\n",
       "</tr>\n",
       "<tr>\n",
       "  <th>speedlimit_5</th>  <td>   -0.5801</td> <td>    1.420</td> <td>   -0.409</td> <td> 0.683</td> <td>   -3.363</td> <td>    2.203</td>\n",
       "</tr>\n",
       "<tr>\n",
       "  <th>speedlimit_6</th>  <td>    0.1127</td> <td>    1.883</td> <td>    0.060</td> <td> 0.952</td> <td>   -3.578</td> <td>    3.803</td>\n",
       "</tr>\n",
       "</table><br/><br/>Possibly complete quasi-separation: A fraction 0.21 of observations can be<br/>perfectly predicted. This might indicate that there is complete<br/>quasi-separation. In this case some parameters will not be identified."
      ],
      "text/latex": [
       "\\begin{center}\n",
       "\\begin{tabular}{lclc}\n",
       "\\toprule\n",
       "\\textbf{Dep. Variable:}   &       acp        & \\textbf{  No. Observations:  } &     1087    \\\\\n",
       "\\textbf{Model:}           &      Logit       & \\textbf{  Df Residuals:      } &     1026    \\\\\n",
       "\\textbf{Method:}          &       MLE        & \\textbf{  Df Model:          } &       60    \\\\\n",
       "\\textbf{Date:}            & Wed, 15 Jan 2025 & \\textbf{  Pseudo R-squ.:     } &   0.6928    \\\\\n",
       "\\textbf{Time:}            &     16:13:46     & \\textbf{  Log-Likelihood:    } &   -195.24   \\\\\n",
       "\\textbf{converged:}       &      False       & \\textbf{  LL-Null:           } &   -635.50   \\\\\n",
       "\\textbf{Covariance Type:} &    nonrobust     & \\textbf{  LLR p-value:       } & 3.552e-146  \\\\\n",
       "\\bottomrule\n",
       "\\end{tabular}\n",
       "\\begin{tabular}{lcccccc}\n",
       "                        & \\textbf{coef} & \\textbf{std err} & \\textbf{z} & \\textbf{P$> |$z$|$} & \\textbf{[0.025} & \\textbf{0.975]}  \\\\\n",
       "\\midrule\n",
       "\\textbf{const}          &      -1.3240  &        1.125     &    -1.177  &         0.239        &       -3.529    &        0.881     \\\\\n",
       "\\textbf{cp}             &      -0.3763  &        0.156     &    -2.417  &         0.016        &       -0.681    &       -0.071     \\\\\n",
       "\\textbf{cmin}           &       0.1976  &        0.713     &     0.277  &         0.782        &       -1.201    &        1.596     \\\\\n",
       "\\textbf{ie}             &      -0.4320  &        0.342     &    -1.262  &         0.207        &       -1.103    &        0.239     \\\\\n",
       "\\textbf{mew}            &       3.5294  &        0.565     &     6.250  &         0.000        &        2.423    &        4.636     \\\\\n",
       "\\textbf{meg}            &      -0.0400  &        0.628     &    -0.064  &         0.949        &       -1.271    &        1.191     \\\\\n",
       "\\textbf{megmax}         &      -0.4075  &        0.640     &    -0.637  &         0.524        &       -1.662    &        0.847     \\\\\n",
       "\\textbf{dbusl}          &       0.5729  &        0.405     &     1.416  &         0.157        &       -0.220    &        1.366     \\\\\n",
       "\\textbf{dtraml}         &      -0.4085  &        0.441     &    -0.926  &         0.354        &       -1.273    &        0.456     \\\\\n",
       "\\textbf{dtrainl}        &       0.3844  &        0.510     &     0.753  &         0.451        &       -0.616    &        1.385     \\\\\n",
       "\\textbf{dplight}        &      -0.8456  &        0.615     &    -1.375  &         0.169        &       -2.051    &        0.360     \\\\\n",
       "\\textbf{dstation}       &      -0.8729  &        0.665     &    -1.313  &         0.189        &       -2.175    &        0.430     \\\\\n",
       "\\textbf{dparkcar}       &       0.0591  &        0.513     &     0.115  &         0.908        &       -0.946    &        1.064     \\\\\n",
       "\\textbf{dparktw}        &      -0.8349  &        0.567     &    -1.472  &         0.141        &       -1.947    &        0.277     \\\\\n",
       "\\textbf{dpedcro}        &      -1.5257  &        0.534     &    -2.855  &         0.004        &       -2.573    &       -0.478     \\\\\n",
       "\\textbf{dstopsign}      &      -0.0563  &        0.619     &    -0.091  &         0.928        &       -1.270    &        1.157     \\\\\n",
       "\\textbf{dtrafficarea}   &      -0.4375  &        0.318     &    -1.374  &         0.169        &       -1.062    &        0.187     \\\\\n",
       "\\textbf{droad}          &       2.8322  &        0.264     &    10.747  &         0.000        &        2.316    &        3.349     \\\\\n",
       "\\textbf{gvm\\_dwv}       &       0.5480  &        0.439     &     1.248  &         0.212        &       -0.313    &        1.409     \\\\\n",
       "\\textbf{speedlimit}     &      -1.0083  &        0.451     &    -2.238  &         0.025        &       -1.891    &       -0.125     \\\\\n",
       "\\textbf{bicyclecount}   &       6.9662  &        0.848     &     8.219  &         0.000        &        5.305    &        8.627     \\\\\n",
       "\\textbf{carcount}       &       0.2011  &        0.446     &     0.450  &         0.652        &       -0.674    &        1.076     \\\\\n",
       "\\textbf{z\\_qnr\\_1}      &       0.2487  &        1.252     &     0.199  &         0.843        &       -2.206    &        2.704     \\\\\n",
       "\\textbf{z\\_qnr\\_2}      &      -0.3229  &        1.420     &    -0.227  &         0.820        &       -3.105    &        2.459     \\\\\n",
       "\\textbf{z\\_qnr\\_3}      &       0.6010  &        1.209     &     0.497  &         0.619        &       -1.769    &        2.971     \\\\\n",
       "\\textbf{z\\_qnr\\_4}      &       0.5122  &        0.896     &     0.572  &         0.568        &       -1.244    &        2.268     \\\\\n",
       "\\textbf{z\\_qnr\\_6}      &       0.2397  &        0.733     &     0.327  &         0.744        &       -1.196    &        1.676     \\\\\n",
       "\\textbf{z\\_qnr\\_7}      &      -0.8440  &        1.050     &    -0.804  &         0.421        &       -2.901    &        1.213     \\\\\n",
       "\\textbf{z\\_qnr\\_9}      &       0.3941  &        0.806     &     0.489  &         0.625        &       -1.186    &        1.974     \\\\\n",
       "\\textbf{z\\_qnr\\_11}     &      -1.1729  &        0.845     &    -1.389  &         0.165        &       -2.828    &        0.482     \\\\\n",
       "\\textbf{z\\_qnr\\_12}     &       1.5090  &        0.755     &     1.999  &         0.046        &        0.030    &        2.988     \\\\\n",
       "\\textbf{z\\_qnr\\_13}     &       1.6611  &        0.963     &     1.725  &         0.085        &       -0.226    &        3.549     \\\\\n",
       "\\textbf{z\\_qnr\\_14}     &      -0.2098  &        2.001     &    -0.105  &         0.916        &       -4.131    &        3.711     \\\\\n",
       "\\textbf{z\\_qnr\\_17}     &       0.1818  &        0.945     &     0.192  &         0.847        &       -1.671    &        2.034     \\\\\n",
       "\\textbf{z\\_qnr\\_21}     &       0.8702  &        1.203     &     0.723  &         0.469        &       -1.487    &        3.227     \\\\\n",
       "\\textbf{z\\_qnr\\_22}     &      -0.5258  &        1.301     &    -0.404  &         0.686        &       -3.075    &        2.024     \\\\\n",
       "\\textbf{z\\_qnr\\_23}     &      -0.2505  &        1.053     &    -0.238  &         0.812        &       -2.315    &        1.814     \\\\\n",
       "\\textbf{z\\_qnr\\_24}     &      -0.0365  &        1.444     &    -0.025  &         0.980        &       -2.867    &        2.794     \\\\\n",
       "\\textbf{z\\_qnr\\_25}     &       0.7979  &        1.053     &     0.758  &         0.448        &       -1.265    &        2.861     \\\\\n",
       "\\textbf{z\\_qnr\\_26}     &      -0.4126  &        1.216     &    -0.339  &         0.734        &       -2.796    &        1.970     \\\\\n",
       "\\textbf{z\\_qnr\\_28}     &      -0.7848  &        1.332     &    -0.589  &         0.556        &       -3.395    &        1.826     \\\\\n",
       "\\textbf{z\\_qnr\\_31}     &      -0.3259  &        1.641     &    -0.199  &         0.843        &       -3.543    &        2.891     \\\\\n",
       "\\textbf{z\\_qnr\\_32}     &      -0.5940  &        1.539     &    -0.386  &         0.699        &       -3.610    &        2.422     \\\\\n",
       "\\textbf{z\\_qnr\\_33}     &      -0.3997  &        2.732     &    -0.146  &         0.884        &       -5.755    &        4.956     \\\\\n",
       "\\textbf{z\\_knr\\_2}      &      -0.6538  &        1.356     &    -0.482  &         0.630        &       -3.312    &        2.005     \\\\\n",
       "\\textbf{z\\_knr\\_3}      &       0.7719  &        0.921     &     0.838  &         0.402        &       -1.033    &        2.577     \\\\\n",
       "\\textbf{z\\_knr\\_7}      &       1.0202  &        0.811     &     1.257  &         0.209        &       -0.570    &        2.610     \\\\\n",
       "\\textbf{z\\_knr\\_9}      &      -0.5069  &        1.684     &    -0.301  &         0.763        &       -3.807    &        2.793     \\\\\n",
       "\\textbf{z\\_knr\\_10}     &      -2.1827  &        0.782     &    -2.790  &         0.005        &       -3.716    &       -0.649     \\\\\n",
       "\\textbf{z\\_knr\\_11}     &       0.0450  &        0.718     &     0.063  &         0.950        &       -1.362    &        1.452     \\\\\n",
       "\\textbf{trafficarea\\_1} &       0.5970  &        0.945     &     0.632  &         0.527        &       -1.255    &        2.448     \\\\\n",
       "\\textbf{trafficarea\\_2} &      -1.2678  &        0.647     &    -1.958  &         0.050        &       -2.537    &        0.001     \\\\\n",
       "\\textbf{r\\_width\\_1}    &       0.8718  &        0.532     &     1.640  &         0.101        &       -0.170    &        1.914     \\\\\n",
       "\\textbf{r\\_width\\_3}    &       0.2887  &        0.568     &     0.509  &         0.611        &       -0.824    &        1.401     \\\\\n",
       "\\textbf{r\\_width\\_4}    &      -0.4356  &        0.444     &    -0.981  &         0.327        &       -1.306    &        0.435     \\\\\n",
       "\\textbf{r\\_width\\_5}    &       0.1446  &        0.424     &     0.341  &         0.733        &       -0.687    &        0.976     \\\\\n",
       "\\textbf{r\\_width\\_6}    &      -0.5592  &        0.869     &    -0.644  &         0.520        &       -2.262    &        1.144     \\\\\n",
       "\\textbf{speedlimit\\_2}  &      -0.6083  &        1.057     &    -0.576  &         0.565        &       -2.679    &        1.463     \\\\\n",
       "\\textbf{speedlimit\\_3}  &      -0.2508  &        0.406     &    -0.618  &         0.537        &       -1.047    &        0.545     \\\\\n",
       "\\textbf{speedlimit\\_5}  &      -0.5801  &        1.420     &    -0.409  &         0.683        &       -3.363    &        2.203     \\\\\n",
       "\\textbf{speedlimit\\_6}  &       0.1127  &        1.883     &     0.060  &         0.952        &       -3.578    &        3.803     \\\\\n",
       "\\bottomrule\n",
       "\\end{tabular}\n",
       "%\\caption{Logit Regression Results}\n",
       "\\end{center}\n",
       "\n",
       "Possibly complete quasi-separation: A fraction 0.21 of observations can be \\newline\n",
       " perfectly predicted. This might indicate that there is complete \\newline\n",
       " quasi-separation. In this case some parameters will not be identified."
      ],
      "text/plain": [
       "<class 'statsmodels.iolib.summary.Summary'>\n",
       "\"\"\"\n",
       "                           Logit Regression Results                           \n",
       "==============================================================================\n",
       "Dep. Variable:                    acp   No. Observations:                 1087\n",
       "Model:                          Logit   Df Residuals:                     1026\n",
       "Method:                           MLE   Df Model:                           60\n",
       "Date:                Wed, 15 Jan 2025   Pseudo R-squ.:                  0.6928\n",
       "Time:                        16:13:46   Log-Likelihood:                -195.24\n",
       "converged:                      False   LL-Null:                       -635.50\n",
       "Covariance Type:            nonrobust   LLR p-value:                3.552e-146\n",
       "=================================================================================\n",
       "                    coef    std err          z      P>|z|      [0.025      0.975]\n",
       "---------------------------------------------------------------------------------\n",
       "const            -1.3240      1.125     -1.177      0.239      -3.529       0.881\n",
       "cp               -0.3763      0.156     -2.417      0.016      -0.681      -0.071\n",
       "cmin              0.1976      0.713      0.277      0.782      -1.201       1.596\n",
       "ie               -0.4320      0.342     -1.262      0.207      -1.103       0.239\n",
       "mew               3.5294      0.565      6.250      0.000       2.423       4.636\n",
       "meg              -0.0400      0.628     -0.064      0.949      -1.271       1.191\n",
       "megmax           -0.4075      0.640     -0.637      0.524      -1.662       0.847\n",
       "dbusl             0.5729      0.405      1.416      0.157      -0.220       1.366\n",
       "dtraml           -0.4085      0.441     -0.926      0.354      -1.273       0.456\n",
       "dtrainl           0.3844      0.510      0.753      0.451      -0.616       1.385\n",
       "dplight          -0.8456      0.615     -1.375      0.169      -2.051       0.360\n",
       "dstation         -0.8729      0.665     -1.313      0.189      -2.175       0.430\n",
       "dparkcar          0.0591      0.513      0.115      0.908      -0.946       1.064\n",
       "dparktw          -0.8349      0.567     -1.472      0.141      -1.947       0.277\n",
       "dpedcro          -1.5257      0.534     -2.855      0.004      -2.573      -0.478\n",
       "dstopsign        -0.0563      0.619     -0.091      0.928      -1.270       1.157\n",
       "dtrafficarea     -0.4375      0.318     -1.374      0.169      -1.062       0.187\n",
       "droad             2.8322      0.264     10.747      0.000       2.316       3.349\n",
       "gvm_dwv           0.5480      0.439      1.248      0.212      -0.313       1.409\n",
       "speedlimit       -1.0083      0.451     -2.238      0.025      -1.891      -0.125\n",
       "bicyclecount      6.9662      0.848      8.219      0.000       5.305       8.627\n",
       "carcount          0.2011      0.446      0.450      0.652      -0.674       1.076\n",
       "z_qnr_1           0.2487      1.252      0.199      0.843      -2.206       2.704\n",
       "z_qnr_2          -0.3229      1.420     -0.227      0.820      -3.105       2.459\n",
       "z_qnr_3           0.6010      1.209      0.497      0.619      -1.769       2.971\n",
       "z_qnr_4           0.5122      0.896      0.572      0.568      -1.244       2.268\n",
       "z_qnr_6           0.2397      0.733      0.327      0.744      -1.196       1.676\n",
       "z_qnr_7          -0.8440      1.050     -0.804      0.421      -2.901       1.213\n",
       "z_qnr_9           0.3941      0.806      0.489      0.625      -1.186       1.974\n",
       "z_qnr_11         -1.1729      0.845     -1.389      0.165      -2.828       0.482\n",
       "z_qnr_12          1.5090      0.755      1.999      0.046       0.030       2.988\n",
       "z_qnr_13          1.6611      0.963      1.725      0.085      -0.226       3.549\n",
       "z_qnr_14         -0.2098      2.001     -0.105      0.916      -4.131       3.711\n",
       "z_qnr_17          0.1818      0.945      0.192      0.847      -1.671       2.034\n",
       "z_qnr_21          0.8702      1.203      0.723      0.469      -1.487       3.227\n",
       "z_qnr_22         -0.5258      1.301     -0.404      0.686      -3.075       2.024\n",
       "z_qnr_23         -0.2505      1.053     -0.238      0.812      -2.315       1.814\n",
       "z_qnr_24         -0.0365      1.444     -0.025      0.980      -2.867       2.794\n",
       "z_qnr_25          0.7979      1.053      0.758      0.448      -1.265       2.861\n",
       "z_qnr_26         -0.4126      1.216     -0.339      0.734      -2.796       1.970\n",
       "z_qnr_28         -0.7848      1.332     -0.589      0.556      -3.395       1.826\n",
       "z_qnr_31         -0.3259      1.641     -0.199      0.843      -3.543       2.891\n",
       "z_qnr_32         -0.5940      1.539     -0.386      0.699      -3.610       2.422\n",
       "z_qnr_33         -0.3997      2.732     -0.146      0.884      -5.755       4.956\n",
       "z_knr_2          -0.6538      1.356     -0.482      0.630      -3.312       2.005\n",
       "z_knr_3           0.7719      0.921      0.838      0.402      -1.033       2.577\n",
       "z_knr_7           1.0202      0.811      1.257      0.209      -0.570       2.610\n",
       "z_knr_9          -0.5069      1.684     -0.301      0.763      -3.807       2.793\n",
       "z_knr_10         -2.1827      0.782     -2.790      0.005      -3.716      -0.649\n",
       "z_knr_11          0.0450      0.718      0.063      0.950      -1.362       1.452\n",
       "trafficarea_1     0.5970      0.945      0.632      0.527      -1.255       2.448\n",
       "trafficarea_2    -1.2678      0.647     -1.958      0.050      -2.537       0.001\n",
       "r_width_1         0.8718      0.532      1.640      0.101      -0.170       1.914\n",
       "r_width_3         0.2887      0.568      0.509      0.611      -0.824       1.401\n",
       "r_width_4        -0.4356      0.444     -0.981      0.327      -1.306       0.435\n",
       "r_width_5         0.1446      0.424      0.341      0.733      -0.687       0.976\n",
       "r_width_6        -0.5592      0.869     -0.644      0.520      -2.262       1.144\n",
       "speedlimit_2     -0.6083      1.057     -0.576      0.565      -2.679       1.463\n",
       "speedlimit_3     -0.2508      0.406     -0.618      0.537      -1.047       0.545\n",
       "speedlimit_5     -0.5801      1.420     -0.409      0.683      -3.363       2.203\n",
       "speedlimit_6      0.1127      1.883      0.060      0.952      -3.578       3.803\n",
       "=================================================================================\n",
       "\n",
       "Possibly complete quasi-separation: A fraction 0.21 of observations can be\n",
       "perfectly predicted. This might indicate that there is complete\n",
       "quasi-separation. In this case some parameters will not be identified.\n",
       "\"\"\""
      ]
     },
     "execution_count": 313,
     "metadata": {},
     "output_type": "execute_result"
    }
   ],
   "source": [
    "\n",
    "# Without constant\n",
    "# m00_log = sm.Logit(y, x)\n",
    "# r00_log = m00_log.fit_regularized()\n",
    "# r00_log.summary()\n",
    "\n",
    "# Add constant\n",
    "x_const = tools.add_constant(x)\n",
    "m00_log = sm.Logit(y,x_const, max_iter = 500)\n",
    "r00_log = m00_log.fit(method='bfgs')\n",
    "# r00_log = m00_log.fit()\n",
    "\n",
    "r00_log.summary()"
   ]
  },
  {
   "cell_type": "code",
   "execution_count": 314,
   "id": "eadc076f-126a-4896-8128-42ca7bed7341",
   "metadata": {
    "execution": {
     "iopub.execute_input": "2024-11-22T17:18:14.171604Z",
     "iopub.status.busy": "2024-11-22T17:18:14.171326Z",
     "iopub.status.idle": "2024-11-22T17:18:14.184104Z",
     "shell.execute_reply": "2024-11-22T17:18:14.183561Z",
     "shell.execute_reply.started": "2024-11-22T17:18:14.171585Z"
    }
   },
   "outputs": [
    {
     "name": "stdout",
     "output_type": "stream",
     "text": [
      "0.6927690185993924\n"
     ]
    },
    {
     "data": {
      "text/html": [
       "<div>\n",
       "<style scoped>\n",
       "    .dataframe tbody tr th:only-of-type {\n",
       "        vertical-align: middle;\n",
       "    }\n",
       "\n",
       "    .dataframe tbody tr th {\n",
       "        vertical-align: top;\n",
       "    }\n",
       "\n",
       "    .dataframe thead th {\n",
       "        text-align: right;\n",
       "    }\n",
       "</style>\n",
       "<table border=\"1\" class=\"dataframe\">\n",
       "  <thead>\n",
       "    <tr style=\"text-align: right;\">\n",
       "      <th></th>\n",
       "      <th>feature</th>\n",
       "      <th>0</th>\n",
       "      <th>sig</th>\n",
       "    </tr>\n",
       "  </thead>\n",
       "  <tbody>\n",
       "    <tr>\n",
       "      <th>0</th>\n",
       "      <td>cp</td>\n",
       "      <td>1.564289e-02</td>\n",
       "      <td>*</td>\n",
       "    </tr>\n",
       "    <tr>\n",
       "      <th>1</th>\n",
       "      <td>mew</td>\n",
       "      <td>4.095005e-10</td>\n",
       "      <td>***</td>\n",
       "    </tr>\n",
       "    <tr>\n",
       "      <th>2</th>\n",
       "      <td>dpedcro</td>\n",
       "      <td>4.309136e-03</td>\n",
       "      <td>**</td>\n",
       "    </tr>\n",
       "    <tr>\n",
       "      <th>3</th>\n",
       "      <td>droad</td>\n",
       "      <td>6.144808e-27</td>\n",
       "      <td>***</td>\n",
       "    </tr>\n",
       "    <tr>\n",
       "      <th>4</th>\n",
       "      <td>speedlimit</td>\n",
       "      <td>2.523647e-02</td>\n",
       "      <td>*</td>\n",
       "    </tr>\n",
       "    <tr>\n",
       "      <th>5</th>\n",
       "      <td>bicyclecount</td>\n",
       "      <td>2.045785e-16</td>\n",
       "      <td>***</td>\n",
       "    </tr>\n",
       "    <tr>\n",
       "      <th>6</th>\n",
       "      <td>z_qnr_12</td>\n",
       "      <td>4.556368e-02</td>\n",
       "      <td>*</td>\n",
       "    </tr>\n",
       "    <tr>\n",
       "      <th>7</th>\n",
       "      <td>z_knr_10</td>\n",
       "      <td>5.273067e-03</td>\n",
       "      <td>**</td>\n",
       "    </tr>\n",
       "  </tbody>\n",
       "</table>\n",
       "</div>"
      ],
      "text/plain": [
       "        feature             0  sig\n",
       "0            cp  1.564289e-02    *\n",
       "1           mew  4.095005e-10  ***\n",
       "2       dpedcro  4.309136e-03   **\n",
       "3         droad  6.144808e-27  ***\n",
       "4    speedlimit  2.523647e-02    *\n",
       "5  bicyclecount  2.045785e-16  ***\n",
       "6      z_qnr_12  4.556368e-02    *\n",
       "7      z_knr_10  5.273067e-03   **"
      ]
     },
     "execution_count": 314,
     "metadata": {},
     "output_type": "execute_result"
    }
   ],
   "source": [
    "print(r00_log.prsquared)\n",
    "printsig(r00_log)"
   ]
  },
  {
   "cell_type": "code",
   "execution_count": 315,
   "id": "33965143-fc9a-43d6-a591-b4494b32a219",
   "metadata": {
    "execution": {
     "iopub.execute_input": "2024-11-22T17:18:14.484200Z",
     "iopub.status.busy": "2024-11-22T17:18:14.483816Z",
     "iopub.status.idle": "2024-11-22T17:18:14.734236Z",
     "shell.execute_reply": "2024-11-22T17:18:14.733483Z",
     "shell.execute_reply.started": "2024-11-22T17:18:14.484177Z"
    }
   },
   "outputs": [
    {
     "name": "stdout",
     "output_type": "stream",
     "text": [
      "0.9153633854645814\n",
      "\n",
      "Test accuracy : \n",
      " 0.9153633854645814\n",
      "\n",
      "Confusion Matrix : \n",
      " [[740  52]\n",
      " [ 40 255]]\n",
      "accuracy 0.9153633854645814\n",
      "precision [0.94871795 0.83061889]\n",
      "sensitivity recall [0.93434343 0.86440678]\n",
      "f1 score [0.94147583 0.84717608]\n",
      "mean precision 0.8896684206130461\n",
      "mean recall 0.8993751070022257\n",
      "mean f1 score 0.8943259533531147\n"
     ]
    },
    {
     "data": {
      "image/png": "[encoded data removed]",
      "text/plain": [
       "<Figure size 432x288 with 2 Axes>"
      ]
     },
     "metadata": {
      "needs_background": "light"
     },
     "output_type": "display_data"
    }
   ],
   "source": [
    "pred00log = r00_log.predict(x_const)\n",
    "pred00log = list(map(round,pred00log))\n",
    "print(accuracy_score(y, pred00log))\n",
    "print('\\nTest accuracy : \\n', accuracy_score(y, pred00log))\n",
    "cm00log = confusion_matrix(y, pred00log) \n",
    "print ('\\nConfusion Matrix : \\n', cm00log)\n",
    "cm00log_display = metrics.ConfusionMatrixDisplay(confusion_matrix = cm00log)\n",
    "cm00log_display.plot()\n",
    "\n",
    "acc_log = metrics.accuracy_score(y, pred00log)\n",
    "print('accuracy', acc_log)\n",
    "\n",
    "pre_log = metrics.precision_score(y, pred00log, average = None)\n",
    "print('precision', pre_log)\n",
    "\n",
    "senrec_log = metrics.recall_score(y, pred00log, average = None)\n",
    "print('sensitivity recall', senrec_log)\n",
    "\n",
    "f1_log = metrics.f1_score(y, pred00log, average = None)\n",
    "print('f1 score', f1_log)\n",
    "\n",
    "pre_log_m = np.mean(pre_log)\n",
    "senrec_log_m = np.mean(senrec_log)\n",
    "f1_log_m = np.mean(f1_log)\n",
    "print('mean precision', pre_log_m)\n",
    "print('mean recall', senrec_log_m)\n",
    "print('mean f1 score', f1_log_m)"
   ]
  },
  {
   "cell_type": "markdown",
   "id": "9123b4a7-8a63-4606-8a16-ed36a71cb18e",
   "metadata": {},
   "source": [
    "### With data splitting"
   ]
  },
  {
   "cell_type": "code",
   "execution_count": 316,
   "id": "5daa4124-d5f5-4623-8fcb-b7a914737620",
   "metadata": {
    "execution": {
     "iopub.execute_input": "2024-11-22T17:18:15.114178Z",
     "iopub.status.busy": "2024-11-22T17:18:15.113895Z",
     "iopub.status.idle": "2024-11-22T17:18:15.312645Z",
     "shell.execute_reply": "2024-11-22T17:18:15.311703Z",
     "shell.execute_reply.started": "2024-11-22T17:18:15.114157Z"
    },
    "scrolled": true
   },
   "outputs": [
    {
     "name": "stdout",
     "output_type": "stream",
     "text": [
      "         Current function value: 0.179164\n",
      "         Iterations: 35\n",
      "         Function evaluations: 36\n",
      "         Gradient evaluations: 36\n"
     ]
    },
    {
     "name": "stderr",
     "output_type": "stream",
     "text": [
      "E:\\Anaconda\\Anaconda_file\\lib\\site-packages\\statsmodels\\base\\model.py:130: ValueWarning: unknown kwargs ['max_iter']\n",
      "  warnings.warn(msg, ValueWarning)\n",
      "E:\\Anaconda\\Anaconda_file\\lib\\site-packages\\scipy\\optimize\\_optimize.py:1360: OptimizeWarning: Maximum number of iterations has been exceeded.\n",
      "  res = _minimize_bfgs(f, x0, args, fprime, callback=callback, **opts)\n",
      "E:\\Anaconda\\Anaconda_file\\lib\\site-packages\\statsmodels\\base\\model.py:607: ConvergenceWarning: Maximum Likelihood optimization failed to converge. Check mle_retvals\n",
      "  warnings.warn(\"Maximum Likelihood optimization failed to \"\n",
      "E:\\Anaconda\\Anaconda_file\\lib\\site-packages\\statsmodels\\base\\model.py:130: ValueWarning: unknown kwargs ['max_iter']\n",
      "  warnings.warn(msg, ValueWarning)\n"
     ]
    },
    {
     "data": {
      "text/html": [
       "<table class=\"simpletable\">\n",
       "<caption>Logit Regression Results</caption>\n",
       "<tr>\n",
       "  <th>Dep. Variable:</th>          <td>acp</td>       <th>  No. Observations:  </th>   <td>   815</td>  \n",
       "</tr>\n",
       "<tr>\n",
       "  <th>Model:</th>                 <td>Logit</td>      <th>  Df Residuals:      </th>   <td>   754</td>  \n",
       "</tr>\n",
       "<tr>\n",
       "  <th>Method:</th>                 <td>MLE</td>       <th>  Df Model:          </th>   <td>    60</td>  \n",
       "</tr>\n",
       "<tr>\n",
       "  <th>Date:</th>            <td>Wed, 15 Jan 2025</td> <th>  Pseudo R-squ.:     </th>   <td>0.6947</td>  \n",
       "</tr>\n",
       "<tr>\n",
       "  <th>Time:</th>                <td>16:13:50</td>     <th>  Log-Likelihood:    </th>  <td> -146.02</td> \n",
       "</tr>\n",
       "<tr>\n",
       "  <th>converged:</th>             <td>False</td>      <th>  LL-Null:           </th>  <td> -478.26</td> \n",
       "</tr>\n",
       "<tr>\n",
       "  <th>Covariance Type:</th>     <td>nonrobust</td>    <th>  LLR p-value:       </th> <td>8.383e-103</td>\n",
       "</tr>\n",
       "</table>\n",
       "<table class=\"simpletable\">\n",
       "<tr>\n",
       "        <td></td>           <th>coef</th>     <th>std err</th>      <th>z</th>      <th>P>|z|</th>  <th>[0.025</th>    <th>0.975]</th>  \n",
       "</tr>\n",
       "<tr>\n",
       "  <th>const</th>         <td>   -1.0248</td> <td>    1.578</td> <td>   -0.649</td> <td> 0.516</td> <td>   -4.118</td> <td>    2.068</td>\n",
       "</tr>\n",
       "<tr>\n",
       "  <th>cp</th>            <td>   -0.5411</td> <td>    0.195</td> <td>   -2.771</td> <td> 0.006</td> <td>   -0.924</td> <td>   -0.158</td>\n",
       "</tr>\n",
       "<tr>\n",
       "  <th>cmin</th>          <td>    0.7933</td> <td>    1.154</td> <td>    0.688</td> <td> 0.492</td> <td>   -1.468</td> <td>    3.054</td>\n",
       "</tr>\n",
       "<tr>\n",
       "  <th>ie</th>            <td>   -0.8007</td> <td>    0.414</td> <td>   -1.936</td> <td> 0.053</td> <td>   -1.611</td> <td>    0.010</td>\n",
       "</tr>\n",
       "<tr>\n",
       "  <th>mew</th>           <td>    3.6324</td> <td>    0.669</td> <td>    5.430</td> <td> 0.000</td> <td>    2.321</td> <td>    4.944</td>\n",
       "</tr>\n",
       "<tr>\n",
       "  <th>meg</th>           <td>   -0.2238</td> <td>    0.756</td> <td>   -0.296</td> <td> 0.767</td> <td>   -1.706</td> <td>    1.258</td>\n",
       "</tr>\n",
       "<tr>\n",
       "  <th>megmax</th>        <td>   -0.1855</td> <td>    0.760</td> <td>   -0.244</td> <td> 0.807</td> <td>   -1.675</td> <td>    1.304</td>\n",
       "</tr>\n",
       "<tr>\n",
       "  <th>dbusl</th>         <td>    0.8783</td> <td>    0.477</td> <td>    1.841</td> <td> 0.066</td> <td>   -0.057</td> <td>    1.813</td>\n",
       "</tr>\n",
       "<tr>\n",
       "  <th>dtraml</th>        <td>   -0.3246</td> <td>    0.514</td> <td>   -0.631</td> <td> 0.528</td> <td>   -1.332</td> <td>    0.683</td>\n",
       "</tr>\n",
       "<tr>\n",
       "  <th>dtrainl</th>       <td>    0.6039</td> <td>    0.620</td> <td>    0.974</td> <td> 0.330</td> <td>   -0.611</td> <td>    1.819</td>\n",
       "</tr>\n",
       "<tr>\n",
       "  <th>dplight</th>       <td>   -1.1531</td> <td>    0.783</td> <td>   -1.473</td> <td> 0.141</td> <td>   -2.688</td> <td>    0.382</td>\n",
       "</tr>\n",
       "<tr>\n",
       "  <th>dstation</th>      <td>   -1.4212</td> <td>    0.831</td> <td>   -1.711</td> <td> 0.087</td> <td>   -3.049</td> <td>    0.207</td>\n",
       "</tr>\n",
       "<tr>\n",
       "  <th>dparkcar</th>      <td>    0.1981</td> <td>    0.608</td> <td>    0.326</td> <td> 0.745</td> <td>   -0.994</td> <td>    1.390</td>\n",
       "</tr>\n",
       "<tr>\n",
       "  <th>dparktw</th>       <td>   -0.6935</td> <td>    0.660</td> <td>   -1.052</td> <td> 0.293</td> <td>   -1.986</td> <td>    0.599</td>\n",
       "</tr>\n",
       "<tr>\n",
       "  <th>dpedcro</th>       <td>   -1.6546</td> <td>    0.644</td> <td>   -2.569</td> <td> 0.010</td> <td>   -2.917</td> <td>   -0.392</td>\n",
       "</tr>\n",
       "<tr>\n",
       "  <th>dstopsign</th>     <td>   -0.2651</td> <td>    0.742</td> <td>   -0.357</td> <td> 0.721</td> <td>   -1.719</td> <td>    1.188</td>\n",
       "</tr>\n",
       "<tr>\n",
       "  <th>dtrafficarea</th>  <td>   -0.5623</td> <td>    0.399</td> <td>   -1.408</td> <td> 0.159</td> <td>   -1.345</td> <td>    0.220</td>\n",
       "</tr>\n",
       "<tr>\n",
       "  <th>droad</th>         <td>    2.8781</td> <td>    0.320</td> <td>    8.984</td> <td> 0.000</td> <td>    2.250</td> <td>    3.506</td>\n",
       "</tr>\n",
       "<tr>\n",
       "  <th>gvm_dwv</th>       <td>    0.5520</td> <td>    0.515</td> <td>    1.071</td> <td> 0.284</td> <td>   -0.458</td> <td>    1.562</td>\n",
       "</tr>\n",
       "<tr>\n",
       "  <th>speedlimit</th>    <td>   -1.0916</td> <td>    0.534</td> <td>   -2.044</td> <td> 0.041</td> <td>   -2.138</td> <td>   -0.045</td>\n",
       "</tr>\n",
       "<tr>\n",
       "  <th>bicyclecount</th>  <td>    6.9914</td> <td>    1.017</td> <td>    6.874</td> <td> 0.000</td> <td>    4.998</td> <td>    8.985</td>\n",
       "</tr>\n",
       "<tr>\n",
       "  <th>carcount</th>      <td>   -0.0080</td> <td>    0.546</td> <td>   -0.015</td> <td> 0.988</td> <td>   -1.078</td> <td>    1.062</td>\n",
       "</tr>\n",
       "<tr>\n",
       "  <th>z_qnr_1</th>       <td>    0.5644</td> <td>    1.799</td> <td>    0.314</td> <td> 0.754</td> <td>   -2.961</td> <td>    4.090</td>\n",
       "</tr>\n",
       "<tr>\n",
       "  <th>z_qnr_2</th>       <td>   -0.2837</td> <td>    1.701</td> <td>   -0.167</td> <td> 0.867</td> <td>   -3.617</td> <td>    3.049</td>\n",
       "</tr>\n",
       "<tr>\n",
       "  <th>z_qnr_3</th>       <td>    0.2411</td> <td>    1.497</td> <td>    0.161</td> <td> 0.872</td> <td>   -2.693</td> <td>    3.176</td>\n",
       "</tr>\n",
       "<tr>\n",
       "  <th>z_qnr_4</th>       <td>    0.1504</td> <td>    1.080</td> <td>    0.139</td> <td> 0.889</td> <td>   -1.966</td> <td>    2.267</td>\n",
       "</tr>\n",
       "<tr>\n",
       "  <th>z_qnr_6</th>       <td>    0.6948</td> <td>    0.889</td> <td>    0.781</td> <td> 0.435</td> <td>   -1.048</td> <td>    2.438</td>\n",
       "</tr>\n",
       "<tr>\n",
       "  <th>z_qnr_7</th>       <td>   -1.0258</td> <td>    1.193</td> <td>   -0.860</td> <td> 0.390</td> <td>   -3.363</td> <td>    1.312</td>\n",
       "</tr>\n",
       "<tr>\n",
       "  <th>z_qnr_9</th>       <td>    0.0868</td> <td>    0.887</td> <td>    0.098</td> <td> 0.922</td> <td>   -1.652</td> <td>    1.826</td>\n",
       "</tr>\n",
       "<tr>\n",
       "  <th>z_qnr_11</th>      <td>   -1.0822</td> <td>    0.928</td> <td>   -1.166</td> <td> 0.244</td> <td>   -2.901</td> <td>    0.737</td>\n",
       "</tr>\n",
       "<tr>\n",
       "  <th>z_qnr_12</th>      <td>    0.7351</td> <td>    0.900</td> <td>    0.817</td> <td> 0.414</td> <td>   -1.029</td> <td>    2.500</td>\n",
       "</tr>\n",
       "<tr>\n",
       "  <th>z_qnr_13</th>      <td>    1.5056</td> <td>    1.182</td> <td>    1.273</td> <td> 0.203</td> <td>   -0.812</td> <td>    3.823</td>\n",
       "</tr>\n",
       "<tr>\n",
       "  <th>z_qnr_14</th>      <td>   -0.0559</td> <td>    2.239</td> <td>   -0.025</td> <td> 0.980</td> <td>   -4.445</td> <td>    4.333</td>\n",
       "</tr>\n",
       "<tr>\n",
       "  <th>z_qnr_17</th>      <td>    0.0593</td> <td>    1.283</td> <td>    0.046</td> <td> 0.963</td> <td>   -2.456</td> <td>    2.575</td>\n",
       "</tr>\n",
       "<tr>\n",
       "  <th>z_qnr_21</th>      <td>    0.4940</td> <td>    1.372</td> <td>    0.360</td> <td> 0.719</td> <td>   -2.195</td> <td>    3.183</td>\n",
       "</tr>\n",
       "<tr>\n",
       "  <th>z_qnr_22</th>      <td>   -0.4955</td> <td>    1.614</td> <td>   -0.307</td> <td> 0.759</td> <td>   -3.658</td> <td>    2.667</td>\n",
       "</tr>\n",
       "<tr>\n",
       "  <th>z_qnr_23</th>      <td>   -0.2752</td> <td>    1.214</td> <td>   -0.227</td> <td> 0.821</td> <td>   -2.655</td> <td>    2.104</td>\n",
       "</tr>\n",
       "<tr>\n",
       "  <th>z_qnr_24</th>      <td>    0.0759</td> <td>    1.495</td> <td>    0.051</td> <td> 0.960</td> <td>   -2.855</td> <td>    3.007</td>\n",
       "</tr>\n",
       "<tr>\n",
       "  <th>z_qnr_25</th>      <td>    0.5901</td> <td>    1.223</td> <td>    0.483</td> <td> 0.629</td> <td>   -1.806</td> <td>    2.986</td>\n",
       "</tr>\n",
       "<tr>\n",
       "  <th>z_qnr_26</th>      <td>   -0.6781</td> <td>    1.872</td> <td>   -0.362</td> <td> 0.717</td> <td>   -4.347</td> <td>    2.990</td>\n",
       "</tr>\n",
       "<tr>\n",
       "  <th>z_qnr_28</th>      <td>   -0.6155</td> <td>    1.548</td> <td>   -0.397</td> <td> 0.691</td> <td>   -3.650</td> <td>    2.419</td>\n",
       "</tr>\n",
       "<tr>\n",
       "  <th>z_qnr_31</th>      <td>   -0.4023</td> <td>    1.894</td> <td>   -0.212</td> <td> 0.832</td> <td>   -4.115</td> <td>    3.310</td>\n",
       "</tr>\n",
       "<tr>\n",
       "  <th>z_qnr_32</th>      <td>   -0.5986</td> <td>    1.788</td> <td>   -0.335</td> <td> 0.738</td> <td>   -4.103</td> <td>    2.906</td>\n",
       "</tr>\n",
       "<tr>\n",
       "  <th>z_qnr_33</th>      <td>   -0.4418</td> <td>    2.808</td> <td>   -0.157</td> <td> 0.875</td> <td>   -5.946</td> <td>    5.062</td>\n",
       "</tr>\n",
       "<tr>\n",
       "  <th>z_knr_2</th>       <td>   -0.4824</td> <td>    1.638</td> <td>   -0.295</td> <td> 0.768</td> <td>   -3.693</td> <td>    2.728</td>\n",
       "</tr>\n",
       "<tr>\n",
       "  <th>z_knr_3</th>       <td>    1.2426</td> <td>    1.110</td> <td>    1.119</td> <td> 0.263</td> <td>   -0.933</td> <td>    3.419</td>\n",
       "</tr>\n",
       "<tr>\n",
       "  <th>z_knr_7</th>       <td>    1.2522</td> <td>    0.927</td> <td>    1.351</td> <td> 0.177</td> <td>   -0.564</td> <td>    3.068</td>\n",
       "</tr>\n",
       "<tr>\n",
       "  <th>z_knr_9</th>       <td>   -0.3501</td> <td>    1.835</td> <td>   -0.191</td> <td> 0.849</td> <td>   -3.946</td> <td>    3.246</td>\n",
       "</tr>\n",
       "<tr>\n",
       "  <th>z_knr_10</th>      <td>   -1.9680</td> <td>    0.931</td> <td>   -2.114</td> <td> 0.034</td> <td>   -3.792</td> <td>   -0.144</td>\n",
       "</tr>\n",
       "<tr>\n",
       "  <th>z_knr_11</th>      <td>    0.0982</td> <td>    0.815</td> <td>    0.121</td> <td> 0.904</td> <td>   -1.498</td> <td>    1.695</td>\n",
       "</tr>\n",
       "<tr>\n",
       "  <th>trafficarea_1</th> <td>    0.3858</td> <td>    1.150</td> <td>    0.335</td> <td> 0.737</td> <td>   -1.869</td> <td>    2.640</td>\n",
       "</tr>\n",
       "<tr>\n",
       "  <th>trafficarea_2</th> <td>   -1.1444</td> <td>    0.783</td> <td>   -1.462</td> <td> 0.144</td> <td>   -2.679</td> <td>    0.390</td>\n",
       "</tr>\n",
       "<tr>\n",
       "  <th>r_width_1</th>     <td>    1.3119</td> <td>    0.617</td> <td>    2.128</td> <td> 0.033</td> <td>    0.103</td> <td>    2.520</td>\n",
       "</tr>\n",
       "<tr>\n",
       "  <th>r_width_3</th>     <td>   -0.0222</td> <td>    0.730</td> <td>   -0.030</td> <td> 0.976</td> <td>   -1.453</td> <td>    1.408</td>\n",
       "</tr>\n",
       "<tr>\n",
       "  <th>r_width_4</th>     <td>   -0.4541</td> <td>    0.521</td> <td>   -0.872</td> <td> 0.383</td> <td>   -1.475</td> <td>    0.567</td>\n",
       "</tr>\n",
       "<tr>\n",
       "  <th>r_width_5</th>     <td>    0.5125</td> <td>    0.495</td> <td>    1.035</td> <td> 0.301</td> <td>   -0.458</td> <td>    1.483</td>\n",
       "</tr>\n",
       "<tr>\n",
       "  <th>r_width_6</th>     <td>   -0.7633</td> <td>    1.138</td> <td>   -0.671</td> <td> 0.502</td> <td>   -2.994</td> <td>    1.468</td>\n",
       "</tr>\n",
       "<tr>\n",
       "  <th>speedlimit_2</th>  <td>   -0.7435</td> <td>    1.190</td> <td>   -0.625</td> <td> 0.532</td> <td>   -3.075</td> <td>    1.588</td>\n",
       "</tr>\n",
       "<tr>\n",
       "  <th>speedlimit_3</th>  <td>   -0.3107</td> <td>    0.492</td> <td>   -0.632</td> <td> 0.527</td> <td>   -1.274</td> <td>    0.653</td>\n",
       "</tr>\n",
       "<tr>\n",
       "  <th>speedlimit_5</th>  <td>   -0.5065</td> <td>    1.551</td> <td>   -0.327</td> <td> 0.744</td> <td>   -3.546</td> <td>    2.533</td>\n",
       "</tr>\n",
       "<tr>\n",
       "  <th>speedlimit_6</th>  <td>    0.2253</td> <td>    2.094</td> <td>    0.108</td> <td> 0.914</td> <td>   -3.879</td> <td>    4.330</td>\n",
       "</tr>\n",
       "</table><br/><br/>Possibly complete quasi-separation: A fraction 0.21 of observations can be<br/>perfectly predicted. This might indicate that there is complete<br/>quasi-separation. In this case some parameters will not be identified."
      ],
      "text/latex": [
       "\\begin{center}\n",
       "\\begin{tabular}{lclc}\n",
       "\\toprule\n",
       "\\textbf{Dep. Variable:}   &       acp        & \\textbf{  No. Observations:  } &      815    \\\\\n",
       "\\textbf{Model:}           &      Logit       & \\textbf{  Df Residuals:      } &      754    \\\\\n",
       "\\textbf{Method:}          &       MLE        & \\textbf{  Df Model:          } &       60    \\\\\n",
       "\\textbf{Date:}            & Wed, 15 Jan 2025 & \\textbf{  Pseudo R-squ.:     } &   0.6947    \\\\\n",
       "\\textbf{Time:}            &     16:13:50     & \\textbf{  Log-Likelihood:    } &   -146.02   \\\\\n",
       "\\textbf{converged:}       &      False       & \\textbf{  LL-Null:           } &   -478.26   \\\\\n",
       "\\textbf{Covariance Type:} &    nonrobust     & \\textbf{  LLR p-value:       } & 8.383e-103  \\\\\n",
       "\\bottomrule\n",
       "\\end{tabular}\n",
       "\\begin{tabular}{lcccccc}\n",
       "                        & \\textbf{coef} & \\textbf{std err} & \\textbf{z} & \\textbf{P$> |$z$|$} & \\textbf{[0.025} & \\textbf{0.975]}  \\\\\n",
       "\\midrule\n",
       "\\textbf{const}          &      -1.0248  &        1.578     &    -0.649  &         0.516        &       -4.118    &        2.068     \\\\\n",
       "\\textbf{cp}             &      -0.5411  &        0.195     &    -2.771  &         0.006        &       -0.924    &       -0.158     \\\\\n",
       "\\textbf{cmin}           &       0.7933  &        1.154     &     0.688  &         0.492        &       -1.468    &        3.054     \\\\\n",
       "\\textbf{ie}             &      -0.8007  &        0.414     &    -1.936  &         0.053        &       -1.611    &        0.010     \\\\\n",
       "\\textbf{mew}            &       3.6324  &        0.669     &     5.430  &         0.000        &        2.321    &        4.944     \\\\\n",
       "\\textbf{meg}            &      -0.2238  &        0.756     &    -0.296  &         0.767        &       -1.706    &        1.258     \\\\\n",
       "\\textbf{megmax}         &      -0.1855  &        0.760     &    -0.244  &         0.807        &       -1.675    &        1.304     \\\\\n",
       "\\textbf{dbusl}          &       0.8783  &        0.477     &     1.841  &         0.066        &       -0.057    &        1.813     \\\\\n",
       "\\textbf{dtraml}         &      -0.3246  &        0.514     &    -0.631  &         0.528        &       -1.332    &        0.683     \\\\\n",
       "\\textbf{dtrainl}        &       0.6039  &        0.620     &     0.974  &         0.330        &       -0.611    &        1.819     \\\\\n",
       "\\textbf{dplight}        &      -1.1531  &        0.783     &    -1.473  &         0.141        &       -2.688    &        0.382     \\\\\n",
       "\\textbf{dstation}       &      -1.4212  &        0.831     &    -1.711  &         0.087        &       -3.049    &        0.207     \\\\\n",
       "\\textbf{dparkcar}       &       0.1981  &        0.608     &     0.326  &         0.745        &       -0.994    &        1.390     \\\\\n",
       "\\textbf{dparktw}        &      -0.6935  &        0.660     &    -1.052  &         0.293        &       -1.986    &        0.599     \\\\\n",
       "\\textbf{dpedcro}        &      -1.6546  &        0.644     &    -2.569  &         0.010        &       -2.917    &       -0.392     \\\\\n",
       "\\textbf{dstopsign}      &      -0.2651  &        0.742     &    -0.357  &         0.721        &       -1.719    &        1.188     \\\\\n",
       "\\textbf{dtrafficarea}   &      -0.5623  &        0.399     &    -1.408  &         0.159        &       -1.345    &        0.220     \\\\\n",
       "\\textbf{droad}          &       2.8781  &        0.320     &     8.984  &         0.000        &        2.250    &        3.506     \\\\\n",
       "\\textbf{gvm\\_dwv}       &       0.5520  &        0.515     &     1.071  &         0.284        &       -0.458    &        1.562     \\\\\n",
       "\\textbf{speedlimit}     &      -1.0916  &        0.534     &    -2.044  &         0.041        &       -2.138    &       -0.045     \\\\\n",
       "\\textbf{bicyclecount}   &       6.9914  &        1.017     &     6.874  &         0.000        &        4.998    &        8.985     \\\\\n",
       "\\textbf{carcount}       &      -0.0080  &        0.546     &    -0.015  &         0.988        &       -1.078    &        1.062     \\\\\n",
       "\\textbf{z\\_qnr\\_1}      &       0.5644  &        1.799     &     0.314  &         0.754        &       -2.961    &        4.090     \\\\\n",
       "\\textbf{z\\_qnr\\_2}      &      -0.2837  &        1.701     &    -0.167  &         0.867        &       -3.617    &        3.049     \\\\\n",
       "\\textbf{z\\_qnr\\_3}      &       0.2411  &        1.497     &     0.161  &         0.872        &       -2.693    &        3.176     \\\\\n",
       "\\textbf{z\\_qnr\\_4}      &       0.1504  &        1.080     &     0.139  &         0.889        &       -1.966    &        2.267     \\\\\n",
       "\\textbf{z\\_qnr\\_6}      &       0.6948  &        0.889     &     0.781  &         0.435        &       -1.048    &        2.438     \\\\\n",
       "\\textbf{z\\_qnr\\_7}      &      -1.0258  &        1.193     &    -0.860  &         0.390        &       -3.363    &        1.312     \\\\\n",
       "\\textbf{z\\_qnr\\_9}      &       0.0868  &        0.887     &     0.098  &         0.922        &       -1.652    &        1.826     \\\\\n",
       "\\textbf{z\\_qnr\\_11}     &      -1.0822  &        0.928     &    -1.166  &         0.244        &       -2.901    &        0.737     \\\\\n",
       "\\textbf{z\\_qnr\\_12}     &       0.7351  &        0.900     &     0.817  &         0.414        &       -1.029    &        2.500     \\\\\n",
       "\\textbf{z\\_qnr\\_13}     &       1.5056  &        1.182     &     1.273  &         0.203        &       -0.812    &        3.823     \\\\\n",
       "\\textbf{z\\_qnr\\_14}     &      -0.0559  &        2.239     &    -0.025  &         0.980        &       -4.445    &        4.333     \\\\\n",
       "\\textbf{z\\_qnr\\_17}     &       0.0593  &        1.283     &     0.046  &         0.963        &       -2.456    &        2.575     \\\\\n",
       "\\textbf{z\\_qnr\\_21}     &       0.4940  &        1.372     &     0.360  &         0.719        &       -2.195    &        3.183     \\\\\n",
       "\\textbf{z\\_qnr\\_22}     &      -0.4955  &        1.614     &    -0.307  &         0.759        &       -3.658    &        2.667     \\\\\n",
       "\\textbf{z\\_qnr\\_23}     &      -0.2752  &        1.214     &    -0.227  &         0.821        &       -2.655    &        2.104     \\\\\n",
       "\\textbf{z\\_qnr\\_24}     &       0.0759  &        1.495     &     0.051  &         0.960        &       -2.855    &        3.007     \\\\\n",
       "\\textbf{z\\_qnr\\_25}     &       0.5901  &        1.223     &     0.483  &         0.629        &       -1.806    &        2.986     \\\\\n",
       "\\textbf{z\\_qnr\\_26}     &      -0.6781  &        1.872     &    -0.362  &         0.717        &       -4.347    &        2.990     \\\\\n",
       "\\textbf{z\\_qnr\\_28}     &      -0.6155  &        1.548     &    -0.397  &         0.691        &       -3.650    &        2.419     \\\\\n",
       "\\textbf{z\\_qnr\\_31}     &      -0.4023  &        1.894     &    -0.212  &         0.832        &       -4.115    &        3.310     \\\\\n",
       "\\textbf{z\\_qnr\\_32}     &      -0.5986  &        1.788     &    -0.335  &         0.738        &       -4.103    &        2.906     \\\\\n",
       "\\textbf{z\\_qnr\\_33}     &      -0.4418  &        2.808     &    -0.157  &         0.875        &       -5.946    &        5.062     \\\\\n",
       "\\textbf{z\\_knr\\_2}      &      -0.4824  &        1.638     &    -0.295  &         0.768        &       -3.693    &        2.728     \\\\\n",
       "\\textbf{z\\_knr\\_3}      &       1.2426  &        1.110     &     1.119  &         0.263        &       -0.933    &        3.419     \\\\\n",
       "\\textbf{z\\_knr\\_7}      &       1.2522  &        0.927     &     1.351  &         0.177        &       -0.564    &        3.068     \\\\\n",
       "\\textbf{z\\_knr\\_9}      &      -0.3501  &        1.835     &    -0.191  &         0.849        &       -3.946    &        3.246     \\\\\n",
       "\\textbf{z\\_knr\\_10}     &      -1.9680  &        0.931     &    -2.114  &         0.034        &       -3.792    &       -0.144     \\\\\n",
       "\\textbf{z\\_knr\\_11}     &       0.0982  &        0.815     &     0.121  &         0.904        &       -1.498    &        1.695     \\\\\n",
       "\\textbf{trafficarea\\_1} &       0.3858  &        1.150     &     0.335  &         0.737        &       -1.869    &        2.640     \\\\\n",
       "\\textbf{trafficarea\\_2} &      -1.1444  &        0.783     &    -1.462  &         0.144        &       -2.679    &        0.390     \\\\\n",
       "\\textbf{r\\_width\\_1}    &       1.3119  &        0.617     &     2.128  &         0.033        &        0.103    &        2.520     \\\\\n",
       "\\textbf{r\\_width\\_3}    &      -0.0222  &        0.730     &    -0.030  &         0.976        &       -1.453    &        1.408     \\\\\n",
       "\\textbf{r\\_width\\_4}    &      -0.4541  &        0.521     &    -0.872  &         0.383        &       -1.475    &        0.567     \\\\\n",
       "\\textbf{r\\_width\\_5}    &       0.5125  &        0.495     &     1.035  &         0.301        &       -0.458    &        1.483     \\\\\n",
       "\\textbf{r\\_width\\_6}    &      -0.7633  &        1.138     &    -0.671  &         0.502        &       -2.994    &        1.468     \\\\\n",
       "\\textbf{speedlimit\\_2}  &      -0.7435  &        1.190     &    -0.625  &         0.532        &       -3.075    &        1.588     \\\\\n",
       "\\textbf{speedlimit\\_3}  &      -0.3107  &        0.492     &    -0.632  &         0.527        &       -1.274    &        0.653     \\\\\n",
       "\\textbf{speedlimit\\_5}  &      -0.5065  &        1.551     &    -0.327  &         0.744        &       -3.546    &        2.533     \\\\\n",
       "\\textbf{speedlimit\\_6}  &       0.2253  &        2.094     &     0.108  &         0.914        &       -3.879    &        4.330     \\\\\n",
       "\\bottomrule\n",
       "\\end{tabular}\n",
       "%\\caption{Logit Regression Results}\n",
       "\\end{center}\n",
       "\n",
       "Possibly complete quasi-separation: A fraction 0.21 of observations can be \\newline\n",
       " perfectly predicted. This might indicate that there is complete \\newline\n",
       " quasi-separation. In this case some parameters will not be identified."
      ],
      "text/plain": [
       "<class 'statsmodels.iolib.summary.Summary'>\n",
       "\"\"\"\n",
       "                           Logit Regression Results                           \n",
       "==============================================================================\n",
       "Dep. Variable:                    acp   No. Observations:                  815\n",
       "Model:                          Logit   Df Residuals:                      754\n",
       "Method:                           MLE   Df Model:                           60\n",
       "Date:                Wed, 15 Jan 2025   Pseudo R-squ.:                  0.6947\n",
       "Time:                        16:13:50   Log-Likelihood:                -146.02\n",
       "converged:                      False   LL-Null:                       -478.26\n",
       "Covariance Type:            nonrobust   LLR p-value:                8.383e-103\n",
       "=================================================================================\n",
       "                    coef    std err          z      P>|z|      [0.025      0.975]\n",
       "---------------------------------------------------------------------------------\n",
       "const            -1.0248      1.578     -0.649      0.516      -4.118       2.068\n",
       "cp               -0.5411      0.195     -2.771      0.006      -0.924      -0.158\n",
       "cmin              0.7933      1.154      0.688      0.492      -1.468       3.054\n",
       "ie               -0.8007      0.414     -1.936      0.053      -1.611       0.010\n",
       "mew               3.6324      0.669      5.430      0.000       2.321       4.944\n",
       "meg              -0.2238      0.756     -0.296      0.767      -1.706       1.258\n",
       "megmax           -0.1855      0.760     -0.244      0.807      -1.675       1.304\n",
       "dbusl             0.8783      0.477      1.841      0.066      -0.057       1.813\n",
       "dtraml           -0.3246      0.514     -0.631      0.528      -1.332       0.683\n",
       "dtrainl           0.6039      0.620      0.974      0.330      -0.611       1.819\n",
       "dplight          -1.1531      0.783     -1.473      0.141      -2.688       0.382\n",
       "dstation         -1.4212      0.831     -1.711      0.087      -3.049       0.207\n",
       "dparkcar          0.1981      0.608      0.326      0.745      -0.994       1.390\n",
       "dparktw          -0.6935      0.660     -1.052      0.293      -1.986       0.599\n",
       "dpedcro          -1.6546      0.644     -2.569      0.010      -2.917      -0.392\n",
       "dstopsign        -0.2651      0.742     -0.357      0.721      -1.719       1.188\n",
       "dtrafficarea     -0.5623      0.399     -1.408      0.159      -1.345       0.220\n",
       "droad             2.8781      0.320      8.984      0.000       2.250       3.506\n",
       "gvm_dwv           0.5520      0.515      1.071      0.284      -0.458       1.562\n",
       "speedlimit       -1.0916      0.534     -2.044      0.041      -2.138      -0.045\n",
       "bicyclecount      6.9914      1.017      6.874      0.000       4.998       8.985\n",
       "carcount         -0.0080      0.546     -0.015      0.988      -1.078       1.062\n",
       "z_qnr_1           0.5644      1.799      0.314      0.754      -2.961       4.090\n",
       "z_qnr_2          -0.2837      1.701     -0.167      0.867      -3.617       3.049\n",
       "z_qnr_3           0.2411      1.497      0.161      0.872      -2.693       3.176\n",
       "z_qnr_4           0.1504      1.080      0.139      0.889      -1.966       2.267\n",
       "z_qnr_6           0.6948      0.889      0.781      0.435      -1.048       2.438\n",
       "z_qnr_7          -1.0258      1.193     -0.860      0.390      -3.363       1.312\n",
       "z_qnr_9           0.0868      0.887      0.098      0.922      -1.652       1.826\n",
       "z_qnr_11         -1.0822      0.928     -1.166      0.244      -2.901       0.737\n",
       "z_qnr_12          0.7351      0.900      0.817      0.414      -1.029       2.500\n",
       "z_qnr_13          1.5056      1.182      1.273      0.203      -0.812       3.823\n",
       "z_qnr_14         -0.0559      2.239     -0.025      0.980      -4.445       4.333\n",
       "z_qnr_17          0.0593      1.283      0.046      0.963      -2.456       2.575\n",
       "z_qnr_21          0.4940      1.372      0.360      0.719      -2.195       3.183\n",
       "z_qnr_22         -0.4955      1.614     -0.307      0.759      -3.658       2.667\n",
       "z_qnr_23         -0.2752      1.214     -0.227      0.821      -2.655       2.104\n",
       "z_qnr_24          0.0759      1.495      0.051      0.960      -2.855       3.007\n",
       "z_qnr_25          0.5901      1.223      0.483      0.629      -1.806       2.986\n",
       "z_qnr_26         -0.6781      1.872     -0.362      0.717      -4.347       2.990\n",
       "z_qnr_28         -0.6155      1.548     -0.397      0.691      -3.650       2.419\n",
       "z_qnr_31         -0.4023      1.894     -0.212      0.832      -4.115       3.310\n",
       "z_qnr_32         -0.5986      1.788     -0.335      0.738      -4.103       2.906\n",
       "z_qnr_33         -0.4418      2.808     -0.157      0.875      -5.946       5.062\n",
       "z_knr_2          -0.4824      1.638     -0.295      0.768      -3.693       2.728\n",
       "z_knr_3           1.2426      1.110      1.119      0.263      -0.933       3.419\n",
       "z_knr_7           1.2522      0.927      1.351      0.177      -0.564       3.068\n",
       "z_knr_9          -0.3501      1.835     -0.191      0.849      -3.946       3.246\n",
       "z_knr_10         -1.9680      0.931     -2.114      0.034      -3.792      -0.144\n",
       "z_knr_11          0.0982      0.815      0.121      0.904      -1.498       1.695\n",
       "trafficarea_1     0.3858      1.150      0.335      0.737      -1.869       2.640\n",
       "trafficarea_2    -1.1444      0.783     -1.462      0.144      -2.679       0.390\n",
       "r_width_1         1.3119      0.617      2.128      0.033       0.103       2.520\n",
       "r_width_3        -0.0222      0.730     -0.030      0.976      -1.453       1.408\n",
       "r_width_4        -0.4541      0.521     -0.872      0.383      -1.475       0.567\n",
       "r_width_5         0.5125      0.495      1.035      0.301      -0.458       1.483\n",
       "r_width_6        -0.7633      1.138     -0.671      0.502      -2.994       1.468\n",
       "speedlimit_2     -0.7435      1.190     -0.625      0.532      -3.075       1.588\n",
       "speedlimit_3     -0.3107      0.492     -0.632      0.527      -1.274       0.653\n",
       "speedlimit_5     -0.5065      1.551     -0.327      0.744      -3.546       2.533\n",
       "speedlimit_6      0.2253      2.094      0.108      0.914      -3.879       4.330\n",
       "=================================================================================\n",
       "\n",
       "Possibly complete quasi-separation: A fraction 0.21 of observations can be\n",
       "perfectly predicted. This might indicate that there is complete\n",
       "quasi-separation. In this case some parameters will not be identified.\n",
       "\"\"\""
      ]
     },
     "execution_count": 316,
     "metadata": {},
     "output_type": "execute_result"
    }
   ],
   "source": [
    "\n",
    "X_train1, X_test1, y_train1, y_test1 = train_test_split(\n",
    "        x_const, y,\n",
    "        test_size=0.25,\n",
    "        random_state=7)\n",
    "m00_log_split = sm.Logit(y_train1,X_train1, max_iter = 10000)\n",
    "r00_log_split = m00_log_split.fit(method='bfgs')\n",
    "r00_log_split.summary()"
   ]
  },
  {
   "cell_type": "code",
   "execution_count": 317,
   "id": "c5e3c184-9c58-4804-abd8-016bddd56438",
   "metadata": {
    "execution": {
     "iopub.execute_input": "2024-11-22T17:18:15.467606Z",
     "iopub.status.busy": "2024-11-22T17:18:15.467392Z",
     "iopub.status.idle": "2024-11-22T17:18:15.479245Z",
     "shell.execute_reply": "2024-11-22T17:18:15.478581Z",
     "shell.execute_reply.started": "2024-11-22T17:18:15.467591Z"
    }
   },
   "outputs": [
    {
     "name": "stdout",
     "output_type": "stream",
     "text": [
      "0.6946895006341105\n"
     ]
    },
    {
     "data": {
      "text/html": [
       "<div>\n",
       "<style scoped>\n",
       "    .dataframe tbody tr th:only-of-type {\n",
       "        vertical-align: middle;\n",
       "    }\n",
       "\n",
       "    .dataframe tbody tr th {\n",
       "        vertical-align: top;\n",
       "    }\n",
       "\n",
       "    .dataframe thead th {\n",
       "        text-align: right;\n",
       "    }\n",
       "</style>\n",
       "<table border=\"1\" class=\"dataframe\">\n",
       "  <thead>\n",
       "    <tr style=\"text-align: right;\">\n",
       "      <th></th>\n",
       "      <th>feature</th>\n",
       "      <th>0</th>\n",
       "      <th>sig</th>\n",
       "    </tr>\n",
       "  </thead>\n",
       "  <tbody>\n",
       "    <tr>\n",
       "      <th>0</th>\n",
       "      <td>cp</td>\n",
       "      <td>5.594369e-03</td>\n",
       "      <td>**</td>\n",
       "    </tr>\n",
       "    <tr>\n",
       "      <th>1</th>\n",
       "      <td>mew</td>\n",
       "      <td>5.627557e-08</td>\n",
       "      <td>***</td>\n",
       "    </tr>\n",
       "    <tr>\n",
       "      <th>2</th>\n",
       "      <td>dpedcro</td>\n",
       "      <td>1.019935e-02</td>\n",
       "      <td>*</td>\n",
       "    </tr>\n",
       "    <tr>\n",
       "      <th>3</th>\n",
       "      <td>droad</td>\n",
       "      <td>2.604465e-19</td>\n",
       "      <td>***</td>\n",
       "    </tr>\n",
       "    <tr>\n",
       "      <th>4</th>\n",
       "      <td>speedlimit</td>\n",
       "      <td>4.095362e-02</td>\n",
       "      <td>*</td>\n",
       "    </tr>\n",
       "    <tr>\n",
       "      <th>5</th>\n",
       "      <td>bicyclecount</td>\n",
       "      <td>6.240357e-12</td>\n",
       "      <td>***</td>\n",
       "    </tr>\n",
       "    <tr>\n",
       "      <th>6</th>\n",
       "      <td>z_knr_10</td>\n",
       "      <td>3.447316e-02</td>\n",
       "      <td>*</td>\n",
       "    </tr>\n",
       "    <tr>\n",
       "      <th>7</th>\n",
       "      <td>r_width_1</td>\n",
       "      <td>3.336867e-02</td>\n",
       "      <td>*</td>\n",
       "    </tr>\n",
       "  </tbody>\n",
       "</table>\n",
       "</div>"
      ],
      "text/plain": [
       "        feature             0  sig\n",
       "0            cp  5.594369e-03   **\n",
       "1           mew  5.627557e-08  ***\n",
       "2       dpedcro  1.019935e-02    *\n",
       "3         droad  2.604465e-19  ***\n",
       "4    speedlimit  4.095362e-02    *\n",
       "5  bicyclecount  6.240357e-12  ***\n",
       "6      z_knr_10  3.447316e-02    *\n",
       "7     r_width_1  3.336867e-02    *"
      ]
     },
     "execution_count": 317,
     "metadata": {},
     "output_type": "execute_result"
    }
   ],
   "source": [
    "print(r00_log_split.prsquared)\n",
    "printsig(r00_log_split)"
   ]
  },
  {
   "cell_type": "code",
   "execution_count": 318,
   "id": "3805abdf-feee-4089-9fb4-99c8b012212f",
   "metadata": {
    "execution": {
     "iopub.execute_input": "2024-11-22T17:18:15.842625Z",
     "iopub.status.busy": "2024-11-22T17:18:15.842333Z",
     "iopub.status.idle": "2024-11-22T17:18:16.063345Z",
     "shell.execute_reply": "2024-11-22T17:18:16.062784Z",
     "shell.execute_reply.started": "2024-11-22T17:18:15.842608Z"
    }
   },
   "outputs": [
    {
     "name": "stdout",
     "output_type": "stream",
     "text": [
      "0.8933823529411765\n",
      "\n",
      "Test accuracy : \n",
      " 0.8933823529411765\n",
      "\n",
      "Confusion Matrix : \n",
      " [[186  14]\n",
      " [ 15  57]]\n",
      "accuracy 0.8933823529411765\n",
      "precision [0.92537313 0.8028169 ]\n",
      "sensitivity recall [0.93       0.79166667]\n",
      "f1 score [0.9276808 0.7972028]\n",
      "mean precision 0.8640950178684045\n",
      "mean recall 0.8608333333333333\n",
      "mean f1 score 0.8624417976038923\n"
     ]
    },
    {
     "data": {
      "image/png": "[encoded data removed]",
      "text/plain": [
       "<Figure size 432x288 with 2 Axes>"
      ]
     },
     "metadata": {
      "needs_background": "light"
     },
     "output_type": "display_data"
    }
   ],
   "source": [
    "pred00log_split = r00_log_split.predict(X_test1)\n",
    "pred00log_split = list(map(round,pred00log_split))\n",
    "print(accuracy_score(y_test1, pred00log_split))\n",
    "print('\\nTest accuracy : \\n', accuracy_score(y_test1, pred00log_split))\n",
    "cm00log_split = confusion_matrix(y_test1, pred00log_split) \n",
    "print ('\\nConfusion Matrix : \\n', cm00log_split)\n",
    "cm00log_split_display = metrics.ConfusionMatrixDisplay(confusion_matrix = cm00log_split)\n",
    "cm00log_split_display.plot()\n",
    "\n",
    "acc_log_split = metrics.accuracy_score(y_test1, pred00log_split)\n",
    "print('accuracy', acc_log_split)\n",
    "\n",
    "pre_log_split = metrics.precision_score(y_test1, pred00log_split, average = None)\n",
    "print('precision', pre_log_split)\n",
    "\n",
    "senrec_log_split = metrics.recall_score(y_test1, pred00log_split, average = None)\n",
    "print('sensitivity recall', senrec_log_split)\n",
    "\n",
    "f1_log_split = metrics.f1_score(y_test1, pred00log_split, average = None)\n",
    "print('f1 score', f1_log_split)\n",
    "\n",
    "pre_log_split_m = np.mean(pre_log_split)\n",
    "senrec_log_split_m = np.mean(senrec_log_split)\n",
    "f1_log_split_m = np.mean(f1_log_split)\n",
    "print('mean precision', pre_log_split_m)\n",
    "print('mean recall', senrec_log_split_m)\n",
    "print('mean f1 score', f1_log_split_m)"
   ]
  },
  {
   "cell_type": "markdown",
   "id": "128882ea-f6d9-4b7f-859a-71387313f4e0",
   "metadata": {},
   "source": [
    "# Step wise feature selection"
   ]
  },
  {
   "cell_type": "code",
   "execution_count": 161,
   "id": "e995a9c3",
   "metadata": {},
   "outputs": [],
   "source": [
    "# Check sklearn metrics name for feature selection\n",
    "# sklearn.metrics.get_scorer_names()"
   ]
  },
  {
   "cell_type": "markdown",
   "id": "9e07aaa1-688d-4e10-935b-76a1a8966f6b",
   "metadata": {},
   "source": [
    "## Ordinary Least Squares Regression model"
   ]
  },
  {
   "cell_type": "markdown",
   "id": "8f695bb3-dd7f-414d-95af-2cc2fef57c9a",
   "metadata": {},
   "source": [
    "### Sequential forward floating selection"
   ]
  },
  {
   "cell_type": "code",
   "execution_count": null,
   "id": "27ee2cf3-945c-4135-9f4f-de7d8aae4103",
   "metadata": {},
   "outputs": [],
   "source": [
    "# def fs_output_sum(type, cv_start, cv_end, cv_step, x, y):\n",
    "#     pa1 = ['neg_mean_squared_error', \n",
    "#            'r2',\n",
    "#            'neg_median_absolute_error',\n",
    "#            'neg_mean_absolute_error']\n",
    "#     pa2 = ['accuracy',\n",
    "#            'f1',\n",
    "#            'precision',\n",
    "#            'recall']\n",
    "#     if type == 'linear':\n",
    "#         sel_cols_f = pd.DataFrame()\n",
    "#         sel_cols_b = pd.DataFrame()\n",
    "#         for p in range(0,3):\n",
    "#             for i in range(cv_start, cv_end, cv_step):\n",
    "#                 sffslin = featureselection_lin(True, pa1[p], i, x, y)\n",
    "#                 sbfslin = featureselection_lin(False, pa1[p], i, x, y)\n",
    "#                 sel_cols_f[pa1[p]] = list(sffslin.k_feature_names_)\n",
    "#                 sel_cols_b[pa1[p]] = list(sbfslin.k_feature_names_)\n",
    "#     elif type == 'logistic':\n",
    "#         sel_cols_f = pd.DataFrame()\n",
    "#         sel_cols_b = pd.DataFrame()\n",
    "#         for q in range(0,3):\n",
    "#             for t in range(cv_start, cv_end, cv_step):\n",
    "#                 sffslog = featureselection_log(True, pa2[q], t, x, y)\n",
    "#                 sbfslog = featureselection_log(False, pa2[q], t, x, y)\n",
    "#                 sel_cols_f[pa2[q]] = list(sffslog.k_feature_names_)\n",
    "#                 sel_cols_b[pa2[q]] = list(sbfslog.k_feature_names_)\n",
    "#     else:\n",
    "#         print('Error, invalid input!')\n",
    "#     return sel_cols_f, sel_cols_b\n"
   ]
  },
  {
   "cell_type": "code",
   "execution_count": 206,
   "id": "b7b7d96a-1b38-41b4-bf2a-b99991852105",
   "metadata": {},
   "outputs": [
    {
     "name": "stdout",
     "output_type": "stream",
     "text": [
      "('cmean', 'mew', 'dvfpath', 'z_qnr_1', 'z_qnr_9')\n",
      "5\n",
      "-0.015994700043457807\n"
     ]
    }
   ],
   "source": [
    "# # n = best, linear regression, scoring = neg_mean_squared_error, cv = 5\n",
    "sffslin0 = featureselection_lin(True, 'neg_mean_squared_error', 5, x, y) \n",
    "print(sffslin0.k_feature_names_)\n",
    "print(len(sffslin0.k_feature_names_))\n",
    "print(sffslin0.k_score_)\n"
   ]
  },
  {
   "cell_type": "code",
   "execution_count": 207,
   "id": "7717119b-51d8-4973-a3d4-b0f438d59d6d",
   "metadata": {},
   "outputs": [],
   "source": [
    "# # # n = best, linear regression, scoring = neg_mean_squared_error, cv = 10\n",
    "# sffslin1 = featureselection_lin(True, 'neg_mean_squared_error', 10, x, y) \n",
    "# print(sffslin1.k_feature_names_)\n",
    "# print(len(sffslin1.k_feature_names_))\n",
    "# print(sffslin1.k_score_)\n"
   ]
  },
  {
   "cell_type": "code",
   "execution_count": 208,
   "id": "ce242bce-b9b8-4849-ab1c-938d39fb36d3",
   "metadata": {},
   "outputs": [
    {
     "name": "stdout",
     "output_type": "stream",
     "text": [
      "('cmean', 'mew', 'meg', 'megmax', 'dtraml', 'dtrainl', 'dplight', 'dstation', 'dparkcar', 'dparktw', 'dpedcro', 'dstopsign', 'dtrafficarea', 'droad', 'dvfpath', 'speedlimit', 'bicyclecount', 'carcount', 'z_qnr_1', 'z_qnr_7', 'z_qnr_9', 'z_qnr_11', 'z_qnr_18', 'z_qnr_20', 'z_qnr_22', 'z_qnr_23', 'z_qnr_24', 'z_qnr_25', 'z_qnr_30', 'z_qnr_32', 'z_knr_2', 'z_knr_3', 'z_knr_7', 'z_knr_10', 'trafficarea_2', 'r_width_1', 'r_width_6', 'speedlimit_3')\n",
      "38\n",
      "0.1837072197978606\n"
     ]
    }
   ],
   "source": [
    "# # n = best, linear regression, scoring = r2, cv = 5\n",
    "sffslin2 = featureselection_lin(True, 'r2', 5, x, y) \n",
    "print(sffslin2.k_feature_names_)\n",
    "print(len(sffslin2.k_feature_names_))\n",
    "print(sffslin2.k_score_)"
   ]
  },
  {
   "cell_type": "code",
   "execution_count": 209,
   "id": "fa7612cf-e8b3-49e4-abcc-0bc257beec93",
   "metadata": {},
   "outputs": [],
   "source": [
    "# # n = best, linear regression, scoring = r2, cv = 10\n",
    "# sffslin3 = featureselection_lin(True, 'r2', 10, x, y) \n",
    "# print(sffslin3.k_feature_names_)\n",
    "# print(len(sffslin3.k_feature_names_))\n",
    "# print(sffslin3.k_score_)"
   ]
  },
  {
   "cell_type": "code",
   "execution_count": 210,
   "id": "e03c0b1f-c624-49c0-8783-5e30b9c2e46f",
   "metadata": {},
   "outputs": [
    {
     "name": "stdout",
     "output_type": "stream",
     "text": [
      "('dvfpath', 'z_qnr_1', 'z_qnr_12', 'z_qnr_13', 'z_qnr_14', 'z_qnr_19', 'z_qnr_25', 'z_qnr_26', 'z_qnr_30', 'z_knr_3', 'z_knr_5', 'trafficarea_1', 'trafficarea_2', 'speedlimit_6')\n",
      "14\n",
      "-0.02739052138708087\n"
     ]
    }
   ],
   "source": [
    "# # # n = best, linear regression, scoring = neg median absolute error, cv = 5\n",
    "sffslin4 = featureselection_lin(True, 'neg_median_absolute_error', 5, x, y) \n",
    "print(sffslin4.k_feature_names_)\n",
    "print(len(sffslin4.k_feature_names_))\n",
    "print(sffslin4.k_score_)"
   ]
  },
  {
   "cell_type": "code",
   "execution_count": 211,
   "id": "70bfd1b1-267e-4c77-8197-768721021845",
   "metadata": {},
   "outputs": [],
   "source": [
    "# # # # n = best, linear regression, scoring = neg median absolute error, cv = 10\n",
    "# sffslin5 = featureselection_lin(True, 'neg_median_absolute_error', 10, x, y) \n",
    "# print(sffslin5.k_feature_names_)\n",
    "# print(len(sffslin5.k_feature_names_))\n",
    "# print(sffslin5.k_score_)"
   ]
  },
  {
   "cell_type": "code",
   "execution_count": 212,
   "id": "3c4446c6-6797-42f7-b2f9-78eac7c93c66",
   "metadata": {},
   "outputs": [
    {
     "name": "stdout",
     "output_type": "stream",
     "text": [
      "('cmean', 'dstation', 'dvfpath', 'z_qnr_1', 'z_qnr_9', 'r_width_4', 'speedlimit_6')\n",
      "7\n",
      "-0.0604594608829936\n"
     ]
    }
   ],
   "source": [
    "# # # n = best, linear regression, scoring = neg mean absolute error, cv = 5\n",
    "sffslin6 = featureselection_lin(True, 'neg_mean_absolute_error', 5, x, y) \n",
    "print(sffslin6.k_feature_names_)\n",
    "print(len(sffslin6.k_feature_names_))\n",
    "print(sffslin6.k_score_)"
   ]
  },
  {
   "cell_type": "code",
   "execution_count": null,
   "id": "580d72e6-f3d6-4de9-ae2f-b7880b0d9a53",
   "metadata": {},
   "outputs": [],
   "source": [
    "# # # # n = best, linear regression, scoring = neg mean absolute error, cv = 10\n",
    "# sffslin7 = featureselection_lin(True, 'neg_mean_absolute_error', 10, x, y) \n",
    "# print(sffslin7.k_feature_names_)\n",
    "# print(len(sffslin7.k_feature_names_))\n",
    "# print(sffslin7.k_score_)"
   ]
  },
  {
   "cell_type": "code",
   "execution_count": 213,
   "id": "ed4ea5e7-5942-46d6-abdc-c5ae3aeb66aa",
   "metadata": {},
   "outputs": [],
   "source": [
    "selected_columns_linr_sffs = []\n",
    "selected_columns_linr_sffs = {'nmse_cv5':list(sffslin0.k_feature_names_), \n",
    "#                               'nmse_cv10':list(sffslin1.k_feature_names_), \n",
    "                              'r2_cv5':list(sffslin2.k_feature_names_), \n",
    "#                               'r2_cv10':list(sffslin3.k_feature_names_), \n",
    "                              'nmedae_cv5':list(sffslin4.k_feature_names_), \n",
    "#                               'nmedae_cv10':list(sffslin5.k_feature_names_), \n",
    "                              'nmeae_cv5':list(sffslin6.k_feature_names_) \n",
    "#                               'nmeae_cv10':list(sffslin7.k_feature_names_)\n",
    "                             }"
   ]
  },
  {
   "cell_type": "code",
   "execution_count": 214,
   "id": "c349dec0-822c-45c3-ac7e-0230b3267ab7",
   "metadata": {},
   "outputs": [],
   "source": [
    "df_sf_linr_sffs = pd.DataFrame(dict([(k,pd.Series(v)) for k,v in selected_columns_linr_sffs.items()]))"
   ]
  },
  {
   "cell_type": "code",
   "execution_count": 215,
   "id": "e49537ed-5015-496f-b153-79e8112628fd",
   "metadata": {},
   "outputs": [],
   "source": [
    "# df_sf_linr_sffs.to_csv('/home/yelhe/script/mtp/tables/updated_sffs_linearreg.csv', index = True)"
   ]
  },
  {
   "cell_type": "code",
   "execution_count": 129,
   "id": "3d3c2e27",
   "metadata": {},
   "outputs": [],
   "source": [
    "lin_sffs = []"
   ]
  },
  {
   "cell_type": "code",
   "execution_count": 143,
   "id": "16d38534-395b-4230-a4ca-49ef5b9fcddb",
   "metadata": {},
   "outputs": [
    {
     "data": {
      "text/plain": [
       "['cp',\n",
       " 'dstation',\n",
       " 'dtrafficarea',\n",
       " 'droad',\n",
       " 'dvfpath',\n",
       " 'z_qnr_9',\n",
       " 'r_width_4',\n",
       " 'speedlimit_6']"
      ]
     },
     "execution_count": 143,
     "metadata": {},
     "output_type": "execute_result"
    }
   ],
   "source": [
    "# 0 2 4 6\n",
    "selected_columns = list(sffslin6.k_feature_names_)\n",
    "selected_columns"
   ]
  },
  {
   "cell_type": "code",
   "execution_count": 144,
   "id": "3c4c21cf",
   "metadata": {},
   "outputs": [
    {
     "data": {
      "text/html": [
       "<table class=\"simpletable\">\n",
       "<caption>OLS Regression Results</caption>\n",
       "<tr>\n",
       "  <th>Dep. Variable:</th>           <td>acp</td>       <th>  R-squared:         </th> <td>   0.921</td>\n",
       "</tr>\n",
       "<tr>\n",
       "  <th>Model:</th>                   <td>OLS</td>       <th>  Adj. R-squared:    </th> <td>   0.920</td>\n",
       "</tr>\n",
       "<tr>\n",
       "  <th>Method:</th>             <td>Least Squares</td>  <th>  F-statistic:       </th> <td>   935.0</td>\n",
       "</tr>\n",
       "<tr>\n",
       "  <th>Date:</th>             <td>Mon, 13 Jan 2025</td> <th>  Prob (F-statistic):</th>  <td>  0.00</td> \n",
       "</tr>\n",
       "<tr>\n",
       "  <th>Time:</th>                 <td>18:50:28</td>     <th>  Log-Likelihood:    </th> <td>  442.18</td>\n",
       "</tr>\n",
       "<tr>\n",
       "  <th>No. Observations:</th>      <td>   652</td>      <th>  AIC:               </th> <td>  -866.4</td>\n",
       "</tr>\n",
       "<tr>\n",
       "  <th>Df Residuals:</th>          <td>   643</td>      <th>  BIC:               </th> <td>  -826.0</td>\n",
       "</tr>\n",
       "<tr>\n",
       "  <th>Df Model:</th>              <td>     8</td>      <th>                     </th>     <td> </td>   \n",
       "</tr>\n",
       "<tr>\n",
       "  <th>Covariance Type:</th>      <td>nonrobust</td>    <th>                     </th>     <td> </td>   \n",
       "</tr>\n",
       "</table>\n",
       "<table class=\"simpletable\">\n",
       "<tr>\n",
       "        <td></td>          <th>coef</th>     <th>std err</th>      <th>t</th>      <th>P>|t|</th>  <th>[0.025</th>    <th>0.975]</th>  \n",
       "</tr>\n",
       "<tr>\n",
       "  <th>const</th>        <td>    0.5590</td> <td>    0.008</td> <td>   73.868</td> <td> 0.000</td> <td>    0.544</td> <td>    0.574</td>\n",
       "</tr>\n",
       "<tr>\n",
       "  <th>cp</th>           <td>   -0.0106</td> <td>    0.005</td> <td>   -2.132</td> <td> 0.033</td> <td>   -0.020</td> <td>   -0.001</td>\n",
       "</tr>\n",
       "<tr>\n",
       "  <th>dstation</th>     <td>   -0.0540</td> <td>    0.018</td> <td>   -3.018</td> <td> 0.003</td> <td>   -0.089</td> <td>   -0.019</td>\n",
       "</tr>\n",
       "<tr>\n",
       "  <th>dtrafficarea</th> <td>    0.0147</td> <td>    0.008</td> <td>    1.895</td> <td> 0.059</td> <td>   -0.001</td> <td>    0.030</td>\n",
       "</tr>\n",
       "<tr>\n",
       "  <th>droad</th>        <td>   -0.0077</td> <td>    0.009</td> <td>   -0.876</td> <td> 0.381</td> <td>   -0.025</td> <td>    0.010</td>\n",
       "</tr>\n",
       "<tr>\n",
       "  <th>dvfpath</th>      <td>    0.5428</td> <td>    0.008</td> <td>   67.505</td> <td> 0.000</td> <td>    0.527</td> <td>    0.559</td>\n",
       "</tr>\n",
       "<tr>\n",
       "  <th>z_qnr_9</th>      <td>   -0.0216</td> <td>    0.028</td> <td>   -0.773</td> <td> 0.440</td> <td>   -0.077</td> <td>    0.033</td>\n",
       "</tr>\n",
       "<tr>\n",
       "  <th>r_width_4</th>    <td>    0.0033</td> <td>    0.013</td> <td>    0.258</td> <td> 0.796</td> <td>   -0.022</td> <td>    0.028</td>\n",
       "</tr>\n",
       "<tr>\n",
       "  <th>speedlimit_6</th> <td>    0.0462</td> <td>    0.058</td> <td>    0.801</td> <td> 0.423</td> <td>   -0.067</td> <td>    0.159</td>\n",
       "</tr>\n",
       "</table>\n",
       "<table class=\"simpletable\">\n",
       "<tr>\n",
       "  <th>Omnibus:</th>       <td>601.824</td> <th>  Durbin-Watson:     </th> <td>   1.878</td> \n",
       "</tr>\n",
       "<tr>\n",
       "  <th>Prob(Omnibus):</th> <td> 0.000</td>  <th>  Jarque-Bera (JB):  </th> <td>14018.109</td>\n",
       "</tr>\n",
       "<tr>\n",
       "  <th>Skew:</th>          <td> 4.296</td>  <th>  Prob(JB):          </th> <td>    0.00</td> \n",
       "</tr>\n",
       "<tr>\n",
       "  <th>Kurtosis:</th>      <td>24.028</td>  <th>  Cond. No.          </th> <td>    17.3</td> \n",
       "</tr>\n",
       "</table><br/><br/>Notes:<br/>[1] Standard Errors assume that the covariance matrix of the errors is correctly specified."
      ],
      "text/latex": [
       "\\begin{center}\n",
       "\\begin{tabular}{lclc}\n",
       "\\toprule\n",
       "\\textbf{Dep. Variable:}    &       acp        & \\textbf{  R-squared:         } &     0.921   \\\\\n",
       "\\textbf{Model:}            &       OLS        & \\textbf{  Adj. R-squared:    } &     0.920   \\\\\n",
       "\\textbf{Method:}           &  Least Squares   & \\textbf{  F-statistic:       } &     935.0   \\\\\n",
       "\\textbf{Date:}             & Mon, 13 Jan 2025 & \\textbf{  Prob (F-statistic):} &     0.00    \\\\\n",
       "\\textbf{Time:}             &     18:50:28     & \\textbf{  Log-Likelihood:    } &    442.18   \\\\\n",
       "\\textbf{No. Observations:} &         652      & \\textbf{  AIC:               } &    -866.4   \\\\\n",
       "\\textbf{Df Residuals:}     &         643      & \\textbf{  BIC:               } &    -826.0   \\\\\n",
       "\\textbf{Df Model:}         &           8      & \\textbf{                     } &             \\\\\n",
       "\\textbf{Covariance Type:}  &    nonrobust     & \\textbf{                     } &             \\\\\n",
       "\\bottomrule\n",
       "\\end{tabular}\n",
       "\\begin{tabular}{lcccccc}\n",
       "                       & \\textbf{coef} & \\textbf{std err} & \\textbf{t} & \\textbf{P$> |$t$|$} & \\textbf{[0.025} & \\textbf{0.975]}  \\\\\n",
       "\\midrule\n",
       "\\textbf{const}         &       0.5590  &        0.008     &    73.868  &         0.000        &        0.544    &        0.574     \\\\\n",
       "\\textbf{cp}            &      -0.0106  &        0.005     &    -2.132  &         0.033        &       -0.020    &       -0.001     \\\\\n",
       "\\textbf{dstation}      &      -0.0540  &        0.018     &    -3.018  &         0.003        &       -0.089    &       -0.019     \\\\\n",
       "\\textbf{dtrafficarea}  &       0.0147  &        0.008     &     1.895  &         0.059        &       -0.001    &        0.030     \\\\\n",
       "\\textbf{droad}         &      -0.0077  &        0.009     &    -0.876  &         0.381        &       -0.025    &        0.010     \\\\\n",
       "\\textbf{dvfpath}       &       0.5428  &        0.008     &    67.505  &         0.000        &        0.527    &        0.559     \\\\\n",
       "\\textbf{z\\_qnr\\_9}     &      -0.0216  &        0.028     &    -0.773  &         0.440        &       -0.077    &        0.033     \\\\\n",
       "\\textbf{r\\_width\\_4}   &       0.0033  &        0.013     &     0.258  &         0.796        &       -0.022    &        0.028     \\\\\n",
       "\\textbf{speedlimit\\_6} &       0.0462  &        0.058     &     0.801  &         0.423        &       -0.067    &        0.159     \\\\\n",
       "\\bottomrule\n",
       "\\end{tabular}\n",
       "\\begin{tabular}{lclc}\n",
       "\\textbf{Omnibus:}       & 601.824 & \\textbf{  Durbin-Watson:     } &     1.878  \\\\\n",
       "\\textbf{Prob(Omnibus):} &   0.000 & \\textbf{  Jarque-Bera (JB):  } & 14018.109  \\\\\n",
       "\\textbf{Skew:}          &   4.296 & \\textbf{  Prob(JB):          } &      0.00  \\\\\n",
       "\\textbf{Kurtosis:}      &  24.028 & \\textbf{  Cond. No.          } &      17.3  \\\\\n",
       "\\bottomrule\n",
       "\\end{tabular}\n",
       "%\\caption{OLS Regression Results}\n",
       "\\end{center}\n",
       "\n",
       "Notes: \\newline\n",
       " [1] Standard Errors assume that the covariance matrix of the errors is correctly specified."
      ],
      "text/plain": [
       "<class 'statsmodels.iolib.summary.Summary'>\n",
       "\"\"\"\n",
       "                            OLS Regression Results                            \n",
       "==============================================================================\n",
       "Dep. Variable:                    acp   R-squared:                       0.921\n",
       "Model:                            OLS   Adj. R-squared:                  0.920\n",
       "Method:                 Least Squares   F-statistic:                     935.0\n",
       "Date:                Mon, 13 Jan 2025   Prob (F-statistic):               0.00\n",
       "Time:                        18:50:28   Log-Likelihood:                 442.18\n",
       "No. Observations:                 652   AIC:                            -866.4\n",
       "Df Residuals:                     643   BIC:                            -826.0\n",
       "Df Model:                           8                                         \n",
       "Covariance Type:            nonrobust                                         \n",
       "================================================================================\n",
       "                   coef    std err          t      P>|t|      [0.025      0.975]\n",
       "--------------------------------------------------------------------------------\n",
       "const            0.5590      0.008     73.868      0.000       0.544       0.574\n",
       "cp              -0.0106      0.005     -2.132      0.033      -0.020      -0.001\n",
       "dstation        -0.0540      0.018     -3.018      0.003      -0.089      -0.019\n",
       "dtrafficarea     0.0147      0.008      1.895      0.059      -0.001       0.030\n",
       "droad           -0.0077      0.009     -0.876      0.381      -0.025       0.010\n",
       "dvfpath          0.5428      0.008     67.505      0.000       0.527       0.559\n",
       "z_qnr_9         -0.0216      0.028     -0.773      0.440      -0.077       0.033\n",
       "r_width_4        0.0033      0.013      0.258      0.796      -0.022       0.028\n",
       "speedlimit_6     0.0462      0.058      0.801      0.423      -0.067       0.159\n",
       "==============================================================================\n",
       "Omnibus:                      601.824   Durbin-Watson:                   1.878\n",
       "Prob(Omnibus):                  0.000   Jarque-Bera (JB):            14018.109\n",
       "Skew:                           4.296   Prob(JB):                         0.00\n",
       "Kurtosis:                      24.028   Cond. No.                         17.3\n",
       "==============================================================================\n",
       "\n",
       "Notes:\n",
       "[1] Standard Errors assume that the covariance matrix of the errors is correctly specified.\n",
       "\"\"\""
      ]
     },
     "execution_count": 144,
     "metadata": {},
     "output_type": "execute_result"
    }
   ],
   "source": [
    "# OLS\n",
    "xs = dfacrpv[selected_columns]\n",
    "x_const_s = tools.add_constant(xs)\n",
    "X_train, X_test, y_train, y_test = train_test_split(\n",
    "        x_const_s, y,\n",
    "        test_size=0.4,\n",
    "        random_state=3)\n",
    "\n",
    "m0 = sm.OLS(y_train, X_train)\n",
    "r0 = m0.fit()\n",
    "r0.summary()"
   ]
  },
  {
   "cell_type": "code",
   "execution_count": 145,
   "id": "3bd02ee1",
   "metadata": {},
   "outputs": [],
   "source": [
    "lin_sffs.append(r0.rsquared_adj)"
   ]
  },
  {
   "cell_type": "code",
   "execution_count": 146,
   "id": "81d4771f",
   "metadata": {},
   "outputs": [
    {
     "data": {
      "text/plain": [
       "[0.9191685317933895, 0.9251887469761979, 0.921343619834913, 0.9198562310740566]"
      ]
     },
     "execution_count": 146,
     "metadata": {},
     "output_type": "execute_result"
    }
   ],
   "source": [
    "lin_sffs"
   ]
  },
  {
   "cell_type": "code",
   "execution_count": 147,
   "id": "e0d5f30b",
   "metadata": {},
   "outputs": [
    {
     "name": "stdout",
     "output_type": "stream",
     "text": [
      "    feature              0  sig\n",
      "0     const  2.450239e-316  ***\n",
      "1        cp   3.336357e-02    *\n",
      "2  dstation   2.641197e-03   **\n",
      "3   dvfpath  4.704111e-294  *** 4\n"
     ]
    },
    {
     "data": {
      "text/html": [
       "<div>\n",
       "<style scoped>\n",
       "    .dataframe tbody tr th:only-of-type {\n",
       "        vertical-align: middle;\n",
       "    }\n",
       "\n",
       "    .dataframe tbody tr th {\n",
       "        vertical-align: top;\n",
       "    }\n",
       "\n",
       "    .dataframe thead th {\n",
       "        text-align: right;\n",
       "    }\n",
       "</style>\n",
       "<table border=\"1\" class=\"dataframe\">\n",
       "  <thead>\n",
       "    <tr style=\"text-align: right;\">\n",
       "      <th></th>\n",
       "      <th>feature</th>\n",
       "      <th>0</th>\n",
       "      <th>sig</th>\n",
       "    </tr>\n",
       "  </thead>\n",
       "  <tbody>\n",
       "    <tr>\n",
       "      <th>0</th>\n",
       "      <td>const</td>\n",
       "      <td>2.450239e-316</td>\n",
       "      <td>***</td>\n",
       "    </tr>\n",
       "    <tr>\n",
       "      <th>1</th>\n",
       "      <td>cp</td>\n",
       "      <td>3.336357e-02</td>\n",
       "      <td>*</td>\n",
       "    </tr>\n",
       "    <tr>\n",
       "      <th>2</th>\n",
       "      <td>dstation</td>\n",
       "      <td>2.641197e-03</td>\n",
       "      <td>**</td>\n",
       "    </tr>\n",
       "    <tr>\n",
       "      <th>3</th>\n",
       "      <td>dvfpath</td>\n",
       "      <td>4.704111e-294</td>\n",
       "      <td>***</td>\n",
       "    </tr>\n",
       "  </tbody>\n",
       "</table>\n",
       "</div>"
      ],
      "text/plain": [
       "    feature              0  sig\n",
       "0     const  2.450239e-316  ***\n",
       "1        cp   3.336357e-02    *\n",
       "2  dstation   2.641197e-03   **\n",
       "3   dvfpath  4.704111e-294  ***"
      ]
     },
     "execution_count": 147,
     "metadata": {},
     "output_type": "execute_result"
    }
   ],
   "source": [
    "printsig(r0)"
   ]
  },
  {
   "cell_type": "markdown",
   "id": "165da463-0e31-4348-af57-0403dd3f29ed",
   "metadata": {},
   "source": [
    "### Sequential backward floating selection"
   ]
  },
  {
   "cell_type": "code",
   "execution_count": 108,
   "id": "f531ac9b-d567-4f0c-ab02-09733e44b31d",
   "metadata": {},
   "outputs": [
    {
     "name": "stdout",
     "output_type": "stream",
     "text": [
      "('cp', 'mew', 'dvfpath', 'z_qnr_1', 'z_qnr_9')\n",
      "5\n",
      "-0.015999212524544833\n"
     ]
    }
   ],
   "source": [
    "# # n = best, linear regression, backward, scoring = neg_mean_squared_error, cv = 5\n",
    "sbfslin0 = featureselection_lin(False, 'neg_mean_squared_error', 5, x, y) \n",
    "print(sbfslin0.k_feature_names_)\n",
    "print(len(sbfslin0.k_feature_names_))\n",
    "print(sbfslin0.k_score_)"
   ]
  },
  {
   "cell_type": "code",
   "execution_count": null,
   "id": "46dba83a-ad2c-4e0f-8b3f-94dae9279c2a",
   "metadata": {},
   "outputs": [],
   "source": [
    "# # # n = best, linear regression, backward, scoring = neg_mean_squared_error, cv = 10\n",
    "# sbfslin1 = featureselection_lin(False, 'neg_mean_squared_error', 10, x, y) \n",
    "# print(sbfslin1.k_feature_names_)\n",
    "# print(len(sbfslin1.k_feature_names_))\n",
    "# print(sbfslin1.k_score_)\n"
   ]
  },
  {
   "cell_type": "code",
   "execution_count": 109,
   "id": "e91657a5-b828-4141-aad7-2c78c47a0ede",
   "metadata": {},
   "outputs": [
    {
     "name": "stdout",
     "output_type": "stream",
     "text": [
      "('cp', 'cmin', 'mew', 'meg', 'megmax', 'dtraml', 'dplight', 'dstation', 'dparkcar', 'dparktw', 'dstopsign', 'dtrafficarea', 'droad', 'dvfpath', 'speedlimit', 'bicyclecount', 'carcount', 'z_qnr_1', 'z_qnr_7', 'z_qnr_9', 'z_qnr_11', 'z_qnr_18', 'z_qnr_20', 'z_qnr_22', 'z_qnr_23', 'z_qnr_24', 'z_qnr_25', 'z_qnr_30', 'z_qnr_32', 'z_knr_2', 'z_knr_3', 'z_knr_7', 'z_knr_10', 'trafficarea_2', 'r_width_1', 'r_width_6', 'speedlimit_3')\n",
      "37\n",
      "0.18363509431779046\n"
     ]
    }
   ],
   "source": [
    "# # n = best, linear regression, backward, scoring = r2, cv = 5\n",
    "sbfslin2 = featureselection_lin(False, 'r2', 5, x, y) \n",
    "print(sbfslin2.k_feature_names_)\n",
    "print(len(sbfslin2.k_feature_names_))\n",
    "print(sbfslin2.k_score_)"
   ]
  },
  {
   "cell_type": "code",
   "execution_count": null,
   "id": "881471b7-90c3-4d41-b317-2fd906d67a99",
   "metadata": {},
   "outputs": [],
   "source": [
    "# # # n = best, linear regression, backward, scoring = r2, cv = 10\n",
    "# sbfslin3 = featureselection_lin(False, 'r2', 10, x, y) \n",
    "# print(sbfslin3.k_feature_names_)\n",
    "# print(len(sbfslin3.k_feature_names_))\n",
    "# print(sbfslin3.k_score_)"
   ]
  },
  {
   "cell_type": "code",
   "execution_count": 110,
   "id": "a70a2f1c-b05c-41a0-a416-6c829ff98f91",
   "metadata": {},
   "outputs": [
    {
     "name": "stdout",
     "output_type": "stream",
     "text": [
      "('dvfpath', 'z_qnr_1', 'z_qnr_12', 'z_qnr_13', 'z_qnr_14', 'z_qnr_19', 'z_qnr_25', 'z_qnr_26', 'z_qnr_30', 'z_knr_3', 'z_knr_5', 'trafficarea_1', 'trafficarea_2', 'speedlimit_6')\n",
      "14\n",
      "-0.02739052138708087\n"
     ]
    }
   ],
   "source": [
    "# # n = best, linear regression, backward, scoring = neg median aboslute error, cv = 5\n",
    "sbfslin4 = featureselection_lin(False, 'neg_median_absolute_error', 5, x, y) \n",
    "print(sbfslin4.k_feature_names_)\n",
    "print(len(sbfslin4.k_feature_names_))\n",
    "print(sbfslin4.k_score_)"
   ]
  },
  {
   "cell_type": "code",
   "execution_count": null,
   "id": "a0d6c2f0-95db-47a3-ba56-c652ec28ba29",
   "metadata": {},
   "outputs": [],
   "source": [
    "# # # n = best, linear regression, backward, scoring = neg median aboslute error, cv = 10\n",
    "# sbfslin5 = featureselection_lin(False, 'neg_median_absolute_error', 10, x, y) \n",
    "# print(sbfslin5.k_feature_names_)\n",
    "# print(len(sbfslin5.k_feature_names_))\n",
    "# print(sbfslin5.k_score_)"
   ]
  },
  {
   "cell_type": "code",
   "execution_count": 111,
   "id": "976d1b34-d087-484a-bb09-679bc73387c3",
   "metadata": {},
   "outputs": [
    {
     "name": "stdout",
     "output_type": "stream",
     "text": [
      "('dstation', 'dtrafficarea', 'droad', 'dvfpath', 'r_width_4', 'speedlimit_6')\n",
      "6\n",
      "-0.06043980890831002\n"
     ]
    }
   ],
   "source": [
    "# # n = best, linear regression, backward, scoring = neg mean absolute error, cv = 5\n",
    "sbfslin6 = featureselection_lin(False, 'neg_mean_absolute_error', 5, x, y) \n",
    "print(sbfslin6.k_feature_names_)\n",
    "print(len(sbfslin6.k_feature_names_))\n",
    "print(sbfslin6.k_score_)"
   ]
  },
  {
   "cell_type": "code",
   "execution_count": null,
   "id": "20006330-64f5-4cc3-8f30-f6e755a5a527",
   "metadata": {},
   "outputs": [],
   "source": [
    "# # # n = best, linear regression, backward, scoring = neg mean aboslute error, cv = 10\n",
    "# sbfslin7 = featureselection_lin(False, 'neg_mean_absolute_error', 10, x, y) \n",
    "# print(sbfslin7.k_feature_names_)\n",
    "# print(len(sbfslin7.k_feature_names_))\n",
    "# print(sbfslin7.k_score_)"
   ]
  },
  {
   "cell_type": "code",
   "execution_count": 112,
   "id": "f9621fb5-a9e4-4a0c-ad03-23c5df605e57",
   "metadata": {},
   "outputs": [],
   "source": [
    "selected_columns_linr_sbfs = []\n",
    "selected_columns_linr_sbfs = {'nmse_cv5':list(sbfslin0.k_feature_names_), \n",
    "#                               'nmse_cv10':list(sbfslin1.k_feature_names_), \n",
    "                              'r2_cv5':list(sbfslin2.k_feature_names_), \n",
    "#                               'r2_cv10':list(sbfslin3.k_feature_names_), \n",
    "                              'nmedae_cv5':list(sbfslin4.k_feature_names_), \n",
    "#                               'nmedae_cv10':list(sbfslin5.k_feature_names_),\n",
    "                              'nmeae_cv5':list(sbfslin6.k_feature_names_)\n",
    "#                               , 'nmeae_cv10':list(sbfslin7.k_feature_names_)\n",
    "                             }"
   ]
  },
  {
   "cell_type": "code",
   "execution_count": 113,
   "id": "4b089fba-ce5e-4166-be85-699efa8fe33c",
   "metadata": {},
   "outputs": [],
   "source": [
    "df_sf_linr_sbfs = pd.DataFrame(dict([(k,pd.Series(v)) for k,v in selected_columns_linr_sbfs.items()]))"
   ]
  },
  {
   "cell_type": "code",
   "execution_count": null,
   "id": "9db31abf-c984-4164-9e1d-0a0ecadbff47",
   "metadata": {},
   "outputs": [],
   "source": [
    "# df_sf_linr_sbfs.to_csv('/home/yelhe/script/mtp/tables/updated_sbfs_linearreg.csv', index = True)"
   ]
  },
  {
   "cell_type": "code",
   "execution_count": null,
   "id": "7ab16cea-b108-4938-87f8-dee24f6ad52f",
   "metadata": {},
   "outputs": [],
   "source": [
    "sbfs_columns = list(sbfslin7.k_feature_names_)"
   ]
  },
  {
   "cell_type": "code",
   "execution_count": null,
   "id": "68f34554-c9ac-4206-a43f-e2f74808ef5a",
   "metadata": {},
   "outputs": [],
   "source": [
    "# df_output = pd.read_csv('/home/yelhe/script/mtp/tables/updated_sbfs_linearreg.csv')"
   ]
  },
  {
   "cell_type": "code",
   "execution_count": 149,
   "id": "8051796d",
   "metadata": {},
   "outputs": [],
   "source": [
    "lin_sbfs = []"
   ]
  },
  {
   "cell_type": "code",
   "execution_count": 162,
   "id": "fc8da60f",
   "metadata": {},
   "outputs": [
    {
     "data": {
      "text/plain": [
       "['dstation', 'dtrafficarea', 'droad', 'dvfpath', 'r_width_4', 'speedlimit_6']"
      ]
     },
     "execution_count": 162,
     "metadata": {},
     "output_type": "execute_result"
    }
   ],
   "source": [
    "# 0 2 4 6\n",
    "selected_columns = list(sbfslin6.k_feature_names_)\n",
    "selected_columns"
   ]
  },
  {
   "cell_type": "code",
   "execution_count": 163,
   "id": "ce0c5c03-216e-4cec-ab7e-bbc0b8a661e1",
   "metadata": {},
   "outputs": [
    {
     "data": {
      "text/html": [
       "<table class=\"simpletable\">\n",
       "<caption>OLS Regression Results</caption>\n",
       "<tr>\n",
       "  <th>Dep. Variable:</th>           <td>acp</td>       <th>  R-squared:         </th> <td>   0.920</td>\n",
       "</tr>\n",
       "<tr>\n",
       "  <th>Model:</th>                   <td>OLS</td>       <th>  Adj. R-squared:    </th> <td>   0.919</td>\n",
       "</tr>\n",
       "<tr>\n",
       "  <th>Method:</th>             <td>Least Squares</td>  <th>  F-statistic:       </th> <td>   1239.</td>\n",
       "</tr>\n",
       "<tr>\n",
       "  <th>Date:</th>             <td>Mon, 13 Jan 2025</td> <th>  Prob (F-statistic):</th>  <td>  0.00</td> \n",
       "</tr>\n",
       "<tr>\n",
       "  <th>Time:</th>                 <td>18:59:15</td>     <th>  Log-Likelihood:    </th> <td>  439.46</td>\n",
       "</tr>\n",
       "<tr>\n",
       "  <th>No. Observations:</th>      <td>   652</td>      <th>  AIC:               </th> <td>  -864.9</td>\n",
       "</tr>\n",
       "<tr>\n",
       "  <th>Df Residuals:</th>          <td>   645</td>      <th>  BIC:               </th> <td>  -833.6</td>\n",
       "</tr>\n",
       "<tr>\n",
       "  <th>Df Model:</th>              <td>     6</td>      <th>                     </th>     <td> </td>   \n",
       "</tr>\n",
       "<tr>\n",
       "  <th>Covariance Type:</th>      <td>nonrobust</td>    <th>                     </th>     <td> </td>   \n",
       "</tr>\n",
       "</table>\n",
       "<table class=\"simpletable\">\n",
       "<tr>\n",
       "        <td></td>          <th>coef</th>     <th>std err</th>      <th>t</th>      <th>P>|t|</th>  <th>[0.025</th>    <th>0.975]</th>  \n",
       "</tr>\n",
       "<tr>\n",
       "  <th>const</th>        <td>    0.5567</td> <td>    0.007</td> <td>   74.881</td> <td> 0.000</td> <td>    0.542</td> <td>    0.571</td>\n",
       "</tr>\n",
       "<tr>\n",
       "  <th>dstation</th>     <td>   -0.0526</td> <td>    0.018</td> <td>   -2.943</td> <td> 0.003</td> <td>   -0.088</td> <td>   -0.018</td>\n",
       "</tr>\n",
       "<tr>\n",
       "  <th>dtrafficarea</th> <td>    0.0159</td> <td>    0.008</td> <td>    2.058</td> <td> 0.040</td> <td>    0.001</td> <td>    0.031</td>\n",
       "</tr>\n",
       "<tr>\n",
       "  <th>droad</th>        <td>   -0.0096</td> <td>    0.009</td> <td>   -1.097</td> <td> 0.273</td> <td>   -0.027</td> <td>    0.008</td>\n",
       "</tr>\n",
       "<tr>\n",
       "  <th>dvfpath</th>      <td>    0.5436</td> <td>    0.008</td> <td>   67.932</td> <td> 0.000</td> <td>    0.528</td> <td>    0.559</td>\n",
       "</tr>\n",
       "<tr>\n",
       "  <th>r_width_4</th>    <td>    0.0033</td> <td>    0.013</td> <td>    0.259</td> <td> 0.796</td> <td>   -0.022</td> <td>    0.028</td>\n",
       "</tr>\n",
       "<tr>\n",
       "  <th>speedlimit_6</th> <td>    0.0457</td> <td>    0.058</td> <td>    0.792</td> <td> 0.429</td> <td>   -0.068</td> <td>    0.159</td>\n",
       "</tr>\n",
       "</table>\n",
       "<table class=\"simpletable\">\n",
       "<tr>\n",
       "  <th>Omnibus:</th>       <td>607.595</td> <th>  Durbin-Watson:     </th> <td>   1.868</td> \n",
       "</tr>\n",
       "<tr>\n",
       "  <th>Prob(Omnibus):</th> <td> 0.000</td>  <th>  Jarque-Bera (JB):  </th> <td>14460.303</td>\n",
       "</tr>\n",
       "<tr>\n",
       "  <th>Skew:</th>          <td> 4.353</td>  <th>  Prob(JB):          </th> <td>    0.00</td> \n",
       "</tr>\n",
       "<tr>\n",
       "  <th>Kurtosis:</th>      <td>24.366</td>  <th>  Cond. No.          </th> <td>    17.1</td> \n",
       "</tr>\n",
       "</table><br/><br/>Notes:<br/>[1] Standard Errors assume that the covariance matrix of the errors is correctly specified."
      ],
      "text/latex": [
       "\\begin{center}\n",
       "\\begin{tabular}{lclc}\n",
       "\\toprule\n",
       "\\textbf{Dep. Variable:}    &       acp        & \\textbf{  R-squared:         } &     0.920   \\\\\n",
       "\\textbf{Model:}            &       OLS        & \\textbf{  Adj. R-squared:    } &     0.919   \\\\\n",
       "\\textbf{Method:}           &  Least Squares   & \\textbf{  F-statistic:       } &     1239.   \\\\\n",
       "\\textbf{Date:}             & Mon, 13 Jan 2025 & \\textbf{  Prob (F-statistic):} &     0.00    \\\\\n",
       "\\textbf{Time:}             &     18:59:15     & \\textbf{  Log-Likelihood:    } &    439.46   \\\\\n",
       "\\textbf{No. Observations:} &         652      & \\textbf{  AIC:               } &    -864.9   \\\\\n",
       "\\textbf{Df Residuals:}     &         645      & \\textbf{  BIC:               } &    -833.6   \\\\\n",
       "\\textbf{Df Model:}         &           6      & \\textbf{                     } &             \\\\\n",
       "\\textbf{Covariance Type:}  &    nonrobust     & \\textbf{                     } &             \\\\\n",
       "\\bottomrule\n",
       "\\end{tabular}\n",
       "\\begin{tabular}{lcccccc}\n",
       "                       & \\textbf{coef} & \\textbf{std err} & \\textbf{t} & \\textbf{P$> |$t$|$} & \\textbf{[0.025} & \\textbf{0.975]}  \\\\\n",
       "\\midrule\n",
       "\\textbf{const}         &       0.5567  &        0.007     &    74.881  &         0.000        &        0.542    &        0.571     \\\\\n",
       "\\textbf{dstation}      &      -0.0526  &        0.018     &    -2.943  &         0.003        &       -0.088    &       -0.018     \\\\\n",
       "\\textbf{dtrafficarea}  &       0.0159  &        0.008     &     2.058  &         0.040        &        0.001    &        0.031     \\\\\n",
       "\\textbf{droad}         &      -0.0096  &        0.009     &    -1.097  &         0.273        &       -0.027    &        0.008     \\\\\n",
       "\\textbf{dvfpath}       &       0.5436  &        0.008     &    67.932  &         0.000        &        0.528    &        0.559     \\\\\n",
       "\\textbf{r\\_width\\_4}   &       0.0033  &        0.013     &     0.259  &         0.796        &       -0.022    &        0.028     \\\\\n",
       "\\textbf{speedlimit\\_6} &       0.0457  &        0.058     &     0.792  &         0.429        &       -0.068    &        0.159     \\\\\n",
       "\\bottomrule\n",
       "\\end{tabular}\n",
       "\\begin{tabular}{lclc}\n",
       "\\textbf{Omnibus:}       & 607.595 & \\textbf{  Durbin-Watson:     } &     1.868  \\\\\n",
       "\\textbf{Prob(Omnibus):} &   0.000 & \\textbf{  Jarque-Bera (JB):  } & 14460.303  \\\\\n",
       "\\textbf{Skew:}          &   4.353 & \\textbf{  Prob(JB):          } &      0.00  \\\\\n",
       "\\textbf{Kurtosis:}      &  24.366 & \\textbf{  Cond. No.          } &      17.1  \\\\\n",
       "\\bottomrule\n",
       "\\end{tabular}\n",
       "%\\caption{OLS Regression Results}\n",
       "\\end{center}\n",
       "\n",
       "Notes: \\newline\n",
       " [1] Standard Errors assume that the covariance matrix of the errors is correctly specified."
      ],
      "text/plain": [
       "<class 'statsmodels.iolib.summary.Summary'>\n",
       "\"\"\"\n",
       "                            OLS Regression Results                            \n",
       "==============================================================================\n",
       "Dep. Variable:                    acp   R-squared:                       0.920\n",
       "Model:                            OLS   Adj. R-squared:                  0.919\n",
       "Method:                 Least Squares   F-statistic:                     1239.\n",
       "Date:                Mon, 13 Jan 2025   Prob (F-statistic):               0.00\n",
       "Time:                        18:59:15   Log-Likelihood:                 439.46\n",
       "No. Observations:                 652   AIC:                            -864.9\n",
       "Df Residuals:                     645   BIC:                            -833.6\n",
       "Df Model:                           6                                         \n",
       "Covariance Type:            nonrobust                                         \n",
       "================================================================================\n",
       "                   coef    std err          t      P>|t|      [0.025      0.975]\n",
       "--------------------------------------------------------------------------------\n",
       "const            0.5567      0.007     74.881      0.000       0.542       0.571\n",
       "dstation        -0.0526      0.018     -2.943      0.003      -0.088      -0.018\n",
       "dtrafficarea     0.0159      0.008      2.058      0.040       0.001       0.031\n",
       "droad           -0.0096      0.009     -1.097      0.273      -0.027       0.008\n",
       "dvfpath          0.5436      0.008     67.932      0.000       0.528       0.559\n",
       "r_width_4        0.0033      0.013      0.259      0.796      -0.022       0.028\n",
       "speedlimit_6     0.0457      0.058      0.792      0.429      -0.068       0.159\n",
       "==============================================================================\n",
       "Omnibus:                      607.595   Durbin-Watson:                   1.868\n",
       "Prob(Omnibus):                  0.000   Jarque-Bera (JB):            14460.303\n",
       "Skew:                           4.353   Prob(JB):                         0.00\n",
       "Kurtosis:                      24.366   Cond. No.                         17.1\n",
       "==============================================================================\n",
       "\n",
       "Notes:\n",
       "[1] Standard Errors assume that the covariance matrix of the errors is correctly specified.\n",
       "\"\"\""
      ]
     },
     "execution_count": 163,
     "metadata": {},
     "output_type": "execute_result"
    }
   ],
   "source": [
    "# OLS\n",
    "xs = dfacrpv[selected_columns]\n",
    "x_const_s = tools.add_constant(xs)\n",
    "X_train, X_test, y_train, y_test = train_test_split(\n",
    "        x_const_s, y,\n",
    "        test_size=0.4,\n",
    "        random_state=3)\n",
    "\n",
    "m1 = sm.OLS(y_train, X_train)\n",
    "r1 = m1.fit()\n",
    "r1.summary()"
   ]
  },
  {
   "cell_type": "code",
   "execution_count": 164,
   "id": "bb2ba1f6-55cf-4a01-af58-72f17038bb0b",
   "metadata": {
    "scrolled": true
   },
   "outputs": [
    {
     "data": {
      "text/plain": [
       "[0.9191685317933895, 0.92505771116867, 0.921343619834913, 0.9194352568477968]"
      ]
     },
     "execution_count": 164,
     "metadata": {},
     "output_type": "execute_result"
    }
   ],
   "source": [
    "lin_sbfs.append(r1.rsquared_adj)\n",
    "lin_sbfs"
   ]
  },
  {
   "cell_type": "code",
   "execution_count": 165,
   "id": "8d0f50c5",
   "metadata": {},
   "outputs": [
    {
     "name": "stdout",
     "output_type": "stream",
     "text": [
      "        feature              0  sig\n",
      "0         const  2.411040e-320  ***\n",
      "1      dstation   3.364243e-03   **\n",
      "2  dtrafficarea   4.000373e-02    *\n",
      "3       dvfpath  3.953558e-296  *** 4\n"
     ]
    },
    {
     "data": {
      "text/html": [
       "<div>\n",
       "<style scoped>\n",
       "    .dataframe tbody tr th:only-of-type {\n",
       "        vertical-align: middle;\n",
       "    }\n",
       "\n",
       "    .dataframe tbody tr th {\n",
       "        vertical-align: top;\n",
       "    }\n",
       "\n",
       "    .dataframe thead th {\n",
       "        text-align: right;\n",
       "    }\n",
       "</style>\n",
       "<table border=\"1\" class=\"dataframe\">\n",
       "  <thead>\n",
       "    <tr style=\"text-align: right;\">\n",
       "      <th></th>\n",
       "      <th>feature</th>\n",
       "      <th>0</th>\n",
       "      <th>sig</th>\n",
       "    </tr>\n",
       "  </thead>\n",
       "  <tbody>\n",
       "    <tr>\n",
       "      <th>0</th>\n",
       "      <td>const</td>\n",
       "      <td>2.411040e-320</td>\n",
       "      <td>***</td>\n",
       "    </tr>\n",
       "    <tr>\n",
       "      <th>1</th>\n",
       "      <td>dstation</td>\n",
       "      <td>3.364243e-03</td>\n",
       "      <td>**</td>\n",
       "    </tr>\n",
       "    <tr>\n",
       "      <th>2</th>\n",
       "      <td>dtrafficarea</td>\n",
       "      <td>4.000373e-02</td>\n",
       "      <td>*</td>\n",
       "    </tr>\n",
       "    <tr>\n",
       "      <th>3</th>\n",
       "      <td>dvfpath</td>\n",
       "      <td>3.953558e-296</td>\n",
       "      <td>***</td>\n",
       "    </tr>\n",
       "  </tbody>\n",
       "</table>\n",
       "</div>"
      ],
      "text/plain": [
       "        feature              0  sig\n",
       "0         const  2.411040e-320  ***\n",
       "1      dstation   3.364243e-03   **\n",
       "2  dtrafficarea   4.000373e-02    *\n",
       "3       dvfpath  3.953558e-296  ***"
      ]
     },
     "execution_count": 165,
     "metadata": {},
     "output_type": "execute_result"
    }
   ],
   "source": [
    "printsig(r1)"
   ]
  },
  {
   "cell_type": "markdown",
   "id": "8119ef0e-78b5-4b8e-83f5-7256197ead1a",
   "metadata": {},
   "source": [
    "## Logistic Regression model"
   ]
  },
  {
   "cell_type": "markdown",
   "id": "4181e345-e803-42e2-acf6-a83a0bb6fdb3",
   "metadata": {},
   "source": [
    "### Sequential forward floating selection"
   ]
  },
  {
   "cell_type": "code",
   "execution_count": 166,
   "id": "8e1d9bac-c622-4f7b-959d-8c911c0d7144",
   "metadata": {
    "execution": {
     "iopub.execute_input": "2024-11-22T17:07:33.482798Z",
     "iopub.status.busy": "2024-11-22T17:07:33.482356Z",
     "iopub.status.idle": "2024-11-22T17:08:36.222875Z",
     "shell.execute_reply": "2024-11-22T17:08:36.222022Z",
     "shell.execute_reply.started": "2024-11-22T17:07:33.482776Z"
    }
   },
   "outputs": [
    {
     "name": "stdout",
     "output_type": "stream",
     "text": [
      "('cp', 'cmin', 'ie', 'mew', 'meg', 'megmax', 'dbusl', 'dtraml', 'dtrainl', 'dplight', 'dstation', 'dparkcar', 'dparktw', 'dpedcro', 'dstopsign', 'dvfpath', 'speedlimit', 'bicyclecount', 'z_qnr_1', 'z_qnr_7', 'z_qnr_9', 'z_qnr_10', 'z_qnr_11', 'z_qnr_13', 'z_qnr_14', 'z_qnr_16', 'z_qnr_17', 'z_qnr_18', 'z_qnr_20', 'z_qnr_21', 'z_qnr_22', 'z_qnr_23', 'z_qnr_24', 'z_qnr_25', 'z_qnr_26', 'z_qnr_27', 'z_qnr_28', 'z_qnr_29', 'z_qnr_30', 'z_qnr_31', 'z_qnr_32', 'z_knr_2', 'z_knr_3', 'z_knr_7', 'trafficarea_2', 'r_width_1', 'r_width_2', 'r_width_4', 'r_width_6', 'speedlimit_2', 'speedlimit_6')\n",
      "51\n",
      "0.9908087768993363\n"
     ]
    }
   ],
   "source": [
    "# # n = best, logistic regression, scoring = accuracy, cv = 5\n",
    "sffslog0 = featureselection_log(True, 'accuracy', 5, x, y)\n",
    "print(sffslog0.k_feature_names_)\n",
    "print(len(sffslog0.k_feature_names_))\n",
    "print(sffslog0.k_score_)"
   ]
  },
  {
   "cell_type": "code",
   "execution_count": null,
   "id": "6d0bd756-a9e2-4f53-ae68-ff60abfde9b7",
   "metadata": {},
   "outputs": [],
   "source": [
    "# # n = best, logistic regression, scoring = accuracy, cv = 10\n",
    "# sffslog1 = featureselection_log(True, 'accuracy', 10, x, y)\n",
    "# print(sffslog1.k_feature_names_)\n",
    "# print(len(sffslog1.k_feature_names_))\n",
    "# print(sffslog1.k_score_)\n"
   ]
  },
  {
   "cell_type": "code",
   "execution_count": 167,
   "id": "41f0ebb4-455f-4303-a55a-7077445892d9",
   "metadata": {},
   "outputs": [
    {
     "name": "stdout",
     "output_type": "stream",
     "text": [
      "('cp', 'cmin', 'ie', 'mew', 'meg', 'megmax', 'dbusl', 'dtraml', 'dtrainl', 'dplight', 'dstation', 'dparkcar', 'dparktw', 'dpedcro', 'dstopsign', 'dtrafficarea', 'dvfpath', 'gvm_dwv', 'speedlimit', 'bicyclecount', 'z_qnr_1', 'z_qnr_7', 'z_qnr_9', 'z_qnr_10', 'z_qnr_11', 'z_qnr_13', 'z_qnr_14', 'z_qnr_16', 'z_qnr_17', 'z_qnr_18', 'z_qnr_19', 'z_qnr_20', 'z_qnr_21', 'z_qnr_22', 'z_qnr_23', 'z_qnr_24', 'z_qnr_25', 'z_qnr_26', 'z_qnr_27', 'z_qnr_28', 'z_qnr_29', 'z_qnr_30', 'z_qnr_31', 'z_qnr_32', 'z_knr_2', 'z_knr_3', 'z_knr_7', 'r_width_1', 'r_width_2', 'r_width_4', 'r_width_6', 'speedlimit_2', 'speedlimit_3', 'speedlimit_6')\n",
      "54\n",
      "0.9826376285541439\n"
     ]
    }
   ],
   "source": [
    "# # n = best, logistic regression, scoring = f1, cv = 5\n",
    "sffslog2 = featureselection_log(True, 'f1', 5, x, y)\n",
    "print(sffslog2.k_feature_names_)\n",
    "print(len(sffslog2.k_feature_names_))\n",
    "print(sffslog2.k_score_)"
   ]
  },
  {
   "cell_type": "code",
   "execution_count": null,
   "id": "5e1b14ae-d40e-484c-a3b5-3049f2f081d4",
   "metadata": {},
   "outputs": [],
   "source": [
    "# # # n = best, logistic regression, scoring = f1, cv = 10\n",
    "# sffslog3 = featureselection_log(True, 'f1', 10, x, y)\n",
    "# print(sffslog3.k_feature_names_)\n",
    "# print(len(sffslog3.k_feature_names_))\n",
    "# print(sffslog3.k_score_)\n"
   ]
  },
  {
   "cell_type": "code",
   "execution_count": 169,
   "id": "3aad7d05-3ff4-4720-840d-6f966e961e63",
   "metadata": {
    "scrolled": true
   },
   "outputs": [
    {
     "name": "stdout",
     "output_type": "stream",
     "text": [
      "('dvfpath',)\n",
      "1\n",
      "1.0\n"
     ]
    }
   ],
   "source": [
    "# n = best, logistic regression, scoring = precision, cv = 5\n",
    "sffslog4 = featureselection_log(True, 'precision', 5, x, y)\n",
    "print(sffslog4.k_feature_names_)\n",
    "print(len(sffslog4.k_feature_names_))\n",
    "print(sffslog4.k_score_)\n"
   ]
  },
  {
   "cell_type": "code",
   "execution_count": null,
   "id": "01c15fb9-50c9-457e-a3a8-1e4cadaca9db",
   "metadata": {
    "scrolled": true
   },
   "outputs": [],
   "source": [
    "# # # # n = best, logistic regression, scoring = precision, cv = 10\n",
    "# sffslog5 = featureselection_log(True, 'precision', 10, x, y)\n",
    "# print(sffslog5.k_feature_names_)\n",
    "# print(len(sffslog5.k_feature_names_))\n",
    "# print(sffslog5.k_score_)"
   ]
  },
  {
   "cell_type": "code",
   "execution_count": 170,
   "id": "586a6413-c9aa-4feb-8333-a236d7cebd37",
   "metadata": {},
   "outputs": [
    {
     "name": "stdout",
     "output_type": "stream",
     "text": [
      "('cp', 'cmin', 'ie', 'mew', 'meg', 'megmax', 'dbusl', 'dtraml', 'dtrainl', 'dplight', 'dstation', 'dparkcar', 'dparktw', 'dpedcro', 'dstopsign', 'dtrafficarea', 'dvfpath', 'gvm_dwv', 'speedlimit', 'bicyclecount', 'z_qnr_1', 'z_qnr_7', 'z_qnr_9', 'z_qnr_10', 'z_qnr_11', 'z_qnr_13', 'z_qnr_14', 'z_qnr_16', 'z_qnr_17', 'z_qnr_19', 'z_qnr_20', 'z_qnr_21', 'z_qnr_22', 'z_qnr_23', 'z_qnr_24', 'z_qnr_25', 'z_qnr_26', 'z_qnr_27', 'z_qnr_28', 'z_qnr_29', 'z_qnr_30', 'z_qnr_31', 'z_qnr_32', 'z_knr_2', 'z_knr_3', 'z_knr_7', 'z_knr_10', 'r_width_1', 'r_width_4', 'r_width_6', 'speedlimit_2', 'speedlimit_6')\n",
      "52\n",
      "0.9661016949152543\n"
     ]
    }
   ],
   "source": [
    "# # n = best, logistic regression, scoring = recall, cv = 5\n",
    "sffslog6 = featureselection_log(True, 'recall', 5, x, y)\n",
    "print(sffslog6.k_feature_names_)\n",
    "print(len(sffslog6.k_feature_names_))\n",
    "print(sffslog6.k_score_)\n"
   ]
  },
  {
   "cell_type": "code",
   "execution_count": null,
   "id": "acd2ce79-4e9f-4524-b4b3-162f8da5261f",
   "metadata": {},
   "outputs": [],
   "source": [
    "# # # n = best, logistic regression, scoring = recall, cv = 10\n",
    "# sffslog7 = featureselection_log(True, 'recall', 10, x, y)\n",
    "# print(sffslog7.k_feature_names_)\n",
    "# print(len(sffslog7.k_feature_names_))\n",
    "# print(sffslog7.k_score_)\n"
   ]
  },
  {
   "cell_type": "code",
   "execution_count": 171,
   "id": "4cdf2c61-28e1-459f-a00c-988f25b2ecf4",
   "metadata": {},
   "outputs": [],
   "source": [
    "# For part \n",
    "selected_columns_logr_sffs = []\n",
    "selected_columns_logr_sffs = {\n",
    "                              'acc_cv5':list(sffslog0.k_feature_names_), \n",
    "#                               'acc_cv10':list(sffslog1.k_feature_names_), \n",
    "                              'f1_cv5':list(sffslog2.k_feature_names_), \n",
    "#                               'f1_cv10':list(sffslog3.k_feature_names_), \n",
    "                              'pre_cv5':list(sffslog4.k_feature_names_), \n",
    "#                               'pre_cv10':list(sffslog5.k_feature_names_),\n",
    "                              'rec_cv5':list(sffslog6.k_feature_names_)\n",
    "#     ,                           'rec_cv10':list(sffslog7.k_feature_names_)\n",
    "                              }\n",
    "df_sf_logr_sffs = pd.DataFrame(dict([(k,pd.Series(v)) for k,v in selected_columns_logr_sffs.items()]))\n",
    "# df_sf_logr_sffs.to_csv('/home/yelhe/script/mtp/tables/vif_sffs_logisticreg.csv', index = True)"
   ]
  },
  {
   "cell_type": "markdown",
   "id": "528cb07a-dffb-450f-8ede-5e4dc1748ad1",
   "metadata": {
    "execution": {
     "iopub.execute_input": "2024-09-03T15:30:17.841200Z",
     "iopub.status.busy": "2024-09-03T15:30:17.840178Z",
     "iopub.status.idle": "2024-09-03T15:30:17.846475Z",
     "shell.execute_reply": "2024-09-03T15:30:17.845897Z",
     "shell.execute_reply.started": "2024-09-03T15:30:17.841170Z"
    }
   },
   "source": [
    "### Sequential backward floating selection"
   ]
  },
  {
   "cell_type": "code",
   "execution_count": 172,
   "id": "80a82579",
   "metadata": {},
   "outputs": [
    {
     "name": "stdout",
     "output_type": "stream",
     "text": [
      "('cp', 'cmin', 'ie', 'mew', 'meg', 'megmax', 'dbusl', 'dtraml', 'dtrainl', 'dplight', 'dstation', 'dparkcar', 'dparktw', 'dpedcro', 'dstopsign', 'dtrafficarea', 'dvfpath', 'gvm_dwv', 'r_width', 'speedlimit', 'bicyclecount', 'z_qnr_1', 'z_qnr_7', 'z_qnr_9', 'z_qnr_10', 'z_qnr_11', 'z_qnr_12', 'z_qnr_13', 'z_qnr_14', 'z_qnr_16', 'z_qnr_17', 'z_qnr_19', 'z_qnr_20', 'z_qnr_21', 'z_qnr_22', 'z_qnr_23', 'z_qnr_24', 'z_qnr_25', 'z_qnr_26', 'z_qnr_27', 'z_qnr_28', 'z_qnr_29', 'z_qnr_30', 'z_qnr_31', 'z_qnr_32', 'z_knr_2', 'z_knr_3', 'z_knr_5', 'z_knr_7', 'z_knr_10', 'trafficarea_2', 'r_width_1')\n",
      "52\n",
      "0.9917262080919969\n"
     ]
    }
   ],
   "source": [
    "# n = best, logistic regression, scoring = accuracy, cv = 5\n",
    "sbfslog0 = featureselection_log(False, 'accuracy', 5, x, y)\n",
    "print(sbfslog0.k_feature_names_)\n",
    "print(len(sbfslog0.k_feature_names_))\n",
    "print(sbfslog0.k_score_)\n"
   ]
  },
  {
   "cell_type": "code",
   "execution_count": null,
   "id": "ba383abf",
   "metadata": {},
   "outputs": [],
   "source": [
    "# # n = best, logistic regression, scoring = accuracy, cv = 10\n",
    "# sbfslog1 = featureselection_log(False, 'accuracy', 10, x, y)\n",
    "# print(sbfslog1.k_feature_names_)\n",
    "# print(len(sbfslog1.k_feature_names_))\n",
    "# print(sbfslog1.k_score_)\n"
   ]
  },
  {
   "cell_type": "code",
   "execution_count": 173,
   "id": "4bdc1df9",
   "metadata": {},
   "outputs": [
    {
     "name": "stdout",
     "output_type": "stream",
     "text": [
      "('cp', 'cmin', 'ie', 'mew', 'meg', 'megmax', 'dbusl', 'dtraml', 'dtrainl', 'dplight', 'dstation', 'dparkcar', 'dparktw', 'dpedcro', 'dstopsign', 'dtrafficarea', 'dvfpath', 'gvm_dwv', 'r_width', 'speedlimit', 'bicyclecount', 'z_qnr_1', 'z_qnr_7', 'z_qnr_9', 'z_qnr_10', 'z_qnr_11', 'z_qnr_12', 'z_qnr_13', 'z_qnr_14', 'z_qnr_16', 'z_qnr_17', 'z_qnr_19', 'z_qnr_20', 'z_qnr_21', 'z_qnr_22', 'z_qnr_23', 'z_qnr_24', 'z_qnr_25', 'z_qnr_26', 'z_qnr_27', 'z_qnr_28', 'z_qnr_29', 'z_qnr_30', 'z_qnr_31', 'z_qnr_32', 'z_knr_2', 'z_knr_3', 'z_knr_5', 'z_knr_7', 'z_knr_10', 'trafficarea_2', 'r_width_1')\n",
      "52\n",
      "0.9844377811094454\n"
     ]
    }
   ],
   "source": [
    "# n = best, logistic regression, scoring = f1, cv = 5\n",
    "sbfslog2 = featureselection_log(False, 'f1', 5, x, y)\n",
    "print(sbfslog2.k_feature_names_)\n",
    "print(len(sbfslog2.k_feature_names_))\n",
    "print(sbfslog2.k_score_)"
   ]
  },
  {
   "cell_type": "code",
   "execution_count": null,
   "id": "b90f1edf",
   "metadata": {},
   "outputs": [],
   "source": [
    "# # n = best, logistic regression, scoring = f1, cv = 10\n",
    "# sbfslog3 = featureselection_log(False, 'f1', 10, x, y)\n",
    "# print(sbfslog3.k_feature_names_)\n",
    "# print(len(sbfslog3.k_feature_names_))\n",
    "# print(sbfslog3.k_score_)"
   ]
  },
  {
   "cell_type": "code",
   "execution_count": 174,
   "id": "605c2bc0",
   "metadata": {
    "scrolled": true
   },
   "outputs": [
    {
     "name": "stdout",
     "output_type": "stream",
     "text": [
      "('cp', 'cmin', 'ie', 'mew', 'meg', 'megmax', 'dbusl', 'dtraml', 'dtrainl', 'dplight', 'dstation', 'dparkcar', 'dparktw', 'dpedcro', 'dstopsign', 'dtrafficarea', 'droad', 'dvfpath', 'gvm_dwv', 'r_width', 'speedlimit', 'bicyclecount', 'carcount', 'z_qnr_1', 'z_qnr_7', 'z_qnr_9', 'z_qnr_10', 'z_qnr_11', 'z_qnr_12', 'z_qnr_13', 'z_qnr_14', 'z_qnr_16', 'z_qnr_17', 'z_qnr_18', 'z_qnr_19', 'z_qnr_20', 'z_qnr_21', 'z_qnr_22', 'z_qnr_23', 'z_qnr_24', 'z_qnr_25', 'z_qnr_26', 'z_qnr_27', 'z_qnr_28', 'z_qnr_29', 'z_qnr_30', 'z_qnr_31', 'z_qnr_32', 'z_knr_2', 'z_knr_3', 'z_knr_5', 'z_knr_7', 'z_knr_10', 'trafficarea_1', 'trafficarea_2', 'r_width_1', 'r_width_2', 'r_width_4', 'r_width_6', 'speedlimit_2', 'speedlimit_3', 'speedlimit_5', 'speedlimit_6')\n",
      "63\n",
      "1.0\n"
     ]
    }
   ],
   "source": [
    "# n = best, logistic regression, scoring = precision, cv = 5\n",
    "sbfslog4 = featureselection_log(False, 'precision', 5, x, y)\n",
    "print(sbfslog4.k_feature_names_)\n",
    "print(len(sbfslog4.k_feature_names_))\n",
    "print(sbfslog4.k_score_)\n"
   ]
  },
  {
   "cell_type": "code",
   "execution_count": null,
   "id": "6fcfaec8",
   "metadata": {
    "scrolled": true
   },
   "outputs": [],
   "source": [
    "# # n = best, logistic regression, scoring = precision, cv = 10\n",
    "# sbfslog5 = featureselection_log(False, 'precision', 10, x, y)\n",
    "# print(sbfslog5.k_feature_names_)\n",
    "# print(len(sbfslog5.k_feature_names_))\n",
    "# print(sbfslog5.k_score_)\n"
   ]
  },
  {
   "cell_type": "code",
   "execution_count": 175,
   "id": "a2b0adc4",
   "metadata": {},
   "outputs": [
    {
     "name": "stdout",
     "output_type": "stream",
     "text": [
      "('cp', 'cmin', 'ie', 'mew', 'meg', 'megmax', 'dbusl', 'dtraml', 'dtrainl', 'dplight', 'dstation', 'dparkcar', 'dparktw', 'dpedcro', 'dstopsign', 'dtrafficarea', 'dvfpath', 'gvm_dwv', 'r_width', 'speedlimit', 'bicyclecount', 'z_qnr_1', 'z_qnr_7', 'z_qnr_9', 'z_qnr_10', 'z_qnr_11', 'z_qnr_12', 'z_qnr_13', 'z_qnr_14', 'z_qnr_16', 'z_qnr_17', 'z_qnr_19', 'z_qnr_20', 'z_qnr_21', 'z_qnr_22', 'z_qnr_23', 'z_qnr_24', 'z_qnr_25', 'z_qnr_26', 'z_qnr_27', 'z_qnr_28', 'z_qnr_29', 'z_qnr_30', 'z_qnr_31', 'z_qnr_32', 'z_knr_2', 'z_knr_3', 'z_knr_5', 'z_knr_7', 'z_knr_10', 'trafficarea_2', 'r_width_1')\n",
      "52\n",
      "0.9694915254237289\n"
     ]
    }
   ],
   "source": [
    "# n = best, logistic regression, scoring = recall, cv = 5\n",
    "sbfslog6 = featureselection_log(False, 'recall', 5, x, y)\n",
    "print(sbfslog6.k_feature_names_)\n",
    "print(len(sbfslog6.k_feature_names_))\n",
    "print(sbfslog6.k_score_)"
   ]
  },
  {
   "cell_type": "code",
   "execution_count": null,
   "id": "a4efef70",
   "metadata": {},
   "outputs": [],
   "source": [
    "# # n = best, logistic regression, scoring = recall, cv = 10\n",
    "# sbfslog7 = featureselection_log(False, 'recall', 10, x, y)\n",
    "# print(sbfslog7.k_feature_names_)\n",
    "# print(len(sbfslog7.k_feature_names_))\n",
    "# print(sbfslog7.k_score_)"
   ]
  },
  {
   "cell_type": "code",
   "execution_count": 176,
   "id": "0cccb8f2",
   "metadata": {},
   "outputs": [],
   "source": [
    "# For all \n",
    "selected_columns_logr_sbfs = []\n",
    "selected_columns_logr_sbfs = {\n",
    "                              'acc_cv5':list(sbfslog0.k_feature_names_), \n",
    "#                               'acc_cv10':list(sbfslog1.k_feature_names_),\n",
    "                              'f1_cv5':list(sbfslog2.k_feature_names_), \n",
    "#                               'f1_cv10':list(sbfslog3.k_feature_names_),\n",
    "                              'pre_cv5':list(sbfslog4.k_feature_names_), \n",
    "#                               'pre_cv10':list(sbfslog5.k_feature_names_),\n",
    "                              'rec_cv5':list(sbfslog6.k_feature_names_) \n",
    "#                               ,'rec_cv10':list(sbfslog7.k_feature_names_)\n",
    "                              }\n",
    "df_sf_logr_sbfs = pd.DataFrame(dict([(k,pd.Series(v)) for k,v in selected_columns_logr_sbfs.items()]))\n",
    "# df_sf_logr_sbfs.to_csv('/home/yelhe/script/mtp/tables/vif_sbfs_logisticreg.csv', index = True)"
   ]
  },
  {
   "cell_type": "code",
   "execution_count": null,
   "id": "a70e79d7-49f6-464d-9c7f-094b1748ee63",
   "metadata": {},
   "outputs": [],
   "source": [
    "# df_output = pd.read_csv('/home/yelhe/script/mtp/tables/vif_sbfs_logisticreg.csv')"
   ]
  },
  {
   "cell_type": "code",
   "execution_count": 278,
   "id": "69af2959-d65a-45e1-9548-ea202aec26af",
   "metadata": {},
   "outputs": [],
   "source": [
    "log_sffs = []\n",
    "log_sbfs = []"
   ]
  },
  {
   "cell_type": "code",
   "execution_count": 286,
   "id": "7fde0f34",
   "metadata": {},
   "outputs": [
    {
     "name": "stdout",
     "output_type": "stream",
     "text": [
      "52\n"
     ]
    }
   ],
   "source": [
    "# 0 2 4 6\n",
    "selected_columns = list(sffslog6.k_feature_names_)\n",
    "print(len(selected_columns))"
   ]
  },
  {
   "cell_type": "code",
   "execution_count": 307,
   "id": "7bae5fd3-3307-458a-b51a-3f765f29b026",
   "metadata": {},
   "outputs": [],
   "source": [
    "# # logit with splitting\n",
    "# xs = dfacrpv[selected_columns]\n",
    "# x_const_s = tools.add_constant(xs)\n",
    "# X_train, X_test, y_train, y_test = train_test_split(\n",
    "#         x_const_s, y,\n",
    "#         test_size=0.2,\n",
    "#         random_state=10)\n",
    "\n",
    "# m2 = sm.Logit(y_train, X_train, max_iter = 500)\n",
    "# r2 = m2.fit_regularized(method='bfgs')\n",
    "# r2.summary()"
   ]
  },
  {
   "cell_type": "code",
   "execution_count": 308,
   "id": "2a62a120-f3ed-4c7f-9bc9-03b269ae284b",
   "metadata": {},
   "outputs": [],
   "source": [
    "# print(r2.prsquared)\n",
    "# printsig(r2)"
   ]
  },
  {
   "cell_type": "code",
   "execution_count": 279,
   "id": "7041cafa-c145-481a-8a65-a0178429d601",
   "metadata": {},
   "outputs": [
    {
     "data": {
      "text/plain": [
       "[0.9921522649540905]"
      ]
     },
     "execution_count": 279,
     "metadata": {},
     "output_type": "execute_result"
    }
   ],
   "source": [
    "log_sffs.append(r2.prsquared)\n",
    "log_sffs"
   ]
  },
  {
   "cell_type": "code",
   "execution_count": 303,
   "id": "527f8255",
   "metadata": {},
   "outputs": [],
   "source": [
    "# 0 2 4 6\n",
    "selected_columns = list(sbfslog6.k_feature_names_)"
   ]
  },
  {
   "cell_type": "code",
   "execution_count": 309,
   "id": "d5ca2ac8-c06f-4377-8eb3-36d48d9b6cb1",
   "metadata": {},
   "outputs": [],
   "source": [
    "# # logit with splitting\n",
    "# xs = dfacrpv[selected_columns]\n",
    "# x_const_s = tools.add_constant(xs)\n",
    "# X_train, X_test, y_train, y_test = train_test_split(\n",
    "#         x_const_s, y,\n",
    "#         test_size=0.2,\n",
    "#         random_state=13)\n",
    "\n",
    "# m3 = sm.Logit(y_train, X_train, max_iter = 500)\n",
    "# r3 = m3.fit(method='bfgs')\n",
    "# r3.summary()"
   ]
  },
  {
   "cell_type": "code",
   "execution_count": 312,
   "id": "a2e18969",
   "metadata": {},
   "outputs": [],
   "source": [
    "# print(r3.prsquared)\n",
    "# printsig(r3)"
   ]
  },
  {
   "cell_type": "code",
   "execution_count": 306,
   "id": "b7c33e78",
   "metadata": {},
   "outputs": [],
   "source": [
    "log_sbfs.append(r3.prsquared)"
   ]
  },
  {
   "cell_type": "markdown",
   "id": "9073ac1e",
   "metadata": {},
   "source": [
    "# Random Forest Classification"
   ]
  },
  {
   "cell_type": "code",
   "execution_count": null,
   "id": "5f03757d",
   "metadata": {},
   "outputs": [],
   "source": [
    "# This section is application of random forest classification \n",
    "# for presence of accidents"
   ]
  },
  {
   "cell_type": "code",
   "execution_count": 351,
   "id": "90345891",
   "metadata": {},
   "outputs": [
    {
     "name": "stdout",
     "output_type": "stream",
     "text": [
      "91\n"
     ]
    }
   ],
   "source": [
    "print(len(cn))"
   ]
  },
  {
   "cell_type": "code",
   "execution_count": 352,
   "id": "ec7e6bf7",
   "metadata": {},
   "outputs": [
    {
     "name": "stdout",
     "output_type": "stream",
     "text": [
      "Train data accuracy: 1.0\n",
      "Test data accuracy: 0.9418960244648318\n",
      "accuracy 0.9418960244648318\n",
      "precision [0.94047619 0.94666667]\n",
      "sensitivity recall [0.98340249 0.8255814 ]\n",
      "f1 score [0.96146045 0.88198758]\n",
      "mcc score 0.8471624844736686\n",
      "kappa 0.8436863159483734\n"
     ]
    },
    {
     "data": {
      "image/png": "[encoded data removed]",
      "text/plain": [
       "<Figure size 432x288 with 2 Axes>"
      ]
     },
     "metadata": {
      "needs_background": "light"
     },
     "output_type": "display_data"
    }
   ],
   "source": [
    "# RF classification using independent variables without filtering (to be compared with)\n",
    "y0 = dfacrpv['acp']\n",
    "x0 = dfacrpv[cn]\n",
    "\n",
    "X_train, X_test, y_train, y_test = train_test_split(x0, y0,\n",
    "                                                    test_size = 0.3, \n",
    "                                                    random_state = 7)\n",
    "rfc = RandomForestClassifier(n_estimators = 30, max_depth=20, \n",
    "                              random_state = 6) \n",
    "rfc.fit(X_train, y_train)\n",
    "y_pred_rfc = rfc.predict(X_test)\n",
    "print(\"Train data accuracy:\",accuracy_score(y_true = y_train, y_pred = rfc.predict(X_train)))\n",
    "print(\"Test data accuracy:\",accuracy_score(y_true = y_test, y_pred = y_pred_rfc))\n",
    "confusion_matrix_rfc = metrics.confusion_matrix(y_test, y_pred_rfc)\n",
    "cm_display_rfc = metrics.ConfusionMatrixDisplay(confusion_matrix = confusion_matrix_rfc)\n",
    "cm_display_rfc.plot(cmap = 'PuBu')\n",
    "plt.box(False)\n",
    "acc_rfc = metrics.accuracy_score(y_test, y_pred_rfc)\n",
    "print('accuracy', acc_rfc)\n",
    "pre_rfc = metrics.precision_score(y_test, y_pred_rfc, average = None)\n",
    "print('precision', pre_rfc)\n",
    "senrec_rfc = metrics.recall_score(y_test, y_pred_rfc, average = None)\n",
    "print('sensitivity recall', senrec_rfc)\n",
    "f1_rfc = metrics.f1_score(y_test, y_pred_rfc, average = None)\n",
    "print('f1 score', f1_rfc)\n",
    "mcc_rfc = metrics.matthews_corrcoef(y_test, y_pred_rfc)\n",
    "print('mcc score', mcc_rfc)\n",
    "ka_rfc= metrics.cohen_kappa_score(y_test, y_pred_rfc)\n",
    "print('kappa', ka_rfc)"
   ]
  },
  {
   "cell_type": "code",
   "execution_count": 326,
   "id": "ee17e7a4",
   "metadata": {},
   "outputs": [
    {
     "name": "stderr",
     "output_type": "stream",
     "text": [
      "E:\\Anaconda\\Anaconda_file\\lib\\site-packages\\sklearn\\base.py:486: UserWarning: X has feature names, but DecisionTreeClassifier was fitted without feature names\n",
      "  warnings.warn(\n",
      "E:\\Anaconda\\Anaconda_file\\lib\\site-packages\\sklearn\\base.py:486: UserWarning: X has feature names, but DecisionTreeClassifier was fitted without feature names\n",
      "  warnings.warn(\n",
      "E:\\Anaconda\\Anaconda_file\\lib\\site-packages\\sklearn\\base.py:486: UserWarning: X has feature names, but DecisionTreeClassifier was fitted without feature names\n",
      "  warnings.warn(\n",
      "E:\\Anaconda\\Anaconda_file\\lib\\site-packages\\sklearn\\base.py:486: UserWarning: X has feature names, but DecisionTreeClassifier was fitted without feature names\n",
      "  warnings.warn(\n",
      "E:\\Anaconda\\Anaconda_file\\lib\\site-packages\\sklearn\\base.py:486: UserWarning: X has feature names, but DecisionTreeClassifier was fitted without feature names\n",
      "  warnings.warn(\n",
      "E:\\Anaconda\\Anaconda_file\\lib\\site-packages\\sklearn\\base.py:486: UserWarning: X has feature names, but DecisionTreeClassifier was fitted without feature names\n",
      "  warnings.warn(\n",
      "E:\\Anaconda\\Anaconda_file\\lib\\site-packages\\sklearn\\base.py:486: UserWarning: X has feature names, but DecisionTreeClassifier was fitted without feature names\n",
      "  warnings.warn(\n",
      "E:\\Anaconda\\Anaconda_file\\lib\\site-packages\\sklearn\\base.py:486: UserWarning: X has feature names, but DecisionTreeClassifier was fitted without feature names\n",
      "  warnings.warn(\n",
      "E:\\Anaconda\\Anaconda_file\\lib\\site-packages\\sklearn\\base.py:486: UserWarning: X has feature names, but DecisionTreeClassifier was fitted without feature names\n",
      "  warnings.warn(\n",
      "E:\\Anaconda\\Anaconda_file\\lib\\site-packages\\sklearn\\base.py:486: UserWarning: X has feature names, but DecisionTreeClassifier was fitted without feature names\n",
      "  warnings.warn(\n",
      "E:\\Anaconda\\Anaconda_file\\lib\\site-packages\\sklearn\\base.py:486: UserWarning: X has feature names, but DecisionTreeClassifier was fitted without feature names\n",
      "  warnings.warn(\n",
      "E:\\Anaconda\\Anaconda_file\\lib\\site-packages\\sklearn\\base.py:486: UserWarning: X has feature names, but DecisionTreeClassifier was fitted without feature names\n",
      "  warnings.warn(\n",
      "E:\\Anaconda\\Anaconda_file\\lib\\site-packages\\sklearn\\base.py:486: UserWarning: X has feature names, but DecisionTreeClassifier was fitted without feature names\n",
      "  warnings.warn(\n",
      "E:\\Anaconda\\Anaconda_file\\lib\\site-packages\\sklearn\\base.py:486: UserWarning: X has feature names, but DecisionTreeClassifier was fitted without feature names\n",
      "  warnings.warn(\n",
      "E:\\Anaconda\\Anaconda_file\\lib\\site-packages\\sklearn\\base.py:486: UserWarning: X has feature names, but DecisionTreeClassifier was fitted without feature names\n",
      "  warnings.warn(\n",
      "E:\\Anaconda\\Anaconda_file\\lib\\site-packages\\sklearn\\base.py:486: UserWarning: X has feature names, but DecisionTreeClassifier was fitted without feature names\n",
      "  warnings.warn(\n",
      "E:\\Anaconda\\Anaconda_file\\lib\\site-packages\\sklearn\\base.py:486: UserWarning: X has feature names, but DecisionTreeClassifier was fitted without feature names\n",
      "  warnings.warn(\n",
      "E:\\Anaconda\\Anaconda_file\\lib\\site-packages\\sklearn\\base.py:486: UserWarning: X has feature names, but DecisionTreeClassifier was fitted without feature names\n",
      "  warnings.warn(\n",
      "E:\\Anaconda\\Anaconda_file\\lib\\site-packages\\sklearn\\base.py:486: UserWarning: X has feature names, but DecisionTreeClassifier was fitted without feature names\n",
      "  warnings.warn(\n",
      "E:\\Anaconda\\Anaconda_file\\lib\\site-packages\\sklearn\\base.py:486: UserWarning: X has feature names, but DecisionTreeClassifier was fitted without feature names\n",
      "  warnings.warn(\n",
      "E:\\Anaconda\\Anaconda_file\\lib\\site-packages\\sklearn\\base.py:486: UserWarning: X has feature names, but DecisionTreeClassifier was fitted without feature names\n",
      "  warnings.warn(\n",
      "E:\\Anaconda\\Anaconda_file\\lib\\site-packages\\sklearn\\base.py:486: UserWarning: X has feature names, but DecisionTreeClassifier was fitted without feature names\n",
      "  warnings.warn(\n",
      "E:\\Anaconda\\Anaconda_file\\lib\\site-packages\\sklearn\\base.py:486: UserWarning: X has feature names, but DecisionTreeClassifier was fitted without feature names\n",
      "  warnings.warn(\n",
      "E:\\Anaconda\\Anaconda_file\\lib\\site-packages\\sklearn\\base.py:486: UserWarning: X has feature names, but DecisionTreeClassifier was fitted without feature names\n",
      "  warnings.warn(\n",
      "E:\\Anaconda\\Anaconda_file\\lib\\site-packages\\sklearn\\base.py:486: UserWarning: X has feature names, but DecisionTreeClassifier was fitted without feature names\n",
      "  warnings.warn(\n",
      "E:\\Anaconda\\Anaconda_file\\lib\\site-packages\\sklearn\\base.py:486: UserWarning: X has feature names, but DecisionTreeClassifier was fitted without feature names\n",
      "  warnings.warn(\n",
      "E:\\Anaconda\\Anaconda_file\\lib\\site-packages\\sklearn\\base.py:486: UserWarning: X has feature names, but DecisionTreeClassifier was fitted without feature names\n",
      "  warnings.warn(\n",
      "E:\\Anaconda\\Anaconda_file\\lib\\site-packages\\sklearn\\base.py:486: UserWarning: X has feature names, but DecisionTreeClassifier was fitted without feature names\n",
      "  warnings.warn(\n",
      "E:\\Anaconda\\Anaconda_file\\lib\\site-packages\\sklearn\\base.py:486: UserWarning: X has feature names, but DecisionTreeClassifier was fitted without feature names\n",
      "  warnings.warn(\n",
      "E:\\Anaconda\\Anaconda_file\\lib\\site-packages\\sklearn\\base.py:486: UserWarning: X has feature names, but DecisionTreeClassifier was fitted without feature names\n",
      "  warnings.warn(\n",
      "E:\\Anaconda\\Anaconda_file\\lib\\site-packages\\sklearn\\base.py:486: UserWarning: X has feature names, but DecisionTreeClassifier was fitted without feature names\n",
      "  warnings.warn(\n",
      "E:\\Anaconda\\Anaconda_file\\lib\\site-packages\\sklearn\\base.py:486: UserWarning: X has feature names, but DecisionTreeClassifier was fitted without feature names\n",
      "  warnings.warn(\n",
      "E:\\Anaconda\\Anaconda_file\\lib\\site-packages\\sklearn\\base.py:486: UserWarning: X has feature names, but DecisionTreeClassifier was fitted without feature names\n",
      "  warnings.warn(\n",
      "E:\\Anaconda\\Anaconda_file\\lib\\site-packages\\sklearn\\base.py:486: UserWarning: X has feature names, but DecisionTreeClassifier was fitted without feature names\n",
      "  warnings.warn(\n",
      "E:\\Anaconda\\Anaconda_file\\lib\\site-packages\\sklearn\\base.py:486: UserWarning: X has feature names, but DecisionTreeClassifier was fitted without feature names\n",
      "  warnings.warn(\n",
      "E:\\Anaconda\\Anaconda_file\\lib\\site-packages\\sklearn\\base.py:486: UserWarning: X has feature names, but DecisionTreeClassifier was fitted without feature names\n",
      "  warnings.warn(\n",
      "E:\\Anaconda\\Anaconda_file\\lib\\site-packages\\sklearn\\base.py:486: UserWarning: X has feature names, but DecisionTreeClassifier was fitted without feature names\n",
      "  warnings.warn(\n",
      "E:\\Anaconda\\Anaconda_file\\lib\\site-packages\\sklearn\\base.py:486: UserWarning: X has feature names, but DecisionTreeClassifier was fitted without feature names\n",
      "  warnings.warn(\n",
      "E:\\Anaconda\\Anaconda_file\\lib\\site-packages\\sklearn\\base.py:486: UserWarning: X has feature names, but DecisionTreeClassifier was fitted without feature names\n",
      "  warnings.warn(\n",
      "E:\\Anaconda\\Anaconda_file\\lib\\site-packages\\sklearn\\base.py:486: UserWarning: X has feature names, but DecisionTreeClassifier was fitted without feature names\n",
      "  warnings.warn(\n",
      "E:\\Anaconda\\Anaconda_file\\lib\\site-packages\\sklearn\\base.py:486: UserWarning: X has feature names, but DecisionTreeClassifier was fitted without feature names\n",
      "  warnings.warn(\n",
      "E:\\Anaconda\\Anaconda_file\\lib\\site-packages\\sklearn\\base.py:486: UserWarning: X has feature names, but DecisionTreeClassifier was fitted without feature names\n",
      "  warnings.warn(\n",
      "E:\\Anaconda\\Anaconda_file\\lib\\site-packages\\sklearn\\base.py:486: UserWarning: X has feature names, but DecisionTreeClassifier was fitted without feature names\n",
      "  warnings.warn(\n",
      "E:\\Anaconda\\Anaconda_file\\lib\\site-packages\\sklearn\\base.py:486: UserWarning: X has feature names, but DecisionTreeClassifier was fitted without feature names\n",
      "  warnings.warn(\n",
      "E:\\Anaconda\\Anaconda_file\\lib\\site-packages\\sklearn\\base.py:486: UserWarning: X has feature names, but DecisionTreeClassifier was fitted without feature names\n",
      "  warnings.warn(\n",
      "E:\\Anaconda\\Anaconda_file\\lib\\site-packages\\sklearn\\base.py:486: UserWarning: X has feature names, but DecisionTreeClassifier was fitted without feature names\n",
      "  warnings.warn(\n",
      "E:\\Anaconda\\Anaconda_file\\lib\\site-packages\\sklearn\\base.py:486: UserWarning: X has feature names, but DecisionTreeClassifier was fitted without feature names\n",
      "  warnings.warn(\n",
      "E:\\Anaconda\\Anaconda_file\\lib\\site-packages\\sklearn\\base.py:486: UserWarning: X has feature names, but DecisionTreeClassifier was fitted without feature names\n",
      "  warnings.warn(\n",
      "E:\\Anaconda\\Anaconda_file\\lib\\site-packages\\sklearn\\base.py:486: UserWarning: X has feature names, but DecisionTreeClassifier was fitted without feature names\n",
      "  warnings.warn(\n",
      "E:\\Anaconda\\Anaconda_file\\lib\\site-packages\\sklearn\\base.py:486: UserWarning: X has feature names, but DecisionTreeClassifier was fitted without feature names\n",
      "  warnings.warn(\n"
     ]
    },
    {
     "data": {
      "text/plain": [
       "Text(0, 0.5, 'accuracy')"
      ]
     },
     "execution_count": 326,
     "metadata": {},
     "output_type": "execute_result"
    },
    {
     "data": {
      "image/png": "[encoded data removed]",
      "text/plain": [
       "<Figure size 720x432 with 1 Axes>"
      ]
     },
     "metadata": {
      "needs_background": "light"
     },
     "output_type": "display_data"
    }
   ],
   "source": [
    "# Finding the best number of estimator\n",
    "rf = RandomForestClassifier(n_estimators=50, max_depth= 20, n_jobs=-1)\n",
    "rf.fit(X_train, y_train)\n",
    "predictions = []\n",
    "for tree in rf.estimators_:\n",
    "    predictions.append(tree.predict_proba(X_test)[None, :])\n",
    "predictions = np.vstack(predictions)\n",
    "cum_mean = np.cumsum(predictions, axis=0)/np.arange(1, predictions.shape[0] + 1)[:, None, None]\n",
    "scores = []\n",
    "for pred in cum_mean:\n",
    "    scores.append(accuracy_score(y_test, np.argmax(pred, axis=1)))\n",
    "plt.figure(figsize=(10, 6))\n",
    "plt.plot(scores, linewidth=3)\n",
    "plt.xlabel('num_trees')\n",
    "plt.ylabel('accuracy')\n"
   ]
  },
  {
   "cell_type": "code",
   "execution_count": 353,
   "id": "1a22f963",
   "metadata": {},
   "outputs": [
    {
     "data": {
      "image/png": "[encoded data removed]",
      "text/plain": [
       "<Figure size 864x576 with 1 Axes>"
      ]
     },
     "metadata": {
      "needs_background": "light"
     },
     "output_type": "display_data"
    }
   ],
   "source": [
    "feature_name = list(x0.columns.values.tolist())\n",
    "importances = rfc.feature_importances_\n",
    "df_rfc = pd.DataFrame({'features':feature_name, 'importances':importances})\n",
    "df_rfc.sort_values(by = ['importances'], ascending = False, inplace = True)\n",
    "# df_rfct = df_rfc\n",
    "df_rfct = df_rfc.nlargest(30, 'importances')\n",
    "plt.figure(figsize = [12,8])\n",
    "sn.barplot(x = df_rfct['importances'], y = df_rfct['features'],palette = \"PuBu_r\")\n",
    "plt.xlabel('importance')\n",
    "plt.ylabel('feature')\n",
    "plt.box(False)\n",
    "plt.savefig('svp_rf_importance_0.png')"
   ]
  },
  {
   "cell_type": "code",
   "execution_count": 354,
   "id": "b89a5a40",
   "metadata": {},
   "outputs": [
    {
     "name": "stdout",
     "output_type": "stream",
     "text": [
      "['droad', 'bicyclecount', 'droad_sl', 'mew', 'mewmin', 'dparktw', 'dtraml', 'carcount', 'mewmax', 'dstation', 'dplight', 'dbusl', 'dpedcro', 'dtrainl', 'iemin', 'dtrafficarea', 'gvm_dwv', 'iemax', 'dstopsign', 'dparkcar', 'ie', 'r_width', 'megmax', 'gvm_msp', 'meg', 'cmean', 'gvm_asp', 'csum', 'z_knr_1', 'megmin', 'z_knr_5', 'trafficarea_2', 'cmax', 'speedlimit', 'speedlimit_3', 'r_width_5', 'cp', 'z_knr_6', 'z_qnr_13', 'z_qnr_9', 'z_qnr_16', 'trafficarea_1', 'z_knr_10', 'z_qnr_6', 'speedlimit_4', 'z_qnr_28', 'speedlimit_1', 'z_qnr_2', 'z_knr_7', 'z_knr_3', 'z_qnr_29', 'z_qnr_4', 'z_qnr_11', 'z_knr_8', 'r_width_4', 'z_qnr_15', 'z_qnr_5', 'z_qnr_20', 'r_width_1', 'z_knr_4', 'z_knr_11', 'z_qnr_7', 'z_qnr_12', 'z_qnr_30', 'r_width_3', 'speedlimit_6', 'r_width_2', 'z_knr_9', 'z_qnr_19', 'z_qnr_18', 'z_qnr_8', 'z_qnr_26', 'z_qnr_3', 'z_qnr_17', 'z_qnr_32', 'z_qnr_24', 'z_qnr_21', 'z_qnr_25', 'z_qnr_23', 'z_knr_2', 'r_width_6', 'z_qnr_1', 'speedlimit_2', 'z_qnr_10', 'z_qnr_22', 'z_qnr_27', 'z_qnr_31', 'z_qnr_14', 'cmin', 'speedlimit_5', 'z_qnr_33']\n"
     ]
    }
   ],
   "source": [
    "print(df_rfc['features'].tolist())"
   ]
  },
  {
   "cell_type": "code",
   "execution_count": 355,
   "id": "ba0347af",
   "metadata": {},
   "outputs": [],
   "source": [
    "# With cnvif"
   ]
  },
  {
   "cell_type": "code",
   "execution_count": 356,
   "id": "534a3ef9",
   "metadata": {},
   "outputs": [
    {
     "name": "stdout",
     "output_type": "stream",
     "text": [
      "60\n"
     ]
    }
   ],
   "source": [
    "y = dfacrpv['acp']\n",
    "x = dfacrpv[cnvif] \n",
    "print(len(cnvif))"
   ]
  },
  {
   "cell_type": "code",
   "execution_count": 357,
   "id": "117775d8",
   "metadata": {},
   "outputs": [
    {
     "name": "stdout",
     "output_type": "stream",
     "text": [
      "Train data accuracy: 1.0\n",
      "Test data accuracy: 0.9418960244648318\n",
      "accuracy 0.9418960244648318\n",
      "precision [0.93359375 0.97183099]\n",
      "sensitivity recall [0.99170124 0.80232558]\n",
      "f1 score [0.96177062 0.87898089]\n",
      "mcc score 0.8478983013485538\n",
      "kappa 0.8412093950468986\n"
     ]
    },
    {
     "data": {
      "image/png": "[encoded data removed]",
      "text/plain": [
       "<Figure size 432x288 with 2 Axes>"
      ]
     },
     "metadata": {
      "needs_background": "light"
     },
     "output_type": "display_data"
    }
   ],
   "source": [
    "\n",
    "X_train, X_test, y_train, y_test = train_test_split(x, y,\n",
    "                                                    test_size = 0.3, \n",
    "                                                    random_state = 7)\n",
    "rfc = RandomForestClassifier(n_estimators=30, max_depth=20, \n",
    "                              random_state = 7) # 6 because of following codes to find the best number of trees\n",
    "rfc.fit(X_train, y_train)\n",
    "y_pred_rfc = rfc.predict(X_test)\n",
    "print(\"Train data accuracy:\",accuracy_score(y_true = y_train, y_pred = rfc.predict(X_train)))\n",
    "print(\"Test data accuracy:\",accuracy_score(y_true = y_test, y_pred = y_pred_rfc))\n",
    "confusion_matrix_rfc = metrics.confusion_matrix(y_test, y_pred_rfc)\n",
    "cm_display_rfc = metrics.ConfusionMatrixDisplay(confusion_matrix = confusion_matrix_rfc)\n",
    "cm_display_rfc.plot(cmap = 'PuBu')\n",
    "plt.box(False)\n",
    "acc_rfc = metrics.accuracy_score(y_test, y_pred_rfc)\n",
    "print('accuracy', acc_rfc)\n",
    "pre_rfc = metrics.precision_score(y_test, y_pred_rfc, average = None)\n",
    "print('precision', pre_rfc)\n",
    "senrec_rfc = metrics.recall_score(y_test, y_pred_rfc, average = None)\n",
    "print('sensitivity recall', senrec_rfc)\n",
    "f1_rfc = metrics.f1_score(y_test, y_pred_rfc, average = None)\n",
    "print('f1 score', f1_rfc)\n",
    "mcc_rfc = metrics.matthews_corrcoef(y_test, y_pred_rfc)\n",
    "print('mcc score', mcc_rfc)\n",
    "ka_rfc= metrics.cohen_kappa_score(y_test, y_pred_rfc)\n",
    "print('kappa', ka_rfc)"
   ]
  },
  {
   "cell_type": "code",
   "execution_count": 342,
   "id": "9f9d79dd",
   "metadata": {},
   "outputs": [
    {
     "name": "stderr",
     "output_type": "stream",
     "text": [
      "E:\\Anaconda\\Anaconda_file\\lib\\site-packages\\sklearn\\base.py:486: UserWarning: X has feature names, but DecisionTreeClassifier was fitted without feature names\n",
      "  warnings.warn(\n",
      "E:\\Anaconda\\Anaconda_file\\lib\\site-packages\\sklearn\\base.py:486: UserWarning: X has feature names, but DecisionTreeClassifier was fitted without feature names\n",
      "  warnings.warn(\n",
      "E:\\Anaconda\\Anaconda_file\\lib\\site-packages\\sklearn\\base.py:486: UserWarning: X has feature names, but DecisionTreeClassifier was fitted without feature names\n",
      "  warnings.warn(\n",
      "E:\\Anaconda\\Anaconda_file\\lib\\site-packages\\sklearn\\base.py:486: UserWarning: X has feature names, but DecisionTreeClassifier was fitted without feature names\n",
      "  warnings.warn(\n",
      "E:\\Anaconda\\Anaconda_file\\lib\\site-packages\\sklearn\\base.py:486: UserWarning: X has feature names, but DecisionTreeClassifier was fitted without feature names\n",
      "  warnings.warn(\n",
      "E:\\Anaconda\\Anaconda_file\\lib\\site-packages\\sklearn\\base.py:486: UserWarning: X has feature names, but DecisionTreeClassifier was fitted without feature names\n",
      "  warnings.warn(\n",
      "E:\\Anaconda\\Anaconda_file\\lib\\site-packages\\sklearn\\base.py:486: UserWarning: X has feature names, but DecisionTreeClassifier was fitted without feature names\n",
      "  warnings.warn(\n",
      "E:\\Anaconda\\Anaconda_file\\lib\\site-packages\\sklearn\\base.py:486: UserWarning: X has feature names, but DecisionTreeClassifier was fitted without feature names\n",
      "  warnings.warn(\n",
      "E:\\Anaconda\\Anaconda_file\\lib\\site-packages\\sklearn\\base.py:486: UserWarning: X has feature names, but DecisionTreeClassifier was fitted without feature names\n",
      "  warnings.warn(\n",
      "E:\\Anaconda\\Anaconda_file\\lib\\site-packages\\sklearn\\base.py:486: UserWarning: X has feature names, but DecisionTreeClassifier was fitted without feature names\n",
      "  warnings.warn(\n",
      "E:\\Anaconda\\Anaconda_file\\lib\\site-packages\\sklearn\\base.py:486: UserWarning: X has feature names, but DecisionTreeClassifier was fitted without feature names\n",
      "  warnings.warn(\n",
      "E:\\Anaconda\\Anaconda_file\\lib\\site-packages\\sklearn\\base.py:486: UserWarning: X has feature names, but DecisionTreeClassifier was fitted without feature names\n",
      "  warnings.warn(\n",
      "E:\\Anaconda\\Anaconda_file\\lib\\site-packages\\sklearn\\base.py:486: UserWarning: X has feature names, but DecisionTreeClassifier was fitted without feature names\n",
      "  warnings.warn(\n",
      "E:\\Anaconda\\Anaconda_file\\lib\\site-packages\\sklearn\\base.py:486: UserWarning: X has feature names, but DecisionTreeClassifier was fitted without feature names\n",
      "  warnings.warn(\n",
      "E:\\Anaconda\\Anaconda_file\\lib\\site-packages\\sklearn\\base.py:486: UserWarning: X has feature names, but DecisionTreeClassifier was fitted without feature names\n",
      "  warnings.warn(\n",
      "E:\\Anaconda\\Anaconda_file\\lib\\site-packages\\sklearn\\base.py:486: UserWarning: X has feature names, but DecisionTreeClassifier was fitted without feature names\n",
      "  warnings.warn(\n",
      "E:\\Anaconda\\Anaconda_file\\lib\\site-packages\\sklearn\\base.py:486: UserWarning: X has feature names, but DecisionTreeClassifier was fitted without feature names\n",
      "  warnings.warn(\n",
      "E:\\Anaconda\\Anaconda_file\\lib\\site-packages\\sklearn\\base.py:486: UserWarning: X has feature names, but DecisionTreeClassifier was fitted without feature names\n",
      "  warnings.warn(\n",
      "E:\\Anaconda\\Anaconda_file\\lib\\site-packages\\sklearn\\base.py:486: UserWarning: X has feature names, but DecisionTreeClassifier was fitted without feature names\n",
      "  warnings.warn(\n",
      "E:\\Anaconda\\Anaconda_file\\lib\\site-packages\\sklearn\\base.py:486: UserWarning: X has feature names, but DecisionTreeClassifier was fitted without feature names\n",
      "  warnings.warn(\n",
      "E:\\Anaconda\\Anaconda_file\\lib\\site-packages\\sklearn\\base.py:486: UserWarning: X has feature names, but DecisionTreeClassifier was fitted without feature names\n",
      "  warnings.warn(\n",
      "E:\\Anaconda\\Anaconda_file\\lib\\site-packages\\sklearn\\base.py:486: UserWarning: X has feature names, but DecisionTreeClassifier was fitted without feature names\n",
      "  warnings.warn(\n",
      "E:\\Anaconda\\Anaconda_file\\lib\\site-packages\\sklearn\\base.py:486: UserWarning: X has feature names, but DecisionTreeClassifier was fitted without feature names\n",
      "  warnings.warn(\n",
      "E:\\Anaconda\\Anaconda_file\\lib\\site-packages\\sklearn\\base.py:486: UserWarning: X has feature names, but DecisionTreeClassifier was fitted without feature names\n",
      "  warnings.warn(\n",
      "E:\\Anaconda\\Anaconda_file\\lib\\site-packages\\sklearn\\base.py:486: UserWarning: X has feature names, but DecisionTreeClassifier was fitted without feature names\n",
      "  warnings.warn(\n",
      "E:\\Anaconda\\Anaconda_file\\lib\\site-packages\\sklearn\\base.py:486: UserWarning: X has feature names, but DecisionTreeClassifier was fitted without feature names\n",
      "  warnings.warn(\n",
      "E:\\Anaconda\\Anaconda_file\\lib\\site-packages\\sklearn\\base.py:486: UserWarning: X has feature names, but DecisionTreeClassifier was fitted without feature names\n",
      "  warnings.warn(\n",
      "E:\\Anaconda\\Anaconda_file\\lib\\site-packages\\sklearn\\base.py:486: UserWarning: X has feature names, but DecisionTreeClassifier was fitted without feature names\n",
      "  warnings.warn(\n",
      "E:\\Anaconda\\Anaconda_file\\lib\\site-packages\\sklearn\\base.py:486: UserWarning: X has feature names, but DecisionTreeClassifier was fitted without feature names\n",
      "  warnings.warn(\n",
      "E:\\Anaconda\\Anaconda_file\\lib\\site-packages\\sklearn\\base.py:486: UserWarning: X has feature names, but DecisionTreeClassifier was fitted without feature names\n",
      "  warnings.warn(\n"
     ]
    },
    {
     "data": {
      "text/plain": [
       "Text(0, 0.5, 'accuracy')"
      ]
     },
     "execution_count": 342,
     "metadata": {},
     "output_type": "execute_result"
    },
    {
     "data": {
      "image/png": "[encoded data removed]",
      "text/plain": [
       "<Figure size 720x432 with 1 Axes>"
      ]
     },
     "metadata": {
      "needs_background": "light"
     },
     "output_type": "display_data"
    }
   ],
   "source": [
    "# Finding the best number of estimator\n",
    "rf = RandomForestClassifier(n_estimators=30, max_depth=20, n_jobs=-1)\n",
    "rf.fit(X_train, y_train)\n",
    "predictions = []\n",
    "for tree in rf.estimators_:\n",
    "    predictions.append(tree.predict_proba(X_test)[None, :])\n",
    "predictions = np.vstack(predictions)\n",
    "cum_mean = np.cumsum(predictions, axis=0)/np.arange(1, predictions.shape[0] + 1)[:, None, None]\n",
    "scores = []\n",
    "for pred in cum_mean:\n",
    "    scores.append(accuracy_score(y_test, np.argmax(pred, axis=1)))\n",
    "plt.figure(figsize=(10, 6))\n",
    "plt.plot(scores, linewidth=3)\n",
    "plt.xlabel('num_trees')\n",
    "plt.ylabel('accuracy')\n",
    "# best n_estimator 25"
   ]
  },
  {
   "cell_type": "code",
   "execution_count": 358,
   "id": "fd7c8fef",
   "metadata": {},
   "outputs": [
    {
     "data": {
      "image/png": "[encoded data removed]",
      "text/plain": [
       "<Figure size 864x576 with 1 Axes>"
      ]
     },
     "metadata": {
      "needs_background": "light"
     },
     "output_type": "display_data"
    }
   ],
   "source": [
    "feature_name = list(x.columns.values.tolist())\n",
    "importances = rfc.feature_importances_\n",
    "df_rfc = pd.DataFrame({'features':feature_name, 'importances':importances})\n",
    "df_rfc.sort_values(by = ['importances'], ascending = False, inplace = True)\n",
    "df_rfct = df_rfc.nlargest(30, 'importances')\n",
    "plt.figure(figsize = [12,8])\n",
    "sn.barplot(x = df_rfct['importances'], y = df_rfct['features'],palette = \"PuBu_r\")\n",
    "plt.xlabel('importance')\n",
    "plt.ylabel('feature')\n",
    "plt.box(False)\n",
    "plt.savefig('svp_rf_importance_1.png')"
   ]
  },
  {
   "cell_type": "code",
   "execution_count": 359,
   "id": "8f2c31f2",
   "metadata": {},
   "outputs": [
    {
     "name": "stdout",
     "output_type": "stream",
     "text": [
      "['bicyclecount', 'droad', 'mew', 'dparktw', 'dbusl', 'dtrafficarea', 'dtraml', 'ie', 'carcount', 'dstation', 'dpedcro', 'dplight', 'dtrainl', 'dstopsign', 'gvm_dwv', 'meg', 'dparkcar', 'megmax', 'cp', 'speedlimit', 'z_qnr_9', 'trafficarea_2', 'trafficarea_1', 'z_qnr_6', 'speedlimit_3', 'z_qnr_13', 'r_width_4', 'z_knr_11', 'z_knr_10', 'z_qnr_2', 'r_width_1', 'z_qnr_11', 'r_width_5', 'z_knr_3', 'z_qnr_12', 'z_knr_2', 'z_qnr_3', 'r_width_3', 'z_qnr_22', 'z_knr_7', 'z_qnr_4', 'z_qnr_26', 'z_qnr_28', 'z_qnr_25', 'r_width_6', 'z_qnr_1', 'z_qnr_24', 'z_knr_9', 'speedlimit_6', 'z_qnr_17', 'z_qnr_21', 'z_qnr_31', 'z_qnr_32', 'z_qnr_23', 'z_qnr_14', 'cmin', 'z_qnr_33', 'speedlimit_2', 'speedlimit_5', 'z_qnr_7']\n"
     ]
    }
   ],
   "source": [
    "print(df_rfc['features'].tolist())"
   ]
  },
  {
   "cell_type": "code",
   "execution_count": 360,
   "id": "0f092a3f",
   "metadata": {},
   "outputs": [],
   "source": [
    "# Another set with both 'cp', 'cmean'\n",
    "# (cnvif + 'cp', 'cmean')"
   ]
  },
  {
   "cell_type": "code",
   "execution_count": 365,
   "id": "981e4fb6",
   "metadata": {},
   "outputs": [
    {
     "name": "stdout",
     "output_type": "stream",
     "text": [
      "61\n"
     ]
    }
   ],
   "source": [
    "y = dfacrpv['acp']\n",
    "x = dfacrpv[cnvifnew] \n",
    "\n",
    "print(len(cnvifnew))\n",
    "\n",
    "X_train, X_test, y_train, y_test = train_test_split(x, y,\n",
    "                                                    test_size = 0.3, \n",
    "                                                    random_state = 7)"
   ]
  },
  {
   "cell_type": "code",
   "execution_count": 368,
   "id": "9e7e4db3",
   "metadata": {},
   "outputs": [
    {
     "name": "stdout",
     "output_type": "stream",
     "text": [
      "Train data accuracy: 1.0\n",
      "Test data accuracy: 0.9480122324159022\n",
      "accuracy 0.9480122324159022\n",
      "precision [0.948      0.94805195]\n",
      "sensitivity recall [0.98340249 0.84883721]\n",
      "f1 score [0.96537678 0.89570552]\n",
      "mcc score 0.863556601197276\n",
      "kappa 0.8612227575704621\n"
     ]
    },
    {
     "data": {
      "image/png": "[encoded data removed]",
      "text/plain": [
       "<Figure size 432x288 with 2 Axes>"
      ]
     },
     "metadata": {
      "needs_background": "light"
     },
     "output_type": "display_data"
    }
   ],
   "source": [
    "rfc = RandomForestClassifier(n_estimators=20, max_depth=20, \n",
    "                              random_state = 7) \n",
    "rfc.fit(X_train, y_train)\n",
    "y_pred_rfc = rfc.predict(X_test)\n",
    "print(\"Train data accuracy:\",accuracy_score(y_true = y_train, y_pred = rfc.predict(X_train)))\n",
    "print(\"Test data accuracy:\",accuracy_score(y_true = y_test, y_pred = y_pred_rfc))\n",
    "confusion_matrix_rfc = metrics.confusion_matrix(y_test, y_pred_rfc)\n",
    "cm_display_rfc = metrics.ConfusionMatrixDisplay(confusion_matrix = confusion_matrix_rfc)\n",
    "cm_display_rfc.plot(cmap = 'PuBu')\n",
    "plt.box(False)\n",
    "acc_rfc = metrics.accuracy_score(y_test, y_pred_rfc)\n",
    "print('accuracy', acc_rfc)\n",
    "pre_rfc = metrics.precision_score(y_test, y_pred_rfc, average = None)\n",
    "print('precision', pre_rfc)\n",
    "senrec_rfc = metrics.recall_score(y_test, y_pred_rfc, average = None)\n",
    "print('sensitivity recall', senrec_rfc)\n",
    "f1_rfc = metrics.f1_score(y_test, y_pred_rfc, average = None)\n",
    "print('f1 score', f1_rfc)\n",
    "mcc_rfc = metrics.matthews_corrcoef(y_test, y_pred_rfc)\n",
    "print('mcc score', mcc_rfc)\n",
    "ka_rfc= metrics.cohen_kappa_score(y_test, y_pred_rfc)\n",
    "print('kappa', ka_rfc)"
   ]
  },
  {
   "cell_type": "code",
   "execution_count": 367,
   "id": "bb2b4e0f",
   "metadata": {},
   "outputs": [
    {
     "name": "stderr",
     "output_type": "stream",
     "text": [
      "E:\\Anaconda\\Anaconda_file\\lib\\site-packages\\sklearn\\base.py:486: UserWarning: X has feature names, but DecisionTreeClassifier was fitted without feature names\n",
      "  warnings.warn(\n",
      "E:\\Anaconda\\Anaconda_file\\lib\\site-packages\\sklearn\\base.py:486: UserWarning: X has feature names, but DecisionTreeClassifier was fitted without feature names\n",
      "  warnings.warn(\n",
      "E:\\Anaconda\\Anaconda_file\\lib\\site-packages\\sklearn\\base.py:486: UserWarning: X has feature names, but DecisionTreeClassifier was fitted without feature names\n",
      "  warnings.warn(\n",
      "E:\\Anaconda\\Anaconda_file\\lib\\site-packages\\sklearn\\base.py:486: UserWarning: X has feature names, but DecisionTreeClassifier was fitted without feature names\n",
      "  warnings.warn(\n",
      "E:\\Anaconda\\Anaconda_file\\lib\\site-packages\\sklearn\\base.py:486: UserWarning: X has feature names, but DecisionTreeClassifier was fitted without feature names\n",
      "  warnings.warn(\n",
      "E:\\Anaconda\\Anaconda_file\\lib\\site-packages\\sklearn\\base.py:486: UserWarning: X has feature names, but DecisionTreeClassifier was fitted without feature names\n",
      "  warnings.warn(\n",
      "E:\\Anaconda\\Anaconda_file\\lib\\site-packages\\sklearn\\base.py:486: UserWarning: X has feature names, but DecisionTreeClassifier was fitted without feature names\n",
      "  warnings.warn(\n",
      "E:\\Anaconda\\Anaconda_file\\lib\\site-packages\\sklearn\\base.py:486: UserWarning: X has feature names, but DecisionTreeClassifier was fitted without feature names\n",
      "  warnings.warn(\n",
      "E:\\Anaconda\\Anaconda_file\\lib\\site-packages\\sklearn\\base.py:486: UserWarning: X has feature names, but DecisionTreeClassifier was fitted without feature names\n",
      "  warnings.warn(\n",
      "E:\\Anaconda\\Anaconda_file\\lib\\site-packages\\sklearn\\base.py:486: UserWarning: X has feature names, but DecisionTreeClassifier was fitted without feature names\n",
      "  warnings.warn(\n",
      "E:\\Anaconda\\Anaconda_file\\lib\\site-packages\\sklearn\\base.py:486: UserWarning: X has feature names, but DecisionTreeClassifier was fitted without feature names\n",
      "  warnings.warn(\n",
      "E:\\Anaconda\\Anaconda_file\\lib\\site-packages\\sklearn\\base.py:486: UserWarning: X has feature names, but DecisionTreeClassifier was fitted without feature names\n",
      "  warnings.warn(\n",
      "E:\\Anaconda\\Anaconda_file\\lib\\site-packages\\sklearn\\base.py:486: UserWarning: X has feature names, but DecisionTreeClassifier was fitted without feature names\n",
      "  warnings.warn(\n",
      "E:\\Anaconda\\Anaconda_file\\lib\\site-packages\\sklearn\\base.py:486: UserWarning: X has feature names, but DecisionTreeClassifier was fitted without feature names\n",
      "  warnings.warn(\n",
      "E:\\Anaconda\\Anaconda_file\\lib\\site-packages\\sklearn\\base.py:486: UserWarning: X has feature names, but DecisionTreeClassifier was fitted without feature names\n",
      "  warnings.warn(\n",
      "E:\\Anaconda\\Anaconda_file\\lib\\site-packages\\sklearn\\base.py:486: UserWarning: X has feature names, but DecisionTreeClassifier was fitted without feature names\n",
      "  warnings.warn(\n",
      "E:\\Anaconda\\Anaconda_file\\lib\\site-packages\\sklearn\\base.py:486: UserWarning: X has feature names, but DecisionTreeClassifier was fitted without feature names\n",
      "  warnings.warn(\n",
      "E:\\Anaconda\\Anaconda_file\\lib\\site-packages\\sklearn\\base.py:486: UserWarning: X has feature names, but DecisionTreeClassifier was fitted without feature names\n",
      "  warnings.warn(\n",
      "E:\\Anaconda\\Anaconda_file\\lib\\site-packages\\sklearn\\base.py:486: UserWarning: X has feature names, but DecisionTreeClassifier was fitted without feature names\n",
      "  warnings.warn(\n",
      "E:\\Anaconda\\Anaconda_file\\lib\\site-packages\\sklearn\\base.py:486: UserWarning: X has feature names, but DecisionTreeClassifier was fitted without feature names\n",
      "  warnings.warn(\n",
      "E:\\Anaconda\\Anaconda_file\\lib\\site-packages\\sklearn\\base.py:486: UserWarning: X has feature names, but DecisionTreeClassifier was fitted without feature names\n",
      "  warnings.warn(\n",
      "E:\\Anaconda\\Anaconda_file\\lib\\site-packages\\sklearn\\base.py:486: UserWarning: X has feature names, but DecisionTreeClassifier was fitted without feature names\n",
      "  warnings.warn(\n",
      "E:\\Anaconda\\Anaconda_file\\lib\\site-packages\\sklearn\\base.py:486: UserWarning: X has feature names, but DecisionTreeClassifier was fitted without feature names\n",
      "  warnings.warn(\n",
      "E:\\Anaconda\\Anaconda_file\\lib\\site-packages\\sklearn\\base.py:486: UserWarning: X has feature names, but DecisionTreeClassifier was fitted without feature names\n",
      "  warnings.warn(\n",
      "E:\\Anaconda\\Anaconda_file\\lib\\site-packages\\sklearn\\base.py:486: UserWarning: X has feature names, but DecisionTreeClassifier was fitted without feature names\n",
      "  warnings.warn(\n",
      "E:\\Anaconda\\Anaconda_file\\lib\\site-packages\\sklearn\\base.py:486: UserWarning: X has feature names, but DecisionTreeClassifier was fitted without feature names\n",
      "  warnings.warn(\n",
      "E:\\Anaconda\\Anaconda_file\\lib\\site-packages\\sklearn\\base.py:486: UserWarning: X has feature names, but DecisionTreeClassifier was fitted without feature names\n",
      "  warnings.warn(\n",
      "E:\\Anaconda\\Anaconda_file\\lib\\site-packages\\sklearn\\base.py:486: UserWarning: X has feature names, but DecisionTreeClassifier was fitted without feature names\n",
      "  warnings.warn(\n",
      "E:\\Anaconda\\Anaconda_file\\lib\\site-packages\\sklearn\\base.py:486: UserWarning: X has feature names, but DecisionTreeClassifier was fitted without feature names\n",
      "  warnings.warn(\n",
      "E:\\Anaconda\\Anaconda_file\\lib\\site-packages\\sklearn\\base.py:486: UserWarning: X has feature names, but DecisionTreeClassifier was fitted without feature names\n",
      "  warnings.warn(\n",
      "E:\\Anaconda\\Anaconda_file\\lib\\site-packages\\sklearn\\base.py:486: UserWarning: X has feature names, but DecisionTreeClassifier was fitted without feature names\n",
      "  warnings.warn(\n",
      "E:\\Anaconda\\Anaconda_file\\lib\\site-packages\\sklearn\\base.py:486: UserWarning: X has feature names, but DecisionTreeClassifier was fitted without feature names\n",
      "  warnings.warn(\n",
      "E:\\Anaconda\\Anaconda_file\\lib\\site-packages\\sklearn\\base.py:486: UserWarning: X has feature names, but DecisionTreeClassifier was fitted without feature names\n",
      "  warnings.warn(\n",
      "E:\\Anaconda\\Anaconda_file\\lib\\site-packages\\sklearn\\base.py:486: UserWarning: X has feature names, but DecisionTreeClassifier was fitted without feature names\n",
      "  warnings.warn(\n",
      "E:\\Anaconda\\Anaconda_file\\lib\\site-packages\\sklearn\\base.py:486: UserWarning: X has feature names, but DecisionTreeClassifier was fitted without feature names\n",
      "  warnings.warn(\n",
      "E:\\Anaconda\\Anaconda_file\\lib\\site-packages\\sklearn\\base.py:486: UserWarning: X has feature names, but DecisionTreeClassifier was fitted without feature names\n",
      "  warnings.warn(\n",
      "E:\\Anaconda\\Anaconda_file\\lib\\site-packages\\sklearn\\base.py:486: UserWarning: X has feature names, but DecisionTreeClassifier was fitted without feature names\n",
      "  warnings.warn(\n",
      "E:\\Anaconda\\Anaconda_file\\lib\\site-packages\\sklearn\\base.py:486: UserWarning: X has feature names, but DecisionTreeClassifier was fitted without feature names\n",
      "  warnings.warn(\n",
      "E:\\Anaconda\\Anaconda_file\\lib\\site-packages\\sklearn\\base.py:486: UserWarning: X has feature names, but DecisionTreeClassifier was fitted without feature names\n",
      "  warnings.warn(\n",
      "E:\\Anaconda\\Anaconda_file\\lib\\site-packages\\sklearn\\base.py:486: UserWarning: X has feature names, but DecisionTreeClassifier was fitted without feature names\n",
      "  warnings.warn(\n",
      "E:\\Anaconda\\Anaconda_file\\lib\\site-packages\\sklearn\\base.py:486: UserWarning: X has feature names, but DecisionTreeClassifier was fitted without feature names\n",
      "  warnings.warn(\n",
      "E:\\Anaconda\\Anaconda_file\\lib\\site-packages\\sklearn\\base.py:486: UserWarning: X has feature names, but DecisionTreeClassifier was fitted without feature names\n",
      "  warnings.warn(\n",
      "E:\\Anaconda\\Anaconda_file\\lib\\site-packages\\sklearn\\base.py:486: UserWarning: X has feature names, but DecisionTreeClassifier was fitted without feature names\n",
      "  warnings.warn(\n",
      "E:\\Anaconda\\Anaconda_file\\lib\\site-packages\\sklearn\\base.py:486: UserWarning: X has feature names, but DecisionTreeClassifier was fitted without feature names\n",
      "  warnings.warn(\n",
      "E:\\Anaconda\\Anaconda_file\\lib\\site-packages\\sklearn\\base.py:486: UserWarning: X has feature names, but DecisionTreeClassifier was fitted without feature names\n",
      "  warnings.warn(\n",
      "E:\\Anaconda\\Anaconda_file\\lib\\site-packages\\sklearn\\base.py:486: UserWarning: X has feature names, but DecisionTreeClassifier was fitted without feature names\n",
      "  warnings.warn(\n",
      "E:\\Anaconda\\Anaconda_file\\lib\\site-packages\\sklearn\\base.py:486: UserWarning: X has feature names, but DecisionTreeClassifier was fitted without feature names\n",
      "  warnings.warn(\n",
      "E:\\Anaconda\\Anaconda_file\\lib\\site-packages\\sklearn\\base.py:486: UserWarning: X has feature names, but DecisionTreeClassifier was fitted without feature names\n",
      "  warnings.warn(\n",
      "E:\\Anaconda\\Anaconda_file\\lib\\site-packages\\sklearn\\base.py:486: UserWarning: X has feature names, but DecisionTreeClassifier was fitted without feature names\n",
      "  warnings.warn(\n",
      "E:\\Anaconda\\Anaconda_file\\lib\\site-packages\\sklearn\\base.py:486: UserWarning: X has feature names, but DecisionTreeClassifier was fitted without feature names\n",
      "  warnings.warn(\n",
      "E:\\Anaconda\\Anaconda_file\\lib\\site-packages\\sklearn\\base.py:486: UserWarning: X has feature names, but DecisionTreeClassifier was fitted without feature names\n",
      "  warnings.warn(\n",
      "E:\\Anaconda\\Anaconda_file\\lib\\site-packages\\sklearn\\base.py:486: UserWarning: X has feature names, but DecisionTreeClassifier was fitted without feature names\n",
      "  warnings.warn(\n",
      "E:\\Anaconda\\Anaconda_file\\lib\\site-packages\\sklearn\\base.py:486: UserWarning: X has feature names, but DecisionTreeClassifier was fitted without feature names\n",
      "  warnings.warn(\n",
      "E:\\Anaconda\\Anaconda_file\\lib\\site-packages\\sklearn\\base.py:486: UserWarning: X has feature names, but DecisionTreeClassifier was fitted without feature names\n",
      "  warnings.warn(\n",
      "E:\\Anaconda\\Anaconda_file\\lib\\site-packages\\sklearn\\base.py:486: UserWarning: X has feature names, but DecisionTreeClassifier was fitted without feature names\n",
      "  warnings.warn(\n",
      "E:\\Anaconda\\Anaconda_file\\lib\\site-packages\\sklearn\\base.py:486: UserWarning: X has feature names, but DecisionTreeClassifier was fitted without feature names\n",
      "  warnings.warn(\n",
      "E:\\Anaconda\\Anaconda_file\\lib\\site-packages\\sklearn\\base.py:486: UserWarning: X has feature names, but DecisionTreeClassifier was fitted without feature names\n",
      "  warnings.warn(\n",
      "E:\\Anaconda\\Anaconda_file\\lib\\site-packages\\sklearn\\base.py:486: UserWarning: X has feature names, but DecisionTreeClassifier was fitted without feature names\n",
      "  warnings.warn(\n",
      "E:\\Anaconda\\Anaconda_file\\lib\\site-packages\\sklearn\\base.py:486: UserWarning: X has feature names, but DecisionTreeClassifier was fitted without feature names\n",
      "  warnings.warn(\n",
      "E:\\Anaconda\\Anaconda_file\\lib\\site-packages\\sklearn\\base.py:486: UserWarning: X has feature names, but DecisionTreeClassifier was fitted without feature names\n",
      "  warnings.warn(\n",
      "E:\\Anaconda\\Anaconda_file\\lib\\site-packages\\sklearn\\base.py:486: UserWarning: X has feature names, but DecisionTreeClassifier was fitted without feature names\n",
      "  warnings.warn(\n",
      "E:\\Anaconda\\Anaconda_file\\lib\\site-packages\\sklearn\\base.py:486: UserWarning: X has feature names, but DecisionTreeClassifier was fitted without feature names\n",
      "  warnings.warn(\n",
      "E:\\Anaconda\\Anaconda_file\\lib\\site-packages\\sklearn\\base.py:486: UserWarning: X has feature names, but DecisionTreeClassifier was fitted without feature names\n",
      "  warnings.warn(\n",
      "E:\\Anaconda\\Anaconda_file\\lib\\site-packages\\sklearn\\base.py:486: UserWarning: X has feature names, but DecisionTreeClassifier was fitted without feature names\n",
      "  warnings.warn(\n",
      "E:\\Anaconda\\Anaconda_file\\lib\\site-packages\\sklearn\\base.py:486: UserWarning: X has feature names, but DecisionTreeClassifier was fitted without feature names\n",
      "  warnings.warn(\n",
      "E:\\Anaconda\\Anaconda_file\\lib\\site-packages\\sklearn\\base.py:486: UserWarning: X has feature names, but DecisionTreeClassifier was fitted without feature names\n",
      "  warnings.warn(\n",
      "E:\\Anaconda\\Anaconda_file\\lib\\site-packages\\sklearn\\base.py:486: UserWarning: X has feature names, but DecisionTreeClassifier was fitted without feature names\n",
      "  warnings.warn(\n",
      "E:\\Anaconda\\Anaconda_file\\lib\\site-packages\\sklearn\\base.py:486: UserWarning: X has feature names, but DecisionTreeClassifier was fitted without feature names\n",
      "  warnings.warn(\n",
      "E:\\Anaconda\\Anaconda_file\\lib\\site-packages\\sklearn\\base.py:486: UserWarning: X has feature names, but DecisionTreeClassifier was fitted without feature names\n",
      "  warnings.warn(\n",
      "E:\\Anaconda\\Anaconda_file\\lib\\site-packages\\sklearn\\base.py:486: UserWarning: X has feature names, but DecisionTreeClassifier was fitted without feature names\n",
      "  warnings.warn(\n",
      "E:\\Anaconda\\Anaconda_file\\lib\\site-packages\\sklearn\\base.py:486: UserWarning: X has feature names, but DecisionTreeClassifier was fitted without feature names\n",
      "  warnings.warn(\n",
      "E:\\Anaconda\\Anaconda_file\\lib\\site-packages\\sklearn\\base.py:486: UserWarning: X has feature names, but DecisionTreeClassifier was fitted without feature names\n",
      "  warnings.warn(\n",
      "E:\\Anaconda\\Anaconda_file\\lib\\site-packages\\sklearn\\base.py:486: UserWarning: X has feature names, but DecisionTreeClassifier was fitted without feature names\n",
      "  warnings.warn(\n",
      "E:\\Anaconda\\Anaconda_file\\lib\\site-packages\\sklearn\\base.py:486: UserWarning: X has feature names, but DecisionTreeClassifier was fitted without feature names\n",
      "  warnings.warn(\n",
      "E:\\Anaconda\\Anaconda_file\\lib\\site-packages\\sklearn\\base.py:486: UserWarning: X has feature names, but DecisionTreeClassifier was fitted without feature names\n",
      "  warnings.warn(\n",
      "E:\\Anaconda\\Anaconda_file\\lib\\site-packages\\sklearn\\base.py:486: UserWarning: X has feature names, but DecisionTreeClassifier was fitted without feature names\n",
      "  warnings.warn(\n",
      "E:\\Anaconda\\Anaconda_file\\lib\\site-packages\\sklearn\\base.py:486: UserWarning: X has feature names, but DecisionTreeClassifier was fitted without feature names\n",
      "  warnings.warn(\n",
      "E:\\Anaconda\\Anaconda_file\\lib\\site-packages\\sklearn\\base.py:486: UserWarning: X has feature names, but DecisionTreeClassifier was fitted without feature names\n",
      "  warnings.warn(\n",
      "E:\\Anaconda\\Anaconda_file\\lib\\site-packages\\sklearn\\base.py:486: UserWarning: X has feature names, but DecisionTreeClassifier was fitted without feature names\n",
      "  warnings.warn(\n",
      "E:\\Anaconda\\Anaconda_file\\lib\\site-packages\\sklearn\\base.py:486: UserWarning: X has feature names, but DecisionTreeClassifier was fitted without feature names\n",
      "  warnings.warn(\n",
      "E:\\Anaconda\\Anaconda_file\\lib\\site-packages\\sklearn\\base.py:486: UserWarning: X has feature names, but DecisionTreeClassifier was fitted without feature names\n",
      "  warnings.warn(\n",
      "E:\\Anaconda\\Anaconda_file\\lib\\site-packages\\sklearn\\base.py:486: UserWarning: X has feature names, but DecisionTreeClassifier was fitted without feature names\n",
      "  warnings.warn(\n",
      "E:\\Anaconda\\Anaconda_file\\lib\\site-packages\\sklearn\\base.py:486: UserWarning: X has feature names, but DecisionTreeClassifier was fitted without feature names\n",
      "  warnings.warn(\n",
      "E:\\Anaconda\\Anaconda_file\\lib\\site-packages\\sklearn\\base.py:486: UserWarning: X has feature names, but DecisionTreeClassifier was fitted without feature names\n",
      "  warnings.warn(\n",
      "E:\\Anaconda\\Anaconda_file\\lib\\site-packages\\sklearn\\base.py:486: UserWarning: X has feature names, but DecisionTreeClassifier was fitted without feature names\n",
      "  warnings.warn(\n",
      "E:\\Anaconda\\Anaconda_file\\lib\\site-packages\\sklearn\\base.py:486: UserWarning: X has feature names, but DecisionTreeClassifier was fitted without feature names\n",
      "  warnings.warn(\n",
      "E:\\Anaconda\\Anaconda_file\\lib\\site-packages\\sklearn\\base.py:486: UserWarning: X has feature names, but DecisionTreeClassifier was fitted without feature names\n",
      "  warnings.warn(\n",
      "E:\\Anaconda\\Anaconda_file\\lib\\site-packages\\sklearn\\base.py:486: UserWarning: X has feature names, but DecisionTreeClassifier was fitted without feature names\n",
      "  warnings.warn(\n",
      "E:\\Anaconda\\Anaconda_file\\lib\\site-packages\\sklearn\\base.py:486: UserWarning: X has feature names, but DecisionTreeClassifier was fitted without feature names\n",
      "  warnings.warn(\n",
      "E:\\Anaconda\\Anaconda_file\\lib\\site-packages\\sklearn\\base.py:486: UserWarning: X has feature names, but DecisionTreeClassifier was fitted without feature names\n",
      "  warnings.warn(\n",
      "E:\\Anaconda\\Anaconda_file\\lib\\site-packages\\sklearn\\base.py:486: UserWarning: X has feature names, but DecisionTreeClassifier was fitted without feature names\n",
      "  warnings.warn(\n",
      "E:\\Anaconda\\Anaconda_file\\lib\\site-packages\\sklearn\\base.py:486: UserWarning: X has feature names, but DecisionTreeClassifier was fitted without feature names\n",
      "  warnings.warn(\n",
      "E:\\Anaconda\\Anaconda_file\\lib\\site-packages\\sklearn\\base.py:486: UserWarning: X has feature names, but DecisionTreeClassifier was fitted without feature names\n",
      "  warnings.warn(\n",
      "E:\\Anaconda\\Anaconda_file\\lib\\site-packages\\sklearn\\base.py:486: UserWarning: X has feature names, but DecisionTreeClassifier was fitted without feature names\n",
      "  warnings.warn(\n",
      "E:\\Anaconda\\Anaconda_file\\lib\\site-packages\\sklearn\\base.py:486: UserWarning: X has feature names, but DecisionTreeClassifier was fitted without feature names\n",
      "  warnings.warn(\n",
      "E:\\Anaconda\\Anaconda_file\\lib\\site-packages\\sklearn\\base.py:486: UserWarning: X has feature names, but DecisionTreeClassifier was fitted without feature names\n",
      "  warnings.warn(\n",
      "E:\\Anaconda\\Anaconda_file\\lib\\site-packages\\sklearn\\base.py:486: UserWarning: X has feature names, but DecisionTreeClassifier was fitted without feature names\n",
      "  warnings.warn(\n",
      "E:\\Anaconda\\Anaconda_file\\lib\\site-packages\\sklearn\\base.py:486: UserWarning: X has feature names, but DecisionTreeClassifier was fitted without feature names\n",
      "  warnings.warn(\n",
      "E:\\Anaconda\\Anaconda_file\\lib\\site-packages\\sklearn\\base.py:486: UserWarning: X has feature names, but DecisionTreeClassifier was fitted without feature names\n",
      "  warnings.warn(\n",
      "E:\\Anaconda\\Anaconda_file\\lib\\site-packages\\sklearn\\base.py:486: UserWarning: X has feature names, but DecisionTreeClassifier was fitted without feature names\n",
      "  warnings.warn(\n"
     ]
    },
    {
     "data": {
      "text/plain": [
       "Text(0, 0.5, 'accuracy')"
      ]
     },
     "execution_count": 367,
     "metadata": {},
     "output_type": "execute_result"
    },
    {
     "data": {
      "image/png": "[encoded data removed]",
      "text/plain": [
       "<Figure size 720x432 with 1 Axes>"
      ]
     },
     "metadata": {
      "needs_background": "light"
     },
     "output_type": "display_data"
    }
   ],
   "source": [
    "# Finding the best number of estimator\n",
    "rf = RandomForestClassifier(n_estimators=100, max_depth=20, n_jobs=-1)\n",
    "rf.fit(X_train, y_train)\n",
    "predictions = []\n",
    "for tree in rf.estimators_:\n",
    "    predictions.append(tree.predict_proba(X_test)[None, :])\n",
    "predictions = np.vstack(predictions)\n",
    "cum_mean = np.cumsum(predictions, axis=0)/np.arange(1, predictions.shape[0] + 1)[:, None, None]\n",
    "scores = []\n",
    "for pred in cum_mean:\n",
    "    scores.append(accuracy_score(y_test, np.argmax(pred, axis=1)))\n",
    "plt.figure(figsize=(10, 6))\n",
    "plt.plot(scores, linewidth=3)\n",
    "plt.xlabel('num_trees')\n",
    "plt.ylabel('accuracy')\n",
    "# best n_estimator 20"
   ]
  },
  {
   "cell_type": "code",
   "execution_count": 369,
   "id": "b27b16a7",
   "metadata": {},
   "outputs": [
    {
     "data": {
      "image/png": "[encoded data removed]",
      "text/plain": [
       "<Figure size 864x576 with 1 Axes>"
      ]
     },
     "metadata": {
      "needs_background": "light"
     },
     "output_type": "display_data"
    }
   ],
   "source": [
    "feature_name = list(x.columns.values.tolist())\n",
    "importances = rfc.feature_importances_\n",
    "df_rfc = pd.DataFrame({'features':feature_name, 'importances':importances})\n",
    "df_rfc.sort_values(by = ['importances'], ascending = False, inplace = True)\n",
    "df_rfct = df_rfc.nlargest(30, 'importances')\n",
    "plt.figure(figsize = [12,8])\n",
    "sn.barplot(x = df_rfct['importances'], y = df_rfct['features'],palette = \"PuBu_r\")\n",
    "plt.xlabel('importance')\n",
    "plt.ylabel('feature')\n",
    "plt.box(False)\n",
    "plt.savefig('svp_rf_importance_2.png')"
   ]
  },
  {
   "cell_type": "code",
   "execution_count": null,
   "id": "bccdf385",
   "metadata": {},
   "outputs": [],
   "source": []
  }
 ],
 "metadata": {
  "kernelspec": {
   "display_name": "Python 3 (ipykernel)",
   "language": "python",
   "name": "python3"
  },
  "language_info": {
   "codemirror_mode": {
    "name": "ipython",
    "version": 3
   },
   "file_extension": ".py",
   "mimetype": "text/x-python",
   "name": "python",
   "nbconvert_exporter": "python",
   "pygments_lexer": "ipython3",
   "version": "3.9.7"
  }
 },
 "nbformat": 4,
 "nbformat_minor": 5
}
